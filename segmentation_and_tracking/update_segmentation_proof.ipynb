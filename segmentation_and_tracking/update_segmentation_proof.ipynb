{
 "cells": [
  {
   "cell_type": "code",
   "execution_count": 1,
   "id": "b7c39164",
   "metadata": {},
   "outputs": [],
   "source": [
    "import napari\n",
    "from skimage import io\n",
    "import btrack\n",
    "import os"
   ]
  },
  {
   "cell_type": "code",
   "execution_count": 2,
   "id": "94ac86d4",
   "metadata": {
    "scrolled": true
   },
   "outputs": [
    {
     "name": "stdout",
     "output_type": "stream",
     "text": [
      "Here are the experimental data sets contained within base_dir:\n",
      "['run2_23-02-104', 'run1_23-01-001_23-01-005']\n",
      "Here are the image data sets contained within the base directory:\n",
      "run2_23-02-104/48h pi/20230718_20X_23-02-104B2_Multichannel Z-Stack_20230718_1365.tif\n",
      "run2_23-02-104/48h pi/20230718_20X_23-02-104B2_Multichannel Z-Stack_20230718_1363.tif\n",
      "run2_23-02-104/48h pi/20230718_20X_23-02-104B2_Multichannel Z-Stack_20230718_1361.tif\n",
      "run2_23-02-104/48h pi/20230718_20X_23-02-104B2_Multichannel Z-Stack_20230718_1362.tif\n",
      "run2_23-02-104/48h pi/20230718_20X_23-02-104B2_Multichannel Z-Stack_20230718_1364.tif\n",
      "run2_23-02-104/2h pi/20230714_20X_23-02-104A4_Multichannel Z-Stack_20230714_1343.tif\n",
      "run2_23-02-104/2h pi/20230714_20X_23-02-104A4_Multichannel Z-Stack_20230714_1342.tif\n",
      "run2_23-02-104/2h pi/20230714_20X_23-02-104A4_Multichannel Z-Stack_20230714_1344.tif\n",
      "run2_23-02-104/2h pi/20230714_20X_23-02-104A4_Multichannel Z-Stack_20230714_1341.tif\n",
      "run2_23-02-104/2h pi/20230714_20X_23-02-104A4_Multichannel Z-Stack_20230714_1340.tif\n",
      "run1_23-01-001_23-01-005/48h pi/20230707_40X_23-01-005A3_Multichannel Z-Stack_20230707_1325.tif\n",
      "run1_23-01-001_23-01-005/48h pi/20230707_40X_23-01-005A3_Multichannel Z-Stack_20230707_1324.tif\n",
      "run1_23-01-001_23-01-005/48h pi/20230705_40X_23-01-005A3_Multichannel Z-Stack_20230705_1309.tif\n",
      "run1_23-01-001_23-01-005/48h pi/20230705_40X_23-01-005A3_Multichannel Z-Stack_20230705_1306.tif\n",
      "run1_23-01-001_23-01-005/48h pi/20230705_40X_23-01-005A3_Multichannel Z-Stack_20230705_1308.tif\n",
      "run1_23-01-001_23-01-005/48h pi/20230705_40X_23-01-005A3_Multichannel Z-Stack_20230705_1307.tif\n",
      "run1_23-01-001_23-01-005/48h pi/20230705_40X_23-01-005A3_Multichannel Z-Stack_20230705_1311.tif\n",
      "run1_23-01-001_23-01-005/48h pi/20230705_40X_23-01-005A3_Multichannel Z-Stack_20230705_1310.tif\n",
      "run1_23-01-001_23-01-005/2h pi/20230707_40X_23-01-001A3_Multichannel Z-Stack_20230707_1318.tif\n",
      "run1_23-01-001_23-01-005/2h pi/20230707_40X_23-01-001A3_Multichannel Z-Stack_20230707_1319.tif\n",
      "run1_23-01-001_23-01-005/2h pi/20230707_40X_23-01-001A3_Multichannel Z-Stack_20230707_1317.tif\n",
      "run1_23-01-001_23-01-005/2h pi/20230707_40X_23-01-001A3_Multichannel Z-Stack_20230707_1313.tif\n",
      "run1_23-01-001_23-01-005/2h pi/20230707_40X_23-01-001A3_Multichannel Z-Stack_20230707_1316.tif\n",
      "run1_23-01-001_23-01-005/2h pi/20230707_40X_23-01-001A3_Multichannel Z-Stack_20230707_1315.tif\n",
      "run1_23-01-001_23-01-005/2h pi/20230707_40X_23-01-001A3_Multichannel Z-Stack_20230707_1320.tif\n",
      "run1_23-01-001_23-01-005/2h pi/20230707_40X_23-01-001A3_Multichannel Z-Stack_20230707_1314.tif\n"
     ]
    }
   ],
   "source": [
    "# take note of root directories on server and local equivalent for saving of dir structure locally\n",
    "base_dir = server_rootdir = '/run/user/30046150/gvfs/smb-share:server=data2.thecrick.org,share=lab-gutierrezm/home/shared/Lung on Chip/image analysis_Nathan/Job_Mtb area'\n",
    "# this is the root directory where files will be saved locally\n",
    "local_rootdir = '/home/dayn/data/homuncu_loc_temp'\n",
    "print('Here are the experimental data sets contained within base_dir:')\n",
    "print(os.listdir(base_dir))\n",
    "\n",
    "print('Here are the image data sets contained within the base directory:')\n",
    "image_file_list = list()\n",
    "\n",
    "for root, dirs, files in os.walk(base_dir):\n",
    "    for file in files:\n",
    "        if file.endswith('.tif'):\n",
    "            image_file_list.append(os.path.join(root, file))\n",
    "\n",
    "for image_file in image_file_list:\n",
    "    folder_up = os.path.relpath(os.path.dirname(image_file), base_dir)\n",
    "    file_name = os.path.basename(image_file)\n",
    "    print(f'{folder_up}/{file_name}')"
   ]
  },
  {
   "cell_type": "code",
   "execution_count": 3,
   "id": "d5f207e2",
   "metadata": {},
   "outputs": [],
   "source": [
    "image_fn = image_file_list[2]"
   ]
  },
  {
   "cell_type": "code",
   "execution_count": 13,
   "id": "6bf2043e",
   "metadata": {},
   "outputs": [],
   "source": [
    "image = io.imread(image_fn)"
   ]
  },
  {
   "cell_type": "code",
   "execution_count": 4,
   "id": "e337c585",
   "metadata": {
    "scrolled": true
   },
   "outputs": [
    {
     "name": "stderr",
     "output_type": "stream",
     "text": [
      "[INFO][2023/08/01 01:15:44 PM] Opening HDF file: /home/dayn/data/homuncu_loc_temp/run1_23-01-001_23-01-005/2h pi/20230707_40X_23-01-001A3_Multichannel Z-Stack_20230707_1314_z_tracks_masks.h5...\n",
      "[INFO][2023/08/01 01:15:51 PM] Loading segmentation (303, 2304, 2304)\n",
      "[INFO][2023/08/01 01:15:51 PM] Loading tracks/obj_type_1\n",
      "[INFO][2023/08/01 01:15:51 PM] Loading LBEP/obj_type_1\n",
      "[INFO][2023/08/01 01:15:51 PM] Loading objects/obj_type_1 (12239, 5) (12239 filtered: None)\n",
      "[INFO][2023/08/01 01:15:52 PM] Closing HDF file: /home/dayn/data/homuncu_loc_temp/run1_23-01-001_23-01-005/2h pi/20230707_40X_23-01-001A3_Multichannel Z-Stack_20230707_1314_z_tracks_masks.h5\n"
     ]
    }
   ],
   "source": [
    "# tracks_fn = image_fn.replace(server_rootdir, local_rootdir).replace('.tif', '_z_tracks_masks.h5')\n",
    "with btrack.io.HDF5FileHandler('/home/dayn/data/homuncu_loc_temp/run1_23-01-001_23-01-005/2h pi/20230707_40X_23-01-001A3_Multichannel Z-Stack_20230707_1314_z_tracks_masks.h5', 'r', obj_type='obj_type_1') as reader:\n",
    "    segmentation = reader.segmentation\n",
    "    tracks = reader.tracks"
   ]
  },
  {
   "cell_type": "code",
   "execution_count": 7,
   "id": "58c35df6",
   "metadata": {},
   "outputs": [],
   "source": [
    "import numpy.typing as npt"
   ]
  },
  {
   "cell_type": "code",
   "execution_count": 8,
   "id": "9047e585",
   "metadata": {},
   "outputs": [],
   "source": [
    "def color_by_mtb(track) -> npt.NDArray:\n",
    "   # returns just the scalar value from each track, e.g.\n",
    "   return track.properties[\"mtb_status\"]"
   ]
  },
  {
   "cell_type": "code",
   "execution_count": 5,
   "id": "271ddc88",
   "metadata": {},
   "outputs": [],
   "source": [
    "recolored_segmentation = btrack.utils.update_segmentation(segmentation, tracks, color_by='mtb_status')"
   ]
  },
  {
   "cell_type": "code",
   "execution_count": 6,
   "id": "99d3f116",
   "metadata": {},
   "outputs": [],
   "source": [
    "recolored_segmentation2 = btrack.utils.update_segmentation(segmentation, tracks, color_by='mtb_area')"
   ]
  },
  {
   "cell_type": "code",
   "execution_count": 9,
   "id": "1ac5fc55",
   "metadata": {},
   "outputs": [],
   "source": [
    "from btrack.constants import DEFAULT_EXPORT_PROPERTIES"
   ]
  },
  {
   "cell_type": "code",
   "execution_count": 10,
   "id": "b7007ee1",
   "metadata": {},
   "outputs": [],
   "source": [
    "keys = {k: i for i, k in enumerate(DEFAULT_EXPORT_PROPERTIES)}\n",
    "\n",
    "keys.update(\n",
    "    {\n",
    "        key: idx\n",
    "        for idx, key in enumerate(\n",
    "            tracks[0].properties.keys(), start=max(keys.values()) + 1\n",
    "        )\n",
    "    }\n",
    ")"
   ]
  },
  {
   "cell_type": "code",
   "execution_count": 11,
   "id": "24615c62",
   "metadata": {},
   "outputs": [
    {
     "data": {
      "text/plain": [
       "{'ID': 0,\n",
       " 't': 1,\n",
       " 'x': 2,\n",
       " 'y': 3,\n",
       " 'z': 4,\n",
       " 'parent': 5,\n",
       " 'root': 6,\n",
       " 'state': 7,\n",
       " 'generation': 8,\n",
       " 'dummy': 9,\n",
       " 'mtb_area': 10,\n",
       " 'axis_minor_length': 11,\n",
       " 'orientation': 12,\n",
       " 'mtb_status': 13,\n",
       " 'eccentricity': 14,\n",
       " 'area': 15,\n",
       " 'mean_intensity': 16,\n",
       " 'class_id': 17,\n",
       " 'axis_major_length': 18}"
      ]
     },
     "execution_count": 11,
     "metadata": {},
     "output_type": "execute_result"
    }
   ],
   "source": [
    "keys"
   ]
  },
  {
   "cell_type": "code",
   "execution_count": 14,
   "id": "7fd6bafb",
   "metadata": {},
   "outputs": [],
   "source": [
    "import numpy as np"
   ]
  },
  {
   "cell_type": "code",
   "execution_count": 12,
   "id": "a7776332",
   "metadata": {},
   "outputs": [
    {
     "data": {
      "text/plain": [
       "19"
      ]
     },
     "execution_count": 12,
     "metadata": {},
     "output_type": "execute_result"
    }
   ],
   "source": [
    "len(keys)"
   ]
  },
  {
   "cell_type": "code",
   "execution_count": 15,
   "id": "a60392fa",
   "metadata": {},
   "outputs": [],
   "source": [
    "coords_arr = np.concatenate(\n",
    "    [\n",
    "        track.to_array()[~np.array(track.dummy), : ].astype(int)\n",
    "        for track in tracks\n",
    "    ]\n",
    ")\n"
   ]
  },
  {
   "cell_type": "code",
   "execution_count": 16,
   "id": "2f95c378",
   "metadata": {},
   "outputs": [
    {
     "data": {
      "text/html": [
       "<table border=\"1\" class=\"dataframe\">\n",
       "  <thead>\n",
       "    <tr style=\"text-align: right;\">\n",
       "      <th></th>\n",
       "      <th>ID</th>\n",
       "      <th>t</th>\n",
       "      <th>x</th>\n",
       "      <th>y</th>\n",
       "      <th>z</th>\n",
       "      <th>parent</th>\n",
       "      <th>root</th>\n",
       "      <th>state</th>\n",
       "      <th>generation</th>\n",
       "      <th>dummy</th>\n",
       "      <th>mtb_area</th>\n",
       "      <th>axis_minor_length</th>\n",
       "      <th>orientation</th>\n",
       "      <th>mtb_status</th>\n",
       "      <th>eccentricity</th>\n",
       "      <th>area</th>\n",
       "      <th>mean_intensity</th>\n",
       "      <th>class_id</th>\n",
       "      <th>axis_major_length</th>\n",
       "    </tr>\n",
       "  </thead>\n",
       "  <tbody>\n",
       "    <tr>\n",
       "      <th>0</th>\n",
       "      <td>2</td>\n",
       "      <td>1</td>\n",
       "      <td>2234.346191</td>\n",
       "      <td>15.595745</td>\n",
       "      <td>0.0</td>\n",
       "      <td>2</td>\n",
       "      <td>2</td>\n",
       "      <td>5</td>\n",
       "      <td>0</td>\n",
       "      <td>False</td>\n",
       "      <td>(1,) array</td>\n",
       "      <td>(1,) array</td>\n",
       "      <td>(1,) array</td>\n",
       "      <td>(1,) array</td>\n",
       "      <td>(1,) array</td>\n",
       "      <td>(1,) array</td>\n",
       "      <td>(1, 4) array</td>\n",
       "      <td>(1,) array</td>\n",
       "      <td>(1,) array</td>\n",
       "    </tr>\n",
       "  </tbody>\n",
       "</table>"
      ],
      "text/plain": [
       "OrderedDict([('ID', 2), ('t', [1]), ('x', [2234.34619140625]), ('y', [15.595745086669922]), ('z', [0.0]), ('parent', 2), ('root', 2), ('state', [5]), ('generation', 0), ('dummy', [False]), ('mtb_area', array([0.], dtype=float32)), ('axis_minor_length', array([32.725784], dtype=float32)), ('orientation', array([-1.323442], dtype=float32)), ('mtb_status', array([0.], dtype=float32)), ('eccentricity', array([0.871716], dtype=float32)), ('area', array([1363.], dtype=float32)), ('mean_intensity', array([[193.67204 , 108.608215, 112.637566, 114.31328 ]], dtype=float32)), ('class_id', array([3.], dtype=float32)), ('axis_major_length', array([66.78575], dtype=float32))])"
      ]
     },
     "execution_count": 16,
     "metadata": {},
     "output_type": "execute_result"
    }
   ],
   "source": [
    "tracks[0]"
   ]
  },
  {
   "cell_type": "code",
   "execution_count": 17,
   "id": "662b9157",
   "metadata": {},
   "outputs": [
    {
     "data": {
      "text/plain": [
       "array([   2,    1, 2234,   15,    0,    2,    2,    5,    0,    0,    0,\n",
       "         32,   -1,    0,    0, 1363,  193,  108,  112,  114,    3,   66])"
      ]
     },
     "execution_count": 17,
     "metadata": {},
     "output_type": "execute_result"
    }
   ],
   "source": [
    "coords_arr[0]"
   ]
  },
  {
   "cell_type": "code",
   "execution_count": 19,
   "id": "3d5034fa",
   "metadata": {},
   "outputs": [],
   "source": [
    "track = tracks[0]"
   ]
  },
  {
   "cell_type": "code",
   "execution_count": 20,
   "id": "df94ed80",
   "metadata": {},
   "outputs": [
    {
     "data": {
      "text/plain": [
       "(303, 2304, 2304)"
      ]
     },
     "execution_count": 20,
     "metadata": {},
     "output_type": "execute_result"
    }
   ],
   "source": [
    "segmentation.shape"
   ]
  },
  {
   "cell_type": "code",
   "execution_count": 21,
   "id": "f078b80c",
   "metadata": {},
   "outputs": [],
   "source": [
    "t = 150"
   ]
  },
  {
   "cell_type": "code",
   "execution_count": 22,
   "id": "713ae2df",
   "metadata": {},
   "outputs": [],
   "source": [
    "frame_coords = coords_arr[coords_arr[:, 1] == t]\n"
   ]
  },
  {
   "cell_type": "code",
   "execution_count": 24,
   "id": "df1463cb",
   "metadata": {},
   "outputs": [
    {
     "data": {
      "text/plain": [
       "50"
      ]
     },
     "execution_count": 24,
     "metadata": {},
     "output_type": "execute_result"
    }
   ],
   "source": [
    "len(frame_coords)"
   ]
  },
  {
   "cell_type": "code",
   "execution_count": 25,
   "id": "340867b3",
   "metadata": {},
   "outputs": [],
   "source": [
    "xc, yc = frame_coords[:, keys[\"x\"]], frame_coords[:, keys[\"y\"]]"
   ]
  },
  {
   "cell_type": "code",
   "execution_count": 35,
   "id": "a2b5c0b3",
   "metadata": {},
   "outputs": [
    {
     "data": {
      "text/plain": [
       "array([1236,   47,   41,  351,  415, 1158, 1113,  508, 1762, 1193, 1144,\n",
       "       1778,   25,  218,   59,  277,  232, 1200, 1957, 1697, 1688, 1948,\n",
       "       1096,  150,  171,  278, 1194,   16, 1214,    9, 1884,  220,   51,\n",
       "        567, 1151, 1057, 1183, 1167, 1072,    9, 1637, 1074, 1381,  109,\n",
       "        111, 1867, 1371,   32,  528, 2180])"
      ]
     },
     "execution_count": 35,
     "metadata": {},
     "output_type": "execute_result"
    }
   ],
   "source": [
    "xc"
   ]
  },
  {
   "cell_type": "code",
   "execution_count": 28,
   "id": "46083a14",
   "metadata": {},
   "outputs": [],
   "source": [
    "color_by = 'mtb_area'"
   ]
  },
  {
   "cell_type": "code",
   "execution_count": 29,
   "id": "1d87eda9",
   "metadata": {},
   "outputs": [],
   "source": [
    "new_id = frame_coords[:, keys[color_by]]"
   ]
  },
  {
   "cell_type": "code",
   "execution_count": 34,
   "id": "18817690",
   "metadata": {},
   "outputs": [
    {
     "data": {
      "text/plain": [
       "array([93,  0, 57,  0,  3, 23,  0,  3,  5, 40,  0,  0,  0,  0, 19,  0,  0,\n",
       "        0, 60,  0,  1,  1,  0,  0,  0,  0,  1,  0,  0,  0,  0,  1,  0,  0,\n",
       "        0,  0,  0,  3,  0,  0,  0,  0,  0,  8,  0,  0,  0,  0,  0,  0])"
      ]
     },
     "execution_count": 34,
     "metadata": {},
     "output_type": "execute_result"
    }
   ],
   "source": [
    "new_id"
   ]
  },
  {
   "cell_type": "code",
   "execution_count": 36,
   "id": "adb38e69",
   "metadata": {},
   "outputs": [],
   "source": [
    "single_segmentation = segmentation[t]"
   ]
  },
  {
   "cell_type": "code",
   "execution_count": 41,
   "id": "5b8c60ab",
   "metadata": {},
   "outputs": [],
   "source": [
    "from skimage.morphology import label"
   ]
  },
  {
   "cell_type": "code",
   "execution_count": 42,
   "id": "e8534700",
   "metadata": {},
   "outputs": [
    {
     "data": {
      "text/plain": [
       "array([[0, 0, 0, ..., 0, 0, 0],\n",
       "       [0, 0, 0, ..., 0, 0, 0],\n",
       "       [0, 0, 0, ..., 0, 0, 0],\n",
       "       ...,\n",
       "       [0, 0, 0, ..., 0, 0, 0],\n",
       "       [0, 0, 0, ..., 0, 0, 0],\n",
       "       [0, 0, 0, ..., 0, 0, 0]])"
      ]
     },
     "execution_count": 42,
     "metadata": {},
     "output_type": "execute_result"
    }
   ],
   "source": [
    "label(single_segmentation)"
   ]
  },
  {
   "cell_type": "code",
   "execution_count": 53,
   "id": "4cbcdd6b",
   "metadata": {},
   "outputs": [],
   "source": [
    "from skimage.morphology import binary_erosion"
   ]
  },
  {
   "cell_type": "code",
   "execution_count": 60,
   "id": "70506c58",
   "metadata": {},
   "outputs": [],
   "source": [
    "from tqdm.auto import tqdm"
   ]
  },
  {
   "cell_type": "code",
   "execution_count": 61,
   "id": "a802ba5f",
   "metadata": {},
   "outputs": [
    {
     "data": {
      "application/vnd.jupyter.widget-view+json": {
       "model_id": "450d411eb67341bb9213f625d6186d8b",
       "version_major": 2,
       "version_minor": 0
      },
      "text/plain": [
       "  0%|          | 0/429 [00:00<?, ?it/s]"
      ]
     },
     "metadata": {},
     "output_type": "display_data"
    }
   ],
   "source": [
    "eroded_segmentation = np.zeros_like(single_segmentation)\n",
    "for segment_ID in tqdm(range(1, single_segmentation.max())):\n",
    "    segment = single_segmentation == segment_ID\n",
    "    # erode segment so that it doesnt touch neighbours\n",
    "    eroded_segment = binary_erosion(segment, footprint=np.ones((5, 5)))\n",
    "    \n",
    "    # relabel segment semantically\n",
    "    eroded_segmentation[eroded_segment] = segment_ID"
   ]
  },
  {
   "cell_type": "code",
   "execution_count": 57,
   "id": "7812900d",
   "metadata": {},
   "outputs": [
    {
     "data": {
      "text/plain": [
       "<Labels layer 'eroded_segmentation' at 0x7f1a611287c0>"
      ]
     },
     "execution_count": 57,
     "metadata": {},
     "output_type": "execute_result"
    }
   ],
   "source": [
    "viewer.add_labels(eroded_segmentation)"
   ]
  },
  {
   "cell_type": "code",
   "execution_count": 37,
   "id": "237f9103",
   "metadata": {},
   "outputs": [],
   "source": [
    "old_id = single_segmentation[yc, xc]"
   ]
  },
  {
   "cell_type": "code",
   "execution_count": 38,
   "id": "be4e4681",
   "metadata": {},
   "outputs": [
    {
     "data": {
      "text/plain": [
       "array([ 25, 156, 132, 413, 414,  30,  36, 404, 328,  66,  26, 337,  93,\n",
       "       193, 140, 333, 153,   1, 364, 329, 321, 338,   5, 170, 145, 144,\n",
       "       138, 105, 220,  84, 353, 133, 118, 103, 135,  38,  40,  45,  47,\n",
       "        74, 331,  32, 255, 266, 298, 323, 240, 188, 409, 389],\n",
       "      dtype=uint16)"
      ]
     },
     "execution_count": 38,
     "metadata": {},
     "output_type": "execute_result"
    }
   ],
   "source": [
    "old_id"
   ]
  },
  {
   "cell_type": "code",
   "execution_count": 56,
   "id": "023d96de",
   "metadata": {},
   "outputs": [
    {
     "data": {
      "text/plain": [
       "<Image layer 'single_segmentation' at 0x7f198b7af430>"
      ]
     },
     "execution_count": 56,
     "metadata": {},
     "output_type": "execute_result"
    }
   ],
   "source": [
    "viewer = napari.Viewer() \n",
    "viewer.add_image(single_segmentation)"
   ]
  },
  {
   "cell_type": "code",
   "execution_count": 8,
   "id": "0b7f1575",
   "metadata": {},
   "outputs": [],
   "source": [
    "resized_segmentation = btrack.utils.update_segmentation(segmentation, tracks, scale = (1,0.5,0.5))"
   ]
  },
  {
   "cell_type": "code",
   "execution_count": 17,
   "id": "1775f6f0",
   "metadata": {},
   "outputs": [],
   "source": [
    "napari_tracks, properties, graph = btrack.utils.tracks_to_napari(tracks, ndim = 2)"
   ]
  },
  {
   "cell_type": "code",
   "execution_count": 7,
   "id": "50cdab70",
   "metadata": {
    "scrolled": true
   },
   "outputs": [
    {
     "name": "stderr",
     "output_type": "stream",
     "text": [
      "/home/dayn/analysis/btrack/btrack/dataio.py:3: UserWarning: `btrack.dataio` has been deprecated. Please use `btrack.io` subpackage instead.\n",
      "  warnings.warn(  # noqa: B028\n"
     ]
    },
    {
     "name": "stdout",
     "output_type": "stream",
     "text": [
      "Assistant skips harvesting pyclesperanto as it's not installed.\n"
     ]
    },
    {
     "ename": "NameError",
     "evalue": "name 'napari_tracks' is not defined",
     "output_type": "error",
     "traceback": [
      "\u001b[0;31m---------------------------------------------------------------------------\u001b[0m",
      "\u001b[0;31mNameError\u001b[0m                                 Traceback (most recent call last)",
      "Input \u001b[0;32mIn [7]\u001b[0m, in \u001b[0;36m<cell line: 8>\u001b[0;34m()\u001b[0m\n\u001b[1;32m      6\u001b[0m viewer\u001b[38;5;241m.\u001b[39madd_labels(recolored_segmentation2)\n\u001b[1;32m      7\u001b[0m \u001b[38;5;66;03m# viewer.add_labels(resized_segmentation)\u001b[39;00m\n\u001b[0;32m----> 8\u001b[0m viewer\u001b[38;5;241m.\u001b[39madd_tracks(\u001b[43mnapari_tracks\u001b[49m, properties\u001b[38;5;241m=\u001b[39mproperties)\n",
      "\u001b[0;31mNameError\u001b[0m: name 'napari_tracks' is not defined"
     ]
    }
   ],
   "source": [
    "\n",
    "\n",
    "viewer = napari.Viewer()\n",
    "\n",
    "# viewer.add_image(image, channel_axis = -1)\n",
    "viewer.add_labels(segmentation)\n",
    "viewer.add_labels(recolored_segmentation)\n",
    "viewer.add_labels(recolored_segmentation2)\n",
    "# viewer.add_labels(resized_segmentation)\n",
    "viewer.add_tracks(napari_tracks, properties=properties)"
   ]
  },
  {
   "cell_type": "code",
   "execution_count": 16,
   "id": "84e733cb",
   "metadata": {},
   "outputs": [
    {
     "data": {
      "text/plain": [
       "<Labels layer 'recolored_segmentation [2]' at 0x7fe39b027d60>"
      ]
     },
     "execution_count": 16,
     "metadata": {},
     "output_type": "execute_result"
    }
   ],
   "source": [
    "viewer.add_labels(recolored_segmentation)"
   ]
  },
  {
   "cell_type": "code",
   "execution_count": 11,
   "id": "9f4be3c1",
   "metadata": {},
   "outputs": [],
   "source": [
    "import macrohet"
   ]
  },
  {
   "cell_type": "code",
   "execution_count": 12,
   "id": "4164a936",
   "metadata": {},
   "outputs": [
    {
     "ename": "AttributeError",
     "evalue": "module 'macrohet' has no attribute 'notify'",
     "output_type": "error",
     "traceback": [
      "\u001b[0;31m---------------------------------------------------------------------------\u001b[0m",
      "\u001b[0;31mAttributeError\u001b[0m                            Traceback (most recent call last)",
      "Input \u001b[0;32mIn [12]\u001b[0m, in \u001b[0;36m<cell line: 1>\u001b[0;34m()\u001b[0m\n\u001b[0;32m----> 1\u001b[0m \u001b[43mmacrohet\u001b[49m\u001b[38;5;241;43m.\u001b[39;49m\u001b[43mnotify\u001b[49m\u001b[38;5;241m.\u001b[39msend_sms(\u001b[38;5;124m'\u001b[39m\u001b[38;5;124mproof loaded\u001b[39m\u001b[38;5;124m'\u001b[39m)\n",
      "\u001b[0;31mAttributeError\u001b[0m: module 'macrohet' has no attribute 'notify'"
     ]
    }
   ],
   "source": [
    "macrohet.notify.send_sms('proof loaded')"
   ]
  }
 ],
 "metadata": {
  "kernelspec": {
   "display_name": "aero",
   "language": "python",
   "name": "aero"
  },
  "language_info": {
   "codemirror_mode": {
    "name": "ipython",
    "version": 3
   },
   "file_extension": ".py",
   "mimetype": "text/x-python",
   "name": "python",
   "nbconvert_exporter": "python",
   "pygments_lexer": "ipython3",
   "version": "3.9.12"
  }
 },
 "nbformat": 4,
 "nbformat_minor": 5
}
