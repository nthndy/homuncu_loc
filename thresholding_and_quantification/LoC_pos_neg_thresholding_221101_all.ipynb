{
 "cells": [
  {
   "cell_type": "code",
   "execution_count": 1,
   "id": "18b20799",
   "metadata": {},
   "outputs": [],
   "source": [
    "import csv\n",
    "import pandas as pd\n",
    "import seaborn as sns\n",
    "import os"
   ]
  },
  {
   "cell_type": "code",
   "execution_count": 4,
   "id": "79faa829",
   "metadata": {},
   "outputs": [],
   "source": [
    "output_dirs = '/home/dayn/data/LoC/pos_neg_dist/kim', '/home/dayn/data/LoC/pos_neg_dist/gabriel', '/home/dayn/data/LoC/pos_neg_dist/jakson'"
   ]
  },
  {
   "cell_type": "code",
   "execution_count": 36,
   "id": "e3c4268c",
   "metadata": {},
   "outputs": [
    {
     "name": "stdout",
     "output_type": "stream",
     "text": [
      "7 18\n",
      "112 42\n",
      "29 80\n"
     ]
    }
   ],
   "source": [
    "n_dfs = []\n",
    "for output_dir in output_dirs:\n",
    "    n_neg = pd.read_csv(os.path.join(output_dir, 'NKX21_negative.csv'), names = ['NKX21 negative mean pixel value'])\n",
    "    n_pos = pd.read_csv(os.path.join(output_dir, 'NKX21_positive.csv'), names = ['NKX21 positive mean pixel value'])\n",
    "    n_df = pd.concat((n_neg, n_pos), axis = 1)\n",
    "    print(len(n_neg), len(n_pos))\n",
    "    n_dfs.append(n_df)\n",
    "n_dfs = pd.concat(n_dfs, axis = 0, ignore_index=True)"
   ]
  },
  {
   "cell_type": "code",
   "execution_count": 37,
   "id": "6e8e62ce",
   "metadata": {},
   "outputs": [
    {
     "data": {
      "text/html": [
       "<div>\n",
       "<style scoped>\n",
       "    .dataframe tbody tr th:only-of-type {\n",
       "        vertical-align: middle;\n",
       "    }\n",
       "\n",
       "    .dataframe tbody tr th {\n",
       "        vertical-align: top;\n",
       "    }\n",
       "\n",
       "    .dataframe thead th {\n",
       "        text-align: right;\n",
       "    }\n",
       "</style>\n",
       "<table border=\"1\" class=\"dataframe\">\n",
       "  <thead>\n",
       "    <tr style=\"text-align: right;\">\n",
       "      <th></th>\n",
       "      <th>NKX21 negative mean pixel value</th>\n",
       "      <th>NKX21 positive mean pixel value</th>\n",
       "    </tr>\n",
       "  </thead>\n",
       "  <tbody>\n",
       "    <tr>\n",
       "      <th>0</th>\n",
       "      <td>163.273339</td>\n",
       "      <td>582.109251</td>\n",
       "    </tr>\n",
       "    <tr>\n",
       "      <th>1</th>\n",
       "      <td>219.112758</td>\n",
       "      <td>575.520482</td>\n",
       "    </tr>\n",
       "    <tr>\n",
       "      <th>2</th>\n",
       "      <td>224.312640</td>\n",
       "      <td>337.509420</td>\n",
       "    </tr>\n",
       "    <tr>\n",
       "      <th>3</th>\n",
       "      <td>285.618467</td>\n",
       "      <td>362.330049</td>\n",
       "    </tr>\n",
       "    <tr>\n",
       "      <th>4</th>\n",
       "      <td>203.625084</td>\n",
       "      <td>575.520482</td>\n",
       "    </tr>\n",
       "    <tr>\n",
       "      <th>...</th>\n",
       "      <td>...</td>\n",
       "      <td>...</td>\n",
       "    </tr>\n",
       "    <tr>\n",
       "      <th>205</th>\n",
       "      <td>NaN</td>\n",
       "      <td>449.057054</td>\n",
       "    </tr>\n",
       "    <tr>\n",
       "      <th>206</th>\n",
       "      <td>NaN</td>\n",
       "      <td>534.026235</td>\n",
       "    </tr>\n",
       "    <tr>\n",
       "      <th>207</th>\n",
       "      <td>NaN</td>\n",
       "      <td>235.961612</td>\n",
       "    </tr>\n",
       "    <tr>\n",
       "      <th>208</th>\n",
       "      <td>NaN</td>\n",
       "      <td>183.370640</td>\n",
       "    </tr>\n",
       "    <tr>\n",
       "      <th>209</th>\n",
       "      <td>NaN</td>\n",
       "      <td>296.669296</td>\n",
       "    </tr>\n",
       "  </tbody>\n",
       "</table>\n",
       "<p>210 rows × 2 columns</p>\n",
       "</div>"
      ],
      "text/plain": [
       "     NKX21 negative mean pixel value  NKX21 positive mean pixel value\n",
       "0                         163.273339                       582.109251\n",
       "1                         219.112758                       575.520482\n",
       "2                         224.312640                       337.509420\n",
       "3                         285.618467                       362.330049\n",
       "4                         203.625084                       575.520482\n",
       "..                               ...                              ...\n",
       "205                              NaN                       449.057054\n",
       "206                              NaN                       534.026235\n",
       "207                              NaN                       235.961612\n",
       "208                              NaN                       183.370640\n",
       "209                              NaN                       296.669296\n",
       "\n",
       "[210 rows x 2 columns]"
      ]
     },
     "execution_count": 37,
     "metadata": {},
     "output_type": "execute_result"
    }
   ],
   "source": [
    "n_dfs"
   ]
  },
  {
   "cell_type": "code",
   "execution_count": 41,
   "id": "a6ddcd43",
   "metadata": {},
   "outputs": [],
   "source": [
    "import matplotlib.pyplot as plt"
   ]
  },
  {
   "cell_type": "code",
   "execution_count": 51,
   "id": "62ceb6ec",
   "metadata": {},
   "outputs": [
    {
     "data": {
      "text/plain": [
       "Text(0, 0.5, 'Number of cells')"
      ]
     },
     "execution_count": 51,
     "metadata": {},
     "output_type": "execute_result"
    },
    {
     "data": {
      "image/png": "[encoded data removed]",
      "text/plain": [
       "<Figure size 432x288 with 1 Axes>"
      ]
     },
     "metadata": {
      "needs_background": "light"
     },
     "output_type": "display_data"
    }
   ],
   "source": [
    "sns.histplot(data = n_dfs, bins=20)\n",
    "plt.xlabel('Mean pixel value per cell')\n",
    "plt.ylabel('Number of cells')"
   ]
  },
  {
   "cell_type": "code",
   "execution_count": 48,
   "id": "7c23fa15",
   "metadata": {},
   "outputs": [
    {
     "data": {
      "text/plain": [
       "<AxesSubplot:ylabel='Density'>"
      ]
     },
     "execution_count": 48,
     "metadata": {},
     "output_type": "execute_result"
    },
    {
     "data": {
      "image/png": "[encoded data removed]",
      "text/plain": [
       "<Figure size 432x288 with 1 Axes>"
      ]
     },
     "metadata": {
      "needs_background": "light"
     },
     "output_type": "display_data"
    }
   ],
   "source": [
    "sns.kdeplot(data = n_dfs, )"
   ]
  },
  {
   "cell_type": "code",
   "execution_count": 33,
   "id": "214c603b",
   "metadata": {},
   "outputs": [
    {
     "name": "stdout",
     "output_type": "stream",
     "text": [
      "29 80\n",
      "29 80\n"
     ]
    }
   ],
   "source": [
    "p_dfs = []\n",
    "for output_dir in output_dirs:\n",
    "    try:\n",
    "        p_neg = pd.read_csv(os.path.join(output_dir, 'PDPN_negative.csv'), names = ['P_neg pixel value'])\n",
    "        p_pos = pd.read_csv(os.path.join(output_dir, 'PDPN_positive.csv'), names = ['P_pos pixel value'])\n",
    "        p_df = pd.concat((p_neg, p_pos), axis = 1)\n",
    "        print(len(n_neg), len(n_pos))\n",
    "        p_dfs.append(p_df)\n",
    "    except:\n",
    "        continue\n",
    "p_dfs = pd.concat(p_dfs, axis = 0, ignore_index=True)"
   ]
  },
  {
   "cell_type": "code",
   "execution_count": 34,
   "id": "030d340c",
   "metadata": {
    "scrolled": true
   },
   "outputs": [
    {
     "data": {
      "text/plain": [
       "<AxesSubplot:ylabel='Count'>"
      ]
     },
     "execution_count": 34,
     "metadata": {},
     "output_type": "execute_result"
    },
    {
     "data": {
      "image/png": "[encoded data removed]",
      "text/plain": [
       "<Figure size 432x288 with 1 Axes>"
      ]
     },
     "metadata": {
      "needs_background": "light"
     },
     "output_type": "display_data"
    }
   ],
   "source": [
    "sns.histplot(data = p_dfs, bins=20)"
   ]
  },
  {
   "cell_type": "code",
   "execution_count": 35,
   "id": "8873165f",
   "metadata": {},
   "outputs": [
    {
     "data": {
      "text/plain": [
       "<AxesSubplot:ylabel='Density'>"
      ]
     },
     "execution_count": 35,
     "metadata": {},
     "output_type": "execute_result"
    },
    {
     "data": {
      "image/png": "[encoded data removed]",
      "text/plain": [
       "<Figure size 432x288 with 1 Axes>"
      ]
     },
     "metadata": {
      "needs_background": "light"
     },
     "output_type": "display_data"
    }
   ],
   "source": [
    "sns.kdeplot(data = p_dfs, )"
   ]
  }
 ],
 "metadata": {
  "kernelspec": {
   "display_name": "aero",
   "language": "python",
   "name": "aero"
  },
  "language_info": {
   "codemirror_mode": {
    "name": "ipython",
    "version": 3
   },
   "file_extension": ".py",
   "mimetype": "text/x-python",
   "name": "python",
   "nbconvert_exporter": "python",
   "pygments_lexer": "ipython3",
   "version": "3.9.12"
  }
 },
 "nbformat": 4,
 "nbformat_minor": 5
}
