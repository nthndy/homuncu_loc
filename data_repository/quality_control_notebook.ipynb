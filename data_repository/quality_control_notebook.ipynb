{
 "cells": [
  {
   "cell_type": "markdown",
   "id": "038f144c",
   "metadata": {},
   "source": [
    "# Quality control notebook\n",
    "\n",
    "As there exists a large heterogeneity of cell shape and population numbers across similar classifications of images, I have created a notebook that can load an image and the associated single-cell tracking data for inspection before granting approval for further downstream analyses. \n",
    "\n",
    "The order of this notebook is as follows:\n",
    "\n",
    "1. Import necessary modules for loading and visualisation of tracking (across Z) data.\n",
    "2. Define image file name\n",
    "3. Load image\n",
    "4. Define single-cell segmentation/tracking data filename (using image file name)\n",
    "5. Load single-cell data\n",
    "6. Launch Napari viewer with images, segmentation and tracks."
   ]
  },
  {
   "cell_type": "code",
   "execution_count": 1,
   "id": "cb9c3ca6-2d1c-41c2-a291-57639d0ccf8d",
   "metadata": {},
   "outputs": [],
   "source": [
    "import os\n",
    "from glob import glob\n",
    "from skimage import io\n",
    "import napari\n",
    "import btrack"
   ]
  },
  {
   "cell_type": "markdown",
   "id": "09c5e155-1cd6-46e9-9643-5446f0fc851b",
   "metadata": {},
   "source": [
    "# Define image filename (fn) as a string\n",
    "\n",
    "I have first defined a `root_dir` (i.e. an folder address where the images are kept) and then joined (using `os.path.join`) that with the image basename (i.e. the actual filename of just the image) so that it's easier to read the final identifying part of the whole full image path. \n",
    "The `root_dir` string will look different on a Mac as the way our respective computers connect to NEMO is different. "
   ]
  },
  {
   "cell_type": "code",
   "execution_count": 2,
   "id": "075d89d6-b7a0-4699-a6a0-3d730c262adb",
   "metadata": {},
   "outputs": [],
   "source": [
    "root_dir = '/run/user/30046150/gvfs/smb-share:server=data2.thecrick.org,share=lab-gutierrezm/home/shared/Lung on Chip/homuncu_loc_image_analysis/iAT1_iAT2_iVEC_macrophage_experiments/DAPI_ZO1_CD16_MTB/images'"
   ]
  },
  {
   "cell_type": "code",
   "execution_count": 31,
   "id": "772104ec-f7ab-4dcf-90b2-d38c328f0358",
   "metadata": {},
   "outputs": [
    {
     "name": "stdout",
     "output_type": "stream",
     "text": [
      "Loading image path: 20230802_20X_23-03-001A2_DAPI_ZO-1_LDO_Mtb_Multichannel Z-Stack_20230802_1504.tif\n",
      "Loaded image: 20230802_20X_23-03-001A2_DAPI_ZO-1_LDO_Mtb_Multichannel Z-Stack_20230802_1504.tif\n"
     ]
    }
   ],
   "source": [
    "# folder where the images are kept\n",
    "root_dir = '/run/user/30046150/gvfs/smb-share:server=data2.thecrick.org,share=lab-gutierrezm/home/shared/Lung on Chip/homuncu_loc_image_analysis/iAT1_iAT2_iVEC_macrophage_experiments/DAPI_ZO1_LDO_MTB/images'\n",
    "# now define the image file name\n",
    "image_file_name = '20230802_20X_23-03-001A2_DAPI_ZO-1_LDO_Mtb_Multichannel Z-Stack_20230802_1504.tif'\n",
    "image_path = os.path.join(root_dir, image_file_name)\n",
    "print(f'Loading image path: {image_file_name}')\n",
    "image = io.imread(image_path)\n",
    "print(f'Loaded image: {image_file_name}')"
   ]
  },
  {
   "cell_type": "markdown",
   "id": "e90b40d6-a338-4bf7-b25e-a0d20132e98d",
   "metadata": {},
   "source": [
    "# Launch napari with image"
   ]
  },
  {
   "cell_type": "code",
   "execution_count": 32,
   "id": "cf527072-36be-46d3-8f46-2e6771d7f08a",
   "metadata": {},
   "outputs": [
    {
     "data": {
      "text/plain": [
       "[<Image layer 'Image' at 0x7f602d139700>,\n",
       " <Image layer 'Image [1]' at 0x7f6296399ee0>,\n",
       " <Image layer 'Image [2]' at 0x7f6296353fd0>,\n",
       " <Image layer 'Image [3]' at 0x7f6296310e80>]"
      ]
     },
     "execution_count": 32,
     "metadata": {},
     "output_type": "execute_result"
    }
   ],
   "source": [
    "# this opens the napari viewer\n",
    "viewer = napari.Viewer(title = os.path.basename(image_path))\n",
    "# and this adds the image and organises it as the channels are on the final axis (nota)\n",
    "viewer.add_image(image, channel_axis=-1)"
   ]
  },
  {
   "cell_type": "markdown",
   "id": "85c6882a-0b8e-402d-8372-914f0795ec8a",
   "metadata": {},
   "source": [
    "# Load corresponding single-cell data"
   ]
  },
  {
   "cell_type": "code",
   "execution_count": 20,
   "id": "e94daef1-d22b-4ff6-98da-b96c3b40b833",
   "metadata": {},
   "outputs": [
    {
     "name": "stdout",
     "output_type": "stream",
     "text": [
      "The following single-cell files have been found:\n",
      " ['/run/user/30046150/gvfs/smb-share:server=data2.thecrick.org,share=lab-gutierrezm/home/shared/Lung on Chip/homuncu_loc_image_analysis/iAT1_iAT2_iVEC_macrophage_experiments/DAPI_ZO1_CD16_MTB/sc_analyses/20230707_40X_23-01-001A3_Multichannel Z-Stack_20230707_1313_mphi.h5', '/run/user/30046150/gvfs/smb-share:server=data2.thecrick.org,share=lab-gutierrezm/home/shared/Lung on Chip/homuncu_loc_image_analysis/iAT1_iAT2_iVEC_macrophage_experiments/DAPI_ZO1_CD16_MTB/sc_analyses/20230707_40X_23-01-001A3_Multichannel Z-Stack_20230707_1313_iat2.h5', '/run/user/30046150/gvfs/smb-share:server=data2.thecrick.org,share=lab-gutierrezm/home/shared/Lung on Chip/homuncu_loc_image_analysis/iAT1_iAT2_iVEC_macrophage_experiments/DAPI_ZO1_CD16_MTB/sc_analyses/20230707_40X_23-01-001A3_Multichannel Z-Stack_20230707_1313_iat1.h5']\n"
     ]
    }
   ],
   "source": [
    "# couple of things going on here, I am using glob to find all files that end have a similar filename to the image_path but that are in the sc_analyses folder and that end with the .h5 prefix\n",
    "sc_paths = glob(os.path.join(root_dir.replace('images','sc_analyses'), image_file_name.replace('.tif', '*.h5')))\n",
    "# show results \n",
    "print(f'The following single-cell files have been found:\\n {sc_paths}')"
   ]
  },
  {
   "cell_type": "markdown",
   "id": "d349992f-d94b-4c6f-b1a6-d2a88450268d",
   "metadata": {},
   "source": [
    "# Add single-cell data to napari"
   ]
  },
  {
   "cell_type": "code",
   "execution_count": 29,
   "id": "41cae10e-973f-4cf7-a091-07dad72bdff9",
   "metadata": {},
   "outputs": [
    {
     "name": "stderr",
     "output_type": "stream",
     "text": [
      "[INFO][2023/10/03 02:08:46 pm] Opening HDF file: /run/user/30046150/gvfs/smb-share:server=data2.thecrick.org,share=lab-gutierrezm/home/shared/Lung on Chip/homuncu_loc_image_analysis/iAT1_iAT2_iVEC_macrophage_experiments/DAPI_ZO1_CD16_MTB/sc_analyses/20230707_40X_23-01-001A3_Multichannel Z-Stack_20230707_1313_iat1.h5...\n",
      "[ERROR][2023/10/03 02:08:47 pm] Segmentation not found in /run/user/30046150/gvfs/smb-share:server=data2.thecrick.org,share=lab-gutierrezm/home/shared/Lung on Chip/homuncu_loc_image_analysis/iAT1_iAT2_iVEC_macrophage_experiments/DAPI_ZO1_CD16_MTB/sc_analyses/20230707_40X_23-01-001A3_Multichannel Z-Stack_20230707_1313_iat1.h5\n",
      "[ERROR][2023/10/03 02:08:47 pm] Tracks not found in /run/user/30046150/gvfs/smb-share:server=data2.thecrick.org,share=lab-gutierrezm/home/shared/Lung on Chip/homuncu_loc_image_analysis/iAT1_iAT2_iVEC_macrophage_experiments/DAPI_ZO1_CD16_MTB/sc_analyses/20230707_40X_23-01-001A3_Multichannel Z-Stack_20230707_1313_iat1.h5\n",
      "[INFO][2023/10/03 02:08:47 pm] Closing HDF file: /run/user/30046150/gvfs/smb-share:server=data2.thecrick.org,share=lab-gutierrezm/home/shared/Lung on Chip/homuncu_loc_image_analysis/iAT1_iAT2_iVEC_macrophage_experiments/DAPI_ZO1_CD16_MTB/sc_analyses/20230707_40X_23-01-001A3_Multichannel Z-Stack_20230707_1313_iat1.h5\n"
     ]
    },
    {
     "ename": "TypeError",
     "evalue": "'NoneType' object is not iterable",
     "output_type": "error",
     "traceback": [
      "\u001b[0;31m---------------------------------------------------------------------------\u001b[0m",
      "\u001b[0;31mTypeError\u001b[0m                                 Traceback (most recent call last)",
      "Cell \u001b[0;32mIn[29], line 20\u001b[0m\n\u001b[1;32m     18\u001b[0m     segmentation \u001b[38;5;241m=\u001b[39m reader\u001b[38;5;241m.\u001b[39msegmentation\n\u001b[1;32m     19\u001b[0m     \u001b[38;5;66;03m# load tracks and filter to only include above 3 in length\u001b[39;00m\n\u001b[0;32m---> 20\u001b[0m     tracks \u001b[38;5;241m=\u001b[39m [t \u001b[38;5;28;01mfor\u001b[39;00m t \u001b[38;5;129;01min\u001b[39;00m reader\u001b[38;5;241m.\u001b[39mtracks \u001b[38;5;28;01mif\u001b[39;00m \u001b[38;5;28mlen\u001b[39m(t) \u001b[38;5;241m>\u001b[39m\u001b[38;5;241m=\u001b[39m \u001b[38;5;241m3\u001b[39m]\n\u001b[1;32m     21\u001b[0m \u001b[38;5;66;03m# convert tracks to napari compatible \u001b[39;00m\n\u001b[1;32m     22\u001b[0m napari_tracks, _, _ \u001b[38;5;241m=\u001b[39m btrack\u001b[38;5;241m.\u001b[39mutils\u001b[38;5;241m.\u001b[39mtracks_to_napari(tracks, ndim \u001b[38;5;241m=\u001b[39m \u001b[38;5;241m2\u001b[39m)\n",
      "\u001b[0;31mTypeError\u001b[0m: 'NoneType' object is not iterable"
     ]
    }
   ],
   "source": [
    "# iterate over the three different type of single-cell files\n",
    "for n, fn in enumerate(sc_paths):\n",
    "    # extract cell type information from filename\n",
    "    if 'iat1' in fn:\n",
    "        obj_type = 'obj_type_3'\n",
    "        name = 'iat1'\n",
    "    if 'iat2' in fn:\n",
    "        obj_type = 'obj_type_2'\n",
    "        name = 'iat2'\n",
    "    if 'mphi' in fn:\n",
    "        obj_type = 'obj_type_1'\n",
    "        name = 'mphi'\n",
    "    # use btrack to load single-cell data\n",
    "    with btrack.io.HDF5FileHandler(fn, 'r', obj_type=obj_type) as reader:\n",
    "        # load segmentation\n",
    "        segmentation = reader.segmentation\n",
    "        # load tracks and filter to only include above 3 in length\n",
    "        tracks = [t for t in reader.tracks if len(t) >= 3]\n",
    "    # convert tracks to napari compatible \n",
    "    napari_tracks, _, _ = btrack.utils.tracks_to_napari(tracks, ndim = 2)\n",
    "    # colour segmentation according to tracks (so that the masks stay the same colour over Z)\n",
    "    recolored_segmentation = btrack.utils.update_segmentation(segmentation, tracks, color_by='ID')\n",
    "    # add all single-cell data to napari    \n",
    "    viewer.add_labels(segmentation, visible = False, name = f'{name} original unfiltered segmentation')\n",
    "    viewer.add_labels(recolored_segmentation, name = f'{name} filtered segmentation', )\n",
    "    viewer.add_tracks(napari_tracks, name = f'{name} tracks', visible = False)"
   ]
  },
  {
   "cell_type": "code",
   "execution_count": 33,
   "id": "a7754707-11d4-4b4d-93f1-47a48317bd7b",
   "metadata": {},
   "outputs": [
    {
     "data": {
      "text/plain": [
       "'/run/user/30046150/gvfs/smb-share:server=data2.thecrick.org,share=lab-gutierrezm/home/shared/Lung on Chip/homuncu_loc_image_analysis/iAT1_iAT2_iVEC_macrophage_experiments/DAPI_ZO1_CD16_MTB/sc_analyses/20230707_40X_23-01-001A3_Multichannel Z-Stack_20230707_1313_iat1.h5'"
      ]
     },
     "execution_count": 33,
     "metadata": {},
     "output_type": "execute_result"
    }
   ],
   "source": [
    "fn"
   ]
  },
  {
   "cell_type": "code",
   "execution_count": null,
   "id": "e9fed4c6-14e8-41b0-9c6d-6a3f95cea796",
   "metadata": {},
   "outputs": [],
   "source": [
    "# sometimes when you give napari a lot to think about it needs a gentle nudge to finish completing the task, run this cell to do so\n",
    "print()"
   ]
  },
  {
   "cell_type": "markdown",
   "id": "dc160fe4-5f8e-48fd-abfa-d3232824738b",
   "metadata": {},
   "source": [
    "# Misc: example of inspecting cell data"
   ]
  },
  {
   "cell_type": "code",
   "execution_count": null,
   "id": "877b1a6e-3840-4314-bc97-97b47a875fc7",
   "metadata": {},
   "outputs": [],
   "source": [
    "# look at the first track\n",
    "tracks[0]"
   ]
  },
  {
   "cell_type": "code",
   "execution_count": null,
   "id": "8671d7c3-d22b-44bf-8d5c-baff34e35cf1",
   "metadata": {},
   "outputs": [],
   "source": [
    "# look at a specific cell ID\n",
    "cell_ID = 17\n",
    "# print that track\n",
    "[t for t in tracks if t.ID == cell_ID][0]"
   ]
  },
  {
   "cell_type": "code",
   "execution_count": 35,
   "id": "32f0c512-c7d3-4a1c-9069-b16e45c2cebe",
   "metadata": {},
   "outputs": [
    {
     "data": {
      "text/plain": [
       "array([0, 0, 0, ..., 0, 0, 0], dtype=uint16)"
      ]
     },
     "execution_count": 35,
     "metadata": {},
     "output_type": "execute_result"
    }
   ],
   "source": [
    "mask_obj_type_2[i, j]"
   ]
  },
  {
   "cell_type": "code",
   "execution_count": 43,
   "id": "9ab02392-3685-4af0-822c-1eb12bce29ab",
   "metadata": {},
   "outputs": [
    {
     "data": {
      "text/plain": [
       "(61, 2304, 2304)"
      ]
     },
     "execution_count": 43,
     "metadata": {},
     "output_type": "execute_result"
    }
   ],
   "source": [
    "combined_mask.shape"
   ]
  },
  {
   "cell_type": "code",
   "execution_count": 44,
   "id": "2a6368b8-86f5-4bb1-a644-38365b0ff1d5",
   "metadata": {
    "scrolled": true
   },
   "outputs": [
    {
     "data": {
      "application/vnd.jupyter.widget-view+json": {
       "model_id": "e85bc73a8c0846aaa0b04d5c4bc37a0e",
       "version_major": 2,
       "version_minor": 0
      },
      "text/plain": [
       "  0%|          | 0/61 [00:00<?, ?it/s]"
      ]
     },
     "metadata": {},
     "output_type": "display_data"
    },
    {
     "ename": "KeyboardInterrupt",
     "evalue": "",
     "output_type": "error",
     "traceback": [
      "\u001b[0;31m---------------------------------------------------------------------------\u001b[0m",
      "\u001b[0;31mKeyboardInterrupt\u001b[0m                         Traceback (most recent call last)",
      "Cell \u001b[0;32mIn[44], line 13\u001b[0m\n\u001b[1;32m     11\u001b[0m \u001b[38;5;28;01mfor\u001b[39;00m i \u001b[38;5;129;01min\u001b[39;00m \u001b[38;5;28mrange\u001b[39m(combined_mask\u001b[38;5;241m.\u001b[39mshape[\u001b[38;5;241m1\u001b[39m]):\n\u001b[1;32m     12\u001b[0m     \u001b[38;5;28;01mfor\u001b[39;00m j \u001b[38;5;129;01min\u001b[39;00m \u001b[38;5;28mrange\u001b[39m(combined_mask\u001b[38;5;241m.\u001b[39mshape[\u001b[38;5;241m2\u001b[39m]):\n\u001b[0;32m---> 13\u001b[0m         \u001b[38;5;28;01mif\u001b[39;00m \u001b[43mmask_obj_type_2\u001b[49m\u001b[43m[\u001b[49m\u001b[43mframe\u001b[49m\u001b[43m,\u001b[49m\u001b[43m \u001b[49m\u001b[43mi\u001b[49m\u001b[43m,\u001b[49m\u001b[43m \u001b[49m\u001b[43mj\u001b[49m\u001b[43m]\u001b[49m\u001b[43m \u001b[49m\u001b[38;5;241;43m>\u001b[39;49m\u001b[43m \u001b[49m\u001b[38;5;241;43m0\u001b[39;49m:\n\u001b[1;32m     14\u001b[0m             combined_mask[frame, i, j] \u001b[38;5;241m=\u001b[39m mask_obj_type_2[frame, i, j]\n\u001b[1;32m     15\u001b[0m         \u001b[38;5;28;01melse\u001b[39;00m:\n",
      "\u001b[0;31mKeyboardInterrupt\u001b[0m: "
     ]
    }
   ],
   "source": [
    "# first combine at1/2\n",
    "# Load the mask arrays from segmentation_dict\n",
    "mask_obj_type_2 = segmentation_dict['obj_type_2']\n",
    "mask_obj_type_3 = segmentation_dict['obj_type_3']\n",
    "\n",
    "# Create a new mask with the same shape as the input masks\n",
    "combined_mask = np.zeros_like(mask_obj_type_2)\n",
    "\n",
    "for frame in tqdm(range(len(combined_mask))):\n",
    "    # Iterate through each pixel and assign values based on priority\n",
    "    for i in range(combined_mask.shape[1]):\n",
    "        for j in range(combined_mask.shape[2]):\n",
    "            if mask_obj_type_2[frame, i, j] > 0:\n",
    "                combined_mask[frame, i, j] = mask_obj_type_2[frame, i, j]\n",
    "            else:\n",
    "                combined_mask[frame, i, j] = mask_obj_type_3[frame, i, j]\n",
    "\n",
    "viewer.add_labels(combined_mask)"
   ]
  },
  {
   "cell_type": "code",
   "execution_count": 50,
   "id": "2e04a5c1-9f1d-45d4-8204-90bc03e3dbf5",
   "metadata": {},
   "outputs": [],
   "source": []
  },
  {
   "cell_type": "code",
   "execution_count": 49,
   "id": "44e27ded-aa5b-474f-a0d0-a84e5f3ebbc7",
   "metadata": {},
   "outputs": [
    {
     "data": {
      "application/vnd.jupyter.widget-view+json": {
       "model_id": "4372e22099374942a873bd5f4af4e55a",
       "version_major": 2,
       "version_minor": 0
      },
      "text/plain": [
       "  0%|          | 0/75 [00:00<?, ?it/s]"
      ]
     },
     "metadata": {},
     "output_type": "display_data"
    },
    {
     "data": {
      "text/plain": [
       "<Labels layer 'binary_mask_final_obj_type_3' at 0x7f79d7ca1ee0>"
      ]
     },
     "execution_count": 49,
     "metadata": {},
     "output_type": "execute_result"
    }
   ],
   "source": [
    "# Load the mask arrays from segmentation_dict\n",
    "mask_obj_type_2 = segmentation_dict['obj_type_2']\n",
    "mask_obj_type_3 = segmentation_dict['obj_type_3']\n",
    "\n",
    "# Create a new mask with the same shape as the input masks\n",
    "combined_mask = np.zeros_like(mask_obj_type_2)\n",
    "\n",
    "# Find pixels where object type 2 masks are non-zero\n",
    "obj_type_2_pixels = mask_obj_type_2 > 0\n",
    "\n",
    "# Use object type 2 masks where they are non-zero, and object type 3 masks elsewhere\n",
    "combined_mask[obj_type_2_pixels] = mask_obj_type_2[obj_type_2_pixels]\n",
    "combined_mask[~obj_type_2_pixels] = mask_obj_type_3[~obj_type_2_pixels]\n",
    "\n",
    "# Extract unique pixel IDs from object type 2 masks\n",
    "unique_pixel_ids_obj_type_2 = np.unique(mask_obj_type_2)\n",
    "\n",
    "# Extract unique pixel IDs from object type 3 masks that are not in object type 2\n",
    "final_pixel_ids_obj_type_3 = np.unique(combined_mask)\n",
    "final_pixel_ids_obj_type_3 = np.setdiff1d(final_pixel_ids_obj_type_3, unique_pixel_ids_obj_type_2)\n",
    "\n",
    "# Create a binary mask for final_pixel_ids_obj_type_3\n",
    "binary_mask_final_obj_type_3 = np.zeros_like(mask_obj_type_2, dtype=np.uint8)\n",
    "for pixel_id in tqdm(final_pixel_ids_obj_type_3):\n",
    "    binary_mask_final_obj_type_3[combined_mask == pixel_id] = 1\n",
    "\n",
    "viewer.add_labels(combined_mask)\n",
    "viewer.add_labels(binary_mask_final_obj_type_3)"
   ]
  },
  {
   "cell_type": "code",
   "execution_count": 54,
   "id": "1085c8fa-7896-44c2-8689-b4bd57603716",
   "metadata": {},
   "outputs": [
    {
     "data": {
      "application/vnd.jupyter.widget-view+json": {
       "model_id": "a24bd0c6a45547818b6bb70d27f2afb8",
       "version_major": 2,
       "version_minor": 0
      },
      "text/plain": [
       "  0%|          | 0/427 [00:00<?, ?it/s]"
      ]
     },
     "metadata": {},
     "output_type": "display_data"
    },
    {
     "data": {
      "text/plain": [
       "<Labels layer 'filtered_mask' at 0x7f79d4aa09d0>"
      ]
     },
     "execution_count": 54,
     "metadata": {},
     "output_type": "execute_result"
    }
   ],
   "source": [
    "threshold = 2500\n",
    "\n",
    "# Calculate connected components in the binary mask\n",
    "labeled_mask = label(binary_mask_final_obj_type_3)\n",
    "\n",
    "# Filter masks based on area threshold\n",
    "filtered_mask = np.zeros_like(labeled_mask)\n",
    "for region in tqdm(regionprops(labeled_mask)):\n",
    "    if region.area > threshold:\n",
    "        filtered_mask[labeled_mask == region.label] = 1\n",
    "\n",
    "\n",
    "viewer.add_labels(filtered_mask)"
   ]
  },
  {
   "cell_type": "code",
   "execution_count": 55,
   "id": "08f4d03d-14ce-49d5-98bc-f2343740a404",
   "metadata": {},
   "outputs": [
    {
     "data": {
      "text/plain": [
       "<Labels layer 'labeled_mask' at 0x7f79b252a8e0>"
      ]
     },
     "execution_count": 55,
     "metadata": {},
     "output_type": "execute_result"
    }
   ],
   "source": [
    "viewer.add_labels(labeled_mask)"
   ]
  },
  {
   "cell_type": "code",
   "execution_count": null,
   "id": "f1d29e43-40af-4f63-b3cc-cded29dfec10",
   "metadata": {},
   "outputs": [],
   "source": []
  },
  {
   "cell_type": "code",
   "execution_count": 48,
   "id": "240d6906-00e5-458c-ad51-d881e5d8dba0",
   "metadata": {},
   "outputs": [
    {
     "data": {
      "text/plain": [
       "array([  4,   5,   8,  10,  12,  13,  16,  17,  19,  24,  25,  26,  27,\n",
       "        31,  54,  59,  62,  72,  94, 101, 103, 116, 146, 147, 158, 160,\n",
       "       164, 165, 169, 171, 177, 197, 213, 219, 240, 249, 264, 293, 304,\n",
       "       318, 329, 330, 359, 367, 368, 369, 380, 384, 389, 393, 395, 397,\n",
       "       402, 403, 405, 412, 425, 435, 439, 452, 498, 510, 521, 523, 539,\n",
       "       540, 550, 567, 607, 627, 653, 657, 676, 680, 686], dtype=uint16)"
      ]
     },
     "execution_count": 48,
     "metadata": {},
     "output_type": "execute_result"
    }
   ],
   "source": [
    "final_pixel_ids_obj_type_3"
   ]
  }
 ],
 "metadata": {
  "kernelspec": {
   "display_name": "brassica",
   "language": "python",
   "name": "brassica"
  },
  "language_info": {
   "codemirror_mode": {
    "name": "ipython",
    "version": 3
   },
   "file_extension": ".py",
   "mimetype": "text/x-python",
   "name": "python",
   "nbconvert_exporter": "python",
   "pygments_lexer": "ipython3",
   "version": "3.9.17"
  }
 },
 "nbformat": 4,
 "nbformat_minor": 5
}
