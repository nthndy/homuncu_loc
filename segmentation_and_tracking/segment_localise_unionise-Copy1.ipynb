{
 "cells": [
  {
   "cell_type": "markdown",
   "id": "443c3842",
   "metadata": {},
   "source": [
    "# LoC localisation notebook\n",
    "\n",
    "This notebook loads a set of images and segments them based on a \"segmentation channel\" of choice. The structure of the notebook is as follows:\n",
    "\n",
    "1. Load images\n",
    "2. Segment\n",
    "3. Localise segment centroids\n",
    "4. Unite cell slices over z-stack (equivalent to track over t)\n",
    "5. Check labelling in Napari"
   ]
  },
  {
   "cell_type": "markdown",
   "id": "80ef9a9b",
   "metadata": {},
   "source": [
    "Load necessary Python packages:"
   ]
  },
  {
   "cell_type": "code",
   "execution_count": 25,
   "id": "0403fd11",
   "metadata": {},
   "outputs": [],
   "source": [
    "import os # this module contains functions for interacting with the operating system (i.e. list files etc)\n",
    "import glob # good for finding files matching a certain extension\n",
    "from skimage import io #scikit image data in/out module (for loading/saving images)\n",
    "import napari # image viewer\n",
    "import matplotlib.pyplot as plt # figure making module, used to display two images side by side\n",
    "from tqdm import tqdm, trange # this is a counter that times how long iterative jobs take\n",
    "import numpy as np # this numerical python module is good for handling images as matrices\n",
    "import btrack # this is for \"tracking\" cells through the z-axis\n",
    "from homuncu_loc import tools # this is for a few custom tools "
   ]
  },
  {
   "cell_type": "markdown",
   "id": "017be436",
   "metadata": {},
   "source": [
    "## 1. Load images\n",
    "\n",
    "The first step here is to define a base directory where different images for analysis are stored. By defining the path to this directory as a python variable we will reduce the need for long string input of future image paths. "
   ]
  },
  {
   "cell_type": "code",
   "execution_count": 2,
   "id": "6794d0e1",
   "metadata": {},
   "outputs": [
    {
     "name": "stdout",
     "output_type": "stream",
     "text": [
      "Here are the experimental data sets contained within base_dir:\n",
      "['run2_23-02-104', 'run1_23-01-001_23-01-005']\n"
     ]
    }
   ],
   "source": [
    "base_dir = '/run/user/30046150/gvfs/smb-share:server=data2.thecrick.org,share=lab-gutierrezm/home/shared/Lung on Chip/image analysis_Nathan/Job_Mtb area'\n",
    "print('Here are the experimental data sets contained within base_dir:')\n",
    "print(os.listdir(base_dir))"
   ]
  },
  {
   "cell_type": "markdown",
   "id": "e9a495c0",
   "metadata": {},
   "source": [
    "Next we will pick one experiment to work with from the aforementioned directories"
   ]
  },
  {
   "cell_type": "code",
   "execution_count": 3,
   "id": "1687141b",
   "metadata": {},
   "outputs": [],
   "source": [
    "expt = 'run2_23-02-104'\n",
    "expt_dir = os.path.join(base_dir, expt) # use os to join the names of the two directories together in new python variable"
   ]
  },
  {
   "cell_type": "markdown",
   "id": "29c60959",
   "metadata": {},
   "source": [
    "And now we will show the different images from this experiment"
   ]
  },
  {
   "cell_type": "code",
   "execution_count": 4,
   "id": "793b15d2",
   "metadata": {
    "scrolled": true
   },
   "outputs": [
    {
     "name": "stdout",
     "output_type": "stream",
     "text": [
      "Here are the image data sets contained within expt_dir:\n",
      "48h pi/20230718_20X_23-02-104B2_Multichannel Z-Stack_20230718_1365.tif\n",
      "48h pi/20230718_20X_23-02-104B2_Multichannel Z-Stack_20230718_1363.tif\n",
      "48h pi/20230718_20X_23-02-104B2_Multichannel Z-Stack_20230718_1361.tif\n",
      "48h pi/20230718_20X_23-02-104B2_Multichannel Z-Stack_20230718_1362.tif\n",
      "48h pi/20230718_20X_23-02-104B2_Multichannel Z-Stack_20230718_1364.tif\n",
      "2h pi/20230714_20X_23-02-104A4_Multichannel Z-Stack_20230714_1343.tif\n",
      "2h pi/20230714_20X_23-02-104A4_Multichannel Z-Stack_20230714_1342.tif\n",
      "2h pi/20230714_20X_23-02-104A4_Multichannel Z-Stack_20230714_1344.tif\n",
      "2h pi/20230714_20X_23-02-104A4_Multichannel Z-Stack_20230714_1341.tif\n",
      "2h pi/20230714_20X_23-02-104A4_Multichannel Z-Stack_20230714_1340.tif\n"
     ]
    }
   ],
   "source": [
    "print('Here are the image data sets contained within expt_dir:')\n",
    "image_file_list = glob.glob(os.path.join(expt_dir, '*/*.tif')) # using glob to find all .tif files\n",
    "for image_file in image_file_list:\n",
    "    folder_up = os.path.basename(os.path.dirname(image_file))\n",
    "    file_name = os.path.basename(image_file)\n",
    "    print(f'{folder_up}/{file_name}')"
   ]
  },
  {
   "cell_type": "markdown",
   "id": "ffc4966a",
   "metadata": {},
   "source": [
    "Select one set of images to work with initially (later we will iterate over all images for bulk segmentation jobs) "
   ]
  },
  {
   "cell_type": "code",
   "execution_count": 5,
   "id": "384f8baf",
   "metadata": {},
   "outputs": [],
   "source": [
    "image_dir = '48h pi/20230718_20X_23-02-104B2_Multichannel Z-Stack_20230718_1365.tif'\n",
    "image_fn = os.path.join(expt_dir, image_dir)"
   ]
  },
  {
   "cell_type": "markdown",
   "id": "7fec0aa5",
   "metadata": {},
   "source": [
    "#### Load images from .tif file: "
   ]
  },
  {
   "cell_type": "code",
   "execution_count": 6,
   "id": "251e91a5",
   "metadata": {},
   "outputs": [
    {
     "name": "stdout",
     "output_type": "stream",
     "text": [
      "Image shape is: (81, 2304, 2304, 4) (ZXYC)\n",
      "CPU times: user 1.53 s, sys: 4.45 s, total: 5.98 s\n",
      "Wall time: 1min 3s\n"
     ]
    }
   ],
   "source": [
    "%%time \n",
    "image = io.imread(image_fn)\n",
    "print(f'Image shape is: {image.shape} (ZXYC)')"
   ]
  },
  {
   "cell_type": "markdown",
   "id": "bd0fd740",
   "metadata": {},
   "source": [
    "#### Inspect images before proceeding (optional)"
   ]
  },
  {
   "cell_type": "code",
   "execution_count": 44,
   "id": "2ac01433",
   "metadata": {
    "scrolled": true
   },
   "outputs": [
    {
     "data": {
      "text/plain": [
       "[<Image layer 'Image' at 0x7f3ac18e38e0>,\n",
       " <Image layer 'Image [1]' at 0x7f3ac18f8fa0>,\n",
       " <Image layer 'Image [2]' at 0x7f3ac1975cd0>,\n",
       " <Image layer 'Image [3]' at 0x7f3ac1751550>]"
      ]
     },
     "execution_count": 44,
     "metadata": {},
     "output_type": "execute_result"
    }
   ],
   "source": [
    "viewer = napari.Viewer(title = 'Estimating diameter') # initiate an instance of the napari viewer \n",
    "\n",
    "viewer.add_image(image,\n",
    "                 channel_axis=-1, scale = (10, 1, 1)\n",
    "                )"
   ]
  },
  {
   "cell_type": "markdown",
   "id": "86fcfebf",
   "metadata": {},
   "source": [
    "#### Designate channels as separate python variables\n",
    "\n",
    "Makes life easier later down the line when you want to segment one slice"
   ]
  },
  {
   "cell_type": "code",
   "execution_count": 7,
   "id": "0b48cade",
   "metadata": {},
   "outputs": [],
   "source": [
    "mask_input_channel = image[...,0] # picking chX as mask input"
   ]
  },
  {
   "cell_type": "markdown",
   "id": "f89c16cf",
   "metadata": {},
   "source": [
    "## 2. Segmentation"
   ]
  },
  {
   "cell_type": "markdown",
   "id": "560d2c84",
   "metadata": {},
   "source": [
    "Activate GPU (if you have one) and defiune cellpose segmentation model"
   ]
  },
  {
   "cell_type": "code",
   "execution_count": 8,
   "id": "9ca24756",
   "metadata": {},
   "outputs": [
    {
     "name": "stderr",
     "output_type": "stream",
     "text": [
      "100.43s - pydevd: Sending message related to process being replaced timed-out after 5 seconds\n"
     ]
    },
    {
     "name": "stdout",
     "output_type": "stream",
     "text": [
      "nvcc: NVIDIA (R) Cuda compiler driver\n",
      "Copyright (c) 2005-2019 NVIDIA Corporation\n",
      "Built on Sun_Jul_28_19:07:16_PDT_2019\n",
      "Cuda compilation tools, release 10.1, V10.1.243\n"
     ]
    },
    {
     "name": "stderr",
     "output_type": "stream",
     "text": [
      "105.63s - pydevd: Sending message related to process being replaced timed-out after 5 seconds\n"
     ]
    },
    {
     "name": "stdout",
     "output_type": "stream",
     "text": [
      "Fri Aug  4 16:31:39 2023       \n",
      "+-----------------------------------------------------------------------------+\n",
      "| NVIDIA-SMI 515.105.01   Driver Version: 515.105.01   CUDA Version: 11.7     |\n",
      "|-------------------------------+----------------------+----------------------+\n",
      "| GPU  Name        Persistence-M| Bus-Id        Disp.A | Volatile Uncorr. ECC |\n",
      "| Fan  Temp  Perf  Pwr:Usage/Cap|         Memory-Usage | GPU-Util  Compute M. |\n",
      "|                               |                      |               MIG M. |\n",
      "|===============================+======================+======================|\n",
      "|   0  NVIDIA RTX A6000    On   | 00000000:65:00.0  On |                  Off |\n",
      "| 30%   44C    P8    36W / 300W |   3428MiB / 49140MiB |     17%      Default |\n",
      "|                               |                      |                  N/A |\n",
      "+-------------------------------+----------------------+----------------------+\n",
      "                                                                               \n",
      "+-----------------------------------------------------------------------------+\n",
      "| Processes:                                                                  |\n",
      "|  GPU   GI   CI        PID   Type   Process name                  GPU Memory |\n",
      "|        ID   ID                                                   Usage      |\n",
      "|=============================================================================|\n",
      "|    0   N/A  N/A      2220      G   /usr/lib/xorg/Xorg                661MiB |\n",
      "|    0   N/A  N/A      4693      G   /usr/bin/gnome-shell               74MiB |\n",
      "|    0   N/A  N/A      5388      G   ...024191973337946300,262144       90MiB |\n",
      "|    0   N/A  N/A     64383      G   ...nda3/envs/aero/bin/python      179MiB |\n",
      "|    0   N/A  N/A     70352      G   ...nda3/envs/aero/bin/python      103MiB |\n",
      "|    0   N/A  N/A     73077    C+G   ...nda3/envs/aero/bin/python     2313MiB |\n",
      "+-----------------------------------------------------------------------------+\n",
      ">>> GPU activated? YES\n"
     ]
    }
   ],
   "source": [
    "# print gpu information\n",
    "!nvcc --version\n",
    "!nvidia-smi\n",
    "\n",
    "# load cellpose\n",
    "from cellpose import core, utils, models, metrics\n",
    "\n",
    "# check to see if GPU can be used\n",
    "use_GPU = core.use_gpu()\n",
    "yn = ['NO', 'YES']\n",
    "print(f'>>> GPU activated? {yn[use_GPU]}')\n",
    "\n",
    "# define segmentation model parameters\n",
    "model = models.Cellpose(gpu=use_GPU, \n",
    "                        model_type='cyto') # cytoplasmic segmentation \n",
    "channels = [0,0] # this means using a grayscale image for both nuclei and cyto channels (even if not using nuclei, still have to say its same colour [greyscale = 0])"
   ]
  },
  {
   "cell_type": "markdown",
   "id": "c8e3f991",
   "metadata": {},
   "source": [
    "#### `monolayer:` Test segmentation on a frame "
   ]
  },
  {
   "cell_type": "code",
   "execution_count": 28,
   "id": "03649fb6",
   "metadata": {},
   "outputs": [
    {
     "name": "stdout",
     "output_type": "stream",
     "text": [
      "Estimated average mask diameter is: 18.68\n"
     ]
    },
    {
     "data": {
      "image/png": "[encoded data removed]",
      "text/plain": [
       "<Figure size 1000x500 with 2 Axes>"
      ]
     },
     "metadata": {},
     "output_type": "display_data"
    },
    {
     "name": "stdout",
     "output_type": "stream",
     "text": [
      "CPU times: user 10.8 s, sys: 3.41 s, total: 14.2 s\n",
      "Wall time: 12.4 s\n"
     ]
    }
   ],
   "source": [
    "%%time\n",
    "index = 46  # pick which frame/zslice to test the segmentation on\n",
    "masks, flows, styles, diams = model.eval(\n",
    "    mask_input_channel[index],  # input image to segment\n",
    "    diameter=None,  # set average cell diameter (if left to None then it estimates for you)\n",
    "    flow_threshold=None,  # optional parameter to increase if cells undersegmented\n",
    "    channels=channels  # channel input defined above\n",
    ")\n",
    "\n",
    "print(f\"Estimated average mask diameter is: {diams:.2f}\") # print the estimated cell diameter \n",
    "\n",
    "# Display input image and masks\n",
    "fig, (ax1, ax2) = plt.subplots(1, 2, figsize=(10, 5))\n",
    "ax1.imshow(mask_input_channel[index])\n",
    "ax1.set_title(\"Input Image\")\n",
    "ax2.imshow(masks)\n",
    "ax2.set_title(\"Segmentation Masks\")\n",
    "plt.show()"
   ]
  },
  {
   "cell_type": "markdown",
   "id": "3ce5aa87",
   "metadata": {},
   "source": [
    "#### `bilayer:` Test segmentation on a frame\n",
    "\n",
    "This is a useful stage to assess the size difference between apical and basal cells. This can be done by using the cellpose estimation for the apical side (which is usually correctly estimated as the cells are regularly shaped and easier to automatically segment) and then inputting your own estimation for the basal cell size. The ratio between the two will be calculated and used in later segmentation. The first step in this process is to pick a frame that is representative of the apical side and another frame that is representative of the basal side. Finally, a transition point between the apical and basal regions should be defined to know which segmentation approach to apply to either. "
   ]
  },
  {
   "cell_type": "code",
   "execution_count": null,
   "id": "424f9b91",
   "metadata": {},
   "outputs": [],
   "source": [
    "apical_index = 34  # pick which frame/zslice to test the segmentation on\n",
    "basal_index = 46 # for the basal side too\n",
    "\n",
    "transition_index = 45 # should be approximately between the two sides, when both cell types are present in minimal amounts\n"
   ]
  },
  {
   "cell_type": "code",
   "execution_count": null,
   "id": "dc57b898",
   "metadata": {},
   "outputs": [],
   "source": [
    "%%time\n",
    "apical_masks, flows, styles, apical_diams = model.eval(\n",
    "    mask_input_channel[apical_index],  # input image to segment\n",
    "    diameter=None,  # set average cell diameter (if left to None then it estimates for you)\n",
    "    flow_threshold=None,  # optional parameter to increase if cells undersegmented\n",
    "    channels=channels  # channel input defined above\n",
    ")\n",
    "print(f\"Estimated average apical mask diameter is: {apical_diams:.0f}\") # print the estimated cell diameter basal_index = 48  # pick which frame/zslice to test the segmentation on\n",
    "\n",
    "basal_masks, flows, styles, basal_diams = model.eval(\n",
    "    mask_input_channel[basal_index],  # input image to segment\n",
    "    diameter=200,  # set average cell diameter (if left to None then it estimates for you)\n",
    "    flow_threshold=None,  # optional parameter to increase if cells undersegmented\n",
    "    channels=channels  # channel input defined above\n",
    ")\n",
    "print(f\"Basal mask diameter is: {basal_diams:.0f}\") # print the estimated cell diameter basal_index = 48  # pick which frame/zslice to test the segmentation on\n",
    "\n",
    "# Display input image and masks\n",
    "fig, ((ax1, ax2), (ax3, ax4)) = plt.subplots(2, 2, figsize=(10, 10))\n",
    "ax1.imshow(mask_input_channel[apical_index])\n",
    "ax1.set_title(\"Input apical Image\")\n",
    "ax2.imshow(apical_masks)\n",
    "ax2.set_title(\"Apical Masks\")\n",
    "ax3.imshow(mask_input_channel[basal_index])\n",
    "ax3.set_title(\"Input basal Image\")\n",
    "ax4.imshow(basal_masks)\n",
    "ax4.set_title(\"Basal Masks\")\n",
    "plt.show()\n",
    "\n",
    "# difference between apical and basal \n",
    "diam_ratio = round(basal_diams/apical_diams, 0)\n",
    "print(f'Basal to apical cell diameter ratio: {diam_ratio}')"
   ]
  },
  {
   "cell_type": "markdown",
   "id": "a4701c59",
   "metadata": {},
   "source": [
    "### `monolayer:` Run segmentation over whole image stack"
   ]
  },
  {
   "cell_type": "code",
   "execution_count": null,
   "id": "6155b4cf",
   "metadata": {
    "scrolled": true
   },
   "outputs": [],
   "source": [
    "%%time\n",
    "### define empty mask image array (as a list)\n",
    "mask_stack = []\n",
    "### iterate over frames\n",
    "for frame in tqdm(mask_input_channel, total = len(mask_input_channel)):\n",
    "    ### run segmentation for single frame\n",
    "    masks, flows, styles, diams = model.eval(frame, diameter=None, flow_threshold=None, channels=channels, min_size=200)\n",
    "    ### append segmentation results to empty to mask image list\n",
    "    mask_stack.append(masks)\n",
    "# turn mask stack into an image array\n",
    "mask_stack = np.stack(mask_stack, axis = 0)"
   ]
  },
  {
   "cell_type": "markdown",
   "id": "ef863c79",
   "metadata": {},
   "source": [
    "### Or run segmentation over part of image stack\n",
    "\n",
    "Some image stacks are mostly blank along the z-axis so use a mean intensity measure to estimate which slices/frames to segment. Leave other slices/frames blank. This has the benefit of being quicker, as you are not trying to segment cells which are barely present in the images, and also simpifying the tracking task by removing irrelevant cell objects"
   ]
  },
  {
   "cell_type": "markdown",
   "id": "cdd71fdd",
   "metadata": {},
   "source": [
    "#### Check where the cells exist within the image volume"
   ]
  },
  {
   "cell_type": "code",
   "execution_count": 11,
   "id": "db8670a6",
   "metadata": {},
   "outputs": [
    {
     "data": {
      "application/vnd.jupyter.widget-view+json": {
       "model_id": "d68d808e077642658a89844d332dded8",
       "version_major": 2,
       "version_minor": 0
      },
      "text/plain": [
       "  0%|          | 0/303 [00:00<?, ?it/s]"
      ]
     },
     "metadata": {},
     "output_type": "display_data"
    },
    {
     "data": {
      "image/png": "[encoded data removed]",
      "text/plain": [
       "<Figure size 640x480 with 1 Axes>"
      ]
     },
     "metadata": {},
     "output_type": "display_data"
    }
   ],
   "source": [
    "# define an empty list to hold mean image values\n",
    "mean_measure = list()\n",
    "for frame in tqdm(mask_input_channel, total = len(mask_input_channel)):\n",
    "    mean_measure.append(np.mean(frame))\n",
    "\n",
    "# Set colors from \"PiYG\" colormap\n",
    "colors = plt.cm.PiYG(np.linspace(0, 1, 2))\n",
    "\n",
    "plt.plot(mean_measure, color = 'gray', label = 'ZO1 intensity')\n",
    "\n",
    "# Calculate the average background signal\n",
    "average_background = np.mean(mean_measure)\n",
    "\n",
    "# Find or manually define the indices where the signal crosses above and below the average background\n",
    "start_frame = 0 #np.where(mean_measure > average_background)[0][0] - 5 # adding a buffer\n",
    "end_frame = np.where(mean_measure > average_background)[0][-1] + 10 # adding a buffer on to the end of the end_frame to aid with basal segmentation\n",
    "\n",
    "# Draw vertical lines at the indices with respective colors\n",
    "plt.axvline(x=start_frame, color=colors[0], linestyle='--', label='Start frame')\n",
    "plt.axvline(x=end_frame, color=colors[1], linestyle='--', label='End frame')\n",
    "\n",
    "plt.xlabel('Frame/z-slice')\n",
    "plt.ylabel('Mean image intensity of zo1 channel')\n",
    "\n",
    "plt.legend()  # Add a legend\n",
    "plt.show()"
   ]
  },
  {
   "cell_type": "markdown",
   "id": "c5af815c",
   "metadata": {},
   "source": [
    "#### `monolayer:` Run limited scope segmentation"
   ]
  },
  {
   "cell_type": "code",
   "execution_count": 45,
   "id": "5fdaf40d-b29e-46c5-94a0-4cd24a7fe231",
   "metadata": {},
   "outputs": [
    {
     "name": "stdout",
     "output_type": "stream",
     "text": [
      "Help on method eval in module cellpose.models:\n",
      "\n",
      "eval(x, batch_size=8, channels=None, channel_axis=None, z_axis=None, invert=False, normalize=True, diameter=30.0, do_3D=False, anisotropy=None, net_avg=False, augment=False, tile=True, tile_overlap=0.1, resample=True, interp=True, flow_threshold=0.4, cellprob_threshold=0.0, min_size=15, stitch_threshold=0.0, rescale=None, progress=None, model_loaded=False) method of cellpose.models.Cellpose instance\n",
      "    run cellpose and get masks\n",
      "    \n",
      "    Parameters\n",
      "    ----------\n",
      "    x: list or array of images\n",
      "        can be list of 2D/3D images, or array of 2D/3D images, or 4D image array\n",
      "    \n",
      "    batch_size: int (optional, default 8)\n",
      "        number of 224x224 patches to run simultaneously on the GPU\n",
      "        (can make smaller or bigger depending on GPU memory usage)\n",
      "    \n",
      "    channels: list (optional, default None)\n",
      "        list of channels, either of length 2 or of length number of images by 2.\n",
      "        First element of list is the channel to segment (0=grayscale, 1=red, 2=green, 3=blue).\n",
      "        Second element of list is the optional nuclear channel (0=none, 1=red, 2=green, 3=blue).\n",
      "        For instance, to segment grayscale images, input [0,0]. To segment images with cells\n",
      "        in green and nuclei in blue, input [2,3]. To segment one grayscale image and one\n",
      "        image with cells in green and nuclei in blue, input [[0,0], [2,3]].\n",
      "    \n",
      "    channel_axis: int (optional, default None)\n",
      "        if None, channels dimension is attempted to be automatically determined\n",
      "    \n",
      "    z_axis: int (optional, default None)\n",
      "        if None, z dimension is attempted to be automatically determined\n",
      "    \n",
      "    invert: bool (optional, default False)\n",
      "        invert image pixel intensity before running network (if True, image is also normalized)\n",
      "    \n",
      "    normalize: bool (optional, default True)\n",
      "        normalize data so 0.0=1st percentile and 1.0=99th percentile of image intensities in each channel\n",
      "    \n",
      "    diameter: float (optional, default 30.)\n",
      "        if set to None, then diameter is automatically estimated if size model is loaded\n",
      "    \n",
      "    do_3D: bool (optional, default False)\n",
      "        set to True to run 3D segmentation on 4D image input\n",
      "    \n",
      "    anisotropy: float (optional, default None)\n",
      "        for 3D segmentation, optional rescaling factor (e.g. set to 2.0 if Z is sampled half as dense as X or Y)\n",
      "    \n",
      "    net_avg: bool (optional, default False)\n",
      "        runs the 4 built-in networks and averages them if True, runs one network if False\n",
      "    \n",
      "    augment: bool (optional, default False)\n",
      "        tiles image with overlapping tiles and flips overlapped regions to augment\n",
      "    \n",
      "    tile: bool (optional, default True)\n",
      "        tiles image to ensure GPU/CPU memory usage limited (recommended)\n",
      "    \n",
      "    tile_overlap: float (optional, default 0.1)\n",
      "        fraction of overlap of tiles when computing flows\n",
      "    \n",
      "    resample: bool (optional, default True)\n",
      "        run dynamics at original image size (will be slower but create more accurate boundaries)\n",
      "    \n",
      "    interp: bool (optional, default True)\n",
      "            interpolate during 2D dynamics (not available in 3D) \n",
      "            (in previous versions it was False)\n",
      "    \n",
      "    flow_threshold: float (optional, default 0.4)\n",
      "        flow error threshold (all cells with errors below threshold are kept) (not used for 3D)\n",
      "    \n",
      "    cellprob_threshold: float (optional, default 0.0)\n",
      "        all pixels with value above threshold kept for masks, decrease to find more and larger masks\n",
      "    \n",
      "    min_size: int (optional, default 15)\n",
      "            minimum number of pixels per mask, can turn off with -1\n",
      "    \n",
      "    stitch_threshold: float (optional, default 0.0)\n",
      "        if stitch_threshold>0.0 and not do_3D and equal image sizes, masks are stitched in 3D to return volume segmentation\n",
      "    \n",
      "    rescale: float (optional, default None)\n",
      "        if diameter is set to None, and rescale is not None, then rescale is used instead of diameter for resizing image\n",
      "    \n",
      "    progress: pyqt progress bar (optional, default None)\n",
      "        to return progress bar status to GUI\n",
      "    \n",
      "    model_loaded: bool (optional, default False)\n",
      "        internal variable for determining if model has been loaded, used in __main__.py\n",
      "    \n",
      "    Returns\n",
      "    -------\n",
      "    masks: list of 2D arrays, or single 3D array (if do_3D=True)\n",
      "            labelled image, where 0=no masks; 1,2,...=mask labels\n",
      "    \n",
      "    flows: list of lists 2D arrays, or list of 3D arrays (if do_3D=True)\n",
      "        flows[k][0] = XY flow in HSV 0-255\n",
      "        flows[k][1] = XY flows at each pixel\n",
      "        flows[k][2] = cell probability (if > cellprob_threshold, pixel used for dynamics)\n",
      "        flows[k][3] = final pixel locations after Euler integration \n",
      "    \n",
      "    styles: list of 1D arrays of length 256, or single 1D array (if do_3D=True)\n",
      "        style vector summarizing each image, also used to estimate size of objects in image\n",
      "    \n",
      "    diams: list of diameters, or float (if do_3D=True)\n",
      "\n"
     ]
    }
   ],
   "source": [
    "help(model.eval)"
   ]
  },
  {
   "cell_type": "code",
   "execution_count": 46,
   "id": "c8b273f8",
   "metadata": {},
   "outputs": [
    {
     "name": "stderr",
     "output_type": "stream",
     "text": [
      "100%|██████████████████████████████████████████████████████████| 81/81 [04:33<00:00,  3.37s/it]\n"
     ]
    },
    {
     "name": "stdout",
     "output_type": "stream",
     "text": [
      "CPU times: user 4min 20s, sys: 22.4 s, total: 4min 42s\n",
      "Wall time: 4min 33s\n"
     ]
    }
   ],
   "source": [
    "%%time\n",
    "### define empty mask image array (as a list)\n",
    "mask_stack = list()\n",
    "### iterate over frames\n",
    "for n, frame in tqdm(enumerate(mask_input_channel), total = len(mask_input_channel)):\n",
    "    if start_frame < n < end_frame:\n",
    "        ### run segmentation for single frame\n",
    "        masks, flows, styles, diams = model.eval(frame, diameter=None, cellprob_threshold=3, flow_threshold=None, channels=channels, min_size=1000)\n",
    "    else:\n",
    "        # if beyond the focal range of the stack then just use blank array as masks\n",
    "        masks = np.zeros(frame.shape, dtype=np.uint16)\n",
    "    ### append segmentation results to empty to mask image list\n",
    "    mask_stack.append(masks)\n",
    "# turn mask stack into an image array\n",
    "mask_stack = np.stack(mask_stack, axis = 0)"
   ]
  },
  {
   "cell_type": "markdown",
   "id": "32514d1d",
   "metadata": {},
   "source": [
    "#### `bilayer:` Run limited scope segmentation"
   ]
  },
  {
   "cell_type": "code",
   "execution_count": null,
   "id": "c916d519",
   "metadata": {},
   "outputs": [],
   "source": [
    "%%time\n",
    "### define empty mask image array (as a list)\n",
    "mask_stack = list()\n",
    "### iterate over frames\n",
    "for n, frame in tqdm(enumerate(mask_input_channel), total = len(mask_input_channel)):\n",
    "    if start_frame < n < end_frame:\n",
    "        if n < transition_index:\n",
    "            ### run segmentation for apical side\n",
    "            masks, flows, styles, diams = model.eval(frame, \n",
    "                                                     diameter=None, \n",
    "                                                     flow_threshold=0.6, \n",
    "                                                     channels=[0,0], \n",
    "                                                     min_size=200, \n",
    "                                                     cellprob_threshold=1\n",
    "                                                    )\n",
    "            # binarise segmentation and set classID to 1\n",
    "            masks = tools.instance_to_semantic(masks)\n",
    "            # record apical diams avg\n",
    "            apical_diams+=diams\n",
    "            mean_apical_diam = apical_diams/n\n",
    "        else:\n",
    "            # if beyond transition frame then run basal model with larger \n",
    "            masks, flows, styles, diams = model.eval(frame, \n",
    "                                                     diameter=mean_apical_diam*diam_ratio, \n",
    "                                                     flow_threshold=0.6, \n",
    "                                                     channels=[0,0], \n",
    "                                                     min_size=1000, \n",
    "                                                     cellprob_threshold=0\n",
    "                                                    )\n",
    "            # binarise segmentation and set classID to 2\n",
    "            masks = tools.instance_to_semantic(masks) * 2\n",
    "    else:\n",
    "        # if beyond the focal range of the stack then just use blank array as masks\n",
    "        masks = np.zeros(frame.shape, dtype = np.uint16)\n",
    "    ### append segmentation results to empty to mask image list\n",
    "    mask_stack.append(masks)\n",
    "# turn mask stack into an image array\n",
    "mask_stack = np.stack(mask_stack, axis = 0)"
   ]
  },
  {
   "cell_type": "markdown",
   "id": "b52e4c4d",
   "metadata": {},
   "source": [
    "#### Optional mask clean up to remove small objects"
   ]
  },
  {
   "cell_type": "code",
   "execution_count": 13,
   "id": "4dd0d6f1",
   "metadata": {
    "scrolled": true
   },
   "outputs": [
    {
     "data": {
      "application/vnd.jupyter.widget-view+json": {
       "model_id": "acf1eaa19af6403195157179dad6b95b",
       "version_major": 2,
       "version_minor": 0
      },
      "text/plain": [
       "Iterating over frames:   0%|          | 0/303 [00:00<?, ?it/s]"
      ]
     },
     "metadata": {},
     "output_type": "display_data"
    }
   ],
   "source": [
    "mask_stack = tools.remove_small_segments(mask_stack, threshold_size=250)"
   ]
  },
  {
   "cell_type": "markdown",
   "id": "2603098e",
   "metadata": {},
   "source": [
    "#### View segmentation results in napari (optional)"
   ]
  },
  {
   "cell_type": "code",
   "execution_count": 13,
   "id": "36b89edd",
   "metadata": {
    "scrolled": true
   },
   "outputs": [
    {
     "data": {
      "text/plain": [
       "<Labels layer 'mask_stack' at 0x7f3ac1429f10>"
      ]
     },
     "execution_count": 13,
     "metadata": {},
     "output_type": "execute_result"
    }
   ],
   "source": [
    "viewer.add_labels(mask_stack)"
   ]
  },
  {
   "cell_type": "code",
   "execution_count": 49,
   "id": "0c3d710c-d27b-4db2-8926-b8a1e47ad7e5",
   "metadata": {},
   "outputs": [],
   "source": [
    "from skimage import io"
   ]
  },
  {
   "cell_type": "code",
   "execution_count": 50,
   "id": "fd87e58f-b2a3-4875-89ea-e33f8d1ed450",
   "metadata": {},
   "outputs": [
    {
     "name": "stderr",
     "output_type": "stream",
     "text": [
      "/tmp/ipykernel_74166/2470383139.py:1: UserWarning: zo1.tif is a low contrast image\n",
      "  io.imsave('zo1.tif', image[20,:,:,1])\n"
     ]
    }
   ],
   "source": [
    "io.imsave('zo1.tif', image[20,:,:,1])"
   ]
  },
  {
   "cell_type": "code",
   "execution_count": 47,
   "id": "d36e2e76-948d-48c7-a89b-3ed0df2f7937",
   "metadata": {},
   "outputs": [
    {
     "data": {
      "text/plain": [
       "<Image layer 'Image' at 0x7f3ac06dfdf0>"
      ]
     },
     "execution_count": 47,
     "metadata": {},
     "output_type": "execute_result"
    },
    {
     "name": "stderr",
     "output_type": "stream",
     "text": [
      "Traceback (most recent call last):\n",
      "  File \"src/psygnal/_signal.py\", line 927, in psygnal._signal.SignalInstance._run_emit_loop\n",
      "  File \"/home/dayn/miniconda3/envs/aero/lib/python3.9/site-packages/magicgui/widgets/_function_gui.py\", line 212, in _disable_button_and_call\n",
      "    self.__call__()\n",
      "  File \"/home/dayn/miniconda3/envs/aero/lib/python3.9/site-packages/magicgui/widgets/_function_gui.py\", line 324, in __call__\n",
      "    value = self._function(*bound.args, **bound.kwargs)\n",
      "  File \"/home/dayn/miniconda3/envs/aero/lib/python3.9/site-packages/napari_tools_menu/__init__.py\", line 103, in worker_func\n",
      "    data = func(*iargs, **ikwargs)\n",
      "  File \"/home/dayn/miniconda3/envs/aero/lib/python3.9/site-packages/napari_time_slicer/__init__.py\", line 61, in worker_function\n",
      "    result = function(*bound.args, **bound.kwargs)\n",
      "  File \"/home/dayn/miniconda3/envs/aero/lib/python3.9/site-packages/napari_simpleitk_image_processing/_simpleitk_image_processing.py\", line 52, in worker_function\n",
      "    result = function(*bound.args, **bound.kwargs)\n",
      "  File \"/home/dayn/miniconda3/envs/aero/lib/python3.9/site-packages/napari_simpleitk_image_processing/_simpleitk_image_processing.py\", line 489, in connected_component_labeling\n",
      "    return sitk.ConnectedComponent(binary_image)\n",
      "  File \"/home/dayn/miniconda3/envs/aero/lib/python3.9/site-packages/SimpleITK/SimpleITK.py\", line 18996, in ConnectedComponent\n",
      "    return _SimpleITK.ConnectedComponent(*args)\n",
      "TypeError: Wrong number or type of arguments for overloaded function 'ConnectedComponent'.\n",
      "  Possible C/C++ prototypes are:\n",
      "    itk::simple::ConnectedComponent(itk::simple::Image const &,itk::simple::Image const &,bool)\n",
      "    itk::simple::ConnectedComponent(itk::simple::Image const &,bool)\n",
      "\n",
      "\n",
      "The above exception was the direct cause of the following exception:\n",
      "\n",
      "Traceback (most recent call last):\n",
      "  File \"/home/dayn/miniconda3/envs/aero/lib/python3.9/site-packages/magicgui/widgets/_bases/value_widget.py\", line 57, in _on_value_change\n",
      "    self.changed.emit(value)\n",
      "  File \"src/psygnal/_signal.py\", line 864, in psygnal._signal.SignalInstance.emit\n",
      "  File \"src/psygnal/_signal.py\", line 906, in psygnal._signal.SignalInstance._run_emit_loop\n",
      "  File \"src/psygnal/_signal.py\", line 907, in psygnal._signal.SignalInstance._run_emit_loop\n",
      "  File \"src/psygnal/_signal.py\", line 929, in psygnal._signal.SignalInstance._run_emit_loop\n",
      "psygnal._signal.EmitLoopError: calling <function FunctionGui.__init__.<locals>._disable_button_and_call at 0x7f3ac04c1700> with args=() caused TypeError in emit loop.\n",
      "Traceback (most recent call last):\n",
      "  File \"/home/dayn/miniconda3/envs/aero/lib/python3.9/site-packages/napari_tools_menu/__init__.py\", line 125, in worker_func\n",
      "    target_layer = next(x for x in viewer.layers if x.source.widget is gui)\n",
      "StopIteration\n",
      "\n",
      "During handling of the above exception, another exception occurred:\n",
      "\n",
      "Traceback (most recent call last):\n",
      "  File \"src/psygnal/_signal.py\", line 927, in psygnal._signal.SignalInstance._run_emit_loop\n",
      "  File \"/home/dayn/miniconda3/envs/aero/lib/python3.9/site-packages/magicgui/widgets/_function_gui.py\", line 212, in _disable_button_and_call\n",
      "    self.__call__()\n",
      "  File \"/home/dayn/miniconda3/envs/aero/lib/python3.9/site-packages/magicgui/widgets/_function_gui.py\", line 324, in __call__\n",
      "    value = self._function(*bound.args, **bound.kwargs)\n",
      "  File \"/home/dayn/miniconda3/envs/aero/lib/python3.9/site-packages/napari_tools_menu/__init__.py\", line 139, in worker_func\n",
      "    target_layer = viewer.add_labels(data, name=new_name)\n",
      "  File \"/home/dayn/miniconda3/envs/aero/lib/python3.9/site-packages/napari/components/viewer_model.py\", line 4, in add_labels\n",
      "    import itertools\n",
      "  File \"/home/dayn/miniconda3/envs/aero/lib/python3.9/site-packages/napari/layers/labels/labels.py\", line 244, in __init__\n",
      "    data = self._ensure_int_labels(data)\n",
      "  File \"/home/dayn/miniconda3/envs/aero/lib/python3.9/site-packages/napari/layers/labels/labels.py\", line 554, in _ensure_int_labels\n",
      "    raise TypeError(\n",
      "TypeError: Only integer types are supported for Labels layers, but data contains float64.\n",
      "\n",
      "The above exception was the direct cause of the following exception:\n",
      "\n",
      "Traceback (most recent call last):\n",
      "  File \"/home/dayn/miniconda3/envs/aero/lib/python3.9/site-packages/magicgui/widgets/_bases/value_widget.py\", line 57, in _on_value_change\n",
      "    self.changed.emit(value)\n",
      "  File \"src/psygnal/_signal.py\", line 864, in psygnal._signal.SignalInstance.emit\n",
      "  File \"src/psygnal/_signal.py\", line 906, in psygnal._signal.SignalInstance._run_emit_loop\n",
      "  File \"src/psygnal/_signal.py\", line 907, in psygnal._signal.SignalInstance._run_emit_loop\n",
      "  File \"src/psygnal/_signal.py\", line 929, in psygnal._signal.SignalInstance._run_emit_loop\n",
      "psygnal._signal.EmitLoopError: calling <function FunctionGui.__init__.<locals>._disable_button_and_call at 0x7f3ab5e24790> with args=() caused TypeError in emit loop.\n",
      "Traceback (most recent call last):\n",
      "  File \"src/psygnal/_signal.py\", line 927, in psygnal._signal.SignalInstance._run_emit_loop\n",
      "  File \"/home/dayn/miniconda3/envs/aero/lib/python3.9/site-packages/magicgui/widgets/_function_gui.py\", line 212, in _disable_button_and_call\n",
      "    self.__call__()\n",
      "  File \"/home/dayn/miniconda3/envs/aero/lib/python3.9/site-packages/magicgui/widgets/_function_gui.py\", line 324, in __call__\n",
      "    value = self._function(*bound.args, **bound.kwargs)\n",
      "  File \"/home/dayn/miniconda3/envs/aero/lib/python3.9/site-packages/napari_tools_menu/__init__.py\", line 103, in worker_func\n",
      "    data = func(*iargs, **ikwargs)\n",
      "  File \"/home/dayn/miniconda3/envs/aero/lib/python3.9/site-packages/stackview/_static_view.py\", line 25, in worker_function\n",
      "    result = function(*args, **kwargs)\n",
      "  File \"/home/dayn/miniconda3/envs/aero/lib/python3.9/site-packages/napari_time_slicer/__init__.py\", line 61, in worker_function\n",
      "    result = function(*bound.args, **bound.kwargs)\n",
      "  File \"/home/dayn/miniconda3/envs/aero/lib/python3.9/site-packages/napari_segment_blobs_and_things_with_membranes/__init__.py\", line 258, in threshold_minimum\n",
      "    return image > filters.threshold_minimum(image)\n",
      "  File \"/home/dayn/miniconda3/envs/aero/lib/python3.9/site-packages/skimage/_shared/utils.py\", line 282, in fixed_func\n",
      "    return func(*args, **kwargs)\n",
      "  File \"/home/dayn/miniconda3/envs/aero/lib/python3.9/site-packages/skimage/filters/thresholding.py\", line 849, in threshold_minimum\n",
      "    raise RuntimeError('Unable to find two maxima in histogram')\n",
      "RuntimeError: Unable to find two maxima in histogram\n",
      "\n",
      "The above exception was the direct cause of the following exception:\n",
      "\n",
      "Traceback (most recent call last):\n",
      "  File \"/home/dayn/miniconda3/envs/aero/lib/python3.9/site-packages/magicgui/widgets/_bases/value_widget.py\", line 57, in _on_value_change\n",
      "    self.changed.emit(value)\n",
      "  File \"src/psygnal/_signal.py\", line 864, in psygnal._signal.SignalInstance.emit\n",
      "  File \"src/psygnal/_signal.py\", line 906, in psygnal._signal.SignalInstance._run_emit_loop\n",
      "  File \"src/psygnal/_signal.py\", line 907, in psygnal._signal.SignalInstance._run_emit_loop\n",
      "  File \"src/psygnal/_signal.py\", line 929, in psygnal._signal.SignalInstance._run_emit_loop\n",
      "psygnal._signal.EmitLoopError: calling <function FunctionGui.__init__.<locals>._disable_button_and_call at 0x7f3ab67c0550> with args=() caused RuntimeError in emit loop.\n"
     ]
    }
   ],
   "source": [
    "napari.Viewer(title = 'test segmenting single frame').add_image(image[20,:,:,1])"
   ]
  },
  {
   "cell_type": "code",
   "execution_count": 48,
   "id": "7bca0d14-bdb6-4537-8dd9-9ca8ec61d10d",
   "metadata": {},
   "outputs": [
    {
     "name": "stderr",
     "output_type": "stream",
     "text": [
      "Traceback (most recent call last):\n",
      "  File \"src/psygnal/_signal.py\", line 927, in psygnal._signal.SignalInstance._run_emit_loop\n",
      "  File \"/home/dayn/miniconda3/envs/aero/lib/python3.9/site-packages/magicgui/widgets/_function_gui.py\", line 212, in _disable_button_and_call\n",
      "    self.__call__()\n",
      "  File \"/home/dayn/miniconda3/envs/aero/lib/python3.9/site-packages/magicgui/widgets/_function_gui.py\", line 324, in __call__\n",
      "    value = self._function(*bound.args, **bound.kwargs)\n",
      "  File \"/home/dayn/miniconda3/envs/aero/lib/python3.9/site-packages/napari_tools_menu/__init__.py\", line 103, in worker_func\n",
      "    data = func(*iargs, **ikwargs)\n",
      "  File \"/home/dayn/miniconda3/envs/aero/lib/python3.9/site-packages/stackview/_static_view.py\", line 25, in worker_function\n",
      "    result = function(*args, **kwargs)\n",
      "  File \"/home/dayn/miniconda3/envs/aero/lib/python3.9/site-packages/napari_time_slicer/__init__.py\", line 61, in worker_function\n",
      "    result = function(*bound.args, **bound.kwargs)\n",
      "  File \"/home/dayn/miniconda3/envs/aero/lib/python3.9/site-packages/napari_segment_blobs_and_things_with_membranes/__init__.py\", line 258, in threshold_minimum\n",
      "    return image > filters.threshold_minimum(image)\n",
      "  File \"/home/dayn/miniconda3/envs/aero/lib/python3.9/site-packages/skimage/_shared/utils.py\", line 282, in fixed_func\n",
      "    return func(*args, **kwargs)\n",
      "  File \"/home/dayn/miniconda3/envs/aero/lib/python3.9/site-packages/skimage/filters/thresholding.py\", line 849, in threshold_minimum\n",
      "    raise RuntimeError('Unable to find two maxima in histogram')\n",
      "RuntimeError: Unable to find two maxima in histogram\n",
      "\n",
      "The above exception was the direct cause of the following exception:\n",
      "\n",
      "Traceback (most recent call last):\n",
      "  File \"/home/dayn/miniconda3/envs/aero/lib/python3.9/site-packages/magicgui/widgets/_bases/value_widget.py\", line 57, in _on_value_change\n",
      "    self.changed.emit(value)\n",
      "  File \"src/psygnal/_signal.py\", line 864, in psygnal._signal.SignalInstance.emit\n",
      "  File \"src/psygnal/_signal.py\", line 906, in psygnal._signal.SignalInstance._run_emit_loop\n",
      "  File \"src/psygnal/_signal.py\", line 907, in psygnal._signal.SignalInstance._run_emit_loop\n",
      "  File \"src/psygnal/_signal.py\", line 929, in psygnal._signal.SignalInstance._run_emit_loop\n",
      "psygnal._signal.EmitLoopError: calling <function FunctionGui.__init__.<locals>._disable_button_and_call at 0x7f3ab67c0550> with args=() caused RuntimeError in emit loop.\n"
     ]
    }
   ],
   "source": [
    "from skimage.measure import regionprops"
   ]
  },
  {
   "cell_type": "code",
   "execution_count": 30,
   "id": "bfaf4f17-f52c-4544-84a1-b2e622396b23",
   "metadata": {},
   "outputs": [
    {
     "name": "stderr",
     "output_type": "stream",
     "text": [
      "Processing d: 100%|██████████████████████████████████████████████| 4/4 [00:01<00:00,  3.92it/s]\n"
     ]
    }
   ],
   "source": [
    "pbar = tqdm([\"a\", \"b\", \"c\", \"d\"])\n",
    "for char in pbar:\n",
    "    time.sleep(0.25)\n",
    "    pbar.set_description(\"Processing %s\" % char)"
   ]
  },
  {
   "cell_type": "code",
   "execution_count": 32,
   "id": "ff1d1a68-9e7f-4b59-98e2-b0c7956bc7f2",
   "metadata": {
    "scrolled": true
   },
   "outputs": [
    {
     "name": "stderr",
     "output_type": "stream",
     "text": [
      "  0%|                                                                   | 0/81 [00:00<?, ?it/s]/home/dayn/miniconda3/envs/aero/lib/python3.9/site-packages/numpy/core/fromnumeric.py:3474: RuntimeWarning: Mean of empty slice.\n",
      "  return _methods._mean(a, axis=axis, dtype=dtype,\n",
      "/home/dayn/miniconda3/envs/aero/lib/python3.9/site-packages/numpy/core/_methods.py:189: RuntimeWarning: invalid value encountered in double_scalars\n",
      "  ret = ret.dtype.type(ret / rcount)\n",
      "/home/dayn/miniconda3/envs/aero/lib/python3.9/site-packages/numpy/core/fromnumeric.py:3474: RuntimeWarning: Mean of empty slice.\n",
      "  return _methods._mean(a, axis=axis, dtype=dtype,\n",
      "/home/dayn/miniconda3/envs/aero/lib/python3.9/site-packages/numpy/core/_methods.py:189: RuntimeWarning: invalid value encountered in double_scalars\n",
      "  ret = ret.dtype.type(ret / rcount)\n",
      "  2%|█▍                                                         | 2/81 [00:00<00:04, 19.43it/s]/home/dayn/miniconda3/envs/aero/lib/python3.9/site-packages/numpy/core/fromnumeric.py:3474: RuntimeWarning: Mean of empty slice.\n",
      "  return _methods._mean(a, axis=axis, dtype=dtype,\n",
      "/home/dayn/miniconda3/envs/aero/lib/python3.9/site-packages/numpy/core/_methods.py:189: RuntimeWarning: invalid value encountered in double_scalars\n",
      "  ret = ret.dtype.type(ret / rcount)\n",
      "/home/dayn/miniconda3/envs/aero/lib/python3.9/site-packages/numpy/core/fromnumeric.py:3474: RuntimeWarning: Mean of empty slice.\n",
      "  return _methods._mean(a, axis=axis, dtype=dtype,\n",
      "/home/dayn/miniconda3/envs/aero/lib/python3.9/site-packages/numpy/core/_methods.py:189: RuntimeWarning: invalid value encountered in double_scalars\n",
      "  ret = ret.dtype.type(ret / rcount)\n",
      "  6%|███▋                                                       | 5/81 [00:00<00:03, 24.32it/s]/home/dayn/miniconda3/envs/aero/lib/python3.9/site-packages/numpy/core/fromnumeric.py:3474: RuntimeWarning: Mean of empty slice.\n",
      "  return _methods._mean(a, axis=axis, dtype=dtype,\n",
      "/home/dayn/miniconda3/envs/aero/lib/python3.9/site-packages/numpy/core/_methods.py:189: RuntimeWarning: invalid value encountered in double_scalars\n",
      "  ret = ret.dtype.type(ret / rcount)\n",
      "/home/dayn/miniconda3/envs/aero/lib/python3.9/site-packages/numpy/core/fromnumeric.py:3474: RuntimeWarning: Mean of empty slice.\n",
      "  return _methods._mean(a, axis=axis, dtype=dtype,\n",
      "/home/dayn/miniconda3/envs/aero/lib/python3.9/site-packages/numpy/core/_methods.py:189: RuntimeWarning: invalid value encountered in double_scalars\n",
      "  ret = ret.dtype.type(ret / rcount)\n",
      " 10%|█████▊                                                     | 8/81 [00:00<00:02, 24.42it/s]/home/dayn/miniconda3/envs/aero/lib/python3.9/site-packages/numpy/core/fromnumeric.py:3474: RuntimeWarning: Mean of empty slice.\n",
      "  return _methods._mean(a, axis=axis, dtype=dtype,\n",
      "/home/dayn/miniconda3/envs/aero/lib/python3.9/site-packages/numpy/core/_methods.py:189: RuntimeWarning: invalid value encountered in double_scalars\n",
      "  ret = ret.dtype.type(ret / rcount)\n",
      "/home/dayn/miniconda3/envs/aero/lib/python3.9/site-packages/numpy/core/fromnumeric.py:3474: RuntimeWarning: Mean of empty slice.\n",
      "  return _methods._mean(a, axis=axis, dtype=dtype,\n",
      "/home/dayn/miniconda3/envs/aero/lib/python3.9/site-packages/numpy/core/_methods.py:189: RuntimeWarning: invalid value encountered in double_scalars\n",
      "  ret = ret.dtype.type(ret / rcount)\n",
      "/home/dayn/miniconda3/envs/aero/lib/python3.9/site-packages/numpy/core/fromnumeric.py:3474: RuntimeWarning: Mean of empty slice.\n",
      "  return _methods._mean(a, axis=axis, dtype=dtype,\n",
      "/home/dayn/miniconda3/envs/aero/lib/python3.9/site-packages/numpy/core/_methods.py:189: RuntimeWarning: invalid value encountered in double_scalars\n",
      "  ret = ret.dtype.type(ret / rcount)\n",
      "/home/dayn/miniconda3/envs/aero/lib/python3.9/site-packages/numpy/core/fromnumeric.py:3474: RuntimeWarning: Mean of empty slice.\n",
      "  return _methods._mean(a, axis=axis, dtype=dtype,\n",
      "/home/dayn/miniconda3/envs/aero/lib/python3.9/site-packages/numpy/core/_methods.py:189: RuntimeWarning: invalid value encountered in double_scalars\n",
      "  ret = ret.dtype.type(ret / rcount)\n",
      " 15%|████████▌                                                 | 12/81 [00:00<00:02, 27.38it/s]/home/dayn/miniconda3/envs/aero/lib/python3.9/site-packages/numpy/core/fromnumeric.py:3474: RuntimeWarning: Mean of empty slice.\n",
      "  return _methods._mean(a, axis=axis, dtype=dtype,\n",
      "/home/dayn/miniconda3/envs/aero/lib/python3.9/site-packages/numpy/core/_methods.py:189: RuntimeWarning: invalid value encountered in double_scalars\n",
      "  ret = ret.dtype.type(ret / rcount)\n",
      "/home/dayn/miniconda3/envs/aero/lib/python3.9/site-packages/numpy/core/fromnumeric.py:3474: RuntimeWarning: Mean of empty slice.\n",
      "  return _methods._mean(a, axis=axis, dtype=dtype,\n",
      "/home/dayn/miniconda3/envs/aero/lib/python3.9/site-packages/numpy/core/_methods.py:189: RuntimeWarning: invalid value encountered in double_scalars\n",
      "  ret = ret.dtype.type(ret / rcount)\n",
      " 19%|██████████▋                                               | 15/81 [00:00<00:02, 25.70it/s]/home/dayn/miniconda3/envs/aero/lib/python3.9/site-packages/numpy/core/fromnumeric.py:3474: RuntimeWarning: Mean of empty slice.\n",
      "  return _methods._mean(a, axis=axis, dtype=dtype,\n",
      "/home/dayn/miniconda3/envs/aero/lib/python3.9/site-packages/numpy/core/_methods.py:189: RuntimeWarning: invalid value encountered in double_scalars\n",
      "  ret = ret.dtype.type(ret / rcount)\n",
      "/home/dayn/miniconda3/envs/aero/lib/python3.9/site-packages/numpy/core/fromnumeric.py:3474: RuntimeWarning: Mean of empty slice.\n",
      "  return _methods._mean(a, axis=axis, dtype=dtype,\n",
      "/home/dayn/miniconda3/envs/aero/lib/python3.9/site-packages/numpy/core/_methods.py:189: RuntimeWarning: invalid value encountered in double_scalars\n",
      "  ret = ret.dtype.type(ret / rcount)\n",
      " 22%|████████████▉                                             | 18/81 [00:00<00:02, 23.21it/s]/home/dayn/miniconda3/envs/aero/lib/python3.9/site-packages/numpy/core/fromnumeric.py:3474: RuntimeWarning: Mean of empty slice.\n",
      "  return _methods._mean(a, axis=axis, dtype=dtype,\n",
      "/home/dayn/miniconda3/envs/aero/lib/python3.9/site-packages/numpy/core/_methods.py:189: RuntimeWarning: invalid value encountered in double_scalars\n",
      "  ret = ret.dtype.type(ret / rcount)\n",
      "/home/dayn/miniconda3/envs/aero/lib/python3.9/site-packages/numpy/core/fromnumeric.py:3474: RuntimeWarning: Mean of empty slice.\n",
      "  return _methods._mean(a, axis=axis, dtype=dtype,\n",
      "/home/dayn/miniconda3/envs/aero/lib/python3.9/site-packages/numpy/core/_methods.py:189: RuntimeWarning: invalid value encountered in double_scalars\n",
      "  ret = ret.dtype.type(ret / rcount)\n",
      " 26%|███████████████                                           | 21/81 [00:00<00:02, 22.36it/s]/home/dayn/miniconda3/envs/aero/lib/python3.9/site-packages/numpy/core/fromnumeric.py:3474: RuntimeWarning: Mean of empty slice.\n",
      "  return _methods._mean(a, axis=axis, dtype=dtype,\n",
      "/home/dayn/miniconda3/envs/aero/lib/python3.9/site-packages/numpy/core/_methods.py:189: RuntimeWarning: invalid value encountered in double_scalars\n",
      "  ret = ret.dtype.type(ret / rcount)\n",
      "/home/dayn/miniconda3/envs/aero/lib/python3.9/site-packages/numpy/core/fromnumeric.py:3474: RuntimeWarning: Mean of empty slice.\n",
      "  return _methods._mean(a, axis=axis, dtype=dtype,\n",
      "/home/dayn/miniconda3/envs/aero/lib/python3.9/site-packages/numpy/core/fromnumeric.py:3474: RuntimeWarning: Mean of empty slice.\n",
      "  return _methods._mean(a, axis=axis, dtype=dtype,\n",
      "/home/dayn/miniconda3/envs/aero/lib/python3.9/site-packages/numpy/core/_methods.py:189: RuntimeWarning: invalid value encountered in double_scalars\n",
      "  ret = ret.dtype.type(ret / rcount)\n",
      " 30%|█████████████████▏                                        | 24/81 [00:01<00:02, 21.80it/s]/home/dayn/miniconda3/envs/aero/lib/python3.9/site-packages/numpy/core/fromnumeric.py:3474: RuntimeWarning: Mean of empty slice.\n",
      "  return _methods._mean(a, axis=axis, dtype=dtype,\n",
      "/home/dayn/miniconda3/envs/aero/lib/python3.9/site-packages/numpy/core/_methods.py:189: RuntimeWarning: invalid value encountered in double_scalars\n",
      "  ret = ret.dtype.type(ret / rcount)\n",
      "/home/dayn/miniconda3/envs/aero/lib/python3.9/site-packages/numpy/core/fromnumeric.py:3474: RuntimeWarning: Mean of empty slice.\n",
      "  return _methods._mean(a, axis=axis, dtype=dtype,\n",
      "/home/dayn/miniconda3/envs/aero/lib/python3.9/site-packages/numpy/core/_methods.py:189: RuntimeWarning: invalid value encountered in double_scalars\n",
      "  ret = ret.dtype.type(ret / rcount)\n",
      " 35%|████████████████████                                      | 28/81 [00:01<00:02, 25.03it/s]/home/dayn/miniconda3/envs/aero/lib/python3.9/site-packages/numpy/core/fromnumeric.py:3474: RuntimeWarning: Mean of empty slice.\n",
      "  return _methods._mean(a, axis=axis, dtype=dtype,\n",
      "/home/dayn/miniconda3/envs/aero/lib/python3.9/site-packages/numpy/core/_methods.py:189: RuntimeWarning: invalid value encountered in double_scalars\n",
      "  ret = ret.dtype.type(ret / rcount)\n",
      "/home/dayn/miniconda3/envs/aero/lib/python3.9/site-packages/numpy/core/fromnumeric.py:3474: RuntimeWarning: Mean of empty slice.\n",
      "  return _methods._mean(a, axis=axis, dtype=dtype,\n",
      "/home/dayn/miniconda3/envs/aero/lib/python3.9/site-packages/numpy/core/_methods.py:189: RuntimeWarning: invalid value encountered in double_scalars\n",
      "  ret = ret.dtype.type(ret / rcount)\n",
      " 56%|████████████████████████████████▏                         | 45/81 [00:04<00:07,  4.88it/s]/home/dayn/miniconda3/envs/aero/lib/python3.9/site-packages/numpy/core/fromnumeric.py:3474: RuntimeWarning: Mean of empty slice.\n",
      "  return _methods._mean(a, axis=axis, dtype=dtype,\n",
      "/home/dayn/miniconda3/envs/aero/lib/python3.9/site-packages/numpy/core/_methods.py:189: RuntimeWarning: invalid value encountered in double_scalars\n",
      "  ret = ret.dtype.type(ret / rcount)\n",
      "/home/dayn/miniconda3/envs/aero/lib/python3.9/site-packages/numpy/core/fromnumeric.py:3474: RuntimeWarning: Mean of empty slice.\n",
      "  return _methods._mean(a, axis=axis, dtype=dtype,\n",
      "/home/dayn/miniconda3/envs/aero/lib/python3.9/site-packages/numpy/core/_methods.py:189: RuntimeWarning: invalid value encountered in double_scalars\n",
      "  ret = ret.dtype.type(ret / rcount)\n",
      " 59%|██████████████████████████████████▎                       | 48/81 [00:04<00:04,  7.69it/s]/home/dayn/miniconda3/envs/aero/lib/python3.9/site-packages/numpy/core/fromnumeric.py:3474: RuntimeWarning: Mean of empty slice.\n",
      "  return _methods._mean(a, axis=axis, dtype=dtype,\n",
      "/home/dayn/miniconda3/envs/aero/lib/python3.9/site-packages/numpy/core/_methods.py:189: RuntimeWarning: invalid value encountered in double_scalars\n",
      "  ret = ret.dtype.type(ret / rcount)\n",
      "/home/dayn/miniconda3/envs/aero/lib/python3.9/site-packages/numpy/core/fromnumeric.py:3474: RuntimeWarning: Mean of empty slice.\n",
      "  return _methods._mean(a, axis=axis, dtype=dtype,\n",
      "/home/dayn/miniconda3/envs/aero/lib/python3.9/site-packages/numpy/core/_methods.py:189: RuntimeWarning: invalid value encountered in double_scalars\n",
      "  ret = ret.dtype.type(ret / rcount)\n",
      " 63%|████████████████████████████████████▌                     | 51/81 [00:04<00:02, 10.54it/s]/home/dayn/miniconda3/envs/aero/lib/python3.9/site-packages/numpy/core/fromnumeric.py:3474: RuntimeWarning: Mean of empty slice.\n",
      "  return _methods._mean(a, axis=axis, dtype=dtype,\n",
      "/home/dayn/miniconda3/envs/aero/lib/python3.9/site-packages/numpy/core/_methods.py:189: RuntimeWarning: invalid value encountered in double_scalars\n",
      "  ret = ret.dtype.type(ret / rcount)\n",
      "/home/dayn/miniconda3/envs/aero/lib/python3.9/site-packages/numpy/core/fromnumeric.py:3474: RuntimeWarning: Mean of empty slice.\n",
      "  return _methods._mean(a, axis=axis, dtype=dtype,\n",
      "/home/dayn/miniconda3/envs/aero/lib/python3.9/site-packages/numpy/core/_methods.py:189: RuntimeWarning: invalid value encountered in double_scalars\n",
      "  ret = ret.dtype.type(ret / rcount)\n",
      " 67%|██████████████████████████████████████▋                   | 54/81 [00:04<00:02, 13.35it/s]/home/dayn/miniconda3/envs/aero/lib/python3.9/site-packages/numpy/core/fromnumeric.py:3474: RuntimeWarning: Mean of empty slice.\n",
      "  return _methods._mean(a, axis=axis, dtype=dtype,\n",
      "/home/dayn/miniconda3/envs/aero/lib/python3.9/site-packages/numpy/core/_methods.py:189: RuntimeWarning: invalid value encountered in double_scalars\n",
      "  ret = ret.dtype.type(ret / rcount)\n",
      "/home/dayn/miniconda3/envs/aero/lib/python3.9/site-packages/numpy/core/fromnumeric.py:3474: RuntimeWarning: Mean of empty slice.\n",
      "  return _methods._mean(a, axis=axis, dtype=dtype,\n",
      "/home/dayn/miniconda3/envs/aero/lib/python3.9/site-packages/numpy/core/_methods.py:189: RuntimeWarning: invalid value encountered in double_scalars\n",
      "  ret = ret.dtype.type(ret / rcount)\n",
      " 70%|████████████████████████████████████████▊                 | 57/81 [00:04<00:01, 16.32it/s]/home/dayn/miniconda3/envs/aero/lib/python3.9/site-packages/numpy/core/fromnumeric.py:3474: RuntimeWarning: Mean of empty slice.\n",
      "  return _methods._mean(a, axis=axis, dtype=dtype,\n",
      "/home/dayn/miniconda3/envs/aero/lib/python3.9/site-packages/numpy/core/_methods.py:189: RuntimeWarning: invalid value encountered in double_scalars\n",
      "  ret = ret.dtype.type(ret / rcount)\n",
      "/home/dayn/miniconda3/envs/aero/lib/python3.9/site-packages/numpy/core/fromnumeric.py:3474: RuntimeWarning: Mean of empty slice.\n",
      "  return _methods._mean(a, axis=axis, dtype=dtype,\n",
      "/home/dayn/miniconda3/envs/aero/lib/python3.9/site-packages/numpy/core/_methods.py:189: RuntimeWarning: invalid value encountered in double_scalars\n",
      "  ret = ret.dtype.type(ret / rcount)\n",
      " 75%|███████████████████████████████████████████▋              | 61/81 [00:04<00:00, 20.87it/s]/home/dayn/miniconda3/envs/aero/lib/python3.9/site-packages/numpy/core/fromnumeric.py:3474: RuntimeWarning: Mean of empty slice.\n",
      "  return _methods._mean(a, axis=axis, dtype=dtype,\n",
      "/home/dayn/miniconda3/envs/aero/lib/python3.9/site-packages/numpy/core/_methods.py:189: RuntimeWarning: invalid value encountered in double_scalars\n",
      "  ret = ret.dtype.type(ret / rcount)\n",
      " 79%|█████████████████████████████████████████████▊            | 64/81 [00:04<00:00, 21.91it/s]/home/dayn/miniconda3/envs/aero/lib/python3.9/site-packages/numpy/core/fromnumeric.py:3474: RuntimeWarning: Mean of empty slice.\n",
      "  return _methods._mean(a, axis=axis, dtype=dtype,\n",
      "/home/dayn/miniconda3/envs/aero/lib/python3.9/site-packages/numpy/core/_methods.py:189: RuntimeWarning: invalid value encountered in double_scalars\n",
      "  ret = ret.dtype.type(ret / rcount)\n",
      "/home/dayn/miniconda3/envs/aero/lib/python3.9/site-packages/numpy/core/fromnumeric.py:3474: RuntimeWarning: Mean of empty slice.\n",
      "  return _methods._mean(a, axis=axis, dtype=dtype,\n",
      "/home/dayn/miniconda3/envs/aero/lib/python3.9/site-packages/numpy/core/_methods.py:189: RuntimeWarning: invalid value encountered in double_scalars\n",
      "  ret = ret.dtype.type(ret / rcount)\n",
      "/home/dayn/miniconda3/envs/aero/lib/python3.9/site-packages/numpy/core/fromnumeric.py:3474: RuntimeWarning: Mean of empty slice.\n",
      "  return _methods._mean(a, axis=axis, dtype=dtype,\n",
      "/home/dayn/miniconda3/envs/aero/lib/python3.9/site-packages/numpy/core/_methods.py:189: RuntimeWarning: invalid value encountered in double_scalars\n",
      "  ret = ret.dtype.type(ret / rcount)\n",
      " 84%|████████████████████████████████████████████████▋         | 68/81 [00:04<00:00, 25.63it/s]/home/dayn/miniconda3/envs/aero/lib/python3.9/site-packages/numpy/core/fromnumeric.py:3474: RuntimeWarning: Mean of empty slice.\n",
      "  return _methods._mean(a, axis=axis, dtype=dtype,\n",
      "/home/dayn/miniconda3/envs/aero/lib/python3.9/site-packages/numpy/core/_methods.py:189: RuntimeWarning: invalid value encountered in double_scalars\n",
      "  ret = ret.dtype.type(ret / rcount)\n",
      "/home/dayn/miniconda3/envs/aero/lib/python3.9/site-packages/numpy/core/fromnumeric.py:3474: RuntimeWarning: Mean of empty slice.\n",
      "  return _methods._mean(a, axis=axis, dtype=dtype,\n",
      "/home/dayn/miniconda3/envs/aero/lib/python3.9/site-packages/numpy/core/_methods.py:189: RuntimeWarning: invalid value encountered in double_scalars\n",
      "  ret = ret.dtype.type(ret / rcount)\n",
      " 88%|██████████████████████████████████████████████████▊       | 71/81 [00:05<00:00, 25.09it/s]/home/dayn/miniconda3/envs/aero/lib/python3.9/site-packages/numpy/core/fromnumeric.py:3474: RuntimeWarning: Mean of empty slice.\n",
      "  return _methods._mean(a, axis=axis, dtype=dtype,\n",
      "/home/dayn/miniconda3/envs/aero/lib/python3.9/site-packages/numpy/core/_methods.py:189: RuntimeWarning: invalid value encountered in double_scalars\n",
      "  ret = ret.dtype.type(ret / rcount)\n",
      "/home/dayn/miniconda3/envs/aero/lib/python3.9/site-packages/numpy/core/fromnumeric.py:3474: RuntimeWarning: Mean of empty slice.\n",
      "  return _methods._mean(a, axis=axis, dtype=dtype,\n",
      "/home/dayn/miniconda3/envs/aero/lib/python3.9/site-packages/numpy/core/_methods.py:189: RuntimeWarning: invalid value encountered in double_scalars\n",
      "  ret = ret.dtype.type(ret / rcount)\n",
      "/home/dayn/miniconda3/envs/aero/lib/python3.9/site-packages/numpy/core/fromnumeric.py:3474: RuntimeWarning: Mean of empty slice.\n",
      "  return _methods._mean(a, axis=axis, dtype=dtype,\n",
      "/home/dayn/miniconda3/envs/aero/lib/python3.9/site-packages/numpy/core/_methods.py:189: RuntimeWarning: invalid value encountered in double_scalars\n",
      "  ret = ret.dtype.type(ret / rcount)\n",
      " 91%|████████████████████████████████████████████████████▉     | 74/81 [00:05<00:00, 22.98it/s]/home/dayn/miniconda3/envs/aero/lib/python3.9/site-packages/numpy/core/fromnumeric.py:3474: RuntimeWarning: Mean of empty slice.\n",
      "  return _methods._mean(a, axis=axis, dtype=dtype,\n",
      "/home/dayn/miniconda3/envs/aero/lib/python3.9/site-packages/numpy/core/_methods.py:189: RuntimeWarning: invalid value encountered in double_scalars\n",
      "  ret = ret.dtype.type(ret / rcount)\n",
      "/home/dayn/miniconda3/envs/aero/lib/python3.9/site-packages/numpy/core/fromnumeric.py:3474: RuntimeWarning: Mean of empty slice.\n",
      "  return _methods._mean(a, axis=axis, dtype=dtype,\n",
      "/home/dayn/miniconda3/envs/aero/lib/python3.9/site-packages/numpy/core/_methods.py:189: RuntimeWarning: invalid value encountered in double_scalars\n",
      "  ret = ret.dtype.type(ret / rcount)\n",
      " 95%|███████████████████████████████████████████████████████▏  | 77/81 [00:05<00:00, 22.59it/s]/home/dayn/miniconda3/envs/aero/lib/python3.9/site-packages/numpy/core/fromnumeric.py:3474: RuntimeWarning: Mean of empty slice.\n",
      "  return _methods._mean(a, axis=axis, dtype=dtype,\n",
      "/home/dayn/miniconda3/envs/aero/lib/python3.9/site-packages/numpy/core/_methods.py:189: RuntimeWarning: invalid value encountered in double_scalars\n",
      "  ret = ret.dtype.type(ret / rcount)\n",
      "/home/dayn/miniconda3/envs/aero/lib/python3.9/site-packages/numpy/core/fromnumeric.py:3474: RuntimeWarning: Mean of empty slice.\n",
      "  return _methods._mean(a, axis=axis, dtype=dtype,\n",
      "/home/dayn/miniconda3/envs/aero/lib/python3.9/site-packages/numpy/core/_methods.py:189: RuntimeWarning: invalid value encountered in double_scalars\n",
      "  ret = ret.dtype.type(ret / rcount)\n",
      " 99%|█████████████████████████████████████████████████████████▎| 80/81 [00:05<00:00, 21.49it/s]/home/dayn/miniconda3/envs/aero/lib/python3.9/site-packages/numpy/core/fromnumeric.py:3474: RuntimeWarning: Mean of empty slice.\n",
      "  return _methods._mean(a, axis=axis, dtype=dtype,\n",
      "/home/dayn/miniconda3/envs/aero/lib/python3.9/site-packages/numpy/core/_methods.py:189: RuntimeWarning: invalid value encountered in double_scalars\n",
      "  ret = ret.dtype.type(ret / rcount)\n",
      "                                                                                               \r"
     ]
    }
   ],
   "source": [
    "areas = list()\n",
    "for frame in tqdm(mask_stack, leave = False):\n",
    "    props = regionprops(frame)\n",
    "    mean_area = np.mean([prop.area for prop in props])\n",
    "    areas.append(mean_area)\n",
    "    "
   ]
  },
  {
   "cell_type": "code",
   "execution_count": 33,
   "id": "cb2f71a8-8d6f-4956-8345-f69d866658bc",
   "metadata": {},
   "outputs": [],
   "source": [
    "import seaborn as sns"
   ]
  },
  {
   "cell_type": "code",
   "execution_count": null,
   "id": "c3b81a17-eee7-4c76-a52b-dee9b8a85e83",
   "metadata": {},
   "outputs": [],
   "source": []
  },
  {
   "cell_type": "code",
   "execution_count": 39,
   "id": "229c17c9-c6bb-40ef-bfcb-e175cc7b6409",
   "metadata": {},
   "outputs": [
    {
     "data": {
      "text/plain": [
       "array([  0.        ,   0.        ,   0.        ,   0.        ,\n",
       "         0.        ,   0.        ,   0.        ,   0.        ,\n",
       "         0.        ,   0.        ,   0.        ,   0.        ,\n",
       "         0.        ,   0.        ,   0.        ,   0.        ,\n",
       "         0.        ,   0.        ,   0.        ,   0.        ,\n",
       "         0.        ,   0.        ,   0.        ,   0.        ,\n",
       "         0.        ,   0.        ,   0.        ,   0.        ,\n",
       "         0.        ,   0.        ,   0.        , 776.73874725,\n",
       "       775.22390413, 767.27828267, 773.10850254, 779.82142857,\n",
       "       778.18492717, 784.07124682, 798.1912516 , 804.96253602,\n",
       "       819.09438858, 822.82288557, 817.48837993, 828.4380021 ,\n",
       "       835.13986784,   0.        ,   0.        ,   0.        ,\n",
       "         0.        ,   0.        ,   0.        ,   0.        ,\n",
       "         0.        ,   0.        ,   0.        ,   0.        ,\n",
       "         0.        ,   0.        ,   0.        ,   0.        ,\n",
       "         0.        ,   0.        ,   0.        ,   0.        ,\n",
       "         0.        ,   0.        ,   0.        ,   0.        ,\n",
       "         0.        ,   0.        ,   0.        ,   0.        ,\n",
       "         0.        ,   0.        ,   0.        ,   0.        ,\n",
       "         0.        ,   0.        ,   0.        ,   0.        ,\n",
       "         0.        ])"
      ]
     },
     "execution_count": 39,
     "metadata": {},
     "output_type": "execute_result"
    }
   ],
   "source": [
    "np.nan_to_num(areas)"
   ]
  },
  {
   "cell_type": "code",
   "execution_count": 41,
   "id": "76148c9c-3eff-4433-80ae-57dd8fba8758",
   "metadata": {},
   "outputs": [],
   "source": [
    "import matplotlib.pyplot as plt"
   ]
  },
  {
   "cell_type": "code",
   "execution_count": 42,
   "id": "8fcc16bd-216f-494c-9f3e-1c4f0c7e6373",
   "metadata": {},
   "outputs": [
    {
     "data": {
      "text/plain": [
       "[<matplotlib.lines.Line2D at 0x7f3abd398cd0>]"
      ]
     },
     "execution_count": 42,
     "metadata": {},
     "output_type": "execute_result"
    },
    {
     "data": {
      "image/png": "[encoded data removed]",
      "text/plain": [
       "<Figure size 640x480 with 1 Axes>"
      ]
     },
     "metadata": {},
     "output_type": "display_data"
    }
   ],
   "source": [
    "plt.plot(np.nan_to_num(areas))"
   ]
  },
  {
   "cell_type": "code",
   "execution_count": 43,
   "id": "e7f2cc7f-5a42-4d6c-ba69-c939324ff802",
   "metadata": {},
   "outputs": [
    {
     "data": {
      "text/plain": [
       "[<matplotlib.lines.Line2D at 0x7f3abd3a6220>]"
      ]
     },
     "execution_count": 43,
     "metadata": {},
     "output_type": "execute_result"
    },
    {
     "data": {
      "image/png": "[encoded data removed]",
      "text/plain": [
       "<Figure size 640x480 with 1 Axes>"
      ]
     },
     "metadata": {},
     "output_type": "display_data"
    }
   ],
   "source": [
    "plt.plot([776.73874725,\n",
    "       775.22390413, 767.27828267, 773.10850254, 779.82142857,\n",
    "       778.18492717, 784.07124682, 798.1912516 , 804.96253602,\n",
    "       819.09438858, 822.82288557, 817.48837993, 828.4380021 ,\n",
    "       835.13986784,])"
   ]
  },
  {
   "cell_type": "markdown",
   "id": "e4ec7059",
   "metadata": {},
   "source": [
    "## 3. Localise objects (cells) prior to uniting them over Z-volume"
   ]
  },
  {
   "cell_type": "code",
   "execution_count": 15,
   "id": "24d12bf2",
   "metadata": {},
   "outputs": [],
   "source": [
    "props = ('axis_major_length', # first define some cell properties \n",
    "         'axis_minor_length', # this helps improve the tracking\n",
    "         'eccentricity',      # by comparing similarities between slices/frames\n",
    "         'area', \n",
    "         'orientation',\n",
    "         'mean_intensity', \n",
    "         'intensity_image')"
   ]
  },
  {
   "cell_type": "code",
   "execution_count": 16,
   "id": "5821958b",
   "metadata": {},
   "outputs": [
    {
     "name": "stderr",
     "output_type": "stream",
     "text": [
      "[INFO][2023/08/01 12:19:03 pm] Localizing objects from segmentation...\n",
      "01-Aug-23 12:19:03 - btrack.io._localization - INFO     - Localizing objects from segmentation...\n",
      "  1%|▍                                                         | 2/303 [00:00<00:29, 10.33it/s]<__array_function__ internals>:180: VisibleDeprecationWarning: Creating an ndarray from ragged nested sequences (which is a list-or-tuple of lists-or-tuples-or ndarrays with different lengths or shapes) is deprecated. If you meant to do this, you must specify 'dtype=object' when creating the ndarray.\n",
      "100%|████████████████████████████████████████████████████████| 303/303 [00:50<00:00,  6.05it/s]\n",
      "[INFO][2023/08/01 12:19:53 pm] Objects are of type: <class 'dict'>\n",
      "01-Aug-23 12:19:53 - btrack.io.utils - INFO     - Objects are of type: <class 'dict'>\n",
      "[INFO][2023/08/01 12:19:54 pm] ...Found 31136 objects in 231 frames.\n",
      "01-Aug-23 12:19:54 - btrack.io._localization - INFO     - ...Found 31136 objects in 231 frames.\n"
     ]
    },
    {
     "name": "stdout",
     "output_type": "stream",
     "text": [
      "31136 cell objects found in 303 frames/z-slices\n",
      "CPU times: user 50.7 s, sys: 339 ms, total: 51.1 s\n",
      "Wall time: 50.7 s\n"
     ]
    }
   ],
   "source": [
    "%%time\n",
    "objects = btrack.utils.segmentation_to_objects(\n",
    "            segmentation = mask_stack, # set the masks here \n",
    "            intensity_image = image, # provide the image so that the mean intensity can be measured\n",
    "            properties = props, # provide the cell properties to improve tracker \n",
    "            use_weighted_centroid = False, \n",
    "            assign_class_ID=False,\n",
    "            )\n",
    "\n",
    "print(f'{len(objects)} cell objects found in {len(mask_input_channel)} frames/z-slices')"
   ]
  },
  {
   "cell_type": "code",
   "execution_count": 17,
   "id": "808cafb8",
   "metadata": {},
   "outputs": [
    {
     "data": {
      "application/vnd.jupyter.widget-view+json": {
       "model_id": "713e909e4ca74d4fb5d103f8f04deb7e",
       "version_major": 2,
       "version_minor": 0
      },
      "text/plain": [
       "  0%|          | 0/31136 [00:00<?, ?it/s]"
      ]
     },
     "metadata": {},
     "output_type": "display_data"
    }
   ],
   "source": [
    "# check if mtb infected above threshold\n",
    "threshold = 230\n",
    "for o in tqdm(objects):\n",
    "    mtb_glimpse = o.properties['intensity_image'][...,3]\n",
    "    mtb_status = np.any(mtb_glimpse > threshold)\n",
    "    mtb_area = np.sum(mtb_glimpse > threshold)\n",
    "    o.properties['mtb_status'] = mtb_status\n",
    "    o.properties['mtb_area'] = mtb_area\n",
    "    del o.properties['intensity_image']"
   ]
  },
  {
   "cell_type": "markdown",
   "id": "93e554de",
   "metadata": {},
   "source": [
    "Check that a single-cell object has the correct properties"
   ]
  },
  {
   "cell_type": "code",
   "execution_count": 18,
   "id": "f609997c",
   "metadata": {},
   "outputs": [
    {
     "data": {
      "text/html": [
       "<table border=\"1\" class=\"dataframe\">\n",
       "  <thead>\n",
       "    <tr style=\"text-align: right;\">\n",
       "      <th></th>\n",
       "      <th>ID</th>\n",
       "      <th>x</th>\n",
       "      <th>y</th>\n",
       "      <th>z</th>\n",
       "      <th>t</th>\n",
       "      <th>dummy</th>\n",
       "      <th>states</th>\n",
       "      <th>label</th>\n",
       "      <th>axis_major_length</th>\n",
       "      <th>axis_minor_length</th>\n",
       "      <th>eccentricity</th>\n",
       "      <th>area</th>\n",
       "      <th>orientation</th>\n",
       "      <th>mean_intensity</th>\n",
       "      <th>class_id</th>\n",
       "      <th>mtb_status</th>\n",
       "      <th>mtb_area</th>\n",
       "    </tr>\n",
       "  </thead>\n",
       "  <tbody>\n",
       "    <tr>\n",
       "      <th>0</th>\n",
       "      <td>0</td>\n",
       "      <td>1089.22479</td>\n",
       "      <td>15.502101</td>\n",
       "      <td>0.0</td>\n",
       "      <td>1</td>\n",
       "      <td>False</td>\n",
       "      <td>7</td>\n",
       "      <td>5</td>\n",
       "      <td>38.333195</td>\n",
       "      <td>18.341567</td>\n",
       "      <td>0.8781</td>\n",
       "      <td>476</td>\n",
       "      <td>-1.196987</td>\n",
       "      <td>(4,) array</td>\n",
       "      <td>1.0</td>\n",
       "      <td>False</td>\n",
       "      <td>0</td>\n",
       "    </tr>\n",
       "  </tbody>\n",
       "</table>"
      ],
      "text/plain": [
       "{'ID': 0, 'x': 1089.2247899159663, 'y': 15.502100840336135, 'z': 0.0, 't': 1, 'dummy': False, 'states': 7, 'label': 5, 'axis_major_length': 38.33319456654163, 'axis_minor_length': 18.341567484567186, 'eccentricity': 0.8780998646680713, 'area': 476, 'orientation': -1.1969870133810494, 'mean_intensity': array([158.28361345, 103.04831933, 104.75840336, 112.36344538]), 'class_id': 1.0, 'mtb_status': False, 'mtb_area': 0}"
      ]
     },
     "execution_count": 18,
     "metadata": {},
     "output_type": "execute_result"
    }
   ],
   "source": [
    "objects[0]"
   ]
  },
  {
   "cell_type": "markdown",
   "id": "2317d36a",
   "metadata": {},
   "source": [
    "Filter for area if you want"
   ]
  },
  {
   "cell_type": "code",
   "execution_count": 19,
   "id": "520f7abc",
   "metadata": {},
   "outputs": [],
   "source": [
    "objects = [o for o in objects if o.properties['area'] > 500]"
   ]
  },
  {
   "cell_type": "markdown",
   "id": "0a3a55bc",
   "metadata": {},
   "source": [
    "## 4. Unite/track single-cell objects over whole image stack\n"
   ]
  },
  {
   "cell_type": "code",
   "execution_count": 20,
   "id": "a52a9c59",
   "metadata": {},
   "outputs": [],
   "source": [
    "# remove intensity image from properties\n",
    "props = ('axis_major_length',\n",
    "         'axis_minor_length',\n",
    "         'eccentricity',\n",
    "         'area',\n",
    "         'orientation',\n",
    "         'mean_intensity')"
   ]
  },
  {
   "cell_type": "code",
   "execution_count": 21,
   "id": "a28d425b",
   "metadata": {},
   "outputs": [
    {
     "name": "stderr",
     "output_type": "stream",
     "text": [
      "[INFO][2023/08/01 12:19:55 pm] Loaded btrack: /home/dayn/analysis/btrack/btrack/libs/libtracker.so\n",
      "01-Aug-23 12:19:55 - btrack.libwrapper - INFO     - Loaded btrack: /home/dayn/analysis/btrack/btrack/libs/libtracker.so\n",
      "[INFO][2023/08/01 12:19:55 pm] Starting BayesianTracker session\n",
      "01-Aug-23 12:19:55 - btrack.core - INFO     - Starting BayesianTracker session\n",
      "[INFO][2023/08/01 12:19:55 pm] Loading configuration file: /home/dayn/analysis/btrack/models/particle_config.json\n",
      "01-Aug-23 12:19:55 - btrack.config - INFO     - Loading configuration file: /home/dayn/analysis/btrack/models/particle_config.json\n",
      "[INFO][2023/08/01 12:19:55 pm] Objects are of type: <class 'list'>\n",
      "01-Aug-23 12:19:55 - btrack.io.utils - INFO     - Objects are of type: <class 'list'>\n",
      "[INFO][2023/08/01 12:19:56 pm] Starting tracking... \n",
      "01-Aug-23 12:19:56 - btrack.core - INFO     - Starting tracking... \n",
      "[INFO][2023/08/01 12:19:56 pm] Update using: ['VISUAL', 'MOTION']\n",
      "01-Aug-23 12:19:56 - btrack.core - INFO     - Update using: ['VISUAL', 'MOTION']\n",
      "[INFO][2023/08/01 12:19:56 pm] Tracking objects in frames 0 to 9 (of 231)...\n",
      "01-Aug-23 12:19:56 - btrack.core - INFO     - Tracking objects in frames 0 to 9 (of 231)...\n",
      "[INFO][2023/08/01 12:19:56 pm]  - Timing (Bayesian updates: 0.02ms, Linking: 0.10ms)\n",
      "01-Aug-23 12:19:56 - btrack.utils - INFO     -  - Timing (Bayesian updates: 0.02ms, Linking: 0.10ms)\n",
      "[INFO][2023/08/01 12:19:56 pm]  - Probabilities (Link: 1.00000, Lost: 1.00000)\n",
      "01-Aug-23 12:19:56 - btrack.utils - INFO     -  - Probabilities (Link: 1.00000, Lost: 1.00000)\n",
      "[INFO][2023/08/01 12:19:56 pm]  - Stats (Active: 22, Lost: 231, Conflicts resolved: 40)\n",
      "01-Aug-23 12:19:56 - btrack.utils - INFO     -  - Stats (Active: 22, Lost: 231, Conflicts resolved: 40)\n",
      "[INFO][2023/08/01 12:19:56 pm] Tracking objects in frames 10 to 19 (of 231)...\n",
      "01-Aug-23 12:19:56 - btrack.core - INFO     - Tracking objects in frames 10 to 19 (of 231)...\n",
      "[INFO][2023/08/01 12:19:56 pm]  - Timing (Bayesian updates: 0.09ms, Linking: 0.20ms)\n",
      "01-Aug-23 12:19:56 - btrack.utils - INFO     -  - Timing (Bayesian updates: 0.09ms, Linking: 0.20ms)\n",
      "[INFO][2023/08/01 12:19:56 pm]  - Probabilities (Link: 1.00000, Lost: 1.00000)\n",
      "01-Aug-23 12:19:56 - btrack.utils - INFO     -  - Probabilities (Link: 1.00000, Lost: 1.00000)\n",
      "[INFO][2023/08/01 12:19:56 pm]  - Stats (Active: 30, Lost: 330, Conflicts resolved: 87)\n",
      "01-Aug-23 12:19:56 - btrack.utils - INFO     -  - Stats (Active: 30, Lost: 330, Conflicts resolved: 87)\n",
      "[INFO][2023/08/01 12:19:56 pm] Tracking objects in frames 20 to 29 (of 231)...\n",
      "01-Aug-23 12:19:56 - btrack.core - INFO     - Tracking objects in frames 20 to 29 (of 231)...\n",
      "[INFO][2023/08/01 12:19:56 pm]  - Timing (Bayesian updates: 0.05ms, Linking: 0.14ms)\n",
      "01-Aug-23 12:19:56 - btrack.utils - INFO     -  - Timing (Bayesian updates: 0.05ms, Linking: 0.14ms)\n",
      "[INFO][2023/08/01 12:19:56 pm]  - Probabilities (Link: 0.99998, Lost: 0.99992)\n",
      "01-Aug-23 12:19:56 - btrack.utils - INFO     -  - Probabilities (Link: 0.99998, Lost: 0.99992)\n",
      "[INFO][2023/08/01 12:19:56 pm]  - Stats (Active: 31, Lost: 468, Conflicts resolved: 127)\n",
      "01-Aug-23 12:19:56 - btrack.utils - INFO     -  - Stats (Active: 31, Lost: 468, Conflicts resolved: 127)\n",
      "[INFO][2023/08/01 12:19:56 pm] Tracking objects in frames 30 to 39 (of 231)...\n",
      "01-Aug-23 12:19:56 - btrack.core - INFO     - Tracking objects in frames 30 to 39 (of 231)...\n",
      "[INFO][2023/08/01 12:19:56 pm]  - Timing (Bayesian updates: 0.17ms, Linking: 0.29ms)\n",
      "01-Aug-23 12:19:56 - btrack.utils - INFO     -  - Timing (Bayesian updates: 0.17ms, Linking: 0.29ms)\n",
      "[INFO][2023/08/01 12:19:56 pm]  - Probabilities (Link: 1.00000, Lost: 1.00000)\n",
      "01-Aug-23 12:19:56 - btrack.utils - INFO     -  - Probabilities (Link: 1.00000, Lost: 1.00000)\n",
      "[INFO][2023/08/01 12:19:56 pm]  - Stats (Active: 50, Lost: 612, Conflicts resolved: 187)\n",
      "01-Aug-23 12:19:56 - btrack.utils - INFO     -  - Stats (Active: 50, Lost: 612, Conflicts resolved: 187)\n",
      "[INFO][2023/08/01 12:19:56 pm] Tracking objects in frames 40 to 49 (of 231)...\n",
      "01-Aug-23 12:19:56 - btrack.core - INFO     - Tracking objects in frames 40 to 49 (of 231)...\n",
      "[INFO][2023/08/01 12:19:56 pm]  - Timing (Bayesian updates: 0.16ms, Linking: 0.25ms)\n",
      "01-Aug-23 12:19:56 - btrack.utils - INFO     -  - Timing (Bayesian updates: 0.16ms, Linking: 0.25ms)\n",
      "[INFO][2023/08/01 12:19:56 pm]  - Probabilities (Link: 1.00000, Lost: 1.00000)\n",
      "01-Aug-23 12:19:56 - btrack.utils - INFO     -  - Probabilities (Link: 1.00000, Lost: 1.00000)\n",
      "[INFO][2023/08/01 12:19:56 pm]  - Stats (Active: 46, Lost: 782, Conflicts resolved: 250)\n",
      "01-Aug-23 12:19:56 - btrack.utils - INFO     -  - Stats (Active: 46, Lost: 782, Conflicts resolved: 250)\n",
      "[INFO][2023/08/01 12:19:56 pm] Tracking objects in frames 50 to 59 (of 231)...\n",
      "01-Aug-23 12:19:56 - btrack.core - INFO     - Tracking objects in frames 50 to 59 (of 231)...\n",
      "[INFO][2023/08/01 12:19:56 pm]  - Timing (Bayesian updates: 0.12ms, Linking: 0.23ms)\n",
      "01-Aug-23 12:19:56 - btrack.utils - INFO     -  - Timing (Bayesian updates: 0.12ms, Linking: 0.23ms)\n",
      "[INFO][2023/08/01 12:19:56 pm]  - Probabilities (Link: 1.00000, Lost: 1.00000)\n",
      "01-Aug-23 12:19:56 - btrack.utils - INFO     -  - Probabilities (Link: 1.00000, Lost: 1.00000)\n",
      "[INFO][2023/08/01 12:19:56 pm]  - Stats (Active: 48, Lost: 926, Conflicts resolved: 329)\n",
      "01-Aug-23 12:19:56 - btrack.utils - INFO     -  - Stats (Active: 48, Lost: 926, Conflicts resolved: 329)\n",
      "[INFO][2023/08/01 12:19:56 pm] Tracking objects in frames 60 to 69 (of 231)...\n",
      "01-Aug-23 12:19:56 - btrack.core - INFO     - Tracking objects in frames 60 to 69 (of 231)...\n",
      "[INFO][2023/08/01 12:19:56 pm]  - Timing (Bayesian updates: 0.16ms, Linking: 0.24ms)\n",
      "01-Aug-23 12:19:56 - btrack.utils - INFO     -  - Timing (Bayesian updates: 0.16ms, Linking: 0.24ms)\n",
      "[INFO][2023/08/01 12:19:56 pm]  - Probabilities (Link: 1.00000, Lost: 1.00000)\n",
      "01-Aug-23 12:19:56 - btrack.utils - INFO     -  - Probabilities (Link: 1.00000, Lost: 1.00000)\n",
      "[INFO][2023/08/01 12:19:56 pm]  - Stats (Active: 42, Lost: 1040, Conflicts resolved: 383)\n",
      "01-Aug-23 12:19:56 - btrack.utils - INFO     -  - Stats (Active: 42, Lost: 1040, Conflicts resolved: 383)\n",
      "[INFO][2023/08/01 12:19:56 pm] Tracking objects in frames 70 to 79 (of 231)...\n",
      "01-Aug-23 12:19:56 - btrack.core - INFO     - Tracking objects in frames 70 to 79 (of 231)...\n",
      "[INFO][2023/08/01 12:19:56 pm]  - Timing (Bayesian updates: 0.28ms, Linking: 0.30ms)\n",
      "01-Aug-23 12:19:56 - btrack.utils - INFO     -  - Timing (Bayesian updates: 0.28ms, Linking: 0.30ms)\n",
      "[INFO][2023/08/01 12:19:56 pm]  - Probabilities (Link: 1.00000, Lost: 1.00000)\n",
      "01-Aug-23 12:19:56 - btrack.utils - INFO     -  - Probabilities (Link: 1.00000, Lost: 1.00000)\n",
      "[INFO][2023/08/01 12:19:56 pm]  - Stats (Active: 55, Lost: 1235, Conflicts resolved: 472)\n",
      "01-Aug-23 12:19:56 - btrack.utils - INFO     -  - Stats (Active: 55, Lost: 1235, Conflicts resolved: 472)\n",
      "[INFO][2023/08/01 12:19:56 pm] Tracking objects in frames 80 to 89 (of 231)...\n",
      "01-Aug-23 12:19:56 - btrack.core - INFO     - Tracking objects in frames 80 to 89 (of 231)...\n",
      "[INFO][2023/08/01 12:19:56 pm]  - Timing (Bayesian updates: 0.22ms, Linking: 0.22ms)\n",
      "01-Aug-23 12:19:56 - btrack.utils - INFO     -  - Timing (Bayesian updates: 0.22ms, Linking: 0.22ms)\n",
      "[INFO][2023/08/01 12:19:56 pm]  - Probabilities (Link: 1.00000, Lost: 1.00000)\n",
      "01-Aug-23 12:19:56 - btrack.utils - INFO     -  - Probabilities (Link: 1.00000, Lost: 1.00000)\n",
      "[INFO][2023/08/01 12:19:56 pm]  - Stats (Active: 50, Lost: 1423, Conflicts resolved: 551)\n",
      "01-Aug-23 12:19:56 - btrack.utils - INFO     -  - Stats (Active: 50, Lost: 1423, Conflicts resolved: 551)\n",
      "[INFO][2023/08/01 12:19:56 pm] Tracking objects in frames 90 to 99 (of 231)...\n",
      "01-Aug-23 12:19:56 - btrack.core - INFO     - Tracking objects in frames 90 to 99 (of 231)...\n",
      "[INFO][2023/08/01 12:19:56 pm]  - Timing (Bayesian updates: 0.35ms, Linking: 0.39ms)\n",
      "01-Aug-23 12:19:56 - btrack.utils - INFO     -  - Timing (Bayesian updates: 0.35ms, Linking: 0.39ms)\n",
      "[INFO][2023/08/01 12:19:56 pm]  - Probabilities (Link: 1.00000, Lost: 1.00000)\n",
      "01-Aug-23 12:19:56 - btrack.utils - INFO     -  - Probabilities (Link: 1.00000, Lost: 1.00000)\n",
      "[INFO][2023/08/01 12:19:56 pm]  - Stats (Active: 53, Lost: 1600, Conflicts resolved: 622)\n",
      "01-Aug-23 12:19:56 - btrack.utils - INFO     -  - Stats (Active: 53, Lost: 1600, Conflicts resolved: 622)\n"
     ]
    },
    {
     "name": "stderr",
     "output_type": "stream",
     "text": [
      "[INFO][2023/08/01 12:19:56 pm] Tracking objects in frames 100 to 109 (of 231)...\n",
      "01-Aug-23 12:19:56 - btrack.core - INFO     - Tracking objects in frames 100 to 109 (of 231)...\n",
      "[INFO][2023/08/01 12:19:56 pm]  - Timing (Bayesian updates: 1.23ms, Linking: 0.52ms)\n",
      "01-Aug-23 12:19:56 - btrack.utils - INFO     -  - Timing (Bayesian updates: 1.23ms, Linking: 0.52ms)\n",
      "[INFO][2023/08/01 12:19:56 pm]  - Probabilities (Link: 1.00000, Lost: 1.00000)\n",
      "01-Aug-23 12:19:56 - btrack.utils - INFO     -  - Probabilities (Link: 1.00000, Lost: 1.00000)\n",
      "[INFO][2023/08/01 12:19:56 pm]  - Stats (Active: 102, Lost: 1730, Conflicts resolved: 737)\n",
      "01-Aug-23 12:19:56 - btrack.utils - INFO     -  - Stats (Active: 102, Lost: 1730, Conflicts resolved: 737)\n",
      "[INFO][2023/08/01 12:19:56 pm] Tracking objects in frames 110 to 119 (of 231)...\n",
      "01-Aug-23 12:19:56 - btrack.core - INFO     - Tracking objects in frames 110 to 119 (of 231)...\n",
      "[INFO][2023/08/01 12:19:56 pm]  - Timing (Bayesian updates: 0.94ms, Linking: 0.42ms)\n",
      "01-Aug-23 12:19:56 - btrack.utils - INFO     -  - Timing (Bayesian updates: 0.94ms, Linking: 0.42ms)\n",
      "[INFO][2023/08/01 12:19:56 pm]  - Probabilities (Link: 1.00000, Lost: 1.00000)\n",
      "01-Aug-23 12:19:56 - btrack.utils - INFO     -  - Probabilities (Link: 1.00000, Lost: 1.00000)\n",
      "[INFO][2023/08/01 12:19:56 pm]  - Stats (Active: 110, Lost: 1890, Conflicts resolved: 881)\n",
      "01-Aug-23 12:19:56 - btrack.utils - INFO     -  - Stats (Active: 110, Lost: 1890, Conflicts resolved: 881)\n",
      "[INFO][2023/08/01 12:19:56 pm] Tracking objects in frames 120 to 129 (of 231)...\n",
      "01-Aug-23 12:19:56 - btrack.core - INFO     - Tracking objects in frames 120 to 129 (of 231)...\n",
      "[INFO][2023/08/01 12:19:56 pm]  - Timing (Bayesian updates: 0.94ms, Linking: 0.41ms)\n",
      "01-Aug-23 12:19:56 - btrack.utils - INFO     -  - Timing (Bayesian updates: 0.94ms, Linking: 0.41ms)\n",
      "[INFO][2023/08/01 12:19:56 pm]  - Probabilities (Link: 1.00000, Lost: 1.00000)\n",
      "01-Aug-23 12:19:56 - btrack.utils - INFO     -  - Probabilities (Link: 1.00000, Lost: 1.00000)\n",
      "[INFO][2023/08/01 12:19:56 pm]  - Stats (Active: 129, Lost: 2152, Conflicts resolved: 1082)\n",
      "01-Aug-23 12:19:56 - btrack.utils - INFO     -  - Stats (Active: 129, Lost: 2152, Conflicts resolved: 1082)\n",
      "[INFO][2023/08/01 12:19:56 pm] Tracking objects in frames 130 to 139 (of 231)...\n",
      "01-Aug-23 12:19:56 - btrack.core - INFO     - Tracking objects in frames 130 to 139 (of 231)...\n",
      "[INFO][2023/08/01 12:19:56 pm]  - Timing (Bayesian updates: 0.74ms, Linking: 0.34ms)\n",
      "01-Aug-23 12:19:56 - btrack.utils - INFO     -  - Timing (Bayesian updates: 0.74ms, Linking: 0.34ms)\n",
      "[INFO][2023/08/01 12:19:56 pm]  - Probabilities (Link: 1.00000, Lost: 1.00000)\n",
      "01-Aug-23 12:19:56 - btrack.utils - INFO     -  - Probabilities (Link: 1.00000, Lost: 1.00000)\n",
      "[INFO][2023/08/01 12:19:56 pm]  - Stats (Active: 98, Lost: 2444, Conflicts resolved: 1251)\n",
      "01-Aug-23 12:19:56 - btrack.utils - INFO     -  - Stats (Active: 98, Lost: 2444, Conflicts resolved: 1251)\n",
      "[INFO][2023/08/01 12:19:56 pm] Tracking objects in frames 140 to 149 (of 231)...\n",
      "01-Aug-23 12:19:56 - btrack.core - INFO     - Tracking objects in frames 140 to 149 (of 231)...\n",
      "[INFO][2023/08/01 12:19:56 pm]  - Timing (Bayesian updates: 2.52ms, Linking: 0.54ms)\n",
      "01-Aug-23 12:19:56 - btrack.utils - INFO     -  - Timing (Bayesian updates: 2.52ms, Linking: 0.54ms)\n",
      "[INFO][2023/08/01 12:19:56 pm]  - Probabilities (Link: 1.00000, Lost: 0.99816)\n",
      "01-Aug-23 12:19:56 - btrack.utils - INFO     -  - Probabilities (Link: 1.00000, Lost: 0.99816)\n",
      "[INFO][2023/08/01 12:19:56 pm]  - Stats (Active: 186, Lost: 2741, Conflicts resolved: 1508)\n",
      "01-Aug-23 12:19:56 - btrack.utils - INFO     -  - Stats (Active: 186, Lost: 2741, Conflicts resolved: 1508)\n",
      "[INFO][2023/08/01 12:19:56 pm] Tracking objects in frames 150 to 159 (of 231)...\n",
      "01-Aug-23 12:19:56 - btrack.core - INFO     - Tracking objects in frames 150 to 159 (of 231)...\n",
      "[INFO][2023/08/01 12:19:56 pm]  - Timing (Bayesian updates: 6.61ms, Linking: 0.88ms)\n",
      "01-Aug-23 12:19:56 - btrack.utils - INFO     -  - Timing (Bayesian updates: 6.61ms, Linking: 0.88ms)\n",
      "[INFO][2023/08/01 12:19:56 pm]  - Probabilities (Link: 1.00000, Lost: 1.00000)\n",
      "01-Aug-23 12:19:56 - btrack.utils - INFO     -  - Probabilities (Link: 1.00000, Lost: 1.00000)\n",
      "[INFO][2023/08/01 12:19:56 pm]  - Stats (Active: 226, Lost: 3044, Conflicts resolved: 1788)\n",
      "01-Aug-23 12:19:56 - btrack.utils - INFO     -  - Stats (Active: 226, Lost: 3044, Conflicts resolved: 1788)\n",
      "[INFO][2023/08/01 12:19:56 pm] Tracking objects in frames 160 to 169 (of 231)...\n",
      "01-Aug-23 12:19:56 - btrack.core - INFO     - Tracking objects in frames 160 to 169 (of 231)...\n",
      "[INFO][2023/08/01 12:19:57 pm]  - Timing (Bayesian updates: 14.60ms, Linking: 1.23ms)\n",
      "01-Aug-23 12:19:57 - btrack.utils - INFO     -  - Timing (Bayesian updates: 14.60ms, Linking: 1.23ms)\n",
      "[INFO][2023/08/01 12:19:57 pm]  - Probabilities (Link: 1.00000, Lost: 1.00000)\n",
      "01-Aug-23 12:19:57 - btrack.utils - INFO     -  - Probabilities (Link: 1.00000, Lost: 1.00000)\n",
      "[INFO][2023/08/01 12:19:57 pm]  - Stats (Active: 337, Lost: 3454, Conflicts resolved: 2281)\n",
      "01-Aug-23 12:19:57 - btrack.utils - INFO     -  - Stats (Active: 337, Lost: 3454, Conflicts resolved: 2281)\n",
      "[INFO][2023/08/01 12:19:57 pm] Tracking objects in frames 170 to 179 (of 231)...\n",
      "01-Aug-23 12:19:57 - btrack.core - INFO     - Tracking objects in frames 170 to 179 (of 231)...\n",
      "[INFO][2023/08/01 12:19:58 pm]  - Timing (Bayesian updates: 48.55ms, Linking: 2.67ms)\n",
      "01-Aug-23 12:19:58 - btrack.utils - INFO     -  - Timing (Bayesian updates: 48.55ms, Linking: 2.67ms)\n",
      "[INFO][2023/08/01 12:19:58 pm]  - Probabilities (Link: 1.00000, Lost: 1.00000)\n",
      "01-Aug-23 12:19:58 - btrack.utils - INFO     -  - Probabilities (Link: 1.00000, Lost: 1.00000)\n",
      "[INFO][2023/08/01 12:19:58 pm]  - Stats (Active: 521, Lost: 3976, Conflicts resolved: 2900)\n",
      "01-Aug-23 12:19:58 - btrack.utils - INFO     -  - Stats (Active: 521, Lost: 3976, Conflicts resolved: 2900)\n",
      "[INFO][2023/08/01 12:19:58 pm] Tracking objects in frames 180 to 189 (of 231)...\n",
      "01-Aug-23 12:19:58 - btrack.core - INFO     - Tracking objects in frames 180 to 189 (of 231)...\n",
      "[INFO][2023/08/01 12:19:59 pm]  - Timing (Bayesian updates: 24.20ms, Linking: 1.83ms)\n",
      "01-Aug-23 12:19:59 - btrack.utils - INFO     -  - Timing (Bayesian updates: 24.20ms, Linking: 1.83ms)\n",
      "[INFO][2023/08/01 12:19:59 pm]  - Probabilities (Link: 0.86372, Lost: 0.99990)\n",
      "01-Aug-23 12:19:59 - btrack.utils - INFO     -  - Probabilities (Link: 0.86372, Lost: 0.99990)\n",
      "[INFO][2023/08/01 12:19:59 pm]  - Stats (Active: 428, Lost: 4606, Conflicts resolved: 3656)\n",
      "01-Aug-23 12:19:59 - btrack.utils - INFO     -  - Stats (Active: 428, Lost: 4606, Conflicts resolved: 3656)\n",
      "[INFO][2023/08/01 12:19:59 pm] Tracking objects in frames 190 to 199 (of 231)...\n",
      "01-Aug-23 12:19:59 - btrack.core - INFO     - Tracking objects in frames 190 to 199 (of 231)...\n",
      "[INFO][2023/08/01 12:20:00 pm]  - Timing (Bayesian updates: 3.16ms, Linking: 0.74ms)\n",
      "01-Aug-23 12:20:00 - btrack.utils - INFO     -  - Timing (Bayesian updates: 3.16ms, Linking: 0.74ms)\n",
      "[INFO][2023/08/01 12:20:00 pm]  - Probabilities (Link: 1.00000, Lost: 0.99931)\n",
      "01-Aug-23 12:20:00 - btrack.utils - INFO     -  - Probabilities (Link: 1.00000, Lost: 0.99931)\n",
      "[INFO][2023/08/01 12:20:00 pm]  - Stats (Active: 233, Lost: 5581, Conflicts resolved: 4211)\n",
      "01-Aug-23 12:20:00 - btrack.utils - INFO     -  - Stats (Active: 233, Lost: 5581, Conflicts resolved: 4211)\n",
      "[INFO][2023/08/01 12:20:00 pm] Tracking objects in frames 200 to 209 (of 231)...\n",
      "01-Aug-23 12:20:00 - btrack.core - INFO     - Tracking objects in frames 200 to 209 (of 231)...\n",
      "[INFO][2023/08/01 12:20:00 pm]  - Timing (Bayesian updates: 1.34ms, Linking: 0.49ms)\n",
      "01-Aug-23 12:20:00 - btrack.utils - INFO     -  - Timing (Bayesian updates: 1.34ms, Linking: 0.49ms)\n",
      "[INFO][2023/08/01 12:20:00 pm]  - Probabilities (Link: 1.00000, Lost: 1.00000)\n",
      "01-Aug-23 12:20:00 - btrack.utils - INFO     -  - Probabilities (Link: 1.00000, Lost: 1.00000)\n",
      "[INFO][2023/08/01 12:20:00 pm]  - Stats (Active: 187, Lost: 6138, Conflicts resolved: 4564)\n",
      "01-Aug-23 12:20:00 - btrack.utils - INFO     -  - Stats (Active: 187, Lost: 6138, Conflicts resolved: 4564)\n",
      "[INFO][2023/08/01 12:20:00 pm] Tracking objects in frames 210 to 219 (of 231)...\n",
      "01-Aug-23 12:20:00 - btrack.core - INFO     - Tracking objects in frames 210 to 219 (of 231)...\n"
     ]
    },
    {
     "name": "stderr",
     "output_type": "stream",
     "text": [
      "[INFO][2023/08/01 12:20:00 pm]  - Timing (Bayesian updates: 0.20ms, Linking: 0.25ms)\n",
      "01-Aug-23 12:20:00 - btrack.utils - INFO     -  - Timing (Bayesian updates: 0.20ms, Linking: 0.25ms)\n",
      "[INFO][2023/08/01 12:20:00 pm]  - Probabilities (Link: 0.67955, Lost: 1.00000)\n",
      "01-Aug-23 12:20:00 - btrack.utils - INFO     -  - Probabilities (Link: 0.67955, Lost: 1.00000)\n",
      "[INFO][2023/08/01 12:20:00 pm]  - Stats (Active: 92, Lost: 6776, Conflicts resolved: 4745)\n",
      "01-Aug-23 12:20:00 - btrack.utils - INFO     -  - Stats (Active: 92, Lost: 6776, Conflicts resolved: 4745)\n",
      "[INFO][2023/08/01 12:20:00 pm] Tracking objects in frames 220 to 229 (of 231)...\n",
      "01-Aug-23 12:20:00 - btrack.core - INFO     - Tracking objects in frames 220 to 229 (of 231)...\n",
      "[INFO][2023/08/01 12:20:00 pm]  - Timing (Bayesian updates: 0.04ms, Linking: 0.14ms)\n",
      "01-Aug-23 12:20:00 - btrack.utils - INFO     -  - Timing (Bayesian updates: 0.04ms, Linking: 0.14ms)\n",
      "[INFO][2023/08/01 12:20:00 pm]  - Probabilities (Link: 0.99987, Lost: 1.00000)\n",
      "01-Aug-23 12:20:00 - btrack.utils - INFO     -  - Probabilities (Link: 0.99987, Lost: 1.00000)\n",
      "[INFO][2023/08/01 12:20:00 pm] SUCCESS.\n",
      "01-Aug-23 12:20:00 - btrack.core - INFO     - SUCCESS.\n",
      "[INFO][2023/08/01 12:20:00 pm]  - Found 3621 tracks in 231 frames (in 0.0s)\n",
      "01-Aug-23 12:20:00 - btrack.core - INFO     -  - Found 3621 tracks in 231 frames (in 0.0s)\n",
      "[INFO][2023/08/01 12:20:00 pm]  - Inserted 1143 dummy objects to fill tracking gaps\n",
      "01-Aug-23 12:20:00 - btrack.core - INFO     -  - Inserted 1143 dummy objects to fill tracking gaps\n",
      "[INFO][2023/08/01 12:20:00 pm] Loading hypothesis model: particle_hypothesis\n",
      "01-Aug-23 12:20:00 - btrack.core - INFO     - Loading hypothesis model: particle_hypothesis\n",
      "[INFO][2023/08/01 12:20:00 pm] Calculating hypotheses (relax: True)...\n",
      "01-Aug-23 12:20:00 - btrack.core - INFO     - Calculating hypotheses (relax: True)...\n",
      "[INFO][2023/08/01 12:20:00 pm] Setting up constraints matrix for global optimisation...\n",
      "01-Aug-23 12:20:00 - btrack.optimise.optimiser - INFO     - Setting up constraints matrix for global optimisation...\n",
      "[INFO][2023/08/01 12:20:00 pm] Using GLPK options: {'tm_lim': 60000}...\n",
      "01-Aug-23 12:20:00 - btrack.optimise.optimiser - INFO     - Using GLPK options: {'tm_lim': 60000}...\n",
      "[INFO][2023/08/01 12:20:00 pm] Optimizing...\n",
      "01-Aug-23 12:20:00 - btrack.optimise.optimiser - INFO     - Optimizing...\n",
      "[INFO][2023/08/01 12:20:01 pm] Optimization complete. (Solution: optimal)\n",
      "01-Aug-23 12:20:01 - btrack.optimise.optimiser - INFO     - Optimization complete. (Solution: optimal)\n",
      "[INFO][2023/08/01 12:20:01 pm]  - Fates.FALSE_POSITIVE: 2870 (of 3621)\n",
      "01-Aug-23 12:20:01 - btrack.core - INFO     -  - Fates.FALSE_POSITIVE: 2870 (of 3621)\n",
      "[INFO][2023/08/01 12:20:01 pm]  - Fates.LINK: 86 (of 544)\n",
      "01-Aug-23 12:20:01 - btrack.core - INFO     -  - Fates.LINK: 86 (of 544)\n",
      "[INFO][2023/08/01 12:20:01 pm]  - Fates.INITIALIZE_BORDER: 33 (of 177)\n",
      "01-Aug-23 12:20:01 - btrack.core - INFO     -  - Fates.INITIALIZE_BORDER: 33 (of 177)\n",
      "[INFO][2023/08/01 12:20:01 pm]  - Fates.INITIALIZE_FRONT: 9 (of 48)\n",
      "01-Aug-23 12:20:01 - btrack.core - INFO     -  - Fates.INITIALIZE_FRONT: 9 (of 48)\n",
      "[INFO][2023/08/01 12:20:01 pm]  - Fates.INITIALIZE_LAZY: 623 (of 3396)\n",
      "01-Aug-23 12:20:01 - btrack.core - INFO     -  - Fates.INITIALIZE_LAZY: 623 (of 3396)\n",
      "[INFO][2023/08/01 12:20:01 pm]  - Fates.TERMINATE_BORDER: 37 (of 191)\n",
      "01-Aug-23 12:20:01 - btrack.core - INFO     -  - Fates.TERMINATE_BORDER: 37 (of 191)\n",
      "[INFO][2023/08/01 12:20:01 pm]  - Fates.TERMINATE_BACK: 0 (of 23)\n",
      "01-Aug-23 12:20:01 - btrack.core - INFO     -  - Fates.TERMINATE_BACK: 0 (of 23)\n",
      "[INFO][2023/08/01 12:20:01 pm]  - Fates.TERMINATE_LAZY: 628 (of 3407)\n",
      "01-Aug-23 12:20:01 - btrack.core - INFO     -  - Fates.TERMINATE_LAZY: 628 (of 3407)\n",
      "[INFO][2023/08/01 12:20:01 pm]  - TOTAL: 11407 hypotheses\n",
      "01-Aug-23 12:20:01 - btrack.core - INFO     -  - TOTAL: 11407 hypotheses\n",
      "[INFO][2023/08/01 12:20:01 pm] Completed optimization with 3535 tracks\n",
      "01-Aug-23 12:20:01 - btrack.core - INFO     - Completed optimization with 3535 tracks\n",
      "[INFO][2023/08/01 12:20:01 pm] Ending BayesianTracker session\n",
      "01-Aug-23 12:20:01 - btrack.core - INFO     - Ending BayesianTracker session\n"
     ]
    },
    {
     "name": "stdout",
     "output_type": "stream",
     "text": [
      "GLPK Integer Optimizer 5.0\n",
      "14484 rows, 11407 columns, 15572 non-zeros\n",
      "11407 integer variables, all of which are binary\n",
      "Preprocessing...\n",
      "7242 rows, 11407 columns, 15572 non-zeros\n",
      "11407 integer variables, all of which are binary\n",
      "Scaling...\n",
      " A: min|aij| =  1.000e+00  max|aij| =  1.000e+00  ratio =  1.000e+00\n",
      "Problem data seem to be well scaled\n",
      "Constructing initial basis...\n",
      "Size of triangular part is 7242\n",
      "Solving LP relaxation...\n",
      "GLPK Simplex Optimizer 5.0\n",
      "7242 rows, 11407 columns, 15572 non-zeros\n",
      "*     0: obj =   4.756783524e+04 inf =   0.000e+00 (3495)\n",
      "Perturbing LP to avoid stalling [2474]...\n",
      "Removing LP perturbation [3541]...\n",
      "*  3541: obj =   1.779617543e+04 inf =   0.000e+00 (0)\n",
      "OPTIMAL LP SOLUTION FOUND\n",
      "Integer optimization begins...\n",
      "Long-step dual simplex will be used\n",
      "+  3541: mip =     not found yet >=              -inf        (1; 0)\n",
      "+  3541: >>>>>   1.779617543e+04 >=   1.779617543e+04   0.0% (1; 0)\n",
      "+  3541: mip =   1.779617543e+04 >=     tree is empty   0.0% (0; 1)\n",
      "INTEGER OPTIMAL SOLUTION FOUND\n"
     ]
    }
   ],
   "source": [
    "with btrack.BayesianTracker() as tracker:\n",
    "        # configure the tracker using a config file\n",
    "        tracker.configure('/home/dayn/analysis/btrack/models/particle_config.json')\n",
    "        ### set max search radius to a very limited radius \n",
    "        tracker.max_search_radius = 5\n",
    "        # define tracking method\n",
    "        tracker.tracking_updates = [\"MOTION\", \"VISUAL\"]\n",
    "        # use visual features to track\n",
    "        tracker.features = props\n",
    "        # append the objects to be tracked\n",
    "        tracker.append(objects)\n",
    "        # set the volume\n",
    "        tracker.volume=((0, mask_input_channel.shape[1]), (0, mask_input_channel.shape[2]), (-1e5, 1e5))\n",
    "        # track them (in interactive mode)\n",
    "        tracker.track(step_size=10)\n",
    "        # generate hypotheses and run the global optimizer\n",
    "        tracker.optimize()\n",
    "        # get the tracks as a python list\n",
    "        tracks = tracker.tracks"
   ]
  },
  {
   "cell_type": "markdown",
   "id": "816b235e",
   "metadata": {},
   "source": [
    "## 5. Check results in Napari"
   ]
  },
  {
   "cell_type": "markdown",
   "id": "9306262d",
   "metadata": {},
   "source": [
    "To make visualisation of tracks easier, recolour the masks so that a single-cell segment colour is linked to cell ID."
   ]
  },
  {
   "cell_type": "code",
   "execution_count": 36,
   "id": "52f4e6b6",
   "metadata": {},
   "outputs": [],
   "source": [
    "import numpy.typing as npt\n",
    "def color_by(track) -> npt.NDArray:\n",
    "   # returns just the scalar value from each track, e.g.\n",
    "   return track.properties[\"mtb_status\"]"
   ]
  },
  {
   "cell_type": "markdown",
   "id": "edea8f9f",
   "metadata": {},
   "source": [
    "#### `Monolayer`: recolor mask stack"
   ]
  },
  {
   "cell_type": "code",
   "execution_count": 38,
   "id": "1a903d25",
   "metadata": {},
   "outputs": [
    {
     "ename": "TypeError",
     "evalue": "color_by() missing 1 required positional argument: 'track'",
     "output_type": "error",
     "traceback": [
      "\u001b[0;31m---------------------------------------------------------------------------\u001b[0m",
      "\u001b[0;31mTypeError\u001b[0m                                 Traceback (most recent call last)",
      "Input \u001b[0;32mIn [38]\u001b[0m, in \u001b[0;36m<cell line: 1>\u001b[0;34m()\u001b[0m\n\u001b[0;32m----> 1\u001b[0m recolored_mask_stack2 \u001b[38;5;241m=\u001b[39m btrack\u001b[38;5;241m.\u001b[39mutils\u001b[38;5;241m.\u001b[39mupdate_segmentation(mask_stack, tracks, color_by\u001b[38;5;241m=\u001b[39m\u001b[43mcolor_by\u001b[49m\u001b[43m(\u001b[49m\u001b[43mprop\u001b[49m\u001b[43m \u001b[49m\u001b[38;5;241;43m=\u001b[39;49m\u001b[43m \u001b[49m\u001b[38;5;124;43m'\u001b[39;49m\u001b[38;5;124;43mID\u001b[39;49m\u001b[38;5;124;43m'\u001b[39;49m\u001b[43m)\u001b[49m)\n",
      "\u001b[0;31mTypeError\u001b[0m: color_by() missing 1 required positional argument: 'track'"
     ]
    }
   ],
   "source": [
    "recolored_mask_stack2 = btrack.utils.update_segmentation(mask_stack, tracks, color_by=color_by(prop = 'ID'))"
   ]
  },
  {
   "cell_type": "markdown",
   "id": "09441b43",
   "metadata": {},
   "source": [
    "#### `Bilayer`: recolor mask stack"
   ]
  },
  {
   "cell_type": "code",
   "execution_count": null,
   "id": "4de795ee",
   "metadata": {},
   "outputs": [],
   "source": [
    "recolored_mask_stack = btrack.utils.update_segmentation(tools.semantic_to_instance(mask_stack), tracks, color_by=color_by_mtb)"
   ]
  },
  {
   "cell_type": "markdown",
   "id": "dd7caada",
   "metadata": {},
   "source": [
    "Add both the tracks and recoloured mask stack to the napari viewer. "
   ]
  },
  {
   "cell_type": "code",
   "execution_count": 26,
   "id": "610b3de3",
   "metadata": {},
   "outputs": [],
   "source": [
    "# optional: get the data in a format for napari\n",
    "napari_tracks, properties, graph = btrack.utils.tracks_to_napari(tracks, ndim = 2)"
   ]
  },
  {
   "cell_type": "code",
   "execution_count": 30,
   "id": "e1e03178",
   "metadata": {
    "scrolled": true
   },
   "outputs": [
    {
     "data": {
      "text/plain": [
       "<Labels layer 'recolored_mask_stack' at 0x7f8a709e2ac0>"
      ]
     },
     "execution_count": 30,
     "metadata": {},
     "output_type": "execute_result"
    }
   ],
   "source": [
    "viewer.add_tracks(napari_tracks, properties = properties, graph = graph,)\n",
    "viewer.add_labels(recolored_mask_stack)"
   ]
  },
  {
   "cell_type": "markdown",
   "id": "9d3c9e27",
   "metadata": {},
   "source": [
    "## 6. Save out results"
   ]
  },
  {
   "cell_type": "code",
   "execution_count": 25,
   "id": "c90d9198",
   "metadata": {},
   "outputs": [
    {
     "name": "stderr",
     "output_type": "stream",
     "text": [
      "[INFO][2023/08/01 12:34:47 pm] Opening HDF file: /home/dayn/data/homuncu_loc_temp/run1_23-01-001_23-01-005/2h pi/20230707_40X_23-01-001A3_Multichannel Z-Stack_20230707_1314_z_tracks_masks.h5...\n",
      "01-Aug-23 12:34:47 - btrack.io.hdf - INFO     - Opening HDF file: /home/dayn/data/homuncu_loc_temp/run1_23-01-001_23-01-005/2h pi/20230707_40X_23-01-001A3_Multichannel Z-Stack_20230707_1314_z_tracks_masks.h5...\n",
      "[INFO][2023/08/01 12:34:47 pm] Writing objects/obj_type_1\n",
      "01-Aug-23 12:34:47 - btrack.io.hdf - INFO     - Writing objects/obj_type_1\n",
      "[INFO][2023/08/01 12:34:47 pm] Writing labels/obj_type_1\n",
      "01-Aug-23 12:34:47 - btrack.io.hdf - INFO     - Writing labels/obj_type_1\n",
      "[INFO][2023/08/01 12:34:47 pm] Loading objects/obj_type_1 (12239, 5) (12239 filtered: None)\n",
      "01-Aug-23 12:34:47 - btrack.io.hdf - INFO     - Loading objects/obj_type_1 (12239, 5) (12239 filtered: None)\n",
      "[INFO][2023/08/01 12:34:47 pm] Writing properties/obj_type_1/axis_major_length (12239,)\n",
      "01-Aug-23 12:34:47 - btrack.io.hdf - INFO     - Writing properties/obj_type_1/axis_major_length (12239,)\n",
      "[INFO][2023/08/01 12:34:47 pm] Writing properties/obj_type_1/axis_minor_length (12239,)\n",
      "01-Aug-23 12:34:47 - btrack.io.hdf - INFO     - Writing properties/obj_type_1/axis_minor_length (12239,)\n",
      "[INFO][2023/08/01 12:34:47 pm] Writing properties/obj_type_1/eccentricity (12239,)\n",
      "01-Aug-23 12:34:47 - btrack.io.hdf - INFO     - Writing properties/obj_type_1/eccentricity (12239,)\n",
      "[INFO][2023/08/01 12:34:47 pm] Writing properties/obj_type_1/area (12239,)\n",
      "01-Aug-23 12:34:47 - btrack.io.hdf - INFO     - Writing properties/obj_type_1/area (12239,)\n",
      "[INFO][2023/08/01 12:34:47 pm] Writing properties/obj_type_1/orientation (12239,)\n",
      "01-Aug-23 12:34:47 - btrack.io.hdf - INFO     - Writing properties/obj_type_1/orientation (12239,)\n",
      "[INFO][2023/08/01 12:34:47 pm] Writing properties/obj_type_1/mean_intensity (12239, 4)\n",
      "01-Aug-23 12:34:47 - btrack.io.hdf - INFO     - Writing properties/obj_type_1/mean_intensity (12239, 4)\n",
      "[INFO][2023/08/01 12:34:47 pm] Writing properties/obj_type_1/class_id (12239,)\n",
      "01-Aug-23 12:34:47 - btrack.io.hdf - INFO     - Writing properties/obj_type_1/class_id (12239,)\n",
      "[INFO][2023/08/01 12:34:47 pm] Writing properties/obj_type_1/mtb_status (12239,)\n",
      "01-Aug-23 12:34:47 - btrack.io.hdf - INFO     - Writing properties/obj_type_1/mtb_status (12239,)\n",
      "[INFO][2023/08/01 12:34:47 pm] Writing properties/obj_type_1/mtb_area (12239,)\n",
      "01-Aug-23 12:34:47 - btrack.io.hdf - INFO     - Writing properties/obj_type_1/mtb_area (12239,)\n",
      "[INFO][2023/08/01 12:34:47 pm] Writing tracks/obj_type_1\n",
      "01-Aug-23 12:34:47 - btrack.io.hdf - INFO     - Writing tracks/obj_type_1\n",
      "[INFO][2023/08/01 12:34:47 pm] Writing dummies/obj_type_1\n",
      "01-Aug-23 12:34:47 - btrack.io.hdf - INFO     - Writing dummies/obj_type_1\n",
      "[INFO][2023/08/01 12:34:47 pm] Writing LBEP/obj_type_1\n",
      "01-Aug-23 12:34:47 - btrack.io.hdf - INFO     - Writing LBEP/obj_type_1\n",
      "[INFO][2023/08/01 12:34:47 pm] Writing fates/obj_type_1\n",
      "01-Aug-23 12:34:47 - btrack.io.hdf - INFO     - Writing fates/obj_type_1\n",
      "[INFO][2023/08/01 12:35:03 pm] Closing HDF file: /home/dayn/data/homuncu_loc_temp/run1_23-01-001_23-01-005/2h pi/20230707_40X_23-01-001A3_Multichannel Z-Stack_20230707_1314_z_tracks_masks.h5\n",
      "01-Aug-23 12:35:03 - btrack.io.hdf - INFO     - Closing HDF file: /home/dayn/data/homuncu_loc_temp/run1_23-01-001_23-01-005/2h pi/20230707_40X_23-01-001A3_Multichannel Z-Stack_20230707_1314_z_tracks_masks.h5\n"
     ]
    }
   ],
   "source": [
    "# redefine output filename as being h5 file in same directory as image\n",
    "# output_fn = os.path.join(os.path.dirname(image_fn), 'z_tracks_masks.h5')\n",
    "output_fn = os.path.join('/home/dayn/data/homuncu_loc_temp/run1_23-01-001_23-01-005/2h pi/20230707_40X_23-01-001A3_Multichannel Z-Stack_20230707_1314_z_tracks_masks.h5')\n",
    "# save out \n",
    "with btrack.io.HDF5FileHandler(output_fn, \n",
    "                                   'w', \n",
    "                                   obj_type='obj_type_1'\n",
    "                                   ) as writer:\n",
    "        writer.write_tracks(tracks)\n",
    "        writer.write_segmentation(mask_stack)"
   ]
  }
 ],
 "metadata": {
  "kernelspec": {
   "display_name": "aero",
   "language": "python",
   "name": "aero"
  },
  "language_info": {
   "codemirror_mode": {
    "name": "ipython",
    "version": 3
   },
   "file_extension": ".py",
   "mimetype": "text/x-python",
   "name": "python",
   "nbconvert_exporter": "python",
   "pygments_lexer": "ipython3",
   "version": "3.9.12"
  }
 },
 "nbformat": 4,
 "nbformat_minor": 5
}
