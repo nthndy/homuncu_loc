{
 "cells": [
  {
   "cell_type": "markdown",
   "id": "0d243d9a",
   "metadata": {},
   "source": [
    "# LoC image analysis\n",
    "\n",
    "This notebook is designed to take the raw output of a LoC data set, monolayer or bilayer, and:\n",
    " (trying to check if dask multichan works)\n",
    "\n",
    "5. Localise and measure properties\n",
    "6. Unite the localisations over the z-range\n",
    "7. Save out the Z-tracks\n",
    "8. Extract the maximum intensity from each cell"
   ]
  },
  {
   "cell_type": "code",
   "execution_count": 17,
   "id": "b3341d38",
   "metadata": {},
   "outputs": [],
   "source": [
    "import os\n",
    "import glob\n",
    "from octopusheavy import DaskOctopusHeavyLoader\n",
    "import napari\n",
    "from skimage.io import imshow,  imsave, imread\n",
    "import napari\n",
    "import btrack\n",
    "from tqdm.auto import tqdm\n",
    "import dask.array as da"
   ]
  },
  {
   "cell_type": "markdown",
   "id": "ce96b2e7",
   "metadata": {},
   "source": [
    "# Loading images\n",
    "\n",
    "Define root path and individual experiment IDs"
   ]
  },
  {
   "cell_type": "code",
   "execution_count": 18,
   "id": "f17b38de",
   "metadata": {},
   "outputs": [],
   "source": [
    "root_path = '/run/user/30046150/gvfs/smb-share:server=data.thecrick.org,share=lab-gutierrezm/home/shared/Lung on chip/Light microscopy'"
   ]
  },
  {
   "cell_type": "code",
   "execution_count": 19,
   "id": "577b6085",
   "metadata": {},
   "outputs": [],
   "source": [
    "expt_IDs = ['co-culture/iVECs+iAT2AT1/Folder_20220808/A2-A5/analysis_20221125/DAPI-SPC-PDPN-ZO1/_20220808_kolf-WT_co-culture_20x_A2-A5_Multichannel Z-Stack_20220808_60_/images/',\n",
    "            'co-culture/iVECs+iAT2AT1/Folder_20220808/A2-A5/analysis_20221125/DAPI-VWF-iCAM1-ZO1/_20220808_kolf-WT_co-culture_20x_A2-A5_Multichannel Z-Stack_20220808_70_/images/',\n",
    "            'mono-culture/iAT2AT1/for analysis_20221125/DAPI-AQP5-proSPC-ZO1/Day7_static/_20x_21-12-031B_A12456_Multichannel Z-Stack_20220811_150_/images/',\n",
    "            'mono-culture/iAT2AT1/for analysis_20221125/DAPI-AQP5-proSPC-ZO1/Day14_static/_20x_21-12-028A_A23456_Multichannel Z-Stack_20220818_262_/images/',\n",
    "            'mono-culture/iAT2AT1/for analysis_20221125/DAPI-CAV1-proSPC-ZO1/Day7_static/_20x_21-12-031B_A12456_Multichannel Z-Stack_20220811_130_/images/',\n",
    "            'mono-culture/iAT2AT1/for analysis_20221125/DAPI-CAV1-proSPC-ZO1/Day14_static/_20x_21-12-028A_A23456_Multichannel Z-Stack_20220818_253_/images/'\n",
    "           ]"
   ]
  },
  {
   "cell_type": "markdown",
   "id": "b9560206",
   "metadata": {},
   "source": [
    "## Check to see what channels each expt has"
   ]
  },
  {
   "cell_type": "code",
   "execution_count": 20,
   "id": "b51972e4",
   "metadata": {},
   "outputs": [
    {
     "name": "stdout",
     "output_type": "stream",
     "text": [
      "0 [<Channels.CH1: 1>, <Channels.CH2: 2>, <Channels.CH3: 3>, <Channels.CH4: 4>, <Channels.MASK1: 99>]\n",
      "Tracks exist: True\n",
      "1 [<Channels.CH1: 1>, <Channels.CH2: 2>, <Channels.CH3: 3>, <Channels.CH4: 4>, <Channels.MASK1: 99>]\n",
      "Tracks exist: True\n",
      "2 [<Channels.CH1: 1>, <Channels.CH2: 2>, <Channels.CH3: 3>, <Channels.CH4: 4>, <Channels.MASK1: 99>]\n",
      "Tracks exist: True\n",
      "3 [<Channels.CH1: 1>, <Channels.CH2: 2>, <Channels.CH3: 3>, <Channels.CH4: 4>, <Channels.MASK1: 99>]\n",
      "Tracks exist: True\n",
      "4 [<Channels.CH1: 1>, <Channels.CH2: 2>, <Channels.CH3: 3>, <Channels.CH4: 4>, <Channels.MASK1: 99>]\n",
      "Tracks exist: True\n",
      "5 [<Channels.CH1: 1>, <Channels.CH2: 2>, <Channels.CH3: 3>, <Channels.CH4: 4>, <Channels.MASK1: 99>]\n",
      "Tracks exist: True\n"
     ]
    }
   ],
   "source": [
    "for i, expt in enumerate(expt_IDs):\n",
    "    images = DaskOctopusHeavyLoader(os.path.join(root_path, expt), remove_background=False)\n",
    "    if 'MASK1' in [channel.name for channel in images.channels]:\n",
    "        images = DaskOctopusHeavyLoader(os.path.join(root_path, expt), remove_background=False)\n",
    "        print(i, images.channels)\n",
    "        dirname = os.path.dirname(images.files('CH1')[0]).replace('images','')\n",
    "        tracks_fn = os.path.join(dirname, 'tracks.h5')\n",
    "        tracks_fn = tracks_fn.split('Light microscopy/')[-1].replace('/', '_')\n",
    "#         tracks_fn = os.path.join(root_path, expt.replace('images/', 'tracks.hdf5'))\n",
    "        print('Tracks exist:', os.path.exists(tracks_fn))"
   ]
  },
  {
   "cell_type": "code",
   "execution_count": 38,
   "id": "a8927581",
   "metadata": {},
   "outputs": [],
   "source": [
    "tracks_fn = 'co-culture_iVECs+iAT2AT1_Folder_20220808_A2-A5_analysis_20221125_DAPI-SPC-PDPN-ZO1__20220808_kolf-WT_co-culture_20x_A2-A5_Multichannel Z-Stack_20220808_60__tracks.csv'"
   ]
  },
  {
   "cell_type": "code",
   "execution_count": 39,
   "id": "bf25888a",
   "metadata": {},
   "outputs": [
    {
     "name": "stderr",
     "output_type": "stream",
     "text": [
      "[INFO][2022/12/02 02:57:31 PM] Opening HDF file: co-culture_iVECs+iAT2AT1_Folder_20220808_A2-A5_analysis_20221125_DAPI-SPC-PDPN-ZO1__20220808_kolf-WT_co-culture_20x_A2-A5_Multichannel Z-Stack_20220808_60__tracks.h5...\n",
      "[INFO][2022/12/02 02:57:31 PM] Loading tracks/obj_type_1\n",
      "[INFO][2022/12/02 02:57:31 PM] Loading LBEP/obj_type_1\n",
      "[INFO][2022/12/02 02:57:31 PM] Loading objects/obj_type_1 (59338, 5) (59338 filtered: None)\n",
      "[INFO][2022/12/02 02:57:32 PM] Closing HDF file: co-culture_iVECs+iAT2AT1_Folder_20220808_A2-A5_analysis_20221125_DAPI-SPC-PDPN-ZO1__20220808_kolf-WT_co-culture_20x_A2-A5_Multichannel Z-Stack_20220808_60__tracks.h5\n"
     ]
    },
    {
     "ename": "NameError",
     "evalue": "free variable 'dummy_obj' referenced before assignment in enclosing scope",
     "output_type": "error",
     "traceback": [
      "\u001b[0;31m---------------------------------------------------------------------------\u001b[0m",
      "\u001b[0;31mNameError\u001b[0m                                 Traceback (most recent call last)",
      "Input \u001b[0;32mIn [39]\u001b[0m, in \u001b[0;36m<cell line: 6>\u001b[0;34m()\u001b[0m\n\u001b[1;32m      5\u001b[0m tracks_fn \u001b[38;5;241m=\u001b[39m tracks_fn\u001b[38;5;241m.\u001b[39msplit(\u001b[38;5;124m'\u001b[39m\u001b[38;5;124mLight microscopy/\u001b[39m\u001b[38;5;124m'\u001b[39m)[\u001b[38;5;241m-\u001b[39m\u001b[38;5;241m1\u001b[39m]\u001b[38;5;241m.\u001b[39mreplace(\u001b[38;5;124m'\u001b[39m\u001b[38;5;124m/\u001b[39m\u001b[38;5;124m'\u001b[39m, \u001b[38;5;124m'\u001b[39m\u001b[38;5;124m_\u001b[39m\u001b[38;5;124m'\u001b[39m)\n\u001b[1;32m      6\u001b[0m \u001b[38;5;28;01mwith\u001b[39;00m btrack\u001b[38;5;241m.\u001b[39mdataio\u001b[38;5;241m.\u001b[39mHDF5FileHandler(tracks_fn, \u001b[38;5;124m\"\u001b[39m\u001b[38;5;124mr\u001b[39m\u001b[38;5;124m\"\u001b[39m, obj_type\u001b[38;5;241m=\u001b[39m\u001b[38;5;124m\"\u001b[39m\u001b[38;5;124mobj_type_1\u001b[39m\u001b[38;5;124m\"\u001b[39m) \u001b[38;5;28;01mas\u001b[39;00m hdf:\n\u001b[0;32m----> 7\u001b[0m         tracks \u001b[38;5;241m=\u001b[39m \u001b[43mhdf\u001b[49m\u001b[38;5;241;43m.\u001b[39;49m\u001b[43mtracks\u001b[49m\n\u001b[1;32m      8\u001b[0m \u001b[38;5;66;03m#         tracks = [track for track in tracks if len(track) > 7]\u001b[39;00m\n\u001b[1;32m      9\u001b[0m         data, new_properties, new_graph \u001b[38;5;241m=\u001b[39m btrack\u001b[38;5;241m.\u001b[39mutils\u001b[38;5;241m.\u001b[39mtracks_to_napari(tracks, ndim\u001b[38;5;241m=\u001b[39m\u001b[38;5;241m2\u001b[39m)\n",
      "File \u001b[0;32m~/analysis/BayesianTracker/btrack/dataio.py:286\u001b[0m, in \u001b[0;36mh5check_property_exists.<locals>.func.<locals>.wrapped_handler_property\u001b[0;34m(*args, **kwargs)\u001b[0m\n\u001b[1;32m    282\u001b[0m     logger\u001b[38;5;241m.\u001b[39merror(\n\u001b[1;32m    283\u001b[0m         \u001b[38;5;124mf\u001b[39m\u001b[38;5;124m\"\u001b[39m\u001b[38;5;132;01m{\u001b[39;00m\u001b[38;5;28mproperty\u001b[39m\u001b[38;5;241m.\u001b[39mcapitalize()\u001b[38;5;132;01m}\u001b[39;00m\u001b[38;5;124m not found in \u001b[39m\u001b[38;5;132;01m{\u001b[39;00m\u001b[38;5;28mself\u001b[39m\u001b[38;5;241m.\u001b[39mfilename\u001b[38;5;132;01m}\u001b[39;00m\u001b[38;5;124m\"\u001b[39m\n\u001b[1;32m    284\u001b[0m     )\n\u001b[1;32m    285\u001b[0m     \u001b[38;5;28;01mreturn\u001b[39;00m \u001b[38;5;28;01mNone\u001b[39;00m\n\u001b[0;32m--> 286\u001b[0m \u001b[38;5;28;01mreturn\u001b[39;00m \u001b[43mfn\u001b[49m\u001b[43m(\u001b[49m\u001b[38;5;241;43m*\u001b[39;49m\u001b[43margs\u001b[49m\u001b[43m,\u001b[49m\u001b[43m \u001b[49m\u001b[38;5;241;43m*\u001b[39;49m\u001b[38;5;241;43m*\u001b[39;49m\u001b[43mkwargs\u001b[49m\u001b[43m)\u001b[49m\n",
      "File \u001b[0;32m~/analysis/BayesianTracker/btrack/dataio.py:683\u001b[0m, in \u001b[0;36mHDF5FileHandler.tracks\u001b[0;34m(self)\u001b[0m\n\u001b[1;32m    681\u001b[0m idx \u001b[38;5;241m=\u001b[39m \u001b[38;5;28mslice\u001b[39m(\u001b[38;5;241m*\u001b[39mtrack_map[i, :]\u001b[38;5;241m.\u001b[39mtolist())\n\u001b[1;32m    682\u001b[0m refs \u001b[38;5;241m=\u001b[39m track_refs[idx]\n\u001b[0;32m--> 683\u001b[0m track \u001b[38;5;241m=\u001b[39m btypes\u001b[38;5;241m.\u001b[39mTracklet(lbep[i, \u001b[38;5;241m0\u001b[39m], \u001b[38;5;28;43mlist\u001b[39;49m\u001b[43m(\u001b[49m\u001b[38;5;28;43mmap\u001b[39;49m\u001b[43m(\u001b[49m\u001b[43m_get_txyz\u001b[49m\u001b[43m,\u001b[49m\u001b[43m \u001b[49m\u001b[43mrefs\u001b[49m\u001b[43m)\u001b[49m\u001b[43m)\u001b[49m)\n\u001b[1;32m    684\u001b[0m track\u001b[38;5;241m.\u001b[39mparent \u001b[38;5;241m=\u001b[39m lbep[i, \u001b[38;5;241m3\u001b[39m]  \u001b[38;5;66;03m# set the parent and root of tree\u001b[39;00m\n\u001b[1;32m    685\u001b[0m track\u001b[38;5;241m.\u001b[39mroot \u001b[38;5;241m=\u001b[39m lbep[i, \u001b[38;5;241m4\u001b[39m]\n",
      "File \u001b[0;32m~/analysis/BayesianTracker/btrack/dataio.py:677\u001b[0m, in \u001b[0;36mHDF5FileHandler.tracks.<locals>._get_txyz\u001b[0;34m(_ref)\u001b[0m\n\u001b[1;32m    675\u001b[0m \u001b[38;5;28;01mif\u001b[39;00m _ref \u001b[38;5;241m>\u001b[39m\u001b[38;5;241m=\u001b[39m \u001b[38;5;241m0\u001b[39m:\n\u001b[1;32m    676\u001b[0m     \u001b[38;5;28;01mreturn\u001b[39;00m obj[_ref]\n\u001b[0;32m--> 677\u001b[0m \u001b[38;5;28;01mreturn\u001b[39;00m \u001b[43mdummy_obj\u001b[49m[\u001b[38;5;28mabs\u001b[39m(_ref) \u001b[38;5;241m-\u001b[39m \u001b[38;5;241m1\u001b[39m]\n",
      "\u001b[0;31mNameError\u001b[0m: free variable 'dummy_obj' referenced before assignment in enclosing scope"
     ]
    }
   ],
   "source": [
    "expt = expt_IDs[0]\n",
    "images = DaskOctopusHeavyLoader(os.path.join(root_path, expt), remove_background=False)\n",
    "dirname = os.path.dirname(images.files('CH1')[0]).replace('images','')\n",
    "tracks_fn = os.path.join(dirname, 'tracks.h5')\n",
    "tracks_fn = tracks_fn.split('Light microscopy/')[-1].replace('/', '_')\n",
    "with btrack.dataio.HDF5FileHandler(tracks_fn, \"r\", obj_type=\"obj_type_1\") as hdf:\n",
    "        tracks = hdf.tracks\n",
    "#         tracks = [track for track in tracks if len(track) > 7]\n",
    "        data, new_properties, new_graph = btrack.utils.tracks_to_napari(tracks, ndim=2)\n",
    "print('Loaded expt:', expt)"
   ]
  },
  {
   "cell_type": "code",
   "execution_count": 9,
   "id": "9fc764db",
   "metadata": {},
   "outputs": [
    {
     "ename": "NameError",
     "evalue": "name 'tracks' is not defined",
     "output_type": "error",
     "traceback": [
      "\u001b[0;31m---------------------------------------------------------------------------\u001b[0m",
      "\u001b[0;31mNameError\u001b[0m                                 Traceback (most recent call last)",
      "Input \u001b[0;32mIn [9]\u001b[0m, in \u001b[0;36m<cell line: 1>\u001b[0;34m()\u001b[0m\n\u001b[0;32m----> 1\u001b[0m \u001b[43mtracks\u001b[49m[\u001b[38;5;241m0\u001b[39m]\n",
      "\u001b[0;31mNameError\u001b[0m: name 'tracks' is not defined"
     ]
    }
   ],
   "source": [
    "tracks[0]"
   ]
  },
  {
   "cell_type": "markdown",
   "id": "54a9d97b",
   "metadata": {},
   "source": [
    "## Checking tracks prior to plotting single cell info"
   ]
  },
  {
   "cell_type": "code",
   "execution_count": null,
   "id": "c21df49d",
   "metadata": {},
   "outputs": [],
   "source": [
    "import napari"
   ]
  },
  {
   "cell_type": "code",
   "execution_count": null,
   "id": "335f35ae",
   "metadata": {},
   "outputs": [],
   "source": [
    "viewer = napari.Viewer()\n",
    "\n",
    "viewer.add_image(ch0, colormap='blue', blending = 'additive')\n",
    "viewer.add_image(ch3, colormap= 'gray', blending = 'additive')\n",
    "viewer.add_image(ch1, colormap='red', blending = 'additive')\n",
    "viewer.add_image(ch2, colormap= 'green', blending = 'additive')\n",
    "\n",
    "viewer.add_labels(mask_stack)\n",
    "\n",
    "viewer.add_tracks(ch1_data)\n",
    "viewer.add_tracks(ch2_data)\n"
   ]
  }
 ],
 "metadata": {
  "kernelspec": {
   "display_name": "aero",
   "language": "python",
   "name": "aero"
  },
  "language_info": {
   "codemirror_mode": {
    "name": "ipython",
    "version": 3
   },
   "file_extension": ".py",
   "mimetype": "text/x-python",
   "name": "python",
   "nbconvert_exporter": "python",
   "pygments_lexer": "ipython3",
   "version": "3.9.12"
  }
 },
 "nbformat": 4,
 "nbformat_minor": 5
}
