{
 "cells": [
  {
   "cell_type": "code",
   "execution_count": 1,
   "id": "0307ce4b",
   "metadata": {},
   "outputs": [],
   "source": [
    "import napari\n",
    "from skimage import io\n",
    "import btrack\n",
    "import os"
   ]
  },
  {
   "cell_type": "code",
   "execution_count": 2,
   "id": "54cd523c",
   "metadata": {
    "scrolled": true
   },
   "outputs": [
    {
     "name": "stdout",
     "output_type": "stream",
     "text": [
      "Here are the experimental data sets contained within base_dir:\n",
      "['run2_23-02-104', 'run1_23-01-001_23-01-005']\n",
      "Here are the image data sets contained within the base directory:\n",
      "run2_23-02-104/48h pi/20230718_20X_23-02-104B2_Multichannel Z-Stack_20230718_1365.tif\n",
      "run2_23-02-104/48h pi/20230718_20X_23-02-104B2_Multichannel Z-Stack_20230718_1363.tif\n",
      "run2_23-02-104/48h pi/20230718_20X_23-02-104B2_Multichannel Z-Stack_20230718_1361.tif\n",
      "run2_23-02-104/48h pi/20230718_20X_23-02-104B2_Multichannel Z-Stack_20230718_1362.tif\n",
      "run2_23-02-104/48h pi/20230718_20X_23-02-104B2_Multichannel Z-Stack_20230718_1364.tif\n",
      "run2_23-02-104/2h pi/20230714_20X_23-02-104A4_Multichannel Z-Stack_20230714_1343.tif\n",
      "run2_23-02-104/2h pi/20230714_20X_23-02-104A4_Multichannel Z-Stack_20230714_1342.tif\n",
      "run2_23-02-104/2h pi/20230714_20X_23-02-104A4_Multichannel Z-Stack_20230714_1344.tif\n",
      "run2_23-02-104/2h pi/20230714_20X_23-02-104A4_Multichannel Z-Stack_20230714_1341.tif\n",
      "run2_23-02-104/2h pi/20230714_20X_23-02-104A4_Multichannel Z-Stack_20230714_1340.tif\n",
      "run1_23-01-001_23-01-005/48h pi/20230707_40X_23-01-005A3_Multichannel Z-Stack_20230707_1325.tif\n",
      "run1_23-01-001_23-01-005/48h pi/20230707_40X_23-01-005A3_Multichannel Z-Stack_20230707_1324.tif\n",
      "run1_23-01-001_23-01-005/48h pi/20230705_40X_23-01-005A3_Multichannel Z-Stack_20230705_1309.tif\n",
      "run1_23-01-001_23-01-005/48h pi/20230705_40X_23-01-005A3_Multichannel Z-Stack_20230705_1306.tif\n",
      "run1_23-01-001_23-01-005/48h pi/20230705_40X_23-01-005A3_Multichannel Z-Stack_20230705_1308.tif\n",
      "run1_23-01-001_23-01-005/48h pi/20230705_40X_23-01-005A3_Multichannel Z-Stack_20230705_1307.tif\n",
      "run1_23-01-001_23-01-005/48h pi/20230705_40X_23-01-005A3_Multichannel Z-Stack_20230705_1311.tif\n",
      "run1_23-01-001_23-01-005/48h pi/20230705_40X_23-01-005A3_Multichannel Z-Stack_20230705_1310.tif\n",
      "run1_23-01-001_23-01-005/2h pi/20230707_40X_23-01-001A3_Multichannel Z-Stack_20230707_1318.tif\n",
      "run1_23-01-001_23-01-005/2h pi/20230707_40X_23-01-001A3_Multichannel Z-Stack_20230707_1319.tif\n",
      "run1_23-01-001_23-01-005/2h pi/20230707_40X_23-01-001A3_Multichannel Z-Stack_20230707_1317.tif\n",
      "run1_23-01-001_23-01-005/2h pi/20230707_40X_23-01-001A3_Multichannel Z-Stack_20230707_1313.tif\n",
      "run1_23-01-001_23-01-005/2h pi/20230707_40X_23-01-001A3_Multichannel Z-Stack_20230707_1316.tif\n",
      "run1_23-01-001_23-01-005/2h pi/20230707_40X_23-01-001A3_Multichannel Z-Stack_20230707_1315.tif\n",
      "run1_23-01-001_23-01-005/2h pi/20230707_40X_23-01-001A3_Multichannel Z-Stack_20230707_1320.tif\n",
      "run1_23-01-001_23-01-005/2h pi/20230707_40X_23-01-001A3_Multichannel Z-Stack_20230707_1314.tif\n"
     ]
    }
   ],
   "source": [
    "# take note of root directories on server and local equivalent for saving of dir structure locally\n",
    "base_dir = server_rootdir = '/run/user/30046150/gvfs/smb-share:server=data2.thecrick.org,share=lab-gutierrezm/home/shared/Lung on Chip/image analysis_Nathan/Job_Mtb area'\n",
    "# this is the root directory where files will be saved locally\n",
    "local_rootdir = '/home/dayn/data/homuncu_loc_temp'\n",
    "print('Here are the experimental data sets contained within base_dir:')\n",
    "print(os.listdir(base_dir))\n",
    "\n",
    "print('Here are the image data sets contained within the base directory:')\n",
    "image_file_list = list()\n",
    "\n",
    "for root, dirs, files in os.walk(base_dir):\n",
    "    for file in files:\n",
    "        if file.endswith('.tif'):\n",
    "            image_file_list.append(os.path.join(root, file))\n",
    "\n",
    "for image_file in image_file_list:\n",
    "    folder_up = os.path.relpath(os.path.dirname(image_file), base_dir)\n",
    "    file_name = os.path.basename(image_file)\n",
    "    print(f'{folder_up}/{file_name}')"
   ]
  },
  {
   "cell_type": "markdown",
   "id": "8325f475",
   "metadata": {},
   "source": [
    "# visualising all different stacks"
   ]
  },
  {
   "cell_type": "code",
   "execution_count": 3,
   "id": "c5168697",
   "metadata": {},
   "outputs": [],
   "source": [
    "from tqdm.auto import tqdm"
   ]
  },
  {
   "cell_type": "code",
   "execution_count": null,
   "id": "fa62379a",
   "metadata": {},
   "outputs": [
    {
     "data": {
      "application/vnd.jupyter.widget-view+json": {
       "model_id": "4a1f8d66b3634464863cbb581656e79f",
       "version_major": 2,
       "version_minor": 0
      },
      "text/plain": [
       "  0%|          | 0/26 [00:00<?, ?it/s]"
      ]
     },
     "metadata": {},
     "output_type": "display_data"
    },
    {
     "name": "stderr",
     "output_type": "stream",
     "text": [
      "/home/dayn/analysis/btrack/btrack/dataio.py:3: UserWarning: `btrack.dataio` has been deprecated. Please use `btrack.io` subpackage instead.\n",
      "  warnings.warn(  # noqa: B028\n"
     ]
    },
    {
     "name": "stdout",
     "output_type": "stream",
     "text": [
      "Assistant skips harvesting pyclesperanto as it's not installed.\n"
     ]
    },
    {
     "name": "stderr",
     "output_type": "stream",
     "text": [
      "WARNING: Unrecognized OpenGL version\n",
      "01-Aug-23 14:46:29 - vispy    - WARNING  - Unrecognized OpenGL version\n",
      "WARNING: Unrecognized OpenGL version\n",
      "01-Aug-23 14:46:29 - vispy    - WARNING  - Unrecognized OpenGL version\n",
      "WARNING: Unrecognized OpenGL version\n",
      "01-Aug-23 14:49:20 - vispy    - WARNING  - Unrecognized OpenGL version\n",
      "WARNING: Unrecognized OpenGL version\n",
      "01-Aug-23 14:49:20 - vispy    - WARNING  - Unrecognized OpenGL version\n",
      "WARNING: Unrecognized OpenGL version\n",
      "01-Aug-23 15:05:01 - vispy    - WARNING  - Unrecognized OpenGL version\n",
      "WARNING: Unrecognized OpenGL version\n",
      "01-Aug-23 15:05:01 - vispy    - WARNING  - Unrecognized OpenGL version\n",
      "WARNING: Unrecognized OpenGL version\n",
      "01-Aug-23 15:12:55 - vispy    - WARNING  - Unrecognized OpenGL version\n",
      "WARNING: Unrecognized OpenGL version\n",
      "01-Aug-23 15:12:55 - vispy    - WARNING  - Unrecognized OpenGL version\n"
     ]
    }
   ],
   "source": [
    "for i, fn in tqdm(enumerate(image_file_list), total = len(image_file_list)):\n",
    "    if i < 25:\n",
    "        continue\n",
    "    image = io.imread(fn)\n",
    "    viewer = napari.Viewer(title=fn)\n",
    "    viewer.add_image(image, channel_axis = -1)\n",
    "    viewer.show(block = True)"
   ]
  },
  {
   "cell_type": "code",
   "execution_count": 6,
   "id": "722d92a9",
   "metadata": {},
   "outputs": [
    {
     "name": "stderr",
     "output_type": "stream",
     "text": [
      "[INFO][2023/08/01 04:20:45 pm] Opening HDF file: /home/dayn/data/homuncu_loc_temp/run1_23-01-001_23-01-005/2h pi/20230707_40X_23-01-001A3_Multichannel Z-Stack_20230707_1314_z_tracks_masks.h5...\n",
      "01-Aug-23 16:20:45 - btrack.io.hdf - INFO     - Opening HDF file: /home/dayn/data/homuncu_loc_temp/run1_23-01-001_23-01-005/2h pi/20230707_40X_23-01-001A3_Multichannel Z-Stack_20230707_1314_z_tracks_masks.h5...\n",
      "[INFO][2023/08/01 04:20:52 pm] Loading segmentation (303, 2304, 2304)\n",
      "01-Aug-23 16:20:52 - btrack.io.hdf - INFO     - Loading segmentation (303, 2304, 2304)\n",
      "[INFO][2023/08/01 04:20:52 pm] Loading tracks/obj_type_1\n",
      "01-Aug-23 16:20:52 - btrack.io.hdf - INFO     - Loading tracks/obj_type_1\n",
      "[INFO][2023/08/01 04:20:52 pm] Loading LBEP/obj_type_1\n",
      "01-Aug-23 16:20:52 - btrack.io.hdf - INFO     - Loading LBEP/obj_type_1\n",
      "[INFO][2023/08/01 04:20:52 pm] Loading objects/obj_type_1 (12239, 5) (12239 filtered: None)\n",
      "01-Aug-23 16:20:52 - btrack.io.hdf - INFO     - Loading objects/obj_type_1 (12239, 5) (12239 filtered: None)\n",
      "[INFO][2023/08/01 04:20:53 pm] Closing HDF file: /home/dayn/data/homuncu_loc_temp/run1_23-01-001_23-01-005/2h pi/20230707_40X_23-01-001A3_Multichannel Z-Stack_20230707_1314_z_tracks_masks.h5\n",
      "01-Aug-23 16:20:53 - btrack.io.hdf - INFO     - Closing HDF file: /home/dayn/data/homuncu_loc_temp/run1_23-01-001_23-01-005/2h pi/20230707_40X_23-01-001A3_Multichannel Z-Stack_20230707_1314_z_tracks_masks.h5\n"
     ]
    }
   ],
   "source": [
    "with btrack.io.HDF5FileHandler('/home/dayn/data/homuncu_loc_temp/run1_23-01-001_23-01-005/2h pi/20230707_40X_23-01-001A3_Multichannel Z-Stack_20230707_1314_z_tracks_masks.h5', 'r', obj_type='obj_type_1') as reader:\n",
    "    segmentation = reader.segmentation\n",
    "    tracks = reader.tracks"
   ]
  },
  {
   "cell_type": "code",
   "execution_count": 5,
   "id": "1453c96d",
   "metadata": {},
   "outputs": [],
   "source": [
    "fn = image_file_list[-2]\n",
    "image = io.imread(fn)\n",
    "viewer = napari.Viewer(title=fn)\n",
    "viewer.add_image(image, channel_axis = -1)\n",
    "viewer.show(block = True)"
   ]
  },
  {
   "cell_type": "code",
   "execution_count": null,
   "id": "a978fdb1",
   "metadata": {},
   "outputs": [],
   "source": [
    "print()"
   ]
  },
  {
   "cell_type": "code",
   "execution_count": 7,
   "id": "5372672f",
   "metadata": {},
   "outputs": [
    {
     "name": "stderr",
     "output_type": "stream",
     "text": [
      "/home/dayn/miniconda3/envs/aero/lib/python3.9/site-packages/napari/layers/tracks/tracks.py:129: VisibleDeprecationWarning: Creating an ndarray from ragged nested sequences (which is a list-or-tuple of lists-or-tuples-or ndarrays with different lengths or shapes) is deprecated. If you meant to do this, you must specify 'dtype=object' when creating the ndarray.\n",
      "  data = np.asarray(data)\n"
     ]
    },
    {
     "ename": "IndexError",
     "evalue": "tuple index out of range",
     "output_type": "error",
     "traceback": [
      "\u001b[0;31m---------------------------------------------------------------------------\u001b[0m",
      "\u001b[0;31mIndexError\u001b[0m                                Traceback (most recent call last)",
      "Input \u001b[0;32mIn [7]\u001b[0m, in \u001b[0;36m<cell line: 4>\u001b[0;34m()\u001b[0m\n\u001b[1;32m      2\u001b[0m viewer\u001b[38;5;241m.\u001b[39madd_image(image, channel_axis \u001b[38;5;241m=\u001b[39m \u001b[38;5;241m-\u001b[39m\u001b[38;5;241m1\u001b[39m)\n\u001b[1;32m      3\u001b[0m viewer\u001b[38;5;241m.\u001b[39madd_labels(segmentation)\n\u001b[0;32m----> 4\u001b[0m \u001b[43mviewer\u001b[49m\u001b[38;5;241;43m.\u001b[39;49m\u001b[43madd_tracks\u001b[49m\u001b[43m(\u001b[49m\u001b[43mbtrack\u001b[49m\u001b[38;5;241;43m.\u001b[39;49m\u001b[43mutils\u001b[49m\u001b[38;5;241;43m.\u001b[39;49m\u001b[43mtracks_to_napari\u001b[49m\u001b[43m(\u001b[49m\u001b[43mtracks\u001b[49m\u001b[43m,\u001b[49m\u001b[43m \u001b[49m\u001b[43mndim\u001b[49m\u001b[43m \u001b[49m\u001b[38;5;241;43m=\u001b[39;49m\u001b[43m \u001b[49m\u001b[38;5;241;43m2\u001b[39;49m\u001b[43m)\u001b[49m\u001b[43m)\u001b[49m\n",
      "File \u001b[0;32m~/miniconda3/envs/aero/lib/python3.9/site-packages/napari/components/viewer_model.py:4\u001b[0m, in \u001b[0;36madd_tracks\u001b[0;34m(self, data, features, properties, graph, tail_width, tail_length, head_length, name, metadata, scale, translate, rotate, shear, affine, opacity, blending, visible, colormap, color_by, colormaps_dict, cache, experimental_clipping_planes)\u001b[0m\n\u001b[1;32m      1\u001b[0m \u001b[38;5;28;01mfrom\u001b[39;00m \u001b[38;5;21;01m__future__\u001b[39;00m \u001b[38;5;28;01mimport\u001b[39;00m annotations\n\u001b[1;32m      3\u001b[0m \u001b[38;5;28;01mimport\u001b[39;00m \u001b[38;5;21;01minspect\u001b[39;00m\n\u001b[0;32m----> 4\u001b[0m \u001b[38;5;28;01mimport\u001b[39;00m \u001b[38;5;21;01mitertools\u001b[39;00m\n\u001b[1;32m      5\u001b[0m \u001b[38;5;28;01mimport\u001b[39;00m \u001b[38;5;21;01mos\u001b[39;00m\n\u001b[1;32m      6\u001b[0m \u001b[38;5;28;01mimport\u001b[39;00m \u001b[38;5;21;01mwarnings\u001b[39;00m\n",
      "File \u001b[0;32m~/miniconda3/envs/aero/lib/python3.9/site-packages/napari/layers/tracks/tracks.py:132\u001b[0m, in \u001b[0;36mTracks.__init__\u001b[0;34m(self, data, features, properties, graph, tail_width, tail_length, head_length, name, metadata, scale, translate, rotate, shear, affine, opacity, blending, visible, colormap, color_by, colormaps_dict, cache, experimental_clipping_planes)\u001b[0m\n\u001b[1;32m    129\u001b[0m     data \u001b[38;5;241m=\u001b[39m np\u001b[38;5;241m.\u001b[39masarray(data)\n\u001b[1;32m    131\u001b[0m \u001b[38;5;66;03m# set the track data dimensions (remove ID from data)\u001b[39;00m\n\u001b[0;32m--> 132\u001b[0m ndim \u001b[38;5;241m=\u001b[39m \u001b[43mdata\u001b[49m\u001b[38;5;241;43m.\u001b[39;49m\u001b[43mshape\u001b[49m\u001b[43m[\u001b[49m\u001b[38;5;241;43m1\u001b[39;49m\u001b[43m]\u001b[49m \u001b[38;5;241m-\u001b[39m \u001b[38;5;241m1\u001b[39m\n\u001b[1;32m    134\u001b[0m \u001b[38;5;28msuper\u001b[39m()\u001b[38;5;241m.\u001b[39m\u001b[38;5;21m__init__\u001b[39m(\n\u001b[1;32m    135\u001b[0m     data,\n\u001b[1;32m    136\u001b[0m     ndim,\n\u001b[0;32m   (...)\u001b[0m\n\u001b[1;32m    148\u001b[0m     experimental_clipping_planes\u001b[38;5;241m=\u001b[39mexperimental_clipping_planes,\n\u001b[1;32m    149\u001b[0m )\n\u001b[1;32m    151\u001b[0m \u001b[38;5;28mself\u001b[39m\u001b[38;5;241m.\u001b[39mevents\u001b[38;5;241m.\u001b[39madd(\n\u001b[1;32m    152\u001b[0m     tail_width\u001b[38;5;241m=\u001b[39mEvent,\n\u001b[1;32m    153\u001b[0m     tail_length\u001b[38;5;241m=\u001b[39mEvent,\n\u001b[0;32m   (...)\u001b[0m\n\u001b[1;32m    162\u001b[0m     rebuild_graph\u001b[38;5;241m=\u001b[39mEvent,\n\u001b[1;32m    163\u001b[0m )\n",
      "\u001b[0;31mIndexError\u001b[0m: tuple index out of range"
     ]
    }
   ],
   "source": [
    "viewer = napari.Viewer(title=fn)\n",
    "viewer.add_image(image, channel_axis = -1)\n",
    "viewer.add_labels(segmentation)\n",
    "viewer.add_tracks(btrack.utils.tracks_to_napari(tracks, ndim = 2))"
   ]
  }
 ],
 "metadata": {
  "kernelspec": {
   "display_name": "Python 3 (ipykernel)",
   "language": "python",
   "name": "python3"
  },
  "language_info": {
   "codemirror_mode": {
    "name": "ipython",
    "version": 3
   },
   "file_extension": ".py",
   "mimetype": "text/x-python",
   "name": "python",
   "nbconvert_exporter": "python",
   "pygments_lexer": "ipython3",
   "version": "3.12.3"
  }
 },
 "nbformat": 4,
 "nbformat_minor": 5
}
