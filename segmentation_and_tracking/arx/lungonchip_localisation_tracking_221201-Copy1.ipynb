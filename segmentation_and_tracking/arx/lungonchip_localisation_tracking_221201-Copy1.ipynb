{
 "cells": [
  {
   "cell_type": "markdown",
   "id": "0d243d9a",
   "metadata": {},
   "source": [
    "# LoC image analysis\n",
    "\n",
    "This notebook is designed to take the raw output of a LoC data set, monolayer or bilayer, and:\n",
    " (trying to check if dask multichan works)\n",
    "\n",
    "5. Localise and measure properties\n",
    "6. Unite the localisations over the z-range\n",
    "7. Save out the Z-tracks\n",
    "8. Extract the maximum intensity from each cell"
   ]
  },
  {
   "cell_type": "code",
   "execution_count": 1,
   "id": "b3341d38",
   "metadata": {},
   "outputs": [],
   "source": [
    "import os\n",
    "import glob\n",
    "from octopusheavy import DaskOctopusHeavyLoader\n",
    "import napari\n",
    "from skimage.io import imshow,  imsave, imread\n",
    "import napari\n",
    "import btrack\n",
    "from tqdm.auto import tqdm\n",
    "import dask.array as da"
   ]
  },
  {
   "cell_type": "markdown",
   "id": "ce96b2e7",
   "metadata": {},
   "source": [
    "# Loading images\n",
    "\n",
    "Define root path and individual experiment IDs"
   ]
  },
  {
   "cell_type": "code",
   "execution_count": 2,
   "id": "f17b38de",
   "metadata": {},
   "outputs": [],
   "source": [
    "root_path = '/run/user/30046150/gvfs/smb-share:server=data.thecrick.org,share=lab-gutierrezm/home/shared/Lung on chip/Light microscopy'"
   ]
  },
  {
   "cell_type": "code",
   "execution_count": 3,
   "id": "577b6085",
   "metadata": {},
   "outputs": [],
   "source": [
    "expt_IDs = ['co-culture/iVECs+iAT2AT1/Folder_20220808/A2-A5/analysis_20221125/DAPI-SPC-PDPN-ZO1/_20220808_kolf-WT_co-culture_20x_A2-A5_Multichannel Z-Stack_20220808_60_/images/',\n",
    "            'co-culture/iVECs+iAT2AT1/Folder_20220808/A2-A5/analysis_20221125/DAPI-VWF-iCAM1-ZO1/_20220808_kolf-WT_co-culture_20x_A2-A5_Multichannel Z-Stack_20220808_70_/images/',\n",
    "            'mono-culture/iAT2AT1/for analysis_20221125/DAPI-AQP5-proSPC-ZO1/Day7_static/_20x_21-12-031B_A12456_Multichannel Z-Stack_20220811_150_/images/',\n",
    "            'mono-culture/iAT2AT1/for analysis_20221125/DAPI-AQP5-proSPC-ZO1/Day14_static/_20x_21-12-028A_A23456_Multichannel Z-Stack_20220818_262_/images/',\n",
    "            'mono-culture/iAT2AT1/for analysis_20221125/DAPI-CAV1-proSPC-ZO1/Day7_static/_20x_21-12-031B_A12456_Multichannel Z-Stack_20220811_130_/images/',\n",
    "            'mono-culture/iAT2AT1/for analysis_20221125/DAPI-CAV1-proSPC-ZO1/Day14_static/_20x_21-12-028A_A23456_Multichannel Z-Stack_20220818_253_/images/'\n",
    "           ]"
   ]
  },
  {
   "cell_type": "markdown",
   "id": "b9560206",
   "metadata": {},
   "source": [
    "## Check to see what channels each expt has"
   ]
  },
  {
   "cell_type": "code",
   "execution_count": null,
   "id": "8a6515c5",
   "metadata": {},
   "outputs": [],
   "source": []
  },
  {
   "cell_type": "code",
   "execution_count": 4,
   "id": "b51972e4",
   "metadata": {},
   "outputs": [
    {
     "name": "stdout",
     "output_type": "stream",
     "text": [
      "0 [<Channels.CH1: 1>, <Channels.CH2: 2>, <Channels.CH3: 3>, <Channels.CH4: 4>, <Channels.MASK1: 99>]\n",
      "1 [<Channels.CH1: 1>, <Channels.CH2: 2>, <Channels.CH3: 3>, <Channels.CH4: 4>, <Channels.MASK1: 99>]\n",
      "2 [<Channels.CH1: 1>, <Channels.CH2: 2>, <Channels.CH3: 3>, <Channels.CH4: 4>, <Channels.MASK1: 99>]\n",
      "3 [<Channels.CH1: 1>, <Channels.CH2: 2>, <Channels.CH3: 3>, <Channels.CH4: 4>, <Channels.MASK1: 99>]\n",
      "4 [<Channels.CH1: 1>, <Channels.CH2: 2>, <Channels.CH3: 3>, <Channels.CH4: 4>, <Channels.MASK1: 99>]\n",
      "5 [<Channels.CH1: 1>, <Channels.CH2: 2>, <Channels.CH3: 3>, <Channels.CH4: 4>, <Channels.MASK1: 99>]\n"
     ]
    }
   ],
   "source": [
    "for i, expt in enumerate(expt_IDs):\n",
    "    images = DaskOctopusHeavyLoader(os.path.join(root_path, expt), remove_background=False)\n",
    "    if 'MASK1' in [channel.name for channel in images.channels]:\n",
    "        images = DaskOctopusHeavyLoader(os.path.join(root_path, expt), remove_background=False)\n",
    "        print(i, images.channels)"
   ]
  },
  {
   "cell_type": "code",
   "execution_count": 5,
   "id": "bf25888a",
   "metadata": {},
   "outputs": [
    {
     "data": {
      "text/html": [
       "<table>\n",
       "<tr>\n",
       "<td>\n",
       "<table>\n",
       "  <thead>\n",
       "    <tr><td> </td><th> Array </th><th> Chunk </th></tr>\n",
       "  </thead>\n",
       "  <tbody>\n",
       "    <tr><th> Bytes </th><td> 820.12 MiB </td> <td> 10.12 MiB </td></tr>\n",
       "    <tr><th> Shape </th><td> (81, 2304, 2304) </td> <td> (1, 2304, 2304) </td></tr>\n",
       "    <tr><th> Count </th><td> 243 Tasks </td><td> 81 Chunks </td></tr>\n",
       "    <tr><th> Type </th><td> uint16 </td><td> numpy.ndarray </td></tr>\n",
       "  </tbody>\n",
       "</table>\n",
       "</td>\n",
       "<td>\n",
       "<svg width=\"199\" height=\"189\" style=\"stroke:rgb(0,0,0);stroke-width:1\" >\n",
       "\n",
       "  <!-- Horizontal lines -->\n",
       "  <line x1=\"10\" y1=\"0\" x2=\"29\" y2=\"19\" style=\"stroke-width:2\" />\n",
       "  <line x1=\"10\" y1=\"120\" x2=\"29\" y2=\"139\" style=\"stroke-width:2\" />\n",
       "\n",
       "  <!-- Vertical lines -->\n",
       "  <line x1=\"10\" y1=\"0\" x2=\"10\" y2=\"120\" style=\"stroke-width:2\" />\n",
       "  <line x1=\"10\" y1=\"0\" x2=\"10\" y2=\"120\" />\n",
       "  <line x1=\"11\" y1=\"1\" x2=\"11\" y2=\"121\" />\n",
       "  <line x1=\"12\" y1=\"2\" x2=\"12\" y2=\"122\" />\n",
       "  <line x1=\"13\" y1=\"3\" x2=\"13\" y2=\"123\" />\n",
       "  <line x1=\"14\" y1=\"4\" x2=\"14\" y2=\"124\" />\n",
       "  <line x1=\"15\" y1=\"5\" x2=\"15\" y2=\"125\" />\n",
       "  <line x1=\"16\" y1=\"6\" x2=\"16\" y2=\"126\" />\n",
       "  <line x1=\"17\" y1=\"7\" x2=\"17\" y2=\"127\" />\n",
       "  <line x1=\"18\" y1=\"8\" x2=\"18\" y2=\"128\" />\n",
       "  <line x1=\"19\" y1=\"9\" x2=\"19\" y2=\"129\" />\n",
       "  <line x1=\"20\" y1=\"10\" x2=\"20\" y2=\"130\" />\n",
       "  <line x1=\"21\" y1=\"11\" x2=\"21\" y2=\"131\" />\n",
       "  <line x1=\"22\" y1=\"12\" x2=\"22\" y2=\"132\" />\n",
       "  <line x1=\"23\" y1=\"13\" x2=\"23\" y2=\"133\" />\n",
       "  <line x1=\"24\" y1=\"14\" x2=\"24\" y2=\"134\" />\n",
       "  <line x1=\"25\" y1=\"15\" x2=\"25\" y2=\"135\" />\n",
       "  <line x1=\"26\" y1=\"16\" x2=\"26\" y2=\"136\" />\n",
       "  <line x1=\"27\" y1=\"17\" x2=\"27\" y2=\"137\" />\n",
       "  <line x1=\"29\" y1=\"19\" x2=\"29\" y2=\"139\" style=\"stroke-width:2\" />\n",
       "\n",
       "  <!-- Colored Rectangle -->\n",
       "  <polygon points=\"10.0,0.0 29.02765395748794,19.02765395748794 29.02765395748794,139.02765395748793 10.0,120.0\" style=\"fill:#8B4903A0;stroke-width:0\"/>\n",
       "\n",
       "  <!-- Horizontal lines -->\n",
       "  <line x1=\"10\" y1=\"0\" x2=\"130\" y2=\"0\" style=\"stroke-width:2\" />\n",
       "  <line x1=\"10\" y1=\"0\" x2=\"130\" y2=\"0\" />\n",
       "  <line x1=\"11\" y1=\"1\" x2=\"131\" y2=\"1\" />\n",
       "  <line x1=\"12\" y1=\"2\" x2=\"132\" y2=\"2\" />\n",
       "  <line x1=\"13\" y1=\"3\" x2=\"133\" y2=\"3\" />\n",
       "  <line x1=\"14\" y1=\"4\" x2=\"134\" y2=\"4\" />\n",
       "  <line x1=\"15\" y1=\"5\" x2=\"135\" y2=\"5\" />\n",
       "  <line x1=\"16\" y1=\"6\" x2=\"136\" y2=\"6\" />\n",
       "  <line x1=\"17\" y1=\"7\" x2=\"137\" y2=\"7\" />\n",
       "  <line x1=\"18\" y1=\"8\" x2=\"138\" y2=\"8\" />\n",
       "  <line x1=\"19\" y1=\"9\" x2=\"139\" y2=\"9\" />\n",
       "  <line x1=\"20\" y1=\"10\" x2=\"140\" y2=\"10\" />\n",
       "  <line x1=\"21\" y1=\"11\" x2=\"141\" y2=\"11\" />\n",
       "  <line x1=\"22\" y1=\"12\" x2=\"142\" y2=\"12\" />\n",
       "  <line x1=\"23\" y1=\"13\" x2=\"143\" y2=\"13\" />\n",
       "  <line x1=\"24\" y1=\"14\" x2=\"144\" y2=\"14\" />\n",
       "  <line x1=\"25\" y1=\"15\" x2=\"145\" y2=\"15\" />\n",
       "  <line x1=\"26\" y1=\"16\" x2=\"146\" y2=\"16\" />\n",
       "  <line x1=\"27\" y1=\"17\" x2=\"147\" y2=\"17\" />\n",
       "  <line x1=\"29\" y1=\"19\" x2=\"149\" y2=\"19\" style=\"stroke-width:2\" />\n",
       "\n",
       "  <!-- Vertical lines -->\n",
       "  <line x1=\"10\" y1=\"0\" x2=\"29\" y2=\"19\" style=\"stroke-width:2\" />\n",
       "  <line x1=\"130\" y1=\"0\" x2=\"149\" y2=\"19\" style=\"stroke-width:2\" />\n",
       "\n",
       "  <!-- Colored Rectangle -->\n",
       "  <polygon points=\"10.0,0.0 130.0,0.0 149.02765395748793,19.02765395748794 29.02765395748794,19.02765395748794\" style=\"fill:#8B4903A0;stroke-width:0\"/>\n",
       "\n",
       "  <!-- Horizontal lines -->\n",
       "  <line x1=\"29\" y1=\"19\" x2=\"149\" y2=\"19\" style=\"stroke-width:2\" />\n",
       "  <line x1=\"29\" y1=\"139\" x2=\"149\" y2=\"139\" style=\"stroke-width:2\" />\n",
       "\n",
       "  <!-- Vertical lines -->\n",
       "  <line x1=\"29\" y1=\"19\" x2=\"29\" y2=\"139\" style=\"stroke-width:2\" />\n",
       "  <line x1=\"149\" y1=\"19\" x2=\"149\" y2=\"139\" style=\"stroke-width:2\" />\n",
       "\n",
       "  <!-- Colored Rectangle -->\n",
       "  <polygon points=\"29.02765395748794,19.02765395748794 149.02765395748793,19.02765395748794 149.02765395748793,139.02765395748793 29.02765395748794,139.02765395748793\" style=\"fill:#ECB172A0;stroke-width:0\"/>\n",
       "\n",
       "  <!-- Text -->\n",
       "  <text x=\"89.027654\" y=\"159.027654\" font-size=\"1.0rem\" font-weight=\"100\" text-anchor=\"middle\" >2304</text>\n",
       "  <text x=\"169.027654\" y=\"79.027654\" font-size=\"1.0rem\" font-weight=\"100\" text-anchor=\"middle\" transform=\"rotate(-90,169.027654,79.027654)\">2304</text>\n",
       "  <text x=\"9.513827\" y=\"149.513827\" font-size=\"1.0rem\" font-weight=\"100\" text-anchor=\"middle\" transform=\"rotate(45,9.513827,149.513827)\">81</text>\n",
       "</svg>\n",
       "</td>\n",
       "</tr>\n",
       "</table>"
      ],
      "text/plain": [
       "dask.array<stack, shape=(81, 2304, 2304), dtype=uint16, chunksize=(1, 2304, 2304), chunktype=numpy.ndarray>"
      ]
     },
     "execution_count": 5,
     "metadata": {},
     "output_type": "execute_result"
    }
   ],
   "source": [
    "images['CH1']"
   ]
  },
  {
   "cell_type": "markdown",
   "id": "9b7d03a9",
   "metadata": {},
   "source": [
    "### Defining properties to measure similarities of z-slices"
   ]
  },
  {
   "cell_type": "code",
   "execution_count": 6,
   "id": "841334ba",
   "metadata": {},
   "outputs": [],
   "source": [
    "props = ('axis_major_length', \n",
    "         'axis_minor_length', \n",
    "         'eccentricity', \n",
    "         'area', \n",
    "         #'intensity_image', \n",
    "         'orientation',\n",
    "         'mean_intensity')"
   ]
  },
  {
   "cell_type": "markdown",
   "id": "bab7f772",
   "metadata": {},
   "source": [
    "# Retracking hte first coculture"
   ]
  },
  {
   "cell_type": "code",
   "execution_count": 7,
   "id": "c8a48401",
   "metadata": {
    "scrolled": false
   },
   "outputs": [
    {
     "data": {
      "application/vnd.jupyter.widget-view+json": {
       "model_id": "6e61292118914289976269b9283e9297",
       "version_major": 2,
       "version_minor": 0
      },
      "text/plain": [
       "  0%|          | 0/6 [00:00<?, ?it/s]"
      ]
     },
     "metadata": {},
     "output_type": "display_data"
    },
    {
     "name": "stderr",
     "output_type": "stream",
     "text": [
      "[INFO][2022/12/02 11:29:08 AM] Localizing objects from segmentation...\n",
      "[INFO][2022/12/02 11:29:08 AM] Found intensity_image data\n",
      "[INFO][2022/12/02 11:31:23 AM] Objects are of type: <class 'dict'>\n",
      "[INFO][2022/12/02 11:31:24 AM] ...Found 70496 objects in 81 frames.\n",
      "[INFO][2022/12/02 11:31:24 AM] Loaded btrack: /home/dayn/analysis/BayesianTracker/btrack/libs/libtracker.so\n",
      "[INFO][2022/12/02 11:31:24 AM] btrack (v0.5.0) library imported\n",
      "[INFO][2022/12/02 11:31:24 AM] Starting BayesianTracker session\n",
      "[INFO][2022/12/02 11:31:24 AM] Loading configuration file: /home/dayn/analysis/BayesianTracker/models/particle_config.json\n",
      "[INFO][2022/12/02 11:31:24 AM] Setting max_search_radius -> 100\n",
      "[INFO][2022/12/02 11:31:24 AM] Setting features -> ('axis_major_length', 'axis_minor_length', 'eccentricity', 'area', 'orientation', 'mean_intensity-0', 'mean_intensity-1', 'mean_intensity-2', 'mean_intensity-3')\n",
      "[INFO][2022/12/02 11:31:24 AM] Objects are of type: <class 'list'>\n",
      "[INFO][2022/12/02 11:31:26 AM] Setting volume -> ((0, 2304), (0, 2304), (-100000.0, 100000.0))\n",
      "[INFO][2022/12/02 11:31:26 AM] Starting tracking... \n",
      "[INFO][2022/12/02 11:31:26 AM] Update using: ['VISUAL', 'MOTION']\n",
      "[INFO][2022/12/02 11:31:26 AM] Tracking objects in frames 0 to 9 (of 81)...\n",
      "[INFO][2022/12/02 11:31:29 AM]  - Timing (Bayesian updates: 497.73ms, Linking: 7.18ms)\n",
      "[INFO][2022/12/02 11:31:29 AM]  - Probabilities (Link: 1.00000, Lost: 0.76112)\n",
      "[INFO][2022/12/02 11:31:29 AM]  - Stats (Active: 1192, Lost: 833, Conflicts resolved: 1129)\n",
      "[INFO][2022/12/02 11:31:29 AM] Tracking objects in frames 10 to 19 (of 81)...\n",
      "[INFO][2022/12/02 11:34:45 AM]  - Timing (Bayesian updates: 25075.55ms, Linking: 62.98ms)\n",
      "[INFO][2022/12/02 11:34:45 AM]  - Probabilities (Link: 1.00000, Lost: 0.54012)\n",
      "[INFO][2022/12/02 11:34:45 AM]  - Stats (Active: 5085, Lost: 3939, Conflicts resolved: 6873)\n",
      "[INFO][2022/12/02 11:34:45 AM] Tracking objects in frames 20 to 29 (of 81)...\n",
      "[INFO][2022/12/02 11:41:10 AM]  - Timing (Bayesian updates: 2359.90ms, Linking: 32.32ms)\n",
      "[INFO][2022/12/02 11:41:10 AM]  - Probabilities (Link: 0.99993, Lost: 1.00000)\n",
      "[INFO][2022/12/02 11:41:10 AM]  - Stats (Active: 4568, Lost: 14067, Conflicts resolved: 16175)\n",
      "[INFO][2022/12/02 11:41:10 AM] Tracking objects in frames 30 to 39 (of 81)...\n",
      "[INFO][2022/12/02 11:41:20 AM]  - Timing (Bayesian updates: 225.73ms, Linking: 6.98ms)\n",
      "[INFO][2022/12/02 11:41:20 AM]  - Probabilities (Link: 1.00000, Lost: 0.99999)\n",
      "[INFO][2022/12/02 11:41:20 AM]  - Stats (Active: 1588, Lost: 26347, Conflicts resolved: 18550)\n",
      "[INFO][2022/12/02 11:41:20 AM] Tracking objects in frames 40 to 49 (of 81)...\n",
      "[INFO][2022/12/02 11:41:21 AM]  - Timing (Bayesian updates: 4.64ms, Linking: 1.35ms)\n",
      "[INFO][2022/12/02 11:41:21 AM]  - Probabilities (Link: 0.68615, Lost: 0.99187)\n",
      "[INFO][2022/12/02 11:41:21 AM]  - Stats (Active: 487, Lost: 33645, Conflicts resolved: 19334)\n",
      "[INFO][2022/12/02 11:41:21 AM] Tracking objects in frames 50 to 59 (of 81)...\n",
      "[INFO][2022/12/02 11:41:21 AM]  - Timing (Bayesian updates: 0.10ms, Linking: 0.42ms)\n",
      "[INFO][2022/12/02 11:41:21 AM]  - Probabilities (Link: 1.00000, Lost: 1.00000)\n",
      "[INFO][2022/12/02 11:41:21 AM]  - Stats (Active: 114, Lost: 35112, Conflicts resolved: 19560)\n",
      "[INFO][2022/12/02 11:41:21 AM] Tracking objects in frames 60 to 69 (of 81)...\n",
      "[INFO][2022/12/02 11:41:21 AM]  - Timing (Bayesian updates: 1.20ms, Linking: 0.74ms)\n",
      "[INFO][2022/12/02 11:41:21 AM]  - Probabilities (Link: 0.99987, Lost: 0.99989)\n",
      "[INFO][2022/12/02 11:41:21 AM]  - Stats (Active: 151, Lost: 35637, Conflicts resolved: 19638)\n",
      "[INFO][2022/12/02 11:41:21 AM] Tracking objects in frames 70 to 79 (of 81)...\n",
      "[INFO][2022/12/02 11:41:21 AM]  - Timing (Bayesian updates: 0.90ms, Linking: 0.70ms)\n",
      "[INFO][2022/12/02 11:41:21 AM]  - Probabilities (Link: 0.99801, Lost: 1.00000)\n",
      "[INFO][2022/12/02 11:41:21 AM] SUCCESS.\n",
      "[INFO][2022/12/02 11:41:21 AM]  - Found 11588 tracks in 81 frames (in 0.0s)\n",
      "[INFO][2022/12/02 11:41:21 AM]  - Inserted 16598 dummy objects to fill tracking gaps\n",
      "[INFO][2022/12/02 11:41:21 AM] Loading hypothesis model: particle_hypothesis\n",
      "[INFO][2022/12/02 11:41:21 AM] Calculating hypotheses (relax: True)...\n",
      "[INFO][2022/12/02 11:41:22 AM] Setting up constraints matrix for global optimisation...\n",
      "[INFO][2022/12/02 11:41:22 AM] Using GLPK options: {'tm_lim': 60000}...\n",
      "[INFO][2022/12/02 11:41:22 AM] Optimizing...\n",
      "[INFO][2022/12/02 11:41:33 AM] Optimization complete. (Solution: optimal)\n",
      "[INFO][2022/12/02 11:41:33 AM]  - Fates.FALSE_POSITIVE: 4438 (of 11588)\n",
      "[INFO][2022/12/02 11:41:33 AM]  - Fates.LINK: 1687 (of 6395)\n",
      "[INFO][2022/12/02 11:41:33 AM]  - Fates.INITIALIZE_BORDER: 419 (of 651)\n",
      "[INFO][2022/12/02 11:41:33 AM]  - Fates.INITIALIZE_FRONT: 309 (of 374)\n",
      "[INFO][2022/12/02 11:41:33 AM]  - Fates.INITIALIZE_LAZY: 4735 (of 10563)\n",
      "[INFO][2022/12/02 11:41:33 AM]  - Fates.TERMINATE_BORDER: 348 (of 555)\n",
      "[INFO][2022/12/02 11:41:33 AM]  - Fates.TERMINATE_BACK: 142 (of 178)\n",
      "[INFO][2022/12/02 11:41:33 AM]  - Fates.TERMINATE_LAZY: 4973 (of 10855)\n",
      "[INFO][2022/12/02 11:41:33 AM]  - TOTAL: 41159 hypotheses\n",
      "[INFO][2022/12/02 11:41:33 AM] Completed optimization with 9901 tracks\n"
     ]
    },
    {
     "name": "stdout",
     "output_type": "stream",
     "text": [
      "GLPK Integer Optimizer 5.0\n",
      "46352 rows, 41159 columns, 59142 non-zeros\n",
      "41159 integer variables, all of which are binary\n",
      "Preprocessing...\n",
      "23176 rows, 41159 columns, 59142 non-zeros\n",
      "41159 integer variables, all of which are binary\n",
      "Scaling...\n",
      " A: min|aij| =  1.000e+00  max|aij| =  1.000e+00  ratio =  1.000e+00\n",
      "Problem data seem to be well scaled\n",
      "Constructing initial basis...\n",
      "Size of triangular part is 23176\n",
      "Solving LP relaxation...\n",
      "GLPK Simplex Optimizer 5.0\n",
      "23176 rows, 41159 columns, 59142 non-zeros\n",
      "*     0: obj =   1.470728152e+05 inf =   0.000e+00 (12076)\n",
      "Perturbing LP to avoid stalling [1021]...\n",
      "*  5623: obj =   1.049431084e+05 inf =   0.000e+00 (4372)\n",
      "* 10489: obj =   9.041514166e+04 inf =   0.000e+00 (209) 7\n",
      "Removing LP perturbation [10714]...\n",
      "* 10714: obj =   9.037771352e+04 inf =   0.000e+00 (0) 1\n",
      "OPTIMAL LP SOLUTION FOUND\n",
      "Integer optimization begins...\n",
      "Long-step dual simplex will be used\n",
      "+ 10714: mip =     not found yet >=              -inf        (1; 0)\n",
      "+ 10714: >>>>>   9.037771352e+04 >=   9.037771352e+04   0.0% (1; 0)\n",
      "+ 10714: mip =   9.037771352e+04 >=     tree is empty   0.0% (0; 1)\n",
      "INTEGER OPTIMAL SOLUTION FOUND\n"
     ]
    },
    {
     "name": "stderr",
     "output_type": "stream",
     "text": [
      "[WARNING][2022/12/02 11:41:33 AM] Changing HDF filename to co-culture_iVECs+iAT2AT1_Folder_20220808_A2-A5_analysis_20221125_DAPI-SPC-PDPN-ZO1__20220808_kolf-WT_co-culture_20x_A2-A5_Multichannel Z-Stack_20220808_60__tracks.h5\n",
      "[INFO][2022/12/02 11:41:33 AM] Opening HDF file: co-culture_iVECs+iAT2AT1_Folder_20220808_A2-A5_analysis_20221125_DAPI-SPC-PDPN-ZO1__20220808_kolf-WT_co-culture_20x_A2-A5_Multichannel Z-Stack_20220808_60__tracks.h5...\n",
      "[INFO][2022/12/02 11:41:34 AM] Writing tracks/obj_type_1\n",
      "[WARNING][2022/12/02 11:41:34 AM] Removing tracks/obj_type_1.\n",
      "[INFO][2022/12/02 11:41:34 AM] Writing dummies/obj_type_1\n",
      "[INFO][2022/12/02 11:41:34 AM] Writing LBEP/obj_type_1\n",
      "[INFO][2022/12/02 11:41:34 AM] Writing fates/obj_type_1\n",
      "[INFO][2022/12/02 11:41:34 AM] Closing HDF file: co-culture_iVECs+iAT2AT1_Folder_20220808_A2-A5_analysis_20221125_DAPI-SPC-PDPN-ZO1__20220808_kolf-WT_co-culture_20x_A2-A5_Multichannel Z-Stack_20220808_60__tracks.h5\n",
      "[INFO][2022/12/02 11:41:34 AM] Ending BayesianTracker session\n"
     ]
    }
   ],
   "source": [
    "for i, expt in tqdm(enumerate(expt_IDs), total = len(expt_IDs)):\n",
    "    props = ('axis_major_length', \n",
    "         'axis_minor_length', \n",
    "         'eccentricity', \n",
    "         'area', \n",
    "         #'intensity_image', \n",
    "         'orientation',\n",
    "         'mean_intensity')\n",
    "    images = DaskOctopusHeavyLoader(os.path.join(root_path, expt), remove_background=False)\n",
    "    multichannel_stack = da.stack([images['CH1'], images['CH2'], images['CH3'], images['CH4']], axis = -1)\n",
    "    if 'MASK1' in [channel.name for channel in images.channels]: \n",
    "        ### create filename for tracks and objects \n",
    "        dirname = os.path.dirname(images.files('CH1')[0]).replace('images','')\n",
    "        objects_fn = os.path.join(dirname, 'objects.hdf5')\n",
    "        tracks_fn = os.path.join(dirname, 'tracks.hdf5')\n",
    "        ### try saving locally instead of online\n",
    "        tracks_fn = tracks_fn.split('Light microscopy/')[-1].replace('/', '_')\n",
    "        objects = btrack.utils.segmentation_to_objects(\n",
    "            images['MASK1'], \n",
    "            multichannel_stack,\n",
    "            properties = props,#('area', 'mean_intensity', 'intensity_image'), \n",
    "            use_weighted_centroid = False\n",
    "        )\n",
    "        ### prune objects \n",
    "        objects = [o for o in objects if o.properties['area']>50]\n",
    "#         ### save out objects\n",
    "#         with btrack.dataio.HDF5FileHandler(\n",
    "#              objects_fn, 'w', obj_type='obj_type_1',\n",
    "#         ) as hdf:\n",
    "#             hdf.write_segmentation(images['MASK1'])\n",
    "#             hdf.write_objects(objects)\n",
    "        ### redefine properties as multichannel image was measured\n",
    "        props = ('axis_major_length', \n",
    "             'axis_minor_length', \n",
    "             'eccentricity', \n",
    "             'area', \n",
    "             #'intensity_image', \n",
    "             'orientation',\n",
    "             'mean_intensity-0',\n",
    "             'mean_intensity-1',\n",
    "             'mean_intensity-2',\n",
    "             'mean_intensity-3',)\n",
    "        \n",
    "        # initialise a tracker session using a context manager\n",
    "        with btrack.BayesianTracker() as tracker:\n",
    "            # configure the tracker using a config file\n",
    "            tracker.configure('/home/dayn/analysis/BayesianTracker/models/particle_config.json')\n",
    "            tracker.verbose = True\n",
    "            ### set max search radius\n",
    "            tracker.max_search_radius = 100\n",
    "            # use visual features to track\n",
    "            tracker.features = props\n",
    "            # append the objects to be tracked\n",
    "            tracker.append(objects)\n",
    "            # set the volume (Z axis volume limits default to [-1e5, 1e5] for 2D data)\n",
    "            tracker.volume=((0, 2304), (0, 2304), (-1e5, 1e5))\n",
    "            # track them (in interactive mode)\n",
    "#             tracker.track_interactive(step_size=100)\n",
    "            tracker.track(tracking_updates =['visual', 'motion'], step_size=10)\n",
    "            # generate hypotheses and run the global optimizer\n",
    "            tracker.optimize()\n",
    "            # get the tracks as a python list\n",
    "            tracks = tracker.tracks\n",
    "#             # filter tracks\n",
    "#             tracks = [track for track in tracks if len(track) >= 3]\n",
    "            # optional: get the data in a format for napari\n",
    "            #   data, properties, graph = tracker.to_napari()\n",
    "            tracker.export('test_cocult.hdf5', obj_type = 'obj_type_1')\n",
    "    break"
   ]
  },
  {
   "cell_type": "code",
   "execution_count": 9,
   "id": "4bf64b16",
   "metadata": {},
   "outputs": [
    {
     "data": {
      "text/plain": [
       "'co-culture_iVECs+iAT2AT1_Folder_20220808_A2-A5_analysis_20221125_DAPI-SPC-PDPN-ZO1__20220808_kolf-WT_co-culture_20x_A2-A5_Multichannel Z-Stack_20220808_60__tracks.hdf5'"
      ]
     },
     "execution_count": 9,
     "metadata": {},
     "output_type": "execute_result"
    }
   ],
   "source": [
    "tracks_fn"
   ]
  },
  {
   "cell_type": "code",
   "execution_count": 22,
   "id": "92f1e385",
   "metadata": {},
   "outputs": [
    {
     "data": {
      "text/html": [
       "<table border=\"1\" class=\"dataframe\">\n",
       "  <thead>\n",
       "    <tr style=\"text-align: right;\">\n",
       "      <th></th>\n",
       "      <th>ID</th>\n",
       "      <th>t</th>\n",
       "      <th>x</th>\n",
       "      <th>y</th>\n",
       "      <th>z</th>\n",
       "      <th>parent</th>\n",
       "      <th>root</th>\n",
       "      <th>state</th>\n",
       "      <th>generation</th>\n",
       "      <th>dummy</th>\n",
       "      <th>mean_intensity-3</th>\n",
       "      <th>axis_minor_length</th>\n",
       "      <th>orientation</th>\n",
       "      <th>mean_intensity-1</th>\n",
       "      <th>mean_intensity-0</th>\n",
       "      <th>mean_intensity-2</th>\n",
       "      <th>eccentricity</th>\n",
       "      <th>axis_major_length</th>\n",
       "      <th>area</th>\n",
       "    </tr>\n",
       "  </thead>\n",
       "  <tbody>\n",
       "    <tr>\n",
       "      <th>0</th>\n",
       "      <td>93</td>\n",
       "      <td>0</td>\n",
       "      <td>1128.883333</td>\n",
       "      <td>3.766667</td>\n",
       "      <td>0.0</td>\n",
       "      <td>93</td>\n",
       "      <td>93</td>\n",
       "      <td>5</td>\n",
       "      <td>0</td>\n",
       "      <td>False</td>\n",
       "      <td>(1,) array</td>\n",
       "      <td>(1,) array</td>\n",
       "      <td>(1,) array</td>\n",
       "      <td>(1,) array</td>\n",
       "      <td>(1,) array</td>\n",
       "      <td>(1,) array</td>\n",
       "      <td>(1,) array</td>\n",
       "      <td>(1,) array</td>\n",
       "      <td>(1,) array</td>\n",
       "    </tr>\n",
       "  </tbody>\n",
       "</table>"
      ],
      "text/plain": [
       "OrderedDict([('ID', 93), ('t', [0]), ('x', [1128.8833333333334]), ('y', [3.7666666666666666]), ('z', [0.0]), ('parent', 93), ('root', 93), ('state', [5]), ('generation', 0), ('dummy', [False]), ('mean_intensity-3', array([118.66666667])), ('axis_minor_length', array([6.20879234])), ('orientation', array([-1.18671606])), ('mean_intensity-1', array([107.35])), ('mean_intensity-0', array([105.08333333])), ('mean_intensity-2', array([105.91666667])), ('eccentricity', array([0.88071213])), ('axis_major_length', array([13.10834374])), ('area', array([60]))])"
      ]
     },
     "execution_count": 22,
     "metadata": {},
     "output_type": "execute_result"
    }
   ],
   "source": [
    "tracks[0]"
   ]
  },
  {
   "cell_type": "markdown",
   "id": "5dcead5b",
   "metadata": {},
   "source": [
    "# It won't let me save tracks to the server? But will let me save locally"
   ]
  },
  {
   "cell_type": "code",
   "execution_count": 18,
   "id": "fc42f2fb",
   "metadata": {},
   "outputs": [],
   "source": [
    "tracks_fn = tracks_fn.replace('h5', 'hdf5')"
   ]
  },
  {
   "cell_type": "code",
   "execution_count": 16,
   "id": "f0d6c34e",
   "metadata": {},
   "outputs": [
    {
     "data": {
      "text/html": [
       "<table border=\"1\" class=\"dataframe\">\n",
       "  <thead>\n",
       "    <tr style=\"text-align: right;\">\n",
       "      <th></th>\n",
       "      <th>ID</th>\n",
       "      <th>t</th>\n",
       "      <th>x</th>\n",
       "      <th>y</th>\n",
       "      <th>z</th>\n",
       "      <th>parent</th>\n",
       "      <th>root</th>\n",
       "      <th>state</th>\n",
       "      <th>generation</th>\n",
       "      <th>dummy</th>\n",
       "      <th>mean_intensity-3</th>\n",
       "      <th>axis_minor_length</th>\n",
       "      <th>orientation</th>\n",
       "      <th>mean_intensity-1</th>\n",
       "      <th>mean_intensity-0</th>\n",
       "      <th>mean_intensity-2</th>\n",
       "      <th>eccentricity</th>\n",
       "      <th>axis_major_length</th>\n",
       "      <th>area</th>\n",
       "    </tr>\n",
       "  </thead>\n",
       "  <tbody>\n",
       "    <tr>\n",
       "      <th>0</th>\n",
       "      <td>93</td>\n",
       "      <td>0</td>\n",
       "      <td>1128.883333</td>\n",
       "      <td>3.766667</td>\n",
       "      <td>0.0</td>\n",
       "      <td>93</td>\n",
       "      <td>93</td>\n",
       "      <td>5</td>\n",
       "      <td>0</td>\n",
       "      <td>False</td>\n",
       "      <td>(1,) array</td>\n",
       "      <td>(1,) array</td>\n",
       "      <td>(1,) array</td>\n",
       "      <td>(1,) array</td>\n",
       "      <td>(1,) array</td>\n",
       "      <td>(1,) array</td>\n",
       "      <td>(1,) array</td>\n",
       "      <td>(1,) array</td>\n",
       "      <td>(1,) array</td>\n",
       "    </tr>\n",
       "  </tbody>\n",
       "</table>"
      ],
      "text/plain": [
       "OrderedDict([('ID', 93), ('t', [0]), ('x', [1128.8833333333334]), ('y', [3.7666666666666666]), ('z', [0.0]), ('parent', 93), ('root', 93), ('state', [5]), ('generation', 0), ('dummy', [False]), ('mean_intensity-3', array([118.66666667])), ('axis_minor_length', array([6.20879234])), ('orientation', array([-1.18671606])), ('mean_intensity-1', array([107.35])), ('mean_intensity-0', array([105.08333333])), ('mean_intensity-2', array([105.91666667])), ('eccentricity', array([0.88071213])), ('axis_major_length', array([13.10834374])), ('area', array([60]))])"
      ]
     },
     "execution_count": 16,
     "metadata": {},
     "output_type": "execute_result"
    }
   ],
   "source": [
    "tracks[0]"
   ]
  },
  {
   "cell_type": "code",
   "execution_count": 25,
   "id": "8cfb55be",
   "metadata": {},
   "outputs": [
    {
     "name": "stderr",
     "output_type": "stream",
     "text": [
      "[INFO][2022/12/02 11:53:24 AM] Opening HDF file: test.h5...\n",
      "[INFO][2022/12/02 11:53:25 AM] Writing objects/obj_type_1\n",
      "[INFO][2022/12/02 11:53:25 AM] Writing labels/obj_type_1\n",
      "[INFO][2022/12/02 11:53:25 AM] Loading objects/obj_type_1 (59338, 5) (59338 filtered: None)\n",
      "[INFO][2022/12/02 11:53:26 AM] Writing properties/obj_type_1/axis_major_length (59338,)\n",
      "[INFO][2022/12/02 11:53:26 AM] Writing properties/obj_type_1/axis_minor_length (59338,)\n",
      "[INFO][2022/12/02 11:53:26 AM] Writing properties/obj_type_1/eccentricity (59338,)\n",
      "[INFO][2022/12/02 11:53:26 AM] Writing properties/obj_type_1/area (59338,)\n",
      "[INFO][2022/12/02 11:53:26 AM] Writing properties/obj_type_1/orientation (59338,)\n",
      "[INFO][2022/12/02 11:53:26 AM] Writing properties/obj_type_1/mean_intensity-0 (59338,)\n",
      "[INFO][2022/12/02 11:53:26 AM] Writing properties/obj_type_1/mean_intensity-1 (59338,)\n",
      "[INFO][2022/12/02 11:53:26 AM] Writing properties/obj_type_1/mean_intensity-2 (59338,)\n",
      "[INFO][2022/12/02 11:53:26 AM] Writing properties/obj_type_1/mean_intensity-3 (59338,)\n",
      "[INFO][2022/12/02 11:53:26 AM] Writing tracks/obj_type_1\n",
      "[INFO][2022/12/02 11:53:26 AM] Writing LBEP/obj_type_1\n",
      "[INFO][2022/12/02 11:53:26 AM] Writing fates/obj_type_1\n",
      "[INFO][2022/12/02 11:53:26 AM] Closing HDF file: test.h5\n"
     ]
    }
   ],
   "source": [
    "with btrack.dataio.HDF5FileHandler('test.h5', \"w\", obj_type=\"obj_type_1\") as hdf:\n",
    "    hdf.write_tracks(tracks)"
   ]
  },
  {
   "cell_type": "code",
   "execution_count": 20,
   "id": "e1b3bcfd",
   "metadata": {
    "scrolled": false
   },
   "outputs": [
    {
     "name": "stderr",
     "output_type": "stream",
     "text": [
      "[INFO][2022/12/02 11:49:24 AM] Opening HDF file: co-culture_iVECs+iAT2AT1_Folder_20220808_A2-A5_analysis_20221125_DAPI-SPC-PDPN-ZO1__20220808_kolf-WT_co-culture_20x_A2-A5_Multichannel Z-Stack_20220808_60__tracks.hdf5...\n",
      "[INFO][2022/12/02 11:49:24 AM] Loading tracks/obj_type_1\n",
      "[INFO][2022/12/02 11:49:24 AM] Loading LBEP/obj_type_1\n",
      "[INFO][2022/12/02 11:49:24 AM] Loading objects/obj_type_1 (59338, 5) (59338 filtered: None)\n",
      "[INFO][2022/12/02 11:49:25 AM] Closing HDF file: co-culture_iVECs+iAT2AT1_Folder_20220808_A2-A5_analysis_20221125_DAPI-SPC-PDPN-ZO1__20220808_kolf-WT_co-culture_20x_A2-A5_Multichannel Z-Stack_20220808_60__tracks.hdf5\n"
     ]
    },
    {
     "ename": "NameError",
     "evalue": "free variable 'dummy_obj' referenced before assignment in enclosing scope",
     "output_type": "error",
     "traceback": [
      "\u001b[0;31m---------------------------------------------------------------------------\u001b[0m",
      "\u001b[0;31mNameError\u001b[0m                                 Traceback (most recent call last)",
      "Input \u001b[0;32mIn [20]\u001b[0m, in \u001b[0;36m<cell line: 1>\u001b[0;34m()\u001b[0m\n\u001b[1;32m      1\u001b[0m \u001b[38;5;28;01mwith\u001b[39;00m btrack\u001b[38;5;241m.\u001b[39mdataio\u001b[38;5;241m.\u001b[39mHDF5FileHandler(tracks_fn, \u001b[38;5;124m\"\u001b[39m\u001b[38;5;124mr\u001b[39m\u001b[38;5;124m\"\u001b[39m, obj_type\u001b[38;5;241m=\u001b[39m\u001b[38;5;124m\"\u001b[39m\u001b[38;5;124mobj_type_1\u001b[39m\u001b[38;5;124m\"\u001b[39m) \u001b[38;5;28;01mas\u001b[39;00m hdf:\n\u001b[0;32m----> 2\u001b[0m     ids \u001b[38;5;241m=\u001b[39m \u001b[43mhdf\u001b[49m\u001b[38;5;241;43m.\u001b[39;49m\u001b[43mtracks\u001b[49m\n",
      "File \u001b[0;32m~/analysis/BayesianTracker/btrack/dataio.py:286\u001b[0m, in \u001b[0;36mh5check_property_exists.<locals>.func.<locals>.wrapped_handler_property\u001b[0;34m(*args, **kwargs)\u001b[0m\n\u001b[1;32m    282\u001b[0m     logger\u001b[38;5;241m.\u001b[39merror(\n\u001b[1;32m    283\u001b[0m         \u001b[38;5;124mf\u001b[39m\u001b[38;5;124m\"\u001b[39m\u001b[38;5;132;01m{\u001b[39;00m\u001b[38;5;28mproperty\u001b[39m\u001b[38;5;241m.\u001b[39mcapitalize()\u001b[38;5;132;01m}\u001b[39;00m\u001b[38;5;124m not found in \u001b[39m\u001b[38;5;132;01m{\u001b[39;00m\u001b[38;5;28mself\u001b[39m\u001b[38;5;241m.\u001b[39mfilename\u001b[38;5;132;01m}\u001b[39;00m\u001b[38;5;124m\"\u001b[39m\n\u001b[1;32m    284\u001b[0m     )\n\u001b[1;32m    285\u001b[0m     \u001b[38;5;28;01mreturn\u001b[39;00m \u001b[38;5;28;01mNone\u001b[39;00m\n\u001b[0;32m--> 286\u001b[0m \u001b[38;5;28;01mreturn\u001b[39;00m \u001b[43mfn\u001b[49m\u001b[43m(\u001b[49m\u001b[38;5;241;43m*\u001b[39;49m\u001b[43margs\u001b[49m\u001b[43m,\u001b[49m\u001b[43m \u001b[49m\u001b[38;5;241;43m*\u001b[39;49m\u001b[38;5;241;43m*\u001b[39;49m\u001b[43mkwargs\u001b[49m\u001b[43m)\u001b[49m\n",
      "File \u001b[0;32m~/analysis/BayesianTracker/btrack/dataio.py:683\u001b[0m, in \u001b[0;36mHDF5FileHandler.tracks\u001b[0;34m(self)\u001b[0m\n\u001b[1;32m    681\u001b[0m idx \u001b[38;5;241m=\u001b[39m \u001b[38;5;28mslice\u001b[39m(\u001b[38;5;241m*\u001b[39mtrack_map[i, :]\u001b[38;5;241m.\u001b[39mtolist())\n\u001b[1;32m    682\u001b[0m refs \u001b[38;5;241m=\u001b[39m track_refs[idx]\n\u001b[0;32m--> 683\u001b[0m track \u001b[38;5;241m=\u001b[39m btypes\u001b[38;5;241m.\u001b[39mTracklet(lbep[i, \u001b[38;5;241m0\u001b[39m], \u001b[38;5;28;43mlist\u001b[39;49m\u001b[43m(\u001b[49m\u001b[38;5;28;43mmap\u001b[39;49m\u001b[43m(\u001b[49m\u001b[43m_get_txyz\u001b[49m\u001b[43m,\u001b[49m\u001b[43m \u001b[49m\u001b[43mrefs\u001b[49m\u001b[43m)\u001b[49m\u001b[43m)\u001b[49m)\n\u001b[1;32m    684\u001b[0m track\u001b[38;5;241m.\u001b[39mparent \u001b[38;5;241m=\u001b[39m lbep[i, \u001b[38;5;241m3\u001b[39m]  \u001b[38;5;66;03m# set the parent and root of tree\u001b[39;00m\n\u001b[1;32m    685\u001b[0m track\u001b[38;5;241m.\u001b[39mroot \u001b[38;5;241m=\u001b[39m lbep[i, \u001b[38;5;241m4\u001b[39m]\n",
      "File \u001b[0;32m~/analysis/BayesianTracker/btrack/dataio.py:677\u001b[0m, in \u001b[0;36mHDF5FileHandler.tracks.<locals>._get_txyz\u001b[0;34m(_ref)\u001b[0m\n\u001b[1;32m    675\u001b[0m \u001b[38;5;28;01mif\u001b[39;00m _ref \u001b[38;5;241m>\u001b[39m\u001b[38;5;241m=\u001b[39m \u001b[38;5;241m0\u001b[39m:\n\u001b[1;32m    676\u001b[0m     \u001b[38;5;28;01mreturn\u001b[39;00m obj[_ref]\n\u001b[0;32m--> 677\u001b[0m \u001b[38;5;28;01mreturn\u001b[39;00m \u001b[43mdummy_obj\u001b[49m[\u001b[38;5;28mabs\u001b[39m(_ref) \u001b[38;5;241m-\u001b[39m \u001b[38;5;241m1\u001b[39m]\n",
      "\u001b[0;31mNameError\u001b[0m: free variable 'dummy_obj' referenced before assignment in enclosing scope"
     ]
    }
   ],
   "source": [
    "with btrack.dataio.HDF5FileHandler(tracks_fn, \"r\", obj_type=\"obj_type_1\") as hdf:\n",
    "    ids = hdf.tracks"
   ]
  },
  {
   "cell_type": "markdown",
   "id": "6c704087",
   "metadata": {},
   "source": [
    "#### testing unique fn "
   ]
  },
  {
   "cell_type": "code",
   "execution_count": 49,
   "id": "b425a435",
   "metadata": {},
   "outputs": [
    {
     "data": {
      "text/plain": [
       "'co-culture_iVECs+iAT2AT1_Folder_20220808_A2-A5_analysis_20221125_DAPI-SPC-PDPN-ZO1__20220808_kolf-WT_co-culture_20x_A2-A5_Multichannel Z-Stack_20220808_60__tracks.hdf5'"
      ]
     },
     "execution_count": 49,
     "metadata": {},
     "output_type": "execute_result"
    }
   ],
   "source": [
    "tracks_fn.split('Light microscopy/')[-1].replace('/', '_')"
   ]
  },
  {
   "cell_type": "code",
   "execution_count": null,
   "id": "d175d4a4",
   "metadata": {},
   "outputs": [],
   "source": []
  },
  {
   "cell_type": "code",
   "execution_count": 37,
   "id": "a96de86a",
   "metadata": {},
   "outputs": [
    {
     "data": {
      "text/plain": [
       "'/run/user/30046150/gvfs/smb-share:server=data.thecrick.org,share=lab-gutierrezm/home/shared/Lung on chip/Light microscopy/co-culture/iVECs+iAT2AT1/Folder_20220808/A2-A5/analysis_20221125/DAPI-SPC-PDPN-ZO1/_20220808_kolf-WT_co-culture_20x_A2-A5_Multichannel Z-Stack_20220808_60_/tracks.hdf5'"
      ]
     },
     "execution_count": 37,
     "metadata": {},
     "output_type": "execute_result"
    }
   ],
   "source": [
    "tracks_fn"
   ]
  },
  {
   "cell_type": "code",
   "execution_count": null,
   "id": "2572f14a",
   "metadata": {},
   "outputs": [],
   "source": []
  },
  {
   "cell_type": "code",
   "execution_count": 43,
   "id": "ca779471",
   "metadata": {},
   "outputs": [],
   "source": [
    "test_tracks_fn = '/run/user/30046150/gvfs/smb-share:server=data.thecrick.org,share=lab-gutierrezm/home/users/dayn/test_tracks_output/tracks.hdf5'"
   ]
  },
  {
   "cell_type": "code",
   "execution_count": 44,
   "id": "1f541078",
   "metadata": {
    "scrolled": false
   },
   "outputs": [
    {
     "name": "stderr",
     "output_type": "stream",
     "text": [
      "[INFO][2022/12/02 09:25:39 AM] Opening HDF file: /run/user/30046150/gvfs/smb-share:server=data.thecrick.org,share=lab-gutierrezm/home/users/dayn/test_tracks_output/tracks.hdf5...\n",
      "[INFO][2022/12/02 09:25:39 AM] Writing objects/obj_type_1\n",
      "[INFO][2022/12/02 09:25:39 AM] Writing labels/obj_type_1\n",
      "[INFO][2022/12/02 09:25:39 AM] Loading objects/obj_type_1 (59306, 5) (59306 filtered: None)\n",
      "[INFO][2022/12/02 09:25:41 AM] Writing properties/obj_type_1/axis_major_length (59306,)\n",
      "[INFO][2022/12/02 09:25:41 AM] Closing HDF file: /run/user/30046150/gvfs/smb-share:server=data.thecrick.org,share=lab-gutierrezm/home/users/dayn/test_tracks_output/tracks.hdf5\n"
     ]
    },
    {
     "ename": "OSError",
     "evalue": "[Errno 95] Unable to extend file properly, errno = 95, error message = 'operation not supported' (file write failed: time = Fri Dec  2 09:25:41 2022\n, filename = '/run/user/30046150/gvfs/smb-share:server=data.thecrick.org,share=lab-gutierrezm/home/users/dayn/test_tracks_output/tracks.hdf5', file descriptor = 66, errno = 95, error message = 'Operation not supported', buf = 0x5620987ad0c8, total write size = 3368, bytes this sub-write = 3368, bytes actually written = 18446744073709551615, offset = 0)",
     "output_type": "error",
     "traceback": [
      "\u001b[0;31m---------------------------------------------------------------------------\u001b[0m",
      "\u001b[0;31mOSError\u001b[0m                                   Traceback (most recent call last)",
      "Input \u001b[0;32mIn [44]\u001b[0m, in \u001b[0;36m<cell line: 1>\u001b[0;34m()\u001b[0m\n\u001b[1;32m      1\u001b[0m \u001b[38;5;28;01mwith\u001b[39;00m btrack\u001b[38;5;241m.\u001b[39mdataio\u001b[38;5;241m.\u001b[39mHDF5FileHandler(test_tracks_fn, \u001b[38;5;124m\"\u001b[39m\u001b[38;5;124mw\u001b[39m\u001b[38;5;124m\"\u001b[39m, obj_type\u001b[38;5;241m=\u001b[39m\u001b[38;5;124m\"\u001b[39m\u001b[38;5;124mobj_type_1\u001b[39m\u001b[38;5;124m\"\u001b[39m) \u001b[38;5;28;01mas\u001b[39;00m hdf:\n\u001b[0;32m----> 2\u001b[0m     \u001b[43mhdf\u001b[49m\u001b[38;5;241;43m.\u001b[39;49m\u001b[43mwrite_tracks\u001b[49m\u001b[43m(\u001b[49m\u001b[43mtracks\u001b[49m\u001b[43m)\u001b[49m\n",
      "File \u001b[0;32m~/analysis/BayesianTracker/btrack/dataio.py:752\u001b[0m, in \u001b[0;36mHDF5FileHandler.write_tracks\u001b[0;34m(self, data, f_expr)\u001b[0m\n\u001b[1;32m    751\u001b[0m     \u001b[38;5;28;01mif\u001b[39;00m \u001b[38;5;124m\"\u001b[39m\u001b[38;5;124mobjects\u001b[39m\u001b[38;5;124m\"\u001b[39m \u001b[38;5;129;01mnot\u001b[39;00m \u001b[38;5;129;01min\u001b[39;00m \u001b[38;5;28mself\u001b[39m\u001b[38;5;241m.\u001b[39m_hdf:\n\u001b[0;32m--> 752\u001b[0m         \u001b[38;5;28;43mself\u001b[39;49m\u001b[38;5;241;43m.\u001b[39;49m\u001b[43mwrite_objects\u001b[49m\u001b[43m(\u001b[49m\u001b[43mobjects\u001b[49m\u001b[43m)\u001b[49m\n\u001b[1;32m    754\u001b[0m \u001b[38;5;28;01melif\u001b[39;00m \u001b[38;5;28mhasattr\u001b[39m(data, \u001b[38;5;124m\"\u001b[39m\u001b[38;5;124mtracks\u001b[39m\u001b[38;5;124m\"\u001b[39m):\n",
      "File \u001b[0;32m~/analysis/BayesianTracker/btrack/dataio.py:579\u001b[0m, in \u001b[0;36mHDF5FileHandler.write_objects\u001b[0;34m(self, data)\u001b[0m\n\u001b[1;32m    578\u001b[0m \u001b[38;5;66;03m# finally, write any properties\u001b[39;00m\n\u001b[0;32m--> 579\u001b[0m \u001b[38;5;28;43mself\u001b[39;49m\u001b[38;5;241;43m.\u001b[39;49m\u001b[43mwrite_properties\u001b[49m\u001b[43m(\u001b[49m\u001b[43mprops\u001b[49m\u001b[43m)\u001b[49m\n",
      "File \u001b[0;32m~/analysis/BayesianTracker/btrack/dataio.py:286\u001b[0m, in \u001b[0;36mh5check_property_exists.<locals>.func.<locals>.wrapped_handler_property\u001b[0;34m(*args, **kwargs)\u001b[0m\n\u001b[1;32m    285\u001b[0m     \u001b[38;5;28;01mreturn\u001b[39;00m \u001b[38;5;28;01mNone\u001b[39;00m\n\u001b[0;32m--> 286\u001b[0m \u001b[38;5;28;01mreturn\u001b[39;00m \u001b[43mfn\u001b[49m\u001b[43m(\u001b[49m\u001b[38;5;241;43m*\u001b[39;49m\u001b[43margs\u001b[49m\u001b[43m,\u001b[49m\u001b[43m \u001b[49m\u001b[38;5;241;43m*\u001b[39;49m\u001b[38;5;241;43m*\u001b[39;49m\u001b[43mkwargs\u001b[49m\u001b[43m)\u001b[49m\n",
      "File \u001b[0;32m~/analysis/BayesianTracker/btrack/dataio.py:640\u001b[0m, in \u001b[0;36mHDF5FileHandler.write_properties\u001b[0;34m(self, data, allow_overwrite)\u001b[0m\n\u001b[1;32m    637\u001b[0m logger\u001b[38;5;241m.\u001b[39minfo(\n\u001b[1;32m    638\u001b[0m     \u001b[38;5;124mf\u001b[39m\u001b[38;5;124m\"\u001b[39m\u001b[38;5;124mWriting properties/\u001b[39m\u001b[38;5;132;01m{\u001b[39;00m\u001b[38;5;28mself\u001b[39m\u001b[38;5;241m.\u001b[39mobject_type\u001b[38;5;132;01m}\u001b[39;00m\u001b[38;5;124m/\u001b[39m\u001b[38;5;132;01m{\u001b[39;00mkey\u001b[38;5;132;01m}\u001b[39;00m\u001b[38;5;124m \u001b[39m\u001b[38;5;132;01m{\u001b[39;00mvalues\u001b[38;5;241m.\u001b[39mshape\u001b[38;5;132;01m}\u001b[39;00m\u001b[38;5;124m\"\u001b[39m\n\u001b[1;32m    639\u001b[0m )\n\u001b[0;32m--> 640\u001b[0m \u001b[43mprops_grp\u001b[49m\u001b[38;5;241;43m.\u001b[39;49m\u001b[43mcreate_dataset\u001b[49m\u001b[43m(\u001b[49m\u001b[43mkey\u001b[49m\u001b[43m,\u001b[49m\u001b[43m \u001b[49m\u001b[43mdata\u001b[49m\u001b[38;5;241;43m=\u001b[39;49m\u001b[43mdata\u001b[49m\u001b[43m[\u001b[49m\u001b[43mkey\u001b[49m\u001b[43m]\u001b[49m\u001b[43m,\u001b[49m\u001b[43m \u001b[49m\u001b[43mdtype\u001b[49m\u001b[38;5;241;43m=\u001b[39;49m\u001b[38;5;124;43m\"\u001b[39;49m\u001b[38;5;124;43mfloat32\u001b[39;49m\u001b[38;5;124;43m\"\u001b[39;49m\u001b[43m)\u001b[49m\n",
      "File \u001b[0;32m~/miniconda3/envs/aero/lib/python3.9/site-packages/h5py/_hl/group.py:161\u001b[0m, in \u001b[0;36mGroup.create_dataset\u001b[0;34m(self, name, shape, dtype, data, **kwds)\u001b[0m\n\u001b[1;32m    159\u001b[0m         group \u001b[38;5;241m=\u001b[39m \u001b[38;5;28mself\u001b[39m\u001b[38;5;241m.\u001b[39mrequire_group(parent_path)\n\u001b[0;32m--> 161\u001b[0m dsid \u001b[38;5;241m=\u001b[39m \u001b[43mdataset\u001b[49m\u001b[38;5;241;43m.\u001b[39;49m\u001b[43mmake_new_dset\u001b[49m\u001b[43m(\u001b[49m\u001b[43mgroup\u001b[49m\u001b[43m,\u001b[49m\u001b[43m \u001b[49m\u001b[43mshape\u001b[49m\u001b[43m,\u001b[49m\u001b[43m \u001b[49m\u001b[43mdtype\u001b[49m\u001b[43m,\u001b[49m\u001b[43m \u001b[49m\u001b[43mdata\u001b[49m\u001b[43m,\u001b[49m\u001b[43m \u001b[49m\u001b[43mname\u001b[49m\u001b[43m,\u001b[49m\u001b[43m \u001b[49m\u001b[38;5;241;43m*\u001b[39;49m\u001b[38;5;241;43m*\u001b[39;49m\u001b[43mkwds\u001b[49m\u001b[43m)\u001b[49m\n\u001b[1;32m    162\u001b[0m dset \u001b[38;5;241m=\u001b[39m dataset\u001b[38;5;241m.\u001b[39mDataset(dsid)\n",
      "File \u001b[0;32m~/miniconda3/envs/aero/lib/python3.9/site-packages/h5py/_hl/dataset.py:159\u001b[0m, in \u001b[0;36mmake_new_dset\u001b[0;34m(parent, shape, dtype, data, name, chunks, compression, shuffle, fletcher32, maxshape, compression_opts, fillvalue, scaleoffset, track_times, external, track_order, dcpl, dapl, efile_prefix, virtual_prefix, allow_unknown_filter)\u001b[0m\n\u001b[1;32m    158\u001b[0m \u001b[38;5;28;01mif\u001b[39;00m (data \u001b[38;5;129;01mis\u001b[39;00m \u001b[38;5;129;01mnot\u001b[39;00m \u001b[38;5;28;01mNone\u001b[39;00m) \u001b[38;5;129;01mand\u001b[39;00m (\u001b[38;5;129;01mnot\u001b[39;00m \u001b[38;5;28misinstance\u001b[39m(data, Empty)):\n\u001b[0;32m--> 159\u001b[0m     \u001b[43mdset_id\u001b[49m\u001b[38;5;241;43m.\u001b[39;49m\u001b[43mwrite\u001b[49m\u001b[43m(\u001b[49m\u001b[43mh5s\u001b[49m\u001b[38;5;241;43m.\u001b[39;49m\u001b[43mALL\u001b[49m\u001b[43m,\u001b[49m\u001b[43m \u001b[49m\u001b[43mh5s\u001b[49m\u001b[38;5;241;43m.\u001b[39;49m\u001b[43mALL\u001b[49m\u001b[43m,\u001b[49m\u001b[43m \u001b[49m\u001b[43mdata\u001b[49m\u001b[43m)\u001b[49m\n\u001b[1;32m    161\u001b[0m \u001b[38;5;28;01mreturn\u001b[39;00m dset_id\n",
      "File \u001b[0;32mh5py/_objects.pyx:54\u001b[0m, in \u001b[0;36mh5py._objects.with_phil.wrapper\u001b[0;34m()\u001b[0m\n",
      "File \u001b[0;32mh5py/_objects.pyx:55\u001b[0m, in \u001b[0;36mh5py._objects.with_phil.wrapper\u001b[0;34m()\u001b[0m\n",
      "File \u001b[0;32mh5py/h5d.pyx:232\u001b[0m, in \u001b[0;36mh5py.h5d.DatasetID.write\u001b[0;34m()\u001b[0m\n",
      "File \u001b[0;32mh5py/_proxy.pyx:114\u001b[0m, in \u001b[0;36mh5py._proxy.dset_rw\u001b[0;34m()\u001b[0m\n",
      "\u001b[0;31mOSError\u001b[0m: [Errno 95] Can't write data (file write failed: time = Fri Dec  2 09:25:41 2022\n, filename = '/run/user/30046150/gvfs/smb-share:server=data.thecrick.org,share=lab-gutierrezm/home/users/dayn/test_tracks_output/tracks.hdf5', file descriptor = 66, errno = 95, error message = 'Operation not supported', buf = 0x56208e3cce80, total write size = 237224, bytes this sub-write = 237224, bytes actually written = 18446744073709551615, offset = 0)",
      "\nDuring handling of the above exception, another exception occurred:\n",
      "\u001b[0;31mOSError\u001b[0m                                   Traceback (most recent call last)",
      "Input \u001b[0;32mIn [44]\u001b[0m, in \u001b[0;36m<cell line: 1>\u001b[0;34m()\u001b[0m\n\u001b[1;32m      1\u001b[0m \u001b[38;5;28;01mwith\u001b[39;00m btrack\u001b[38;5;241m.\u001b[39mdataio\u001b[38;5;241m.\u001b[39mHDF5FileHandler(test_tracks_fn, \u001b[38;5;124m\"\u001b[39m\u001b[38;5;124mw\u001b[39m\u001b[38;5;124m\"\u001b[39m, obj_type\u001b[38;5;241m=\u001b[39m\u001b[38;5;124m\"\u001b[39m\u001b[38;5;124mobj_type_1\u001b[39m\u001b[38;5;124m\"\u001b[39m) \u001b[38;5;28;01mas\u001b[39;00m hdf:\n\u001b[0;32m----> 2\u001b[0m     hdf\u001b[38;5;241m.\u001b[39mwrite_tracks(tracks)\n",
      "File \u001b[0;32m~/analysis/BayesianTracker/btrack/dataio.py:392\u001b[0m, in \u001b[0;36mHDF5FileHandler.__exit__\u001b[0;34m(self, exc_type, exc_value, traceback)\u001b[0m\n\u001b[1;32m    391\u001b[0m \u001b[38;5;28;01mdef\u001b[39;00m \u001b[38;5;21m__exit__\u001b[39m(\u001b[38;5;28mself\u001b[39m, exc_type, exc_value, traceback):\n\u001b[0;32m--> 392\u001b[0m     \u001b[38;5;28;43mself\u001b[39;49m\u001b[38;5;241;43m.\u001b[39;49m\u001b[43mclose\u001b[49m\u001b[43m(\u001b[49m\u001b[43m)\u001b[49m\n",
      "File \u001b[0;32m~/analysis/BayesianTracker/btrack/dataio.py:398\u001b[0m, in \u001b[0;36mHDF5FileHandler.close\u001b[0;34m(self)\u001b[0m\n\u001b[1;32m    396\u001b[0m     \u001b[38;5;28;01mreturn\u001b[39;00m\n\u001b[1;32m    397\u001b[0m logger\u001b[38;5;241m.\u001b[39minfo(\u001b[38;5;124mf\u001b[39m\u001b[38;5;124m\"\u001b[39m\u001b[38;5;124mClosing HDF file: \u001b[39m\u001b[38;5;132;01m{\u001b[39;00m\u001b[38;5;28mself\u001b[39m\u001b[38;5;241m.\u001b[39mfilename\u001b[38;5;132;01m}\u001b[39;00m\u001b[38;5;124m\"\u001b[39m)\n\u001b[0;32m--> 398\u001b[0m \u001b[38;5;28;43mself\u001b[39;49m\u001b[38;5;241;43m.\u001b[39;49m\u001b[43m_hdf\u001b[49m\u001b[38;5;241;43m.\u001b[39;49m\u001b[43mclose\u001b[49m\u001b[43m(\u001b[49m\u001b[43m)\u001b[49m\n",
      "File \u001b[0;32m~/miniconda3/envs/aero/lib/python3.9/site-packages/h5py/_hl/files.py:551\u001b[0m, in \u001b[0;36mFile.close\u001b[0;34m(self)\u001b[0m\n\u001b[1;32m    544\u001b[0m \u001b[38;5;28;01mwith\u001b[39;00m phil:\n\u001b[1;32m    545\u001b[0m     \u001b[38;5;66;03m# Check that the file is still open, otherwise skip\u001b[39;00m\n\u001b[1;32m    546\u001b[0m     \u001b[38;5;28;01mif\u001b[39;00m \u001b[38;5;28mself\u001b[39m\u001b[38;5;241m.\u001b[39mid\u001b[38;5;241m.\u001b[39mvalid:\n\u001b[1;32m    547\u001b[0m         \u001b[38;5;66;03m# We have to explicitly murder all open objects related to the file\u001b[39;00m\n\u001b[1;32m    548\u001b[0m \n\u001b[1;32m    549\u001b[0m         \u001b[38;5;66;03m# Close file-resident objects first, then the files.\u001b[39;00m\n\u001b[1;32m    550\u001b[0m         \u001b[38;5;66;03m# Otherwise we get errors in MPI mode.\u001b[39;00m\n\u001b[0;32m--> 551\u001b[0m         \u001b[38;5;28;43mself\u001b[39;49m\u001b[38;5;241;43m.\u001b[39;49m\u001b[43mid\u001b[49m\u001b[38;5;241;43m.\u001b[39;49m\u001b[43m_close_open_objects\u001b[49m\u001b[43m(\u001b[49m\u001b[43mh5f\u001b[49m\u001b[38;5;241;43m.\u001b[39;49m\u001b[43mOBJ_LOCAL\u001b[49m\u001b[43m \u001b[49m\u001b[38;5;241;43m|\u001b[39;49m\u001b[43m \u001b[49m\u001b[38;5;241;43m~\u001b[39;49m\u001b[43mh5f\u001b[49m\u001b[38;5;241;43m.\u001b[39;49m\u001b[43mOBJ_FILE\u001b[49m\u001b[43m)\u001b[49m\n\u001b[1;32m    552\u001b[0m         \u001b[38;5;28mself\u001b[39m\u001b[38;5;241m.\u001b[39mid\u001b[38;5;241m.\u001b[39m_close_open_objects(h5f\u001b[38;5;241m.\u001b[39mOBJ_LOCAL \u001b[38;5;241m|\u001b[39m h5f\u001b[38;5;241m.\u001b[39mOBJ_FILE)\n\u001b[1;32m    554\u001b[0m         \u001b[38;5;28mself\u001b[39m\u001b[38;5;241m.\u001b[39mid\u001b[38;5;241m.\u001b[39mclose()\n",
      "File \u001b[0;32mh5py/_objects.pyx:54\u001b[0m, in \u001b[0;36mh5py._objects.with_phil.wrapper\u001b[0;34m()\u001b[0m\n",
      "File \u001b[0;32mh5py/_objects.pyx:55\u001b[0m, in \u001b[0;36mh5py._objects.with_phil.wrapper\u001b[0;34m()\u001b[0m\n",
      "File \u001b[0;32mh5py/h5f.pyx:360\u001b[0m, in \u001b[0;36mh5py.h5f.FileID._close_open_objects\u001b[0;34m()\u001b[0m\n",
      "\u001b[0;31mOSError\u001b[0m: [Errno 95] Unable to extend file properly, errno = 95, error message = 'operation not supported' (file write failed: time = Fri Dec  2 09:25:41 2022\n, filename = '/run/user/30046150/gvfs/smb-share:server=data.thecrick.org,share=lab-gutierrezm/home/users/dayn/test_tracks_output/tracks.hdf5', file descriptor = 66, errno = 95, error message = 'Operation not supported', buf = 0x5620987ad0c8, total write size = 3368, bytes this sub-write = 3368, bytes actually written = 18446744073709551615, offset = 0)"
     ]
    }
   ],
   "source": [
    "with btrack.dataio.HDF5FileHandler(test_tracks_fn, \"w\", obj_type=\"obj_type_1\") as hdf:\n",
    "    hdf.write_tracks(tracks)"
   ]
  },
  {
   "cell_type": "markdown",
   "id": "54a9d97b",
   "metadata": {},
   "source": [
    "## Checking tracks prior to plotting single cell info"
   ]
  },
  {
   "cell_type": "code",
   "execution_count": null,
   "id": "c21df49d",
   "metadata": {},
   "outputs": [],
   "source": [
    "import napari"
   ]
  },
  {
   "cell_type": "code",
   "execution_count": null,
   "id": "335f35ae",
   "metadata": {},
   "outputs": [],
   "source": [
    "viewer = napari.Viewer()\n",
    "\n",
    "viewer.add_image(ch0, colormap='blue', blending = 'additive')\n",
    "viewer.add_image(ch3, colormap= 'gray', blending = 'additive')\n",
    "viewer.add_image(ch1, colormap='red', blending = 'additive')\n",
    "viewer.add_image(ch2, colormap= 'green', blending = 'additive')\n",
    "\n",
    "viewer.add_labels(mask_stack)\n",
    "\n",
    "viewer.add_tracks(ch1_data)\n",
    "viewer.add_tracks(ch2_data)\n"
   ]
  }
 ],
 "metadata": {
  "kernelspec": {
   "display_name": "aero",
   "language": "python",
   "name": "aero"
  },
  "language_info": {
   "codemirror_mode": {
    "name": "ipython",
    "version": 3
   },
   "file_extension": ".py",
   "mimetype": "text/x-python",
   "name": "python",
   "nbconvert_exporter": "python",
   "pygments_lexer": "ipython3",
   "version": "3.9.12"
  }
 },
 "nbformat": 4,
 "nbformat_minor": 5
}
