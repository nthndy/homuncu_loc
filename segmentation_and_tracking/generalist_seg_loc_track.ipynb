{
 "cells": [
  {
   "cell_type": "markdown",
   "id": "702d4c65-9fc7-4b68-b959-bca87f727540",
   "metadata": {},
   "source": [
    "# New approach - Quantification of Mtb area per iAT2/iAT1/iPSDM for DAPI_ZO-1_CD16_Mtb images"
   ]
  },
  {
   "cell_type": "markdown",
   "id": "038f144c",
   "metadata": {},
   "source": [
    "#### Using the max projection of the ZO1 to segment a relatively uniform monolayer and then localise and track. "
   ]
  },
  {
   "cell_type": "markdown",
   "id": "09c5e155-1cd6-46e9-9643-5446f0fc851b",
   "metadata": {},
   "source": [
    "#### Load modules, define functions and parameters"
   ]
  },
  {
   "cell_type": "code",
   "execution_count": 22,
   "id": "8988af78",
   "metadata": {},
   "outputs": [
    {
     "name": "stdout",
     "output_type": "stream",
     "text": [
      "nvcc: NVIDIA (R) Cuda compiler driver\n",
      "Copyright (c) 2005-2019 NVIDIA Corporation\n",
      "Built on Sun_Jul_28_19:07:16_PDT_2019\n",
      "Cuda compilation tools, release 10.1, V10.1.243\n",
      "Mon Dec  4 11:59:17 2023       \n",
      "+---------------------------------------------------------------------------------------+\n",
      "| NVIDIA-SMI 545.23.06              Driver Version: 545.23.06    CUDA Version: 12.3     |\n",
      "|-----------------------------------------+----------------------+----------------------+\n",
      "| GPU  Name                 Persistence-M | Bus-Id        Disp.A | Volatile Uncorr. ECC |\n",
      "| Fan  Temp   Perf          Pwr:Usage/Cap |         Memory-Usage | GPU-Util  Compute M. |\n",
      "|                                         |                      |               MIG M. |\n",
      "|=========================================+======================+======================|\n",
      "|   0  NVIDIA RTX A6000               On  | 00000000:65:00.0  On |                  Off |\n",
      "| 30%   42C    P2              76W / 300W |   1971MiB / 49140MiB |      8%      Default |\n",
      "|                                         |                      |                  N/A |\n",
      "+-----------------------------------------+----------------------+----------------------+\n",
      "                                                                                         \n",
      "+---------------------------------------------------------------------------------------+\n",
      "| Processes:                                                                            |\n",
      "|  GPU   GI   CI        PID   Type   Process name                            GPU Memory |\n",
      "|        ID   ID                                                             Usage      |\n",
      "|=======================================================================================|\n",
      "|    0   N/A  N/A      2022      G   /usr/lib/xorg/Xorg                          574MiB |\n",
      "|    0   N/A  N/A      4123      G   /usr/bin/gnome-shell                        141MiB |\n",
      "|    0   N/A  N/A    129398      G   ...AAAAAAAACAAAAAAAAAA= --shared-files      145MiB |\n",
      "|    0   N/A  N/A    675763    C+G   ...miniconda3/envs/brassica/bin/python     1042MiB |\n",
      "|    0   N/A  N/A    876410    C+G   ...16468154,9794284935636716214,262144       14MiB |\n",
      "|    0   N/A  N/A   1505166      G   mpv                                          13MiB |\n",
      "+---------------------------------------------------------------------------------------+\n",
      ">>> GPU activated? YES\n"
     ]
    }
   ],
   "source": [
    "import napari\n",
    "from skimage import io\n",
    "import btrack\n",
    "import os\n",
    "from tqdm.auto import tqdm\n",
    "import numpy as np\n",
    "import btrack\n",
    "from glob import glob\n",
    "from homuncu_loc.dataio import find_files_with_basename, ID_extractor\n",
    "from macrohet.notify import send_sms\n",
    "from cellpose import core, utils, models, metrics\n",
    "import matplotlib.pyplot as plt \n",
    "from skimage.morphology import remove_small_objects\n",
    "\n",
    "# print gpu information\n",
    "!nvcc --version\n",
    "!nvidia-smi\n",
    "# check to see if GPU can be used\n",
    "use_GPU = core.use_gpu()\n",
    "yn = ['NO', 'YES']\n",
    "print(f'>>> GPU activated? {yn[use_GPU]}')\n",
    "\n",
    "# define segmentation model parameters\n",
    "model = models.Cellpose(gpu=use_GPU, \n",
    "                        model_type='cyto') # cytoplasmic segmentation \n",
    "channels = [0,0] # this means using a grayscale image for both nuclei and cyto channels (even if not using nuclei, still have to say its same colour [greyscale = 0])\n",
    "\n",
    "def segment_channel(segmentation_channel, diameter=60, flow_threshold=0.99, channels=[0,0], cellprob_threshold=-2, min_mask_size=500, return_diams=False, start_point=None, end_point=None):\n",
    "    \"\"\"\n",
    "    Segments a specified channel of an image using Cellpose and optionally returns the average diameter of segments.\n",
    "\n",
    "    Args:\n",
    "    - segmentation_channel (ndarray): 3D array of the target channel where the 3rd dimension represents the Z-stack.\n",
    "    - diameter (int, optional): Average cell diameter for Cellpose. Default is 60.\n",
    "    - flow_threshold (float, optional): Threshold for flow in Cellpose. Default is 0.99.\n",
    "    - channels (list, optional): Channel input for Cellpose. Default is [0,0].\n",
    "    - cellprob_threshold (float, optional): Cell probability threshold for Cellpose. Default is -2.\n",
    "    - min_mask_size (int, optional): Minimum size of objects to keep in the segmented mask. Default is 500.\n",
    "    - return_diams (bool, optional): If set to True, the function will also return the average diameter of segments.\n",
    "    - start_point (int, optional): Starting point for segmentation frames. Default is None.\n",
    "    - end_point (int, optional): Ending point for segmentation frames. Default is None.\n",
    "\n",
    "    Returns:\n",
    "    - ndarray: 3D mask array with the same shape as the input, where segmented regions are labeled.\n",
    "    - float (optional): Average diameter of segments if return_diams is True.\n",
    "    \"\"\"\n",
    "    # Initialize the model\n",
    "    model = models.Cellpose(model_type='cyto')\n",
    "\n",
    "    # check if segmenting over max proj\n",
    "    if segmentation_channel.ndim == 2:\n",
    "        print('segmenting over max projection')\n",
    "        # Segment over selected frames\n",
    "        masks, _, _, diam = model.eval(segmentation_channel, diameter=diameter, flow_threshold=flow_threshold, channels=channels, cellprob_threshold=cellprob_threshold)\n",
    "        masks = remove_small_objects(masks, min_size=min_mask_size)\n",
    "        \n",
    "        if return_diams:\n",
    "            return masks, diam\n",
    "        else:\n",
    "            return masks\n",
    "        \n",
    "    if start_point is None or end_point is None:\n",
    "        # Calculate intensities for each frame in Z-stack\n",
    "        intensities = [np.sum(frame) for frame in tqdm(segmentation_channel, desc='finding where segmentation channel is expressed in Z')]\n",
    "\n",
    "        # Estimate the background level\n",
    "        background_level = np.min(intensities)\n",
    "        threshold = background_level + ((np.max(intensities)-np.min(intensities))*0.50)\n",
    "\n",
    "        if start_point is None:\n",
    "            # Find the points where the curve starts to deviate from the background\n",
    "            start_point = np.argmax(intensities > threshold)\n",
    "\n",
    "        if end_point is None:\n",
    "            end_point = len(intensities) - np.argmax(intensities[::-1] > threshold) - 1\n",
    "\n",
    "    # Initialize output mask array\n",
    "    mask_array = np.zeros_like(segmentation_channel)\n",
    "    \n",
    "    # List to store diameters if return_diams is True\n",
    "    diams = []\n",
    "\n",
    "    # Segment over selected frames\n",
    "    for n, frame in tqdm(enumerate(segmentation_channel[start_point:end_point]), total=end_point-start_point, desc='segmenting over select frames'):\n",
    "        n += start_point\n",
    "        masks, _, _, diam = model.eval(frame, diameter=diameter, flow_threshold=flow_threshold, channels=channels, cellprob_threshold=cellprob_threshold)\n",
    "        masks = remove_small_objects(masks, min_size=min_mask_size)\n",
    "        mask_array[n] = masks\n",
    "        diams.append(diam)\n",
    "        print(f'Frame {n} segmented')\n",
    "\n",
    "    if return_diams:\n",
    "        return mask_array, diams\n",
    "    else:\n",
    "        return mask_array\n",
    "\n",
    "\n",
    "# from stardist.models import StarDist2D\n",
    "# from csbdeep.utils import normalize\n",
    "# import matplotlib.pyplot as plt\n",
    "\n",
    "# # prints a list of available models\n",
    "# StarDist2D.from_pretrained()\n",
    "\n",
    "# # creates a pretrained model\n",
    "# stardist_model = StarDist2D.from_pretrained('2D_versatile_fluo')"
   ]
  },
  {
   "cell_type": "code",
   "execution_count": 2,
   "id": "662eacac-3046-4b30-9465-a8f734574ad4",
   "metadata": {},
   "outputs": [],
   "source": [
    "props = ('axis_major_length', # first define some cell properties \n",
    "         'axis_minor_length', # this helps improve the tracking\n",
    "         'eccentricity',      # by comparing similarities between slices/frames\n",
    "         'area', \n",
    "         'orientation',\n",
    "         'mean_intensity', \n",
    "        )"
   ]
  },
  {
   "cell_type": "code",
   "execution_count": 23,
   "id": "ba171abb-fb4f-4c34-a8c3-f9c1fd089863",
   "metadata": {},
   "outputs": [],
   "source": [
    "image_basenames = ['20231128_20X_23-03-072A3_DAPI_ZO-1_CD16_Mtb_WT_2hpi_Multichannel Z-Stack_20231128_1561.tif',\n",
    " '20231128_20X_23-03-072A4_DAPI_ZO-1_CD16_Mtb_WT_48hpi_Multichannel Z-Stack_20231128_1565.tif',\n",
    " '20231128_20X_23-03-072A3_DAPI_ZO-1_CD16_Mtb_WT_2hpi_Multichannel Z-Stack_20231128_1559.tif',\n",
    " '20231128_20X_23-03-072A4_DAPI_ZO-1_CD16_Mtb_WT_48hpi_Multichannel Z-Stack_20231128_1569.tif',\n",
    " '20231128_20X_23-03-072A3_DAPI_ZO-1_CD16_Mtb_WT_2hpi_Multichannel Z-Stack_20231128_1558.tif',\n",
    " '20231128_20X_23-03-072A3_DAPI_ZO-1_CD16_Mtb_WT_2hpi_Multichannel Z-Stack_20231128_1555.tif',\n",
    " '20231128_20X_23-03-072A4_DAPI_ZO-1_CD16_Mtb_WT_48hpi_Multichannel Z-Stack_20231128_1570.tif',\n",
    " '20231128_20X_23-03-072A3_DAPI_ZO-1_CD16_Mtb_WT_2hpi_Multichannel Z-Stack_20231128_1562.tif',\n",
    " '20231128_20X_23-03-072A4_DAPI_ZO-1_CD16_Mtb_WT_48hpi_Multichannel Z-Stack_20231128_1572.tif',\n",
    " '20231128_20X_23-03-072A3_DAPI_ZO-1_CD16_Mtb_WT_2hpi_Multichannel Z-Stack_20231128_1560.tif',\n",
    " '20231128_20X_23-03-072A4_DAPI_ZO-1_CD16_Mtb_WT_48hpi_Multichannel Z-Stack_20231128_1564.tif',\n",
    " '20231128_20X_23-03-072A3_DAPI_ZO-1_CD16_Mtb_WT_2hpi_Multichannel Z-Stack_20231128_1557.tif',\n",
    " '20231128_20X_23-03-072A4_DAPI_ZO-1_CD16_Mtb_WT_48hpi_Multichannel Z-Stack_20231128_1563.tif',\n",
    " '20231128_20X_23-03-072A4_DAPI_ZO-1_CD16_Mtb_WT_48hpi_Multichannel Z-Stack_20231128_1571.tif',\n",
    " '20231128_20X_23-03-072A4_DAPI_ZO-1_CD16_Mtb_WT_48hpi_Multichannel Z-Stack_20231128_1567.tif',\n",
    " '20231128_20X_23-03-072A4_DAPI_ZO-1_CD16_Mtb_WT_48hpi_Multichannel Z-Stack_20231128_1566.tif',\n",
    " '20231128_20X_23-03-072A4_DAPI_ZO-1_CD16_Mtb_WT_48hpi_Multichannel Z-Stack_20231128_1568.tif',\n",
    " '20231128_20X_23-03-072A3_DAPI_ZO-1_CD16_Mtb_WT_2hpi_Multichannel Z-Stack_20231128_1556.tif',\n",
    " '20231127_20X_23-03-072A5_DAPI_ZO-1_CD16_Mtb_ATG14KO_2hpi_Multichannel Z-Stack_20231127_1553.tif',\n",
    " '20231127_20X_23-03-072A6_DAPI_ZO-1_CD16_Mtb_ATG14KO_48hpi_Mult...nel Z-Stack_20231127_1544.tif',\n",
    " '20231127_20X_23-03-072A5_DAPI_ZO-1_CD16_Mtb_ATG14KO_2hpi_Multichannel Z-Stack_20231127_1551.tif',\n",
    " '20231127_20X_23-03-072A6_DAPI_ZO-1_CD16_Mtb_ATG14KO_48hpi_Mult...nel Z-Stack_20231127_1545.tif',\n",
    " '20231127_20X_23-03-072A6_DAPI_ZO-1_CD16_Mtb_ATG14KO_48hpi_Mult...nel Z-Stack_20231127_1546.tif',\n",
    " '20231127_20X_23-03-072A6_DAPI_ZO-1_CD16_Mtb_ATG14KO_48hpi_Mult...nel Z-Stack_20231127_1547.tif',\n",
    " '20231127_20X_23-03-072A5_DAPI_ZO-1_CD16_Mtb_ATG14KO_2hpi_Multichannel Z-Stack_20231127_1552.tif',\n",
    " '20231127_20X_23-03-072A6_DAPI_ZO-1_CD16_Mtb_ATG14KO_48hpi_Mult...nel Z-Stack_20231127_1542.tif',\n",
    " '20231127_20X_23-03-072A6_DAPI_ZO-1_CD16_Mtb_ATG14KO_48hpi_Mult...nel Z-Stack_20231127_1541.tif',\n",
    " '20231127_20X_23-03-072A6_DAPI_ZO-1_CD16_Mtb_ATG14KO_48hpi_Mult...nel Z-Stack_20231127_1543.tif',\n",
    " '20231127_20X_23-03-072A5_DAPI_ZO-1_CD16_Mtb_ATG14KO_2hpi_Multichannel Z-Stack_20231127_1549.tif',\n",
    " '20231127_20X_23-03-072A5_DAPI_ZO-1_CD16_Mtb_ATG14KO_2hpi_Multichannel Z-Stack_20231127_1550.tif',\n",
    " '20231127_20X_23-03-072A6_DAPI_ZO-1_CD16_Mtb_ATG14KO_48hpi_Mult...nel Z-Stack_20231127_1540.tif',\n",
    " '20231127_20X_23-03-072A5_DAPI_ZO-1_CD16_Mtb_ATG14KO_2hpi_Multichannel Z-Stack_20231127_1554.tif',\n",
    " '20231127_20X_23-03-072A6_DAPI_ZO-1_CD16_Mtb_ATG14KO_48hpi_Mult...nel Z-Stack_20231127_1548.tif']"
   ]
  },
  {
   "cell_type": "code",
   "execution_count": 25,
   "id": "587502a7-93b7-402f-b326-6b309fb3614c",
   "metadata": {},
   "outputs": [
    {
     "name": "stdout",
     "output_type": "stream",
     "text": [
      "0 : 20231128_20X_23-03-072A3_DAPI_ZO-1_CD16_Mtb_WT_2hpi_Multichannel Z-Stack_20231128_1561.tif\n",
      "1 : 20231128_20X_23-03-072A4_DAPI_ZO-1_CD16_Mtb_WT_48hpi_Multichannel Z-Stack_20231128_1565.tif\n",
      "2 : 20231128_20X_23-03-072A3_DAPI_ZO-1_CD16_Mtb_WT_2hpi_Multichannel Z-Stack_20231128_1559.tif\n",
      "3 : 20231128_20X_23-03-072A4_DAPI_ZO-1_CD16_Mtb_WT_48hpi_Multichannel Z-Stack_20231128_1569.tif\n",
      "4 : 20231128_20X_23-03-072A3_DAPI_ZO-1_CD16_Mtb_WT_2hpi_Multichannel Z-Stack_20231128_1558.tif\n",
      "5 : 20231128_20X_23-03-072A3_DAPI_ZO-1_CD16_Mtb_WT_2hpi_Multichannel Z-Stack_20231128_1555.tif\n",
      "6 : 20231128_20X_23-03-072A4_DAPI_ZO-1_CD16_Mtb_WT_48hpi_Multichannel Z-Stack_20231128_1570.tif\n",
      "7 : 20231128_20X_23-03-072A3_DAPI_ZO-1_CD16_Mtb_WT_2hpi_Multichannel Z-Stack_20231128_1562.tif\n",
      "8 : 20231128_20X_23-03-072A4_DAPI_ZO-1_CD16_Mtb_WT_48hpi_Multichannel Z-Stack_20231128_1572.tif\n",
      "9 : 20231128_20X_23-03-072A3_DAPI_ZO-1_CD16_Mtb_WT_2hpi_Multichannel Z-Stack_20231128_1560.tif\n",
      "10 : 20231128_20X_23-03-072A4_DAPI_ZO-1_CD16_Mtb_WT_48hpi_Multichannel Z-Stack_20231128_1564.tif\n",
      "11 : 20231128_20X_23-03-072A3_DAPI_ZO-1_CD16_Mtb_WT_2hpi_Multichannel Z-Stack_20231128_1557.tif\n",
      "12 : 20231128_20X_23-03-072A4_DAPI_ZO-1_CD16_Mtb_WT_48hpi_Multichannel Z-Stack_20231128_1563.tif\n",
      "13 : 20231128_20X_23-03-072A4_DAPI_ZO-1_CD16_Mtb_WT_48hpi_Multichannel Z-Stack_20231128_1571.tif\n",
      "14 : 20231128_20X_23-03-072A4_DAPI_ZO-1_CD16_Mtb_WT_48hpi_Multichannel Z-Stack_20231128_1567.tif\n",
      "15 : 20231128_20X_23-03-072A4_DAPI_ZO-1_CD16_Mtb_WT_48hpi_Multichannel Z-Stack_20231128_1566.tif\n",
      "16 : 20231128_20X_23-03-072A4_DAPI_ZO-1_CD16_Mtb_WT_48hpi_Multichannel Z-Stack_20231128_1568.tif\n",
      "17 : 20231128_20X_23-03-072A3_DAPI_ZO-1_CD16_Mtb_WT_2hpi_Multichannel Z-Stack_20231128_1556.tif\n",
      "18 : 20231127_20X_23-03-072A5_DAPI_ZO-1_CD16_Mtb_ATG14KO_2hpi_Multichannel Z-Stack_20231127_1553.tif\n",
      "19 : 20231127_20X_23-03-072A6_DAPI_ZO-1_CD16_Mtb_ATG14KO_48hpi_Mult...nel Z-Stack_20231127_1544.tif\n",
      "20 : 20231127_20X_23-03-072A5_DAPI_ZO-1_CD16_Mtb_ATG14KO_2hpi_Multichannel Z-Stack_20231127_1551.tif\n",
      "21 : 20231127_20X_23-03-072A6_DAPI_ZO-1_CD16_Mtb_ATG14KO_48hpi_Mult...nel Z-Stack_20231127_1545.tif\n",
      "22 : 20231127_20X_23-03-072A6_DAPI_ZO-1_CD16_Mtb_ATG14KO_48hpi_Mult...nel Z-Stack_20231127_1546.tif\n",
      "23 : 20231127_20X_23-03-072A6_DAPI_ZO-1_CD16_Mtb_ATG14KO_48hpi_Mult...nel Z-Stack_20231127_1547.tif\n",
      "24 : 20231127_20X_23-03-072A5_DAPI_ZO-1_CD16_Mtb_ATG14KO_2hpi_Multichannel Z-Stack_20231127_1552.tif\n",
      "25 : 20231127_20X_23-03-072A6_DAPI_ZO-1_CD16_Mtb_ATG14KO_48hpi_Mult...nel Z-Stack_20231127_1542.tif\n",
      "26 : 20231127_20X_23-03-072A6_DAPI_ZO-1_CD16_Mtb_ATG14KO_48hpi_Mult...nel Z-Stack_20231127_1541.tif\n",
      "27 : 20231127_20X_23-03-072A6_DAPI_ZO-1_CD16_Mtb_ATG14KO_48hpi_Mult...nel Z-Stack_20231127_1543.tif\n",
      "28 : 20231127_20X_23-03-072A5_DAPI_ZO-1_CD16_Mtb_ATG14KO_2hpi_Multichannel Z-Stack_20231127_1549.tif\n",
      "29 : 20231127_20X_23-03-072A5_DAPI_ZO-1_CD16_Mtb_ATG14KO_2hpi_Multichannel Z-Stack_20231127_1550.tif\n",
      "30 : 20231127_20X_23-03-072A6_DAPI_ZO-1_CD16_Mtb_ATG14KO_48hpi_Mult...nel Z-Stack_20231127_1540.tif\n",
      "31 : 20231127_20X_23-03-072A5_DAPI_ZO-1_CD16_Mtb_ATG14KO_2hpi_Multichannel Z-Stack_20231127_1554.tif\n",
      "32 : 20231127_20X_23-03-072A6_DAPI_ZO-1_CD16_Mtb_ATG14KO_48hpi_Mult...nel Z-Stack_20231127_1548.tif\n"
     ]
    }
   ],
   "source": [
    "for n, i in enumerate(image_basenames):\n",
    "    print(n,':', i)"
   ]
  },
  {
   "cell_type": "code",
   "execution_count": 26,
   "id": "7206266a-3db8-4a8e-81af-312bafb6fe64",
   "metadata": {},
   "outputs": [],
   "source": [
    "basedir = '/run/user/30046150/gvfs/smb-share:server=data2.thecrick.org,share=lab-gutierrezm/home/shared/Lung on Chip/homuncu_loc_image_analysis/iAT1_iAT2_iVEC_macrophage_experiments/DAPI_ZO1_CD16_MTB/images'"
   ]
  },
  {
   "cell_type": "code",
   "execution_count": 27,
   "id": "38f4bd7f-f353-47c0-a1bb-1bd73cd4f5a7",
   "metadata": {},
   "outputs": [],
   "source": [
    "image_fns = [os.path.join(basedir, fn) for fn in image_basenames]"
   ]
  },
  {
   "cell_type": "markdown",
   "id": "8f7de265-5f7c-483b-a2cc-94774c81d34d",
   "metadata": {},
   "source": [
    "# Inspect some sample images"
   ]
  },
  {
   "cell_type": "code",
   "execution_count": 219,
   "id": "14ee50a3-7ed9-48dd-849c-ec9203c4019b",
   "metadata": {},
   "outputs": [
    {
     "name": "stdout",
     "output_type": "stream",
     "text": [
      "CPU times: user 2.2 s, sys: 8.06 s, total: 10.3 s\n",
      "Wall time: 2min 1s\n"
     ]
    }
   ],
   "source": [
    "%%time\n",
    "fn = [fn for fn in image_fns if '1556' in fn][0]\n",
    "images = io.imread(fn)"
   ]
  },
  {
   "cell_type": "code",
   "execution_count": 220,
   "id": "d2ba411a-fbaa-40f7-96c6-23df305949b7",
   "metadata": {},
   "outputs": [
    {
     "data": {
      "text/plain": [
       "'/run/user/30046150/gvfs/smb-share:server=data2.thecrick.org,share=lab-gutierrezm/home/shared/Lung on Chip/homuncu_loc_image_analysis/iAT1_iAT2_iVEC_macrophage_experiments/DAPI_ZO1_CD16_MTB/images/20231128_20X_23-03-072A3_DAPI_ZO-1_CD16_Mtb_WT_2hpi_Multichannel Z-Stack_20231128_1556.tif'"
      ]
     },
     "execution_count": 220,
     "metadata": {},
     "output_type": "execute_result"
    }
   ],
   "source": [
    "fn"
   ]
  },
  {
   "cell_type": "code",
   "execution_count": 221,
   "id": "58a5fb20-340f-4e98-947f-f81ccb5f916d",
   "metadata": {},
   "outputs": [
    {
     "data": {
      "text/plain": [
       "(155, 2304, 2304, 4)"
      ]
     },
     "execution_count": 221,
     "metadata": {},
     "output_type": "execute_result"
    }
   ],
   "source": [
    "images.shape"
   ]
  },
  {
   "cell_type": "code",
   "execution_count": 222,
   "id": "2a7c468d-0311-4456-89f8-23cc9edd9a8f",
   "metadata": {},
   "outputs": [
    {
     "data": {
      "text/plain": [
       "[<Image layer 'Image' at 0x7efddb4ae4f0>,\n",
       " <Image layer 'Image [1]' at 0x7f0776db1ca0>,\n",
       " <Image layer 'Image [2]' at 0x7f0776d5d100>,\n",
       " <Image layer 'Image [3]' at 0x7f0776d0bca0>]"
      ]
     },
     "execution_count": 222,
     "metadata": {},
     "output_type": "execute_result"
    }
   ],
   "source": [
    "viewer = napari.Viewer(title = os.path.basename(fn))\n",
    "\n",
    "viewer.add_image(images, channel_axis = -1)\n",
    "\n"
   ]
  },
  {
   "cell_type": "code",
   "execution_count": 224,
   "id": "a8706c41-0936-403a-ac74-72483be96ba9",
   "metadata": {},
   "outputs": [
    {
     "name": "stdout",
     "output_type": "stream",
     "text": [
      "\n"
     ]
    }
   ],
   "source": [
    "print()"
   ]
  },
  {
   "cell_type": "markdown",
   "id": "9cfe26f5-f091-445c-a30c-3616534ad743",
   "metadata": {},
   "source": [
    "# Manualy segmentation"
   ]
  },
  {
   "cell_type": "code",
   "execution_count": 225,
   "id": "8b6893b9-7aff-4219-b498-749c63aff897",
   "metadata": {},
   "outputs": [],
   "source": [
    "masks = viewer.layers['Labels'].data"
   ]
  },
  {
   "cell_type": "code",
   "execution_count": 226,
   "id": "ea0c3edf-6474-4412-8bd8-868d83949296",
   "metadata": {},
   "outputs": [],
   "source": [
    "np.save(f'mask_backup_{ID_extractor(fn)}.npy', masks)"
   ]
  },
  {
   "cell_type": "code",
   "execution_count": 227,
   "id": "8cf02d05-e077-428a-939f-e6d0fce11c4f",
   "metadata": {},
   "outputs": [
    {
     "data": {
      "application/vnd.jupyter.widget-view+json": {
       "model_id": "cd503b2805694e26a3d9182e3163580e",
       "version_major": 2,
       "version_minor": 0
      },
      "text/plain": [
       "  0%|          | 0/54 [00:00<?, ?it/s]"
      ]
     },
     "metadata": {},
     "output_type": "display_data"
    },
    {
     "data": {
      "application/vnd.jupyter.widget-view+json": {
       "model_id": "",
       "version_major": 2,
       "version_minor": 0
      },
      "text/plain": [
       "Iterating over cell ID 1 GT masks:   0%|          | 0/2 [00:00<?, ?it/s]"
      ]
     },
     "metadata": {},
     "output_type": "display_data"
    },
    {
     "data": {
      "application/vnd.jupyter.widget-view+json": {
       "model_id": "",
       "version_major": 2,
       "version_minor": 0
      },
      "text/plain": [
       "Filling in the gaps:   0%|          | 0/35 [00:00<?, ?it/s]"
      ]
     },
     "metadata": {},
     "output_type": "display_data"
    },
    {
     "data": {
      "application/vnd.jupyter.widget-view+json": {
       "model_id": "",
       "version_major": 2,
       "version_minor": 0
      },
      "text/plain": [
       "Filling in the gaps:   0%|          | 0/7 [00:00<?, ?it/s]"
      ]
     },
     "metadata": {},
     "output_type": "display_data"
    },
    {
     "data": {
      "application/vnd.jupyter.widget-view+json": {
       "model_id": "",
       "version_major": 2,
       "version_minor": 0
      },
      "text/plain": [
       "Iterating over cell ID 2 GT masks:   0%|          | 0/2 [00:00<?, ?it/s]"
      ]
     },
     "metadata": {},
     "output_type": "display_data"
    },
    {
     "data": {
      "application/vnd.jupyter.widget-view+json": {
       "model_id": "",
       "version_major": 2,
       "version_minor": 0
      },
      "text/plain": [
       "Filling in the gaps:   0%|          | 0/24 [00:00<?, ?it/s]"
      ]
     },
     "metadata": {},
     "output_type": "display_data"
    },
    {
     "data": {
      "application/vnd.jupyter.widget-view+json": {
       "model_id": "",
       "version_major": 2,
       "version_minor": 0
      },
      "text/plain": [
       "Filling in the gaps:   0%|          | 0/11 [00:00<?, ?it/s]"
      ]
     },
     "metadata": {},
     "output_type": "display_data"
    },
    {
     "data": {
      "application/vnd.jupyter.widget-view+json": {
       "model_id": "",
       "version_major": 2,
       "version_minor": 0
      },
      "text/plain": [
       "Iterating over cell ID 3 GT masks:   0%|          | 0/1 [00:00<?, ?it/s]"
      ]
     },
     "metadata": {},
     "output_type": "display_data"
    },
    {
     "data": {
      "application/vnd.jupyter.widget-view+json": {
       "model_id": "",
       "version_major": 2,
       "version_minor": 0
      },
      "text/plain": [
       "Filling in the gaps:   0%|          | 0/40 [00:00<?, ?it/s]"
      ]
     },
     "metadata": {},
     "output_type": "display_data"
    },
    {
     "data": {
      "application/vnd.jupyter.widget-view+json": {
       "model_id": "",
       "version_major": 2,
       "version_minor": 0
      },
      "text/plain": [
       "Iterating over cell ID 4 GT masks:   0%|          | 0/1 [00:00<?, ?it/s]"
      ]
     },
     "metadata": {},
     "output_type": "display_data"
    },
    {
     "data": {
      "application/vnd.jupyter.widget-view+json": {
       "model_id": "",
       "version_major": 2,
       "version_minor": 0
      },
      "text/plain": [
       "Filling in the gaps:   0%|          | 0/32 [00:00<?, ?it/s]"
      ]
     },
     "metadata": {},
     "output_type": "display_data"
    },
    {
     "data": {
      "application/vnd.jupyter.widget-view+json": {
       "model_id": "",
       "version_major": 2,
       "version_minor": 0
      },
      "text/plain": [
       "Iterating over cell ID 5 GT masks:   0%|          | 0/1 [00:00<?, ?it/s]"
      ]
     },
     "metadata": {},
     "output_type": "display_data"
    },
    {
     "data": {
      "application/vnd.jupyter.widget-view+json": {
       "model_id": "",
       "version_major": 2,
       "version_minor": 0
      },
      "text/plain": [
       "Filling in the gaps:   0%|          | 0/37 [00:00<?, ?it/s]"
      ]
     },
     "metadata": {},
     "output_type": "display_data"
    },
    {
     "data": {
      "application/vnd.jupyter.widget-view+json": {
       "model_id": "",
       "version_major": 2,
       "version_minor": 0
      },
      "text/plain": [
       "Iterating over cell ID 6 GT masks:   0%|          | 0/1 [00:00<?, ?it/s]"
      ]
     },
     "metadata": {},
     "output_type": "display_data"
    },
    {
     "data": {
      "application/vnd.jupyter.widget-view+json": {
       "model_id": "",
       "version_major": 2,
       "version_minor": 0
      },
      "text/plain": [
       "Filling in the gaps:   0%|          | 0/30 [00:00<?, ?it/s]"
      ]
     },
     "metadata": {},
     "output_type": "display_data"
    },
    {
     "data": {
      "application/vnd.jupyter.widget-view+json": {
       "model_id": "",
       "version_major": 2,
       "version_minor": 0
      },
      "text/plain": [
       "Iterating over cell ID 7 GT masks:   0%|          | 0/2 [00:00<?, ?it/s]"
      ]
     },
     "metadata": {},
     "output_type": "display_data"
    },
    {
     "data": {
      "application/vnd.jupyter.widget-view+json": {
       "model_id": "",
       "version_major": 2,
       "version_minor": 0
      },
      "text/plain": [
       "Filling in the gaps:   0%|          | 0/64 [00:00<?, ?it/s]"
      ]
     },
     "metadata": {},
     "output_type": "display_data"
    },
    {
     "data": {
      "application/vnd.jupyter.widget-view+json": {
       "model_id": "",
       "version_major": 2,
       "version_minor": 0
      },
      "text/plain": [
       "Filling in the gaps:   0%|          | 0/11 [00:00<?, ?it/s]"
      ]
     },
     "metadata": {},
     "output_type": "display_data"
    },
    {
     "data": {
      "application/vnd.jupyter.widget-view+json": {
       "model_id": "",
       "version_major": 2,
       "version_minor": 0
      },
      "text/plain": [
       "Iterating over cell ID 8 GT masks:   0%|          | 0/1 [00:00<?, ?it/s]"
      ]
     },
     "metadata": {},
     "output_type": "display_data"
    },
    {
     "data": {
      "application/vnd.jupyter.widget-view+json": {
       "model_id": "",
       "version_major": 2,
       "version_minor": 0
      },
      "text/plain": [
       "Filling in the gaps:   0%|          | 0/32 [00:00<?, ?it/s]"
      ]
     },
     "metadata": {},
     "output_type": "display_data"
    },
    {
     "data": {
      "application/vnd.jupyter.widget-view+json": {
       "model_id": "",
       "version_major": 2,
       "version_minor": 0
      },
      "text/plain": [
       "Iterating over cell ID 9 GT masks:   0%|          | 0/1 [00:00<?, ?it/s]"
      ]
     },
     "metadata": {},
     "output_type": "display_data"
    },
    {
     "data": {
      "application/vnd.jupyter.widget-view+json": {
       "model_id": "",
       "version_major": 2,
       "version_minor": 0
      },
      "text/plain": [
       "Filling in the gaps:   0%|          | 0/38 [00:00<?, ?it/s]"
      ]
     },
     "metadata": {},
     "output_type": "display_data"
    },
    {
     "data": {
      "application/vnd.jupyter.widget-view+json": {
       "model_id": "",
       "version_major": 2,
       "version_minor": 0
      },
      "text/plain": [
       "Iterating over cell ID 10 GT masks:   0%|          | 0/1 [00:00<?, ?it/s]"
      ]
     },
     "metadata": {},
     "output_type": "display_data"
    },
    {
     "data": {
      "application/vnd.jupyter.widget-view+json": {
       "model_id": "",
       "version_major": 2,
       "version_minor": 0
      },
      "text/plain": [
       "Filling in the gaps:   0%|          | 0/21 [00:00<?, ?it/s]"
      ]
     },
     "metadata": {},
     "output_type": "display_data"
    },
    {
     "data": {
      "application/vnd.jupyter.widget-view+json": {
       "model_id": "",
       "version_major": 2,
       "version_minor": 0
      },
      "text/plain": [
       "Iterating over cell ID 11 GT masks:   0%|          | 0/1 [00:00<?, ?it/s]"
      ]
     },
     "metadata": {},
     "output_type": "display_data"
    },
    {
     "data": {
      "application/vnd.jupyter.widget-view+json": {
       "model_id": "",
       "version_major": 2,
       "version_minor": 0
      },
      "text/plain": [
       "Filling in the gaps:   0%|          | 0/13 [00:00<?, ?it/s]"
      ]
     },
     "metadata": {},
     "output_type": "display_data"
    },
    {
     "data": {
      "application/vnd.jupyter.widget-view+json": {
       "model_id": "",
       "version_major": 2,
       "version_minor": 0
      },
      "text/plain": [
       "Iterating over cell ID 12 GT masks:   0%|          | 0/2 [00:00<?, ?it/s]"
      ]
     },
     "metadata": {},
     "output_type": "display_data"
    },
    {
     "data": {
      "application/vnd.jupyter.widget-view+json": {
       "model_id": "",
       "version_major": 2,
       "version_minor": 0
      },
      "text/plain": [
       "Filling in the gaps:   0%|          | 0/9 [00:00<?, ?it/s]"
      ]
     },
     "metadata": {},
     "output_type": "display_data"
    },
    {
     "data": {
      "application/vnd.jupyter.widget-view+json": {
       "model_id": "",
       "version_major": 2,
       "version_minor": 0
      },
      "text/plain": [
       "Filling in the gaps:   0%|          | 0/19 [00:00<?, ?it/s]"
      ]
     },
     "metadata": {},
     "output_type": "display_data"
    },
    {
     "data": {
      "application/vnd.jupyter.widget-view+json": {
       "model_id": "",
       "version_major": 2,
       "version_minor": 0
      },
      "text/plain": [
       "Iterating over cell ID 13 GT masks:   0%|          | 0/1 [00:00<?, ?it/s]"
      ]
     },
     "metadata": {},
     "output_type": "display_data"
    },
    {
     "data": {
      "application/vnd.jupyter.widget-view+json": {
       "model_id": "",
       "version_major": 2,
       "version_minor": 0
      },
      "text/plain": [
       "Filling in the gaps:   0%|          | 0/20 [00:00<?, ?it/s]"
      ]
     },
     "metadata": {},
     "output_type": "display_data"
    },
    {
     "data": {
      "application/vnd.jupyter.widget-view+json": {
       "model_id": "",
       "version_major": 2,
       "version_minor": 0
      },
      "text/plain": [
       "Iterating over cell ID 14 GT masks:   0%|          | 0/1 [00:00<?, ?it/s]"
      ]
     },
     "metadata": {},
     "output_type": "display_data"
    },
    {
     "data": {
      "application/vnd.jupyter.widget-view+json": {
       "model_id": "",
       "version_major": 2,
       "version_minor": 0
      },
      "text/plain": [
       "Filling in the gaps:   0%|          | 0/31 [00:00<?, ?it/s]"
      ]
     },
     "metadata": {},
     "output_type": "display_data"
    },
    {
     "data": {
      "application/vnd.jupyter.widget-view+json": {
       "model_id": "",
       "version_major": 2,
       "version_minor": 0
      },
      "text/plain": [
       "Iterating over cell ID 15 GT masks:   0%|          | 0/1 [00:00<?, ?it/s]"
      ]
     },
     "metadata": {},
     "output_type": "display_data"
    },
    {
     "data": {
      "application/vnd.jupyter.widget-view+json": {
       "model_id": "",
       "version_major": 2,
       "version_minor": 0
      },
      "text/plain": [
       "Filling in the gaps:   0%|          | 0/22 [00:00<?, ?it/s]"
      ]
     },
     "metadata": {},
     "output_type": "display_data"
    },
    {
     "data": {
      "application/vnd.jupyter.widget-view+json": {
       "model_id": "",
       "version_major": 2,
       "version_minor": 0
      },
      "text/plain": [
       "Iterating over cell ID 16 GT masks:   0%|          | 0/1 [00:00<?, ?it/s]"
      ]
     },
     "metadata": {},
     "output_type": "display_data"
    },
    {
     "data": {
      "application/vnd.jupyter.widget-view+json": {
       "model_id": "",
       "version_major": 2,
       "version_minor": 0
      },
      "text/plain": [
       "Filling in the gaps:   0%|          | 0/28 [00:00<?, ?it/s]"
      ]
     },
     "metadata": {},
     "output_type": "display_data"
    },
    {
     "data": {
      "application/vnd.jupyter.widget-view+json": {
       "model_id": "",
       "version_major": 2,
       "version_minor": 0
      },
      "text/plain": [
       "Iterating over cell ID 17 GT masks:   0%|          | 0/1 [00:00<?, ?it/s]"
      ]
     },
     "metadata": {},
     "output_type": "display_data"
    },
    {
     "data": {
      "application/vnd.jupyter.widget-view+json": {
       "model_id": "",
       "version_major": 2,
       "version_minor": 0
      },
      "text/plain": [
       "Filling in the gaps:   0%|          | 0/31 [00:00<?, ?it/s]"
      ]
     },
     "metadata": {},
     "output_type": "display_data"
    },
    {
     "data": {
      "application/vnd.jupyter.widget-view+json": {
       "model_id": "",
       "version_major": 2,
       "version_minor": 0
      },
      "text/plain": [
       "Iterating over cell ID 18 GT masks:   0%|          | 0/1 [00:00<?, ?it/s]"
      ]
     },
     "metadata": {},
     "output_type": "display_data"
    },
    {
     "data": {
      "application/vnd.jupyter.widget-view+json": {
       "model_id": "",
       "version_major": 2,
       "version_minor": 0
      },
      "text/plain": [
       "Filling in the gaps:   0%|          | 0/26 [00:00<?, ?it/s]"
      ]
     },
     "metadata": {},
     "output_type": "display_data"
    },
    {
     "data": {
      "application/vnd.jupyter.widget-view+json": {
       "model_id": "",
       "version_major": 2,
       "version_minor": 0
      },
      "text/plain": [
       "Iterating over cell ID 19 GT masks:   0%|          | 0/1 [00:00<?, ?it/s]"
      ]
     },
     "metadata": {},
     "output_type": "display_data"
    },
    {
     "data": {
      "application/vnd.jupyter.widget-view+json": {
       "model_id": "",
       "version_major": 2,
       "version_minor": 0
      },
      "text/plain": [
       "Filling in the gaps:   0%|          | 0/26 [00:00<?, ?it/s]"
      ]
     },
     "metadata": {},
     "output_type": "display_data"
    },
    {
     "data": {
      "application/vnd.jupyter.widget-view+json": {
       "model_id": "",
       "version_major": 2,
       "version_minor": 0
      },
      "text/plain": [
       "Iterating over cell ID 20 GT masks:   0%|          | 0/1 [00:00<?, ?it/s]"
      ]
     },
     "metadata": {},
     "output_type": "display_data"
    },
    {
     "data": {
      "application/vnd.jupyter.widget-view+json": {
       "model_id": "",
       "version_major": 2,
       "version_minor": 0
      },
      "text/plain": [
       "Filling in the gaps:   0%|          | 0/32 [00:00<?, ?it/s]"
      ]
     },
     "metadata": {},
     "output_type": "display_data"
    },
    {
     "data": {
      "application/vnd.jupyter.widget-view+json": {
       "model_id": "",
       "version_major": 2,
       "version_minor": 0
      },
      "text/plain": [
       "Iterating over cell ID 21 GT masks:   0%|          | 0/1 [00:00<?, ?it/s]"
      ]
     },
     "metadata": {},
     "output_type": "display_data"
    },
    {
     "data": {
      "application/vnd.jupyter.widget-view+json": {
       "model_id": "",
       "version_major": 2,
       "version_minor": 0
      },
      "text/plain": [
       "Filling in the gaps:   0%|          | 0/23 [00:00<?, ?it/s]"
      ]
     },
     "metadata": {},
     "output_type": "display_data"
    },
    {
     "data": {
      "application/vnd.jupyter.widget-view+json": {
       "model_id": "",
       "version_major": 2,
       "version_minor": 0
      },
      "text/plain": [
       "Iterating over cell ID 22 GT masks:   0%|          | 0/1 [00:00<?, ?it/s]"
      ]
     },
     "metadata": {},
     "output_type": "display_data"
    },
    {
     "data": {
      "application/vnd.jupyter.widget-view+json": {
       "model_id": "",
       "version_major": 2,
       "version_minor": 0
      },
      "text/plain": [
       "Filling in the gaps:   0%|          | 0/23 [00:00<?, ?it/s]"
      ]
     },
     "metadata": {},
     "output_type": "display_data"
    },
    {
     "data": {
      "application/vnd.jupyter.widget-view+json": {
       "model_id": "",
       "version_major": 2,
       "version_minor": 0
      },
      "text/plain": [
       "Iterating over cell ID 23 GT masks:   0%|          | 0/1 [00:00<?, ?it/s]"
      ]
     },
     "metadata": {},
     "output_type": "display_data"
    },
    {
     "data": {
      "application/vnd.jupyter.widget-view+json": {
       "model_id": "",
       "version_major": 2,
       "version_minor": 0
      },
      "text/plain": [
       "Filling in the gaps:   0%|          | 0/23 [00:00<?, ?it/s]"
      ]
     },
     "metadata": {},
     "output_type": "display_data"
    },
    {
     "data": {
      "application/vnd.jupyter.widget-view+json": {
       "model_id": "",
       "version_major": 2,
       "version_minor": 0
      },
      "text/plain": [
       "Iterating over cell ID 24 GT masks:   0%|          | 0/1 [00:00<?, ?it/s]"
      ]
     },
     "metadata": {},
     "output_type": "display_data"
    },
    {
     "data": {
      "application/vnd.jupyter.widget-view+json": {
       "model_id": "",
       "version_major": 2,
       "version_minor": 0
      },
      "text/plain": [
       "Filling in the gaps:   0%|          | 0/14 [00:00<?, ?it/s]"
      ]
     },
     "metadata": {},
     "output_type": "display_data"
    },
    {
     "data": {
      "application/vnd.jupyter.widget-view+json": {
       "model_id": "",
       "version_major": 2,
       "version_minor": 0
      },
      "text/plain": [
       "Iterating over cell ID 25 GT masks:   0%|          | 0/1 [00:00<?, ?it/s]"
      ]
     },
     "metadata": {},
     "output_type": "display_data"
    },
    {
     "data": {
      "application/vnd.jupyter.widget-view+json": {
       "model_id": "",
       "version_major": 2,
       "version_minor": 0
      },
      "text/plain": [
       "Filling in the gaps:   0%|          | 0/14 [00:00<?, ?it/s]"
      ]
     },
     "metadata": {},
     "output_type": "display_data"
    },
    {
     "data": {
      "application/vnd.jupyter.widget-view+json": {
       "model_id": "",
       "version_major": 2,
       "version_minor": 0
      },
      "text/plain": [
       "Iterating over cell ID 26 GT masks:   0%|          | 0/1 [00:00<?, ?it/s]"
      ]
     },
     "metadata": {},
     "output_type": "display_data"
    },
    {
     "data": {
      "application/vnd.jupyter.widget-view+json": {
       "model_id": "",
       "version_major": 2,
       "version_minor": 0
      },
      "text/plain": [
       "Filling in the gaps:   0%|          | 0/23 [00:00<?, ?it/s]"
      ]
     },
     "metadata": {},
     "output_type": "display_data"
    },
    {
     "data": {
      "application/vnd.jupyter.widget-view+json": {
       "model_id": "",
       "version_major": 2,
       "version_minor": 0
      },
      "text/plain": [
       "Iterating over cell ID 27 GT masks:   0%|          | 0/1 [00:00<?, ?it/s]"
      ]
     },
     "metadata": {},
     "output_type": "display_data"
    },
    {
     "data": {
      "application/vnd.jupyter.widget-view+json": {
       "model_id": "",
       "version_major": 2,
       "version_minor": 0
      },
      "text/plain": [
       "Filling in the gaps:   0%|          | 0/19 [00:00<?, ?it/s]"
      ]
     },
     "metadata": {},
     "output_type": "display_data"
    },
    {
     "data": {
      "application/vnd.jupyter.widget-view+json": {
       "model_id": "",
       "version_major": 2,
       "version_minor": 0
      },
      "text/plain": [
       "Iterating over cell ID 28 GT masks:   0%|          | 0/2 [00:00<?, ?it/s]"
      ]
     },
     "metadata": {},
     "output_type": "display_data"
    },
    {
     "data": {
      "application/vnd.jupyter.widget-view+json": {
       "model_id": "",
       "version_major": 2,
       "version_minor": 0
      },
      "text/plain": [
       "Filling in the gaps:   0%|          | 0/19 [00:00<?, ?it/s]"
      ]
     },
     "metadata": {},
     "output_type": "display_data"
    },
    {
     "data": {
      "application/vnd.jupyter.widget-view+json": {
       "model_id": "",
       "version_major": 2,
       "version_minor": 0
      },
      "text/plain": [
       "Filling in the gaps:   0%|          | 0/18 [00:00<?, ?it/s]"
      ]
     },
     "metadata": {},
     "output_type": "display_data"
    },
    {
     "data": {
      "application/vnd.jupyter.widget-view+json": {
       "model_id": "",
       "version_major": 2,
       "version_minor": 0
      },
      "text/plain": [
       "Iterating over cell ID 29 GT masks:   0%|          | 0/1 [00:00<?, ?it/s]"
      ]
     },
     "metadata": {},
     "output_type": "display_data"
    },
    {
     "data": {
      "application/vnd.jupyter.widget-view+json": {
       "model_id": "",
       "version_major": 2,
       "version_minor": 0
      },
      "text/plain": [
       "Filling in the gaps:   0%|          | 0/42 [00:00<?, ?it/s]"
      ]
     },
     "metadata": {},
     "output_type": "display_data"
    },
    {
     "data": {
      "application/vnd.jupyter.widget-view+json": {
       "model_id": "",
       "version_major": 2,
       "version_minor": 0
      },
      "text/plain": [
       "Iterating over cell ID 30 GT masks:   0%|          | 0/1 [00:00<?, ?it/s]"
      ]
     },
     "metadata": {},
     "output_type": "display_data"
    },
    {
     "data": {
      "application/vnd.jupyter.widget-view+json": {
       "model_id": "",
       "version_major": 2,
       "version_minor": 0
      },
      "text/plain": [
       "Filling in the gaps:   0%|          | 0/25 [00:00<?, ?it/s]"
      ]
     },
     "metadata": {},
     "output_type": "display_data"
    },
    {
     "data": {
      "application/vnd.jupyter.widget-view+json": {
       "model_id": "",
       "version_major": 2,
       "version_minor": 0
      },
      "text/plain": [
       "Iterating over cell ID 31 GT masks:   0%|          | 0/1 [00:00<?, ?it/s]"
      ]
     },
     "metadata": {},
     "output_type": "display_data"
    },
    {
     "data": {
      "application/vnd.jupyter.widget-view+json": {
       "model_id": "",
       "version_major": 2,
       "version_minor": 0
      },
      "text/plain": [
       "Filling in the gaps:   0%|          | 0/33 [00:00<?, ?it/s]"
      ]
     },
     "metadata": {},
     "output_type": "display_data"
    },
    {
     "data": {
      "application/vnd.jupyter.widget-view+json": {
       "model_id": "",
       "version_major": 2,
       "version_minor": 0
      },
      "text/plain": [
       "Iterating over cell ID 32 GT masks:   0%|          | 0/1 [00:00<?, ?it/s]"
      ]
     },
     "metadata": {},
     "output_type": "display_data"
    },
    {
     "data": {
      "application/vnd.jupyter.widget-view+json": {
       "model_id": "",
       "version_major": 2,
       "version_minor": 0
      },
      "text/plain": [
       "Filling in the gaps:   0%|          | 0/22 [00:00<?, ?it/s]"
      ]
     },
     "metadata": {},
     "output_type": "display_data"
    },
    {
     "data": {
      "application/vnd.jupyter.widget-view+json": {
       "model_id": "",
       "version_major": 2,
       "version_minor": 0
      },
      "text/plain": [
       "Iterating over cell ID 33 GT masks:   0%|          | 0/1 [00:00<?, ?it/s]"
      ]
     },
     "metadata": {},
     "output_type": "display_data"
    },
    {
     "data": {
      "application/vnd.jupyter.widget-view+json": {
       "model_id": "",
       "version_major": 2,
       "version_minor": 0
      },
      "text/plain": [
       "Filling in the gaps:   0%|          | 0/26 [00:00<?, ?it/s]"
      ]
     },
     "metadata": {},
     "output_type": "display_data"
    },
    {
     "data": {
      "application/vnd.jupyter.widget-view+json": {
       "model_id": "",
       "version_major": 2,
       "version_minor": 0
      },
      "text/plain": [
       "Iterating over cell ID 34 GT masks:   0%|          | 0/1 [00:00<?, ?it/s]"
      ]
     },
     "metadata": {},
     "output_type": "display_data"
    },
    {
     "data": {
      "application/vnd.jupyter.widget-view+json": {
       "model_id": "",
       "version_major": 2,
       "version_minor": 0
      },
      "text/plain": [
       "Filling in the gaps:   0%|          | 0/48 [00:00<?, ?it/s]"
      ]
     },
     "metadata": {},
     "output_type": "display_data"
    },
    {
     "data": {
      "application/vnd.jupyter.widget-view+json": {
       "model_id": "",
       "version_major": 2,
       "version_minor": 0
      },
      "text/plain": [
       "Iterating over cell ID 35 GT masks:   0%|          | 0/1 [00:00<?, ?it/s]"
      ]
     },
     "metadata": {},
     "output_type": "display_data"
    },
    {
     "data": {
      "application/vnd.jupyter.widget-view+json": {
       "model_id": "",
       "version_major": 2,
       "version_minor": 0
      },
      "text/plain": [
       "Filling in the gaps:   0%|          | 0/38 [00:00<?, ?it/s]"
      ]
     },
     "metadata": {},
     "output_type": "display_data"
    },
    {
     "data": {
      "application/vnd.jupyter.widget-view+json": {
       "model_id": "",
       "version_major": 2,
       "version_minor": 0
      },
      "text/plain": [
       "Iterating over cell ID 36 GT masks:   0%|          | 0/1 [00:00<?, ?it/s]"
      ]
     },
     "metadata": {},
     "output_type": "display_data"
    },
    {
     "data": {
      "application/vnd.jupyter.widget-view+json": {
       "model_id": "",
       "version_major": 2,
       "version_minor": 0
      },
      "text/plain": [
       "Filling in the gaps:   0%|          | 0/41 [00:00<?, ?it/s]"
      ]
     },
     "metadata": {},
     "output_type": "display_data"
    },
    {
     "data": {
      "application/vnd.jupyter.widget-view+json": {
       "model_id": "",
       "version_major": 2,
       "version_minor": 0
      },
      "text/plain": [
       "Iterating over cell ID 37 GT masks:   0%|          | 0/1 [00:00<?, ?it/s]"
      ]
     },
     "metadata": {},
     "output_type": "display_data"
    },
    {
     "data": {
      "application/vnd.jupyter.widget-view+json": {
       "model_id": "",
       "version_major": 2,
       "version_minor": 0
      },
      "text/plain": [
       "Filling in the gaps:   0%|          | 0/15 [00:00<?, ?it/s]"
      ]
     },
     "metadata": {},
     "output_type": "display_data"
    },
    {
     "data": {
      "application/vnd.jupyter.widget-view+json": {
       "model_id": "",
       "version_major": 2,
       "version_minor": 0
      },
      "text/plain": [
       "Iterating over cell ID 38 GT masks:   0%|          | 0/1 [00:00<?, ?it/s]"
      ]
     },
     "metadata": {},
     "output_type": "display_data"
    },
    {
     "data": {
      "application/vnd.jupyter.widget-view+json": {
       "model_id": "",
       "version_major": 2,
       "version_minor": 0
      },
      "text/plain": [
       "Filling in the gaps:   0%|          | 0/33 [00:00<?, ?it/s]"
      ]
     },
     "metadata": {},
     "output_type": "display_data"
    },
    {
     "data": {
      "application/vnd.jupyter.widget-view+json": {
       "model_id": "",
       "version_major": 2,
       "version_minor": 0
      },
      "text/plain": [
       "Iterating over cell ID 39 GT masks:   0%|          | 0/2 [00:00<?, ?it/s]"
      ]
     },
     "metadata": {},
     "output_type": "display_data"
    },
    {
     "data": {
      "application/vnd.jupyter.widget-view+json": {
       "model_id": "",
       "version_major": 2,
       "version_minor": 0
      },
      "text/plain": [
       "Filling in the gaps:   0%|          | 0/31 [00:00<?, ?it/s]"
      ]
     },
     "metadata": {},
     "output_type": "display_data"
    },
    {
     "data": {
      "application/vnd.jupyter.widget-view+json": {
       "model_id": "",
       "version_major": 2,
       "version_minor": 0
      },
      "text/plain": [
       "Filling in the gaps:   0%|          | 0/8 [00:00<?, ?it/s]"
      ]
     },
     "metadata": {},
     "output_type": "display_data"
    },
    {
     "data": {
      "application/vnd.jupyter.widget-view+json": {
       "model_id": "",
       "version_major": 2,
       "version_minor": 0
      },
      "text/plain": [
       "Iterating over cell ID 40 GT masks:   0%|          | 0/1 [00:00<?, ?it/s]"
      ]
     },
     "metadata": {},
     "output_type": "display_data"
    },
    {
     "data": {
      "application/vnd.jupyter.widget-view+json": {
       "model_id": "",
       "version_major": 2,
       "version_minor": 0
      },
      "text/plain": [
       "Filling in the gaps:   0%|          | 0/25 [00:00<?, ?it/s]"
      ]
     },
     "metadata": {},
     "output_type": "display_data"
    },
    {
     "data": {
      "application/vnd.jupyter.widget-view+json": {
       "model_id": "",
       "version_major": 2,
       "version_minor": 0
      },
      "text/plain": [
       "Iterating over cell ID 41 GT masks:   0%|          | 0/1 [00:00<?, ?it/s]"
      ]
     },
     "metadata": {},
     "output_type": "display_data"
    },
    {
     "data": {
      "application/vnd.jupyter.widget-view+json": {
       "model_id": "",
       "version_major": 2,
       "version_minor": 0
      },
      "text/plain": [
       "Filling in the gaps:   0%|          | 0/27 [00:00<?, ?it/s]"
      ]
     },
     "metadata": {},
     "output_type": "display_data"
    },
    {
     "data": {
      "application/vnd.jupyter.widget-view+json": {
       "model_id": "",
       "version_major": 2,
       "version_minor": 0
      },
      "text/plain": [
       "Iterating over cell ID 42 GT masks:   0%|          | 0/1 [00:00<?, ?it/s]"
      ]
     },
     "metadata": {},
     "output_type": "display_data"
    },
    {
     "data": {
      "application/vnd.jupyter.widget-view+json": {
       "model_id": "",
       "version_major": 2,
       "version_minor": 0
      },
      "text/plain": [
       "Filling in the gaps:   0%|          | 0/24 [00:00<?, ?it/s]"
      ]
     },
     "metadata": {},
     "output_type": "display_data"
    },
    {
     "data": {
      "application/vnd.jupyter.widget-view+json": {
       "model_id": "",
       "version_major": 2,
       "version_minor": 0
      },
      "text/plain": [
       "Iterating over cell ID 43 GT masks:   0%|          | 0/1 [00:00<?, ?it/s]"
      ]
     },
     "metadata": {},
     "output_type": "display_data"
    },
    {
     "data": {
      "application/vnd.jupyter.widget-view+json": {
       "model_id": "",
       "version_major": 2,
       "version_minor": 0
      },
      "text/plain": [
       "Filling in the gaps:   0%|          | 0/25 [00:00<?, ?it/s]"
      ]
     },
     "metadata": {},
     "output_type": "display_data"
    },
    {
     "data": {
      "application/vnd.jupyter.widget-view+json": {
       "model_id": "",
       "version_major": 2,
       "version_minor": 0
      },
      "text/plain": [
       "Iterating over cell ID 44 GT masks:   0%|          | 0/1 [00:00<?, ?it/s]"
      ]
     },
     "metadata": {},
     "output_type": "display_data"
    },
    {
     "data": {
      "application/vnd.jupyter.widget-view+json": {
       "model_id": "",
       "version_major": 2,
       "version_minor": 0
      },
      "text/plain": [
       "Filling in the gaps:   0%|          | 0/31 [00:00<?, ?it/s]"
      ]
     },
     "metadata": {},
     "output_type": "display_data"
    },
    {
     "data": {
      "application/vnd.jupyter.widget-view+json": {
       "model_id": "",
       "version_major": 2,
       "version_minor": 0
      },
      "text/plain": [
       "Iterating over cell ID 45 GT masks:   0%|          | 0/2 [00:00<?, ?it/s]"
      ]
     },
     "metadata": {},
     "output_type": "display_data"
    },
    {
     "data": {
      "application/vnd.jupyter.widget-view+json": {
       "model_id": "",
       "version_major": 2,
       "version_minor": 0
      },
      "text/plain": [
       "Filling in the gaps:   0%|          | 0/14 [00:00<?, ?it/s]"
      ]
     },
     "metadata": {},
     "output_type": "display_data"
    },
    {
     "data": {
      "application/vnd.jupyter.widget-view+json": {
       "model_id": "",
       "version_major": 2,
       "version_minor": 0
      },
      "text/plain": [
       "Filling in the gaps:   0%|          | 0/18 [00:00<?, ?it/s]"
      ]
     },
     "metadata": {},
     "output_type": "display_data"
    },
    {
     "data": {
      "application/vnd.jupyter.widget-view+json": {
       "model_id": "",
       "version_major": 2,
       "version_minor": 0
      },
      "text/plain": [
       "Iterating over cell ID 46 GT masks:   0%|          | 0/1 [00:00<?, ?it/s]"
      ]
     },
     "metadata": {},
     "output_type": "display_data"
    },
    {
     "data": {
      "application/vnd.jupyter.widget-view+json": {
       "model_id": "",
       "version_major": 2,
       "version_minor": 0
      },
      "text/plain": [
       "Filling in the gaps:   0%|          | 0/24 [00:00<?, ?it/s]"
      ]
     },
     "metadata": {},
     "output_type": "display_data"
    },
    {
     "data": {
      "application/vnd.jupyter.widget-view+json": {
       "model_id": "",
       "version_major": 2,
       "version_minor": 0
      },
      "text/plain": [
       "Iterating over cell ID 47 GT masks:   0%|          | 0/1 [00:00<?, ?it/s]"
      ]
     },
     "metadata": {},
     "output_type": "display_data"
    },
    {
     "data": {
      "application/vnd.jupyter.widget-view+json": {
       "model_id": "",
       "version_major": 2,
       "version_minor": 0
      },
      "text/plain": [
       "Filling in the gaps:   0%|          | 0/36 [00:00<?, ?it/s]"
      ]
     },
     "metadata": {},
     "output_type": "display_data"
    },
    {
     "data": {
      "application/vnd.jupyter.widget-view+json": {
       "model_id": "",
       "version_major": 2,
       "version_minor": 0
      },
      "text/plain": [
       "Iterating over cell ID 48 GT masks:   0%|          | 0/3 [00:00<?, ?it/s]"
      ]
     },
     "metadata": {},
     "output_type": "display_data"
    },
    {
     "data": {
      "application/vnd.jupyter.widget-view+json": {
       "model_id": "",
       "version_major": 2,
       "version_minor": 0
      },
      "text/plain": [
       "Filling in the gaps:   0%|          | 0/2 [00:00<?, ?it/s]"
      ]
     },
     "metadata": {},
     "output_type": "display_data"
    },
    {
     "data": {
      "application/vnd.jupyter.widget-view+json": {
       "model_id": "",
       "version_major": 2,
       "version_minor": 0
      },
      "text/plain": [
       "Filling in the gaps:   0%|          | 0/24 [00:00<?, ?it/s]"
      ]
     },
     "metadata": {},
     "output_type": "display_data"
    },
    {
     "data": {
      "application/vnd.jupyter.widget-view+json": {
       "model_id": "",
       "version_major": 2,
       "version_minor": 0
      },
      "text/plain": [
       "Filling in the gaps:   0%|          | 0/9 [00:00<?, ?it/s]"
      ]
     },
     "metadata": {},
     "output_type": "display_data"
    },
    {
     "data": {
      "application/vnd.jupyter.widget-view+json": {
       "model_id": "",
       "version_major": 2,
       "version_minor": 0
      },
      "text/plain": [
       "Iterating over cell ID 49 GT masks:   0%|          | 0/1 [00:00<?, ?it/s]"
      ]
     },
     "metadata": {},
     "output_type": "display_data"
    },
    {
     "data": {
      "application/vnd.jupyter.widget-view+json": {
       "model_id": "",
       "version_major": 2,
       "version_minor": 0
      },
      "text/plain": [
       "Filling in the gaps:   0%|          | 0/19 [00:00<?, ?it/s]"
      ]
     },
     "metadata": {},
     "output_type": "display_data"
    },
    {
     "data": {
      "application/vnd.jupyter.widget-view+json": {
       "model_id": "",
       "version_major": 2,
       "version_minor": 0
      },
      "text/plain": [
       "Iterating over cell ID 50 GT masks:   0%|          | 0/1 [00:00<?, ?it/s]"
      ]
     },
     "metadata": {},
     "output_type": "display_data"
    },
    {
     "data": {
      "application/vnd.jupyter.widget-view+json": {
       "model_id": "",
       "version_major": 2,
       "version_minor": 0
      },
      "text/plain": [
       "Filling in the gaps:   0%|          | 0/21 [00:00<?, ?it/s]"
      ]
     },
     "metadata": {},
     "output_type": "display_data"
    },
    {
     "data": {
      "application/vnd.jupyter.widget-view+json": {
       "model_id": "",
       "version_major": 2,
       "version_minor": 0
      },
      "text/plain": [
       "Iterating over cell ID 51 GT masks:   0%|          | 0/2 [00:00<?, ?it/s]"
      ]
     },
     "metadata": {},
     "output_type": "display_data"
    },
    {
     "data": {
      "application/vnd.jupyter.widget-view+json": {
       "model_id": "",
       "version_major": 2,
       "version_minor": 0
      },
      "text/plain": [
       "Filling in the gaps:   0%|          | 0/16 [00:00<?, ?it/s]"
      ]
     },
     "metadata": {},
     "output_type": "display_data"
    },
    {
     "data": {
      "application/vnd.jupyter.widget-view+json": {
       "model_id": "",
       "version_major": 2,
       "version_minor": 0
      },
      "text/plain": [
       "Filling in the gaps:   0%|          | 0/5 [00:00<?, ?it/s]"
      ]
     },
     "metadata": {},
     "output_type": "display_data"
    },
    {
     "data": {
      "application/vnd.jupyter.widget-view+json": {
       "model_id": "",
       "version_major": 2,
       "version_minor": 0
      },
      "text/plain": [
       "Iterating over cell ID 52 GT masks:   0%|          | 0/2 [00:00<?, ?it/s]"
      ]
     },
     "metadata": {},
     "output_type": "display_data"
    },
    {
     "data": {
      "application/vnd.jupyter.widget-view+json": {
       "model_id": "",
       "version_major": 2,
       "version_minor": 0
      },
      "text/plain": [
       "Filling in the gaps:   0%|          | 0/11 [00:00<?, ?it/s]"
      ]
     },
     "metadata": {},
     "output_type": "display_data"
    },
    {
     "data": {
      "application/vnd.jupyter.widget-view+json": {
       "model_id": "",
       "version_major": 2,
       "version_minor": 0
      },
      "text/plain": [
       "Filling in the gaps:   0%|          | 0/17 [00:00<?, ?it/s]"
      ]
     },
     "metadata": {},
     "output_type": "display_data"
    },
    {
     "data": {
      "application/vnd.jupyter.widget-view+json": {
       "model_id": "",
       "version_major": 2,
       "version_minor": 0
      },
      "text/plain": [
       "Iterating over cell ID 53 GT masks:   0%|          | 0/1 [00:00<?, ?it/s]"
      ]
     },
     "metadata": {},
     "output_type": "display_data"
    },
    {
     "data": {
      "application/vnd.jupyter.widget-view+json": {
       "model_id": "",
       "version_major": 2,
       "version_minor": 0
      },
      "text/plain": [
       "Filling in the gaps:   0%|          | 0/23 [00:00<?, ?it/s]"
      ]
     },
     "metadata": {},
     "output_type": "display_data"
    },
    {
     "data": {
      "application/vnd.jupyter.widget-view+json": {
       "model_id": "",
       "version_major": 2,
       "version_minor": 0
      },
      "text/plain": [
       "Iterating over cell ID 54 GT masks:   0%|          | 0/1 [00:00<?, ?it/s]"
      ]
     },
     "metadata": {},
     "output_type": "display_data"
    },
    {
     "data": {
      "application/vnd.jupyter.widget-view+json": {
       "model_id": "",
       "version_major": 2,
       "version_minor": 0
      },
      "text/plain": [
       "Filling in the gaps:   0%|          | 0/49 [00:00<?, ?it/s]"
      ]
     },
     "metadata": {},
     "output_type": "display_data"
    },
    {
     "name": "stdout",
     "output_type": "stream",
     "text": [
      "CPU times: user 2min 15s, sys: 6.94 s, total: 2min 22s\n",
      "Wall time: 2min 22s\n"
     ]
    }
   ],
   "source": [
    "%%time \n",
    "# work on seperate volume in case masks get acc overwritten\n",
    "z_volume = masks\n",
    "\n",
    "# Initialize a new 3D array\n",
    "linked_masks = np.zeros_like(z_volume)\n",
    "\n",
    "# Identify all unique cell IDs (excluding 0 as it usually represents background)\n",
    "unique_cells = np.unique(z_volume[z_volume > 0])\n",
    "\n",
    "# Iterate over each cell ID\n",
    "for cell_id in tqdm(unique_cells, total = len(unique_cells)):\n",
    "    \n",
    "    # Find all z-indices where this cell ID appears\n",
    "    z_indices = np.unique(np.where(z_volume == cell_id)[0])\n",
    "\n",
    "    # Check if there are at least two instances\n",
    "    if len(z_indices) > 1:\n",
    "        \n",
    "        # iterate over each step between successive manually created masks\n",
    "        for step in tqdm(range(len(z_indices)-1), desc = f'Iterating over cell ID {cell_id} GT masks', total = (len(z_indices)-1), leave = False):\n",
    "\n",
    "            # find the first and next z indices that this mask appears in \n",
    "            first_z, next_z = z_indices[step], z_indices[step+1]\n",
    "\n",
    "            # iterate over the frames in this range \n",
    "            for z in tqdm(range(first_z, next_z), desc = 'Filling in the gaps', total = len(range(first_z, next_z)), leave = False):\n",
    "                \n",
    "                # change the next frame to feature the mask of cell ID from the current frame\n",
    "                linked_masks[z+1][z_volume[first_z] == cell_id] = cell_id\n"
   ]
  },
  {
   "cell_type": "code",
   "execution_count": 228,
   "id": "f7a8bc8c-2f81-4b67-9d1e-4c9090e98d97",
   "metadata": {},
   "outputs": [
    {
     "data": {
      "text/plain": [
       "<Labels layer 'linked_masks' at 0x7efdcdf83940>"
      ]
     },
     "execution_count": 228,
     "metadata": {},
     "output_type": "execute_result"
    }
   ],
   "source": [
    "viewer.add_labels(linked_masks)"
   ]
  },
  {
   "cell_type": "code",
   "execution_count": 229,
   "id": "01973fa0-b1e0-4a94-a254-73c167604444",
   "metadata": {},
   "outputs": [],
   "source": [
    "np.save(f'united_mask_backup_{ID_extractor(fn)}.npy', linked_masks)"
   ]
  },
  {
   "cell_type": "code",
   "execution_count": 230,
   "id": "5445954b-8847-46fc-bf9e-dee3d6336359",
   "metadata": {},
   "outputs": [],
   "source": [
    "output_mask_fn = fn.replace('images', 'sc_analyses').replace('.tif', '_mphi_gt_masks.h5')"
   ]
  },
  {
   "cell_type": "code",
   "execution_count": 231,
   "id": "ee339fc2-c396-4204-8e53-c6eb8079586b",
   "metadata": {},
   "outputs": [
    {
     "data": {
      "text/plain": [
       "'/run/user/30046150/gvfs/smb-share:server=data2.thecrick.org,share=lab-gutierrezm/home/shared/Lung on Chip/homuncu_loc_image_analysis/iAT1_iAT2_iVEC_macrophage_experiments/DAPI_ZO1_CD16_MTB/sc_analyses/20231128_20X_23-03-072A3_DAPI_ZO-1_CD16_Mtb_WT_2hpi_Multichannel Z-Stack_20231128_1556_mphi_gt_masks.h5'"
      ]
     },
     "execution_count": 231,
     "metadata": {},
     "output_type": "execute_result"
    }
   ],
   "source": [
    "output_mask_fn"
   ]
  },
  {
   "cell_type": "code",
   "execution_count": 234,
   "id": "201b5321-3af9-427e-9788-ff5bfbea267d",
   "metadata": {},
   "outputs": [
    {
     "name": "stderr",
     "output_type": "stream",
     "text": [
      "[INFO][2023/12/05 10:09:26 am] Opening HDF file: /home/dayn/analysis/homuncu_loc/segmentation_and_tracking/20231128_20X_23-03-072A3_DAPI_ZO-1_CD16_Mtb_WT_2hpi_Multichannel Z-Stack_20231128_1556_mphi_gt_masks.h5...\n",
      "[INFO][2023/12/05 10:09:35 am] Closing HDF file: /home/dayn/analysis/homuncu_loc/segmentation_and_tracking/20231128_20X_23-03-072A3_DAPI_ZO-1_CD16_Mtb_WT_2hpi_Multichannel Z-Stack_20231128_1556_mphi_gt_masks.h5\n"
     ]
    }
   ],
   "source": [
    "with btrack.io.HDF5FileHandler('/home/dayn/analysis/homuncu_loc/segmentation_and_tracking/20231128_20X_23-03-072A3_DAPI_ZO-1_CD16_Mtb_WT_2hpi_Multichannel Z-Stack_20231128_1556_mphi_gt_masks.h5', 'w', obj_type='obj_type_1') as writer:\n",
    "        # writer.write_tracks(tracks)\n",
    "        writer.write_segmentation(masks)"
   ]
  },
  {
   "cell_type": "code",
   "execution_count": 235,
   "id": "aa90aba0-6d77-4bfc-85d3-3fe9e06e8c55",
   "metadata": {},
   "outputs": [
    {
     "name": "stderr",
     "output_type": "stream",
     "text": [
      "[INFO][2023/12/05 10:10:43 am] Opening HDF file: /home/dayn/analysis/homuncu_loc/20231128_20X_23-03-072A3_DAPI_ZO-1_CD16_Mtb_WT_2hpi_Multichannel Z-Stack_20231128_1556_mphi_gt_masks.h5...\n",
      "[INFO][2023/12/05 10:10:48 am] Loading segmentation (155, 2304, 2304)\n",
      "[INFO][2023/12/05 10:10:48 am] Closing HDF file: /home/dayn/analysis/homuncu_loc/20231128_20X_23-03-072A3_DAPI_ZO-1_CD16_Mtb_WT_2hpi_Multichannel Z-Stack_20231128_1556_mphi_gt_masks.h5\n"
     ]
    }
   ],
   "source": [
    "with btrack.io.HDF5FileHandler('/home/dayn/analysis/homuncu_loc/20231128_20X_23-03-072A3_DAPI_ZO-1_CD16_Mtb_WT_2hpi_Multichannel Z-Stack_20231128_1556_mphi_gt_masks.h5', 'r', obj_type='obj_type_1') as reader:\n",
    "        # writer.write_tracks(tracks)\n",
    "        seg = reader.segmentation"
   ]
  },
  {
   "cell_type": "code",
   "execution_count": 236,
   "id": "c55e8715-638c-4e51-8483-c545508a2dc6",
   "metadata": {},
   "outputs": [
    {
     "data": {
      "text/plain": [
       "<Labels layer 'seg' at 0x7efdcd885cd0>"
      ]
     },
     "execution_count": 236,
     "metadata": {},
     "output_type": "execute_result"
    }
   ],
   "source": [
    "viewer.add_labels(seg)"
   ]
  },
  {
   "cell_type": "code",
   "execution_count": 237,
   "id": "997042b8-67e8-4d93-b29f-c48493610700",
   "metadata": {},
   "outputs": [
    {
     "name": "stdout",
     "output_type": "stream",
     "text": [
      "\n"
     ]
    }
   ],
   "source": [
    "print()"
   ]
  },
  {
   "cell_type": "markdown",
   "id": "95c04844-40c5-4fa3-8a86-8d0db93fc780",
   "metadata": {},
   "source": [
    "### Iteratively check images"
   ]
  },
  {
   "cell_type": "code",
   "execution_count": 7,
   "id": "edd869cc-7c0c-44d7-bf03-a3263a9289c5",
   "metadata": {
    "scrolled": true
   },
   "outputs": [
    {
     "data": {
      "application/vnd.jupyter.widget-view+json": {
       "model_id": "12994087ea824683a24025999d0c0d5c",
       "version_major": 2,
       "version_minor": 0
      },
      "text/plain": [
       "  0%|          | 0/34 [00:00<?, ?it/s]"
      ]
     },
     "metadata": {},
     "output_type": "display_data"
    },
    {
     "name": "stderr",
     "output_type": "stream",
     "text": [
      "TiffPage 0: TypeError: read_bytes() missing 3 required positional arguments: 'dtype', 'count', and 'offsetsize'\n",
      "WARNING: Unrecognized OpenGL version\n",
      "WARNING: Unrecognized OpenGL version\n",
      "WARNING: Unrecognized OpenGL version\n",
      "WARNING: Unrecognized OpenGL version\n",
      "WARNING: Unrecognized OpenGL version\n",
      "WARNING: Unrecognized OpenGL version\n",
      "WARNING: Unrecognized OpenGL version\n",
      "WARNING: Unrecognized OpenGL version\n",
      "WARNING: Unrecognized OpenGL version\n",
      "WARNING: Unrecognized OpenGL version\n",
      "WARNING: Unrecognized OpenGL version\n",
      "WARNING: Unrecognized OpenGL version\n",
      "TiffPage 0: TypeError: read_bytes() missing 3 required positional arguments: 'dtype', 'count', and 'offsetsize'\n",
      "WARNING: Unrecognized OpenGL version\n",
      "WARNING: Unrecognized OpenGL version\n",
      "WARNING: Unrecognized OpenGL version\n",
      "WARNING: Unrecognized OpenGL version\n",
      "WARNING: Unrecognized OpenGL version\n",
      "WARNING: Unrecognized OpenGL version\n",
      "WARNING: Unrecognized OpenGL version\n",
      "WARNING: Unrecognized OpenGL version\n",
      "WARNING: Unrecognized OpenGL version\n",
      "WARNING: Unrecognized OpenGL version\n",
      "WARNING: Unrecognized OpenGL version\n",
      "WARNING: Unrecognized OpenGL version\n",
      "WARNING: Unrecognized OpenGL version\n",
      "WARNING: Unrecognized OpenGL version\n"
     ]
    }
   ],
   "source": [
    "for i, fn in tqdm(enumerate(image_fns), total = len(image_fns)):\n",
    "   \n",
    "    images = io.imread(fn)\n",
    "    viewer = napari.Viewer(title = os.path.basename(fn))\n",
    "    \n",
    "    viewer.add_image(images, channel_axis = -1)\n",
    "    viewer.show(block=True)"
   ]
  },
  {
   "cell_type": "markdown",
   "id": "60f24922-4893-4677-8d5e-905cdd48af20",
   "metadata": {},
   "source": [
    "# Test segment"
   ]
  },
  {
   "cell_type": "code",
   "execution_count": 13,
   "id": "bc54c3fb-d728-4cfe-8920-9e540b654028",
   "metadata": {},
   "outputs": [
    {
     "name": "stderr",
     "output_type": "stream",
     "text": [
      "/home/dayn/miniconda3/envs/brassica/lib/python3.9/site-packages/skimage/io/_plugins/matplotlib_plugin.py:150: UserWarning: Low image data range; displaying image with stretched contrast.\n",
      "  lo, hi, cmap = _get_display_range(image)\n"
     ]
    },
    {
     "data": {
      "text/plain": [
       "<matplotlib.image.AxesImage at 0x7f05b9960c10>"
      ]
     },
     "execution_count": 13,
     "metadata": {},
     "output_type": "execute_result"
    },
    {
     "data": {
      "image/png": "[encoded data removed]",
      "text/plain": [
       "<Figure size 640x480 with 2 Axes>"
      ]
     },
     "metadata": {},
     "output_type": "display_data"
    }
   ],
   "source": [
    "cd16_frame = images[40, ..., 2]\n",
    "io.imshow(cd16_frame)"
   ]
  },
  {
   "cell_type": "code",
   "execution_count": 15,
   "id": "089ed672-3d11-4c0f-a992-81fe14ac9916",
   "metadata": {},
   "outputs": [],
   "source": [
    "masks, _, _, diam = model.eval(cd16_frame, channels=[0,0])# diameter=diameter, flow_threshold=flow_threshold, cellprob_threshold=cellprob_threshold)"
   ]
  },
  {
   "cell_type": "code",
   "execution_count": 24,
   "id": "7391d5bf-5eb6-48c2-bbc9-0dc0f24bb085",
   "metadata": {},
   "outputs": [
    {
     "name": "stdout",
     "output_type": "stream",
     "text": [
      "segmenting over max projection\n"
     ]
    },
    {
     "name": "stderr",
     "output_type": "stream",
     "text": [
      "/home/dayn/miniconda3/envs/brassica/lib/python3.9/site-packages/cellpose/plot.py:43: RuntimeWarning: overflow encountered in square\n",
      "  mag = np.clip(transforms.normalize99(np.sqrt(np.sum(dP**2,axis=0))), 0, 1.)\n",
      "/home/dayn/miniconda3/envs/brassica/lib/python3.9/site-packages/numpy/core/fromnumeric.py:88: RuntimeWarning: overflow encountered in reduce\n",
      "  return ufunc.reduce(obj, axis, dtype, out, **passkwargs)\n",
      "/home/dayn/miniconda3/envs/brassica/lib/python3.9/site-packages/numpy/lib/function_base.py:4655: RuntimeWarning: invalid value encountered in subtract\n",
      "  diff_b_a = subtract(b, a)\n",
      "/home/dayn/miniconda3/envs/brassica/lib/python3.9/site-packages/cellpose/plot.py:58: RuntimeWarning: invalid value encountered in cast\n",
      "  im = (np.clip(im, 0, 1) * 255).astype(np.uint8)\n"
     ]
    }
   ],
   "source": [
    "masks = segment_channel(cd16_frame, diameter = None, )"
   ]
  },
  {
   "cell_type": "code",
   "execution_count": 19,
   "id": "5f4e6134-c49b-41a2-8162-dd7cfbbe4ef0",
   "metadata": {},
   "outputs": [
    {
     "data": {
      "text/plain": [
       "<Labels layer 'masks' at 0x7f07a9841a90>"
      ]
     },
     "execution_count": 19,
     "metadata": {},
     "output_type": "execute_result"
    }
   ],
   "source": [
    "viewer = napari.Viewer()\n",
    "\n",
    "viewer.add_image(cd16_frame)\n",
    "viewer.add_labels(masks)"
   ]
  },
  {
   "cell_type": "code",
   "execution_count": 18,
   "id": "81287d08-e74e-4367-982c-9ca786b23d17",
   "metadata": {},
   "outputs": [
    {
     "name": "stderr",
     "output_type": "stream",
     "text": [
      "/tmp/ipykernel_675763/1756969031.py:1: UserWarning: test_cd16_frame.tiff is a low contrast image\n",
      "  io.imsave('test_cd16_frame.tiff', cd16_frame)\n"
     ]
    }
   ],
   "source": [
    "\n",
    "io.imsave('test_cd16_frame.tiff', cd16_frame)\n"
   ]
  },
  {
   "cell_type": "markdown",
   "id": "b40d2162-0117-45b3-8c18-7f5693c3990c",
   "metadata": {},
   "source": [
    "# Run over images and label"
   ]
  },
  {
   "cell_type": "code",
   "execution_count": 35,
   "id": "d9e89ba2-65ca-415c-ab3e-781afe2a5dc0",
   "metadata": {},
   "outputs": [
    {
     "data": {
      "application/vnd.jupyter.widget-view+json": {
       "model_id": "84f255a623ba48d4a3cc65556027abc4",
       "version_major": 2,
       "version_minor": 0
      },
      "text/plain": [
       "iterating over image volumes:   0%|          | 0/1 [00:00<?, ?it/s]"
      ]
     },
     "metadata": {},
     "output_type": "display_data"
    },
    {
     "name": "stdout",
     "output_type": "stream",
     "text": [
      "segmenting over max projection\n"
     ]
    },
    {
     "name": "stderr",
     "output_type": "stream",
     "text": [
      "[INFO][2023/10/20 02:32:36 PM] Localizing objects from segmentation...\n"
     ]
    },
    {
     "name": "stdout",
     "output_type": "stream",
     "text": [
      "Update sms failed to send\n"
     ]
    },
    {
     "name": "stderr",
     "output_type": "stream",
     "text": [
      "progress:   0%|                                                       | 0/2304 [00:00<?, ?it/s]\n"
     ]
    },
    {
     "ename": "ValueError",
     "evalue": "Segmentation array must have 3 or 4 dims.",
     "output_type": "error",
     "traceback": [
      "\u001b[0;31m---------------------------------------------------------------------------\u001b[0m",
      "\u001b[0;31mValueError\u001b[0m                                Traceback (most recent call last)",
      "Input \u001b[0;32mIn [35]\u001b[0m, in \u001b[0;36m<cell line: 2>\u001b[0;34m()\u001b[0m\n\u001b[1;32m     59\u001b[0m send_sms(\u001b[38;5;124mf\u001b[39m\u001b[38;5;124m'\u001b[39m\u001b[38;5;124miat2 seg done \u001b[39m\u001b[38;5;132;01m{\u001b[39;00mID_extractor(image_fn)\u001b[38;5;132;01m}\u001b[39;00m\u001b[38;5;124m'\u001b[39m)\n\u001b[1;32m     62\u001b[0m \u001b[38;5;66;03m# # Segment the zo1_channel for iat1 using 'segment_channel' with specific parameters\u001b[39;00m\n\u001b[1;32m     63\u001b[0m \u001b[38;5;66;03m# iat1_masks, iat1_diams = segment_channel(\u001b[39;00m\n\u001b[1;32m     64\u001b[0m \u001b[38;5;66;03m#     zo1_channel,\u001b[39;00m\n\u001b[0;32m   (...)\u001b[0m\n\u001b[1;32m     80\u001b[0m     \n\u001b[1;32m     81\u001b[0m \u001b[38;5;66;03m# Convert the segmentation masks to objects using btrack\u001b[39;00m\n\u001b[0;32m---> 82\u001b[0m objects \u001b[38;5;241m=\u001b[39m \u001b[43mbtrack\u001b[49m\u001b[38;5;241;43m.\u001b[39;49m\u001b[43mutils\u001b[49m\u001b[38;5;241;43m.\u001b[39;49m\u001b[43msegmentation_to_objects\u001b[49m\u001b[43m(\u001b[49m\n\u001b[1;32m     83\u001b[0m \u001b[43m    \u001b[49m\u001b[43msegmentation\u001b[49m\u001b[38;5;241;43m=\u001b[39;49m\u001b[43miat2_masks\u001b[49m\u001b[43m,\u001b[49m\n\u001b[1;32m     84\u001b[0m \u001b[43m    \u001b[49m\u001b[43mintensity_image\u001b[49m\u001b[38;5;241;43m=\u001b[39;49m\u001b[43mimage\u001b[49m\u001b[43m,\u001b[49m\n\u001b[1;32m     85\u001b[0m \u001b[43m    \u001b[49m\u001b[43mproperties\u001b[49m\u001b[38;5;241;43m=\u001b[39;49m\u001b[43mprops\u001b[49m\u001b[43m,\u001b[49m\n\u001b[1;32m     86\u001b[0m \u001b[43m    \u001b[49m\u001b[43muse_weighted_centroid\u001b[49m\u001b[38;5;241;43m=\u001b[39;49m\u001b[38;5;28;43;01mFalse\u001b[39;49;00m\u001b[43m,\u001b[49m\n\u001b[1;32m     87\u001b[0m \u001b[43m    \u001b[49m\u001b[43massign_class_ID\u001b[49m\u001b[38;5;241;43m=\u001b[39;49m\u001b[38;5;28;43;01mTrue\u001b[39;49;00m\u001b[43m,\u001b[49m\n\u001b[1;32m     88\u001b[0m \u001b[43m\u001b[49m\u001b[43m)\u001b[49m\n\u001b[1;32m     90\u001b[0m \u001b[38;5;66;03m# update\u001b[39;00m\n\u001b[1;32m     91\u001b[0m \u001b[38;5;66;03m# send_sms(f'object localisation {n, ID_extractor(image_fn)} done')\u001b[39;00m\n\u001b[1;32m     92\u001b[0m \n\u001b[1;32m     93\u001b[0m \n\u001b[1;32m     94\u001b[0m \u001b[38;5;66;03m# Check if mtb infected above threshold and measure mtb properties for each cell\u001b[39;00m\n\u001b[1;32m     95\u001b[0m threshold \u001b[38;5;241m=\u001b[39m \u001b[38;5;241m230\u001b[39m\n",
      "File \u001b[0;32m~/analysis/btrack/btrack/io/_localization.py:269\u001b[0m, in \u001b[0;36msegmentation_to_objects\u001b[0;34m(segmentation, intensity_image, properties, extra_properties, scale, use_weighted_centroid, assign_class_ID, num_workers)\u001b[0m\n\u001b[1;32m    267\u001b[0m \u001b[38;5;28;01mif\u001b[39;00m num_workers \u001b[38;5;241m<\u001b[39m\u001b[38;5;241m=\u001b[39m \u001b[38;5;241m1\u001b[39m:\n\u001b[1;32m    268\u001b[0m     \u001b[38;5;28;01mfor\u001b[39;00m data \u001b[38;5;129;01min\u001b[39;00m tqdm(container, total\u001b[38;5;241m=\u001b[39m\u001b[38;5;28mlen\u001b[39m(container), position\u001b[38;5;241m=\u001b[39m\u001b[38;5;241m0\u001b[39m):\n\u001b[0;32m--> 269\u001b[0m         _nodes \u001b[38;5;241m=\u001b[39m \u001b[43mprocessor\u001b[49m\u001b[43m(\u001b[49m\u001b[43mdata\u001b[49m\u001b[43m)\u001b[49m\n\u001b[1;32m    270\u001b[0m         nodes \u001b[38;5;241m=\u001b[39m _concat_nodes(nodes, _nodes)\n\u001b[1;32m    271\u001b[0m \u001b[38;5;28;01melse\u001b[39;00m:\n",
      "File \u001b[0;32m~/analysis/btrack/btrack/io/_localization.py:116\u001b[0m, in \u001b[0;36mNodeProcessor.__call__\u001b[0;34m(self, data)\u001b[0m\n\u001b[1;32m    113\u001b[0m     \u001b[38;5;28;01mreturn\u001b[39;00m {}\n\u001b[1;32m    115\u001b[0m \u001b[38;5;28;01mif\u001b[39;00m segmentation\u001b[38;5;241m.\u001b[39mndim \u001b[38;5;129;01mnot\u001b[39;00m \u001b[38;5;129;01min\u001b[39;00m (Dimensionality\u001b[38;5;241m.\u001b[39mTWO, Dimensionality\u001b[38;5;241m.\u001b[39mTHREE):\n\u001b[0;32m--> 116\u001b[0m     \u001b[38;5;28;01mraise\u001b[39;00m \u001b[38;5;167;01mValueError\u001b[39;00m(\u001b[38;5;124m\"\u001b[39m\u001b[38;5;124mSegmentation array must have 3 or 4 dims.\u001b[39m\u001b[38;5;124m\"\u001b[39m)\n\u001b[1;32m    118\u001b[0m labeled \u001b[38;5;241m=\u001b[39m segmentation \u001b[38;5;28;01mif\u001b[39;00m _is_unique(segmentation) \u001b[38;5;28;01melse\u001b[39;00m label(segmentation)\n\u001b[1;32m    119\u001b[0m props \u001b[38;5;241m=\u001b[39m regionprops(\n\u001b[1;32m    120\u001b[0m     labeled,\n\u001b[1;32m    121\u001b[0m     intensity_image\u001b[38;5;241m=\u001b[39mintensity_image,\n\u001b[1;32m    122\u001b[0m     extra_properties\u001b[38;5;241m=\u001b[39m\u001b[38;5;28mself\u001b[39m\u001b[38;5;241m.\u001b[39mextra_properties,\n\u001b[1;32m    123\u001b[0m )\n",
      "\u001b[0;31mValueError\u001b[0m: Segmentation array must have 3 or 4 dims."
     ]
    }
   ],
   "source": [
    "# Iterate over a list of image file paths using tqdm for progress tracking\n",
    "for image_fn in tqdm(image_fns, total=len(image_fns), desc='iterating over image volumes'):\n",
    "\n",
    "    # Define the output filename\n",
    "    output_fn = image_fn.replace('images', 'sc_analyses').replace('.tif', '_iat2.h5').replace('/run/user/30046150/gvfs/smb-share:server=data2.thecrick.org,share=lab-gutierrezm/home/shared/Lung on Chip/homuncu_loc_image_analysis/', \n",
    "                                                                                         '/home/dayn/data/homuncu_loc_temp/seperate_tracks/')\n",
    "    # if os.path.exists(output_fn):\n",
    "    #     continue\n",
    "    \n",
    "    try:\n",
    "        # Read the image using imageio.imread\n",
    "        image = io.imread(image_fn)\n",
    "    except Exception as e:\n",
    "        # Code to handle the exception and print the error message\n",
    "        print(e)\n",
    "        continue\n",
    "\n",
    "    \n",
    "    # # Extract the third channel (mphi_channel) from the image\n",
    "    # mphi_channel = image[..., 2]\n",
    "    \n",
    "    # # Segment the mphi_channel using custom function 'segment_channel'\n",
    "    # mphi_masks, mphi_diams = segment_channel(\n",
    "    #     mphi_channel,\n",
    "    #     diameter=60,\n",
    "    #     flow_threshold=0.99,\n",
    "    #     channels=[0, 0],\n",
    "    #     cellprob_threshold=-2,\n",
    "    #     min_mask_size=200,\n",
    "    #     return_diams=True,\n",
    "    #     start_point=None,\n",
    "    #     end_point=None\n",
    "    # )\n",
    "\n",
    "    # # update\n",
    "    # send_sms(f'mphi seg done {ID_extractor(image_fn)}')\n",
    "    \n",
    "    # Extract the second channel (zo1_channel) from the image\n",
    "    zo1_channel = image[..., -1]\n",
    "\n",
    "    # Compress the zo1 channel down to be a max projection\n",
    "    zo1_channel = np.max(zo1_channel, axis=0)\n",
    "    \n",
    "    # Segment the zo1_channel for iat2 using 'segment_channel' with specific parameters\n",
    "    iat2_masks, iat2_diams = segment_channel(\n",
    "        zo1_channel,\n",
    "        diameter=None,\n",
    "        flow_threshold=0,\n",
    "        channels=[0, 0],\n",
    "        cellprob_threshold=0,\n",
    "        min_mask_size=200,\n",
    "        return_diams=True,\n",
    "        start_point=None,\n",
    "        end_point=None\n",
    "    )\n",
    "    masks = iat2_masks\n",
    "    masks = np.stack([masks for i in range(len(image))], axis = 0)\n",
    "    # update\n",
    "    send_sms(f'iat2 seg done {ID_extractor(image_fn)}')\n",
    "\n",
    "    \n",
    "    # # Segment the zo1_channel for iat1 using 'segment_channel' with specific parameters\n",
    "    # iat1_masks, iat1_diams = segment_channel(\n",
    "    #     zo1_channel,\n",
    "    #     diameter=150,\n",
    "    #     flow_threshold=0.99,\n",
    "    #     channels=[0, 0],\n",
    "    #     cellprob_threshold=-3,\n",
    "    #     min_mask_size=2500,\n",
    "    #     return_diams=True,\n",
    "    #     start_point=None,\n",
    "    #     end_point=None\n",
    "    # )\n",
    "    \n",
    "    # # update\n",
    "    # send_sms(f'iat1 seg done {ID_extractor(image_fn)}')\n",
    "    \n",
    "    # # Loop over three different mask types: mphi_masks, iat2_masks, iat1_masks\n",
    "    # for n, masks in tqdm(enumerate([mphi_masks, iat2_masks, iat1_masks]), total=3):\n",
    "        \n",
    "    # Convert the segmentation masks to objects using btrack\n",
    "    objects = btrack.utils.segmentation_to_objects(\n",
    "        segmentation=iat2_masks,\n",
    "        intensity_image=image,\n",
    "        properties=props,\n",
    "        use_weighted_centroid=False,\n",
    "        assign_class_ID=True,\n",
    "    )\n",
    "\n",
    "    # update\n",
    "    # send_sms(f'object localisation {n, ID_extractor(image_fn)} done')\n",
    "\n",
    "    \n",
    "    # Check if mtb infected above threshold and measure mtb properties for each cell\n",
    "    threshold = 230\n",
    "    mtb_ch = 3\n",
    "    \n",
    "    for o in tqdm(objects, desc='Measuring Mtb properties of each cell'):\n",
    "        coordinates = np.argwhere(masks[o.t] == o.properties['class_id'])\n",
    "        pixel_values = image[o.t, coordinates[:, 0], coordinates[:, 1]]\n",
    "        mtb_status = np.any(pixel_values[:,mtb_ch] > threshold)\n",
    "        mtb_area = np.sum(pixel_values[:,mtb_ch] > threshold)\n",
    "        o.properties['mtb_status'] = mtb_status\n",
    "        o.properties['mtb_area'] = mtb_area\n",
    "        # o.properties['pixel_values'] = pixel_values\n",
    "\n",
    "    # update\n",
    "    # send_sms(f'mtb props {n, ID_extractor(image_fn)} done')\n",
    "\n",
    "    # Initialize BayesianTracker\n",
    "    with btrack.BayesianTracker() as tracker:\n",
    "        \n",
    "        # Configure the tracker using a config file\n",
    "        tracker.configure('/home/dayn/analysis/models/loc.json')\n",
    "        \n",
    "        # Set max search radius to a very limited radius\n",
    "        tracker.max_search_radius = 5\n",
    "        \n",
    "        # Define tracking method\n",
    "        tracker.tracking_updates = [\"MOTION\", \"VISUAL\"]\n",
    "        \n",
    "        # Use visual features to track\n",
    "        tracker.features = props\n",
    "        \n",
    "        # Append the objects to be tracked\n",
    "        tracker.append(objects)\n",
    "        \n",
    "        # Set the volume\n",
    "        tracker.volume = ((0, masks.shape[1]), (0, masks.shape[2]), (-1e5, 1e5))\n",
    "        \n",
    "        # Track them (in interactive mode)\n",
    "        tracker.track(step_size=10)\n",
    "        \n",
    "        # Generate hypotheses and run the global optimizer\n",
    "        tracker.optimize()\n",
    "        \n",
    "        # Get the tracks as a Python list\n",
    "        tracks = tracker.tracks\n",
    "\n",
    "    # update\n",
    "    # send_sms(f'tracking {n, ID_extractor(image_fn)} done')\n",
    "\n",
    "    # # Define the output filename\n",
    "    # output_fn = image_fn.replace('images', 'sc_analyses').replace('.tif', '_iat2.h5').replace('/run/user/30046150/gvfs/smb-share:server=data2.thecrick.org,share=lab-gutierrezm/home/shared/Lung on Chip/homuncu_loc_image_analysis/', \n",
    "    #                                                                                      '/home/dayn/data/homuncu_loc_temp/seperate_tracks/')\n",
    "    os.makedirs(os.path.dirname(output_fn), exist_ok=True)\n",
    "    \n",
    "    # Define the object type based on the iteration index\n",
    "    obj_type = f'obj_type_{2}'\n",
    "\n",
    "\n",
    "    # Write the tracks and segmentation masks to an HDF5 file using btrack.io.HDF5FileHandler\n",
    "    with btrack.io.HDF5FileHandler(output_fn, 'w', obj_type=obj_type) as writer:\n",
    "        writer.write_tracks(tracks)\n",
    "        writer.write_segmentation(masks)\n",
    "\n",
    "    # update \n"
   ]
  },
  {
   "cell_type": "code",
   "execution_count": 33,
   "id": "2e95ab5a-ae51-4a5b-8893-90635cb5bce9",
   "metadata": {},
   "outputs": [
    {
     "data": {
      "text/plain": [
       "array([[[0, 0, 0, ..., 0, 0, 0],\n",
       "        [0, 0, 0, ..., 0, 0, 0],\n",
       "        [0, 0, 0, ..., 0, 0, 0],\n",
       "        ...,\n",
       "        [0, 0, 0, ..., 0, 0, 0],\n",
       "        [0, 0, 0, ..., 0, 0, 0],\n",
       "        [0, 0, 0, ..., 0, 0, 0]],\n",
       "\n",
       "       [[0, 0, 0, ..., 0, 0, 0],\n",
       "        [0, 0, 0, ..., 0, 0, 0],\n",
       "        [0, 0, 0, ..., 0, 0, 0],\n",
       "        ...,\n",
       "        [0, 0, 0, ..., 0, 0, 0],\n",
       "        [0, 0, 0, ..., 0, 0, 0],\n",
       "        [0, 0, 0, ..., 0, 0, 0]],\n",
       "\n",
       "       [[0, 0, 0, ..., 0, 0, 0],\n",
       "        [0, 0, 0, ..., 0, 0, 0],\n",
       "        [0, 0, 0, ..., 0, 0, 0],\n",
       "        ...,\n",
       "        [0, 0, 0, ..., 0, 0, 0],\n",
       "        [0, 0, 0, ..., 0, 0, 0],\n",
       "        [0, 0, 0, ..., 0, 0, 0]],\n",
       "\n",
       "       ...,\n",
       "\n",
       "       [[0, 0, 0, ..., 0, 0, 0],\n",
       "        [0, 0, 0, ..., 0, 0, 0],\n",
       "        [0, 0, 0, ..., 0, 0, 0],\n",
       "        ...,\n",
       "        [0, 0, 0, ..., 0, 0, 0],\n",
       "        [0, 0, 0, ..., 0, 0, 0],\n",
       "        [0, 0, 0, ..., 0, 0, 0]],\n",
       "\n",
       "       [[0, 0, 0, ..., 0, 0, 0],\n",
       "        [0, 0, 0, ..., 0, 0, 0],\n",
       "        [0, 0, 0, ..., 0, 0, 0],\n",
       "        ...,\n",
       "        [0, 0, 0, ..., 0, 0, 0],\n",
       "        [0, 0, 0, ..., 0, 0, 0],\n",
       "        [0, 0, 0, ..., 0, 0, 0]],\n",
       "\n",
       "       [[0, 0, 0, ..., 0, 0, 0],\n",
       "        [0, 0, 0, ..., 0, 0, 0],\n",
       "        [0, 0, 0, ..., 0, 0, 0],\n",
       "        ...,\n",
       "        [0, 0, 0, ..., 0, 0, 0],\n",
       "        [0, 0, 0, ..., 0, 0, 0],\n",
       "        [0, 0, 0, ..., 0, 0, 0]]], dtype=uint16)"
      ]
     },
     "execution_count": 33,
     "metadata": {},
     "output_type": "execute_result"
    }
   ],
   "source": [
    "masks"
   ]
  },
  {
   "cell_type": "code",
   "execution_count": 34,
   "id": "08f8a241-c2c6-4ef8-b963-a843354faf24",
   "metadata": {},
   "outputs": [
    {
     "data": {
      "text/plain": [
       "(61, 2304, 2304)"
      ]
     },
     "execution_count": 34,
     "metadata": {},
     "output_type": "execute_result"
    }
   ],
   "source": [
    "masks.shape"
   ]
  }
 ],
 "metadata": {
  "kernelspec": {
   "display_name": "brassica",
   "language": "python",
   "name": "brassica"
  },
  "language_info": {
   "codemirror_mode": {
    "name": "ipython",
    "version": 3
   },
   "file_extension": ".py",
   "mimetype": "text/x-python",
   "name": "python",
   "nbconvert_exporter": "python",
   "pygments_lexer": "ipython3",
   "version": "3.9.17"
  }
 },
 "nbformat": 4,
 "nbformat_minor": 5
}
