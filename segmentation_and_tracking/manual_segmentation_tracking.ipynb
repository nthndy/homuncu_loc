{
 "cells": [
  {
   "cell_type": "markdown",
   "id": "702d4c65-9fc7-4b68-b959-bca87f727540",
   "metadata": {},
   "source": [
    "# Manual segmentation and tracking"
   ]
  },
  {
   "cell_type": "markdown",
   "id": "09c5e155-1cd6-46e9-9643-5446f0fc851b",
   "metadata": {},
   "source": [
    "#### Load modules, define functions and parameters"
   ]
  },
  {
   "cell_type": "code",
   "execution_count": 41,
   "id": "8df98b36-d7a5-4ce8-820c-78dbb0bf6ef8",
   "metadata": {},
   "outputs": [],
   "source": [
    "import os\n",
    "from glob import glob\n",
    "from homuncu_loc.dataio import try_load_nemo_h5\n",
    "from skimage import io\n",
    "import napari\n",
    "import btrack\n",
    "import shutil"
   ]
  },
  {
   "cell_type": "markdown",
   "id": "4d71b2c2-d91a-43ce-9869-c6c21c2ba61b",
   "metadata": {},
   "source": [
    "### Pre-defined images to pay attention to"
   ]
  },
  {
   "cell_type": "code",
   "execution_count": 2,
   "id": "f4cc23b3-f9b5-433b-b92c-80aa8d912a44",
   "metadata": {},
   "outputs": [
    {
     "data": {
      "text/plain": [
       "[1556, 1557, 1558, 1568, 1566]"
      ]
     },
     "execution_count": 2,
     "metadata": {},
     "output_type": "execute_result"
    }
   ],
   "source": [
    "# Create a list called image_IDs\n",
    "image_IDs = [\n",
    "1556,\n",
    "1557,\n",
    "1558,\n",
    "1568, \n",
    "1566]\n",
    "\n",
    "# Print the value of image_IDs\n",
    "image_IDs"
   ]
  },
  {
   "cell_type": "markdown",
   "id": "9a79fd72-29db-45fe-9472-36f1be0ceed7",
   "metadata": {},
   "source": [
    "### Set address for NEMO"
   ]
  },
  {
   "cell_type": "code",
   "execution_count": 3,
   "id": "7206266a-3db8-4a8e-81af-312bafb6fe64",
   "metadata": {},
   "outputs": [],
   "source": [
    "# Set the base directory of the NEMO home folder, is different depending on your operating system\n",
    "base_dir = '/run/user/30046150/gvfs/smb-share:server=data2.thecrick.org,share=lab-gutierrezm'"
   ]
  },
  {
   "cell_type": "markdown",
   "id": "d9321899-e30a-4758-8395-25260379544e",
   "metadata": {},
   "source": [
    "### Find corresponding image filenames"
   ]
  },
  {
   "cell_type": "code",
   "execution_count": 4,
   "id": "38f4bd7f-f353-47c0-a1bb-1bd73cd4f5a7",
   "metadata": {},
   "outputs": [
    {
     "data": {
      "text/plain": [
       "['0 : 20231128_20X_23-03-072A3_DAPI_ZO-1_CD16_Mtb_WT_2hpi_Multichannel Z-Stack_20231128_1556.tif',\n",
       " '1 : 20231128_20X_23-03-072A3_DAPI_ZO-1_CD16_Mtb_WT_2hpi_Multichannel Z-Stack_20231128_1557.tif',\n",
       " '2 : 20231128_20X_23-03-072A3_DAPI_ZO-1_CD16_Mtb_WT_2hpi_Multichannel Z-Stack_20231128_1558.tif',\n",
       " '3 : 20231128_20X_23-03-072A4_DAPI_ZO-1_CD16_Mtb_WT_48hpi_Multichannel Z-Stack_20231128_1568.tif',\n",
       " '4 : 20231128_20X_23-03-072A4_DAPI_ZO-1_CD16_Mtb_WT_48hpi_Multichannel Z-Stack_20231128_1566.tif']"
      ]
     },
     "execution_count": 4,
     "metadata": {},
     "output_type": "execute_result"
    }
   ],
   "source": [
    "# Set the base directory of the images\n",
    "image_basedir = os.path.join(base_dir, 'home/shared/Lung on Chip/homuncu_loc_image_analysis/iAT1_iAT2_iVEC_macrophage_experiments/DAPI_ZO1_CD16_MTB/images')\n",
    "\n",
    "# Create a list of image filenames using list comprehension\n",
    "# Each filename is obtained by using glob function to find the image file that matches the image_ID in the given directory\n",
    "image_fns = [glob(os.path.join(image_basedir, f'*{image_ID}*.tif'))[0] for image_ID in image_IDs]\n",
    "\n",
    "# Print the list of image filenames\n",
    "[f'{i} : {os.path.basename(fn)}' for i, fn in enumerate(image_fns)]"
   ]
  },
  {
   "cell_type": "code",
   "execution_count": 19,
   "id": "34be9341-6e25-41e4-bcae-6f11f631ea4d",
   "metadata": {},
   "outputs": [
    {
     "ename": "IndexError",
     "evalue": "list index out of range",
     "output_type": "error",
     "traceback": [
      "\u001b[0;31m---------------------------------------------------------------------------\u001b[0m",
      "\u001b[0;31mIndexError\u001b[0m                                Traceback (most recent call last)",
      "Cell \u001b[0;32mIn[19], line 6\u001b[0m\n\u001b[1;32m      2\u001b[0m sc_basedir \u001b[38;5;241m=\u001b[39m os\u001b[38;5;241m.\u001b[39mpath\u001b[38;5;241m.\u001b[39mjoin(base_dir, \u001b[38;5;124m'\u001b[39m\u001b[38;5;124mhome/shared/Lung on Chip/homuncu_loc_image_analysis/iAT1_iAT2_iVEC_macrophage_experiments/DAPI_ZO1_CD16_MTB/sc_analyses\u001b[39m\u001b[38;5;124m'\u001b[39m)\n\u001b[1;32m      4\u001b[0m \u001b[38;5;66;03m# Create a list of single-cell analysis filenames using list comprehension\u001b[39;00m\n\u001b[1;32m      5\u001b[0m \u001b[38;5;66;03m# Each filename is obtained by using glob function to find the file that matches the image_ID in the given directory\u001b[39;00m\n\u001b[0;32m----> 6\u001b[0m sc_fns \u001b[38;5;241m=\u001b[39m [glob(os\u001b[38;5;241m.\u001b[39mpath\u001b[38;5;241m.\u001b[39mjoin(sc_basedir, \u001b[38;5;124mf\u001b[39m\u001b[38;5;124m'\u001b[39m\u001b[38;5;124m*\u001b[39m\u001b[38;5;132;01m{\u001b[39;00mimage_ID\u001b[38;5;132;01m}\u001b[39;00m\u001b[38;5;124m*gt_mphi.h5\u001b[39m\u001b[38;5;124m'\u001b[39m))[\u001b[38;5;241m0\u001b[39m] \u001b[38;5;28;01mfor\u001b[39;00m image_ID \u001b[38;5;129;01min\u001b[39;00m image_IDs]\n\u001b[1;32m      8\u001b[0m \u001b[38;5;66;03m# Print the list of single-cell analysis filenames\u001b[39;00m\n\u001b[1;32m      9\u001b[0m sc_fns\n",
      "Cell \u001b[0;32mIn[19], line 6\u001b[0m, in \u001b[0;36m<listcomp>\u001b[0;34m(.0)\u001b[0m\n\u001b[1;32m      2\u001b[0m sc_basedir \u001b[38;5;241m=\u001b[39m os\u001b[38;5;241m.\u001b[39mpath\u001b[38;5;241m.\u001b[39mjoin(base_dir, \u001b[38;5;124m'\u001b[39m\u001b[38;5;124mhome/shared/Lung on Chip/homuncu_loc_image_analysis/iAT1_iAT2_iVEC_macrophage_experiments/DAPI_ZO1_CD16_MTB/sc_analyses\u001b[39m\u001b[38;5;124m'\u001b[39m)\n\u001b[1;32m      4\u001b[0m \u001b[38;5;66;03m# Create a list of single-cell analysis filenames using list comprehension\u001b[39;00m\n\u001b[1;32m      5\u001b[0m \u001b[38;5;66;03m# Each filename is obtained by using glob function to find the file that matches the image_ID in the given directory\u001b[39;00m\n\u001b[0;32m----> 6\u001b[0m sc_fns \u001b[38;5;241m=\u001b[39m [\u001b[43mglob\u001b[49m\u001b[43m(\u001b[49m\u001b[43mos\u001b[49m\u001b[38;5;241;43m.\u001b[39;49m\u001b[43mpath\u001b[49m\u001b[38;5;241;43m.\u001b[39;49m\u001b[43mjoin\u001b[49m\u001b[43m(\u001b[49m\u001b[43msc_basedir\u001b[49m\u001b[43m,\u001b[49m\u001b[43m \u001b[49m\u001b[38;5;124;43mf\u001b[39;49m\u001b[38;5;124;43m'\u001b[39;49m\u001b[38;5;124;43m*\u001b[39;49m\u001b[38;5;132;43;01m{\u001b[39;49;00m\u001b[43mimage_ID\u001b[49m\u001b[38;5;132;43;01m}\u001b[39;49;00m\u001b[38;5;124;43m*gt_mphi.h5\u001b[39;49m\u001b[38;5;124;43m'\u001b[39;49m\u001b[43m)\u001b[49m\u001b[43m)\u001b[49m\u001b[43m[\u001b[49m\u001b[38;5;241;43m0\u001b[39;49m\u001b[43m]\u001b[49m \u001b[38;5;28;01mfor\u001b[39;00m image_ID \u001b[38;5;129;01min\u001b[39;00m image_IDs]\n\u001b[1;32m      8\u001b[0m \u001b[38;5;66;03m# Print the list of single-cell analysis filenames\u001b[39;00m\n\u001b[1;32m      9\u001b[0m sc_fns\n",
      "\u001b[0;31mIndexError\u001b[0m: list index out of range"
     ]
    }
   ],
   "source": [
    "# Set the base directory of the single-cell analyses\n",
    "sc_basedir = os.path.join(base_dir, 'home/shared/Lung on Chip/homuncu_loc_image_analysis/iAT1_iAT2_iVEC_macrophage_experiments/DAPI_ZO1_CD16_MTB/sc_analyses')\n",
    "\n",
    "# Create a list of single-cell analysis filenames using list comprehension\n",
    "# Each filename is obtained by using glob function to find the file that matches the image_ID in the given directory\n",
    "sc_fns = [glob(os.path.join(sc_basedir, f'*{image_ID}*gt_mphi.h5'))[0] for image_ID in image_IDs]\n",
    "\n",
    "# Print the list of single-cell analysis filenames\n",
    "sc_fns"
   ]
  },
  {
   "cell_type": "markdown",
   "id": "c3d4bff1-3057-450c-87f1-07f711248b26",
   "metadata": {},
   "source": [
    "### Select one image to work with\n",
    "\n",
    "And load it into the memory"
   ]
  },
  {
   "cell_type": "code",
   "execution_count": 5,
   "id": "331722f3-f72a-4096-943b-7c025816a9f1",
   "metadata": {},
   "outputs": [],
   "source": [
    "%%time # tells you how long it took to load an image\n",
    "\n",
    "# define image filename\n",
    "image_fn = image_fns[0]\n",
    "\n",
    "# Read image file into memory\n",
    "images = io.imread(image_fn)"
   ]
  },
  {
   "cell_type": "markdown",
   "id": "e4ba5c86-a1ff-47c5-a869-097253a0ddea",
   "metadata": {},
   "source": [
    "### Find single-cell labels\n",
    "If they exist"
   ]
  },
  {
   "cell_type": "code",
   "execution_count": 11,
   "id": "20a0521d-f0c1-4c93-9de0-2bf335097dde",
   "metadata": {},
   "outputs": [
    {
     "name": "stdout",
     "output_type": "stream",
     "text": [
      "['0 : 20231128_20X_23-03-072A3_DAPI_ZO-1_CD16_Mtb_WT_2hpi_Multichannel Z-Stack_20231128_1556_gt_mphi.h5', '1 : 20231128_20X_23-03-072A3_DAPI_ZO-1_CD16_Mtb_WT_2hpi_Multichannel Z-Stack_20231128_1556_mphi_gt_masks.h5']\n"
     ]
    }
   ],
   "source": [
    "# Set the base directory of the single-cell analyses\n",
    "sc_basedir = os.path.join(base_dir, 'home/shared/Lung on Chip/homuncu_loc_image_analysis/iAT1_iAT2_iVEC_macrophage_experiments/DAPI_ZO1_CD16_MTB/sc_analyses')\n",
    "\n",
    "# Strip image filename to match sc_fn\n",
    "sc_fn_pattern = os.path.basename(image_fn).replace('.tif', '')\n",
    "\n",
    "# Find all options for sc data\n",
    "sc_fns = glob(os.path.join(sc_basedir, f'*{sc_fn_pattern}*.h5'))\n",
    "\n",
    "# Print available sc analyses\n",
    "if sc_fns:\n",
    "    print([f'{i} : {os.path.basename(fn)}' for i, fn in enumerate(sc_fns)])\n",
    "else:\n",
    "    print('No matching files found.')"
   ]
  },
  {
   "cell_type": "markdown",
   "id": "eb3ec75a-c19c-47ad-b7f4-07437986ad04",
   "metadata": {},
   "source": [
    "### Select one set of single-cell labels to work with"
   ]
  },
  {
   "cell_type": "code",
   "execution_count": 12,
   "id": "11be43d1-cf46-482b-aeac-2d3698688384",
   "metadata": {},
   "outputs": [
    {
     "name": "stderr",
     "output_type": "stream",
     "text": [
      "[INFO][2023/12/15 01:52:20 PM] Opening HDF file: /run/user/30046150/gvfs/smb-share:server=data2.thecrick.org,share=lab-gutierrezm/home/shared/Lung on Chip/homuncu_loc_image_analysis/iAT1_iAT2_iVEC_macrophage_experiments/DAPI_ZO1_CD16_MTB/sc_analyses/20231128_20X_23-03-072A3_DAPI_ZO-1_CD16_Mtb_WT_2hpi_Multichannel Z-Stack_20231128_1556_gt_mphi.h5...\n",
      "[INFO][2023/12/15 01:52:25 PM] Loading segmentation (155, 2304, 2304)\n",
      "[INFO][2023/12/15 01:52:25 PM] Closing HDF file: /run/user/30046150/gvfs/smb-share:server=data2.thecrick.org,share=lab-gutierrezm/home/shared/Lung on Chip/homuncu_loc_image_analysis/iAT1_iAT2_iVEC_macrophage_experiments/DAPI_ZO1_CD16_MTB/sc_analyses/20231128_20X_23-03-072A3_DAPI_ZO-1_CD16_Mtb_WT_2hpi_Multichannel Z-Stack_20231128_1556_gt_mphi.h5\n"
     ]
    }
   ],
   "source": [
    "# select sc_fn based on above enumeration \n",
    "sc_fn = sc_fns[0]\n",
    "\n",
    "# Use the try and load function to load the single-cell data\n",
    "masks = try_load_nemo_h5(sc_fn, return_options = ['masks'])[0]"
   ]
  },
  {
   "cell_type": "markdown",
   "id": "9829d6c1-268f-441d-b556-3147252b9b38",
   "metadata": {},
   "source": [
    "### Create temporary output directory to save masks too whilst working on them"
   ]
  },
  {
   "cell_type": "code",
   "execution_count": 30,
   "id": "83beb037-59ea-4dee-bd32-2984d9a8c808",
   "metadata": {},
   "outputs": [],
   "source": [
    "# define cell type for GT masks \n",
    "cell_type = 'mphi' #iat1, iat2 etc\n",
    "# define temporary local directory \n",
    "output_dir = './temp_mask_output/'\n",
    "# create directory if it doesnt exist\n",
    "os.makedirs(output_dir, exist_ok=True)\n",
    "# define output fn\n",
    "output_masks_fn = os.path.basename(image_fn).replace('.tif', f'_gt_{cell_type}_masks.h5')\n",
    "# join together to full output path\n",
    "output_path = os.path.join(output_dir, output_masks_fn)"
   ]
  },
  {
   "cell_type": "markdown",
   "id": "867f8184-00bb-4a6e-ab6a-622a82c0a1d4",
   "metadata": {},
   "source": [
    "##### Optionally, load tracks to inspect the quality of them"
   ]
  },
  {
   "cell_type": "code",
   "execution_count": null,
   "id": "eb443f19-9728-4c37-8d12-b3a9ad74da6d",
   "metadata": {},
   "outputs": [],
   "source": [
    "# Use the try and load function to load the single-cell data\n",
    "tracks = try_load_nemo_h5(sc_fn, return_options = ['tracks'])\n",
    "\n",
    "# Convert the tracks to a format compatible with Napari\n",
    "napari_tracks, _, _ = btrack.utils.tracks_to_napari(tracks, ndim=2)"
   ]
  },
  {
   "cell_type": "markdown",
   "id": "ed4af5cf-e086-43f4-aeb2-9bd7dfebbf2f",
   "metadata": {},
   "source": [
    "### Launch napari to manually label cells\n",
    "\n",
    "If cells are fixed in position then disparate masking can be used, where you only label the first and last instance of the cell across Z. If the shape changes then add more masks to unite a morphological change over Z. "
   ]
  },
  {
   "cell_type": "code",
   "execution_count": 21,
   "id": "02d14b36-ed8c-491d-9c13-41da7c24c1bc",
   "metadata": {},
   "outputs": [
    {
     "name": "stderr",
     "output_type": "stream",
     "text": [
      "[INFO][2023/12/15 02:01:04 pm] Opening HDF file: ./temp_mask_output/20231128_20X_23-03-072A3_DAPI_ZO-1_CD16_Mtb_WT_2hpi_Multichannel Z-Stack_20231128_1556_gt_masks.h5...\n",
      "[INFO][2023/12/15 02:01:12 pm] Closing HDF file: ./temp_mask_output/20231128_20X_23-03-072A3_DAPI_ZO-1_CD16_Mtb_WT_2hpi_Multichannel Z-Stack_20231128_1556_gt_masks.h5\n"
     ]
    }
   ],
   "source": [
    "# Initialize a Napari viewer with the title as the base name of the image file\n",
    "viewer = napari.Viewer(title=os.path.basename(image_fn))\n",
    "# viewer.add_image(images, channel_axis=-1)  # Add the image to the viewer, assuming it has multiple channels\n",
    "viewer.add_labels(masks)  # Add the segmentation masks as labels\n",
    "# if you want to add tracks, uncomment the line below\n",
    "# viewer.add_tracks(napari_tracks)  # Add the tracks to the viewer\n",
    "# function to save out masks as you go \n",
    "@viewer.bind_key('s', overwrite=True)\n",
    "def save_out_masks(viewer):\n",
    "    # save out latest version of masks\n",
    "    with btrack.io.HDF5FileHandler(output_path, 'w', obj_type='obj_type_1') as writer:\n",
    "            writer.write_segmentation(masks)\n",
    "\n",
    "viewer.show(block=True)\n",
    "\n",
    "# save out final version of masks only after you have closed the window\n",
    "with btrack.io.HDF5FileHandler(output_path, 'w', obj_type='obj_type_1') as writer:\n",
    "        writer.write_segmentation(masks)"
   ]
  },
  {
   "cell_type": "markdown",
   "id": "2251dfcb-7406-4df3-bdde-a9476fab3024",
   "metadata": {},
   "source": [
    "### Unite the disparate masks over Z"
   ]
  },
  {
   "cell_type": "code",
   "execution_count": null,
   "id": "97326457-037f-4b0e-be17-0eb7820ccf52",
   "metadata": {},
   "outputs": [],
   "source": [
    "# Initialize a new 3D array\n",
    "linked_masks = np.zeros_like(masks)\n",
    "\n",
    "# Identify all unique cell IDs (excluding 0 as it usually represents background)\n",
    "unique_cells = np.unique(masks[masks > 0])\n",
    "\n",
    "# Iterate over each cell ID\n",
    "for cell_id in tqdm(unique_cells, total = len(unique_cells)):\n",
    "    \n",
    "    # Find all z-indices where this cell ID appears\n",
    "    z_indices = np.unique(np.where(masks == cell_id)[0])\n",
    "\n",
    "    # Check if there are at least two instances\n",
    "    if len(z_indices) > 1:\n",
    "        \n",
    "        # iterate over each step between successive manually created masks\n",
    "        for step in tqdm(range(len(z_indices)-1), desc = f'Iterating over cell ID {cell_id} GT masks', total = (len(z_indices)-1), leave = False):\n",
    "\n",
    "            # find the first and next z indices that this mask appears in \n",
    "            first_z, next_z = z_indices[step], z_indices[step+1]\n",
    "\n",
    "            # iterate over the frames in this range \n",
    "            for z in tqdm(range(first_z, next_z), desc = 'Filling in the gaps', total = len(range(first_z, next_z)), leave = False):\n",
    "                \n",
    "                # change the next frame to feature the mask of cell ID from the current frame\n",
    "                linked_masks[z+1][masks[first_z] == cell_id] = cell_id"
   ]
  },
  {
   "cell_type": "markdown",
   "id": "cfceffac-fbce-4180-81a6-d67d04b41ec3",
   "metadata": {},
   "source": [
    "##### Optionally check these linked masks"
   ]
  },
  {
   "cell_type": "code",
   "execution_count": null,
   "id": "dc18c986-271c-410d-97e3-3b7fcaa45d96",
   "metadata": {},
   "outputs": [],
   "source": [
    "# Initialize a Napari viewer with the title as the base name of the image file\n",
    "viewer = napari.Viewer(title=os.path.basename(image_fn) + ' Linked masks')\n",
    "viewer.add_image(images, channel_axis=-1)  # Add the image to the viewer, assuming it has multiple channels\n",
    "viewer.add_labels(linked_masks) # Add linked masks"
   ]
  },
  {
   "cell_type": "markdown",
   "id": "d66c2406-c477-4e4f-967a-7dd92e6b9a33",
   "metadata": {},
   "source": [
    "### Track over Z"
   ]
  },
  {
   "cell_type": "code",
   "execution_count": null,
   "id": "37ad64db-73f0-4c94-bd39-55cf71691b42",
   "metadata": {},
   "outputs": [],
   "source": [
    "# Convert the segmentation masks to objects using btrack\n",
    "objects = btrack.utils.segmentation_to_objects(\n",
    "                                                segmentation=linked_masks,\n",
    "                                                intensity_image=image,\n",
    "                                                # properties=props,\n",
    "                                                use_weighted_centroid=False,\n",
    "                                                assign_class_ID=True,\n",
    "                                                )\n",
    "\n",
    "# Check if mtb infected above threshold and measure mtb properties for each cell\n",
    "threshold = 230\n",
    "mtb_ch = 3\n",
    "\n",
    "for o in tqdm(objects, desc='Measuring Mtb properties of each cell'):\n",
    "    coordinates = np.argwhere(masks[o.t] == o.properties['class_id'])\n",
    "    pixel_values = image[o.t, coordinates[:, 0], coordinates[:, 1]]\n",
    "    mtb_status = np.any(pixel_values[:,mtb_ch] > threshold)\n",
    "    mtb_area = np.sum(pixel_values[:,mtb_ch] > threshold)\n",
    "    o.properties['mtb_status'] = mtb_status\n",
    "    o.properties['mtb_area'] = mtb_area\n",
    "    # o.properties['pixel_values'] = pixel_values\n",
    "\n",
    "# Initialize BayesianTracker\n",
    "with btrack.BayesianTracker() as tracker:\n",
    "    \n",
    "    # Configure the tracker using a config file\n",
    "    tracker.configure('/home/dayn/analysis/models/btrack/loc.json')\n",
    "    \n",
    "    # Set max search radius to a very limited radius\n",
    "    tracker.max_search_radius = 10\n",
    "    \n",
    "    # Define tracking method\n",
    "    tracker.tracking_updates = [\"MOTION\"]#, \"VISUAL\"]\n",
    "    \n",
    "    # Append the objects to be tracked\n",
    "    tracker.append(objects)\n",
    "    \n",
    "    # Set the volume\n",
    "    tracker.volume = ((0, linked_masks.shape[1]), (0, linked_masks.shape[2]), (-1e5, 1e5))\n",
    "    \n",
    "    # Track them (in interactive mode)\n",
    "    tracker.track(step_size=10)\n",
    "    \n",
    "    # Generate hypotheses and run the global optimizer\n",
    "    tracker.optimize()\n",
    "    \n",
    "    # Get the tracks as a Python list\n",
    "    tracks = tracker.tracks\n",
    "\n",
    "if len(tracks) != np.max(linked_masks):\n",
    "    print(f'Error with tracks and masks mismatch: {(len(tracks), np.max(masks))}')"
   ]
  },
  {
   "cell_type": "markdown",
   "id": "b254c716-2ed5-438b-a91a-f3f1d6d97513",
   "metadata": {},
   "source": [
    "### Write out locally first"
   ]
  },
  {
   "cell_type": "code",
   "execution_count": null,
   "id": "f3783981-c054-4a08-8703-5fae73b6a9ba",
   "metadata": {},
   "outputs": [],
   "source": [
    "# define output fn\n",
    "output_sc_fn = os.path.basename(image_fn).replace('.tif', f'_gt_{cell_type}_sc_data.h5')\n",
    "# join together to full output path\n",
    "output_path = os.path.join(output_dir, output_masks_fn)\n",
    "# # Write the tracks and segmentation masks to an HDF5 file using btrack.io.HDF5FileHandler\n",
    "with btrack.io.HDF5FileHandler(output_path, 'w', obj_type='obj_type_1') as writer:\n",
    "    writer.write_tracks(tracks)\n",
    "    writer.write_segmentation(linked_masks)"
   ]
  },
  {
   "cell_type": "markdown",
   "id": "ec3f0299-95ad-462c-958d-6b821405ca94",
   "metadata": {},
   "source": [
    "### Optionally move the ground truth sc data to the main image analysis folder on NEMO"
   ]
  },
  {
   "cell_type": "code",
   "execution_count": 43,
   "id": "feba7cc3-e28e-4f36-a568-b12244e10a12",
   "metadata": {},
   "outputs": [],
   "source": [
    "# Define source and destination paths\n",
    "source = output_path # Path of the file to be copied\n",
    "nemo_output_path = os.path.join(sc_basedir, os.path.basename(output_path)) # Destination path to copy the file to\n",
    "\n",
    "# Copy the file from the source to the destination\n",
    "shutil.copy(source, nemo_output_path)"
   ]
  }
 ],
 "metadata": {
  "kernelspec": {
   "display_name": "brassica",
   "language": "python",
   "name": "brassica"
  },
  "language_info": {
   "codemirror_mode": {
    "name": "ipython",
    "version": 3
   },
   "file_extension": ".py",
   "mimetype": "text/x-python",
   "name": "python",
   "nbconvert_exporter": "python",
   "pygments_lexer": "ipython3",
   "version": "3.9.17"
  }
 },
 "nbformat": 4,
 "nbformat_minor": 5
}
