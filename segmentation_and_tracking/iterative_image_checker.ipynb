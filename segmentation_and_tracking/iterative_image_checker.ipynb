{
 "cells": [
  {
   "cell_type": "markdown",
   "id": "702d4c65-9fc7-4b68-b959-bca87f727540",
   "metadata": {},
   "source": [
    "# Checking the tracking on the manually segmented macrophages"
   ]
  },
  {
   "cell_type": "markdown",
   "id": "09c5e155-1cd6-46e9-9643-5446f0fc851b",
   "metadata": {},
   "source": [
    "#### Load modules"
   ]
  },
  {
   "cell_type": "code",
   "execution_count": 1,
   "id": "e405df96-66d8-4740-9d0d-af4703e99582",
   "metadata": {},
   "outputs": [],
   "source": [
    "import os\n",
    "from glob import glob\n",
    "from skimage import io\n",
    "import btrack\n",
    "import shutil\n",
    "import napari\n",
    "from homuncu_loc.dataio import try_load_nemo_h5\n",
    "# from tqdm.auto import tqdm\n",
    "# import pandas as pd\n",
    "# import matplotlib.pyplot as plt"
   ]
  },
  {
   "cell_type": "markdown",
   "id": "f33e20d3-d38a-4f45-86d3-864ab69e02cb",
   "metadata": {},
   "source": [
    "### Pre-defined images to pay attention to"
   ]
  },
  {
   "cell_type": "code",
   "execution_count": 2,
   "id": "cd74ca0b-efba-4006-a0bf-4af6dd17a76e",
   "metadata": {},
   "outputs": [
    {
     "data": {
      "text/plain": [
       "[1541, 1544, 1550, 1551, 1554, 1556, 1557, 1558, 1568]"
      ]
     },
     "execution_count": 2,
     "metadata": {},
     "output_type": "execute_result"
    }
   ],
   "source": [
    "# Create a list called image_IDs\n",
    "image_IDs = [1541,\n",
    "1544,\n",
    "1550,\n",
    "1551,\n",
    "1554,\n",
    "1556,\n",
    "1557,\n",
    "1558,\n",
    "1568]\n",
    "\n",
    "# Print the value of image_IDs\n",
    "image_IDs"
   ]
  },
  {
   "cell_type": "markdown",
   "id": "a5e9b86b-e6ad-42d6-85ae-bf30cbe34595",
   "metadata": {},
   "source": [
    "### Set address for NEMO"
   ]
  },
  {
   "cell_type": "code",
   "execution_count": 3,
   "id": "0d7a804a-865c-48cc-8b54-14cfe033eaf1",
   "metadata": {},
   "outputs": [],
   "source": [
    "# Set the base directory of the NEMO home folder, is different depending on your operating system\n",
    "base_dir = '/run/user/30046150/gvfs/smb-share:server=data2.thecrick.org,share=lab-gutierrezm'"
   ]
  },
  {
   "cell_type": "markdown",
   "id": "23420de4-829c-4f93-8ef3-309c10acf35e",
   "metadata": {},
   "source": [
    "## Find corresponding image filenames"
   ]
  },
  {
   "cell_type": "code",
   "execution_count": 1,
   "id": "7206266a-3db8-4a8e-81af-312bafb6fe64",
   "metadata": {},
   "outputs": [
    {
     "ename": "NameError",
     "evalue": "name 'os' is not defined",
     "output_type": "error",
     "traceback": [
      "\u001b[0;31m---------------------------------------------------------------------------\u001b[0m",
      "\u001b[0;31mNameError\u001b[0m                                 Traceback (most recent call last)",
      "Cell \u001b[0;32mIn[1], line 2\u001b[0m\n\u001b[1;32m      1\u001b[0m \u001b[38;5;66;03m# Set the base directory of the images\u001b[39;00m\n\u001b[0;32m----> 2\u001b[0m image_basedir \u001b[38;5;241m=\u001b[39m \u001b[43mos\u001b[49m\u001b[38;5;241m.\u001b[39mpath\u001b[38;5;241m.\u001b[39mjoin(base_dir, \u001b[38;5;124m'\u001b[39m\u001b[38;5;124mhome/shared/Lung on Chip/homuncu_loc_image_analysis/iAT1_iAT2_iVEC_macrophage_experiments/DAPI_ZO1_CD16_MTB/images\u001b[39m\u001b[38;5;124m'\u001b[39m)\n\u001b[1;32m      4\u001b[0m \u001b[38;5;66;03m# Create a list of image filenames using list comprehension\u001b[39;00m\n\u001b[1;32m      5\u001b[0m \u001b[38;5;66;03m# Each filename is obtained by using glob function to find the image file that matches the image_ID in the given directory\u001b[39;00m\n\u001b[1;32m      6\u001b[0m image_fns \u001b[38;5;241m=\u001b[39m [glob(os\u001b[38;5;241m.\u001b[39mpath\u001b[38;5;241m.\u001b[39mjoin(image_basedir, \u001b[38;5;124mf\u001b[39m\u001b[38;5;124m'\u001b[39m\u001b[38;5;124m*\u001b[39m\u001b[38;5;132;01m{\u001b[39;00mimage_ID\u001b[38;5;132;01m}\u001b[39;00m\u001b[38;5;124m*.tif\u001b[39m\u001b[38;5;124m'\u001b[39m))[\u001b[38;5;241m0\u001b[39m] \u001b[38;5;28;01mfor\u001b[39;00m image_ID \u001b[38;5;129;01min\u001b[39;00m image_IDs]\n",
      "\u001b[0;31mNameError\u001b[0m: name 'os' is not defined"
     ]
    }
   ],
   "source": [
    "# Set the base directory of the images\n",
    "image_basedir = os.path.join(base_dir, 'home/shared/Lung on Chip/homuncu_loc_image_analysis/iAT1_iAT2_iVEC_macrophage_experiments/DAPI_ZO1_CD16_MTB/images')\n",
    "\n",
    "# Create a list of image filenames using list comprehension\n",
    "# Each filename is obtained by using glob function to find the image file that matches the image_ID in the given directory\n",
    "image_fns = [glob(os.path.join(image_basedir, f'*{image_ID}*.tif'))[0] for image_ID in image_IDs]\n",
    "\n",
    "# Print the list of image filenames\n",
    "image_fns"
   ]
  },
  {
   "cell_type": "markdown",
   "id": "72955656-cf09-4854-b4b1-2db684abaa82",
   "metadata": {},
   "source": [
    "## Find measurement filenames for these images"
   ]
  },
  {
   "cell_type": "code",
   "execution_count": 5,
   "id": "3914a92f-769a-4aee-9ce5-77ac592d1881",
   "metadata": {},
   "outputs": [
    {
     "data": {
      "text/plain": [
       "['/run/user/30046150/gvfs/smb-share:server=data2.thecrick.org,share=lab-gutierrezm/home/shared/Lung on Chip/homuncu_loc_image_analysis/iAT1_iAT2_iVEC_macrophage_experiments/DAPI_ZO1_CD16_MTB/sc_analyses/20231127_20X_23-03-072A6_DAPI_ZO-1_CD16_Mtb_ATG14KO_48hpi_Mult...nel Z-Stack_20231127_1541_gt_mphi.h5',\n",
       " '/run/user/30046150/gvfs/smb-share:server=data2.thecrick.org,share=lab-gutierrezm/home/shared/Lung on Chip/homuncu_loc_image_analysis/iAT1_iAT2_iVEC_macrophage_experiments/DAPI_ZO1_CD16_MTB/sc_analyses/20231127_20X_23-03-072A6_DAPI_ZO-1_CD16_Mtb_ATG14KO_48hpi_Mult...nel Z-Stack_20231127_1544_gt_mphi.h5',\n",
       " '/run/user/30046150/gvfs/smb-share:server=data2.thecrick.org,share=lab-gutierrezm/home/shared/Lung on Chip/homuncu_loc_image_analysis/iAT1_iAT2_iVEC_macrophage_experiments/DAPI_ZO1_CD16_MTB/sc_analyses/20231127_20X_23-03-072A5_DAPI_ZO-1_CD16_Mtb_ATG14KO_2hpi_Multichannel Z-Stack_20231127_1550_gt_mphi.h5',\n",
       " '/run/user/30046150/gvfs/smb-share:server=data2.thecrick.org,share=lab-gutierrezm/home/shared/Lung on Chip/homuncu_loc_image_analysis/iAT1_iAT2_iVEC_macrophage_experiments/DAPI_ZO1_CD16_MTB/sc_analyses/20231127_20X_23-03-072A5_DAPI_ZO-1_CD16_Mtb_ATG14KO_2hpi_Multichannel Z-Stack_20231127_1551_gt_mphi.h5',\n",
       " '/run/user/30046150/gvfs/smb-share:server=data2.thecrick.org,share=lab-gutierrezm/home/shared/Lung on Chip/homuncu_loc_image_analysis/iAT1_iAT2_iVEC_macrophage_experiments/DAPI_ZO1_CD16_MTB/sc_analyses/20231127_20X_23-03-072A5_DAPI_ZO-1_CD16_Mtb_ATG14KO_2hpi_Multichannel Z-Stack_20231127_1554_gt_mphi.h5',\n",
       " '/run/user/30046150/gvfs/smb-share:server=data2.thecrick.org,share=lab-gutierrezm/home/shared/Lung on Chip/homuncu_loc_image_analysis/iAT1_iAT2_iVEC_macrophage_experiments/DAPI_ZO1_CD16_MTB/sc_analyses/20231128_20X_23-03-072A3_DAPI_ZO-1_CD16_Mtb_WT_2hpi_Multichannel Z-Stack_20231128_1556_gt_mphi.h5',\n",
       " '/run/user/30046150/gvfs/smb-share:server=data2.thecrick.org,share=lab-gutierrezm/home/shared/Lung on Chip/homuncu_loc_image_analysis/iAT1_iAT2_iVEC_macrophage_experiments/DAPI_ZO1_CD16_MTB/sc_analyses/20231128_20X_23-03-072A3_DAPI_ZO-1_CD16_Mtb_WT_2hpi_Multichannel Z-Stack_20231128_1557_gt_mphi.h5',\n",
       " '/run/user/30046150/gvfs/smb-share:server=data2.thecrick.org,share=lab-gutierrezm/home/shared/Lung on Chip/homuncu_loc_image_analysis/iAT1_iAT2_iVEC_macrophage_experiments/DAPI_ZO1_CD16_MTB/sc_analyses/20231128_20X_23-03-072A3_DAPI_ZO-1_CD16_Mtb_WT_2hpi_Multichannel Z-Stack_20231128_1558_gt_mphi.h5',\n",
       " '/run/user/30046150/gvfs/smb-share:server=data2.thecrick.org,share=lab-gutierrezm/home/shared/Lung on Chip/homuncu_loc_image_analysis/iAT1_iAT2_iVEC_macrophage_experiments/DAPI_ZO1_CD16_MTB/sc_analyses/20231128_20X_23-03-072A4_DAPI_ZO-1_CD16_Mtb_WT_48hpi_Multichannel Z-Stack_20231128_1568_gt_mphi.h5']"
      ]
     },
     "execution_count": 5,
     "metadata": {},
     "output_type": "execute_result"
    }
   ],
   "source": [
    "# Set the base directory of the single-cell analyses\n",
    "sc_basedir = os.path.join(base_dir, 'home/shared/Lung on Chip/homuncu_loc_image_analysis/iAT1_iAT2_iVEC_macrophage_experiments/DAPI_ZO1_CD16_MTB/sc_analyses')\n",
    "\n",
    "# Create a list of single-cell analysis filenames using list comprehension\n",
    "# Each filename is obtained by using glob function to find the file that matches the image_ID in the given directory\n",
    "sc_fns = [glob(os.path.join(sc_basedir, f'*{image_ID}*gt_mphi.h5'))[0] for image_ID in image_IDs]\n",
    "\n",
    "# Print the list of single-cell analysis filenames\n",
    "sc_fns"
   ]
  },
  {
   "cell_type": "markdown",
   "id": "face861f-f725-4fe0-ab5a-91450ccfc8c3",
   "metadata": {},
   "source": [
    "### Iteratively load and check images"
   ]
  },
  {
   "cell_type": "code",
   "execution_count": null,
   "id": "10aaf563-83f7-4acc-b219-81de8f1f0337",
   "metadata": {},
   "outputs": [
    {
     "name": "stderr",
     "output_type": "stream",
     "text": [
      "[INFO][2023/12/11 05:28:13 PM] Opening HDF file: /run/user/30046150/gvfs/smb-share:server=data2.thecrick.org,share=lab-gutierrezm/home/shared/Lung on Chip/homuncu_loc_image_analysis/iAT1_iAT2_iVEC_macrophage_experiments/DAPI_ZO1_CD16_MTB/sc_analyses/20231127_20X_23-03-072A6_DAPI_ZO-1_CD16_Mtb_ATG14KO_48hpi_Mult...nel Z-Stack_20231127_1541_gt_mphi.h5...\n",
      "[INFO][2023/12/11 05:28:18 PM] Loading segmentation (155, 2304, 2304)\n",
      "[INFO][2023/12/11 05:28:18 PM] Loading tracks/obj_type_1\n",
      "[INFO][2023/12/11 05:28:18 PM] Loading LBEP/obj_type_1\n",
      "[INFO][2023/12/11 05:28:18 PM] Loading objects/obj_type_1 (1064, 5) (1064 filtered: None)\n",
      "[INFO][2023/12/11 05:28:18 PM] Closing HDF file: /run/user/30046150/gvfs/smb-share:server=data2.thecrick.org,share=lab-gutierrezm/home/shared/Lung on Chip/homuncu_loc_image_analysis/iAT1_iAT2_iVEC_macrophage_experiments/DAPI_ZO1_CD16_MTB/sc_analyses/20231127_20X_23-03-072A6_DAPI_ZO-1_CD16_Mtb_ATG14KO_48hpi_Mult...nel Z-Stack_20231127_1541_gt_mphi.h5\n",
      "TiffPage 0: TypeError: read_bytes() missing 3 required positional arguments: 'dtype', 'count', and 'offsetsize'\n",
      "[INFO][2023/12/11 05:30:56 pm] Opening HDF file: /run/user/30046150/gvfs/smb-share:server=data2.thecrick.org,share=lab-gutierrezm/home/shared/Lung on Chip/homuncu_loc_image_analysis/iAT1_iAT2_iVEC_macrophage_experiments/DAPI_ZO1_CD16_MTB/sc_analyses/20231127_20X_23-03-072A6_DAPI_ZO-1_CD16_Mtb_ATG14KO_48hpi_Mult...nel Z-Stack_20231127_1544_gt_mphi.h5...\n",
      "[INFO][2023/12/11 05:31:00 pm] Loading segmentation (155, 2304, 2304)\n",
      "[INFO][2023/12/11 05:31:00 pm] Loading tracks/obj_type_1\n",
      "[INFO][2023/12/11 05:31:00 pm] Loading LBEP/obj_type_1\n",
      "[INFO][2023/12/11 05:31:00 pm] Loading objects/obj_type_1 (596, 5) (596 filtered: None)\n",
      "[INFO][2023/12/11 05:31:00 pm] Closing HDF file: /run/user/30046150/gvfs/smb-share:server=data2.thecrick.org,share=lab-gutierrezm/home/shared/Lung on Chip/homuncu_loc_image_analysis/iAT1_iAT2_iVEC_macrophage_experiments/DAPI_ZO1_CD16_MTB/sc_analyses/20231127_20X_23-03-072A6_DAPI_ZO-1_CD16_Mtb_ATG14KO_48hpi_Mult...nel Z-Stack_20231127_1544_gt_mphi.h5\n",
      "WARNING: Unrecognized OpenGL version\n",
      "WARNING: Unrecognized OpenGL version\n",
      "[INFO][2023/12/12 11:49:56 am] Opening HDF file: /run/user/30046150/gvfs/smb-share:server=data2.thecrick.org,share=lab-gutierrezm/home/shared/Lung on Chip/homuncu_loc_image_analysis/iAT1_iAT2_iVEC_macrophage_experiments/DAPI_ZO1_CD16_MTB/sc_analyses/20231127_20X_23-03-072A5_DAPI_ZO-1_CD16_Mtb_ATG14KO_2hpi_Multichannel Z-Stack_20231127_1550_gt_mphi.h5...\n",
      "[INFO][2023/12/12 11:50:01 am] Loading segmentation (155, 2304, 2304)\n",
      "[INFO][2023/12/12 11:50:01 am] Loading tracks/obj_type_1\n",
      "[INFO][2023/12/12 11:50:01 am] Loading LBEP/obj_type_1\n",
      "[INFO][2023/12/12 11:50:01 am] Loading objects/obj_type_1 (750, 5) (750 filtered: None)\n",
      "[INFO][2023/12/12 11:50:01 am] Closing HDF file: /run/user/30046150/gvfs/smb-share:server=data2.thecrick.org,share=lab-gutierrezm/home/shared/Lung on Chip/homuncu_loc_image_analysis/iAT1_iAT2_iVEC_macrophage_experiments/DAPI_ZO1_CD16_MTB/sc_analyses/20231127_20X_23-03-072A5_DAPI_ZO-1_CD16_Mtb_ATG14KO_2hpi_Multichannel Z-Stack_20231127_1550_gt_mphi.h5\n",
      "WARNING: Unrecognized OpenGL version\n",
      "WARNING: Unrecognized OpenGL version\n"
     ]
    },
    {
     "ename": "KeyboardInterrupt",
     "evalue": "",
     "output_type": "error",
     "traceback": [
      "\u001b[0;31m---------------------------------------------------------------------------\u001b[0m",
      "\u001b[0;31mKeyboardInterrupt\u001b[0m                         Traceback (most recent call last)",
      "File \u001b[0;32m~/miniconda3/envs/brassica/lib/python3.9/site-packages/napari/_qt/qt_main_window.py:226\u001b[0m, in \u001b[0;36m_QtMainWindow.eventFilter\u001b[0;34m(self, source, event)\u001b[0m\n\u001b[1;32m    223\u001b[0m             inst\u001b[38;5;241m.\u001b[39mappend(inst\u001b[38;5;241m.\u001b[39mpop(inst\u001b[38;5;241m.\u001b[39mindex(\u001b[38;5;28mself\u001b[39m)))\n\u001b[1;32m    224\u001b[0m     \u001b[38;5;28;01mreturn\u001b[39;00m \u001b[38;5;28msuper\u001b[39m()\u001b[38;5;241m.\u001b[39mevent(e)\n\u001b[0;32m--> 226\u001b[0m \u001b[38;5;28;01mdef\u001b[39;00m \u001b[38;5;21meventFilter\u001b[39m(\u001b[38;5;28mself\u001b[39m, source, event):\n\u001b[1;32m    227\u001b[0m     \u001b[38;5;66;03m# Handle showing hidden menubar on mouse move event.\u001b[39;00m\n\u001b[1;32m    228\u001b[0m     \u001b[38;5;66;03m# We do not hide menubar when a menu is being shown or\u001b[39;00m\n\u001b[1;32m    229\u001b[0m     \u001b[38;5;66;03m# we are not in menubar toggled state\u001b[39;00m\n\u001b[1;32m    230\u001b[0m     \u001b[38;5;28;01mif\u001b[39;00m (\n\u001b[1;32m    231\u001b[0m         QApplication\u001b[38;5;241m.\u001b[39mactivePopupWidget() \u001b[38;5;129;01mis\u001b[39;00m \u001b[38;5;28;01mNone\u001b[39;00m\n\u001b[1;32m    232\u001b[0m         \u001b[38;5;129;01mand\u001b[39;00m \u001b[38;5;28mself\u001b[39m\u001b[38;5;241m.\u001b[39m_toggle_menubar_visibility\n\u001b[1;32m    233\u001b[0m     ):\n\u001b[1;32m    234\u001b[0m         \u001b[38;5;28;01mif\u001b[39;00m event\u001b[38;5;241m.\u001b[39mtype() \u001b[38;5;241m==\u001b[39m QEvent\u001b[38;5;241m.\u001b[39mMouseMove:\n",
      "\u001b[0;31mKeyboardInterrupt\u001b[0m: "
     ]
    }
   ],
   "source": [
    "# Iterate through each ID in the image_IDs list\n",
    "for ID in image_IDs:\n",
    "    \n",
    "    # Find the image filename that matches the ID\n",
    "    image_fn = [fn for fn in image_fns if str(ID) in fn][0]\n",
    "    \n",
    "    # Find the single-cell analysis filename that matches the ID\n",
    "    sc_fn = [fn for fn in sc_fns if str(ID) in fn][0]\n",
    "\n",
    "    # Use the try and load function to load the single-cell data\n",
    "    tracks, masks = try_load_nemo_h5(sc_fn, return_options = ['tracks', 'masks'])\n",
    "\n",
    "    # Read the image file associated with the current ID\n",
    "    images = io.imread(image_fn)\n",
    "\n",
    "    # Convert the tracks to a format compatible with Napari\n",
    "    napari_tracks, _, _ = btrack.utils.tracks_to_napari(tracks, ndim=2)\n",
    "    \n",
    "    # Initialize a Napari viewer with the title as the base name of the image file\n",
    "    viewer = napari.Viewer(title=os.path.basename(image_fn))\n",
    "    viewer.add_image(images, channel_axis=-1)  # Add the image to the viewer, assuming it has multiple channels\n",
    "    viewer.add_labels(masks)  # Add the segmentation masks as labels\n",
    "    viewer.add_tracks(napari_tracks)  # Add the tracks to the viewer\n",
    "    \n",
    "    # Display the Napari viewer\n",
    "    viewer.show(block=True)"
   ]
  }
 ],
 "metadata": {
  "kernelspec": {
   "display_name": "brassica",
   "language": "python",
   "name": "brassica"
  },
  "language_info": {
   "codemirror_mode": {
    "name": "ipython",
    "version": 3
   },
   "file_extension": ".py",
   "mimetype": "text/x-python",
   "name": "python",
   "nbconvert_exporter": "python",
   "pygments_lexer": "ipython3",
   "version": "3.9.17"
  }
 },
 "nbformat": 4,
 "nbformat_minor": 5
}
