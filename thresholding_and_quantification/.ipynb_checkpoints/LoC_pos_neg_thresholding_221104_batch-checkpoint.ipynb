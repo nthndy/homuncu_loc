{
 "cells": [
  {
   "cell_type": "markdown",
   "id": "18ea1709",
   "metadata": {},
   "source": [
    "# Batch processing of LoC monolayer images\n",
    "\n",
    "Segmentation, tracking over Z, extracting single-cell pixel intensity distributions"
   ]
  },
  {
   "cell_type": "code",
   "execution_count": 3,
   "id": "18b20799",
   "metadata": {},
   "outputs": [],
   "source": [
    "import dask.array as da\n",
    "import napari\n",
    "import btrack\n",
    "from tqdm.auto import tqdm\n",
    "from skimage.io import imshow,  imsave, imread\n",
    "import skimage as ski\n",
    "import itertools\n",
    "import json, os, glob, shutil\n",
    "import numpy as np\n",
    "import matplotlib.pyplot as plt\n",
    "from cellpose import core, utils, io, models, metrics\n",
    "from pathlib import Path\n",
    "import pandas as pd\n",
    "plt.rcParams[\"figure.figsize\"] = (15,7)\n",
    "import seaborn as sns\n",
    "sns.set(font='Nimbus Sans', style = 'white')"
   ]
  },
  {
   "cell_type": "code",
   "execution_count": 4,
   "id": "eaad067d",
   "metadata": {},
   "outputs": [],
   "source": [
    "import enum\n",
    "@enum.unique\n",
    "class Channels_1(enum.Enum): ### this is unique to the above acquisition (20x_21-12-031B_A12456_Multichannel Z-Stack_20220811_113.vsi - 005 CF405, CF488, CF561, CF638.tif)\n",
    "    DAPI = 0\n",
    "    NKX21 = 1\n",
    "    PDPN = 2\n",
    "    ZO1 = 3"
   ]
  },
  {
   "cell_type": "code",
   "execution_count": 5,
   "id": "63b69731",
   "metadata": {},
   "outputs": [],
   "source": [
    "class Channels_2(enum.Enum): ### this is unique to the above acquisition (20x_21-12-031B_A12456_Multichannel Z-Stack_20220811_113.vsi - 005 CF405, CF488, CF561, CF638.tif)\n",
    "    DAPI = 0\n",
    "    SPC = 1\n",
    "    PDPN = 2\n",
    "    ZO1 = 3"
   ]
  },
  {
   "cell_type": "code",
   "execution_count": 6,
   "id": "c2703b06",
   "metadata": {},
   "outputs": [
    {
     "name": "stdout",
     "output_type": "stream",
     "text": [
      "nvcc: NVIDIA (R) Cuda compiler driver\n",
      "Copyright (c) 2005-2019 NVIDIA Corporation\n",
      "Built on Sun_Jul_28_19:07:16_PDT_2019\n",
      "Cuda compilation tools, release 10.1, V10.1.243\n",
      "Mon Jun 19 11:21:13 2023       \n",
      "+-----------------------------------------------------------------------------+\n",
      "| NVIDIA-SMI 515.105.01   Driver Version: 515.105.01   CUDA Version: 11.7     |\n",
      "|-------------------------------+----------------------+----------------------+\n",
      "| GPU  Name        Persistence-M| Bus-Id        Disp.A | Volatile Uncorr. ECC |\n",
      "| Fan  Temp  Perf  Pwr:Usage/Cap|         Memory-Usage | GPU-Util  Compute M. |\n",
      "|                               |                      |               MIG M. |\n",
      "|===============================+======================+======================|\n",
      "|   0  NVIDIA RTX A6000    On   | 00000000:65:00.0  On |                  Off |\n",
      "| 30%   40C    P8    34W / 300W |   2297MiB / 49140MiB |      8%      Default |\n",
      "|                               |                      |                  N/A |\n",
      "+-------------------------------+----------------------+----------------------+\n",
      "                                                                               \n",
      "+-----------------------------------------------------------------------------+\n",
      "| Processes:                                                                  |\n",
      "|  GPU   GI   CI        PID   Type   Process name                  GPU Memory |\n",
      "|        ID   ID                                                   Usage      |\n",
      "|=============================================================================|\n",
      "|    0   N/A  N/A    388658      G   /usr/lib/xorg/Xorg                695MiB |\n",
      "|    0   N/A  N/A    389302      G   /usr/bin/gnome-shell               63MiB |\n",
      "|    0   N/A  N/A    390854    C+G   ...nda3/envs/aero/bin/python     1340MiB |\n",
      "|    0   N/A  N/A    459709      G   ...AAAAAAAAA= --shared-files       51MiB |\n",
      "|    0   N/A  N/A    504799      G   ...nda3/envs/aero/bin/python       73MiB |\n",
      "|    0   N/A  N/A    678129      G   ...veSuggestionsOnlyOnDemand       67MiB |\n",
      "+-----------------------------------------------------------------------------+\n",
      ">>> GPU activated? YES\n"
     ]
    }
   ],
   "source": [
    "!nvcc --version\n",
    "!nvidia-smi\n",
    "use_GPU = core.use_gpu()\n",
    "yn = ['NO', 'YES']\n",
    "print(f'>>> GPU activated? {yn[use_GPU]}')\n",
    "# define model_type='cyto' or model_type='nuclei'\n",
    "model = models.Cellpose(gpu=use_GPU, model_type='cyto')\n",
    "# define CHANNELS to run segementation on\n",
    "channels = [0,0]"
   ]
  },
  {
   "cell_type": "code",
   "execution_count": 7,
   "id": "4b8e141a",
   "metadata": {},
   "outputs": [],
   "source": [
    "props = ('axis_major_length', \n",
    "         'axis_minor_length', \n",
    "         'eccentricity', \n",
    "         'area', \n",
    "         'mean_intensity', \n",
    "         #'intensity_image', \n",
    "         'orientation')\n"
   ]
  },
  {
   "cell_type": "markdown",
   "id": "ce96b2e7",
   "metadata": {},
   "source": [
    "# Loading images"
   ]
  },
  {
   "cell_type": "code",
   "execution_count": 11,
   "id": "354f3478",
   "metadata": {},
   "outputs": [
    {
     "data": {
      "text/plain": [
       "'/mnt/DATA/sandbox/lung_on_chip/monolayer/21-12-031B/122/20x_21-12-031B_A12456_Multichannel Z-Stack_20220811_122.vsi - 014 CF405, CF488, CF561, CF638.tif'"
      ]
     },
     "execution_count": 11,
     "metadata": {},
     "output_type": "execute_result"
    }
   ],
   "source": [
    "image_fn"
   ]
  },
  {
   "cell_type": "code",
   "execution_count": 12,
   "id": "4f92c265",
   "metadata": {},
   "outputs": [
    {
     "data": {
      "text/plain": [
       "['/mnt/DATA/sandbox/lung_on_chip/monolayer/21-12-031B/122/20x_21-12-031B_A12456_Multichannel Z-Stack_20220811_122.vsi - 014 CF405, CF488, CF561, CF638.tif',\n",
       " '/mnt/DATA/sandbox/lung_on_chip/monolayer/21-12-031B/113/masks.tif',\n",
       " '/mnt/DATA/sandbox/lung_on_chip/monolayer/21-12-031B/113/20x_21-12-031B_A12456_Multichannel Z-Stack_20220811_113.vsi - 005 CF405, CF488, CF561, CF638.tif',\n",
       " '/mnt/DATA/sandbox/lung_on_chip/monolayer/21-12-031B/113/cropped_[25:45]_masks.tif',\n",
       " '/mnt/DATA/sandbox/lung_on_chip/monolayer/21-12-028A/245/20x_21-12-028A_A23456_Multichannel Z-Stack_20220818_245.vsi - 014 CF405, CF488, CF561, CF638.tif',\n",
       " '/mnt/DATA/sandbox/lung_on_chip/monolayer/21-12-028A/236/20x_21-12-028A_A23456_Multichannel Z-Stack_20220818_236.vsi - 005 CF405, CF488, CF561, CF638.tif']"
      ]
     },
     "execution_count": 12,
     "metadata": {},
     "output_type": "execute_result"
    }
   ],
   "source": [
    "image_fns"
   ]
  },
  {
   "cell_type": "code",
   "execution_count": 359,
   "id": "20246eef",
   "metadata": {},
   "outputs": [
    {
     "data": {
      "text/plain": [
       "(81, 2304, 2304, 4)"
      ]
     },
     "execution_count": 359,
     "metadata": {},
     "output_type": "execute_result"
    }
   ],
   "source": [
    "image.shape"
   ]
  },
  {
   "cell_type": "code",
   "execution_count": 361,
   "id": "b4054b56",
   "metadata": {},
   "outputs": [
    {
     "data": {
      "text/plain": [
       "array([[0, 0, 0, ..., 0, 0, 0],\n",
       "       [0, 0, 0, ..., 0, 0, 0],\n",
       "       [0, 0, 0, ..., 0, 0, 0],\n",
       "       ...,\n",
       "       [0, 0, 0, ..., 0, 0, 0],\n",
       "       [0, 0, 0, ..., 0, 0, 0],\n",
       "       [0, 0, 0, ..., 0, 0, 0]], dtype=uint16)"
      ]
     },
     "execution_count": 361,
     "metadata": {},
     "output_type": "execute_result"
    }
   ],
   "source": [
    "masks"
   ]
  },
  {
   "cell_type": "code",
   "execution_count": 16,
   "id": "c71aead2",
   "metadata": {},
   "outputs": [
    {
     "data": {
      "application/vnd.jupyter.widget-view+json": {
       "model_id": "873f1dbfdfef4244884c675031ec2671",
       "version_major": 2,
       "version_minor": 0
      },
      "text/plain": [
       "  0%|          | 0/4 [00:00<?, ?it/s]"
      ]
     },
     "metadata": {},
     "output_type": "display_data"
    },
    {
     "name": "stdout",
     "output_type": "stream",
     "text": [
      "Loading image 20x_21-12-031B_A12456_Multichannel Z-Stack_20220811_122.vsi - 014 CF405, CF488, CF561, CF638.tif\n",
      "Segmenting image 20x_21-12-031B_A12456_Multichannel Z-Stack_20220811_122.vsi - 014 CF405, CF488, CF561, CF638.tif\n"
     ]
    },
    {
     "data": {
      "application/vnd.jupyter.widget-view+json": {
       "model_id": "5e32c67017ab40fe924cabed02f02e21",
       "version_major": 2,
       "version_minor": 0
      },
      "text/plain": [
       "  0%|          | 0/81 [00:00<?, ?it/s]"
      ]
     },
     "metadata": {},
     "output_type": "display_data"
    },
    {
     "name": "stderr",
     "output_type": "stream",
     "text": [
      "/home/dayn/miniconda3/envs/aero/lib/python3.9/site-packages/numpy/core/fromnumeric.py:3474: RuntimeWarning: Mean of empty slice.\n",
      "  return _methods._mean(a, axis=axis, dtype=dtype,\n",
      "/home/dayn/miniconda3/envs/aero/lib/python3.9/site-packages/numpy/core/_methods.py:189: RuntimeWarning: invalid value encountered in double_scalars\n",
      "  ret = ret.dtype.type(ret / rcount)\n",
      "[INFO][2022/11/04 12:22:47 PM] Localizing objects from segmentation...\n",
      "[INFO][2022/11/04 12:22:47 PM] Found intensity_image data\n",
      "[INFO][2022/11/04 12:23:18 PM] Objects are of type: <class 'dict'>\n",
      "[INFO][2022/11/04 12:23:19 PM] ...Found 80134 objects in 81 frames.\n",
      "[INFO][2022/11/04 12:23:19 PM] Loaded btrack: /home/dayn/miniconda3/envs/aero/lib/python3.9/site-packages/btrack/libs/libtracker.so\n",
      "[INFO][2022/11/04 12:23:19 PM] btrack (v0.4.5) library imported\n",
      "[INFO][2022/11/04 12:23:19 PM] Starting BayesianTracker session\n",
      "[INFO][2022/11/04 12:23:19 PM] Loading configuration file: /home/dayn/analysis/BayesianTracker/models/particle_config.json\n",
      "[INFO][2022/11/04 12:23:19 PM] Objects are of type: <class 'list'>\n",
      "[INFO][2022/11/04 12:23:19 PM] Starting tracking... \n",
      "[INFO][2022/11/04 12:23:19 PM] Tracking objects in frames 0 to 81 (of 81)...\n"
     ]
    },
    {
     "name": "stdout",
     "output_type": "stream",
     "text": [
      "Tracking image 20x_21-12-031B_A12456_Multichannel Z-Stack_20220811_122.vsi - 014 CF405, CF488, CF561, CF638.tif\n"
     ]
    },
    {
     "name": "stderr",
     "output_type": "stream",
     "text": [
      "[INFO][2022/11/04 12:37:14 PM]  - Timing (Bayesian updates: 13.30ms, Linking: 0.98ms)\n",
      "[INFO][2022/11/04 12:37:14 PM]  - Probabilities (Link: 0.60882, Lost: 0.72535)\n",
      "[INFO][2022/11/04 12:37:14 PM] SUCCESS.\n",
      "[INFO][2022/11/04 12:37:14 PM]  - Found 13956 tracks in 81 frames (in 0.0s)\n",
      "[INFO][2022/11/04 12:37:14 PM]  - Inserted 13342 dummy objects to fill tracking gaps\n",
      "[INFO][2022/11/04 12:37:14 PM] Loading hypothesis model: particle_hypothesis\n",
      "[INFO][2022/11/04 12:37:14 PM] Calculating hypotheses (relax: True)...\n",
      "[INFO][2022/11/04 12:37:14 PM] Setting up constraints matrix for global optimisation...\n",
      "[INFO][2022/11/04 12:37:14 PM] Using GLPK options: {'tm_lim': 60000}...\n",
      "[INFO][2022/11/04 12:37:16 PM] Optimizing...\n",
      "[INFO][2022/11/04 12:37:29 PM] Optimization complete. (Solution: optimal)\n",
      "[INFO][2022/11/04 12:37:29 PM]  - Fates.FALSE_POSITIVE: 4865 (of 13956)\n",
      "[INFO][2022/11/04 12:37:29 PM]  - Fates.LINK: 1847 (of 7884)\n",
      "[INFO][2022/11/04 12:37:29 PM]  - Fates.INITIALIZE_BORDER: 1403 (of 2578)\n",
      "[INFO][2022/11/04 12:37:29 PM]  - Fates.INITIALIZE_FRONT: 398 (of 497)\n",
      "[INFO][2022/11/04 12:37:29 PM]  - Fates.INITIALIZE_LAZY: 5443 (of 10881)\n",
      "[INFO][2022/11/04 12:37:29 PM]  - Fates.TERMINATE_BORDER: 1323 (of 2535)\n",
      "[INFO][2022/11/04 12:37:29 PM]  - Fates.TERMINATE_BACK: 389 (of 497)\n",
      "[INFO][2022/11/04 12:37:29 PM]  - Fates.TERMINATE_LAZY: 5532 (of 10924)\n",
      "[INFO][2022/11/04 12:37:29 PM]  - TOTAL: 49752 hypotheses\n",
      "[INFO][2022/11/04 12:37:29 PM] Completed optimization with 12109 tracks\n"
     ]
    },
    {
     "name": "stdout",
     "output_type": "stream",
     "text": [
      "GLPK Integer Optimizer 5.0\n",
      "55824 rows, 49752 columns, 71592 non-zeros\n",
      "49752 integer variables, all of which are binary\n",
      "Preprocessing...\n",
      "27912 rows, 49752 columns, 71592 non-zeros\n",
      "49752 integer variables, all of which are binary\n",
      "Scaling...\n",
      " A: min|aij| =  1.000e+00  max|aij| =  1.000e+00  ratio =  1.000e+00\n",
      "Problem data seem to be well scaled\n",
      "Constructing initial basis...\n",
      "Size of triangular part is 27912\n",
      "Solving LP relaxation...\n",
      "GLPK Simplex Optimizer 5.0\n",
      "27912 rows, 49752 columns, 71592 non-zeros\n",
      "*     0: obj =   1.580634325e+05 inf =   0.000e+00 (13692)\n",
      "Perturbing LP to avoid stalling [1068]...\n",
      "*  4684: obj =   1.143133895e+05 inf =   0.000e+00 (7868)\n",
      "*  8333: obj =   1.030676868e+05 inf =   0.000e+00 (3158) 3\n",
      "Removing LP perturbation [11262]...\n",
      "* 11262: obj =   9.849952411e+04 inf =   0.000e+00 (0) 3\n",
      "OPTIMAL LP SOLUTION FOUND\n",
      "Integer optimization begins...\n",
      "Long-step dual simplex will be used\n",
      "+ 11262: mip =     not found yet >=              -inf        (1; 0)\n",
      "+ 11262: >>>>>   9.849952411e+04 >=   9.849952411e+04   0.0% (1; 0)\n",
      "+ 11262: mip =   9.849952411e+04 >=     tree is empty   0.0% (0; 1)\n",
      "INTEGER OPTIMAL SOLUTION FOUND\n"
     ]
    },
    {
     "name": "stderr",
     "output_type": "stream",
     "text": [
      "[INFO][2022/11/04 12:37:30 PM] Opening HDF file: /mnt/DATA/sandbox/lung_on_chip/monolayer/21-12-031B/122/20x_21-12-031B_A12456_tracks.h5...\n",
      "[INFO][2022/11/04 12:37:30 PM] Writing objects/obj_type_1\n",
      "[INFO][2022/11/04 12:37:30 PM] Writing labels/obj_type_1\n",
      "[INFO][2022/11/04 12:37:30 PM] Loading objects/obj_type_1 (80134, 5) (80134 filtered: None)\n",
      "[INFO][2022/11/04 12:37:31 PM] Writing properties/obj_type_1/axis_major_length (80134,)\n",
      "[INFO][2022/11/04 12:37:31 PM] Writing properties/obj_type_1/axis_minor_length (80134,)\n",
      "[INFO][2022/11/04 12:37:31 PM] Writing properties/obj_type_1/eccentricity (80134,)\n",
      "[INFO][2022/11/04 12:37:31 PM] Writing properties/obj_type_1/area (80134,)\n",
      "[INFO][2022/11/04 12:37:31 PM] Writing properties/obj_type_1/mean_intensity-0 (80134,)\n",
      "[INFO][2022/11/04 12:37:31 PM] Writing properties/obj_type_1/mean_intensity-1 (80134,)\n",
      "[INFO][2022/11/04 12:37:31 PM] Writing properties/obj_type_1/mean_intensity-2 (80134,)\n",
      "[INFO][2022/11/04 12:37:31 PM] Writing properties/obj_type_1/mean_intensity-3 (80134,)\n",
      "[INFO][2022/11/04 12:37:31 PM] Writing properties/obj_type_1/orientation (80134,)\n",
      "[INFO][2022/11/04 12:37:33 PM] Writing tracks/obj_type_1\n",
      "[INFO][2022/11/04 12:37:33 PM] Writing dummies/obj_type_1\n",
      "[INFO][2022/11/04 12:37:33 PM] Writing LBEP/obj_type_1\n",
      "[INFO][2022/11/04 12:37:33 PM] Writing fates/obj_type_1\n",
      "[INFO][2022/11/04 12:37:33 PM] Closing HDF file: /mnt/DATA/sandbox/lung_on_chip/monolayer/21-12-031B/122/20x_21-12-031B_A12456_tracks.h5\n",
      "[INFO][2022/11/04 12:37:33 PM] Ending BayesianTracker session\n"
     ]
    },
    {
     "name": "stdout",
     "output_type": "stream",
     "text": [
      "Extracting measurements of image 20x_21-12-031B_A12456_Multichannel Z-Stack_20220811_122.vsi - 014 CF405, CF488, CF561, CF638.tif\n",
      "Loading image 20x_21-12-031B_A12456_Multichannel Z-Stack_20220811_113.vsi - 005 CF405, CF488, CF561, CF638.tif\n",
      "Segmenting image 20x_21-12-031B_A12456_Multichannel Z-Stack_20220811_113.vsi - 005 CF405, CF488, CF561, CF638.tif\n"
     ]
    },
    {
     "data": {
      "application/vnd.jupyter.widget-view+json": {
       "model_id": "4f4885c0c9034475a9ec41505328e38c",
       "version_major": 2,
       "version_minor": 0
      },
      "text/plain": [
       "  0%|          | 0/81 [00:00<?, ?it/s]"
      ]
     },
     "metadata": {},
     "output_type": "display_data"
    },
    {
     "name": "stderr",
     "output_type": "stream",
     "text": [
      "/home/dayn/miniconda3/envs/aero/lib/python3.9/site-packages/numpy/core/fromnumeric.py:3474: RuntimeWarning: Mean of empty slice.\n",
      "  return _methods._mean(a, axis=axis, dtype=dtype,\n",
      "/home/dayn/miniconda3/envs/aero/lib/python3.9/site-packages/numpy/core/_methods.py:189: RuntimeWarning: invalid value encountered in double_scalars\n",
      "  ret = ret.dtype.type(ret / rcount)\n",
      "[INFO][2022/11/04 12:49:21 PM] Localizing objects from segmentation...\n",
      "[INFO][2022/11/04 12:49:21 PM] Found intensity_image data\n",
      "[INFO][2022/11/04 12:49:49 PM] Objects are of type: <class 'dict'>\n",
      "[INFO][2022/11/04 12:49:49 PM] ...Found 65159 objects in 81 frames.\n",
      "[INFO][2022/11/04 12:49:49 PM] Loaded btrack: /home/dayn/miniconda3/envs/aero/lib/python3.9/site-packages/btrack/libs/libtracker.so\n",
      "[INFO][2022/11/04 12:49:49 PM] btrack (v0.4.5) library imported\n",
      "[INFO][2022/11/04 12:49:49 PM] Starting BayesianTracker session\n",
      "[INFO][2022/11/04 12:49:49 PM] Loading configuration file: /home/dayn/analysis/BayesianTracker/models/particle_config.json\n",
      "[INFO][2022/11/04 12:49:49 PM] Objects are of type: <class 'list'>\n",
      "[INFO][2022/11/04 12:49:49 PM] Starting tracking... \n",
      "[INFO][2022/11/04 12:49:50 PM] Tracking objects in frames 0 to 81 (of 81)...\n"
     ]
    },
    {
     "name": "stdout",
     "output_type": "stream",
     "text": [
      "Tracking image 20x_21-12-031B_A12456_Multichannel Z-Stack_20220811_113.vsi - 005 CF405, CF488, CF561, CF638.tif\n"
     ]
    },
    {
     "name": "stderr",
     "output_type": "stream",
     "text": [
      "[INFO][2022/11/04 12:59:33 PM]  - Timing (Bayesian updates: 17.73ms, Linking: 1.18ms)\n",
      "[INFO][2022/11/04 12:59:33 PM]  - Probabilities (Link: 0.45244, Lost: 1.00000)\n",
      "[INFO][2022/11/04 12:59:33 PM] SUCCESS.\n",
      "[INFO][2022/11/04 12:59:33 PM]  - Found 13724 tracks in 81 frames (in 0.0s)\n",
      "[INFO][2022/11/04 12:59:33 PM]  - Inserted 11244 dummy objects to fill tracking gaps\n",
      "[INFO][2022/11/04 12:59:33 PM] Loading hypothesis model: particle_hypothesis\n",
      "[INFO][2022/11/04 12:59:33 PM] Calculating hypotheses (relax: True)...\n",
      "[INFO][2022/11/04 12:59:33 PM] Setting up constraints matrix for global optimisation...\n",
      "[INFO][2022/11/04 12:59:33 PM] Using GLPK options: {'tm_lim': 60000}...\n",
      "[INFO][2022/11/04 12:59:34 PM] Optimizing...\n",
      "[INFO][2022/11/04 12:59:50 PM] Optimization complete. (Solution: optimal)\n",
      "[INFO][2022/11/04 12:59:50 PM]  - Fates.FALSE_POSITIVE: 5484 (of 13724)\n",
      "[INFO][2022/11/04 12:59:50 PM]  - Fates.LINK: 1630 (of 8138)\n",
      "[INFO][2022/11/04 12:59:50 PM]  - Fates.INITIALIZE_BORDER: 1442 (of 2768)\n",
      "[INFO][2022/11/04 12:59:50 PM]  - Fates.INITIALIZE_FRONT: 359 (of 482)\n",
      "[INFO][2022/11/04 12:59:50 PM]  - Fates.INITIALIZE_LAZY: 4809 (of 10474)\n",
      "[INFO][2022/11/04 12:59:50 PM]  - Fates.TERMINATE_BORDER: 1346 (of 2680)\n",
      "[INFO][2022/11/04 12:59:50 PM]  - Fates.TERMINATE_BACK: 404 (of 527)\n",
      "[INFO][2022/11/04 12:59:50 PM]  - Fates.TERMINATE_LAZY: 4860 (of 10517)\n",
      "[INFO][2022/11/04 12:59:50 PM]  - TOTAL: 49310 hypotheses\n",
      "[INFO][2022/11/04 12:59:50 PM] Completed optimization with 12094 tracks\n"
     ]
    },
    {
     "name": "stdout",
     "output_type": "stream",
     "text": [
      "GLPK Integer Optimizer 5.0\n",
      "54896 rows, 49310 columns, 71172 non-zeros\n",
      "49310 integer variables, all of which are binary\n",
      "Preprocessing...\n",
      "27448 rows, 49310 columns, 71172 non-zeros\n",
      "49310 integer variables, all of which are binary\n",
      "Scaling...\n",
      " A: min|aij| =  1.000e+00  max|aij| =  1.000e+00  ratio =  1.000e+00\n",
      "Problem data seem to be well scaled\n",
      "Constructing initial basis...\n",
      "Size of triangular part is 27448\n",
      "Solving LP relaxation...\n",
      "GLPK Simplex Optimizer 5.0\n",
      "27448 rows, 49310 columns, 71172 non-zeros\n",
      "*     0: obj =   1.532712333e+05 inf =   0.000e+00 (14357)\n",
      "Perturbing LP to avoid stalling [896]...\n",
      "*  3874: obj =   1.169460257e+05 inf =   0.000e+00 (9338)\n",
      "*  7087: obj =   1.010477012e+05 inf =   0.000e+00 (5013) 2\n",
      "* 11470: obj =   8.998907157e+04 inf =   0.000e+00 (414) 3\n",
      "Removing LP perturbation [11886]...\n",
      "* 11886: obj =   8.993574881e+04 inf =   0.000e+00 (0) 1\n",
      "OPTIMAL LP SOLUTION FOUND\n",
      "Integer optimization begins...\n",
      "Long-step dual simplex will be used\n",
      "+ 11886: mip =     not found yet >=              -inf        (1; 0)\n",
      "+ 11886: >>>>>   8.993574881e+04 >=   8.993574881e+04   0.0% (1; 0)\n",
      "+ 11886: mip =   8.993574881e+04 >=     tree is empty   0.0% (0; 1)\n",
      "INTEGER OPTIMAL SOLUTION FOUND\n"
     ]
    },
    {
     "name": "stderr",
     "output_type": "stream",
     "text": [
      "[INFO][2022/11/04 12:59:51 PM] Opening HDF file: /mnt/DATA/sandbox/lung_on_chip/monolayer/21-12-031B/113/20x_21-12-031B_A12456_tracks.h5...\n",
      "[INFO][2022/11/04 12:59:51 PM] Writing objects/obj_type_1\n",
      "[INFO][2022/11/04 12:59:51 PM] Writing labels/obj_type_1\n",
      "[INFO][2022/11/04 12:59:51 PM] Loading objects/obj_type_1 (65159, 5) (65159 filtered: None)\n",
      "[INFO][2022/11/04 12:59:52 PM] Writing properties/obj_type_1/axis_major_length (65159,)\n",
      "[INFO][2022/11/04 12:59:52 PM] Writing properties/obj_type_1/axis_minor_length (65159,)\n",
      "[INFO][2022/11/04 12:59:52 PM] Writing properties/obj_type_1/eccentricity (65159,)\n",
      "[INFO][2022/11/04 12:59:52 PM] Writing properties/obj_type_1/area (65159,)\n",
      "[INFO][2022/11/04 12:59:52 PM] Writing properties/obj_type_1/mean_intensity-0 (65159,)\n",
      "[INFO][2022/11/04 12:59:52 PM] Writing properties/obj_type_1/mean_intensity-1 (65159,)\n",
      "[INFO][2022/11/04 12:59:52 PM] Writing properties/obj_type_1/mean_intensity-2 (65159,)\n",
      "[INFO][2022/11/04 12:59:52 PM] Writing properties/obj_type_1/mean_intensity-3 (65159,)\n",
      "[INFO][2022/11/04 12:59:52 PM] Writing properties/obj_type_1/orientation (65159,)\n",
      "[INFO][2022/11/04 12:59:53 PM] Writing tracks/obj_type_1\n",
      "[INFO][2022/11/04 12:59:53 PM] Writing dummies/obj_type_1\n",
      "[INFO][2022/11/04 12:59:53 PM] Writing LBEP/obj_type_1\n",
      "[INFO][2022/11/04 12:59:53 PM] Writing fates/obj_type_1\n",
      "[INFO][2022/11/04 12:59:53 PM] Closing HDF file: /mnt/DATA/sandbox/lung_on_chip/monolayer/21-12-031B/113/20x_21-12-031B_A12456_tracks.h5\n",
      "[INFO][2022/11/04 12:59:53 PM] Ending BayesianTracker session\n"
     ]
    },
    {
     "name": "stdout",
     "output_type": "stream",
     "text": [
      "Extracting measurements of image 20x_21-12-031B_A12456_Multichannel Z-Stack_20220811_113.vsi - 005 CF405, CF488, CF561, CF638.tif\n",
      "Loading image 20x_21-12-028A_A23456_Multichannel Z-Stack_20220818_245.vsi - 014 CF405, CF488, CF561, CF638.tif\n",
      "Segmenting image 20x_21-12-028A_A23456_Multichannel Z-Stack_20220818_245.vsi - 014 CF405, CF488, CF561, CF638.tif\n"
     ]
    },
    {
     "data": {
      "application/vnd.jupyter.widget-view+json": {
       "model_id": "3433d7f4c45f4954856ed9864c559551",
       "version_major": 2,
       "version_minor": 0
      },
      "text/plain": [
       "  0%|          | 0/81 [00:00<?, ?it/s]"
      ]
     },
     "metadata": {},
     "output_type": "display_data"
    },
    {
     "name": "stderr",
     "output_type": "stream",
     "text": [
      "/home/dayn/miniconda3/envs/aero/lib/python3.9/site-packages/numpy/core/fromnumeric.py:3474: RuntimeWarning: Mean of empty slice.\n",
      "  return _methods._mean(a, axis=axis, dtype=dtype,\n",
      "/home/dayn/miniconda3/envs/aero/lib/python3.9/site-packages/numpy/core/_methods.py:189: RuntimeWarning: invalid value encountered in double_scalars\n",
      "  ret = ret.dtype.type(ret / rcount)\n",
      "WARNING: no mask pixels found\n",
      "[INFO][2022/11/04 01:12:16 PM] Localizing objects from segmentation...\n",
      "[INFO][2022/11/04 01:12:16 PM] Found intensity_image data\n",
      "[INFO][2022/11/04 01:12:45 PM] Objects are of type: <class 'dict'>\n",
      "[INFO][2022/11/04 01:12:46 PM] ...Found 75881 objects in 80 frames.\n",
      "[INFO][2022/11/04 01:12:46 PM] Loaded btrack: /home/dayn/miniconda3/envs/aero/lib/python3.9/site-packages/btrack/libs/libtracker.so\n",
      "[INFO][2022/11/04 01:12:46 PM] btrack (v0.4.5) library imported\n",
      "[INFO][2022/11/04 01:12:46 PM] Starting BayesianTracker session\n",
      "[INFO][2022/11/04 01:12:46 PM] Loading configuration file: /home/dayn/analysis/BayesianTracker/models/particle_config.json\n",
      "[INFO][2022/11/04 01:12:46 PM] Objects are of type: <class 'list'>\n",
      "[INFO][2022/11/04 01:12:46 PM] Starting tracking... \n",
      "[INFO][2022/11/04 01:12:46 PM] Tracking objects in frames 0 to 80 (of 80)...\n"
     ]
    },
    {
     "name": "stdout",
     "output_type": "stream",
     "text": [
      "Tracking image 20x_21-12-028A_A23456_Multichannel Z-Stack_20220818_245.vsi - 014 CF405, CF488, CF561, CF638.tif\n"
     ]
    },
    {
     "name": "stderr",
     "output_type": "stream",
     "text": [
      "[INFO][2022/11/04 01:33:21 PM]  - Timing (Bayesian updates: 0.12ms, Linking: 0.46ms)\n",
      "[INFO][2022/11/04 01:33:21 PM]  - Probabilities (Link: 0.99103, Lost: 1.00000)\n",
      "[INFO][2022/11/04 01:33:21 PM] SUCCESS.\n",
      "[INFO][2022/11/04 01:33:21 PM]  - Found 13398 tracks in 80 frames (in 0.0s)\n",
      "[INFO][2022/11/04 01:33:21 PM]  - Inserted 11887 dummy objects to fill tracking gaps\n",
      "[INFO][2022/11/04 01:33:21 PM] Loading hypothesis model: particle_hypothesis\n",
      "[INFO][2022/11/04 01:33:21 PM] Calculating hypotheses (relax: True)...\n",
      "[INFO][2022/11/04 01:33:21 PM] Setting up constraints matrix for global optimisation...\n",
      "[INFO][2022/11/04 01:33:21 PM] Using GLPK options: {'tm_lim': 60000}...\n",
      "[INFO][2022/11/04 01:33:23 PM] Optimizing...\n",
      "[INFO][2022/11/04 01:33:34 PM] Optimization complete. (Solution: optimal)\n",
      "[INFO][2022/11/04 01:33:34 PM]  - Fates.FALSE_POSITIVE: 4094 (of 13398)\n",
      "[INFO][2022/11/04 01:33:34 PM]  - Fates.LINK: 1525 (of 7169)\n",
      "[INFO][2022/11/04 01:33:34 PM]  - Fates.INITIALIZE_BORDER: 1519 (of 2736)\n",
      "[INFO][2022/11/04 01:33:34 PM]  - Fates.INITIALIZE_FRONT: 114 (of 143)\n",
      "[INFO][2022/11/04 01:33:34 PM]  - Fates.INITIALIZE_LAZY: 6146 (of 10519)\n",
      "[INFO][2022/11/04 01:33:34 PM]  - Fates.TERMINATE_BORDER: 1321 (of 2530)\n",
      "[INFO][2022/11/04 01:33:34 PM]  - Fates.TERMINATE_BACK: 254 (of 320)\n",
      "[INFO][2022/11/04 01:33:34 PM]  - Fates.TERMINATE_LAZY: 6204 (of 10548)\n",
      "[INFO][2022/11/04 01:33:34 PM]  - TOTAL: 47363 hypotheses\n",
      "[INFO][2022/11/04 01:33:34 PM] Completed optimization with 11873 tracks\n"
     ]
    },
    {
     "name": "stdout",
     "output_type": "stream",
     "text": [
      "GLPK Integer Optimizer 5.0\n",
      "53592 rows, 47363 columns, 67930 non-zeros\n",
      "47363 integer variables, all of which are binary\n",
      "Preprocessing...\n",
      "26796 rows, 47363 columns, 67930 non-zeros\n",
      "47363 integer variables, all of which are binary\n",
      "Scaling...\n",
      " A: min|aij| =  1.000e+00  max|aij| =  1.000e+00  ratio =  1.000e+00\n",
      "Problem data seem to be well scaled\n",
      "Constructing initial basis...\n",
      "Size of triangular part is 26796\n",
      "Solving LP relaxation...\n",
      "GLPK Simplex Optimizer 5.0\n",
      "26796 rows, 47363 columns, 67930 non-zeros\n",
      "*     0: obj =   1.530718335e+05 inf =   0.000e+00 (12119)\n",
      "Perturbing LP to avoid stalling [962]...\n",
      "*  4531: obj =   1.137432201e+05 inf =   0.000e+00 (6024)\n",
      "*  8669: obj =   1.039900209e+05 inf =   0.000e+00 (895) 3\n",
      "Removing LP perturbation [9565]...\n",
      "*  9565: obj =   1.036403262e+05 inf =   0.000e+00 (0) 2\n",
      "OPTIMAL LP SOLUTION FOUND\n",
      "Integer optimization begins...\n",
      "Long-step dual simplex will be used\n",
      "+  9565: mip =     not found yet >=              -inf        (1; 0)\n",
      "+  9565: >>>>>   1.036403262e+05 >=   1.036403262e+05   0.0% (1; 0)\n",
      "+  9565: mip =   1.036403262e+05 >=     tree is empty   0.0% (0; 1)\n",
      "INTEGER OPTIMAL SOLUTION FOUND\n"
     ]
    },
    {
     "name": "stderr",
     "output_type": "stream",
     "text": [
      "[INFO][2022/11/04 01:33:35 PM] Opening HDF file: /mnt/DATA/sandbox/lung_on_chip/monolayer/21-12-028A/245/20x_21-12-028A_A23456_tracks.h5...\n",
      "[INFO][2022/11/04 01:33:35 PM] Writing objects/obj_type_1\n",
      "[INFO][2022/11/04 01:33:35 PM] Writing labels/obj_type_1\n",
      "[INFO][2022/11/04 01:33:35 PM] Loading objects/obj_type_1 (75881, 5) (75881 filtered: None)\n",
      "[INFO][2022/11/04 01:33:36 PM] Writing properties/obj_type_1/axis_major_length (75881,)\n",
      "[INFO][2022/11/04 01:33:36 PM] Writing properties/obj_type_1/axis_minor_length (75881,)\n",
      "[INFO][2022/11/04 01:33:36 PM] Writing properties/obj_type_1/eccentricity (75881,)\n",
      "[INFO][2022/11/04 01:33:36 PM] Writing properties/obj_type_1/area (75881,)\n",
      "[INFO][2022/11/04 01:33:36 PM] Writing properties/obj_type_1/mean_intensity-0 (75881,)\n",
      "[INFO][2022/11/04 01:33:36 PM] Writing properties/obj_type_1/mean_intensity-1 (75881,)\n",
      "[INFO][2022/11/04 01:33:36 PM] Writing properties/obj_type_1/mean_intensity-2 (75881,)\n",
      "[INFO][2022/11/04 01:33:36 PM] Writing properties/obj_type_1/mean_intensity-3 (75881,)\n",
      "[INFO][2022/11/04 01:33:36 PM] Writing properties/obj_type_1/orientation (75881,)\n",
      "[INFO][2022/11/04 01:33:37 PM] Writing tracks/obj_type_1\n",
      "[INFO][2022/11/04 01:33:37 PM] Writing dummies/obj_type_1\n",
      "[INFO][2022/11/04 01:33:37 PM] Writing LBEP/obj_type_1\n",
      "[INFO][2022/11/04 01:33:37 PM] Writing fates/obj_type_1\n",
      "[INFO][2022/11/04 01:33:38 PM] Closing HDF file: /mnt/DATA/sandbox/lung_on_chip/monolayer/21-12-028A/245/20x_21-12-028A_A23456_tracks.h5\n",
      "[INFO][2022/11/04 01:33:38 PM] Ending BayesianTracker session\n"
     ]
    },
    {
     "name": "stdout",
     "output_type": "stream",
     "text": [
      "Extracting measurements of image 20x_21-12-028A_A23456_Multichannel Z-Stack_20220818_245.vsi - 014 CF405, CF488, CF561, CF638.tif\n",
      "Loading image 20x_21-12-028A_A23456_Multichannel Z-Stack_20220818_236.vsi - 005 CF405, CF488, CF561, CF638.tif\n",
      "Segmenting image 20x_21-12-028A_A23456_Multichannel Z-Stack_20220818_236.vsi - 005 CF405, CF488, CF561, CF638.tif\n"
     ]
    },
    {
     "data": {
      "application/vnd.jupyter.widget-view+json": {
       "model_id": "a872f2cadf364cfcb80421a65b91aa28",
       "version_major": 2,
       "version_minor": 0
      },
      "text/plain": [
       "  0%|          | 0/81 [00:00<?, ?it/s]"
      ]
     },
     "metadata": {},
     "output_type": "display_data"
    },
    {
     "name": "stderr",
     "output_type": "stream",
     "text": [
      "/home/dayn/miniconda3/envs/aero/lib/python3.9/site-packages/numpy/core/fromnumeric.py:3474: RuntimeWarning: Mean of empty slice.\n",
      "  return _methods._mean(a, axis=axis, dtype=dtype,\n",
      "/home/dayn/miniconda3/envs/aero/lib/python3.9/site-packages/numpy/core/_methods.py:189: RuntimeWarning: invalid value encountered in double_scalars\n",
      "  ret = ret.dtype.type(ret / rcount)\n",
      "[INFO][2022/11/04 01:45:20 PM] Localizing objects from segmentation...\n",
      "[INFO][2022/11/04 01:45:20 PM] Found intensity_image data\n",
      "[INFO][2022/11/04 01:45:50 PM] Objects are of type: <class 'dict'>\n",
      "[INFO][2022/11/04 01:45:51 PM] ...Found 71886 objects in 79 frames.\n",
      "[INFO][2022/11/04 01:45:51 PM] Loaded btrack: /home/dayn/miniconda3/envs/aero/lib/python3.9/site-packages/btrack/libs/libtracker.so\n",
      "[INFO][2022/11/04 01:45:51 PM] btrack (v0.4.5) library imported\n",
      "[INFO][2022/11/04 01:45:51 PM] Starting BayesianTracker session\n",
      "[INFO][2022/11/04 01:45:51 PM] Loading configuration file: /home/dayn/analysis/BayesianTracker/models/particle_config.json\n",
      "[INFO][2022/11/04 01:45:51 PM] Objects are of type: <class 'list'>\n",
      "[INFO][2022/11/04 01:45:51 PM] Starting tracking... \n",
      "[INFO][2022/11/04 01:45:51 PM] Tracking objects in frames 0 to 79 (of 79)...\n"
     ]
    },
    {
     "name": "stdout",
     "output_type": "stream",
     "text": [
      "Tracking image 20x_21-12-028A_A23456_Multichannel Z-Stack_20220818_236.vsi - 005 CF405, CF488, CF561, CF638.tif\n"
     ]
    },
    {
     "name": "stderr",
     "output_type": "stream",
     "text": [
      "[INFO][2022/11/04 01:58:04 PM]  - Timing (Bayesian updates: 19.56ms, Linking: 1.07ms)\n",
      "[INFO][2022/11/04 01:58:04 PM]  - Probabilities (Link: 0.38049, Lost: 1.00000)\n",
      "[INFO][2022/11/04 01:58:04 PM] SUCCESS.\n",
      "[INFO][2022/11/04 01:58:04 PM]  - Found 16185 tracks in 79 frames (in 0.0s)\n",
      "[INFO][2022/11/04 01:58:05 PM]  - Inserted 18580 dummy objects to fill tracking gaps\n",
      "[INFO][2022/11/04 01:58:05 PM] Loading hypothesis model: particle_hypothesis\n",
      "[INFO][2022/11/04 01:58:05 PM] Calculating hypotheses (relax: True)...\n",
      "[INFO][2022/11/04 01:58:05 PM] Setting up constraints matrix for global optimisation...\n",
      "[INFO][2022/11/04 01:58:05 PM] Using GLPK options: {'tm_lim': 60000}...\n",
      "[INFO][2022/11/04 01:58:07 PM] Optimizing...\n",
      "[INFO][2022/11/04 01:58:30 PM] Optimization complete. (Solution: optimal)\n",
      "[INFO][2022/11/04 01:58:30 PM]  - Fates.FALSE_POSITIVE: 7234 (of 16185)\n",
      "[INFO][2022/11/04 01:58:30 PM]  - Fates.LINK: 1904 (of 11737)\n",
      "[INFO][2022/11/04 01:58:30 PM]  - Fates.INITIALIZE_BORDER: 1286 (of 2409)\n",
      "[INFO][2022/11/04 01:58:30 PM]  - Fates.INITIALIZE_FRONT: 341 (of 429)\n",
      "[INFO][2022/11/04 01:58:30 PM]  - Fates.INITIALIZE_LAZY: 5420 (of 13347)\n",
      "[INFO][2022/11/04 01:58:30 PM]  - Fates.TERMINATE_BORDER: 1188 (of 2329)\n",
      "[INFO][2022/11/04 01:58:30 PM]  - Fates.TERMINATE_BACK: 383 (of 483)\n",
      "[INFO][2022/11/04 01:58:30 PM]  - Fates.TERMINATE_LAZY: 5476 (of 13373)\n",
      "[INFO][2022/11/04 01:58:30 PM]  - TOTAL: 60292 hypotheses\n",
      "[INFO][2022/11/04 01:58:30 PM] Completed optimization with 14281 tracks\n"
     ]
    },
    {
     "name": "stdout",
     "output_type": "stream",
     "text": [
      "GLPK Integer Optimizer 5.0\n",
      "64740 rows, 60292 columns, 88214 non-zeros\n",
      "60292 integer variables, all of which are binary\n",
      "Preprocessing...\n",
      "32370 rows, 60292 columns, 88214 non-zeros\n",
      "60292 integer variables, all of which are binary\n",
      "Scaling...\n",
      " A: min|aij| =  1.000e+00  max|aij| =  1.000e+00  ratio =  1.000e+00\n",
      "Problem data seem to be well scaled\n",
      "Constructing initial basis...\n",
      "Size of triangular part is 32370\n",
      "Solving LP relaxation...\n",
      "GLPK Simplex Optimizer 5.0\n",
      "32370 rows, 60292 columns, 88214 non-zeros\n",
      "*     0: obj =   1.905532028e+05 inf =   0.000e+00 (20090)\n",
      "Perturbing LP to avoid stalling [923]...\n",
      "*  3913: obj =   1.559165527e+05 inf =   0.000e+00 (13878)\n",
      "*  7867: obj =   1.264944156e+05 inf =   0.000e+00 (9041) 2\n",
      "* 10604: obj =   1.216299554e+05 inf =   0.000e+00 (5100) 3\n",
      "* 14216: obj =   1.092708309e+05 inf =   0.000e+00 (1939) 4\n",
      "Removing LP perturbation [16144]...\n",
      "* 16144: obj =   1.077952238e+05 inf =   0.000e+00 (0) 3\n",
      "OPTIMAL LP SOLUTION FOUND\n",
      "Integer optimization begins...\n",
      "Long-step dual simplex will be used\n",
      "+ 16144: mip =     not found yet >=              -inf        (1; 0)\n",
      "+ 16144: >>>>>   1.077952238e+05 >=   1.077952238e+05   0.0% (1; 0)\n",
      "+ 16144: mip =   1.077952238e+05 >=     tree is empty   0.0% (0; 1)\n",
      "INTEGER OPTIMAL SOLUTION FOUND\n"
     ]
    },
    {
     "name": "stderr",
     "output_type": "stream",
     "text": [
      "[INFO][2022/11/04 01:58:31 PM] Opening HDF file: /mnt/DATA/sandbox/lung_on_chip/monolayer/21-12-028A/236/20x_21-12-028A_A23456_tracks.h5...\n",
      "[INFO][2022/11/04 01:58:31 PM] Writing objects/obj_type_1\n",
      "[INFO][2022/11/04 01:58:31 PM] Writing labels/obj_type_1\n",
      "[INFO][2022/11/04 01:58:31 PM] Loading objects/obj_type_1 (71886, 5) (71886 filtered: None)\n",
      "[INFO][2022/11/04 01:58:32 PM] Writing properties/obj_type_1/axis_major_length (71886,)\n",
      "[INFO][2022/11/04 01:58:32 PM] Writing properties/obj_type_1/axis_minor_length (71886,)\n",
      "[INFO][2022/11/04 01:58:32 PM] Writing properties/obj_type_1/eccentricity (71886,)\n",
      "[INFO][2022/11/04 01:58:32 PM] Writing properties/obj_type_1/area (71886,)\n",
      "[INFO][2022/11/04 01:58:32 PM] Writing properties/obj_type_1/mean_intensity-0 (71886,)\n",
      "[INFO][2022/11/04 01:58:32 PM] Writing properties/obj_type_1/mean_intensity-1 (71886,)\n",
      "[INFO][2022/11/04 01:58:32 PM] Writing properties/obj_type_1/mean_intensity-2 (71886,)\n",
      "[INFO][2022/11/04 01:58:32 PM] Writing properties/obj_type_1/mean_intensity-3 (71886,)\n",
      "[INFO][2022/11/04 01:58:32 PM] Writing properties/obj_type_1/orientation (71886,)\n",
      "[INFO][2022/11/04 01:58:33 PM] Writing tracks/obj_type_1\n",
      "[INFO][2022/11/04 01:58:33 PM] Writing dummies/obj_type_1\n",
      "[INFO][2022/11/04 01:58:33 PM] Writing LBEP/obj_type_1\n",
      "[INFO][2022/11/04 01:58:33 PM] Writing fates/obj_type_1\n",
      "[INFO][2022/11/04 01:58:34 PM] Closing HDF file: /mnt/DATA/sandbox/lung_on_chip/monolayer/21-12-028A/236/20x_21-12-028A_A23456_tracks.h5\n",
      "[INFO][2022/11/04 01:58:34 PM] Ending BayesianTracker session\n"
     ]
    },
    {
     "name": "stdout",
     "output_type": "stream",
     "text": [
      "Extracting measurements of image 20x_21-12-028A_A23456_Multichannel Z-Stack_20220818_236.vsi - 005 CF405, CF488, CF561, CF638.tif\n"
     ]
    }
   ],
   "source": [
    "image_fns = glob.glob('/mnt/DATA/sandbox/lung_on_chip/monolayer/*/*/*CF638.tif')\n",
    "for image_fn in tqdm(image_fns):\n",
    "    ### load image \n",
    "    print(f'Loading image {os.path.basename(image_fn)}')\n",
    "    image = imread(image_fn)\n",
    "    ### define channels\n",
    "    ch0 = image[...,0]\n",
    "    ch1 = image[...,1]\n",
    "    ch2 = image[...,2]\n",
    "    ch3 = image[...,3]\n",
    "    ### define empty mask stack \n",
    "    mask_stack = []\n",
    "    print(f'Segmenting image {os.path.basename(image_fn)}')\n",
    "    ### iterate over frames\n",
    "    for frame in tqdm(ch3, total = len(ch3)):\n",
    "        ### run segmentation\n",
    "        masks, flows, styles, diams = model.eval(frame, diameter=None, flow_threshold=None, channels=channels)\n",
    "        ### append to mask stack\n",
    "        mask_stack.append(masks)\n",
    "    ### stack masks together\n",
    "    mask_stack = np.stack(mask_stack, axis = 0)    ### create mask fn\n",
    "    mask_fn = image_fn.split('Multichannel')[0]+('mask_stack.tif')\n",
    "    imsave(mask_fn, mask_stack)\n",
    "    ### extract objects for tracking\n",
    "    objects = btrack.utils.segmentation_to_objects(\n",
    "                                                    mask_stack, \n",
    "                                                    image,\n",
    "                                                    properties = props, \n",
    "                                                    use_weighted_centroid=False)\n",
    "    print(f'Tracking image {os.path.basename(image_fn)}')\n",
    "    # initialise a tracker session using a context manager\n",
    "    with btrack.BayesianTracker() as tracker:\n",
    "      # configure the tracker using a config file\n",
    "      tracker.configure('/home/dayn/analysis/BayesianTracker/models/particle_config.json')\n",
    "      # append the objects to be tracked\n",
    "      tracker.append(objects)\n",
    "      # set the volume (Z axis volume limits default to [-1e5, 1e5] for 2D data)\n",
    "      tracker.volume = ((0, 2304), (0, 2304))\n",
    "      # track them (in interactive mode)\n",
    "      tracker.track_interactive(step_size=100)\n",
    "      # generate hypotheses and run the global optimizer\n",
    "      tracker.optimize()\n",
    "      # get the tracks as a python list\n",
    "      tracks = tracker.tracks\n",
    "      # filter tracks\n",
    "      tracks = [track for track in tracks if len(track) >= 3]\n",
    "      ### export the tracks\n",
    "      tracks_fn = image_fn.split('Multichannel')[0]+('tracks.h5')\n",
    "      tracker.export(tracks_fn, obj_type = \"obj_type_1\")\n",
    "    \n",
    "    print(f'Extracting measurements of image {os.path.basename(image_fn)}')\n",
    "    ### define channels of this experiment\n",
    "    if '113.vsi' in image_fn or '236.vsi' in image_fn:\n",
    "        channels = Channels_2\n",
    "    if '122.vsi' in image_fn or '245.vsi' in image_fn:\n",
    "        channels = Channels_1\n",
    "    ### define parameters to plot in table\n",
    "    cols = ['Cell ID', f'Max. int. {channels(0).name}', f'Max. int. {channels(1).name}', f'Max. int. {channels(2).name}', f'Max. int. {channels(3).name}', 'Average X', 'Average Y']\n",
    "    ### extract some intial measurements\n",
    "    df = pd.DataFrame([(track.ID, np.nanmax(track['mean_intensity-0']),np.nanmax(track['mean_intensity-1']),np.nanmax(track['mean_intensity-2']),np.nanmax(track['mean_intensity-3']), np.mean(track.x), np.mean(track.y)) for track in tracks], columns= cols)\n",
    "    ### results path \n",
    "    output_path = os.path.split(image_fn.replace('/mnt/DATA/sandbox/','/home/dayn/data/'))[0]\n",
    "    Path(output_path).mkdir(parents=True, exist_ok=True)\n",
    "    output_fn = os.path.split(output_path)[-1]+'_single_cell_props.csv'\n",
    "    output_path = os.path.join(output_path, output_fn)\n",
    "    ### save dataframe\n",
    "    df.to_csv(output_path)"
   ]
  },
  {
   "cell_type": "markdown",
   "id": "7b4da921",
   "metadata": {},
   "source": [
    "# Filter tracks according to cell size and track length (z thickness)"
   ]
  },
  {
   "cell_type": "code",
   "execution_count": 11,
   "id": "7f8095e8",
   "metadata": {},
   "outputs": [],
   "source": [
    "track_fns = glob.glob('/mnt/DATA/lung_on_chip/monolayer/*/*/*.h5')"
   ]
  },
  {
   "cell_type": "code",
   "execution_count": 12,
   "id": "7e8f01cc",
   "metadata": {},
   "outputs": [
    {
     "data": {
      "text/plain": [
       "['/mnt/DATA/lung_on_chip/monolayer/21-12-031B/122/20x_21-12-031B_A12456_tracks.h5',\n",
       " '/mnt/DATA/lung_on_chip/monolayer/21-12-031B/113/20x_21-12-031B_A12456_tracks.h5',\n",
       " '/mnt/DATA/lung_on_chip/monolayer/21-12-028A/245/20x_21-12-028A_A23456_tracks.h5',\n",
       " '/mnt/DATA/lung_on_chip/monolayer/21-12-028A/236/20x_21-12-028A_A23456_tracks.h5']"
      ]
     },
     "execution_count": 12,
     "metadata": {},
     "output_type": "execute_result"
    }
   ],
   "source": [
    "track_fns"
   ]
  },
  {
   "cell_type": "code",
   "execution_count": 187,
   "id": "9f6eaf97",
   "metadata": {},
   "outputs": [
    {
     "data": {
      "application/vnd.jupyter.widget-view+json": {
       "model_id": "fb01e53de4694700b6d1bed02aedf15c",
       "version_major": 2,
       "version_minor": 0
      },
      "text/plain": [
       "  0%|          | 0/4 [00:00<?, ?it/s]"
      ]
     },
     "metadata": {},
     "output_type": "display_data"
    },
    {
     "name": "stderr",
     "output_type": "stream",
     "text": [
      "[INFO][2022/11/04 04:01:04 PM] Opening HDF file: /mnt/DATA/sandbox/lung_on_chip/monolayer/21-12-031B/122/20x_21-12-031B_A12456_tracks.h5...\n",
      "[INFO][2022/11/04 04:01:04 PM] Loading tracks/obj_type_1\n",
      "[INFO][2022/11/04 04:01:04 PM] Loading objects/obj_type_1 (80134, 5) (80134 filtered: None)\n",
      "[INFO][2022/11/04 04:01:07 PM] Closing HDF file: /mnt/DATA/sandbox/lung_on_chip/monolayer/21-12-031B/122/20x_21-12-031B_A12456_tracks.h5\n"
     ]
    },
    {
     "name": "stdout",
     "output_type": "stream",
     "text": [
      "Extracting measurements of image 20x_21-12-031B_A12456_tracks.h5\n"
     ]
    },
    {
     "name": "stderr",
     "output_type": "stream",
     "text": [
      "[INFO][2022/11/04 04:01:11 PM] Opening HDF file: /mnt/DATA/sandbox/lung_on_chip/monolayer/21-12-031B/113/20x_21-12-031B_A12456_tracks.h5...\n",
      "[INFO][2022/11/04 04:01:11 PM] Loading tracks/obj_type_1\n",
      "[INFO][2022/11/04 04:01:11 PM] Loading objects/obj_type_1 (65159, 5) (65159 filtered: None)\n",
      "[INFO][2022/11/04 04:01:13 PM] Closing HDF file: /mnt/DATA/sandbox/lung_on_chip/monolayer/21-12-031B/113/20x_21-12-031B_A12456_tracks.h5\n"
     ]
    },
    {
     "name": "stdout",
     "output_type": "stream",
     "text": [
      "Extracting measurements of image 20x_21-12-031B_A12456_tracks.h5\n"
     ]
    },
    {
     "name": "stderr",
     "output_type": "stream",
     "text": [
      "[INFO][2022/11/04 04:01:16 PM] Opening HDF file: /mnt/DATA/sandbox/lung_on_chip/monolayer/21-12-028A/245/20x_21-12-028A_A23456_tracks.h5...\n",
      "[INFO][2022/11/04 04:01:16 PM] Loading tracks/obj_type_1\n",
      "[INFO][2022/11/04 04:01:16 PM] Loading objects/obj_type_1 (75881, 5) (75881 filtered: None)\n",
      "[INFO][2022/11/04 04:01:18 PM] Closing HDF file: /mnt/DATA/sandbox/lung_on_chip/monolayer/21-12-028A/245/20x_21-12-028A_A23456_tracks.h5\n"
     ]
    },
    {
     "name": "stdout",
     "output_type": "stream",
     "text": [
      "Extracting measurements of image 20x_21-12-028A_A23456_tracks.h5\n"
     ]
    },
    {
     "name": "stderr",
     "output_type": "stream",
     "text": [
      "[INFO][2022/11/04 04:01:22 PM] Opening HDF file: /mnt/DATA/sandbox/lung_on_chip/monolayer/21-12-028A/236/20x_21-12-028A_A23456_tracks.h5...\n",
      "[INFO][2022/11/04 04:01:22 PM] Loading tracks/obj_type_1\n",
      "[INFO][2022/11/04 04:01:22 PM] Loading objects/obj_type_1 (71886, 5) (71886 filtered: None)\n",
      "[INFO][2022/11/04 04:01:25 PM] Closing HDF file: /mnt/DATA/sandbox/lung_on_chip/monolayer/21-12-028A/236/20x_21-12-028A_A23456_tracks.h5\n"
     ]
    },
    {
     "name": "stdout",
     "output_type": "stream",
     "text": [
      "Extracting measurements of image 20x_21-12-028A_A23456_tracks.h5\n"
     ]
    }
   ],
   "source": [
    "for track_fn in tqdm(track_fns):\n",
    "    with btrack.dataio.HDF5FileHandler(track_fn, \"r\", obj_type=\"obj_type_1\") as hdf:\n",
    "        tracks = hdf.tracks\n",
    "        tracks = [track for track in tracks if len(track) > 7]\n",
    "    print(f'Extracting measurements of image {os.path.basename(track_fn)}')\n",
    "    ### define channels of this experiment\n",
    "    if '/113/' in track_fn or '/236/' in track_fn:\n",
    "        channels = Channels_1\n",
    "    if '/122/' in track_fn or '/245/' in track_fn:\n",
    "        channels = Channels_2\n",
    "    ### define parameters to plot in table\n",
    "    cols = ['Cell ID', f'Max. int. {channels(0).name}', f'Max. int. {channels(1).name}', f'Max. int. {channels(2).name}', f'Max. int. {channels(3).name}', 'Average X', 'Average Y', 'Mean Area', 'Max. Area', 'Min. Area']\n",
    "    ### extract some intial measurements\n",
    "    measurements = [(track.ID, \n",
    "                     np.nanmax(track['mean_intensity-0']),\n",
    "                     np.nanmax(track['mean_intensity-1']),\n",
    "                     np.nanmax(track['mean_intensity-2']),\n",
    "                     np.nanmax(track['mean_intensity-3']), \n",
    "                     np.nanmean(track.x), \n",
    "                     np.nanmean(track.y), \n",
    "                     np.nanmean(track['area']), \n",
    "                     np.nanmax(track['area']), \n",
    "                     np.nanmin(track['area'])) for track in tracks]\n",
    "    ### plot as df\n",
    "    df = pd.DataFrame(measurements, columns= cols)\n",
    "    ### extract normalisation bounds\n",
    "    for channel in channels:\n",
    "        covariance_matrix = np.cov((df[f'Max. int. {channel.name}']))\n",
    "        mean_values = np.mean(df[f'Max. int. {channel.name}'])\n",
    "        model = multivariate_normal(cov=covariance_matrix,mean=mean_values)\n",
    "        threshold = 1.0e-07\n",
    "        outlier = model.pdf(df[f'Max. int. {channel.name}']).reshape(-1) < threshold\n",
    "        max_int = np.min([df[f'Max. int. {channel.name}'][boolean] for boolean, i in enumerate(outlier) if i == True])\n",
    "        ### normalise the max intensities\n",
    "        df[f'Norm. Max. int. {channel.name}'] = df[f'Max. int. {channel.name}']/max_int\n",
    "    expt_ID = track_fn.split('20x')[0].split('monolayer')[-1]\n",
    "    df['Expt. ID'] = [expt_ID for item in range(len(df))]\n",
    "    ### results path \n",
    "    output_path = os.path.split(track_fn.replace('/mnt/DATA/sandbox/','/home/dayn/data/'))[0]\n",
    "    Path(output_path).mkdir(parents=True, exist_ok=True)\n",
    "    output_fn = os.path.split(output_path)[-1]+'_single_cell_filtered_props.csv'\n",
    "    output_path = os.path.join(output_path, output_fn)\n",
    "    ### save dataframe\n",
    "    df.to_csv(output_path)\n"
   ]
  },
  {
   "cell_type": "markdown",
   "id": "e424880e",
   "metadata": {},
   "source": [
    "### Extracting single cell measures\n"
   ]
  },
  {
   "cell_type": "code",
   "execution_count": 13,
   "id": "f5291b56",
   "metadata": {},
   "outputs": [],
   "source": [
    "import seaborn as sns\n",
    "import os"
   ]
  },
  {
   "cell_type": "code",
   "execution_count": 18,
   "id": "8b9c8ba4",
   "metadata": {},
   "outputs": [],
   "source": [
    "df_fns = glob.glob('/mnt/DATA/lung_on_chip/monolayer/*/*/*filtered*.csv')"
   ]
  },
  {
   "cell_type": "code",
   "execution_count": 19,
   "id": "6db1ae2e",
   "metadata": {},
   "outputs": [
    {
     "data": {
      "text/plain": [
       "['/mnt/DATA/lung_on_chip/monolayer/21-12-031B/122/122_single_cell_filtered_props.csv',\n",
       " '/mnt/DATA/lung_on_chip/monolayer/21-12-031B/113/113_single_cell_filtered_props.csv',\n",
       " '/mnt/DATA/lung_on_chip/monolayer/21-12-028A/245/245_single_cell_filtered_props.csv',\n",
       " '/mnt/DATA/lung_on_chip/monolayer/21-12-028A/236/236_single_cell_filtered_props.csv']"
      ]
     },
     "execution_count": 19,
     "metadata": {},
     "output_type": "execute_result"
    }
   ],
   "source": [
    "df_fns"
   ]
  },
  {
   "cell_type": "code",
   "execution_count": 20,
   "id": "68f24638",
   "metadata": {},
   "outputs": [],
   "source": [
    "dfs = []\n",
    "for fn in df_fns:\n",
    "    df = pd.read_csv(fn, index_col=0)\n",
    "    dfs.append(df)"
   ]
  },
  {
   "cell_type": "code",
   "execution_count": 21,
   "id": "829cf4e3",
   "metadata": {},
   "outputs": [],
   "source": [
    "dfs = pd.concat(dfs, axis = 0, ignore_index=True)"
   ]
  },
  {
   "cell_type": "code",
   "execution_count": 22,
   "id": "cf939091",
   "metadata": {},
   "outputs": [
    {
     "data": {
      "text/html": [
       "<div>\n",
       "<style scoped>\n",
       "    .dataframe tbody tr th:only-of-type {\n",
       "        vertical-align: middle;\n",
       "    }\n",
       "\n",
       "    .dataframe tbody tr th {\n",
       "        vertical-align: top;\n",
       "    }\n",
       "\n",
       "    .dataframe thead th {\n",
       "        text-align: right;\n",
       "    }\n",
       "</style>\n",
       "<table border=\"1\" class=\"dataframe\">\n",
       "  <thead>\n",
       "    <tr style=\"text-align: right;\">\n",
       "      <th></th>\n",
       "      <th>Cell ID</th>\n",
       "      <th>Max. int. DAPI</th>\n",
       "      <th>Max. int. SPC</th>\n",
       "      <th>Max. int. PDPN</th>\n",
       "      <th>Max. int. ZO1</th>\n",
       "      <th>Average X</th>\n",
       "      <th>Average Y</th>\n",
       "      <th>Mean Area</th>\n",
       "      <th>Max. Area</th>\n",
       "      <th>Min. Area</th>\n",
       "      <th>Norm. Max. int. DAPI</th>\n",
       "      <th>Norm. Max. int. SPC</th>\n",
       "      <th>Norm. Max. int. PDPN</th>\n",
       "      <th>Norm. Max. int. ZO1</th>\n",
       "      <th>Expt. ID</th>\n",
       "      <th>Max. int. NKX21</th>\n",
       "      <th>Norm. Max. int. NKX21</th>\n",
       "    </tr>\n",
       "  </thead>\n",
       "  <tbody>\n",
       "    <tr>\n",
       "      <th>0</th>\n",
       "      <td>119</td>\n",
       "      <td>118.659088</td>\n",
       "      <td>113.333336</td>\n",
       "      <td>109.893936</td>\n",
       "      <td>104.750000</td>\n",
       "      <td>37.302431</td>\n",
       "      <td>3.894554</td>\n",
       "      <td>85.750000</td>\n",
       "      <td>132.0</td>\n",
       "      <td>22.0</td>\n",
       "      <td>0.043841</td>\n",
       "      <td>0.056660</td>\n",
       "      <td>0.076842</td>\n",
       "      <td>0.168528</td>\n",
       "      <td>/21-12-031B/122/</td>\n",
       "      <td>NaN</td>\n",
       "      <td>NaN</td>\n",
       "    </tr>\n",
       "    <tr>\n",
       "      <th>1</th>\n",
       "      <td>121</td>\n",
       "      <td>117.154549</td>\n",
       "      <td>115.344261</td>\n",
       "      <td>108.770493</td>\n",
       "      <td>106.670105</td>\n",
       "      <td>152.876973</td>\n",
       "      <td>4.681566</td>\n",
       "      <td>105.875000</td>\n",
       "      <td>202.0</td>\n",
       "      <td>29.0</td>\n",
       "      <td>0.043285</td>\n",
       "      <td>0.057665</td>\n",
       "      <td>0.076057</td>\n",
       "      <td>0.171617</td>\n",
       "      <td>/21-12-031B/122/</td>\n",
       "      <td>NaN</td>\n",
       "      <td>NaN</td>\n",
       "    </tr>\n",
       "    <tr>\n",
       "      <th>2</th>\n",
       "      <td>122</td>\n",
       "      <td>121.556702</td>\n",
       "      <td>113.678162</td>\n",
       "      <td>110.263161</td>\n",
       "      <td>105.195404</td>\n",
       "      <td>117.112519</td>\n",
       "      <td>4.064373</td>\n",
       "      <td>138.200000</td>\n",
       "      <td>340.0</td>\n",
       "      <td>57.0</td>\n",
       "      <td>0.044912</td>\n",
       "      <td>0.056832</td>\n",
       "      <td>0.077100</td>\n",
       "      <td>0.169245</td>\n",
       "      <td>/21-12-031B/122/</td>\n",
       "      <td>NaN</td>\n",
       "      <td>NaN</td>\n",
       "    </tr>\n",
       "    <tr>\n",
       "      <th>3</th>\n",
       "      <td>124</td>\n",
       "      <td>114.599998</td>\n",
       "      <td>118.519295</td>\n",
       "      <td>109.703705</td>\n",
       "      <td>105.500000</td>\n",
       "      <td>403.166842</td>\n",
       "      <td>4.145976</td>\n",
       "      <td>102.428571</td>\n",
       "      <td>285.0</td>\n",
       "      <td>30.0</td>\n",
       "      <td>0.042341</td>\n",
       "      <td>0.059252</td>\n",
       "      <td>0.076709</td>\n",
       "      <td>0.169735</td>\n",
       "      <td>/21-12-031B/122/</td>\n",
       "      <td>NaN</td>\n",
       "      <td>NaN</td>\n",
       "    </tr>\n",
       "    <tr>\n",
       "      <th>4</th>\n",
       "      <td>127</td>\n",
       "      <td>119.634148</td>\n",
       "      <td>117.113205</td>\n",
       "      <td>114.170731</td>\n",
       "      <td>105.209877</td>\n",
       "      <td>550.818670</td>\n",
       "      <td>4.429239</td>\n",
       "      <td>76.142857</td>\n",
       "      <td>191.0</td>\n",
       "      <td>16.0</td>\n",
       "      <td>0.044201</td>\n",
       "      <td>0.058549</td>\n",
       "      <td>0.079833</td>\n",
       "      <td>0.169268</td>\n",
       "      <td>/21-12-031B/122/</td>\n",
       "      <td>NaN</td>\n",
       "      <td>NaN</td>\n",
       "    </tr>\n",
       "    <tr>\n",
       "      <th>...</th>\n",
       "      <td>...</td>\n",
       "      <td>...</td>\n",
       "      <td>...</td>\n",
       "      <td>...</td>\n",
       "      <td>...</td>\n",
       "      <td>...</td>\n",
       "      <td>...</td>\n",
       "      <td>...</td>\n",
       "      <td>...</td>\n",
       "      <td>...</td>\n",
       "      <td>...</td>\n",
       "      <td>...</td>\n",
       "      <td>...</td>\n",
       "      <td>...</td>\n",
       "      <td>...</td>\n",
       "      <td>...</td>\n",
       "      <td>...</td>\n",
       "    </tr>\n",
       "    <tr>\n",
       "      <th>23928</th>\n",
       "      <td>15799</td>\n",
       "      <td>165.460312</td>\n",
       "      <td>NaN</td>\n",
       "      <td>115.428574</td>\n",
       "      <td>106.079369</td>\n",
       "      <td>491.387566</td>\n",
       "      <td>5.630611</td>\n",
       "      <td>64.500000</td>\n",
       "      <td>109.0</td>\n",
       "      <td>30.0</td>\n",
       "      <td>0.023236</td>\n",
       "      <td>NaN</td>\n",
       "      <td>0.047282</td>\n",
       "      <td>0.197780</td>\n",
       "      <td>/21-12-028A/236/</td>\n",
       "      <td>117.566666</td>\n",
       "      <td>0.025609</td>\n",
       "    </tr>\n",
       "    <tr>\n",
       "      <th>23929</th>\n",
       "      <td>15758</td>\n",
       "      <td>157.000000</td>\n",
       "      <td>NaN</td>\n",
       "      <td>125.571426</td>\n",
       "      <td>107.428574</td>\n",
       "      <td>2296.981079</td>\n",
       "      <td>1127.231384</td>\n",
       "      <td>42.200000</td>\n",
       "      <td>79.0</td>\n",
       "      <td>3.0</td>\n",
       "      <td>0.022047</td>\n",
       "      <td>NaN</td>\n",
       "      <td>0.051436</td>\n",
       "      <td>0.200296</td>\n",
       "      <td>/21-12-028A/236/</td>\n",
       "      <td>136.000000</td>\n",
       "      <td>0.029624</td>\n",
       "    </tr>\n",
       "    <tr>\n",
       "      <th>23930</th>\n",
       "      <td>15778</td>\n",
       "      <td>136.170212</td>\n",
       "      <td>NaN</td>\n",
       "      <td>114.361702</td>\n",
       "      <td>105.340424</td>\n",
       "      <td>2298.694336</td>\n",
       "      <td>2294.278503</td>\n",
       "      <td>127.571429</td>\n",
       "      <td>257.0</td>\n",
       "      <td>47.0</td>\n",
       "      <td>0.019122</td>\n",
       "      <td>NaN</td>\n",
       "      <td>0.046845</td>\n",
       "      <td>0.196403</td>\n",
       "      <td>/21-12-028A/236/</td>\n",
       "      <td>115.456696</td>\n",
       "      <td>0.025150</td>\n",
       "    </tr>\n",
       "    <tr>\n",
       "      <th>23931</th>\n",
       "      <td>15747</td>\n",
       "      <td>183.272720</td>\n",
       "      <td>NaN</td>\n",
       "      <td>119.025970</td>\n",
       "      <td>104.431816</td>\n",
       "      <td>2298.739105</td>\n",
       "      <td>1526.459854</td>\n",
       "      <td>101.000000</td>\n",
       "      <td>182.0</td>\n",
       "      <td>44.0</td>\n",
       "      <td>0.025737</td>\n",
       "      <td>NaN</td>\n",
       "      <td>0.048755</td>\n",
       "      <td>0.194709</td>\n",
       "      <td>/21-12-028A/236/</td>\n",
       "      <td>132.204544</td>\n",
       "      <td>0.028798</td>\n",
       "    </tr>\n",
       "    <tr>\n",
       "      <th>23932</th>\n",
       "      <td>15762</td>\n",
       "      <td>174.041168</td>\n",
       "      <td>NaN</td>\n",
       "      <td>121.779663</td>\n",
       "      <td>106.580002</td>\n",
       "      <td>8.798428</td>\n",
       "      <td>1251.285812</td>\n",
       "      <td>155.600000</td>\n",
       "      <td>413.0</td>\n",
       "      <td>50.0</td>\n",
       "      <td>0.024441</td>\n",
       "      <td>NaN</td>\n",
       "      <td>0.049883</td>\n",
       "      <td>0.198714</td>\n",
       "      <td>/21-12-028A/236/</td>\n",
       "      <td>124.000000</td>\n",
       "      <td>0.027010</td>\n",
       "    </tr>\n",
       "  </tbody>\n",
       "</table>\n",
       "<p>23933 rows × 17 columns</p>\n",
       "</div>"
      ],
      "text/plain": [
       "       Cell ID  Max. int. DAPI  Max. int. SPC  Max. int. PDPN  Max. int. ZO1  \\\n",
       "0          119      118.659088     113.333336      109.893936     104.750000   \n",
       "1          121      117.154549     115.344261      108.770493     106.670105   \n",
       "2          122      121.556702     113.678162      110.263161     105.195404   \n",
       "3          124      114.599998     118.519295      109.703705     105.500000   \n",
       "4          127      119.634148     117.113205      114.170731     105.209877   \n",
       "...        ...             ...            ...             ...            ...   \n",
       "23928    15799      165.460312            NaN      115.428574     106.079369   \n",
       "23929    15758      157.000000            NaN      125.571426     107.428574   \n",
       "23930    15778      136.170212            NaN      114.361702     105.340424   \n",
       "23931    15747      183.272720            NaN      119.025970     104.431816   \n",
       "23932    15762      174.041168            NaN      121.779663     106.580002   \n",
       "\n",
       "         Average X    Average Y   Mean Area  Max. Area  Min. Area  \\\n",
       "0        37.302431     3.894554   85.750000      132.0       22.0   \n",
       "1       152.876973     4.681566  105.875000      202.0       29.0   \n",
       "2       117.112519     4.064373  138.200000      340.0       57.0   \n",
       "3       403.166842     4.145976  102.428571      285.0       30.0   \n",
       "4       550.818670     4.429239   76.142857      191.0       16.0   \n",
       "...            ...          ...         ...        ...        ...   \n",
       "23928   491.387566     5.630611   64.500000      109.0       30.0   \n",
       "23929  2296.981079  1127.231384   42.200000       79.0        3.0   \n",
       "23930  2298.694336  2294.278503  127.571429      257.0       47.0   \n",
       "23931  2298.739105  1526.459854  101.000000      182.0       44.0   \n",
       "23932     8.798428  1251.285812  155.600000      413.0       50.0   \n",
       "\n",
       "       Norm. Max. int. DAPI  Norm. Max. int. SPC  Norm. Max. int. PDPN  \\\n",
       "0                  0.043841             0.056660              0.076842   \n",
       "1                  0.043285             0.057665              0.076057   \n",
       "2                  0.044912             0.056832              0.077100   \n",
       "3                  0.042341             0.059252              0.076709   \n",
       "4                  0.044201             0.058549              0.079833   \n",
       "...                     ...                  ...                   ...   \n",
       "23928              0.023236                  NaN              0.047282   \n",
       "23929              0.022047                  NaN              0.051436   \n",
       "23930              0.019122                  NaN              0.046845   \n",
       "23931              0.025737                  NaN              0.048755   \n",
       "23932              0.024441                  NaN              0.049883   \n",
       "\n",
       "       Norm. Max. int. ZO1          Expt. ID  Max. int. NKX21  \\\n",
       "0                 0.168528  /21-12-031B/122/              NaN   \n",
       "1                 0.171617  /21-12-031B/122/              NaN   \n",
       "2                 0.169245  /21-12-031B/122/              NaN   \n",
       "3                 0.169735  /21-12-031B/122/              NaN   \n",
       "4                 0.169268  /21-12-031B/122/              NaN   \n",
       "...                    ...               ...              ...   \n",
       "23928             0.197780  /21-12-028A/236/       117.566666   \n",
       "23929             0.200296  /21-12-028A/236/       136.000000   \n",
       "23930             0.196403  /21-12-028A/236/       115.456696   \n",
       "23931             0.194709  /21-12-028A/236/       132.204544   \n",
       "23932             0.198714  /21-12-028A/236/       124.000000   \n",
       "\n",
       "       Norm. Max. int. NKX21  \n",
       "0                        NaN  \n",
       "1                        NaN  \n",
       "2                        NaN  \n",
       "3                        NaN  \n",
       "4                        NaN  \n",
       "...                      ...  \n",
       "23928               0.025609  \n",
       "23929               0.029624  \n",
       "23930               0.025150  \n",
       "23931               0.028798  \n",
       "23932               0.027010  \n",
       "\n",
       "[23933 rows x 17 columns]"
      ]
     },
     "execution_count": 22,
     "metadata": {},
     "output_type": "execute_result"
    }
   ],
   "source": [
    "dfs"
   ]
  },
  {
   "cell_type": "code",
   "execution_count": 23,
   "id": "1bb52eff",
   "metadata": {},
   "outputs": [
    {
     "data": {
      "text/plain": [
       "Text(0.5, 0, 'Maximum raw single-cell fluorescent intensity')"
      ]
     },
     "execution_count": 23,
     "metadata": {},
     "output_type": "execute_result"
    },
    {
     "data": {
      "image/png": "[encoded data removed]",
      "text/plain": [
       "<Figure size 1500x700 with 1 Axes>"
      ]
     },
     "metadata": {},
     "output_type": "display_data"
    }
   ],
   "source": [
    "sns.histplot((dfs['Max. int. NKX21'], dfs['Max. int. PDPN'], dfs['Max. int. SPC']))\n",
    "plt.title('Distribution of single-cell maximum pixel intensities from 4 different LoC monolayers')\n",
    "# plt.xlim(0,3500)\n",
    "plt.ylabel('Number of cells')\n",
    "plt.xlabel('Maximum raw single-cell fluorescent intensity')\n",
    "# plt.savefig('/home/dayn/data/lung_on_chip/single_cell_px_int/3_ch_sc_px_int.jpg', bbox_inches = 'tight', dpi = 314)"
   ]
  },
  {
   "cell_type": "code",
   "execution_count": 195,
   "id": "2ad4ac43",
   "metadata": {},
   "outputs": [
    {
     "data": {
      "image/png": "[encoded data removed]",
      "text/plain": [
       "<Figure size 1080x504 with 1 Axes>"
      ]
     },
     "metadata": {
      "needs_background": "light"
     },
     "output_type": "display_data"
    }
   ],
   "source": [
    "sns.histplot((dfs['Max. int. NKX21'], dfs['Max. int. PDPN'], dfs['Max. int. SPC']))\n",
    "plt.title('Distribution of single-cell maximum pixel intensities from 4 different LoC monolayers')\n",
    "plt.xlim(0,3500)\n",
    "plt.ylabel('Number of cells')\n",
    "plt.xlabel('Maximum raw single-cell fluorescent intensity')\n",
    "plt.savefig('/home/dayn/data/lung_on_chip/single_cell_px_int/3_ch_sc_px_int_cropped.jpg', bbox_inches = 'tight', dpi = 314)"
   ]
  },
  {
   "cell_type": "code",
   "execution_count": 24,
   "id": "0a0329d0",
   "metadata": {},
   "outputs": [
    {
     "data": {
      "text/plain": [
       "Text(0.5, 0, 'Maximum normalised single-cell fluorescent intensity')"
      ]
     },
     "execution_count": 24,
     "metadata": {},
     "output_type": "execute_result"
    },
    {
     "data": {
      "image/png": "[encoded data removed]",
      "text/plain": [
       "<Figure size 1500x700 with 1 Axes>"
      ]
     },
     "metadata": {},
     "output_type": "display_data"
    }
   ],
   "source": [
    "sns.histplot((dfs['Norm. Max. int. NKX21'], dfs['Norm. Max. int. PDPN'], dfs['Norm. Max. int. SPC']))\n",
    "plt.title('Distribution of single-cell maximum pixel intensities from 4 different LoC monolayers')\n",
    "# plt.xlim(0,3500)\n",
    "plt.ylabel('Number of cells')\n",
    "plt.xlabel('Maximum normalised single-cell fluorescent intensity')\n",
    "# plt.savefig('/home/dayn/data/lung_on_chip/single_cell_px_int/3_ch_sc_px_int_norm.jpg', bbox_inches = 'tight', dpi = 314)"
   ]
  },
  {
   "cell_type": "code",
   "execution_count": 25,
   "id": "92b5eb25",
   "metadata": {},
   "outputs": [
    {
     "data": {
      "text/plain": [
       "Text(0.5, 0, 'Maximum normalised single-cell fluorescent intensity')"
      ]
     },
     "execution_count": 25,
     "metadata": {},
     "output_type": "execute_result"
    },
    {
     "data": {
      "image/png": "[encoded data removed]",
      "text/plain": [
       "<Figure size 1500x700 with 1 Axes>"
      ]
     },
     "metadata": {},
     "output_type": "display_data"
    }
   ],
   "source": [
    "sns.histplot((dfs['Norm. Max. int. NKX21'], dfs['Norm. Max. int. PDPN'], dfs['Norm. Max. int. SPC']))\n",
    "plt.title('Distribution of single-cell maximum pixel intensities from 4 different LoC monolayers')\n",
    "plt.xlim(0,1)\n",
    "plt.ylabel('Number of cells')\n",
    "plt.xlabel('Maximum normalised single-cell fluorescent intensity')\n",
    "# plt.savefig('/home/dayn/data/lung_on_chip/single_cell_px_int/3_ch_sc_px_int_norm_cropped.jpg', bbox_inches = 'tight', dpi = 314)"
   ]
  },
  {
   "cell_type": "code",
   "execution_count": 200,
   "id": "bfa90bf9",
   "metadata": {},
   "outputs": [
    {
     "data": {
      "image/png": "[encoded data removed]",
      "text/plain": [
       "<Figure size 1080x504 with 1 Axes>"
      ]
     },
     "metadata": {
      "needs_background": "light"
     },
     "output_type": "display_data"
    }
   ],
   "source": [
    "for channel in ['SPC', 'NKX21', 'PDPN']:\n",
    "    sns.histplot((dfs[f'Max. int. {channel}']))\n",
    "    plt.title(f'Distribution of single-cell maximum {channel} pixel intensities from 4 different LoC monolayers')\n",
    "    # plt.xlim(0,3500)\n",
    "    plt.ylabel('Number of cells')\n",
    "    plt.xlabel(f'Maximum raw single-cell {channel} fluorescent intensity')\n",
    "    plt.savefig(f'/home/dayn/data/lung_on_chip/single_cell_px_int/{channel}_sc_px_int.jpg', bbox_inches = 'tight', dpi = 314)\n",
    "    plt.clf()\n",
    "    ### next fig\n",
    "    sns.histplot((dfs[f'Max. int. {channel}']))\n",
    "    plt.title(f'Distribution of single-cell maximum {channel} pixel intensities from 4 different LoC monolayers')\n",
    "    plt.xlim(0,3500)\n",
    "    plt.ylabel('Number of cells')\n",
    "    plt.xlabel(f'Maximum raw single-cell {channel} fluorescent intensity')\n",
    "    plt.savefig(f'/home/dayn/data/lung_on_chip/single_cell_px_int/{channel}_sc_px_int_cropped.jpg', bbox_inches = 'tight', dpi = 314)\n",
    "    plt.clf()\n",
    "    ### next fig\n",
    "    sns.histplot((dfs[f'Norm. Max. int. {channel}']))\n",
    "    plt.title(f'Distribution of single-cell maximum {channel} pixel intensities from 4 different LoC monolayers')\n",
    "    plt.ylabel('Number of cells')\n",
    "    plt.xlabel(f'Maximum normalised single-cell {channel} fluorescent intensity')\n",
    "    plt.savefig(f'/home/dayn/data/lung_on_chip/single_cell_px_int/{channel}_sc_px_int_norm.jpg', bbox_inches = 'tight', dpi = 314)\n",
    "    plt.clf()    \n",
    "    ### next fig\n",
    "    sns.histplot((dfs[f'Norm. Max. int. {channel}']))\n",
    "    plt.title(f'Distribution of single-cell maximum {channel} pixel intensities from 4 different LoC monolayers')\n",
    "    plt.xlim(0,1)\n",
    "    plt.ylabel('Number of cells')\n",
    "    plt.xlabel(f'Maximum normalised {channel} single-cell fluorescent intensity')\n",
    "    plt.savefig(f'/home/dayn/data/lung_on_chip/single_cell_px_int/{channel}_sc_px_int_norm_cropped.jpg', bbox_inches = 'tight', dpi = 314)"
   ]
  },
  {
   "cell_type": "markdown",
   "id": "756a43c0",
   "metadata": {},
   "source": [
    "###   Separating the experiment for PDPN\n"
   ]
  },
  {
   "cell_type": "code",
   "execution_count": 30,
   "id": "8722b316",
   "metadata": {},
   "outputs": [],
   "source": [
    "expt_IDS = set([ID for ID in dfs['Expt. ID']])"
   ]
  },
  {
   "cell_type": "code",
   "execution_count": 31,
   "id": "e28fe806",
   "metadata": {},
   "outputs": [
    {
     "data": {
      "text/plain": [
       "{'/21-12-028A/236/',\n",
       " '/21-12-028A/245/',\n",
       " '/21-12-031B/113/',\n",
       " '/21-12-031B/122/'}"
      ]
     },
     "execution_count": 31,
     "metadata": {},
     "output_type": "execute_result"
    }
   ],
   "source": [
    "expt_IDS"
   ]
  },
  {
   "cell_type": "code",
   "execution_count": 228,
   "id": "3920dfc7",
   "metadata": {},
   "outputs": [
    {
     "data": {
      "image/png": "[encoded data removed]",
      "text/plain": [
       "<Figure size 1080x504 with 1 Axes>"
      ]
     },
     "metadata": {
      "needs_background": "light"
     },
     "output_type": "display_data"
    }
   ],
   "source": [
    "sns.histplot(dfs[dfs['Expt. ID'] == '/21-12-028A/245/']['Norm. Max. int. SPC'], color='#d01c8b', legend=True, label = 'Expt. ID: /21-12-028A/245/')\n",
    "sns.histplot(dfs[dfs['Expt. ID'] == '/21-12-031B/122/']['Norm. Max. int. SPC'], color='#4dac26', legend= True, label = 'Expt. ID: /21-12-031B/122/')\n",
    "plt.xlim(0,1)\n",
    "plt.legend()\n",
    "plt.ylabel('Number of cells')\n",
    "\n",
    "plt.title('SPC distribution per experiment')\n",
    "plt.savefig(f'/home/dayn/data/lung_on_chip/single_cell_px_int/SPC_per_expt_sc_px_int_norm_cropped.jpg', bbox_inches = 'tight', dpi = 314)\n"
   ]
  },
  {
   "cell_type": "code",
   "execution_count": 227,
   "id": "2017ab90",
   "metadata": {},
   "outputs": [
    {
     "data": {
      "image/png": "[encoded data removed]",
      "text/plain": [
       "<Figure size 1080x504 with 1 Axes>"
      ]
     },
     "metadata": {
      "needs_background": "light"
     },
     "output_type": "display_data"
    }
   ],
   "source": [
    "sns.histplot(dfs[dfs['Expt. ID'] == '/21-12-028A/236/']['Norm. Max. int. NKX21'], color='#d01c8b', legend=True, label = 'Expt. ID: /21-12-028A/236/')\n",
    "sns.histplot(dfs[dfs['Expt. ID'] == '/21-12-031B/113/']['Norm. Max. int. NKX21'], color='#4dac26', legend= True, label = 'Expt. ID: /21-12-031B/113/')\n",
    "plt.xlim(0,1)\n",
    "plt.legend()\n",
    "plt.ylabel('Number of cells')\n",
    "plt.title('NKX21 distribution per experiment')\n",
    "plt.savefig(f'/home/dayn/data/lung_on_chip/single_cell_px_int/NKX21_per_expt_sc_px_int_norm_cropped.jpg', bbox_inches = 'tight', dpi = 314)"
   ]
  },
  {
   "cell_type": "code",
   "execution_count": 229,
   "id": "ffd71307",
   "metadata": {},
   "outputs": [
    {
     "data": {
      "image/png": "[encoded data removed]",
      "text/plain": [
       "<Figure size 1080x504 with 1 Axes>"
      ]
     },
     "metadata": {
      "needs_background": "light"
     },
     "output_type": "display_data"
    }
   ],
   "source": [
    "sns.histplot(dfs[dfs['Expt. ID'] == '/21-12-028A/245/']['Norm. Max. int. PDPN'], color='#d01c8b', legend=True, label = 'Expt. ID: /21-12-028A/245/')\n",
    "sns.histplot(dfs[dfs['Expt. ID'] == '/21-12-031B/122/']['Norm. Max. int. PDPN'], color='#f1b6da', legend= True, label = 'Expt. ID: /21-12-031B/122/')\n",
    "sns.histplot(dfs[dfs['Expt. ID'] == '/21-12-028A/236/']['Norm. Max. int. PDPN'], color='#b8e186', legend=True, label = 'Expt. ID: /21-12-028A/236/')\n",
    "sns.histplot(dfs[dfs['Expt. ID'] == '/21-12-031B/113/']['Norm. Max. int. PDPN'], color='#4dac26', legend= True, label = 'Expt. ID: /21-12-031B/113/')\n",
    "\n",
    "plt.xlim(0,1)\n",
    "plt.legend()\n",
    "plt.ylabel('Number of cells')\n",
    "plt.title('PDPN distribution per experiment')\n",
    "plt.savefig(f'/home/dayn/data/lung_on_chip/single_cell_px_int/PDPN_per_expt_sc_px_int_norm_cropped.jpg', bbox_inches = 'tight', dpi = 314)"
   ]
  },
  {
   "cell_type": "code",
   "execution_count": 251,
   "id": "b9483d03",
   "metadata": {},
   "outputs": [
    {
     "data": {
      "image/png": "[encoded data removed]",
      "text/plain": [
       "<Figure size 1080x504 with 1 Axes>"
      ]
     },
     "metadata": {
      "needs_background": "light"
     },
     "output_type": "display_data"
    }
   ],
   "source": [
    "sns.histplot(dfs[dfs['Expt. ID'] == '/21-12-028A/245/']['Max. int. PDPN'], color='#d01c8b', legend=True, label = 'Expt. ID: /21-12-028A/245/')\n",
    "sns.histplot(dfs[dfs['Expt. ID'] == '/21-12-031B/122/']['Max. int. PDPN'], color='#f1b6da', legend= True, label = 'Expt. ID: /21-12-031B/122/')\n",
    "sns.histplot(dfs[dfs['Expt. ID'] == '/21-12-028A/236/']['Max. int. PDPN'], color='#b8e186', legend=True, label = 'Expt. ID: /21-12-028A/236/')\n",
    "sns.histplot(dfs[dfs['Expt. ID'] == '/21-12-031B/113/']['Max. int. PDPN'], color='#4dac26', legend= True, label = 'Expt. ID: /21-12-031B/113/')\n",
    "\n",
    "# plt.xlim(0,1)\n",
    "plt.legend()\n",
    "plt.ylabel('Number of cells')\n",
    "plt.title('PDPN distribution per experiment')\n",
    "plt.savefig(f'/home/dayn/data/lung_on_chip/single_cell_px_int/PDPN_per_expt_sc_px_int.jpg', bbox_inches = 'tight', dpi = 314)"
   ]
  },
  {
   "cell_type": "code",
   "execution_count": 252,
   "id": "2240d177",
   "metadata": {},
   "outputs": [
    {
     "data": {
      "image/png": "[encoded data removed]",
      "text/plain": [
       "<Figure size 1080x504 with 1 Axes>"
      ]
     },
     "metadata": {
      "needs_background": "light"
     },
     "output_type": "display_data"
    }
   ],
   "source": [
    "sns.histplot(dfs[dfs['Expt. ID'] == '/21-12-028A/245/']['Max. int. PDPN'], color='#d01c8b', legend=True, label = 'Expt. ID: /21-12-028A/245/')\n",
    "sns.histplot(dfs[dfs['Expt. ID'] == '/21-12-031B/122/']['Max. int. PDPN'], color='#f1b6da', legend= True, label = 'Expt. ID: /21-12-031B/122/')\n",
    "sns.histplot(dfs[dfs['Expt. ID'] == '/21-12-028A/236/']['Max. int. PDPN'], color='#b8e186', legend=True, label = 'Expt. ID: /21-12-028A/236/')\n",
    "sns.histplot(dfs[dfs['Expt. ID'] == '/21-12-031B/113/']['Max. int. PDPN'], color='#4dac26', legend= True, label = 'Expt. ID: /21-12-031B/113/')\n",
    "\n",
    "plt.xlim(0,2000)\n",
    "plt.legend()\n",
    "plt.ylabel('Number of cells')\n",
    "plt.title('PDPN distribution per experiment')\n",
    "plt.savefig(f'/home/dayn/data/lung_on_chip/single_cell_px_int/PDPN_per_expt_sc_px_int_cropped.jpg', bbox_inches = 'tight', dpi = 314)"
   ]
  },
  {
   "cell_type": "markdown",
   "id": "fe359dd3",
   "metadata": {},
   "source": [
    "# Applying threshold (from separate notebook)\n",
    "\n"
   ]
  },
  {
   "cell_type": "code",
   "execution_count": 27,
   "id": "58fbae33",
   "metadata": {},
   "outputs": [],
   "source": [
    "spc_thresh = 750\n",
    "pdpn_thresh = 800\n",
    "nkx21_thresh = 300\n",
    "\n",
    "thresh_dict = {'spc':750, \n",
    "              'pdpn':800, \n",
    "              'nkx21':300}"
   ]
  },
  {
   "cell_type": "markdown",
   "id": "8a824bcd",
   "metadata": {},
   "source": [
    "## Plotting threshold on plots"
   ]
  },
  {
   "cell_type": "code",
   "execution_count": 28,
   "id": "27c3590b",
   "metadata": {},
   "outputs": [
    {
     "data": {
      "image/png": "[encoded data removed]",
      "text/plain": [
       "<Figure size 1500x700 with 1 Axes>"
      ]
     },
     "metadata": {},
     "output_type": "display_data"
    }
   ],
   "source": [
    "for channel in ['SPC', 'NKX21', 'PDPN']:\n",
    "#     sns.histplot((dfs[f'Max. int. {channel}']))\n",
    "#     plt.title(f'Distribution of single-cell maximum {channel} pixel intensities from 4 different LoC monolayers')\n",
    "#     # plt.xlim(0,3500)\n",
    "#     plt.ylabel('Number of cells')\n",
    "#     plt.xlabel(f'Maximum raw single-cell {channel} fluorescent intensity')\n",
    "#     plt.vlines(thresh_dict[f'{channel.lower()}'], plt.ylim()[0], plt.ylim()[1], colors='red', linestyles='dashed')\n",
    "#     plt.savefig(f'/home/dayn/data/lung_on_chip/single_cell_px_int/{channel}_thresh_sc_px_int.jpg', bbox_inches = 'tight', dpi = 314)\n",
    "#     plt.clf()\n",
    "    ### next fig\n",
    "    sns.histplot((dfs[f'Max. int. {channel}']))\n",
    "    plt.title(f'Distribution of single-cell maximum {channel} pixel intensities from 4 different LoC monolayers')\n",
    "    plt.xlim(0,3500)\n",
    "    plt.ylabel('Number of cells')\n",
    "    plt.vlines(thresh_dict[f'{channel.lower()}'], plt.ylim()[0], plt.ylim()[1], colors='red', linestyles='dashed')\n",
    "    plt.xlabel(f'Maximum raw single-cell {channel} fluorescent intensity')\n",
    "#     plt.savefig(f'/home/dayn/data/lung_on_chip/single_cell_px_int/{channel}_thresh_sc_px_int_cropped.jpg', bbox_inches = 'tight', dpi = 314)\n",
    "#     plt.clf()\n",
    "    break"
   ]
  },
  {
   "cell_type": "code",
   "execution_count": 32,
   "id": "9fcaa410",
   "metadata": {},
   "outputs": [
    {
     "data": {
      "text/plain": [
       "{'/21-12-028A/236/',\n",
       " '/21-12-028A/245/',\n",
       " '/21-12-031B/113/',\n",
       " '/21-12-031B/122/'}"
      ]
     },
     "execution_count": 32,
     "metadata": {},
     "output_type": "execute_result"
    }
   ],
   "source": [
    "expt_IDS"
   ]
  },
  {
   "cell_type": "code",
   "execution_count": 33,
   "id": "43190380",
   "metadata": {},
   "outputs": [],
   "source": [
    "df_113 = dfs[dfs['Expt. ID'] == '/21-12-031B/113/']\n",
    "\n",
    "df_122 = dfs[dfs['Expt. ID'] == '/21-12-031B/122/']\n",
    "\n",
    "df_236 = dfs[dfs['Expt. ID'] == '/21-12-028A/236/']\n",
    "\n",
    "df_245 = dfs[dfs['Expt. ID'] == '/21-12-028A/245/']"
   ]
  },
  {
   "cell_type": "code",
   "execution_count": 37,
   "id": "07508393",
   "metadata": {},
   "outputs": [],
   "source": [
    "import warnings\n",
    "warnings.filterwarnings(\"ignore\")\n"
   ]
  },
  {
   "cell_type": "code",
   "execution_count": 290,
   "id": "629e5948",
   "metadata": {},
   "outputs": [
    {
     "name": "stdout",
     "output_type": "stream",
     "text": [
      "Number of positive vs. negative SPC cells in expt 245: 6153 , 546\n"
     ]
    }
   ],
   "source": [
    "print('Number of positive vs. negative SPC cells in expt 245:', len(df_245[dfs['Max. int. SPC'] > spc_thresh]), ',', len(df_245[dfs['Max. int. SPC'] < spc_thresh]))"
   ]
  },
  {
   "cell_type": "code",
   "execution_count": 35,
   "id": "77020b82",
   "metadata": {},
   "outputs": [
    {
     "name": "stdout",
     "output_type": "stream",
     "text": [
      "Number of positive vs. negative SPC cells in expt 122: 3700 , 2444\n"
     ]
    },
    {
     "name": "stderr",
     "output_type": "stream",
     "text": [
      "/tmp/ipykernel_681427/3252028802.py:1: UserWarning: Boolean Series key will be reindexed to match DataFrame index.\n",
      "  print('Number of positive vs. negative SPC cells in expt 122:', len(df_122[dfs['Max. int. SPC'] > spc_thresh]), ',', len(df_122[dfs['Max. int. SPC'] < spc_thresh]))\n"
     ]
    }
   ],
   "source": [
    "print('Number of positive vs. negative SPC cells in expt 122:', len(df_122[dfs['Max. int. SPC'] > spc_thresh]), ',', len(df_122[dfs['Max. int. SPC'] < spc_thresh]))"
   ]
  },
  {
   "cell_type": "code",
   "execution_count": 36,
   "id": "62c07eb9",
   "metadata": {},
   "outputs": [
    {
     "name": "stdout",
     "output_type": "stream",
     "text": [
      "Number of positive vs. negative NKX21 cells in expt 113: 4078 , 1433\n"
     ]
    },
    {
     "name": "stderr",
     "output_type": "stream",
     "text": [
      "/tmp/ipykernel_681427/1436370750.py:1: UserWarning: Boolean Series key will be reindexed to match DataFrame index.\n",
      "  print('Number of positive vs. negative NKX21 cells in expt 113:', len(df_113[dfs['Max. int. NKX21'] > nkx21_thresh]), ',', len(df_113[dfs['Max. int. NKX21'] < nkx21_thresh]))\n"
     ]
    }
   ],
   "source": [
    "print('Number of positive vs. negative NKX21 cells in expt 113:', len(df_113[dfs['Max. int. NKX21'] > nkx21_thresh]), ',', len(df_113[dfs['Max. int. NKX21'] < nkx21_thresh]))"
   ]
  },
  {
   "cell_type": "code",
   "execution_count": 38,
   "id": "beb4976b",
   "metadata": {
    "scrolled": true
   },
   "outputs": [
    {
     "name": "stdout",
     "output_type": "stream",
     "text": [
      "Number of positive vs. negative NKX21 cells in expt 236: 4636 , 942\n"
     ]
    }
   ],
   "source": [
    "print('Number of positive vs. negative NKX21 cells in expt 236:', len(df_236[dfs['Max. int. NKX21'] > nkx21_thresh]), ',', len(df_236[dfs['Max. int. NKX21'] < nkx21_thresh]))"
   ]
  },
  {
   "cell_type": "code",
   "execution_count": 39,
   "id": "12e56b7f",
   "metadata": {},
   "outputs": [
    {
     "name": "stdout",
     "output_type": "stream",
     "text": [
      "Number of positive vs. negative PDPN cells in expt 245: 3131 , 3568\n",
      "Number of positive vs. negative PDPN cells in expt 122: 350 , 5795\n",
      "Number of positive vs. negative PDPN cells in expt 113: 1523 , 3988\n",
      "Number of positive vs. negative PDPN cells in expt 236: 2031 , 3547\n"
     ]
    }
   ],
   "source": [
    "print('Number of positive vs. negative PDPN cells in expt 245:', len(df_245[dfs['Max. int. PDPN'] > pdpn_thresh]), ',', len(df_245[dfs['Max. int. PDPN'] < pdpn_thresh]))\n",
    "print('Number of positive vs. negative PDPN cells in expt 122:', len(df_122[dfs['Max. int. PDPN'] > pdpn_thresh]), ',', len(df_122[dfs['Max. int. PDPN'] < pdpn_thresh]))\n",
    "print('Number of positive vs. negative PDPN cells in expt 113:', len(df_113[dfs['Max. int. PDPN'] > pdpn_thresh]), ',', len(df_113[dfs['Max. int. PDPN'] < pdpn_thresh]))\n",
    "print('Number of positive vs. negative PDPN cells in expt 236:', len(df_236[dfs['Max. int. PDPN'] > pdpn_thresh]), ',', len(df_236[dfs['Max. int. PDPN'] < pdpn_thresh]))"
   ]
  },
  {
   "cell_type": "code",
   "execution_count": 296,
   "id": "877b3730",
   "metadata": {},
   "outputs": [
    {
     "data": {
      "text/html": [
       "<div>\n",
       "<style scoped>\n",
       "    .dataframe tbody tr th:only-of-type {\n",
       "        vertical-align: middle;\n",
       "    }\n",
       "\n",
       "    .dataframe tbody tr th {\n",
       "        vertical-align: top;\n",
       "    }\n",
       "\n",
       "    .dataframe thead th {\n",
       "        text-align: right;\n",
       "    }\n",
       "</style>\n",
       "<table border=\"1\" class=\"dataframe\">\n",
       "  <thead>\n",
       "    <tr style=\"text-align: right;\">\n",
       "      <th></th>\n",
       "      <th>Cell ID</th>\n",
       "      <th>Max. int. DAPI</th>\n",
       "      <th>Max. int. SPC</th>\n",
       "      <th>Max. int. PDPN</th>\n",
       "      <th>Max. int. ZO1</th>\n",
       "      <th>Average X</th>\n",
       "      <th>Average Y</th>\n",
       "      <th>Mean Area</th>\n",
       "      <th>Max. Area</th>\n",
       "      <th>Min. Area</th>\n",
       "      <th>Norm. Max. int. DAPI</th>\n",
       "      <th>Norm. Max. int. SPC</th>\n",
       "      <th>Norm. Max. int. PDPN</th>\n",
       "      <th>Norm. Max. int. ZO1</th>\n",
       "      <th>Expt. ID</th>\n",
       "      <th>Max. int. NKX21</th>\n",
       "      <th>Norm. Max. int. NKX21</th>\n",
       "    </tr>\n",
       "  </thead>\n",
       "  <tbody>\n",
       "    <tr>\n",
       "      <th>0</th>\n",
       "      <td>95</td>\n",
       "      <td>145.467102</td>\n",
       "      <td>123.779411</td>\n",
       "      <td>114.303032</td>\n",
       "      <td>102.643936</td>\n",
       "      <td>215.927629</td>\n",
       "      <td>5.392745</td>\n",
       "      <td>107.142857</td>\n",
       "      <td>304.0</td>\n",
       "      <td>33.0</td>\n",
       "      <td>0.015224</td>\n",
       "      <td>0.024830</td>\n",
       "      <td>0.045434</td>\n",
       "      <td>0.226712</td>\n",
       "      <td>/21-12-028A/245/</td>\n",
       "      <td>NaN</td>\n",
       "      <td>NaN</td>\n",
       "    </tr>\n",
       "    <tr>\n",
       "      <th>1</th>\n",
       "      <td>96</td>\n",
       "      <td>163.291672</td>\n",
       "      <td>132.375000</td>\n",
       "      <td>129.500000</td>\n",
       "      <td>104.395836</td>\n",
       "      <td>358.156282</td>\n",
       "      <td>4.258818</td>\n",
       "      <td>80.222222</td>\n",
       "      <td>185.0</td>\n",
       "      <td>24.0</td>\n",
       "      <td>0.017090</td>\n",
       "      <td>0.026555</td>\n",
       "      <td>0.051474</td>\n",
       "      <td>0.230582</td>\n",
       "      <td>/21-12-028A/245/</td>\n",
       "      <td>NaN</td>\n",
       "      <td>NaN</td>\n",
       "    </tr>\n",
       "    <tr>\n",
       "      <th>2</th>\n",
       "      <td>98</td>\n",
       "      <td>175.750000</td>\n",
       "      <td>141.916672</td>\n",
       "      <td>121.722221</td>\n",
       "      <td>105.320755</td>\n",
       "      <td>541.501545</td>\n",
       "      <td>4.414730</td>\n",
       "      <td>91.571429</td>\n",
       "      <td>218.0</td>\n",
       "      <td>36.0</td>\n",
       "      <td>0.018394</td>\n",
       "      <td>0.028469</td>\n",
       "      <td>0.048383</td>\n",
       "      <td>0.232625</td>\n",
       "      <td>/21-12-028A/245/</td>\n",
       "      <td>NaN</td>\n",
       "      <td>NaN</td>\n",
       "    </tr>\n",
       "    <tr>\n",
       "      <th>3</th>\n",
       "      <td>99</td>\n",
       "      <td>199.744675</td>\n",
       "      <td>139.225800</td>\n",
       "      <td>121.384003</td>\n",
       "      <td>105.361702</td>\n",
       "      <td>650.481270</td>\n",
       "      <td>4.308578</td>\n",
       "      <td>117.833333</td>\n",
       "      <td>163.0</td>\n",
       "      <td>47.0</td>\n",
       "      <td>0.020905</td>\n",
       "      <td>0.027929</td>\n",
       "      <td>0.048248</td>\n",
       "      <td>0.232715</td>\n",
       "      <td>/21-12-028A/245/</td>\n",
       "      <td>NaN</td>\n",
       "      <td>NaN</td>\n",
       "    </tr>\n",
       "    <tr>\n",
       "      <th>4</th>\n",
       "      <td>91</td>\n",
       "      <td>151.650787</td>\n",
       "      <td>133.030304</td>\n",
       "      <td>118.559998</td>\n",
       "      <td>102.682541</td>\n",
       "      <td>808.260254</td>\n",
       "      <td>3.822307</td>\n",
       "      <td>40.333333</td>\n",
       "      <td>63.0</td>\n",
       "      <td>25.0</td>\n",
       "      <td>0.015872</td>\n",
       "      <td>0.026686</td>\n",
       "      <td>0.047126</td>\n",
       "      <td>0.226797</td>\n",
       "      <td>/21-12-028A/245/</td>\n",
       "      <td>NaN</td>\n",
       "      <td>NaN</td>\n",
       "    </tr>\n",
       "    <tr>\n",
       "      <th>...</th>\n",
       "      <td>...</td>\n",
       "      <td>...</td>\n",
       "      <td>...</td>\n",
       "      <td>...</td>\n",
       "      <td>...</td>\n",
       "      <td>...</td>\n",
       "      <td>...</td>\n",
       "      <td>...</td>\n",
       "      <td>...</td>\n",
       "      <td>...</td>\n",
       "      <td>...</td>\n",
       "      <td>...</td>\n",
       "      <td>...</td>\n",
       "      <td>...</td>\n",
       "      <td>...</td>\n",
       "      <td>...</td>\n",
       "      <td>...</td>\n",
       "    </tr>\n",
       "    <tr>\n",
       "      <th>6694</th>\n",
       "      <td>13118</td>\n",
       "      <td>181.651520</td>\n",
       "      <td>141.493149</td>\n",
       "      <td>124.727272</td>\n",
       "      <td>105.318184</td>\n",
       "      <td>2297.121094</td>\n",
       "      <td>655.070297</td>\n",
       "      <td>61.000000</td>\n",
       "      <td>94.0</td>\n",
       "      <td>11.0</td>\n",
       "      <td>0.019011</td>\n",
       "      <td>0.028384</td>\n",
       "      <td>0.049577</td>\n",
       "      <td>0.232619</td>\n",
       "      <td>/21-12-028A/245/</td>\n",
       "      <td>NaN</td>\n",
       "      <td>NaN</td>\n",
       "    </tr>\n",
       "    <tr>\n",
       "      <th>6695</th>\n",
       "      <td>13123</td>\n",
       "      <td>180.404755</td>\n",
       "      <td>154.173920</td>\n",
       "      <td>128.217392</td>\n",
       "      <td>109.826088</td>\n",
       "      <td>6.599790</td>\n",
       "      <td>921.880730</td>\n",
       "      <td>55.666667</td>\n",
       "      <td>102.0</td>\n",
       "      <td>23.0</td>\n",
       "      <td>0.018881</td>\n",
       "      <td>0.030928</td>\n",
       "      <td>0.050964</td>\n",
       "      <td>0.242576</td>\n",
       "      <td>/21-12-028A/245/</td>\n",
       "      <td>NaN</td>\n",
       "      <td>NaN</td>\n",
       "    </tr>\n",
       "    <tr>\n",
       "      <th>6696</th>\n",
       "      <td>13072</td>\n",
       "      <td>189.975616</td>\n",
       "      <td>159.690216</td>\n",
       "      <td>130.829269</td>\n",
       "      <td>108.560974</td>\n",
       "      <td>4.368395</td>\n",
       "      <td>1347.136932</td>\n",
       "      <td>83.000000</td>\n",
       "      <td>184.0</td>\n",
       "      <td>34.0</td>\n",
       "      <td>0.019883</td>\n",
       "      <td>0.032034</td>\n",
       "      <td>0.052003</td>\n",
       "      <td>0.239781</td>\n",
       "      <td>/21-12-028A/245/</td>\n",
       "      <td>NaN</td>\n",
       "      <td>NaN</td>\n",
       "    </tr>\n",
       "    <tr>\n",
       "      <th>6697</th>\n",
       "      <td>13081</td>\n",
       "      <td>178.666672</td>\n",
       "      <td>145.000000</td>\n",
       "      <td>122.754097</td>\n",
       "      <td>105.245903</td>\n",
       "      <td>2296.673859</td>\n",
       "      <td>1365.022003</td>\n",
       "      <td>63.000000</td>\n",
       "      <td>165.0</td>\n",
       "      <td>3.0</td>\n",
       "      <td>0.018699</td>\n",
       "      <td>0.029087</td>\n",
       "      <td>0.048793</td>\n",
       "      <td>0.232459</td>\n",
       "      <td>/21-12-028A/245/</td>\n",
       "      <td>NaN</td>\n",
       "      <td>NaN</td>\n",
       "    </tr>\n",
       "    <tr>\n",
       "      <th>6698</th>\n",
       "      <td>13094</td>\n",
       "      <td>141.112778</td>\n",
       "      <td>123.097748</td>\n",
       "      <td>111.450821</td>\n",
       "      <td>104.937500</td>\n",
       "      <td>26.302099</td>\n",
       "      <td>2294.222809</td>\n",
       "      <td>106.333333</td>\n",
       "      <td>133.0</td>\n",
       "      <td>64.0</td>\n",
       "      <td>0.014769</td>\n",
       "      <td>0.024694</td>\n",
       "      <td>0.044300</td>\n",
       "      <td>0.231778</td>\n",
       "      <td>/21-12-028A/245/</td>\n",
       "      <td>NaN</td>\n",
       "      <td>NaN</td>\n",
       "    </tr>\n",
       "  </tbody>\n",
       "</table>\n",
       "<p>6699 rows × 17 columns</p>\n",
       "</div>"
      ],
      "text/plain": [
       "      Cell ID  Max. int. DAPI  Max. int. SPC  Max. int. PDPN  Max. int. ZO1  \\\n",
       "0          95      145.467102     123.779411      114.303032     102.643936   \n",
       "1          96      163.291672     132.375000      129.500000     104.395836   \n",
       "2          98      175.750000     141.916672      121.722221     105.320755   \n",
       "3          99      199.744675     139.225800      121.384003     105.361702   \n",
       "4          91      151.650787     133.030304      118.559998     102.682541   \n",
       "...       ...             ...            ...             ...            ...   \n",
       "6694    13118      181.651520     141.493149      124.727272     105.318184   \n",
       "6695    13123      180.404755     154.173920      128.217392     109.826088   \n",
       "6696    13072      189.975616     159.690216      130.829269     108.560974   \n",
       "6697    13081      178.666672     145.000000      122.754097     105.245903   \n",
       "6698    13094      141.112778     123.097748      111.450821     104.937500   \n",
       "\n",
       "        Average X    Average Y   Mean Area  Max. Area  Min. Area  \\\n",
       "0      215.927629     5.392745  107.142857      304.0       33.0   \n",
       "1      358.156282     4.258818   80.222222      185.0       24.0   \n",
       "2      541.501545     4.414730   91.571429      218.0       36.0   \n",
       "3      650.481270     4.308578  117.833333      163.0       47.0   \n",
       "4      808.260254     3.822307   40.333333       63.0       25.0   \n",
       "...           ...          ...         ...        ...        ...   \n",
       "6694  2297.121094   655.070297   61.000000       94.0       11.0   \n",
       "6695     6.599790   921.880730   55.666667      102.0       23.0   \n",
       "6696     4.368395  1347.136932   83.000000      184.0       34.0   \n",
       "6697  2296.673859  1365.022003   63.000000      165.0        3.0   \n",
       "6698    26.302099  2294.222809  106.333333      133.0       64.0   \n",
       "\n",
       "      Norm. Max. int. DAPI  Norm. Max. int. SPC  Norm. Max. int. PDPN  \\\n",
       "0                 0.015224             0.024830              0.045434   \n",
       "1                 0.017090             0.026555              0.051474   \n",
       "2                 0.018394             0.028469              0.048383   \n",
       "3                 0.020905             0.027929              0.048248   \n",
       "4                 0.015872             0.026686              0.047126   \n",
       "...                    ...                  ...                   ...   \n",
       "6694              0.019011             0.028384              0.049577   \n",
       "6695              0.018881             0.030928              0.050964   \n",
       "6696              0.019883             0.032034              0.052003   \n",
       "6697              0.018699             0.029087              0.048793   \n",
       "6698              0.014769             0.024694              0.044300   \n",
       "\n",
       "      Norm. Max. int. ZO1          Expt. ID  Max. int. NKX21  \\\n",
       "0                0.226712  /21-12-028A/245/              NaN   \n",
       "1                0.230582  /21-12-028A/245/              NaN   \n",
       "2                0.232625  /21-12-028A/245/              NaN   \n",
       "3                0.232715  /21-12-028A/245/              NaN   \n",
       "4                0.226797  /21-12-028A/245/              NaN   \n",
       "...                   ...               ...              ...   \n",
       "6694             0.232619  /21-12-028A/245/              NaN   \n",
       "6695             0.242576  /21-12-028A/245/              NaN   \n",
       "6696             0.239781  /21-12-028A/245/              NaN   \n",
       "6697             0.232459  /21-12-028A/245/              NaN   \n",
       "6698             0.231778  /21-12-028A/245/              NaN   \n",
       "\n",
       "      Norm. Max. int. NKX21  \n",
       "0                       NaN  \n",
       "1                       NaN  \n",
       "2                       NaN  \n",
       "3                       NaN  \n",
       "4                       NaN  \n",
       "...                     ...  \n",
       "6694                    NaN  \n",
       "6695                    NaN  \n",
       "6696                    NaN  \n",
       "6697                    NaN  \n",
       "6698                    NaN  \n",
       "\n",
       "[6699 rows x 17 columns]"
      ]
     },
     "execution_count": 296,
     "metadata": {},
     "output_type": "execute_result"
    }
   ],
   "source": [
    "df_245"
   ]
  },
  {
   "cell_type": "code",
   "execution_count": 40,
   "id": "43a385a6",
   "metadata": {},
   "outputs": [],
   "source": [
    "expt_df_dict = {'df_245': df_245, \n",
    "               'df_122':df_122, \n",
    "               'df_113': df_113, \n",
    "               'df_236':df_236}"
   ]
  },
  {
   "cell_type": "code",
   "execution_count": 317,
   "id": "4b2010bb",
   "metadata": {},
   "outputs": [
    {
     "name": "stdout",
     "output_type": "stream",
     "text": [
      "df_245\n",
      "df_122\n",
      "df_113\n",
      "df_236\n"
     ]
    }
   ],
   "source": [
    "for i in expt_df_dict:\n",
    "    print(i)"
   ]
  },
  {
   "cell_type": "code",
   "execution_count": 336,
   "id": "1d25b702",
   "metadata": {},
   "outputs": [
    {
     "data": {
      "text/html": [
       "<div>\n",
       "<style scoped>\n",
       "    .dataframe tbody tr th:only-of-type {\n",
       "        vertical-align: middle;\n",
       "    }\n",
       "\n",
       "    .dataframe tbody tr th {\n",
       "        vertical-align: top;\n",
       "    }\n",
       "\n",
       "    .dataframe thead th {\n",
       "        text-align: right;\n",
       "    }\n",
       "</style>\n",
       "<table border=\"1\" class=\"dataframe\">\n",
       "  <thead>\n",
       "    <tr style=\"text-align: right;\">\n",
       "      <th></th>\n",
       "      <th>Cell ID</th>\n",
       "      <th>Max. int. DAPI</th>\n",
       "      <th>Max. int. SPC</th>\n",
       "      <th>Max. int. PDPN</th>\n",
       "      <th>Max. int. ZO1</th>\n",
       "      <th>Average X</th>\n",
       "      <th>Average Y</th>\n",
       "      <th>Mean Area</th>\n",
       "      <th>Max. Area</th>\n",
       "      <th>Min. Area</th>\n",
       "      <th>Norm. Max. int. DAPI</th>\n",
       "      <th>Norm. Max. int. SPC</th>\n",
       "      <th>Norm. Max. int. PDPN</th>\n",
       "      <th>Norm. Max. int. ZO1</th>\n",
       "      <th>Expt. ID</th>\n",
       "      <th>Max. int. NKX21</th>\n",
       "      <th>Norm. Max. int. NKX21</th>\n",
       "    </tr>\n",
       "  </thead>\n",
       "  <tbody>\n",
       "    <tr>\n",
       "      <th>6699</th>\n",
       "      <td>107</td>\n",
       "      <td>157.174759</td>\n",
       "      <td>NaN</td>\n",
       "      <td>118.351646</td>\n",
       "      <td>104.153847</td>\n",
       "      <td>387.210686</td>\n",
       "      <td>5.006570</td>\n",
       "      <td>115.666667</td>\n",
       "      <td>233.0</td>\n",
       "      <td>48.0</td>\n",
       "      <td>0.022072</td>\n",
       "      <td>NaN</td>\n",
       "      <td>0.048479</td>\n",
       "      <td>0.194190</td>\n",
       "      <td>/21-12-028A/236/</td>\n",
       "      <td>114.312500</td>\n",
       "      <td>0.024900</td>\n",
       "    </tr>\n",
       "    <tr>\n",
       "      <th>6700</th>\n",
       "      <td>100</td>\n",
       "      <td>159.750000</td>\n",
       "      <td>NaN</td>\n",
       "      <td>120.250000</td>\n",
       "      <td>104.271431</td>\n",
       "      <td>174.630783</td>\n",
       "      <td>7.153876</td>\n",
       "      <td>77.333333</td>\n",
       "      <td>251.0</td>\n",
       "      <td>8.0</td>\n",
       "      <td>0.022434</td>\n",
       "      <td>NaN</td>\n",
       "      <td>0.049257</td>\n",
       "      <td>0.194410</td>\n",
       "      <td>/21-12-028A/236/</td>\n",
       "      <td>114.500000</td>\n",
       "      <td>0.024941</td>\n",
       "    </tr>\n",
       "    <tr>\n",
       "      <th>6701</th>\n",
       "      <td>101</td>\n",
       "      <td>154.085709</td>\n",
       "      <td>NaN</td>\n",
       "      <td>117.238098</td>\n",
       "      <td>103.465279</td>\n",
       "      <td>198.845585</td>\n",
       "      <td>5.604357</td>\n",
       "      <td>141.714286</td>\n",
       "      <td>360.0</td>\n",
       "      <td>45.0</td>\n",
       "      <td>0.021638</td>\n",
       "      <td>NaN</td>\n",
       "      <td>0.048023</td>\n",
       "      <td>0.192906</td>\n",
       "      <td>/21-12-028A/236/</td>\n",
       "      <td>117.284721</td>\n",
       "      <td>0.025548</td>\n",
       "    </tr>\n",
       "    <tr>\n",
       "      <th>6702</th>\n",
       "      <td>103</td>\n",
       "      <td>146.048782</td>\n",
       "      <td>NaN</td>\n",
       "      <td>115.447762</td>\n",
       "      <td>103.987503</td>\n",
       "      <td>168.951102</td>\n",
       "      <td>3.815936</td>\n",
       "      <td>78.000000</td>\n",
       "      <td>147.0</td>\n",
       "      <td>36.0</td>\n",
       "      <td>0.020510</td>\n",
       "      <td>NaN</td>\n",
       "      <td>0.047289</td>\n",
       "      <td>0.193880</td>\n",
       "      <td>/21-12-028A/236/</td>\n",
       "      <td>112.237503</td>\n",
       "      <td>0.024448</td>\n",
       "    </tr>\n",
       "    <tr>\n",
       "      <th>6703</th>\n",
       "      <td>105</td>\n",
       "      <td>163.500000</td>\n",
       "      <td>NaN</td>\n",
       "      <td>122.851852</td>\n",
       "      <td>103.000000</td>\n",
       "      <td>307.594780</td>\n",
       "      <td>4.424199</td>\n",
       "      <td>100.000000</td>\n",
       "      <td>161.0</td>\n",
       "      <td>27.0</td>\n",
       "      <td>0.022960</td>\n",
       "      <td>NaN</td>\n",
       "      <td>0.050322</td>\n",
       "      <td>0.192039</td>\n",
       "      <td>/21-12-028A/236/</td>\n",
       "      <td>116.812500</td>\n",
       "      <td>0.025445</td>\n",
       "    </tr>\n",
       "    <tr>\n",
       "      <th>...</th>\n",
       "      <td>...</td>\n",
       "      <td>...</td>\n",
       "      <td>...</td>\n",
       "      <td>...</td>\n",
       "      <td>...</td>\n",
       "      <td>...</td>\n",
       "      <td>...</td>\n",
       "      <td>...</td>\n",
       "      <td>...</td>\n",
       "      <td>...</td>\n",
       "      <td>...</td>\n",
       "      <td>...</td>\n",
       "      <td>...</td>\n",
       "      <td>...</td>\n",
       "      <td>...</td>\n",
       "      <td>...</td>\n",
       "      <td>...</td>\n",
       "    </tr>\n",
       "    <tr>\n",
       "      <th>12272</th>\n",
       "      <td>15799</td>\n",
       "      <td>165.460312</td>\n",
       "      <td>NaN</td>\n",
       "      <td>115.428574</td>\n",
       "      <td>106.079369</td>\n",
       "      <td>491.387566</td>\n",
       "      <td>5.630611</td>\n",
       "      <td>64.500000</td>\n",
       "      <td>109.0</td>\n",
       "      <td>30.0</td>\n",
       "      <td>0.023236</td>\n",
       "      <td>NaN</td>\n",
       "      <td>0.047282</td>\n",
       "      <td>0.197780</td>\n",
       "      <td>/21-12-028A/236/</td>\n",
       "      <td>117.566666</td>\n",
       "      <td>0.025609</td>\n",
       "    </tr>\n",
       "    <tr>\n",
       "      <th>12273</th>\n",
       "      <td>15758</td>\n",
       "      <td>157.000000</td>\n",
       "      <td>NaN</td>\n",
       "      <td>125.571426</td>\n",
       "      <td>107.428574</td>\n",
       "      <td>2296.981079</td>\n",
       "      <td>1127.231384</td>\n",
       "      <td>42.200000</td>\n",
       "      <td>79.0</td>\n",
       "      <td>3.0</td>\n",
       "      <td>0.022047</td>\n",
       "      <td>NaN</td>\n",
       "      <td>0.051436</td>\n",
       "      <td>0.200296</td>\n",
       "      <td>/21-12-028A/236/</td>\n",
       "      <td>136.000000</td>\n",
       "      <td>0.029624</td>\n",
       "    </tr>\n",
       "    <tr>\n",
       "      <th>12274</th>\n",
       "      <td>15778</td>\n",
       "      <td>136.170212</td>\n",
       "      <td>NaN</td>\n",
       "      <td>114.361702</td>\n",
       "      <td>105.340424</td>\n",
       "      <td>2298.694336</td>\n",
       "      <td>2294.278503</td>\n",
       "      <td>127.571429</td>\n",
       "      <td>257.0</td>\n",
       "      <td>47.0</td>\n",
       "      <td>0.019122</td>\n",
       "      <td>NaN</td>\n",
       "      <td>0.046845</td>\n",
       "      <td>0.196403</td>\n",
       "      <td>/21-12-028A/236/</td>\n",
       "      <td>115.456696</td>\n",
       "      <td>0.025150</td>\n",
       "    </tr>\n",
       "    <tr>\n",
       "      <th>12275</th>\n",
       "      <td>15747</td>\n",
       "      <td>183.272720</td>\n",
       "      <td>NaN</td>\n",
       "      <td>119.025970</td>\n",
       "      <td>104.431816</td>\n",
       "      <td>2298.739105</td>\n",
       "      <td>1526.459854</td>\n",
       "      <td>101.000000</td>\n",
       "      <td>182.0</td>\n",
       "      <td>44.0</td>\n",
       "      <td>0.025737</td>\n",
       "      <td>NaN</td>\n",
       "      <td>0.048755</td>\n",
       "      <td>0.194709</td>\n",
       "      <td>/21-12-028A/236/</td>\n",
       "      <td>132.204544</td>\n",
       "      <td>0.028798</td>\n",
       "    </tr>\n",
       "    <tr>\n",
       "      <th>12276</th>\n",
       "      <td>15762</td>\n",
       "      <td>174.041168</td>\n",
       "      <td>NaN</td>\n",
       "      <td>121.779663</td>\n",
       "      <td>106.580002</td>\n",
       "      <td>8.798428</td>\n",
       "      <td>1251.285812</td>\n",
       "      <td>155.600000</td>\n",
       "      <td>413.0</td>\n",
       "      <td>50.0</td>\n",
       "      <td>0.024441</td>\n",
       "      <td>NaN</td>\n",
       "      <td>0.049883</td>\n",
       "      <td>0.198714</td>\n",
       "      <td>/21-12-028A/236/</td>\n",
       "      <td>124.000000</td>\n",
       "      <td>0.027010</td>\n",
       "    </tr>\n",
       "  </tbody>\n",
       "</table>\n",
       "<p>5578 rows × 17 columns</p>\n",
       "</div>"
      ],
      "text/plain": [
       "       Cell ID  Max. int. DAPI  Max. int. SPC  Max. int. PDPN  Max. int. ZO1  \\\n",
       "6699       107      157.174759            NaN      118.351646     104.153847   \n",
       "6700       100      159.750000            NaN      120.250000     104.271431   \n",
       "6701       101      154.085709            NaN      117.238098     103.465279   \n",
       "6702       103      146.048782            NaN      115.447762     103.987503   \n",
       "6703       105      163.500000            NaN      122.851852     103.000000   \n",
       "...        ...             ...            ...             ...            ...   \n",
       "12272    15799      165.460312            NaN      115.428574     106.079369   \n",
       "12273    15758      157.000000            NaN      125.571426     107.428574   \n",
       "12274    15778      136.170212            NaN      114.361702     105.340424   \n",
       "12275    15747      183.272720            NaN      119.025970     104.431816   \n",
       "12276    15762      174.041168            NaN      121.779663     106.580002   \n",
       "\n",
       "         Average X    Average Y   Mean Area  Max. Area  Min. Area  \\\n",
       "6699    387.210686     5.006570  115.666667      233.0       48.0   \n",
       "6700    174.630783     7.153876   77.333333      251.0        8.0   \n",
       "6701    198.845585     5.604357  141.714286      360.0       45.0   \n",
       "6702    168.951102     3.815936   78.000000      147.0       36.0   \n",
       "6703    307.594780     4.424199  100.000000      161.0       27.0   \n",
       "...            ...          ...         ...        ...        ...   \n",
       "12272   491.387566     5.630611   64.500000      109.0       30.0   \n",
       "12273  2296.981079  1127.231384   42.200000       79.0        3.0   \n",
       "12274  2298.694336  2294.278503  127.571429      257.0       47.0   \n",
       "12275  2298.739105  1526.459854  101.000000      182.0       44.0   \n",
       "12276     8.798428  1251.285812  155.600000      413.0       50.0   \n",
       "\n",
       "       Norm. Max. int. DAPI  Norm. Max. int. SPC  Norm. Max. int. PDPN  \\\n",
       "6699               0.022072                  NaN              0.048479   \n",
       "6700               0.022434                  NaN              0.049257   \n",
       "6701               0.021638                  NaN              0.048023   \n",
       "6702               0.020510                  NaN              0.047289   \n",
       "6703               0.022960                  NaN              0.050322   \n",
       "...                     ...                  ...                   ...   \n",
       "12272              0.023236                  NaN              0.047282   \n",
       "12273              0.022047                  NaN              0.051436   \n",
       "12274              0.019122                  NaN              0.046845   \n",
       "12275              0.025737                  NaN              0.048755   \n",
       "12276              0.024441                  NaN              0.049883   \n",
       "\n",
       "       Norm. Max. int. ZO1          Expt. ID  Max. int. NKX21  \\\n",
       "6699              0.194190  /21-12-028A/236/       114.312500   \n",
       "6700              0.194410  /21-12-028A/236/       114.500000   \n",
       "6701              0.192906  /21-12-028A/236/       117.284721   \n",
       "6702              0.193880  /21-12-028A/236/       112.237503   \n",
       "6703              0.192039  /21-12-028A/236/       116.812500   \n",
       "...                    ...               ...              ...   \n",
       "12272             0.197780  /21-12-028A/236/       117.566666   \n",
       "12273             0.200296  /21-12-028A/236/       136.000000   \n",
       "12274             0.196403  /21-12-028A/236/       115.456696   \n",
       "12275             0.194709  /21-12-028A/236/       132.204544   \n",
       "12276             0.198714  /21-12-028A/236/       124.000000   \n",
       "\n",
       "       Norm. Max. int. NKX21  \n",
       "6699                0.024900  \n",
       "6700                0.024941  \n",
       "6701                0.025548  \n",
       "6702                0.024448  \n",
       "6703                0.025445  \n",
       "...                      ...  \n",
       "12272               0.025609  \n",
       "12273               0.029624  \n",
       "12274               0.025150  \n",
       "12275               0.028798  \n",
       "12276               0.027010  \n",
       "\n",
       "[5578 rows x 17 columns]"
      ]
     },
     "execution_count": 336,
     "metadata": {},
     "output_type": "execute_result"
    }
   ],
   "source": [
    "df"
   ]
  },
  {
   "cell_type": "code",
   "execution_count": 341,
   "id": "a5054469",
   "metadata": {},
   "outputs": [
    {
     "data": {
      "text/html": [
       "<div>\n",
       "<style scoped>\n",
       "    .dataframe tbody tr th:only-of-type {\n",
       "        vertical-align: middle;\n",
       "    }\n",
       "\n",
       "    .dataframe tbody tr th {\n",
       "        vertical-align: top;\n",
       "    }\n",
       "\n",
       "    .dataframe thead th {\n",
       "        text-align: right;\n",
       "    }\n",
       "</style>\n",
       "<table border=\"1\" class=\"dataframe\">\n",
       "  <thead>\n",
       "    <tr style=\"text-align: right;\">\n",
       "      <th></th>\n",
       "      <th>Cell ID</th>\n",
       "      <th>Max. int. DAPI</th>\n",
       "      <th>Max. int. SPC</th>\n",
       "      <th>Max. int. PDPN</th>\n",
       "      <th>Max. int. ZO1</th>\n",
       "      <th>Average X</th>\n",
       "      <th>Average Y</th>\n",
       "      <th>Mean Area</th>\n",
       "      <th>Max. Area</th>\n",
       "      <th>Min. Area</th>\n",
       "      <th>Norm. Max. int. DAPI</th>\n",
       "      <th>Norm. Max. int. SPC</th>\n",
       "      <th>Norm. Max. int. PDPN</th>\n",
       "      <th>Norm. Max. int. ZO1</th>\n",
       "      <th>Expt. ID</th>\n",
       "      <th>Max. int. NKX21</th>\n",
       "      <th>Norm. Max. int. NKX21</th>\n",
       "    </tr>\n",
       "  </thead>\n",
       "  <tbody>\n",
       "    <tr>\n",
       "      <th>6699</th>\n",
       "      <td>107</td>\n",
       "      <td>157.174759</td>\n",
       "      <td>NaN</td>\n",
       "      <td>118.351646</td>\n",
       "      <td>104.153847</td>\n",
       "      <td>387.210686</td>\n",
       "      <td>5.006570</td>\n",
       "      <td>115.666667</td>\n",
       "      <td>233.0</td>\n",
       "      <td>48.0</td>\n",
       "      <td>0.022072</td>\n",
       "      <td>NaN</td>\n",
       "      <td>0.048479</td>\n",
       "      <td>0.194190</td>\n",
       "      <td>/21-12-028A/236/</td>\n",
       "      <td>114.312500</td>\n",
       "      <td>0.024900</td>\n",
       "    </tr>\n",
       "    <tr>\n",
       "      <th>6700</th>\n",
       "      <td>100</td>\n",
       "      <td>159.750000</td>\n",
       "      <td>NaN</td>\n",
       "      <td>120.250000</td>\n",
       "      <td>104.271431</td>\n",
       "      <td>174.630783</td>\n",
       "      <td>7.153876</td>\n",
       "      <td>77.333333</td>\n",
       "      <td>251.0</td>\n",
       "      <td>8.0</td>\n",
       "      <td>0.022434</td>\n",
       "      <td>NaN</td>\n",
       "      <td>0.049257</td>\n",
       "      <td>0.194410</td>\n",
       "      <td>/21-12-028A/236/</td>\n",
       "      <td>114.500000</td>\n",
       "      <td>0.024941</td>\n",
       "    </tr>\n",
       "    <tr>\n",
       "      <th>6701</th>\n",
       "      <td>101</td>\n",
       "      <td>154.085709</td>\n",
       "      <td>NaN</td>\n",
       "      <td>117.238098</td>\n",
       "      <td>103.465279</td>\n",
       "      <td>198.845585</td>\n",
       "      <td>5.604357</td>\n",
       "      <td>141.714286</td>\n",
       "      <td>360.0</td>\n",
       "      <td>45.0</td>\n",
       "      <td>0.021638</td>\n",
       "      <td>NaN</td>\n",
       "      <td>0.048023</td>\n",
       "      <td>0.192906</td>\n",
       "      <td>/21-12-028A/236/</td>\n",
       "      <td>117.284721</td>\n",
       "      <td>0.025548</td>\n",
       "    </tr>\n",
       "    <tr>\n",
       "      <th>6702</th>\n",
       "      <td>103</td>\n",
       "      <td>146.048782</td>\n",
       "      <td>NaN</td>\n",
       "      <td>115.447762</td>\n",
       "      <td>103.987503</td>\n",
       "      <td>168.951102</td>\n",
       "      <td>3.815936</td>\n",
       "      <td>78.000000</td>\n",
       "      <td>147.0</td>\n",
       "      <td>36.0</td>\n",
       "      <td>0.020510</td>\n",
       "      <td>NaN</td>\n",
       "      <td>0.047289</td>\n",
       "      <td>0.193880</td>\n",
       "      <td>/21-12-028A/236/</td>\n",
       "      <td>112.237503</td>\n",
       "      <td>0.024448</td>\n",
       "    </tr>\n",
       "    <tr>\n",
       "      <th>6703</th>\n",
       "      <td>105</td>\n",
       "      <td>163.500000</td>\n",
       "      <td>NaN</td>\n",
       "      <td>122.851852</td>\n",
       "      <td>103.000000</td>\n",
       "      <td>307.594780</td>\n",
       "      <td>4.424199</td>\n",
       "      <td>100.000000</td>\n",
       "      <td>161.0</td>\n",
       "      <td>27.0</td>\n",
       "      <td>0.022960</td>\n",
       "      <td>NaN</td>\n",
       "      <td>0.050322</td>\n",
       "      <td>0.192039</td>\n",
       "      <td>/21-12-028A/236/</td>\n",
       "      <td>116.812500</td>\n",
       "      <td>0.025445</td>\n",
       "    </tr>\n",
       "    <tr>\n",
       "      <th>...</th>\n",
       "      <td>...</td>\n",
       "      <td>...</td>\n",
       "      <td>...</td>\n",
       "      <td>...</td>\n",
       "      <td>...</td>\n",
       "      <td>...</td>\n",
       "      <td>...</td>\n",
       "      <td>...</td>\n",
       "      <td>...</td>\n",
       "      <td>...</td>\n",
       "      <td>...</td>\n",
       "      <td>...</td>\n",
       "      <td>...</td>\n",
       "      <td>...</td>\n",
       "      <td>...</td>\n",
       "      <td>...</td>\n",
       "      <td>...</td>\n",
       "    </tr>\n",
       "    <tr>\n",
       "      <th>12272</th>\n",
       "      <td>15799</td>\n",
       "      <td>165.460312</td>\n",
       "      <td>NaN</td>\n",
       "      <td>115.428574</td>\n",
       "      <td>106.079369</td>\n",
       "      <td>491.387566</td>\n",
       "      <td>5.630611</td>\n",
       "      <td>64.500000</td>\n",
       "      <td>109.0</td>\n",
       "      <td>30.0</td>\n",
       "      <td>0.023236</td>\n",
       "      <td>NaN</td>\n",
       "      <td>0.047282</td>\n",
       "      <td>0.197780</td>\n",
       "      <td>/21-12-028A/236/</td>\n",
       "      <td>117.566666</td>\n",
       "      <td>0.025609</td>\n",
       "    </tr>\n",
       "    <tr>\n",
       "      <th>12273</th>\n",
       "      <td>15758</td>\n",
       "      <td>157.000000</td>\n",
       "      <td>NaN</td>\n",
       "      <td>125.571426</td>\n",
       "      <td>107.428574</td>\n",
       "      <td>2296.981079</td>\n",
       "      <td>1127.231384</td>\n",
       "      <td>42.200000</td>\n",
       "      <td>79.0</td>\n",
       "      <td>3.0</td>\n",
       "      <td>0.022047</td>\n",
       "      <td>NaN</td>\n",
       "      <td>0.051436</td>\n",
       "      <td>0.200296</td>\n",
       "      <td>/21-12-028A/236/</td>\n",
       "      <td>136.000000</td>\n",
       "      <td>0.029624</td>\n",
       "    </tr>\n",
       "    <tr>\n",
       "      <th>12274</th>\n",
       "      <td>15778</td>\n",
       "      <td>136.170212</td>\n",
       "      <td>NaN</td>\n",
       "      <td>114.361702</td>\n",
       "      <td>105.340424</td>\n",
       "      <td>2298.694336</td>\n",
       "      <td>2294.278503</td>\n",
       "      <td>127.571429</td>\n",
       "      <td>257.0</td>\n",
       "      <td>47.0</td>\n",
       "      <td>0.019122</td>\n",
       "      <td>NaN</td>\n",
       "      <td>0.046845</td>\n",
       "      <td>0.196403</td>\n",
       "      <td>/21-12-028A/236/</td>\n",
       "      <td>115.456696</td>\n",
       "      <td>0.025150</td>\n",
       "    </tr>\n",
       "    <tr>\n",
       "      <th>12275</th>\n",
       "      <td>15747</td>\n",
       "      <td>183.272720</td>\n",
       "      <td>NaN</td>\n",
       "      <td>119.025970</td>\n",
       "      <td>104.431816</td>\n",
       "      <td>2298.739105</td>\n",
       "      <td>1526.459854</td>\n",
       "      <td>101.000000</td>\n",
       "      <td>182.0</td>\n",
       "      <td>44.0</td>\n",
       "      <td>0.025737</td>\n",
       "      <td>NaN</td>\n",
       "      <td>0.048755</td>\n",
       "      <td>0.194709</td>\n",
       "      <td>/21-12-028A/236/</td>\n",
       "      <td>132.204544</td>\n",
       "      <td>0.028798</td>\n",
       "    </tr>\n",
       "    <tr>\n",
       "      <th>12276</th>\n",
       "      <td>15762</td>\n",
       "      <td>174.041168</td>\n",
       "      <td>NaN</td>\n",
       "      <td>121.779663</td>\n",
       "      <td>106.580002</td>\n",
       "      <td>8.798428</td>\n",
       "      <td>1251.285812</td>\n",
       "      <td>155.600000</td>\n",
       "      <td>413.0</td>\n",
       "      <td>50.0</td>\n",
       "      <td>0.024441</td>\n",
       "      <td>NaN</td>\n",
       "      <td>0.049883</td>\n",
       "      <td>0.198714</td>\n",
       "      <td>/21-12-028A/236/</td>\n",
       "      <td>124.000000</td>\n",
       "      <td>0.027010</td>\n",
       "    </tr>\n",
       "  </tbody>\n",
       "</table>\n",
       "<p>5578 rows × 17 columns</p>\n",
       "</div>"
      ],
      "text/plain": [
       "       Cell ID  Max. int. DAPI  Max. int. SPC  Max. int. PDPN  Max. int. ZO1  \\\n",
       "6699       107      157.174759            NaN      118.351646     104.153847   \n",
       "6700       100      159.750000            NaN      120.250000     104.271431   \n",
       "6701       101      154.085709            NaN      117.238098     103.465279   \n",
       "6702       103      146.048782            NaN      115.447762     103.987503   \n",
       "6703       105      163.500000            NaN      122.851852     103.000000   \n",
       "...        ...             ...            ...             ...            ...   \n",
       "12272    15799      165.460312            NaN      115.428574     106.079369   \n",
       "12273    15758      157.000000            NaN      125.571426     107.428574   \n",
       "12274    15778      136.170212            NaN      114.361702     105.340424   \n",
       "12275    15747      183.272720            NaN      119.025970     104.431816   \n",
       "12276    15762      174.041168            NaN      121.779663     106.580002   \n",
       "\n",
       "         Average X    Average Y   Mean Area  Max. Area  Min. Area  \\\n",
       "6699    387.210686     5.006570  115.666667      233.0       48.0   \n",
       "6700    174.630783     7.153876   77.333333      251.0        8.0   \n",
       "6701    198.845585     5.604357  141.714286      360.0       45.0   \n",
       "6702    168.951102     3.815936   78.000000      147.0       36.0   \n",
       "6703    307.594780     4.424199  100.000000      161.0       27.0   \n",
       "...            ...          ...         ...        ...        ...   \n",
       "12272   491.387566     5.630611   64.500000      109.0       30.0   \n",
       "12273  2296.981079  1127.231384   42.200000       79.0        3.0   \n",
       "12274  2298.694336  2294.278503  127.571429      257.0       47.0   \n",
       "12275  2298.739105  1526.459854  101.000000      182.0       44.0   \n",
       "12276     8.798428  1251.285812  155.600000      413.0       50.0   \n",
       "\n",
       "       Norm. Max. int. DAPI  Norm. Max. int. SPC  Norm. Max. int. PDPN  \\\n",
       "6699               0.022072                  NaN              0.048479   \n",
       "6700               0.022434                  NaN              0.049257   \n",
       "6701               0.021638                  NaN              0.048023   \n",
       "6702               0.020510                  NaN              0.047289   \n",
       "6703               0.022960                  NaN              0.050322   \n",
       "...                     ...                  ...                   ...   \n",
       "12272              0.023236                  NaN              0.047282   \n",
       "12273              0.022047                  NaN              0.051436   \n",
       "12274              0.019122                  NaN              0.046845   \n",
       "12275              0.025737                  NaN              0.048755   \n",
       "12276              0.024441                  NaN              0.049883   \n",
       "\n",
       "       Norm. Max. int. ZO1          Expt. ID  Max. int. NKX21  \\\n",
       "6699              0.194190  /21-12-028A/236/       114.312500   \n",
       "6700              0.194410  /21-12-028A/236/       114.500000   \n",
       "6701              0.192906  /21-12-028A/236/       117.284721   \n",
       "6702              0.193880  /21-12-028A/236/       112.237503   \n",
       "6703              0.192039  /21-12-028A/236/       116.812500   \n",
       "...                    ...               ...              ...   \n",
       "12272             0.197780  /21-12-028A/236/       117.566666   \n",
       "12273             0.200296  /21-12-028A/236/       136.000000   \n",
       "12274             0.196403  /21-12-028A/236/       115.456696   \n",
       "12275             0.194709  /21-12-028A/236/       132.204544   \n",
       "12276             0.198714  /21-12-028A/236/       124.000000   \n",
       "\n",
       "       Norm. Max. int. NKX21  \n",
       "6699                0.024900  \n",
       "6700                0.024941  \n",
       "6701                0.025548  \n",
       "6702                0.024448  \n",
       "6703                0.025445  \n",
       "...                      ...  \n",
       "12272               0.025609  \n",
       "12273               0.029624  \n",
       "12274               0.025150  \n",
       "12275               0.028798  \n",
       "12276               0.027010  \n",
       "\n",
       "[5578 rows x 17 columns]"
      ]
     },
     "execution_count": 341,
     "metadata": {},
     "output_type": "execute_result"
    }
   ],
   "source": [
    "df[df[f'Max. int. {channel.name}']>100]"
   ]
  },
  {
   "cell_type": "code",
   "execution_count": 51,
   "id": "aed5bf54",
   "metadata": {},
   "outputs": [
    {
     "data": {
      "text/html": [
       "<svg  width=\"330\" height=\"55\"><rect x=\"0\" y=\"0\" width=\"55\" height=\"55\" style=\"fill:#cf4191;stroke-width:2;stroke:rgb(255,255,255)\"/><rect x=\"55\" y=\"0\" width=\"55\" height=\"55\" style=\"fill:#eeadd4;stroke-width:2;stroke:rgb(255,255,255)\"/><rect x=\"110\" y=\"0\" width=\"55\" height=\"55\" style=\"fill:#fbe6f1;stroke-width:2;stroke:rgb(255,255,255)\"/><rect x=\"165\" y=\"0\" width=\"55\" height=\"55\" style=\"fill:#ebf6db;stroke-width:2;stroke:rgb(255,255,255)\"/><rect x=\"220\" y=\"0\" width=\"55\" height=\"55\" style=\"fill:#b0dc7d;stroke-width:2;stroke:rgb(255,255,255)\"/><rect x=\"275\" y=\"0\" width=\"55\" height=\"55\" style=\"fill:#62a32e;stroke-width:2;stroke:rgb(255,255,255)\"/></svg>"
      ],
      "text/plain": [
       "[(0.8129181084198386, 0.2544405997693195, 0.5693194925028835),\n",
       " (0.9348712033833141, 0.6798154555940021, 0.8312187620146096),\n",
       " (0.9856978085351787, 0.9031910803537101, 0.9458669742406767),\n",
       " (0.9202614379084968, 0.9629373317954633, 0.8576701268742792),\n",
       " (0.6908881199538641, 0.8624375240292197, 0.4883506343713959),\n",
       " (0.38269896193771624, 0.6403690888119954, 0.18108419838523643)]"
      ]
     },
     "execution_count": 51,
     "metadata": {},
     "output_type": "execute_result"
    }
   ],
   "source": [
    "colors = sns.color_palette('PiYG')\n",
    "colors"
   ]
  },
  {
   "cell_type": "code",
   "execution_count": null,
   "id": "4669ff0e",
   "metadata": {},
   "outputs": [],
   "source": []
  },
  {
   "cell_type": "code",
   "execution_count": 57,
   "id": "48a91f27",
   "metadata": {},
   "outputs": [
    {
     "ename": "IndexError",
     "evalue": "list assignment index out of range",
     "output_type": "error",
     "traceback": [
      "\u001b[0;31m---------------------------------------------------------------------------\u001b[0m",
      "\u001b[0;31mIndexError\u001b[0m                                Traceback (most recent call last)",
      "Input \u001b[0;32mIn [57]\u001b[0m, in \u001b[0;36m<cell line: 5>\u001b[0;34m()\u001b[0m\n\u001b[1;32m      2\u001b[0m magenta \u001b[38;5;241m=\u001b[39m (colors[\u001b[38;5;241m0\u001b[39m][\u001b[38;5;241m0\u001b[39m], colors[\u001b[38;5;241m0\u001b[39m][\u001b[38;5;241m1\u001b[39m], \u001b[38;5;241m0.8\u001b[39m)  \u001b[38;5;66;03m# Set blue component to 0.8 (adjust as desired)\u001b[39;00m\n\u001b[1;32m      4\u001b[0m \u001b[38;5;66;03m# Update the color palette with the modified magenta color\u001b[39;00m\n\u001b[0;32m----> 5\u001b[0m colors[\u001b[38;5;241m11\u001b[39m] \u001b[38;5;241m=\u001b[39m magenta\n",
      "\u001b[0;31mIndexError\u001b[0m: list assignment index out of range"
     ]
    }
   ],
   "source": [
    "# Modify the RGB values of the magenta color\n",
    "magenta = (colors[0][0], colors[0][1], 0.8)  # Set blue component to 0.8 (adjust as desired)\n",
    "\n",
    "# Update the color palette with the modified magenta color\n",
    "colors[11] = magenta\n",
    "\n",
    "# # Use the modified color palette for plotting\n",
    "# sns.histplot(data, color=colors)  # Example plot using the modified color palette\n"
   ]
  },
  {
   "cell_type": "code",
   "execution_count": 62,
   "id": "156406c1",
   "metadata": {},
   "outputs": [],
   "source": [
    "output_dir = '/mnt/DATA/lung_on_chip/single_cell_px_int/per_expt_dist_thresholds/jun23'"
   ]
  },
  {
   "cell_type": "code",
   "execution_count": 66,
   "id": "e68a5ec6",
   "metadata": {},
   "outputs": [
    {
     "data": {
      "text/plain": [
       "<Figure size 1500x500 with 0 Axes>"
      ]
     },
     "metadata": {},
     "output_type": "display_data"
    }
   ],
   "source": [
    "plt.rcParams[\"figure.figsize\"] = (15,5)\n",
    "\n",
    "for expt in expt_df_dict:\n",
    "    # Get the DataFrame corresponding to the experiment\n",
    "    df = expt_df_dict[expt]\n",
    "    \n",
    "    # Get the experiment ID\n",
    "    expt_ID = df['Expt. ID'].iloc[0]\n",
    "    \n",
    "    # Set the appropriate channels based on the experiment\n",
    "    if '113' in expt or '236' in expt:\n",
    "        channels = Channels_1\n",
    "    if '122' in expt or '245' in expt:\n",
    "        channels = Channels_2\n",
    "    \n",
    "    # Iterate over the channels\n",
    "    for channel in channels:\n",
    "        # Skip DAPI and ZO1 channels\n",
    "        if channel.name == 'DAPI' or channel.name == 'ZO1':\n",
    "            continue\n",
    "        \n",
    "        # Get the threshold value for the channel\n",
    "        thresh = thresh_dict[channel.name.lower()]\n",
    "        \n",
    "        # Calculate the number of positive and negative cells based on the threshold\n",
    "        pos_neg = (\n",
    "            len(df[df[f'Max. int. {channel.name}'] > thresh]),\n",
    "            len(df[df[f'Max. int. {channel.name}'] < thresh])\n",
    "        )\n",
    "        \n",
    "        # Calculate the percentage of positive cells\n",
    "        percentage = \"{:.2f}\".format((pos_neg[0] / (pos_neg[0] + pos_neg[1])) * 100)\n",
    "        \n",
    "        # Create the string for positive and negative cell counts and percentage\n",
    "        pos_neg_string = f'Positive cells: {pos_neg[0]},\\nnegative cells: {pos_neg[1]} \\n{percentage}% positive'\n",
    "        \n",
    "        # Plot the histogram of maximum pixel intensities for the channel\n",
    "        sns.histplot((df[f'Max. int. {channel.name}']), \n",
    "                     color='#6575DE',#colors[0], \n",
    "                     label=f'{pos_neg_string}')\n",
    "        plt.legend()\n",
    "        \n",
    "        # Replace '/' in the experiment ID to avoid saving issues\n",
    "        expt_ID = expt_ID.replace('/', '-')\n",
    "        \n",
    "        # Set the plot title, axis labels, and threshold line\n",
    "        plt.title(f'Distribution of single-cell maximum {channel.name} pixel intensities from experiment ID: {expt_ID}')\n",
    "        plt.ylabel('Number of cells')\n",
    "        plt.xlabel(f'Maximum raw single-cell {channel.name} fluorescent intensity')\n",
    "        plt.vlines(thresh_dict[f'{channel.name.lower()}'], plt.ylim()[0], plt.ylim()[1], \n",
    "                   colors='black',#colors[-1], \n",
    "                   linestyles='-')\n",
    "        \n",
    "        #Uncomment the following lines to save the plot as an image file and clear the plot for the next iteration\n",
    "        fns = [os.path.join(output_dir, f'{channel.name}_expt_{expt_ID}_thresh_sc_px_int.jpg'), \n",
    "               os.path.join(output_dir, f'{channel.name}_expt_{expt_ID}_thresh_sc_px_int.pdf')]\n",
    "        for fn in fns:\n",
    "            plt.savefig(fn, bbox_inches='tight', dpi=314)\n",
    "            plt.clf()\n",
    "        \n",
    "        # Break out of the channel loop after the first iteration\n",
    "#         break\n",
    "    \n",
    "    # Break out of the experiment loop after the first iteration\n",
    "#     break\n"
   ]
  },
  {
   "cell_type": "code",
   "execution_count": 68,
   "id": "68bc58d3",
   "metadata": {
    "scrolled": true
   },
   "outputs": [
    {
     "data": {
      "text/plain": [
       "{'/21-12-028A/236/',\n",
       " '/21-12-028A/245/',\n",
       " '/21-12-031B/113/',\n",
       " '/21-12-031B/122/'}"
      ]
     },
     "execution_count": 68,
     "metadata": {},
     "output_type": "execute_result"
    }
   ],
   "source": [
    "expt_IDS"
   ]
  },
  {
   "cell_type": "code",
   "execution_count": 75,
   "id": "7b4c6044",
   "metadata": {},
   "outputs": [],
   "source": [
    "# manually getting sensible x bounds from uncropped plots\n",
    "crop_dict = {'-21-12-028A-236-': 2250, '-21-12-028A-245-': 2250, '-21-12-031B-113-': 1750, '-21-12-031B-122-':1750}"
   ]
  },
  {
   "cell_type": "code",
   "execution_count": 76,
   "id": "c33563a0",
   "metadata": {},
   "outputs": [
    {
     "data": {
      "text/plain": [
       "<Figure size 1500x500 with 0 Axes>"
      ]
     },
     "metadata": {},
     "output_type": "display_data"
    }
   ],
   "source": [
    "plt.rcParams[\"figure.figsize\"] = (15,5)\n",
    "\n",
    "for expt in expt_df_dict:\n",
    "    # Get the DataFrame corresponding to the experiment\n",
    "    df = expt_df_dict[expt]\n",
    "    \n",
    "    # Get the experiment ID\n",
    "    expt_ID = df['Expt. ID'].iloc[0]\n",
    "    \n",
    "    # Set the appropriate channels based on the experiment\n",
    "    if '113' in expt or '236' in expt:\n",
    "        channels = Channels_1\n",
    "    if '122' in expt or '245' in expt:\n",
    "        channels = Channels_2\n",
    "    \n",
    "    # Iterate over the channels\n",
    "    for channel in channels:\n",
    "        # Skip DAPI and ZO1 channels\n",
    "        if channel.name == 'DAPI' or channel.name == 'ZO1':\n",
    "            continue\n",
    "        \n",
    "        # Get the threshold value for the channel\n",
    "        thresh = thresh_dict[channel.name.lower()]\n",
    "        \n",
    "        # Calculate the number of positive and negative cells based on the threshold\n",
    "        pos_neg = (\n",
    "            len(df[df[f'Max. int. {channel.name}'] > thresh]),\n",
    "            len(df[df[f'Max. int. {channel.name}'] < thresh])\n",
    "        )\n",
    "        \n",
    "        # Calculate the percentage of positive cells\n",
    "        percentage = \"{:.2f}\".format((pos_neg[0] / (pos_neg[0] + pos_neg[1])) * 100)\n",
    "        \n",
    "        # Create the string for positive and negative cell counts and percentage\n",
    "        pos_neg_string = f'Positive cells: {pos_neg[0]},\\nnegative cells: {pos_neg[1]} \\n{percentage}% positive'\n",
    "        \n",
    "        # Plot the histogram of maximum pixel intensities for the channel\n",
    "        sns.histplot((df[f'Max. int. {channel.name}']), \n",
    "                     color='#6575DE',#colors[0], \n",
    "                     label=f'{pos_neg_string}')\n",
    "        plt.legend()\n",
    "        \n",
    "        # Replace '/' in the experiment ID to avoid saving issues\n",
    "        expt_ID = expt_ID.replace('/', '-')\n",
    "        \n",
    "        # Set the plot title, axis labels, and threshold line\n",
    "        plt.title(f'Distribution of single-cell maximum {channel.name} pixel intensities from experiment ID: {expt_ID}')\n",
    "        plt.ylabel('Number of cells')\n",
    "        plt.xlabel(f'Maximum raw single-cell {channel.name} fluorescent intensity')\n",
    "        plt.vlines(thresh_dict[f'{channel.name.lower()}'], plt.ylim()[0], plt.ylim()[1], \n",
    "                   colors='black',#colors[-1], \n",
    "                   linestyles='-')\n",
    "        # Uncomment the following lines to create a cropped version of the plot and save it as an image file\n",
    "        x_crop = crop_dict[expt_ID]\n",
    "        plt.xlim(0, x_crop)\n",
    "        fns = [os.path.join(output_dir, f'{channel.name}_expt_{expt_ID}_thresh_sc_px_int_cropped.jpg'), \n",
    "               os.path.join(output_dir, f'{channel.name}_expt_{expt_ID}_thresh_sc_px_int_cropped.pdf')]\n",
    "        for fn in fns:\n",
    "            plt.savefig(fn, bbox_inches='tight', dpi=314)\n",
    "            plt.clf()\n",
    "        \n",
    "        # Break out of the channel loop after the first iteration\n",
    "#         break\n",
    "    \n",
    "    # Break out of the experiment loop after the first iteration\n",
    "#     break\n"
   ]
  },
  {
   "cell_type": "code",
   "execution_count": 42,
   "id": "43c490e4",
   "metadata": {},
   "outputs": [
    {
     "data": {
      "image/png": "[encoded data removed]",
      "text/plain": [
       "<Figure size 1500x700 with 1 Axes>"
      ]
     },
     "metadata": {},
     "output_type": "display_data"
    }
   ],
   "source": [
    "for expt in expt_df_dict:\n",
    "    df = expt_df_dict[expt]    \n",
    "    expt_ID = df['Expt. ID'].iloc[0]\n",
    "    if '113' in expt or '236' in expt:\n",
    "        channels = Channels_1\n",
    "    if '122' in expt or '245' in expt:\n",
    "        channels = Channels_2\n",
    "    for channel in channels:\n",
    "        if channel.name == 'DAPI' or channel.name == 'ZO1':\n",
    "            continue\n",
    "        \n",
    "        thresh = thresh_dict[channel.name.lower()]\n",
    "        pos_neg = (len(df[df[f'Max. int. {channel.name}'] > thresh]), len(df[df[f'Max. int. {channel.name}'] < thresh]))\n",
    "        percentage = \"{:.2f}\".format((pos_neg[0]/(pos_neg[0]+pos_neg[1]))*100)\n",
    "        pos_neg_string = f'Positive cells: {pos_neg[0]},\\nnegative cells: {pos_neg[1]} \\n{percentage}% positive'\n",
    "        \n",
    "        sns.histplot((df[f'Max. int. {channel.name}']), color='#4dac26', label = f'{pos_neg_string}')\n",
    "        plt.legend()\n",
    "        expt_ID = expt_ID.replace('/','-')\n",
    "        plt.title(f'Distribution of single-cell maximum {channel.name} pixel intensities from experiment ID: {expt_ID}')\n",
    "        plt.ylabel('Number of cells')\n",
    "        plt.xlabel(f'Maximum raw single-cell {channel.name} fluorescent intensity')\n",
    "        plt.vlines(thresh_dict[f'{channel.name.lower()}'], plt.ylim()[0], plt.ylim()[1], colors='#d01c8b', linestyles='dashed')\n",
    "        plt.text\n",
    "#         plt.savefig(f'/home/dayn/data/lung_on_chip/single_cell_px_int/{channel.name}_expt_{expt_ID}_thresh_sc_px_int.jpg', bbox_inches = 'tight', dpi = 314)\n",
    "#         plt.clf()\n",
    "#         ### next fig\n",
    "#         sns.histplot((df[f'Max. int. {channel.name}']), color='#4dac26', label = f'{pos_neg_string}')\n",
    "#         plt.legend()\n",
    "#         plt.title(f'Distribution of single-cell maximum {channel.name} pixel intensities from experiment ID: {expt_ID}')        \n",
    "#         plt.xlim(0,3500)\n",
    "#         plt.ylabel('Number of cells')\n",
    "#         plt.vlines(thresh_dict[f'{channel.name.lower()}'], plt.ylim()[0], plt.ylim()[1], colors='#d01c8b', linestyles='dashed')\n",
    "#         plt.xlabel(f'Maximum raw single-cell {channel.name} fluorescent intensity')\n",
    "#         plt.savefig(f'/home/dayn/data/lung_on_chip/single_cell_px_int/{channel.name}_expt_{expt_ID}_thresh_sc_px_int_cropped.jpg', bbox_inches = 'tight', dpi = 314)\n",
    "#         plt.clf()\n",
    "        break\n",
    "    break"
   ]
  },
  {
   "cell_type": "markdown",
   "id": "5b80b9d8",
   "metadata": {},
   "source": [
    "# Previous plotting"
   ]
  },
  {
   "cell_type": "code",
   "execution_count": 102,
   "id": "db85a791",
   "metadata": {},
   "outputs": [],
   "source": [
    "output_dir = '/home/dayn/Documents/presentations/221101_LoC'"
   ]
  },
  {
   "cell_type": "code",
   "execution_count": 105,
   "id": "60488b36",
   "metadata": {},
   "outputs": [
    {
     "data": {
      "image/png": "[encoded data removed]",
      "text/plain": [
       "<Figure size 1080x504 with 1 Axes>"
      ]
     },
     "metadata": {
      "needs_background": "light"
     },
     "output_type": "display_data"
    }
   ],
   "source": [
    "sns.histplot((df['Max. int. NKX21'], df['Max. int. PDPN']))\n",
    "plt.title('Distribution of maximum pixel intensities')\n",
    "plt.xlabel('Maximum pixel value')\n",
    "plt.savefig(os.path.join(output_dir, 'max_int_dist.jpg'), dpi = 314, bbox_inches = 'tight')"
   ]
  },
  {
   "cell_type": "code",
   "execution_count": 106,
   "id": "0a974f5b",
   "metadata": {},
   "outputs": [
    {
     "data": {
      "image/png": "[encoded data removed]",
      "text/plain": [
       "<Figure size 1080x504 with 1 Axes>"
      ]
     },
     "metadata": {
      "needs_background": "light"
     },
     "output_type": "display_data"
    }
   ],
   "source": [
    "sns.histplot([len(track) for track in tracks], bins = 15)\n",
    "plt.title('Distrbution of track lengths over Z')\n",
    "plt.xlabel('Track length')\n",
    "plt.savefig(os.path.join(output_dir, 'track_length_dist.jpg'), dpi = 314, bbox_inches = 'tight')"
   ]
  },
  {
   "cell_type": "markdown",
   "id": "cf50cabd",
   "metadata": {},
   "source": [
    "## Filtering track lengths"
   ]
  },
  {
   "cell_type": "code",
   "execution_count": 15,
   "id": "23dd125d",
   "metadata": {},
   "outputs": [],
   "source": [
    "filtered_tracks = [track for track in tracks if len(track) > 7]"
   ]
  },
  {
   "cell_type": "code",
   "execution_count": 82,
   "id": "63e414ff",
   "metadata": {},
   "outputs": [
    {
     "data": {
      "text/html": [
       "<div>\n",
       "<style scoped>\n",
       "    .dataframe tbody tr th:only-of-type {\n",
       "        vertical-align: middle;\n",
       "    }\n",
       "\n",
       "    .dataframe tbody tr th {\n",
       "        vertical-align: top;\n",
       "    }\n",
       "\n",
       "    .dataframe thead th {\n",
       "        text-align: right;\n",
       "    }\n",
       "</style>\n",
       "<table border=\"1\" class=\"dataframe\">\n",
       "  <thead>\n",
       "    <tr style=\"text-align: right;\">\n",
       "      <th></th>\n",
       "      <th>Cell ID</th>\n",
       "      <th>Max. int. DAPI</th>\n",
       "      <th>Max. int. NKX21</th>\n",
       "      <th>Max. int. PDPN</th>\n",
       "      <th>Max. int. ZO1</th>\n",
       "      <th>x</th>\n",
       "      <th>y</th>\n",
       "    </tr>\n",
       "  </thead>\n",
       "  <tbody>\n",
       "    <tr>\n",
       "      <th>0</th>\n",
       "      <td>249</td>\n",
       "      <td>301.447835</td>\n",
       "      <td>176.244094</td>\n",
       "      <td>347.769470</td>\n",
       "      <td>135.199273</td>\n",
       "      <td>950.055128</td>\n",
       "      <td>11.320575</td>\n",
       "    </tr>\n",
       "    <tr>\n",
       "      <th>1</th>\n",
       "      <td>260</td>\n",
       "      <td>1660.750000</td>\n",
       "      <td>819.633333</td>\n",
       "      <td>651.004104</td>\n",
       "      <td>134.643639</td>\n",
       "      <td>1371.656425</td>\n",
       "      <td>15.771481</td>\n",
       "    </tr>\n",
       "    <tr>\n",
       "      <th>2</th>\n",
       "      <td>259</td>\n",
       "      <td>675.338376</td>\n",
       "      <td>355.360777</td>\n",
       "      <td>493.353503</td>\n",
       "      <td>129.640127</td>\n",
       "      <td>2121.861659</td>\n",
       "      <td>12.777158</td>\n",
       "    </tr>\n",
       "    <tr>\n",
       "      <th>3</th>\n",
       "      <td>258</td>\n",
       "      <td>1150.301205</td>\n",
       "      <td>431.990361</td>\n",
       "      <td>1205.507837</td>\n",
       "      <td>133.434066</td>\n",
       "      <td>238.755957</td>\n",
       "      <td>6.475418</td>\n",
       "    </tr>\n",
       "    <tr>\n",
       "      <th>4</th>\n",
       "      <td>257</td>\n",
       "      <td>412.382098</td>\n",
       "      <td>234.673347</td>\n",
       "      <td>439.279769</td>\n",
       "      <td>128.212425</td>\n",
       "      <td>350.520471</td>\n",
       "      <td>15.824814</td>\n",
       "    </tr>\n",
       "    <tr>\n",
       "      <th>...</th>\n",
       "      <td>...</td>\n",
       "      <td>...</td>\n",
       "      <td>...</td>\n",
       "      <td>...</td>\n",
       "      <td>...</td>\n",
       "      <td>...</td>\n",
       "      <td>...</td>\n",
       "    </tr>\n",
       "    <tr>\n",
       "      <th>4808</th>\n",
       "      <td>8201</td>\n",
       "      <td>1467.596639</td>\n",
       "      <td>885.277311</td>\n",
       "      <td>652.621495</td>\n",
       "      <td>175.070093</td>\n",
       "      <td>1559.474781</td>\n",
       "      <td>1914.404537</td>\n",
       "    </tr>\n",
       "    <tr>\n",
       "      <th>4809</th>\n",
       "      <td>8323</td>\n",
       "      <td>314.666667</td>\n",
       "      <td>171.900000</td>\n",
       "      <td>1099.533333</td>\n",
       "      <td>266.453333</td>\n",
       "      <td>2144.336086</td>\n",
       "      <td>264.639448</td>\n",
       "    </tr>\n",
       "    <tr>\n",
       "      <th>4810</th>\n",
       "      <td>8527</td>\n",
       "      <td>1265.281553</td>\n",
       "      <td>784.461165</td>\n",
       "      <td>849.706714</td>\n",
       "      <td>187.769231</td>\n",
       "      <td>1571.751283</td>\n",
       "      <td>1902.370323</td>\n",
       "    </tr>\n",
       "    <tr>\n",
       "      <th>4811</th>\n",
       "      <td>8609</td>\n",
       "      <td>300.933798</td>\n",
       "      <td>170.275261</td>\n",
       "      <td>309.250871</td>\n",
       "      <td>209.336245</td>\n",
       "      <td>2088.909998</td>\n",
       "      <td>467.305009</td>\n",
       "    </tr>\n",
       "    <tr>\n",
       "      <th>4812</th>\n",
       "      <td>8571</td>\n",
       "      <td>575.269939</td>\n",
       "      <td>320.828221</td>\n",
       "      <td>981.000000</td>\n",
       "      <td>242.000000</td>\n",
       "      <td>396.818706</td>\n",
       "      <td>917.869222</td>\n",
       "    </tr>\n",
       "  </tbody>\n",
       "</table>\n",
       "<p>4813 rows × 7 columns</p>\n",
       "</div>"
      ],
      "text/plain": [
       "      Cell ID  Max. int. DAPI  Max. int. NKX21  Max. int. PDPN  Max. int. ZO1  \\\n",
       "0         249      301.447835       176.244094      347.769470     135.199273   \n",
       "1         260     1660.750000       819.633333      651.004104     134.643639   \n",
       "2         259      675.338376       355.360777      493.353503     129.640127   \n",
       "3         258     1150.301205       431.990361     1205.507837     133.434066   \n",
       "4         257      412.382098       234.673347      439.279769     128.212425   \n",
       "...       ...             ...              ...             ...            ...   \n",
       "4808     8201     1467.596639       885.277311      652.621495     175.070093   \n",
       "4809     8323      314.666667       171.900000     1099.533333     266.453333   \n",
       "4810     8527     1265.281553       784.461165      849.706714     187.769231   \n",
       "4811     8609      300.933798       170.275261      309.250871     209.336245   \n",
       "4812     8571      575.269939       320.828221      981.000000     242.000000   \n",
       "\n",
       "                x            y  \n",
       "0      950.055128    11.320575  \n",
       "1     1371.656425    15.771481  \n",
       "2     2121.861659    12.777158  \n",
       "3      238.755957     6.475418  \n",
       "4      350.520471    15.824814  \n",
       "...           ...          ...  \n",
       "4808  1559.474781  1914.404537  \n",
       "4809  2144.336086   264.639448  \n",
       "4810  1571.751283  1902.370323  \n",
       "4811  2088.909998   467.305009  \n",
       "4812   396.818706   917.869222  \n",
       "\n",
       "[4813 rows x 7 columns]"
      ]
     },
     "execution_count": 82,
     "metadata": {},
     "output_type": "execute_result"
    }
   ],
   "source": [
    "filtered_df = pd.DataFrame([(track.ID, np.nanmax(track['mean_intensity-0']),np.nanmax(track['mean_intensity-1']),np.nanmax(track['mean_intensity-2']),np.nanmax(track['mean_intensity-3']), np.mean(track.x), np.mean(track.y)) for track in filtered_tracks], columns= cols)\n",
    "filtered_df"
   ]
  },
  {
   "cell_type": "code",
   "execution_count": 107,
   "id": "47f2c806",
   "metadata": {},
   "outputs": [
    {
     "data": {
      "image/png": "[encoded data removed]",
      "text/plain": [
       "<Figure size 1080x504 with 2 Axes>"
      ]
     },
     "metadata": {
      "needs_background": "light"
     },
     "output_type": "display_data"
    }
   ],
   "source": [
    "fig, ax =plt.subplots(1,2)\n",
    "fig.suptitle('Distribution of maximum pixel values between filtered and unfiltered tracks')\n",
    "sns.histplot((filtered_df['Max. int. NKX21'], filtered_df['Max. int. PDPN']), ax = ax[0])\n",
    "ax[0].set_title('Tracks filtered to be longer than 7 Z steps')\n",
    "ax[0].set(xlabel = 'Maximum pixel value over Z')\n",
    "sns.histplot((df['Max. int. NKX21'], df['Max. int. PDPN']), ax = ax[1])\n",
    "ax[1].set_title('All tracks')\n",
    "ax[1].set(xlabel = 'Maximum pixel value over Z')\n",
    "plt.savefig(os.path.join(output_dir, 'max_int_dist_filtered_comparison.jpg'), dpi = 314, bbox_inches = 'tight')"
   ]
  },
  {
   "cell_type": "markdown",
   "id": "73c886b4",
   "metadata": {},
   "source": [
    "# Need to define a cut-off for a \"positive\" PDPN and NKX21 value\n",
    "\n",
    "Generate glimpses and ask if a or b?"
   ]
  },
  {
   "cell_type": "code",
   "execution_count": 19,
   "id": "e1e6d13d",
   "metadata": {},
   "outputs": [],
   "source": [
    "def make_glimpse(random_coords, image, mask_stack, size = 100):\n",
    "    \n",
    "    ### get coords of glimpse\n",
    "    y, x, t = random_coords\n",
    "    \n",
    "    ### select frame of interest\n",
    "    frame = image[t]\n",
    "    ch1_frame = frame[...,1]\n",
    "    ch2_frame = frame[...,2]\n",
    "    ch3_frame = frame[...,3]\n",
    "    mask_frame = mask_stack[t]\n",
    "\n",
    "    ### obtain coordinates of bounding box of glimpse (centered on cell)\n",
    "    x1, x2, y1, y2 = x, x+size, y, y+size #coordinates to crop by, shifted bearing in mind a further coord shift (+100,+100) occurs due to image padding            \n",
    "    ### pad image incase cell goes off FOV\n",
    "    ch1_frame = np.pad(ch1_frame, int(size/2), 'constant', constant_values = 0) \n",
    "    ch2_frame = np.pad(ch2_frame, int(size/2), 'constant', constant_values = 0) \n",
    "    ch3_frame = np.pad(ch3_frame, int(size/2), 'constant', constant_values = 0) \n",
    "    mask_frame = np.pad(mask_frame, int(size/2), 'constant', constant_values = 0) \n",
    "    ## glimpse creation by cropping original image\n",
    "    ch1_glimpse = ch1_frame[int(x1): int(x2), int(y1): int(y2)]\n",
    "    ch2_glimpse = ch2_frame[int(x1): int(x2), int(y1): int(y2)]\n",
    "    ch3_glimpse = ch3_frame[int(x1): int(x2), int(y1): int(y2)]\n",
    "    ### mask outline creation \n",
    "    mask_glimpse = mask_frame[int(x1): int(x2), int(y1): int(y2)]\n",
    "    ### find pixel value of mask to extract single mask\n",
    "    mask_pix_val = mask_glimpse[int(size/2),int(size/2)]\n",
    "    mask_glimpse = (mask_glimpse ==mask_pix_val).astype(int)\n",
    "    ### create outline\n",
    "    mask_glimpse_erode = binary_erosion(mask_glimpse).astype(int)\n",
    "    outline = np.logical_xor(mask_glimpse_erode, mask_glimpse)\n",
    "    \n",
    "    return ch1_glimpse, ch2_glimpse, ch3_glimpse, outline"
   ]
  },
  {
   "cell_type": "code",
   "execution_count": 21,
   "id": "177419b5",
   "metadata": {},
   "outputs": [],
   "source": [
    "import random\n",
    "import warnings\n",
    "warnings.filterwarnings(\"ignore\")\n",
    "from skimage.morphology import binary_erosion"
   ]
  },
  {
   "cell_type": "code",
   "execution_count": null,
   "id": "ecd64968",
   "metadata": {},
   "outputs": [
    {
     "name": "stdout",
     "output_type": "stream",
     "text": [
      "Channel 2, PDPN\n",
      "Track ID:249, xyt:(953.5856697819314, 13.577881619937695, 8)\n",
      "Enter positive/negative as \"p\" or \"n\" for PDPN\n",
      "n\n",
      "Channel 2, PDPN\n",
      "Track ID:260, xyt:(1371.6518467852256, 15.842681258549932, 9)\n"
     ]
    },
    {
     "name": "stderr",
     "output_type": "stream",
     "text": [
      "WARNING: Unrecognized OpenGL version\n",
      "WARNING: Unrecognized OpenGL version\n"
     ]
    },
    {
     "name": "stdout",
     "output_type": "stream",
     "text": [
      "Enter positive/negative as \"p\" or \"n\" for PDPN\n",
      "n\n",
      "Channel 2, PDPN\n",
      "Track ID:259, xyt:(2120.6568471337578, 17.035828025477706, 10)\n"
     ]
    },
    {
     "name": "stderr",
     "output_type": "stream",
     "text": [
      "WARNING: Unrecognized OpenGL version\n",
      "WARNING: Unrecognized OpenGL version\n"
     ]
    },
    {
     "name": "stdout",
     "output_type": "stream",
     "text": [
      "Enter positive/negative as \"p\" or \"n\" for PDPN\n",
      "n\n",
      "Channel 2, PDPN\n",
      "Track ID:258, xyt:(238.95611285266457, 6.29153605015674, 7)\n"
     ]
    },
    {
     "name": "stderr",
     "output_type": "stream",
     "text": [
      "WARNING: Unrecognized OpenGL version\n",
      "WARNING: Unrecognized OpenGL version\n"
     ]
    },
    {
     "name": "stdout",
     "output_type": "stream",
     "text": [
      "Enter positive/negative as \"p\" or \"n\" for PDPN\n",
      "n\n",
      "Channel 2, PDPN\n",
      "Track ID:257, xyt:(349.8994643592913, 22.450762257931604, 7)\n"
     ]
    },
    {
     "name": "stderr",
     "output_type": "stream",
     "text": [
      "WARNING: Unrecognized OpenGL version\n",
      "WARNING: Unrecognized OpenGL version\n"
     ]
    },
    {
     "name": "stdout",
     "output_type": "stream",
     "text": [
      "Enter positive/negative as \"p\" or \"n\" for PDPN\n",
      "n\n",
      "Channel 1, KXC21\n",
      "Track ID:256, xyt:(477.56996587030716, 9.496018202502844, 7)\n"
     ]
    },
    {
     "name": "stderr",
     "output_type": "stream",
     "text": [
      "WARNING: Unrecognized OpenGL version\n",
      "WARNING: Unrecognized OpenGL version\n"
     ]
    },
    {
     "name": "stdout",
     "output_type": "stream",
     "text": [
      "Enter positive/negative as \"p\" or \"n\" for NKX21\n",
      "n\n",
      "Channel 2, PDPN\n",
      "Track ID:255, xyt:(521.0646706586826, 32.22694610778443, 8)\n"
     ]
    },
    {
     "name": "stderr",
     "output_type": "stream",
     "text": [
      "WARNING: Unrecognized OpenGL version\n",
      "WARNING: Unrecognized OpenGL version\n"
     ]
    },
    {
     "name": "stdout",
     "output_type": "stream",
     "text": [
      "Enter positive/negative as \"p\" or \"n\" for PDPN\n",
      "n\n",
      "Channel 2, PDPN\n",
      "Track ID:254, xyt:(522.7280701754386, 4.337719298245614, 8)\n"
     ]
    },
    {
     "name": "stderr",
     "output_type": "stream",
     "text": [
      "WARNING: Unrecognized OpenGL version\n",
      "WARNING: Unrecognized OpenGL version\n"
     ]
    },
    {
     "name": "stdout",
     "output_type": "stream",
     "text": [
      "Enter positive/negative as \"p\" or \"n\" for PDPN\n",
      "n\n",
      "Channel 2, PDPN\n",
      "Track ID:252, xyt:(576.5497175141243, 15.792090395480226, 8)\n"
     ]
    },
    {
     "name": "stderr",
     "output_type": "stream",
     "text": [
      "WARNING: Unrecognized OpenGL version\n",
      "WARNING: Unrecognized OpenGL version\n"
     ]
    },
    {
     "name": "stdout",
     "output_type": "stream",
     "text": [
      "Enter positive/negative as \"p\" or \"n\" for PDPN\n",
      "n\n",
      "Channel 2, PDPN\n",
      "Track ID:251, xyt:(1777.4908647990255, 17.24969549330085, 8)\n"
     ]
    },
    {
     "name": "stderr",
     "output_type": "stream",
     "text": [
      "WARNING: Unrecognized OpenGL version\n",
      "WARNING: Unrecognized OpenGL version\n"
     ]
    },
    {
     "name": "stdout",
     "output_type": "stream",
     "text": [
      "Enter positive/negative as \"p\" or \"n\" for PDPN\n",
      "n\n",
      "Channel 2, PDPN\n",
      "Track ID:250, xyt:(877.770731707317, 5.678048780487805, 9)\n"
     ]
    },
    {
     "name": "stderr",
     "output_type": "stream",
     "text": [
      "WARNING: Unrecognized OpenGL version\n",
      "WARNING: Unrecognized OpenGL version\n"
     ]
    },
    {
     "name": "stdout",
     "output_type": "stream",
     "text": [
      "Enter positive/negative as \"p\" or \"n\" for PDPN\n",
      "n\n",
      "Channel 2, PDPN\n",
      "Track ID:261, xyt:(675.4297872340426, 21.072340425531916, 8)\n"
     ]
    },
    {
     "name": "stderr",
     "output_type": "stream",
     "text": [
      "WARNING: Unrecognized OpenGL version\n",
      "WARNING: Unrecognized OpenGL version\n"
     ]
    },
    {
     "name": "stdout",
     "output_type": "stream",
     "text": [
      "Enter positive/negative as \"p\" or \"n\" for PDPN\n",
      "n\n",
      "Channel 1, KXC21\n",
      "Track ID:248, xyt:(1000.0732240437159, 14.71584699453552, 9)\n"
     ]
    },
    {
     "name": "stderr",
     "output_type": "stream",
     "text": [
      "WARNING: Unrecognized OpenGL version\n",
      "WARNING: Unrecognized OpenGL version\n"
     ]
    },
    {
     "name": "stdout",
     "output_type": "stream",
     "text": [
      "Enter positive/negative as \"p\" or \"n\" for NKX21\n"
     ]
    }
   ],
   "source": [
    "for track in (filtered_tracks):\n",
    "    ## randomly select which channel to choose from \n",
    "    if random.randint(0,1) <1:\n",
    "        print('Channel 1, KXC21')\n",
    "        ### extracting index of maximum intensity value\n",
    "        max_int = np.nanmax(track['mean_intensity-1'])\n",
    "        index_max_value = np.where(track['mean_intensity-1'] == max_int)[0][0]\n",
    "        ### extracting xyt coordinates of that cell at that time\n",
    "        random_coords = (track.x[index_max_value], track.y[index_max_value], track.t[index_max_value])\n",
    "        ### print selected glimpse info\n",
    "        print(f\"Track ID:{track.ID}, xyt:{random_coords}\")\n",
    "        ### make ch1 glimpse\n",
    "        ch1_glimpse, _, ch3_glimpse, outline = make_glimpse(random_coords, image, mask_stack, size = 100)\n",
    "        ### multiply the outline to both highlight it in the composite and fix the upper bound of the colormap\n",
    "        outline = outline *1000\n",
    "        ### launch a napari viewer to show glimpse\n",
    "        viewer = napari.Viewer()\n",
    "        viewer.add_image(ch1_glimpse, colormap = 'green', blending = 'additive', name = 'NKX21')\n",
    "        viewer.add_image(ch3_glimpse, colormap = 'gray', blending = 'additive', name = 'ZO1')\n",
    "        viewer.add_image(outline, colormap = 'magenta', blending = 'additive', name = 'Mask')\n",
    "        ### wait until image is closed to enter pos or negative \n",
    "        viewer.show(block=True)\n",
    "        ####\n",
    "        print(\"Enter positive/negative as \\\"p\\\" or \\\"n\\\" for NKX21\")\n",
    "        ch1_val = input()\n",
    "        ### record result\n",
    "        if ch1_val == 'p':\n",
    "            with open(\"NKCX21_positive.csv\",\"a\") as f:\n",
    "                f.write(f\"{max_int}\\n\")\n",
    "        elif ch1_val == 'n':\n",
    "            with open(\"NKCX21_negative.csv\",\"a\") as f:\n",
    "                f.write(f\"{max_int}\\n\")\n",
    "        else:\n",
    "            print('Did not recognise the positive/negative text input')\n",
    "    ### now the other channel     \n",
    "    else:\n",
    "        print('Channel 2, PDPN')\n",
    "        ### extracting index of maximum intensity value\n",
    "        max_int = np.nanmax(track['mean_intensity-2'])\n",
    "        index_max_value = np.where(track['mean_intensity-2'] == max_int)[0][0]\n",
    "        ### extracting xyt coordinates of that cell at that time\n",
    "        random_coords = (track.x[index_max_value], track.y[index_max_value], track.t[index_max_value])\n",
    "        ### print selected glimpse info\n",
    "        print(f\"Track ID:{track.ID}, xyt:{random_coords}\")\n",
    "        ### make ch2 glimpse\n",
    "        _, ch2_glimpse, ch3_glimpse, outline = make_glimpse(random_coords, image, mask_stack, size = 100)\n",
    "        ### multiply the outline to both highlight it in the composite and fix the upper bound of the colormap\n",
    "        outline = outline *1000\n",
    "        ### launch a napari viewer to show glimpse\n",
    "        viewer = napari.Viewer()\n",
    "        viewer.add_image(ch2_glimpse, colormap = 'red', blending = 'additive', name = 'PDPN')\n",
    "        viewer.add_image(ch3_glimpse, colormap = 'gray', blending = 'additive', name = 'ZO1')\n",
    "        viewer.add_image(outline, colormap = 'magenta', blending = 'additive', name = 'Mask')\n",
    "        ### wait until image is closed to enter pos or negative \n",
    "        viewer.show(block=True)\n",
    "        ####\n",
    "        print(\"Enter positive/negative as \\\"p\\\" or \\\"n\\\" for PDPN\")\n",
    "        ch1_val = input()\n",
    "        ### record result\n",
    "        if ch1_val == 'p':\n",
    "            with open(\"PDPN_positive.csv\",\"a\") as f:\n",
    "                f.write(f\"{max_int}\\n\")\n",
    "        elif ch1_val == 'n':\n",
    "            with open(\"PDPN_negative.csv\",\"a\") as f:\n",
    "                f.write(f\"{max_int}\\n\")\n",
    "        else:\n",
    "            print('Did not recognise the positive/negative text input')"
   ]
  }
 ],
 "metadata": {
  "kernelspec": {
   "display_name": "aero",
   "language": "python",
   "name": "aero"
  },
  "language_info": {
   "codemirror_mode": {
    "name": "ipython",
    "version": 3
   },
   "file_extension": ".py",
   "mimetype": "text/x-python",
   "name": "python",
   "nbconvert_exporter": "python",
   "pygments_lexer": "ipython3",
   "version": "3.9.12"
  }
 },
 "nbformat": 4,
 "nbformat_minor": 5
}
