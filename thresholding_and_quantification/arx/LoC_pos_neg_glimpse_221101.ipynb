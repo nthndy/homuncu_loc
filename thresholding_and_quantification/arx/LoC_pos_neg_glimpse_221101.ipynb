{
 "cells": [
  {
   "cell_type": "code",
   "execution_count": 1,
   "id": "18b20799",
   "metadata": {},
   "outputs": [],
   "source": [
    "import dask.array as da\n",
    "import napari\n",
    "import btrack\n",
    "from tqdm.auto import tqdm\n",
    "from skimage.io import imshow,  imsave, imread\n",
    "import matplotlib.pyplot as plt\n",
    "import numpy as np\n",
    "import skimage as ski\n",
    "import itertools\n",
    "import json\n",
    "\n",
    "plt.rcParams[\"figure.figsize\"] = (15,7)"
   ]
  },
  {
   "cell_type": "markdown",
   "id": "ce96b2e7",
   "metadata": {},
   "source": [
    "# Loading images"
   ]
  },
  {
   "cell_type": "code",
   "execution_count": 2,
   "id": "213a81f9",
   "metadata": {
    "scrolled": true
   },
   "outputs": [
    {
     "name": "stdout",
     "output_type": "stream",
     "text": [
      "CPU times: user 1.13 s, sys: 1.02 s, total: 2.15 s\n",
      "Wall time: 2.14 s\n"
     ]
    }
   ],
   "source": [
    "%%time\n",
    "image = imread('/mnt/DATA/sandbox/lung_on_chip/monolayer/20x_21-12-031B_A12456_Multichannel Z-Stack_20220811_113.vsi - 005 CF405, CF488, CF561, CF638.tif')"
   ]
  },
  {
   "cell_type": "code",
   "execution_count": 3,
   "id": "eaad067d",
   "metadata": {},
   "outputs": [],
   "source": [
    "import enum\n",
    "@enum.unique\n",
    "class Channels(enum.Enum): ### this is unique to the above acquisition (20x_21-12-031B_A12456_Multichannel Z-Stack_20220811_113.vsi - 005 CF405, CF488, CF561, CF638.tif)\n",
    "    DAPI = 0\n",
    "    NKX21 = 1\n",
    "    PDPN = 2\n",
    "    ZO1 = 3"
   ]
  },
  {
   "cell_type": "markdown",
   "id": "9dea566f",
   "metadata": {},
   "source": [
    "### crop image to dispose of blank z slices"
   ]
  },
  {
   "cell_type": "code",
   "execution_count": 4,
   "id": "89ff593a",
   "metadata": {},
   "outputs": [
    {
     "data": {
      "text/plain": [
       "(81, 2304, 2304, 4)"
      ]
     },
     "execution_count": 4,
     "metadata": {},
     "output_type": "execute_result"
    }
   ],
   "source": [
    "image.shape"
   ]
  },
  {
   "cell_type": "code",
   "execution_count": 5,
   "id": "a6eb95bd",
   "metadata": {},
   "outputs": [],
   "source": [
    "image = image[25:45]"
   ]
  },
  {
   "cell_type": "code",
   "execution_count": 6,
   "id": "52112ee5",
   "metadata": {},
   "outputs": [
    {
     "data": {
      "text/plain": [
       "(20, 2304, 2304, 4)"
      ]
     },
     "execution_count": 6,
     "metadata": {},
     "output_type": "execute_result"
    }
   ],
   "source": [
    "image.shape"
   ]
  },
  {
   "cell_type": "code",
   "execution_count": 7,
   "id": "b7ed9b24",
   "metadata": {},
   "outputs": [],
   "source": [
    "ch0 = image[...,0]\n",
    "ch1 = image[...,1]\n",
    "ch2 = image[...,2]\n",
    "ch3 = image[...,3]"
   ]
  },
  {
   "cell_type": "markdown",
   "id": "957137f3",
   "metadata": {},
   "source": [
    "# Segment images"
   ]
  },
  {
   "cell_type": "markdown",
   "id": "4c743c39",
   "metadata": {},
   "source": [
    "###### Initialise gpu"
   ]
  },
  {
   "cell_type": "code",
   "execution_count": 14,
   "id": "c671d58f",
   "metadata": {},
   "outputs": [
    {
     "name": "stdout",
     "output_type": "stream",
     "text": [
      "nvcc: NVIDIA (R) Cuda compiler driver\n",
      "Copyright (c) 2005-2019 NVIDIA Corporation\n",
      "Built on Sun_Jul_28_19:07:16_PDT_2019\n",
      "Cuda compilation tools, release 10.1, V10.1.243\n",
      "Mon Oct 31 15:46:32 2022       \n",
      "+-----------------------------------------------------------------------------+\n",
      "| NVIDIA-SMI 515.65.07    Driver Version: 515.65.07    CUDA Version: 11.7     |\n",
      "|-------------------------------+----------------------+----------------------+\n",
      "| GPU  Name        Persistence-M| Bus-Id        Disp.A | Volatile Uncorr. ECC |\n",
      "| Fan  Temp  Perf  Pwr:Usage/Cap|         Memory-Usage | GPU-Util  Compute M. |\n",
      "|                               |                      |               MIG M. |\n",
      "|===============================+======================+======================|\n",
      "|   0  NVIDIA RTX A6000    On   | 00000000:65:00.0  On |                  Off |\n",
      "| 30%   38C    P8    33W / 300W |   1452MiB / 49140MiB |      3%      Default |\n",
      "|                               |                      |                  N/A |\n",
      "+-------------------------------+----------------------+----------------------+\n",
      "                                                                               \n",
      "+-----------------------------------------------------------------------------+\n",
      "| Processes:                                                                  |\n",
      "|  GPU   GI   CI        PID   Type   Process name                  GPU Memory |\n",
      "|        ID   ID                                                   Usage      |\n",
      "|=============================================================================|\n",
      "|    0   N/A  N/A      1812      G   /usr/lib/xorg/Xorg                 39MiB |\n",
      "|    0   N/A  N/A      2955      G   /usr/lib/xorg/Xorg                239MiB |\n",
      "|    0   N/A  N/A      3099      G   /usr/bin/gnome-shell               56MiB |\n",
      "|    0   N/A  N/A     12814      G   /usr/lib/firefox/firefox          277MiB |\n",
      "|    0   N/A  N/A     13635      G   ...veSuggestionsOnlyOnDemand       77MiB |\n",
      "|    0   N/A  N/A     19594      C   ...nda3/envs/aero/bin/python      687MiB |\n",
      "|    0   N/A  N/A     20056      G   ...AAAAAAAAA= --shared-files       60MiB |\n",
      "+-----------------------------------------------------------------------------+\n",
      ">>> GPU activated? YES\n"
     ]
    }
   ],
   "source": [
    "!nvcc --version\n",
    "!nvidia-smi\n",
    "\n",
    "import os, shutil\n",
    "import numpy as np\n",
    "import matplotlib.pyplot as plt\n",
    "from cellpose import core, utils, io, models, metrics\n",
    "from glob import glob\n",
    "\n",
    "use_GPU = core.use_gpu()\n",
    "yn = ['NO', 'YES']\n",
    "print(f'>>> GPU activated? {yn[use_GPU]}')"
   ]
  },
  {
   "cell_type": "code",
   "execution_count": 11,
   "id": "4d1fe179",
   "metadata": {},
   "outputs": [
    {
     "data": {
      "application/vnd.jupyter.widget-view+json": {
       "model_id": "6daccc80dda44edf85b2048fdb8913d3",
       "version_major": 2,
       "version_minor": 0
      },
      "text/plain": [
       "  0%|          | 0/20 [00:00<?, ?it/s]"
      ]
     },
     "metadata": {},
     "output_type": "display_data"
    },
    {
     "name": "stdout",
     "output_type": "stream",
     "text": [
      "CPU times: user 4min 20s, sys: 34.9 s, total: 4min 55s\n",
      "Wall time: 4min 36s\n"
     ]
    }
   ],
   "source": [
    "%%time\n",
    "# define model_type='cyto' or model_type='nuclei'\n",
    "model = models.Cellpose(gpu=use_GPU, model_type='cyto')\n",
    "# define CHANNELS to run segementation on\n",
    "channels = [0,0]\n",
    "### define empty mask stack \n",
    "mask_stack = []\n",
    "### iterate over frames\n",
    "for frame in tqdm(ch3, total = len(ch3)):\n",
    "    ### run segmentation\n",
    "    masks, flows, styles, diams = model.eval(frame, diameter=None, flow_threshold=None, channels=channels)\n",
    "    ### append to mask stack\n",
    "    mask_stack.append(masks)\n",
    "mask_stack = np.stack(mask_stack, axis = 0)\n",
    "#mask_stack.to_zarr(f\"/mnt/DATA/sandbox/ch99.zarr/\", overwrite=False)"
   ]
  },
  {
   "cell_type": "code",
   "execution_count": 12,
   "id": "0ae4f825",
   "metadata": {},
   "outputs": [],
   "source": [
    "imsave('/mnt/DATA/sandbox/lung_on_chip/monolayer/cropped_[25:45]_masks.tif', mask_stack)"
   ]
  },
  {
   "cell_type": "markdown",
   "id": "d0d98cb3",
   "metadata": {},
   "source": [
    "### Skip to load if already segmented"
   ]
  },
  {
   "cell_type": "code",
   "execution_count": 8,
   "id": "f033fdda",
   "metadata": {},
   "outputs": [],
   "source": [
    "mask_stack = imread('/mnt/DATA/sandbox/lung_on_chip/monolayer/cropped_[25:45]_masks.tif')"
   ]
  },
  {
   "cell_type": "markdown",
   "id": "9b7d03a9",
   "metadata": {},
   "source": [
    "### Defining properties to measure similarities of z-slices\n",
    "\n",
    "Can use these features in latest version of btrack to aid in tracking by comparing features per-frame"
   ]
  },
  {
   "cell_type": "code",
   "execution_count": 9,
   "id": "841334ba",
   "metadata": {},
   "outputs": [],
   "source": [
    "props = ('axis_major_length', \n",
    "         'axis_minor_length', \n",
    "         'eccentricity', \n",
    "         'area', \n",
    "         'mean_intensity', \n",
    "         #'intensity_image', \n",
    "         'orientation')"
   ]
  },
  {
   "cell_type": "code",
   "execution_count": 10,
   "id": "930c7c36",
   "metadata": {},
   "outputs": [
    {
     "data": {
      "text/plain": [
       "(20, 2304, 2304, 4)"
      ]
     },
     "execution_count": 10,
     "metadata": {},
     "output_type": "execute_result"
    }
   ],
   "source": [
    "image.shape"
   ]
  },
  {
   "cell_type": "code",
   "execution_count": 11,
   "id": "dfafcece",
   "metadata": {
    "scrolled": false
   },
   "outputs": [
    {
     "name": "stderr",
     "output_type": "stream",
     "text": [
      "[INFO][2022/11/01 12:29:54 PM] Localizing objects from segmentation...\n",
      "[INFO][2022/11/01 12:29:54 PM] Found intensity_image data\n",
      "[INFO][2022/11/01 12:30:15 PM] Objects are of type: <class 'dict'>\n",
      "[INFO][2022/11/01 12:30:15 PM] ...Found 54892 objects in 20 frames.\n"
     ]
    }
   ],
   "source": [
    "objects = btrack.utils.segmentation_to_objects(\n",
    "    mask_stack, \n",
    "    image,\n",
    "    properties = props, \n",
    "    use_weighted_centroid=False)"
   ]
  },
  {
   "cell_type": "code",
   "execution_count": 12,
   "id": "c891cf98",
   "metadata": {},
   "outputs": [
    {
     "data": {
      "text/html": [
       "<table border=\"1\" class=\"dataframe\">\n",
       "  <thead>\n",
       "    <tr style=\"text-align: right;\">\n",
       "      <th></th>\n",
       "      <th>ID</th>\n",
       "      <th>x</th>\n",
       "      <th>y</th>\n",
       "      <th>z</th>\n",
       "      <th>t</th>\n",
       "      <th>dummy</th>\n",
       "      <th>states</th>\n",
       "      <th>label</th>\n",
       "      <th>prob</th>\n",
       "      <th>axis_major_length</th>\n",
       "      <th>axis_minor_length</th>\n",
       "      <th>eccentricity</th>\n",
       "      <th>area</th>\n",
       "      <th>mean_intensity-0</th>\n",
       "      <th>mean_intensity-1</th>\n",
       "      <th>mean_intensity-2</th>\n",
       "      <th>mean_intensity-3</th>\n",
       "      <th>orientation</th>\n",
       "    </tr>\n",
       "  </thead>\n",
       "  <tbody>\n",
       "    <tr>\n",
       "      <th>0</th>\n",
       "      <td>0</td>\n",
       "      <td>392.458115</td>\n",
       "      <td>8.020942</td>\n",
       "      <td>0.0</td>\n",
       "      <td>0</td>\n",
       "      <td>False</td>\n",
       "      <td>0</td>\n",
       "      <td>5</td>\n",
       "      <td>0.0</td>\n",
       "      <td>27.613145</td>\n",
       "      <td>18.401359</td>\n",
       "      <td>0.745596</td>\n",
       "      <td>382</td>\n",
       "      <td>130.358639</td>\n",
       "      <td>110.363874</td>\n",
       "      <td>174.395288</td>\n",
       "      <td>110.861257</td>\n",
       "      <td>-1.552149</td>\n",
       "    </tr>\n",
       "  </tbody>\n",
       "</table>"
      ],
      "text/plain": [
       "{'ID': 0, 'x': 392.4581151832461, 'y': 8.020942408376964, 'z': 0.0, 't': 0, 'dummy': False, 'states': 0, 'label': 5, 'prob': 0.0, 'axis_major_length': 27.61314528197772, 'axis_minor_length': 18.401358942514484, 'eccentricity': 0.7455957500428015, 'area': 382, 'mean_intensity-0': 130.3586387434555, 'mean_intensity-1': 110.36387434554973, 'mean_intensity-2': 174.39528795811518, 'mean_intensity-3': 110.86125654450262, 'orientation': -1.5521492889142368}"
      ]
     },
     "execution_count": 12,
     "metadata": {},
     "output_type": "execute_result"
    }
   ],
   "source": [
    "objects[0]"
   ]
  },
  {
   "cell_type": "markdown",
   "id": "138265d0",
   "metadata": {},
   "source": [
    "##### Tracking objs"
   ]
  },
  {
   "cell_type": "code",
   "execution_count": 13,
   "id": "03458da1",
   "metadata": {},
   "outputs": [
    {
     "name": "stderr",
     "output_type": "stream",
     "text": [
      "[INFO][2022/11/01 12:30:15 PM] Loaded btrack: /home/dayn/miniconda3/envs/aero/lib/python3.9/site-packages/btrack/libs/libtracker.so\n",
      "[INFO][2022/11/01 12:30:15 PM] btrack (v0.4.5) library imported\n",
      "[INFO][2022/11/01 12:30:15 PM] Starting BayesianTracker session\n",
      "[INFO][2022/11/01 12:30:15 PM] Loading configuration file: /home/dayn/analysis/BayesianTracker/models/particle_config.json\n",
      "[INFO][2022/11/01 12:30:15 PM] Objects are of type: <class 'list'>\n",
      "[INFO][2022/11/01 12:30:15 PM] Starting tracking... \n",
      "[INFO][2022/11/01 12:30:16 PM] Tracking objects in frames 0 to 20 (of 20)...\n",
      "[INFO][2022/11/01 12:39:39 PM]  - Timing (Bayesian updates: 250.90ms, Linking: 15.86ms)\n",
      "[INFO][2022/11/01 12:39:39 PM]  - Probabilities (Link: 1.00000, Lost: 1.00000)\n",
      "[INFO][2022/11/01 12:39:39 PM] SUCCESS.\n",
      "[INFO][2022/11/01 12:39:39 PM]  - Found 10191 tracks in 20 frames (in 0.0s)\n",
      "[INFO][2022/11/01 12:39:39 PM]  - Inserted 3064 dummy objects to fill tracking gaps\n",
      "[INFO][2022/11/01 12:39:39 PM] Loading hypothesis model: particle_hypothesis\n",
      "[INFO][2022/11/01 12:39:39 PM] Calculating hypotheses (relax: True)...\n",
      "[INFO][2022/11/01 12:39:40 PM] Setting up constraints matrix for global optimisation...\n",
      "[INFO][2022/11/01 12:39:40 PM] Using GLPK options: {'tm_lim': 60000}...\n",
      "[INFO][2022/11/01 12:39:40 PM] Optimizing...\n",
      "[INFO][2022/11/01 12:39:48 PM] Optimization complete. (Solution: optimal)\n",
      "[INFO][2022/11/01 12:39:48 PM]  - Fates.FALSE_POSITIVE: 3888 (of 10191)\n",
      "[INFO][2022/11/01 12:39:48 PM]  - Fates.LINK: 1140 (of 5680)\n",
      "[INFO][2022/11/01 12:39:48 PM]  - Fates.INITIALIZE_BORDER: 155 (of 276)\n",
      "[INFO][2022/11/01 12:39:48 PM]  - Fates.INITIALIZE_FRONT: 2736 (of 4119)\n",
      "[INFO][2022/11/01 12:39:48 PM]  - Fates.INITIALIZE_LAZY: 2272 (of 5796)\n",
      "[INFO][2022/11/01 12:39:48 PM]  - Fates.TERMINATE_BORDER: 164 (of 299)\n",
      "[INFO][2022/11/01 12:39:48 PM]  - Fates.TERMINATE_BACK: 2252 (of 3062)\n",
      "[INFO][2022/11/01 12:39:48 PM]  - Fates.TERMINATE_LAZY: 2747 (of 6830)\n",
      "[INFO][2022/11/01 12:39:48 PM]  - TOTAL: 36253 hypotheses\n",
      "[INFO][2022/11/01 12:39:48 PM] Completed optimization with 9051 tracks\n"
     ]
    },
    {
     "name": "stdout",
     "output_type": "stream",
     "text": [
      "GLPK Integer Optimizer 5.0\n",
      "40764 rows, 36253 columns, 52124 non-zeros\n",
      "36253 integer variables, all of which are binary\n",
      "Preprocessing...\n",
      "20382 rows, 36253 columns, 52124 non-zeros\n",
      "36253 integer variables, all of which are binary\n",
      "Scaling...\n",
      " A: min|aij| =  1.000e+00  max|aij| =  1.000e+00  ratio =  1.000e+00\n",
      "Problem data seem to be well scaled\n",
      "Constructing initial basis...\n",
      "Size of triangular part is 20382\n",
      "Solving LP relaxation...\n",
      "GLPK Simplex Optimizer 5.0\n",
      "20382 rows, 36253 columns, 52124 non-zeros\n",
      "*     0: obj =   9.093362532e+04 inf =   0.000e+00 (10626)\n",
      "Perturbing LP to avoid stalling [769]...\n",
      "*  6309: obj =   5.468005750e+04 inf =   0.000e+00 (2677) 2\n",
      "Removing LP perturbation [8797]...\n",
      "*  8797: obj =   5.079072059e+04 inf =   0.000e+00 (0) 3\n",
      "OPTIMAL LP SOLUTION FOUND\n",
      "Integer optimization begins...\n",
      "Long-step dual simplex will be used\n",
      "+  8797: mip =     not found yet >=              -inf        (1; 0)\n",
      "+  8797: >>>>>   5.079072059e+04 >=   5.079072059e+04   0.0% (1; 0)\n",
      "+  8797: mip =   5.079072059e+04 >=     tree is empty   0.0% (0; 1)\n",
      "INTEGER OPTIMAL SOLUTION FOUND\n"
     ]
    },
    {
     "name": "stderr",
     "output_type": "stream",
     "text": [
      "[INFO][2022/11/01 12:39:49 PM] Ending BayesianTracker session\n"
     ]
    }
   ],
   "source": [
    "# initialise a tracker session using a context manager\n",
    "with btrack.BayesianTracker() as tracker:\n",
    "  # configure the tracker using a config file\n",
    "  tracker.configure('/home/dayn/analysis/BayesianTracker/models/particle_config.json')\n",
    "  # append the objects to be tracked\n",
    "  tracker.append(objects)\n",
    "  # set the volume (Z axis volume limits default to [-1e5, 1e5] for 2D data)\n",
    "  tracker.volume = ((0, 2304), (0, 2304))\n",
    "  # track them (in interactive mode)\n",
    "  tracker.track_interactive(step_size=100)\n",
    "  # generate hypotheses and run the global optimizer\n",
    "  tracker.optimize()\n",
    "  # get the tracks as a python list\n",
    "  tracks = tracker.tracks\n",
    "  # filter tracks\n",
    "  tracks = [track for track in tracks if len(track) >= 3]\n",
    "  # optional: get the data in a format for napari\n",
    "  data, properties, graph = tracker.to_napari()"
   ]
  },
  {
   "cell_type": "code",
   "execution_count": 14,
   "id": "c30b831d",
   "metadata": {},
   "outputs": [
    {
     "data": {
      "text/html": [
       "<table border=\"1\" class=\"dataframe\">\n",
       "  <thead>\n",
       "    <tr style=\"text-align: right;\">\n",
       "      <th></th>\n",
       "      <th>ID</th>\n",
       "      <th>t</th>\n",
       "      <th>x</th>\n",
       "      <th>y</th>\n",
       "      <th>z</th>\n",
       "      <th>parent</th>\n",
       "      <th>root</th>\n",
       "      <th>state</th>\n",
       "      <th>generation</th>\n",
       "      <th>dummy</th>\n",
       "      <th>mean_intensity-0</th>\n",
       "      <th>orientation</th>\n",
       "      <th>area</th>\n",
       "      <th>axis_minor_length</th>\n",
       "      <th>mean_intensity-1</th>\n",
       "      <th>eccentricity</th>\n",
       "      <th>mean_intensity-3</th>\n",
       "      <th>axis_major_length</th>\n",
       "      <th>mean_intensity-2</th>\n",
       "    </tr>\n",
       "  </thead>\n",
       "  <tbody>\n",
       "    <tr>\n",
       "      <th>0</th>\n",
       "      <td>249</td>\n",
       "      <td>0</td>\n",
       "      <td>936.276316</td>\n",
       "      <td>4.782895</td>\n",
       "      <td>0.0</td>\n",
       "      <td>249</td>\n",
       "      <td>249</td>\n",
       "      <td>5</td>\n",
       "      <td>0</td>\n",
       "      <td>False</td>\n",
       "      <td>108.940789</td>\n",
       "      <td>1.353953</td>\n",
       "      <td>152.0</td>\n",
       "      <td>8.283823</td>\n",
       "      <td>106.736842</td>\n",
       "      <td>0.955675</td>\n",
       "      <td>102.934211</td>\n",
       "      <td>28.135619</td>\n",
       "      <td>124.611842</td>\n",
       "    </tr>\n",
       "    <tr>\n",
       "      <th>1</th>\n",
       "      <td>249</td>\n",
       "      <td>1</td>\n",
       "      <td>936.276316</td>\n",
       "      <td>4.782895</td>\n",
       "      <td>0.0</td>\n",
       "      <td>249</td>\n",
       "      <td>249</td>\n",
       "      <td>5</td>\n",
       "      <td>0</td>\n",
       "      <td>True</td>\n",
       "      <td>NaN</td>\n",
       "      <td>NaN</td>\n",
       "      <td>NaN</td>\n",
       "      <td>NaN</td>\n",
       "      <td>NaN</td>\n",
       "      <td>NaN</td>\n",
       "      <td>NaN</td>\n",
       "      <td>NaN</td>\n",
       "      <td>NaN</td>\n",
       "    </tr>\n",
       "    <tr>\n",
       "      <th>2</th>\n",
       "      <td>249</td>\n",
       "      <td>2</td>\n",
       "      <td>954.111489</td>\n",
       "      <td>13.088511</td>\n",
       "      <td>0.0</td>\n",
       "      <td>249</td>\n",
       "      <td>249</td>\n",
       "      <td>5</td>\n",
       "      <td>0</td>\n",
       "      <td>False</td>\n",
       "      <td>126.525957</td>\n",
       "      <td>1.253553</td>\n",
       "      <td>1175.0</td>\n",
       "      <td>25.171128</td>\n",
       "      <td>112.425532</td>\n",
       "      <td>0.910171</td>\n",
       "      <td>105.844255</td>\n",
       "      <td>60.765751</td>\n",
       "      <td>145.525957</td>\n",
       "    </tr>\n",
       "    <tr>\n",
       "      <th>3</th>\n",
       "      <td>249</td>\n",
       "      <td>3</td>\n",
       "      <td>954.094536</td>\n",
       "      <td>12.803122</td>\n",
       "      <td>0.0</td>\n",
       "      <td>249</td>\n",
       "      <td>249</td>\n",
       "      <td>5</td>\n",
       "      <td>0</td>\n",
       "      <td>False</td>\n",
       "      <td>133.771032</td>\n",
       "      <td>1.272991</td>\n",
       "      <td>1153.0</td>\n",
       "      <td>25.154871</td>\n",
       "      <td>114.293148</td>\n",
       "      <td>0.908695</td>\n",
       "      <td>107.304423</td>\n",
       "      <td>60.257003</td>\n",
       "      <td>160.717259</td>\n",
       "    </tr>\n",
       "    <tr>\n",
       "      <th>4</th>\n",
       "      <td>249</td>\n",
       "      <td>4</td>\n",
       "      <td>953.237569</td>\n",
       "      <td>12.458564</td>\n",
       "      <td>0.0</td>\n",
       "      <td>249</td>\n",
       "      <td>249</td>\n",
       "      <td>5</td>\n",
       "      <td>0</td>\n",
       "      <td>False</td>\n",
       "      <td>143.302947</td>\n",
       "      <td>1.265452</td>\n",
       "      <td>1086.0</td>\n",
       "      <td>23.726326</td>\n",
       "      <td>119.073665</td>\n",
       "      <td>0.917433</td>\n",
       "      <td>108.042357</td>\n",
       "      <td>59.630154</td>\n",
       "      <td>182.634438</td>\n",
       "    </tr>\n",
       "    <tr>\n",
       "      <th>5</th>\n",
       "      <td>249</td>\n",
       "      <td>5</td>\n",
       "      <td>953.189236</td>\n",
       "      <td>12.629340</td>\n",
       "      <td>0.0</td>\n",
       "      <td>249</td>\n",
       "      <td>249</td>\n",
       "      <td>5</td>\n",
       "      <td>0</td>\n",
       "      <td>False</td>\n",
       "      <td>166.092882</td>\n",
       "      <td>1.289878</td>\n",
       "      <td>1152.0</td>\n",
       "      <td>24.153422</td>\n",
       "      <td>127.302083</td>\n",
       "      <td>0.920153</td>\n",
       "      <td>112.963542</td>\n",
       "      <td>61.685307</td>\n",
       "      <td>219.818576</td>\n",
       "    </tr>\n",
       "    <tr>\n",
       "      <th>6</th>\n",
       "      <td>249</td>\n",
       "      <td>6</td>\n",
       "      <td>953.570863</td>\n",
       "      <td>13.035629</td>\n",
       "      <td>0.0</td>\n",
       "      <td>249</td>\n",
       "      <td>249</td>\n",
       "      <td>5</td>\n",
       "      <td>0</td>\n",
       "      <td>False</td>\n",
       "      <td>201.126683</td>\n",
       "      <td>1.291549</td>\n",
       "      <td>1263.0</td>\n",
       "      <td>25.389554</td>\n",
       "      <td>139.121140</td>\n",
       "      <td>0.918887</td>\n",
       "      <td>121.927949</td>\n",
       "      <td>64.355443</td>\n",
       "      <td>270.464766</td>\n",
       "    </tr>\n",
       "    <tr>\n",
       "      <th>7</th>\n",
       "      <td>249</td>\n",
       "      <td>7</td>\n",
       "      <td>954.778182</td>\n",
       "      <td>13.677818</td>\n",
       "      <td>0.0</td>\n",
       "      <td>249</td>\n",
       "      <td>249</td>\n",
       "      <td>5</td>\n",
       "      <td>0</td>\n",
       "      <td>False</td>\n",
       "      <td>252.410909</td>\n",
       "      <td>1.285253</td>\n",
       "      <td>1375.0</td>\n",
       "      <td>26.481379</td>\n",
       "      <td>157.090182</td>\n",
       "      <td>0.919305</td>\n",
       "      <td>135.199273</td>\n",
       "      <td>67.289014</td>\n",
       "      <td>326.021091</td>\n",
       "    </tr>\n",
       "    <tr>\n",
       "      <th>8</th>\n",
       "      <td>249</td>\n",
       "      <td>8</td>\n",
       "      <td>953.585670</td>\n",
       "      <td>13.577882</td>\n",
       "      <td>0.0</td>\n",
       "      <td>249</td>\n",
       "      <td>249</td>\n",
       "      <td>5</td>\n",
       "      <td>0</td>\n",
       "      <td>False</td>\n",
       "      <td>291.235202</td>\n",
       "      <td>1.296904</td>\n",
       "      <td>1284.0</td>\n",
       "      <td>26.410258</td>\n",
       "      <td>171.357477</td>\n",
       "      <td>0.907945</td>\n",
       "      <td>130.898754</td>\n",
       "      <td>63.018197</td>\n",
       "      <td>347.769470</td>\n",
       "    </tr>\n",
       "    <tr>\n",
       "      <th>9</th>\n",
       "      <td>249</td>\n",
       "      <td>9</td>\n",
       "      <td>951.431102</td>\n",
       "      <td>12.369094</td>\n",
       "      <td>0.0</td>\n",
       "      <td>249</td>\n",
       "      <td>249</td>\n",
       "      <td>5</td>\n",
       "      <td>0</td>\n",
       "      <td>False</td>\n",
       "      <td>301.447835</td>\n",
       "      <td>1.295192</td>\n",
       "      <td>1016.0</td>\n",
       "      <td>23.151007</td>\n",
       "      <td>176.244094</td>\n",
       "      <td>0.913558</td>\n",
       "      <td>123.546260</td>\n",
       "      <td>56.922897</td>\n",
       "      <td>321.000000</td>\n",
       "    </tr>\n",
       "  </tbody>\n",
       "</table>"
      ],
      "text/plain": [
       "OrderedDict([('ID', 249), ('t', [0, 1, 2, 3, 4, 5, 6, 7, 8, 9]), ('x', [936.2763157894736, 936.2763157894736, 954.1114893617022, 954.0945359930615, 953.2375690607735, 953.1892361111111, 953.5708630245447, 954.7781818181818, 953.5856697819314, 951.4311023622047]), ('y', [4.782894736842105, 4.782894736842105, 13.088510638297873, 12.803122289679099, 12.458563535911603, 12.629340277777779, 13.035629453681711, 13.677818181818182, 13.577881619937695, 12.369094488188976]), ('z', [0.0, 0.0, 0.0, 0.0, 0.0, 0.0, 0.0, 0.0, 0.0, 0.0]), ('parent', 249), ('root', 249), ('state', [5, 5, 5, 5, 5, 5, 5, 5, 5, 5]), ('generation', 0), ('dummy', [False, True, False, False, False, False, False, False, False, False]), ('mean_intensity-0', array([108.94078947,          nan, 126.52595745, 133.77103209,\n",
       "       143.30294659, 166.09288194, 201.1266825 , 252.41090909,\n",
       "       291.23520249, 301.44783465])), ('orientation', array([1.35395321,        nan, 1.25355335, 1.27299136, 1.26545224,\n",
       "       1.2898779 , 1.29154872, 1.28525303, 1.29690383, 1.29519163])), ('area', array([ 152.,   nan, 1175., 1153., 1086., 1152., 1263., 1375., 1284.,\n",
       "       1016.])), ('axis_minor_length', array([ 8.28382341,         nan, 25.1711277 , 25.15487147, 23.72632612,\n",
       "       24.15342217, 25.38955413, 26.48137876, 26.4102575 , 23.15100688])), ('mean_intensity-1', array([106.73684211,          nan, 112.42553191, 114.29314831,\n",
       "       119.07366483, 127.30208333, 139.12114014, 157.09018182,\n",
       "       171.35747664, 176.24409449])), ('eccentricity', array([0.95567466,        nan, 0.91017126, 0.90869543, 0.91743252,\n",
       "       0.92015311, 0.91888705, 0.91930457, 0.90794498, 0.91355814])), ('mean_intensity-3', array([102.93421053,          nan, 105.84425532, 107.30442324,\n",
       "       108.04235727, 112.96354167, 121.92794933, 135.19927273,\n",
       "       130.89875389, 123.54625984])), ('axis_major_length', array([28.13561861,         nan, 60.76575095, 60.25700288, 59.63015396,\n",
       "       61.68530721, 64.35544276, 67.28901409, 63.01819711, 56.92289683])), ('mean_intensity-2', array([124.61184211,          nan, 145.52595745, 160.71725932,\n",
       "       182.63443831, 219.81857639, 270.46476643, 326.02109091,\n",
       "       347.7694704 , 321.        ]))])"
      ]
     },
     "execution_count": 14,
     "metadata": {},
     "output_type": "execute_result"
    }
   ],
   "source": [
    "track = tracks[0]\n",
    "track"
   ]
  },
  {
   "cell_type": "markdown",
   "id": "e424880e",
   "metadata": {},
   "source": [
    "### Extracting single cell measures\n",
    "\n",
    " but first checking channel enumerations"
   ]
  },
  {
   "cell_type": "code",
   "execution_count": 297,
   "id": "17e733dc",
   "metadata": {},
   "outputs": [
    {
     "name": "stderr",
     "output_type": "stream",
     "text": [
      "/home/dayn/miniconda3/envs/aero/lib/python3.9/site-packages/napari_tools_menu/__init__.py:194: FutureWarning: Public access to Window.qt_viewer is deprecated and will be removed in\n",
      "v0.5.0. It is considered an \"implementation detail\" of the napari\n",
      "application, not part of the napari viewer model. If your use case\n",
      "requires access to qt_viewer, please open an issue to discuss.\n",
      "  self.tools_menu = ToolsMenu(self, self.qt_viewer.viewer)\n"
     ]
    },
    {
     "data": {
      "text/plain": [
       "<Tracks layer 'data' at 0x7f377809c850>"
      ]
     },
     "execution_count": 297,
     "metadata": {},
     "output_type": "execute_result"
    }
   ],
   "source": [
    "import napari\n",
    "\n",
    "v = napari.Viewer()\n",
    "\n",
    "v.add_image(ch0, name = Channels.DAPI.name, blending = 'additive', colormap='blue')\n",
    "v.add_image(ch1, name = Channels.NKX21.name, blending = 'additive', colormap='green')\n",
    "v.add_image(ch2, name = Channels.PDPN.name, blending = 'additive', colormap='red')\n",
    "v.add_image(ch3, name = Channels.ZO1.name, blending = 'additive', colormap='gray')\n",
    "v.add_labels(mask_stack)\n",
    "v.add_tracks(data)"
   ]
  },
  {
   "cell_type": "code",
   "execution_count": 28,
   "id": "d68c2682",
   "metadata": {},
   "outputs": [],
   "source": [
    "import pandas as pd"
   ]
  },
  {
   "cell_type": "code",
   "execution_count": 56,
   "id": "70722624",
   "metadata": {},
   "outputs": [],
   "source": [
    "cols = ['Cell ID', 'Max. int. DAPI', 'Max. int. NKX21', 'Max. int. PDPN', 'Max. int. ZO1', 'x', 'y']"
   ]
  },
  {
   "cell_type": "code",
   "execution_count": 89,
   "id": "260983e2",
   "metadata": {},
   "outputs": [
    {
     "data": {
      "text/html": [
       "<div>\n",
       "<style scoped>\n",
       "    .dataframe tbody tr th:only-of-type {\n",
       "        vertical-align: middle;\n",
       "    }\n",
       "\n",
       "    .dataframe tbody tr th {\n",
       "        vertical-align: top;\n",
       "    }\n",
       "\n",
       "    .dataframe thead th {\n",
       "        text-align: right;\n",
       "    }\n",
       "</style>\n",
       "<table border=\"1\" class=\"dataframe\">\n",
       "  <thead>\n",
       "    <tr style=\"text-align: right;\">\n",
       "      <th></th>\n",
       "      <th>Cell ID</th>\n",
       "      <th>Max. int. DAPI</th>\n",
       "      <th>Max. int. NKX21</th>\n",
       "      <th>Max. int. PDPN</th>\n",
       "      <th>Max. int. ZO1</th>\n",
       "      <th>x</th>\n",
       "      <th>y</th>\n",
       "    </tr>\n",
       "  </thead>\n",
       "  <tbody>\n",
       "    <tr>\n",
       "      <th>0</th>\n",
       "      <td>249</td>\n",
       "      <td>301.447835</td>\n",
       "      <td>176.244094</td>\n",
       "      <td>347.769470</td>\n",
       "      <td>135.199273</td>\n",
       "      <td>950.055128</td>\n",
       "      <td>11.320575</td>\n",
       "    </tr>\n",
       "    <tr>\n",
       "      <th>1</th>\n",
       "      <td>260</td>\n",
       "      <td>1660.750000</td>\n",
       "      <td>819.633333</td>\n",
       "      <td>651.004104</td>\n",
       "      <td>134.643639</td>\n",
       "      <td>1371.656425</td>\n",
       "      <td>15.771481</td>\n",
       "    </tr>\n",
       "    <tr>\n",
       "      <th>2</th>\n",
       "      <td>259</td>\n",
       "      <td>675.338376</td>\n",
       "      <td>355.360777</td>\n",
       "      <td>493.353503</td>\n",
       "      <td>129.640127</td>\n",
       "      <td>2121.861659</td>\n",
       "      <td>12.777158</td>\n",
       "    </tr>\n",
       "    <tr>\n",
       "      <th>3</th>\n",
       "      <td>258</td>\n",
       "      <td>1150.301205</td>\n",
       "      <td>431.990361</td>\n",
       "      <td>1205.507837</td>\n",
       "      <td>133.434066</td>\n",
       "      <td>238.755957</td>\n",
       "      <td>6.475418</td>\n",
       "    </tr>\n",
       "    <tr>\n",
       "      <th>4</th>\n",
       "      <td>257</td>\n",
       "      <td>412.382098</td>\n",
       "      <td>234.673347</td>\n",
       "      <td>439.279769</td>\n",
       "      <td>128.212425</td>\n",
       "      <td>350.520471</td>\n",
       "      <td>15.824814</td>\n",
       "    </tr>\n",
       "    <tr>\n",
       "      <th>...</th>\n",
       "      <td>...</td>\n",
       "      <td>...</td>\n",
       "      <td>...</td>\n",
       "      <td>...</td>\n",
       "      <td>...</td>\n",
       "      <td>...</td>\n",
       "      <td>...</td>\n",
       "    </tr>\n",
       "    <tr>\n",
       "      <th>5322</th>\n",
       "      <td>9825</td>\n",
       "      <td>1429.236364</td>\n",
       "      <td>549.181818</td>\n",
       "      <td>1125.775510</td>\n",
       "      <td>253.359184</td>\n",
       "      <td>2271.978656</td>\n",
       "      <td>1966.256476</td>\n",
       "    </tr>\n",
       "    <tr>\n",
       "      <th>5323</th>\n",
       "      <td>9659</td>\n",
       "      <td>1267.489130</td>\n",
       "      <td>776.347826</td>\n",
       "      <td>547.527273</td>\n",
       "      <td>386.927273</td>\n",
       "      <td>669.513757</td>\n",
       "      <td>2266.294713</td>\n",
       "    </tr>\n",
       "    <tr>\n",
       "      <th>5324</th>\n",
       "      <td>9702</td>\n",
       "      <td>740.683824</td>\n",
       "      <td>325.926471</td>\n",
       "      <td>1076.066667</td>\n",
       "      <td>246.566667</td>\n",
       "      <td>3.957939</td>\n",
       "      <td>2177.522073</td>\n",
       "    </tr>\n",
       "    <tr>\n",
       "      <th>5325</th>\n",
       "      <td>10039</td>\n",
       "      <td>231.741935</td>\n",
       "      <td>159.129032</td>\n",
       "      <td>205.427419</td>\n",
       "      <td>196.948718</td>\n",
       "      <td>165.368762</td>\n",
       "      <td>32.066998</td>\n",
       "    </tr>\n",
       "    <tr>\n",
       "      <th>5326</th>\n",
       "      <td>9957</td>\n",
       "      <td>479.469136</td>\n",
       "      <td>299.469136</td>\n",
       "      <td>388.408638</td>\n",
       "      <td>184.543210</td>\n",
       "      <td>1203.591608</td>\n",
       "      <td>2268.306181</td>\n",
       "    </tr>\n",
       "  </tbody>\n",
       "</table>\n",
       "<p>5327 rows × 7 columns</p>\n",
       "</div>"
      ],
      "text/plain": [
       "      Cell ID  Max. int. DAPI  Max. int. NKX21  Max. int. PDPN  Max. int. ZO1  \\\n",
       "0         249      301.447835       176.244094      347.769470     135.199273   \n",
       "1         260     1660.750000       819.633333      651.004104     134.643639   \n",
       "2         259      675.338376       355.360777      493.353503     129.640127   \n",
       "3         258     1150.301205       431.990361     1205.507837     133.434066   \n",
       "4         257      412.382098       234.673347      439.279769     128.212425   \n",
       "...       ...             ...              ...             ...            ...   \n",
       "5322     9825     1429.236364       549.181818     1125.775510     253.359184   \n",
       "5323     9659     1267.489130       776.347826      547.527273     386.927273   \n",
       "5324     9702      740.683824       325.926471     1076.066667     246.566667   \n",
       "5325    10039      231.741935       159.129032      205.427419     196.948718   \n",
       "5326     9957      479.469136       299.469136      388.408638     184.543210   \n",
       "\n",
       "                x            y  \n",
       "0      950.055128    11.320575  \n",
       "1     1371.656425    15.771481  \n",
       "2     2121.861659    12.777158  \n",
       "3      238.755957     6.475418  \n",
       "4      350.520471    15.824814  \n",
       "...           ...          ...  \n",
       "5322  2271.978656  1966.256476  \n",
       "5323   669.513757  2266.294713  \n",
       "5324     3.957939  2177.522073  \n",
       "5325   165.368762    32.066998  \n",
       "5326  1203.591608  2268.306181  \n",
       "\n",
       "[5327 rows x 7 columns]"
      ]
     },
     "execution_count": 89,
     "metadata": {},
     "output_type": "execute_result"
    }
   ],
   "source": [
    "df = pd.DataFrame([(track.ID, np.nanmax(track['mean_intensity-0']),np.nanmax(track['mean_intensity-1']),np.nanmax(track['mean_intensity-2']),np.nanmax(track['mean_intensity-3']), np.mean(track.x), np.mean(track.y)) for track in tracks], columns= cols)\n",
    "pd.DataFrame([(track.ID, np.nanmax(track['mean_intensity-0']),np.nanmax(track['mean_intensity-1']),np.nanmax(track['mean_intensity-2']),np.nanmax(track['mean_intensity-3']), np.mean(track.x), np.mean(track.y)) for track in tracks], columns= cols)"
   ]
  },
  {
   "cell_type": "code",
   "execution_count": 73,
   "id": "ed96667e",
   "metadata": {},
   "outputs": [
    {
     "data": {
      "text/html": [
       "<table border=\"1\" class=\"dataframe\">\n",
       "  <thead>\n",
       "    <tr style=\"text-align: right;\">\n",
       "      <th></th>\n",
       "      <th>ID</th>\n",
       "      <th>t</th>\n",
       "      <th>x</th>\n",
       "      <th>y</th>\n",
       "      <th>z</th>\n",
       "      <th>parent</th>\n",
       "      <th>root</th>\n",
       "      <th>state</th>\n",
       "      <th>generation</th>\n",
       "      <th>dummy</th>\n",
       "      <th>axis_major_length</th>\n",
       "      <th>mean_intensity-1</th>\n",
       "      <th>area</th>\n",
       "      <th>axis_minor_length</th>\n",
       "      <th>orientation</th>\n",
       "      <th>mean_intensity-3</th>\n",
       "      <th>mean_intensity-2</th>\n",
       "      <th>mean_intensity-0</th>\n",
       "      <th>eccentricity</th>\n",
       "    </tr>\n",
       "  </thead>\n",
       "  <tbody>\n",
       "    <tr>\n",
       "      <th>0</th>\n",
       "      <td>10039</td>\n",
       "      <td>17</td>\n",
       "      <td>163.564516</td>\n",
       "      <td>33.516129</td>\n",
       "      <td>0.0</td>\n",
       "      <td>10039</td>\n",
       "      <td>10039</td>\n",
       "      <td>5</td>\n",
       "      <td>0</td>\n",
       "      <td>False</td>\n",
       "      <td>14.284780</td>\n",
       "      <td>150.258065</td>\n",
       "      <td>124</td>\n",
       "      <td>11.153046</td>\n",
       "      <td>-0.849973</td>\n",
       "      <td>148.564516</td>\n",
       "      <td>205.427419</td>\n",
       "      <td>223.669355</td>\n",
       "      <td>0.624826</td>\n",
       "    </tr>\n",
       "    <tr>\n",
       "      <th>1</th>\n",
       "      <td>10039</td>\n",
       "      <td>18</td>\n",
       "      <td>166.516129</td>\n",
       "      <td>30.838710</td>\n",
       "      <td>0.0</td>\n",
       "      <td>10039</td>\n",
       "      <td>10039</td>\n",
       "      <td>5</td>\n",
       "      <td>0</td>\n",
       "      <td>False</td>\n",
       "      <td>7.672945</td>\n",
       "      <td>159.129032</td>\n",
       "      <td>31</td>\n",
       "      <td>5.558694</td>\n",
       "      <td>-0.487105</td>\n",
       "      <td>168.161290</td>\n",
       "      <td>197.903226</td>\n",
       "      <td>231.741935</td>\n",
       "      <td>0.689323</td>\n",
       "    </tr>\n",
       "    <tr>\n",
       "      <th>2</th>\n",
       "      <td>10039</td>\n",
       "      <td>19</td>\n",
       "      <td>166.025641</td>\n",
       "      <td>31.846154</td>\n",
       "      <td>0.0</td>\n",
       "      <td>10039</td>\n",
       "      <td>10039</td>\n",
       "      <td>5</td>\n",
       "      <td>0</td>\n",
       "      <td>False</td>\n",
       "      <td>7.600571</td>\n",
       "      <td>146.692308</td>\n",
       "      <td>39</td>\n",
       "      <td>6.935310</td>\n",
       "      <td>0.274687</td>\n",
       "      <td>196.948718</td>\n",
       "      <td>185.897436</td>\n",
       "      <td>213.230769</td>\n",
       "      <td>0.409139</td>\n",
       "    </tr>\n",
       "  </tbody>\n",
       "</table>"
      ],
      "text/plain": [
       "OrderedDict([('ID', 10039), ('t', [17, 18, 19]), ('x', [163.56451612903226, 166.51612903225808, 166.02564102564102]), ('y', [33.516129032258064, 30.838709677419356, 31.846153846153847]), ('z', [0.0, 0.0, 0.0]), ('parent', 10039), ('root', 10039), ('state', [5, 5, 5]), ('generation', 0), ('dummy', [False, False, False]), ('axis_major_length', array([14.2847801 ,  7.67294464,  7.60057068])), ('mean_intensity-1', array([150.25806452, 159.12903226, 146.69230769])), ('area', array([124,  31,  39])), ('axis_minor_length', array([11.15304564,  5.55869351,  6.93530951])), ('orientation', array([-0.84997349, -0.48710512,  0.27468724])), ('mean_intensity-3', array([148.56451613, 168.16129032, 196.94871795])), ('mean_intensity-2', array([205.42741935, 197.90322581, 185.8974359 ])), ('mean_intensity-0', array([223.66935484, 231.74193548, 213.23076923])), ('eccentricity', array([0.62482572, 0.68932341, 0.40913869]))])"
      ]
     },
     "execution_count": 73,
     "metadata": {},
     "output_type": "execute_result"
    }
   ],
   "source": [
    "[track for track in tracks if track.ID == 10039][0]"
   ]
  },
  {
   "cell_type": "code",
   "execution_count": 104,
   "id": "f5291b56",
   "metadata": {},
   "outputs": [],
   "source": [
    "import seaborn as sns\n",
    "import os"
   ]
  },
  {
   "cell_type": "code",
   "execution_count": 102,
   "id": "db85a791",
   "metadata": {},
   "outputs": [],
   "source": [
    "output_dir = '/home/dayn/Documents/presentations/221101_LoC'"
   ]
  },
  {
   "cell_type": "code",
   "execution_count": 105,
   "id": "60488b36",
   "metadata": {},
   "outputs": [
    {
     "data": {
      "image/png": "[encoded data removed]",
      "text/plain": [
       "<Figure size 1080x504 with 1 Axes>"
      ]
     },
     "metadata": {
      "needs_background": "light"
     },
     "output_type": "display_data"
    }
   ],
   "source": [
    "sns.histplot((df['Max. int. NKX21'], df['Max. int. PDPN']))\n",
    "plt.title('Distribution of maximum pixel intensities')\n",
    "plt.xlabel('Maximum pixel value')\n",
    "plt.savefig(os.path.join(output_dir, 'max_int_dist.jpg'), dpi = 314, bbox_inches = 'tight')"
   ]
  },
  {
   "cell_type": "code",
   "execution_count": 106,
   "id": "0a974f5b",
   "metadata": {},
   "outputs": [
    {
     "data": {
      "image/png": "[encoded data removed]",
      "text/plain": [
       "<Figure size 1080x504 with 1 Axes>"
      ]
     },
     "metadata": {
      "needs_background": "light"
     },
     "output_type": "display_data"
    }
   ],
   "source": [
    "sns.histplot([len(track) for track in tracks], bins = 15)\n",
    "plt.title('Distrbution of track lengths over Z')\n",
    "plt.xlabel('Track length')\n",
    "plt.savefig(os.path.join(output_dir, 'track_length_dist.jpg'), dpi = 314, bbox_inches = 'tight')"
   ]
  },
  {
   "cell_type": "markdown",
   "id": "cf50cabd",
   "metadata": {},
   "source": [
    "## Filtering track lengths"
   ]
  },
  {
   "cell_type": "code",
   "execution_count": 15,
   "id": "23dd125d",
   "metadata": {},
   "outputs": [],
   "source": [
    "filtered_tracks = [track for track in tracks if len(track) > 7]"
   ]
  },
  {
   "cell_type": "code",
   "execution_count": 82,
   "id": "63e414ff",
   "metadata": {},
   "outputs": [
    {
     "data": {
      "text/html": [
       "<div>\n",
       "<style scoped>\n",
       "    .dataframe tbody tr th:only-of-type {\n",
       "        vertical-align: middle;\n",
       "    }\n",
       "\n",
       "    .dataframe tbody tr th {\n",
       "        vertical-align: top;\n",
       "    }\n",
       "\n",
       "    .dataframe thead th {\n",
       "        text-align: right;\n",
       "    }\n",
       "</style>\n",
       "<table border=\"1\" class=\"dataframe\">\n",
       "  <thead>\n",
       "    <tr style=\"text-align: right;\">\n",
       "      <th></th>\n",
       "      <th>Cell ID</th>\n",
       "      <th>Max. int. DAPI</th>\n",
       "      <th>Max. int. NKX21</th>\n",
       "      <th>Max. int. PDPN</th>\n",
       "      <th>Max. int. ZO1</th>\n",
       "      <th>x</th>\n",
       "      <th>y</th>\n",
       "    </tr>\n",
       "  </thead>\n",
       "  <tbody>\n",
       "    <tr>\n",
       "      <th>0</th>\n",
       "      <td>249</td>\n",
       "      <td>301.447835</td>\n",
       "      <td>176.244094</td>\n",
       "      <td>347.769470</td>\n",
       "      <td>135.199273</td>\n",
       "      <td>950.055128</td>\n",
       "      <td>11.320575</td>\n",
       "    </tr>\n",
       "    <tr>\n",
       "      <th>1</th>\n",
       "      <td>260</td>\n",
       "      <td>1660.750000</td>\n",
       "      <td>819.633333</td>\n",
       "      <td>651.004104</td>\n",
       "      <td>134.643639</td>\n",
       "      <td>1371.656425</td>\n",
       "      <td>15.771481</td>\n",
       "    </tr>\n",
       "    <tr>\n",
       "      <th>2</th>\n",
       "      <td>259</td>\n",
       "      <td>675.338376</td>\n",
       "      <td>355.360777</td>\n",
       "      <td>493.353503</td>\n",
       "      <td>129.640127</td>\n",
       "      <td>2121.861659</td>\n",
       "      <td>12.777158</td>\n",
       "    </tr>\n",
       "    <tr>\n",
       "      <th>3</th>\n",
       "      <td>258</td>\n",
       "      <td>1150.301205</td>\n",
       "      <td>431.990361</td>\n",
       "      <td>1205.507837</td>\n",
       "      <td>133.434066</td>\n",
       "      <td>238.755957</td>\n",
       "      <td>6.475418</td>\n",
       "    </tr>\n",
       "    <tr>\n",
       "      <th>4</th>\n",
       "      <td>257</td>\n",
       "      <td>412.382098</td>\n",
       "      <td>234.673347</td>\n",
       "      <td>439.279769</td>\n",
       "      <td>128.212425</td>\n",
       "      <td>350.520471</td>\n",
       "      <td>15.824814</td>\n",
       "    </tr>\n",
       "    <tr>\n",
       "      <th>...</th>\n",
       "      <td>...</td>\n",
       "      <td>...</td>\n",
       "      <td>...</td>\n",
       "      <td>...</td>\n",
       "      <td>...</td>\n",
       "      <td>...</td>\n",
       "      <td>...</td>\n",
       "    </tr>\n",
       "    <tr>\n",
       "      <th>4808</th>\n",
       "      <td>8201</td>\n",
       "      <td>1467.596639</td>\n",
       "      <td>885.277311</td>\n",
       "      <td>652.621495</td>\n",
       "      <td>175.070093</td>\n",
       "      <td>1559.474781</td>\n",
       "      <td>1914.404537</td>\n",
       "    </tr>\n",
       "    <tr>\n",
       "      <th>4809</th>\n",
       "      <td>8323</td>\n",
       "      <td>314.666667</td>\n",
       "      <td>171.900000</td>\n",
       "      <td>1099.533333</td>\n",
       "      <td>266.453333</td>\n",
       "      <td>2144.336086</td>\n",
       "      <td>264.639448</td>\n",
       "    </tr>\n",
       "    <tr>\n",
       "      <th>4810</th>\n",
       "      <td>8527</td>\n",
       "      <td>1265.281553</td>\n",
       "      <td>784.461165</td>\n",
       "      <td>849.706714</td>\n",
       "      <td>187.769231</td>\n",
       "      <td>1571.751283</td>\n",
       "      <td>1902.370323</td>\n",
       "    </tr>\n",
       "    <tr>\n",
       "      <th>4811</th>\n",
       "      <td>8609</td>\n",
       "      <td>300.933798</td>\n",
       "      <td>170.275261</td>\n",
       "      <td>309.250871</td>\n",
       "      <td>209.336245</td>\n",
       "      <td>2088.909998</td>\n",
       "      <td>467.305009</td>\n",
       "    </tr>\n",
       "    <tr>\n",
       "      <th>4812</th>\n",
       "      <td>8571</td>\n",
       "      <td>575.269939</td>\n",
       "      <td>320.828221</td>\n",
       "      <td>981.000000</td>\n",
       "      <td>242.000000</td>\n",
       "      <td>396.818706</td>\n",
       "      <td>917.869222</td>\n",
       "    </tr>\n",
       "  </tbody>\n",
       "</table>\n",
       "<p>4813 rows × 7 columns</p>\n",
       "</div>"
      ],
      "text/plain": [
       "      Cell ID  Max. int. DAPI  Max. int. NKX21  Max. int. PDPN  Max. int. ZO1  \\\n",
       "0         249      301.447835       176.244094      347.769470     135.199273   \n",
       "1         260     1660.750000       819.633333      651.004104     134.643639   \n",
       "2         259      675.338376       355.360777      493.353503     129.640127   \n",
       "3         258     1150.301205       431.990361     1205.507837     133.434066   \n",
       "4         257      412.382098       234.673347      439.279769     128.212425   \n",
       "...       ...             ...              ...             ...            ...   \n",
       "4808     8201     1467.596639       885.277311      652.621495     175.070093   \n",
       "4809     8323      314.666667       171.900000     1099.533333     266.453333   \n",
       "4810     8527     1265.281553       784.461165      849.706714     187.769231   \n",
       "4811     8609      300.933798       170.275261      309.250871     209.336245   \n",
       "4812     8571      575.269939       320.828221      981.000000     242.000000   \n",
       "\n",
       "                x            y  \n",
       "0      950.055128    11.320575  \n",
       "1     1371.656425    15.771481  \n",
       "2     2121.861659    12.777158  \n",
       "3      238.755957     6.475418  \n",
       "4      350.520471    15.824814  \n",
       "...           ...          ...  \n",
       "4808  1559.474781  1914.404537  \n",
       "4809  2144.336086   264.639448  \n",
       "4810  1571.751283  1902.370323  \n",
       "4811  2088.909998   467.305009  \n",
       "4812   396.818706   917.869222  \n",
       "\n",
       "[4813 rows x 7 columns]"
      ]
     },
     "execution_count": 82,
     "metadata": {},
     "output_type": "execute_result"
    }
   ],
   "source": [
    "filtered_df = pd.DataFrame([(track.ID, np.nanmax(track['mean_intensity-0']),np.nanmax(track['mean_intensity-1']),np.nanmax(track['mean_intensity-2']),np.nanmax(track['mean_intensity-3']), np.mean(track.x), np.mean(track.y)) for track in filtered_tracks], columns= cols)\n",
    "filtered_df"
   ]
  },
  {
   "cell_type": "code",
   "execution_count": 107,
   "id": "47f2c806",
   "metadata": {},
   "outputs": [
    {
     "data": {
      "image/png": "[encoded data removed]",
      "text/plain": [
       "<Figure size 1080x504 with 2 Axes>"
      ]
     },
     "metadata": {
      "needs_background": "light"
     },
     "output_type": "display_data"
    }
   ],
   "source": [
    "fig, ax =plt.subplots(1,2)\n",
    "fig.suptitle('Distribution of maximum pixel values between filtered and unfiltered tracks')\n",
    "sns.histplot((filtered_df['Max. int. NKX21'], filtered_df['Max. int. PDPN']), ax = ax[0])\n",
    "ax[0].set_title('Tracks filtered to be longer than 7 Z steps')\n",
    "ax[0].set(xlabel = 'Maximum pixel value over Z')\n",
    "sns.histplot((df['Max. int. NKX21'], df['Max. int. PDPN']), ax = ax[1])\n",
    "ax[1].set_title('All tracks')\n",
    "ax[1].set(xlabel = 'Maximum pixel value over Z')\n",
    "plt.savefig(os.path.join(output_dir, 'max_int_dist_filtered_comparison.jpg'), dpi = 314, bbox_inches = 'tight')"
   ]
  },
  {
   "cell_type": "markdown",
   "id": "73c886b4",
   "metadata": {},
   "source": [
    "# Need to define a cut-off for a \"positive\" PDPN and NKX21 value\n",
    "\n",
    "Generate glimpses and ask if a or b?"
   ]
  },
  {
   "cell_type": "code",
   "execution_count": 19,
   "id": "e1e6d13d",
   "metadata": {},
   "outputs": [],
   "source": [
    "def make_glimpse(random_coords, image, mask_stack, size = 100):\n",
    "    \n",
    "    ### get coords of glimpse\n",
    "    y, x, t = random_coords\n",
    "    \n",
    "    ### select frame of interest\n",
    "    frame = image[t]\n",
    "    ch1_frame = frame[...,1]\n",
    "    ch2_frame = frame[...,2]\n",
    "    ch3_frame = frame[...,3]\n",
    "    mask_frame = mask_stack[t]\n",
    "\n",
    "    ### obtain coordinates of bounding box of glimpse (centered on cell)\n",
    "    x1, x2, y1, y2 = x, x+size, y, y+size #coordinates to crop by, shifted bearing in mind a further coord shift (+100,+100) occurs due to image padding            \n",
    "    ### pad image incase cell goes off FOV\n",
    "    ch1_frame = np.pad(ch1_frame, int(size/2), 'constant', constant_values = 0) \n",
    "    ch2_frame = np.pad(ch2_frame, int(size/2), 'constant', constant_values = 0) \n",
    "    ch3_frame = np.pad(ch3_frame, int(size/2), 'constant', constant_values = 0) \n",
    "    mask_frame = np.pad(mask_frame, int(size/2), 'constant', constant_values = 0) \n",
    "    ## glimpse creation by cropping original image\n",
    "    ch1_glimpse = ch1_frame[int(x1): int(x2), int(y1): int(y2)]\n",
    "    ch2_glimpse = ch2_frame[int(x1): int(x2), int(y1): int(y2)]\n",
    "    ch3_glimpse = ch3_frame[int(x1): int(x2), int(y1): int(y2)]\n",
    "    ### mask outline creation \n",
    "    mask_glimpse = mask_frame[int(x1): int(x2), int(y1): int(y2)]\n",
    "    ### find pixel value of mask to extract single mask\n",
    "    mask_pix_val = mask_glimpse[int(size/2),int(size/2)]\n",
    "    mask_glimpse = (mask_glimpse ==mask_pix_val).astype(int)\n",
    "    ### create outline\n",
    "    mask_glimpse_erode = binary_erosion(mask_glimpse).astype(int)\n",
    "    outline = np.logical_xor(mask_glimpse_erode, mask_glimpse)\n",
    "    \n",
    "    return ch1_glimpse, ch2_glimpse, ch3_glimpse, outline"
   ]
  },
  {
   "cell_type": "code",
   "execution_count": 21,
   "id": "177419b5",
   "metadata": {},
   "outputs": [],
   "source": [
    "import random\n",
    "import warnings\n",
    "warnings.filterwarnings(\"ignore\")\n",
    "from skimage.morphology import binary_erosion"
   ]
  },
  {
   "cell_type": "code",
   "execution_count": null,
   "id": "ecd64968",
   "metadata": {},
   "outputs": [
    {
     "name": "stdout",
     "output_type": "stream",
     "text": [
      "Channel 2, PDPN\n",
      "Track ID:249, xyt:(953.5856697819314, 13.577881619937695, 8)\n",
      "Enter positive/negative as \"p\" or \"n\" for PDPN\n",
      "n\n",
      "Channel 2, PDPN\n",
      "Track ID:260, xyt:(1371.6518467852256, 15.842681258549932, 9)\n"
     ]
    },
    {
     "name": "stderr",
     "output_type": "stream",
     "text": [
      "WARNING: Unrecognized OpenGL version\n",
      "WARNING: Unrecognized OpenGL version\n"
     ]
    },
    {
     "name": "stdout",
     "output_type": "stream",
     "text": [
      "Enter positive/negative as \"p\" or \"n\" for PDPN\n",
      "n\n",
      "Channel 2, PDPN\n",
      "Track ID:259, xyt:(2120.6568471337578, 17.035828025477706, 10)\n"
     ]
    },
    {
     "name": "stderr",
     "output_type": "stream",
     "text": [
      "WARNING: Unrecognized OpenGL version\n",
      "WARNING: Unrecognized OpenGL version\n"
     ]
    },
    {
     "name": "stdout",
     "output_type": "stream",
     "text": [
      "Enter positive/negative as \"p\" or \"n\" for PDPN\n",
      "n\n",
      "Channel 2, PDPN\n",
      "Track ID:258, xyt:(238.95611285266457, 6.29153605015674, 7)\n"
     ]
    },
    {
     "name": "stderr",
     "output_type": "stream",
     "text": [
      "WARNING: Unrecognized OpenGL version\n",
      "WARNING: Unrecognized OpenGL version\n"
     ]
    },
    {
     "name": "stdout",
     "output_type": "stream",
     "text": [
      "Enter positive/negative as \"p\" or \"n\" for PDPN\n",
      "n\n",
      "Channel 2, PDPN\n",
      "Track ID:257, xyt:(349.8994643592913, 22.450762257931604, 7)\n"
     ]
    },
    {
     "name": "stderr",
     "output_type": "stream",
     "text": [
      "WARNING: Unrecognized OpenGL version\n",
      "WARNING: Unrecognized OpenGL version\n"
     ]
    },
    {
     "name": "stdout",
     "output_type": "stream",
     "text": [
      "Enter positive/negative as \"p\" or \"n\" for PDPN\n",
      "n\n",
      "Channel 1, KXC21\n",
      "Track ID:256, xyt:(477.56996587030716, 9.496018202502844, 7)\n"
     ]
    },
    {
     "name": "stderr",
     "output_type": "stream",
     "text": [
      "WARNING: Unrecognized OpenGL version\n",
      "WARNING: Unrecognized OpenGL version\n"
     ]
    },
    {
     "name": "stdout",
     "output_type": "stream",
     "text": [
      "Enter positive/negative as \"p\" or \"n\" for NKX21\n",
      "n\n",
      "Channel 2, PDPN\n",
      "Track ID:255, xyt:(521.0646706586826, 32.22694610778443, 8)\n"
     ]
    },
    {
     "name": "stderr",
     "output_type": "stream",
     "text": [
      "WARNING: Unrecognized OpenGL version\n",
      "WARNING: Unrecognized OpenGL version\n"
     ]
    },
    {
     "name": "stdout",
     "output_type": "stream",
     "text": [
      "Enter positive/negative as \"p\" or \"n\" for PDPN\n",
      "n\n",
      "Channel 2, PDPN\n",
      "Track ID:254, xyt:(522.7280701754386, 4.337719298245614, 8)\n"
     ]
    },
    {
     "name": "stderr",
     "output_type": "stream",
     "text": [
      "WARNING: Unrecognized OpenGL version\n",
      "WARNING: Unrecognized OpenGL version\n"
     ]
    },
    {
     "name": "stdout",
     "output_type": "stream",
     "text": [
      "Enter positive/negative as \"p\" or \"n\" for PDPN\n",
      "n\n",
      "Channel 2, PDPN\n",
      "Track ID:252, xyt:(576.5497175141243, 15.792090395480226, 8)\n"
     ]
    },
    {
     "name": "stderr",
     "output_type": "stream",
     "text": [
      "WARNING: Unrecognized OpenGL version\n",
      "WARNING: Unrecognized OpenGL version\n"
     ]
    },
    {
     "name": "stdout",
     "output_type": "stream",
     "text": [
      "Enter positive/negative as \"p\" or \"n\" for PDPN\n",
      "n\n",
      "Channel 2, PDPN\n",
      "Track ID:251, xyt:(1777.4908647990255, 17.24969549330085, 8)\n"
     ]
    },
    {
     "name": "stderr",
     "output_type": "stream",
     "text": [
      "WARNING: Unrecognized OpenGL version\n",
      "WARNING: Unrecognized OpenGL version\n"
     ]
    },
    {
     "name": "stdout",
     "output_type": "stream",
     "text": [
      "Enter positive/negative as \"p\" or \"n\" for PDPN\n",
      "n\n",
      "Channel 2, PDPN\n",
      "Track ID:250, xyt:(877.770731707317, 5.678048780487805, 9)\n"
     ]
    },
    {
     "name": "stderr",
     "output_type": "stream",
     "text": [
      "WARNING: Unrecognized OpenGL version\n",
      "WARNING: Unrecognized OpenGL version\n"
     ]
    },
    {
     "name": "stdout",
     "output_type": "stream",
     "text": [
      "Enter positive/negative as \"p\" or \"n\" for PDPN\n",
      "n\n",
      "Channel 2, PDPN\n",
      "Track ID:261, xyt:(675.4297872340426, 21.072340425531916, 8)\n"
     ]
    },
    {
     "name": "stderr",
     "output_type": "stream",
     "text": [
      "WARNING: Unrecognized OpenGL version\n",
      "WARNING: Unrecognized OpenGL version\n"
     ]
    },
    {
     "name": "stdout",
     "output_type": "stream",
     "text": [
      "Enter positive/negative as \"p\" or \"n\" for PDPN\n",
      "n\n",
      "Channel 1, KXC21\n",
      "Track ID:248, xyt:(1000.0732240437159, 14.71584699453552, 9)\n"
     ]
    },
    {
     "name": "stderr",
     "output_type": "stream",
     "text": [
      "WARNING: Unrecognized OpenGL version\n",
      "WARNING: Unrecognized OpenGL version\n"
     ]
    },
    {
     "name": "stdout",
     "output_type": "stream",
     "text": [
      "Enter positive/negative as \"p\" or \"n\" for NKX21\n"
     ]
    }
   ],
   "source": [
    "for track in (filtered_tracks):\n",
    "    ## randomly select which channel to choose from \n",
    "    if random.randint(0,1) <1:\n",
    "        print('Channel 1, KXC21')\n",
    "        ### extracting index of maximum intensity value\n",
    "        max_int = np.nanmax(track['mean_intensity-1'])\n",
    "        index_max_value = np.where(track['mean_intensity-1'] == max_int)[0][0]\n",
    "        ### extracting xyt coordinates of that cell at that time\n",
    "        random_coords = (track.x[index_max_value], track.y[index_max_value], track.t[index_max_value])\n",
    "        ### print selected glimpse info\n",
    "        print(f\"Track ID:{track.ID}, xyt:{random_coords}\")\n",
    "        ### make ch1 glimpse\n",
    "        ch1_glimpse, _, ch3_glimpse, outline = make_glimpse(random_coords, image, mask_stack, size = 100)\n",
    "        ### multiply the outline to both highlight it in the composite and fix the upper bound of the colormap\n",
    "        outline = outline *1000\n",
    "        ### launch a napari viewer to show glimpse\n",
    "        viewer = napari.Viewer()\n",
    "        viewer.add_image(ch1_glimpse, colormap = 'green', blending = 'additive', name = 'NKX21')\n",
    "        viewer.add_image(ch3_glimpse, colormap = 'gray', blending = 'additive', name = 'ZO1')\n",
    "        viewer.add_image(outline, colormap = 'magenta', blending = 'additive', name = 'Mask')\n",
    "        ### wait until image is closed to enter pos or negative \n",
    "        viewer.show(block=True)\n",
    "        ####\n",
    "        print(\"Enter positive/negative as \\\"p\\\" or \\\"n\\\" for NKX21\")\n",
    "        ch1_val = input()\n",
    "        ### record result\n",
    "        if ch1_val == 'p':\n",
    "            with open(\"NKCX21_positive.csv\",\"a\") as f:\n",
    "                f.write(f\"{max_int}\\n\")\n",
    "        elif ch1_val == 'n':\n",
    "            with open(\"NKCX21_negative.csv\",\"a\") as f:\n",
    "                f.write(f\"{max_int}\\n\")\n",
    "        else:\n",
    "            print('Did not recognise the positive/negative text input')\n",
    "    ### now the other channel     \n",
    "    else:\n",
    "        print('Channel 2, PDPN')\n",
    "        ### extracting index of maximum intensity value\n",
    "        max_int = np.nanmax(track['mean_intensity-2'])\n",
    "        index_max_value = np.where(track['mean_intensity-2'] == max_int)[0][0]\n",
    "        ### extracting xyt coordinates of that cell at that time\n",
    "        random_coords = (track.x[index_max_value], track.y[index_max_value], track.t[index_max_value])\n",
    "        ### print selected glimpse info\n",
    "        print(f\"Track ID:{track.ID}, xyt:{random_coords}\")\n",
    "        ### make ch2 glimpse\n",
    "        _, ch2_glimpse, ch3_glimpse, outline = make_glimpse(random_coords, image, mask_stack, size = 100)\n",
    "        ### multiply the outline to both highlight it in the composite and fix the upper bound of the colormap\n",
    "        outline = outline *1000\n",
    "        ### launch a napari viewer to show glimpse\n",
    "        viewer = napari.Viewer()\n",
    "        viewer.add_image(ch2_glimpse, colormap = 'red', blending = 'additive', name = 'PDPN')\n",
    "        viewer.add_image(ch3_glimpse, colormap = 'gray', blending = 'additive', name = 'ZO1')\n",
    "        viewer.add_image(outline, colormap = 'magenta', blending = 'additive', name = 'Mask')\n",
    "        ### wait until image is closed to enter pos or negative \n",
    "        viewer.show(block=True)\n",
    "        ####\n",
    "        print(\"Enter positive/negative as \\\"p\\\" or \\\"n\\\" for PDPN\")\n",
    "        ch1_val = input()\n",
    "        ### record result\n",
    "        if ch1_val == 'p':\n",
    "            with open(\"PDPN_positive.csv\",\"a\") as f:\n",
    "                f.write(f\"{max_int}\\n\")\n",
    "        elif ch1_val == 'n':\n",
    "            with open(\"PDPN_negative.csv\",\"a\") as f:\n",
    "                f.write(f\"{max_int}\\n\")\n",
    "        else:\n",
    "            print('Did not recognise the positive/negative text input')"
   ]
  }
 ],
 "metadata": {
  "kernelspec": {
   "display_name": "aero",
   "language": "python",
   "name": "aero"
  },
  "language_info": {
   "codemirror_mode": {
    "name": "ipython",
    "version": 3
   },
   "file_extension": ".py",
   "mimetype": "text/x-python",
   "name": "python",
   "nbconvert_exporter": "python",
   "pygments_lexer": "ipython3",
   "version": "3.9.12"
  }
 },
 "nbformat": 4,
 "nbformat_minor": 5
}
