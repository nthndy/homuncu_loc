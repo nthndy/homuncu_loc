{
 "cells": [
  {
   "cell_type": "markdown",
   "id": "038f144c",
   "metadata": {},
   "source": [
    "# saving out iat1 masks"
   ]
  },
  {
   "cell_type": "code",
   "execution_count": 24,
   "id": "8988af78",
   "metadata": {},
   "outputs": [],
   "source": [
    "import napari\n",
    "from skimage import io\n",
    "import btrack\n",
    "import os\n",
    "from tqdm.auto import tqdm\n",
    "import numpy as np\n",
    "import btrack\n",
    "from glob import glob\n",
    "from homuncu_loc.dataio import find_files_with_basename, ID_extractor"
   ]
  },
  {
   "cell_type": "markdown",
   "id": "09c5e155-1cd6-46e9-9643-5446f0fc851b",
   "metadata": {},
   "source": [
    "#### Define image fn "
   ]
  },
  {
   "cell_type": "code",
   "execution_count": 25,
   "id": "662eacac-3046-4b30-9465-a8f734574ad4",
   "metadata": {},
   "outputs": [
    {
     "name": "stdout",
     "output_type": "stream",
     "text": [
      "nvcc: NVIDIA (R) Cuda compiler driver\n",
      "Copyright (c) 2005-2019 NVIDIA Corporation\n",
      "Built on Sun_Jul_28_19:07:16_PDT_2019\n",
      "Cuda compilation tools, release 10.1, V10.1.243\n",
      "Fri Oct  6 13:07:10 2023       \n",
      "+-----------------------------------------------------------------------------+\n",
      "| NVIDIA-SMI 515.105.01   Driver Version: 515.105.01   CUDA Version: 11.7     |\n",
      "|-------------------------------+----------------------+----------------------+\n",
      "| GPU  Name        Persistence-M| Bus-Id        Disp.A | Volatile Uncorr. ECC |\n",
      "| Fan  Temp  Perf  Pwr:Usage/Cap|         Memory-Usage | GPU-Util  Compute M. |\n",
      "|                               |                      |               MIG M. |\n",
      "|===============================+======================+======================|\n",
      "|   0  NVIDIA RTX A6000    On   | 00000000:65:00.0  On |                  Off |\n",
      "| 30%   41C    P8    34W / 300W |  48208MiB / 49140MiB |     24%      Default |\n",
      "|                               |                      |                  N/A |\n",
      "+-------------------------------+----------------------+----------------------+\n",
      "                                                                               \n",
      "+-----------------------------------------------------------------------------+\n",
      "| Processes:                                                                  |\n",
      "|  GPU   GI   CI        PID   Type   Process name                  GPU Memory |\n",
      "|        ID   ID                                                   Usage      |\n",
      "|=============================================================================|\n",
      "|    0   N/A  N/A      2292      G   /usr/lib/xorg/Xorg               1488MiB |\n",
      "|    0   N/A  N/A     11268      G   /usr/bin/gnome-shell              150MiB |\n",
      "|    0   N/A  N/A     42098      G   gnome-control-center               50MiB |\n",
      "|    0   N/A  N/A     83810      G   ...AAAAAAAAA= --shared-files        6MiB |\n",
      "|    0   N/A  N/A     91460      C   .../envs/brassica/bin/python      359MiB |\n",
      "|    0   N/A  N/A     93300      C   .../envs/brassica/bin/python      359MiB |\n",
      "|    0   N/A  N/A    328669      C   .../envs/brassica/bin/python      359MiB |\n",
      "|    0   N/A  N/A    332587      C   .../envs/brassica/bin/python      359MiB |\n",
      "|    0   N/A  N/A    332718      C   .../envs/brassica/bin/python      359MiB |\n",
      "|    0   N/A  N/A    336109      G   .../envs/brassica/bin/python       25MiB |\n",
      "|    0   N/A  N/A    338054      C   .../envs/brassica/bin/python      359MiB |\n",
      "|    0   N/A  N/A    338291      C   .../envs/brassica/bin/python      359MiB |\n",
      "|    0   N/A  N/A    339241    C+G   .../envs/brassica/bin/python    43740MiB |\n",
      "|    0   N/A  N/A    400359      G   ...nda3/envs/aero/bin/python        8MiB |\n",
      "|    0   N/A  N/A    404955      G   ...nda3/envs/aero/bin/python        7MiB |\n",
      "|    0   N/A  N/A    409820      G   ...nda3/envs/aero/bin/python       17MiB |\n",
      "|    0   N/A  N/A    530026      G   ...714807703712694810,262144      187MiB |\n",
      "+-----------------------------------------------------------------------------+\n",
      ">>> GPU activated? YES\n"
     ]
    }
   ],
   "source": [
    "# print gpu information\n",
    "!nvcc --version\n",
    "!nvidia-smi\n",
    "\n",
    "# load cellpose\n",
    "from cellpose import core, utils, models, metrics\n",
    "import matplotlib.pyplot as plt \n",
    "from skimage.morphology import remove_small_objects\n",
    "\n",
    "# check to see if GPU can be used\n",
    "use_GPU = core.use_gpu()\n",
    "yn = ['NO', 'YES']\n",
    "print(f'>>> GPU activated? {yn[use_GPU]}')\n",
    "\n",
    "# define segmentation model parameters\n",
    "model = models.Cellpose(gpu=use_GPU, \n",
    "                        model_type='cyto') # cytoplasmic segmentation \n",
    "channels = [0,0] # this means using a grayscale image for both nuclei and cyto channels (even if not using nuclei, still have to say its same colour [greyscale = 0])"
   ]
  },
  {
   "cell_type": "markdown",
   "id": "3b2ce567-d8fb-41d9-8cac-f61e04741f99",
   "metadata": {},
   "source": [
    "# define a general segmentation framework for macroph and edit params for other cell"
   ]
  },
  {
   "cell_type": "code",
   "execution_count": 26,
   "id": "e3ed329d-6793-4a23-80ab-90f04e9d4992",
   "metadata": {},
   "outputs": [],
   "source": [
    "from tqdm.auto import tqdm\n",
    "from cellpose import models\n",
    "from skimage.morphology import remove_small_objects\n",
    "import numpy as np\n",
    "import btrack\n",
    "\n",
    "def segment_channel(segmentation_channel, diameter=60, flow_threshold=0.99, channels=[0,0], cellprob_threshold=-2, min_mask_size=500, return_diams=False, start_point=None, end_point=None):\n",
    "    \"\"\"\n",
    "    Segments a specified channel of an image using Cellpose and optionally returns the average diameter of segments.\n",
    "\n",
    "    Args:\n",
    "    - segmentation_channel (ndarray): 3D array of the target channel where the 3rd dimension represents the Z-stack.\n",
    "    - diameter (int, optional): Average cell diameter for Cellpose. Default is 60.\n",
    "    - flow_threshold (float, optional): Threshold for flow in Cellpose. Default is 0.99.\n",
    "    - channels (list, optional): Channel input for Cellpose. Default is [0,0].\n",
    "    - cellprob_threshold (float, optional): Cell probability threshold for Cellpose. Default is -2.\n",
    "    - min_mask_size (int, optional): Minimum size of objects to keep in the segmented mask. Default is 500.\n",
    "    - return_diams (bool, optional): If set to True, the function will also return the average diameter of segments.\n",
    "    - start_point (int, optional): Starting point for segmentation frames. Default is None.\n",
    "    - end_point (int, optional): Ending point for segmentation frames. Default is None.\n",
    "\n",
    "    Returns:\n",
    "    - ndarray: 3D mask array with the same shape as the input, where segmented regions are labeled.\n",
    "    - float (optional): Average diameter of segments if return_diams is True.\n",
    "    \"\"\"\n",
    "\n",
    "    if start_point is None or end_point is None:\n",
    "        # Calculate intensities for each frame in Z-stack\n",
    "        intensities = [np.sum(frame) for frame in tqdm(segmentation_channel, desc='finding where segmentation channel is expressed in Z')]\n",
    "\n",
    "        # Estimate the background level\n",
    "        background_level = np.min(intensities)\n",
    "        threshold = background_level + ((np.max(intensities)-np.min(intensities))*0.50)\n",
    "\n",
    "        if start_point is None:\n",
    "            # Find the points where the curve starts to deviate from the background\n",
    "            start_point = np.argmax(intensities > threshold)\n",
    "\n",
    "        if end_point is None:\n",
    "            end_point = len(intensities) - np.argmax(intensities[::-1] > threshold) - 1\n",
    "\n",
    "    # Initialize output mask array\n",
    "    mask_array = np.zeros_like(segmentation_channel)\n",
    "\n",
    "    # Initialize the model\n",
    "    model = models.Cellpose(model_type='cyto')\n",
    "    \n",
    "    # List to store diameters if return_diams is True\n",
    "    diams = []\n",
    "\n",
    "    # Segment over selected frames\n",
    "    for n, frame in tqdm(enumerate(segmentation_channel[start_point:end_point]), total=end_point-start_point, desc='segmenting over select frames'):\n",
    "        n += start_point\n",
    "        masks, _, _, diam = model.eval(frame, diameter=diameter, flow_threshold=flow_threshold, channels=channels, cellprob_threshold=cellprob_threshold)\n",
    "        masks = remove_small_objects(masks, min_size=min_mask_size)\n",
    "        mask_array[n] = masks\n",
    "        diams.append(diam)\n",
    "\n",
    "    if return_diams:\n",
    "        return mask_array, diams\n",
    "    else:\n",
    "        return mask_array\n"
   ]
  },
  {
   "cell_type": "code",
   "execution_count": 27,
   "id": "2b6e699a-fedb-45c2-8412-5b4f63a4da19",
   "metadata": {},
   "outputs": [],
   "source": [
    "props = ('axis_major_length', # first define some cell properties \n",
    "         'axis_minor_length', # this helps improve the tracking\n",
    "         'eccentricity',      # by comparing similarities between slices/frames\n",
    "         'area', \n",
    "         'orientation',\n",
    "         'mean_intensity', \n",
    "        )"
   ]
  },
  {
   "cell_type": "code",
   "execution_count": null,
   "id": "2bd60c17-8f6b-4654-819f-0bf691465d58",
   "metadata": {},
   "outputs": [],
   "source": [
    "/run/user/30046150/gvfs/smb-share:server=data2.thecrick.org,share=lab-gutierrezm/home/shared/Lung on Chip/homuncu_loc_image_analysis/iAT1_iAT2_experiments/DAPI_NKX21_PDPN_ZO1/images\t20230801_20X_23-03-011B5_DAPI_NKX2-1_PDPN_ZO-1_Multichannel Z-Stack_20230801_1435\n",
    "/run/user/30046150/gvfs/smb-share:server=data2.thecrick.org,share=lab-gutierrezm/home/shared/Lung on Chip/homuncu_loc_image_analysis/iAT1_iAT2_experiments/DAPI_NKX21_PDPN_ZO1/images\t20230801_20X_23-03-011B5_DAPI_NKX2-1_PDPN_ZO-1_Multichannel Z-Stack_20230801_1436\n",
    "/run/user/30046150/gvfs/smb-share:server=data2.thecrick.org,share=lab-gutierrezm/home/shared/Lung on Chip/homuncu_loc_image_analysis/iAT1_iAT2_experiments/DAPI_SPC_PDPN_ZO1/images\t20230801_20X_23-03-011B6_DAPI_SP-C_PDPN_ZO-1_Multichannel Z-Stack_20230801_1438\n",
    "/run/user/30046150/gvfs/smb-share:server=data2.thecrick.org,share=lab-gutierrezm/home/shared/Lung on Chip/homuncu_loc_image_analysis/iAT1_iAT2_experiments/DAPI_SPC_PDPN_ZO1/images\t20230801_20X_23-03-011B6_DAPI_SP-C_PDPN_ZO-1_Multichannel Z-Stack_20230801_1439\n",
    "/run/user/30046150/gvfs/smb-share:server=data2.thecrick.org,share=lab-gutierrezm/home/shared/Lung on Chip/homuncu_loc_image_analysis/iAT1_iAT2_experiments/DAPI_SPC_PDPN_ZO1/images\t20230801_20X_23-03-011B6_DAPI_SP-C_PDPN_ZO-1_Multichannel Z-Stack_20230801_1440\n",
    "/run/user/30046150/gvfs/smb-share:server=data2.thecrick.org,share=lab-gutierrezm/home/shared/Lung on Chip/homuncu_loc_image_analysis/iAT1_iAT2_experiments/DAPI_NKX21_PDPN_ZO1/images\t20230801_20X_23-03-002A5_DAPI_NKX201_PDPN_ZO-1_Multichannel Z-Stack_20230801_1442\n",
    "/run/user/30046150/gvfs/smb-share:server=data2.thecrick.org,share=lab-gutierrezm/home/shared/Lung on Chip/homuncu_loc_image_analysis/iAT1_iAT2_experiments/DAPI_NKX21_PDPN_ZO1/images\t20230801_20X_23-03-002A5_DAPI_NKX201_PDPN_ZO-1_Multichannel Z-Stack_20230801_1443\n",
    "/run/user/30046150/gvfs/smb-share:server=data2.thecrick.org,share=lab-gutierrezm/home/shared/Lung on Chip/homuncu_loc_image_analysis/iAT1_iAT2_experiments/DAPI_SPC_PDPN_ZO1/images\t20230801_20X_23-03-002A6_DAPI_SP-C_PDPN_ZO-1_Multichannel Z-Stack_20230801_1445\n",
    "/run/user/30046150/gvfs/smb-share:server=data2.thecrick.org,share=lab-gutierrezm/home/shared/Lung on Chip/homuncu_loc_image_analysis/iAT1_iAT2_experiments/DAPI_NKX21_PDPN_ZO1/images\t20230801_20X_23-03-002B5_DAPI_NKX2-1_PDPN_ZO-1_Multichannel Z-Stack_20230801_1446\n",
    "/run/user/30046150/gvfs/smb-share:server=data2.thecrick.org,share=lab-gutierrezm/home/shared/Lung on Chip/homuncu_loc_image_analysis/iAT1_iAT2_experiments/DAPI_NKX21_PDPN_ZO1/images\t20230801_20X_23-03-002B5_DAPI_NKX2-1_PDPN_ZO-1_Multichannel Z-Stack_20230801_1447\n",
    "/run/user/30046150/gvfs/smb-share:server=data2.thecrick.org,share=lab-gutierrezm/home/shared/Lung on Chip/homuncu_loc_image_analysis/iAT1_iAT2_experiments/DAPI_NKX21_PDPN_ZO1/images\t20230801_20X_23-03-002B5_DAPI_NKX2-1_PDPN_ZO-1_Multichannel Z-Stack_20230801_1448\n",
    "/run/user/30046150/gvfs/smb-share:server=data2.thecrick.org,share=lab-gutierrezm/home/shared/Lung on Chip/homuncu_loc_image_analysis/iAT1_iAT2_experiments/DAPI_SPC_PDPN_ZO1/images\t20230801_20X_23-03-002B6_DAPI_SP-C_PDPN_ZO-1_Multichannel Z-Stack_20230801_1449\n",
    "/run/user/30046150/gvfs/smb-share:server=data2.thecrick.org,share=lab-gutierrezm/home/shared/Lung on Chip/homuncu_loc_image_analysis/iAT1_iAT2_experiments/DAPI_SPC_PDPN_ZO1/images\t20230801_20X_23-03-002B6_DAPI_SP-C_PDPN_ZO-1_Multichannel Z-Stack_20230801_1450\n",
    "/run/user/30046150/gvfs/smb-share:server=data2.thecrick.org,share=lab-gutierrezm/home/shared/Lung on Chip/homuncu_loc_image_analysis/iAT1_iAT2_experiments/DAPI_SPC_PDPN_ZO1/images\t20230801_20X_23-03-002B6_DAPI_SP-C_PDPN_ZO-1_Multichannel Z-Stack_20230801_1451\n",
    "/run/user/30046150/gvfs/smb-share:server=data2.thecrick.org,share=lab-gutierrezm/home/shared/Lung on Chip/homuncu_loc_image_analysis/iAT1_iAT2_experiments/DAPI_SPC_PDPN_ZO1/images\t20230801_60X_23-03-002B6_DAPI_SP-C_PDPN_ZO-1_Multichannel Z-Stack_20230801_1452"
   ]
  },
  {
   "cell_type": "code",
   "execution_count": 6,
   "id": "075d89d6-b7a0-4699-a6a0-3d730c262adb",
   "metadata": {},
   "outputs": [],
   "source": [
    "basedir = '/run/user/30046150/gvfs/smb-share:server=data2.thecrick.org,share=lab-gutierrezm/home/shared/Lung on Chip/homuncu_loc_image_analysis/iAT1_iAT2_iVEC_macrophage_experiments/DAPI_ZO1_CD16_MTB/images'"
   ]
  },
  {
   "cell_type": "code",
   "execution_count": 12,
   "id": "38f4bd7f-f353-47c0-a1bb-1bd73cd4f5a7",
   "metadata": {},
   "outputs": [],
   "source": [
    "image_basenames = [\n",
    "    # \"20230705_40X_23-01-001B3_Multichannel Z-Stack_20230705_1298\",\n",
    "    # \"20230705_40X_23-01-001B3_Multichannel Z-Stack_20230705_1299\",\n",
    "    # \"20230705_40X_23-01-001B3_Multichannel Z-Stack_20230705_1300\",\n",
    "    # \"20230705_40X_23-01-005A3_Multichannel Z-Stack_20230705_1306\",\n",
    "    # \"20230705_40X_23-01-005A3_Multichannel Z-Stack_20230705_1307\",\n",
    "    # \"20230705_40X_23-01-005A3_Multichannel Z-Stack_20230705_1308\",\n",
    "    # \"20230705_40X_23-01-005A3_Multichannel Z-Stack_20230705_1309\",\n",
    "    # \"20230705_40X_23-01-005A3_Multichannel Z-Stack_20230705_1310\",\n",
    "    # \"20230705_40X_23-01-005A3_Multichannel Z-Stack_20230705_1311\",\n",
    "    # \"20230707_40X_23-01-001A3_Multichannel Z-Stack_20230707_1313\",\n",
    "    \"20230707_40X_23-01-001A3_Multichannel Z-Stack_20230707_1314\",\n",
    "    \"20230707_40X_23-01-001A3_Multichannel Z-Stack_20230707_1315\",\n",
    "    \"20230707_40X_23-01-001A3_Multichannel Z-Stack_20230707_1316\",\n",
    "    \"20230707_40X_23-01-001A3_Multichannel Z-Stack_20230707_1317\",\n",
    "    \"20230707_40X_23-01-001A3_Multichannel Z-Stack_20230707_1318\",\n",
    "    \"20230707_40X_23-01-001A3_Multichannel Z-Stack_20230707_1319\",\n",
    "    \"20230707_40X_23-01-001A3_Multichannel Z-Stack_20230707_1320\",\n",
    "    # \"20230707_40X_23-01-005A3_Multichannel Z-Stack_20230707_1324\",\n",
    "    # \"20230707_40X_23-01-005A3_Multichannel Z-Stack_20230707_1325\",\n",
    "    # \"20230714_20X_23-02-104A4_Multichannel Z-Stack_20230714_1340\",\n",
    "    # \"20230714_20X_23-02-104A4_Multichannel Z-Stack_20230714_1341\",\n",
    "    # \"20230714_20X_23-02-104A4_Multichannel Z-Stack_20230714_1342\",\n",
    "    # \"20230714_20X_23-02-104A4_Multichannel Z-Stack_20230714_1343\",\n",
    "    # \"20230714_20X_23-02-104A4_Multichannel Z-Stack_20230714_1344\",\n",
    "    # \"20230718_20X_23-02-104B2_Multichannel Z-Stack_20230718_1361\",\n",
    "    # \"20230718_20X_23-02-104B2_Multichannel Z-Stack_20230718_1362\",\n",
    "    # \"20230718_20X_23-02-104B2_Multichannel Z-Stack_20230718_1363\",\n",
    "    # \"20230718_20X_23-02-104B2_Multichannel Z-Stack_20230718_1364\",\n",
    "    # \"20230718_20X_23-02-104B2_Multichannel Z-Stack_20230718_1365\",\n",
    "    #    \"20230801_20X_23-03-001B4_DAPI_ZO-1_CD16_Mtb_Multichannel Z-Stack_20230801_1463\",\n",
    "    # \"20230801_20X_23-03-001B4_DAPI_ZO-1_CD16_Mtb_Multichannel Z-Stack_20230801_1464\",\n",
    "    # \"20230801_20X_23-03-001B4_DAPI_ZO-1_CD16_Mtb_Multichannel Z-Stack_20230801_1465\",\n",
    "    # \"20230801_20X_23-03-001B4_DAPI_ZO-1_CD16_Mtb_Multichannel Z-Stack_20230801_1467\",\n",
    "    # \"20230801_20X_23-03-001B2_DAPI_ZO-1_Ki67_Mtb_Multichannel Z-Stack_20230801_1482\",\n",
    "    # \"20230801_20X_23-03-001B2_DAPI_ZO-1_Ki67_Mtb_Multichannel Z-Stack_20230801_1483\",\n",
    "    # \"20230801_20X_23-03-001B2_DAPI_ZO-1_Ki67_Mtb_Multichannel Z-Stack_20230801_1484\",\n",
    "    # \"20230802_20X_23-03-001A4_DAPI_ZO-1_CD16_Mtb_Multichannel Z-Stack_20230802_1500\",\n",
    "    # \"20230802_20X_23-03-001A4_DAPI_ZO-1_CD16_Mtb_Multichannel Z-Stack_20230802_1501\",\n",
    "    # \"20230802_20X_23-03-001A1_DAPI_ZO-1_CD16_Mtb_Multichannel Z-Stack_20230802_1510\",\n",
    "    # \"20230802_20X_23-03-001A1_DAPI_ZO-1_CD16_Mtb_Multichannel Z-Stack_20230802_1511\",\n",
    "    # \"20230802_20X_23-03-001A1_DAPI_ZO-1_CD16_Mtb_Multichannel Z-Stack_20230802_1512\",\n",
    "    # \"20230802_20X_23-03-001A1_DAPI_ZO-1_CD16_Mtb_Multichannel Z-Stack_20230802_1513\",\n",
    "    # \"20230802_20X_23-03-001A1_DAPI_ZO-1_CD16_Mtb_Multichannel Z-Stack_20230802_1514\",\n",
    "    # \"20230801_20X_23-03-001B2_DAPI_ZO-1_Ki67_Mtb_Multichannel Z-Stack_20230801_1481\"\n",
    "]\n"
   ]
  },
  {
   "cell_type": "code",
   "execution_count": 13,
   "id": "99b9c3ab-a85a-4fb7-8022-f1f858490035",
   "metadata": {},
   "outputs": [],
   "source": [
    "image_fns = [os.path.join(basedir, fn+'.tif') for fn in image_basenames] "
   ]
  },
  {
   "cell_type": "markdown",
   "id": "16837dce-776b-4dab-bfd9-9b28087350d1",
   "metadata": {},
   "source": [
    "### Or just define different basename, path combinations"
   ]
  },
  {
   "cell_type": "code",
   "execution_count": 29,
   "id": "36c63097-1fd9-49ea-b9e5-4f6b31c708b1",
   "metadata": {},
   "outputs": [],
   "source": [
    "image_fns =[\n",
    "    \"/run/user/30046150/gvfs/smb-share:server=data2.thecrick.org,share=lab-gutierrezm/home/shared/Lung on Chip/homuncu_loc_image_analysis/iAT1_iAT2_experiments/DAPI_NKX21_PDPN_ZO1/images/20230801_20X_23-03-011B5_DAPI_NKX2-1_PDPN_ZO-1_Multichannel Z-Stack_20230801_1435\",\n",
    "    \"/run/user/30046150/gvfs/smb-share:server=data2.thecrick.org,share=lab-gutierrezm/home/shared/Lung on Chip/homuncu_loc_image_analysis/iAT1_iAT2_experiments/DAPI_NKX21_PDPN_ZO1/images/20230801_20X_23-03-011B5_DAPI_NKX2-1_PDPN_ZO-1_Multichannel Z-Stack_20230801_1436\",\n",
    "    \"/run/user/30046150/gvfs/smb-share:server=data2.thecrick.org,share=lab-gutierrezm/home/shared/Lung on Chip/homuncu_loc_image_analysis/iAT1_iAT2_experiments/DAPI_SPC_PDPN_ZO1/images/20230801_20X_23-03-011B6_DAPI_SP-C_PDPN_ZO-1_Multichannel Z-Stack_20230801_1438\",\n",
    "    \"/run/user/30046150/gvfs/smb-share:server=data2.thecrick.org,share=lab-gutierrezm/home/shared/Lung on Chip/homuncu_loc_image_analysis/iAT1_iAT2_experiments/DAPI_SPC_PDPN_ZO1/images/20230801_20X_23-03-011B6_DAPI_SP-C_PDPN_ZO-1_Multichannel Z-Stack_20230801_1439\",\n",
    "    \"/run/user/30046150/gvfs/smb-share:server=data2.thecrick.org,share=lab-gutierrezm/home/shared/Lung on Chip/homuncu_loc_image_analysis/iAT1_iAT2_experiments/DAPI_SPC_PDPN_ZO1/images/20230801_20X_23-03-011B6_DAPI_SP-C_PDPN_ZO-1_Multichannel Z-Stack_20230801_1440\",\n",
    "    \"/run/user/30046150/gvfs/smb-share:server=data2.thecrick.org,share=lab-gutierrezm/home/shared/Lung on Chip/homuncu_loc_image_analysis/iAT1_iAT2_experiments/DAPI_NKX21_PDPN_ZO1/images/20230801_20X_23-03-002A5_DAPI_NKX201_PDPN_ZO-1_Multichannel Z-Stack_20230801_1442\",\n",
    "    \"/run/user/30046150/gvfs/smb-share:server=data2.thecrick.org,share=lab-gutierrezm/home/shared/Lung on Chip/homuncu_loc_image_analysis/iAT1_iAT2_experiments/DAPI_NKX21_PDPN_ZO1/images/20230801_20X_23-03-002A5_DAPI_NKX201_PDPN_ZO-1_Multichannel Z-Stack_20230801_1443\",\n",
    "    \"/run/user/30046150/gvfs/smb-share:server=data2.thecrick.org,share=lab-gutierrezm/home/shared/Lung on Chip/homuncu_loc_image_analysis/iAT1_iAT2_experiments/DAPI_SPC_PDPN_ZO1/images/20230801_20X_23-03-002A6_DAPI_SP-C_PDPN_ZO-1_Multichannel Z-Stack_20230801_1445\",\n",
    "    \"/run/user/30046150/gvfs/smb-share:server=data2.thecrick.org,share=lab-gutierrezm/home/shared/Lung on Chip/homuncu_loc_image_analysis/iAT1_iAT2_experiments/DAPI_NKX21_PDPN_ZO1/images/20230801_20X_23-03-002B5_DAPI_NKX2-1_PDPN_ZO-1_Multichannel Z-Stack_20230801_1446\",\n",
    "    \"/run/user/30046150/gvfs/smb-share:server=data2.thecrick.org,share=lab-gutierrezm/home/shared/Lung on Chip/homuncu_loc_image_analysis/iAT1_iAT2_experiments/DAPI_NKX21_PDPN_ZO1/images/20230801_20X_23-03-002B5_DAPI_NKX2-1_PDPN_ZO-1_Multichannel Z-Stack_20230801_1447\",\n",
    "    \"/run/user/30046150/gvfs/smb-share:server=data2.thecrick.org,share=lab-gutierrezm/home/shared/Lung on Chip/homuncu_loc_image_analysis/iAT1_iAT2_experiments/DAPI_NKX21_PDPN_ZO1/images/20230801_20X_23-03-002B5_DAPI_NKX2-1_PDPN_ZO-1_Multichannel Z-Stack_20230801_1448\",\n",
    "    \"/run/user/30046150/gvfs/smb-share:server=data2.thecrick.org,share=lab-gutierrezm/home/shared/Lung on Chip/homuncu_loc_image_analysis/iAT1_iAT2_experiments/DAPI_SPC_PDPN_ZO1/images/20230801_20X_23-03-002B6_DAPI_SP-C_PDPN_ZO-1_Multichannel Z-Stack_20230801_1449\",\n",
    "    \"/run/user/30046150/gvfs/smb-share:server=data2.thecrick.org,share=lab-gutierrezm/home/shared/Lung on Chip/homuncu_loc_image_analysis/iAT1_iAT2_experiments/DAPI_SPC_PDPN_ZO1/images/20230801_20X_23-03-002B6_DAPI_SP-C_PDPN_ZO-1_Multichannel Z-Stack_20230801_1450\",\n",
    "    \"/run/user/30046150/gvfs/smb-share:server=data2.thecrick.org,share=lab-gutierrezm/home/shared/Lung on Chip/homuncu_loc_image_analysis/iAT1_iAT2_experiments/DAPI_SPC_PDPN_ZO1/images/20230801_20X_23-03-002B6_DAPI_SP-C_PDPN_ZO-1_Multichannel Z-Stack_20230801_1451\",\n",
    "    \"/run/user/30046150/gvfs/smb-share:server=data2.thecrick.org,share=lab-gutierrezm/home/shared/Lung on Chip/homuncu_loc_image_analysis/iAT1_iAT2_experiments/DAPI_SPC_PDPN_ZO1/images/20230801_60X_23-03-002B6_DAPI_SP-C_PDPN_ZO-1_Multichannel Z-Stack_20230801_1452\"\n",
    "]\n"
   ]
  },
  {
   "cell_type": "code",
   "execution_count": 33,
   "id": "1085465c-5771-4148-895c-d9167b57677e",
   "metadata": {},
   "outputs": [],
   "source": [
    "image_fns = [f'{fn}.tif' for fn in image_fns]"
   ]
  },
  {
   "cell_type": "code",
   "execution_count": 34,
   "id": "7d75fcf8-d7fe-426b-a202-9b9df581c642",
   "metadata": {},
   "outputs": [],
   "source": [
    "from macrohet.notify import send_sms"
   ]
  },
  {
   "cell_type": "code",
   "execution_count": null,
   "id": "d9e89ba2-65ca-415c-ab3e-781afe2a5dc0",
   "metadata": {
    "scrolled": true
   },
   "outputs": [
    {
     "data": {
      "application/vnd.jupyter.widget-view+json": {
       "model_id": "8d906e7c940b4fb8b9a4ce68ad1241ee",
       "version_major": 2,
       "version_minor": 0
      },
      "text/plain": [
       "iterating over image volumes:   0%|          | 0/15 [00:00<?, ?it/s]"
      ]
     },
     "metadata": {},
     "output_type": "display_data"
    },
    {
     "data": {
      "application/vnd.jupyter.widget-view+json": {
       "model_id": "159255de4a754b9ca1f12aa733bbb361",
       "version_major": 2,
       "version_minor": 0
      },
      "text/plain": [
       "finding where segmentation channel is expressed in Z:   0%|          | 0/61 [00:00<?, ?it/s]"
      ]
     },
     "metadata": {},
     "output_type": "display_data"
    },
    {
     "data": {
      "application/vnd.jupyter.widget-view+json": {
       "model_id": "40144e09d9344db5b9d492289fc831b7",
       "version_major": 2,
       "version_minor": 0
      },
      "text/plain": [
       "segmenting over select frames:   0%|          | 0/39 [00:00<?, ?it/s]"
      ]
     },
     "metadata": {},
     "output_type": "display_data"
    },
    {
     "name": "stderr",
     "output_type": "stream",
     "text": [
      "[INFO][2023/10/06 02:02:36 PM] Localizing objects from segmentation...\n"
     ]
    },
    {
     "name": "stdout",
     "output_type": "stream",
     "text": [
      "Update sms failed to send\n"
     ]
    },
    {
     "name": "stderr",
     "output_type": "stream",
     "text": [
      "progress: 100%|███████████████████████████████████████████████████████████████████████████████████████████████████████████████████████████████████████████| 61/61 [00:21<00:00,  2.81it/s]\n",
      "[INFO][2023/10/06 02:02:58 PM] Objects are of type: <class 'dict'>\n",
      "[INFO][2023/10/06 02:02:59 PM] ...Found 39405 objects in 60 frames.\n"
     ]
    },
    {
     "data": {
      "application/vnd.jupyter.widget-view+json": {
       "model_id": "8c787ae3ada74351b8fb47479b6f3b3d",
       "version_major": 2,
       "version_minor": 0
      },
      "text/plain": [
       "Measuring Mtb properties of each cell:   0%|          | 0/39405 [00:00<?, ?it/s]"
      ]
     },
     "metadata": {},
     "output_type": "display_data"
    },
    {
     "name": "stderr",
     "output_type": "stream",
     "text": [
      "[INFO][2023/10/06 02:13:27 PM] Loaded btrack: /home/dayn/analysis/btrack/btrack/libs/libtracker.so\n",
      "[INFO][2023/10/06 02:13:27 PM] Starting BayesianTracker session\n",
      "[INFO][2023/10/06 02:13:28 PM] Loading configuration file: /home/dayn/analysis/models/loc.json\n",
      "[INFO][2023/10/06 02:13:28 PM] Objects are of type: <class 'list'>\n",
      "[INFO][2023/10/06 02:13:28 PM] Starting tracking... \n",
      "[INFO][2023/10/06 02:13:28 PM] Update using: ['MOTION', 'VISUAL']\n",
      "[INFO][2023/10/06 02:13:29 PM] Tracking objects in frames 0 to 9 (of 60)...\n",
      "[INFO][2023/10/06 02:13:43 PM]  - Timing (Bayesian updates: 719.95ms, Linking: 11.67ms)\n",
      "[INFO][2023/10/06 02:13:43 PM]  - Probabilities (Link: 1.00000, Lost: 0.99999)\n",
      "[INFO][2023/10/06 02:13:43 PM]  - Stats (Active: 1362, Lost: 266, Conflicts resolved: 1313)\n",
      "[INFO][2023/10/06 02:13:43 PM] Tracking objects in frames 10 to 19 (of 60)...\n",
      "[INFO][2023/10/06 02:14:02 PM]  - Timing (Bayesian updates: 574.02ms, Linking: 10.20ms)\n",
      "[INFO][2023/10/06 02:14:02 PM]  - Probabilities (Link: 1.00000, Lost: 1.00000)\n",
      "[INFO][2023/10/06 02:14:02 PM]  - Stats (Active: 1434, Lost: 1207, Conflicts resolved: 3598)\n",
      "[INFO][2023/10/06 02:14:02 PM] Tracking objects in frames 20 to 29 (of 60)...\n",
      "[INFO][2023/10/06 02:14:15 PM]  - Timing (Bayesian updates: 426.02ms, Linking: 10.44ms)\n",
      "[INFO][2023/10/06 02:14:15 PM]  - Probabilities (Link: 1.00000, Lost: 0.54223)\n",
      "[INFO][2023/10/06 02:14:15 PM]  - Stats (Active: 1253, Lost: 2545, Conflicts resolved: 5570)\n",
      "[INFO][2023/10/06 02:14:15 PM] Tracking objects in frames 30 to 39 (of 60)...\n",
      "[INFO][2023/10/06 02:14:21 PM]  - Timing (Bayesian updates: 288.00ms, Linking: 7.80ms)\n",
      "[INFO][2023/10/06 02:14:21 PM]  - Probabilities (Link: 1.00000, Lost: 1.00000)\n",
      "[INFO][2023/10/06 02:14:21 PM] SUCCESS.\n",
      "[INFO][2023/10/06 02:14:21 PM]  - Found 3289 tracks in 60 frames (in 0.0s)\n",
      "[INFO][2023/10/06 02:14:21 PM]  - Inserted 1916 dummy objects to fill tracking gaps\n",
      "[INFO][2023/10/06 02:14:21 PM] Loading hypothesis model: particle_hypothesis\n",
      "[INFO][2023/10/06 02:14:21 PM] Calculating hypotheses (relax: True)...\n",
      "[INFO][2023/10/06 02:14:21 PM] Setting up constraints matrix for global optimisation...\n",
      "[INFO][2023/10/06 02:14:21 PM] Using GLPK options: {'tm_lim': 60000}...\n",
      "[INFO][2023/10/06 02:14:22 PM] Optimizing...\n",
      "[INFO][2023/10/06 02:14:22 PM] Optimization complete. (Solution: optimal)\n",
      "[INFO][2023/10/06 02:14:22 PM]  - Fates.FALSE_POSITIVE: 1000 (of 3289)\n",
      "[INFO][2023/10/06 02:14:22 PM]  - Fates.LINK: 37 (of 65)\n",
      "[INFO][2023/10/06 02:14:22 PM]  - Fates.INITIALIZE_BORDER: 62 (of 77)\n",
      "[INFO][2023/10/06 02:14:22 PM]  - Fates.INITIALIZE_LAZY: 2190 (of 3212)\n",
      "[INFO][2023/10/06 02:14:22 PM]  - Fates.TERMINATE_BORDER: 44 (of 57)\n",
      "[INFO][2023/10/06 02:14:22 PM]  - Fates.TERMINATE_BACK: 896 (of 1030)\n",
      "[INFO][2023/10/06 02:14:22 PM]  - Fates.TERMINATE_LAZY: 1312 (of 2202)\n",
      "[INFO][2023/10/06 02:14:22 PM]  - TOTAL: 9932 hypotheses\n",
      "[INFO][2023/10/06 02:14:22 PM] Completed optimization with 3252 tracks\n"
     ]
    },
    {
     "name": "stdout",
     "output_type": "stream",
     "text": [
      "GLPK Integer Optimizer 5.0\n",
      "13156 rows, 9932 columns, 13286 non-zeros\n",
      "9932 integer variables, all of which are binary\n",
      "Preprocessing...\n",
      "6578 rows, 9932 columns, 13286 non-zeros\n",
      "9932 integer variables, all of which are binary\n",
      "Scaling...\n",
      " A: min|aij| =  1.000e+00  max|aij| =  1.000e+00  ratio =  1.000e+00\n",
      "Problem data seem to be well scaled\n",
      "Constructing initial basis...\n",
      "Size of triangular part is 6578\n",
      "Solving LP relaxation...\n",
      "GLPK Simplex Optimizer 5.0\n",
      "6578 rows, 9932 columns, 13286 non-zeros\n",
      "*     0: obj =   3.673996910e+04 inf =   0.000e+00 (1111)\n",
      "*  1135: obj =   2.865477389e+04 inf =   0.000e+00 (0)\n",
      "OPTIMAL LP SOLUTION FOUND\n",
      "Integer optimization begins...\n",
      "Long-step dual simplex will be used\n",
      "+  1135: mip =     not found yet >=              -inf        (1; 0)\n",
      "+  1135: >>>>>   2.865477389e+04 >=   2.865477389e+04   0.0% (1; 0)\n",
      "+  1135: mip =   2.865477389e+04 >=     tree is empty   0.0% (0; 1)\n",
      "INTEGER OPTIMAL SOLUTION FOUND\n"
     ]
    },
    {
     "name": "stderr",
     "output_type": "stream",
     "text": [
      "[INFO][2023/10/06 02:14:22 PM] Ending BayesianTracker session\n",
      "[INFO][2023/10/06 02:14:22 PM] Opening HDF file: /home/dayn/data/homuncu_loc_temp/seperate_tracks/iAT1_iAT2_experiments/DAPI_NKX21_PDPN_ZO1/sc_analyses/20230801_20X_23-03-011B5_DAPI_NKX2-1_PDPN_ZO-1_Multichannel Z-Stack_20230801_1435_iat2.h5...\n",
      "[INFO][2023/10/06 02:14:23 PM] Writing objects/obj_type_2\n",
      "[INFO][2023/10/06 02:14:23 PM] Writing labels/obj_type_2\n",
      "[INFO][2023/10/06 02:14:23 PM] Loading objects/obj_type_2 (35879, 5) (35879 filtered: None)\n",
      "[INFO][2023/10/06 02:14:23 PM] Writing properties/obj_type_2/axis_major_length (35879,)\n",
      "[INFO][2023/10/06 02:14:23 PM] Writing properties/obj_type_2/axis_minor_length (35879,)\n",
      "[INFO][2023/10/06 02:14:23 PM] Writing properties/obj_type_2/eccentricity (35879,)\n",
      "[INFO][2023/10/06 02:14:23 PM] Writing properties/obj_type_2/area (35879,)\n",
      "[INFO][2023/10/06 02:14:23 PM] Writing properties/obj_type_2/orientation (35879,)\n",
      "[INFO][2023/10/06 02:14:23 PM] Writing properties/obj_type_2/mean_intensity (35879, 4)\n",
      "[INFO][2023/10/06 02:14:24 PM] Writing properties/obj_type_2/class_id (35879,)\n",
      "[INFO][2023/10/06 02:14:24 PM] Writing properties/obj_type_2/mtb_status (35879,)\n",
      "[INFO][2023/10/06 02:14:24 PM] Writing properties/obj_type_2/mtb_area (35879,)\n",
      "[INFO][2023/10/06 02:14:24 PM] Writing tracks/obj_type_2\n",
      "[INFO][2023/10/06 02:14:24 PM] Writing dummies/obj_type_2\n",
      "[INFO][2023/10/06 02:14:24 PM] Writing LBEP/obj_type_2\n",
      "[INFO][2023/10/06 02:14:24 PM] Writing fates/obj_type_2\n",
      "[INFO][2023/10/06 02:14:27 PM] Closing HDF file: /home/dayn/data/homuncu_loc_temp/seperate_tracks/iAT1_iAT2_experiments/DAPI_NKX21_PDPN_ZO1/sc_analyses/20230801_20X_23-03-011B5_DAPI_NKX2-1_PDPN_ZO-1_Multichannel Z-Stack_20230801_1435_iat2.h5\n"
     ]
    },
    {
     "data": {
      "application/vnd.jupyter.widget-view+json": {
       "model_id": "41ae0f71697c40c681bdd8c883268920",
       "version_major": 2,
       "version_minor": 0
      },
      "text/plain": [
       "finding where segmentation channel is expressed in Z:   0%|          | 0/61 [00:00<?, ?it/s]"
      ]
     },
     "metadata": {},
     "output_type": "display_data"
    },
    {
     "data": {
      "application/vnd.jupyter.widget-view+json": {
       "model_id": "9cf2822cbeee40338359c616b180f179",
       "version_major": 2,
       "version_minor": 0
      },
      "text/plain": [
       "segmenting over select frames:   0%|          | 0/46 [00:00<?, ?it/s]"
      ]
     },
     "metadata": {},
     "output_type": "display_data"
    },
    {
     "name": "stderr",
     "output_type": "stream",
     "text": [
      "[INFO][2023/10/06 03:16:15 PM] Localizing objects from segmentation...\n"
     ]
    },
    {
     "name": "stdout",
     "output_type": "stream",
     "text": [
      "Update sms failed to send\n"
     ]
    },
    {
     "name": "stderr",
     "output_type": "stream",
     "text": [
      "progress: 100%|███████████████████████████████████████████████████████████████████████████████████████████████████████████████████████████████████████████| 61/61 [00:23<00:00,  2.57it/s]\n",
      "[INFO][2023/10/06 03:16:39 PM] Objects are of type: <class 'dict'>\n",
      "[INFO][2023/10/06 03:16:39 PM] ...Found 47273 objects in 60 frames.\n"
     ]
    },
    {
     "data": {
      "application/vnd.jupyter.widget-view+json": {
       "model_id": "77886f6da7914f4abf0d8cee437b2607",
       "version_major": 2,
       "version_minor": 0
      },
      "text/plain": [
       "Measuring Mtb properties of each cell:   0%|          | 0/47273 [00:00<?, ?it/s]"
      ]
     },
     "metadata": {},
     "output_type": "display_data"
    },
    {
     "name": "stderr",
     "output_type": "stream",
     "text": [
      "[INFO][2023/10/06 03:27:29 PM] Loaded btrack: /home/dayn/analysis/btrack/btrack/libs/libtracker.so\n",
      "[INFO][2023/10/06 03:27:29 PM] Starting BayesianTracker session\n",
      "[INFO][2023/10/06 03:27:29 PM] Loading configuration file: /home/dayn/analysis/models/loc.json\n",
      "[INFO][2023/10/06 03:27:29 PM] Objects are of type: <class 'list'>\n",
      "[INFO][2023/10/06 03:27:31 PM] Starting tracking... \n",
      "[INFO][2023/10/06 03:27:31 PM] Update using: ['MOTION', 'VISUAL']\n",
      "[INFO][2023/10/06 03:27:32 PM] Tracking objects in frames 0 to 9 (of 60)...\n",
      "[INFO][2023/10/06 03:27:50 PM]  - Timing (Bayesian updates: 1030.40ms, Linking: 12.56ms)\n",
      "[INFO][2023/10/06 03:27:50 PM]  - Probabilities (Link: 1.00000, Lost: 0.99734)\n",
      "[INFO][2023/10/06 03:27:50 PM]  - Stats (Active: 1608, Lost: 207, Conflicts resolved: 1491)\n",
      "[INFO][2023/10/06 03:27:50 PM] Tracking objects in frames 10 to 19 (of 60)...\n",
      "[INFO][2023/10/06 03:28:16 PM]  - Timing (Bayesian updates: 771.49ms, Linking: 12.86ms)\n",
      "[INFO][2023/10/06 03:28:16 PM]  - Probabilities (Link: 1.00000, Lost: 1.00000)\n",
      "[INFO][2023/10/06 03:28:16 PM]  - Stats (Active: 1661, Lost: 1055, Conflicts resolved: 4312)\n",
      "[INFO][2023/10/06 03:28:16 PM] Tracking objects in frames 20 to 29 (of 60)...\n",
      "[INFO][2023/10/06 03:28:29 PM]  - Timing (Bayesian updates: 325.37ms, Linking: 7.57ms)\n",
      "[INFO][2023/10/06 03:28:29 PM]  - Probabilities (Link: 1.00000, Lost: 0.97459)\n",
      "[INFO][2023/10/06 03:28:29 PM]  - Stats (Active: 1264, Lost: 2642, Conflicts resolved: 6664)\n",
      "[INFO][2023/10/06 03:28:29 PM] Tracking objects in frames 30 to 39 (of 60)...\n",
      "[INFO][2023/10/06 03:28:36 PM]  - Timing (Bayesian updates: 256.00ms, Linking: 5.71ms)\n",
      "[INFO][2023/10/06 03:28:36 PM]  - Probabilities (Link: 1.00000, Lost: 1.00000)\n",
      "[INFO][2023/10/06 03:28:36 PM]  - Stats (Active: 1007, Lost: 3899, Conflicts resolved: 8325)\n",
      "[INFO][2023/10/06 03:28:36 PM] Tracking objects in frames 40 to 49 (of 60)...\n",
      "[INFO][2023/10/06 03:28:38 PM]  - Timing (Bayesian updates: 174.58ms, Linking: 5.79ms)\n",
      "[INFO][2023/10/06 03:28:38 PM]  - Probabilities (Link: 1.00000, Lost: 0.99996)\n",
      "[INFO][2023/10/06 03:28:38 PM] SUCCESS.\n",
      "[INFO][2023/10/06 03:28:38 PM]  - Found 3894 tracks in 60 frames (in 0.0s)\n",
      "[INFO][2023/10/06 03:28:38 PM]  - Inserted 2296 dummy objects to fill tracking gaps\n",
      "[INFO][2023/10/06 03:28:38 PM] Loading hypothesis model: particle_hypothesis\n",
      "[INFO][2023/10/06 03:28:38 PM] Calculating hypotheses (relax: True)...\n",
      "[INFO][2023/10/06 03:28:38 PM] Setting up constraints matrix for global optimisation...\n",
      "[INFO][2023/10/06 03:28:38 PM] Using GLPK options: {'tm_lim': 60000}...\n",
      "[INFO][2023/10/06 03:28:38 PM] Optimizing...\n",
      "[INFO][2023/10/06 03:28:38 PM] Optimization complete. (Solution: optimal)\n",
      "[INFO][2023/10/06 03:28:38 PM]  - Fates.FALSE_POSITIVE: 1200 (of 3894)\n",
      "[INFO][2023/10/06 03:28:38 PM]  - Fates.LINK: 35 (of 60)\n",
      "[INFO][2023/10/06 03:28:38 PM]  - Fates.INITIALIZE_BORDER: 93 (of 117)\n",
      "[INFO][2023/10/06 03:28:38 PM]  - Fates.INITIALIZE_LAZY: 2566 (of 3777)\n",
      "[INFO][2023/10/06 03:28:38 PM]  - Fates.TERMINATE_BORDER: 78 (of 96)\n",
      "[INFO][2023/10/06 03:28:38 PM]  - Fates.TERMINATE_BACK: 745 (of 866)\n",
      "[INFO][2023/10/06 03:28:38 PM]  - Fates.TERMINATE_LAZY: 1836 (of 2932)\n",
      "[INFO][2023/10/06 03:28:38 PM]  - TOTAL: 11742 hypotheses\n",
      "[INFO][2023/10/06 03:28:39 PM] Completed optimization with 3859 tracks\n"
     ]
    },
    {
     "name": "stdout",
     "output_type": "stream",
     "text": [
      "GLPK Integer Optimizer 5.0\n",
      "15576 rows, 11742 columns, 15696 non-zeros\n",
      "11742 integer variables, all of which are binary\n",
      "Preprocessing...\n",
      "7788 rows, 11742 columns, 15696 non-zeros\n",
      "11742 integer variables, all of which are binary\n",
      "Scaling...\n",
      " A: min|aij| =  1.000e+00  max|aij| =  1.000e+00  ratio =  1.000e+00\n",
      "Problem data seem to be well scaled\n",
      "Constructing initial basis...\n",
      "Size of triangular part is 7788\n",
      "Solving LP relaxation...\n",
      "GLPK Simplex Optimizer 5.0\n",
      "7788 rows, 11742 columns, 15696 non-zeros\n",
      "*     0: obj =   4.567966876e+04 inf =   0.000e+00 (1297)\n",
      "*  1321: obj =   3.600837537e+04 inf =   0.000e+00 (0)\n",
      "OPTIMAL LP SOLUTION FOUND\n",
      "Integer optimization begins...\n",
      "Long-step dual simplex will be used\n",
      "+  1321: mip =     not found yet >=              -inf        (1; 0)\n",
      "+  1321: >>>>>   3.600837537e+04 >=   3.600837537e+04   0.0% (1; 0)\n",
      "+  1321: mip =   3.600837537e+04 >=     tree is empty   0.0% (0; 1)\n",
      "INTEGER OPTIMAL SOLUTION FOUND\n"
     ]
    },
    {
     "name": "stderr",
     "output_type": "stream",
     "text": [
      "[INFO][2023/10/06 03:28:39 PM] Ending BayesianTracker session\n",
      "[INFO][2023/10/06 03:28:39 PM] Opening HDF file: /home/dayn/data/homuncu_loc_temp/seperate_tracks/iAT1_iAT2_experiments/DAPI_NKX21_PDPN_ZO1/sc_analyses/20230801_20X_23-03-011B5_DAPI_NKX2-1_PDPN_ZO-1_Multichannel Z-Stack_20230801_1436_iat2.h5...\n",
      "[INFO][2023/10/06 03:28:39 PM] Writing objects/obj_type_2\n",
      "[INFO][2023/10/06 03:28:39 PM] Writing labels/obj_type_2\n",
      "[INFO][2023/10/06 03:28:39 PM] Loading objects/obj_type_2 (42826, 5) (42826 filtered: None)\n",
      "[INFO][2023/10/06 03:28:40 PM] Writing properties/obj_type_2/axis_major_length (42826,)\n",
      "[INFO][2023/10/06 03:28:40 PM] Writing properties/obj_type_2/axis_minor_length (42826,)\n",
      "[INFO][2023/10/06 03:28:40 PM] Writing properties/obj_type_2/eccentricity (42826,)\n",
      "[INFO][2023/10/06 03:28:40 PM] Writing properties/obj_type_2/area (42826,)\n",
      "[INFO][2023/10/06 03:28:40 PM] Writing properties/obj_type_2/orientation (42826,)\n",
      "[INFO][2023/10/06 03:28:40 PM] Writing properties/obj_type_2/mean_intensity (42826, 4)\n",
      "[INFO][2023/10/06 03:28:40 PM] Writing properties/obj_type_2/class_id (42826,)\n",
      "[INFO][2023/10/06 03:28:40 PM] Writing properties/obj_type_2/mtb_status (42826,)\n",
      "[INFO][2023/10/06 03:28:40 PM] Writing properties/obj_type_2/mtb_area (42826,)\n",
      "[INFO][2023/10/06 03:28:40 PM] Writing tracks/obj_type_2\n",
      "[INFO][2023/10/06 03:28:40 PM] Writing dummies/obj_type_2\n",
      "[INFO][2023/10/06 03:28:40 PM] Writing LBEP/obj_type_2\n",
      "[INFO][2023/10/06 03:28:40 PM] Writing fates/obj_type_2\n",
      "[INFO][2023/10/06 03:28:43 PM] Closing HDF file: /home/dayn/data/homuncu_loc_temp/seperate_tracks/iAT1_iAT2_experiments/DAPI_NKX21_PDPN_ZO1/sc_analyses/20230801_20X_23-03-011B5_DAPI_NKX2-1_PDPN_ZO-1_Multichannel Z-Stack_20230801_1436_iat2.h5\n"
     ]
    },
    {
     "data": {
      "application/vnd.jupyter.widget-view+json": {
       "model_id": "976c05bc76164dd596ee6473df4adf18",
       "version_major": 2,
       "version_minor": 0
      },
      "text/plain": [
       "finding where segmentation channel is expressed in Z:   0%|          | 0/51 [00:00<?, ?it/s]"
      ]
     },
     "metadata": {},
     "output_type": "display_data"
    },
    {
     "data": {
      "application/vnd.jupyter.widget-view+json": {
       "model_id": "e45fe1a993384ead8c0f7a51ad68caec",
       "version_major": 2,
       "version_minor": 0
      },
      "text/plain": [
       "segmenting over select frames:   0%|          | 0/17 [00:00<?, ?it/s]"
      ]
     },
     "metadata": {},
     "output_type": "display_data"
    },
    {
     "name": "stderr",
     "output_type": "stream",
     "text": [
      "[INFO][2023/10/06 04:01:57 PM] Localizing objects from segmentation...\n"
     ]
    },
    {
     "name": "stdout",
     "output_type": "stream",
     "text": [
      "Update sms failed to send\n"
     ]
    },
    {
     "name": "stderr",
     "output_type": "stream",
     "text": [
      "progress: 100%|███████████████████████████████████████████████████████████████████████████████████████████████████████████████████████████████████████████| 51/51 [00:02<00:00, 22.23it/s]\n",
      "[INFO][2023/10/06 04:01:59 PM] Objects are of type: <class 'dict'>\n",
      "[INFO][2023/10/06 04:01:59 PM] ...Found 1395 objects in 35 frames.\n"
     ]
    },
    {
     "data": {
      "application/vnd.jupyter.widget-view+json": {
       "model_id": "723da64899204c1d892608be8dd7cd2b",
       "version_major": 2,
       "version_minor": 0
      },
      "text/plain": [
       "Measuring Mtb properties of each cell:   0%|          | 0/1395 [00:00<?, ?it/s]"
      ]
     },
     "metadata": {},
     "output_type": "display_data"
    },
    {
     "name": "stderr",
     "output_type": "stream",
     "text": [
      "[INFO][2023/10/06 04:02:19 PM] Loaded btrack: /home/dayn/analysis/btrack/btrack/libs/libtracker.so\n",
      "[INFO][2023/10/06 04:02:19 PM] Starting BayesianTracker session\n",
      "[INFO][2023/10/06 04:02:19 PM] Loading configuration file: /home/dayn/analysis/models/loc.json\n",
      "[INFO][2023/10/06 04:02:19 PM] Objects are of type: <class 'list'>\n",
      "[INFO][2023/10/06 04:02:19 PM] Starting tracking... \n",
      "[INFO][2023/10/06 04:02:19 PM] Update using: ['MOTION', 'VISUAL']\n",
      "[INFO][2023/10/06 04:02:19 PM] Tracking objects in frames 0 to 9 (of 35)...\n",
      "[INFO][2023/10/06 04:02:19 PM]  - Timing (Bayesian updates: 1.98ms, Linking: 2.48ms)\n",
      "[INFO][2023/10/06 04:02:19 PM]  - Probabilities (Link: 1.00000, Lost: 1.00000)\n",
      "[INFO][2023/10/06 04:02:19 PM]  - Stats (Active: 389, Lost: 1565, Conflicts resolved: 226)\n",
      "[INFO][2023/10/06 04:02:19 PM] Tracking objects in frames 10 to 19 (of 35)...\n",
      "[INFO][2023/10/06 04:02:19 PM]  - Timing (Bayesian updates: 0.10ms, Linking: 0.28ms)\n",
      "[INFO][2023/10/06 04:02:19 PM]  - Probabilities (Link: 1.00000, Lost: 1.00000)\n",
      "[INFO][2023/10/06 04:02:19 PM] SUCCESS.\n",
      "[INFO][2023/10/06 04:02:19 PM]  - Found 530 tracks in 35 frames (in 0.0s)\n",
      "[INFO][2023/10/06 04:02:19 PM]  - Inserted 112 dummy objects to fill tracking gaps\n",
      "[INFO][2023/10/06 04:02:19 PM] Loading hypothesis model: particle_hypothesis\n",
      "[INFO][2023/10/06 04:02:19 PM] Calculating hypotheses (relax: True)...\n",
      "[INFO][2023/10/06 04:02:19 PM] Setting up constraints matrix for global optimisation...\n",
      "[INFO][2023/10/06 04:02:19 PM] Using GLPK options: {'tm_lim': 60000}...\n",
      "[INFO][2023/10/06 04:02:19 PM] Optimizing...\n",
      "[INFO][2023/10/06 04:02:20 PM] Optimization complete. (Solution: optimal)\n",
      "[INFO][2023/10/06 04:02:20 PM]  - Fates.FALSE_POSITIVE: 486 (of 530)\n",
      "[INFO][2023/10/06 04:02:20 PM]  - Fates.LINK: 0 (of 1)\n",
      "[INFO][2023/10/06 04:02:20 PM]  - Fates.INITIALIZE_BORDER: 1 (of 10)\n",
      "[INFO][2023/10/06 04:02:20 PM]  - Fates.INITIALIZE_LAZY: 43 (of 520)\n",
      "[INFO][2023/10/06 04:02:20 PM]  - Fates.TERMINATE_BORDER: 1 (of 10)\n",
      "[INFO][2023/10/06 04:02:20 PM]  - Fates.TERMINATE_BACK: 10 (of 40)\n",
      "[INFO][2023/10/06 04:02:20 PM]  - Fates.TERMINATE_LAZY: 33 (of 480)\n",
      "[INFO][2023/10/06 04:02:20 PM]  - TOTAL: 1591 hypotheses\n",
      "[INFO][2023/10/06 04:02:20 PM] Completed optimization with 530 tracks\n"
     ]
    },
    {
     "name": "stdout",
     "output_type": "stream",
     "text": [
      "GLPK Integer Optimizer 5.0\n",
      "2120 rows, 1591 columns, 2122 non-zeros\n",
      "1591 integer variables, all of which are binary\n",
      "Preprocessing...\n",
      "1060 rows, 1591 columns, 2122 non-zeros\n",
      "1591 integer variables, all of which are binary\n",
      "Scaling...\n",
      " A: min|aij| =  1.000e+00  max|aij| =  1.000e+00  ratio =  1.000e+00\n",
      "Problem data seem to be well scaled\n",
      "Constructing initial basis...\n",
      "Size of triangular part is 1060\n",
      "Solving LP relaxation...\n",
      "GLPK Simplex Optimizer 5.0\n",
      "1060 rows, 1591 columns, 2122 non-zeros\n",
      "*     0: obj =   6.784104122e+03 inf =   0.000e+00 (487)\n",
      "*   488: obj =   2.583917071e+03 inf =   0.000e+00 (0)\n",
      "OPTIMAL LP SOLUTION FOUND\n",
      "Integer optimization begins...\n",
      "Long-step dual simplex will be used\n",
      "+   488: mip =     not found yet >=              -inf        (1; 0)\n",
      "+   488: >>>>>   2.583917071e+03 >=   2.583917071e+03   0.0% (1; 0)\n",
      "+   488: mip =   2.583917071e+03 >=     tree is empty   0.0% (0; 1)\n",
      "INTEGER OPTIMAL SOLUTION FOUND\n"
     ]
    },
    {
     "name": "stderr",
     "output_type": "stream",
     "text": [
      "[INFO][2023/10/06 04:02:20 PM] Ending BayesianTracker session\n",
      "[INFO][2023/10/06 04:02:20 PM] Opening HDF file: /home/dayn/data/homuncu_loc_temp/seperate_tracks/iAT1_iAT2_experiments/DAPI_SPC_PDPN_ZO1/sc_analyses/20230801_20X_23-03-011B6_DAPI_SP-C_PDPN_ZO-1_Multichannel Z-Stack_20230801_1438_iat2.h5...\n",
      "[INFO][2023/10/06 04:02:20 PM] Writing objects/obj_type_2\n",
      "[INFO][2023/10/06 04:02:20 PM] Writing labels/obj_type_2\n",
      "[INFO][2023/10/06 04:02:20 PM] Loading objects/obj_type_2 (1110, 5) (1110 filtered: None)\n",
      "[INFO][2023/10/06 04:02:20 PM] Writing properties/obj_type_2/axis_major_length (1110,)\n",
      "[INFO][2023/10/06 04:02:20 PM] Writing properties/obj_type_2/axis_minor_length (1110,)\n",
      "[INFO][2023/10/06 04:02:20 PM] Writing properties/obj_type_2/eccentricity (1110,)\n",
      "[INFO][2023/10/06 04:02:20 PM] Writing properties/obj_type_2/area (1110,)\n",
      "[INFO][2023/10/06 04:02:20 PM] Writing properties/obj_type_2/orientation (1110,)\n",
      "[INFO][2023/10/06 04:02:20 PM] Writing properties/obj_type_2/mean_intensity (1110, 4)\n",
      "[INFO][2023/10/06 04:02:20 PM] Writing properties/obj_type_2/class_id (1110,)\n",
      "[INFO][2023/10/06 04:02:20 PM] Writing properties/obj_type_2/mtb_status (1110,)\n",
      "[INFO][2023/10/06 04:02:20 PM] Writing properties/obj_type_2/mtb_area (1110,)\n",
      "[INFO][2023/10/06 04:02:20 PM] Writing tracks/obj_type_2\n",
      "[INFO][2023/10/06 04:02:20 PM] Writing dummies/obj_type_2\n",
      "[INFO][2023/10/06 04:02:20 PM] Writing LBEP/obj_type_2\n",
      "[INFO][2023/10/06 04:02:20 PM] Writing fates/obj_type_2\n",
      "[INFO][2023/10/06 04:02:22 PM] Closing HDF file: /home/dayn/data/homuncu_loc_temp/seperate_tracks/iAT1_iAT2_experiments/DAPI_SPC_PDPN_ZO1/sc_analyses/20230801_20X_23-03-011B6_DAPI_SP-C_PDPN_ZO-1_Multichannel Z-Stack_20230801_1438_iat2.h5\n"
     ]
    },
    {
     "data": {
      "application/vnd.jupyter.widget-view+json": {
       "model_id": "6b362942a6d94a299f1f3ecb15de9577",
       "version_major": 2,
       "version_minor": 0
      },
      "text/plain": [
       "finding where segmentation channel is expressed in Z:   0%|          | 0/51 [00:00<?, ?it/s]"
      ]
     },
     "metadata": {},
     "output_type": "display_data"
    },
    {
     "data": {
      "application/vnd.jupyter.widget-view+json": {
       "model_id": "4262206029b44de8882a41a3b2552890",
       "version_major": 2,
       "version_minor": 0
      },
      "text/plain": [
       "segmenting over select frames:   0%|          | 0/16 [00:00<?, ?it/s]"
      ]
     },
     "metadata": {},
     "output_type": "display_data"
    },
    {
     "name": "stderr",
     "output_type": "stream",
     "text": [
      "[INFO][2023/10/06 04:36:11 PM] Localizing objects from segmentation...\n"
     ]
    },
    {
     "name": "stdout",
     "output_type": "stream",
     "text": [
      "Update sms failed to send\n"
     ]
    },
    {
     "name": "stderr",
     "output_type": "stream",
     "text": [
      "progress: 100%|███████████████████████████████████████████████████████████████████████████████████████████████████████████████████████████████████████████| 51/51 [00:01<00:00, 27.93it/s]\n",
      "[INFO][2023/10/06 04:36:13 PM] Objects are of type: <class 'dict'>\n",
      "[INFO][2023/10/06 04:36:13 PM] ...Found 445 objects in 39 frames.\n"
     ]
    },
    {
     "data": {
      "application/vnd.jupyter.widget-view+json": {
       "model_id": "cd319d0043ef4ed183a4caab001a26ac",
       "version_major": 2,
       "version_minor": 0
      },
      "text/plain": [
       "Measuring Mtb properties of each cell:   0%|          | 0/445 [00:00<?, ?it/s]"
      ]
     },
     "metadata": {},
     "output_type": "display_data"
    },
    {
     "name": "stderr",
     "output_type": "stream",
     "text": [
      "[INFO][2023/10/06 04:36:19 PM] Loaded btrack: /home/dayn/analysis/btrack/btrack/libs/libtracker.so\n",
      "[INFO][2023/10/06 04:36:19 PM] Starting BayesianTracker session\n",
      "[INFO][2023/10/06 04:36:19 PM] Loading configuration file: /home/dayn/analysis/models/loc.json\n",
      "[INFO][2023/10/06 04:36:19 PM] Objects are of type: <class 'list'>\n",
      "[INFO][2023/10/06 04:36:19 PM] Starting tracking... \n",
      "[INFO][2023/10/06 04:36:19 PM] Update using: ['MOTION', 'VISUAL']\n",
      "[INFO][2023/10/06 04:36:19 PM] Tracking objects in frames 0 to 9 (of 39)...\n",
      "[INFO][2023/10/06 04:36:19 PM]  - Timing (Bayesian updates: 0.11ms, Linking: 0.29ms)\n",
      "[INFO][2023/10/06 04:36:19 PM]  - Probabilities (Link: 1.00000, Lost: 1.00000)\n",
      "[INFO][2023/10/06 04:36:19 PM]  - Stats (Active: 109, Lost: 710, Conflicts resolved: 46)\n",
      "[INFO][2023/10/06 04:36:19 PM] Tracking objects in frames 10 to 19 (of 39)...\n",
      "[INFO][2023/10/06 04:36:19 PM]  - Timing (Bayesian updates: 0.03ms, Linking: 0.10ms)\n",
      "[INFO][2023/10/06 04:36:19 PM]  - Probabilities (Link: 1.00000, Lost: 1.00000)\n",
      "[INFO][2023/10/06 04:36:19 PM] SUCCESS.\n",
      "[INFO][2023/10/06 04:36:19 PM]  - Found 186 tracks in 39 frames (in 0.0s)\n",
      "[INFO][2023/10/06 04:36:19 PM]  - Inserted 65 dummy objects to fill tracking gaps\n",
      "[INFO][2023/10/06 04:36:19 PM] Loading hypothesis model: particle_hypothesis\n",
      "[INFO][2023/10/06 04:36:19 PM] Calculating hypotheses (relax: True)...\n",
      "[INFO][2023/10/06 04:36:19 PM] Setting up constraints matrix for global optimisation...\n",
      "[INFO][2023/10/06 04:36:19 PM] Using GLPK options: {'tm_lim': 60000}...\n",
      "[INFO][2023/10/06 04:36:19 PM] Optimizing...\n",
      "[INFO][2023/10/06 04:36:19 PM] Optimization complete. (Solution: optimal)\n",
      "[INFO][2023/10/06 04:36:19 PM]  - Fates.FALSE_POSITIVE: 167 (of 186)\n",
      "[INFO][2023/10/06 04:36:19 PM]  - Fates.INITIALIZE_BORDER: 0 (of 3)\n",
      "[INFO][2023/10/06 04:36:19 PM]  - Fates.INITIALIZE_LAZY: 19 (of 183)\n",
      "[INFO][2023/10/06 04:36:19 PM]  - Fates.TERMINATE_BORDER: 0 (of 3)\n",
      "[INFO][2023/10/06 04:36:19 PM]  - Fates.TERMINATE_BACK: 9 (of 25)\n",
      "[INFO][2023/10/06 04:36:19 PM]  - Fates.TERMINATE_LAZY: 10 (of 158)\n",
      "[INFO][2023/10/06 04:36:19 PM]  - TOTAL: 558 hypotheses\n",
      "[INFO][2023/10/06 04:36:19 PM] Completed optimization with 186 tracks\n",
      "[INFO][2023/10/06 04:36:19 PM] Ending BayesianTracker session\n",
      "[INFO][2023/10/06 04:36:19 PM] Opening HDF file: /home/dayn/data/homuncu_loc_temp/seperate_tracks/iAT1_iAT2_experiments/DAPI_SPC_PDPN_ZO1/sc_analyses/20230801_20X_23-03-011B6_DAPI_SP-C_PDPN_ZO-1_Multichannel Z-Stack_20230801_1439_iat2.h5...\n",
      "[INFO][2023/10/06 04:36:19 PM] Writing objects/obj_type_2\n",
      "[INFO][2023/10/06 04:36:19 PM] Writing labels/obj_type_2\n",
      "[INFO][2023/10/06 04:36:19 PM] Loading objects/obj_type_2 (378, 5) (378 filtered: None)\n",
      "[INFO][2023/10/06 04:36:19 PM] Writing properties/obj_type_2/axis_major_length (378,)\n",
      "[INFO][2023/10/06 04:36:19 PM] Writing properties/obj_type_2/axis_minor_length (378,)\n",
      "[INFO][2023/10/06 04:36:19 PM] Writing properties/obj_type_2/eccentricity (378,)\n",
      "[INFO][2023/10/06 04:36:19 PM] Writing properties/obj_type_2/area (378,)\n",
      "[INFO][2023/10/06 04:36:19 PM] Writing properties/obj_type_2/orientation (378,)\n",
      "[INFO][2023/10/06 04:36:19 PM] Writing properties/obj_type_2/mean_intensity (378, 4)\n",
      "[INFO][2023/10/06 04:36:19 PM] Writing properties/obj_type_2/class_id (378,)\n",
      "[INFO][2023/10/06 04:36:19 PM] Writing properties/obj_type_2/mtb_status (378,)\n",
      "[INFO][2023/10/06 04:36:19 PM] Writing properties/obj_type_2/mtb_area (378,)\n",
      "[INFO][2023/10/06 04:36:19 PM] Writing tracks/obj_type_2\n",
      "[INFO][2023/10/06 04:36:19 PM] Writing dummies/obj_type_2\n",
      "[INFO][2023/10/06 04:36:19 PM] Writing LBEP/obj_type_2\n",
      "[INFO][2023/10/06 04:36:19 PM] Writing fates/obj_type_2\n"
     ]
    },
    {
     "name": "stdout",
     "output_type": "stream",
     "text": [
      "GLPK Integer Optimizer 5.0\n",
      "744 rows, 558 columns, 744 non-zeros\n",
      "558 integer variables, all of which are binary\n",
      "Preprocessing...\n",
      "372 rows, 558 columns, 744 non-zeros\n",
      "558 integer variables, all of which are binary\n",
      "Scaling...\n",
      " A: min|aij| =  1.000e+00  max|aij| =  1.000e+00  ratio =  1.000e+00\n",
      "Problem data seem to be well scaled\n",
      "Constructing initial basis...\n",
      "Size of triangular part is 372\n",
      "Solving LP relaxation...\n",
      "GLPK Simplex Optimizer 5.0\n",
      "372 rows, 558 columns, 744 non-zeros\n",
      "*     0: obj =   2.317088476e+03 inf =   0.000e+00 (167)\n",
      "*   167: obj =   8.912115565e+02 inf =   0.000e+00 (0)\n",
      "OPTIMAL LP SOLUTION FOUND\n",
      "Integer optimization begins...\n",
      "Long-step dual simplex will be used\n",
      "+   167: mip =     not found yet >=              -inf        (1; 0)\n",
      "+   167: >>>>>   8.912115565e+02 >=   8.912115565e+02   0.0% (1; 0)\n",
      "+   167: mip =   8.912115565e+02 >=     tree is empty   0.0% (0; 1)\n",
      "INTEGER OPTIMAL SOLUTION FOUND\n"
     ]
    },
    {
     "name": "stderr",
     "output_type": "stream",
     "text": [
      "[INFO][2023/10/06 04:36:21 PM] Closing HDF file: /home/dayn/data/homuncu_loc_temp/seperate_tracks/iAT1_iAT2_experiments/DAPI_SPC_PDPN_ZO1/sc_analyses/20230801_20X_23-03-011B6_DAPI_SP-C_PDPN_ZO-1_Multichannel Z-Stack_20230801_1439_iat2.h5\n"
     ]
    },
    {
     "data": {
      "application/vnd.jupyter.widget-view+json": {
       "model_id": "a075aa74916e4e249d6191b46d71ac1b",
       "version_major": 2,
       "version_minor": 0
      },
      "text/plain": [
       "finding where segmentation channel is expressed in Z:   0%|          | 0/51 [00:00<?, ?it/s]"
      ]
     },
     "metadata": {},
     "output_type": "display_data"
    },
    {
     "data": {
      "application/vnd.jupyter.widget-view+json": {
       "model_id": "ad45267a892b4f8e90eef7d9fa729f35",
       "version_major": 2,
       "version_minor": 0
      },
      "text/plain": [
       "segmenting over select frames:   0%|          | 0/16 [00:00<?, ?it/s]"
      ]
     },
     "metadata": {},
     "output_type": "display_data"
    }
   ],
   "source": [
    "# Iterate over a list of image file paths using tqdm for progress tracking\n",
    "for image_fn in tqdm(image_fns, total=len(image_fns), desc='iterating over image volumes'):\n",
    "\n",
    "    # Define the output filename\n",
    "    output_fn = image_fn.replace('images', 'sc_analyses').replace('.tif', '_iat2.h5').replace('/run/user/30046150/gvfs/smb-share:server=data2.thecrick.org,share=lab-gutierrezm/home/shared/Lung on Chip/homuncu_loc_image_analysis/', \n",
    "                                                                                         '/home/dayn/data/homuncu_loc_temp/seperate_tracks/')\n",
    "    # if os.path.exists(output_fn):\n",
    "    #     continue\n",
    "    \n",
    "    try:\n",
    "        # Read the image using imageio.imread\n",
    "        image = io.imread(image_fn)\n",
    "    except Exception as e:\n",
    "        # Code to handle the exception and print the error message\n",
    "        print(e)\n",
    "        continue\n",
    "\n",
    "    \n",
    "    # # Extract the third channel (mphi_channel) from the image\n",
    "    # mphi_channel = image[..., 2]\n",
    "    \n",
    "    # # Segment the mphi_channel using custom function 'segment_channel'\n",
    "    # mphi_masks, mphi_diams = segment_channel(\n",
    "    #     mphi_channel,\n",
    "    #     diameter=60,\n",
    "    #     flow_threshold=0.99,\n",
    "    #     channels=[0, 0],\n",
    "    #     cellprob_threshold=-2,\n",
    "    #     min_mask_size=200,\n",
    "    #     return_diams=True,\n",
    "    #     start_point=None,\n",
    "    #     end_point=None\n",
    "    # )\n",
    "\n",
    "    # # update\n",
    "    # send_sms(f'mphi seg done {ID_extractor(image_fn)}')\n",
    "    \n",
    "    # Extract the second channel (zo1_channel) from the image\n",
    "    zo1_channel = image[..., 1]\n",
    "    \n",
    "    # Segment the zo1_channel for iat2 using 'segment_channel' with specific parameters\n",
    "    iat2_masks, iat2_diams = segment_channel(\n",
    "        zo1_channel,\n",
    "        diameter=None,\n",
    "        flow_threshold=0,\n",
    "        channels=[0, 0],\n",
    "        cellprob_threshold=0,\n",
    "        min_mask_size=200,\n",
    "        return_diams=True,\n",
    "        start_point=None,\n",
    "        end_point=None\n",
    "    )\n",
    "    masks = iat2_masks\n",
    "    # update\n",
    "    send_sms(f'iat2 seg done {ID_extractor(image_fn)}')\n",
    "    \n",
    "    # # Segment the zo1_channel for iat1 using 'segment_channel' with specific parameters\n",
    "    # iat1_masks, iat1_diams = segment_channel(\n",
    "    #     zo1_channel,\n",
    "    #     diameter=150,\n",
    "    #     flow_threshold=0.99,\n",
    "    #     channels=[0, 0],\n",
    "    #     cellprob_threshold=-3,\n",
    "    #     min_mask_size=2500,\n",
    "    #     return_diams=True,\n",
    "    #     start_point=None,\n",
    "    #     end_point=None\n",
    "    # )\n",
    "    \n",
    "    # # update\n",
    "    # send_sms(f'iat1 seg done {ID_extractor(image_fn)}')\n",
    "    \n",
    "    # # Loop over three different mask types: mphi_masks, iat2_masks, iat1_masks\n",
    "    # for n, masks in tqdm(enumerate([mphi_masks, iat2_masks, iat1_masks]), total=3):\n",
    "        \n",
    "    # Convert the segmentation masks to objects using btrack\n",
    "    objects = btrack.utils.segmentation_to_objects(\n",
    "        segmentation=iat2_masks,\n",
    "        intensity_image=image,\n",
    "        properties=props,\n",
    "        use_weighted_centroid=False,\n",
    "        assign_class_ID=True,\n",
    "    )\n",
    "\n",
    "    # update\n",
    "    # send_sms(f'object localisation {n, ID_extractor(image_fn)} done')\n",
    "\n",
    "    \n",
    "    # Check if mtb infected above threshold and measure mtb properties for each cell\n",
    "    threshold = 230\n",
    "    mtb_ch = 3\n",
    "    \n",
    "    for o in tqdm(objects, desc='Measuring Mtb properties of each cell'):\n",
    "        coordinates = np.argwhere(masks[o.t] == o.properties['class_id'])\n",
    "        pixel_values = image[o.t, coordinates[:, 0], coordinates[:, 1]]\n",
    "        mtb_status = np.any(pixel_values[:,mtb_ch] > threshold)\n",
    "        mtb_area = np.sum(pixel_values[:,mtb_ch] > threshold)\n",
    "        o.properties['mtb_status'] = mtb_status\n",
    "        o.properties['mtb_area'] = mtb_area\n",
    "        # o.properties['pixel_values'] = pixel_values\n",
    "\n",
    "    # update\n",
    "    # send_sms(f'mtb props {n, ID_extractor(image_fn)} done')\n",
    "\n",
    "    # Initialize BayesianTracker\n",
    "    with btrack.BayesianTracker() as tracker:\n",
    "        \n",
    "        # Configure the tracker using a config file\n",
    "        tracker.configure('/home/dayn/analysis/models/loc.json')\n",
    "        \n",
    "        # Set max search radius to a very limited radius\n",
    "        tracker.max_search_radius = 5\n",
    "        \n",
    "        # Define tracking method\n",
    "        tracker.tracking_updates = [\"MOTION\", \"VISUAL\"]\n",
    "        \n",
    "        # Use visual features to track\n",
    "        tracker.features = props\n",
    "        \n",
    "        # Append the objects to be tracked\n",
    "        tracker.append(objects)\n",
    "        \n",
    "        # Set the volume\n",
    "        tracker.volume = ((0, masks.shape[1]), (0, masks.shape[2]), (-1e5, 1e5))\n",
    "        \n",
    "        # Track them (in interactive mode)\n",
    "        tracker.track(step_size=10)\n",
    "        \n",
    "        # Generate hypotheses and run the global optimizer\n",
    "        tracker.optimize()\n",
    "        \n",
    "        # Get the tracks as a Python list\n",
    "        tracks = tracker.tracks\n",
    "\n",
    "    # update\n",
    "    # send_sms(f'tracking {n, ID_extractor(image_fn)} done')\n",
    "\n",
    "    # # Define the output filename\n",
    "    # output_fn = image_fn.replace('images', 'sc_analyses').replace('.tif', '_iat2.h5').replace('/run/user/30046150/gvfs/smb-share:server=data2.thecrick.org,share=lab-gutierrezm/home/shared/Lung on Chip/homuncu_loc_image_analysis/', \n",
    "    #                                                                                      '/home/dayn/data/homuncu_loc_temp/seperate_tracks/')\n",
    "    os.makedirs(os.path.dirname(output_fn), exist_ok=True)\n",
    "    \n",
    "    # Define the object type based on the iteration index\n",
    "    obj_type = f'obj_type_{2}'\n",
    "\n",
    "\n",
    "    # Write the tracks and segmentation masks to an HDF5 file using btrack.io.HDF5FileHandler\n",
    "    with btrack.io.HDF5FileHandler(output_fn, 'w', obj_type=obj_type) as writer:\n",
    "        writer.write_tracks(tracks)\n",
    "        writer.write_segmentation(masks)\n",
    "\n",
    "    # update \n"
   ]
  },
  {
   "cell_type": "code",
   "execution_count": null,
   "id": "2e95ab5a-ae51-4a5b-8893-90635cb5bce9",
   "metadata": {},
   "outputs": [
    {
     "data": {
      "text/plain": [
       "'/run/user/30046150/gvfs/smb-share:server=data2.thecrick.org,share=lab-gutierrezm/home/shared/Lung on Chip/homuncu_loc_image_analysis/iAT1_iAT2_iVEC_macrophage_experiments/DAPI_ZO1_CD16_MTB/images/20230707_40X_23-01-001A3_Multichannel Z-Stack_20230707_1320.tif'"
      ]
     },
     "execution_count": 23,
     "metadata": {},
     "output_type": "execute_result"
    }
   ],
   "source": [
    "image_fn"
   ]
  }
 ],
 "metadata": {
  "kernelspec": {
   "display_name": "brassica",
   "language": "python",
   "name": "brassica"
  },
  "language_info": {
   "codemirror_mode": {
    "name": "ipython",
    "version": 3
   },
   "file_extension": ".py",
   "mimetype": "text/x-python",
   "name": "python",
   "nbconvert_exporter": "python",
   "pygments_lexer": "ipython3",
   "version": "3.9.17"
  }
 },
 "nbformat": 4,
 "nbformat_minor": 5
}
