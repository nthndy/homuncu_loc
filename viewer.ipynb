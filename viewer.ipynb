{
 "cells": [
  {
   "cell_type": "markdown",
   "id": "038f144c",
   "metadata": {},
   "source": [
    "# homuncu_loc image viewer"
   ]
  },
  {
   "cell_type": "code",
   "execution_count": 1,
   "id": "8988af78",
   "metadata": {},
   "outputs": [
    {
     "name": "stderr",
     "output_type": "stream",
     "text": [
      "/home/dayn/miniconda3/envs/homunc/lib/python3.9/site-packages/scipy/__init__.py:155: UserWarning: A NumPy version >=1.18.5 and <1.26.0 is required for this version of SciPy (detected version 1.26.0\n",
      "  warnings.warn(f\"A NumPy version >={np_minversion} and <{np_maxversion}\"\n"
     ]
    }
   ],
   "source": [
    "import napari\n",
    "from skimage import io\n",
    "import btrack\n",
    "import os\n",
    "from homuncu_loc import dataio\n",
    "from glob import glob"
   ]
  },
  {
   "cell_type": "markdown",
   "id": "7e670b43-7ad1-4d82-9fa7-5676dd3ed73e",
   "metadata": {},
   "source": [
    "### Define base directory and image ID"
   ]
  },
  {
   "cell_type": "code",
   "execution_count": 60,
   "id": "94dcf597-f5a3-4a34-ba2a-fd91f5c890fd",
   "metadata": {},
   "outputs": [
    {
     "name": "stdout",
     "output_type": "stream",
     "text": [
      "File '20230802_20X_23-03-001A2_DAPI_ZO-1_LDO_Mtb_Multichannel Z-Stack_20230802_1504.tif' exists.\n"
     ]
    }
   ],
   "source": [
    "search_dir = '/run/user/30046150/gvfs/smb-share:server=data2.thecrick.org,share=lab-gutierrezm/home/shared/Lung on Chip/homuncu_loc_image_analysis/' # search for image or input basename and dir \n",
    "image_base_name = '20230802_20X_23-03-001A2_DAPI_ZO-1_LDO_Mtb_Multichannel Z-Stack_20230802_1504.tif' \n",
    "img_base_dir = dataio.find_image_directory(search_dir, image_base_name) # img_base_dir = '/run/user/30046150/gvfs/smb-share:server=data2.thecrick.org,share=lab-gutierrezm/home/shared/Lung on Chip/homuncu_loc_image_analysis/iAT1_iAT2_experiments/DAPI_NKX21_PDPN_ZO1/images'\n",
    "image_fn = os.path.join(img_base_dir, image_base_name)\n",
    "image_id = dataio.ID_extractor(image_fn)\n",
    "print(f\"File '{image_base_name}' {'exists.' if os.path.exists(image_fn) else 'does not exist.'}\")"
   ]
  },
  {
   "cell_type": "markdown",
   "id": "02cb932e-4d03-4847-a126-ea810fe9457f",
   "metadata": {},
   "source": [
    "### Load image"
   ]
  },
  {
   "cell_type": "code",
   "execution_count": 61,
   "id": "ff0db527-ba51-48ad-a0ca-e860cd5b3afa",
   "metadata": {},
   "outputs": [
    {
     "name": "stdout",
     "output_type": "stream",
     "text": [
      "Image of shape (81, 2304, 2304, 4) loaded\n",
      "CPU times: user 1.18 s, sys: 3.13 s, total: 4.31 s\n",
      "Wall time: 1min 2s\n"
     ]
    }
   ],
   "source": [
    "%%time\n",
    "image = io.imread(image_fn)\n",
    "print(f'Image of shape {image.shape} loaded')"
   ]
  },
  {
   "cell_type": "markdown",
   "id": "c950f0f6-2f7f-4097-baa2-83efbda56d3a",
   "metadata": {},
   "source": [
    "### Search for associated single-cell segmentation and tracking data"
   ]
  },
  {
   "cell_type": "code",
   "execution_count": 63,
   "id": "e299ec79-1c19-4f27-a1bd-e9a5de8017e6",
   "metadata": {},
   "outputs": [
    {
     "name": "stdout",
     "output_type": "stream",
     "text": [
      "['/run/user/30046150/gvfs/smb-share:server=data2.thecrick.org,share=lab-gutierrezm/home/shared/Lung on Chip/homuncu_loc_image_analysis/iAT1_iAT2_iVEC_macrophage_experiments/DAPI_ZO1_LDO_MTB/sc_analyses/20230802_20X_23-03-001A2_DAPI_ZO-1_LDO_Mtb_Multichannel Z-Stack_20230802_1504_mphi.h5', '/run/user/30046150/gvfs/smb-share:server=data2.thecrick.org,share=lab-gutierrezm/home/shared/Lung on Chip/homuncu_loc_image_analysis/iAT1_iAT2_iVEC_macrophage_experiments/DAPI_ZO1_LDO_MTB/sc_analyses/20230802_20X_23-03-001A2_DAPI_ZO-1_LDO_Mtb_Multichannel Z-Stack_20230802_1504_iat2.h5', '/run/user/30046150/gvfs/smb-share:server=data2.thecrick.org,share=lab-gutierrezm/home/shared/Lung on Chip/homuncu_loc_image_analysis/iAT1_iAT2_iVEC_macrophage_experiments/DAPI_ZO1_LDO_MTB/sc_analyses/20230802_20X_23-03-001A2_DAPI_ZO-1_LDO_Mtb_Multichannel Z-Stack_20230802_1504_iat1.h5']\n"
     ]
    }
   ],
   "source": [
    "# base_dir = '/run/user/30046150/gvfs/smb-share:server=data2.thecrick.org,share=lab-gutierrezm/home/shared/Lung on Chip/homuncu_loc_image_analysis/iAT1_iAT2_experiments/DAPI_NKX21_PDPN_ZO1/sc_analyses'\n",
    "sc_base_dir = img_base_dir.replace('images', 'sc_analyses') \n",
    "sc_fns = glob(os.path.join(sc_base_dir, f'*_{image_id}*.h5'))\n",
    "print(sc_fns)"
   ]
  },
  {
   "cell_type": "markdown",
   "id": "0aebf48c-88c8-4914-a6a4-540102487e60",
   "metadata": {},
   "source": [
    "### Load single-cell data"
   ]
  },
  {
   "cell_type": "code",
   "execution_count": 64,
   "id": "6c1b3e8f-df49-4ed7-920b-d2497db187e4",
   "metadata": {},
   "outputs": [
    {
     "name": "stderr",
     "output_type": "stream",
     "text": [
      "[INFO][2023/11/03 02:14:48 pm] Opening HDF file: /run/user/30046150/gvfs/smb-share:server=data2.thecrick.org,share=lab-gutierrezm/home/shared/Lung on Chip/homuncu_loc_image_analysis/iAT1_iAT2_iVEC_macrophage_experiments/DAPI_ZO1_LDO_MTB/sc_analyses/20230802_20X_23-03-001A2_DAPI_ZO-1_LDO_Mtb_Multichannel Z-Stack_20230802_1504_mphi.h5...\n",
      "[INFO][2023/11/03 02:14:49 pm] Loading tracks/obj_type_1\n",
      "[INFO][2023/11/03 02:14:49 pm] Loading LBEP/obj_type_1\n",
      "[INFO][2023/11/03 02:14:49 pm] Loading objects/obj_type_1 (28388, 5) (28388 filtered: None)\n",
      "[INFO][2023/11/03 02:14:52 pm] Loading segmentation (81, 2304, 2304)\n",
      "[INFO][2023/11/03 02:14:52 pm] Closing HDF file: /run/user/30046150/gvfs/smb-share:server=data2.thecrick.org,share=lab-gutierrezm/home/shared/Lung on Chip/homuncu_loc_image_analysis/iAT1_iAT2_iVEC_macrophage_experiments/DAPI_ZO1_LDO_MTB/sc_analyses/20230802_20X_23-03-001A2_DAPI_ZO-1_LDO_Mtb_Multichannel Z-Stack_20230802_1504_mphi.h5\n"
     ]
    }
   ],
   "source": [
    "sc_fn = sc_fns[0]\n",
    "# load labels (tracks and segmentation)\n",
    "with btrack.io.HDF5FileHandler(sc_fn, \n",
    "                                   'r', \n",
    "                                       obj_type='obj_type_1'#'obj_type_2'\n",
    "                                   ) as reader:\n",
    "        # tracks = [t for t in reader.tracks if np.mean(t.properties['area']) > 1000]\n",
    "        tracks = [t for t in reader.tracks if len(t) >= 3]\n",
    "        segmentation = reader.segmentation\n",
    "napari_tracks, properties, graph = btrack.utils.tracks_to_napari(tracks, ndim = 2)"
   ]
  },
  {
   "cell_type": "markdown",
   "id": "53992e60-6568-4931-8ec5-8d5b0e3195e0",
   "metadata": {},
   "source": [
    "##### Optionally recolour segmentation according to Cell ID"
   ]
  },
  {
   "cell_type": "code",
   "execution_count": 65,
   "id": "64c3f053",
   "metadata": {},
   "outputs": [],
   "source": [
    "recolored_segmentation = btrack.utils.update_segmentation(segmentation, tracks, color_by='ID')"
   ]
  },
  {
   "cell_type": "markdown",
   "id": "f05e55b4-3c8f-40ef-8cd1-a22ddb43ac1c",
   "metadata": {},
   "source": [
    "### View images and single-cell data"
   ]
  },
  {
   "cell_type": "code",
   "execution_count": 66,
   "id": "fb976154",
   "metadata": {},
   "outputs": [
    {
     "data": {
      "text/plain": [
       "<Tracks layer 'napari_tracks' at 0x7f53a389a5b0>"
      ]
     },
     "execution_count": 66,
     "metadata": {},
     "output_type": "execute_result"
    }
   ],
   "source": [
    "viewer = napari.Viewer(title = f'Image ID: {image_id}')\n",
    "\n",
    "viewer.add_image(image, channel_axis = -1)\n",
    "# viewer.add_labels(segmentation, visible = False)\n",
    "viewer.add_labels(recolored_segmentation)\n",
    "viewer.add_tracks(napari_tracks)"
   ]
  },
  {
   "cell_type": "code",
   "execution_count": 67,
   "id": "af63f25e-7a7d-4a55-80c4-e2c863f558fc",
   "metadata": {},
   "outputs": [
    {
     "name": "stdout",
     "output_type": "stream",
     "text": [
      "\n"
     ]
    }
   ],
   "source": [
    "print()"
   ]
  },
  {
   "cell_type": "code",
   "execution_count": 27,
   "id": "cbb5bc8a-bbed-47b1-a513-61373dc4194f",
   "metadata": {},
   "outputs": [
    {
     "data": {
      "text/plain": [
       "(127, 2304, 2304, 4)"
      ]
     },
     "execution_count": 27,
     "metadata": {},
     "output_type": "execute_result"
    }
   ],
   "source": [
    "image.shape"
   ]
  },
  {
   "cell_type": "code",
   "execution_count": 28,
   "id": "7eda3b01-0963-4b27-9597-ce2f90865841",
   "metadata": {},
   "outputs": [],
   "source": [
    "mtb = image[...,-1]"
   ]
  },
  {
   "cell_type": "code",
   "execution_count": 29,
   "id": "a7d835b3-3b6f-4c20-a381-a7f2b0087dcf",
   "metadata": {},
   "outputs": [],
   "source": [
    "ldo = image[...,-2]"
   ]
  },
  {
   "cell_type": "code",
   "execution_count": 34,
   "id": "24e9c59f-2cb9-4e35-99df-669eac227df8",
   "metadata": {},
   "outputs": [],
   "source": [
    "import numpy as np"
   ]
  },
  {
   "cell_type": "code",
   "execution_count": null,
   "id": "5afb6abe-3d88-4f46-a0ba-8598bc88058c",
   "metadata": {},
   "outputs": [],
   "source": [
    "np."
   ]
  },
  {
   "cell_type": "code",
   "execution_count": 35,
   "id": "73af87ad-875a-45f4-8964-c1bbdb957507",
   "metadata": {},
   "outputs": [
    {
     "data": {
      "text/plain": [
       "dtype('<u2')"
      ]
     },
     "execution_count": 35,
     "metadata": {},
     "output_type": "execute_result"
    }
   ],
   "source": [
    "mtb.dtype"
   ]
  },
  {
   "cell_type": "code",
   "execution_count": 36,
   "id": "7ba71b7b-be54-4fa8-938e-ae1d1342cc39",
   "metadata": {},
   "outputs": [],
   "source": [
    "test = (mtb-ldo).astype(np.uint16)"
   ]
  },
  {
   "cell_type": "code",
   "execution_count": 37,
   "id": "27f63bc6-1487-4442-8709-133ed382c350",
   "metadata": {},
   "outputs": [
    {
     "data": {
      "text/plain": [
       "<Image layer 'test [1]' at 0x7f53ab641eb0>"
      ]
     },
     "execution_count": 37,
     "metadata": {},
     "output_type": "execute_result"
    }
   ],
   "source": [
    "viewer.add_image(test)"
   ]
  }
 ],
 "metadata": {
  "kernelspec": {
   "display_name": "homunc",
   "language": "python",
   "name": "homunc"
  },
  "language_info": {
   "codemirror_mode": {
    "name": "ipython",
    "version": 3
   },
   "file_extension": ".py",
   "mimetype": "text/x-python",
   "name": "python",
   "nbconvert_exporter": "python",
   "pygments_lexer": "ipython3",
   "version": "3.9.18"
  }
 },
 "nbformat": 4,
 "nbformat_minor": 5
}
