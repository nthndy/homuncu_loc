{
 "cells": [
  {
   "cell_type": "markdown",
   "id": "17257d10",
   "metadata": {},
   "source": [
    "# LoC thresholding notebook\n",
    "\n",
    "This notebook loads a set of Z-tracks taken across an image volume from the lung-on-a-chip project and thresholds positive/negative expression of set markers based on a manual and unbiased assessment of the underlying images:\n",
    "\n",
    "1. Load z-tracks, segmentation and images.\n",
    "2. Initiate a Napari viewer with key bindings to annotate positive/negative expressing cells\n",
    "3. Assess results\n",
    "4. Quantify based on manually chosen thresholds"
   ]
  },
  {
   "cell_type": "code",
   "execution_count": 60,
   "id": "f56e6925",
   "metadata": {},
   "outputs": [],
   "source": [
    "import btrack # import tracking software\n",
    "import napari # image viewer\n",
    "from skimage import io # image loader and viewer\n",
    "import os # for filename manipulations\n",
    "import glob # for more fn operations \n",
    "import pandas as pd # module for data org \n",
    "import matplotlib.pyplot as plt # module for plotting\n",
    "import seaborn as sns # module for plotting\n",
    "sns.set(font='Nimbus Sans', style = 'white') # my favourite formatting :)\n",
    "sns.set_palette('PiYG') # my favourite colours :D "
   ]
  },
  {
   "cell_type": "markdown",
   "id": "99d1b77a",
   "metadata": {},
   "source": [
    "## 1. Load images and labels"
   ]
  },
  {
   "cell_type": "code",
   "execution_count": 7,
   "id": "3a4bc788",
   "metadata": {},
   "outputs": [],
   "source": [
    "image_fn = '/mnt/DATA/lung_on_chip/monolayer/21-12-031B/122/20x_21-12-031B_A12456_Multichannel Z-Stack_20220811_122.vsi - 014 CF405, CF488, CF561, CF638.tif'\n",
    "image = io.imread(image_fn) # load image"
   ]
  },
  {
   "cell_type": "code",
   "execution_count": 8,
   "id": "0fce503f",
   "metadata": {},
   "outputs": [
    {
     "name": "stderr",
     "output_type": "stream",
     "text": [
      "[INFO][2023/07/21 02:47:43 PM] Opening HDF file: /mnt/DATA/lung_on_chip/monolayer/21-12-031B/122/z_tracks_masks.h5...\n",
      "[INFO][2023/07/21 02:47:43 PM] Loading tracks/obj_type_1\n",
      "[INFO][2023/07/21 02:47:43 PM] Loading LBEP/obj_type_1\n",
      "[INFO][2023/07/21 02:47:43 PM] Loading objects/obj_type_1 (48519, 5) (48519 filtered: None)\n",
      "[INFO][2023/07/21 02:47:47 PM] Loading segmentation (81, 2304, 2304)\n",
      "[INFO][2023/07/21 02:47:47 PM] Closing HDF file: /mnt/DATA/lung_on_chip/monolayer/21-12-031B/122/z_tracks_masks.h5\n"
     ]
    }
   ],
   "source": [
    "# set filename\n",
    "labels_fn = '/mnt/DATA/lung_on_chip/monolayer/21-12-031B/122/z_tracks_masks.h5'\n",
    "# load labels (tracks and segmentation)\n",
    "with btrack.io.HDF5FileHandler(labels_fn, \n",
    "                                   'r', \n",
    "                                   obj_type='obj_type_1'\n",
    "                                   ) as reader:\n",
    "        tracks = reader.tracks\n",
    "        segmentation = reader.segmentation\n",
    "napari_tracks, properties, graph = btrack.utils.tracks_to_napari(tracks, ndim = 2)"
   ]
  },
  {
   "cell_type": "markdown",
   "id": "1c0e1c00",
   "metadata": {},
   "source": [
    "## 2. Initiate a napari session with key bindings"
   ]
  },
  {
   "cell_type": "code",
   "execution_count": 103,
   "id": "b38e14db",
   "metadata": {},
   "outputs": [],
   "source": [
    "output_dir = os.path.dirname(image_fn)"
   ]
  },
  {
   "cell_type": "code",
   "execution_count": 30,
   "id": "169aa501",
   "metadata": {},
   "outputs": [
    {
     "name": "stderr",
     "output_type": "stream",
     "text": [
      "/home/dayn/miniconda3/envs/aero/lib/python3.9/site-packages/napari/layers/tracks/tracks.py:312: RuntimeWarning: divide by zero encountered in true_divide\n",
      "  alpha = (self.head_length + self.current_time - times) / (\n",
      "/home/dayn/miniconda3/envs/aero/lib/python3.9/site-packages/napari/layers/tracks/tracks.py:312: RuntimeWarning: divide by zero encountered in true_divide\n",
      "  alpha = (self.head_length + self.current_time - times) / (\n",
      "/home/dayn/miniconda3/envs/aero/lib/python3.9/site-packages/napari/layers/tracks/tracks.py:312: RuntimeWarning: invalid value encountered in true_divide\n",
      "  alpha = (self.head_length + self.current_time - times) / (\n",
      "/home/dayn/miniconda3/envs/aero/lib/python3.9/site-packages/napari/layers/tracks/tracks.py:312: RuntimeWarning: divide by zero encountered in true_divide\n",
      "  alpha = (self.head_length + self.current_time - times) / (\n",
      "/home/dayn/miniconda3/envs/aero/lib/python3.9/site-packages/napari/layers/tracks/tracks.py:312: RuntimeWarning: invalid value encountered in true_divide\n",
      "  alpha = (self.head_length + self.current_time - times) / (\n"
     ]
    }
   ],
   "source": [
    "viewer = napari.Viewer()\n",
    "\n",
    "viewer.add_image(image, channel_axis=-1)\n",
    "track_layer = viewer.add_tracks(napari_tracks, tail_length=0, visible = False)\n",
    "labels = viewer.add_labels(segmentation)\n",
    "labels.contour = 1 # this makes all the masks into outlines but might slow your computer down A LOT (comment out line if so) \n",
    "\n",
    "@viewer.bind_key('t')\n",
    "def ch1_extract_positive_pixel_value(event=None):\n",
    "    ### extract cell ID under cursor\n",
    "    cell_ID = track_layer._get_value(position=viewer.cursor.position)\n",
    "    ### get time frame\n",
    "    time = viewer.cursor.position[0]\n",
    "    try:\n",
    "        positive_track = [track for track in tracks if track.ID == cell_ID][0]\n",
    "    except:\n",
    "        print('Looks like there was no identifiable track there')\n",
    "    ### get index of cell instance of selected frame\n",
    "    cell_index = positive_track.t.index(time)\n",
    "    ### extract the pixel intensity of that segment\n",
    "    px_int =  positive_track['mean_intensity'][:,1][cell_index]\n",
    "    ### write to output file\n",
    "    with open(os.path.join(output_dir, \"ch1_positive.csv\"),\"a\") as f:\n",
    "        f.write(f\"{px_int}\\n\")\n",
    "    with open(os.path.join(output_dir, \"ch1_positive_details.csv\"),\"a\") as f:\n",
    "        f.write(f\"{cell_ID, time, px_int}\\n\")\n",
    "@viewer.bind_key('b')\n",
    "def ch1_extract_negative_pixel_value(event=None):\n",
    "    ### extract cell ID under cursor\n",
    "    cell_ID = track_layer._get_value(position=viewer.cursor.position)\n",
    "    ### get time frame\n",
    "    time = viewer.cursor.position[0]\n",
    "    try:\n",
    "        positive_track = [track for track in tracks if track.ID == cell_ID][0]\n",
    "    except:\n",
    "        print('Looks like there was no identifiable track there')\n",
    "    ### get index of cell instance of selected frame\n",
    "    cell_index = positive_track.t.index(time)\n",
    "    ### extract the pixel intensity of that segment\n",
    "    px_int =  positive_track['mean_intensity'][:,1][cell_index]\n",
    "    ### write to output file\n",
    "    with open(os.path.join(output_dir, \"ch1_negative.csv\"),\"a\") as f:\n",
    "        f.write(f\"{px_int}\\n\")\n",
    "    with open(os.path.join(output_dir, \"ch1_negative_details.csv\"),\"a\") as f:\n",
    "        f.write(f\"{cell_ID, time, px_int}\\n\")\n",
    "\n",
    "@viewer.bind_key('p')\n",
    "def ch2_extract_positive_pixel_value(event=None):\n",
    "    ### extract cell ID under cursor\n",
    "    cell_ID = track_layer._get_value(position=viewer.cursor.position)\n",
    "    ### get time frame\n",
    "    time = viewer.cursor.position[0]\n",
    "    try:\n",
    "        positive_track = [track for track in tracks if track.ID == cell_ID][0]\n",
    "    except:\n",
    "        print('Looks like there was no identifiable track there')\n",
    "    ### get index of cell instance of selected frame\n",
    "    cell_index = positive_track.t.index(time)\n",
    "    ### extract the pixel intensity of that segment\n",
    "    px_int =  positive_track['mean_intensity'][:,2][cell_index]\n",
    "    ### write to output file\n",
    "    with open(os.path.join(output_dir, \"ch2_positive.csv\"),\"a\") as f:\n",
    "        f.write(f\"{px_int}\\n\")\n",
    "    with open(os.path.join(output_dir, \"ch2_positive_details.csv\"),\"a\") as f:\n",
    "        f.write(f\"{cell_ID, time, px_int}\\n\")\n",
    "@viewer.bind_key('n')\n",
    "def ch2_extract_negative_pixel_value(event=None):\n",
    "    ### extract cell ID under cursor\n",
    "    cell_ID = track_layer._get_value(position=viewer.cursor.position)\n",
    "    ### get time frame\n",
    "    time = viewer.cursor.position[0]\n",
    "    try:\n",
    "        positive_track = [track for track in tracks if track.ID == cell_ID][0]\n",
    "    except:\n",
    "        print('Looks like there was no identifiable track there')\n",
    "    ### get index of cell instance of selected frame\n",
    "    cell_index = positive_track.t.index(time)\n",
    "    ### extract the pixel intensity of that segment\n",
    "    px_int =  positive_track['mean_intensity'][:,2][cell_index]\n",
    "    ### write to output file\n",
    "    with open(os.path.join(output_dir, \"ch2_negative.csv\"),\"a\") as f:\n",
    "        f.write(f\"{px_int}\\n\")\n",
    "    with open(os.path.join(output_dir, \"ch2_negative_details.csv\"),\"a\") as f:\n",
    "        f.write(f\"{cell_ID, time, px_int}\\n\")\n"
   ]
  },
  {
   "cell_type": "markdown",
   "id": "2b84de61",
   "metadata": {},
   "source": [
    "## Load results of unbiased thresholding\n",
    "\n",
    "Loading many single-cell measurements of positive and negative cells to decide where the threshold between them is (simply by plotting and deciding at the moment)."
   ]
  },
  {
   "cell_type": "code",
   "execution_count": 108,
   "id": "32a4acd4",
   "metadata": {},
   "outputs": [],
   "source": [
    "df = dict()\n",
    "channels = ['ch1', 'ch2']\n",
    "for channel in channels:\n",
    "    for fn in glob.glob(os.path.join(output_dir, f'{channel}*.csv')):\n",
    "        if 'positive.' in fn:\n",
    "            positive_df = pd.read_csv(fn, names=[f'Positive mean pixel intensity {channel}'])\n",
    "        if 'negative.' in fn:\n",
    "            negative_df = pd.read_csv(fn, names=[f'Negative mean pixel intensity {channel}'])\n",
    "    df[channel] = pd.concat((negative_df, positive_df), axis = 1)"
   ]
  },
  {
   "cell_type": "code",
   "execution_count": 109,
   "id": "47b6b554",
   "metadata": {},
   "outputs": [
    {
     "data": {
      "text/plain": [
       "Text(0.5, 1.0, 'Positive/negative pixel distribution across ch1')"
      ]
     },
     "execution_count": 109,
     "metadata": {},
     "output_type": "execute_result"
    },
    {
     "data": {
      "image/png": "[encoded data removed]",
      "text/plain": [
       "<Figure size 640x480 with 1 Axes>"
      ]
     },
     "metadata": {},
     "output_type": "display_data"
    }
   ],
   "source": [
    "channel = 'ch1'\n",
    "sns.histplot(data = df[channel], bins = 20)\n",
    "sns.despine(offset = 10)\n",
    "plt.xlabel('Mean pixel value per cell')\n",
    "plt.ylabel('Number of cells')\n",
    "plt.title(f'Positive/negative pixel distribution across {channel}')"
   ]
  }
 ],
 "metadata": {
  "kernelspec": {
   "display_name": "aero",
   "language": "python",
   "name": "aero"
  },
  "language_info": {
   "codemirror_mode": {
    "name": "ipython",
    "version": 3
   },
   "file_extension": ".py",
   "mimetype": "text/x-python",
   "name": "python",
   "nbconvert_exporter": "python",
   "pygments_lexer": "ipython3",
   "version": "3.9.12"
  }
 },
 "nbformat": 4,
 "nbformat_minor": 5
}
