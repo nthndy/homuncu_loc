{
 "cells": [
  {
   "cell_type": "markdown",
   "id": "038f144c",
   "metadata": {},
   "source": [
    "# scaling mphi seg 3 class"
   ]
  },
  {
   "cell_type": "code",
   "execution_count": 1,
   "id": "8988af78",
   "metadata": {},
   "outputs": [],
   "source": [
    "import napari\n",
    "from skimage import io\n",
    "import btrack\n",
    "import os\n",
    "from tqdm.auto import tqdm\n",
    "import numpy as np\n",
    "import btrack\n",
    "from glob import glob\n",
    "from homuncu_loc.dataio import find_files_with_basename, ID_extractor"
   ]
  },
  {
   "cell_type": "markdown",
   "id": "09c5e155-1cd6-46e9-9643-5446f0fc851b",
   "metadata": {},
   "source": [
    "#### Define image fn "
   ]
  },
  {
   "cell_type": "code",
   "execution_count": 2,
   "id": "662eacac-3046-4b30-9465-a8f734574ad4",
   "metadata": {},
   "outputs": [
    {
     "name": "stdout",
     "output_type": "stream",
     "text": [
      "nvcc: NVIDIA (R) Cuda compiler driver\n",
      "Copyright (c) 2005-2019 NVIDIA Corporation\n",
      "Built on Sun_Jul_28_19:07:16_PDT_2019\n",
      "Cuda compilation tools, release 10.1, V10.1.243\n",
      "Fri Oct  6 14:39:13 2023       \n",
      "+-----------------------------------------------------------------------------+\n",
      "| NVIDIA-SMI 515.105.01   Driver Version: 515.105.01   CUDA Version: 11.7     |\n",
      "|-------------------------------+----------------------+----------------------+\n",
      "| GPU  Name        Persistence-M| Bus-Id        Disp.A | Volatile Uncorr. ECC |\n",
      "| Fan  Temp  Perf  Pwr:Usage/Cap|         Memory-Usage | GPU-Util  Compute M. |\n",
      "|                               |                      |               MIG M. |\n",
      "|===============================+======================+======================|\n",
      "|   0  NVIDIA RTX A6000    On   | 00000000:65:00.0  On |                  Off |\n",
      "| 30%   45C    P8    35W / 300W |  47085MiB / 49140MiB |      5%      Default |\n",
      "|                               |                      |                  N/A |\n",
      "+-------------------------------+----------------------+----------------------+\n",
      "                                                                               \n",
      "+-----------------------------------------------------------------------------+\n",
      "| Processes:                                                                  |\n",
      "|  GPU   GI   CI        PID   Type   Process name                  GPU Memory |\n",
      "|        ID   ID                                                   Usage      |\n",
      "|=============================================================================|\n",
      "|    0   N/A  N/A      2292      G   /usr/lib/xorg/Xorg               1196MiB |\n",
      "|    0   N/A  N/A     11268      G   /usr/bin/gnome-shell              175MiB |\n",
      "|    0   N/A  N/A     42098      G   gnome-control-center               50MiB |\n",
      "|    0   N/A  N/A     83810      G   ...AAAAAAAAA= --shared-files        6MiB |\n",
      "|    0   N/A  N/A     91460      C   .../envs/brassica/bin/python      385MiB |\n",
      "|    0   N/A  N/A    336109      G   .../envs/brassica/bin/python       25MiB |\n",
      "|    0   N/A  N/A    338054      C   .../envs/brassica/bin/python      359MiB |\n",
      "|    0   N/A  N/A    339241    C+G   .../envs/brassica/bin/python    43812MiB |\n",
      "|    0   N/A  N/A    530026      G   ...714807703712694810,262144      197MiB |\n",
      "|    0   N/A  N/A    536034      C   ...nda3/envs/aero/bin/python      421MiB |\n",
      "|    0   N/A  N/A    540247      C   .../envs/brassica/bin/python      445MiB |\n",
      "+-----------------------------------------------------------------------------+\n",
      ">>> GPU activated? YES\n"
     ]
    }
   ],
   "source": [
    "# print gpu information\n",
    "!nvcc --version\n",
    "!nvidia-smi\n",
    "\n",
    "# load cellpose\n",
    "from cellpose import core, utils, models, metrics\n",
    "import matplotlib.pyplot as plt \n",
    "from skimage.morphology import remove_small_objects\n",
    "\n",
    "# check to see if GPU can be used\n",
    "use_GPU = core.use_gpu()\n",
    "yn = ['NO', 'YES']\n",
    "print(f'>>> GPU activated? {yn[use_GPU]}')\n",
    "\n",
    "# define segmentation model parameters\n",
    "model = models.Cellpose(gpu=use_GPU, \n",
    "                        model_type='cyto') # cytoplasmic segmentation \n",
    "channels = [0,0] # this means using a grayscale image for both nuclei and cyto channels (even if not using nuclei, still have to say its same colour [greyscale = 0])"
   ]
  },
  {
   "cell_type": "markdown",
   "id": "3b2ce567-d8fb-41d9-8cac-f61e04741f99",
   "metadata": {},
   "source": [
    "# define a general segmentation framework for macroph and edit params for other cell"
   ]
  },
  {
   "cell_type": "code",
   "execution_count": 3,
   "id": "e3ed329d-6793-4a23-80ab-90f04e9d4992",
   "metadata": {},
   "outputs": [],
   "source": [
    "from tqdm.auto import tqdm\n",
    "from cellpose import models\n",
    "from skimage.morphology import remove_small_objects\n",
    "import numpy as np\n",
    "import btrack\n",
    "\n",
    "def segment_channel(segmentation_channel, diameter=60, flow_threshold=0.99, channels=[0,0], cellprob_threshold=-2, min_mask_size=500, return_diams=False, start_point=None, end_point=None):\n",
    "    \"\"\"\n",
    "    Segments a specified channel of an image using Cellpose and optionally returns the average diameter of segments.\n",
    "\n",
    "    Args:\n",
    "    - segmentation_channel (ndarray): 3D array of the target channel where the 3rd dimension represents the Z-stack.\n",
    "    - diameter (int, optional): Average cell diameter for Cellpose. Default is 60.\n",
    "    - flow_threshold (float, optional): Threshold for flow in Cellpose. Default is 0.99.\n",
    "    - channels (list, optional): Channel input for Cellpose. Default is [0,0].\n",
    "    - cellprob_threshold (float, optional): Cell probability threshold for Cellpose. Default is -2.\n",
    "    - min_mask_size (int, optional): Minimum size of objects to keep in the segmented mask. Default is 500.\n",
    "    - return_diams (bool, optional): If set to True, the function will also return the average diameter of segments.\n",
    "    - start_point (int, optional): Starting point for segmentation frames. Default is None.\n",
    "    - end_point (int, optional): Ending point for segmentation frames. Default is None.\n",
    "\n",
    "    Returns:\n",
    "    - ndarray: 3D mask array with the same shape as the input, where segmented regions are labeled.\n",
    "    - float (optional): Average diameter of segments if return_diams is True.\n",
    "    \"\"\"\n",
    "\n",
    "    if start_point is None or end_point is None:\n",
    "        # Calculate intensities for each frame in Z-stack\n",
    "        intensities = [np.sum(frame) for frame in tqdm(segmentation_channel, desc='finding where segmentation channel is expressed in Z')]\n",
    "\n",
    "        # Estimate the background level\n",
    "        background_level = np.min(intensities)\n",
    "        threshold = background_level + ((np.max(intensities)-np.min(intensities))*0.50)\n",
    "\n",
    "        if start_point is None:\n",
    "            # Find the points where the curve starts to deviate from the background\n",
    "            start_point = np.argmax(intensities > threshold)\n",
    "\n",
    "        if end_point is None:\n",
    "            end_point = len(intensities) - np.argmax(intensities[::-1] > threshold) - 1\n",
    "\n",
    "    # Initialize output mask array\n",
    "    mask_array = np.zeros_like(segmentation_channel)\n",
    "\n",
    "    # Initialize the model\n",
    "    model = models.Cellpose(model_type='cyto')\n",
    "    \n",
    "    # List to store diameters if return_diams is True\n",
    "    diams = []\n",
    "\n",
    "    # Segment over selected frames\n",
    "    for n, frame in tqdm(enumerate(segmentation_channel[start_point:end_point]), total=end_point-start_point, desc='segmenting over select frames'):\n",
    "        n += start_point\n",
    "        masks, _, _, diam = model.eval(frame, diameter=diameter, flow_threshold=flow_threshold, channels=channels, cellprob_threshold=cellprob_threshold)\n",
    "        masks = remove_small_objects(masks, min_size=min_mask_size)\n",
    "        mask_array[n] = masks\n",
    "        diams.append(diam)\n",
    "\n",
    "    if return_diams:\n",
    "        return mask_array, diams\n",
    "    else:\n",
    "        return mask_array\n"
   ]
  },
  {
   "cell_type": "code",
   "execution_count": 4,
   "id": "2b6e699a-fedb-45c2-8412-5b4f63a4da19",
   "metadata": {},
   "outputs": [],
   "source": [
    "props = ('axis_major_length', # first define some cell properties \n",
    "         'axis_minor_length', # this helps improve the tracking\n",
    "         'eccentricity',      # by comparing similarities between slices/frames\n",
    "         'area', \n",
    "         'orientation',\n",
    "         'mean_intensity', \n",
    "        )"
   ]
  },
  {
   "cell_type": "code",
   "execution_count": 6,
   "id": "075d89d6-b7a0-4699-a6a0-3d730c262adb",
   "metadata": {},
   "outputs": [],
   "source": [
    "basedir = '/run/user/30046150/gvfs/smb-share:server=data2.thecrick.org,share=lab-gutierrezm/home/shared/Lung on Chip/homuncu_loc_image_analysis/iAT1_iAT2_iVEC_macrophage_experiments/DAPI_ZO1_CD16_MTB/images'"
   ]
  },
  {
   "cell_type": "code",
   "execution_count": 24,
   "id": "38f4bd7f-f353-47c0-a1bb-1bd73cd4f5a7",
   "metadata": {},
   "outputs": [],
   "source": [
    "image_basenames = [\n",
    "    \"20230705_40X_23-01-001B3_Multichannel Z-Stack_20230705_1298\",\n",
    "    \"20230705_40X_23-01-001B3_Multichannel Z-Stack_20230705_1299\",\n",
    "    \"20230705_40X_23-01-001B3_Multichannel Z-Stack_20230705_1300\",\n",
    "    \"20230705_40X_23-01-005A3_Multichannel Z-Stack_20230705_1306\",\n",
    "    \"20230705_40X_23-01-005A3_Multichannel Z-Stack_20230705_1307\",\n",
    "    \"20230705_40X_23-01-005A3_Multichannel Z-Stack_20230705_1308\",\n",
    "    \"20230705_40X_23-01-005A3_Multichannel Z-Stack_20230705_1309\",\n",
    "    \"20230705_40X_23-01-005A3_Multichannel Z-Stack_20230705_1310\",\n",
    "    \"20230705_40X_23-01-005A3_Multichannel Z-Stack_20230705_1311\",\n",
    "    \"20230707_40X_23-01-001A3_Multichannel Z-Stack_20230707_1313\",\n",
    "    \"20230707_40X_23-01-001A3_Multichannel Z-Stack_20230707_1314\",\n",
    "    \"20230707_40X_23-01-001A3_Multichannel Z-Stack_20230707_1315\",\n",
    "    \"20230707_40X_23-01-001A3_Multichannel Z-Stack_20230707_1316\",\n",
    "    \"20230707_40X_23-01-001A3_Multichannel Z-Stack_20230707_1317\",\n",
    "    \"20230707_40X_23-01-001A3_Multichannel Z-Stack_20230707_1318\",\n",
    "    \"20230707_40X_23-01-001A3_Multichannel Z-Stack_20230707_1319\",\n",
    "    \"20230707_40X_23-01-001A3_Multichannel Z-Stack_20230707_1320\",\n",
    "    \"20230707_40X_23-01-005A3_Multichannel Z-Stack_20230707_1324\",\n",
    "    \"20230707_40X_23-01-005A3_Multichannel Z-Stack_20230707_1325\",\n",
    "    \"20230714_20X_23-02-104A4_Multichannel Z-Stack_20230714_1340\",\n",
    "    \"20230714_20X_23-02-104A4_Multichannel Z-Stack_20230714_1341\",\n",
    "    \"20230714_20X_23-02-104A4_Multichannel Z-Stack_20230714_1342\",\n",
    "    \"20230714_20X_23-02-104A4_Multichannel Z-Stack_20230714_1343\",\n",
    "    \"20230714_20X_23-02-104A4_Multichannel Z-Stack_20230714_1344\",\n",
    "    \"20230718_20X_23-02-104B2_Multichannel Z-Stack_20230718_1361\",\n",
    "    \"20230718_20X_23-02-104B2_Multichannel Z-Stack_20230718_1362\",\n",
    "    \"20230718_20X_23-02-104B2_Multichannel Z-Stack_20230718_1363\",\n",
    "    \"20230718_20X_23-02-104B2_Multichannel Z-Stack_20230718_1364\",\n",
    "    \"20230718_20X_23-02-104B2_Multichannel Z-Stack_20230718_1365\",\n",
    "       \"20230801_20X_23-03-001B4_DAPI_ZO-1_CD16_Mtb_Multichannel Z-Stack_20230801_1463\",\n",
    "    \"20230801_20X_23-03-001B4_DAPI_ZO-1_CD16_Mtb_Multichannel Z-Stack_20230801_1464\",\n",
    "    \"20230801_20X_23-03-001B4_DAPI_ZO-1_CD16_Mtb_Multichannel Z-Stack_20230801_1465\",\n",
    "    \"20230801_20X_23-03-001B4_DAPI_ZO-1_CD16_Mtb_Multichannel Z-Stack_20230801_1467\",\n",
    "    \"20230801_20X_23-03-001B2_DAPI_ZO-1_Ki67_Mtb_Multichannel Z-Stack_20230801_1482\",\n",
    "    \"20230801_20X_23-03-001B2_DAPI_ZO-1_Ki67_Mtb_Multichannel Z-Stack_20230801_1483\",\n",
    "    \"20230801_20X_23-03-001B2_DAPI_ZO-1_Ki67_Mtb_Multichannel Z-Stack_20230801_1484\",\n",
    "    \"20230802_20X_23-03-001A4_DAPI_ZO-1_CD16_Mtb_Multichannel Z-Stack_20230802_1500\",\n",
    "    \"20230802_20X_23-03-001A4_DAPI_ZO-1_CD16_Mtb_Multichannel Z-Stack_20230802_1501\",\n",
    "    \"20230802_20X_23-03-001A1_DAPI_ZO-1_CD16_Mtb_Multichannel Z-Stack_20230802_1510\",\n",
    "    \"20230802_20X_23-03-001A1_DAPI_ZO-1_CD16_Mtb_Multichannel Z-Stack_20230802_1511\",\n",
    "    \"20230802_20X_23-03-001A1_DAPI_ZO-1_CD16_Mtb_Multichannel Z-Stack_20230802_1512\",\n",
    "    \"20230802_20X_23-03-001A1_DAPI_ZO-1_CD16_Mtb_Multichannel Z-Stack_20230802_1513\",\n",
    "    \"20230802_20X_23-03-001A1_DAPI_ZO-1_CD16_Mtb_Multichannel Z-Stack_20230802_1514\",\n",
    "    \"20230801_20X_23-03-001B2_DAPI_ZO-1_Ki67_Mtb_Multichannel Z-Stack_20230801_1481\"\n",
    "]\n"
   ]
  },
  {
   "cell_type": "code",
   "execution_count": 25,
   "id": "99b9c3ab-a85a-4fb7-8022-f1f858490035",
   "metadata": {},
   "outputs": [],
   "source": [
    "image_fns = [os.path.join(basedir, fn+'.tif') for fn in image_basenames]"
   ]
  },
  {
   "cell_type": "code",
   "execution_count": null,
   "id": "0c0bdf7f-ebc6-491b-8e2a-37e6171279c5",
   "metadata": {},
   "outputs": [],
   "source": []
  },
  {
   "cell_type": "markdown",
   "id": "3b21edae-58d7-4567-8d5e-81953a68bfe5",
   "metadata": {},
   "source": [
    "### Or just define different basename, path combinations"
   ]
  },
  {
   "cell_type": "code",
   "execution_count": 5,
   "id": "da1d42b6-5eed-44c5-8f18-8b5c01d9cee4",
   "metadata": {},
   "outputs": [],
   "source": [
    "image_fns = [f'{fn}.tif' for fn in [\n",
    "    \"/run/user/30046150/gvfs/smb-share:server=data2.thecrick.org,share=lab-gutierrezm/home/shared/Lung on Chip/homuncu_loc_image_analysis/iAT1_iAT2_iVEC_macrophage_experiments/DAPI_ZO1_LDO_MTB/images/20230801_20X_23-03-001B6_DAPI_ZO-1_LDO_Mtb_Multichannel Z-Stack_20230801_1453\",\n",
    "    \"/run/user/30046150/gvfs/smb-share:server=data2.thecrick.org,share=lab-gutierrezm/home/shared/Lung on Chip/homuncu_loc_image_analysis/iAT1_iAT2_iVEC_macrophage_experiments/DAPI_ZO1_LDO_MTB/images/20230801_20X_23-03-001B3_DAPI_ZO-1_LDO_Mtb_Multichannel Z-Stack_20230801_1468\",\n",
    "    # \"/run/user/30046150/gvfs/smb-share:server=data2.thecrick.org,share=lab-gutierrezm/home/shared/Lung on Chip/homuncu_loc_image_analysis/iAT1_iAT2_iVEC_macrophage_experiments/DAPI_ZO1_Ki67_MTB/images/20230801_20X_23-03-001B2_DAPI_ZO-1_Ki67_Mtb_Multichannel Z-Stack_20230801_1481\",\n",
    "    # \"/run/user/30046150/gvfs/smb-share:server=data2.thecrick.org,share=lab-gutierrezm/home/shared/Lung on Chip/homuncu_loc_image_analysis/iAT1_iAT2_iVEC_macrophage_experiments/DAPI_ZO1_Ki67_MTB/images/20230801_20X_23-03-001B2_DAPI_ZO-1_Ki67_Mtb_Multichannel Z-Stack_20230801_1482\",\n",
    "    # \"/run/user/30046150/gvfs/smb-share:server=data2.thecrick.org,share=lab-gutierrezm/home/shared/Lung on Chip/homuncu_loc_image_analysis/iAT1_iAT2_iVEC_macrophage_experiments/DAPI_ZO1_Ki67_MTB/images/20230801_20X_23-03-001B2_DAPI_ZO-1_Ki67_Mtb_Multichannel Z-Stack_20230801_1483\",\n",
    "    # \"/run/user/30046150/gvfs/smb-share:server=data2.thecrick.org,share=lab-gutierrezm/home/shared/Lung on Chip/homuncu_loc_image_analysis/iAT1_iAT2_iVEC_macrophage_experiments/DAPI_ZO1_Ki67_MTB/images/20230801_20X_23-03-001B2_DAPI_ZO-1_Ki67_Mtb_Multichannel Z-Stack_20230801_1484\",\n",
    "    \"/run/user/30046150/gvfs/smb-share:server=data2.thecrick.org,share=lab-gutierrezm/home/shared/Lung on Chip/homuncu_loc_image_analysis/iAT1_iAT2_iVEC_macrophage_experiments/DAPI_ZO1_LDO_MTB/images/20230802_20X_23-03-001A5_DAPI_ZO-1_LDO_Mtb_Multichannel Z-Stack_20230802_1496\",\n",
    "    \"/run/user/30046150/gvfs/smb-share:server=data2.thecrick.org,share=lab-gutierrezm/home/shared/Lung on Chip/homuncu_loc_image_analysis/iAT1_iAT2_iVEC_macrophage_experiments/DAPI_ZO1_LDO_MTB/images/20230802_20X_23-03-001A2_DAPI_ZO-1_LDO_Mtb_Multichannel Z-Stack_20230802_1504\"\n",
    "]]\n"
   ]
  },
  {
   "cell_type": "code",
   "execution_count": 6,
   "id": "7d75fcf8-d7fe-426b-a202-9b9df581c642",
   "metadata": {},
   "outputs": [],
   "source": [
    "from macrohet.notify import send_sms"
   ]
  },
  {
   "cell_type": "code",
   "execution_count": 7,
   "id": "d9e89ba2-65ca-415c-ab3e-781afe2a5dc0",
   "metadata": {
    "scrolled": true
   },
   "outputs": [
    {
     "data": {
      "application/vnd.jupyter.widget-view+json": {
       "model_id": "5b1b98364ab74834a0021816b2430114",
       "version_major": 2,
       "version_minor": 0
      },
      "text/plain": [
       "iterating over image volumes:   0%|          | 0/4 [00:00<?, ?it/s]"
      ]
     },
     "metadata": {},
     "output_type": "display_data"
    },
    {
     "data": {
      "application/vnd.jupyter.widget-view+json": {
       "model_id": "4271fbfc63b743b7b319508c84c4076e",
       "version_major": 2,
       "version_minor": 0
      },
      "text/plain": [
       "finding where segmentation channel is expressed in Z:   0%|          | 0/233 [00:00<?, ?it/s]"
      ]
     },
     "metadata": {},
     "output_type": "display_data"
    },
    {
     "data": {
      "application/vnd.jupyter.widget-view+json": {
       "model_id": "aebad36c47ce4632871918d74c95d0f1",
       "version_major": 2,
       "version_minor": 0
      },
      "text/plain": [
       "segmenting over select frames:   0%|          | 0/190 [00:00<?, ?it/s]"
      ]
     },
     "metadata": {},
     "output_type": "display_data"
    },
    {
     "name": "stderr",
     "output_type": "stream",
     "text": [
      "[INFO][2023/10/06 07:53:20 PM] Localizing objects from segmentation...\n"
     ]
    },
    {
     "name": "stdout",
     "output_type": "stream",
     "text": [
      "Update sms failed to send\n"
     ]
    },
    {
     "name": "stderr",
     "output_type": "stream",
     "text": [
      "progress: 100%|█████████████████████████████████████████████████████████████████████████████████████████████████████████████████████████████████████████| 233/233 [01:21<00:00,  2.84it/s]\n",
      "[INFO][2023/10/06 07:54:42 PM] Objects are of type: <class 'dict'>\n",
      "[INFO][2023/10/06 07:54:42 PM] ...Found 38291 objects in 208 frames.\n"
     ]
    },
    {
     "data": {
      "application/vnd.jupyter.widget-view+json": {
       "model_id": "cdc622417fc74c8188ec87091c853674",
       "version_major": 2,
       "version_minor": 0
      },
      "text/plain": [
       "Measuring Mtb properties of each cell:   0%|          | 0/38291 [00:00<?, ?it/s]"
      ]
     },
     "metadata": {},
     "output_type": "display_data"
    },
    {
     "name": "stderr",
     "output_type": "stream",
     "text": [
      "[INFO][2023/10/06 08:03:16 PM] Loaded btrack: /home/dayn/analysis/btrack/btrack/libs/libtracker.so\n",
      "[INFO][2023/10/06 08:03:16 PM] Starting BayesianTracker session\n",
      "[INFO][2023/10/06 08:03:16 PM] Loading configuration file: /home/dayn/analysis/models/loc.json\n",
      "[INFO][2023/10/06 08:03:16 PM] Objects are of type: <class 'list'>\n",
      "[INFO][2023/10/06 08:03:17 PM] Starting tracking... \n",
      "[INFO][2023/10/06 08:03:17 PM] Update using: ['VISUAL', 'MOTION']\n",
      "[INFO][2023/10/06 08:03:17 PM] Tracking objects in frames 0 to 9 (of 208)...\n",
      "[INFO][2023/10/06 08:03:18 PM]  - Timing (Bayesian updates: 4.64ms, Linking: 0.82ms)\n",
      "[INFO][2023/10/06 08:03:18 PM]  - Probabilities (Link: 1.00000, Lost: 1.00000)\n",
      "[INFO][2023/10/06 08:03:18 PM]  - Stats (Active: 262, Lost: 752, Conflicts resolved: 442)\n",
      "[INFO][2023/10/06 08:03:18 PM] Tracking objects in frames 10 to 19 (of 208)...\n",
      "[INFO][2023/10/06 08:03:18 PM]  - Timing (Bayesian updates: 9.75ms, Linking: 1.79ms)\n",
      "[INFO][2023/10/06 08:03:18 PM]  - Probabilities (Link: 1.00000, Lost: 0.97727)\n",
      "[INFO][2023/10/06 08:03:18 PM]  - Stats (Active: 297, Lost: 1357, Conflicts resolved: 938)\n",
      "[INFO][2023/10/06 08:03:18 PM] Tracking objects in frames 20 to 29 (of 208)...\n",
      "[INFO][2023/10/06 08:03:18 PM]  - Timing (Bayesian updates: 7.01ms, Linking: 2.89ms)\n",
      "[INFO][2023/10/06 08:03:18 PM]  - Probabilities (Link: 1.00000, Lost: 1.00000)\n",
      "[INFO][2023/10/06 08:03:18 PM]  - Stats (Active: 336, Lost: 2070, Conflicts resolved: 1450)\n",
      "[INFO][2023/10/06 08:03:18 PM] Tracking objects in frames 30 to 39 (of 208)...\n",
      "[INFO][2023/10/06 08:03:19 PM]  - Timing (Bayesian updates: 12.39ms, Linking: 2.06ms)\n",
      "[INFO][2023/10/06 08:03:19 PM]  - Probabilities (Link: 1.00000, Lost: 1.00000)\n",
      "[INFO][2023/10/06 08:03:19 PM]  - Stats (Active: 372, Lost: 2963, Conflicts resolved: 2060)\n",
      "[INFO][2023/10/06 08:03:19 PM] Tracking objects in frames 40 to 49 (of 208)...\n",
      "[INFO][2023/10/06 08:03:19 PM]  - Timing (Bayesian updates: 11.84ms, Linking: 1.72ms)\n",
      "[INFO][2023/10/06 08:03:19 PM]  - Probabilities (Link: 1.00000, Lost: 1.00000)\n",
      "[INFO][2023/10/06 08:03:19 PM]  - Stats (Active: 395, Lost: 3993, Conflicts resolved: 2685)\n",
      "[INFO][2023/10/06 08:03:19 PM] Tracking objects in frames 50 to 59 (of 208)...\n",
      "[INFO][2023/10/06 08:03:20 PM]  - Timing (Bayesian updates: 11.77ms, Linking: 1.62ms)\n",
      "[INFO][2023/10/06 08:03:20 PM]  - Probabilities (Link: 1.00000, Lost: 0.99999)\n",
      "[INFO][2023/10/06 08:03:20 PM]  - Stats (Active: 392, Lost: 4924, Conflicts resolved: 3296)\n",
      "[INFO][2023/10/06 08:03:20 PM] Tracking objects in frames 60 to 69 (of 208)...\n",
      "[INFO][2023/10/06 08:03:20 PM]  - Timing (Bayesian updates: 7.83ms, Linking: 1.93ms)\n",
      "[INFO][2023/10/06 08:03:20 PM]  - Probabilities (Link: 1.00000, Lost: 0.99145)\n",
      "[INFO][2023/10/06 08:03:20 PM]  - Stats (Active: 322, Lost: 5726, Conflicts resolved: 3870)\n",
      "[INFO][2023/10/06 08:03:20 PM] Tracking objects in frames 70 to 79 (of 208)...\n",
      "[INFO][2023/10/06 08:03:20 PM]  - Timing (Bayesian updates: 14.12ms, Linking: 3.46ms)\n",
      "[INFO][2023/10/06 08:03:20 PM]  - Probabilities (Link: 1.00000, Lost: 1.00000)\n",
      "[INFO][2023/10/06 08:03:20 PM]  - Stats (Active: 345, Lost: 6637, Conflicts resolved: 4412)\n",
      "[INFO][2023/10/06 08:03:20 PM] Tracking objects in frames 80 to 89 (of 208)...\n",
      "[INFO][2023/10/06 08:03:21 PM]  - Timing (Bayesian updates: 16.87ms, Linking: 1.71ms)\n",
      "[INFO][2023/10/06 08:03:21 PM]  - Probabilities (Link: 1.00000, Lost: 1.00000)\n",
      "[INFO][2023/10/06 08:03:21 PM]  - Stats (Active: 402, Lost: 7743, Conflicts resolved: 5031)\n",
      "[INFO][2023/10/06 08:03:21 PM] Tracking objects in frames 90 to 99 (of 208)...\n",
      "[INFO][2023/10/06 08:03:22 PM]  - Timing (Bayesian updates: 24.29ms, Linking: 3.82ms)\n",
      "[INFO][2023/10/06 08:03:22 PM]  - Probabilities (Link: 1.00000, Lost: 1.00000)\n",
      "[INFO][2023/10/06 08:03:22 PM]  - Stats (Active: 464, Lost: 8898, Conflicts resolved: 5738)\n",
      "[INFO][2023/10/06 08:03:22 PM] Tracking objects in frames 100 to 109 (of 208)...\n",
      "[INFO][2023/10/06 08:03:23 PM]  - Timing (Bayesian updates: 47.49ms, Linking: 2.55ms)\n",
      "[INFO][2023/10/06 08:03:23 PM]  - Probabilities (Link: 1.00000, Lost: 0.57791)\n",
      "[INFO][2023/10/06 08:03:23 PM]  - Stats (Active: 548, Lost: 9853, Conflicts resolved: 6617)\n",
      "[INFO][2023/10/06 08:03:23 PM] Tracking objects in frames 110 to 119 (of 208)...\n",
      "[INFO][2023/10/06 08:03:25 PM]  - Timing (Bayesian updates: 61.27ms, Linking: 2.97ms)\n",
      "[INFO][2023/10/06 08:03:25 PM]  - Probabilities (Link: 1.00000, Lost: 1.00000)\n",
      "[INFO][2023/10/06 08:03:25 PM]  - Stats (Active: 656, Lost: 11160, Conflicts resolved: 7774)\n",
      "[INFO][2023/10/06 08:03:25 PM] Tracking objects in frames 120 to 129 (of 208)...\n",
      "[INFO][2023/10/06 08:03:27 PM]  - Timing (Bayesian updates: 40.74ms, Linking: 3.40ms)\n",
      "[INFO][2023/10/06 08:03:27 PM]  - Probabilities (Link: 1.00000, Lost: 1.00000)\n",
      "[INFO][2023/10/06 08:03:27 PM]  - Stats (Active: 465, Lost: 12553, Conflicts resolved: 8818)\n",
      "[INFO][2023/10/06 08:03:27 PM] Tracking objects in frames 130 to 139 (of 208)...\n",
      "[INFO][2023/10/06 08:03:27 PM]  - Timing (Bayesian updates: 9.90ms, Linking: 1.97ms)\n",
      "[INFO][2023/10/06 08:03:27 PM]  - Probabilities (Link: 1.00000, Lost: 1.00000)\n",
      "[INFO][2023/10/06 08:03:27 PM]  - Stats (Active: 301, Lost: 13940, Conflicts resolved: 9468)\n",
      "[INFO][2023/10/06 08:03:27 PM] Tracking objects in frames 140 to 149 (of 208)...\n",
      "[INFO][2023/10/06 08:03:28 PM]  - Timing (Bayesian updates: 4.86ms, Linking: 1.22ms)\n",
      "[INFO][2023/10/06 08:03:28 PM]  - Probabilities (Link: 1.00000, Lost: 1.00000)\n",
      "[INFO][2023/10/06 08:03:28 PM]  - Stats (Active: 246, Lost: 14944, Conflicts resolved: 9877)\n",
      "[INFO][2023/10/06 08:03:28 PM] Tracking objects in frames 150 to 159 (of 208)...\n",
      "[INFO][2023/10/06 08:03:28 PM]  - Timing (Bayesian updates: 2.82ms, Linking: 0.96ms)\n",
      "[INFO][2023/10/06 08:03:28 PM]  - Probabilities (Link: 1.00000, Lost: 1.00000)\n",
      "[INFO][2023/10/06 08:03:28 PM]  - Stats (Active: 221, Lost: 15797, Conflicts resolved: 10177)\n",
      "[INFO][2023/10/06 08:03:28 PM] Tracking objects in frames 160 to 169 (of 208)...\n",
      "[INFO][2023/10/06 08:03:28 PM]  - Timing (Bayesian updates: 1.37ms, Linking: 0.76ms)\n",
      "[INFO][2023/10/06 08:03:28 PM]  - Probabilities (Link: 0.99999, Lost: 1.00000)\n",
      "[INFO][2023/10/06 08:03:28 PM]  - Stats (Active: 152, Lost: 16491, Conflicts resolved: 10449)\n",
      "[INFO][2023/10/06 08:03:28 PM] Tracking objects in frames 170 to 179 (of 208)...\n",
      "[INFO][2023/10/06 08:03:28 PM]  - Timing (Bayesian updates: 1.07ms, Linking: 0.64ms)\n",
      "[INFO][2023/10/06 08:03:28 PM]  - Probabilities (Link: 1.00000, Lost: 1.00000)\n",
      "[INFO][2023/10/06 08:03:28 PM]  - Stats (Active: 155, Lost: 17078, Conflicts resolved: 10651)\n",
      "[INFO][2023/10/06 08:03:28 PM] Tracking objects in frames 180 to 189 (of 208)...\n",
      "[INFO][2023/10/06 08:03:28 PM]  - Timing (Bayesian updates: 0.55ms, Linking: 0.62ms)\n",
      "[INFO][2023/10/06 08:03:28 PM]  - Probabilities (Link: 1.00000, Lost: 0.99541)\n",
      "[INFO][2023/10/06 08:03:28 PM] SUCCESS.\n",
      "[INFO][2023/10/06 08:03:28 PM]  - Found 8895 tracks in 208 frames (in 0.0s)\n",
      "[INFO][2023/10/06 08:03:28 PM]  - Inserted 4381 dummy objects to fill tracking gaps\n",
      "[INFO][2023/10/06 08:03:28 PM] Loading hypothesis model: particle_hypothesis\n",
      "[INFO][2023/10/06 08:03:28 PM] Calculating hypotheses (relax: True)...\n",
      "[INFO][2023/10/06 08:03:29 PM] Setting up constraints matrix for global optimisation...\n",
      "[INFO][2023/10/06 08:03:29 PM] Using GLPK options: {'tm_lim': 60000}...\n",
      "[INFO][2023/10/06 08:03:29 PM] Optimizing...\n",
      "[INFO][2023/10/06 08:03:33 PM] Optimization complete. (Solution: optimal)\n",
      "[INFO][2023/10/06 08:03:34 PM]  - Fates.FALSE_POSITIVE: 7952 (of 8895)\n",
      "[INFO][2023/10/06 08:03:34 PM]  - Fates.LINK: 4 (of 45)\n",
      "[INFO][2023/10/06 08:03:34 PM]  - Fates.INITIALIZE_BORDER: 42 (of 133)\n",
      "[INFO][2023/10/06 08:03:34 PM]  - Fates.INITIALIZE_LAZY: 897 (of 8762)\n",
      "[INFO][2023/10/06 08:03:34 PM]  - Fates.TERMINATE_BORDER: 39 (of 131)\n",
      "[INFO][2023/10/06 08:03:34 PM]  - Fates.TERMINATE_BACK: 21 (of 103)\n",
      "[INFO][2023/10/06 08:03:34 PM]  - Fates.TERMINATE_LAZY: 879 (of 8661)\n",
      "[INFO][2023/10/06 08:03:34 PM]  - TOTAL: 26730 hypotheses\n",
      "[INFO][2023/10/06 08:03:34 PM] Completed optimization with 8891 tracks\n"
     ]
    },
    {
     "name": "stdout",
     "output_type": "stream",
     "text": [
      "GLPK Integer Optimizer 5.0\n",
      "35580 rows, 26730 columns, 35670 non-zeros\n",
      "26730 integer variables, all of which are binary\n",
      "Preprocessing...\n",
      "17790 rows, 26730 columns, 35670 non-zeros\n",
      "26730 integer variables, all of which are binary\n",
      "Scaling...\n",
      " A: min|aij| =  1.000e+00  max|aij| =  1.000e+00  ratio =  1.000e+00\n",
      "Problem data seem to be well scaled\n",
      "Constructing initial basis...\n",
      "Size of triangular part is 17790\n",
      "Solving LP relaxation...\n",
      "GLPK Simplex Optimizer 5.0\n",
      "17790 rows, 26730 columns, 35670 non-zeros\n",
      "*     0: obj =   1.178533606e+05 inf =   0.000e+00 (8002)\n",
      "*  8028: obj =   3.633931408e+04 inf =   0.000e+00 (0)\n",
      "OPTIMAL LP SOLUTION FOUND\n",
      "Integer optimization begins...\n",
      "Long-step dual simplex will be used\n",
      "+  8028: mip =     not found yet >=              -inf        (1; 0)\n",
      "+  8028: >>>>>   3.633931408e+04 >=   3.633931408e+04   0.0% (1; 0)\n",
      "+  8028: mip =   3.633931408e+04 >=     tree is empty   0.0% (0; 1)\n",
      "INTEGER OPTIMAL SOLUTION FOUND\n"
     ]
    },
    {
     "name": "stderr",
     "output_type": "stream",
     "text": [
      "[INFO][2023/10/06 08:03:34 PM] Ending BayesianTracker session\n",
      "[INFO][2023/10/06 08:03:34 PM] Opening HDF file: /home/dayn/data/homuncu_loc_temp/seperate_tracks/iAT1_iAT2_iVEC_macrophage_experiments/DAPI_ZO1_LDO_MTB/sc_analyses/20230801_20X_23-03-001B6_DAPI_ZO-1_LDO_Mtb_Multichannel Z-Stack_20230801_1453_iat1.h5...\n",
      "[INFO][2023/10/06 08:03:34 PM] Writing objects/obj_type_3\n",
      "[INFO][2023/10/06 08:03:34 PM] Writing labels/obj_type_3\n",
      "[INFO][2023/10/06 08:03:34 PM] Loading objects/obj_type_3 (17873, 5) (17873 filtered: None)\n",
      "[INFO][2023/10/06 08:03:35 PM] Writing properties/obj_type_3/axis_major_length (17873,)\n",
      "[INFO][2023/10/06 08:03:35 PM] Writing properties/obj_type_3/axis_minor_length (17873,)\n",
      "[INFO][2023/10/06 08:03:35 PM] Writing properties/obj_type_3/eccentricity (17873,)\n",
      "[INFO][2023/10/06 08:03:35 PM] Writing properties/obj_type_3/area (17873,)\n",
      "[INFO][2023/10/06 08:03:35 PM] Writing properties/obj_type_3/orientation (17873,)\n",
      "[INFO][2023/10/06 08:03:35 PM] Writing properties/obj_type_3/mean_intensity (17873, 4)\n",
      "[INFO][2023/10/06 08:03:35 PM] Writing properties/obj_type_3/class_id (17873,)\n",
      "[INFO][2023/10/06 08:03:35 PM] Writing properties/obj_type_3/mtb_status (17873,)\n",
      "[INFO][2023/10/06 08:03:35 PM] Writing properties/obj_type_3/mtb_area (17873,)\n",
      "[INFO][2023/10/06 08:03:35 PM] Writing tracks/obj_type_3\n",
      "[INFO][2023/10/06 08:03:35 PM] Writing dummies/obj_type_3\n",
      "[INFO][2023/10/06 08:03:35 PM] Writing LBEP/obj_type_3\n",
      "[INFO][2023/10/06 08:03:35 PM] Writing fates/obj_type_3\n",
      "[INFO][2023/10/06 08:03:49 PM] Closing HDF file: /home/dayn/data/homuncu_loc_temp/seperate_tracks/iAT1_iAT2_iVEC_macrophage_experiments/DAPI_ZO1_LDO_MTB/sc_analyses/20230801_20X_23-03-001B6_DAPI_ZO-1_LDO_Mtb_Multichannel Z-Stack_20230801_1453_iat1.h5\n"
     ]
    },
    {
     "data": {
      "application/vnd.jupyter.widget-view+json": {
       "model_id": "e6244bbe07154a7ab9e541e114f632c4",
       "version_major": 2,
       "version_minor": 0
      },
      "text/plain": [
       "finding where segmentation channel is expressed in Z:   0%|          | 0/127 [00:00<?, ?it/s]"
      ]
     },
     "metadata": {},
     "output_type": "display_data"
    },
    {
     "data": {
      "application/vnd.jupyter.widget-view+json": {
       "model_id": "2554bbf82a064cce830b22bdc947b04d",
       "version_major": 2,
       "version_minor": 0
      },
      "text/plain": [
       "segmenting over select frames:   0%|          | 0/79 [00:00<?, ?it/s]"
      ]
     },
     "metadata": {},
     "output_type": "display_data"
    },
    {
     "name": "stderr",
     "output_type": "stream",
     "text": [
      "[INFO][2023/10/06 09:41:12 PM] Localizing objects from segmentation...\n"
     ]
    },
    {
     "name": "stdout",
     "output_type": "stream",
     "text": [
      "Update sms failed to send\n"
     ]
    },
    {
     "name": "stderr",
     "output_type": "stream",
     "text": [
      "progress: 100%|█████████████████████████████████████████████████████████████████████████████████████████████████████████████████████████████████████████| 127/127 [00:31<00:00,  4.00it/s]\n",
      "[INFO][2023/10/06 09:41:43 PM] Objects are of type: <class 'dict'>\n",
      "[INFO][2023/10/06 09:41:43 PM] ...Found 14396 objects in 90 frames.\n"
     ]
    },
    {
     "data": {
      "application/vnd.jupyter.widget-view+json": {
       "model_id": "6e43749e10b04416ad8af9f720963d82",
       "version_major": 2,
       "version_minor": 0
      },
      "text/plain": [
       "Measuring Mtb properties of each cell:   0%|          | 0/14396 [00:00<?, ?it/s]"
      ]
     },
     "metadata": {},
     "output_type": "display_data"
    },
    {
     "name": "stderr",
     "output_type": "stream",
     "text": [
      "[INFO][2023/10/06 09:45:03 PM] Loaded btrack: /home/dayn/analysis/btrack/btrack/libs/libtracker.so\n",
      "[INFO][2023/10/06 09:45:03 PM] Starting BayesianTracker session\n",
      "[INFO][2023/10/06 09:45:03 PM] Loading configuration file: /home/dayn/analysis/models/loc.json\n",
      "[INFO][2023/10/06 09:45:03 PM] Objects are of type: <class 'list'>\n",
      "[INFO][2023/10/06 09:45:03 PM] Starting tracking... \n",
      "[INFO][2023/10/06 09:45:03 PM] Update using: ['VISUAL', 'MOTION']\n",
      "[INFO][2023/10/06 09:45:03 PM] Tracking objects in frames 0 to 9 (of 90)...\n",
      "[INFO][2023/10/06 09:45:03 PM]  - Timing (Bayesian updates: 15.28ms, Linking: 2.18ms)\n",
      "[INFO][2023/10/06 09:45:03 PM]  - Probabilities (Link: 1.00000, Lost: 1.00000)\n",
      "[INFO][2023/10/06 09:45:03 PM]  - Stats (Active: 478, Lost: 1122, Conflicts resolved: 635)\n",
      "[INFO][2023/10/06 09:45:03 PM] Tracking objects in frames 10 to 19 (of 90)...\n",
      "[INFO][2023/10/06 09:45:04 PM]  - Timing (Bayesian updates: 9.03ms, Linking: 1.62ms)\n",
      "[INFO][2023/10/06 09:45:04 PM]  - Probabilities (Link: 1.00000, Lost: 1.00000)\n",
      "[INFO][2023/10/06 09:45:04 PM]  - Stats (Active: 374, Lost: 2252, Conflicts resolved: 1369)\n",
      "[INFO][2023/10/06 09:45:04 PM] Tracking objects in frames 20 to 29 (of 90)...\n",
      "[INFO][2023/10/06 09:45:04 PM]  - Timing (Bayesian updates: 5.89ms, Linking: 1.23ms)\n",
      "[INFO][2023/10/06 09:45:04 PM]  - Probabilities (Link: 1.00000, Lost: 1.00000)\n",
      "[INFO][2023/10/06 09:45:04 PM]  - Stats (Active: 299, Lost: 3304, Conflicts resolved: 1898)\n",
      "[INFO][2023/10/06 09:45:04 PM] Tracking objects in frames 30 to 39 (of 90)...\n",
      "[INFO][2023/10/06 09:45:05 PM]  - Timing (Bayesian updates: 4.28ms, Linking: 0.86ms)\n",
      "[INFO][2023/10/06 09:45:05 PM]  - Probabilities (Link: 1.00000, Lost: 1.00000)\n",
      "[INFO][2023/10/06 09:45:05 PM]  - Stats (Active: 294, Lost: 4357, Conflicts resolved: 2338)\n",
      "[INFO][2023/10/06 09:45:05 PM] Tracking objects in frames 40 to 49 (of 90)...\n",
      "[INFO][2023/10/06 09:45:05 PM]  - Timing (Bayesian updates: 4.02ms, Linking: 0.76ms)\n",
      "[INFO][2023/10/06 09:45:05 PM]  - Probabilities (Link: 1.00000, Lost: 1.00000)\n",
      "[INFO][2023/10/06 09:45:05 PM]  - Stats (Active: 280, Lost: 5261, Conflicts resolved: 2776)\n",
      "[INFO][2023/10/06 09:45:05 PM] Tracking objects in frames 50 to 59 (of 90)...\n",
      "[INFO][2023/10/06 09:45:05 PM]  - Timing (Bayesian updates: 2.73ms, Linking: 0.65ms)\n",
      "[INFO][2023/10/06 09:45:05 PM]  - Probabilities (Link: 1.00000, Lost: 0.99986)\n",
      "[INFO][2023/10/06 09:45:05 PM]  - Stats (Active: 251, Lost: 5927, Conflicts resolved: 3163)\n",
      "[INFO][2023/10/06 09:45:05 PM] Tracking objects in frames 60 to 69 (of 90)...\n",
      "[INFO][2023/10/06 09:45:05 PM]  - Timing (Bayesian updates: 3.29ms, Linking: 0.61ms)\n",
      "[INFO][2023/10/06 09:45:05 PM]  - Probabilities (Link: 1.00000, Lost: 1.00000)\n",
      "[INFO][2023/10/06 09:45:05 PM]  - Stats (Active: 215, Lost: 6598, Conflicts resolved: 3515)\n",
      "[INFO][2023/10/06 09:45:05 PM] Tracking objects in frames 70 to 79 (of 90)...\n",
      "[INFO][2023/10/06 09:45:05 PM]  - Timing (Bayesian updates: 5.89ms, Linking: 1.02ms)\n",
      "[INFO][2023/10/06 09:45:05 PM]  - Probabilities (Link: 1.00000, Lost: 1.00000)\n",
      "[INFO][2023/10/06 09:45:05 PM] SUCCESS.\n",
      "[INFO][2023/10/06 09:45:05 PM]  - Found 3420 tracks in 90 frames (in 0.0s)\n",
      "[INFO][2023/10/06 09:45:05 PM]  - Inserted 1036 dummy objects to fill tracking gaps\n",
      "[INFO][2023/10/06 09:45:05 PM] Loading hypothesis model: particle_hypothesis\n",
      "[INFO][2023/10/06 09:45:05 PM] Calculating hypotheses (relax: True)...\n",
      "[INFO][2023/10/06 09:45:05 PM] Setting up constraints matrix for global optimisation...\n",
      "[INFO][2023/10/06 09:45:05 PM] Using GLPK options: {'tm_lim': 60000}...\n",
      "[INFO][2023/10/06 09:45:05 PM] Optimizing...\n",
      "[INFO][2023/10/06 09:45:06 PM] Optimization complete. (Solution: optimal)\n",
      "[INFO][2023/10/06 09:45:06 PM]  - Fates.FALSE_POSITIVE: 3002 (of 3420)\n",
      "[INFO][2023/10/06 09:45:06 PM]  - Fates.LINK: 4 (of 11)\n",
      "[INFO][2023/10/06 09:45:06 PM]  - Fates.INITIALIZE_BORDER: 24 (of 80)\n",
      "[INFO][2023/10/06 09:45:06 PM]  - Fates.INITIALIZE_LAZY: 390 (of 3340)\n",
      "[INFO][2023/10/06 09:45:06 PM]  - Fates.TERMINATE_BORDER: 21 (of 73)\n",
      "[INFO][2023/10/06 09:45:06 PM]  - Fates.TERMINATE_BACK: 56 (of 210)\n",
      "[INFO][2023/10/06 09:45:06 PM]  - Fates.TERMINATE_LAZY: 337 (of 3137)\n",
      "[INFO][2023/10/06 09:45:06 PM]  - TOTAL: 10271 hypotheses\n",
      "[INFO][2023/10/06 09:45:06 PM] Completed optimization with 3416 tracks\n",
      "[INFO][2023/10/06 09:45:06 PM] Ending BayesianTracker session\n"
     ]
    },
    {
     "name": "stdout",
     "output_type": "stream",
     "text": [
      "GLPK Integer Optimizer 5.0\n",
      "13680 rows, 10271 columns, 13702 non-zeros\n",
      "10271 integer variables, all of which are binary\n",
      "Preprocessing...\n",
      "6840 rows, 10271 columns, 13702 non-zeros\n",
      "10271 integer variables, all of which are binary\n",
      "Scaling...\n",
      " A: min|aij| =  1.000e+00  max|aij| =  1.000e+00  ratio =  1.000e+00\n",
      "Problem data seem to be well scaled\n",
      "Constructing initial basis...\n",
      "Size of triangular part is 6840\n",
      "Solving LP relaxation...\n",
      "GLPK Simplex Optimizer 5.0\n",
      "6840 rows, 10271 columns, 13702 non-zeros\n",
      "*     0: obj =   4.406416321e+04 inf =   0.000e+00 (3018)\n",
      "*  3023: obj =   1.411849165e+04 inf =   0.000e+00 (0)\n",
      "OPTIMAL LP SOLUTION FOUND\n",
      "Integer optimization begins...\n",
      "Long-step dual simplex will be used\n",
      "+  3023: mip =     not found yet >=              -inf        (1; 0)\n",
      "+  3023: >>>>>   1.411849165e+04 >=   1.411849165e+04   0.0% (1; 0)\n",
      "+  3023: mip =   1.411849165e+04 >=     tree is empty   0.0% (0; 1)\n",
      "INTEGER OPTIMAL SOLUTION FOUND\n"
     ]
    },
    {
     "name": "stderr",
     "output_type": "stream",
     "text": [
      "[INFO][2023/10/06 09:45:06 PM] Opening HDF file: /home/dayn/data/homuncu_loc_temp/seperate_tracks/iAT1_iAT2_iVEC_macrophage_experiments/DAPI_ZO1_LDO_MTB/sc_analyses/20230801_20X_23-03-001B3_DAPI_ZO-1_LDO_Mtb_Multichannel Z-Stack_20230801_1468_iat1.h5...\n",
      "[INFO][2023/10/06 09:45:06 PM] Writing objects/obj_type_3\n",
      "[INFO][2023/10/06 09:45:06 PM] Writing labels/obj_type_3\n",
      "[INFO][2023/10/06 09:45:06 PM] Loading objects/obj_type_3 (7208, 5) (7208 filtered: None)\n",
      "[INFO][2023/10/06 09:45:07 PM] Writing properties/obj_type_3/axis_major_length (7208,)\n",
      "[INFO][2023/10/06 09:45:07 PM] Writing properties/obj_type_3/axis_minor_length (7208,)\n",
      "[INFO][2023/10/06 09:45:07 PM] Writing properties/obj_type_3/eccentricity (7208,)\n",
      "[INFO][2023/10/06 09:45:07 PM] Writing properties/obj_type_3/area (7208,)\n",
      "[INFO][2023/10/06 09:45:07 PM] Writing properties/obj_type_3/orientation (7208,)\n",
      "[INFO][2023/10/06 09:45:07 PM] Writing properties/obj_type_3/mean_intensity (7208, 4)\n",
      "[INFO][2023/10/06 09:45:07 PM] Writing properties/obj_type_3/class_id (7208,)\n",
      "[INFO][2023/10/06 09:45:07 PM] Writing properties/obj_type_3/mtb_status (7208,)\n",
      "[INFO][2023/10/06 09:45:07 PM] Writing properties/obj_type_3/mtb_area (7208,)\n",
      "[INFO][2023/10/06 09:45:07 PM] Writing tracks/obj_type_3\n",
      "[INFO][2023/10/06 09:45:07 PM] Writing dummies/obj_type_3\n",
      "[INFO][2023/10/06 09:45:07 PM] Writing LBEP/obj_type_3\n",
      "[INFO][2023/10/06 09:45:07 PM] Writing fates/obj_type_3\n",
      "[INFO][2023/10/06 09:45:16 PM] Closing HDF file: /home/dayn/data/homuncu_loc_temp/seperate_tracks/iAT1_iAT2_iVEC_macrophage_experiments/DAPI_ZO1_LDO_MTB/sc_analyses/20230801_20X_23-03-001B3_DAPI_ZO-1_LDO_Mtb_Multichannel Z-Stack_20230801_1468_iat1.h5\n"
     ]
    },
    {
     "data": {
      "application/vnd.jupyter.widget-view+json": {
       "model_id": "66c3428f552c42d1ac0e162b56094670",
       "version_major": 2,
       "version_minor": 0
      },
      "text/plain": [
       "finding where segmentation channel is expressed in Z:   0%|          | 0/81 [00:00<?, ?it/s]"
      ]
     },
     "metadata": {},
     "output_type": "display_data"
    },
    {
     "data": {
      "application/vnd.jupyter.widget-view+json": {
       "model_id": "dd9a30e192d140a4a7bcc1e5b278adf0",
       "version_major": 2,
       "version_minor": 0
      },
      "text/plain": [
       "segmenting over select frames:   0%|          | 0/19 [00:00<?, ?it/s]"
      ]
     },
     "metadata": {},
     "output_type": "display_data"
    },
    {
     "name": "stderr",
     "output_type": "stream",
     "text": [
      "[INFO][2023/10/06 10:36:37 PM] Localizing objects from segmentation...\n"
     ]
    },
    {
     "name": "stdout",
     "output_type": "stream",
     "text": [
      "Update sms failed to send\n"
     ]
    },
    {
     "name": "stderr",
     "output_type": "stream",
     "text": [
      "progress: 100%|███████████████████████████████████████████████████████████████████████████████████████████████████████████████████████████████████████████| 81/81 [00:11<00:00,  6.97it/s]\n",
      "[INFO][2023/10/06 10:36:48 PM] Objects are of type: <class 'dict'>\n",
      "[INFO][2023/10/06 10:36:48 PM] ...Found 9472 objects in 31 frames.\n"
     ]
    },
    {
     "data": {
      "application/vnd.jupyter.widget-view+json": {
       "model_id": "0effe71b222b4c4da45cdee38d4082fe",
       "version_major": 2,
       "version_minor": 0
      },
      "text/plain": [
       "Measuring Mtb properties of each cell:   0%|          | 0/9472 [00:00<?, ?it/s]"
      ]
     },
     "metadata": {},
     "output_type": "display_data"
    },
    {
     "name": "stderr",
     "output_type": "stream",
     "text": [
      "[INFO][2023/10/06 10:38:32 PM] Loaded btrack: /home/dayn/analysis/btrack/btrack/libs/libtracker.so\n",
      "[INFO][2023/10/06 10:38:32 PM] Starting BayesianTracker session\n",
      "[INFO][2023/10/06 10:38:32 PM] Loading configuration file: /home/dayn/analysis/models/loc.json\n",
      "[INFO][2023/10/06 10:38:32 PM] Objects are of type: <class 'list'>\n",
      "[INFO][2023/10/06 10:38:32 PM] Starting tracking... \n",
      "[INFO][2023/10/06 10:38:32 PM] Update using: ['VISUAL', 'MOTION']\n",
      "[INFO][2023/10/06 10:38:32 PM] Tracking objects in frames 0 to 9 (of 31)...\n",
      "[INFO][2023/10/06 10:38:37 PM]  - Timing (Bayesian updates: 115.47ms, Linking: 5.27ms)\n",
      "[INFO][2023/10/06 10:38:37 PM]  - Probabilities (Link: 1.00000, Lost: 1.00000)\n",
      "[INFO][2023/10/06 10:38:37 PM]  - Stats (Active: 997, Lost: 2184, Conflicts resolved: 1665)\n",
      "[INFO][2023/10/06 10:38:37 PM] Tracking objects in frames 10 to 19 (of 31)...\n",
      "[INFO][2023/10/06 10:38:38 PM]  - Timing (Bayesian updates: 15.53ms, Linking: 2.09ms)\n",
      "[INFO][2023/10/06 10:38:38 PM]  - Probabilities (Link: 1.00000, Lost: 1.00000)\n",
      "[INFO][2023/10/06 10:38:38 PM] SUCCESS.\n",
      "[INFO][2023/10/06 10:38:38 PM]  - Found 2285 tracks in 31 frames (in 0.0s)\n",
      "[INFO][2023/10/06 10:38:38 PM]  - Inserted 598 dummy objects to fill tracking gaps\n",
      "[INFO][2023/10/06 10:38:38 PM] Loading hypothesis model: particle_hypothesis\n",
      "[INFO][2023/10/06 10:38:38 PM] Calculating hypotheses (relax: True)...\n",
      "[INFO][2023/10/06 10:38:38 PM] Setting up constraints matrix for global optimisation...\n",
      "[INFO][2023/10/06 10:38:38 PM] Using GLPK options: {'tm_lim': 60000}...\n",
      "[INFO][2023/10/06 10:38:38 PM] Optimizing...\n",
      "[INFO][2023/10/06 10:38:38 PM] Optimization complete. (Solution: optimal)\n",
      "[INFO][2023/10/06 10:38:38 PM]  - Fates.FALSE_POSITIVE: 1938 (of 2285)\n",
      "[INFO][2023/10/06 10:38:38 PM]  - Fates.LINK: 1 (of 5)\n",
      "[INFO][2023/10/06 10:38:38 PM]  - Fates.INITIALIZE_BORDER: 7 (of 33)\n",
      "[INFO][2023/10/06 10:38:38 PM]  - Fates.INITIALIZE_LAZY: 339 (of 2252)\n",
      "[INFO][2023/10/06 10:38:38 PM]  - Fates.TERMINATE_BORDER: 6 (of 24)\n",
      "[INFO][2023/10/06 10:38:38 PM]  - Fates.TERMINATE_BACK: 137 (of 387)\n",
      "[INFO][2023/10/06 10:38:38 PM]  - Fates.TERMINATE_LAZY: 203 (of 1874)\n",
      "[INFO][2023/10/06 10:38:38 PM]  - TOTAL: 6860 hypotheses\n",
      "[INFO][2023/10/06 10:38:38 PM] Completed optimization with 2284 tracks\n",
      "[INFO][2023/10/06 10:38:38 PM] Ending BayesianTracker session\n",
      "[INFO][2023/10/06 10:38:38 PM] Opening HDF file: /home/dayn/data/homuncu_loc_temp/seperate_tracks/iAT1_iAT2_iVEC_macrophage_experiments/DAPI_ZO1_LDO_MTB/sc_analyses/20230802_20X_23-03-001A5_DAPI_ZO-1_LDO_Mtb_Multichannel Z-Stack_20230802_1496_iat1.h5...\n"
     ]
    },
    {
     "name": "stdout",
     "output_type": "stream",
     "text": [
      "GLPK Integer Optimizer 5.0\n",
      "9140 rows, 6860 columns, 9150 non-zeros\n",
      "6860 integer variables, all of which are binary\n",
      "Preprocessing...\n",
      "4570 rows, 6860 columns, 9150 non-zeros\n",
      "6860 integer variables, all of which are binary\n",
      "Scaling...\n",
      " A: min|aij| =  1.000e+00  max|aij| =  1.000e+00  ratio =  1.000e+00\n",
      "Problem data seem to be well scaled\n",
      "Constructing initial basis...\n",
      "Size of triangular part is 4570\n",
      "Solving LP relaxation...\n",
      "GLPK Simplex Optimizer 5.0\n",
      "4570 rows, 6860 columns, 9150 non-zeros\n",
      "*     0: obj =   2.802870863e+04 inf =   0.000e+00 (1945)\n",
      "*  1949: obj =   9.972192447e+03 inf =   0.000e+00 (0)\n",
      "OPTIMAL LP SOLUTION FOUND\n",
      "Integer optimization begins...\n",
      "Long-step dual simplex will be used\n",
      "+  1949: mip =     not found yet >=              -inf        (1; 0)\n",
      "+  1949: >>>>>   9.972192447e+03 >=   9.972192447e+03   0.0% (1; 0)\n",
      "+  1949: mip =   9.972192447e+03 >=     tree is empty   0.0% (0; 1)\n",
      "INTEGER OPTIMAL SOLUTION FOUND\n"
     ]
    },
    {
     "name": "stderr",
     "output_type": "stream",
     "text": [
      "[INFO][2023/10/06 10:38:38 PM] Writing objects/obj_type_3\n",
      "[INFO][2023/10/06 10:38:38 PM] Writing labels/obj_type_3\n",
      "[INFO][2023/10/06 10:38:38 PM] Loading objects/obj_type_3 (4903, 5) (4903 filtered: None)\n",
      "[INFO][2023/10/06 10:38:38 PM] Writing properties/obj_type_3/axis_major_length (4903,)\n",
      "[INFO][2023/10/06 10:38:38 PM] Writing properties/obj_type_3/axis_minor_length (4903,)\n",
      "[INFO][2023/10/06 10:38:38 PM] Writing properties/obj_type_3/eccentricity (4903,)\n",
      "[INFO][2023/10/06 10:38:38 PM] Writing properties/obj_type_3/area (4903,)\n",
      "[INFO][2023/10/06 10:38:38 PM] Writing properties/obj_type_3/orientation (4903,)\n",
      "[INFO][2023/10/06 10:38:38 PM] Writing properties/obj_type_3/mean_intensity (4903, 4)\n",
      "[INFO][2023/10/06 10:38:38 PM] Writing properties/obj_type_3/class_id (4903,)\n",
      "[INFO][2023/10/06 10:38:38 PM] Writing properties/obj_type_3/mtb_status (4903,)\n",
      "[INFO][2023/10/06 10:38:38 PM] Writing properties/obj_type_3/mtb_area (4903,)\n",
      "[INFO][2023/10/06 10:38:38 PM] Writing tracks/obj_type_3\n",
      "[INFO][2023/10/06 10:38:38 PM] Writing dummies/obj_type_3\n",
      "[INFO][2023/10/06 10:38:38 PM] Writing LBEP/obj_type_3\n",
      "[INFO][2023/10/06 10:38:38 PM] Writing fates/obj_type_3\n",
      "[INFO][2023/10/06 10:38:42 PM] Closing HDF file: /home/dayn/data/homuncu_loc_temp/seperate_tracks/iAT1_iAT2_iVEC_macrophage_experiments/DAPI_ZO1_LDO_MTB/sc_analyses/20230802_20X_23-03-001A5_DAPI_ZO-1_LDO_Mtb_Multichannel Z-Stack_20230802_1496_iat1.h5\n"
     ]
    },
    {
     "data": {
      "application/vnd.jupyter.widget-view+json": {
       "model_id": "019e10374f7f4215b5624fb79df86b9f",
       "version_major": 2,
       "version_minor": 0
      },
      "text/plain": [
       "finding where segmentation channel is expressed in Z:   0%|          | 0/81 [00:00<?, ?it/s]"
      ]
     },
     "metadata": {},
     "output_type": "display_data"
    },
    {
     "data": {
      "application/vnd.jupyter.widget-view+json": {
       "model_id": "4b742a4380a94591948de9d0d9c412cd",
       "version_major": 2,
       "version_minor": 0
      },
      "text/plain": [
       "segmenting over select frames:   0%|          | 0/53 [00:00<?, ?it/s]"
      ]
     },
     "metadata": {},
     "output_type": "display_data"
    },
    {
     "name": "stderr",
     "output_type": "stream",
     "text": [
      "[INFO][2023/10/07 12:06:28 AM] Localizing objects from segmentation...\n"
     ]
    },
    {
     "name": "stdout",
     "output_type": "stream",
     "text": [
      "Update sms failed to send\n"
     ]
    },
    {
     "name": "stderr",
     "output_type": "stream",
     "text": [
      "progress: 100%|███████████████████████████████████████████████████████████████████████████████████████████████████████████████████████████████████████████| 81/81 [00:28<00:00,  2.89it/s]\n",
      "[INFO][2023/10/07 12:06:56 AM] Objects are of type: <class 'dict'>\n",
      "[INFO][2023/10/07 12:06:56 AM] ...Found 14056 objects in 54 frames.\n"
     ]
    },
    {
     "data": {
      "application/vnd.jupyter.widget-view+json": {
       "model_id": "aff9c9278604439288c633a16ea1cd54",
       "version_major": 2,
       "version_minor": 0
      },
      "text/plain": [
       "Measuring Mtb properties of each cell:   0%|          | 0/14056 [00:00<?, ?it/s]"
      ]
     },
     "metadata": {},
     "output_type": "display_data"
    },
    {
     "name": "stderr",
     "output_type": "stream",
     "text": [
      "[INFO][2023/10/07 12:09:59 AM] Loaded btrack: /home/dayn/analysis/btrack/btrack/libs/libtracker.so\n",
      "[INFO][2023/10/07 12:09:59 AM] Starting BayesianTracker session\n",
      "[INFO][2023/10/07 12:09:59 AM] Loading configuration file: /home/dayn/analysis/models/loc.json\n",
      "[INFO][2023/10/07 12:09:59 AM] Objects are of type: <class 'list'>\n",
      "[INFO][2023/10/07 12:09:59 AM] Starting tracking... \n",
      "[INFO][2023/10/07 12:09:59 AM] Update using: ['VISUAL', 'MOTION']\n",
      "[INFO][2023/10/07 12:09:59 AM] Tracking objects in frames 0 to 9 (of 54)...\n",
      "[INFO][2023/10/07 12:10:01 AM]  - Timing (Bayesian updates: 65.26ms, Linking: 4.07ms)\n",
      "[INFO][2023/10/07 12:10:01 AM]  - Probabilities (Link: 1.00000, Lost: 0.99999)\n",
      "[INFO][2023/10/07 12:10:01 AM]  - Stats (Active: 703, Lost: 1316, Conflicts resolved: 1063)\n",
      "[INFO][2023/10/07 12:10:01 AM] Tracking objects in frames 10 to 19 (of 54)...\n",
      "[INFO][2023/10/07 12:10:03 AM]  - Timing (Bayesian updates: 37.84ms, Linking: 4.74ms)\n",
      "[INFO][2023/10/07 12:10:03 AM]  - Probabilities (Link: 1.00000, Lost: 1.00000)\n",
      "[INFO][2023/10/07 12:10:03 AM]  - Stats (Active: 567, Lost: 3359, Conflicts resolved: 2166)\n",
      "[INFO][2023/10/07 12:10:03 AM] Tracking objects in frames 20 to 29 (of 54)...\n",
      "[INFO][2023/10/07 12:10:03 AM]  - Timing (Bayesian updates: 6.52ms, Linking: 1.32ms)\n",
      "[INFO][2023/10/07 12:10:03 AM]  - Probabilities (Link: 1.00000, Lost: 1.00000)\n",
      "[INFO][2023/10/07 12:10:03 AM]  - Stats (Active: 330, Lost: 4830, Conflicts resolved: 2774)\n",
      "[INFO][2023/10/07 12:10:03 AM] Tracking objects in frames 30 to 39 (of 54)...\n",
      "[INFO][2023/10/07 12:10:03 AM]  - Timing (Bayesian updates: 9.98ms, Linking: 1.73ms)\n",
      "[INFO][2023/10/07 12:10:03 AM]  - Probabilities (Link: 1.00000, Lost: 1.00000)\n",
      "[INFO][2023/10/07 12:10:03 AM]  - Stats (Active: 311, Lost: 5477, Conflicts resolved: 3281)\n",
      "[INFO][2023/10/07 12:10:03 AM] Tracking objects in frames 40 to 49 (of 54)...\n",
      "[INFO][2023/10/07 12:10:04 AM]  - Timing (Bayesian updates: 4.79ms, Linking: 0.97ms)\n",
      "[INFO][2023/10/07 12:10:04 AM]  - Probabilities (Link: 1.00000, Lost: 0.97042)\n",
      "[INFO][2023/10/07 12:10:04 AM] SUCCESS.\n",
      "[INFO][2023/10/07 12:10:04 AM]  - Found 3253 tracks in 54 frames (in 0.0s)\n",
      "[INFO][2023/10/07 12:10:04 AM]  - Inserted 1081 dummy objects to fill tracking gaps\n",
      "[INFO][2023/10/07 12:10:04 AM] Loading hypothesis model: particle_hypothesis\n",
      "[INFO][2023/10/07 12:10:04 AM] Calculating hypotheses (relax: True)...\n",
      "[INFO][2023/10/07 12:10:04 AM] Setting up constraints matrix for global optimisation...\n",
      "[INFO][2023/10/07 12:10:04 AM] Using GLPK options: {'tm_lim': 60000}...\n",
      "[INFO][2023/10/07 12:10:04 AM] Optimizing...\n",
      "[INFO][2023/10/07 12:10:04 AM] Optimization complete. (Solution: optimal)\n",
      "[INFO][2023/10/07 12:10:04 AM]  - Fates.FALSE_POSITIVE: 2801 (of 3253)\n",
      "[INFO][2023/10/07 12:10:04 AM]  - Fates.LINK: 2 (of 15)\n",
      "[INFO][2023/10/07 12:10:04 AM]  - Fates.INITIALIZE_BORDER: 13 (of 33)\n",
      "[INFO][2023/10/07 12:10:04 AM]  - Fates.INITIALIZE_FRONT: 196 (of 603)\n",
      "[INFO][2023/10/07 12:10:04 AM]  - Fates.INITIALIZE_LAZY: 241 (of 2617)\n",
      "[INFO][2023/10/07 12:10:04 AM]  - Fates.TERMINATE_BORDER: 17 (of 40)\n",
      "[INFO][2023/10/07 12:10:04 AM]  - Fates.TERMINATE_BACK: 63 (of 170)\n",
      "[INFO][2023/10/07 12:10:04 AM]  - Fates.TERMINATE_LAZY: 370 (of 3043)\n",
      "[INFO][2023/10/07 12:10:04 AM]  - TOTAL: 9774 hypotheses\n",
      "[INFO][2023/10/07 12:10:04 AM] Completed optimization with 3251 tracks\n"
     ]
    },
    {
     "name": "stdout",
     "output_type": "stream",
     "text": [
      "GLPK Integer Optimizer 5.0\n",
      "13012 rows, 9774 columns, 13042 non-zeros\n",
      "9774 integer variables, all of which are binary\n",
      "Preprocessing...\n",
      "6506 rows, 9774 columns, 13042 non-zeros\n",
      "9774 integer variables, all of which are binary\n",
      "Scaling...\n",
      " A: min|aij| =  1.000e+00  max|aij| =  1.000e+00  ratio =  1.000e+00\n",
      "Problem data seem to be well scaled\n",
      "Constructing initial basis...\n",
      "Size of triangular part is 6506\n",
      "Solving LP relaxation...\n",
      "GLPK Simplex Optimizer 5.0\n",
      "6506 rows, 9774 columns, 13042 non-zeros\n",
      "*     0: obj =   3.864479838e+04 inf =   0.000e+00 (2819)\n",
      "*  2828: obj =   1.302272097e+04 inf =   0.000e+00 (0)\n",
      "OPTIMAL LP SOLUTION FOUND\n",
      "Integer optimization begins...\n",
      "Long-step dual simplex will be used\n",
      "+  2828: mip =     not found yet >=              -inf        (1; 0)\n",
      "+  2828: >>>>>   1.302272097e+04 >=   1.302272097e+04   0.0% (1; 0)\n",
      "+  2828: mip =   1.302272097e+04 >=     tree is empty   0.0% (0; 1)\n",
      "INTEGER OPTIMAL SOLUTION FOUND\n"
     ]
    },
    {
     "name": "stderr",
     "output_type": "stream",
     "text": [
      "[INFO][2023/10/07 12:10:05 AM] Ending BayesianTracker session\n",
      "[INFO][2023/10/07 12:10:05 AM] Opening HDF file: /home/dayn/data/homuncu_loc_temp/seperate_tracks/iAT1_iAT2_iVEC_macrophage_experiments/DAPI_ZO1_LDO_MTB/sc_analyses/20230802_20X_23-03-001A2_DAPI_ZO-1_LDO_Mtb_Multichannel Z-Stack_20230802_1504_iat1.h5...\n",
      "[INFO][2023/10/07 12:10:05 AM] Writing objects/obj_type_3\n",
      "[INFO][2023/10/07 12:10:05 AM] Writing labels/obj_type_3\n",
      "[INFO][2023/10/07 12:10:05 AM] Loading objects/obj_type_3 (6737, 5) (6737 filtered: None)\n",
      "[INFO][2023/10/07 12:10:05 AM] Writing properties/obj_type_3/axis_major_length (6737,)\n",
      "[INFO][2023/10/07 12:10:05 AM] Writing properties/obj_type_3/axis_minor_length (6737,)\n",
      "[INFO][2023/10/07 12:10:05 AM] Writing properties/obj_type_3/eccentricity (6737,)\n",
      "[INFO][2023/10/07 12:10:05 AM] Writing properties/obj_type_3/area (6737,)\n",
      "[INFO][2023/10/07 12:10:05 AM] Writing properties/obj_type_3/orientation (6737,)\n",
      "[INFO][2023/10/07 12:10:05 AM] Writing properties/obj_type_3/mean_intensity (6737, 4)\n",
      "[INFO][2023/10/07 12:10:05 AM] Writing properties/obj_type_3/class_id (6737,)\n",
      "[INFO][2023/10/07 12:10:05 AM] Writing properties/obj_type_3/mtb_status (6737,)\n",
      "[INFO][2023/10/07 12:10:05 AM] Writing properties/obj_type_3/mtb_area (6737,)\n",
      "[INFO][2023/10/07 12:10:05 AM] Writing tracks/obj_type_3\n",
      "[INFO][2023/10/07 12:10:05 AM] Writing dummies/obj_type_3\n",
      "[INFO][2023/10/07 12:10:05 AM] Writing LBEP/obj_type_3\n",
      "[INFO][2023/10/07 12:10:05 AM] Writing fates/obj_type_3\n",
      "[INFO][2023/10/07 12:10:14 AM] Closing HDF file: /home/dayn/data/homuncu_loc_temp/seperate_tracks/iAT1_iAT2_iVEC_macrophage_experiments/DAPI_ZO1_LDO_MTB/sc_analyses/20230802_20X_23-03-001A2_DAPI_ZO-1_LDO_Mtb_Multichannel Z-Stack_20230802_1504_iat1.h5\n"
     ]
    }
   ],
   "source": [
    "# Iterate over a list of image file paths using tqdm for progress tracking\n",
    "for image_fn in tqdm(image_fns, total=len(image_fns), desc='iterating over image volumes'):\n",
    "\n",
    "    # if ID_extractor(image_fn) in ['1313', '1317', '1319']:\n",
    "    #     print(f'{image_fn} skipped')\n",
    "    #     continue\n",
    "    \n",
    "    # Define the output filename\n",
    "    output_fn = image_fn.replace('images', 'sc_analyses').replace('.tif', '_iat1.h5').replace('/run/user/30046150/gvfs/smb-share:server=data2.thecrick.org,share=lab-gutierrezm/home/shared/Lung on Chip/homuncu_loc_image_analysis/', \n",
    "                                                                                         '/home/dayn/data/homuncu_loc_temp/seperate_tracks/')\n",
    "    # if os.path.exists(output_fn):\n",
    "    #     continue\n",
    "\n",
    "    \n",
    "    try:\n",
    "        # Read the image using imageio.imread\n",
    "        image = io.imread(image_fn)\n",
    "    except Exception as e:\n",
    "        # Code to handle the exception and print the error message\n",
    "        print(e)\n",
    "        continue\n",
    "        \n",
    "    # # Extract the third channel (mphi_channel) from the image\n",
    "    # mphi_channel = image[..., 2]\n",
    "    \n",
    "    # # Segment the mphi_channel using custom function 'segment_channel'\n",
    "    # mphi_masks, mphi_diams = segment_channel(\n",
    "    #     mphi_channel,\n",
    "    #     diameter=60,\n",
    "    #     flow_threshold=0.99,\n",
    "    #     channels=[0, 0],\n",
    "    #     cellprob_threshold=-2,\n",
    "    #     min_mask_size=200,\n",
    "    #     return_diams=True,\n",
    "    #     start_point=None,\n",
    "    #     end_point=None\n",
    "    # )\n",
    "\n",
    "    # # update\n",
    "    # send_sms(f'mphi seg done {ID_extractor(image_fn)}')\n",
    "    \n",
    "    # Extract the second channel (zo1_channel) from the image\n",
    "    zo1_channel = image[..., 1]\n",
    "    \n",
    "    # # Segment the zo1_channel for iat2 using 'segment_channel' with specific parameters\n",
    "    # iat2_masks, iat2_diams = segment_channel(\n",
    "    #     zo1_channel,\n",
    "    #     diameter=None,\n",
    "    #     flow_threshold=0,\n",
    "    #     channels=[0, 0],\n",
    "    #     cellprob_threshold=0,\n",
    "    #     min_mask_size=200,\n",
    "    #     return_diams=True,\n",
    "    #     start_point=None,\n",
    "    #     end_point=None\n",
    "    # )\n",
    "    \n",
    "    # # update\n",
    "    # send_sms(f'iat2 seg done {ID_extractor(image_fn)}')\n",
    "    \n",
    "    # Segment the zo1_channel for iat1 using 'segment_channel' with specific parameters\n",
    "    iat1_masks, iat1_diams = segment_channel(\n",
    "        zo1_channel,\n",
    "        diameter=150,\n",
    "        flow_threshold=0.99,\n",
    "        channels=[0, 0],\n",
    "        cellprob_threshold=-3,\n",
    "        min_mask_size=2500,\n",
    "        return_diams=True,\n",
    "        start_point=None,\n",
    "        end_point=None\n",
    "    )\n",
    "    masks = iat1_masks\n",
    "    # update\n",
    "    send_sms(f'iat1 seg done {ID_extractor(image_fn)}')\n",
    "    \n",
    "    # # Loop over three different mask types: mphi_masks, iat2_masks, iat1_masks\n",
    "    # for n, masks in tqdm(enumerate([mphi_masks, iat2_masks, iat1_masks]), total=3):\n",
    "        \n",
    "    # Convert the segmentation masks to objects using btrack\n",
    "    objects = btrack.utils.segmentation_to_objects(\n",
    "        segmentation=iat1_masks,\n",
    "        intensity_image=image,\n",
    "        properties=props,\n",
    "        use_weighted_centroid=False,\n",
    "        assign_class_ID=True,\n",
    "    )\n",
    "\n",
    "    # update\n",
    "    # send_sms(f'object localisation {n, ID_extractor(image_fn)} done')\n",
    "\n",
    "    \n",
    "    # Check if mtb infected above threshold and measure mtb properties for each cell\n",
    "    threshold = 230\n",
    "    mtb_ch = 3\n",
    "    \n",
    "    for o in tqdm(objects, desc='Measuring Mtb properties of each cell'):\n",
    "        coordinates = np.argwhere(masks[o.t] == o.properties['class_id'])\n",
    "        pixel_values = image[o.t, coordinates[:, 0], coordinates[:, 1]]\n",
    "        mtb_status = np.any(pixel_values[:,mtb_ch] > threshold)\n",
    "        mtb_area = np.sum(pixel_values[:,mtb_ch] > threshold)\n",
    "        o.properties['mtb_status'] = mtb_status\n",
    "        o.properties['mtb_area'] = mtb_area\n",
    "        # o.properties['pixel_values'] = pixel_values\n",
    "\n",
    "    # update\n",
    "    # send_sms(f'mtb props {n, ID_extractor(image_fn)} done')\n",
    "\n",
    "    # Initialize BayesianTracker\n",
    "    with btrack.BayesianTracker() as tracker:\n",
    "        \n",
    "        # Configure the tracker using a config file\n",
    "        tracker.configure('/home/dayn/analysis/models/loc.json')\n",
    "        \n",
    "        # Set max search radius to a very limited radius\n",
    "        tracker.max_search_radius = 5\n",
    "        \n",
    "        # Define tracking method\n",
    "        tracker.tracking_updates = [\"MOTION\", \"VISUAL\"]\n",
    "        \n",
    "        # Use visual features to track\n",
    "        tracker.features = props\n",
    "        \n",
    "        # Append the objects to be tracked\n",
    "        tracker.append(objects)\n",
    "        \n",
    "        # Set the volume\n",
    "        tracker.volume = ((0, masks.shape[1]), (0, masks.shape[2]), (-1e5, 1e5))\n",
    "        \n",
    "        # Track them (in interactive mode)\n",
    "        tracker.track(step_size=10)\n",
    "        \n",
    "        # Generate hypotheses and run the global optimizer\n",
    "        tracker.optimize()\n",
    "        \n",
    "        # Get the tracks as a Python list\n",
    "        tracks = tracker.tracks\n",
    "\n",
    "    # update\n",
    "    # send_sms(f'tracking {n, ID_extractor(image_fn)} done')\n",
    "\n",
    "     # Define the output filename\n",
    "    output_fn = image_fn.replace('images', 'sc_analyses').replace('.tif', '_iat1.h5').replace('/run/user/30046150/gvfs/smb-share:server=data2.thecrick.org,share=lab-gutierrezm/home/shared/Lung on Chip/homuncu_loc_image_analysis/', \n",
    "                                                                                         '/home/dayn/data/homuncu_loc_temp/seperate_tracks/')\n",
    "    os.makedirs(os.path.dirname(output_fn), exist_ok=True)\n",
    "    \n",
    "    # Define the object type based on the iteration index\n",
    "    obj_type = f'obj_type_{3}'\n",
    "\n",
    "\n",
    "    # Write the tracks and segmentation masks to an HDF5 file using btrack.io.HDF5FileHandler\n",
    "    with btrack.io.HDF5FileHandler(output_fn, 'w', obj_type=obj_type) as writer:\n",
    "        writer.write_tracks(tracks)\n",
    "        writer.write_segmentation(masks)\n",
    "\n",
    "    # update\n",
    "    # send_sms(f'tracks saved {n, ID_extractor(image_fn)}')\n"
   ]
  },
  {
   "cell_type": "code",
   "execution_count": 9,
   "id": "35b751a1-57c1-44d1-9f1b-822aad69882f",
   "metadata": {},
   "outputs": [
    {
     "data": {
      "text/plain": [
       "'/run/user/30046150/gvfs/smb-share:server=data2.thecrick.org,share=lab-gutierrezm/home/shared/Lung on Chip/homuncu_loc_image_analysis/iAT1_iAT2_iVEC_macrophage_experiments/DAPI_ZO1_LDO_MTB/images/20230802_20X_23-03-001A2_DAPI_ZO-1_LDO_Mtb_Multichannel Z-Stack_20230802_1504.tif'"
      ]
     },
     "execution_count": 9,
     "metadata": {},
     "output_type": "execute_result"
    },
    {
     "name": "stderr",
     "output_type": "stream",
     "text": [
      "Error in atexit._run_exitfuncs:\n",
      "Traceback (most recent call last):\n",
      "  File \"/home/dayn/miniconda3/envs/aero/lib/python3.9/site-packages/IPython/core/interactiveshell.py\", line 3759, in atexit_operations\n",
      "    self._atexit_once()\n",
      "  File \"/home/dayn/miniconda3/envs/aero/lib/python3.9/site-packages/IPython/core/interactiveshell.py\", line 3738, in _atexit_once\n",
      "    self.reset(new_session=False)\n",
      "  File \"/home/dayn/miniconda3/envs/aero/lib/python3.9/site-packages/IPython/core/interactiveshell.py\", line 1334, in reset\n",
      "    self.history_manager.reset(new_session)\n",
      "  File \"/home/dayn/miniconda3/envs/aero/lib/python3.9/site-packages/IPython/core/history.py\", line 620, in reset\n",
      "    self.dir_hist[:] = [Path.cwd()]\n",
      "  File \"/home/dayn/miniconda3/envs/aero/lib/python3.9/pathlib.py\", line 1136, in cwd\n",
      "    return cls(os.getcwd())\n",
      "FileNotFoundError: [Errno 2] No such file or directory\n"
     ]
    }
   ],
   "source": [
    "image_fn"
   ]
  }
 ],
 "metadata": {
  "kernelspec": {
   "display_name": "aero",
   "language": "python",
   "name": "aero"
  },
  "language_info": {
   "codemirror_mode": {
    "name": "ipython",
    "version": 3
   },
   "file_extension": ".py",
   "mimetype": "text/x-python",
   "name": "python",
   "nbconvert_exporter": "python",
   "pygments_lexer": "ipython3",
   "version": "3.9.12"
  }
 },
 "nbformat": 4,
 "nbformat_minor": 5
}
