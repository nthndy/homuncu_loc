{
 "cells": [
  {
   "cell_type": "markdown",
   "id": "038f144c",
   "metadata": {},
   "source": [
    "# homuncu_loc image viewer"
   ]
  },
  {
   "cell_type": "code",
   "execution_count": 1,
   "id": "8988af78",
   "metadata": {},
   "outputs": [],
   "source": [
    "import napari\n",
    "from skimage import io\n",
    "import btrack\n",
    "import os\n",
    "from tqdm.auto import tqdm\n",
    "\n",
    "def find_files_with_basename(target_basename, start_dir='.'):\n",
    "    \"\"\"\n",
    "    Recursively search for files with a given basename in a directory tree.\n",
    "    \n",
    "    :param target_basename: The basename to search for.\n",
    "    :param start_dir: The directory to start the search from. Default is current directory.\n",
    "    :return: A list of full paths to files matching the given basename.\n",
    "    \"\"\"\n",
    "    matching_files = []\n",
    "    \n",
    "    for dirpath, dirnames, filenames in tqdm(os.walk(start_dir), desc = 'Searching start directory for filename'):\n",
    "        for fname in filenames:\n",
    "            if os.path.basename(fname) == target_basename:\n",
    "                full_path = os.path.join(dirpath, fname)\n",
    "                matching_files.append(full_path)\n",
    "                \n",
    "    return matching_files\n",
    "\n",
    "def find_tif_files(start_dir='.'):\n",
    "    \"\"\"\n",
    "    Recursively search for files with '.tif' extension in a directory tree.\n",
    "    \n",
    "    :param start_dir: The directory to start the search from. Default is current directory.\n",
    "    :return: A list of full paths to files with '.tif' extension.\n",
    "    \"\"\"\n",
    "    matching_files = []\n",
    "    \n",
    "    for dirpath, dirnames, filenames in tqdm(os.walk(start_dir), desc='Searching for .tif files'):\n",
    "        for fname in filenames:\n",
    "            if fname.endswith('.tif'):\n",
    "                full_path = os.path.join(dirpath, fname)\n",
    "                matching_files.append(full_path)\n",
    "                \n",
    "    return matching_files"
   ]
  },
  {
   "cell_type": "markdown",
   "id": "09c5e155-1cd6-46e9-9643-5446f0fc851b",
   "metadata": {},
   "source": [
    "#### Define image fn "
   ]
  },
  {
   "cell_type": "code",
   "execution_count": 7,
   "id": "580f80c4-178e-4905-8f03-218c6c6548cc",
   "metadata": {},
   "outputs": [],
   "source": [
    "image_fn = '/run/user/30046150/gvfs/smb-share:server=data2.thecrick.org,share=lab-gutierrezm/home/shared/Lung on Chip/image analysis_Nathan/Job_Mtb area/run3/23-03-002/20230801_20X_23-03-002A5_DAPI_NKX201_PDPN_ZO-1_Multichannel Z-Stack_20230801_1441.tif'"
   ]
  },
  {
   "cell_type": "markdown",
   "id": "0381213d-598c-4d04-8966-536f7f37c589",
   "metadata": {},
   "source": [
    "#### Or search for image basename in directory"
   ]
  },
  {
   "cell_type": "code",
   "execution_count": 139,
   "id": "effd0613-475a-4613-9913-747bfdb97b88",
   "metadata": {},
   "outputs": [],
   "source": [
    "image_basename = '20230707_40X_23-01-001A3_Multichannel Z-Stack_20230707_1313.tif'\n",
    "start_directory = '/run/user/30046150/gvfs/smb-share:server=data2.thecrick.org,share=lab-gutierrezm/home/shared/Lung on Chip/image analysis_Nathan/'"
   ]
  },
  {
   "cell_type": "code",
   "execution_count": 140,
   "id": "1b1806a7-9f83-43dd-8096-eb4ddac5263e",
   "metadata": {},
   "outputs": [
    {
     "data": {
      "application/vnd.jupyter.widget-view+json": {
       "model_id": "566cf627db544ee4943825e18619265a",
       "version_major": 2,
       "version_minor": 0
      },
      "text/plain": [
       "Searching start directory for filename: 0it [00:00, ?it/s]"
      ]
     },
     "metadata": {},
     "output_type": "display_data"
    },
    {
     "name": "stdout",
     "output_type": "stream",
     "text": [
      "['/run/user/30046150/gvfs/smb-share:server=data2.thecrick.org,share=lab-gutierrezm/home/shared/Lung on Chip/image analysis_Nathan/Job_Mtb area/run1_23-01-001_23-01-005/2h pi/20230707_40X_23-01-001A3_Multichannel Z-Stack_20230707_1313.tif']\n"
     ]
    }
   ],
   "source": [
    "image_fn_results = find_files_with_basename(image_basename, start_directory)\n",
    "print(image_fn_results)"
   ]
  },
  {
   "cell_type": "code",
   "execution_count": 141,
   "id": "70c145f1-b455-48fe-a39d-04dfaba25e5f",
   "metadata": {},
   "outputs": [],
   "source": [
    "image_fn = image_fn_results[0]"
   ]
  },
  {
   "cell_type": "code",
   "execution_count": 76,
   "id": "8f2681b1",
   "metadata": {},
   "outputs": [
    {
     "name": "stdout",
     "output_type": "stream",
     "text": [
      "CPU times: user 1.21 s, sys: 12.3 s, total: 13.5 s\n",
      "Wall time: 3min 49s\n"
     ]
    },
    {
     "data": {
      "text/plain": [
       "(61, 2304, 2304, 4)"
      ]
     },
     "execution_count": 76,
     "metadata": {},
     "output_type": "execute_result"
    }
   ],
   "source": [
    "%%time\n",
    "image = io.imread(image_fn)\n",
    "image.shape"
   ]
  },
  {
   "cell_type": "markdown",
   "id": "f85948c6-f378-4340-b37a-f110f79f04e0",
   "metadata": {},
   "source": [
    "#### Now do the same for the tracking file"
   ]
  },
  {
   "cell_type": "code",
   "execution_count": 142,
   "id": "59bdd8ed-6aa0-4f64-bfe3-596c6fcc41e5",
   "metadata": {},
   "outputs": [
    {
     "data": {
      "application/vnd.jupyter.widget-view+json": {
       "model_id": "c860912340f64360b9c0ebcc4a05d6a4",
       "version_major": 2,
       "version_minor": 0
      },
      "text/plain": [
       "Searching start directory for filename: 0it [00:00, ?it/s]"
      ]
     },
     "metadata": {},
     "output_type": "display_data"
    },
    {
     "name": "stdout",
     "output_type": "stream",
     "text": [
      "['/run/user/30046150/gvfs/smb-share:server=data2.thecrick.org,share=lab-gutierrezm/home/shared/Lung on Chip/image analysis_Nathan/results/run1_23-01-001_23-01-005/2h pi/20230707_40X_23-01-001A3_Multichannel Z-Stack_20230707_1313_z_tracks_masks.h5']\n"
     ]
    }
   ],
   "source": [
    "tracks_basename = image_basename.replace('.tif','_z_tracks_masks.h5') #'20x_21-12-029B_A12346_Multichannel Z-Stack_20220819_295_z_tracks_masks.h5'\n",
    "tracks_fn_results = find_files_with_basename(tracks_basename, start_directory)\n",
    "if len(tracks_fn_results) > 1:\n",
    "        raise ValueError(\"Found more than one matching file. Please ensure only one target file exists or refine your search criteria.\")\n",
    "print(tracks_fn_results)"
   ]
  },
  {
   "cell_type": "code",
   "execution_count": 143,
   "id": "64cb0846",
   "metadata": {},
   "outputs": [],
   "source": [
    "tracks_fn = tracks_fn_results[0]"
   ]
  },
  {
   "cell_type": "markdown",
   "id": "ecc166f6-c9f9-4e53-9b1d-63b80ff36dc5",
   "metadata": {},
   "source": [
    "#### Now load the segmentation and z-tracks"
   ]
  },
  {
   "cell_type": "code",
   "execution_count": 129,
   "id": "dcbce733",
   "metadata": {},
   "outputs": [
    {
     "name": "stderr",
     "output_type": "stream",
     "text": [
      "[INFO][2023/08/22 01:07:23 pm] Opening HDF file: /run/user/30046150/gvfs/smb-share:server=data2.thecrick.org,share=lab-gutierrezm/home/shared/Lung on Chip/image analysis_Nathan/results/run1_23-01-001_23-01-005/2h pi/20230707_40X_23-01-001A3_Multichannel Z-Stack_20230707_1313_z_tracks_masks.h5...\n",
      "[INFO][2023/08/22 01:07:24 pm] Loading segmentation (4, 2304, 2304)\n",
      "[INFO][2023/08/22 01:07:24 pm] Loading tracks/obj_type_1\n",
      "[INFO][2023/08/22 01:07:24 pm] Loading LBEP/obj_type_1\n",
      "[INFO][2023/08/22 01:07:24 pm] Loading objects/obj_type_1 (12, 5) (12 filtered: None)\n",
      "[INFO][2023/08/22 01:07:24 pm] Loading objects/obj_type_1 (12, 5) (12 filtered: None)\n",
      "[INFO][2023/08/22 01:07:24 pm] Closing HDF file: /run/user/30046150/gvfs/smb-share:server=data2.thecrick.org,share=lab-gutierrezm/home/shared/Lung on Chip/image analysis_Nathan/results/run1_23-01-001_23-01-005/2h pi/20230707_40X_23-01-001A3_Multichannel Z-Stack_20230707_1313_z_tracks_masks.h5\n"
     ]
    }
   ],
   "source": [
    "with btrack.io.HDF5FileHandler(tracks_fn, 'r', obj_type='obj_type_1') as reader:\n",
    "    segmentation = reader.segmentation\n",
    "    tracks = [t for t in reader.tracks if len(t) >= 3]\n",
    "    objects = reader.objects"
   ]
  },
  {
   "cell_type": "code",
   "execution_count": 89,
   "id": "cdd465d4",
   "metadata": {},
   "outputs": [],
   "source": [
    "napari_tracks, _, _ = btrack.utils.tracks_to_napari(tracks, ndim = 2)"
   ]
  },
  {
   "cell_type": "code",
   "execution_count": 90,
   "id": "64c3f053",
   "metadata": {},
   "outputs": [],
   "source": [
    "recolored_segmentation = btrack.utils.update_segmentation(segmentation, tracks, color_by='ID')"
   ]
  },
  {
   "cell_type": "code",
   "execution_count": 91,
   "id": "fb976154",
   "metadata": {},
   "outputs": [
    {
     "data": {
      "text/plain": [
       "<Tracks layer 'napari_tracks' at 0x7f1841744dc0>"
      ]
     },
     "execution_count": 91,
     "metadata": {},
     "output_type": "execute_result"
    }
   ],
   "source": [
    "viewer = napari.Viewer(title = image_fn)\n",
    "\n",
    "viewer.add_image(image, channel_axis = -1)\n",
    "viewer.add_labels(segmentation, visible = False)\n",
    "viewer.add_labels(recolored_segmentation)\n",
    "viewer.add_tracks(napari_tracks)"
   ]
  },
  {
   "cell_type": "code",
   "execution_count": 92,
   "id": "af63f25e-7a7d-4a55-80c4-e2c863f558fc",
   "metadata": {},
   "outputs": [
    {
     "name": "stdout",
     "output_type": "stream",
     "text": [
      "\n"
     ]
    }
   ],
   "source": [
    "print()"
   ]
  },
  {
   "cell_type": "markdown",
   "id": "4088d5c0-5032-4586-a959-8b8f6881e54c",
   "metadata": {},
   "source": [
    "# Retracking"
   ]
  },
  {
   "cell_type": "code",
   "execution_count": 95,
   "id": "a9057af4-ed58-4670-b6fc-77e8111abe2c",
   "metadata": {},
   "outputs": [
    {
     "name": "stderr",
     "output_type": "stream",
     "text": [
      "[INFO][2023/08/22 11:31:17 am] Localizing objects from segmentation...\n",
      "100%|█████████████████████████| 61/61 [01:11<00:00,  1.18s/it]\n",
      "[INFO][2023/08/22 11:32:29 am] Objects are of type: <class 'dict'>\n",
      "[INFO][2023/08/22 11:32:31 am] ...Found 172246 objects in 61 frames.\n"
     ]
    }
   ],
   "source": [
    "props = ('axis_major_length', # first define some cell properties \n",
    "         'axis_minor_length', # this helps improve the tracking\n",
    "         'eccentricity',      # by comparing similarities between slices/frames\n",
    "         'area', \n",
    "         'orientation',\n",
    "         'mean_intensity', \n",
    "        )\n",
    "objects = btrack.utils.segmentation_to_objects(\n",
    "            segmentation = segmentation, # set the masks here \n",
    "            intensity_image = image, # provide the image so that the mean intensity can be measured\n",
    "            properties = props, # provide the cell properties to improve tracker \n",
    "            use_weighted_centroid = False, \n",
    "            assign_class_ID=False,\n",
    "            )"
   ]
  },
  {
   "cell_type": "code",
   "execution_count": 96,
   "id": "c34bfbf0-d253-4647-91ad-b9fecd317cc6",
   "metadata": {},
   "outputs": [
    {
     "name": "stderr",
     "output_type": "stream",
     "text": [
      "[INFO][2023/08/22 11:34:26 am] Loaded btrack: /home/dayn/analysis/btrack/btrack/libs/libtracker.so\n",
      "[INFO][2023/08/22 11:34:26 am] Starting BayesianTracker session\n",
      "[INFO][2023/08/22 11:34:26 am] Loading configuration file: /home/dayn/analysis/models/loc.json\n",
      "[INFO][2023/08/22 11:34:26 am] Objects are of type: <class 'list'>\n",
      "[INFO][2023/08/22 11:34:30 am] Starting tracking... \n",
      "[INFO][2023/08/22 11:34:30 am] Update using: ['VISUAL', 'MOTION']\n",
      "[INFO][2023/08/22 11:35:26 am] Tracking objects in frames 0 to 9 (of 61)...\n",
      "[INFO][2023/08/22 12:00:02 pm]  - Timing (Bayesian updates: 43739.25ms, Linking: 94.67ms)\n",
      "[INFO][2023/08/22 12:00:02 pm]  - Probabilities (Link: 1.00000, Lost: 0.99998)\n",
      "[INFO][2023/08/22 12:00:02 pm]  - Stats (Active: 5540, Lost: 687, Conflicts resolved: 17401)\n",
      "[INFO][2023/08/22 12:00:02 pm] Tracking objects in frames 10 to 19 (of 61)...\n",
      "[INFO][2023/08/22 12:13:11 pm]  - Timing (Bayesian updates: 38414.20ms, Linking: 76.59ms)\n",
      "[INFO][2023/08/22 12:13:11 pm]  - Probabilities (Link: 1.00000, Lost: 0.89914)\n",
      "[INFO][2023/08/22 12:13:11 pm]  - Stats (Active: 4523, Lost: 872, Conflicts resolved: 21399)\n",
      "[INFO][2023/08/22 12:13:11 pm] Tracking objects in frames 20 to 29 (of 61)...\n",
      "[INFO][2023/08/22 12:27:34 pm]  - Timing (Bayesian updates: 56765.61ms, Linking: 93.22ms)\n",
      "[INFO][2023/08/22 12:27:34 pm]  - Probabilities (Link: 0.99997, Lost: 0.99766)\n",
      "[INFO][2023/08/22 12:27:34 pm]  - Stats (Active: 5701, Lost: 1655, Conflicts resolved: 25280)\n",
      "[INFO][2023/08/22 12:27:34 pm] Tracking objects in frames 30 to 39 (of 61)...\n",
      "[INFO][2023/08/22 12:37:28 pm]  - Timing (Bayesian updates: 500.16ms, Linking: 19.26ms)\n",
      "[INFO][2023/08/22 12:37:28 pm]  - Probabilities (Link: 1.00000, Lost: 1.00000)\n",
      "[INFO][2023/08/22 12:37:28 pm]  - Stats (Active: 3444, Lost: 7396, Conflicts resolved: 37146)\n",
      "[INFO][2023/08/22 12:37:28 pm] Tracking objects in frames 40 to 49 (of 61)...\n",
      "[INFO][2023/08/22 12:37:41 pm]  - Timing (Bayesian updates: 12.56ms, Linking: 3.90ms)\n",
      "[INFO][2023/08/22 12:37:41 pm]  - Probabilities (Link: 1.00000, Lost: 1.00000)\n",
      "[INFO][2023/08/22 12:37:41 pm]  - Stats (Active: 1147, Lost: 12129, Conflicts resolved: 39927)\n",
      "[INFO][2023/08/22 12:37:41 pm] Tracking objects in frames 50 to 59 (of 61)...\n",
      "[INFO][2023/08/22 12:37:41 pm]  - Timing (Bayesian updates: 0.01ms, Linking: 0.11ms)\n",
      "[INFO][2023/08/22 12:37:41 pm]  - Probabilities (Link: 0.99995, Lost: 1.00000)\n",
      "[INFO][2023/08/22 12:37:41 pm] SUCCESS.\n",
      "[INFO][2023/08/22 12:37:41 pm]  - Found 21761 tracks in 61 frames (in 0.0s)\n",
      "[INFO][2023/08/22 12:37:42 pm]  - Inserted 6188 dummy objects to fill tracking gaps\n",
      "[INFO][2023/08/22 12:37:42 pm] Loading hypothesis model: particle_hypothesis\n",
      "[INFO][2023/08/22 12:37:42 pm] Calculating hypotheses (relax: True)...\n",
      "[INFO][2023/08/22 12:37:42 pm] Setting up constraints matrix for global optimisation...\n",
      "[INFO][2023/08/22 12:37:42 pm] Using GLPK options: {'tm_lim': 60000}...\n",
      "[INFO][2023/08/22 12:37:44 pm] Optimizing...\n",
      "[INFO][2023/08/22 12:38:03 pm] Optimization complete. (Solution: optimal)\n",
      "[INFO][2023/08/22 12:38:03 pm]  - Fates.FALSE_POSITIVE: 16233 (of 21761)\n",
      "[INFO][2023/08/22 12:38:03 pm]  - Fates.LINK: 142 (of 390)\n",
      "[INFO][2023/08/22 12:38:03 pm]  - Fates.INITIALIZE_BORDER: 329 (of 761)\n",
      "[INFO][2023/08/22 12:38:03 pm]  - Fates.INITIALIZE_FRONT: 1995 (of 8038)\n",
      "[INFO][2023/08/22 12:38:03 pm]  - Fates.INITIALIZE_LAZY: 3062 (of 12962)\n",
      "[INFO][2023/08/22 12:38:03 pm]  - Fates.TERMINATE_BORDER: 425 (of 980)\n",
      "[INFO][2023/08/22 12:38:03 pm]  - Fates.TERMINATE_BACK: 11 (of 13)\n",
      "[INFO][2023/08/22 12:38:03 pm]  - Fates.TERMINATE_LAZY: 4950 (of 20768)\n",
      "[INFO][2023/08/22 12:38:03 pm]  - TOTAL: 65673 hypotheses\n",
      "[INFO][2023/08/22 12:38:03 pm] Completed optimization with 21619 tracks\n"
     ]
    },
    {
     "name": "stdout",
     "output_type": "stream",
     "text": [
      "GLPK Integer Optimizer 5.0\n",
      "87044 rows, 65673 columns, 87824 non-zeros\n",
      "65673 integer variables, all of which are binary\n",
      "Preprocessing...\n",
      "43522 rows, 65673 columns, 87824 non-zeros\n",
      "65673 integer variables, all of which are binary\n",
      "Scaling...\n",
      " A: min|aij| =  1.000e+00  max|aij| =  1.000e+00  ratio =  1.000e+00\n",
      "Problem data seem to be well scaled\n",
      "Constructing initial basis...\n",
      "Size of triangular part is 43522\n",
      "Solving LP relaxation...\n",
      "GLPK Simplex Optimizer 5.0\n",
      "43522 rows, 65673 columns, 87824 non-zeros\n",
      "*     0: obj =   2.370127093e+05 inf =   0.000e+00 (16782)\n",
      "*  4325: obj =   1.901104049e+05 inf =   0.000e+00 (12483)\n",
      "Perturbing LP to avoid stalling [6925]...\n",
      "*  8993: obj =   1.433704515e+05 inf =   0.000e+00 (7836)\n",
      "* 13596: obj =   1.196027052e+05 inf =   0.000e+00 (3326)\n",
      "Removing LP perturbation [17001]...\n",
      "* 17001: obj =   1.084785872e+05 inf =   0.000e+00 (0)\n",
      "OPTIMAL LP SOLUTION FOUND\n",
      "Integer optimization begins...\n",
      "Long-step dual simplex will be used\n",
      "+ 17001: mip =     not found yet >=              -inf        (1; 0)\n",
      "+ 17001: >>>>>   1.084785872e+05 >=   1.084785872e+05   0.0% (1; 0)\n",
      "+ 17001: mip =   1.084785872e+05 >=     tree is empty   0.0% (0; 1)\n",
      "INTEGER OPTIMAL SOLUTION FOUND\n"
     ]
    },
    {
     "name": "stderr",
     "output_type": "stream",
     "text": [
      "[INFO][2023/08/22 12:38:04 pm] Ending BayesianTracker session\n"
     ]
    }
   ],
   "source": [
    "with btrack.BayesianTracker() as tracker:\n",
    "        # configure the tracker using a config file\n",
    "        tracker.configure('/home/dayn/analysis/models/loc.json')\n",
    "        ### set max search radius to a very limited radius \n",
    "        tracker.max_search_radius = 5\n",
    "        # define tracking method\n",
    "        tracker.tracking_updates = [\"MOTION\", \"VISUAL\"]\n",
    "        # use visual features to track\n",
    "        tracker.features = props\n",
    "        # append the objects to be tracked\n",
    "        tracker.append(objects)\n",
    "        # set the volume\n",
    "        tracker.volume=((0, segmentation.shape[1]), (0, segmentation.shape[2]), (-1e5, 1e5))\n",
    "        # track them (in interactive mode)\n",
    "        tracker.track(step_size=10)\n",
    "        # generate hypotheses and run the global optimizer\n",
    "        tracker.optimize()\n",
    "        # get the tracks as a python list\n",
    "        tracks = tracker.tracks"
   ]
  },
  {
   "cell_type": "code",
   "execution_count": 13,
   "id": "853cf565-eeb9-450c-b6ea-f4b27a097a94",
   "metadata": {},
   "outputs": [],
   "source": [
    "napari_tracks, _, _ = btrack.utils.tracks_to_napari(tracks, ndim = 2)"
   ]
  },
  {
   "cell_type": "code",
   "execution_count": 14,
   "id": "d683a4d6-43d9-4ff5-858a-f47ca4fe3aab",
   "metadata": {},
   "outputs": [],
   "source": [
    "recolored_segmentation = btrack.utils.update_segmentation(segmentation, tracks, color_by='ID')"
   ]
  },
  {
   "cell_type": "code",
   "execution_count": 16,
   "id": "1f2c42c8-86b8-4f17-bdda-e4ccc80a09f8",
   "metadata": {},
   "outputs": [
    {
     "data": {
      "text/plain": [
       "<Tracks layer 'napari_tracks' at 0x7f57c78724f0>"
      ]
     },
     "execution_count": 16,
     "metadata": {},
     "output_type": "execute_result"
    }
   ],
   "source": [
    "viewer = napari.Viewer(title = fn +'retracked')\n",
    "\n",
    "# viewer.add_image(image, channel_axis = -1)\n",
    "viewer.add_labels(segmentation, visible = False)\n",
    "viewer.add_labels(recolored_segmentation)\n",
    "viewer.add_tracks(napari_tracks)"
   ]
  },
  {
   "cell_type": "markdown",
   "id": "0463fd59-3613-46ff-aff9-85d8dc449eac",
   "metadata": {},
   "source": [
    "# Retrack all "
   ]
  },
  {
   "cell_type": "code",
   "execution_count": 2,
   "id": "8bd43a74-5656-4df1-b009-2a1defd08529",
   "metadata": {},
   "outputs": [
    {
     "data": {
      "application/vnd.jupyter.widget-view+json": {
       "model_id": "0025387214744d13b098dfbcac013a60",
       "version_major": 2,
       "version_minor": 0
      },
      "text/plain": [
       "Searching for .tif files: 0it [00:00, ?it/s]"
      ]
     },
     "metadata": {},
     "output_type": "display_data"
    },
    {
     "data": {
      "text/plain": [
       "49"
      ]
     },
     "execution_count": 2,
     "metadata": {},
     "output_type": "execute_result"
    }
   ],
   "source": [
    "start_directory = '/run/user/30046150/gvfs/smb-share:server=data2.thecrick.org,share=lab-gutierrezm/home/shared/Lung on Chip/image analysis_Nathan/'\n",
    "image_fns = find_tif_files(start_directory)\n",
    "len(image_fns)"
   ]
  },
  {
   "cell_type": "code",
   "execution_count": 11,
   "id": "b64e3ebc-9876-4bfe-968a-7b3df51bdd80",
   "metadata": {},
   "outputs": [],
   "source": [
    "props = ('axis_major_length',\n",
    " 'axis_minor_length',\n",
    " 'eccentricity',\n",
    " 'area',\n",
    " 'orientation',\n",
    " 'mean_intensity')"
   ]
  },
  {
   "cell_type": "code",
   "execution_count": 22,
   "id": "d9a23f21-00ff-476b-a95e-797a59f885f6",
   "metadata": {},
   "outputs": [],
   "source": [
    "from macrohet import notify"
   ]
  },
  {
   "cell_type": "code",
   "execution_count": 23,
   "id": "24504918-8756-4a67-8cb0-140a3ac9e854",
   "metadata": {},
   "outputs": [
    {
     "data": {
      "application/vnd.jupyter.widget-view+json": {
       "model_id": "7ee7cfd0314a4467b124be5c127afef8",
       "version_major": 2,
       "version_minor": 0
      },
      "text/plain": [
       "  0%|          | 0/49 [00:00<?, ?it/s]"
      ]
     },
     "metadata": {},
     "output_type": "display_data"
    },
    {
     "data": {
      "application/vnd.jupyter.widget-view+json": {
       "model_id": "c6377c95ae024c9bb4ae0f4396c4b95e",
       "version_major": 2,
       "version_minor": 0
      },
      "text/plain": [
       "Searching start directory for filename: 0it [00:00, ?it/s]"
      ]
     },
     "metadata": {},
     "output_type": "display_data"
    },
    {
     "name": "stderr",
     "output_type": "stream",
     "text": [
      "[INFO][2023/08/22 03:00:47 pm] Opening HDF file: /run/user/30046150/gvfs/smb-share:server=data2.thecrick.org,share=lab-gutierrezm/home/shared/Lung on Chip/image analysis_Nathan/results/run0/DAPI-SPC-PDPN-ZO1/Day14_breath/20x_21-12-029B_A12346_Multichannel Z-Stack_20220819_295_z_tracks_masks.h5...\n",
      "[INFO][2023/08/22 03:00:48 pm] Loading objects/obj_type_1 (7245, 5) (7245 filtered: None)\n",
      "[INFO][2023/08/22 03:00:54 pm] Loading segmentation (81, 2304, 2304)\n",
      "[INFO][2023/08/22 03:00:54 pm] Closing HDF file: /run/user/30046150/gvfs/smb-share:server=data2.thecrick.org,share=lab-gutierrezm/home/shared/Lung on Chip/image analysis_Nathan/results/run0/DAPI-SPC-PDPN-ZO1/Day14_breath/20x_21-12-029B_A12346_Multichannel Z-Stack_20220819_295_z_tracks_masks.h5\n",
      "[INFO][2023/08/22 03:00:54 pm] Loaded btrack: /home/dayn/analysis/btrack/btrack/libs/libtracker.so\n",
      "[INFO][2023/08/22 03:00:54 pm] Starting BayesianTracker session\n",
      "[INFO][2023/08/22 03:00:54 pm] Loading configuration file: /home/dayn/analysis/models/loc.json\n",
      "[INFO][2023/08/22 03:00:54 pm] Objects are of type: <class 'list'>\n",
      "[INFO][2023/08/22 03:00:55 pm] Starting tracking... \n",
      "[INFO][2023/08/22 03:00:55 pm] Update using: ['MOTION', 'VISUAL']\n",
      "[INFO][2023/08/22 03:00:55 pm] Tracking objects in frames 0 to 9 (of 53)...\n",
      "[INFO][2023/08/22 03:00:57 pm]  - Timing (Bayesian updates: 5.83ms, Linking: 3.06ms)\n",
      "[INFO][2023/08/22 03:00:57 pm]  - Probabilities (Link: 1.00000, Lost: 1.00000)\n",
      "[INFO][2023/08/22 03:00:57 pm]  - Stats (Active: 969, Lost: 3349, Conflicts resolved: 600)\n",
      "[INFO][2023/08/22 03:00:57 pm] Tracking objects in frames 10 to 19 (of 53)...\n",
      "[INFO][2023/08/22 03:01:01 pm]  - Timing (Bayesian updates: 10.88ms, Linking: 5.58ms)\n",
      "[INFO][2023/08/22 03:01:01 pm]  - Probabilities (Link: 0.99996, Lost: 1.00000)\n",
      "[INFO][2023/08/22 03:01:01 pm]  - Stats (Active: 1587, Lost: 13514, Conflicts resolved: 1348)\n",
      "[INFO][2023/08/22 03:01:01 pm] Tracking objects in frames 20 to 29 (of 53)...\n",
      "[INFO][2023/08/22 03:01:01 pm]  - Timing (Bayesian updates: 0.47ms, Linking: 0.35ms)\n",
      "[INFO][2023/08/22 03:01:01 pm]  - Probabilities (Link: 1.00000, Lost: 0.99956)\n",
      "[INFO][2023/08/22 03:01:01 pm] SUCCESS.\n",
      "[INFO][2023/08/22 03:01:01 pm]  - Found 3667 tracks in 53 frames (in 0.0s)\n",
      "[INFO][2023/08/22 03:01:01 pm]  - Inserted 320 dummy objects to fill tracking gaps\n",
      "[INFO][2023/08/22 03:01:01 pm] Loading hypothesis model: particle_hypothesis\n",
      "[INFO][2023/08/22 03:01:01 pm] Calculating hypotheses (relax: True)...\n",
      "[INFO][2023/08/22 03:01:01 pm] Setting up constraints matrix for global optimisation...\n",
      "[INFO][2023/08/22 03:01:01 pm] Using GLPK options: {'tm_lim': 60000}...\n",
      "[INFO][2023/08/22 03:01:01 pm] Optimizing...\n",
      "[INFO][2023/08/22 03:01:02 pm] Optimization complete. (Solution: optimal)\n",
      "[INFO][2023/08/22 03:01:02 pm]  - Fates.FALSE_POSITIVE: 3428 (of 3667)\n",
      "[INFO][2023/08/22 03:01:02 pm]  - Fates.LINK: 6 (of 39)\n",
      "[INFO][2023/08/22 03:01:02 pm]  - Fates.INITIALIZE_BORDER: 96 (of 479)\n",
      "[INFO][2023/08/22 03:01:02 pm]  - Fates.INITIALIZE_LAZY: 137 (of 3188)\n",
      "[INFO][2023/08/22 03:01:02 pm]  - Fates.TERMINATE_BORDER: 79 (of 445)\n",
      "[INFO][2023/08/22 03:01:02 pm]  - Fates.TERMINATE_BACK: 22 (of 105)\n",
      "[INFO][2023/08/22 03:01:02 pm]  - Fates.TERMINATE_LAZY: 132 (of 3117)\n",
      "[INFO][2023/08/22 03:01:02 pm]  - TOTAL: 11040 hypotheses\n",
      "[INFO][2023/08/22 03:01:02 pm] Completed optimization with 3661 tracks\n",
      "[INFO][2023/08/22 03:01:02 pm] Ending BayesianTracker session\n",
      "[INFO][2023/08/22 03:01:02 pm] Opening HDF file: /home/dayn/data/homuncu_loc_temp/results/image analysis_Nathan/Job_1/DAPI-SPC-PDPN-ZO1/Day14_breath/20x_21-12-029B_A12346_Multichannel Z-Stack_20220819_295_sc_data.h5...\n"
     ]
    },
    {
     "name": "stdout",
     "output_type": "stream",
     "text": [
      "GLPK Integer Optimizer 5.0\n",
      "14668 rows, 11040 columns, 14746 non-zeros\n",
      "11040 integer variables, all of which are binary\n",
      "Preprocessing...\n",
      "7334 rows, 11040 columns, 14746 non-zeros\n",
      "11040 integer variables, all of which are binary\n",
      "Scaling...\n",
      " A: min|aij| =  1.000e+00  max|aij| =  1.000e+00  ratio =  1.000e+00\n",
      "Problem data seem to be well scaled\n",
      "Constructing initial basis...\n",
      "Size of triangular part is 7334\n",
      "Solving LP relaxation...\n",
      "GLPK Simplex Optimizer 5.0\n",
      "7334 rows, 11040 columns, 14746 non-zeros\n",
      "*     0: obj =   4.462087957e+04 inf =   0.000e+00 (3478)\n",
      "*  3500: obj =   1.381541626e+04 inf =   0.000e+00 (0)\n",
      "OPTIMAL LP SOLUTION FOUND\n",
      "Integer optimization begins...\n",
      "Long-step dual simplex will be used\n",
      "+  3500: mip =     not found yet >=              -inf        (1; 0)\n",
      "+  3500: >>>>>   1.381541626e+04 >=   1.381541626e+04   0.0% (1; 0)\n",
      "+  3500: mip =   1.381541626e+04 >=     tree is empty   0.0% (0; 1)\n",
      "INTEGER OPTIMAL SOLUTION FOUND\n"
     ]
    },
    {
     "name": "stderr",
     "output_type": "stream",
     "text": [
      "[INFO][2023/08/22 03:01:02 pm] Writing objects/obj_type_1\n",
      "[INFO][2023/08/22 03:01:02 pm] Writing labels/obj_type_1\n",
      "[INFO][2023/08/22 03:01:02 pm] Loading objects/obj_type_1 (5932, 5) (5932 filtered: None)\n",
      "[INFO][2023/08/22 03:01:02 pm] Writing properties/obj_type_1/orientation (5932,)\n",
      "[INFO][2023/08/22 03:01:02 pm] Writing properties/obj_type_1/axis_major_length (5932,)\n",
      "[INFO][2023/08/22 03:01:02 pm] Writing properties/obj_type_1/mean_intensity (5932, 4)\n",
      "[INFO][2023/08/22 03:01:02 pm] Writing properties/obj_type_1/area (5932,)\n",
      "[INFO][2023/08/22 03:01:02 pm] Writing properties/obj_type_1/axis_minor_length (5932,)\n",
      "[INFO][2023/08/22 03:01:02 pm] Writing properties/obj_type_1/eccentricity (5932,)\n",
      "[INFO][2023/08/22 03:01:02 pm] Writing tracks/obj_type_1\n",
      "[INFO][2023/08/22 03:01:02 pm] Writing dummies/obj_type_1\n",
      "[INFO][2023/08/22 03:01:02 pm] Writing LBEP/obj_type_1\n",
      "[INFO][2023/08/22 03:01:02 pm] Writing fates/obj_type_1\n",
      "[INFO][2023/08/22 03:01:06 pm] Closing HDF file: /home/dayn/data/homuncu_loc_temp/results/image analysis_Nathan/Job_1/DAPI-SPC-PDPN-ZO1/Day14_breath/20x_21-12-029B_A12346_Multichannel Z-Stack_20220819_295_sc_data.h5\n"
     ]
    },
    {
     "data": {
      "application/vnd.jupyter.widget-view+json": {
       "model_id": "2d9b148fce754c9ab1227e5d67a61b44",
       "version_major": 2,
       "version_minor": 0
      },
      "text/plain": [
       "Searching start directory for filename: 0it [00:00, ?it/s]"
      ]
     },
     "metadata": {},
     "output_type": "display_data"
    },
    {
     "name": "stderr",
     "output_type": "stream",
     "text": [
      "[INFO][2023/08/22 03:01:16 pm] Opening HDF file: /run/user/30046150/gvfs/smb-share:server=data2.thecrick.org,share=lab-gutierrezm/home/shared/Lung on Chip/image analysis_Nathan/results/run0/DAPI-SPC-PDPN-ZO1/Day14_breath/20x_21-12-029B_A12346_Multichannel Z-Stack_20220819_292_z_tracks_masks.h5...\n",
      "[INFO][2023/08/22 03:01:17 pm] Loading objects/obj_type_1 (8598, 5) (8598 filtered: None)\n",
      "[INFO][2023/08/22 03:01:22 pm] Loading segmentation (81, 2304, 2304)\n",
      "[INFO][2023/08/22 03:01:22 pm] Closing HDF file: /run/user/30046150/gvfs/smb-share:server=data2.thecrick.org,share=lab-gutierrezm/home/shared/Lung on Chip/image analysis_Nathan/results/run0/DAPI-SPC-PDPN-ZO1/Day14_breath/20x_21-12-029B_A12346_Multichannel Z-Stack_20220819_292_z_tracks_masks.h5\n",
      "[INFO][2023/08/22 03:01:22 pm] Loaded btrack: /home/dayn/analysis/btrack/btrack/libs/libtracker.so\n",
      "[INFO][2023/08/22 03:01:22 pm] Starting BayesianTracker session\n",
      "[INFO][2023/08/22 03:01:22 pm] Loading configuration file: /home/dayn/analysis/models/loc.json\n",
      "[INFO][2023/08/22 03:01:22 pm] Objects are of type: <class 'list'>\n",
      "[INFO][2023/08/22 03:01:23 pm] Starting tracking... \n",
      "[INFO][2023/08/22 03:01:23 pm] Update using: ['MOTION', 'VISUAL']\n",
      "[INFO][2023/08/22 03:01:23 pm] Tracking objects in frames 0 to 9 (of 54)...\n",
      "[INFO][2023/08/22 03:01:24 pm]  - Timing (Bayesian updates: 137.29ms, Linking: 5.27ms)\n",
      "[INFO][2023/08/22 03:01:24 pm]  - Probabilities (Link: 1.00000, Lost: 1.00000)\n",
      "[INFO][2023/08/22 03:01:24 pm]  - Stats (Active: 794, Lost: 1748, Conflicts resolved: 766)\n",
      "[INFO][2023/08/22 03:01:24 pm] Tracking objects in frames 10 to 19 (of 54)...\n",
      "[INFO][2023/08/22 03:01:29 pm]  - Timing (Bayesian updates: 218.76ms, Linking: 14.14ms)\n",
      "[INFO][2023/08/22 03:01:29 pm]  - Probabilities (Link: 0.99999, Lost: 1.00000)\n",
      "[INFO][2023/08/22 03:01:29 pm]  - Stats (Active: 2166, Lost: 11622, Conflicts resolved: 1648)\n",
      "[INFO][2023/08/22 03:01:29 pm] Tracking objects in frames 20 to 29 (of 54)...\n",
      "[INFO][2023/08/22 03:01:30 pm]  - Timing (Bayesian updates: 0.80ms, Linking: 0.47ms)\n",
      "[INFO][2023/08/22 03:01:30 pm]  - Probabilities (Link: 0.99988, Lost: 0.99973)\n",
      "[INFO][2023/08/22 03:01:30 pm] SUCCESS.\n",
      "[INFO][2023/08/22 03:01:30 pm]  - Found 4494 tracks in 54 frames (in 0.0s)\n",
      "[INFO][2023/08/22 03:01:30 pm]  - Inserted 297 dummy objects to fill tracking gaps\n",
      "[INFO][2023/08/22 03:01:30 pm] Loading hypothesis model: particle_hypothesis\n",
      "[INFO][2023/08/22 03:01:30 pm] Calculating hypotheses (relax: True)...\n",
      "[INFO][2023/08/22 03:01:30 pm] Setting up constraints matrix for global optimisation...\n",
      "[INFO][2023/08/22 03:01:30 pm] Using GLPK options: {'tm_lim': 60000}...\n",
      "[INFO][2023/08/22 03:01:30 pm] Optimizing...\n",
      "[INFO][2023/08/22 03:01:31 pm] Optimization complete. (Solution: optimal)\n",
      "[INFO][2023/08/22 03:01:31 pm]  - Fates.FALSE_POSITIVE: 4314 (of 4494)\n",
      "[INFO][2023/08/22 03:01:31 pm]  - Fates.LINK: 0 (of 23)\n",
      "[INFO][2023/08/22 03:01:31 pm]  - Fates.INITIALIZE_BORDER: 60 (of 303)\n",
      "[INFO][2023/08/22 03:01:31 pm]  - Fates.INITIALIZE_LAZY: 120 (of 4191)\n",
      "[INFO][2023/08/22 03:01:31 pm]  - Fates.TERMINATE_BORDER: 54 (of 292)\n",
      "[INFO][2023/08/22 03:01:31 pm]  - Fates.TERMINATE_BACK: 26 (of 109)\n",
      "[INFO][2023/08/22 03:01:31 pm]  - Fates.TERMINATE_LAZY: 100 (of 4093)\n",
      "[INFO][2023/08/22 03:01:31 pm]  - TOTAL: 13505 hypotheses\n",
      "[INFO][2023/08/22 03:01:31 pm] Completed optimization with 4494 tracks\n",
      "[INFO][2023/08/22 03:01:31 pm] Ending BayesianTracker session\n"
     ]
    },
    {
     "name": "stdout",
     "output_type": "stream",
     "text": [
      "GLPK Integer Optimizer 5.0\n",
      "17976 rows, 13505 columns, 18022 non-zeros\n",
      "13505 integer variables, all of which are binary\n",
      "Preprocessing...\n",
      "8988 rows, 13505 columns, 18022 non-zeros\n",
      "13505 integer variables, all of which are binary\n",
      "Scaling...\n",
      " A: min|aij| =  1.000e+00  max|aij| =  1.000e+00  ratio =  1.000e+00\n",
      "Problem data seem to be well scaled\n",
      "Constructing initial basis...\n",
      "Size of triangular part is 8988\n",
      "Solving LP relaxation...\n",
      "GLPK Simplex Optimizer 5.0\n",
      "8988 rows, 13505 columns, 18022 non-zeros\n",
      "*     0: obj =   5.741611293e+04 inf =   0.000e+00 (4337)\n",
      "*  4354: obj =   1.481529940e+04 inf =   0.000e+00 (0)\n",
      "OPTIMAL LP SOLUTION FOUND\n",
      "Integer optimization begins...\n",
      "Long-step dual simplex will be used\n",
      "+  4354: mip =     not found yet >=              -inf        (1; 0)\n",
      "+  4354: >>>>>   1.481529940e+04 >=   1.481529940e+04   0.0% (1; 0)\n",
      "+  4354: mip =   1.481529940e+04 >=     tree is empty   0.0% (0; 1)\n",
      "INTEGER OPTIMAL SOLUTION FOUND\n"
     ]
    },
    {
     "name": "stderr",
     "output_type": "stream",
     "text": [
      "[INFO][2023/08/22 03:01:31 pm] Opening HDF file: /home/dayn/data/homuncu_loc_temp/results/image analysis_Nathan/Job_1/DAPI-SPC-PDPN-ZO1/Day14_breath/20x_21-12-029B_A12346_Multichannel Z-Stack_20220819_292_sc_data.h5...\n",
      "[INFO][2023/08/22 03:01:32 pm] Writing objects/obj_type_1\n",
      "[INFO][2023/08/22 03:01:32 pm] Writing labels/obj_type_1\n",
      "[INFO][2023/08/22 03:01:32 pm] Loading objects/obj_type_1 (6708, 5) (6708 filtered: None)\n",
      "[INFO][2023/08/22 03:01:32 pm] Writing properties/obj_type_1/orientation (6708,)\n",
      "[INFO][2023/08/22 03:01:32 pm] Writing properties/obj_type_1/axis_major_length (6708,)\n",
      "[INFO][2023/08/22 03:01:32 pm] Writing properties/obj_type_1/mean_intensity (6708, 4)\n",
      "[INFO][2023/08/22 03:01:32 pm] Writing properties/obj_type_1/area (6708,)\n",
      "[INFO][2023/08/22 03:01:32 pm] Writing properties/obj_type_1/axis_minor_length (6708,)\n",
      "[INFO][2023/08/22 03:01:32 pm] Writing properties/obj_type_1/eccentricity (6708,)\n",
      "[INFO][2023/08/22 03:01:32 pm] Writing tracks/obj_type_1\n",
      "[INFO][2023/08/22 03:01:32 pm] Writing dummies/obj_type_1\n",
      "[INFO][2023/08/22 03:01:32 pm] Writing LBEP/obj_type_1\n",
      "[INFO][2023/08/22 03:01:32 pm] Writing fates/obj_type_1\n",
      "[INFO][2023/08/22 03:01:35 pm] Closing HDF file: /home/dayn/data/homuncu_loc_temp/results/image analysis_Nathan/Job_1/DAPI-SPC-PDPN-ZO1/Day14_breath/20x_21-12-029B_A12346_Multichannel Z-Stack_20220819_292_sc_data.h5\n"
     ]
    },
    {
     "data": {
      "application/vnd.jupyter.widget-view+json": {
       "model_id": "94e534d04efc4b4c879a693eac738aed",
       "version_major": 2,
       "version_minor": 0
      },
      "text/plain": [
       "Searching start directory for filename: 0it [00:00, ?it/s]"
      ]
     },
     "metadata": {},
     "output_type": "display_data"
    },
    {
     "name": "stderr",
     "output_type": "stream",
     "text": [
      "[INFO][2023/08/22 03:01:49 pm] Opening HDF file: /run/user/30046150/gvfs/smb-share:server=data2.thecrick.org,share=lab-gutierrezm/home/shared/Lung on Chip/image analysis_Nathan/results/run0/DAPI-SPC-PDPN-ZO1/Day14_breath/20x_21-12-029B_A12346_Multichannel Z-Stack_20220819_298_z_tracks_masks.h5...\n",
      "[INFO][2023/08/22 03:01:49 pm] Loading objects/obj_type_1 (12933, 5) (12933 filtered: None)\n",
      "[INFO][2023/08/22 03:01:54 pm] Loading segmentation (81, 2304, 2304)\n",
      "[INFO][2023/08/22 03:01:54 pm] Closing HDF file: /run/user/30046150/gvfs/smb-share:server=data2.thecrick.org,share=lab-gutierrezm/home/shared/Lung on Chip/image analysis_Nathan/results/run0/DAPI-SPC-PDPN-ZO1/Day14_breath/20x_21-12-029B_A12346_Multichannel Z-Stack_20220819_298_z_tracks_masks.h5\n",
      "[INFO][2023/08/22 03:01:54 pm] Loaded btrack: /home/dayn/analysis/btrack/btrack/libs/libtracker.so\n",
      "[INFO][2023/08/22 03:01:54 pm] Starting BayesianTracker session\n",
      "[INFO][2023/08/22 03:01:54 pm] Loading configuration file: /home/dayn/analysis/models/loc.json\n",
      "[INFO][2023/08/22 03:01:54 pm] Objects are of type: <class 'list'>\n",
      "[INFO][2023/08/22 03:01:55 pm] Starting tracking... \n",
      "[INFO][2023/08/22 03:01:55 pm] Update using: ['MOTION', 'VISUAL']\n",
      "[INFO][2023/08/22 03:01:55 pm] Tracking objects in frames 0 to 9 (of 52)...\n",
      "[INFO][2023/08/22 03:01:56 pm]  - Timing (Bayesian updates: 46.52ms, Linking: 3.43ms)\n",
      "[INFO][2023/08/22 03:01:56 pm]  - Probabilities (Link: 1.00000, Lost: 1.00000)\n",
      "[INFO][2023/08/22 03:01:56 pm]  - Stats (Active: 500, Lost: 1808, Conflicts resolved: 1118)\n",
      "[INFO][2023/08/22 03:01:56 pm] Tracking objects in frames 10 to 19 (of 52)...\n",
      "[INFO][2023/08/22 03:02:17 pm]  - Timing (Bayesian updates: 1046.27ms, Linking: 21.69ms)\n",
      "[INFO][2023/08/22 03:02:17 pm]  - Probabilities (Link: 1.00000, Lost: 1.00000)\n",
      "[INFO][2023/08/22 03:02:17 pm]  - Stats (Active: 4339, Lost: 15691, Conflicts resolved: 2503)\n",
      "[INFO][2023/08/22 03:02:17 pm] Tracking objects in frames 20 to 29 (of 52)...\n",
      "[INFO][2023/08/22 03:02:19 pm]  - Timing (Bayesian updates: 0.34ms, Linking: 0.64ms)\n",
      "[INFO][2023/08/22 03:02:19 pm]  - Probabilities (Link: 0.99984, Lost: 1.00000)\n",
      "[INFO][2023/08/22 03:02:19 pm] SUCCESS.\n",
      "[INFO][2023/08/22 03:02:19 pm]  - Found 7216 tracks in 52 frames (in 0.0s)\n",
      "[INFO][2023/08/22 03:02:19 pm]  - Inserted 341 dummy objects to fill tracking gaps\n",
      "[INFO][2023/08/22 03:02:19 pm] Loading hypothesis model: particle_hypothesis\n",
      "[INFO][2023/08/22 03:02:19 pm] Calculating hypotheses (relax: True)...\n",
      "[INFO][2023/08/22 03:02:19 pm] Setting up constraints matrix for global optimisation...\n",
      "[INFO][2023/08/22 03:02:19 pm] Using GLPK options: {'tm_lim': 60000}...\n",
      "[INFO][2023/08/22 03:02:19 pm] Optimizing...\n",
      "[INFO][2023/08/22 03:02:22 pm] Optimization complete. (Solution: optimal)\n",
      "[INFO][2023/08/22 03:02:22 pm]  - Fates.FALSE_POSITIVE: 6985 (of 7216)\n",
      "[INFO][2023/08/22 03:02:22 pm]  - Fates.LINK: 2 (of 57)\n",
      "[INFO][2023/08/22 03:02:22 pm]  - Fates.INITIALIZE_BORDER: 65 (of 377)\n",
      "[INFO][2023/08/22 03:02:22 pm]  - Fates.INITIALIZE_LAZY: 164 (of 6839)\n",
      "[INFO][2023/08/22 03:02:22 pm]  - Fates.TERMINATE_BORDER: 59 (of 364)\n",
      "[INFO][2023/08/22 03:02:22 pm]  - Fates.TERMINATE_BACK: 19 (of 133)\n",
      "[INFO][2023/08/22 03:02:22 pm]  - Fates.TERMINATE_LAZY: 151 (of 6719)\n",
      "[INFO][2023/08/22 03:02:22 pm]  - TOTAL: 21705 hypotheses\n",
      "[INFO][2023/08/22 03:02:22 pm] Completed optimization with 7214 tracks\n"
     ]
    },
    {
     "name": "stdout",
     "output_type": "stream",
     "text": [
      "GLPK Integer Optimizer 5.0\n",
      "28864 rows, 21705 columns, 28978 non-zeros\n",
      "21705 integer variables, all of which are binary\n",
      "Preprocessing...\n",
      "14432 rows, 21705 columns, 28978 non-zeros\n",
      "21705 integer variables, all of which are binary\n",
      "Scaling...\n",
      " A: min|aij| =  1.000e+00  max|aij| =  1.000e+00  ratio =  1.000e+00\n",
      "Problem data seem to be well scaled\n",
      "Constructing initial basis...\n",
      "Size of triangular part is 14432\n",
      "Solving LP relaxation...\n",
      "GLPK Simplex Optimizer 5.0\n",
      "14432 rows, 21705 columns, 28978 non-zeros\n",
      "*     0: obj =   9.376997127e+04 inf =   0.000e+00 (7045)\n",
      "*  7091: obj =   2.138314171e+04 inf =   0.000e+00 (0)\n",
      "OPTIMAL LP SOLUTION FOUND\n",
      "Integer optimization begins...\n",
      "Long-step dual simplex will be used\n",
      "+  7091: mip =     not found yet >=              -inf        (1; 0)\n",
      "+  7091: >>>>>   2.138314171e+04 >=   2.138314171e+04   0.0% (1; 0)\n",
      "+  7091: mip =   2.138314171e+04 >=     tree is empty   0.0% (0; 1)\n",
      "INTEGER OPTIMAL SOLUTION FOUND\n"
     ]
    },
    {
     "name": "stderr",
     "output_type": "stream",
     "text": [
      "[INFO][2023/08/22 03:02:22 pm] Ending BayesianTracker session\n",
      "[INFO][2023/08/22 03:02:22 pm] Opening HDF file: /home/dayn/data/homuncu_loc_temp/results/image analysis_Nathan/Job_1/DAPI-SPC-PDPN-ZO1/Day14_breath/20x_21-12-029B_A12346_Multichannel Z-Stack_20220819_298_sc_data.h5...\n",
      "[INFO][2023/08/22 03:02:22 pm] Writing objects/obj_type_1\n",
      "[INFO][2023/08/22 03:02:22 pm] Writing labels/obj_type_1\n",
      "[INFO][2023/08/22 03:02:22 pm] Loading objects/obj_type_1 (10041, 5) (10041 filtered: None)\n",
      "[INFO][2023/08/22 03:02:22 pm] Writing properties/obj_type_1/orientation (10041,)\n",
      "[INFO][2023/08/22 03:02:22 pm] Writing properties/obj_type_1/axis_major_length (10041,)\n",
      "[INFO][2023/08/22 03:02:22 pm] Writing properties/obj_type_1/mean_intensity (10041, 4)\n",
      "[INFO][2023/08/22 03:02:22 pm] Writing properties/obj_type_1/area (10041,)\n",
      "[INFO][2023/08/22 03:02:22 pm] Writing properties/obj_type_1/axis_minor_length (10041,)\n",
      "[INFO][2023/08/22 03:02:22 pm] Writing properties/obj_type_1/eccentricity (10041,)\n",
      "[INFO][2023/08/22 03:02:22 pm] Writing tracks/obj_type_1\n",
      "[INFO][2023/08/22 03:02:22 pm] Writing dummies/obj_type_1\n",
      "[INFO][2023/08/22 03:02:22 pm] Writing LBEP/obj_type_1\n",
      "[INFO][2023/08/22 03:02:22 pm] Writing fates/obj_type_1\n",
      "[INFO][2023/08/22 03:02:27 pm] Closing HDF file: /home/dayn/data/homuncu_loc_temp/results/image analysis_Nathan/Job_1/DAPI-SPC-PDPN-ZO1/Day14_breath/20x_21-12-029B_A12346_Multichannel Z-Stack_20220819_298_sc_data.h5\n"
     ]
    },
    {
     "data": {
      "application/vnd.jupyter.widget-view+json": {
       "model_id": "8cad249da45f43899a15bcb69a0c82d5",
       "version_major": 2,
       "version_minor": 0
      },
      "text/plain": [
       "Searching start directory for filename: 0it [00:00, ?it/s]"
      ]
     },
     "metadata": {},
     "output_type": "display_data"
    },
    {
     "name": "stderr",
     "output_type": "stream",
     "text": [
      "[INFO][2023/08/22 03:02:40 pm] Opening HDF file: /run/user/30046150/gvfs/smb-share:server=data2.thecrick.org,share=lab-gutierrezm/home/shared/Lung on Chip/image analysis_Nathan/results/run0/DAPI-SPC-PDPN-ZO1/Day14_static/20x_21-12-028A_A23456_Multichannel Z-Stack_20220818_246_z_tracks_masks.h5...\n",
      "[INFO][2023/08/22 03:02:40 pm] Loading objects/obj_type_1 (52314, 5) (52314 filtered: None)\n",
      "[INFO][2023/08/22 03:02:47 pm] Loading segmentation (81, 2304, 2304)\n",
      "[INFO][2023/08/22 03:02:47 pm] Closing HDF file: /run/user/30046150/gvfs/smb-share:server=data2.thecrick.org,share=lab-gutierrezm/home/shared/Lung on Chip/image analysis_Nathan/results/run0/DAPI-SPC-PDPN-ZO1/Day14_static/20x_21-12-028A_A23456_Multichannel Z-Stack_20220818_246_z_tracks_masks.h5\n",
      "[INFO][2023/08/22 03:02:47 pm] Loaded btrack: /home/dayn/analysis/btrack/btrack/libs/libtracker.so\n",
      "[INFO][2023/08/22 03:02:47 pm] Starting BayesianTracker session\n",
      "[INFO][2023/08/22 03:02:47 pm] Loading configuration file: /home/dayn/analysis/models/loc.json\n",
      "[INFO][2023/08/22 03:02:47 pm] Objects are of type: <class 'list'>\n",
      "[INFO][2023/08/22 03:02:49 pm] Starting tracking... \n",
      "[INFO][2023/08/22 03:02:49 pm] Update using: ['MOTION', 'VISUAL']\n",
      "[INFO][2023/08/22 03:02:49 pm] Tracking objects in frames 0 to 9 (of 49)...\n",
      "[INFO][2023/08/22 03:21:58 pm]  - Timing (Bayesian updates: 82841.21ms, Linking: 111.82ms)\n",
      "[INFO][2023/08/22 03:21:58 pm]  - Probabilities (Link: 1.00000, Lost: 0.51683)\n",
      "[INFO][2023/08/22 03:21:58 pm]  - Stats (Active: 5749, Lost: 1588, Conflicts resolved: 11200)\n",
      "[INFO][2023/08/22 03:21:58 pm] Tracking objects in frames 10 to 19 (of 49)...\n",
      "[INFO][2023/08/22 03:24:05 pm]  - Timing (Bayesian updates: 0.43ms, Linking: 0.41ms)\n",
      "[INFO][2023/08/22 03:24:05 pm]  - Probabilities (Link: 1.00000, Lost: 1.00000)\n",
      "[INFO][2023/08/22 03:24:05 pm]  - Stats (Active: 173, Lost: 37418, Conflicts resolved: 12187)\n",
      "[INFO][2023/08/22 03:24:05 pm] Tracking objects in frames 20 to 29 (of 49)...\n",
      "[INFO][2023/08/22 03:24:05 pm]  - Timing (Bayesian updates: 9.80ms, Linking: 1.39ms)\n",
      "[INFO][2023/08/22 03:24:05 pm]  - Probabilities (Link: 0.27213, Lost: 1.00000)\n",
      "[INFO][2023/08/22 03:24:05 pm] SUCCESS.\n",
      "[INFO][2023/08/22 03:24:05 pm]  - Found 11279 tracks in 49 frames (in 0.0s)\n",
      "[INFO][2023/08/22 03:24:05 pm]  - Inserted 1485 dummy objects to fill tracking gaps\n",
      "[INFO][2023/08/22 03:24:05 pm] Loading hypothesis model: particle_hypothesis\n",
      "[INFO][2023/08/22 03:24:05 pm] Calculating hypotheses (relax: True)...\n",
      "[INFO][2023/08/22 03:24:05 pm] Setting up constraints matrix for global optimisation...\n",
      "[INFO][2023/08/22 03:24:05 pm] Using GLPK options: {'tm_lim': 60000}...\n",
      "[INFO][2023/08/22 03:24:06 pm] Optimizing...\n",
      "[INFO][2023/08/22 03:24:09 pm] Optimization complete. (Solution: optimal)\n",
      "[INFO][2023/08/22 03:24:09 pm]  - Fates.FALSE_POSITIVE: 7611 (of 11279)\n",
      "[INFO][2023/08/22 03:24:09 pm]  - Fates.LINK: 36 (of 64)\n",
      "[INFO][2023/08/22 03:24:09 pm]  - Fates.INITIALIZE_BORDER: 252 (of 575)\n",
      "[INFO][2023/08/22 03:24:09 pm]  - Fates.INITIALIZE_LAZY: 3380 (of 10704)\n",
      "[INFO][2023/08/22 03:24:09 pm]  - Fates.TERMINATE_BORDER: 230 (of 492)\n",
      "[INFO][2023/08/22 03:24:09 pm]  - Fates.TERMINATE_BACK: 22 (of 461)\n",
      "[INFO][2023/08/22 03:24:09 pm]  - Fates.TERMINATE_LAZY: 3380 (of 10326)\n",
      "[INFO][2023/08/22 03:24:09 pm]  - TOTAL: 33901 hypotheses\n",
      "[INFO][2023/08/22 03:24:09 pm] Completed optimization with 11243 tracks\n"
     ]
    },
    {
     "name": "stdout",
     "output_type": "stream",
     "text": [
      "GLPK Integer Optimizer 5.0\n",
      "45116 rows, 33901 columns, 45244 non-zeros\n",
      "33901 integer variables, all of which are binary\n",
      "Preprocessing...\n",
      "22558 rows, 33901 columns, 45244 non-zeros\n",
      "33901 integer variables, all of which are binary\n",
      "Scaling...\n",
      " A: min|aij| =  1.000e+00  max|aij| =  1.000e+00  ratio =  1.000e+00\n",
      "Problem data seem to be well scaled\n",
      "Constructing initial basis...\n",
      "Size of triangular part is 22558\n",
      "Solving LP relaxation...\n",
      "GLPK Simplex Optimizer 5.0\n",
      "22558 rows, 33901 columns, 45244 non-zeros\n",
      "*     0: obj =   1.443339381e+05 inf =   0.000e+00 (7712)\n",
      "*  7741: obj =   7.573184920e+04 inf =   0.000e+00 (0)\n",
      "OPTIMAL LP SOLUTION FOUND\n",
      "Integer optimization begins...\n",
      "Long-step dual simplex will be used\n",
      "+  7741: mip =     not found yet >=              -inf        (1; 0)\n",
      "+  7741: >>>>>   7.573184920e+04 >=   7.573184920e+04   0.0% (1; 0)\n",
      "+  7741: mip =   7.573184920e+04 >=     tree is empty   0.0% (0; 1)\n",
      "INTEGER OPTIMAL SOLUTION FOUND\n"
     ]
    },
    {
     "name": "stderr",
     "output_type": "stream",
     "text": [
      "[INFO][2023/08/22 03:24:10 pm] Ending BayesianTracker session\n",
      "[INFO][2023/08/22 03:24:10 pm] Opening HDF file: /home/dayn/data/homuncu_loc_temp/results/image analysis_Nathan/Job_1/DAPI-SPC-PDPN-ZO1/Day14_static/20x_21-12-028A_A23456_Multichannel Z-Stack_20220818_246_sc_data.h5...\n",
      "[INFO][2023/08/22 03:24:10 pm] Writing objects/obj_type_1\n",
      "[INFO][2023/08/22 03:24:10 pm] Writing labels/obj_type_1\n",
      "[INFO][2023/08/22 03:24:10 pm] Loading objects/obj_type_1 (46093, 5) (46093 filtered: None)\n",
      "[INFO][2023/08/22 03:24:11 pm] Writing properties/obj_type_1/orientation (46093,)\n",
      "[INFO][2023/08/22 03:24:11 pm] Writing properties/obj_type_1/axis_major_length (46093,)\n",
      "[INFO][2023/08/22 03:24:11 pm] Writing properties/obj_type_1/mean_intensity (46093, 4)\n",
      "[INFO][2023/08/22 03:24:11 pm] Writing properties/obj_type_1/area (46093,)\n",
      "[INFO][2023/08/22 03:24:11 pm] Writing properties/obj_type_1/axis_minor_length (46093,)\n",
      "[INFO][2023/08/22 03:24:11 pm] Writing properties/obj_type_1/eccentricity (46093,)\n",
      "[INFO][2023/08/22 03:24:11 pm] Writing tracks/obj_type_1\n",
      "[INFO][2023/08/22 03:24:11 pm] Writing dummies/obj_type_1\n",
      "[INFO][2023/08/22 03:24:11 pm] Writing LBEP/obj_type_1\n",
      "[INFO][2023/08/22 03:24:11 pm] Writing fates/obj_type_1\n",
      "[INFO][2023/08/22 03:24:14 pm] Closing HDF file: /home/dayn/data/homuncu_loc_temp/results/image analysis_Nathan/Job_1/DAPI-SPC-PDPN-ZO1/Day14_static/20x_21-12-028A_A23456_Multichannel Z-Stack_20220818_246_sc_data.h5\n"
     ]
    },
    {
     "data": {
      "application/vnd.jupyter.widget-view+json": {
       "model_id": "f90412bdc771436596cf2c9a149096c4",
       "version_major": 2,
       "version_minor": 0
      },
      "text/plain": [
       "Searching start directory for filename: 0it [00:00, ?it/s]"
      ]
     },
     "metadata": {},
     "output_type": "display_data"
    },
    {
     "name": "stderr",
     "output_type": "stream",
     "text": [
      "[INFO][2023/08/22 03:24:23 pm] Opening HDF file: /run/user/30046150/gvfs/smb-share:server=data2.thecrick.org,share=lab-gutierrezm/home/shared/Lung on Chip/image analysis_Nathan/results/run0/DAPI-SPC-PDPN-ZO1/Day14_static/20x_21-12-028A_A23456_Multichannel Z-Stack_20220818_245_z_tracks_masks.h5...\n",
      "[INFO][2023/08/22 03:24:23 pm] Loading objects/obj_type_1 (53979, 5) (53979 filtered: None)\n",
      "[INFO][2023/08/22 03:24:26 pm] Loading segmentation (81, 2304, 2304)\n",
      "[INFO][2023/08/22 03:24:26 pm] Closing HDF file: /run/user/30046150/gvfs/smb-share:server=data2.thecrick.org,share=lab-gutierrezm/home/shared/Lung on Chip/image analysis_Nathan/results/run0/DAPI-SPC-PDPN-ZO1/Day14_static/20x_21-12-028A_A23456_Multichannel Z-Stack_20220818_245_z_tracks_masks.h5\n",
      "[INFO][2023/08/22 03:24:26 pm] Loaded btrack: /home/dayn/analysis/btrack/btrack/libs/libtracker.so\n",
      "[INFO][2023/08/22 03:24:26 pm] Starting BayesianTracker session\n",
      "[INFO][2023/08/22 03:24:26 pm] Loading configuration file: /home/dayn/analysis/models/loc.json\n",
      "[INFO][2023/08/22 03:24:26 pm] Objects are of type: <class 'list'>\n",
      "[INFO][2023/08/22 03:24:28 pm] Starting tracking... \n",
      "[INFO][2023/08/22 03:24:28 pm] Update using: ['MOTION', 'VISUAL']\n",
      "[INFO][2023/08/22 03:24:28 pm] Tracking objects in frames 0 to 9 (of 50)...\n",
      "[INFO][2023/08/22 03:45:43 pm]  - Timing (Bayesian updates: 85166.34ms, Linking: 118.73ms)\n",
      "[INFO][2023/08/22 03:45:43 pm]  - Probabilities (Link: 0.99999, Lost: 1.00000)\n",
      "[INFO][2023/08/22 03:45:43 pm]  - Stats (Active: 6356, Lost: 1474, Conflicts resolved: 10967)\n",
      "[INFO][2023/08/22 03:45:43 pm] Tracking objects in frames 10 to 19 (of 50)...\n",
      "[INFO][2023/08/22 03:46:56 pm]  - Timing (Bayesian updates: 10.27ms, Linking: 2.68ms)\n",
      "[INFO][2023/08/22 03:46:56 pm]  - Probabilities (Link: 1.00000, Lost: 1.00000)\n",
      "[INFO][2023/08/22 03:46:56 pm]  - Stats (Active: 652, Lost: 39199, Conflicts resolved: 11850)\n",
      "[INFO][2023/08/22 03:46:56 pm] Tracking objects in frames 20 to 29 (of 50)...\n",
      "[INFO][2023/08/22 03:46:57 pm]  - Timing (Bayesian updates: 0.06ms, Linking: 0.54ms)\n",
      "[INFO][2023/08/22 03:46:57 pm]  - Probabilities (Link: 0.96021, Lost: 1.00000)\n",
      "[INFO][2023/08/22 03:46:57 pm] SUCCESS.\n",
      "[INFO][2023/08/22 03:46:57 pm]  - Found 11492 tracks in 50 frames (in 0.0s)\n",
      "[INFO][2023/08/22 03:46:57 pm]  - Inserted 1394 dummy objects to fill tracking gaps\n",
      "[INFO][2023/08/22 03:46:57 pm] Loading hypothesis model: particle_hypothesis\n",
      "[INFO][2023/08/22 03:46:57 pm] Calculating hypotheses (relax: True)...\n",
      "[INFO][2023/08/22 03:46:57 pm] Setting up constraints matrix for global optimisation...\n",
      "[INFO][2023/08/22 03:46:57 pm] Using GLPK options: {'tm_lim': 60000}...\n",
      "[INFO][2023/08/22 03:46:57 pm] Optimizing...\n",
      "[INFO][2023/08/22 03:47:02 pm] Optimization complete. (Solution: optimal)\n",
      "[INFO][2023/08/22 03:47:02 pm]  - Fates.FALSE_POSITIVE: 7347 (of 11492)\n",
      "[INFO][2023/08/22 03:47:02 pm]  - Fates.LINK: 40 (of 72)\n",
      "[INFO][2023/08/22 03:47:02 pm]  - Fates.INITIALIZE_BORDER: 285 (of 574)\n",
      "[INFO][2023/08/22 03:47:02 pm]  - Fates.INITIALIZE_LAZY: 3820 (of 10918)\n",
      "[INFO][2023/08/22 03:47:02 pm]  - Fates.TERMINATE_BORDER: 271 (of 544)\n",
      "[INFO][2023/08/22 03:47:02 pm]  - Fates.TERMINATE_BACK: 12 (of 97)\n",
      "[INFO][2023/08/22 03:47:02 pm]  - Fates.TERMINATE_LAZY: 3822 (of 10851)\n",
      "[INFO][2023/08/22 03:47:02 pm]  - TOTAL: 34548 hypotheses\n",
      "[INFO][2023/08/22 03:47:02 pm] Completed optimization with 11452 tracks\n"
     ]
    },
    {
     "name": "stdout",
     "output_type": "stream",
     "text": [
      "GLPK Integer Optimizer 5.0\n",
      "45968 rows, 34548 columns, 46112 non-zeros\n",
      "34548 integer variables, all of which are binary\n",
      "Preprocessing...\n",
      "22984 rows, 34548 columns, 46112 non-zeros\n",
      "34548 integer variables, all of which are binary\n",
      "Scaling...\n",
      " A: min|aij| =  1.000e+00  max|aij| =  1.000e+00  ratio =  1.000e+00\n",
      "Problem data seem to be well scaled\n",
      "Constructing initial basis...\n",
      "Size of triangular part is 22984\n",
      "Solving LP relaxation...\n",
      "GLPK Simplex Optimizer 5.0\n",
      "22984 rows, 34548 columns, 46112 non-zeros\n",
      "*     0: obj =   1.492783096e+05 inf =   0.000e+00 (7459)\n",
      "*  7488: obj =   8.018798196e+04 inf =   0.000e+00 (0)\n",
      "OPTIMAL LP SOLUTION FOUND\n",
      "Integer optimization begins...\n",
      "Long-step dual simplex will be used\n",
      "+  7488: mip =     not found yet >=              -inf        (1; 0)\n",
      "+  7488: >>>>>   8.018798196e+04 >=   8.018798196e+04   0.0% (1; 0)\n",
      "+  7488: mip =   8.018798196e+04 >=     tree is empty   0.0% (0; 1)\n",
      "INTEGER OPTIMAL SOLUTION FOUND\n"
     ]
    },
    {
     "name": "stderr",
     "output_type": "stream",
     "text": [
      "[INFO][2023/08/22 03:47:03 pm] Ending BayesianTracker session\n",
      "[INFO][2023/08/22 03:47:03 pm] Opening HDF file: /home/dayn/data/homuncu_loc_temp/results/image analysis_Nathan/Job_1/DAPI-SPC-PDPN-ZO1/Day14_static/20x_21-12-028A_A23456_Multichannel Z-Stack_20220818_245_sc_data.h5...\n",
      "[INFO][2023/08/22 03:47:04 pm] Writing objects/obj_type_1\n",
      "[INFO][2023/08/22 03:47:04 pm] Writing labels/obj_type_1\n",
      "[INFO][2023/08/22 03:47:04 pm] Loading objects/obj_type_1 (47775, 5) (47775 filtered: None)\n",
      "[INFO][2023/08/22 03:47:04 pm] Writing properties/obj_type_1/orientation (47775,)\n",
      "[INFO][2023/08/22 03:47:04 pm] Writing properties/obj_type_1/axis_major_length (47775,)\n",
      "[INFO][2023/08/22 03:47:04 pm] Writing properties/obj_type_1/mean_intensity (47775, 4)\n",
      "[INFO][2023/08/22 03:47:04 pm] Writing properties/obj_type_1/area (47775,)\n",
      "[INFO][2023/08/22 03:47:04 pm] Writing properties/obj_type_1/axis_minor_length (47775,)\n",
      "[INFO][2023/08/22 03:47:04 pm] Writing properties/obj_type_1/eccentricity (47775,)\n",
      "[INFO][2023/08/22 03:47:04 pm] Writing tracks/obj_type_1\n",
      "[INFO][2023/08/22 03:47:04 pm] Writing dummies/obj_type_1\n",
      "[INFO][2023/08/22 03:47:04 pm] Writing LBEP/obj_type_1\n",
      "[INFO][2023/08/22 03:47:04 pm] Writing fates/obj_type_1\n",
      "[INFO][2023/08/22 03:47:08 pm] Closing HDF file: /home/dayn/data/homuncu_loc_temp/results/image analysis_Nathan/Job_1/DAPI-SPC-PDPN-ZO1/Day14_static/20x_21-12-028A_A23456_Multichannel Z-Stack_20220818_245_sc_data.h5\n"
     ]
    },
    {
     "data": {
      "application/vnd.jupyter.widget-view+json": {
       "model_id": "317f93ce5e144145b93fcc58e0ecb2af",
       "version_major": 2,
       "version_minor": 0
      },
      "text/plain": [
       "Searching start directory for filename: 0it [00:00, ?it/s]"
      ]
     },
     "metadata": {},
     "output_type": "display_data"
    },
    {
     "name": "stderr",
     "output_type": "stream",
     "text": [
      "[INFO][2023/08/22 03:47:14 pm] Opening HDF file: /run/user/30046150/gvfs/smb-share:server=data2.thecrick.org,share=lab-gutierrezm/home/shared/Lung on Chip/image analysis_Nathan/results/run0/DAPI-SPC-PDPN-ZO1/Day14_static/20x_21-12-028A_A23456_Multichannel Z-Stack_20220818_244_z_tracks_masks.h5...\n",
      "[INFO][2023/08/22 03:47:15 pm] Loading objects/obj_type_1 (54625, 5) (54625 filtered: None)\n",
      "[INFO][2023/08/22 03:47:19 pm] Loading segmentation (81, 2304, 2304)\n",
      "[INFO][2023/08/22 03:47:19 pm] Closing HDF file: /run/user/30046150/gvfs/smb-share:server=data2.thecrick.org,share=lab-gutierrezm/home/shared/Lung on Chip/image analysis_Nathan/results/run0/DAPI-SPC-PDPN-ZO1/Day14_static/20x_21-12-028A_A23456_Multichannel Z-Stack_20220818_244_z_tracks_masks.h5\n",
      "[INFO][2023/08/22 03:47:19 pm] Loaded btrack: /home/dayn/analysis/btrack/btrack/libs/libtracker.so\n",
      "[INFO][2023/08/22 03:47:19 pm] Starting BayesianTracker session\n",
      "[INFO][2023/08/22 03:47:19 pm] Loading configuration file: /home/dayn/analysis/models/loc.json\n",
      "[INFO][2023/08/22 03:47:19 pm] Objects are of type: <class 'list'>\n",
      "[INFO][2023/08/22 03:47:20 pm] Starting tracking... \n",
      "[INFO][2023/08/22 03:47:20 pm] Update using: ['MOTION', 'VISUAL']\n",
      "[INFO][2023/08/22 03:47:20 pm] Tracking objects in frames 0 to 9 (of 50)...\n",
      "[INFO][2023/08/22 04:08:09 pm]  - Timing (Bayesian updates: 98206.66ms, Linking: 125.41ms)\n",
      "[INFO][2023/08/22 04:08:09 pm]  - Probabilities (Link: 1.00000, Lost: 0.99824)\n",
      "[INFO][2023/08/22 04:08:09 pm]  - Stats (Active: 6184, Lost: 1279, Conflicts resolved: 10786)\n",
      "[INFO][2023/08/22 04:08:09 pm] Tracking objects in frames 10 to 19 (of 50)...\n",
      "[INFO][2023/08/22 04:10:42 pm]  - Timing (Bayesian updates: 4.14ms, Linking: 0.94ms)\n",
      "[INFO][2023/08/22 04:10:42 pm]  - Probabilities (Link: 1.00000, Lost: 1.00000)\n",
      "[INFO][2023/08/22 04:10:42 pm]  - Stats (Active: 254, Lost: 39258, Conflicts resolved: 11842)\n",
      "[INFO][2023/08/22 04:10:42 pm] Tracking objects in frames 20 to 29 (of 50)...\n",
      "[INFO][2023/08/22 04:10:42 pm]  - Timing (Bayesian updates: 0.51ms, Linking: 0.30ms)\n",
      "[INFO][2023/08/22 04:10:42 pm]  - Probabilities (Link: 1.00000, Lost: 1.00000)\n",
      "[INFO][2023/08/22 04:10:42 pm] SUCCESS.\n",
      "[INFO][2023/08/22 04:10:42 pm]  - Found 11079 tracks in 50 frames (in 0.0s)\n",
      "[INFO][2023/08/22 04:10:42 pm]  - Inserted 1386 dummy objects to fill tracking gaps\n",
      "[INFO][2023/08/22 04:10:42 pm] Loading hypothesis model: particle_hypothesis\n",
      "[INFO][2023/08/22 04:10:42 pm] Calculating hypotheses (relax: True)...\n",
      "[INFO][2023/08/22 04:10:42 pm] Setting up constraints matrix for global optimisation...\n",
      "[INFO][2023/08/22 04:10:42 pm] Using GLPK options: {'tm_lim': 60000}...\n",
      "[INFO][2023/08/22 04:10:43 pm] Optimizing...\n",
      "[INFO][2023/08/22 04:10:46 pm] Optimization complete. (Solution: optimal)\n",
      "[INFO][2023/08/22 04:10:46 pm]  - Fates.FALSE_POSITIVE: 6953 (of 11079)\n",
      "[INFO][2023/08/22 04:10:46 pm]  - Fates.LINK: 50 (of 67)\n",
      "[INFO][2023/08/22 04:10:46 pm]  - Fates.INITIALIZE_BORDER: 252 (of 530)\n",
      "[INFO][2023/08/22 04:10:46 pm]  - Fates.INITIALIZE_LAZY: 3824 (of 10549)\n",
      "[INFO][2023/08/22 04:10:46 pm]  - Fates.TERMINATE_BORDER: 237 (of 506)\n",
      "[INFO][2023/08/22 04:10:46 pm]  - Fates.TERMINATE_BACK: 10 (of 86)\n",
      "[INFO][2023/08/22 04:10:46 pm]  - Fates.TERMINATE_LAZY: 3829 (of 10487)\n",
      "[INFO][2023/08/22 04:10:46 pm]  - TOTAL: 33304 hypotheses\n",
      "[INFO][2023/08/22 04:10:46 pm] Completed optimization with 11029 tracks\n"
     ]
    },
    {
     "name": "stdout",
     "output_type": "stream",
     "text": [
      "GLPK Integer Optimizer 5.0\n",
      "44316 rows, 33304 columns, 44450 non-zeros\n",
      "33304 integer variables, all of which are binary\n",
      "Preprocessing...\n",
      "22158 rows, 33304 columns, 44450 non-zeros\n",
      "33304 integer variables, all of which are binary\n",
      "Scaling...\n",
      " A: min|aij| =  1.000e+00  max|aij| =  1.000e+00  ratio =  1.000e+00\n",
      "Problem data seem to be well scaled\n",
      "Constructing initial basis...\n",
      "Size of triangular part is 22158\n",
      "Solving LP relaxation...\n",
      "GLPK Simplex Optimizer 5.0\n",
      "22158 rows, 33304 columns, 44450 non-zeros\n",
      "*     0: obj =   1.442853479e+05 inf =   0.000e+00 (7072)\n",
      "*  7088: obj =   7.990684565e+04 inf =   0.000e+00 (0)\n",
      "OPTIMAL LP SOLUTION FOUND\n",
      "Integer optimization begins...\n",
      "Long-step dual simplex will be used\n",
      "+  7088: mip =     not found yet >=              -inf        (1; 0)\n",
      "+  7088: >>>>>   7.990684565e+04 >=   7.990684565e+04   0.0% (1; 0)\n",
      "+  7088: mip =   7.990684565e+04 >=     tree is empty   0.0% (0; 1)\n",
      "INTEGER OPTIMAL SOLUTION FOUND\n"
     ]
    },
    {
     "name": "stderr",
     "output_type": "stream",
     "text": [
      "[INFO][2023/08/22 04:10:46 pm] Ending BayesianTracker session\n",
      "[INFO][2023/08/22 04:10:47 pm] Opening HDF file: /home/dayn/data/homuncu_loc_temp/results/image analysis_Nathan/Job_1/DAPI-SPC-PDPN-ZO1/Day14_static/20x_21-12-028A_A23456_Multichannel Z-Stack_20220818_244_sc_data.h5...\n",
      "[INFO][2023/08/22 04:10:47 pm] Writing objects/obj_type_1\n",
      "[INFO][2023/08/22 04:10:47 pm] Writing labels/obj_type_1\n",
      "[INFO][2023/08/22 04:10:47 pm] Loading objects/obj_type_1 (48792, 5) (48792 filtered: None)\n",
      "[INFO][2023/08/22 04:10:48 pm] Writing properties/obj_type_1/orientation (48792,)\n",
      "[INFO][2023/08/22 04:10:48 pm] Writing properties/obj_type_1/axis_major_length (48792,)\n",
      "[INFO][2023/08/22 04:10:48 pm] Writing properties/obj_type_1/mean_intensity (48792, 4)\n",
      "[INFO][2023/08/22 04:10:48 pm] Writing properties/obj_type_1/area (48792,)\n",
      "[INFO][2023/08/22 04:10:48 pm] Writing properties/obj_type_1/axis_minor_length (48792,)\n",
      "[INFO][2023/08/22 04:10:48 pm] Writing properties/obj_type_1/eccentricity (48792,)\n",
      "[INFO][2023/08/22 04:10:48 pm] Writing tracks/obj_type_1\n",
      "[INFO][2023/08/22 04:10:48 pm] Writing dummies/obj_type_1\n",
      "[INFO][2023/08/22 04:10:48 pm] Writing LBEP/obj_type_1\n",
      "[INFO][2023/08/22 04:10:48 pm] Writing fates/obj_type_1\n",
      "[INFO][2023/08/22 04:10:52 pm] Closing HDF file: /home/dayn/data/homuncu_loc_temp/results/image analysis_Nathan/Job_1/DAPI-SPC-PDPN-ZO1/Day14_static/20x_21-12-028A_A23456_Multichannel Z-Stack_20220818_244_sc_data.h5\n"
     ]
    },
    {
     "data": {
      "application/vnd.jupyter.widget-view+json": {
       "model_id": "d0d4a0cd797843649e00879b2afde263",
       "version_major": 2,
       "version_minor": 0
      },
      "text/plain": [
       "Searching start directory for filename: 0it [00:00, ?it/s]"
      ]
     },
     "metadata": {},
     "output_type": "display_data"
    },
    {
     "name": "stderr",
     "output_type": "stream",
     "text": [
      "[INFO][2023/08/22 04:10:58 pm] Opening HDF file: /run/user/30046150/gvfs/smb-share:server=data2.thecrick.org,share=lab-gutierrezm/home/shared/Lung on Chip/image analysis_Nathan/results/run0/DAPI-SPC-PDPN-ZO1/Day7_breath/20x_21-12-029A_A3456_Multichannel Z-Stack_20220818_196_z_tracks_masks.h5...\n",
      "[INFO][2023/08/22 04:10:58 pm] Loading objects/obj_type_1 (68006, 5) (68006 filtered: None)\n",
      "[INFO][2023/08/22 04:11:01 pm] Loading segmentation (81, 2304, 2304)\n",
      "[INFO][2023/08/22 04:11:01 pm] Closing HDF file: /run/user/30046150/gvfs/smb-share:server=data2.thecrick.org,share=lab-gutierrezm/home/shared/Lung on Chip/image analysis_Nathan/results/run0/DAPI-SPC-PDPN-ZO1/Day7_breath/20x_21-12-029A_A3456_Multichannel Z-Stack_20220818_196_z_tracks_masks.h5\n",
      "[INFO][2023/08/22 04:11:01 pm] Loaded btrack: /home/dayn/analysis/btrack/btrack/libs/libtracker.so\n",
      "[INFO][2023/08/22 04:11:01 pm] Starting BayesianTracker session\n",
      "[INFO][2023/08/22 04:11:01 pm] Loading configuration file: /home/dayn/analysis/models/loc.json\n",
      "[INFO][2023/08/22 04:11:01 pm] Objects are of type: <class 'list'>\n",
      "[INFO][2023/08/22 04:11:03 pm] Starting tracking... \n",
      "[INFO][2023/08/22 04:11:03 pm] Update using: ['MOTION', 'VISUAL']\n",
      "[INFO][2023/08/22 04:11:21 pm] Tracking objects in frames 0 to 9 (of 64)...\n",
      "[INFO][2023/08/22 04:28:07 pm]  - Timing (Bayesian updates: 67849.05ms, Linking: 103.99ms)\n",
      "[INFO][2023/08/22 04:28:07 pm]  - Probabilities (Link: 1.00000, Lost: 1.00000)\n",
      "[INFO][2023/08/22 04:28:07 pm]  - Stats (Active: 5867, Lost: 2042, Conflicts resolved: 10914)\n",
      "[INFO][2023/08/22 04:28:07 pm] Tracking objects in frames 10 to 19 (of 64)...\n",
      "[INFO][2023/08/22 04:30:44 pm]  - Timing (Bayesian updates: 465.14ms, Linking: 9.34ms)\n",
      "[INFO][2023/08/22 04:30:44 pm]  - Probabilities (Link: 1.00000, Lost: 0.99551)\n",
      "[INFO][2023/08/22 04:30:44 pm]  - Stats (Active: 982, Lost: 31343, Conflicts resolved: 13707)\n",
      "[INFO][2023/08/22 04:30:44 pm] Tracking objects in frames 20 to 29 (of 64)...\n",
      "[INFO][2023/08/22 04:31:00 pm]  - Timing (Bayesian updates: 43.42ms, Linking: 5.48ms)\n",
      "[INFO][2023/08/22 04:31:00 pm]  - Probabilities (Link: 1.00000, Lost: 1.00000)\n",
      "[INFO][2023/08/22 04:31:00 pm] SUCCESS.\n",
      "[INFO][2023/08/22 04:31:00 pm]  - Found 13234 tracks in 64 frames (in 0.0s)\n",
      "[INFO][2023/08/22 04:31:00 pm]  - Inserted 1722 dummy objects to fill tracking gaps\n",
      "[INFO][2023/08/22 04:31:00 pm] Loading hypothesis model: particle_hypothesis\n",
      "[INFO][2023/08/22 04:31:00 pm] Calculating hypotheses (relax: True)...\n",
      "[INFO][2023/08/22 04:31:00 pm] Setting up constraints matrix for global optimisation...\n",
      "[INFO][2023/08/22 04:31:00 pm] Using GLPK options: {'tm_lim': 60000}...\n",
      "[INFO][2023/08/22 04:31:01 pm] Optimizing...\n",
      "[INFO][2023/08/22 04:31:06 pm] Optimization complete. (Solution: optimal)\n",
      "[INFO][2023/08/22 04:31:06 pm]  - Fates.FALSE_POSITIVE: 8401 (of 13234)\n",
      "[INFO][2023/08/22 04:31:06 pm]  - Fates.LINK: 34 (of 78)\n",
      "[INFO][2023/08/22 04:31:06 pm]  - Fates.INITIALIZE_BORDER: 279 (of 518)\n",
      "[INFO][2023/08/22 04:31:06 pm]  - Fates.INITIALIZE_LAZY: 4520 (of 12716)\n",
      "[INFO][2023/08/22 04:31:06 pm]  - Fates.TERMINATE_BORDER: 255 (of 485)\n",
      "[INFO][2023/08/22 04:31:06 pm]  - Fates.TERMINATE_BACK: 798 (of 976)\n",
      "[INFO][2023/08/22 04:31:06 pm]  - Fates.TERMINATE_LAZY: 3746 (of 11773)\n",
      "[INFO][2023/08/22 04:31:06 pm]  - TOTAL: 39780 hypotheses\n",
      "[INFO][2023/08/22 04:31:06 pm] Completed optimization with 13200 tracks\n"
     ]
    },
    {
     "name": "stdout",
     "output_type": "stream",
     "text": [
      "GLPK Integer Optimizer 5.0\n",
      "52936 rows, 39780 columns, 53092 non-zeros\n",
      "39780 integer variables, all of which are binary\n",
      "Preprocessing...\n",
      "26468 rows, 39780 columns, 53092 non-zeros\n",
      "39780 integer variables, all of which are binary\n",
      "Scaling...\n",
      " A: min|aij| =  1.000e+00  max|aij| =  1.000e+00  ratio =  1.000e+00\n",
      "Problem data seem to be well scaled\n",
      "Constructing initial basis...\n",
      "Size of triangular part is 26468\n",
      "Solving LP relaxation...\n",
      "GLPK Simplex Optimizer 5.0\n",
      "26468 rows, 39780 columns, 53092 non-zeros\n",
      "*     0: obj =   1.678691455e+05 inf =   0.000e+00 (8517)\n",
      "*  8561: obj =   9.269630855e+04 inf =   0.000e+00 (0)\n",
      "OPTIMAL LP SOLUTION FOUND\n",
      "Integer optimization begins...\n",
      "Long-step dual simplex will be used\n",
      "+  8561: mip =     not found yet >=              -inf        (1; 0)\n",
      "+  8561: >>>>>   9.269630855e+04 >=   9.269630855e+04   0.0% (1; 0)\n",
      "+  8561: mip =   9.269630855e+04 >=     tree is empty   0.0% (0; 1)\n",
      "INTEGER OPTIMAL SOLUTION FOUND\n"
     ]
    },
    {
     "name": "stderr",
     "output_type": "stream",
     "text": [
      "[INFO][2023/08/22 04:31:06 pm] Ending BayesianTracker session\n",
      "[INFO][2023/08/22 04:31:07 pm] Opening HDF file: /home/dayn/data/homuncu_loc_temp/results/image analysis_Nathan/Job_1/DAPI-SPC-PDPN-ZO1/Day7_breath/20x_21-12-029A_A3456_Multichannel Z-Stack_20220818_196_sc_data.h5...\n",
      "[INFO][2023/08/22 04:31:07 pm] Writing objects/obj_type_1\n",
      "[INFO][2023/08/22 04:31:07 pm] Writing labels/obj_type_1\n",
      "[INFO][2023/08/22 04:31:07 pm] Loading objects/obj_type_1 (60847, 5) (60847 filtered: None)\n",
      "[INFO][2023/08/22 04:31:08 pm] Writing properties/obj_type_1/orientation (60847,)\n",
      "[INFO][2023/08/22 04:31:08 pm] Writing properties/obj_type_1/axis_major_length (60847,)\n",
      "[INFO][2023/08/22 04:31:08 pm] Writing properties/obj_type_1/mean_intensity (60847, 4)\n",
      "[INFO][2023/08/22 04:31:08 pm] Writing properties/obj_type_1/area (60847,)\n",
      "[INFO][2023/08/22 04:31:08 pm] Writing properties/obj_type_1/axis_minor_length (60847,)\n",
      "[INFO][2023/08/22 04:31:08 pm] Writing properties/obj_type_1/eccentricity (60847,)\n",
      "[INFO][2023/08/22 04:31:08 pm] Writing tracks/obj_type_1\n",
      "[INFO][2023/08/22 04:31:08 pm] Writing dummies/obj_type_1\n",
      "[INFO][2023/08/22 04:31:08 pm] Writing LBEP/obj_type_1\n",
      "[INFO][2023/08/22 04:31:08 pm] Writing fates/obj_type_1\n",
      "[INFO][2023/08/22 04:31:12 pm] Closing HDF file: /home/dayn/data/homuncu_loc_temp/results/image analysis_Nathan/Job_1/DAPI-SPC-PDPN-ZO1/Day7_breath/20x_21-12-029A_A3456_Multichannel Z-Stack_20220818_196_sc_data.h5\n"
     ]
    },
    {
     "data": {
      "application/vnd.jupyter.widget-view+json": {
       "model_id": "aa395586553b4f869d5cccd86f6e0d40",
       "version_major": 2,
       "version_minor": 0
      },
      "text/plain": [
       "Searching start directory for filename: 0it [00:00, ?it/s]"
      ]
     },
     "metadata": {},
     "output_type": "display_data"
    },
    {
     "name": "stderr",
     "output_type": "stream",
     "text": [
      "[INFO][2023/08/22 04:31:18 pm] Opening HDF file: /run/user/30046150/gvfs/smb-share:server=data2.thecrick.org,share=lab-gutierrezm/home/shared/Lung on Chip/image analysis_Nathan/results/run0/DAPI-SPC-PDPN-ZO1/Day7_breath/20x_21-12-029A_A3456_Multichannel Z-Stack_20220818_195_z_tracks_masks.h5...\n",
      "[INFO][2023/08/22 04:31:18 pm] Loading objects/obj_type_1 (71466, 5) (71466 filtered: None)\n",
      "[INFO][2023/08/22 04:31:22 pm] Loading segmentation (81, 2304, 2304)\n",
      "[INFO][2023/08/22 04:31:22 pm] Closing HDF file: /run/user/30046150/gvfs/smb-share:server=data2.thecrick.org,share=lab-gutierrezm/home/shared/Lung on Chip/image analysis_Nathan/results/run0/DAPI-SPC-PDPN-ZO1/Day7_breath/20x_21-12-029A_A3456_Multichannel Z-Stack_20220818_195_z_tracks_masks.h5\n",
      "[INFO][2023/08/22 04:31:22 pm] Loaded btrack: /home/dayn/analysis/btrack/btrack/libs/libtracker.so\n",
      "[INFO][2023/08/22 04:31:22 pm] Starting BayesianTracker session\n",
      "[INFO][2023/08/22 04:31:22 pm] Loading configuration file: /home/dayn/analysis/models/loc.json\n",
      "[INFO][2023/08/22 04:31:22 pm] Objects are of type: <class 'list'>\n",
      "[INFO][2023/08/22 04:31:23 pm] Starting tracking... \n",
      "[INFO][2023/08/22 04:31:23 pm] Update using: ['MOTION', 'VISUAL']\n",
      "[INFO][2023/08/22 04:31:44 pm] Tracking objects in frames 0 to 9 (of 62)...\n",
      "[INFO][2023/08/22 04:49:54 pm]  - Timing (Bayesian updates: 77751.72ms, Linking: 109.59ms)\n",
      "[INFO][2023/08/22 04:49:54 pm]  - Probabilities (Link: 0.99999, Lost: 1.00000)\n",
      "[INFO][2023/08/22 04:49:54 pm]  - Stats (Active: 6184, Lost: 1910, Conflicts resolved: 10829)\n",
      "[INFO][2023/08/22 04:49:54 pm] Tracking objects in frames 10 to 19 (of 62)...\n",
      "[INFO][2023/08/22 04:53:21 pm]  - Timing (Bayesian updates: 1015.32ms, Linking: 12.13ms)\n",
      "[INFO][2023/08/22 04:53:21 pm]  - Probabilities (Link: 1.00000, Lost: 1.00000)\n",
      "[INFO][2023/08/22 04:53:21 pm]  - Stats (Active: 1292, Lost: 30373, Conflicts resolved: 14003)\n",
      "[INFO][2023/08/22 04:53:21 pm] Tracking objects in frames 20 to 29 (of 62)...\n",
      "[INFO][2023/08/22 04:53:50 pm]  - Timing (Bayesian updates: 33.24ms, Linking: 6.24ms)\n",
      "[INFO][2023/08/22 04:53:50 pm]  - Probabilities (Link: 1.00000, Lost: 1.00000)\n",
      "[INFO][2023/08/22 04:53:50 pm] SUCCESS.\n",
      "[INFO][2023/08/22 04:53:50 pm]  - Found 13831 tracks in 62 frames (in 0.0s)\n",
      "[INFO][2023/08/22 04:53:50 pm]  - Inserted 1815 dummy objects to fill tracking gaps\n",
      "[INFO][2023/08/22 04:53:50 pm] Loading hypothesis model: particle_hypothesis\n",
      "[INFO][2023/08/22 04:53:50 pm] Calculating hypotheses (relax: True)...\n",
      "[INFO][2023/08/22 04:53:51 pm] Setting up constraints matrix for global optimisation...\n",
      "[INFO][2023/08/22 04:53:51 pm] Using GLPK options: {'tm_lim': 60000}...\n",
      "[INFO][2023/08/22 04:53:51 pm] Optimizing...\n",
      "[INFO][2023/08/22 04:53:58 pm] Optimization complete. (Solution: optimal)\n",
      "[INFO][2023/08/22 04:53:58 pm]  - Fates.FALSE_POSITIVE: 8738 (of 13831)\n",
      "[INFO][2023/08/22 04:53:58 pm]  - Fates.LINK: 48 (of 78)\n",
      "[INFO][2023/08/22 04:53:58 pm]  - Fates.INITIALIZE_BORDER: 354 (of 581)\n",
      "[INFO][2023/08/22 04:53:58 pm]  - Fates.INITIALIZE_LAZY: 4691 (of 13250)\n",
      "[INFO][2023/08/22 04:53:58 pm]  - Fates.TERMINATE_BORDER: 316 (of 540)\n",
      "[INFO][2023/08/22 04:53:58 pm]  - Fates.TERMINATE_BACK: 728 (of 919)\n",
      "[INFO][2023/08/22 04:53:58 pm]  - Fates.TERMINATE_LAZY: 4001 (of 12372)\n",
      "[INFO][2023/08/22 04:53:58 pm]  - TOTAL: 41571 hypotheses\n"
     ]
    },
    {
     "name": "stdout",
     "output_type": "stream",
     "text": [
      "GLPK Integer Optimizer 5.0\n",
      "55324 rows, 41571 columns, 55480 non-zeros\n",
      "41571 integer variables, all of which are binary\n",
      "Preprocessing...\n",
      "27662 rows, 41571 columns, 55480 non-zeros\n",
      "41571 integer variables, all of which are binary\n",
      "Scaling...\n",
      " A: min|aij| =  1.000e+00  max|aij| =  1.000e+00  ratio =  1.000e+00\n",
      "Problem data seem to be well scaled\n",
      "Constructing initial basis...\n",
      "Size of triangular part is 27662\n",
      "Solving LP relaxation...\n",
      "GLPK Simplex Optimizer 5.0\n",
      "27662 rows, 41571 columns, 55480 non-zeros\n",
      "*     0: obj =   1.758321519e+05 inf =   0.000e+00 (8866)\n",
      "*  7337: obj =   1.028034895e+05 inf =   0.000e+00 (1554)\n",
      "*  8895: obj =   9.852613266e+04 inf =   0.000e+00 (0)\n",
      "OPTIMAL LP SOLUTION FOUND\n",
      "Integer optimization begins...\n",
      "Long-step dual simplex will be used\n",
      "+  8895: mip =     not found yet >=              -inf        (1; 0)\n",
      "+  8895: >>>>>   9.852613266e+04 >=   9.852613266e+04   0.0% (1; 0)\n",
      "+  8895: mip =   9.852613266e+04 >=     tree is empty   0.0% (0; 1)\n",
      "INTEGER OPTIMAL SOLUTION FOUND\n"
     ]
    },
    {
     "name": "stderr",
     "output_type": "stream",
     "text": [
      "[INFO][2023/08/22 04:53:58 pm] Completed optimization with 13783 tracks\n",
      "[INFO][2023/08/22 04:53:58 pm] Ending BayesianTracker session\n",
      "[INFO][2023/08/22 04:53:58 pm] Opening HDF file: /home/dayn/data/homuncu_loc_temp/results/image analysis_Nathan/Job_1/DAPI-SPC-PDPN-ZO1/Day7_breath/20x_21-12-029A_A3456_Multichannel Z-Stack_20220818_195_sc_data.h5...\n",
      "[INFO][2023/08/22 04:53:59 pm] Writing objects/obj_type_1\n",
      "[INFO][2023/08/22 04:53:59 pm] Writing labels/obj_type_1\n",
      "[INFO][2023/08/22 04:53:59 pm] Loading objects/obj_type_1 (64189, 5) (64189 filtered: None)\n",
      "[INFO][2023/08/22 04:54:00 pm] Writing properties/obj_type_1/orientation (64189,)\n",
      "[INFO][2023/08/22 04:54:00 pm] Writing properties/obj_type_1/axis_major_length (64189,)\n",
      "[INFO][2023/08/22 04:54:00 pm] Writing properties/obj_type_1/mean_intensity (64189, 4)\n",
      "[INFO][2023/08/22 04:54:00 pm] Writing properties/obj_type_1/area (64189,)\n",
      "[INFO][2023/08/22 04:54:00 pm] Writing properties/obj_type_1/axis_minor_length (64189,)\n",
      "[INFO][2023/08/22 04:54:00 pm] Writing properties/obj_type_1/eccentricity (64189,)\n",
      "[INFO][2023/08/22 04:54:00 pm] Writing tracks/obj_type_1\n",
      "[INFO][2023/08/22 04:54:00 pm] Writing dummies/obj_type_1\n",
      "[INFO][2023/08/22 04:54:00 pm] Writing LBEP/obj_type_1\n",
      "[INFO][2023/08/22 04:54:00 pm] Writing fates/obj_type_1\n",
      "[INFO][2023/08/22 04:54:05 pm] Closing HDF file: /home/dayn/data/homuncu_loc_temp/results/image analysis_Nathan/Job_1/DAPI-SPC-PDPN-ZO1/Day7_breath/20x_21-12-029A_A3456_Multichannel Z-Stack_20220818_195_sc_data.h5\n"
     ]
    },
    {
     "data": {
      "application/vnd.jupyter.widget-view+json": {
       "model_id": "c3a9e9d792fd4460b321d206851ef067",
       "version_major": 2,
       "version_minor": 0
      },
      "text/plain": [
       "Searching start directory for filename: 0it [00:00, ?it/s]"
      ]
     },
     "metadata": {},
     "output_type": "display_data"
    },
    {
     "name": "stderr",
     "output_type": "stream",
     "text": [
      "[INFO][2023/08/22 04:54:17 pm] Opening HDF file: /run/user/30046150/gvfs/smb-share:server=data2.thecrick.org,share=lab-gutierrezm/home/shared/Lung on Chip/image analysis_Nathan/results/run0/DAPI-SPC-PDPN-ZO1/Day7_breath/20x_21-12-029A_A3456_Multichannel Z-Stack_20220818_194_z_tracks_masks.h5...\n",
      "[INFO][2023/08/22 04:54:17 pm] Loading objects/obj_type_1 (75007, 5) (75007 filtered: None)\n",
      "[INFO][2023/08/22 04:54:22 pm] Loading segmentation (81, 2304, 2304)\n",
      "[INFO][2023/08/22 04:54:22 pm] Closing HDF file: /run/user/30046150/gvfs/smb-share:server=data2.thecrick.org,share=lab-gutierrezm/home/shared/Lung on Chip/image analysis_Nathan/results/run0/DAPI-SPC-PDPN-ZO1/Day7_breath/20x_21-12-029A_A3456_Multichannel Z-Stack_20220818_194_z_tracks_masks.h5\n",
      "[INFO][2023/08/22 04:54:22 pm] Loaded btrack: /home/dayn/analysis/btrack/btrack/libs/libtracker.so\n",
      "[INFO][2023/08/22 04:54:22 pm] Starting BayesianTracker session\n",
      "[INFO][2023/08/22 04:54:22 pm] Loading configuration file: /home/dayn/analysis/models/loc.json\n",
      "[INFO][2023/08/22 04:54:22 pm] Objects are of type: <class 'list'>\n",
      "[INFO][2023/08/22 04:54:24 pm] Starting tracking... \n",
      "[INFO][2023/08/22 04:54:24 pm] Update using: ['MOTION', 'VISUAL']\n",
      "[INFO][2023/08/22 04:54:57 pm] Tracking objects in frames 0 to 9 (of 58)...\n",
      "[INFO][2023/08/22 05:16:12 pm]  - Timing (Bayesian updates: 78243.19ms, Linking: 113.86ms)\n",
      "[INFO][2023/08/22 05:16:12 pm]  - Probabilities (Link: 1.00000, Lost: 1.00000)\n",
      "[INFO][2023/08/22 05:16:12 pm]  - Stats (Active: 6082, Lost: 2050, Conflicts resolved: 10961)\n",
      "[INFO][2023/08/22 05:16:12 pm] Tracking objects in frames 10 to 19 (of 58)...\n",
      "[INFO][2023/08/22 05:19:12 pm]  - Timing (Bayesian updates: 1536.04ms, Linking: 15.90ms)\n",
      "[INFO][2023/08/22 05:19:12 pm]  - Probabilities (Link: 1.00000, Lost: 0.98555)\n",
      "[INFO][2023/08/22 05:19:12 pm]  - Stats (Active: 1453, Lost: 31328, Conflicts resolved: 13681)\n",
      "[INFO][2023/08/22 05:19:12 pm] Tracking objects in frames 20 to 29 (of 58)...\n",
      "[INFO][2023/08/22 05:19:49 pm]  - Timing (Bayesian updates: 267.75ms, Linking: 11.61ms)\n",
      "[INFO][2023/08/22 05:19:49 pm]  - Probabilities (Link: 1.00000, Lost: 0.99917)\n",
      "[INFO][2023/08/22 05:19:49 pm] SUCCESS.\n",
      "[INFO][2023/08/22 05:19:49 pm]  - Found 13491 tracks in 58 frames (in 0.0s)\n",
      "[INFO][2023/08/22 05:19:49 pm]  - Inserted 1786 dummy objects to fill tracking gaps\n",
      "[INFO][2023/08/22 05:19:49 pm] Loading hypothesis model: particle_hypothesis\n",
      "[INFO][2023/08/22 05:19:49 pm] Calculating hypotheses (relax: True)...\n",
      "[INFO][2023/08/22 05:19:49 pm] Setting up constraints matrix for global optimisation...\n",
      "[INFO][2023/08/22 05:19:49 pm] Using GLPK options: {'tm_lim': 60000}...\n",
      "[INFO][2023/08/22 05:19:50 pm] Optimizing...\n",
      "[INFO][2023/08/22 05:19:55 pm] Optimization complete. (Solution: optimal)\n",
      "[INFO][2023/08/22 05:19:55 pm]  - Fates.FALSE_POSITIVE: 7756 (of 13491)\n",
      "[INFO][2023/08/22 05:19:55 pm]  - Fates.LINK: 37 (of 55)\n",
      "[INFO][2023/08/22 05:19:55 pm]  - Fates.INITIALIZE_BORDER: 330 (of 560)\n",
      "[INFO][2023/08/22 05:19:55 pm]  - Fates.INITIALIZE_LAZY: 5368 (of 12931)\n",
      "[INFO][2023/08/22 05:19:55 pm]  - Fates.TERMINATE_BORDER: 276 (of 492)\n",
      "[INFO][2023/08/22 05:19:55 pm]  - Fates.TERMINATE_BACK: 1387 (of 1669)\n",
      "[INFO][2023/08/22 05:19:55 pm]  - Fates.TERMINATE_LAZY: 4035 (of 11330)\n",
      "[INFO][2023/08/22 05:19:55 pm]  - TOTAL: 40528 hypotheses\n",
      "[INFO][2023/08/22 05:19:55 pm] Completed optimization with 13454 tracks\n"
     ]
    },
    {
     "name": "stdout",
     "output_type": "stream",
     "text": [
      "GLPK Integer Optimizer 5.0\n",
      "53964 rows, 40528 columns, 54074 non-zeros\n",
      "40528 integer variables, all of which are binary\n",
      "Preprocessing...\n",
      "26982 rows, 40528 columns, 54074 non-zeros\n",
      "40528 integer variables, all of which are binary\n",
      "Scaling...\n",
      " A: min|aij| =  1.000e+00  max|aij| =  1.000e+00  ratio =  1.000e+00\n",
      "Problem data seem to be well scaled\n",
      "Constructing initial basis...\n",
      "Size of triangular part is 26982\n",
      "Solving LP relaxation...\n",
      "GLPK Simplex Optimizer 5.0\n",
      "26982 rows, 40528 columns, 54074 non-zeros\n",
      "*     0: obj =   1.664818293e+05 inf =   0.000e+00 (7847)\n",
      "*  7865: obj =   9.879645396e+04 inf =   0.000e+00 (0)\n",
      "OPTIMAL LP SOLUTION FOUND\n",
      "Integer optimization begins...\n",
      "Long-step dual simplex will be used\n",
      "+  7865: mip =     not found yet >=              -inf        (1; 0)\n",
      "+  7865: >>>>>   9.879645396e+04 >=   9.879645396e+04   0.0% (1; 0)\n",
      "+  7865: mip =   9.879645396e+04 >=     tree is empty   0.0% (0; 1)\n",
      "INTEGER OPTIMAL SOLUTION FOUND\n"
     ]
    },
    {
     "name": "stderr",
     "output_type": "stream",
     "text": [
      "[INFO][2023/08/22 05:19:56 pm] Ending BayesianTracker session\n",
      "[INFO][2023/08/22 05:19:56 pm] Opening HDF file: /home/dayn/data/homuncu_loc_temp/results/image analysis_Nathan/Job_1/DAPI-SPC-PDPN-ZO1/Day7_breath/20x_21-12-029A_A3456_Multichannel Z-Stack_20220818_194_sc_data.h5...\n",
      "[INFO][2023/08/22 05:19:57 pm] Writing objects/obj_type_1\n",
      "[INFO][2023/08/22 05:19:57 pm] Writing labels/obj_type_1\n",
      "[INFO][2023/08/22 05:19:57 pm] Loading objects/obj_type_1 (68541, 5) (68541 filtered: None)\n",
      "[INFO][2023/08/22 05:19:57 pm] Writing properties/obj_type_1/orientation (68541,)\n",
      "[INFO][2023/08/22 05:19:57 pm] Writing properties/obj_type_1/axis_major_length (68541,)\n",
      "[INFO][2023/08/22 05:19:58 pm] Writing properties/obj_type_1/mean_intensity (68541, 4)\n",
      "[INFO][2023/08/22 05:19:58 pm] Writing properties/obj_type_1/area (68541,)\n",
      "[INFO][2023/08/22 05:19:58 pm] Writing properties/obj_type_1/axis_minor_length (68541,)\n",
      "[INFO][2023/08/22 05:19:58 pm] Writing properties/obj_type_1/eccentricity (68541,)\n",
      "[INFO][2023/08/22 05:19:58 pm] Writing tracks/obj_type_1\n",
      "[INFO][2023/08/22 05:19:58 pm] Writing dummies/obj_type_1\n",
      "[INFO][2023/08/22 05:19:58 pm] Writing LBEP/obj_type_1\n",
      "[INFO][2023/08/22 05:19:58 pm] Writing fates/obj_type_1\n",
      "[INFO][2023/08/22 05:20:03 pm] Closing HDF file: /home/dayn/data/homuncu_loc_temp/results/image analysis_Nathan/Job_1/DAPI-SPC-PDPN-ZO1/Day7_breath/20x_21-12-029A_A3456_Multichannel Z-Stack_20220818_194_sc_data.h5\n"
     ]
    },
    {
     "data": {
      "application/vnd.jupyter.widget-view+json": {
       "model_id": "0e40f6f2f0b0443ca71d44d4cfd991ed",
       "version_major": 2,
       "version_minor": 0
      },
      "text/plain": [
       "Searching start directory for filename: 0it [00:00, ?it/s]"
      ]
     },
     "metadata": {},
     "output_type": "display_data"
    },
    {
     "name": "stderr",
     "output_type": "stream",
     "text": [
      "[INFO][2023/08/22 05:20:21 pm] Opening HDF file: /run/user/30046150/gvfs/smb-share:server=data2.thecrick.org,share=lab-gutierrezm/home/shared/Lung on Chip/image analysis_Nathan/results/run0/DAPI-SPC-PDPN-ZO1/Day7_static/20x_21-12-031B_A12456_Multichannel Z-Stack_20220811_121_z_tracks_masks.h5...\n",
      "[INFO][2023/08/22 05:20:21 pm] Loading objects/obj_type_1 (53982, 5) (53982 filtered: None)\n",
      "[INFO][2023/08/22 05:20:29 pm] Loading segmentation (81, 2304, 2304)\n",
      "[INFO][2023/08/22 05:20:29 pm] Closing HDF file: /run/user/30046150/gvfs/smb-share:server=data2.thecrick.org,share=lab-gutierrezm/home/shared/Lung on Chip/image analysis_Nathan/results/run0/DAPI-SPC-PDPN-ZO1/Day7_static/20x_21-12-031B_A12456_Multichannel Z-Stack_20220811_121_z_tracks_masks.h5\n",
      "[INFO][2023/08/22 05:20:29 pm] Loaded btrack: /home/dayn/analysis/btrack/btrack/libs/libtracker.so\n",
      "[INFO][2023/08/22 05:20:29 pm] Starting BayesianTracker session\n",
      "[INFO][2023/08/22 05:20:29 pm] Loading configuration file: /home/dayn/analysis/models/loc.json\n",
      "[INFO][2023/08/22 05:20:29 pm] Objects are of type: <class 'list'>\n",
      "[INFO][2023/08/22 05:20:30 pm] Starting tracking... \n",
      "[INFO][2023/08/22 05:20:30 pm] Update using: ['MOTION', 'VISUAL']\n",
      "[INFO][2023/08/22 05:20:37 pm] Tracking objects in frames 0 to 9 (of 51)...\n",
      "[INFO][2023/08/22 05:33:32 pm]  - Timing (Bayesian updates: 43243.54ms, Linking: 95.36ms)\n",
      "[INFO][2023/08/22 05:33:32 pm]  - Probabilities (Link: 1.00000, Lost: 1.00000)\n",
      "[INFO][2023/08/22 05:33:32 pm]  - Stats (Active: 6103, Lost: 2930, Conflicts resolved: 9413)\n",
      "[INFO][2023/08/22 05:33:32 pm] Tracking objects in frames 10 to 19 (of 51)...\n",
      "[INFO][2023/08/22 05:36:10 pm]  - Timing (Bayesian updates: 458.46ms, Linking: 18.80ms)\n",
      "[INFO][2023/08/22 05:36:10 pm]  - Probabilities (Link: 1.00000, Lost: 1.00000)\n",
      "[INFO][2023/08/22 05:36:10 pm]  - Stats (Active: 2339, Lost: 34532, Conflicts resolved: 11463)\n",
      "[INFO][2023/08/22 05:36:10 pm] Tracking objects in frames 20 to 29 (of 51)...\n",
      "[INFO][2023/08/22 05:36:11 pm]  - Timing (Bayesian updates: 0.64ms, Linking: 2.35ms)\n",
      "[INFO][2023/08/22 05:36:11 pm]  - Probabilities (Link: 1.00000, Lost: 1.00000)\n",
      "[INFO][2023/08/22 05:36:11 pm] SUCCESS.\n",
      "[INFO][2023/08/22 05:36:11 pm]  - Found 11262 tracks in 51 frames (in 0.0s)\n",
      "[INFO][2023/08/22 05:36:11 pm]  - Inserted 1083 dummy objects to fill tracking gaps\n",
      "[INFO][2023/08/22 05:36:11 pm] Loading hypothesis model: particle_hypothesis\n",
      "[INFO][2023/08/22 05:36:11 pm] Calculating hypotheses (relax: True)...\n",
      "[INFO][2023/08/22 05:36:12 pm] Setting up constraints matrix for global optimisation...\n",
      "[INFO][2023/08/22 05:36:12 pm] Using GLPK options: {'tm_lim': 60000}...\n",
      "[INFO][2023/08/22 05:36:13 pm] Optimizing...\n",
      "[INFO][2023/08/22 05:36:17 pm] Optimization complete. (Solution: optimal)\n",
      "[INFO][2023/08/22 05:36:17 pm]  - Fates.FALSE_POSITIVE: 7388 (of 11262)\n",
      "[INFO][2023/08/22 05:36:17 pm]  - Fates.LINK: 35 (of 55)\n",
      "[INFO][2023/08/22 05:36:17 pm]  - Fates.INITIALIZE_BORDER: 256 (of 470)\n",
      "[INFO][2023/08/22 05:36:17 pm]  - Fates.INITIALIZE_LAZY: 3583 (of 10792)\n",
      "[INFO][2023/08/22 05:36:17 pm]  - Fates.TERMINATE_BORDER: 242 (of 442)\n",
      "[INFO][2023/08/22 05:36:17 pm]  - Fates.TERMINATE_BACK: 195 (of 565)\n",
      "[INFO][2023/08/22 05:36:17 pm]  - Fates.TERMINATE_LAZY: 3402 (of 10255)\n",
      "[INFO][2023/08/22 05:36:17 pm]  - TOTAL: 33841 hypotheses\n",
      "[INFO][2023/08/22 05:36:17 pm] Completed optimization with 11227 tracks\n"
     ]
    },
    {
     "name": "stdout",
     "output_type": "stream",
     "text": [
      "GLPK Integer Optimizer 5.0\n",
      "45048 rows, 33841 columns, 45158 non-zeros\n",
      "33841 integer variables, all of which are binary\n",
      "Preprocessing...\n",
      "22524 rows, 33841 columns, 45158 non-zeros\n",
      "33841 integer variables, all of which are binary\n",
      "Scaling...\n",
      " A: min|aij| =  1.000e+00  max|aij| =  1.000e+00  ratio =  1.000e+00\n",
      "Problem data seem to be well scaled\n",
      "Constructing initial basis...\n",
      "Size of triangular part is 22524\n",
      "Solving LP relaxation...\n",
      "GLPK Simplex Optimizer 5.0\n",
      "22524 rows, 33841 columns, 45158 non-zeros\n",
      "*     0: obj =   1.443720670e+05 inf =   0.000e+00 (7480)\n",
      "*  7500: obj =   7.723570119e+04 inf =   0.000e+00 (0)\n",
      "OPTIMAL LP SOLUTION FOUND\n",
      "Integer optimization begins...\n",
      "Long-step dual simplex will be used\n",
      "+  7500: mip =     not found yet >=              -inf        (1; 0)\n",
      "+  7500: >>>>>   7.723570119e+04 >=   7.723570119e+04   0.0% (1; 0)\n",
      "+  7500: mip =   7.723570119e+04 >=     tree is empty   0.0% (0; 1)\n",
      "INTEGER OPTIMAL SOLUTION FOUND\n"
     ]
    },
    {
     "name": "stderr",
     "output_type": "stream",
     "text": [
      "[INFO][2023/08/22 05:36:17 pm] Ending BayesianTracker session\n",
      "[INFO][2023/08/22 05:36:17 pm] Opening HDF file: /home/dayn/data/homuncu_loc_temp/results/image analysis_Nathan/Job_1/DAPI-SPC-PDPN-ZO1/Day7_static/20x_21-12-031B_A12456_Multichannel Z-Stack_20220811_121_sc_data.h5...\n",
      "[INFO][2023/08/22 05:36:18 pm] Writing objects/obj_type_1\n",
      "[INFO][2023/08/22 05:36:18 pm] Writing labels/obj_type_1\n",
      "[INFO][2023/08/22 05:36:18 pm] Loading objects/obj_type_1 (49050, 5) (49050 filtered: None)\n",
      "[INFO][2023/08/22 05:36:18 pm] Writing properties/obj_type_1/orientation (49050,)\n",
      "[INFO][2023/08/22 05:36:18 pm] Writing properties/obj_type_1/axis_major_length (49050,)\n",
      "[INFO][2023/08/22 05:36:18 pm] Writing properties/obj_type_1/mean_intensity (49050, 4)\n",
      "[INFO][2023/08/22 05:36:18 pm] Writing properties/obj_type_1/area (49050,)\n",
      "[INFO][2023/08/22 05:36:18 pm] Writing properties/obj_type_1/axis_minor_length (49050,)\n",
      "[INFO][2023/08/22 05:36:18 pm] Writing properties/obj_type_1/eccentricity (49050,)\n",
      "[INFO][2023/08/22 05:36:18 pm] Writing tracks/obj_type_1\n",
      "[INFO][2023/08/22 05:36:19 pm] Writing dummies/obj_type_1\n",
      "[INFO][2023/08/22 05:36:19 pm] Writing LBEP/obj_type_1\n",
      "[INFO][2023/08/22 05:36:19 pm] Writing fates/obj_type_1\n",
      "[INFO][2023/08/22 05:36:24 pm] Closing HDF file: /home/dayn/data/homuncu_loc_temp/results/image analysis_Nathan/Job_1/DAPI-SPC-PDPN-ZO1/Day7_static/20x_21-12-031B_A12456_Multichannel Z-Stack_20220811_121_sc_data.h5\n"
     ]
    },
    {
     "data": {
      "application/vnd.jupyter.widget-view+json": {
       "model_id": "bfadd06ba06c480cb93012fc43c8733f",
       "version_major": 2,
       "version_minor": 0
      },
      "text/plain": [
       "Searching start directory for filename: 0it [00:00, ?it/s]"
      ]
     },
     "metadata": {},
     "output_type": "display_data"
    },
    {
     "name": "stderr",
     "output_type": "stream",
     "text": [
      "[INFO][2023/08/22 05:36:42 pm] Opening HDF file: /run/user/30046150/gvfs/smb-share:server=data2.thecrick.org,share=lab-gutierrezm/home/shared/Lung on Chip/image analysis_Nathan/results/run0/DAPI-SPC-PDPN-ZO1/Day7_static/20x_21-12-031B_A12456_Multichannel Z-Stack_20220811_122_z_tracks_masks.h5...\n",
      "[INFO][2023/08/22 05:36:42 pm] Loading objects/obj_type_1 (57959, 5) (57959 filtered: None)\n",
      "[INFO][2023/08/22 05:36:47 pm] Loading segmentation (81, 2304, 2304)\n",
      "[INFO][2023/08/22 05:36:47 pm] Closing HDF file: /run/user/30046150/gvfs/smb-share:server=data2.thecrick.org,share=lab-gutierrezm/home/shared/Lung on Chip/image analysis_Nathan/results/run0/DAPI-SPC-PDPN-ZO1/Day7_static/20x_21-12-031B_A12456_Multichannel Z-Stack_20220811_122_z_tracks_masks.h5\n",
      "[INFO][2023/08/22 05:36:47 pm] Loaded btrack: /home/dayn/analysis/btrack/btrack/libs/libtracker.so\n",
      "[INFO][2023/08/22 05:36:47 pm] Starting BayesianTracker session\n",
      "[INFO][2023/08/22 05:36:47 pm] Loading configuration file: /home/dayn/analysis/models/loc.json\n",
      "[INFO][2023/08/22 05:36:47 pm] Objects are of type: <class 'list'>\n",
      "[INFO][2023/08/22 05:36:49 pm] Starting tracking... \n",
      "[INFO][2023/08/22 05:36:49 pm] Update using: ['MOTION', 'VISUAL']\n",
      "[INFO][2023/08/22 05:36:56 pm] Tracking objects in frames 0 to 9 (of 53)...\n",
      "[INFO][2023/08/22 05:51:07 pm]  - Timing (Bayesian updates: 41732.88ms, Linking: 86.48ms)\n",
      "[INFO][2023/08/22 05:51:07 pm]  - Probabilities (Link: 1.00000, Lost: 1.00000)\n",
      "[INFO][2023/08/22 05:51:07 pm]  - Stats (Active: 5948, Lost: 3077, Conflicts resolved: 9911)\n",
      "[INFO][2023/08/22 05:51:07 pm] Tracking objects in frames 10 to 19 (of 53)...\n",
      "[INFO][2023/08/22 05:53:51 pm]  - Timing (Bayesian updates: 380.70ms, Linking: 13.53ms)\n",
      "[INFO][2023/08/22 05:53:51 pm]  - Probabilities (Link: 1.00000, Lost: 1.00000)\n",
      "[INFO][2023/08/22 05:53:51 pm]  - Stats (Active: 2240, Lost: 34264, Conflicts resolved: 11629)\n",
      "[INFO][2023/08/22 05:53:51 pm] Tracking objects in frames 20 to 29 (of 53)...\n",
      "[INFO][2023/08/22 05:53:56 pm]  - Timing (Bayesian updates: 3.34ms, Linking: 3.61ms)\n",
      "[INFO][2023/08/22 05:53:56 pm]  - Probabilities (Link: 0.99999, Lost: 1.00000)\n",
      "[INFO][2023/08/22 05:53:56 pm] SUCCESS.\n",
      "[INFO][2023/08/22 05:53:56 pm]  - Found 11684 tracks in 53 frames (in 0.0s)\n",
      "[INFO][2023/08/22 05:53:56 pm]  - Inserted 1184 dummy objects to fill tracking gaps\n",
      "[INFO][2023/08/22 05:53:56 pm] Loading hypothesis model: particle_hypothesis\n",
      "[INFO][2023/08/22 05:53:56 pm] Calculating hypotheses (relax: True)...\n",
      "[INFO][2023/08/22 05:53:56 pm] Setting up constraints matrix for global optimisation...\n",
      "[INFO][2023/08/22 05:53:56 pm] Using GLPK options: {'tm_lim': 60000}...\n",
      "[INFO][2023/08/22 05:53:57 pm] Optimizing...\n",
      "[INFO][2023/08/22 05:54:02 pm] Optimization complete. (Solution: optimal)\n",
      "[INFO][2023/08/22 05:54:02 pm]  - Fates.FALSE_POSITIVE: 7312 (of 11684)\n",
      "[INFO][2023/08/22 05:54:02 pm]  - Fates.LINK: 55 (of 83)\n",
      "[INFO][2023/08/22 05:54:02 pm]  - Fates.INITIALIZE_BORDER: 302 (of 470)\n",
      "[INFO][2023/08/22 05:54:02 pm]  - Fates.INITIALIZE_LAZY: 4015 (of 11214)\n",
      "[INFO][2023/08/22 05:54:02 pm]  - Fates.TERMINATE_BORDER: 292 (of 456)\n",
      "[INFO][2023/08/22 05:54:02 pm]  - Fates.TERMINATE_BACK: 415 (of 778)\n",
      "[INFO][2023/08/22 05:54:02 pm]  - Fates.TERMINATE_LAZY: 3610 (of 10450)\n",
      "[INFO][2023/08/22 05:54:02 pm]  - TOTAL: 35135 hypotheses\n",
      "[INFO][2023/08/22 05:54:02 pm] Completed optimization with 11629 tracks\n"
     ]
    },
    {
     "name": "stdout",
     "output_type": "stream",
     "text": [
      "GLPK Integer Optimizer 5.0\n",
      "46736 rows, 35135 columns, 46902 non-zeros\n",
      "35135 integer variables, all of which are binary\n",
      "Preprocessing...\n",
      "23368 rows, 35135 columns, 46902 non-zeros\n",
      "35135 integer variables, all of which are binary\n",
      "Scaling...\n",
      " A: min|aij| =  1.000e+00  max|aij| =  1.000e+00  ratio =  1.000e+00\n",
      "Problem data seem to be well scaled\n",
      "Constructing initial basis...\n",
      "Size of triangular part is 23368\n",
      "Solving LP relaxation...\n",
      "GLPK Simplex Optimizer 5.0\n",
      "23368 rows, 35135 columns, 46902 non-zeros\n",
      "*     0: obj =   1.485813107e+05 inf =   0.000e+00 (7452)\n",
      "*  7480: obj =   8.313336828e+04 inf =   0.000e+00 (0)\n",
      "OPTIMAL LP SOLUTION FOUND\n",
      "Integer optimization begins...\n",
      "Long-step dual simplex will be used\n",
      "+  7480: mip =     not found yet >=              -inf        (1; 0)\n",
      "+  7480: >>>>>   8.313336828e+04 >=   8.313336828e+04   0.0% (1; 0)\n",
      "+  7480: mip =   8.313336828e+04 >=     tree is empty   0.0% (0; 1)\n",
      "INTEGER OPTIMAL SOLUTION FOUND\n"
     ]
    },
    {
     "name": "stderr",
     "output_type": "stream",
     "text": [
      "[INFO][2023/08/22 05:54:02 pm] Ending BayesianTracker session\n",
      "[INFO][2023/08/22 05:54:03 pm] Opening HDF file: /home/dayn/data/homuncu_loc_temp/results/image analysis_Nathan/Job_1/DAPI-SPC-PDPN-ZO1/Day7_static/20x_21-12-031B_A12456_Multichannel Z-Stack_20220811_122_sc_data.h5...\n",
      "[INFO][2023/08/22 05:54:04 pm] Writing objects/obj_type_1\n",
      "[INFO][2023/08/22 05:54:04 pm] Writing labels/obj_type_1\n",
      "[INFO][2023/08/22 05:54:04 pm] Loading objects/obj_type_1 (53051, 5) (53051 filtered: None)\n",
      "[INFO][2023/08/22 05:54:04 pm] Writing properties/obj_type_1/orientation (53051,)\n",
      "[INFO][2023/08/22 05:54:04 pm] Writing properties/obj_type_1/axis_major_length (53051,)\n",
      "[INFO][2023/08/22 05:54:04 pm] Writing properties/obj_type_1/mean_intensity (53051, 4)\n",
      "[INFO][2023/08/22 05:54:04 pm] Writing properties/obj_type_1/area (53051,)\n",
      "[INFO][2023/08/22 05:54:04 pm] Writing properties/obj_type_1/axis_minor_length (53051,)\n",
      "[INFO][2023/08/22 05:54:04 pm] Writing properties/obj_type_1/eccentricity (53051,)\n",
      "[INFO][2023/08/22 05:54:04 pm] Writing tracks/obj_type_1\n",
      "[INFO][2023/08/22 05:54:04 pm] Writing dummies/obj_type_1\n",
      "[INFO][2023/08/22 05:54:04 pm] Writing LBEP/obj_type_1\n",
      "[INFO][2023/08/22 05:54:04 pm] Writing fates/obj_type_1\n",
      "[INFO][2023/08/22 05:54:08 pm] Closing HDF file: /home/dayn/data/homuncu_loc_temp/results/image analysis_Nathan/Job_1/DAPI-SPC-PDPN-ZO1/Day7_static/20x_21-12-031B_A12456_Multichannel Z-Stack_20220811_122_sc_data.h5\n"
     ]
    },
    {
     "data": {
      "application/vnd.jupyter.widget-view+json": {
       "model_id": "d00b3b172d3c45009795876f66c0990b",
       "version_major": 2,
       "version_minor": 0
      },
      "text/plain": [
       "Searching start directory for filename: 0it [00:00, ?it/s]"
      ]
     },
     "metadata": {},
     "output_type": "display_data"
    },
    {
     "name": "stderr",
     "output_type": "stream",
     "text": [
      "[INFO][2023/08/22 05:54:26 pm] Opening HDF file: /run/user/30046150/gvfs/smb-share:server=data2.thecrick.org,share=lab-gutierrezm/home/shared/Lung on Chip/image analysis_Nathan/results_(old_organisation, currently reviewing)/run0/DAPI-SPC-PDPN-ZO1/Day7_static/20x_21-12-031B_A12456_Multichannel Z-Stack_20220811_123_z_tracks_masks.h5...\n",
      "[INFO][2023/08/22 05:54:26 pm] Loading objects/obj_type_1 (54676, 5) (54676 filtered: None)\n",
      "[INFO][2023/08/22 05:54:33 pm] Loading segmentation (81, 2304, 2304)\n",
      "[INFO][2023/08/22 05:54:33 pm] Closing HDF file: /run/user/30046150/gvfs/smb-share:server=data2.thecrick.org,share=lab-gutierrezm/home/shared/Lung on Chip/image analysis_Nathan/results_(old_organisation, currently reviewing)/run0/DAPI-SPC-PDPN-ZO1/Day7_static/20x_21-12-031B_A12456_Multichannel Z-Stack_20220811_123_z_tracks_masks.h5\n",
      "[INFO][2023/08/22 05:54:33 pm] Loaded btrack: /home/dayn/analysis/btrack/btrack/libs/libtracker.so\n",
      "[INFO][2023/08/22 05:54:33 pm] Starting BayesianTracker session\n",
      "[INFO][2023/08/22 05:54:33 pm] Loading configuration file: /home/dayn/analysis/models/loc.json\n",
      "[INFO][2023/08/22 05:54:33 pm] Objects are of type: <class 'list'>\n",
      "[INFO][2023/08/22 05:54:34 pm] Starting tracking... \n",
      "[INFO][2023/08/22 05:54:34 pm] Update using: ['MOTION', 'VISUAL']\n",
      "[INFO][2023/08/22 05:54:38 pm] Tracking objects in frames 0 to 9 (of 51)...\n",
      "[INFO][2023/08/22 06:05:58 pm]  - Timing (Bayesian updates: 46701.02ms, Linking: 88.74ms)\n",
      "[INFO][2023/08/22 06:05:58 pm]  - Probabilities (Link: 1.00000, Lost: 1.00000)\n",
      "[INFO][2023/08/22 06:05:58 pm]  - Stats (Active: 5660, Lost: 2599, Conflicts resolved: 9892)\n",
      "[INFO][2023/08/22 06:05:58 pm] Tracking objects in frames 10 to 19 (of 51)...\n",
      "[INFO][2023/08/22 06:09:22 pm]  - Timing (Bayesian updates: 555.94ms, Linking: 15.92ms)\n",
      "[INFO][2023/08/22 06:09:22 pm]  - Probabilities (Link: 1.00000, Lost: 0.99958)\n",
      "[INFO][2023/08/22 06:09:22 pm]  - Stats (Active: 2712, Lost: 31868, Conflicts resolved: 12282)\n",
      "[INFO][2023/08/22 06:09:22 pm] Tracking objects in frames 20 to 29 (of 51)...\n",
      "[INFO][2023/08/22 06:09:25 pm]  - Timing (Bayesian updates: 7.11ms, Linking: 4.64ms)\n",
      "[INFO][2023/08/22 06:09:25 pm]  - Probabilities (Link: 0.99998, Lost: 1.00000)\n",
      "[INFO][2023/08/22 06:09:25 pm] SUCCESS.\n",
      "[INFO][2023/08/22 06:09:25 pm]  - Found 12084 tracks in 51 frames (in 0.0s)\n",
      "[INFO][2023/08/22 06:09:25 pm]  - Inserted 1129 dummy objects to fill tracking gaps\n",
      "[INFO][2023/08/22 06:09:25 pm] Loading hypothesis model: particle_hypothesis\n",
      "[INFO][2023/08/22 06:09:25 pm] Calculating hypotheses (relax: True)...\n",
      "[INFO][2023/08/22 06:09:25 pm] Setting up constraints matrix for global optimisation...\n",
      "[INFO][2023/08/22 06:09:25 pm] Using GLPK options: {'tm_lim': 60000}...\n",
      "[INFO][2023/08/22 06:09:26 pm] Optimizing...\n",
      "[INFO][2023/08/22 06:09:31 pm] Optimization complete. (Solution: optimal)\n",
      "[INFO][2023/08/22 06:09:31 pm]  - Fates.FALSE_POSITIVE: 8395 (of 12084)\n",
      "[INFO][2023/08/22 06:09:31 pm]  - Fates.LINK: 40 (of 64)\n",
      "[INFO][2023/08/22 06:09:31 pm]  - Fates.INITIALIZE_BORDER: 249 (of 509)\n",
      "[INFO][2023/08/22 06:09:31 pm]  - Fates.INITIALIZE_LAZY: 3400 (of 11575)\n",
      "[INFO][2023/08/22 06:09:31 pm]  - Fates.TERMINATE_BORDER: 235 (of 482)\n",
      "[INFO][2023/08/22 06:09:31 pm]  - Fates.TERMINATE_BACK: 354 (of 804)\n",
      "[INFO][2023/08/22 06:09:31 pm]  - Fates.TERMINATE_LAZY: 3060 (of 10798)\n",
      "[INFO][2023/08/22 06:09:31 pm]  - TOTAL: 36316 hypotheses\n",
      "[INFO][2023/08/22 06:09:31 pm] Completed optimization with 12044 tracks\n"
     ]
    },
    {
     "name": "stdout",
     "output_type": "stream",
     "text": [
      "GLPK Integer Optimizer 5.0\n",
      "48336 rows, 36316 columns, 48464 non-zeros\n",
      "36316 integer variables, all of which are binary\n",
      "Preprocessing...\n",
      "24168 rows, 36316 columns, 48464 non-zeros\n",
      "36316 integer variables, all of which are binary\n",
      "Scaling...\n",
      " A: min|aij| =  1.000e+00  max|aij| =  1.000e+00  ratio =  1.000e+00\n",
      "Problem data seem to be well scaled\n",
      "Constructing initial basis...\n",
      "Size of triangular part is 24168\n",
      "Solving LP relaxation...\n",
      "GLPK Simplex Optimizer 5.0\n",
      "24168 rows, 36316 columns, 48464 non-zeros\n",
      "*     0: obj =   1.535703155e+05 inf =   0.000e+00 (8501)\n",
      "*  8524: obj =   7.820845632e+04 inf =   0.000e+00 (0)\n",
      "OPTIMAL LP SOLUTION FOUND\n",
      "Integer optimization begins...\n",
      "Long-step dual simplex will be used\n",
      "+  8524: mip =     not found yet >=              -inf        (1; 0)\n",
      "+  8524: >>>>>   7.820845632e+04 >=   7.820845632e+04   0.0% (1; 0)\n",
      "+  8524: mip =   7.820845632e+04 >=     tree is empty   0.0% (0; 1)\n",
      "INTEGER OPTIMAL SOLUTION FOUND\n"
     ]
    },
    {
     "name": "stderr",
     "output_type": "stream",
     "text": [
      "[INFO][2023/08/22 06:09:32 pm] Ending BayesianTracker session\n",
      "[INFO][2023/08/22 06:09:32 pm] Opening HDF file: /home/dayn/data/homuncu_loc_temp/results/image analysis_Nathan/Job_1/DAPI-SPC-PDPN-ZO1/Day7_static/20x_21-12-031B_A12456_Multichannel Z-Stack_20220811_123_sc_data.h5...\n",
      "[INFO][2023/08/22 06:09:33 pm] Writing objects/obj_type_1\n",
      "[INFO][2023/08/22 06:09:33 pm] Writing labels/obj_type_1\n",
      "[INFO][2023/08/22 06:09:33 pm] Loading objects/obj_type_1 (48972, 5) (48972 filtered: None)\n",
      "[INFO][2023/08/22 06:09:33 pm] Writing properties/obj_type_1/orientation (48972,)\n",
      "[INFO][2023/08/22 06:09:33 pm] Writing properties/obj_type_1/axis_major_length (48972,)\n",
      "[INFO][2023/08/22 06:09:33 pm] Writing properties/obj_type_1/mean_intensity (48972, 4)\n",
      "[INFO][2023/08/22 06:09:33 pm] Writing properties/obj_type_1/area (48972,)\n",
      "[INFO][2023/08/22 06:09:33 pm] Writing properties/obj_type_1/axis_minor_length (48972,)\n",
      "[INFO][2023/08/22 06:09:33 pm] Writing properties/obj_type_1/eccentricity (48972,)\n",
      "[INFO][2023/08/22 06:09:33 pm] Writing tracks/obj_type_1\n",
      "[INFO][2023/08/22 06:09:33 pm] Writing dummies/obj_type_1\n",
      "[INFO][2023/08/22 06:09:33 pm] Writing LBEP/obj_type_1\n",
      "[INFO][2023/08/22 06:09:33 pm] Writing fates/obj_type_1\n",
      "[INFO][2023/08/22 06:09:38 pm] Closing HDF file: /home/dayn/data/homuncu_loc_temp/results/image analysis_Nathan/Job_1/DAPI-SPC-PDPN-ZO1/Day7_static/20x_21-12-031B_A12456_Multichannel Z-Stack_20220811_123_sc_data.h5\n"
     ]
    },
    {
     "data": {
      "application/vnd.jupyter.widget-view+json": {
       "model_id": "c0879f159d574ddaaa6cb5b61b5effdb",
       "version_major": 2,
       "version_minor": 0
      },
      "text/plain": [
       "Searching start directory for filename: 0it [00:00, ?it/s]"
      ]
     },
     "metadata": {},
     "output_type": "display_data"
    },
    {
     "name": "stderr",
     "output_type": "stream",
     "text": [
      "[INFO][2023/08/22 06:09:52 pm] Opening HDF file: /run/user/30046150/gvfs/smb-share:server=data2.thecrick.org,share=lab-gutierrezm/home/shared/Lung on Chip/image analysis_Nathan/results_(old_organisation, currently reviewing)/run0/DAPI-NKX21-PDPN-ZO1/Day14_breath/20x_21-12-029B_A12346_Multichannel Z-Stack_20220819_286_z_tracks_masks.h5...\n",
      "[INFO][2023/08/22 06:09:53 pm] Loading objects/obj_type_1 (38518, 5) (38518 filtered: None)\n",
      "[INFO][2023/08/22 06:09:59 pm] Loading segmentation (81, 2304, 2304)\n",
      "[INFO][2023/08/22 06:09:59 pm] Closing HDF file: /run/user/30046150/gvfs/smb-share:server=data2.thecrick.org,share=lab-gutierrezm/home/shared/Lung on Chip/image analysis_Nathan/results_(old_organisation, currently reviewing)/run0/DAPI-NKX21-PDPN-ZO1/Day14_breath/20x_21-12-029B_A12346_Multichannel Z-Stack_20220819_286_z_tracks_masks.h5\n",
      "[INFO][2023/08/22 06:09:59 pm] Loaded btrack: /home/dayn/analysis/btrack/btrack/libs/libtracker.so\n",
      "[INFO][2023/08/22 06:09:59 pm] Starting BayesianTracker session\n",
      "[INFO][2023/08/22 06:09:59 pm] Loading configuration file: /home/dayn/analysis/models/loc.json\n",
      "[INFO][2023/08/22 06:09:59 pm] Objects are of type: <class 'list'>\n",
      "[INFO][2023/08/22 06:10:00 pm] Starting tracking... \n",
      "[INFO][2023/08/22 06:10:00 pm] Update using: ['MOTION', 'VISUAL']\n",
      "[INFO][2023/08/22 06:10:07 pm] Tracking objects in frames 0 to 9 (of 67)...\n",
      "[INFO][2023/08/22 06:13:28 pm]  - Timing (Bayesian updates: 7660.49ms, Linking: 38.72ms)\n",
      "[INFO][2023/08/22 06:13:28 pm]  - Probabilities (Link: 0.99999, Lost: 1.00000)\n",
      "[INFO][2023/08/22 06:13:28 pm]  - Stats (Active: 4063, Lost: 5823, Conflicts resolved: 7437)\n",
      "[INFO][2023/08/22 06:13:28 pm] Tracking objects in frames 10 to 19 (of 67)...\n",
      "[INFO][2023/08/22 06:13:40 pm]  - Timing (Bayesian updates: 654.22ms, Linking: 14.13ms)\n",
      "[INFO][2023/08/22 06:13:40 pm]  - Probabilities (Link: 0.99999, Lost: 1.00000)\n",
      "[INFO][2023/08/22 06:13:40 pm]  - Stats (Active: 2174, Lost: 28277, Conflicts resolved: 8822)\n",
      "[INFO][2023/08/22 06:13:40 pm] Tracking objects in frames 20 to 29 (of 67)...\n",
      "[INFO][2023/08/22 06:13:51 pm]  - Timing (Bayesian updates: 121.37ms, Linking: 8.37ms)\n",
      "[INFO][2023/08/22 06:13:51 pm]  - Probabilities (Link: 1.00000, Lost: 0.96339)\n",
      "[INFO][2023/08/22 06:13:51 pm]  - Stats (Active: 1530, Lost: 38111, Conflicts resolved: 11197)\n",
      "[INFO][2023/08/22 06:13:51 pm] Tracking objects in frames 30 to 39 (of 67)...\n",
      "[INFO][2023/08/22 06:13:52 pm]  - Timing (Bayesian updates: 45.80ms, Linking: 4.70ms)\n",
      "[INFO][2023/08/22 06:13:52 pm]  - Probabilities (Link: 1.00000, Lost: 1.00000)\n",
      "[INFO][2023/08/22 06:13:52 pm] SUCCESS.\n",
      "[INFO][2023/08/22 06:13:52 pm]  - Found 13744 tracks in 67 frames (in 0.0s)\n",
      "[INFO][2023/08/22 06:13:52 pm]  - Inserted 1373 dummy objects to fill tracking gaps\n",
      "[INFO][2023/08/22 06:13:52 pm] Loading hypothesis model: particle_hypothesis\n",
      "[INFO][2023/08/22 06:13:52 pm] Calculating hypotheses (relax: True)...\n",
      "[INFO][2023/08/22 06:13:52 pm] Setting up constraints matrix for global optimisation...\n",
      "[INFO][2023/08/22 06:13:52 pm] Using GLPK options: {'tm_lim': 60000}...\n",
      "[INFO][2023/08/22 06:13:53 pm] Optimizing...\n"
     ]
    },
    {
     "name": "stdout",
     "output_type": "stream",
     "text": [
      "GLPK Integer Optimizer 5.0\n",
      "54976 rows, 41308 columns, 55128 non-zeros\n",
      "41308 integer variables, all of which are binary\n",
      "Preprocessing...\n",
      "27488 rows, 41308 columns, 55128 non-zeros\n",
      "41308 integer variables, all of which are binary\n",
      "Scaling...\n",
      " A: min|aij| =  1.000e+00  max|aij| =  1.000e+00  ratio =  1.000e+00\n",
      "Problem data seem to be well scaled\n",
      "Constructing initial basis...\n",
      "Size of triangular part is 27488\n",
      "Solving LP relaxation...\n",
      "GLPK Simplex Optimizer 5.0\n",
      "27488 rows, 41308 columns, 55128 non-zeros\n",
      "*     0: obj =   1.763870297e+05 inf =   0.000e+00 (12016)\n",
      "*  8453: obj =   8.317013772e+04 inf =   0.000e+00 (3593)\n",
      "* 12074: obj =   5.852145444e+04 inf =   0.000e+00 (0)\n",
      "OPTIMAL LP SOLUTION FOUND\n",
      "Integer optimization begins...\n",
      "Long-step dual simplex will be used\n",
      "+ 12074: mip =     not found yet >=              -inf        (1; 0)\n",
      "+ 12074: >>>>>   5.852145444e+04 >=   5.852145444e+04   0.0% (1; 0)\n",
      "+ 12074: mip =   5.852145444e+04 >=     tree is empty   0.0% (0; 1)\n",
      "INTEGER OPTIMAL SOLUTION FOUND\n"
     ]
    },
    {
     "name": "stderr",
     "output_type": "stream",
     "text": [
      "[INFO][2023/08/22 06:14:00 pm]  - Fates.FALSE_POSITIVE: 11928 (of 13744)\n",
      "[INFO][2023/08/22 06:14:00 pm]  - Fates.LINK: 10 (of 76)\n",
      "[INFO][2023/08/22 06:14:00 pm]  - Fates.INITIALIZE_BORDER: 133 (of 493)\n",
      "[INFO][2023/08/22 06:14:00 pm]  - Fates.INITIALIZE_LAZY: 1673 (of 13251)\n",
      "[INFO][2023/08/22 06:14:00 pm]  - Fates.TERMINATE_BORDER: 122 (of 461)\n",
      "[INFO][2023/08/22 06:14:00 pm]  - Fates.TERMINATE_BACK: 178 (of 787)\n",
      "[INFO][2023/08/22 06:14:00 pm]  - Fates.TERMINATE_LAZY: 1506 (of 12496)\n",
      "[INFO][2023/08/22 06:14:00 pm]  - TOTAL: 41308 hypotheses\n",
      "[INFO][2023/08/22 06:14:00 pm] Completed optimization with 13734 tracks\n",
      "[INFO][2023/08/22 06:14:01 pm] Ending BayesianTracker session\n",
      "[INFO][2023/08/22 06:14:01 pm] Opening HDF file: /home/dayn/data/homuncu_loc_temp/results/image analysis_Nathan/Job_1/DAPI-NKX21-PDPN-ZO1/Day14_breath/20x_21-12-029B_A12346_Multichannel Z-Stack_20220819_286_sc_data.h5...\n",
      "[INFO][2023/08/22 06:14:01 pm] Writing objects/obj_type_1\n",
      "[INFO][2023/08/22 06:14:01 pm] Writing labels/obj_type_1\n",
      "[INFO][2023/08/22 06:14:01 pm] Loading objects/obj_type_1 (31206, 5) (31206 filtered: None)\n",
      "[INFO][2023/08/22 06:14:02 pm] Writing properties/obj_type_1/orientation (31206,)\n",
      "[INFO][2023/08/22 06:14:02 pm] Writing properties/obj_type_1/axis_major_length (31206,)\n",
      "[INFO][2023/08/22 06:14:02 pm] Writing properties/obj_type_1/mean_intensity (31206, 4)\n",
      "[INFO][2023/08/22 06:14:02 pm] Writing properties/obj_type_1/area (31206,)\n",
      "[INFO][2023/08/22 06:14:02 pm] Writing properties/obj_type_1/axis_minor_length (31206,)\n",
      "[INFO][2023/08/22 06:14:02 pm] Writing properties/obj_type_1/eccentricity (31206,)\n",
      "[INFO][2023/08/22 06:14:02 pm] Writing tracks/obj_type_1\n",
      "[INFO][2023/08/22 06:14:02 pm] Writing dummies/obj_type_1\n",
      "[INFO][2023/08/22 06:14:02 pm] Writing LBEP/obj_type_1\n",
      "[INFO][2023/08/22 06:14:02 pm] Writing fates/obj_type_1\n",
      "[INFO][2023/08/22 06:14:06 pm] Closing HDF file: /home/dayn/data/homuncu_loc_temp/results/image analysis_Nathan/Job_1/DAPI-NKX21-PDPN-ZO1/Day14_breath/20x_21-12-029B_A12346_Multichannel Z-Stack_20220819_286_sc_data.h5\n"
     ]
    },
    {
     "ename": "ConnectionError",
     "evalue": "HTTPSConnectionPool(host='api.twilio.com', port=443): Max retries exceeded with url: /2010-04-01/Accounts/AC5c24c3260ed6b1c8289de1897f4e5b39/Messages.json (Caused by NameResolutionError(\"<urllib3.connection.HTTPSConnection object at 0x7f582ac741c0>: Failed to resolve 'api.twilio.com' ([Errno -3] Temporary failure in name resolution)\"))",
     "output_type": "error",
     "traceback": [
      "\u001b[0;31m---------------------------------------------------------------------------\u001b[0m",
      "\u001b[0;31mgaierror\u001b[0m                                  Traceback (most recent call last)",
      "File \u001b[0;32m~/miniconda3/envs/brassica/lib/python3.9/site-packages/urllib3/connection.py:203\u001b[0m, in \u001b[0;36mHTTPConnection._new_conn\u001b[0;34m(self)\u001b[0m\n\u001b[1;32m    202\u001b[0m \u001b[38;5;28;01mtry\u001b[39;00m:\n\u001b[0;32m--> 203\u001b[0m     sock \u001b[38;5;241m=\u001b[39m \u001b[43mconnection\u001b[49m\u001b[38;5;241;43m.\u001b[39;49m\u001b[43mcreate_connection\u001b[49m\u001b[43m(\u001b[49m\n\u001b[1;32m    204\u001b[0m \u001b[43m        \u001b[49m\u001b[43m(\u001b[49m\u001b[38;5;28;43mself\u001b[39;49m\u001b[38;5;241;43m.\u001b[39;49m\u001b[43m_dns_host\u001b[49m\u001b[43m,\u001b[49m\u001b[43m \u001b[49m\u001b[38;5;28;43mself\u001b[39;49m\u001b[38;5;241;43m.\u001b[39;49m\u001b[43mport\u001b[49m\u001b[43m)\u001b[49m\u001b[43m,\u001b[49m\n\u001b[1;32m    205\u001b[0m \u001b[43m        \u001b[49m\u001b[38;5;28;43mself\u001b[39;49m\u001b[38;5;241;43m.\u001b[39;49m\u001b[43mtimeout\u001b[49m\u001b[43m,\u001b[49m\n\u001b[1;32m    206\u001b[0m \u001b[43m        \u001b[49m\u001b[43msource_address\u001b[49m\u001b[38;5;241;43m=\u001b[39;49m\u001b[38;5;28;43mself\u001b[39;49m\u001b[38;5;241;43m.\u001b[39;49m\u001b[43msource_address\u001b[49m\u001b[43m,\u001b[49m\n\u001b[1;32m    207\u001b[0m \u001b[43m        \u001b[49m\u001b[43msocket_options\u001b[49m\u001b[38;5;241;43m=\u001b[39;49m\u001b[38;5;28;43mself\u001b[39;49m\u001b[38;5;241;43m.\u001b[39;49m\u001b[43msocket_options\u001b[49m\u001b[43m,\u001b[49m\n\u001b[1;32m    208\u001b[0m \u001b[43m    \u001b[49m\u001b[43m)\u001b[49m\n\u001b[1;32m    209\u001b[0m \u001b[38;5;28;01mexcept\u001b[39;00m socket\u001b[38;5;241m.\u001b[39mgaierror \u001b[38;5;28;01mas\u001b[39;00m e:\n",
      "File \u001b[0;32m~/miniconda3/envs/brassica/lib/python3.9/site-packages/urllib3/util/connection.py:60\u001b[0m, in \u001b[0;36mcreate_connection\u001b[0;34m(address, timeout, source_address, socket_options)\u001b[0m\n\u001b[1;32m     58\u001b[0m     \u001b[38;5;28;01mraise\u001b[39;00m LocationParseError(\u001b[38;5;124mf\u001b[39m\u001b[38;5;124m\"\u001b[39m\u001b[38;5;124m'\u001b[39m\u001b[38;5;132;01m{\u001b[39;00mhost\u001b[38;5;132;01m}\u001b[39;00m\u001b[38;5;124m'\u001b[39m\u001b[38;5;124m, label empty or too long\u001b[39m\u001b[38;5;124m\"\u001b[39m) \u001b[38;5;28;01mfrom\u001b[39;00m \u001b[38;5;28;01mNone\u001b[39;00m\n\u001b[0;32m---> 60\u001b[0m \u001b[38;5;28;01mfor\u001b[39;00m res \u001b[38;5;129;01min\u001b[39;00m \u001b[43msocket\u001b[49m\u001b[38;5;241;43m.\u001b[39;49m\u001b[43mgetaddrinfo\u001b[49m\u001b[43m(\u001b[49m\u001b[43mhost\u001b[49m\u001b[43m,\u001b[49m\u001b[43m \u001b[49m\u001b[43mport\u001b[49m\u001b[43m,\u001b[49m\u001b[43m \u001b[49m\u001b[43mfamily\u001b[49m\u001b[43m,\u001b[49m\u001b[43m \u001b[49m\u001b[43msocket\u001b[49m\u001b[38;5;241;43m.\u001b[39;49m\u001b[43mSOCK_STREAM\u001b[49m\u001b[43m)\u001b[49m:\n\u001b[1;32m     61\u001b[0m     af, socktype, proto, canonname, sa \u001b[38;5;241m=\u001b[39m res\n",
      "File \u001b[0;32m~/miniconda3/envs/brassica/lib/python3.9/socket.py:954\u001b[0m, in \u001b[0;36mgetaddrinfo\u001b[0;34m(host, port, family, type, proto, flags)\u001b[0m\n\u001b[1;32m    953\u001b[0m addrlist \u001b[38;5;241m=\u001b[39m []\n\u001b[0;32m--> 954\u001b[0m \u001b[38;5;28;01mfor\u001b[39;00m res \u001b[38;5;129;01min\u001b[39;00m \u001b[43m_socket\u001b[49m\u001b[38;5;241;43m.\u001b[39;49m\u001b[43mgetaddrinfo\u001b[49m\u001b[43m(\u001b[49m\u001b[43mhost\u001b[49m\u001b[43m,\u001b[49m\u001b[43m \u001b[49m\u001b[43mport\u001b[49m\u001b[43m,\u001b[49m\u001b[43m \u001b[49m\u001b[43mfamily\u001b[49m\u001b[43m,\u001b[49m\u001b[43m \u001b[49m\u001b[38;5;28;43mtype\u001b[39;49m\u001b[43m,\u001b[49m\u001b[43m \u001b[49m\u001b[43mproto\u001b[49m\u001b[43m,\u001b[49m\u001b[43m \u001b[49m\u001b[43mflags\u001b[49m\u001b[43m)\u001b[49m:\n\u001b[1;32m    955\u001b[0m     af, socktype, proto, canonname, sa \u001b[38;5;241m=\u001b[39m res\n",
      "\u001b[0;31mgaierror\u001b[0m: [Errno -3] Temporary failure in name resolution",
      "\nThe above exception was the direct cause of the following exception:\n",
      "\u001b[0;31mNameResolutionError\u001b[0m                       Traceback (most recent call last)",
      "File \u001b[0;32m~/miniconda3/envs/brassica/lib/python3.9/site-packages/urllib3/connectionpool.py:790\u001b[0m, in \u001b[0;36mHTTPConnectionPool.urlopen\u001b[0;34m(self, method, url, body, headers, retries, redirect, assert_same_host, timeout, pool_timeout, release_conn, chunked, body_pos, preload_content, decode_content, **response_kw)\u001b[0m\n\u001b[1;32m    789\u001b[0m \u001b[38;5;66;03m# Make the request on the HTTPConnection object\u001b[39;00m\n\u001b[0;32m--> 790\u001b[0m response \u001b[38;5;241m=\u001b[39m \u001b[38;5;28;43mself\u001b[39;49m\u001b[38;5;241;43m.\u001b[39;49m\u001b[43m_make_request\u001b[49m\u001b[43m(\u001b[49m\n\u001b[1;32m    791\u001b[0m \u001b[43m    \u001b[49m\u001b[43mconn\u001b[49m\u001b[43m,\u001b[49m\n\u001b[1;32m    792\u001b[0m \u001b[43m    \u001b[49m\u001b[43mmethod\u001b[49m\u001b[43m,\u001b[49m\n\u001b[1;32m    793\u001b[0m \u001b[43m    \u001b[49m\u001b[43murl\u001b[49m\u001b[43m,\u001b[49m\n\u001b[1;32m    794\u001b[0m \u001b[43m    \u001b[49m\u001b[43mtimeout\u001b[49m\u001b[38;5;241;43m=\u001b[39;49m\u001b[43mtimeout_obj\u001b[49m\u001b[43m,\u001b[49m\n\u001b[1;32m    795\u001b[0m \u001b[43m    \u001b[49m\u001b[43mbody\u001b[49m\u001b[38;5;241;43m=\u001b[39;49m\u001b[43mbody\u001b[49m\u001b[43m,\u001b[49m\n\u001b[1;32m    796\u001b[0m \u001b[43m    \u001b[49m\u001b[43mheaders\u001b[49m\u001b[38;5;241;43m=\u001b[39;49m\u001b[43mheaders\u001b[49m\u001b[43m,\u001b[49m\n\u001b[1;32m    797\u001b[0m \u001b[43m    \u001b[49m\u001b[43mchunked\u001b[49m\u001b[38;5;241;43m=\u001b[39;49m\u001b[43mchunked\u001b[49m\u001b[43m,\u001b[49m\n\u001b[1;32m    798\u001b[0m \u001b[43m    \u001b[49m\u001b[43mretries\u001b[49m\u001b[38;5;241;43m=\u001b[39;49m\u001b[43mretries\u001b[49m\u001b[43m,\u001b[49m\n\u001b[1;32m    799\u001b[0m \u001b[43m    \u001b[49m\u001b[43mresponse_conn\u001b[49m\u001b[38;5;241;43m=\u001b[39;49m\u001b[43mresponse_conn\u001b[49m\u001b[43m,\u001b[49m\n\u001b[1;32m    800\u001b[0m \u001b[43m    \u001b[49m\u001b[43mpreload_content\u001b[49m\u001b[38;5;241;43m=\u001b[39;49m\u001b[43mpreload_content\u001b[49m\u001b[43m,\u001b[49m\n\u001b[1;32m    801\u001b[0m \u001b[43m    \u001b[49m\u001b[43mdecode_content\u001b[49m\u001b[38;5;241;43m=\u001b[39;49m\u001b[43mdecode_content\u001b[49m\u001b[43m,\u001b[49m\n\u001b[1;32m    802\u001b[0m \u001b[43m    \u001b[49m\u001b[38;5;241;43m*\u001b[39;49m\u001b[38;5;241;43m*\u001b[39;49m\u001b[43mresponse_kw\u001b[49m\u001b[43m,\u001b[49m\n\u001b[1;32m    803\u001b[0m \u001b[43m\u001b[49m\u001b[43m)\u001b[49m\n\u001b[1;32m    805\u001b[0m \u001b[38;5;66;03m# Everything went great!\u001b[39;00m\n",
      "File \u001b[0;32m~/miniconda3/envs/brassica/lib/python3.9/site-packages/urllib3/connectionpool.py:491\u001b[0m, in \u001b[0;36mHTTPConnectionPool._make_request\u001b[0;34m(self, conn, method, url, body, headers, retries, timeout, chunked, response_conn, preload_content, decode_content, enforce_content_length)\u001b[0m\n\u001b[1;32m    490\u001b[0m         new_e \u001b[38;5;241m=\u001b[39m _wrap_proxy_error(new_e, conn\u001b[38;5;241m.\u001b[39mproxy\u001b[38;5;241m.\u001b[39mscheme)\n\u001b[0;32m--> 491\u001b[0m     \u001b[38;5;28;01mraise\u001b[39;00m new_e\n\u001b[1;32m    493\u001b[0m \u001b[38;5;66;03m# conn.request() calls http.client.*.request, not the method in\u001b[39;00m\n\u001b[1;32m    494\u001b[0m \u001b[38;5;66;03m# urllib3.request. It also calls makefile (recv) on the socket.\u001b[39;00m\n",
      "File \u001b[0;32m~/miniconda3/envs/brassica/lib/python3.9/site-packages/urllib3/connectionpool.py:467\u001b[0m, in \u001b[0;36mHTTPConnectionPool._make_request\u001b[0;34m(self, conn, method, url, body, headers, retries, timeout, chunked, response_conn, preload_content, decode_content, enforce_content_length)\u001b[0m\n\u001b[1;32m    466\u001b[0m \u001b[38;5;28;01mtry\u001b[39;00m:\n\u001b[0;32m--> 467\u001b[0m     \u001b[38;5;28;43mself\u001b[39;49m\u001b[38;5;241;43m.\u001b[39;49m\u001b[43m_validate_conn\u001b[49m\u001b[43m(\u001b[49m\u001b[43mconn\u001b[49m\u001b[43m)\u001b[49m\n\u001b[1;32m    468\u001b[0m \u001b[38;5;28;01mexcept\u001b[39;00m (SocketTimeout, BaseSSLError) \u001b[38;5;28;01mas\u001b[39;00m e:\n",
      "File \u001b[0;32m~/miniconda3/envs/brassica/lib/python3.9/site-packages/urllib3/connectionpool.py:1092\u001b[0m, in \u001b[0;36mHTTPSConnectionPool._validate_conn\u001b[0;34m(self, conn)\u001b[0m\n\u001b[1;32m   1091\u001b[0m \u001b[38;5;28;01mif\u001b[39;00m conn\u001b[38;5;241m.\u001b[39mis_closed:\n\u001b[0;32m-> 1092\u001b[0m     \u001b[43mconn\u001b[49m\u001b[38;5;241;43m.\u001b[39;49m\u001b[43mconnect\u001b[49m\u001b[43m(\u001b[49m\u001b[43m)\u001b[49m\n\u001b[1;32m   1094\u001b[0m \u001b[38;5;28;01mif\u001b[39;00m \u001b[38;5;129;01mnot\u001b[39;00m conn\u001b[38;5;241m.\u001b[39mis_verified:\n",
      "File \u001b[0;32m~/miniconda3/envs/brassica/lib/python3.9/site-packages/urllib3/connection.py:611\u001b[0m, in \u001b[0;36mHTTPSConnection.connect\u001b[0;34m(self)\u001b[0m\n\u001b[1;32m    610\u001b[0m sock: socket\u001b[38;5;241m.\u001b[39msocket \u001b[38;5;241m|\u001b[39m ssl\u001b[38;5;241m.\u001b[39mSSLSocket\n\u001b[0;32m--> 611\u001b[0m \u001b[38;5;28mself\u001b[39m\u001b[38;5;241m.\u001b[39msock \u001b[38;5;241m=\u001b[39m sock \u001b[38;5;241m=\u001b[39m \u001b[38;5;28;43mself\u001b[39;49m\u001b[38;5;241;43m.\u001b[39;49m\u001b[43m_new_conn\u001b[49m\u001b[43m(\u001b[49m\u001b[43m)\u001b[49m\n\u001b[1;32m    612\u001b[0m server_hostname: \u001b[38;5;28mstr\u001b[39m \u001b[38;5;241m=\u001b[39m \u001b[38;5;28mself\u001b[39m\u001b[38;5;241m.\u001b[39mhost\n",
      "File \u001b[0;32m~/miniconda3/envs/brassica/lib/python3.9/site-packages/urllib3/connection.py:210\u001b[0m, in \u001b[0;36mHTTPConnection._new_conn\u001b[0;34m(self)\u001b[0m\n\u001b[1;32m    209\u001b[0m \u001b[38;5;28;01mexcept\u001b[39;00m socket\u001b[38;5;241m.\u001b[39mgaierror \u001b[38;5;28;01mas\u001b[39;00m e:\n\u001b[0;32m--> 210\u001b[0m     \u001b[38;5;28;01mraise\u001b[39;00m NameResolutionError(\u001b[38;5;28mself\u001b[39m\u001b[38;5;241m.\u001b[39mhost, \u001b[38;5;28mself\u001b[39m, e) \u001b[38;5;28;01mfrom\u001b[39;00m \u001b[38;5;21;01me\u001b[39;00m\n\u001b[1;32m    211\u001b[0m \u001b[38;5;28;01mexcept\u001b[39;00m SocketTimeout \u001b[38;5;28;01mas\u001b[39;00m e:\n",
      "\u001b[0;31mNameResolutionError\u001b[0m: <urllib3.connection.HTTPSConnection object at 0x7f582ac741c0>: Failed to resolve 'api.twilio.com' ([Errno -3] Temporary failure in name resolution)",
      "\nThe above exception was the direct cause of the following exception:\n",
      "\u001b[0;31mMaxRetryError\u001b[0m                             Traceback (most recent call last)",
      "File \u001b[0;32m~/miniconda3/envs/brassica/lib/python3.9/site-packages/requests/adapters.py:486\u001b[0m, in \u001b[0;36mHTTPAdapter.send\u001b[0;34m(self, request, stream, timeout, verify, cert, proxies)\u001b[0m\n\u001b[1;32m    485\u001b[0m \u001b[38;5;28;01mtry\u001b[39;00m:\n\u001b[0;32m--> 486\u001b[0m     resp \u001b[38;5;241m=\u001b[39m \u001b[43mconn\u001b[49m\u001b[38;5;241;43m.\u001b[39;49m\u001b[43murlopen\u001b[49m\u001b[43m(\u001b[49m\n\u001b[1;32m    487\u001b[0m \u001b[43m        \u001b[49m\u001b[43mmethod\u001b[49m\u001b[38;5;241;43m=\u001b[39;49m\u001b[43mrequest\u001b[49m\u001b[38;5;241;43m.\u001b[39;49m\u001b[43mmethod\u001b[49m\u001b[43m,\u001b[49m\n\u001b[1;32m    488\u001b[0m \u001b[43m        \u001b[49m\u001b[43murl\u001b[49m\u001b[38;5;241;43m=\u001b[39;49m\u001b[43murl\u001b[49m\u001b[43m,\u001b[49m\n\u001b[1;32m    489\u001b[0m \u001b[43m        \u001b[49m\u001b[43mbody\u001b[49m\u001b[38;5;241;43m=\u001b[39;49m\u001b[43mrequest\u001b[49m\u001b[38;5;241;43m.\u001b[39;49m\u001b[43mbody\u001b[49m\u001b[43m,\u001b[49m\n\u001b[1;32m    490\u001b[0m \u001b[43m        \u001b[49m\u001b[43mheaders\u001b[49m\u001b[38;5;241;43m=\u001b[39;49m\u001b[43mrequest\u001b[49m\u001b[38;5;241;43m.\u001b[39;49m\u001b[43mheaders\u001b[49m\u001b[43m,\u001b[49m\n\u001b[1;32m    491\u001b[0m \u001b[43m        \u001b[49m\u001b[43mredirect\u001b[49m\u001b[38;5;241;43m=\u001b[39;49m\u001b[38;5;28;43;01mFalse\u001b[39;49;00m\u001b[43m,\u001b[49m\n\u001b[1;32m    492\u001b[0m \u001b[43m        \u001b[49m\u001b[43massert_same_host\u001b[49m\u001b[38;5;241;43m=\u001b[39;49m\u001b[38;5;28;43;01mFalse\u001b[39;49;00m\u001b[43m,\u001b[49m\n\u001b[1;32m    493\u001b[0m \u001b[43m        \u001b[49m\u001b[43mpreload_content\u001b[49m\u001b[38;5;241;43m=\u001b[39;49m\u001b[38;5;28;43;01mFalse\u001b[39;49;00m\u001b[43m,\u001b[49m\n\u001b[1;32m    494\u001b[0m \u001b[43m        \u001b[49m\u001b[43mdecode_content\u001b[49m\u001b[38;5;241;43m=\u001b[39;49m\u001b[38;5;28;43;01mFalse\u001b[39;49;00m\u001b[43m,\u001b[49m\n\u001b[1;32m    495\u001b[0m \u001b[43m        \u001b[49m\u001b[43mretries\u001b[49m\u001b[38;5;241;43m=\u001b[39;49m\u001b[38;5;28;43mself\u001b[39;49m\u001b[38;5;241;43m.\u001b[39;49m\u001b[43mmax_retries\u001b[49m\u001b[43m,\u001b[49m\n\u001b[1;32m    496\u001b[0m \u001b[43m        \u001b[49m\u001b[43mtimeout\u001b[49m\u001b[38;5;241;43m=\u001b[39;49m\u001b[43mtimeout\u001b[49m\u001b[43m,\u001b[49m\n\u001b[1;32m    497\u001b[0m \u001b[43m        \u001b[49m\u001b[43mchunked\u001b[49m\u001b[38;5;241;43m=\u001b[39;49m\u001b[43mchunked\u001b[49m\u001b[43m,\u001b[49m\n\u001b[1;32m    498\u001b[0m \u001b[43m    \u001b[49m\u001b[43m)\u001b[49m\n\u001b[1;32m    500\u001b[0m \u001b[38;5;28;01mexcept\u001b[39;00m (ProtocolError, \u001b[38;5;167;01mOSError\u001b[39;00m) \u001b[38;5;28;01mas\u001b[39;00m err:\n",
      "File \u001b[0;32m~/miniconda3/envs/brassica/lib/python3.9/site-packages/urllib3/connectionpool.py:844\u001b[0m, in \u001b[0;36mHTTPConnectionPool.urlopen\u001b[0;34m(self, method, url, body, headers, retries, redirect, assert_same_host, timeout, pool_timeout, release_conn, chunked, body_pos, preload_content, decode_content, **response_kw)\u001b[0m\n\u001b[1;32m    842\u001b[0m     new_e \u001b[38;5;241m=\u001b[39m ProtocolError(\u001b[38;5;124m\"\u001b[39m\u001b[38;5;124mConnection aborted.\u001b[39m\u001b[38;5;124m\"\u001b[39m, new_e)\n\u001b[0;32m--> 844\u001b[0m retries \u001b[38;5;241m=\u001b[39m \u001b[43mretries\u001b[49m\u001b[38;5;241;43m.\u001b[39;49m\u001b[43mincrement\u001b[49m\u001b[43m(\u001b[49m\n\u001b[1;32m    845\u001b[0m \u001b[43m    \u001b[49m\u001b[43mmethod\u001b[49m\u001b[43m,\u001b[49m\u001b[43m \u001b[49m\u001b[43murl\u001b[49m\u001b[43m,\u001b[49m\u001b[43m \u001b[49m\u001b[43merror\u001b[49m\u001b[38;5;241;43m=\u001b[39;49m\u001b[43mnew_e\u001b[49m\u001b[43m,\u001b[49m\u001b[43m \u001b[49m\u001b[43m_pool\u001b[49m\u001b[38;5;241;43m=\u001b[39;49m\u001b[38;5;28;43mself\u001b[39;49m\u001b[43m,\u001b[49m\u001b[43m \u001b[49m\u001b[43m_stacktrace\u001b[49m\u001b[38;5;241;43m=\u001b[39;49m\u001b[43msys\u001b[49m\u001b[38;5;241;43m.\u001b[39;49m\u001b[43mexc_info\u001b[49m\u001b[43m(\u001b[49m\u001b[43m)\u001b[49m\u001b[43m[\u001b[49m\u001b[38;5;241;43m2\u001b[39;49m\u001b[43m]\u001b[49m\n\u001b[1;32m    846\u001b[0m \u001b[43m\u001b[49m\u001b[43m)\u001b[49m\n\u001b[1;32m    847\u001b[0m retries\u001b[38;5;241m.\u001b[39msleep()\n",
      "File \u001b[0;32m~/miniconda3/envs/brassica/lib/python3.9/site-packages/urllib3/util/retry.py:515\u001b[0m, in \u001b[0;36mRetry.increment\u001b[0;34m(self, method, url, response, error, _pool, _stacktrace)\u001b[0m\n\u001b[1;32m    514\u001b[0m     reason \u001b[38;5;241m=\u001b[39m error \u001b[38;5;129;01mor\u001b[39;00m ResponseError(cause)\n\u001b[0;32m--> 515\u001b[0m     \u001b[38;5;28;01mraise\u001b[39;00m MaxRetryError(_pool, url, reason) \u001b[38;5;28;01mfrom\u001b[39;00m \u001b[38;5;21;01mreason\u001b[39;00m  \u001b[38;5;66;03m# type: ignore[arg-type]\u001b[39;00m\n\u001b[1;32m    517\u001b[0m log\u001b[38;5;241m.\u001b[39mdebug(\u001b[38;5;124m\"\u001b[39m\u001b[38;5;124mIncremented Retry for (url=\u001b[39m\u001b[38;5;124m'\u001b[39m\u001b[38;5;132;01m%s\u001b[39;00m\u001b[38;5;124m'\u001b[39m\u001b[38;5;124m): \u001b[39m\u001b[38;5;132;01m%r\u001b[39;00m\u001b[38;5;124m\"\u001b[39m, url, new_retry)\n",
      "\u001b[0;31mMaxRetryError\u001b[0m: HTTPSConnectionPool(host='api.twilio.com', port=443): Max retries exceeded with url: /2010-04-01/Accounts/AC5c24c3260ed6b1c8289de1897f4e5b39/Messages.json (Caused by NameResolutionError(\"<urllib3.connection.HTTPSConnection object at 0x7f582ac741c0>: Failed to resolve 'api.twilio.com' ([Errno -3] Temporary failure in name resolution)\"))",
      "\nDuring handling of the above exception, another exception occurred:\n",
      "\u001b[0;31mConnectionError\u001b[0m                           Traceback (most recent call last)",
      "Cell \u001b[0;32mIn[23], line 44\u001b[0m\n\u001b[1;32m     42\u001b[0m         writer\u001b[38;5;241m.\u001b[39mwrite_segmentation(segmentation)\n\u001b[1;32m     43\u001b[0m \u001b[38;5;66;03m# notify me\u001b[39;00m\n\u001b[0;32m---> 44\u001b[0m \u001b[43mnotify\u001b[49m\u001b[38;5;241;43m.\u001b[39;49m\u001b[43msend_sms\u001b[49m\u001b[43m(\u001b[49m\u001b[38;5;124;43mf\u001b[39;49m\u001b[38;5;124;43m'\u001b[39;49m\u001b[38;5;132;43;01m{\u001b[39;49;00m\u001b[43mimage_basename\u001b[49m\u001b[38;5;132;43;01m}\u001b[39;49;00m\u001b[38;5;124;43m complete\u001b[39;49m\u001b[38;5;124;43m'\u001b[39;49m\u001b[43m)\u001b[49m\n",
      "File \u001b[0;32m~/analysis/macrohet/macrohet/notify.py:8\u001b[0m, in \u001b[0;36msend_sms\u001b[0;34m(msg)\u001b[0m\n\u001b[1;32m      7\u001b[0m \u001b[38;5;28;01mdef\u001b[39;00m \u001b[38;5;21msend_sms\u001b[39m(msg):\n\u001b[0;32m----> 8\u001b[0m     message \u001b[38;5;241m=\u001b[39m \u001b[43mclient\u001b[49m\u001b[38;5;241;43m.\u001b[39;49m\u001b[43mmessages\u001b[49m\u001b[43m \u001b[49m\u001b[43m\\\u001b[49m\n\u001b[1;32m      9\u001b[0m \u001b[43m    \u001b[49m\u001b[38;5;241;43m.\u001b[39;49m\u001b[43mcreate\u001b[49m\u001b[43m(\u001b[49m\n\u001b[1;32m     10\u001b[0m \u001b[43m         \u001b[49m\u001b[43mbody\u001b[49m\u001b[38;5;241;43m=\u001b[39;49m\u001b[43mmsg\u001b[49m\u001b[43m,\u001b[49m\n\u001b[1;32m     11\u001b[0m \u001b[43m         \u001b[49m\u001b[43mfrom_\u001b[49m\u001b[43m \u001b[49m\u001b[38;5;241;43m=\u001b[39;49m\u001b[43m \u001b[49m\u001b[38;5;124;43m'\u001b[39;49m\u001b[38;5;124;43m+447897036683\u001b[39;49m\u001b[38;5;124;43m'\u001b[39;49m\u001b[43m,\u001b[49m\n\u001b[1;32m     12\u001b[0m \u001b[43m         \u001b[49m\u001b[43mto\u001b[49m\u001b[43m \u001b[49m\u001b[38;5;241;43m=\u001b[39;49m\u001b[43m \u001b[49m\u001b[38;5;124;43m'\u001b[39;49m\u001b[38;5;124;43m+447421002410\u001b[39;49m\u001b[38;5;124;43m'\u001b[39;49m\n\u001b[1;32m     13\u001b[0m \u001b[43m     \u001b[49m\u001b[43m)\u001b[49m\n",
      "File \u001b[0;32m~/miniconda3/envs/brassica/lib/python3.9/site-packages/twilio/rest/api/v2010/account/message/__init__.py:551\u001b[0m, in \u001b[0;36mMessageList.create\u001b[0;34m(self, to, status_callback, application_sid, max_price, provide_feedback, attempt, validity_period, force_delivery, content_retention, address_retention, smart_encoded, persistent_action, shorten_urls, schedule_type, send_at, send_as_mms, content_variables, from_, messaging_service_sid, body, media_url, content_sid)\u001b[0m\n\u001b[1;32m    496\u001b[0m \u001b[38;5;250m\u001b[39m\u001b[38;5;124;03m\"\"\"\u001b[39;00m\n\u001b[1;32m    497\u001b[0m \u001b[38;5;124;03mCreate the MessageInstance\u001b[39;00m\n\u001b[1;32m    498\u001b[0m \n\u001b[0;32m   (...)\u001b[0m\n\u001b[1;32m    522\u001b[0m \u001b[38;5;124;03m:returns: The created MessageInstance\u001b[39;00m\n\u001b[1;32m    523\u001b[0m \u001b[38;5;124;03m\"\"\"\u001b[39;00m\n\u001b[1;32m    524\u001b[0m data \u001b[38;5;241m=\u001b[39m values\u001b[38;5;241m.\u001b[39mof(\n\u001b[1;32m    525\u001b[0m     {\n\u001b[1;32m    526\u001b[0m         \u001b[38;5;124m\"\u001b[39m\u001b[38;5;124mTo\u001b[39m\u001b[38;5;124m\"\u001b[39m: to,\n\u001b[0;32m   (...)\u001b[0m\n\u001b[1;32m    548\u001b[0m     }\n\u001b[1;32m    549\u001b[0m )\n\u001b[0;32m--> 551\u001b[0m payload \u001b[38;5;241m=\u001b[39m \u001b[38;5;28;43mself\u001b[39;49m\u001b[38;5;241;43m.\u001b[39;49m\u001b[43m_version\u001b[49m\u001b[38;5;241;43m.\u001b[39;49m\u001b[43mcreate\u001b[49m\u001b[43m(\u001b[49m\n\u001b[1;32m    552\u001b[0m \u001b[43m    \u001b[49m\u001b[43mmethod\u001b[49m\u001b[38;5;241;43m=\u001b[39;49m\u001b[38;5;124;43m\"\u001b[39;49m\u001b[38;5;124;43mPOST\u001b[39;49m\u001b[38;5;124;43m\"\u001b[39;49m\u001b[43m,\u001b[49m\n\u001b[1;32m    553\u001b[0m \u001b[43m    \u001b[49m\u001b[43muri\u001b[49m\u001b[38;5;241;43m=\u001b[39;49m\u001b[38;5;28;43mself\u001b[39;49m\u001b[38;5;241;43m.\u001b[39;49m\u001b[43m_uri\u001b[49m\u001b[43m,\u001b[49m\n\u001b[1;32m    554\u001b[0m \u001b[43m    \u001b[49m\u001b[43mdata\u001b[49m\u001b[38;5;241;43m=\u001b[39;49m\u001b[43mdata\u001b[49m\u001b[43m,\u001b[49m\n\u001b[1;32m    555\u001b[0m \u001b[43m\u001b[49m\u001b[43m)\u001b[49m\n\u001b[1;32m    557\u001b[0m \u001b[38;5;28;01mreturn\u001b[39;00m MessageInstance(\n\u001b[1;32m    558\u001b[0m     \u001b[38;5;28mself\u001b[39m\u001b[38;5;241m.\u001b[39m_version, payload, account_sid\u001b[38;5;241m=\u001b[39m\u001b[38;5;28mself\u001b[39m\u001b[38;5;241m.\u001b[39m_solution[\u001b[38;5;124m\"\u001b[39m\u001b[38;5;124maccount_sid\u001b[39m\u001b[38;5;124m\"\u001b[39m]\n\u001b[1;32m    559\u001b[0m )\n",
      "File \u001b[0;32m~/miniconda3/envs/brassica/lib/python3.9/site-packages/twilio/base/version.py:454\u001b[0m, in \u001b[0;36mVersion.create\u001b[0;34m(self, method, uri, params, data, headers, auth, timeout, allow_redirects)\u001b[0m\n\u001b[1;32m    440\u001b[0m \u001b[38;5;28;01mdef\u001b[39;00m \u001b[38;5;21mcreate\u001b[39m(\n\u001b[1;32m    441\u001b[0m     \u001b[38;5;28mself\u001b[39m,\n\u001b[1;32m    442\u001b[0m     method: \u001b[38;5;28mstr\u001b[39m,\n\u001b[0;32m   (...)\u001b[0m\n\u001b[1;32m    449\u001b[0m     allow_redirects: \u001b[38;5;28mbool\u001b[39m \u001b[38;5;241m=\u001b[39m \u001b[38;5;28;01mFalse\u001b[39;00m,\n\u001b[1;32m    450\u001b[0m ) \u001b[38;5;241m-\u001b[39m\u001b[38;5;241m>\u001b[39m Any:\n\u001b[1;32m    451\u001b[0m \u001b[38;5;250m    \u001b[39m\u001b[38;5;124;03m\"\"\"\u001b[39;00m\n\u001b[1;32m    452\u001b[0m \u001b[38;5;124;03m    Create a resource instance.\u001b[39;00m\n\u001b[1;32m    453\u001b[0m \u001b[38;5;124;03m    \"\"\"\u001b[39;00m\n\u001b[0;32m--> 454\u001b[0m     response \u001b[38;5;241m=\u001b[39m \u001b[38;5;28;43mself\u001b[39;49m\u001b[38;5;241;43m.\u001b[39;49m\u001b[43mrequest\u001b[49m\u001b[43m(\u001b[49m\n\u001b[1;32m    455\u001b[0m \u001b[43m        \u001b[49m\u001b[43mmethod\u001b[49m\u001b[43m,\u001b[49m\n\u001b[1;32m    456\u001b[0m \u001b[43m        \u001b[49m\u001b[43muri\u001b[49m\u001b[43m,\u001b[49m\n\u001b[1;32m    457\u001b[0m \u001b[43m        \u001b[49m\u001b[43mparams\u001b[49m\u001b[38;5;241;43m=\u001b[39;49m\u001b[43mparams\u001b[49m\u001b[43m,\u001b[49m\n\u001b[1;32m    458\u001b[0m \u001b[43m        \u001b[49m\u001b[43mdata\u001b[49m\u001b[38;5;241;43m=\u001b[39;49m\u001b[43mdata\u001b[49m\u001b[43m,\u001b[49m\n\u001b[1;32m    459\u001b[0m \u001b[43m        \u001b[49m\u001b[43mheaders\u001b[49m\u001b[38;5;241;43m=\u001b[39;49m\u001b[43mheaders\u001b[49m\u001b[43m,\u001b[49m\n\u001b[1;32m    460\u001b[0m \u001b[43m        \u001b[49m\u001b[43mauth\u001b[49m\u001b[38;5;241;43m=\u001b[39;49m\u001b[43mauth\u001b[49m\u001b[43m,\u001b[49m\n\u001b[1;32m    461\u001b[0m \u001b[43m        \u001b[49m\u001b[43mtimeout\u001b[49m\u001b[38;5;241;43m=\u001b[39;49m\u001b[43mtimeout\u001b[49m\u001b[43m,\u001b[49m\n\u001b[1;32m    462\u001b[0m \u001b[43m        \u001b[49m\u001b[43mallow_redirects\u001b[49m\u001b[38;5;241;43m=\u001b[39;49m\u001b[43mallow_redirects\u001b[49m\u001b[43m,\u001b[49m\n\u001b[1;32m    463\u001b[0m \u001b[43m    \u001b[49m\u001b[43m)\u001b[49m\n\u001b[1;32m    465\u001b[0m     \u001b[38;5;28;01mreturn\u001b[39;00m \u001b[38;5;28mself\u001b[39m\u001b[38;5;241m.\u001b[39m_parse_create(method, uri, response)\n",
      "File \u001b[0;32m~/miniconda3/envs/brassica/lib/python3.9/site-packages/twilio/base/version.py:47\u001b[0m, in \u001b[0;36mVersion.request\u001b[0;34m(self, method, uri, params, data, headers, auth, timeout, allow_redirects)\u001b[0m\n\u001b[1;32m     43\u001b[0m \u001b[38;5;250m\u001b[39m\u001b[38;5;124;03m\"\"\"\u001b[39;00m\n\u001b[1;32m     44\u001b[0m \u001b[38;5;124;03mMake an HTTP request.\u001b[39;00m\n\u001b[1;32m     45\u001b[0m \u001b[38;5;124;03m\"\"\"\u001b[39;00m\n\u001b[1;32m     46\u001b[0m url \u001b[38;5;241m=\u001b[39m \u001b[38;5;28mself\u001b[39m\u001b[38;5;241m.\u001b[39mrelative_uri(uri)\n\u001b[0;32m---> 47\u001b[0m \u001b[38;5;28;01mreturn\u001b[39;00m \u001b[38;5;28;43mself\u001b[39;49m\u001b[38;5;241;43m.\u001b[39;49m\u001b[43mdomain\u001b[49m\u001b[38;5;241;43m.\u001b[39;49m\u001b[43mrequest\u001b[49m\u001b[43m(\u001b[49m\n\u001b[1;32m     48\u001b[0m \u001b[43m    \u001b[49m\u001b[43mmethod\u001b[49m\u001b[43m,\u001b[49m\n\u001b[1;32m     49\u001b[0m \u001b[43m    \u001b[49m\u001b[43murl\u001b[49m\u001b[43m,\u001b[49m\n\u001b[1;32m     50\u001b[0m \u001b[43m    \u001b[49m\u001b[43mparams\u001b[49m\u001b[38;5;241;43m=\u001b[39;49m\u001b[43mparams\u001b[49m\u001b[43m,\u001b[49m\n\u001b[1;32m     51\u001b[0m \u001b[43m    \u001b[49m\u001b[43mdata\u001b[49m\u001b[38;5;241;43m=\u001b[39;49m\u001b[43mdata\u001b[49m\u001b[43m,\u001b[49m\n\u001b[1;32m     52\u001b[0m \u001b[43m    \u001b[49m\u001b[43mheaders\u001b[49m\u001b[38;5;241;43m=\u001b[39;49m\u001b[43mheaders\u001b[49m\u001b[43m,\u001b[49m\n\u001b[1;32m     53\u001b[0m \u001b[43m    \u001b[49m\u001b[43mauth\u001b[49m\u001b[38;5;241;43m=\u001b[39;49m\u001b[43mauth\u001b[49m\u001b[43m,\u001b[49m\n\u001b[1;32m     54\u001b[0m \u001b[43m    \u001b[49m\u001b[43mtimeout\u001b[49m\u001b[38;5;241;43m=\u001b[39;49m\u001b[43mtimeout\u001b[49m\u001b[43m,\u001b[49m\n\u001b[1;32m     55\u001b[0m \u001b[43m    \u001b[49m\u001b[43mallow_redirects\u001b[49m\u001b[38;5;241;43m=\u001b[39;49m\u001b[43mallow_redirects\u001b[49m\u001b[43m,\u001b[49m\n\u001b[1;32m     56\u001b[0m \u001b[43m\u001b[49m\u001b[43m)\u001b[49m\n",
      "File \u001b[0;32m~/miniconda3/envs/brassica/lib/python3.9/site-packages/twilio/base/domain.py:49\u001b[0m, in \u001b[0;36mDomain.request\u001b[0;34m(self, method, uri, params, data, headers, auth, timeout, allow_redirects)\u001b[0m\n\u001b[1;32m     36\u001b[0m \u001b[38;5;250m\u001b[39m\u001b[38;5;124;03m\"\"\"\u001b[39;00m\n\u001b[1;32m     37\u001b[0m \u001b[38;5;124;03mMakes an HTTP request to this domain.\u001b[39;00m\n\u001b[1;32m     38\u001b[0m \u001b[38;5;124;03m:param method: The HTTP method.\u001b[39;00m\n\u001b[0;32m   (...)\u001b[0m\n\u001b[1;32m     46\u001b[0m \u001b[38;5;124;03mredirects.\u001b[39;00m\n\u001b[1;32m     47\u001b[0m \u001b[38;5;124;03m\"\"\"\u001b[39;00m\n\u001b[1;32m     48\u001b[0m url \u001b[38;5;241m=\u001b[39m \u001b[38;5;28mself\u001b[39m\u001b[38;5;241m.\u001b[39mabsolute_url(uri)\n\u001b[0;32m---> 49\u001b[0m \u001b[38;5;28;01mreturn\u001b[39;00m \u001b[38;5;28;43mself\u001b[39;49m\u001b[38;5;241;43m.\u001b[39;49m\u001b[43mtwilio\u001b[49m\u001b[38;5;241;43m.\u001b[39;49m\u001b[43mrequest\u001b[49m\u001b[43m(\u001b[49m\n\u001b[1;32m     50\u001b[0m \u001b[43m    \u001b[49m\u001b[43mmethod\u001b[49m\u001b[43m,\u001b[49m\n\u001b[1;32m     51\u001b[0m \u001b[43m    \u001b[49m\u001b[43murl\u001b[49m\u001b[43m,\u001b[49m\n\u001b[1;32m     52\u001b[0m \u001b[43m    \u001b[49m\u001b[43mparams\u001b[49m\u001b[38;5;241;43m=\u001b[39;49m\u001b[43mparams\u001b[49m\u001b[43m,\u001b[49m\n\u001b[1;32m     53\u001b[0m \u001b[43m    \u001b[49m\u001b[43mdata\u001b[49m\u001b[38;5;241;43m=\u001b[39;49m\u001b[43mdata\u001b[49m\u001b[43m,\u001b[49m\n\u001b[1;32m     54\u001b[0m \u001b[43m    \u001b[49m\u001b[43mheaders\u001b[49m\u001b[38;5;241;43m=\u001b[39;49m\u001b[43mheaders\u001b[49m\u001b[43m,\u001b[49m\n\u001b[1;32m     55\u001b[0m \u001b[43m    \u001b[49m\u001b[43mauth\u001b[49m\u001b[38;5;241;43m=\u001b[39;49m\u001b[43mauth\u001b[49m\u001b[43m,\u001b[49m\n\u001b[1;32m     56\u001b[0m \u001b[43m    \u001b[49m\u001b[43mtimeout\u001b[49m\u001b[38;5;241;43m=\u001b[39;49m\u001b[43mtimeout\u001b[49m\u001b[43m,\u001b[49m\n\u001b[1;32m     57\u001b[0m \u001b[43m    \u001b[49m\u001b[43mallow_redirects\u001b[49m\u001b[38;5;241;43m=\u001b[39;49m\u001b[43mallow_redirects\u001b[49m\u001b[43m,\u001b[49m\n\u001b[1;32m     58\u001b[0m \u001b[43m\u001b[49m\u001b[43m)\u001b[49m\n",
      "File \u001b[0;32m~/miniconda3/envs/brassica/lib/python3.9/site-packages/twilio/base/client_base.py:92\u001b[0m, in \u001b[0;36mClientBase.request\u001b[0;34m(self, method, uri, params, data, headers, auth, timeout, allow_redirects)\u001b[0m\n\u001b[1;32m     89\u001b[0m headers \u001b[38;5;241m=\u001b[39m \u001b[38;5;28mself\u001b[39m\u001b[38;5;241m.\u001b[39mget_headers(method, headers)\n\u001b[1;32m     90\u001b[0m uri \u001b[38;5;241m=\u001b[39m \u001b[38;5;28mself\u001b[39m\u001b[38;5;241m.\u001b[39mget_hostname(uri)\n\u001b[0;32m---> 92\u001b[0m \u001b[38;5;28;01mreturn\u001b[39;00m \u001b[38;5;28;43mself\u001b[39;49m\u001b[38;5;241;43m.\u001b[39;49m\u001b[43mhttp_client\u001b[49m\u001b[38;5;241;43m.\u001b[39;49m\u001b[43mrequest\u001b[49m\u001b[43m(\u001b[49m\n\u001b[1;32m     93\u001b[0m \u001b[43m    \u001b[49m\u001b[43mmethod\u001b[49m\u001b[43m,\u001b[49m\n\u001b[1;32m     94\u001b[0m \u001b[43m    \u001b[49m\u001b[43muri\u001b[49m\u001b[43m,\u001b[49m\n\u001b[1;32m     95\u001b[0m \u001b[43m    \u001b[49m\u001b[43mparams\u001b[49m\u001b[38;5;241;43m=\u001b[39;49m\u001b[43mparams\u001b[49m\u001b[43m,\u001b[49m\n\u001b[1;32m     96\u001b[0m \u001b[43m    \u001b[49m\u001b[43mdata\u001b[49m\u001b[38;5;241;43m=\u001b[39;49m\u001b[43mdata\u001b[49m\u001b[43m,\u001b[49m\n\u001b[1;32m     97\u001b[0m \u001b[43m    \u001b[49m\u001b[43mheaders\u001b[49m\u001b[38;5;241;43m=\u001b[39;49m\u001b[43mheaders\u001b[49m\u001b[43m,\u001b[49m\n\u001b[1;32m     98\u001b[0m \u001b[43m    \u001b[49m\u001b[43mauth\u001b[49m\u001b[38;5;241;43m=\u001b[39;49m\u001b[43mauth\u001b[49m\u001b[43m,\u001b[49m\n\u001b[1;32m     99\u001b[0m \u001b[43m    \u001b[49m\u001b[43mtimeout\u001b[49m\u001b[38;5;241;43m=\u001b[39;49m\u001b[43mtimeout\u001b[49m\u001b[43m,\u001b[49m\n\u001b[1;32m    100\u001b[0m \u001b[43m    \u001b[49m\u001b[43mallow_redirects\u001b[49m\u001b[38;5;241;43m=\u001b[39;49m\u001b[43mallow_redirects\u001b[49m\u001b[43m,\u001b[49m\n\u001b[1;32m    101\u001b[0m \u001b[43m\u001b[49m\u001b[43m)\u001b[49m\n",
      "File \u001b[0;32m~/miniconda3/envs/brassica/lib/python3.9/site-packages/twilio/http/http_client.py:101\u001b[0m, in \u001b[0;36mTwilioHttpClient.request\u001b[0;34m(self, method, url, params, data, headers, auth, timeout, allow_redirects)\u001b[0m\n\u001b[1;32m     95\u001b[0m prepped_request \u001b[38;5;241m=\u001b[39m session\u001b[38;5;241m.\u001b[39mprepare_request(request)\n\u001b[1;32m     97\u001b[0m settings \u001b[38;5;241m=\u001b[39m session\u001b[38;5;241m.\u001b[39mmerge_environment_settings(\n\u001b[1;32m     98\u001b[0m     prepped_request\u001b[38;5;241m.\u001b[39murl, \u001b[38;5;28mself\u001b[39m\u001b[38;5;241m.\u001b[39mproxy, \u001b[38;5;28;01mNone\u001b[39;00m, \u001b[38;5;28;01mNone\u001b[39;00m, \u001b[38;5;28;01mNone\u001b[39;00m\n\u001b[1;32m     99\u001b[0m )\n\u001b[0;32m--> 101\u001b[0m response \u001b[38;5;241m=\u001b[39m \u001b[43msession\u001b[49m\u001b[38;5;241;43m.\u001b[39;49m\u001b[43msend\u001b[49m\u001b[43m(\u001b[49m\n\u001b[1;32m    102\u001b[0m \u001b[43m    \u001b[49m\u001b[43mprepped_request\u001b[49m\u001b[43m,\u001b[49m\n\u001b[1;32m    103\u001b[0m \u001b[43m    \u001b[49m\u001b[43mallow_redirects\u001b[49m\u001b[38;5;241;43m=\u001b[39;49m\u001b[43mallow_redirects\u001b[49m\u001b[43m,\u001b[49m\n\u001b[1;32m    104\u001b[0m \u001b[43m    \u001b[49m\u001b[43mtimeout\u001b[49m\u001b[38;5;241;43m=\u001b[39;49m\u001b[43mtimeout\u001b[49m\u001b[43m,\u001b[49m\n\u001b[1;32m    105\u001b[0m \u001b[43m    \u001b[49m\u001b[38;5;241;43m*\u001b[39;49m\u001b[38;5;241;43m*\u001b[39;49m\u001b[43msettings\u001b[49m\n\u001b[1;32m    106\u001b[0m \u001b[43m\u001b[49m\u001b[43m)\u001b[49m\n\u001b[1;32m    108\u001b[0m \u001b[38;5;28mself\u001b[39m\u001b[38;5;241m.\u001b[39mlog_response(response\u001b[38;5;241m.\u001b[39mstatus_code, response)\n\u001b[1;32m    110\u001b[0m \u001b[38;5;28mself\u001b[39m\u001b[38;5;241m.\u001b[39m_test_only_last_response \u001b[38;5;241m=\u001b[39m Response(\n\u001b[1;32m    111\u001b[0m     \u001b[38;5;28mint\u001b[39m(response\u001b[38;5;241m.\u001b[39mstatus_code), response\u001b[38;5;241m.\u001b[39mtext, response\u001b[38;5;241m.\u001b[39mheaders\n\u001b[1;32m    112\u001b[0m )\n",
      "File \u001b[0;32m~/miniconda3/envs/brassica/lib/python3.9/site-packages/requests/sessions.py:703\u001b[0m, in \u001b[0;36mSession.send\u001b[0;34m(self, request, **kwargs)\u001b[0m\n\u001b[1;32m    700\u001b[0m start \u001b[38;5;241m=\u001b[39m preferred_clock()\n\u001b[1;32m    702\u001b[0m \u001b[38;5;66;03m# Send the request\u001b[39;00m\n\u001b[0;32m--> 703\u001b[0m r \u001b[38;5;241m=\u001b[39m \u001b[43madapter\u001b[49m\u001b[38;5;241;43m.\u001b[39;49m\u001b[43msend\u001b[49m\u001b[43m(\u001b[49m\u001b[43mrequest\u001b[49m\u001b[43m,\u001b[49m\u001b[43m \u001b[49m\u001b[38;5;241;43m*\u001b[39;49m\u001b[38;5;241;43m*\u001b[39;49m\u001b[43mkwargs\u001b[49m\u001b[43m)\u001b[49m\n\u001b[1;32m    705\u001b[0m \u001b[38;5;66;03m# Total elapsed time of the request (approximately)\u001b[39;00m\n\u001b[1;32m    706\u001b[0m elapsed \u001b[38;5;241m=\u001b[39m preferred_clock() \u001b[38;5;241m-\u001b[39m start\n",
      "File \u001b[0;32m~/miniconda3/envs/brassica/lib/python3.9/site-packages/requests/adapters.py:519\u001b[0m, in \u001b[0;36mHTTPAdapter.send\u001b[0;34m(self, request, stream, timeout, verify, cert, proxies)\u001b[0m\n\u001b[1;32m    515\u001b[0m     \u001b[38;5;28;01mif\u001b[39;00m \u001b[38;5;28misinstance\u001b[39m(e\u001b[38;5;241m.\u001b[39mreason, _SSLError):\n\u001b[1;32m    516\u001b[0m         \u001b[38;5;66;03m# This branch is for urllib3 v1.22 and later.\u001b[39;00m\n\u001b[1;32m    517\u001b[0m         \u001b[38;5;28;01mraise\u001b[39;00m SSLError(e, request\u001b[38;5;241m=\u001b[39mrequest)\n\u001b[0;32m--> 519\u001b[0m     \u001b[38;5;28;01mraise\u001b[39;00m \u001b[38;5;167;01mConnectionError\u001b[39;00m(e, request\u001b[38;5;241m=\u001b[39mrequest)\n\u001b[1;32m    521\u001b[0m \u001b[38;5;28;01mexcept\u001b[39;00m ClosedPoolError \u001b[38;5;28;01mas\u001b[39;00m e:\n\u001b[1;32m    522\u001b[0m     \u001b[38;5;28;01mraise\u001b[39;00m \u001b[38;5;167;01mConnectionError\u001b[39;00m(e, request\u001b[38;5;241m=\u001b[39mrequest)\n",
      "\u001b[0;31mConnectionError\u001b[0m: HTTPSConnectionPool(host='api.twilio.com', port=443): Max retries exceeded with url: /2010-04-01/Accounts/AC5c24c3260ed6b1c8289de1897f4e5b39/Messages.json (Caused by NameResolutionError(\"<urllib3.connection.HTTPSConnection object at 0x7f582ac741c0>: Failed to resolve 'api.twilio.com' ([Errno -3] Temporary failure in name resolution)\"))"
     ]
    }
   ],
   "source": [
    "for fn in tqdm(image_fns, total = len(image_fns)):\n",
    "    # image = io.imread(fn)\n",
    "    image_basename = os.path.basename(fn)\n",
    "    tracks_basename = image_basename.replace('.tif','_z_tracks_masks.h5') #'20x_21-12-029B_A12346_Multichannel Z-Stack_20220819_295_z_tracks_masks.h5'\n",
    "    tracks_fn_results = find_files_with_basename(tracks_basename, start_directory)\n",
    "    if len(tracks_fn_results) > 1:\n",
    "        raise ValueError(\"Found more than one matching file. Please ensure only one target file exists or refine your search criteria.\")\n",
    "    tracks_fn = tracks_fn_results[0]\n",
    "    with btrack.io.HDF5FileHandler(tracks_fn, 'r', obj_type='obj_type_1') as reader:\n",
    "        objects = reader.objects\n",
    "        segmentation = reader.segmentation\n",
    "\n",
    "    with btrack.BayesianTracker() as tracker:\n",
    "        # configure the tracker using a config file\n",
    "        tracker.configure('/home/dayn/analysis/models/loc.json')\n",
    "        ### set max search radius to a very limited radius \n",
    "        tracker.max_search_radius = 5\n",
    "        # define tracking method\n",
    "        tracker.tracking_updates = [\"MOTION\", \"VISUAL\"]\n",
    "        # use visual features to track\n",
    "        tracker.features = props\n",
    "        # append the objects to be tracked\n",
    "        tracker.append(objects)\n",
    "        # set the volume\n",
    "        tracker.volume=((0, segmentation.shape[1]), (0, segmentation.shape[2]), (-1e5, 1e5))\n",
    "        # track them (in interactive mode)\n",
    "        tracker.track(step_size=10)\n",
    "        # generate hypotheses and run the global optimizer\n",
    "        tracker.optimize()\n",
    "        # get the tracks as a python list\n",
    "        tracks = tracker.tracks\n",
    "\n",
    "    # save out alongside new images\n",
    "    new_tracks_fn = fn.replace('.tif', '_sc_data.h5').replace('/run/user/30046150/gvfs/smb-share:server=data2.thecrick.org,share=lab-gutierrezm/home/shared/Lung on Chip/', '/home/dayn/data/homuncu_loc_temp/results/')    \n",
    "    os.makedirs(os.path.dirname(new_tracks_fn), exist_ok=True)\n",
    "    # save out \n",
    "    with btrack.io.HDF5FileHandler(new_tracks_fn, \n",
    "                                       'w', \n",
    "                                       obj_type='obj_type_1'\n",
    "                                       ) as writer:\n",
    "            writer.write_tracks(tracks)\n",
    "            writer.write_segmentation(segmentation)\n",
    "    # notify me\n",
    "    notify.send_sms(f'{image_basename} complete')"
   ]
  }
 ],
 "metadata": {
  "kernelspec": {
   "display_name": "brassica",
   "language": "python",
   "name": "brassica"
  },
  "language_info": {
   "codemirror_mode": {
    "name": "ipython",
    "version": 3
   },
   "file_extension": ".py",
   "mimetype": "text/x-python",
   "name": "python",
   "nbconvert_exporter": "python",
   "pygments_lexer": "ipython3",
   "version": "3.9.17"
  }
 },
 "nbformat": 4,
 "nbformat_minor": 5
}
