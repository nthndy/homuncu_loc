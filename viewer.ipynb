{
 "cells": [
  {
   "cell_type": "markdown",
   "id": "038f144c",
   "metadata": {},
   "source": [
    "# homuncu_loc image viewer"
   ]
  },
  {
   "cell_type": "code",
   "execution_count": 7,
   "id": "8988af78",
   "metadata": {},
   "outputs": [],
   "source": [
    "import napari\n",
    "from skimage import io\n",
    "import btrack\n",
    "import os\n",
    "from homuncu_loc import dataio\n",
    "from glob import glob"
   ]
  },
  {
   "cell_type": "markdown",
   "id": "7e670b43-7ad1-4d82-9fa7-5676dd3ed73e",
   "metadata": {},
   "source": [
    "### Define base directory and image ID"
   ]
  },
  {
   "cell_type": "code",
   "execution_count": 14,
   "id": "94dcf597-f5a3-4a34-ba2a-fd91f5c890fd",
   "metadata": {},
   "outputs": [
    {
     "name": "stdout",
     "output_type": "stream",
     "text": [
      "File '20x_21-12-028A_A23456_Multichannel Z-Stack_20220818_237.tif' exists.\n"
     ]
    }
   ],
   "source": [
    "img_base_dir = '/run/user/30046150/gvfs/smb-share:server=data2.thecrick.org,share=lab-gutierrezm/home/shared/Lung on Chip/homuncu_loc_image_analysis/iAT1_iAT2_experiments/DAPI_NKX21_PDPN_ZO1/images'\n",
    "image_base_name = '20x_21-12-028A_A23456_Multichannel Z-Stack_20220818_237.tif' \n",
    "image_fn = os.path.join(img_base_dir, image_base_name)\n",
    "image_id = dataio.ID_extractor(image_fn)\n",
    "print(f\"File '{image_base_name}' {'exists.' if os.path.exists(image_fn) else 'does not exist.'}\")"
   ]
  },
  {
   "cell_type": "markdown",
   "id": "02cb932e-4d03-4847-a126-ea810fe9457f",
   "metadata": {},
   "source": [
    "### Load image"
   ]
  },
  {
   "cell_type": "code",
   "execution_count": null,
   "id": "ff0db527-ba51-48ad-a0ca-e860cd5b3afa",
   "metadata": {},
   "outputs": [],
   "source": [
    "image = io.imread(image_fn)\n",
    "print(f'Image of shape {image.shape} loaded')"
   ]
  },
  {
   "cell_type": "markdown",
   "id": "c950f0f6-2f7f-4097-baa2-83efbda56d3a",
   "metadata": {},
   "source": [
    "### Search for associated single-cell segmentation and tracking data"
   ]
  },
  {
   "cell_type": "code",
   "execution_count": 9,
   "id": "e299ec79-1c19-4f27-a1bd-e9a5de8017e6",
   "metadata": {},
   "outputs": [
    {
     "name": "stdout",
     "output_type": "stream",
     "text": [
      "['/run/user/30046150/gvfs/smb-share:server=data2.thecrick.org,share=lab-gutierrezm/home/shared/Lung on Chip/homuncu_loc_image_analysis/iAT1_iAT2_experiments/DAPI_NKX21_PDPN_ZO1/sc_analyses/20x_21-12-028A_A23456_Multichannel Z-Stack_20220818_237_iat2.h5']\n"
     ]
    }
   ],
   "source": [
    "# base_dir = '/run/user/30046150/gvfs/smb-share:server=data2.thecrick.org,share=lab-gutierrezm/home/shared/Lung on Chip/homuncu_loc_image_analysis/iAT1_iAT2_experiments/DAPI_NKX21_PDPN_ZO1/sc_analyses'\n",
    "sc_base_dir = img_base_dir.replace('images', 'sc_analyses') \n",
    "sc_fns = glob(os.path.join(sc_base_dir, f'*_{image_id}*.h5'))\n",
    "print(sc_fns)"
   ]
  },
  {
   "cell_type": "markdown",
   "id": "0aebf48c-88c8-4914-a6a4-540102487e60",
   "metadata": {},
   "source": [
    "### Load single-cell data"
   ]
  },
  {
   "cell_type": "code",
   "execution_count": 10,
   "id": "6c1b3e8f-df49-4ed7-920b-d2497db187e4",
   "metadata": {},
   "outputs": [
    {
     "name": "stderr",
     "output_type": "stream",
     "text": [
      "[INFO][2023/10/16 11:06:00 AM] Opening HDF file: /run/user/30046150/gvfs/smb-share:server=data2.thecrick.org,share=lab-gutierrezm/home/shared/Lung on Chip/homuncu_loc_image_analysis/iAT1_iAT2_experiments/DAPI_NKX21_PDPN_ZO1/sc_analyses/20x_21-12-028A_A23456_Multichannel Z-Stack_20220818_237_iat2.h5...\n",
      "[INFO][2023/10/16 11:06:00 AM] Loading tracks/obj_type_2\n",
      "[INFO][2023/10/16 11:06:00 AM] Loading LBEP/obj_type_2\n",
      "[INFO][2023/10/16 11:06:00 AM] Loading objects/obj_type_2 (28241, 5) (28241 filtered: None)\n",
      "[INFO][2023/10/16 11:06:04 AM] Loading segmentation (81, 2304, 2304)\n",
      "[INFO][2023/10/16 11:06:04 AM] Closing HDF file: /run/user/30046150/gvfs/smb-share:server=data2.thecrick.org,share=lab-gutierrezm/home/shared/Lung on Chip/homuncu_loc_image_analysis/iAT1_iAT2_experiments/DAPI_NKX21_PDPN_ZO1/sc_analyses/20x_21-12-028A_A23456_Multichannel Z-Stack_20220818_237_iat2.h5\n"
     ]
    }
   ],
   "source": [
    "sc_fn = sc_fns[0]\n",
    "# load labels (tracks and segmentation)\n",
    "with btrack.io.HDF5FileHandler(sc_fn, \n",
    "                                   'r', \n",
    "                                       obj_type='obj_type_2'#'obj_type_2'\n",
    "                                   ) as reader:\n",
    "        # tracks = [t for t in reader.tracks if np.mean(t.properties['area']) > 1000]\n",
    "        tracks = [t for t in reader.tracks if len(t) >= 3]\n",
    "        segmentation = reader.segmentation\n",
    "napari_tracks, properties, graph = btrack.utils.tracks_to_napari(tracks, ndim = 2)"
   ]
  },
  {
   "cell_type": "markdown",
   "id": "53992e60-6568-4931-8ec5-8d5b0e3195e0",
   "metadata": {},
   "source": [
    "##### Optionally recolour segmentation according to Cell ID"
   ]
  },
  {
   "cell_type": "code",
   "execution_count": 15,
   "id": "64c3f053",
   "metadata": {},
   "outputs": [],
   "source": [
    "recolored_segmentation = btrack.utils.update_segmentation(segmentation, tracks, color_by='ID')"
   ]
  },
  {
   "cell_type": "markdown",
   "id": "f05e55b4-3c8f-40ef-8cd1-a22ddb43ac1c",
   "metadata": {},
   "source": [
    "### View images and single-cell data"
   ]
  },
  {
   "cell_type": "code",
   "execution_count": 16,
   "id": "fb976154",
   "metadata": {},
   "outputs": [
    {
     "data": {
      "text/plain": [
       "<Tracks layer 'napari_tracks' at 0x7f4194b70d30>"
      ]
     },
     "execution_count": 16,
     "metadata": {},
     "output_type": "execute_result"
    }
   ],
   "source": [
    "viewer = napari.Viewer()\n",
    "\n",
    "viewer.add_image(image, channel_axis = -1)\n",
    "# viewer.add_labels(segmentation, visible = False)\n",
    "viewer.add_labels(recolored_segmentation)\n",
    "viewer.add_tracks(napari_tracks)"
   ]
  },
  {
   "cell_type": "code",
   "execution_count": 20,
   "id": "a69773af-41e4-4404-8bc6-43c95c112d31",
   "metadata": {},
   "outputs": [
    {
     "data": {
      "text/plain": [
       "<Image layer 'segmentation' at 0x7f3ffc1a96a0>"
      ]
     },
     "execution_count": 20,
     "metadata": {},
     "output_type": "execute_result"
    }
   ],
   "source": [
    "viewer.add_image(segmentation)"
   ]
  },
  {
   "cell_type": "code",
   "execution_count": 17,
   "id": "af63f25e-7a7d-4a55-80c4-e2c863f558fc",
   "metadata": {},
   "outputs": [
    {
     "name": "stdout",
     "output_type": "stream",
     "text": [
      "\n"
     ]
    }
   ],
   "source": [
    "print()"
   ]
  }
 ],
 "metadata": {
  "kernelspec": {
   "display_name": "brassica",
   "language": "python",
   "name": "brassica"
  },
  "language_info": {
   "codemirror_mode": {
    "name": "ipython",
    "version": 3
   },
   "file_extension": ".py",
   "mimetype": "text/x-python",
   "name": "python",
   "nbconvert_exporter": "python",
   "pygments_lexer": "ipython3",
   "version": "3.9.17"
  }
 },
 "nbformat": 4,
 "nbformat_minor": 5
}
