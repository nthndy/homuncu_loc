{
 "cells": [
  {
   "cell_type": "markdown",
   "id": "038f144c",
   "metadata": {},
   "source": [
    "# scaling mphi seg 3 class"
   ]
  },
  {
   "cell_type": "code",
   "execution_count": 4,
   "id": "8988af78",
   "metadata": {},
   "outputs": [],
   "source": [
    "import napari\n",
    "from skimage import io\n",
    "import btrack\n",
    "import os\n",
    "from tqdm.auto import tqdm\n",
    "import numpy as np\n",
    "import btrack\n",
    "from glob import glob\n",
    "from homuncu_loc.dataio import find_files_with_basename, ID_extractor"
   ]
  },
  {
   "cell_type": "markdown",
   "id": "09c5e155-1cd6-46e9-9643-5446f0fc851b",
   "metadata": {},
   "source": [
    "#### Define image fn "
   ]
  },
  {
   "cell_type": "code",
   "execution_count": 3,
   "id": "662eacac-3046-4b30-9465-a8f734574ad4",
   "metadata": {},
   "outputs": [
    {
     "name": "stdout",
     "output_type": "stream",
     "text": [
      "nvcc: NVIDIA (R) Cuda compiler driver\n",
      "Copyright (c) 2005-2019 NVIDIA Corporation\n",
      "Built on Sun_Jul_28_19:07:16_PDT_2019\n",
      "Cuda compilation tools, release 10.1, V10.1.243\n",
      "Wed Sep  6 13:16:23 2023       \n",
      "+-----------------------------------------------------------------------------+\n",
      "| NVIDIA-SMI 515.105.01   Driver Version: 515.105.01   CUDA Version: 11.7     |\n",
      "|-------------------------------+----------------------+----------------------+\n",
      "| GPU  Name        Persistence-M| Bus-Id        Disp.A | Volatile Uncorr. ECC |\n",
      "| Fan  Temp  Perf  Pwr:Usage/Cap|         Memory-Usage | GPU-Util  Compute M. |\n",
      "|                               |                      |               MIG M. |\n",
      "|===============================+======================+======================|\n",
      "|   0  NVIDIA RTX A6000    On   | 00000000:65:00.0  On |                  Off |\n",
      "| 30%   49C    P2    80W / 300W |   2450MiB / 49140MiB |      4%      Default |\n",
      "|                               |                      |                  N/A |\n",
      "+-------------------------------+----------------------+----------------------+\n",
      "                                                                               \n",
      "+-----------------------------------------------------------------------------+\n",
      "| Processes:                                                                  |\n",
      "|  GPU   GI   CI        PID   Type   Process name                  GPU Memory |\n",
      "|        ID   ID                                                   Usage      |\n",
      "|=============================================================================|\n",
      "|    0   N/A  N/A      2313      G   /usr/lib/xorg/Xorg                628MiB |\n",
      "|    0   N/A  N/A      4239      G   /usr/bin/gnome-shell               61MiB |\n",
      "|    0   N/A  N/A     39788      G   ...AAAAAAAAA= --shared-files       52MiB |\n",
      "|    0   N/A  N/A    125665      G   .../envs/brassica/bin/python       34MiB |\n",
      "|    0   N/A  N/A    190439      G   ...564144857600717835,262144      184MiB |\n",
      "|    0   N/A  N/A    190520      G   ...veSuggestionsOnlyOnDemand       45MiB |\n",
      "|    0   N/A  N/A    197781      C   .../envs/brassica/bin/python      359MiB |\n",
      "|    0   N/A  N/A    198865      C   .../envs/brassica/bin/python      359MiB |\n",
      "|    0   N/A  N/A    199080      C   .../envs/brassica/bin/python      359MiB |\n",
      "|    0   N/A  N/A    199984      C   .../envs/brassica/bin/python      359MiB |\n",
      "+-----------------------------------------------------------------------------+\n",
      ">>> GPU activated? YES\n"
     ]
    }
   ],
   "source": [
    "# print gpu information\n",
    "!nvcc --version\n",
    "!nvidia-smi\n",
    "\n",
    "# load cellpose\n",
    "from cellpose import core, utils, models, metrics\n",
    "import matplotlib.pyplot as plt \n",
    "from skimage.morphology import remove_small_objects\n",
    "\n",
    "# check to see if GPU can be used\n",
    "use_GPU = core.use_gpu()\n",
    "yn = ['NO', 'YES']\n",
    "print(f'>>> GPU activated? {yn[use_GPU]}')\n",
    "\n",
    "# define segmentation model parameters\n",
    "model = models.Cellpose(gpu=use_GPU, \n",
    "                        model_type='cyto') # cytoplasmic segmentation \n",
    "channels = [0,0] # this means using a grayscale image for both nuclei and cyto channels (even if not using nuclei, still have to say its same colour [greyscale = 0])"
   ]
  },
  {
   "cell_type": "markdown",
   "id": "3b2ce567-d8fb-41d9-8cac-f61e04741f99",
   "metadata": {},
   "source": [
    "# define a general segmentation framework for macroph and edit params for other cell"
   ]
  },
  {
   "cell_type": "code",
   "execution_count": 5,
   "id": "e3ed329d-6793-4a23-80ab-90f04e9d4992",
   "metadata": {},
   "outputs": [],
   "source": [
    "from tqdm.auto import tqdm\n",
    "from cellpose import models\n",
    "from skimage.morphology import remove_small_objects\n",
    "import numpy as np\n",
    "import btrack\n",
    "\n",
    "def segment_channel(segmentation_channel, diameter=60, flow_threshold=0.99, channels=[0,0], cellprob_threshold=-2, min_mask_size=500, return_diams=False, start_point=None, end_point=None):\n",
    "    \"\"\"\n",
    "    Segments a specified channel of an image using Cellpose and optionally returns the average diameter of segments.\n",
    "\n",
    "    Args:\n",
    "    - segmentation_channel (ndarray): 3D array of the target channel where the 3rd dimension represents the Z-stack.\n",
    "    - diameter (int, optional): Average cell diameter for Cellpose. Default is 60.\n",
    "    - flow_threshold (float, optional): Threshold for flow in Cellpose. Default is 0.99.\n",
    "    - channels (list, optional): Channel input for Cellpose. Default is [0,0].\n",
    "    - cellprob_threshold (float, optional): Cell probability threshold for Cellpose. Default is -2.\n",
    "    - min_mask_size (int, optional): Minimum size of objects to keep in the segmented mask. Default is 500.\n",
    "    - return_diams (bool, optional): If set to True, the function will also return the average diameter of segments.\n",
    "    - start_point (int, optional): Starting point for segmentation frames. Default is None.\n",
    "    - end_point (int, optional): Ending point for segmentation frames. Default is None.\n",
    "\n",
    "    Returns:\n",
    "    - ndarray: 3D mask array with the same shape as the input, where segmented regions are labeled.\n",
    "    - float (optional): Average diameter of segments if return_diams is True.\n",
    "    \"\"\"\n",
    "\n",
    "    if start_point is None or end_point is None:\n",
    "        # Calculate intensities for each frame in Z-stack\n",
    "        intensities = [np.sum(frame) for frame in tqdm(segmentation_channel, desc='finding where segmentation channel is expressed in Z')]\n",
    "\n",
    "        # Estimate the background level\n",
    "        background_level = np.min(intensities)\n",
    "        threshold = background_level + ((np.max(intensities)-np.min(intensities))*0.50)\n",
    "\n",
    "        if start_point is None:\n",
    "            # Find the points where the curve starts to deviate from the background\n",
    "            start_point = np.argmax(intensities > threshold)\n",
    "\n",
    "        if end_point is None:\n",
    "            end_point = len(intensities) - np.argmax(intensities[::-1] > threshold) - 1\n",
    "\n",
    "    # Initialize output mask array\n",
    "    mask_array = np.zeros_like(segmentation_channel)\n",
    "\n",
    "    # Initialize the model\n",
    "    model = models.Cellpose(model_type='cyto')\n",
    "    \n",
    "    # List to store diameters if return_diams is True\n",
    "    diams = []\n",
    "\n",
    "    # Segment over selected frames\n",
    "    for n, frame in tqdm(enumerate(segmentation_channel[start_point:end_point]), total=end_point-start_point, desc='segmenting over select frames'):\n",
    "        n += start_point\n",
    "        masks, _, _, diam = model.eval(frame, diameter=diameter, flow_threshold=flow_threshold, channels=channels, cellprob_threshold=cellprob_threshold)\n",
    "        masks = remove_small_objects(masks, min_size=min_mask_size)\n",
    "        mask_array[n] = masks\n",
    "        diams.append(diam)\n",
    "\n",
    "    if return_diams:\n",
    "        return mask_array, diams\n",
    "    else:\n",
    "        return mask_array\n"
   ]
  },
  {
   "cell_type": "code",
   "execution_count": 6,
   "id": "2b6e699a-fedb-45c2-8412-5b4f63a4da19",
   "metadata": {},
   "outputs": [],
   "source": [
    "props = ('axis_major_length', # first define some cell properties \n",
    "         'axis_minor_length', # this helps improve the tracking\n",
    "         'eccentricity',      # by comparing similarities between slices/frames\n",
    "         'area', \n",
    "         'orientation',\n",
    "         'mean_intensity', \n",
    "        )"
   ]
  },
  {
   "cell_type": "code",
   "execution_count": 7,
   "id": "075d89d6-b7a0-4699-a6a0-3d730c262adb",
   "metadata": {},
   "outputs": [],
   "source": [
    "basedir = '/run/user/30046150/gvfs/smb-share:server=data2.thecrick.org,share=lab-gutierrezm/home/shared/Lung on Chip/homuncu_loc_image_analysis/iAT1_iAT2_iVEC_macrophage_experiments/DAPI_ZO1_CD16_MTB/images'"
   ]
  },
  {
   "cell_type": "code",
   "execution_count": 8,
   "id": "38f4bd7f-f353-47c0-a1bb-1bd73cd4f5a7",
   "metadata": {},
   "outputs": [],
   "source": [
    "image_basenames = [\n",
    "    \"20230705_40X_23-01-001B3_Multichannel Z-Stack_20230705_1298\",\n",
    "    \"20230705_40X_23-01-001B3_Multichannel Z-Stack_20230705_1299\",\n",
    "    \"20230705_40X_23-01-001B3_Multichannel Z-Stack_20230705_1300\",\n",
    "    \"20230705_40X_23-01-005A3_Multichannel Z-Stack_20230705_1306\",\n",
    "    \"20230705_40X_23-01-005A3_Multichannel Z-Stack_20230705_1307\",\n",
    "    \"20230705_40X_23-01-005A3_Multichannel Z-Stack_20230705_1308\",\n",
    "    \"20230705_40X_23-01-005A3_Multichannel Z-Stack_20230705_1309\",\n",
    "    \"20230705_40X_23-01-005A3_Multichannel Z-Stack_20230705_1310\",\n",
    "    \"20230705_40X_23-01-005A3_Multichannel Z-Stack_20230705_1311\",\n",
    "    \"20230707_40X_23-01-001A3_Multichannel Z-Stack_20230707_1313\",\n",
    "    \"20230707_40X_23-01-001A3_Multichannel Z-Stack_20230707_1314\",\n",
    "    \"20230707_40X_23-01-001A3_Multichannel Z-Stack_20230707_1315\",\n",
    "    \"20230707_40X_23-01-001A3_Multichannel Z-Stack_20230707_1316\",\n",
    "    \"20230707_40X_23-01-001A3_Multichannel Z-Stack_20230707_1317\",\n",
    "    \"20230707_40X_23-01-001A3_Multichannel Z-Stack_20230707_1318\",\n",
    "    \"20230707_40X_23-01-001A3_Multichannel Z-Stack_20230707_1319\",\n",
    "    \"20230707_40X_23-01-001A3_Multichannel Z-Stack_20230707_1320\",\n",
    "    \"20230707_40X_23-01-005A3_Multichannel Z-Stack_20230707_1324\",\n",
    "    \"20230707_40X_23-01-005A3_Multichannel Z-Stack_20230707_1325\",\n",
    "    \"20230714_20X_23-02-104A4_Multichannel Z-Stack_20230714_1340\",\n",
    "    \"20230714_20X_23-02-104A4_Multichannel Z-Stack_20230714_1341\",\n",
    "    \"20230714_20X_23-02-104A4_Multichannel Z-Stack_20230714_1342\",\n",
    "    \"20230714_20X_23-02-104A4_Multichannel Z-Stack_20230714_1343\",\n",
    "    \"20230714_20X_23-02-104A4_Multichannel Z-Stack_20230714_1344\",\n",
    "    \"20230718_20X_23-02-104B2_Multichannel Z-Stack_20230718_1361\",\n",
    "    \"20230718_20X_23-02-104B2_Multichannel Z-Stack_20230718_1362\",\n",
    "    \"20230718_20X_23-02-104B2_Multichannel Z-Stack_20230718_1363\",\n",
    "    \"20230718_20X_23-02-104B2_Multichannel Z-Stack_20230718_1364\",\n",
    "    \"20230718_20X_23-02-104B2_Multichannel Z-Stack_20230718_1365\",\n",
    "    \"20230801_20X_23-03-001B4_DAPI_ZO-1_CD16_Mtb_Multichannel Z-Stack_20230801_1463\",\n",
    "    \"20230801_20X_23-03-001B4_DAPI_ZO-1_CD16_Mtb_Multichannel Z-Stack_20230801_1464\",\n",
    "    \"20230801_20X_23-03-001B4_DAPI_ZO-1_CD16_Mtb_Multichannel Z-Stack_20230801_1465\",\n",
    "    \"20230801_20X_23-03-001B4_DAPI_ZO-1_CD16_Mtb_Multichannel Z-Stack_20230801_1467\",\n",
    "    \"20230801_20X_23-03-001B2_DAPI_ZO-1_Ki67_Mtb_Multichannel Z-Stack_20230801_1482\",\n",
    "    \"20230801_20X_23-03-001B2_DAPI_ZO-1_Ki67_Mtb_Multichannel Z-Stack_20230801_1483\",\n",
    "    \"20230801_20X_23-03-001B2_DAPI_ZO-1_Ki67_Mtb_Multichannel Z-Stack_20230801_1484\",\n",
    "    \"20230802_20X_23-03-001A4_DAPI_ZO-1_CD16_Mtb_Multichannel Z-Stack_20230802_1500\",\n",
    "    \"20230802_20X_23-03-001A4_DAPI_ZO-1_CD16_Mtb_Multichannel Z-Stack_20230802_1501\",\n",
    "    \"20230802_20X_23-03-001A1_DAPI_ZO-1_CD16_Mtb_Multichannel Z-Stack_20230802_1510\",\n",
    "    \"20230802_20X_23-03-001A1_DAPI_ZO-1_CD16_Mtb_Multichannel Z-Stack_20230802_1511\",\n",
    "    \"20230802_20X_23-03-001A1_DAPI_ZO-1_CD16_Mtb_Multichannel Z-Stack_20230802_1512\",\n",
    "    \"20230802_20X_23-03-001A1_DAPI_ZO-1_CD16_Mtb_Multichannel Z-Stack_20230802_1513\",\n",
    "    \"20230802_20X_23-03-001A1_DAPI_ZO-1_CD16_Mtb_Multichannel Z-Stack_20230802_1514\"\n",
    "\n",
    "]\n"
   ]
  },
  {
   "cell_type": "code",
   "execution_count": 9,
   "id": "99b9c3ab-a85a-4fb7-8022-f1f858490035",
   "metadata": {},
   "outputs": [],
   "source": [
    "image_fns = [os.path.join(basedir, fn+'.tif') for fn in image_basenames]"
   ]
  },
  {
   "cell_type": "code",
   "execution_count": 10,
   "id": "7d75fcf8-d7fe-426b-a202-9b9df581c642",
   "metadata": {},
   "outputs": [],
   "source": [
    "from macrohet.notify import send_sms"
   ]
  },
  {
   "cell_type": "code",
   "execution_count": 25,
   "id": "772104ec-f7ab-4dcf-90b2-d38c328f0358",
   "metadata": {},
   "outputs": [
    {
     "name": "stdout",
     "output_type": "stream",
     "text": [
      "/run/user/30046150/gvfs/smb-share:server=data2.thecrick.org,share=lab-gutierrezm/home/shared/Lung on Chip/homuncu_loc_image_analysis/iAT1_iAT2_iVEC_macrophage_experiments/DAPI_ZO1_CD16_MTB/images/20230705_40X_23-01-001B3_Multichannel Z-Stack_20230705_1299_test.tif\n",
      "CPU times: user 2.96 s, sys: 7.86 s, total: 10.8 s\n",
      "Wall time: 2min 14s\n"
     ]
    }
   ],
   "source": [
    "%%time \n",
    "image_fn = os.path.join(basedir, '20230705_40X_23-01-001B3_Multichannel Z-Stack_20230705_1299_test.tif')\n",
    "print(image_fn)\n",
    "image = io.imread(image_fn)\n",
    "send_sms(f'image {ID_extractor(image_fn)} loaded')"
   ]
  },
  {
   "cell_type": "code",
   "execution_count": 95,
   "id": "f45c4506-5354-403e-9eeb-17c28f9bfd6b",
   "metadata": {},
   "outputs": [
    {
     "name": "stdout",
     "output_type": "stream",
     "text": [
      "/run/user/30046150/gvfs/smb-share:server=data2.thecrick.org,share=lab-gutierrezm/home/shared/Lung on Chip/homuncu_loc_image_analysis/iAT1_iAT2_iVEC_macrophage_experiments/DAPI_ZO1_CD16_MTB/images/20230718_20X_23-02-104B2_Multichannel Z-Stack_20230718_1364.tif\n"
     ]
    },
    {
     "ename": "TwilioRestException",
     "evalue": "HTTP 401 error: Unable to create record: Authenticate",
     "output_type": "error",
     "traceback": [
      "\u001b[0;31m---------------------------------------------------------------------------\u001b[0m",
      "\u001b[0;31mTwilioRestException\u001b[0m                       Traceback (most recent call last)",
      "File \u001b[0;32m<timed exec>:4\u001b[0m\n",
      "File \u001b[0;32m~/analysis/macrohet/macrohet/notify.py:8\u001b[0m, in \u001b[0;36msend_sms\u001b[0;34m(msg)\u001b[0m\n\u001b[1;32m      7\u001b[0m \u001b[38;5;28;01mdef\u001b[39;00m \u001b[38;5;21msend_sms\u001b[39m(msg):\n\u001b[0;32m----> 8\u001b[0m     message \u001b[38;5;241m=\u001b[39m \u001b[43mclient\u001b[49m\u001b[38;5;241;43m.\u001b[39;49m\u001b[43mmessages\u001b[49m\u001b[43m \u001b[49m\u001b[43m\\\u001b[49m\n\u001b[1;32m      9\u001b[0m \u001b[43m    \u001b[49m\u001b[38;5;241;43m.\u001b[39;49m\u001b[43mcreate\u001b[49m\u001b[43m(\u001b[49m\n\u001b[1;32m     10\u001b[0m \u001b[43m         \u001b[49m\u001b[43mbody\u001b[49m\u001b[38;5;241;43m=\u001b[39;49m\u001b[43mmsg\u001b[49m\u001b[43m,\u001b[49m\n\u001b[1;32m     11\u001b[0m \u001b[43m         \u001b[49m\u001b[43mfrom_\u001b[49m\u001b[43m \u001b[49m\u001b[38;5;241;43m=\u001b[39;49m\u001b[43m \u001b[49m\u001b[38;5;124;43m'\u001b[39;49m\u001b[38;5;124;43m+447897036683\u001b[39;49m\u001b[38;5;124;43m'\u001b[39;49m\u001b[43m,\u001b[49m\n\u001b[1;32m     12\u001b[0m \u001b[43m         \u001b[49m\u001b[43mto\u001b[49m\u001b[43m \u001b[49m\u001b[38;5;241;43m=\u001b[39;49m\u001b[43m \u001b[49m\u001b[38;5;124;43m'\u001b[39;49m\u001b[38;5;124;43m+447421002410\u001b[39;49m\u001b[38;5;124;43m'\u001b[39;49m\n\u001b[1;32m     13\u001b[0m \u001b[43m     \u001b[49m\u001b[43m)\u001b[49m\n",
      "File \u001b[0;32m~/miniconda3/envs/brassica/lib/python3.9/site-packages/twilio/rest/api/v2010/account/message/__init__.py:551\u001b[0m, in \u001b[0;36mMessageList.create\u001b[0;34m(self, to, status_callback, application_sid, max_price, provide_feedback, attempt, validity_period, force_delivery, content_retention, address_retention, smart_encoded, persistent_action, shorten_urls, schedule_type, send_at, send_as_mms, content_variables, from_, messaging_service_sid, body, media_url, content_sid)\u001b[0m\n\u001b[1;32m    496\u001b[0m \u001b[38;5;250m\u001b[39m\u001b[38;5;124;03m\"\"\"\u001b[39;00m\n\u001b[1;32m    497\u001b[0m \u001b[38;5;124;03mCreate the MessageInstance\u001b[39;00m\n\u001b[1;32m    498\u001b[0m \n\u001b[0;32m   (...)\u001b[0m\n\u001b[1;32m    522\u001b[0m \u001b[38;5;124;03m:returns: The created MessageInstance\u001b[39;00m\n\u001b[1;32m    523\u001b[0m \u001b[38;5;124;03m\"\"\"\u001b[39;00m\n\u001b[1;32m    524\u001b[0m data \u001b[38;5;241m=\u001b[39m values\u001b[38;5;241m.\u001b[39mof(\n\u001b[1;32m    525\u001b[0m     {\n\u001b[1;32m    526\u001b[0m         \u001b[38;5;124m\"\u001b[39m\u001b[38;5;124mTo\u001b[39m\u001b[38;5;124m\"\u001b[39m: to,\n\u001b[0;32m   (...)\u001b[0m\n\u001b[1;32m    548\u001b[0m     }\n\u001b[1;32m    549\u001b[0m )\n\u001b[0;32m--> 551\u001b[0m payload \u001b[38;5;241m=\u001b[39m \u001b[38;5;28;43mself\u001b[39;49m\u001b[38;5;241;43m.\u001b[39;49m\u001b[43m_version\u001b[49m\u001b[38;5;241;43m.\u001b[39;49m\u001b[43mcreate\u001b[49m\u001b[43m(\u001b[49m\n\u001b[1;32m    552\u001b[0m \u001b[43m    \u001b[49m\u001b[43mmethod\u001b[49m\u001b[38;5;241;43m=\u001b[39;49m\u001b[38;5;124;43m\"\u001b[39;49m\u001b[38;5;124;43mPOST\u001b[39;49m\u001b[38;5;124;43m\"\u001b[39;49m\u001b[43m,\u001b[49m\n\u001b[1;32m    553\u001b[0m \u001b[43m    \u001b[49m\u001b[43muri\u001b[49m\u001b[38;5;241;43m=\u001b[39;49m\u001b[38;5;28;43mself\u001b[39;49m\u001b[38;5;241;43m.\u001b[39;49m\u001b[43m_uri\u001b[49m\u001b[43m,\u001b[49m\n\u001b[1;32m    554\u001b[0m \u001b[43m    \u001b[49m\u001b[43mdata\u001b[49m\u001b[38;5;241;43m=\u001b[39;49m\u001b[43mdata\u001b[49m\u001b[43m,\u001b[49m\n\u001b[1;32m    555\u001b[0m \u001b[43m\u001b[49m\u001b[43m)\u001b[49m\n\u001b[1;32m    557\u001b[0m \u001b[38;5;28;01mreturn\u001b[39;00m MessageInstance(\n\u001b[1;32m    558\u001b[0m     \u001b[38;5;28mself\u001b[39m\u001b[38;5;241m.\u001b[39m_version, payload, account_sid\u001b[38;5;241m=\u001b[39m\u001b[38;5;28mself\u001b[39m\u001b[38;5;241m.\u001b[39m_solution[\u001b[38;5;124m\"\u001b[39m\u001b[38;5;124maccount_sid\u001b[39m\u001b[38;5;124m\"\u001b[39m]\n\u001b[1;32m    559\u001b[0m )\n",
      "File \u001b[0;32m~/miniconda3/envs/brassica/lib/python3.9/site-packages/twilio/base/version.py:465\u001b[0m, in \u001b[0;36mVersion.create\u001b[0;34m(self, method, uri, params, data, headers, auth, timeout, allow_redirects)\u001b[0m\n\u001b[1;32m    451\u001b[0m \u001b[38;5;250m\u001b[39m\u001b[38;5;124;03m\"\"\"\u001b[39;00m\n\u001b[1;32m    452\u001b[0m \u001b[38;5;124;03mCreate a resource instance.\u001b[39;00m\n\u001b[1;32m    453\u001b[0m \u001b[38;5;124;03m\"\"\"\u001b[39;00m\n\u001b[1;32m    454\u001b[0m response \u001b[38;5;241m=\u001b[39m \u001b[38;5;28mself\u001b[39m\u001b[38;5;241m.\u001b[39mrequest(\n\u001b[1;32m    455\u001b[0m     method,\n\u001b[1;32m    456\u001b[0m     uri,\n\u001b[0;32m   (...)\u001b[0m\n\u001b[1;32m    462\u001b[0m     allow_redirects\u001b[38;5;241m=\u001b[39mallow_redirects,\n\u001b[1;32m    463\u001b[0m )\n\u001b[0;32m--> 465\u001b[0m \u001b[38;5;28;01mreturn\u001b[39;00m \u001b[38;5;28;43mself\u001b[39;49m\u001b[38;5;241;43m.\u001b[39;49m\u001b[43m_parse_create\u001b[49m\u001b[43m(\u001b[49m\u001b[43mmethod\u001b[49m\u001b[43m,\u001b[49m\u001b[43m \u001b[49m\u001b[43muri\u001b[49m\u001b[43m,\u001b[49m\u001b[43m \u001b[49m\u001b[43mresponse\u001b[49m\u001b[43m)\u001b[49m\n",
      "File \u001b[0;32m~/miniconda3/envs/brassica/lib/python3.9/site-packages/twilio/base/version.py:436\u001b[0m, in \u001b[0;36mVersion._parse_create\u001b[0;34m(self, method, uri, response)\u001b[0m\n\u001b[1;32m    432\u001b[0m \u001b[38;5;250m\u001b[39m\u001b[38;5;124;03m\"\"\"\u001b[39;00m\n\u001b[1;32m    433\u001b[0m \u001b[38;5;124;03mParse create response JSON\u001b[39;00m\n\u001b[1;32m    434\u001b[0m \u001b[38;5;124;03m\"\"\"\u001b[39;00m\n\u001b[1;32m    435\u001b[0m \u001b[38;5;28;01mif\u001b[39;00m response\u001b[38;5;241m.\u001b[39mstatus_code \u001b[38;5;241m<\u001b[39m \u001b[38;5;241m200\u001b[39m \u001b[38;5;129;01mor\u001b[39;00m response\u001b[38;5;241m.\u001b[39mstatus_code \u001b[38;5;241m>\u001b[39m\u001b[38;5;241m=\u001b[39m \u001b[38;5;241m300\u001b[39m:\n\u001b[0;32m--> 436\u001b[0m     \u001b[38;5;28;01mraise\u001b[39;00m \u001b[38;5;28mself\u001b[39m\u001b[38;5;241m.\u001b[39mexception(method, uri, response, \u001b[38;5;124m\"\u001b[39m\u001b[38;5;124mUnable to create record\u001b[39m\u001b[38;5;124m\"\u001b[39m)\n\u001b[1;32m    438\u001b[0m \u001b[38;5;28;01mreturn\u001b[39;00m json\u001b[38;5;241m.\u001b[39mloads(response\u001b[38;5;241m.\u001b[39mtext)\n",
      "\u001b[0;31mTwilioRestException\u001b[0m: HTTP 401 error: Unable to create record: Authenticate"
     ]
    }
   ],
   "source": [
    "%%time \n",
    "image_fn = image_fns[27]\n",
    "print(image_fn)\n",
    "image = io.imread(image_fn)\n",
    "send_sms(f'image {ID_extractor(image_fn)} loaded')"
   ]
  },
  {
   "cell_type": "code",
   "execution_count": 96,
   "id": "cf527072-36be-46d3-8f46-2e6771d7f08a",
   "metadata": {},
   "outputs": [
    {
     "data": {
      "text/plain": [
       "[<Image layer 'Image' at 0x7f1af8f94160>,\n",
       " <Image layer 'Image [1]' at 0x7f1af8da0a60>,\n",
       " <Image layer 'Image [2]' at 0x7f221ae0a0d0>,\n",
       " <Image layer 'Image [3]' at 0x7f221ae36d30>]"
      ]
     },
     "execution_count": 96,
     "metadata": {},
     "output_type": "execute_result"
    }
   ],
   "source": [
    "viewer = napari.Viewer(title = f'{ID_extractor(image_fn)}')\n",
    "\n",
    "viewer.add_image(image, channel_axis=-1)"
   ]
  },
  {
   "cell_type": "markdown",
   "id": "85c6882a-0b8e-402d-8372-914f0795ec8a",
   "metadata": {},
   "source": [
    "## Load corresponding sc data"
   ]
  },
  {
   "cell_type": "code",
   "execution_count": 97,
   "id": "64b0bbe5-2b5b-4eea-a50d-89696ce3921c",
   "metadata": {},
   "outputs": [
    {
     "data": {
      "text/plain": [
       "['/run/user/30046150/gvfs/smb-share:server=data2.thecrick.org,share=lab-gutierrezm/home/shared/Lung on Chip/homuncu_loc_image_analysis/iAT1_iAT2_iVEC_macrophage_experiments/DAPI_ZO1_CD16_MTB/sc_analyses/20230718_20X_23-02-104B2_Multichannel Z-Stack_20230718_1364_z_tracks_masks_d100.h5',\n",
       " '/run/user/30046150/gvfs/smb-share:server=data2.thecrick.org,share=lab-gutierrezm/home/shared/Lung on Chip/homuncu_loc_image_analysis/iAT1_iAT2_iVEC_macrophage_experiments/DAPI_ZO1_CD16_MTB/sc_analyses/20230718_20X_23-02-104B2_Multichannel Z-Stack_20230718_1364_z_tracks_masks.h5']"
      ]
     },
     "execution_count": 97,
     "metadata": {},
     "output_type": "execute_result"
    }
   ],
   "source": [
    "glob(image_fn.replace('images', 'sc_analyses').replace('.tif', '*.h5'))"
   ]
  },
  {
   "cell_type": "code",
   "execution_count": 98,
   "id": "633b8075-9627-43e9-8514-40fe8d8f89df",
   "metadata": {},
   "outputs": [
    {
     "name": "stdout",
     "output_type": "stream",
     "text": [
      "File: 1364_z_tracks_masks_d100.h5, Size (MB): 5.77\n",
      "File: 1364_z_tracks_masks.h5, Size (MB): 6.34\n"
     ]
    }
   ],
   "source": [
    "# Iterate over the file paths\n",
    "for file_path in glob(image_fn.replace('images', 'sc_analyses').replace('.tif', '*.h5')):\n",
    "    # Get the file size in bytes\n",
    "    file_size_bytes = os.path.getsize(file_path)\n",
    "\n",
    "    # Convert the file size to MB\n",
    "    file_size_mb = file_size_bytes / (1024 * 1024)  # 1 MB = 1024 KB, 1 KB = 1024 bytes\n",
    "\n",
    "    # Extract the last substring of the file basename from \"1361\" onwards\n",
    "    basename = os.path.basename(file_path)\n",
    "    last_substring = basename.split(ID_extractor(image_fn))[-1]\n",
    "\n",
    "    # Print the file size in MB and the last substring\n",
    "    print(f\"File: {ID_extractor(image_fn)}{last_substring}, Size (MB): {file_size_mb:.2f}\")"
   ]
  },
  {
   "cell_type": "code",
   "execution_count": 92,
   "id": "1a595bcb-cce4-412f-a8d7-24fde0e7b187",
   "metadata": {},
   "outputs": [
    {
     "name": "stderr",
     "output_type": "stream",
     "text": [
      "[INFO][2023/09/06 03:12:34 pm] Opening HDF file: /run/user/30046150/gvfs/smb-share:server=data2.thecrick.org,share=lab-gutierrezm/home/shared/Lung on Chip/homuncu_loc_image_analysis/iAT1_iAT2_iVEC_macrophage_experiments/DAPI_ZO1_CD16_MTB/sc_analyses/20230718_20X_23-02-104B2_Multichannel Z-Stack_20230718_1363_z_tracks_masks_d100.h5...\n",
      "[INFO][2023/09/06 03:12:37 pm] Loading segmentation (81, 2304, 2304)\n",
      "[INFO][2023/09/06 03:12:37 pm] Loading tracks/obj_type_1\n",
      "[INFO][2023/09/06 03:12:37 pm] Loading LBEP/obj_type_1\n",
      "[INFO][2023/09/06 03:12:37 pm] Loading objects/obj_type_1 (4959, 5) (4959 filtered: None)\n",
      "[INFO][2023/09/06 03:12:37 pm] Closing HDF file: /run/user/30046150/gvfs/smb-share:server=data2.thecrick.org,share=lab-gutierrezm/home/shared/Lung on Chip/homuncu_loc_image_analysis/iAT1_iAT2_iVEC_macrophage_experiments/DAPI_ZO1_CD16_MTB/sc_analyses/20230718_20X_23-02-104B2_Multichannel Z-Stack_20230718_1363_z_tracks_masks_d100.h5\n"
     ]
    },
    {
     "data": {
      "text/plain": [
       "<Tracks layer '/run/user/30046150/gvfs/smb-share:server=data2.thecrick.org,share=lab-gutierrezm/home/shared/Lung on Chip/homuncu_loc_image_analysis/iAT1_iAT2_iVEC_macrophage_experiments/DAPI_ZO1_CD16_MTB/sc_analyses/20230718_20X_23-02-104B2_Multichannel Z-Stack_20230718_1363_z_tracks_masks_' at 0x7f1bc67e9610>"
      ]
     },
     "execution_count": 92,
     "metadata": {},
     "output_type": "execute_result"
    }
   ],
   "source": [
    "i = glob(image_fn.replace('images', 'sc_analyses').replace('.tif', '*.h5'))[2]\n",
    "with btrack.io.HDF5FileHandler(i, 'r', obj_type='obj_type_1') as reader:\n",
    "    segmentation = reader.segmentation\n",
    "    tracks = [t for t in reader.tracks if len(t) >= 3]\n",
    "\n",
    "napari_tracks, _, _ = btrack.utils.tracks_to_napari(tracks, ndim = 2)\n",
    "recolored_segmentation = btrack.utils.update_segmentation(segmentation, tracks, color_by='ID')\n",
    "viewer.add_labels(segmentation, visible = False)\n",
    "viewer.add_labels(recolored_segmentation)\n",
    "viewer.add_tracks(napari_tracks, name = i.split(ID_extractor(i))[-2])"
   ]
  },
  {
   "cell_type": "code",
   "execution_count": 48,
   "id": "905833f1-ddf3-4439-85ee-9605716bb3b5",
   "metadata": {},
   "outputs": [],
   "source": [
    "sc_fn = image_fn.replace('images', 'sc_analyses').replace('.tif', '_sc_data.h5')"
   ]
  },
  {
   "cell_type": "code",
   "execution_count": 129,
   "id": "1290f693-ab40-4621-821a-704fd9e6af03",
   "metadata": {},
   "outputs": [
    {
     "name": "stderr",
     "output_type": "stream",
     "text": [
      "[INFO][2023/09/06 12:57:45 pm] Opening HDF file: /run/user/30046150/gvfs/smb-share:server=data2.thecrick.org,share=lab-gutierrezm/home/shared/Lung on Chip/homuncu_loc_image_analysis/iAT1_iAT2_iVEC_macrophage_experiments/DAPI_ZO1_CD16_MTB/sc_analyses/20230707_40X_23-01-001A3_Multichannel Z-Stack_20230707_1319_z_tracks_masks_d100.h5...\n",
      "[INFO][2023/09/06 12:57:58 pm] Loading segmentation (317, 2304, 2304)\n",
      "[INFO][2023/09/06 12:57:58 pm] Loading tracks/obj_type_1\n",
      "[INFO][2023/09/06 12:57:58 pm] Loading LBEP/obj_type_1\n",
      "[INFO][2023/09/06 12:57:58 pm] Loading objects/obj_type_1 (21159, 5) (21159 filtered: None)\n",
      "[INFO][2023/09/06 12:58:01 pm] Closing HDF file: /run/user/30046150/gvfs/smb-share:server=data2.thecrick.org,share=lab-gutierrezm/home/shared/Lung on Chip/homuncu_loc_image_analysis/iAT1_iAT2_iVEC_macrophage_experiments/DAPI_ZO1_CD16_MTB/sc_analyses/20230707_40X_23-01-001A3_Multichannel Z-Stack_20230707_1319_z_tracks_masks_d100.h5\n"
     ]
    },
    {
     "data": {
      "text/plain": [
       "<Tracks layer 'napari_tracks [1]' at 0x7f5931165ac0>"
      ]
     },
     "execution_count": 129,
     "metadata": {},
     "output_type": "execute_result"
    }
   ],
   "source": [
    "with btrack.io.HDF5FileHandler(sc_fn, 'r', obj_type='obj_type_1') as reader:\n",
    "    segmentation = reader.segmentation\n",
    "    tracks = [t for t in reader.tracks if len(t) >= 3]\n",
    "\n",
    "napari_tracks, _, _ = btrack.utils.tracks_to_napari(tracks, ndim = 2)\n",
    "recolored_segmentation = btrack.utils.update_segmentation(segmentation, tracks, color_by='ID')\n",
    "viewer.add_labels(segmentation, visible = False)\n",
    "viewer.add_labels(recolored_segmentation)\n",
    "viewer.add_tracks(napari_tracks)"
   ]
  },
  {
   "cell_type": "code",
   "execution_count": 130,
   "id": "946610b6-10fd-487c-8a81-37de18ee1992",
   "metadata": {},
   "outputs": [
    {
     "name": "stdout",
     "output_type": "stream",
     "text": [
      "\n"
     ]
    }
   ],
   "source": [
    "print()"
   ]
  }
 ],
 "metadata": {
  "kernelspec": {
   "display_name": "brassica",
   "language": "python",
   "name": "brassica"
  },
  "language_info": {
   "codemirror_mode": {
    "name": "ipython",
    "version": 3
   },
   "file_extension": ".py",
   "mimetype": "text/x-python",
   "name": "python",
   "nbconvert_exporter": "python",
   "pygments_lexer": "ipython3",
   "version": "3.9.17"
  }
 },
 "nbformat": 4,
 "nbformat_minor": 5
}
