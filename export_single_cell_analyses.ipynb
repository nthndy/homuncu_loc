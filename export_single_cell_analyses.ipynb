{
 "cells": [
  {
   "cell_type": "markdown",
   "id": "e0f69c13-80ab-4801-a40a-fc3962273c3b",
   "metadata": {},
   "source": [
    "# Export single-cell analyses\n",
    "\n",
    "This notebook is designed to extract the relevant single-cell information from the z-tracks and plot as a pandas dataframe/csv/excel format for others to interrogate."
   ]
  },
  {
   "cell_type": "code",
   "execution_count": 7,
   "id": "34035b49-7cf3-4c84-ba75-93a4b6a4ad09",
   "metadata": {},
   "outputs": [],
   "source": [
    "import btrack\n",
    "import pandas as pd\n",
    "import numpy as np\n",
    "import glob\n",
    "import os\n",
    "import fnmatch\n",
    "from homuncu_loc import dataio\n",
    "from tqdm.notebook import tqdm\n",
    "import warnings"
   ]
  },
  {
   "cell_type": "markdown",
   "id": "4b6b3ad8-2c33-40e2-ac25-2a65a003548f",
   "metadata": {},
   "source": [
    "### Find H5 files will single-cell tracks in"
   ]
  },
  {
   "cell_type": "code",
   "execution_count": 27,
   "id": "5619be58-42c2-4521-aef8-8bbb1835af42",
   "metadata": {},
   "outputs": [
    {
     "data": {
      "text/plain": [
       "['/Users/lukc/Analysis/homuncu_loc/segmentation_and_tracking/temp_mask_output/20231128_20X_23-03-072A3_DAPI_ZO-1_CD16_Mtb_WT_2hpi_Multichannel Z-Stack_20231128_1557_mphi_gt_masks.h5',\n",
       " '/Users/lukc/Analysis/homuncu_loc/segmentation_and_tracking/temp_mask_output/20231127_20X_23-03-072A5_DAPI_ZO-1_CD16_Mtb_ATG14KO_2hpi_Multichannel Z-Stack_20231127_1551_mphi_gt_masks.h5',\n",
       " '/Users/lukc/Analysis/homuncu_loc/segmentation_and_tracking/temp_mask_output/20231128_20X_23-03-072A3_DAPI_ZO-1_CD16_Mtb_WT_2hpi_Multichannel Z-Stack_20231128_1558_mphi_gt_masks.h5',\n",
       " '/Users/lukc/Analysis/homuncu_loc/segmentation_and_tracking/temp_mask_output/20231128_20X_23-03-072A4_DAPI_ZO-1_CD16_Mtb_WT_48hpi_Multichannel Z-Stack_20231128_1566_gt_mphi_masks.h5',\n",
       " '/Users/lukc/Analysis/homuncu_loc/segmentation_and_tracking/temp_mask_output/20231128_20X_23-03-072A4_DAPI_ZO-1_CD16_Mtb_WT_48hpi_Multichannel Z-Stack_20231128_1571_mphi_gt_masks.h5',\n",
       " '/Users/lukc/Analysis/homuncu_loc/segmentation_and_tracking/temp_mask_output/20231127_20X_23-03-072A5_DAPI_ZO-1_CD16_Mtb_ATG14KO_2hpi_Multichannel Z-Stack_20231127_1550_mphi_gt_masks.h5',\n",
       " '/Users/lukc/Analysis/homuncu_loc/segmentation_and_tracking/temp_mask_output/20231128_20X_23-03-072A3_DAPI_ZO-1_CD16_Mtb_WT_2hpi_Multichannel Z-Stack_20231128_1556_mphi_gt_masks.h5',\n",
       " '/Users/lukc/Analysis/homuncu_loc/segmentation_and_tracking/temp_mask_output/20231128_20X_23-03-072A4_DAPI_ZO-1_CD16_Mtb_WT_48hpi_Multichannel Z-Stack_20231128_1568_gt_mphi_masks.h5',\n",
       " '/Users/lukc/Analysis/homuncu_loc/segmentation_and_tracking/temp_mask_output/20231127_20X_23-03-072A6_DAPI_ZO-1_CD16_Mtb_ATG14KO_48hpi_Mult...nel Z-Stack_20231127_1542_mphi_gt_masks.h5',\n",
       " '/Users/lukc/Analysis/homuncu_loc/segmentation_and_tracking/temp_mask_output/20231127_20X_23-03-072A5_DAPI_ZO-1_CD16_Mtb_ATG14KO_2hpi_Multichannel Z-Stack_20231127_1554_mphi_gt_masks.h5',\n",
       " '/Users/lukc/Analysis/homuncu_loc/segmentation_and_tracking/temp_mask_output/20231127_20X_23-03-072A6_DAPI_ZO-1_CD16_Mtb_ATG14KO_48hpi_Mult...nel Z-Stack_20231127_1541_mphi_gt_masks.h5',\n",
       " '/Users/lukc/Analysis/homuncu_loc/segmentation_and_tracking/temp_mask_output/20231128_20X_23-03-072A3_DAPI_ZO-1_CD16_Mtb_WT_2hpi_Multichannel Z-Stack_20231128_1556_gt_mphi_masks.h5',\n",
       " '/Users/lukc/Analysis/homuncu_loc/segmentation_and_tracking/temp_mask_output/20231128_20X_23-03-072A4_DAPI_ZO-1_CD16_Mtb_WT_48hpi_Multichannel Z-Stack_20231128_1568_mphi_gt_masks.h5',\n",
       " '/Users/lukc/Analysis/homuncu_loc/segmentation_and_tracking/temp_mask_output/20231128_20X_23-03-072A3_DAPI_ZO-1_CD16_Mtb_WT_2hpi_Multichannel Z-Stack_20231128_1557_gt_mphi_masks.h5',\n",
       " '/Users/lukc/Analysis/homuncu_loc/segmentation_and_tracking/temp_mask_output/20231127_20X_23-03-072A6_DAPI_ZO-1_CD16_Mtb_ATG14KO_48hpi_Mult...nel Z-Stack_20231127_1544_mphi_gt_masks.h5',\n",
       " '/Users/lukc/Analysis/homuncu_loc/segmentation_and_tracking/temp_mask_output/20231128_20X_23-03-072A3_DAPI_ZO-1_CD16_Mtb_WT_2hpi_Multichannel Z-Stack_20231128_1558_gt_mphi_masks.h5']"
      ]
     },
     "execution_count": 27,
     "metadata": {},
     "output_type": "execute_result"
    }
   ],
   "source": [
    "# replace the path with your own, think it will be 'Analysis/homuncu_loc/segmentation_and_tracking/temp_mask_dir/' \n",
    "# but this is from memory so just check where you saved out the final tracks in previous notebook\n",
    "h5_fns = dataio.find_h5_files('/Users/lukc/Analysis/homuncu_loc/segmentation_and_tracking/temp_mask_output') \n",
    "h5_fns"
   ]
  },
  {
   "cell_type": "markdown",
   "id": "42ec08b5-ca25-4a09-9189-964b16e15551",
   "metadata": {},
   "source": [
    "##### Optionally filter h5 filenames to only include a subset"
   ]
  },
  {
   "cell_type": "code",
   "execution_count": 4,
   "id": "c35d740f-a7c3-4bf7-ad75-16f083813031",
   "metadata": {},
   "outputs": [
    {
     "data": {
      "text/plain": [
       "[]"
      ]
     },
     "execution_count": 4,
     "metadata": {},
     "output_type": "execute_result"
    }
   ],
   "source": [
    "h5_fns =  [fn for fn in h5_fns if any(substring in fn for substring in ['194', '195', '196'])] #[fn for fn in h5_fns if fn.endswith('sc_data.h5') and 'run1' in fn]\n",
    "h5_fns"
   ]
  },
  {
   "cell_type": "markdown",
   "id": "de9d8b9c-b16e-4efa-b985-812585d7d31b",
   "metadata": {},
   "source": [
    "### Load tracks"
   ]
  },
  {
   "cell_type": "code",
   "execution_count": 17,
   "id": "207249a5-9e09-4724-8670-170fd2dee852",
   "metadata": {},
   "outputs": [],
   "source": [
    "### define parameters to plot in table\n",
    "cols = ['Cell ID', \n",
    "        f'Max. int. ch0', \n",
    "        f'Max. int. ch1', \n",
    "        f'Max. int. ch2', \n",
    "        f'Max. int. ch3', \n",
    "        'Mtb+', \n",
    "        'N_frames Mtb+', \n",
    "        'Max. Mtb area', \n",
    "        'Average X', \n",
    "        'Average Y'\n",
    "        ]"
   ]
  },
  {
   "cell_type": "code",
   "execution_count": 28,
   "id": "149448a7-b664-4fd7-a88d-07e74ebbd626",
   "metadata": {},
   "outputs": [
    {
     "name": "stderr",
     "output_type": "stream",
     "text": [
      "[INFO][2023/12/21 02:14:45 PM] Opening HDF file: /Users/lukc/Analysis/homuncu_loc/segmentation_and_tracking/temp_mask_output/20231128_20X_23-03-072A3_DAPI_ZO-1_CD16_Mtb_WT_2hpi_Multichannel Z-Stack_20231128_1557_mphi_gt_masks.h5...\n",
      "[ERROR][2023/12/21 02:14:45 PM] Tracks not found in /Users/lukc/Analysis/homuncu_loc/segmentation_and_tracking/temp_mask_output/20231128_20X_23-03-072A3_DAPI_ZO-1_CD16_Mtb_WT_2hpi_Multichannel Z-Stack_20231128_1557_mphi_gt_masks.h5\n",
      "[INFO][2023/12/21 02:14:45 PM] Closing HDF file: /Users/lukc/Analysis/homuncu_loc/segmentation_and_tracking/temp_mask_output/20231128_20X_23-03-072A3_DAPI_ZO-1_CD16_Mtb_WT_2hpi_Multichannel Z-Stack_20231128_1557_mphi_gt_masks.h5\n"
     ]
    },
    {
     "ename": "NameError",
     "evalue": "name 'tracks' is not defined",
     "output_type": "error",
     "traceback": [
      "\u001b[0;31m---------------------------------------------------------------------------\u001b[0m",
      "\u001b[0;31mNameError\u001b[0m                                 Traceback (most recent call last)",
      "Cell \u001b[0;32mIn[28], line 20\u001b[0m\n\u001b[1;32m      8\u001b[0m         error_fns\u001b[38;5;241m.\u001b[39mappend(tracks_fn)\n\u001b[1;32m      9\u001b[0m \u001b[38;5;66;03m# now plot into dataframe\u001b[39;00m\n\u001b[1;32m     10\u001b[0m df \u001b[38;5;241m=\u001b[39m pd\u001b[38;5;241m.\u001b[39mDataFrame([(track\u001b[38;5;241m.\u001b[39mID,\n\u001b[1;32m     11\u001b[0m                     np\u001b[38;5;241m.\u001b[39mnanmax(track[\u001b[38;5;124m'\u001b[39m\u001b[38;5;124mmean_intensity\u001b[39m\u001b[38;5;124m'\u001b[39m][:,\u001b[38;5;241m0\u001b[39m]),\n\u001b[1;32m     12\u001b[0m                     np\u001b[38;5;241m.\u001b[39mnanmax(track[\u001b[38;5;124m'\u001b[39m\u001b[38;5;124mmean_intensity\u001b[39m\u001b[38;5;124m'\u001b[39m][:,\u001b[38;5;241m1\u001b[39m]),\n\u001b[1;32m     13\u001b[0m                     np\u001b[38;5;241m.\u001b[39mnanmax(track[\u001b[38;5;124m'\u001b[39m\u001b[38;5;124mmean_intensity\u001b[39m\u001b[38;5;124m'\u001b[39m][:,\u001b[38;5;241m2\u001b[39m]),\n\u001b[1;32m     14\u001b[0m                     np\u001b[38;5;241m.\u001b[39mnanmax(track[\u001b[38;5;124m'\u001b[39m\u001b[38;5;124mmean_intensity\u001b[39m\u001b[38;5;124m'\u001b[39m][:,\u001b[38;5;241m3\u001b[39m]),\n\u001b[1;32m     15\u001b[0m                     \u001b[38;5;28;01mTrue\u001b[39;00m \u001b[38;5;28;01mif\u001b[39;00m np\u001b[38;5;241m.\u001b[39mnansum(track\u001b[38;5;241m.\u001b[39mproperties[\u001b[38;5;124m'\u001b[39m\u001b[38;5;124mmtb_status\u001b[39m\u001b[38;5;124m'\u001b[39m]) \u001b[38;5;241m>\u001b[39m \u001b[38;5;241m0\u001b[39m \u001b[38;5;28;01melse\u001b[39;00m \u001b[38;5;28;01mFalse\u001b[39;00m,\n\u001b[1;32m     16\u001b[0m                     np\u001b[38;5;241m.\u001b[39mnansum(track\u001b[38;5;241m.\u001b[39mproperties[\u001b[38;5;124m'\u001b[39m\u001b[38;5;124mmtb_status\u001b[39m\u001b[38;5;124m'\u001b[39m]),\n\u001b[1;32m     17\u001b[0m                     np\u001b[38;5;241m.\u001b[39mnanmax(track\u001b[38;5;241m.\u001b[39mproperties[\u001b[38;5;124m'\u001b[39m\u001b[38;5;124mmtb_area\u001b[39m\u001b[38;5;124m'\u001b[39m]),\n\u001b[1;32m     18\u001b[0m                     np\u001b[38;5;241m.\u001b[39mmean(track\u001b[38;5;241m.\u001b[39mx),\n\u001b[1;32m     19\u001b[0m                     np\u001b[38;5;241m.\u001b[39mmean(track\u001b[38;5;241m.\u001b[39my))\n\u001b[0;32m---> 20\u001b[0m                    \u001b[38;5;28;01mfor\u001b[39;00m track \u001b[38;5;129;01min\u001b[39;00m \u001b[43mtracks\u001b[49m],\n\u001b[1;32m     21\u001b[0m                   columns\u001b[38;5;241m=\u001b[39mcols)\n\u001b[1;32m     22\u001b[0m \u001b[38;5;66;03m# create fn\u001b[39;00m\n\u001b[1;32m     23\u001b[0m output_fn \u001b[38;5;241m=\u001b[39m tracks_fn\u001b[38;5;241m.\u001b[39mreplace(\u001b[38;5;124m'\u001b[39m\u001b[38;5;124m.h5\u001b[39m\u001b[38;5;124m'\u001b[39m, \u001b[38;5;124m'\u001b[39m\u001b[38;5;124msc_data.csv\u001b[39m\u001b[38;5;124m'\u001b[39m)\n",
      "\u001b[0;31mNameError\u001b[0m: name 'tracks' is not defined"
     ]
    }
   ],
   "source": [
    "sum = 0\n",
    "error_fns = list()\n",
    "for tracks_fn in h5_fns:\n",
    "    with btrack.io.HDF5FileHandler(tracks_fn, 'r', obj_type='obj_type_1') as hdf:\n",
    "        try:\n",
    "            tracks = hdf.tracks #[t for t in hdf.tracks if len(t) > 3]\n",
    "        except:\n",
    "            error_fns.append(tracks_fn)\n",
    "    # now plot into dataframe\n",
    "    df = pd.DataFrame([(track.ID,\n",
    "                        np.nanmax(track['mean_intensity'][:,0]),\n",
    "                        np.nanmax(track['mean_intensity'][:,1]),\n",
    "                        np.nanmax(track['mean_intensity'][:,2]),\n",
    "                        np.nanmax(track['mean_intensity'][:,3]),\n",
    "                        True if np.nansum(track.properties['mtb_status']) > 0 else False,\n",
    "                        np.nansum(track.properties['mtb_status']),\n",
    "                        np.nanmax(track.properties['mtb_area']),\n",
    "                        np.mean(track.x),\n",
    "                        np.mean(track.y))\n",
    "                       for track in tracks],\n",
    "                      columns=cols)\n",
    "    # create fn\n",
    "    output_fn = tracks_fn.replace('.h5', 'sc_data.csv')\n",
    "    if output_fn == tracks_fn:\n",
    "        warnings.warn(\"Warning: The output file name is the same as the tracks file name. This will result in overwriting the tracks file.\")\n",
    "    # save out\n",
    "    df.to_csv(output_fn)\n",
    "    # check on the fly\n",
    "    print(tracks_fn, '\\n', df.head())\n",
    "    # how many sc measreuments\n",
    "    sum += len(df)"
   ]
  },
  {
   "cell_type": "code",
   "execution_count": 29,
   "id": "0720a8c4-7bde-4e16-838e-0466eae68cba",
   "metadata": {},
   "outputs": [
    {
     "data": {
      "text/plain": [
       "'/Users/lukc/Analysis/homuncu_loc/segmentation_and_tracking/temp_mask_output/20231128_20X_23-03-072A3_DAPI_ZO-1_CD16_Mtb_WT_2hpi_Multichannel Z-Stack_20231128_1557_mphi_gt_masks.h5'"
      ]
     },
     "execution_count": 29,
     "metadata": {},
     "output_type": "execute_result"
    }
   ],
   "source": [
    "tracks_fn"
   ]
  },
  {
   "cell_type": "code",
   "execution_count": 32,
   "id": "ed143409-7ddf-4600-9af0-afd4c54f14ac",
   "metadata": {},
   "outputs": [
    {
     "name": "stderr",
     "output_type": "stream",
     "text": [
      "[INFO][2023/12/21 02:16:19 PM] Opening HDF file: /Users/lukc/Analysis/homuncu_loc/segmentation_and_tracking/temp_mask_output/20231128_20X_23-03-072A3_DAPI_ZO-1_CD16_Mtb_WT_2hpi_Multichannel Z-Stack_20231128_1557_mphi_gt_masks.h5...\n",
      "[ERROR][2023/12/21 02:16:19 PM] Tracks not found in /Users/lukc/Analysis/homuncu_loc/segmentation_and_tracking/temp_mask_output/20231128_20X_23-03-072A3_DAPI_ZO-1_CD16_Mtb_WT_2hpi_Multichannel Z-Stack_20231128_1557_mphi_gt_masks.h5\n",
      "[INFO][2023/12/21 02:16:19 PM] Closing HDF file: /Users/lukc/Analysis/homuncu_loc/segmentation_and_tracking/temp_mask_output/20231128_20X_23-03-072A3_DAPI_ZO-1_CD16_Mtb_WT_2hpi_Multichannel Z-Stack_20231128_1557_mphi_gt_masks.h5\n"
     ]
    }
   ],
   "source": [
    "with btrack.io.HDF5FileHandler(tracks_fn, 'r', obj_type='obj_type_1') as hdf:\n",
    "    tracks = hdf.tracks#[t for t in hdf.tracks if len(t) > 3]"
   ]
  }
 ],
 "metadata": {
  "kernelspec": {
   "display_name": "humonculoc",
   "language": "python",
   "name": "humonculoc"
  },
  "language_info": {
   "codemirror_mode": {
    "name": "ipython",
    "version": 3
   },
   "file_extension": ".py",
   "mimetype": "text/x-python",
   "name": "python",
   "nbconvert_exporter": "python",
   "pygments_lexer": "ipython3",
   "version": "3.9.18"
  }
 },
 "nbformat": 4,
 "nbformat_minor": 5
}
