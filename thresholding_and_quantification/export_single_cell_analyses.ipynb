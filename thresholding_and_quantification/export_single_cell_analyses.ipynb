{
 "cells": [
  {
   "cell_type": "markdown",
   "id": "e0f69c13-80ab-4801-a40a-fc3962273c3b",
   "metadata": {},
   "source": [
    "# Export single-cell analyses\n",
    "\n",
    "This notebook is designed to extract the relevant single-cell information from the z-tracks and plot as a pandas dataframe/csv/excel format for others to interrogate."
   ]
  },
  {
   "cell_type": "code",
   "execution_count": 10,
   "id": "34035b49-7cf3-4c84-ba75-93a4b6a4ad09",
   "metadata": {},
   "outputs": [],
   "source": [
    "import btrack\n",
    "import pandas as pd\n",
    "import numpy as np\n",
    "import glob\n",
    "import os\n",
    "import fnmatch\n",
    "from homuncu_loc import dataio\n",
    "from tqdm.notebook import tqdm\n",
    "import warnings\n",
    "\n"
   ]
  },
  {
   "cell_type": "markdown",
   "id": "4b6b3ad8-2c33-40e2-ac25-2a65a003548f",
   "metadata": {},
   "source": [
    "### Find files"
   ]
  },
  {
   "cell_type": "code",
   "execution_count": 19,
   "id": "5619be58-42c2-4521-aef8-8bbb1835af42",
   "metadata": {},
   "outputs": [],
   "source": [
    "h5_fns = dataio.find_h5_files('/home/dayn/data/homuncu_loc_temp/results/')#'/mnt/DATA/homuncu_loc/results')"
   ]
  },
  {
   "cell_type": "code",
   "execution_count": 21,
   "id": "12f36298-e1a8-4389-8bb2-e71d3e5d75cb",
   "metadata": {},
   "outputs": [],
   "source": [
    "h5_fns = dataio.find_h5_files('/mnt/DATA/homuncu_loc/run0/DAPI-SPC-PDPN-ZO1/')"
   ]
  },
  {
   "cell_type": "markdown",
   "id": "42ec08b5-ca25-4a09-9189-964b16e15551",
   "metadata": {},
   "source": [
    "### Filter h5 filenames to only include a subset"
   ]
  },
  {
   "cell_type": "code",
   "execution_count": 23,
   "id": "c35d740f-a7c3-4bf7-ad75-16f083813031",
   "metadata": {},
   "outputs": [],
   "source": [
    "h5_fns =  [fn for fn in h5_fns if any(substring in fn for substring in ['194', '195', '196'])]#[fn for fn in h5_fns if fn.endswith('sc_data.h5') and 'run1' in fn]"
   ]
  },
  {
   "cell_type": "code",
   "execution_count": 24,
   "id": "0b0fe5ea-91fb-46db-a118-5fc2fae634d3",
   "metadata": {},
   "outputs": [
    {
     "data": {
      "text/plain": [
       "['/mnt/DATA/homuncu_loc/run0/DAPI-SPC-PDPN-ZO1/Day7_breath/20x_21-12-029A_A3456_Multichannel Z-Stack_20220818_196_z_tracks_masks.h5',\n",
       " '/mnt/DATA/homuncu_loc/run0/DAPI-SPC-PDPN-ZO1/Day7_breath/20x_21-12-029A_A3456_Multichannel Z-Stack_20220818_195_z_tracks_masks.h5',\n",
       " '/mnt/DATA/homuncu_loc/run0/DAPI-SPC-PDPN-ZO1/Day7_breath/20x_21-12-029A_A3456_Multichannel Z-Stack_20220818_194_z_tracks_masks.h5']"
      ]
     },
     "execution_count": 24,
     "metadata": {},
     "output_type": "execute_result"
    }
   ],
   "source": [
    "h5_fns"
   ]
  },
  {
   "cell_type": "code",
   "execution_count": 50,
   "id": "8ada9075-9243-4ce4-8fa0-abe623b4c3f3",
   "metadata": {},
   "outputs": [],
   "source": [
    "# pick subset?\n",
    "h5_fns = ['/home/dayn/data/homuncu_loc_temp/results/image analysis_Nathan/Job_Mtb area/run1_23-01-001_23-01-005/48h pi/20230705_40X_23-01-005A3_Multichannel Z-Stack_20230705_1311_sc_data.h5']"
   ]
  },
  {
   "cell_type": "markdown",
   "id": "de9d8b9c-b16e-4efa-b985-812585d7d31b",
   "metadata": {},
   "source": [
    "### Load tracks"
   ]
  },
  {
   "cell_type": "code",
   "execution_count": 28,
   "id": "207249a5-9e09-4724-8670-170fd2dee852",
   "metadata": {},
   "outputs": [],
   "source": [
    "### define parameters to plot in table\n",
    "cols = ['Cell ID', \n",
    "        f'Max. int. ch0', \n",
    "        f'Max. int. ch1', \n",
    "        f'Max. int. ch2', \n",
    "        f'Max. int. ch3', \n",
    "        # 'Mtb+', \n",
    "        # 'N_frames Mtb+', \n",
    "        # 'Max Mtb area', \n",
    "        'Average X', \n",
    "        'Average Y'\n",
    "        ]"
   ]
  },
  {
   "cell_type": "code",
   "execution_count": 32,
   "id": "149448a7-b664-4fd7-a88d-07e74ebbd626",
   "metadata": {
    "scrolled": true
   },
   "outputs": [
    {
     "data": {
      "application/vnd.jupyter.widget-view+json": {
       "model_id": "7ea6acc0df3947ca96b6eb5023bf8a62",
       "version_major": 2,
       "version_minor": 0
      },
      "text/plain": [
       "  0%|          | 0/3 [00:00<?, ?it/s]"
      ]
     },
     "metadata": {},
     "output_type": "display_data"
    },
    {
     "name": "stderr",
     "output_type": "stream",
     "text": [
      "[INFO][2023/08/31 05:37:22 PM] Opening HDF file: /mnt/DATA/homuncu_loc/run0/DAPI-SPC-PDPN-ZO1/Day7_breath/20x_21-12-029A_A3456_Multichannel Z-Stack_20220818_196_z_tracks_masks.h5...\n"
     ]
    },
    {
     "ename": "OSError",
     "evalue": "Unable to open file (file signature not found)",
     "output_type": "error",
     "traceback": [
      "\u001b[0;31m---------------------------------------------------------------------------\u001b[0m",
      "\u001b[0;31mOSError\u001b[0m                                   Traceback (most recent call last)",
      "Cell \u001b[0;32mIn[32], line 4\u001b[0m\n\u001b[1;32m      2\u001b[0m error_fns \u001b[38;5;241m=\u001b[39m \u001b[38;5;28mlist\u001b[39m()\n\u001b[1;32m      3\u001b[0m \u001b[38;5;28;01mfor\u001b[39;00m tracks_fn \u001b[38;5;129;01min\u001b[39;00m tqdm(h5_fns):\n\u001b[0;32m----> 4\u001b[0m     \u001b[38;5;28;01mwith\u001b[39;00m \u001b[43mbtrack\u001b[49m\u001b[38;5;241;43m.\u001b[39;49m\u001b[43mio\u001b[49m\u001b[38;5;241;43m.\u001b[39;49m\u001b[43mHDF5FileHandler\u001b[49m\u001b[43m(\u001b[49m\u001b[43mtracks_fn\u001b[49m\u001b[43m,\u001b[49m\u001b[43m \u001b[49m\u001b[38;5;124;43m'\u001b[39;49m\u001b[38;5;124;43mr\u001b[39;49m\u001b[38;5;124;43m'\u001b[39;49m\u001b[43m)\u001b[49m \u001b[38;5;28;01mas\u001b[39;00m hdf:\n\u001b[1;32m      5\u001b[0m         \u001b[38;5;28;01mtry\u001b[39;00m:\n\u001b[1;32m      6\u001b[0m             tracks \u001b[38;5;241m=\u001b[39m [t \u001b[38;5;28;01mfor\u001b[39;00m t \u001b[38;5;129;01min\u001b[39;00m hdf\u001b[38;5;241m.\u001b[39mtracks \u001b[38;5;28;01mif\u001b[39;00m \u001b[38;5;28mlen\u001b[39m(t) \u001b[38;5;241m>\u001b[39m \u001b[38;5;241m3\u001b[39m]\n",
      "File \u001b[0;32m~/analysis/btrack/btrack/io/hdf.py:139\u001b[0m, in \u001b[0;36mHDF5FileHandler.__init__\u001b[0;34m(self, filename, read_write, obj_type)\u001b[0m\n\u001b[1;32m    137\u001b[0m \u001b[38;5;28mself\u001b[39m\u001b[38;5;241m.\u001b[39mfilename \u001b[38;5;241m=\u001b[39m filename\n\u001b[1;32m    138\u001b[0m logger\u001b[38;5;241m.\u001b[39minfo(\u001b[38;5;124mf\u001b[39m\u001b[38;5;124m\"\u001b[39m\u001b[38;5;124mOpening HDF file: \u001b[39m\u001b[38;5;132;01m{\u001b[39;00m\u001b[38;5;28mself\u001b[39m\u001b[38;5;241m.\u001b[39mfilename\u001b[38;5;132;01m}\u001b[39;00m\u001b[38;5;124m...\u001b[39m\u001b[38;5;124m\"\u001b[39m)\n\u001b[0;32m--> 139\u001b[0m \u001b[38;5;28mself\u001b[39m\u001b[38;5;241m.\u001b[39m_hdf \u001b[38;5;241m=\u001b[39m \u001b[43mh5py\u001b[49m\u001b[38;5;241;43m.\u001b[39;49m\u001b[43mFile\u001b[49m\u001b[43m(\u001b[49m\u001b[43mfilename\u001b[49m\u001b[43m,\u001b[49m\u001b[43m \u001b[49m\u001b[43mread_write\u001b[49m\u001b[43m)\u001b[49m\n\u001b[1;32m    140\u001b[0m \u001b[38;5;28mself\u001b[39m\u001b[38;5;241m.\u001b[39m_states \u001b[38;5;241m=\u001b[39m \u001b[38;5;28mlist\u001b[39m(constants\u001b[38;5;241m.\u001b[39mStates)\n",
      "File \u001b[0;32m~/miniconda3/envs/brassica/lib/python3.9/site-packages/h5py/_hl/files.py:567\u001b[0m, in \u001b[0;36mFile.__init__\u001b[0;34m(self, name, mode, driver, libver, userblock_size, swmr, rdcc_nslots, rdcc_nbytes, rdcc_w0, track_order, fs_strategy, fs_persist, fs_threshold, fs_page_size, page_buf_size, min_meta_keep, min_raw_keep, locking, alignment_threshold, alignment_interval, meta_block_size, **kwds)\u001b[0m\n\u001b[1;32m    558\u001b[0m     fapl \u001b[38;5;241m=\u001b[39m make_fapl(driver, libver, rdcc_nslots, rdcc_nbytes, rdcc_w0,\n\u001b[1;32m    559\u001b[0m                      locking, page_buf_size, min_meta_keep, min_raw_keep,\n\u001b[1;32m    560\u001b[0m                      alignment_threshold\u001b[38;5;241m=\u001b[39malignment_threshold,\n\u001b[1;32m    561\u001b[0m                      alignment_interval\u001b[38;5;241m=\u001b[39malignment_interval,\n\u001b[1;32m    562\u001b[0m                      meta_block_size\u001b[38;5;241m=\u001b[39mmeta_block_size,\n\u001b[1;32m    563\u001b[0m                      \u001b[38;5;241m*\u001b[39m\u001b[38;5;241m*\u001b[39mkwds)\n\u001b[1;32m    564\u001b[0m     fcpl \u001b[38;5;241m=\u001b[39m make_fcpl(track_order\u001b[38;5;241m=\u001b[39mtrack_order, fs_strategy\u001b[38;5;241m=\u001b[39mfs_strategy,\n\u001b[1;32m    565\u001b[0m                      fs_persist\u001b[38;5;241m=\u001b[39mfs_persist, fs_threshold\u001b[38;5;241m=\u001b[39mfs_threshold,\n\u001b[1;32m    566\u001b[0m                      fs_page_size\u001b[38;5;241m=\u001b[39mfs_page_size)\n\u001b[0;32m--> 567\u001b[0m     fid \u001b[38;5;241m=\u001b[39m \u001b[43mmake_fid\u001b[49m\u001b[43m(\u001b[49m\u001b[43mname\u001b[49m\u001b[43m,\u001b[49m\u001b[43m \u001b[49m\u001b[43mmode\u001b[49m\u001b[43m,\u001b[49m\u001b[43m \u001b[49m\u001b[43muserblock_size\u001b[49m\u001b[43m,\u001b[49m\u001b[43m \u001b[49m\u001b[43mfapl\u001b[49m\u001b[43m,\u001b[49m\u001b[43m \u001b[49m\u001b[43mfcpl\u001b[49m\u001b[43m,\u001b[49m\u001b[43m \u001b[49m\u001b[43mswmr\u001b[49m\u001b[38;5;241;43m=\u001b[39;49m\u001b[43mswmr\u001b[49m\u001b[43m)\u001b[49m\n\u001b[1;32m    569\u001b[0m \u001b[38;5;28;01mif\u001b[39;00m \u001b[38;5;28misinstance\u001b[39m(libver, \u001b[38;5;28mtuple\u001b[39m):\n\u001b[1;32m    570\u001b[0m     \u001b[38;5;28mself\u001b[39m\u001b[38;5;241m.\u001b[39m_libver \u001b[38;5;241m=\u001b[39m libver\n",
      "File \u001b[0;32m~/miniconda3/envs/brassica/lib/python3.9/site-packages/h5py/_hl/files.py:231\u001b[0m, in \u001b[0;36mmake_fid\u001b[0;34m(name, mode, userblock_size, fapl, fcpl, swmr)\u001b[0m\n\u001b[1;32m    229\u001b[0m     \u001b[38;5;28;01mif\u001b[39;00m swmr \u001b[38;5;129;01mand\u001b[39;00m swmr_support:\n\u001b[1;32m    230\u001b[0m         flags \u001b[38;5;241m|\u001b[39m\u001b[38;5;241m=\u001b[39m h5f\u001b[38;5;241m.\u001b[39mACC_SWMR_READ\n\u001b[0;32m--> 231\u001b[0m     fid \u001b[38;5;241m=\u001b[39m \u001b[43mh5f\u001b[49m\u001b[38;5;241;43m.\u001b[39;49m\u001b[43mopen\u001b[49m\u001b[43m(\u001b[49m\u001b[43mname\u001b[49m\u001b[43m,\u001b[49m\u001b[43m \u001b[49m\u001b[43mflags\u001b[49m\u001b[43m,\u001b[49m\u001b[43m \u001b[49m\u001b[43mfapl\u001b[49m\u001b[38;5;241;43m=\u001b[39;49m\u001b[43mfapl\u001b[49m\u001b[43m)\u001b[49m\n\u001b[1;32m    232\u001b[0m \u001b[38;5;28;01melif\u001b[39;00m mode \u001b[38;5;241m==\u001b[39m \u001b[38;5;124m'\u001b[39m\u001b[38;5;124mr+\u001b[39m\u001b[38;5;124m'\u001b[39m:\n\u001b[1;32m    233\u001b[0m     fid \u001b[38;5;241m=\u001b[39m h5f\u001b[38;5;241m.\u001b[39mopen(name, h5f\u001b[38;5;241m.\u001b[39mACC_RDWR, fapl\u001b[38;5;241m=\u001b[39mfapl)\n",
      "File \u001b[0;32mh5py/_objects.pyx:54\u001b[0m, in \u001b[0;36mh5py._objects.with_phil.wrapper\u001b[0;34m()\u001b[0m\n",
      "File \u001b[0;32mh5py/_objects.pyx:55\u001b[0m, in \u001b[0;36mh5py._objects.with_phil.wrapper\u001b[0;34m()\u001b[0m\n",
      "File \u001b[0;32mh5py/h5f.pyx:106\u001b[0m, in \u001b[0;36mh5py.h5f.open\u001b[0;34m()\u001b[0m\n",
      "\u001b[0;31mOSError\u001b[0m: Unable to open file (file signature not found)"
     ]
    }
   ],
   "source": [
    "sum = 0\n",
    "error_fns = list()\n",
    "for tracks_fn in tqdm(h5_fns):\n",
    "    with btrack.io.HDF5FileHandler(tracks_fn, 'r') as hdf:\n",
    "        try:\n",
    "            tracks = [t for t in hdf.tracks if len(t) > 3]\n",
    "        except:\n",
    "            error_fns.append(tracks_fn)\n",
    "    # now plot into dataframe \n",
    "    df = pd.DataFrame([(track.ID, \n",
    "                        np.nanmax(track['mean_intensity'][:,0]),\n",
    "                        np.nanmax(track['mean_intensity'][:,1]),\n",
    "                        np.nanmax(track['mean_intensity'][:,2]),\n",
    "                        np.nanmax(track['mean_intensity'][:,3]), \n",
    "                        # True if np.nansum(track.properties['mtb_status']) > 0 else False, \n",
    "                        # np.nansum(track.properties['mtb_status']), \n",
    "                        # np.nanmax(track.properties['mtb_area']), \n",
    "                        np.mean(track.x), \n",
    "                        np.mean(track.y)) \n",
    "                       for track in tracks], \n",
    "                      columns=cols)\n",
    "    # create fn\n",
    "    output_fn = tracks_fn.replace('.h5', 'sc_data_subset.csv')\n",
    "    if output_fn == tracks_fn:\n",
    "        warnings.warn(\"Warning: The output file name is the same as the tracks file name. This will result in overwriting the tracks file.\")\n",
    "    # save out\n",
    "    df.to_csv(output_fn)\n",
    "    # check on the fly \n",
    "    print(tracks_fn, '\\n', df.head())\n",
    "    # how many sc measreuments \n",
    "    sum += len(df)"
   ]
  },
  {
   "cell_type": "code",
   "execution_count": 30,
   "id": "c17d6ff5-e4f5-4f67-be40-bb7695c88b1f",
   "metadata": {},
   "outputs": [
    {
     "data": {
      "text/plain": [
       "'/mnt/DATA/homuncu_loc/run0/DAPI-SPC-PDPN-ZO1/Day7_breath/20x_21-12-029A_A3456_Multichannel Z-Stack_20220818_194_z_tracks_masks.h5'"
      ]
     },
     "execution_count": 30,
     "metadata": {},
     "output_type": "execute_result"
    }
   ],
   "source": [
    "tracks_fn"
   ]
  },
  {
   "cell_type": "code",
   "execution_count": 31,
   "id": "19eaf528-b196-42a5-8509-0e168265f96a",
   "metadata": {},
   "outputs": [
    {
     "data": {
      "text/plain": [
       "'/mnt/DATA/homuncu_loc/run0/DAPI-SPC-PDPN-ZO1/Day7_breath/20x_21-12-029A_A3456_Multichannel Z-Stack_20220818_194_z_tracks_masks.h5'"
      ]
     },
     "execution_count": 31,
     "metadata": {},
     "output_type": "execute_result"
    }
   ],
   "source": [
    "output_fn"
   ]
  },
  {
   "cell_type": "code",
   "execution_count": 21,
   "id": "a4c65ba7-a7e0-4572-ba14-616d85732b6d",
   "metadata": {},
   "outputs": [
    {
     "data": {
      "text/plain": [
       "[]"
      ]
     },
     "execution_count": 21,
     "metadata": {},
     "output_type": "execute_result"
    }
   ],
   "source": [
    "error_fns"
   ]
  },
  {
   "cell_type": "code",
   "execution_count": 37,
   "id": "5b27d600-4b3d-40e3-b39a-257a1ce5fa18",
   "metadata": {},
   "outputs": [
    {
     "data": {
      "text/html": [
       "<div>\n",
       "<style scoped>\n",
       "    .dataframe tbody tr th:only-of-type {\n",
       "        vertical-align: middle;\n",
       "    }\n",
       "\n",
       "    .dataframe tbody tr th {\n",
       "        vertical-align: top;\n",
       "    }\n",
       "\n",
       "    .dataframe thead th {\n",
       "        text-align: right;\n",
       "    }\n",
       "</style>\n",
       "<table border=\"1\" class=\"dataframe\">\n",
       "  <thead>\n",
       "    <tr style=\"text-align: right;\">\n",
       "      <th></th>\n",
       "      <th>Cell ID</th>\n",
       "      <th>Max. int. ch0</th>\n",
       "      <th>Max. int. ch1</th>\n",
       "      <th>Max. int. ch2</th>\n",
       "      <th>Max. int. ch3</th>\n",
       "      <th>Mtb+</th>\n",
       "      <th>N_frames Mtb+</th>\n",
       "      <th>Max Mtb area</th>\n",
       "      <th>Average X</th>\n",
       "      <th>Average Y</th>\n",
       "    </tr>\n",
       "  </thead>\n",
       "  <tbody>\n",
       "    <tr>\n",
       "      <th>0</th>\n",
       "      <td>57</td>\n",
       "      <td>727.278381</td>\n",
       "      <td>203.123306</td>\n",
       "      <td>291.497131</td>\n",
       "      <td>115.380356</td>\n",
       "      <td>False</td>\n",
       "      <td>0.0</td>\n",
       "      <td>0.0</td>\n",
       "      <td>785.089651</td>\n",
       "      <td>1235.473489</td>\n",
       "    </tr>\n",
       "    <tr>\n",
       "      <th>1</th>\n",
       "      <td>64</td>\n",
       "      <td>288.051758</td>\n",
       "      <td>121.796593</td>\n",
       "      <td>156.532761</td>\n",
       "      <td>113.914146</td>\n",
       "      <td>False</td>\n",
       "      <td>0.0</td>\n",
       "      <td>0.0</td>\n",
       "      <td>1252.164185</td>\n",
       "      <td>1325.526123</td>\n",
       "    </tr>\n",
       "    <tr>\n",
       "      <th>2</th>\n",
       "      <td>63</td>\n",
       "      <td>982.594971</td>\n",
       "      <td>178.015472</td>\n",
       "      <td>351.196564</td>\n",
       "      <td>117.629204</td>\n",
       "      <td>False</td>\n",
       "      <td>0.0</td>\n",
       "      <td>0.0</td>\n",
       "      <td>620.731316</td>\n",
       "      <td>1356.047065</td>\n",
       "    </tr>\n",
       "    <tr>\n",
       "      <th>3</th>\n",
       "      <td>60</td>\n",
       "      <td>1510.125366</td>\n",
       "      <td>222.231125</td>\n",
       "      <td>521.146973</td>\n",
       "      <td>129.199387</td>\n",
       "      <td>False</td>\n",
       "      <td>0.0</td>\n",
       "      <td>0.0</td>\n",
       "      <td>978.838440</td>\n",
       "      <td>1247.325787</td>\n",
       "    </tr>\n",
       "    <tr>\n",
       "      <th>4</th>\n",
       "      <td>58</td>\n",
       "      <td>211.873657</td>\n",
       "      <td>118.079422</td>\n",
       "      <td>155.936829</td>\n",
       "      <td>110.143578</td>\n",
       "      <td>False</td>\n",
       "      <td>0.0</td>\n",
       "      <td>0.0</td>\n",
       "      <td>773.873390</td>\n",
       "      <td>1225.832886</td>\n",
       "    </tr>\n",
       "  </tbody>\n",
       "</table>\n",
       "</div>"
      ],
      "text/plain": [
       "   Cell ID  Max. int. ch0  Max. int. ch1  Max. int. ch2  Max. int. ch3   Mtb+  \\\n",
       "0       57     727.278381     203.123306     291.497131     115.380356  False   \n",
       "1       64     288.051758     121.796593     156.532761     113.914146  False   \n",
       "2       63     982.594971     178.015472     351.196564     117.629204  False   \n",
       "3       60    1510.125366     222.231125     521.146973     129.199387  False   \n",
       "4       58     211.873657     118.079422     155.936829     110.143578  False   \n",
       "\n",
       "   N_frames Mtb+  Max Mtb area    Average X    Average Y  \n",
       "0            0.0           0.0   785.089651  1235.473489  \n",
       "1            0.0           0.0  1252.164185  1325.526123  \n",
       "2            0.0           0.0   620.731316  1356.047065  \n",
       "3            0.0           0.0   978.838440  1247.325787  \n",
       "4            0.0           0.0   773.873390  1225.832886  "
      ]
     },
     "execution_count": 37,
     "metadata": {},
     "output_type": "execute_result"
    }
   ],
   "source": [
    "df.head()"
   ]
  },
  {
   "cell_type": "code",
   "execution_count": 40,
   "id": "2ddf78eb-f59a-4550-920a-34d182a619f9",
   "metadata": {},
   "outputs": [
    {
     "data": {
      "text/html": [
       "<div>\n",
       "<style scoped>\n",
       "    .dataframe tbody tr th:only-of-type {\n",
       "        vertical-align: middle;\n",
       "    }\n",
       "\n",
       "    .dataframe tbody tr th {\n",
       "        vertical-align: top;\n",
       "    }\n",
       "\n",
       "    .dataframe thead th {\n",
       "        text-align: right;\n",
       "    }\n",
       "</style>\n",
       "<table border=\"1\" class=\"dataframe\">\n",
       "  <thead>\n",
       "    <tr style=\"text-align: right;\">\n",
       "      <th></th>\n",
       "      <th>Cell ID</th>\n",
       "      <th>Max. int. ch0</th>\n",
       "      <th>Max. int. ch1</th>\n",
       "      <th>Max. int. ch2</th>\n",
       "      <th>Max. int. ch3</th>\n",
       "      <th>Mtb+</th>\n",
       "      <th>N_frames Mtb+</th>\n",
       "      <th>Max Mtb area</th>\n",
       "      <th>Average X</th>\n",
       "      <th>Average Y</th>\n",
       "    </tr>\n",
       "  </thead>\n",
       "  <tbody>\n",
       "    <tr>\n",
       "      <th>0</th>\n",
       "      <td>57</td>\n",
       "      <td>727.278381</td>\n",
       "      <td>203.123306</td>\n",
       "      <td>291.497131</td>\n",
       "      <td>115.380356</td>\n",
       "      <td>False</td>\n",
       "      <td>0.0</td>\n",
       "      <td>0.0</td>\n",
       "      <td>785.089651</td>\n",
       "      <td>1235.473489</td>\n",
       "    </tr>\n",
       "    <tr>\n",
       "      <th>1</th>\n",
       "      <td>64</td>\n",
       "      <td>288.051758</td>\n",
       "      <td>121.796593</td>\n",
       "      <td>156.532761</td>\n",
       "      <td>113.914146</td>\n",
       "      <td>False</td>\n",
       "      <td>0.0</td>\n",
       "      <td>0.0</td>\n",
       "      <td>1252.164185</td>\n",
       "      <td>1325.526123</td>\n",
       "    </tr>\n",
       "    <tr>\n",
       "      <th>2</th>\n",
       "      <td>63</td>\n",
       "      <td>982.594971</td>\n",
       "      <td>178.015472</td>\n",
       "      <td>351.196564</td>\n",
       "      <td>117.629204</td>\n",
       "      <td>False</td>\n",
       "      <td>0.0</td>\n",
       "      <td>0.0</td>\n",
       "      <td>620.731316</td>\n",
       "      <td>1356.047065</td>\n",
       "    </tr>\n",
       "    <tr>\n",
       "      <th>3</th>\n",
       "      <td>60</td>\n",
       "      <td>1510.125366</td>\n",
       "      <td>222.231125</td>\n",
       "      <td>521.146973</td>\n",
       "      <td>129.199387</td>\n",
       "      <td>False</td>\n",
       "      <td>0.0</td>\n",
       "      <td>0.0</td>\n",
       "      <td>978.838440</td>\n",
       "      <td>1247.325787</td>\n",
       "    </tr>\n",
       "    <tr>\n",
       "      <th>4</th>\n",
       "      <td>58</td>\n",
       "      <td>211.873657</td>\n",
       "      <td>118.079422</td>\n",
       "      <td>155.936829</td>\n",
       "      <td>110.143578</td>\n",
       "      <td>False</td>\n",
       "      <td>0.0</td>\n",
       "      <td>0.0</td>\n",
       "      <td>773.873390</td>\n",
       "      <td>1225.832886</td>\n",
       "    </tr>\n",
       "    <tr>\n",
       "      <th>...</th>\n",
       "      <td>...</td>\n",
       "      <td>...</td>\n",
       "      <td>...</td>\n",
       "      <td>...</td>\n",
       "      <td>...</td>\n",
       "      <td>...</td>\n",
       "      <td>...</td>\n",
       "      <td>...</td>\n",
       "      <td>...</td>\n",
       "      <td>...</td>\n",
       "    </tr>\n",
       "    <tr>\n",
       "      <th>893</th>\n",
       "      <td>2763</td>\n",
       "      <td>534.337769</td>\n",
       "      <td>159.370544</td>\n",
       "      <td>253.306107</td>\n",
       "      <td>113.354431</td>\n",
       "      <td>False</td>\n",
       "      <td>0.0</td>\n",
       "      <td>0.0</td>\n",
       "      <td>717.612048</td>\n",
       "      <td>1429.155811</td>\n",
       "    </tr>\n",
       "    <tr>\n",
       "      <th>894</th>\n",
       "      <td>2761</td>\n",
       "      <td>529.067627</td>\n",
       "      <td>200.244675</td>\n",
       "      <td>253.753616</td>\n",
       "      <td>117.835777</td>\n",
       "      <td>False</td>\n",
       "      <td>0.0</td>\n",
       "      <td>0.0</td>\n",
       "      <td>1128.260376</td>\n",
       "      <td>1456.089502</td>\n",
       "    </tr>\n",
       "    <tr>\n",
       "      <th>895</th>\n",
       "      <td>2796</td>\n",
       "      <td>500.577271</td>\n",
       "      <td>139.696594</td>\n",
       "      <td>196.759094</td>\n",
       "      <td>111.697731</td>\n",
       "      <td>False</td>\n",
       "      <td>0.0</td>\n",
       "      <td>0.0</td>\n",
       "      <td>861.499182</td>\n",
       "      <td>1542.807776</td>\n",
       "    </tr>\n",
       "    <tr>\n",
       "      <th>896</th>\n",
       "      <td>2797</td>\n",
       "      <td>461.022430</td>\n",
       "      <td>199.231262</td>\n",
       "      <td>445.917786</td>\n",
       "      <td>110.722771</td>\n",
       "      <td>False</td>\n",
       "      <td>0.0</td>\n",
       "      <td>0.0</td>\n",
       "      <td>2094.540632</td>\n",
       "      <td>1916.780622</td>\n",
       "    </tr>\n",
       "    <tr>\n",
       "      <th>897</th>\n",
       "      <td>2803</td>\n",
       "      <td>304.975708</td>\n",
       "      <td>155.796265</td>\n",
       "      <td>170.768219</td>\n",
       "      <td>113.226166</td>\n",
       "      <td>False</td>\n",
       "      <td>0.0</td>\n",
       "      <td>0.0</td>\n",
       "      <td>933.837362</td>\n",
       "      <td>1581.701884</td>\n",
       "    </tr>\n",
       "  </tbody>\n",
       "</table>\n",
       "<p>898 rows × 10 columns</p>\n",
       "</div>"
      ],
      "text/plain": [
       "     Cell ID  Max. int. ch0  Max. int. ch1  Max. int. ch2  Max. int. ch3  \\\n",
       "0         57     727.278381     203.123306     291.497131     115.380356   \n",
       "1         64     288.051758     121.796593     156.532761     113.914146   \n",
       "2         63     982.594971     178.015472     351.196564     117.629204   \n",
       "3         60    1510.125366     222.231125     521.146973     129.199387   \n",
       "4         58     211.873657     118.079422     155.936829     110.143578   \n",
       "..       ...            ...            ...            ...            ...   \n",
       "893     2763     534.337769     159.370544     253.306107     113.354431   \n",
       "894     2761     529.067627     200.244675     253.753616     117.835777   \n",
       "895     2796     500.577271     139.696594     196.759094     111.697731   \n",
       "896     2797     461.022430     199.231262     445.917786     110.722771   \n",
       "897     2803     304.975708     155.796265     170.768219     113.226166   \n",
       "\n",
       "      Mtb+  N_frames Mtb+  Max Mtb area    Average X    Average Y  \n",
       "0    False            0.0           0.0   785.089651  1235.473489  \n",
       "1    False            0.0           0.0  1252.164185  1325.526123  \n",
       "2    False            0.0           0.0   620.731316  1356.047065  \n",
       "3    False            0.0           0.0   978.838440  1247.325787  \n",
       "4    False            0.0           0.0   773.873390  1225.832886  \n",
       "..     ...            ...           ...          ...          ...  \n",
       "893  False            0.0           0.0   717.612048  1429.155811  \n",
       "894  False            0.0           0.0  1128.260376  1456.089502  \n",
       "895  False            0.0           0.0   861.499182  1542.807776  \n",
       "896  False            0.0           0.0  2094.540632  1916.780622  \n",
       "897  False            0.0           0.0   933.837362  1581.701884  \n",
       "\n",
       "[898 rows x 10 columns]"
      ]
     },
     "execution_count": 40,
     "metadata": {},
     "output_type": "execute_result"
    }
   ],
   "source": [
    "df\n"
   ]
  }
 ],
 "metadata": {
  "kernelspec": {
   "display_name": "brassica",
   "language": "python",
   "name": "brassica"
  },
  "language_info": {
   "codemirror_mode": {
    "name": "ipython",
    "version": 3
   },
   "file_extension": ".py",
   "mimetype": "text/x-python",
   "name": "python",
   "nbconvert_exporter": "python",
   "pygments_lexer": "ipython3",
   "version": "3.9.17"
  }
 },
 "nbformat": 4,
 "nbformat_minor": 5
}
