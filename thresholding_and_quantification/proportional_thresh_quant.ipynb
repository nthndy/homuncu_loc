{
 "cells": [
  {
   "cell_type": "markdown",
   "id": "6f1693a2",
   "metadata": {},
   "source": [
    "# LoC proportional thresholding and quantification notebook\n",
    "\n",
    "This notebook loads a set of Z-tracks taken across an image volume from the lung-on-a-chip project and thresholds positive/negative expression of set markers based on a manual and unbiased assessment of the underlying images:"
   ]
  },
  {
   "cell_type": "code",
   "execution_count": 16,
   "id": "b0c236a0",
   "metadata": {},
   "outputs": [],
   "source": [
    "import btrack # import tracking software\n",
    "import napari # image viewer\n",
    "from skimage import io # image loader and viewer\n",
    "import os # for filename manipulations\n",
    "import glob # for more fn operations \n",
    "import pandas as pd # module for data org \n",
    "import matplotlib.pyplot as plt # module for plotting\n",
    "import seaborn as sns # module for plotting\n",
    "import numpy as np # for math operations\n",
    "import re\n",
    "from tqdm.auto import tqdm\n",
    "from homuncu_loc import dataio\n",
    "sns.set( style = 'white') # my favourite formatting :)\n",
    "sns.set_palette('PiYG') # my favourite colours :D "
   ]
  },
  {
   "cell_type": "markdown",
   "id": "7f6a303e",
   "metadata": {},
   "source": [
    "## 1. Load images and labels"
   ]
  },
  {
   "cell_type": "code",
   "execution_count": 7,
   "id": "8538dd7d-3fbd-44eb-be91-530ec792f849",
   "metadata": {},
   "outputs": [],
   "source": [
    "pct_threshold = 0.3"
   ]
  },
  {
   "cell_type": "code",
   "execution_count": null,
   "id": "877a4475-99f3-407a-9c84-a1d93c2bb8be",
   "metadata": {
    "scrolled": true
   },
   "outputs": [
    {
     "data": {
      "application/vnd.jupyter.widget-view+json": {
       "model_id": "7b223a66fbae4ff8afa132c535a6aaf1",
       "version_major": 2,
       "version_minor": 0
      },
      "text/plain": [
       "  0%|          | 0/22 [00:00<?, ?it/s]"
      ]
     },
     "metadata": {},
     "output_type": "display_data"
    },
    {
     "name": "stderr",
     "output_type": "stream",
     "text": [
      "[INFO][2024/04/29 03:30:06 PM] Opening HDF file: /Volumes/lab-gutierrezm/home/shared/Lung on Chip/homuncu_loc_image_analysis/iAT1_iAT2_experiments/DAPI_SPC_PDPN_ZO1/sc_analyses/20230801_20X_23-03-011B6_DAPI_SP-C_PDPN_ZO-1_Multichannel Z-Stack_20230801_1440_iat2.h5...\n",
      "[INFO][2024/04/29 03:30:06 PM] Loading tracks/obj_type_2\n",
      "[INFO][2024/04/29 03:30:06 PM] Loading LBEP/obj_type_2\n",
      "[INFO][2024/04/29 03:30:08 PM] Loading objects/obj_type_2 (37477, 5) (37477 filtered: None)\n",
      "[INFO][2024/04/29 03:30:14 PM] Loading segmentation (51, 2304, 2304)\n",
      "[INFO][2024/04/29 03:30:14 PM] Closing HDF file: /Volumes/lab-gutierrezm/home/shared/Lung on Chip/homuncu_loc_image_analysis/iAT1_iAT2_experiments/DAPI_SPC_PDPN_ZO1/sc_analyses/20230801_20X_23-03-011B6_DAPI_SP-C_PDPN_ZO-1_Multichannel Z-Stack_20230801_1440_iat2.h5\n"
     ]
    },
    {
     "name": "stdout",
     "output_type": "stream",
     "text": [
      "\n",
      " 20230801_20X_23-03-011B6_DAPI_SP-C_PDPN_ZO-1_Multichannel Z-Stack_20230801_1440_iat2.h5\n",
      "Number of channel 1 positive cells: 2532\n",
      "Number of channel 1 negative cells: 719\n",
      "Percentage of positive cells: 77.88%\n"
     ]
    },
    {
     "name": "stderr",
     "output_type": "stream",
     "text": [
      "/Users/dayn/miniforge3/envs/loc/lib/python3.12/site-packages/seaborn/_oldcore.py:1119: FutureWarning: use_inf_as_na option is deprecated and will be removed in a future version. Convert inf values to NaN before operating instead.\n",
      "  with pd.option_context('mode.use_inf_as_na', True):\n"
     ]
    },
    {
     "name": "stdout",
     "output_type": "stream",
     "text": [
      "\n",
      " 20230801_20X_23-03-011B6_DAPI_SP-C_PDPN_ZO-1_Multichannel Z-Stack_20230801_1440_iat2.h5\n",
      "Number of channel 2 positive cells: 3110\n",
      "Number of channel 2 negative cells: 141\n",
      "Percentage of positive cells: 95.66%\n"
     ]
    },
    {
     "name": "stderr",
     "output_type": "stream",
     "text": [
      "/Users/dayn/miniforge3/envs/loc/lib/python3.12/site-packages/seaborn/_oldcore.py:1119: FutureWarning: use_inf_as_na option is deprecated and will be removed in a future version. Convert inf values to NaN before operating instead.\n",
      "  with pd.option_context('mode.use_inf_as_na', True):\n",
      "[INFO][2024/04/29 03:30:21 PM] Opening HDF file: /Volumes/lab-gutierrezm/home/shared/Lung on Chip/homuncu_loc_image_analysis/iAT1_iAT2_experiments/DAPI_SPC_PDPN_ZO1/sc_analyses/20230801_20X_23-03-011B6_DAPI_SP-C_PDPN_ZO-1_Multichannel Z-Stack_20230801_1439_iat2.h5...\n",
      "[INFO][2024/04/29 03:30:21 PM] Loading tracks/obj_type_2\n",
      "[INFO][2024/04/29 03:30:22 PM] Loading LBEP/obj_type_2\n",
      "[INFO][2024/04/29 03:30:24 PM] Loading objects/obj_type_2 (45921, 5) (45921 filtered: None)\n",
      "[INFO][2024/04/29 03:30:31 PM] Loading segmentation (51, 2304, 2304)\n",
      "[INFO][2024/04/29 03:30:31 PM] Closing HDF file: /Volumes/lab-gutierrezm/home/shared/Lung on Chip/homuncu_loc_image_analysis/iAT1_iAT2_experiments/DAPI_SPC_PDPN_ZO1/sc_analyses/20230801_20X_23-03-011B6_DAPI_SP-C_PDPN_ZO-1_Multichannel Z-Stack_20230801_1439_iat2.h5\n"
     ]
    },
    {
     "name": "stdout",
     "output_type": "stream",
     "text": [
      "\n",
      " 20230801_20X_23-03-011B6_DAPI_SP-C_PDPN_ZO-1_Multichannel Z-Stack_20230801_1439_iat2.h5\n",
      "Number of channel 1 positive cells: 2820\n",
      "Number of channel 1 negative cells: 839\n",
      "Percentage of positive cells: 77.07%\n"
     ]
    },
    {
     "name": "stderr",
     "output_type": "stream",
     "text": [
      "/Users/dayn/miniforge3/envs/loc/lib/python3.12/site-packages/seaborn/_oldcore.py:1119: FutureWarning: use_inf_as_na option is deprecated and will be removed in a future version. Convert inf values to NaN before operating instead.\n",
      "  with pd.option_context('mode.use_inf_as_na', True):\n"
     ]
    },
    {
     "name": "stdout",
     "output_type": "stream",
     "text": [
      "\n",
      " 20230801_20X_23-03-011B6_DAPI_SP-C_PDPN_ZO-1_Multichannel Z-Stack_20230801_1439_iat2.h5\n",
      "Number of channel 2 positive cells: 3589\n",
      "Number of channel 2 negative cells: 70\n",
      "Percentage of positive cells: 98.09%\n"
     ]
    },
    {
     "name": "stderr",
     "output_type": "stream",
     "text": [
      "/Users/dayn/miniforge3/envs/loc/lib/python3.12/site-packages/seaborn/_oldcore.py:1119: FutureWarning: use_inf_as_na option is deprecated and will be removed in a future version. Convert inf values to NaN before operating instead.\n",
      "  with pd.option_context('mode.use_inf_as_na', True):\n",
      "[INFO][2024/04/29 03:30:37 PM] Opening HDF file: /Volumes/lab-gutierrezm/home/shared/Lung on Chip/homuncu_loc_image_analysis/iAT1_iAT2_experiments/DAPI_SPC_PDPN_ZO1/sc_analyses/20230801_20X_23-03-002A6_DAPI_SP-C_PDPN_ZO-1_Multichannel Z-Stack_20230801_1445_iat2.h5...\n",
      "[INFO][2024/04/29 03:30:37 PM] Loading tracks/obj_type_2\n",
      "[INFO][2024/04/29 03:30:38 PM] Loading LBEP/obj_type_2\n",
      "[INFO][2024/04/29 03:30:39 PM] Loading objects/obj_type_2 (23179, 5) (23179 filtered: None)\n",
      "[INFO][2024/04/29 03:30:44 PM] Loading segmentation (51, 2304, 2304)\n",
      "[INFO][2024/04/29 03:30:44 PM] Closing HDF file: /Volumes/lab-gutierrezm/home/shared/Lung on Chip/homuncu_loc_image_analysis/iAT1_iAT2_experiments/DAPI_SPC_PDPN_ZO1/sc_analyses/20230801_20X_23-03-002A6_DAPI_SP-C_PDPN_ZO-1_Multichannel Z-Stack_20230801_1445_iat2.h5\n"
     ]
    },
    {
     "name": "stdout",
     "output_type": "stream",
     "text": [
      "\n",
      " 20230801_20X_23-03-002A6_DAPI_SP-C_PDPN_ZO-1_Multichannel Z-Stack_20230801_1445_iat2.h5\n",
      "Number of channel 1 positive cells: 264\n",
      "Number of channel 1 negative cells: 1734\n",
      "Percentage of positive cells: 13.21%\n"
     ]
    },
    {
     "name": "stderr",
     "output_type": "stream",
     "text": [
      "/Users/dayn/miniforge3/envs/loc/lib/python3.12/site-packages/seaborn/_oldcore.py:1119: FutureWarning: use_inf_as_na option is deprecated and will be removed in a future version. Convert inf values to NaN before operating instead.\n",
      "  with pd.option_context('mode.use_inf_as_na', True):\n"
     ]
    },
    {
     "name": "stdout",
     "output_type": "stream",
     "text": [
      "\n",
      " 20230801_20X_23-03-002A6_DAPI_SP-C_PDPN_ZO-1_Multichannel Z-Stack_20230801_1445_iat2.h5\n",
      "Number of channel 2 positive cells: 1463\n",
      "Number of channel 2 negative cells: 535\n",
      "Percentage of positive cells: 73.22%\n"
     ]
    },
    {
     "name": "stderr",
     "output_type": "stream",
     "text": [
      "/Users/dayn/miniforge3/envs/loc/lib/python3.12/site-packages/seaborn/_oldcore.py:1119: FutureWarning: use_inf_as_na option is deprecated and will be removed in a future version. Convert inf values to NaN before operating instead.\n",
      "  with pd.option_context('mode.use_inf_as_na', True):\n",
      "[INFO][2024/04/29 03:30:49 PM] Opening HDF file: /Volumes/lab-gutierrezm/home/shared/Lung on Chip/homuncu_loc_image_analysis/iAT1_iAT2_experiments/DAPI_SPC_PDPN_ZO1/sc_analyses/20x_21-12-029B_A12346_Multichannel Z-Stack_20220819_295_iat2.h5...\n",
      "[INFO][2024/04/29 03:30:50 PM] Loading tracks/obj_type_2\n",
      "[INFO][2024/04/29 03:30:50 PM] Loading LBEP/obj_type_2\n",
      "[INFO][2024/04/29 03:30:50 PM] Loading objects/obj_type_2 (1166, 5) (1166 filtered: None)\n",
      "[INFO][2024/04/29 03:30:57 PM] Loading segmentation (81, 2304, 2304)\n",
      "[INFO][2024/04/29 03:30:57 PM] Closing HDF file: /Volumes/lab-gutierrezm/home/shared/Lung on Chip/homuncu_loc_image_analysis/iAT1_iAT2_experiments/DAPI_SPC_PDPN_ZO1/sc_analyses/20x_21-12-029B_A12346_Multichannel Z-Stack_20220819_295_iat2.h5\n"
     ]
    },
    {
     "name": "stdout",
     "output_type": "stream",
     "text": [
      "\n",
      " 20x_21-12-029B_A12346_Multichannel Z-Stack_20220819_295_iat2.h5\n",
      "Number of channel 1 positive cells: 15\n",
      "Number of channel 1 negative cells: 38\n",
      "Percentage of positive cells: 28.30%\n"
     ]
    },
    {
     "name": "stderr",
     "output_type": "stream",
     "text": [
      "/Users/dayn/miniforge3/envs/loc/lib/python3.12/site-packages/seaborn/_oldcore.py:1119: FutureWarning: use_inf_as_na option is deprecated and will be removed in a future version. Convert inf values to NaN before operating instead.\n",
      "  with pd.option_context('mode.use_inf_as_na', True):\n"
     ]
    },
    {
     "name": "stdout",
     "output_type": "stream",
     "text": [
      "\n",
      " 20x_21-12-029B_A12346_Multichannel Z-Stack_20220819_295_iat2.h5\n",
      "Number of channel 2 positive cells: 1\n",
      "Number of channel 2 negative cells: 52\n",
      "Percentage of positive cells: 1.89%\n"
     ]
    },
    {
     "name": "stderr",
     "output_type": "stream",
     "text": [
      "/Users/dayn/miniforge3/envs/loc/lib/python3.12/site-packages/seaborn/_oldcore.py:1119: FutureWarning: use_inf_as_na option is deprecated and will be removed in a future version. Convert inf values to NaN before operating instead.\n",
      "  with pd.option_context('mode.use_inf_as_na', True):\n",
      "[INFO][2024/04/29 03:31:01 PM] Opening HDF file: /Volumes/lab-gutierrezm/home/shared/Lung on Chip/homuncu_loc_image_analysis/iAT1_iAT2_experiments/DAPI_SPC_PDPN_ZO1/sc_analyses/20230801_20X_23-03-011B6_DAPI_SP-C_PDPN_ZO-1_Multichannel Z-Stack_20230801_1438_iat2.h5...\n",
      "[INFO][2024/04/29 03:31:01 PM] Loading tracks/obj_type_2\n",
      "[INFO][2024/04/29 03:31:02 PM] Loading LBEP/obj_type_2\n",
      "[INFO][2024/04/29 03:31:03 PM] Loading objects/obj_type_2 (51277, 5) (51277 filtered: None)\n",
      "[INFO][2024/04/29 03:31:09 PM] Loading segmentation (51, 2304, 2304)\n",
      "[INFO][2024/04/29 03:31:09 PM] Closing HDF file: /Volumes/lab-gutierrezm/home/shared/Lung on Chip/homuncu_loc_image_analysis/iAT1_iAT2_experiments/DAPI_SPC_PDPN_ZO1/sc_analyses/20230801_20X_23-03-011B6_DAPI_SP-C_PDPN_ZO-1_Multichannel Z-Stack_20230801_1438_iat2.h5\n"
     ]
    },
    {
     "name": "stdout",
     "output_type": "stream",
     "text": [
      "\n",
      " 20230801_20X_23-03-011B6_DAPI_SP-C_PDPN_ZO-1_Multichannel Z-Stack_20230801_1438_iat2.h5\n",
      "Number of channel 1 positive cells: 420\n",
      "Number of channel 1 negative cells: 3672\n",
      "Percentage of positive cells: 10.26%\n"
     ]
    },
    {
     "name": "stderr",
     "output_type": "stream",
     "text": [
      "/Users/dayn/miniforge3/envs/loc/lib/python3.12/site-packages/seaborn/_oldcore.py:1119: FutureWarning: use_inf_as_na option is deprecated and will be removed in a future version. Convert inf values to NaN before operating instead.\n",
      "  with pd.option_context('mode.use_inf_as_na', True):\n"
     ]
    },
    {
     "name": "stdout",
     "output_type": "stream",
     "text": [
      "\n",
      " 20230801_20X_23-03-011B6_DAPI_SP-C_PDPN_ZO-1_Multichannel Z-Stack_20230801_1438_iat2.h5\n",
      "Number of channel 2 positive cells: 3978\n",
      "Number of channel 2 negative cells: 114\n",
      "Percentage of positive cells: 97.21%\n"
     ]
    },
    {
     "name": "stderr",
     "output_type": "stream",
     "text": [
      "/Users/dayn/miniforge3/envs/loc/lib/python3.12/site-packages/seaborn/_oldcore.py:1119: FutureWarning: use_inf_as_na option is deprecated and will be removed in a future version. Convert inf values to NaN before operating instead.\n",
      "  with pd.option_context('mode.use_inf_as_na', True):\n",
      "[INFO][2024/04/29 03:31:16 PM] Opening HDF file: /Volumes/lab-gutierrezm/home/shared/Lung on Chip/homuncu_loc_image_analysis/iAT1_iAT2_experiments/DAPI_SPC_PDPN_ZO1/sc_analyses/20230801_20X_23-03-002A6_DAPI_SP-C_PDPN_ZO-1_Multichannel Z-Stack_20230801_1444_iat2.h5...\n",
      "[INFO][2024/04/29 03:31:16 PM] Loading tracks/obj_type_2\n",
      "[INFO][2024/04/29 03:31:16 PM] Loading LBEP/obj_type_2\n",
      "[INFO][2024/04/29 03:31:18 PM] Loading objects/obj_type_2 (44625, 5) (44625 filtered: None)\n",
      "[INFO][2024/04/29 03:31:25 PM] Loading segmentation (51, 2304, 2304)\n",
      "[INFO][2024/04/29 03:31:25 PM] Closing HDF file: /Volumes/lab-gutierrezm/home/shared/Lung on Chip/homuncu_loc_image_analysis/iAT1_iAT2_experiments/DAPI_SPC_PDPN_ZO1/sc_analyses/20230801_20X_23-03-002A6_DAPI_SP-C_PDPN_ZO-1_Multichannel Z-Stack_20230801_1444_iat2.h5\n"
     ]
    },
    {
     "name": "stdout",
     "output_type": "stream",
     "text": [
      "\n",
      " 20230801_20X_23-03-002A6_DAPI_SP-C_PDPN_ZO-1_Multichannel Z-Stack_20230801_1444_iat2.h5\n",
      "Number of channel 1 positive cells: 1527\n",
      "Number of channel 1 negative cells: 302\n",
      "Percentage of positive cells: 83.49%\n"
     ]
    },
    {
     "name": "stderr",
     "output_type": "stream",
     "text": [
      "/Users/dayn/miniforge3/envs/loc/lib/python3.12/site-packages/seaborn/_oldcore.py:1119: FutureWarning: use_inf_as_na option is deprecated and will be removed in a future version. Convert inf values to NaN before operating instead.\n",
      "  with pd.option_context('mode.use_inf_as_na', True):\n"
     ]
    },
    {
     "name": "stdout",
     "output_type": "stream",
     "text": [
      "\n",
      " 20230801_20X_23-03-002A6_DAPI_SP-C_PDPN_ZO-1_Multichannel Z-Stack_20230801_1444_iat2.h5\n",
      "Number of channel 2 positive cells: 1688\n",
      "Number of channel 2 negative cells: 141\n",
      "Percentage of positive cells: 92.29%\n"
     ]
    },
    {
     "name": "stderr",
     "output_type": "stream",
     "text": [
      "/Users/dayn/miniforge3/envs/loc/lib/python3.12/site-packages/seaborn/_oldcore.py:1119: FutureWarning: use_inf_as_na option is deprecated and will be removed in a future version. Convert inf values to NaN before operating instead.\n",
      "  with pd.option_context('mode.use_inf_as_na', True):\n",
      "[INFO][2024/04/29 03:31:32 PM] Opening HDF file: /Volumes/lab-gutierrezm/home/shared/Lung on Chip/homuncu_loc_image_analysis/iAT1_iAT2_experiments/DAPI_SPC_PDPN_ZO1/sc_analyses/20230801_60X_23-03-002B6_DAPI_SP-C_PDPN_ZO-1_Multichannel Z-Stack_20230801_1452_iat2.h5...\n",
      "[INFO][2024/04/29 03:31:32 PM] Loading tracks/obj_type_2\n",
      "[INFO][2024/04/29 03:31:32 PM] Loading LBEP/obj_type_2\n",
      "[INFO][2024/04/29 03:31:32 PM] Loading objects/obj_type_2 (337, 5) (337 filtered: None)\n",
      "[INFO][2024/04/29 03:31:40 PM] Loading segmentation (90, 2304, 2304)\n",
      "[INFO][2024/04/29 03:31:40 PM] Closing HDF file: /Volumes/lab-gutierrezm/home/shared/Lung on Chip/homuncu_loc_image_analysis/iAT1_iAT2_experiments/DAPI_SPC_PDPN_ZO1/sc_analyses/20230801_60X_23-03-002B6_DAPI_SP-C_PDPN_ZO-1_Multichannel Z-Stack_20230801_1452_iat2.h5\n"
     ]
    },
    {
     "name": "stdout",
     "output_type": "stream",
     "text": [
      "\n",
      " 20230801_60X_23-03-002B6_DAPI_SP-C_PDPN_ZO-1_Multichannel Z-Stack_20230801_1452_iat2.h5\n",
      "Number of channel 1 positive cells: 20\n",
      "Number of channel 1 negative cells: 11\n",
      "Percentage of positive cells: 64.52%\n"
     ]
    },
    {
     "name": "stderr",
     "output_type": "stream",
     "text": [
      "/Users/dayn/miniforge3/envs/loc/lib/python3.12/site-packages/seaborn/_oldcore.py:1119: FutureWarning: use_inf_as_na option is deprecated and will be removed in a future version. Convert inf values to NaN before operating instead.\n",
      "  with pd.option_context('mode.use_inf_as_na', True):\n"
     ]
    },
    {
     "name": "stdout",
     "output_type": "stream",
     "text": [
      "\n",
      " 20230801_60X_23-03-002B6_DAPI_SP-C_PDPN_ZO-1_Multichannel Z-Stack_20230801_1452_iat2.h5\n",
      "Number of channel 2 positive cells: 1\n",
      "Number of channel 2 negative cells: 30\n",
      "Percentage of positive cells: 3.23%\n"
     ]
    },
    {
     "name": "stderr",
     "output_type": "stream",
     "text": [
      "/Users/dayn/miniforge3/envs/loc/lib/python3.12/site-packages/seaborn/_oldcore.py:1119: FutureWarning: use_inf_as_na option is deprecated and will be removed in a future version. Convert inf values to NaN before operating instead.\n",
      "  with pd.option_context('mode.use_inf_as_na', True):\n",
      "[INFO][2024/04/29 03:31:45 PM] Opening HDF file: /Volumes/lab-gutierrezm/home/shared/Lung on Chip/homuncu_loc_image_analysis/iAT1_iAT2_experiments/DAPI_SPC_PDPN_ZO1/sc_analyses/20230801_20X_23-03-002B6_DAPI_SP-C_PDPN_ZO-1_Multichannel Z-Stack_20230801_1450_iat2.h5...\n",
      "[INFO][2024/04/29 03:31:45 PM] Loading tracks/obj_type_2\n",
      "[INFO][2024/04/29 03:31:47 PM] Loading LBEP/obj_type_2\n",
      "[INFO][2024/04/29 03:31:52 PM] Loading objects/obj_type_2 (57328, 5) (57328 filtered: None)\n",
      "[INFO][2024/04/29 03:32:03 PM] Loading segmentation (61, 2304, 2304)\n",
      "[INFO][2024/04/29 03:32:03 PM] Closing HDF file: /Volumes/lab-gutierrezm/home/shared/Lung on Chip/homuncu_loc_image_analysis/iAT1_iAT2_experiments/DAPI_SPC_PDPN_ZO1/sc_analyses/20230801_20X_23-03-002B6_DAPI_SP-C_PDPN_ZO-1_Multichannel Z-Stack_20230801_1450_iat2.h5\n"
     ]
    },
    {
     "name": "stdout",
     "output_type": "stream",
     "text": [
      "\n",
      " 20230801_20X_23-03-002B6_DAPI_SP-C_PDPN_ZO-1_Multichannel Z-Stack_20230801_1450_iat2.h5\n",
      "Number of channel 1 positive cells: 1386\n",
      "Number of channel 1 negative cells: 3538\n",
      "Percentage of positive cells: 28.15%\n"
     ]
    },
    {
     "name": "stderr",
     "output_type": "stream",
     "text": [
      "/Users/dayn/miniforge3/envs/loc/lib/python3.12/site-packages/seaborn/_oldcore.py:1119: FutureWarning: use_inf_as_na option is deprecated and will be removed in a future version. Convert inf values to NaN before operating instead.\n",
      "  with pd.option_context('mode.use_inf_as_na', True):\n"
     ]
    },
    {
     "name": "stdout",
     "output_type": "stream",
     "text": [
      "\n",
      " 20230801_20X_23-03-002B6_DAPI_SP-C_PDPN_ZO-1_Multichannel Z-Stack_20230801_1450_iat2.h5\n",
      "Number of channel 2 positive cells: 2186\n",
      "Number of channel 2 negative cells: 2738\n",
      "Percentage of positive cells: 44.39%\n"
     ]
    },
    {
     "name": "stderr",
     "output_type": "stream",
     "text": [
      "/Users/dayn/miniforge3/envs/loc/lib/python3.12/site-packages/seaborn/_oldcore.py:1119: FutureWarning: use_inf_as_na option is deprecated and will be removed in a future version. Convert inf values to NaN before operating instead.\n",
      "  with pd.option_context('mode.use_inf_as_na', True):\n",
      "[INFO][2024/04/29 03:32:12 PM] Opening HDF file: /Volumes/lab-gutierrezm/home/shared/Lung on Chip/homuncu_loc_image_analysis/iAT1_iAT2_experiments/DAPI_SPC_PDPN_ZO1/sc_analyses/20230801_20X_23-03-002B6_DAPI_SP-C_PDPN_ZO-1_Multichannel Z-Stack_20230801_1451_iat2.h5...\n",
      "[INFO][2024/04/29 03:32:12 PM] Loading tracks/obj_type_2\n",
      "[INFO][2024/04/29 03:32:13 PM] Loading LBEP/obj_type_2\n",
      "[INFO][2024/04/29 03:32:16 PM] Loading objects/obj_type_2 (55719, 5) (55719 filtered: None)\n",
      "[INFO][2024/04/29 03:32:25 PM] Loading segmentation (61, 2304, 2304)\n",
      "[INFO][2024/04/29 03:32:26 PM] Closing HDF file: /Volumes/lab-gutierrezm/home/shared/Lung on Chip/homuncu_loc_image_analysis/iAT1_iAT2_experiments/DAPI_SPC_PDPN_ZO1/sc_analyses/20230801_20X_23-03-002B6_DAPI_SP-C_PDPN_ZO-1_Multichannel Z-Stack_20230801_1451_iat2.h5\n"
     ]
    },
    {
     "name": "stdout",
     "output_type": "stream",
     "text": [
      "\n",
      " 20230801_20X_23-03-002B6_DAPI_SP-C_PDPN_ZO-1_Multichannel Z-Stack_20230801_1451_iat2.h5\n",
      "Number of channel 1 positive cells: 1121\n",
      "Number of channel 1 negative cells: 3290\n",
      "Percentage of positive cells: 25.41%\n"
     ]
    },
    {
     "name": "stderr",
     "output_type": "stream",
     "text": [
      "/Users/dayn/miniforge3/envs/loc/lib/python3.12/site-packages/seaborn/_oldcore.py:1119: FutureWarning: use_inf_as_na option is deprecated and will be removed in a future version. Convert inf values to NaN before operating instead.\n",
      "  with pd.option_context('mode.use_inf_as_na', True):\n"
     ]
    },
    {
     "name": "stdout",
     "output_type": "stream",
     "text": [
      "\n",
      " 20230801_20X_23-03-002B6_DAPI_SP-C_PDPN_ZO-1_Multichannel Z-Stack_20230801_1451_iat2.h5\n",
      "Number of channel 2 positive cells: 3355\n",
      "Number of channel 2 negative cells: 1056\n",
      "Percentage of positive cells: 76.06%\n"
     ]
    },
    {
     "name": "stderr",
     "output_type": "stream",
     "text": [
      "/Users/dayn/miniforge3/envs/loc/lib/python3.12/site-packages/seaborn/_oldcore.py:1119: FutureWarning: use_inf_as_na option is deprecated and will be removed in a future version. Convert inf values to NaN before operating instead.\n",
      "  with pd.option_context('mode.use_inf_as_na', True):\n",
      "[INFO][2024/04/29 03:32:34 PM] Opening HDF file: /Volumes/lab-gutierrezm/home/shared/Lung on Chip/homuncu_loc_image_analysis/iAT1_iAT2_experiments/DAPI_SPC_PDPN_ZO1/sc_analyses/20230801_20X_23-03-002B6_DAPI_SP-C_PDPN_ZO-1_Multichannel Z-Stack_20230801_1449_iat2.h5...\n",
      "[INFO][2024/04/29 03:32:34 PM] Loading tracks/obj_type_2\n",
      "[INFO][2024/04/29 03:32:35 PM] Loading LBEP/obj_type_2\n",
      "[INFO][2024/04/29 03:32:38 PM] Loading objects/obj_type_2 (67157, 5) (67157 filtered: None)\n",
      "[INFO][2024/04/29 03:32:47 PM] Loading segmentation (61, 2304, 2304)\n",
      "[INFO][2024/04/29 03:32:47 PM] Closing HDF file: /Volumes/lab-gutierrezm/home/shared/Lung on Chip/homuncu_loc_image_analysis/iAT1_iAT2_experiments/DAPI_SPC_PDPN_ZO1/sc_analyses/20230801_20X_23-03-002B6_DAPI_SP-C_PDPN_ZO-1_Multichannel Z-Stack_20230801_1449_iat2.h5\n"
     ]
    },
    {
     "name": "stdout",
     "output_type": "stream",
     "text": [
      "\n",
      " 20230801_20X_23-03-002B6_DAPI_SP-C_PDPN_ZO-1_Multichannel Z-Stack_20230801_1449_iat2.h5\n",
      "Number of channel 1 positive cells: 1479\n",
      "Number of channel 1 negative cells: 3501\n",
      "Percentage of positive cells: 29.70%\n"
     ]
    },
    {
     "name": "stderr",
     "output_type": "stream",
     "text": [
      "/Users/dayn/miniforge3/envs/loc/lib/python3.12/site-packages/seaborn/_oldcore.py:1119: FutureWarning: use_inf_as_na option is deprecated and will be removed in a future version. Convert inf values to NaN before operating instead.\n",
      "  with pd.option_context('mode.use_inf_as_na', True):\n"
     ]
    },
    {
     "name": "stdout",
     "output_type": "stream",
     "text": [
      "\n",
      " 20230801_20X_23-03-002B6_DAPI_SP-C_PDPN_ZO-1_Multichannel Z-Stack_20230801_1449_iat2.h5\n",
      "Number of channel 2 positive cells: 3779\n",
      "Number of channel 2 negative cells: 1201\n",
      "Percentage of positive cells: 75.88%\n"
     ]
    },
    {
     "name": "stderr",
     "output_type": "stream",
     "text": [
      "/Users/dayn/miniforge3/envs/loc/lib/python3.12/site-packages/seaborn/_oldcore.py:1119: FutureWarning: use_inf_as_na option is deprecated and will be removed in a future version. Convert inf values to NaN before operating instead.\n",
      "  with pd.option_context('mode.use_inf_as_na', True):\n",
      "[INFO][2024/04/29 03:32:55 PM] Opening HDF file: /Volumes/lab-gutierrezm/home/shared/Lung on Chip/homuncu_loc_image_analysis/iAT1_iAT2_experiments/DAPI_NKX21_PDPN_ZO1/sc_analyses/20230801_20X_23-03-011B5_DAPI_NKX2-1_PDPN_ZO-1_Multichannel Z-Stack_20230801_1436_iat2.h5...\n",
      "[INFO][2024/04/29 03:32:55 PM] Loading tracks/obj_type_2\n",
      "[INFO][2024/04/29 03:32:56 PM] Loading LBEP/obj_type_2\n",
      "[INFO][2024/04/29 03:32:59 PM] Loading objects/obj_type_2 (55607, 5) (55607 filtered: None)\n",
      "[INFO][2024/04/29 03:33:08 PM] Loading segmentation (61, 2304, 2304)\n",
      "[INFO][2024/04/29 03:33:08 PM] Closing HDF file: /Volumes/lab-gutierrezm/home/shared/Lung on Chip/homuncu_loc_image_analysis/iAT1_iAT2_experiments/DAPI_NKX21_PDPN_ZO1/sc_analyses/20230801_20X_23-03-011B5_DAPI_NKX2-1_PDPN_ZO-1_Multichannel Z-Stack_20230801_1436_iat2.h5\n"
     ]
    },
    {
     "name": "stdout",
     "output_type": "stream",
     "text": [
      "\n",
      " 20230801_20X_23-03-011B5_DAPI_NKX2-1_PDPN_ZO-1_Multichannel Z-Stack_20230801_1436_iat2.h5\n",
      "Number of channel 1 positive cells: 801\n",
      "Number of channel 1 negative cells: 2336\n",
      "Percentage of positive cells: 25.53%\n"
     ]
    },
    {
     "name": "stderr",
     "output_type": "stream",
     "text": [
      "/Users/dayn/miniforge3/envs/loc/lib/python3.12/site-packages/seaborn/_oldcore.py:1119: FutureWarning: use_inf_as_na option is deprecated and will be removed in a future version. Convert inf values to NaN before operating instead.\n",
      "  with pd.option_context('mode.use_inf_as_na', True):\n"
     ]
    },
    {
     "name": "stdout",
     "output_type": "stream",
     "text": [
      "\n",
      " 20230801_20X_23-03-011B5_DAPI_NKX2-1_PDPN_ZO-1_Multichannel Z-Stack_20230801_1436_iat2.h5\n",
      "Number of channel 2 positive cells: 2860\n",
      "Number of channel 2 negative cells: 277\n",
      "Percentage of positive cells: 91.17%\n"
     ]
    },
    {
     "name": "stderr",
     "output_type": "stream",
     "text": [
      "/Users/dayn/miniforge3/envs/loc/lib/python3.12/site-packages/seaborn/_oldcore.py:1119: FutureWarning: use_inf_as_na option is deprecated and will be removed in a future version. Convert inf values to NaN before operating instead.\n",
      "  with pd.option_context('mode.use_inf_as_na', True):\n",
      "[INFO][2024/04/29 03:33:14 PM] Opening HDF file: /Volumes/lab-gutierrezm/home/shared/Lung on Chip/homuncu_loc_image_analysis/iAT1_iAT2_experiments/DAPI_NKX21_PDPN_ZO1/sc_analyses/20x_21-12-028A_A23456_Multichannel Z-Stack_20220818_237_iat2.h5...\n",
      "[INFO][2024/04/29 03:33:15 PM] Loading tracks/obj_type_2\n",
      "[INFO][2024/04/29 03:33:15 PM] Loading LBEP/obj_type_2\n",
      "[INFO][2024/04/29 03:33:18 PM] Loading objects/obj_type_2 (28241, 5) (28241 filtered: None)\n",
      "[INFO][2024/04/29 03:33:28 PM] Loading segmentation (81, 2304, 2304)\n",
      "[INFO][2024/04/29 03:33:28 PM] Closing HDF file: /Volumes/lab-gutierrezm/home/shared/Lung on Chip/homuncu_loc_image_analysis/iAT1_iAT2_experiments/DAPI_NKX21_PDPN_ZO1/sc_analyses/20x_21-12-028A_A23456_Multichannel Z-Stack_20220818_237_iat2.h5\n"
     ]
    },
    {
     "name": "stdout",
     "output_type": "stream",
     "text": [
      "\n",
      " 20x_21-12-028A_A23456_Multichannel Z-Stack_20220818_237_iat2.h5\n",
      "Number of channel 1 positive cells: 3166\n",
      "Number of channel 1 negative cells: 2081\n",
      "Percentage of positive cells: 60.34%\n"
     ]
    },
    {
     "name": "stderr",
     "output_type": "stream",
     "text": [
      "/Users/dayn/miniforge3/envs/loc/lib/python3.12/site-packages/seaborn/_oldcore.py:1119: FutureWarning: use_inf_as_na option is deprecated and will be removed in a future version. Convert inf values to NaN before operating instead.\n",
      "  with pd.option_context('mode.use_inf_as_na', True):\n"
     ]
    },
    {
     "name": "stdout",
     "output_type": "stream",
     "text": [
      "\n",
      " 20x_21-12-028A_A23456_Multichannel Z-Stack_20220818_237_iat2.h5\n",
      "Number of channel 2 positive cells: 2660\n",
      "Number of channel 2 negative cells: 2587\n",
      "Percentage of positive cells: 50.70%\n"
     ]
    },
    {
     "name": "stderr",
     "output_type": "stream",
     "text": [
      "/Users/dayn/miniforge3/envs/loc/lib/python3.12/site-packages/seaborn/_oldcore.py:1119: FutureWarning: use_inf_as_na option is deprecated and will be removed in a future version. Convert inf values to NaN before operating instead.\n",
      "  with pd.option_context('mode.use_inf_as_na', True):\n",
      "[INFO][2024/04/29 03:33:37 PM] Opening HDF file: /Volumes/lab-gutierrezm/home/shared/Lung on Chip/homuncu_loc_image_analysis/iAT1_iAT2_experiments/DAPI_NKX21_PDPN_ZO1/sc_analyses/20230801_20X_23-03-002B5_DAPI_NKX2-1_PDPN_ZO-1_Multichannel Z-Stack_20230801_1447_iat2.h5...\n",
      "[INFO][2024/04/29 03:33:38 PM] Loading tracks/obj_type_2\n",
      "[INFO][2024/04/29 03:33:38 PM] Loading LBEP/obj_type_2\n",
      "[INFO][2024/04/29 03:33:42 PM] Loading objects/obj_type_2 (74603, 5) (74603 filtered: None)\n",
      "[INFO][2024/04/29 03:33:52 PM] Loading segmentation (61, 2304, 2304)\n",
      "[INFO][2024/04/29 03:33:52 PM] Closing HDF file: /Volumes/lab-gutierrezm/home/shared/Lung on Chip/homuncu_loc_image_analysis/iAT1_iAT2_experiments/DAPI_NKX21_PDPN_ZO1/sc_analyses/20230801_20X_23-03-002B5_DAPI_NKX2-1_PDPN_ZO-1_Multichannel Z-Stack_20230801_1447_iat2.h5\n"
     ]
    },
    {
     "name": "stdout",
     "output_type": "stream",
     "text": [
      "\n",
      " 20230801_20X_23-03-002B5_DAPI_NKX2-1_PDPN_ZO-1_Multichannel Z-Stack_20230801_1447_iat2.h5\n",
      "Number of channel 1 positive cells: 2\n",
      "Number of channel 1 negative cells: 4924\n",
      "Percentage of positive cells: 0.04%\n"
     ]
    },
    {
     "name": "stderr",
     "output_type": "stream",
     "text": [
      "/Users/dayn/miniforge3/envs/loc/lib/python3.12/site-packages/seaborn/_oldcore.py:1119: FutureWarning: use_inf_as_na option is deprecated and will be removed in a future version. Convert inf values to NaN before operating instead.\n",
      "  with pd.option_context('mode.use_inf_as_na', True):\n"
     ]
    },
    {
     "name": "stdout",
     "output_type": "stream",
     "text": [
      "\n",
      " 20230801_20X_23-03-002B5_DAPI_NKX2-1_PDPN_ZO-1_Multichannel Z-Stack_20230801_1447_iat2.h5\n",
      "Number of channel 2 positive cells: 1\n",
      "Number of channel 2 negative cells: 4925\n",
      "Percentage of positive cells: 0.02%\n"
     ]
    },
    {
     "name": "stderr",
     "output_type": "stream",
     "text": [
      "/Users/dayn/miniforge3/envs/loc/lib/python3.12/site-packages/seaborn/_oldcore.py:1119: FutureWarning: use_inf_as_na option is deprecated and will be removed in a future version. Convert inf values to NaN before operating instead.\n",
      "  with pd.option_context('mode.use_inf_as_na', True):\n",
      "[INFO][2024/04/29 03:34:01 PM] Opening HDF file: /Volumes/lab-gutierrezm/home/shared/Lung on Chip/homuncu_loc_image_analysis/iAT1_iAT2_experiments/DAPI_NKX21_PDPN_ZO1/sc_analyses/20230801_20X_23-03-002B5_DAPI_NKX2-1_PDPN_ZO-1_Multichannel Z-Stack_20230801_1448_iat2.h5...\n",
      "[INFO][2024/04/29 03:34:02 PM] Loading tracks/obj_type_2\n",
      "[INFO][2024/04/29 03:34:02 PM] Loading LBEP/obj_type_2\n",
      "[INFO][2024/04/29 03:34:05 PM] Loading objects/obj_type_2 (72051, 5) (72051 filtered: None)\n",
      "[INFO][2024/04/29 03:34:19 PM] Loading segmentation (61, 2304, 2304)\n",
      "[INFO][2024/04/29 03:34:19 PM] Closing HDF file: /Volumes/lab-gutierrezm/home/shared/Lung on Chip/homuncu_loc_image_analysis/iAT1_iAT2_experiments/DAPI_NKX21_PDPN_ZO1/sc_analyses/20230801_20X_23-03-002B5_DAPI_NKX2-1_PDPN_ZO-1_Multichannel Z-Stack_20230801_1448_iat2.h5\n"
     ]
    },
    {
     "name": "stdout",
     "output_type": "stream",
     "text": [
      "\n",
      " 20230801_20X_23-03-002B5_DAPI_NKX2-1_PDPN_ZO-1_Multichannel Z-Stack_20230801_1448_iat2.h5\n",
      "Number of channel 1 positive cells: 1193\n",
      "Number of channel 1 negative cells: 3495\n",
      "Percentage of positive cells: 25.45%\n"
     ]
    },
    {
     "name": "stderr",
     "output_type": "stream",
     "text": [
      "/Users/dayn/miniforge3/envs/loc/lib/python3.12/site-packages/seaborn/_oldcore.py:1119: FutureWarning: use_inf_as_na option is deprecated and will be removed in a future version. Convert inf values to NaN before operating instead.\n",
      "  with pd.option_context('mode.use_inf_as_na', True):\n"
     ]
    },
    {
     "name": "stdout",
     "output_type": "stream",
     "text": [
      "\n",
      " 20230801_20X_23-03-002B5_DAPI_NKX2-1_PDPN_ZO-1_Multichannel Z-Stack_20230801_1448_iat2.h5\n",
      "Number of channel 2 positive cells: 3207\n",
      "Number of channel 2 negative cells: 1481\n",
      "Percentage of positive cells: 68.41%\n"
     ]
    },
    {
     "name": "stderr",
     "output_type": "stream",
     "text": [
      "/Users/dayn/miniforge3/envs/loc/lib/python3.12/site-packages/seaborn/_oldcore.py:1119: FutureWarning: use_inf_as_na option is deprecated and will be removed in a future version. Convert inf values to NaN before operating instead.\n",
      "  with pd.option_context('mode.use_inf_as_na', True):\n",
      "[INFO][2024/04/29 03:34:27 PM] Opening HDF file: /Volumes/lab-gutierrezm/home/shared/Lung on Chip/homuncu_loc_image_analysis/iAT1_iAT2_experiments/DAPI_NKX21_PDPN_ZO1/sc_analyses/20230801_20X_23-03-011B5_DAPI_NKX2-1_PDPN_ZO-1_Multichannel Z-Stack_20230801_1434_iat2.h5...\n",
      "[INFO][2024/04/29 03:34:27 PM] Loading tracks/obj_type_2\n",
      "[INFO][2024/04/29 03:34:28 PM] Loading LBEP/obj_type_2\n",
      "[INFO][2024/04/29 03:34:31 PM] Loading objects/obj_type_2 (52662, 5) (52662 filtered: None)\n",
      "[INFO][2024/04/29 03:34:42 PM] Loading segmentation (61, 2304, 2304)\n",
      "[INFO][2024/04/29 03:34:42 PM] Closing HDF file: /Volumes/lab-gutierrezm/home/shared/Lung on Chip/homuncu_loc_image_analysis/iAT1_iAT2_experiments/DAPI_NKX21_PDPN_ZO1/sc_analyses/20230801_20X_23-03-011B5_DAPI_NKX2-1_PDPN_ZO-1_Multichannel Z-Stack_20230801_1434_iat2.h5\n"
     ]
    },
    {
     "name": "stdout",
     "output_type": "stream",
     "text": [
      "\n",
      " 20230801_20X_23-03-011B5_DAPI_NKX2-1_PDPN_ZO-1_Multichannel Z-Stack_20230801_1434_iat2.h5\n",
      "Number of channel 1 positive cells: 686\n",
      "Number of channel 1 negative cells: 3298\n",
      "Percentage of positive cells: 17.22%\n"
     ]
    },
    {
     "name": "stderr",
     "output_type": "stream",
     "text": [
      "/Users/dayn/miniforge3/envs/loc/lib/python3.12/site-packages/seaborn/_oldcore.py:1119: FutureWarning: use_inf_as_na option is deprecated and will be removed in a future version. Convert inf values to NaN before operating instead.\n",
      "  with pd.option_context('mode.use_inf_as_na', True):\n"
     ]
    },
    {
     "name": "stdout",
     "output_type": "stream",
     "text": [
      "\n",
      " 20230801_20X_23-03-011B5_DAPI_NKX2-1_PDPN_ZO-1_Multichannel Z-Stack_20230801_1434_iat2.h5\n",
      "Number of channel 2 positive cells: 3755\n",
      "Number of channel 2 negative cells: 229\n",
      "Percentage of positive cells: 94.25%\n"
     ]
    },
    {
     "name": "stderr",
     "output_type": "stream",
     "text": [
      "/Users/dayn/miniforge3/envs/loc/lib/python3.12/site-packages/seaborn/_oldcore.py:1119: FutureWarning: use_inf_as_na option is deprecated and will be removed in a future version. Convert inf values to NaN before operating instead.\n",
      "  with pd.option_context('mode.use_inf_as_na', True):\n",
      "[INFO][2024/04/29 03:34:50 PM] Opening HDF file: /Volumes/lab-gutierrezm/home/shared/Lung on Chip/homuncu_loc_image_analysis/iAT1_iAT2_experiments/DAPI_NKX21_PDPN_ZO1/sc_analyses/20x_21-12-031B_A12456_Multichannel Z-Stack_20220811_114_iat2.h5...\n",
      "[INFO][2024/04/29 03:34:50 PM] Loading tracks/obj_type_2\n",
      "[INFO][2024/04/29 03:34:51 PM] Loading LBEP/obj_type_2\n",
      "[INFO][2024/04/29 03:34:52 PM] Loading objects/obj_type_2 (23232, 5) (23232 filtered: None)\n",
      "[INFO][2024/04/29 03:35:01 PM] Loading segmentation (81, 2304, 2304)\n",
      "[INFO][2024/04/29 03:35:01 PM] Closing HDF file: /Volumes/lab-gutierrezm/home/shared/Lung on Chip/homuncu_loc_image_analysis/iAT1_iAT2_experiments/DAPI_NKX21_PDPN_ZO1/sc_analyses/20x_21-12-031B_A12456_Multichannel Z-Stack_20220811_114_iat2.h5\n"
     ]
    },
    {
     "name": "stdout",
     "output_type": "stream",
     "text": [
      "\n",
      " 20x_21-12-031B_A12456_Multichannel Z-Stack_20220811_114_iat2.h5\n",
      "Number of channel 1 positive cells: 1668\n",
      "Number of channel 1 negative cells: 1714\n",
      "Percentage of positive cells: 49.32%\n"
     ]
    },
    {
     "name": "stderr",
     "output_type": "stream",
     "text": [
      "/Users/dayn/miniforge3/envs/loc/lib/python3.12/site-packages/seaborn/_oldcore.py:1119: FutureWarning: use_inf_as_na option is deprecated and will be removed in a future version. Convert inf values to NaN before operating instead.\n",
      "  with pd.option_context('mode.use_inf_as_na', True):\n"
     ]
    },
    {
     "name": "stdout",
     "output_type": "stream",
     "text": [
      "\n",
      " 20x_21-12-031B_A12456_Multichannel Z-Stack_20220811_114_iat2.h5\n",
      "Number of channel 2 positive cells: 2226\n",
      "Number of channel 2 negative cells: 1156\n",
      "Percentage of positive cells: 65.82%\n"
     ]
    },
    {
     "name": "stderr",
     "output_type": "stream",
     "text": [
      "/Users/dayn/miniforge3/envs/loc/lib/python3.12/site-packages/seaborn/_oldcore.py:1119: FutureWarning: use_inf_as_na option is deprecated and will be removed in a future version. Convert inf values to NaN before operating instead.\n",
      "  with pd.option_context('mode.use_inf_as_na', True):\n",
      "[INFO][2024/04/29 03:35:06 PM] Opening HDF file: /Volumes/lab-gutierrezm/home/shared/Lung on Chip/homuncu_loc_image_analysis/iAT1_iAT2_experiments/DAPI_NKX21_PDPN_ZO1/sc_analyses/20230801_20X_23-03-011B5_DAPI_NKX2-1_PDPN_ZO-1_Multichannel Z-Stack_20230801_1435_iat2.h5...\n",
      "[INFO][2024/04/29 03:35:06 PM] Loading tracks/obj_type_2\n",
      "[INFO][2024/04/29 03:35:07 PM] Loading LBEP/obj_type_2\n",
      "[INFO][2024/04/29 03:35:09 PM] Loading objects/obj_type_2 (50760, 5) (50760 filtered: None)\n",
      "[INFO][2024/04/29 03:35:43 PM] Loading segmentation (61, 2304, 2304)\n",
      "[INFO][2024/04/29 03:35:43 PM] Closing HDF file: /Volumes/lab-gutierrezm/home/shared/Lung on Chip/homuncu_loc_image_analysis/iAT1_iAT2_experiments/DAPI_NKX21_PDPN_ZO1/sc_analyses/20230801_20X_23-03-011B5_DAPI_NKX2-1_PDPN_ZO-1_Multichannel Z-Stack_20230801_1435_iat2.h5\n"
     ]
    },
    {
     "name": "stdout",
     "output_type": "stream",
     "text": [
      "\n",
      " 20230801_20X_23-03-011B5_DAPI_NKX2-1_PDPN_ZO-1_Multichannel Z-Stack_20230801_1435_iat2.h5\n",
      "Number of channel 1 positive cells: 578\n",
      "Number of channel 1 negative cells: 2379\n",
      "Percentage of positive cells: 19.55%\n"
     ]
    },
    {
     "name": "stderr",
     "output_type": "stream",
     "text": [
      "/Users/dayn/miniforge3/envs/loc/lib/python3.12/site-packages/seaborn/_oldcore.py:1119: FutureWarning: use_inf_as_na option is deprecated and will be removed in a future version. Convert inf values to NaN before operating instead.\n",
      "  with pd.option_context('mode.use_inf_as_na', True):\n"
     ]
    },
    {
     "name": "stdout",
     "output_type": "stream",
     "text": [
      "\n",
      " 20230801_20X_23-03-011B5_DAPI_NKX2-1_PDPN_ZO-1_Multichannel Z-Stack_20230801_1435_iat2.h5\n",
      "Number of channel 2 positive cells: 2509\n",
      "Number of channel 2 negative cells: 448\n",
      "Percentage of positive cells: 84.85%\n"
     ]
    },
    {
     "name": "stderr",
     "output_type": "stream",
     "text": [
      "/Users/dayn/miniforge3/envs/loc/lib/python3.12/site-packages/seaborn/_oldcore.py:1119: FutureWarning: use_inf_as_na option is deprecated and will be removed in a future version. Convert inf values to NaN before operating instead.\n",
      "  with pd.option_context('mode.use_inf_as_na', True):\n",
      "[INFO][2024/04/29 03:36:28 PM] Opening HDF file: /Volumes/lab-gutierrezm/home/shared/Lung on Chip/homuncu_loc_image_analysis/iAT1_iAT2_experiments/DAPI_NKX21_PDPN_ZO1/sc_analyses/20230801_20X_23-03-002A5_DAPI_NKX201_PDPN_ZO-1_Multichannel Z-Stack_20230801_1441_iat2.h5...\n",
      "[INFO][2024/04/29 03:36:30 PM] Loading tracks/obj_type_2\n",
      "[INFO][2024/04/29 03:36:32 PM] Loading LBEP/obj_type_2\n"
     ]
    }
   ],
   "source": [
    "root_dir = '/Volumes/lab-gutierrezm/home/shared/Lung on Chip/homuncu_loc_image_analysis' # /mnt/NEMO/home/shared/Lung on Chip/homuncu_loc_image_analysis\n",
    "\n",
    "# root_dir = '/proj-lm-gutierrez/homuncu_loc_image_analysis/\n",
    "markers = ['NKX21', 'PDPN', 'SPC']\n",
    "\n",
    "sc_fn_pattern = os.path.join(root_dir, f'iAT1_iAT2_experiments/*/sc_analyses/*iat2.h5')\n",
    "sc_fns = glob.glob(sc_fn_pattern)\n",
    "\n",
    "\n",
    "for sc_fn in tqdm(sc_fns, total = len(sc_fns)):\n",
    "    sc_fn_basename = os.path.basename(sc_fn)\n",
    "    sc_base_dir = os.path.dirname(sc_fn)\n",
    "    output_dir = os.path.join(sc_base_dir, 'proportional_thresholding')\n",
    "    os.makedirs(output_dir, exist_ok = True)\n",
    "    os.makedirs('temp_output', exist_ok = True)\n",
    "    # load labels (tracks and segmentation)\n",
    "    with btrack.io.HDF5FileHandler(sc_fn, \n",
    "                                       'r', \n",
    "                                           obj_type='obj_type_2'#'obj_type_2'\n",
    "                                       ) as reader:\n",
    "            # tracks = [t for t in reader.tracks if np.mean(t.properties['area']) > 1000]\n",
    "            tracks = [t for t in reader.tracks if len(t) >= 3] #reader.tracks#\n",
    "            segmentation = reader.segmentation\n",
    "    napari_tracks, properties, graph = btrack.utils.tracks_to_napari(tracks, ndim = 2)\n",
    "    recolored_segmentation = btrack.utils.update_segmentation(segmentation, tracks)\n",
    "\n",
    "    for channel, marker in enumerate(sc_fn.split('/')[-3].split('_')):  \n",
    "        if marker not in markers:\n",
    "            continue\n",
    "        \n",
    "        sc_intensities = [np.mean(track.properties['mean_intensity'][:,channel]) for track in tracks]\n",
    "        max_sc_intensity = np.nanmax(sc_intensities)\n",
    "        min_sc_intensity = np.nanmin(sc_intensities)\n",
    "        threshold = int((pct_threshold * (max_sc_intensity - min_sc_intensity)) + min_sc_intensity)\n",
    "    \n",
    "        n_positive = len([t for t in tracks if np.max(t.properties['mean_intensity'][:,channel]) >= threshold])\n",
    "        n_negative = len([t for t in tracks if np.max(t.properties['mean_intensity'][:,channel]) < threshold])\n",
    "        \n",
    "        print('\\n', sc_fn_basename) \n",
    "        print(f'Number of channel {channel} positive cells: {n_positive}')\n",
    "        print(f'Number of channel {channel} negative cells: {n_negative}')\n",
    "        percentage = n_positive / (n_positive+n_negative) *100\n",
    "        print(f'Percentage of positive cells: {percentage:.2f}%')\n",
    "\n",
    "        plt.clf()\n",
    "        # sc_intensities = [np.max(t.properties['mean_intensity'][:,channel]) for t in tracks]\n",
    "        ax = sns.histplot(sc_intensities)\n",
    "        plt.vlines(x=threshold,\n",
    "               ymax=ax.get_ylim()[-1],\n",
    "               ymin=ax.get_ylim()[0],\n",
    "               color=sns.color_palette('PiYG')[-1],  # my favorite colors :D\n",
    "               linewidth=1)\n",
    "        sns.despine(offset = 10)\n",
    "        plt.xlabel(f'Single-cell max intensity pixel value for channel {channel}, {marker}')\n",
    "        plt.ylabel('Number of cells')\n",
    "        plt.legend([f'Threshold ({threshold})'], loc='lower right')\n",
    "        ax.text(0.4, 0.95, \n",
    "            f'Number of channel {channel} positive cells: {n_positive}\\nNumber of channel {channel} negative cells: {n_negative}\\nPercentage of positive cells: {percentage:.2f}%',\n",
    "            transform=ax.transAxes, fontsize=12,\n",
    "            verticalalignment='top', bbox=dict(boxstyle='round,pad=0.5', facecolor='grey', edgecolor='none', alpha=0.5))\n",
    "        \n",
    "        # image_name = os.path.basename(image_fn).replace('.tif','')\n",
    "        image_ID = os.path.basename(sc_fn).replace('_iat2.h5','')\n",
    "        \n",
    "        plt.title(f'Distribution of single-cell maximum pixel value for channel {channel}\\n image {image_ID}')\n",
    "        output_fn = os.path.join(output_dir, f'{image_ID}_ch{channel}_proportional_threshold_quantification.png')\n",
    "        plt.savefig(output_fn, bbox_inches = 'tight', dpi = 314)\n",
    "        plt.savefig(f'temp_output/{image_ID}_ch{channel}_proportional_threshold_quantification.png', bbox_inches = 'tight', dpi = 314)\n",
    "\n",
    "        # plt.show()\n"
   ]
  },
  {
   "cell_type": "markdown",
   "id": "b3c3952f-63b5-4e83-9fdc-027a640f9c7f",
   "metadata": {},
   "source": [
    "# Save out as df/excel"
   ]
  },
  {
   "cell_type": "code",
   "execution_count": null,
   "id": "cb3b5db7-10dc-4280-b0bb-c684f83d2481",
   "metadata": {},
   "outputs": [],
   "source": [
    "### define parameters to plot in table\n",
    "cols = ['Cell ID', f'Max. int. {channels(0).name}', f'Max. int. {channels(1).name}', f'Max. int. {channels(2).name}', f'Max. int. {channels(3).name}', 'Average X', 'Average Y']\n",
    "### extract some intial measurements\n",
    "df = pd.DataFrame([(track.ID, np.nanmax(track['mean_intensity-0']),np.nanmax(track['mean_intensity-1']),np.nanmax(track['mean_intensity-2']),np.nanmax(track['mean_intensity-3']), np.mean(track.x), np.mean(track.y)) for track in tracks], columns= cols)"
   ]
  }
 ],
 "metadata": {
  "kernelspec": {
   "display_name": "loc",
   "language": "python",
   "name": "loc"
  },
  "language_info": {
   "codemirror_mode": {
    "name": "ipython",
    "version": 3
   },
   "file_extension": ".py",
   "mimetype": "text/x-python",
   "name": "python",
   "nbconvert_exporter": "python",
   "pygments_lexer": "ipython3",
   "version": "3.12.3"
  }
 },
 "nbformat": 4,
 "nbformat_minor": 5
}
