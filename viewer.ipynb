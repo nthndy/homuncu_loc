{
 "cells": [
  {
   "cell_type": "markdown",
   "id": "038f144c",
   "metadata": {},
   "source": [
    "# homuncu_loc image viewer"
   ]
  },
  {
   "cell_type": "code",
   "execution_count": 1,
   "id": "8988af78",
   "metadata": {},
   "outputs": [],
   "source": [
    "import napari\n",
    "from skimage import io\n",
    "import btrack"
   ]
  },
  {
   "cell_type": "code",
   "execution_count": null,
   "id": "259a2d77-8308-429f-b173-0bad77d2c120",
   "metadata": {},
   "outputs": [],
   "source": [
    "image_ID = '20230718_20X_23-02-104B2_Multichannel Z-Stack_20230718_1365'"
   ]
  },
  {
   "cell_type": "code",
   "execution_count": null,
   "id": "44d2d6ef-7977-4186-9352-c89367aba009",
   "metadata": {},
   "outputs": [],
   "source": []
  },
  {
   "cell_type": "code",
   "execution_count": 18,
   "id": "580f80c4-178e-4905-8f03-218c6c6548cc",
   "metadata": {},
   "outputs": [],
   "source": [
    "image_fn = '/run/user/30046150/gvfs/smb-share:server=data2.thecrick.org,share=lab-gutierrezm/home/shared/Lung on Chip/image analysis_Nathan/Job_Mtb area/run2_23-02-104/48h pi/20230718_20X_23-02-104B2_Multichannel Z-Stack_20230718_1365.tif'"
   ]
  },
  {
   "cell_type": "code",
   "execution_count": 19,
   "id": "8f2681b1",
   "metadata": {},
   "outputs": [
    {
     "name": "stdout",
     "output_type": "stream",
     "text": [
      "CPU times: user 1.17 s, sys: 4.29 s, total: 5.46 s\n",
      "Wall time: 1min 2s\n"
     ]
    }
   ],
   "source": [
    "%%time\n",
    "image = io.imread(image_fn)"
   ]
  },
  {
   "cell_type": "code",
   "execution_count": 9,
   "id": "fce0a838",
   "metadata": {},
   "outputs": [
    {
     "data": {
      "text/plain": [
       "(93, 2304, 2304, 4)"
      ]
     },
     "execution_count": 9,
     "metadata": {},
     "output_type": "execute_result"
    }
   ],
   "source": [
    "image.shape"
   ]
  },
  {
   "cell_type": "code",
   "execution_count": 16,
   "id": "64cb0846",
   "metadata": {},
   "outputs": [],
   "source": [
    "tracks_fn = '/home/dayn/data/homuncu_loc_temp/run2_23-02-104/48h pi/20230718_20X_23-02-104B2_Multichannel Z-Stack_20230718_1365_z_tracks_masks.h5'"
   ]
  },
  {
   "cell_type": "code",
   "execution_count": 17,
   "id": "dcbce733",
   "metadata": {},
   "outputs": [
    {
     "name": "stderr",
     "output_type": "stream",
     "text": [
      "[INFO][2023/08/04 03:58:10 pm] Opening HDF file: /home/dayn/data/homuncu_loc_temp/run2_23-02-104/48h pi/20230718_20X_23-02-104B2_Multichannel Z-Stack_20230718_1365_z_tracks_masks.h5...\n",
      "04-Aug-23 15:58:10 - btrack.io.hdf - INFO     - Opening HDF file: /home/dayn/data/homuncu_loc_temp/run2_23-02-104/48h pi/20230718_20X_23-02-104B2_Multichannel Z-Stack_20230718_1365_z_tracks_masks.h5...\n",
      "[INFO][2023/08/04 03:58:12 pm] Loading segmentation (81, 2304, 2304)\n",
      "04-Aug-23 15:58:12 - btrack.io.hdf - INFO     - Loading segmentation (81, 2304, 2304)\n",
      "[INFO][2023/08/04 03:58:12 pm] Loading tracks/obj_type_1\n",
      "04-Aug-23 15:58:12 - btrack.io.hdf - INFO     - Loading tracks/obj_type_1\n",
      "[INFO][2023/08/04 03:58:12 pm] Loading LBEP/obj_type_1\n",
      "04-Aug-23 15:58:12 - btrack.io.hdf - INFO     - Loading LBEP/obj_type_1\n",
      "[INFO][2023/08/04 03:58:12 pm] Loading objects/obj_type_1 (34822, 5) (34822 filtered: None)\n",
      "04-Aug-23 15:58:12 - btrack.io.hdf - INFO     - Loading objects/obj_type_1 (34822, 5) (34822 filtered: None)\n",
      "[INFO][2023/08/04 03:58:12 pm] Closing HDF file: /home/dayn/data/homuncu_loc_temp/run2_23-02-104/48h pi/20230718_20X_23-02-104B2_Multichannel Z-Stack_20230718_1365_z_tracks_masks.h5\n",
      "04-Aug-23 15:58:12 - btrack.io.hdf - INFO     - Closing HDF file: /home/dayn/data/homuncu_loc_temp/run2_23-02-104/48h pi/20230718_20X_23-02-104B2_Multichannel Z-Stack_20230718_1365_z_tracks_masks.h5\n"
     ]
    }
   ],
   "source": [
    "with btrack.io.HDF5FileHandler(tracks_fn, 'r', obj_type='obj_type_1') as reader:\n",
    "    segmentation = reader.segmentation\n",
    "    tracks = reader.tracks"
   ]
  },
  {
   "cell_type": "code",
   "execution_count": 20,
   "id": "cdd465d4",
   "metadata": {},
   "outputs": [],
   "source": [
    "napari_tracks, _, _ = btrack.utils.tracks_to_napari(tracks, ndim = 2)"
   ]
  },
  {
   "cell_type": "code",
   "execution_count": 21,
   "id": "64c3f053",
   "metadata": {},
   "outputs": [],
   "source": [
    "recolored_segmentation = btrack.utils.update_segmentation(segmentation, tracks, color_by='ID')"
   ]
  },
  {
   "cell_type": "code",
   "execution_count": 22,
   "id": "fb976154",
   "metadata": {},
   "outputs": [
    {
     "data": {
      "text/plain": [
       "<Tracks layer 'napari_tracks' at 0x7f8c41824760>"
      ]
     },
     "execution_count": 22,
     "metadata": {},
     "output_type": "execute_result"
    }
   ],
   "source": [
    "viewer = napari.Viewer()\n",
    "\n",
    "viewer.add_image(image, channel_axis = -1)\n",
    "viewer.add_labels(segmentation, visible = False)\n",
    "viewer.add_labels(recolored_segmentation)\n",
    "viewer.add_tracks(napari_tracks)"
   ]
  },
  {
   "cell_type": "code",
   "execution_count": 23,
   "id": "af63f25e-7a7d-4a55-80c4-e2c863f558fc",
   "metadata": {},
   "outputs": [
    {
     "name": "stdout",
     "output_type": "stream",
     "text": [
      "\n"
     ]
    }
   ],
   "source": [
    "print()"
   ]
  }
 ],
 "metadata": {
  "kernelspec": {
   "display_name": "aero",
   "language": "python",
   "name": "aero"
  },
  "language_info": {
   "codemirror_mode": {
    "name": "ipython",
    "version": 3
   },
   "file_extension": ".py",
   "mimetype": "text/x-python",
   "name": "python",
   "nbconvert_exporter": "python",
   "pygments_lexer": "ipython3",
   "version": "3.9.12"
  }
 },
 "nbformat": 4,
 "nbformat_minor": 5
}
