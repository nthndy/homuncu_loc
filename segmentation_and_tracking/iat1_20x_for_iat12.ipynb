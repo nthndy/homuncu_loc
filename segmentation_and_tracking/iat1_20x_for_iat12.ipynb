{
 "cells": [
  {
   "cell_type": "markdown",
   "id": "038f144c",
   "metadata": {},
   "source": [
    "# scaling mphi seg 3 class"
   ]
  },
  {
   "cell_type": "code",
   "execution_count": 1,
   "id": "8988af78",
   "metadata": {},
   "outputs": [],
   "source": [
    "import napari\n",
    "from skimage import io\n",
    "import btrack\n",
    "import os\n",
    "from tqdm.auto import tqdm\n",
    "import numpy as np\n",
    "import btrack\n",
    "from glob import glob\n",
    "from homuncu_loc.dataio import find_files_with_basename, ID_extractor"
   ]
  },
  {
   "cell_type": "markdown",
   "id": "09c5e155-1cd6-46e9-9643-5446f0fc851b",
   "metadata": {},
   "source": [
    "#### Define image fn "
   ]
  },
  {
   "cell_type": "code",
   "execution_count": 2,
   "id": "662eacac-3046-4b30-9465-a8f734574ad4",
   "metadata": {},
   "outputs": [
    {
     "name": "stdout",
     "output_type": "stream",
     "text": [
      "nvcc: NVIDIA (R) Cuda compiler driver\n",
      "Copyright (c) 2005-2019 NVIDIA Corporation\n",
      "Built on Sun_Jul_28_19:07:16_PDT_2019\n",
      "Cuda compilation tools, release 10.1, V10.1.243\n",
      "Fri Oct  6 13:14:56 2023       \n",
      "+-----------------------------------------------------------------------------+\n",
      "| NVIDIA-SMI 515.105.01   Driver Version: 515.105.01   CUDA Version: 11.7     |\n",
      "|-------------------------------+----------------------+----------------------+\n",
      "| GPU  Name        Persistence-M| Bus-Id        Disp.A | Volatile Uncorr. ECC |\n",
      "| Fan  Temp  Perf  Pwr:Usage/Cap|         Memory-Usage | GPU-Util  Compute M. |\n",
      "|                               |                      |               MIG M. |\n",
      "|===============================+======================+======================|\n",
      "|   0  NVIDIA RTX A6000    On   | 00000000:65:00.0  On |                  Off |\n",
      "| 30%   43C    P8    34W / 300W |  46378MiB / 49140MiB |      8%      Default |\n",
      "|                               |                      |                  N/A |\n",
      "+-------------------------------+----------------------+----------------------+\n",
      "                                                                               \n",
      "+-----------------------------------------------------------------------------+\n",
      "| Processes:                                                                  |\n",
      "|  GPU   GI   CI        PID   Type   Process name                  GPU Memory |\n",
      "|        ID   ID                                                   Usage      |\n",
      "|=============================================================================|\n",
      "|    0   N/A  N/A      2292      G   /usr/lib/xorg/Xorg               1070MiB |\n",
      "|    0   N/A  N/A     11268      G   /usr/bin/gnome-shell              124MiB |\n",
      "|    0   N/A  N/A     42098      G   gnome-control-center               50MiB |\n",
      "|    0   N/A  N/A     83810      G   ...AAAAAAAAA= --shared-files        6MiB |\n",
      "|    0   N/A  N/A     91460      C   .../envs/brassica/bin/python      385MiB |\n",
      "|    0   N/A  N/A    336109      G   .../envs/brassica/bin/python       25MiB |\n",
      "|    0   N/A  N/A    338054      C   .../envs/brassica/bin/python      359MiB |\n",
      "|    0   N/A  N/A    338291      C   .../envs/brassica/bin/python      359MiB |\n",
      "|    0   N/A  N/A    339241    C+G   .../envs/brassica/bin/python    43740MiB |\n",
      "|    0   N/A  N/A    530026      G   ...714807703712694810,262144      246MiB |\n",
      "+-----------------------------------------------------------------------------+\n",
      ">>> GPU activated? YES\n"
     ]
    }
   ],
   "source": [
    "# print gpu information\n",
    "!nvcc --version\n",
    "!nvidia-smi\n",
    "\n",
    "# load cellpose\n",
    "from cellpose import core, utils, models, metrics\n",
    "import matplotlib.pyplot as plt \n",
    "from skimage.morphology import remove_small_objects\n",
    "\n",
    "# check to see if GPU can be used\n",
    "use_GPU = core.use_gpu()\n",
    "yn = ['NO', 'YES']\n",
    "print(f'>>> GPU activated? {yn[use_GPU]}')\n",
    "\n",
    "# define segmentation model parameters\n",
    "model = models.Cellpose(gpu=use_GPU, \n",
    "                        model_type='cyto') # cytoplasmic segmentation \n",
    "channels = [0,0] # this means using a grayscale image for both nuclei and cyto channels (even if not using nuclei, still have to say its same colour [greyscale = 0])"
   ]
  },
  {
   "cell_type": "markdown",
   "id": "3b2ce567-d8fb-41d9-8cac-f61e04741f99",
   "metadata": {},
   "source": [
    "# define a general segmentation framework for macroph and edit params for other cell"
   ]
  },
  {
   "cell_type": "code",
   "execution_count": 9,
   "id": "e3ed329d-6793-4a23-80ab-90f04e9d4992",
   "metadata": {},
   "outputs": [],
   "source": [
    "from tqdm.auto import tqdm\n",
    "from cellpose import models\n",
    "from skimage.morphology import remove_small_objects\n",
    "import numpy as np\n",
    "import btrack\n",
    "\n",
    "def segment_channel(segmentation_channel, diameter=60, flow_threshold=0.99, channels=[0,0], cellprob_threshold=-2, min_mask_size=500, return_diams=False, start_point=None, end_point=None):\n",
    "    \"\"\"\n",
    "    Segments a specified channel of an image using Cellpose and optionally returns the average diameter of segments.\n",
    "\n",
    "    Args:\n",
    "    - segmentation_channel (ndarray): 3D array of the target channel where the 3rd dimension represents the Z-stack.\n",
    "    - diameter (int, optional): Average cell diameter for Cellpose. Default is 60.\n",
    "    - flow_threshold (float, optional): Threshold for flow in Cellpose. Default is 0.99.\n",
    "    - channels (list, optional): Channel input for Cellpose. Default is [0,0].\n",
    "    - cellprob_threshold (float, optional): Cell probability threshold for Cellpose. Default is -2.\n",
    "    - min_mask_size (int, optional): Minimum size of objects to keep in the segmented mask. Default is 500.\n",
    "    - return_diams (bool, optional): If set to True, the function will also return the average diameter of segments.\n",
    "    - start_point (int, optional): Starting point for segmentation frames. Default is None.\n",
    "    - end_point (int, optional): Ending point for segmentation frames. Default is None.\n",
    "\n",
    "    Returns:\n",
    "    - ndarray: 3D mask array with the same shape as the input, where segmented regions are labeled.\n",
    "    - float (optional): Average diameter of segments if return_diams is True.\n",
    "    \"\"\"\n",
    "\n",
    "    if start_point is None or end_point is None:\n",
    "        # Calculate intensities for each frame in Z-stack\n",
    "        intensities = [np.sum(frame) for frame in tqdm(segmentation_channel, desc='finding where segmentation channel is expressed in Z')]\n",
    "\n",
    "        # Estimate the background level\n",
    "        background_level = np.min(intensities)\n",
    "        threshold = background_level + ((np.max(intensities)-np.min(intensities))*0.50)\n",
    "\n",
    "        if start_point is None:\n",
    "            # Find the points where the curve starts to deviate from the background\n",
    "            start_point = np.argmax(intensities > threshold)\n",
    "\n",
    "        if end_point is None:\n",
    "            end_point = len(intensities) - np.argmax(intensities[::-1] > threshold) - 1\n",
    "\n",
    "    # Initialize output mask array\n",
    "    mask_array = np.zeros_like(segmentation_channel)\n",
    "\n",
    "    # Initialize the model\n",
    "    model = models.Cellpose(model_type='cyto')\n",
    "    \n",
    "    # List to store diameters if return_diams is True\n",
    "    diams = []\n",
    "\n",
    "    # Segment over selected frames\n",
    "    for n, frame in tqdm(enumerate(segmentation_channel[start_point:end_point]), total=end_point-start_point, desc='segmenting over select frames'):\n",
    "        n += start_point\n",
    "        masks, _, _, diam = model.eval(frame, diameter=diameter, flow_threshold=flow_threshold, channels=channels, cellprob_threshold=cellprob_threshold)\n",
    "        masks = remove_small_objects(masks, min_size=min_mask_size)\n",
    "        mask_array[n] = masks\n",
    "        diams.append(diam)\n",
    "\n",
    "    if return_diams:\n",
    "        return mask_array, diams\n",
    "    else:\n",
    "        return mask_array\n"
   ]
  },
  {
   "cell_type": "code",
   "execution_count": 3,
   "id": "2b6e699a-fedb-45c2-8412-5b4f63a4da19",
   "metadata": {},
   "outputs": [],
   "source": [
    "props = ('axis_major_length', # first define some cell properties \n",
    "         'axis_minor_length', # this helps improve the tracking\n",
    "         'eccentricity',      # by comparing similarities between slices/frames\n",
    "         'area', \n",
    "         'orientation',\n",
    "         'mean_intensity', \n",
    "        )"
   ]
  },
  {
   "cell_type": "code",
   "execution_count": 6,
   "id": "075d89d6-b7a0-4699-a6a0-3d730c262adb",
   "metadata": {},
   "outputs": [],
   "source": [
    "basedir = '/run/user/30046150/gvfs/smb-share:server=data2.thecrick.org,share=lab-gutierrezm/home/shared/Lung on Chip/homuncu_loc_image_analysis/iAT1_iAT2_iVEC_macrophage_experiments/DAPI_ZO1_CD16_MTB/images'"
   ]
  },
  {
   "cell_type": "code",
   "execution_count": 24,
   "id": "38f4bd7f-f353-47c0-a1bb-1bd73cd4f5a7",
   "metadata": {},
   "outputs": [],
   "source": [
    "image_basenames = [\n",
    "    \"20230705_40X_23-01-001B3_Multichannel Z-Stack_20230705_1298\",\n",
    "    \"20230705_40X_23-01-001B3_Multichannel Z-Stack_20230705_1299\",\n",
    "    \"20230705_40X_23-01-001B3_Multichannel Z-Stack_20230705_1300\",\n",
    "    \"20230705_40X_23-01-005A3_Multichannel Z-Stack_20230705_1306\",\n",
    "    \"20230705_40X_23-01-005A3_Multichannel Z-Stack_20230705_1307\",\n",
    "    \"20230705_40X_23-01-005A3_Multichannel Z-Stack_20230705_1308\",\n",
    "    \"20230705_40X_23-01-005A3_Multichannel Z-Stack_20230705_1309\",\n",
    "    \"20230705_40X_23-01-005A3_Multichannel Z-Stack_20230705_1310\",\n",
    "    \"20230705_40X_23-01-005A3_Multichannel Z-Stack_20230705_1311\",\n",
    "    \"20230707_40X_23-01-001A3_Multichannel Z-Stack_20230707_1313\",\n",
    "    \"20230707_40X_23-01-001A3_Multichannel Z-Stack_20230707_1314\",\n",
    "    \"20230707_40X_23-01-001A3_Multichannel Z-Stack_20230707_1315\",\n",
    "    \"20230707_40X_23-01-001A3_Multichannel Z-Stack_20230707_1316\",\n",
    "    \"20230707_40X_23-01-001A3_Multichannel Z-Stack_20230707_1317\",\n",
    "    \"20230707_40X_23-01-001A3_Multichannel Z-Stack_20230707_1318\",\n",
    "    \"20230707_40X_23-01-001A3_Multichannel Z-Stack_20230707_1319\",\n",
    "    \"20230707_40X_23-01-001A3_Multichannel Z-Stack_20230707_1320\",\n",
    "    \"20230707_40X_23-01-005A3_Multichannel Z-Stack_20230707_1324\",\n",
    "    \"20230707_40X_23-01-005A3_Multichannel Z-Stack_20230707_1325\",\n",
    "    \"20230714_20X_23-02-104A4_Multichannel Z-Stack_20230714_1340\",\n",
    "    \"20230714_20X_23-02-104A4_Multichannel Z-Stack_20230714_1341\",\n",
    "    \"20230714_20X_23-02-104A4_Multichannel Z-Stack_20230714_1342\",\n",
    "    \"20230714_20X_23-02-104A4_Multichannel Z-Stack_20230714_1343\",\n",
    "    \"20230714_20X_23-02-104A4_Multichannel Z-Stack_20230714_1344\",\n",
    "    \"20230718_20X_23-02-104B2_Multichannel Z-Stack_20230718_1361\",\n",
    "    \"20230718_20X_23-02-104B2_Multichannel Z-Stack_20230718_1362\",\n",
    "    \"20230718_20X_23-02-104B2_Multichannel Z-Stack_20230718_1363\",\n",
    "    \"20230718_20X_23-02-104B2_Multichannel Z-Stack_20230718_1364\",\n",
    "    \"20230718_20X_23-02-104B2_Multichannel Z-Stack_20230718_1365\",\n",
    "       \"20230801_20X_23-03-001B4_DAPI_ZO-1_CD16_Mtb_Multichannel Z-Stack_20230801_1463\",\n",
    "    \"20230801_20X_23-03-001B4_DAPI_ZO-1_CD16_Mtb_Multichannel Z-Stack_20230801_1464\",\n",
    "    \"20230801_20X_23-03-001B4_DAPI_ZO-1_CD16_Mtb_Multichannel Z-Stack_20230801_1465\",\n",
    "    \"20230801_20X_23-03-001B4_DAPI_ZO-1_CD16_Mtb_Multichannel Z-Stack_20230801_1467\",\n",
    "    \"20230801_20X_23-03-001B2_DAPI_ZO-1_Ki67_Mtb_Multichannel Z-Stack_20230801_1482\",\n",
    "    \"20230801_20X_23-03-001B2_DAPI_ZO-1_Ki67_Mtb_Multichannel Z-Stack_20230801_1483\",\n",
    "    \"20230801_20X_23-03-001B2_DAPI_ZO-1_Ki67_Mtb_Multichannel Z-Stack_20230801_1484\",\n",
    "    \"20230802_20X_23-03-001A4_DAPI_ZO-1_CD16_Mtb_Multichannel Z-Stack_20230802_1500\",\n",
    "    \"20230802_20X_23-03-001A4_DAPI_ZO-1_CD16_Mtb_Multichannel Z-Stack_20230802_1501\",\n",
    "    \"20230802_20X_23-03-001A1_DAPI_ZO-1_CD16_Mtb_Multichannel Z-Stack_20230802_1510\",\n",
    "    \"20230802_20X_23-03-001A1_DAPI_ZO-1_CD16_Mtb_Multichannel Z-Stack_20230802_1511\",\n",
    "    \"20230802_20X_23-03-001A1_DAPI_ZO-1_CD16_Mtb_Multichannel Z-Stack_20230802_1512\",\n",
    "    \"20230802_20X_23-03-001A1_DAPI_ZO-1_CD16_Mtb_Multichannel Z-Stack_20230802_1513\",\n",
    "    \"20230802_20X_23-03-001A1_DAPI_ZO-1_CD16_Mtb_Multichannel Z-Stack_20230802_1514\",\n",
    "    \"20230801_20X_23-03-001B2_DAPI_ZO-1_Ki67_Mtb_Multichannel Z-Stack_20230801_1481\"\n",
    "]\n"
   ]
  },
  {
   "cell_type": "code",
   "execution_count": 25,
   "id": "99b9c3ab-a85a-4fb7-8022-f1f858490035",
   "metadata": {},
   "outputs": [],
   "source": [
    "image_fns = [os.path.join(basedir, fn+'.tif') for fn in image_basenames]"
   ]
  },
  {
   "cell_type": "markdown",
   "id": "3b21edae-58d7-4567-8d5e-81953a68bfe5",
   "metadata": {},
   "source": [
    "### Or just define different basename, path combinations"
   ]
  },
  {
   "cell_type": "code",
   "execution_count": 5,
   "id": "da1d42b6-5eed-44c5-8f18-8b5c01d9cee4",
   "metadata": {},
   "outputs": [],
   "source": [
    "image_fns =[\n",
    "    \"/run/user/30046150/gvfs/smb-share:server=data2.thecrick.org,share=lab-gutierrezm/home/shared/Lung on Chip/homuncu_loc_image_analysis/iAT1_iAT2_experiments/DAPI_NKX21_PDPN_ZO1/images/20230801_20X_23-03-011B5_DAPI_NKX2-1_PDPN_ZO-1_Multichannel Z-Stack_20230801_1435\",\n",
    "    \"/run/user/30046150/gvfs/smb-share:server=data2.thecrick.org,share=lab-gutierrezm/home/shared/Lung on Chip/homuncu_loc_image_analysis/iAT1_iAT2_experiments/DAPI_NKX21_PDPN_ZO1/images/20230801_20X_23-03-011B5_DAPI_NKX2-1_PDPN_ZO-1_Multichannel Z-Stack_20230801_1436\",\n",
    "    \"/run/user/30046150/gvfs/smb-share:server=data2.thecrick.org,share=lab-gutierrezm/home/shared/Lung on Chip/homuncu_loc_image_analysis/iAT1_iAT2_experiments/DAPI_SPC_PDPN_ZO1/images/20230801_20X_23-03-011B6_DAPI_SP-C_PDPN_ZO-1_Multichannel Z-Stack_20230801_1438\",\n",
    "    \"/run/user/30046150/gvfs/smb-share:server=data2.thecrick.org,share=lab-gutierrezm/home/shared/Lung on Chip/homuncu_loc_image_analysis/iAT1_iAT2_experiments/DAPI_SPC_PDPN_ZO1/images/20230801_20X_23-03-011B6_DAPI_SP-C_PDPN_ZO-1_Multichannel Z-Stack_20230801_1439\",\n",
    "    \"/run/user/30046150/gvfs/smb-share:server=data2.thecrick.org,share=lab-gutierrezm/home/shared/Lung on Chip/homuncu_loc_image_analysis/iAT1_iAT2_experiments/DAPI_SPC_PDPN_ZO1/images/20230801_20X_23-03-011B6_DAPI_SP-C_PDPN_ZO-1_Multichannel Z-Stack_20230801_1440\",\n",
    "    \"/run/user/30046150/gvfs/smb-share:server=data2.thecrick.org,share=lab-gutierrezm/home/shared/Lung on Chip/homuncu_loc_image_analysis/iAT1_iAT2_experiments/DAPI_NKX21_PDPN_ZO1/images/20230801_20X_23-03-002A5_DAPI_NKX201_PDPN_ZO-1_Multichannel Z-Stack_20230801_1442\",\n",
    "    \"/run/user/30046150/gvfs/smb-share:server=data2.thecrick.org,share=lab-gutierrezm/home/shared/Lung on Chip/homuncu_loc_image_analysis/iAT1_iAT2_experiments/DAPI_NKX21_PDPN_ZO1/images/20230801_20X_23-03-002A5_DAPI_NKX201_PDPN_ZO-1_Multichannel Z-Stack_20230801_1443\",\n",
    "    \"/run/user/30046150/gvfs/smb-share:server=data2.thecrick.org,share=lab-gutierrezm/home/shared/Lung on Chip/homuncu_loc_image_analysis/iAT1_iAT2_experiments/DAPI_SPC_PDPN_ZO1/images/20230801_20X_23-03-002A6_DAPI_SP-C_PDPN_ZO-1_Multichannel Z-Stack_20230801_1445\",\n",
    "    \"/run/user/30046150/gvfs/smb-share:server=data2.thecrick.org,share=lab-gutierrezm/home/shared/Lung on Chip/homuncu_loc_image_analysis/iAT1_iAT2_experiments/DAPI_NKX21_PDPN_ZO1/images/20230801_20X_23-03-002B5_DAPI_NKX2-1_PDPN_ZO-1_Multichannel Z-Stack_20230801_1446\",\n",
    "    \"/run/user/30046150/gvfs/smb-share:server=data2.thecrick.org,share=lab-gutierrezm/home/shared/Lung on Chip/homuncu_loc_image_analysis/iAT1_iAT2_experiments/DAPI_NKX21_PDPN_ZO1/images/20230801_20X_23-03-002B5_DAPI_NKX2-1_PDPN_ZO-1_Multichannel Z-Stack_20230801_1447\",\n",
    "    \"/run/user/30046150/gvfs/smb-share:server=data2.thecrick.org,share=lab-gutierrezm/home/shared/Lung on Chip/homuncu_loc_image_analysis/iAT1_iAT2_experiments/DAPI_NKX21_PDPN_ZO1/images/20230801_20X_23-03-002B5_DAPI_NKX2-1_PDPN_ZO-1_Multichannel Z-Stack_20230801_1448\",\n",
    "    \"/run/user/30046150/gvfs/smb-share:server=data2.thecrick.org,share=lab-gutierrezm/home/shared/Lung on Chip/homuncu_loc_image_analysis/iAT1_iAT2_experiments/DAPI_SPC_PDPN_ZO1/images/20230801_20X_23-03-002B6_DAPI_SP-C_PDPN_ZO-1_Multichannel Z-Stack_20230801_1449\",\n",
    "    \"/run/user/30046150/gvfs/smb-share:server=data2.thecrick.org,share=lab-gutierrezm/home/shared/Lung on Chip/homuncu_loc_image_analysis/iAT1_iAT2_experiments/DAPI_SPC_PDPN_ZO1/images/20230801_20X_23-03-002B6_DAPI_SP-C_PDPN_ZO-1_Multichannel Z-Stack_20230801_1450\",\n",
    "    \"/run/user/30046150/gvfs/smb-share:server=data2.thecrick.org,share=lab-gutierrezm/home/shared/Lung on Chip/homuncu_loc_image_analysis/iAT1_iAT2_experiments/DAPI_SPC_PDPN_ZO1/images/20230801_20X_23-03-002B6_DAPI_SP-C_PDPN_ZO-1_Multichannel Z-Stack_20230801_1451\",\n",
    "    \"/run/user/30046150/gvfs/smb-share:server=data2.thecrick.org,share=lab-gutierrezm/home/shared/Lung on Chip/homuncu_loc_image_analysis/iAT1_iAT2_experiments/DAPI_SPC_PDPN_ZO1/images/20230801_60X_23-03-002B6_DAPI_SP-C_PDPN_ZO-1_Multichannel Z-Stack_20230801_1452\"\n",
    "]\n"
   ]
  },
  {
   "cell_type": "code",
   "execution_count": 6,
   "id": "a6d51ae6-0f56-4912-a71c-9f1ddb2c236d",
   "metadata": {},
   "outputs": [],
   "source": [
    "image_fns = [f'{fn}.tif' for fn in image_fns]"
   ]
  },
  {
   "cell_type": "code",
   "execution_count": 7,
   "id": "7d75fcf8-d7fe-426b-a202-9b9df581c642",
   "metadata": {},
   "outputs": [],
   "source": [
    "from macrohet.notify import send_sms"
   ]
  },
  {
   "cell_type": "code",
   "execution_count": 10,
   "id": "d9e89ba2-65ca-415c-ab3e-781afe2a5dc0",
   "metadata": {
    "scrolled": true
   },
   "outputs": [
    {
     "data": {
      "application/vnd.jupyter.widget-view+json": {
       "model_id": "7fe0ae4872e14d2690bb4b32b9bf6631",
       "version_major": 2,
       "version_minor": 0
      },
      "text/plain": [
       "iterating over image volumes:   0%|          | 0/15 [00:00<?, ?it/s]"
      ]
     },
     "metadata": {},
     "output_type": "display_data"
    },
    {
     "data": {
      "application/vnd.jupyter.widget-view+json": {
       "model_id": "16ddd08e706346cbbc2cfe50e6f066ea",
       "version_major": 2,
       "version_minor": 0
      },
      "text/plain": [
       "finding where segmentation channel is expressed in Z:   0%|          | 0/61 [00:00<?, ?it/s]"
      ]
     },
     "metadata": {},
     "output_type": "display_data"
    },
    {
     "data": {
      "application/vnd.jupyter.widget-view+json": {
       "model_id": "840aae4f9e3b479783be57a5a1d1f863",
       "version_major": 2,
       "version_minor": 0
      },
      "text/plain": [
       "segmenting over select frames:   0%|          | 0/39 [00:00<?, ?it/s]"
      ]
     },
     "metadata": {},
     "output_type": "display_data"
    },
    {
     "name": "stderr",
     "output_type": "stream",
     "text": [
      "/home/dayn/miniconda3/envs/aero/lib/python3.9/site-packages/skimage/_shared/utils.py:157: UserWarning: Only one label was provided to `remove_small_objects`. Did you mean to use a boolean array?\n",
      "  return func(*args, **kwargs)\n",
      "WARNING: no mask pixels found\n",
      "[INFO][2023/10/06 01:40:12 PM] Localizing objects from segmentation...\n"
     ]
    },
    {
     "name": "stdout",
     "output_type": "stream",
     "text": [
      "Update sms failed to send\n"
     ]
    },
    {
     "name": "stderr",
     "output_type": "stream",
     "text": [
      "progress: 100%|███████████████████████████████████████████████████████████████████████████████████████████████████████████████████████████████████████████| 61/61 [00:02<00:00, 22.80it/s]\n",
      "[INFO][2023/10/06 01:40:15 PM] Objects are of type: <class 'dict'>\n",
      "[INFO][2023/10/06 01:40:15 PM] ...Found 18 objects in 60 frames.\n"
     ]
    },
    {
     "data": {
      "application/vnd.jupyter.widget-view+json": {
       "model_id": "a668d956713441ddbc0fcb0dd4c37aab",
       "version_major": 2,
       "version_minor": 0
      },
      "text/plain": [
       "Measuring Mtb properties of each cell:   0%|          | 0/18 [00:00<?, ?it/s]"
      ]
     },
     "metadata": {},
     "output_type": "display_data"
    },
    {
     "name": "stderr",
     "output_type": "stream",
     "text": [
      "[INFO][2023/10/06 01:40:15 PM] Loaded btrack: /home/dayn/analysis/btrack/btrack/libs/libtracker.so\n",
      "[INFO][2023/10/06 01:40:15 PM] Starting BayesianTracker session\n",
      "[INFO][2023/10/06 01:40:15 PM] Loading configuration file: /home/dayn/analysis/models/loc.json\n",
      "[INFO][2023/10/06 01:40:15 PM] Objects are of type: <class 'list'>\n",
      "[INFO][2023/10/06 01:40:15 PM] Starting tracking... \n",
      "[INFO][2023/10/06 01:40:15 PM] Update using: ['MOTION', 'VISUAL']\n",
      "[INFO][2023/10/06 01:40:15 PM] Tracking objects in frames 0 to 9 (of 60)...\n",
      "[INFO][2023/10/06 01:40:15 PM]  - Timing (Bayesian updates: 0.00ms, Linking: 0.01ms)\n",
      "[INFO][2023/10/06 01:40:15 PM]  - Probabilities (Link: 1.00000, Lost: 1.00000)\n",
      "[INFO][2023/10/06 01:40:15 PM]  - Stats (Active: 4, Lost: 17, Conflicts resolved: 0)\n",
      "[INFO][2023/10/06 01:40:15 PM] Tracking objects in frames 10 to 19 (of 60)...\n",
      "[INFO][2023/10/06 01:40:15 PM]  - Timing (Bayesian updates: 0.00ms, Linking: 0.01ms)\n",
      "[INFO][2023/10/06 01:40:15 PM]  - Probabilities (Link: 1.00000, Lost: 1.00000)\n",
      "[INFO][2023/10/06 01:40:15 PM]  - Stats (Active: 4, Lost: 17, Conflicts resolved: 0)\n",
      "[INFO][2023/10/06 01:40:15 PM] Tracking objects in frames 20 to 29 (of 60)...\n",
      "[INFO][2023/10/06 01:40:15 PM]  - Timing (Bayesian updates: 0.00ms, Linking: 0.01ms)\n",
      "[INFO][2023/10/06 01:40:15 PM]  - Probabilities (Link: 1.00000, Lost: 1.00000)\n",
      "[INFO][2023/10/06 01:40:15 PM]  - Stats (Active: 4, Lost: 17, Conflicts resolved: 0)\n",
      "[INFO][2023/10/06 01:40:15 PM] Tracking objects in frames 30 to 39 (of 60)...\n",
      "[INFO][2023/10/06 01:40:15 PM]  - Timing (Bayesian updates: 0.00ms, Linking: 0.02ms)\n",
      "[INFO][2023/10/06 01:40:15 PM]  - Probabilities (Link: 1.00000, Lost: 1.00000)\n",
      "[INFO][2023/10/06 01:40:15 PM] SUCCESS.\n",
      "[INFO][2023/10/06 01:40:15 PM]  - Found 7 tracks in 60 frames (in 0.0s)\n",
      "[INFO][2023/10/06 01:40:15 PM]  - Inserted 7 dummy objects to fill tracking gaps\n",
      "[INFO][2023/10/06 01:40:15 PM] Loading hypothesis model: particle_hypothesis\n",
      "[INFO][2023/10/06 01:40:15 PM] Calculating hypotheses (relax: True)...\n",
      "[INFO][2023/10/06 01:40:15 PM] Setting up constraints matrix for global optimisation...\n",
      "[INFO][2023/10/06 01:40:15 PM] Using GLPK options: {'tm_lim': 60000}...\n",
      "[INFO][2023/10/06 01:40:15 PM] Optimizing...\n",
      "[INFO][2023/10/06 01:40:15 PM] Optimization complete. (Solution: optimal)\n",
      "[INFO][2023/10/06 01:40:15 PM]  - Fates.FALSE_POSITIVE: 5 (of 7)\n",
      "[INFO][2023/10/06 01:40:15 PM]  - Fates.INITIALIZE_BORDER: 0 (of 1)\n",
      "[INFO][2023/10/06 01:40:15 PM]  - Fates.INITIALIZE_LAZY: 2 (of 6)\n",
      "[INFO][2023/10/06 01:40:15 PM]  - Fates.TERMINATE_BORDER: 0 (of 1)\n",
      "[INFO][2023/10/06 01:40:15 PM]  - Fates.TERMINATE_BACK: 1 (of 1)\n",
      "[INFO][2023/10/06 01:40:15 PM]  - Fates.TERMINATE_LAZY: 1 (of 5)\n",
      "[INFO][2023/10/06 01:40:15 PM]  - TOTAL: 21 hypotheses\n",
      "[INFO][2023/10/06 01:40:15 PM] Completed optimization with 7 tracks\n",
      "[INFO][2023/10/06 01:40:15 PM] Ending BayesianTracker session\n",
      "[INFO][2023/10/06 01:40:16 PM] Opening HDF file: /home/dayn/data/homuncu_loc_temp/seperate_tracks/iAT1_iAT2_experiments/DAPI_NKX21_PDPN_ZO1/sc_analyses/20230801_20X_23-03-011B5_DAPI_NKX2-1_PDPN_ZO-1_Multichannel Z-Stack_20230801_1435_iat1.h5...\n",
      "[INFO][2023/10/06 01:40:16 PM] Writing objects/obj_type_3\n",
      "[INFO][2023/10/06 01:40:16 PM] Writing labels/obj_type_3\n",
      "[INFO][2023/10/06 01:40:16 PM] Loading objects/obj_type_3 (12, 5) (12 filtered: None)\n",
      "[INFO][2023/10/06 01:40:16 PM] Writing properties/obj_type_3/axis_major_length (12,)\n",
      "[INFO][2023/10/06 01:40:16 PM] Writing properties/obj_type_3/axis_minor_length (12,)\n",
      "[INFO][2023/10/06 01:40:16 PM] Writing properties/obj_type_3/eccentricity (12,)\n",
      "[INFO][2023/10/06 01:40:16 PM] Writing properties/obj_type_3/area (12,)\n",
      "[INFO][2023/10/06 01:40:16 PM] Writing properties/obj_type_3/orientation (12,)\n",
      "[INFO][2023/10/06 01:40:16 PM] Writing properties/obj_type_3/mean_intensity (12, 4)\n",
      "[INFO][2023/10/06 01:40:16 PM] Writing properties/obj_type_3/class_id (12,)\n",
      "[INFO][2023/10/06 01:40:16 PM] Writing properties/obj_type_3/mtb_status (12,)\n",
      "[INFO][2023/10/06 01:40:16 PM] Writing properties/obj_type_3/mtb_area (12,)\n",
      "[INFO][2023/10/06 01:40:16 PM] Writing tracks/obj_type_3\n",
      "[INFO][2023/10/06 01:40:16 PM] Writing dummies/obj_type_3\n",
      "[INFO][2023/10/06 01:40:16 PM] Writing LBEP/obj_type_3\n",
      "[INFO][2023/10/06 01:40:16 PM] Writing fates/obj_type_3\n"
     ]
    },
    {
     "name": "stdout",
     "output_type": "stream",
     "text": [
      "GLPK Integer Optimizer 5.0\n",
      "28 rows, 21 columns, 28 non-zeros\n",
      "21 integer variables, all of which are binary\n",
      "Preprocessing...\n",
      "14 rows, 21 columns, 28 non-zeros\n",
      "21 integer variables, all of which are binary\n",
      "Scaling...\n",
      " A: min|aij| =  1.000e+00  max|aij| =  1.000e+00  ratio =  1.000e+00\n",
      "Problem data seem to be well scaled\n",
      "Constructing initial basis...\n",
      "Size of triangular part is 14\n",
      "Solving LP relaxation...\n",
      "GLPK Simplex Optimizer 5.0\n",
      "14 rows, 21 columns, 28 non-zeros\n",
      "*     0: obj =   7.842254258e+01 inf =   0.000e+00 (5)\n",
      "*     5: obj =   3.611819567e+01 inf =   0.000e+00 (0)\n",
      "OPTIMAL LP SOLUTION FOUND\n",
      "Integer optimization begins...\n",
      "Long-step dual simplex will be used\n",
      "+     5: mip =     not found yet >=              -inf        (1; 0)\n",
      "+     5: >>>>>   3.611819567e+01 >=   3.611819567e+01   0.0% (1; 0)\n",
      "+     5: mip =   3.611819567e+01 >=     tree is empty   0.0% (0; 1)\n",
      "INTEGER OPTIMAL SOLUTION FOUND\n"
     ]
    },
    {
     "name": "stderr",
     "output_type": "stream",
     "text": [
      "[INFO][2023/10/06 01:40:20 PM] Closing HDF file: /home/dayn/data/homuncu_loc_temp/seperate_tracks/iAT1_iAT2_experiments/DAPI_NKX21_PDPN_ZO1/sc_analyses/20230801_20X_23-03-011B5_DAPI_NKX2-1_PDPN_ZO-1_Multichannel Z-Stack_20230801_1435_iat1.h5\n"
     ]
    },
    {
     "data": {
      "application/vnd.jupyter.widget-view+json": {
       "model_id": "e029d1be89054de8a2917fa9de70177c",
       "version_major": 2,
       "version_minor": 0
      },
      "text/plain": [
       "finding where segmentation channel is expressed in Z:   0%|          | 0/61 [00:00<?, ?it/s]"
      ]
     },
     "metadata": {},
     "output_type": "display_data"
    },
    {
     "data": {
      "application/vnd.jupyter.widget-view+json": {
       "model_id": "9cf33f6ce28b44e7828e10c34e0fe24c",
       "version_major": 2,
       "version_minor": 0
      },
      "text/plain": [
       "segmenting over select frames:   0%|          | 0/46 [00:00<?, ?it/s]"
      ]
     },
     "metadata": {},
     "output_type": "display_data"
    },
    {
     "name": "stderr",
     "output_type": "stream",
     "text": [
      "[INFO][2023/10/06 01:58:15 PM] Localizing objects from segmentation...\n"
     ]
    },
    {
     "name": "stdout",
     "output_type": "stream",
     "text": [
      "Update sms failed to send\n"
     ]
    },
    {
     "name": "stderr",
     "output_type": "stream",
     "text": [
      "progress: 100%|███████████████████████████████████████████████████████████████████████████████████████████████████████████████████████████████████████████| 61/61 [00:03<00:00, 15.42it/s]\n",
      "[INFO][2023/10/06 01:58:19 PM] Objects are of type: <class 'dict'>\n",
      "[INFO][2023/10/06 01:58:19 PM] ...Found 28 objects in 60 frames.\n"
     ]
    },
    {
     "data": {
      "application/vnd.jupyter.widget-view+json": {
       "model_id": "b3ce92c16463492d937fe9cdd8f16880",
       "version_major": 2,
       "version_minor": 0
      },
      "text/plain": [
       "Measuring Mtb properties of each cell:   0%|          | 0/28 [00:00<?, ?it/s]"
      ]
     },
     "metadata": {},
     "output_type": "display_data"
    },
    {
     "name": "stderr",
     "output_type": "stream",
     "text": [
      "[INFO][2023/10/06 01:58:20 PM] Loaded btrack: /home/dayn/analysis/btrack/btrack/libs/libtracker.so\n",
      "[INFO][2023/10/06 01:58:20 PM] Starting BayesianTracker session\n",
      "[INFO][2023/10/06 01:58:20 PM] Loading configuration file: /home/dayn/analysis/models/loc.json\n",
      "[INFO][2023/10/06 01:58:20 PM] Objects are of type: <class 'list'>\n",
      "[INFO][2023/10/06 01:58:20 PM] Starting tracking... \n",
      "[INFO][2023/10/06 01:58:20 PM] Update using: ['MOTION', 'VISUAL']\n",
      "[INFO][2023/10/06 01:58:20 PM] Tracking objects in frames 0 to 9 (of 60)...\n",
      "[INFO][2023/10/06 01:58:20 PM]  - Timing (Bayesian updates: 0.00ms, Linking: 0.01ms)\n",
      "[INFO][2023/10/06 01:58:20 PM]  - Probabilities (Link: 1.00000, Lost: 1.00000)\n",
      "[INFO][2023/10/06 01:58:20 PM]  - Stats (Active: 3, Lost: 21, Conflicts resolved: 0)\n",
      "[INFO][2023/10/06 01:58:20 PM] Tracking objects in frames 10 to 19 (of 60)...\n",
      "[INFO][2023/10/06 01:58:20 PM]  - Timing (Bayesian updates: 0.00ms, Linking: 0.01ms)\n",
      "[INFO][2023/10/06 01:58:20 PM]  - Probabilities (Link: 1.00000, Lost: 1.00000)\n",
      "[INFO][2023/10/06 01:58:20 PM]  - Stats (Active: 3, Lost: 21, Conflicts resolved: 0)\n",
      "[INFO][2023/10/06 01:58:20 PM] Tracking objects in frames 20 to 29 (of 60)...\n",
      "[INFO][2023/10/06 01:58:20 PM]  - Timing (Bayesian updates: 0.00ms, Linking: 0.02ms)\n",
      "[INFO][2023/10/06 01:58:20 PM]  - Probabilities (Link: 1.00000, Lost: 1.00000)\n",
      "[INFO][2023/10/06 01:58:20 PM]  - Stats (Active: 2, Lost: 22, Conflicts resolved: 0)\n",
      "[INFO][2023/10/06 01:58:20 PM] Tracking objects in frames 30 to 39 (of 60)...\n",
      "[INFO][2023/10/06 01:58:20 PM]  - Timing (Bayesian updates: 0.00ms, Linking: 0.01ms)\n",
      "[INFO][2023/10/06 01:58:20 PM]  - Probabilities (Link: 1.00000, Lost: 1.00000)\n",
      "[INFO][2023/10/06 01:58:20 PM] SUCCESS.\n",
      "[INFO][2023/10/06 01:58:20 PM]  - Found 11 tracks in 60 frames (in 0.0s)\n",
      "[INFO][2023/10/06 01:58:20 PM]  - Inserted 0 dummy objects to fill tracking gaps\n",
      "[INFO][2023/10/06 01:58:20 PM] Loading hypothesis model: particle_hypothesis\n",
      "[INFO][2023/10/06 01:58:20 PM] Calculating hypotheses (relax: True)...\n",
      "[INFO][2023/10/06 01:58:20 PM] Setting up constraints matrix for global optimisation...\n",
      "[INFO][2023/10/06 01:58:20 PM] Using GLPK options: {'tm_lim': 60000}...\n",
      "[INFO][2023/10/06 01:58:20 PM] Optimizing...\n",
      "[INFO][2023/10/06 01:58:20 PM] Optimization complete. (Solution: optimal)\n",
      "[INFO][2023/10/06 01:58:20 PM]  - Fates.FALSE_POSITIVE: 11 (of 11)\n",
      "[INFO][2023/10/06 01:58:20 PM]  - Fates.INITIALIZE_LAZY: 0 (of 11)\n",
      "[INFO][2023/10/06 01:58:20 PM]  - Fates.TERMINATE_BACK: 0 (of 2)\n",
      "[INFO][2023/10/06 01:58:20 PM]  - Fates.TERMINATE_LAZY: 0 (of 9)\n",
      "[INFO][2023/10/06 01:58:20 PM]  - TOTAL: 33 hypotheses\n",
      "[INFO][2023/10/06 01:58:20 PM] Completed optimization with 11 tracks\n",
      "[INFO][2023/10/06 01:58:20 PM] Ending BayesianTracker session\n",
      "[INFO][2023/10/06 01:58:20 PM] Opening HDF file: /home/dayn/data/homuncu_loc_temp/seperate_tracks/iAT1_iAT2_experiments/DAPI_NKX21_PDPN_ZO1/sc_analyses/20230801_20X_23-03-011B5_DAPI_NKX2-1_PDPN_ZO-1_Multichannel Z-Stack_20230801_1436_iat1.h5...\n",
      "[INFO][2023/10/06 01:58:20 PM] Writing objects/obj_type_3\n",
      "[INFO][2023/10/06 01:58:20 PM] Writing labels/obj_type_3\n",
      "[INFO][2023/10/06 01:58:20 PM] Loading objects/obj_type_3 (14, 5) (14 filtered: None)\n",
      "[INFO][2023/10/06 01:58:20 PM] Writing properties/obj_type_3/axis_major_length (14,)\n",
      "[INFO][2023/10/06 01:58:20 PM] Writing properties/obj_type_3/axis_minor_length (14,)\n",
      "[INFO][2023/10/06 01:58:20 PM] Writing properties/obj_type_3/eccentricity (14,)\n",
      "[INFO][2023/10/06 01:58:20 PM] Writing properties/obj_type_3/area (14,)\n",
      "[INFO][2023/10/06 01:58:20 PM] Writing properties/obj_type_3/orientation (14,)\n",
      "[INFO][2023/10/06 01:58:20 PM] Writing properties/obj_type_3/mean_intensity (14, 4)\n",
      "[INFO][2023/10/06 01:58:20 PM] Writing properties/obj_type_3/class_id (14,)\n",
      "[INFO][2023/10/06 01:58:20 PM] Writing properties/obj_type_3/mtb_status (14,)\n",
      "[INFO][2023/10/06 01:58:20 PM] Writing properties/obj_type_3/mtb_area (14,)\n",
      "[INFO][2023/10/06 01:58:20 PM] Writing tracks/obj_type_3\n",
      "[INFO][2023/10/06 01:58:20 PM] Writing LBEP/obj_type_3\n",
      "[INFO][2023/10/06 01:58:20 PM] Writing fates/obj_type_3\n"
     ]
    },
    {
     "name": "stdout",
     "output_type": "stream",
     "text": [
      "GLPK Integer Optimizer 5.0\n",
      "44 rows, 33 columns, 44 non-zeros\n",
      "33 integer variables, all of which are binary\n",
      "Preprocessing...\n",
      "22 rows, 33 columns, 44 non-zeros\n",
      "33 integer variables, all of which are binary\n",
      "Scaling...\n",
      " A: min|aij| =  1.000e+00  max|aij| =  1.000e+00  ratio =  1.000e+00\n",
      "Problem data seem to be well scaled\n",
      "Constructing initial basis...\n",
      "Size of triangular part is 22\n",
      "Solving LP relaxation...\n",
      "GLPK Simplex Optimizer 5.0\n",
      "22 rows, 33 columns, 44 non-zeros\n",
      "*     0: obj =   1.350926288e+02 inf =   0.000e+00 (11)\n",
      "*    11: obj =   3.223619130e+01 inf =   0.000e+00 (0)\n",
      "OPTIMAL LP SOLUTION FOUND\n",
      "Integer optimization begins...\n",
      "Long-step dual simplex will be used\n",
      "+    11: mip =     not found yet >=              -inf        (1; 0)\n",
      "+    11: >>>>>   3.223619130e+01 >=   3.223619130e+01   0.0% (1; 0)\n",
      "+    11: mip =   3.223619130e+01 >=     tree is empty   0.0% (0; 1)\n",
      "INTEGER OPTIMAL SOLUTION FOUND\n"
     ]
    },
    {
     "name": "stderr",
     "output_type": "stream",
     "text": [
      "[INFO][2023/10/06 01:58:24 PM] Closing HDF file: /home/dayn/data/homuncu_loc_temp/seperate_tracks/iAT1_iAT2_experiments/DAPI_NKX21_PDPN_ZO1/sc_analyses/20230801_20X_23-03-011B5_DAPI_NKX2-1_PDPN_ZO-1_Multichannel Z-Stack_20230801_1436_iat1.h5\n"
     ]
    },
    {
     "data": {
      "application/vnd.jupyter.widget-view+json": {
       "model_id": "17ce97d523fe4e4792bf2a4fca57eb83",
       "version_major": 2,
       "version_minor": 0
      },
      "text/plain": [
       "finding where segmentation channel is expressed in Z:   0%|          | 0/51 [00:00<?, ?it/s]"
      ]
     },
     "metadata": {},
     "output_type": "display_data"
    },
    {
     "data": {
      "application/vnd.jupyter.widget-view+json": {
       "model_id": "6f17f7ce5d504c679c1200a0db9f045b",
       "version_major": 2,
       "version_minor": 0
      },
      "text/plain": [
       "segmenting over select frames:   0%|          | 0/17 [00:00<?, ?it/s]"
      ]
     },
     "metadata": {},
     "output_type": "display_data"
    },
    {
     "name": "stderr",
     "output_type": "stream",
     "text": [
      "[INFO][2023/10/06 02:09:14 PM] Localizing objects from segmentation...\n"
     ]
    },
    {
     "name": "stdout",
     "output_type": "stream",
     "text": [
      "Update sms failed to send\n"
     ]
    },
    {
     "name": "stderr",
     "output_type": "stream",
     "text": [
      "progress: 100%|███████████████████████████████████████████████████████████████████████████████████████████████████████████████████████████████████████████| 51/51 [00:03<00:00, 13.01it/s]\n",
      "[INFO][2023/10/06 02:09:18 PM] Objects are of type: <class 'dict'>\n",
      "[INFO][2023/10/06 02:09:18 PM] ...Found 615 objects in 35 frames.\n"
     ]
    },
    {
     "data": {
      "application/vnd.jupyter.widget-view+json": {
       "model_id": "f73ee6d10f9c4c969e41dbe50c09a38f",
       "version_major": 2,
       "version_minor": 0
      },
      "text/plain": [
       "Measuring Mtb properties of each cell:   0%|          | 0/615 [00:00<?, ?it/s]"
      ]
     },
     "metadata": {},
     "output_type": "display_data"
    },
    {
     "name": "stderr",
     "output_type": "stream",
     "text": [
      "[INFO][2023/10/06 02:09:26 PM] Loaded btrack: /home/dayn/analysis/btrack/btrack/libs/libtracker.so\n",
      "[INFO][2023/10/06 02:09:26 PM] Starting BayesianTracker session\n",
      "[INFO][2023/10/06 02:09:26 PM] Loading configuration file: /home/dayn/analysis/models/loc.json\n",
      "[INFO][2023/10/06 02:09:26 PM] Objects are of type: <class 'list'>\n",
      "[INFO][2023/10/06 02:09:26 PM] Starting tracking... \n",
      "[INFO][2023/10/06 02:09:26 PM] Update using: ['MOTION', 'VISUAL']\n",
      "[INFO][2023/10/06 02:09:26 PM] Tracking objects in frames 0 to 9 (of 35)...\n",
      "[INFO][2023/10/06 02:09:26 PM]  - Timing (Bayesian updates: 0.10ms, Linking: 0.21ms)\n",
      "[INFO][2023/10/06 02:09:26 PM]  - Probabilities (Link: 1.00000, Lost: 1.00000)\n",
      "[INFO][2023/10/06 02:09:26 PM]  - Stats (Active: 72, Lost: 377, Conflicts resolved: 43)\n",
      "[INFO][2023/10/06 02:09:26 PM] Tracking objects in frames 10 to 19 (of 35)...\n",
      "[INFO][2023/10/06 02:09:26 PM]  - Timing (Bayesian updates: 0.05ms, Linking: 0.20ms)\n",
      "[INFO][2023/10/06 02:09:26 PM]  - Probabilities (Link: 1.00000, Lost: 1.00000)\n",
      "[INFO][2023/10/06 02:09:26 PM] SUCCESS.\n",
      "[INFO][2023/10/06 02:09:26 PM]  - Found 159 tracks in 35 frames (in 0.0s)\n",
      "[INFO][2023/10/06 02:09:26 PM]  - Inserted 40 dummy objects to fill tracking gaps\n",
      "[INFO][2023/10/06 02:09:26 PM] Loading hypothesis model: particle_hypothesis\n",
      "[INFO][2023/10/06 02:09:26 PM] Calculating hypotheses (relax: True)...\n",
      "[INFO][2023/10/06 02:09:26 PM] Setting up constraints matrix for global optimisation...\n",
      "[INFO][2023/10/06 02:09:26 PM] Using GLPK options: {'tm_lim': 60000}...\n",
      "[INFO][2023/10/06 02:09:26 PM] Optimizing...\n",
      "[INFO][2023/10/06 02:09:26 PM] Optimization complete. (Solution: optimal)\n",
      "[INFO][2023/10/06 02:09:26 PM]  - Fates.FALSE_POSITIVE: 131 (of 159)\n",
      "[INFO][2023/10/06 02:09:26 PM]  - Fates.INITIALIZE_BORDER: 2 (of 7)\n",
      "[INFO][2023/10/06 02:09:26 PM]  - Fates.INITIALIZE_LAZY: 26 (of 152)\n",
      "[INFO][2023/10/06 02:09:26 PM]  - Fates.TERMINATE_BORDER: 2 (of 8)\n",
      "[INFO][2023/10/06 02:09:26 PM]  - Fates.TERMINATE_BACK: 4 (of 25)\n",
      "[INFO][2023/10/06 02:09:26 PM]  - Fates.TERMINATE_LAZY: 22 (of 126)\n",
      "[INFO][2023/10/06 02:09:26 PM]  - TOTAL: 477 hypotheses\n",
      "[INFO][2023/10/06 02:09:26 PM] Completed optimization with 159 tracks\n",
      "[INFO][2023/10/06 02:09:26 PM] Ending BayesianTracker session\n",
      "[INFO][2023/10/06 02:09:26 PM] Opening HDF file: /home/dayn/data/homuncu_loc_temp/seperate_tracks/iAT1_iAT2_experiments/DAPI_SPC_PDPN_ZO1/sc_analyses/20230801_20X_23-03-011B6_DAPI_SP-C_PDPN_ZO-1_Multichannel Z-Stack_20230801_1438_iat1.h5...\n",
      "[INFO][2023/10/06 02:09:26 PM] Writing objects/obj_type_3\n",
      "[INFO][2023/10/06 02:09:26 PM] Writing labels/obj_type_3\n",
      "[INFO][2023/10/06 02:09:26 PM] Loading objects/obj_type_3 (395, 5) (395 filtered: None)\n",
      "[INFO][2023/10/06 02:09:26 PM] Writing properties/obj_type_3/axis_major_length (395,)\n",
      "[INFO][2023/10/06 02:09:26 PM] Writing properties/obj_type_3/axis_minor_length (395,)\n",
      "[INFO][2023/10/06 02:09:26 PM] Writing properties/obj_type_3/eccentricity (395,)\n",
      "[INFO][2023/10/06 02:09:26 PM] Writing properties/obj_type_3/area (395,)\n",
      "[INFO][2023/10/06 02:09:26 PM] Writing properties/obj_type_3/orientation (395,)\n",
      "[INFO][2023/10/06 02:09:26 PM] Writing properties/obj_type_3/mean_intensity (395, 4)\n",
      "[INFO][2023/10/06 02:09:26 PM] Writing properties/obj_type_3/class_id (395,)\n",
      "[INFO][2023/10/06 02:09:26 PM] Writing properties/obj_type_3/mtb_status (395,)\n",
      "[INFO][2023/10/06 02:09:26 PM] Writing properties/obj_type_3/mtb_area (395,)\n",
      "[INFO][2023/10/06 02:09:26 PM] Writing tracks/obj_type_3\n",
      "[INFO][2023/10/06 02:09:26 PM] Writing dummies/obj_type_3\n",
      "[INFO][2023/10/06 02:09:26 PM] Writing LBEP/obj_type_3\n",
      "[INFO][2023/10/06 02:09:26 PM] Writing fates/obj_type_3\n"
     ]
    },
    {
     "name": "stdout",
     "output_type": "stream",
     "text": [
      "GLPK Integer Optimizer 5.0\n",
      "636 rows, 477 columns, 636 non-zeros\n",
      "477 integer variables, all of which are binary\n",
      "Preprocessing...\n",
      "318 rows, 477 columns, 636 non-zeros\n",
      "477 integer variables, all of which are binary\n",
      "Scaling...\n",
      " A: min|aij| =  1.000e+00  max|aij| =  1.000e+00  ratio =  1.000e+00\n",
      "Problem data seem to be well scaled\n",
      "Constructing initial basis...\n",
      "Size of triangular part is 318\n",
      "Solving LP relaxation...\n",
      "GLPK Simplex Optimizer 5.0\n",
      "318 rows, 477 columns, 636 non-zeros\n",
      "*     0: obj =   1.933404357e+03 inf =   0.000e+00 (131)\n",
      "*   131: obj =   7.661816566e+02 inf =   0.000e+00 (0)\n",
      "OPTIMAL LP SOLUTION FOUND\n",
      "Integer optimization begins...\n",
      "Long-step dual simplex will be used\n",
      "+   131: mip =     not found yet >=              -inf        (1; 0)\n",
      "+   131: >>>>>   7.661816566e+02 >=   7.661816566e+02   0.0% (1; 0)\n",
      "+   131: mip =   7.661816566e+02 >=     tree is empty   0.0% (0; 1)\n",
      "INTEGER OPTIMAL SOLUTION FOUND\n"
     ]
    },
    {
     "name": "stderr",
     "output_type": "stream",
     "text": [
      "[INFO][2023/10/06 02:09:29 PM] Closing HDF file: /home/dayn/data/homuncu_loc_temp/seperate_tracks/iAT1_iAT2_experiments/DAPI_SPC_PDPN_ZO1/sc_analyses/20230801_20X_23-03-011B6_DAPI_SP-C_PDPN_ZO-1_Multichannel Z-Stack_20230801_1438_iat1.h5\n"
     ]
    },
    {
     "data": {
      "application/vnd.jupyter.widget-view+json": {
       "model_id": "e8c230e527304b1b9c1aae63d6358485",
       "version_major": 2,
       "version_minor": 0
      },
      "text/plain": [
       "finding where segmentation channel is expressed in Z:   0%|          | 0/51 [00:00<?, ?it/s]"
      ]
     },
     "metadata": {},
     "output_type": "display_data"
    },
    {
     "data": {
      "application/vnd.jupyter.widget-view+json": {
       "model_id": "05243b754db24a50a485795e02676f4e",
       "version_major": 2,
       "version_minor": 0
      },
      "text/plain": [
       "segmenting over select frames:   0%|          | 0/16 [00:00<?, ?it/s]"
      ]
     },
     "metadata": {},
     "output_type": "display_data"
    },
    {
     "name": "stderr",
     "output_type": "stream",
     "text": [
      "[INFO][2023/10/06 02:21:11 PM] Localizing objects from segmentation...\n"
     ]
    },
    {
     "name": "stdout",
     "output_type": "stream",
     "text": [
      "Update sms failed to send\n"
     ]
    },
    {
     "name": "stderr",
     "output_type": "stream",
     "text": [
      "progress: 100%|███████████████████████████████████████████████████████████████████████████████████████████████████████████████████████████████████████████| 51/51 [00:03<00:00, 16.54it/s]\n",
      "[INFO][2023/10/06 02:21:15 PM] Objects are of type: <class 'dict'>\n",
      "[INFO][2023/10/06 02:21:15 PM] ...Found 688 objects in 39 frames.\n"
     ]
    },
    {
     "data": {
      "application/vnd.jupyter.widget-view+json": {
       "model_id": "9fd5e822f8cd418aaeee87b1f1db5185",
       "version_major": 2,
       "version_minor": 0
      },
      "text/plain": [
       "Measuring Mtb properties of each cell:   0%|          | 0/688 [00:00<?, ?it/s]"
      ]
     },
     "metadata": {},
     "output_type": "display_data"
    },
    {
     "name": "stderr",
     "output_type": "stream",
     "text": [
      "[INFO][2023/10/06 02:21:29 PM] Loaded btrack: /home/dayn/analysis/btrack/btrack/libs/libtracker.so\n",
      "[INFO][2023/10/06 02:21:29 PM] Starting BayesianTracker session\n",
      "[INFO][2023/10/06 02:21:29 PM] Loading configuration file: /home/dayn/analysis/models/loc.json\n",
      "[INFO][2023/10/06 02:21:29 PM] Objects are of type: <class 'list'>\n",
      "[INFO][2023/10/06 02:21:29 PM] Starting tracking... \n",
      "[INFO][2023/10/06 02:21:29 PM] Update using: ['MOTION', 'VISUAL']\n",
      "[INFO][2023/10/06 02:21:29 PM] Tracking objects in frames 0 to 9 (of 39)...\n",
      "[INFO][2023/10/06 02:21:29 PM]  - Timing (Bayesian updates: 0.13ms, Linking: 0.31ms)\n",
      "[INFO][2023/10/06 02:21:29 PM]  - Probabilities (Link: 1.00000, Lost: 1.00000)\n",
      "[INFO][2023/10/06 02:21:29 PM]  - Stats (Active: 85, Lost: 736, Conflicts resolved: 54)\n",
      "[INFO][2023/10/06 02:21:29 PM] Tracking objects in frames 10 to 19 (of 39)...\n",
      "[INFO][2023/10/06 02:21:29 PM]  - Timing (Bayesian updates: 0.07ms, Linking: 0.15ms)\n",
      "[INFO][2023/10/06 02:21:29 PM]  - Probabilities (Link: 1.00000, Lost: 1.00000)\n",
      "[INFO][2023/10/06 02:21:29 PM] SUCCESS.\n",
      "[INFO][2023/10/06 02:21:29 PM]  - Found 221 tracks in 39 frames (in 0.0s)\n",
      "[INFO][2023/10/06 02:21:29 PM]  - Inserted 44 dummy objects to fill tracking gaps\n",
      "[INFO][2023/10/06 02:21:29 PM] Loading hypothesis model: particle_hypothesis\n",
      "[INFO][2023/10/06 02:21:29 PM] Calculating hypotheses (relax: True)...\n",
      "[INFO][2023/10/06 02:21:29 PM] Setting up constraints matrix for global optimisation...\n",
      "[INFO][2023/10/06 02:21:29 PM] Using GLPK options: {'tm_lim': 60000}...\n",
      "[INFO][2023/10/06 02:21:29 PM] Optimizing...\n",
      "[INFO][2023/10/06 02:21:29 PM] Optimization complete. (Solution: optimal)\n",
      "[INFO][2023/10/06 02:21:29 PM]  - Fates.FALSE_POSITIVE: 194 (of 221)\n",
      "[INFO][2023/10/06 02:21:29 PM]  - Fates.INITIALIZE_BORDER: 1 (of 2)\n",
      "[INFO][2023/10/06 02:21:29 PM]  - Fates.INITIALIZE_LAZY: 26 (of 219)\n",
      "[INFO][2023/10/06 02:21:29 PM]  - Fates.TERMINATE_BORDER: 0 (of 1)\n",
      "[INFO][2023/10/06 02:21:29 PM]  - Fates.TERMINATE_BACK: 8 (of 34)\n",
      "[INFO][2023/10/06 02:21:29 PM]  - Fates.TERMINATE_LAZY: 19 (of 186)\n",
      "[INFO][2023/10/06 02:21:29 PM]  - TOTAL: 663 hypotheses\n",
      "[INFO][2023/10/06 02:21:29 PM] Completed optimization with 221 tracks\n",
      "[INFO][2023/10/06 02:21:29 PM] Ending BayesianTracker session\n",
      "[INFO][2023/10/06 02:21:29 PM] Opening HDF file: /home/dayn/data/homuncu_loc_temp/seperate_tracks/iAT1_iAT2_experiments/DAPI_SPC_PDPN_ZO1/sc_analyses/20230801_20X_23-03-011B6_DAPI_SP-C_PDPN_ZO-1_Multichannel Z-Stack_20230801_1439_iat1.h5...\n",
      "[INFO][2023/10/06 02:21:29 PM] Writing objects/obj_type_3\n",
      "[INFO][2023/10/06 02:21:29 PM] Writing labels/obj_type_3\n",
      "[INFO][2023/10/06 02:21:29 PM] Loading objects/obj_type_3 (451, 5) (451 filtered: None)\n",
      "[INFO][2023/10/06 02:21:29 PM] Writing properties/obj_type_3/axis_major_length (451,)\n",
      "[INFO][2023/10/06 02:21:29 PM] Writing properties/obj_type_3/axis_minor_length (451,)\n",
      "[INFO][2023/10/06 02:21:29 PM] Writing properties/obj_type_3/eccentricity (451,)\n",
      "[INFO][2023/10/06 02:21:29 PM] Writing properties/obj_type_3/area (451,)\n",
      "[INFO][2023/10/06 02:21:29 PM] Writing properties/obj_type_3/orientation (451,)\n",
      "[INFO][2023/10/06 02:21:29 PM] Writing properties/obj_type_3/mean_intensity (451, 4)\n",
      "[INFO][2023/10/06 02:21:29 PM] Writing properties/obj_type_3/class_id (451,)\n",
      "[INFO][2023/10/06 02:21:29 PM] Writing properties/obj_type_3/mtb_status (451,)\n",
      "[INFO][2023/10/06 02:21:29 PM] Writing properties/obj_type_3/mtb_area (451,)\n",
      "[INFO][2023/10/06 02:21:29 PM] Writing tracks/obj_type_3\n",
      "[INFO][2023/10/06 02:21:29 PM] Writing dummies/obj_type_3\n",
      "[INFO][2023/10/06 02:21:29 PM] Writing LBEP/obj_type_3\n",
      "[INFO][2023/10/06 02:21:29 PM] Writing fates/obj_type_3\n"
     ]
    },
    {
     "name": "stdout",
     "output_type": "stream",
     "text": [
      "GLPK Integer Optimizer 5.0\n",
      "884 rows, 663 columns, 884 non-zeros\n",
      "663 integer variables, all of which are binary\n",
      "Preprocessing...\n",
      "442 rows, 663 columns, 884 non-zeros\n",
      "663 integer variables, all of which are binary\n",
      "Scaling...\n",
      " A: min|aij| =  1.000e+00  max|aij| =  1.000e+00  ratio =  1.000e+00\n",
      "Problem data seem to be well scaled\n",
      "Constructing initial basis...\n",
      "Size of triangular part is 442\n",
      "Solving LP relaxation...\n",
      "GLPK Simplex Optimizer 5.0\n",
      "442 rows, 663 columns, 884 non-zeros\n",
      "*     0: obj =   2.745398745e+03 inf =   0.000e+00 (194)\n",
      "*   194: obj =   9.831435546e+02 inf =   0.000e+00 (0)\n",
      "OPTIMAL LP SOLUTION FOUND\n",
      "Integer optimization begins...\n",
      "Long-step dual simplex will be used\n",
      "+   194: mip =     not found yet >=              -inf        (1; 0)\n",
      "+   194: >>>>>   9.831435546e+02 >=   9.831435546e+02   0.0% (1; 0)\n",
      "+   194: mip =   9.831435546e+02 >=     tree is empty   0.0% (0; 1)\n",
      "INTEGER OPTIMAL SOLUTION FOUND\n"
     ]
    },
    {
     "name": "stderr",
     "output_type": "stream",
     "text": [
      "[INFO][2023/10/06 02:21:32 PM] Closing HDF file: /home/dayn/data/homuncu_loc_temp/seperate_tracks/iAT1_iAT2_experiments/DAPI_SPC_PDPN_ZO1/sc_analyses/20230801_20X_23-03-011B6_DAPI_SP-C_PDPN_ZO-1_Multichannel Z-Stack_20230801_1439_iat1.h5\n"
     ]
    },
    {
     "data": {
      "application/vnd.jupyter.widget-view+json": {
       "model_id": "be54bda05fd8403f8972ce293af2ad5f",
       "version_major": 2,
       "version_minor": 0
      },
      "text/plain": [
       "finding where segmentation channel is expressed in Z:   0%|          | 0/51 [00:00<?, ?it/s]"
      ]
     },
     "metadata": {},
     "output_type": "display_data"
    },
    {
     "data": {
      "application/vnd.jupyter.widget-view+json": {
       "model_id": "1daaf7e20e384a1f9c7d2d726ee74ec6",
       "version_major": 2,
       "version_minor": 0
      },
      "text/plain": [
       "segmenting over select frames:   0%|          | 0/16 [00:00<?, ?it/s]"
      ]
     },
     "metadata": {},
     "output_type": "display_data"
    },
    {
     "name": "stderr",
     "output_type": "stream",
     "text": [
      "[INFO][2023/10/06 02:39:15 PM] Localizing objects from segmentation...\n"
     ]
    },
    {
     "name": "stdout",
     "output_type": "stream",
     "text": [
      "Update sms failed to send\n"
     ]
    },
    {
     "name": "stderr",
     "output_type": "stream",
     "text": [
      "progress: 100%|███████████████████████████████████████████████████████████████████████████████████████████████████████████████████████████████████████████| 51/51 [00:04<00:00, 10.99it/s]\n",
      "[INFO][2023/10/06 02:39:19 PM] Objects are of type: <class 'dict'>\n",
      "[INFO][2023/10/06 02:39:19 PM] ...Found 1009 objects in 38 frames.\n"
     ]
    },
    {
     "data": {
      "application/vnd.jupyter.widget-view+json": {
       "model_id": "1f487de9b1d8462791d9f91eaa76048b",
       "version_major": 2,
       "version_minor": 0
      },
      "text/plain": [
       "Measuring Mtb properties of each cell:   0%|          | 0/1009 [00:00<?, ?it/s]"
      ]
     },
     "metadata": {},
     "output_type": "display_data"
    },
    {
     "name": "stderr",
     "output_type": "stream",
     "text": [
      "[INFO][2023/10/06 02:39:36 PM] Loaded btrack: /home/dayn/analysis/btrack/btrack/libs/libtracker.so\n",
      "[INFO][2023/10/06 02:39:36 PM] Starting BayesianTracker session\n",
      "[INFO][2023/10/06 02:39:36 PM] Loading configuration file: /home/dayn/analysis/models/loc.json\n",
      "[INFO][2023/10/06 02:39:36 PM] Objects are of type: <class 'list'>\n",
      "[INFO][2023/10/06 02:39:36 PM] Starting tracking... \n",
      "[INFO][2023/10/06 02:39:36 PM] Update using: ['MOTION', 'VISUAL']\n",
      "[INFO][2023/10/06 02:39:36 PM] Tracking objects in frames 0 to 9 (of 38)...\n",
      "[INFO][2023/10/06 02:39:36 PM]  - Timing (Bayesian updates: 0.74ms, Linking: 0.79ms)\n",
      "[INFO][2023/10/06 02:39:36 PM]  - Probabilities (Link: 1.00000, Lost: 1.00000)\n",
      "[INFO][2023/10/06 02:39:36 PM]  - Stats (Active: 112, Lost: 742, Conflicts resolved: 98)\n",
      "[INFO][2023/10/06 02:39:36 PM] Tracking objects in frames 10 to 19 (of 38)...\n",
      "[INFO][2023/10/06 02:39:36 PM]  - Timing (Bayesian updates: 0.12ms, Linking: 0.34ms)\n",
      "[INFO][2023/10/06 02:39:36 PM]  - Probabilities (Link: 1.00000, Lost: 1.00000)\n",
      "[INFO][2023/10/06 02:39:36 PM] SUCCESS.\n",
      "[INFO][2023/10/06 02:39:36 PM]  - Found 276 tracks in 38 frames (in 0.0s)\n",
      "[INFO][2023/10/06 02:39:36 PM]  - Inserted 51 dummy objects to fill tracking gaps\n",
      "[INFO][2023/10/06 02:39:36 PM] Loading hypothesis model: particle_hypothesis\n",
      "[INFO][2023/10/06 02:39:36 PM] Calculating hypotheses (relax: True)...\n",
      "[INFO][2023/10/06 02:39:36 PM] Setting up constraints matrix for global optimisation...\n",
      "[INFO][2023/10/06 02:39:36 PM] Using GLPK options: {'tm_lim': 60000}...\n",
      "[INFO][2023/10/06 02:39:36 PM] Optimizing...\n",
      "[INFO][2023/10/06 02:39:36 PM] Optimization complete. (Solution: optimal)\n",
      "[INFO][2023/10/06 02:39:36 PM]  - Fates.FALSE_POSITIVE: 236 (of 276)\n",
      "[INFO][2023/10/06 02:39:36 PM]  - Fates.LINK: 1 (of 1)\n",
      "[INFO][2023/10/06 02:39:36 PM]  - Fates.INITIALIZE_BORDER: 0 (of 5)\n",
      "[INFO][2023/10/06 02:39:36 PM]  - Fates.INITIALIZE_LAZY: 39 (of 271)\n",
      "[INFO][2023/10/06 02:39:36 PM]  - Fates.TERMINATE_BORDER: 0 (of 1)\n",
      "[INFO][2023/10/06 02:39:36 PM]  - Fates.TERMINATE_BACK: 8 (of 56)\n",
      "[INFO][2023/10/06 02:39:36 PM]  - Fates.TERMINATE_LAZY: 31 (of 219)\n",
      "[INFO][2023/10/06 02:39:36 PM]  - TOTAL: 829 hypotheses\n",
      "[INFO][2023/10/06 02:39:36 PM] Completed optimization with 275 tracks\n",
      "[INFO][2023/10/06 02:39:36 PM] Ending BayesianTracker session\n",
      "[INFO][2023/10/06 02:39:36 PM] Opening HDF file: /home/dayn/data/homuncu_loc_temp/seperate_tracks/iAT1_iAT2_experiments/DAPI_SPC_PDPN_ZO1/sc_analyses/20230801_20X_23-03-011B6_DAPI_SP-C_PDPN_ZO-1_Multichannel Z-Stack_20230801_1440_iat1.h5...\n",
      "[INFO][2023/10/06 02:39:36 PM] Writing objects/obj_type_3\n",
      "[INFO][2023/10/06 02:39:36 PM] Writing labels/obj_type_3\n",
      "[INFO][2023/10/06 02:39:36 PM] Loading objects/obj_type_3 (652, 5) (652 filtered: None)\n",
      "[INFO][2023/10/06 02:39:36 PM] Writing properties/obj_type_3/axis_major_length (652,)\n",
      "[INFO][2023/10/06 02:39:36 PM] Writing properties/obj_type_3/axis_minor_length (652,)\n",
      "[INFO][2023/10/06 02:39:36 PM] Writing properties/obj_type_3/eccentricity (652,)\n",
      "[INFO][2023/10/06 02:39:36 PM] Writing properties/obj_type_3/area (652,)\n",
      "[INFO][2023/10/06 02:39:36 PM] Writing properties/obj_type_3/orientation (652,)\n",
      "[INFO][2023/10/06 02:39:36 PM] Writing properties/obj_type_3/mean_intensity (652, 4)\n",
      "[INFO][2023/10/06 02:39:36 PM] Writing properties/obj_type_3/class_id (652,)\n",
      "[INFO][2023/10/06 02:39:36 PM] Writing properties/obj_type_3/mtb_status (652,)\n",
      "[INFO][2023/10/06 02:39:36 PM] Writing properties/obj_type_3/mtb_area (652,)\n",
      "[INFO][2023/10/06 02:39:36 PM] Writing tracks/obj_type_3\n",
      "[INFO][2023/10/06 02:39:36 PM] Writing dummies/obj_type_3\n",
      "[INFO][2023/10/06 02:39:36 PM] Writing LBEP/obj_type_3\n",
      "[INFO][2023/10/06 02:39:36 PM] Writing fates/obj_type_3\n"
     ]
    },
    {
     "name": "stdout",
     "output_type": "stream",
     "text": [
      "GLPK Integer Optimizer 5.0\n",
      "1104 rows, 829 columns, 1106 non-zeros\n",
      "829 integer variables, all of which are binary\n",
      "Preprocessing...\n",
      "552 rows, 829 columns, 1106 non-zeros\n",
      "829 integer variables, all of which are binary\n",
      "Scaling...\n",
      " A: min|aij| =  1.000e+00  max|aij| =  1.000e+00  ratio =  1.000e+00\n",
      "Problem data seem to be well scaled\n",
      "Constructing initial basis...\n",
      "Size of triangular part is 552\n",
      "Solving LP relaxation...\n",
      "GLPK Simplex Optimizer 5.0\n",
      "552 rows, 829 columns, 1106 non-zeros\n",
      "*     0: obj =   3.341486252e+03 inf =   0.000e+00 (238)\n",
      "*   238: obj =   1.336819382e+03 inf =   0.000e+00 (0)\n",
      "OPTIMAL LP SOLUTION FOUND\n",
      "Integer optimization begins...\n",
      "Long-step dual simplex will be used\n",
      "+   238: mip =     not found yet >=              -inf        (1; 0)\n",
      "+   238: >>>>>   1.336819382e+03 >=   1.336819382e+03   0.0% (1; 0)\n",
      "+   238: mip =   1.336819382e+03 >=     tree is empty   0.0% (0; 1)\n",
      "INTEGER OPTIMAL SOLUTION FOUND\n"
     ]
    },
    {
     "name": "stderr",
     "output_type": "stream",
     "text": [
      "[INFO][2023/10/06 02:39:39 PM] Closing HDF file: /home/dayn/data/homuncu_loc_temp/seperate_tracks/iAT1_iAT2_experiments/DAPI_SPC_PDPN_ZO1/sc_analyses/20230801_20X_23-03-011B6_DAPI_SP-C_PDPN_ZO-1_Multichannel Z-Stack_20230801_1440_iat1.h5\n"
     ]
    },
    {
     "data": {
      "application/vnd.jupyter.widget-view+json": {
       "model_id": "91b58d4a2b7d4e8e986e63e5c198c890",
       "version_major": 2,
       "version_minor": 0
      },
      "text/plain": [
       "finding where segmentation channel is expressed in Z:   0%|          | 0/51 [00:00<?, ?it/s]"
      ]
     },
     "metadata": {},
     "output_type": "display_data"
    },
    {
     "data": {
      "application/vnd.jupyter.widget-view+json": {
       "model_id": "4a6d1681fb3044018d30f6ccf1a7da0e",
       "version_major": 2,
       "version_minor": 0
      },
      "text/plain": [
       "segmenting over select frames:   0%|          | 0/18 [00:00<?, ?it/s]"
      ]
     },
     "metadata": {},
     "output_type": "display_data"
    },
    {
     "name": "stderr",
     "output_type": "stream",
     "text": [
      "[INFO][2023/10/06 02:46:20 PM] Localizing objects from segmentation...\n"
     ]
    },
    {
     "name": "stdout",
     "output_type": "stream",
     "text": [
      "Update sms failed to send\n"
     ]
    },
    {
     "name": "stderr",
     "output_type": "stream",
     "text": [
      "progress: 100%|███████████████████████████████████████████████████████████████████████████████████████████████████████████████████████████████████████████| 51/51 [00:02<00:00, 25.46it/s]\n",
      "[INFO][2023/10/06 02:46:22 PM] Objects are of type: <class 'dict'>\n",
      "[INFO][2023/10/06 02:46:22 PM] ...Found 90 objects in 33 frames.\n"
     ]
    },
    {
     "data": {
      "application/vnd.jupyter.widget-view+json": {
       "model_id": "4c90899cf9094e1286cb3e5d21aba82e",
       "version_major": 2,
       "version_minor": 0
      },
      "text/plain": [
       "Measuring Mtb properties of each cell:   0%|          | 0/90 [00:00<?, ?it/s]"
      ]
     },
     "metadata": {},
     "output_type": "display_data"
    },
    {
     "name": "stderr",
     "output_type": "stream",
     "text": [
      "[INFO][2023/10/06 02:46:23 PM] Loaded btrack: /home/dayn/analysis/btrack/btrack/libs/libtracker.so\n",
      "[INFO][2023/10/06 02:46:23 PM] Starting BayesianTracker session\n",
      "[INFO][2023/10/06 02:46:23 PM] Loading configuration file: /home/dayn/analysis/models/loc.json\n",
      "[INFO][2023/10/06 02:46:23 PM] Objects are of type: <class 'list'>\n",
      "[INFO][2023/10/06 02:46:23 PM] Starting tracking... \n",
      "[INFO][2023/10/06 02:46:23 PM] Update using: ['MOTION', 'VISUAL']\n",
      "[INFO][2023/10/06 02:46:23 PM] Tracking objects in frames 0 to 9 (of 33)...\n",
      "[INFO][2023/10/06 02:46:23 PM]  - Timing (Bayesian updates: 0.01ms, Linking: 0.05ms)\n",
      "[INFO][2023/10/06 02:46:23 PM]  - Probabilities (Link: 1.00000, Lost: 1.00000)\n",
      "[INFO][2023/10/06 02:46:23 PM]  - Stats (Active: 19, Lost: 80, Conflicts resolved: 2)\n",
      "[INFO][2023/10/06 02:46:23 PM] Tracking objects in frames 10 to 19 (of 33)...\n",
      "[INFO][2023/10/06 02:46:23 PM]  - Timing (Bayesian updates: 0.00ms, Linking: 0.08ms)\n",
      "[INFO][2023/10/06 02:46:23 PM]  - Probabilities (Link: 1.00000, Lost: 1.00000)\n",
      "[INFO][2023/10/06 02:46:23 PM] SUCCESS.\n",
      "[INFO][2023/10/06 02:46:23 PM]  - Found 27 tracks in 33 frames (in 0.0s)\n",
      "[INFO][2023/10/06 02:46:23 PM]  - Inserted 8 dummy objects to fill tracking gaps\n",
      "[INFO][2023/10/06 02:46:23 PM] Loading hypothesis model: particle_hypothesis\n",
      "[INFO][2023/10/06 02:46:23 PM] Calculating hypotheses (relax: True)...\n",
      "[INFO][2023/10/06 02:46:23 PM] Setting up constraints matrix for global optimisation...\n",
      "[INFO][2023/10/06 02:46:23 PM] Using GLPK options: {'tm_lim': 60000}...\n",
      "[INFO][2023/10/06 02:46:23 PM] Optimizing...\n",
      "[INFO][2023/10/06 02:46:23 PM] Optimization complete. (Solution: optimal)\n",
      "[INFO][2023/10/06 02:46:23 PM]  - Fates.FALSE_POSITIVE: 21 (of 27)\n",
      "[INFO][2023/10/06 02:46:23 PM]  - Fates.INITIALIZE_LAZY: 6 (of 27)\n",
      "[INFO][2023/10/06 02:46:23 PM]  - Fates.TERMINATE_BACK: 3 (of 8)\n",
      "[INFO][2023/10/06 02:46:23 PM]  - Fates.TERMINATE_LAZY: 3 (of 19)\n",
      "[INFO][2023/10/06 02:46:23 PM]  - TOTAL: 81 hypotheses\n",
      "[INFO][2023/10/06 02:46:23 PM] Completed optimization with 27 tracks\n",
      "[INFO][2023/10/06 02:46:23 PM] Ending BayesianTracker session\n",
      "[INFO][2023/10/06 02:46:23 PM] Opening HDF file: /home/dayn/data/homuncu_loc_temp/seperate_tracks/iAT1_iAT2_experiments/DAPI_NKX21_PDPN_ZO1/sc_analyses/20230801_20X_23-03-002A5_DAPI_NKX201_PDPN_ZO-1_Multichannel Z-Stack_20230801_1442_iat1.h5...\n",
      "[INFO][2023/10/06 02:46:23 PM] Writing objects/obj_type_3\n",
      "[INFO][2023/10/06 02:46:23 PM] Writing labels/obj_type_3\n",
      "[INFO][2023/10/06 02:46:23 PM] Loading objects/obj_type_3 (72, 5) (72 filtered: None)\n",
      "[INFO][2023/10/06 02:46:23 PM] Writing properties/obj_type_3/axis_major_length (72,)\n",
      "[INFO][2023/10/06 02:46:23 PM] Writing properties/obj_type_3/axis_minor_length (72,)\n",
      "[INFO][2023/10/06 02:46:23 PM] Writing properties/obj_type_3/eccentricity (72,)\n",
      "[INFO][2023/10/06 02:46:23 PM] Writing properties/obj_type_3/area (72,)\n",
      "[INFO][2023/10/06 02:46:23 PM] Writing properties/obj_type_3/orientation (72,)\n",
      "[INFO][2023/10/06 02:46:23 PM] Writing properties/obj_type_3/mean_intensity (72, 4)\n",
      "[INFO][2023/10/06 02:46:23 PM] Writing properties/obj_type_3/class_id (72,)\n",
      "[INFO][2023/10/06 02:46:23 PM] Writing properties/obj_type_3/mtb_status (72,)\n",
      "[INFO][2023/10/06 02:46:23 PM] Writing properties/obj_type_3/mtb_area (72,)\n",
      "[INFO][2023/10/06 02:46:23 PM] Writing tracks/obj_type_3\n",
      "[INFO][2023/10/06 02:46:23 PM] Writing dummies/obj_type_3\n",
      "[INFO][2023/10/06 02:46:23 PM] Writing LBEP/obj_type_3\n",
      "[INFO][2023/10/06 02:46:23 PM] Writing fates/obj_type_3\n"
     ]
    },
    {
     "name": "stdout",
     "output_type": "stream",
     "text": [
      "GLPK Integer Optimizer 5.0\n",
      "108 rows, 81 columns, 108 non-zeros\n",
      "81 integer variables, all of which are binary\n",
      "Preprocessing...\n",
      "54 rows, 81 columns, 108 non-zeros\n",
      "81 integer variables, all of which are binary\n",
      "Scaling...\n",
      " A: min|aij| =  1.000e+00  max|aij| =  1.000e+00  ratio =  1.000e+00\n",
      "Problem data seem to be well scaled\n",
      "Constructing initial basis...\n",
      "Size of triangular part is 54\n",
      "Solving LP relaxation...\n",
      "GLPK Simplex Optimizer 5.0\n",
      "54 rows, 81 columns, 108 non-zeros\n",
      "*     0: obj =   3.128690475e+02 inf =   0.000e+00 (21)\n",
      "*    21: obj =   1.304775540e+02 inf =   0.000e+00 (0)\n",
      "OPTIMAL LP SOLUTION FOUND\n",
      "Integer optimization begins...\n",
      "Long-step dual simplex will be used\n",
      "+    21: mip =     not found yet >=              -inf        (1; 0)\n",
      "+    21: >>>>>   1.304775540e+02 >=   1.304775540e+02   0.0% (1; 0)\n",
      "+    21: mip =   1.304775540e+02 >=     tree is empty   0.0% (0; 1)\n",
      "INTEGER OPTIMAL SOLUTION FOUND\n"
     ]
    },
    {
     "name": "stderr",
     "output_type": "stream",
     "text": [
      "[INFO][2023/10/06 02:46:26 PM] Closing HDF file: /home/dayn/data/homuncu_loc_temp/seperate_tracks/iAT1_iAT2_experiments/DAPI_NKX21_PDPN_ZO1/sc_analyses/20230801_20X_23-03-002A5_DAPI_NKX201_PDPN_ZO-1_Multichannel Z-Stack_20230801_1442_iat1.h5\n"
     ]
    },
    {
     "data": {
      "application/vnd.jupyter.widget-view+json": {
       "model_id": "558d025998924a15ab37e77e9469afbb",
       "version_major": 2,
       "version_minor": 0
      },
      "text/plain": [
       "finding where segmentation channel is expressed in Z:   0%|          | 0/51 [00:00<?, ?it/s]"
      ]
     },
     "metadata": {},
     "output_type": "display_data"
    },
    {
     "data": {
      "application/vnd.jupyter.widget-view+json": {
       "model_id": "bd256ba99760498697a02503e54d7f09",
       "version_major": 2,
       "version_minor": 0
      },
      "text/plain": [
       "segmenting over select frames:   0%|          | 0/17 [00:00<?, ?it/s]"
      ]
     },
     "metadata": {},
     "output_type": "display_data"
    },
    {
     "name": "stderr",
     "output_type": "stream",
     "text": [
      "[INFO][2023/10/06 02:52:45 PM] Localizing objects from segmentation...\n"
     ]
    },
    {
     "name": "stdout",
     "output_type": "stream",
     "text": [
      "Update sms failed to send\n"
     ]
    },
    {
     "name": "stderr",
     "output_type": "stream",
     "text": [
      "progress: 100%|███████████████████████████████████████████████████████████████████████████████████████████████████████████████████████████████████████████| 51/51 [00:01<00:00, 29.63it/s]\n",
      "[INFO][2023/10/06 02:52:47 PM] Objects are of type: <class 'dict'>\n",
      "[INFO][2023/10/06 02:52:47 PM] ...Found 16 objects in 33 frames.\n"
     ]
    },
    {
     "data": {
      "application/vnd.jupyter.widget-view+json": {
       "model_id": "888c17bc97e64cefa9bc09825ff0aa40",
       "version_major": 2,
       "version_minor": 0
      },
      "text/plain": [
       "Measuring Mtb properties of each cell:   0%|          | 0/16 [00:00<?, ?it/s]"
      ]
     },
     "metadata": {},
     "output_type": "display_data"
    },
    {
     "name": "stderr",
     "output_type": "stream",
     "text": [
      "[INFO][2023/10/06 02:52:47 PM] Loaded btrack: /home/dayn/analysis/btrack/btrack/libs/libtracker.so\n",
      "[INFO][2023/10/06 02:52:47 PM] Starting BayesianTracker session\n",
      "[INFO][2023/10/06 02:52:47 PM] Loading configuration file: /home/dayn/analysis/models/loc.json\n",
      "[INFO][2023/10/06 02:52:47 PM] Objects are of type: <class 'list'>\n",
      "[INFO][2023/10/06 02:52:47 PM] Starting tracking... \n",
      "[INFO][2023/10/06 02:52:47 PM] Update using: ['MOTION', 'VISUAL']\n",
      "[INFO][2023/10/06 02:52:47 PM] Tracking objects in frames 0 to 9 (of 33)...\n",
      "[INFO][2023/10/06 02:52:47 PM]  - Timing (Bayesian updates: 0.00ms, Linking: 0.03ms)\n",
      "[INFO][2023/10/06 02:52:47 PM]  - Probabilities (Link: 1.00000, Lost: 1.00000)\n",
      "[INFO][2023/10/06 02:52:47 PM]  - Stats (Active: 3, Lost: 11, Conflicts resolved: 3)\n",
      "[INFO][2023/10/06 02:52:47 PM] Tracking objects in frames 10 to 19 (of 33)...\n",
      "[INFO][2023/10/06 02:52:47 PM]  - Timing (Bayesian updates: 0.00ms, Linking: 0.01ms)\n",
      "[INFO][2023/10/06 02:52:47 PM]  - Probabilities (Link: 1.00000, Lost: 1.00000)\n",
      "[INFO][2023/10/06 02:52:47 PM] SUCCESS.\n",
      "[INFO][2023/10/06 02:52:47 PM]  - Found 6 tracks in 33 frames (in 0.0s)\n",
      "[INFO][2023/10/06 02:52:47 PM]  - Inserted 1 dummy objects to fill tracking gaps\n",
      "[INFO][2023/10/06 02:52:47 PM] Loading hypothesis model: particle_hypothesis\n",
      "[INFO][2023/10/06 02:52:47 PM] Calculating hypotheses (relax: True)...\n",
      "[INFO][2023/10/06 02:52:47 PM] Setting up constraints matrix for global optimisation...\n",
      "[INFO][2023/10/06 02:52:47 PM] Using GLPK options: {'tm_lim': 60000}...\n",
      "[INFO][2023/10/06 02:52:47 PM] Optimizing...\n",
      "[INFO][2023/10/06 02:52:47 PM] Optimization complete. (Solution: optimal)\n",
      "[INFO][2023/10/06 02:52:47 PM]  - Fates.FALSE_POSITIVE: 5 (of 6)\n",
      "[INFO][2023/10/06 02:52:47 PM]  - Fates.INITIALIZE_LAZY: 1 (of 6)\n",
      "[INFO][2023/10/06 02:52:47 PM]  - Fates.TERMINATE_BACK: 1 (of 2)\n",
      "[INFO][2023/10/06 02:52:47 PM]  - Fates.TERMINATE_LAZY: 0 (of 4)\n",
      "[INFO][2023/10/06 02:52:47 PM]  - TOTAL: 18 hypotheses\n",
      "[INFO][2023/10/06 02:52:47 PM] Completed optimization with 6 tracks\n",
      "[INFO][2023/10/06 02:52:47 PM] Ending BayesianTracker session\n",
      "[INFO][2023/10/06 02:52:47 PM] Opening HDF file: /home/dayn/data/homuncu_loc_temp/seperate_tracks/iAT1_iAT2_experiments/DAPI_NKX21_PDPN_ZO1/sc_analyses/20230801_20X_23-03-002A5_DAPI_NKX201_PDPN_ZO-1_Multichannel Z-Stack_20230801_1443_iat1.h5...\n",
      "[INFO][2023/10/06 02:52:47 PM] Writing objects/obj_type_3\n",
      "[INFO][2023/10/06 02:52:47 PM] Writing labels/obj_type_3\n",
      "[INFO][2023/10/06 02:52:47 PM] Loading objects/obj_type_3 (10, 5) (10 filtered: None)\n",
      "[INFO][2023/10/06 02:52:47 PM] Writing properties/obj_type_3/axis_major_length (10,)\n",
      "[INFO][2023/10/06 02:52:47 PM] Writing properties/obj_type_3/axis_minor_length (10,)\n",
      "[INFO][2023/10/06 02:52:47 PM] Writing properties/obj_type_3/eccentricity (10,)\n",
      "[INFO][2023/10/06 02:52:47 PM] Writing properties/obj_type_3/area (10,)\n",
      "[INFO][2023/10/06 02:52:47 PM] Writing properties/obj_type_3/orientation (10,)\n",
      "[INFO][2023/10/06 02:52:47 PM] Writing properties/obj_type_3/mean_intensity (10, 4)\n",
      "[INFO][2023/10/06 02:52:47 PM] Writing properties/obj_type_3/class_id (10,)\n",
      "[INFO][2023/10/06 02:52:47 PM] Writing properties/obj_type_3/mtb_status (10,)\n",
      "[INFO][2023/10/06 02:52:47 PM] Writing properties/obj_type_3/mtb_area (10,)\n",
      "[INFO][2023/10/06 02:52:47 PM] Writing tracks/obj_type_3\n",
      "[INFO][2023/10/06 02:52:47 PM] Writing dummies/obj_type_3\n",
      "[INFO][2023/10/06 02:52:47 PM] Writing LBEP/obj_type_3\n",
      "[INFO][2023/10/06 02:52:47 PM] Writing fates/obj_type_3\n"
     ]
    },
    {
     "name": "stdout",
     "output_type": "stream",
     "text": [
      "GLPK Integer Optimizer 5.0\n",
      "24 rows, 18 columns, 24 non-zeros\n",
      "18 integer variables, all of which are binary\n",
      "Preprocessing...\n",
      "12 rows, 18 columns, 24 non-zeros\n",
      "18 integer variables, all of which are binary\n",
      "Scaling...\n",
      " A: min|aij| =  1.000e+00  max|aij| =  1.000e+00  ratio =  1.000e+00\n",
      "Problem data seem to be well scaled\n",
      "Constructing initial basis...\n",
      "Size of triangular part is 12\n",
      "Solving LP relaxation...\n",
      "GLPK Simplex Optimizer 5.0\n",
      "12 rows, 18 columns, 24 non-zeros\n",
      "*     0: obj =   6.728920923e+01 inf =   0.000e+00 (5)\n",
      "*     5: obj =   2.528834791e+01 inf =   0.000e+00 (0)\n",
      "OPTIMAL LP SOLUTION FOUND\n",
      "Integer optimization begins...\n",
      "Long-step dual simplex will be used\n",
      "+     5: mip =     not found yet >=              -inf        (1; 0)\n",
      "+     5: >>>>>   2.528834791e+01 >=   2.528834791e+01   0.0% (1; 0)\n",
      "+     5: mip =   2.528834791e+01 >=     tree is empty   0.0% (0; 1)\n",
      "INTEGER OPTIMAL SOLUTION FOUND\n"
     ]
    },
    {
     "name": "stderr",
     "output_type": "stream",
     "text": [
      "[INFO][2023/10/06 02:52:51 PM] Closing HDF file: /home/dayn/data/homuncu_loc_temp/seperate_tracks/iAT1_iAT2_experiments/DAPI_NKX21_PDPN_ZO1/sc_analyses/20230801_20X_23-03-002A5_DAPI_NKX201_PDPN_ZO-1_Multichannel Z-Stack_20230801_1443_iat1.h5\n"
     ]
    },
    {
     "data": {
      "application/vnd.jupyter.widget-view+json": {
       "model_id": "cac6b07b564943aca169b804ed0f3e80",
       "version_major": 2,
       "version_minor": 0
      },
      "text/plain": [
       "finding where segmentation channel is expressed in Z:   0%|          | 0/51 [00:00<?, ?it/s]"
      ]
     },
     "metadata": {},
     "output_type": "display_data"
    },
    {
     "data": {
      "application/vnd.jupyter.widget-view+json": {
       "model_id": "3e1df61ecbe34b36a677a804905b5ba2",
       "version_major": 2,
       "version_minor": 0
      },
      "text/plain": [
       "segmenting over select frames:   0%|          | 0/14 [00:00<?, ?it/s]"
      ]
     },
     "metadata": {},
     "output_type": "display_data"
    },
    {
     "name": "stderr",
     "output_type": "stream",
     "text": [
      "[INFO][2023/10/06 03:11:40 PM] Localizing objects from segmentation...\n"
     ]
    },
    {
     "name": "stdout",
     "output_type": "stream",
     "text": [
      "Update sms failed to send\n"
     ]
    },
    {
     "name": "stderr",
     "output_type": "stream",
     "text": [
      "progress: 100%|███████████████████████████████████████████████████████████████████████████████████████████████████████████████████████████████████████████| 51/51 [00:06<00:00,  7.53it/s]\n",
      "[INFO][2023/10/06 03:11:47 PM] Objects are of type: <class 'dict'>\n",
      "[INFO][2023/10/06 03:11:47 PM] ...Found 1682 objects in 37 frames.\n"
     ]
    },
    {
     "data": {
      "application/vnd.jupyter.widget-view+json": {
       "model_id": "906cd4328c7a4bdbb034e929857cb0ae",
       "version_major": 2,
       "version_minor": 0
      },
      "text/plain": [
       "Measuring Mtb properties of each cell:   0%|          | 0/1682 [00:00<?, ?it/s]"
      ]
     },
     "metadata": {},
     "output_type": "display_data"
    },
    {
     "name": "stderr",
     "output_type": "stream",
     "text": [
      "[INFO][2023/10/06 03:12:19 PM] Loaded btrack: /home/dayn/analysis/btrack/btrack/libs/libtracker.so\n",
      "[INFO][2023/10/06 03:12:19 PM] Starting BayesianTracker session\n",
      "[INFO][2023/10/06 03:12:19 PM] Loading configuration file: /home/dayn/analysis/models/loc.json\n",
      "[INFO][2023/10/06 03:12:19 PM] Objects are of type: <class 'list'>\n",
      "[INFO][2023/10/06 03:12:19 PM] Starting tracking... \n",
      "[INFO][2023/10/06 03:12:19 PM] Update using: ['MOTION', 'VISUAL']\n",
      "[INFO][2023/10/06 03:12:19 PM] Tracking objects in frames 0 to 9 (of 37)...\n",
      "[INFO][2023/10/06 03:12:19 PM]  - Timing (Bayesian updates: 1.94ms, Linking: 1.32ms)\n",
      "[INFO][2023/10/06 03:12:19 PM]  - Probabilities (Link: 1.00000, Lost: 1.00000)\n",
      "[INFO][2023/10/06 03:12:19 PM]  - Stats (Active: 219, Lost: 1628, Conflicts resolved: 256)\n",
      "[INFO][2023/10/06 03:12:19 PM] Tracking objects in frames 10 to 19 (of 37)...\n",
      "[INFO][2023/10/06 03:12:20 PM]  - Timing (Bayesian updates: 0.62ms, Linking: 0.99ms)\n",
      "[INFO][2023/10/06 03:12:20 PM]  - Probabilities (Link: 1.00000, Lost: 1.00000)\n",
      "[INFO][2023/10/06 03:12:20 PM] SUCCESS.\n",
      "[INFO][2023/10/06 03:12:20 PM]  - Found 574 tracks in 37 frames (in 0.0s)\n",
      "[INFO][2023/10/06 03:12:20 PM]  - Inserted 81 dummy objects to fill tracking gaps\n",
      "[INFO][2023/10/06 03:12:20 PM] Loading hypothesis model: particle_hypothesis\n",
      "[INFO][2023/10/06 03:12:20 PM] Calculating hypotheses (relax: True)...\n",
      "[INFO][2023/10/06 03:12:20 PM] Setting up constraints matrix for global optimisation...\n",
      "[INFO][2023/10/06 03:12:20 PM] Using GLPK options: {'tm_lim': 60000}...\n",
      "[INFO][2023/10/06 03:12:20 PM] Optimizing...\n",
      "[INFO][2023/10/06 03:12:20 PM] Optimization complete. (Solution: optimal)\n",
      "[INFO][2023/10/06 03:12:20 PM]  - Fates.FALSE_POSITIVE: 532 (of 574)\n",
      "[INFO][2023/10/06 03:12:20 PM]  - Fates.INITIALIZE_BORDER: 6 (of 17)\n",
      "[INFO][2023/10/06 03:12:20 PM]  - Fates.INITIALIZE_LAZY: 36 (of 557)\n",
      "[INFO][2023/10/06 03:12:20 PM]  - Fates.TERMINATE_BORDER: 1 (of 7)\n",
      "[INFO][2023/10/06 03:12:20 PM]  - Fates.TERMINATE_BACK: 19 (of 115)\n",
      "[INFO][2023/10/06 03:12:20 PM]  - Fates.TERMINATE_LAZY: 22 (of 452)\n",
      "[INFO][2023/10/06 03:12:20 PM]  - TOTAL: 1722 hypotheses\n",
      "[INFO][2023/10/06 03:12:20 PM] Completed optimization with 574 tracks\n",
      "[INFO][2023/10/06 03:12:20 PM] Ending BayesianTracker session\n",
      "[INFO][2023/10/06 03:12:20 PM] Opening HDF file: /home/dayn/data/homuncu_loc_temp/seperate_tracks/iAT1_iAT2_experiments/DAPI_SPC_PDPN_ZO1/sc_analyses/20230801_20X_23-03-002A6_DAPI_SP-C_PDPN_ZO-1_Multichannel Z-Stack_20230801_1445_iat1.h5...\n",
      "[INFO][2023/10/06 03:12:20 PM] Writing objects/obj_type_3\n",
      "[INFO][2023/10/06 03:12:20 PM] Writing labels/obj_type_3\n",
      "[INFO][2023/10/06 03:12:20 PM] Loading objects/obj_type_3 (928, 5) (928 filtered: None)\n",
      "[INFO][2023/10/06 03:12:20 PM] Writing properties/obj_type_3/axis_major_length (928,)\n",
      "[INFO][2023/10/06 03:12:20 PM] Writing properties/obj_type_3/axis_minor_length (928,)\n",
      "[INFO][2023/10/06 03:12:20 PM] Writing properties/obj_type_3/eccentricity (928,)\n",
      "[INFO][2023/10/06 03:12:20 PM] Writing properties/obj_type_3/area (928,)\n",
      "[INFO][2023/10/06 03:12:20 PM] Writing properties/obj_type_3/orientation (928,)\n",
      "[INFO][2023/10/06 03:12:20 PM] Writing properties/obj_type_3/mean_intensity (928, 4)\n",
      "[INFO][2023/10/06 03:12:20 PM] Writing properties/obj_type_3/class_id (928,)\n",
      "[INFO][2023/10/06 03:12:20 PM] Writing properties/obj_type_3/mtb_status (928,)\n",
      "[INFO][2023/10/06 03:12:20 PM] Writing properties/obj_type_3/mtb_area (928,)\n",
      "[INFO][2023/10/06 03:12:20 PM] Writing tracks/obj_type_3\n",
      "[INFO][2023/10/06 03:12:20 PM] Writing dummies/obj_type_3\n",
      "[INFO][2023/10/06 03:12:20 PM] Writing LBEP/obj_type_3\n",
      "[INFO][2023/10/06 03:12:20 PM] Writing fates/obj_type_3\n"
     ]
    },
    {
     "name": "stdout",
     "output_type": "stream",
     "text": [
      "GLPK Integer Optimizer 5.0\n",
      "2296 rows, 1722 columns, 2296 non-zeros\n",
      "1722 integer variables, all of which are binary\n",
      "Preprocessing...\n",
      "1148 rows, 1722 columns, 2296 non-zeros\n",
      "1722 integer variables, all of which are binary\n",
      "Scaling...\n",
      " A: min|aij| =  1.000e+00  max|aij| =  1.000e+00  ratio =  1.000e+00\n",
      "Problem data seem to be well scaled\n",
      "Constructing initial basis...\n",
      "Size of triangular part is 1148\n",
      "Solving LP relaxation...\n",
      "GLPK Simplex Optimizer 5.0\n",
      "1148 rows, 1722 columns, 2296 non-zeros\n",
      "*     0: obj =   6.937323237e+03 inf =   0.000e+00 (532)\n",
      "*   532: obj =   2.104402028e+03 inf =   0.000e+00 (0)\n",
      "OPTIMAL LP SOLUTION FOUND\n",
      "Integer optimization begins...\n",
      "Long-step dual simplex will be used\n",
      "+   532: mip =     not found yet >=              -inf        (1; 0)\n",
      "+   532: >>>>>   2.104402028e+03 >=   2.104402028e+03   0.0% (1; 0)\n",
      "+   532: mip =   2.104402028e+03 >=     tree is empty   0.0% (0; 1)\n",
      "INTEGER OPTIMAL SOLUTION FOUND\n"
     ]
    },
    {
     "name": "stderr",
     "output_type": "stream",
     "text": [
      "[INFO][2023/10/06 03:12:24 PM] Closing HDF file: /home/dayn/data/homuncu_loc_temp/seperate_tracks/iAT1_iAT2_experiments/DAPI_SPC_PDPN_ZO1/sc_analyses/20230801_20X_23-03-002A6_DAPI_SP-C_PDPN_ZO-1_Multichannel Z-Stack_20230801_1445_iat1.h5\n"
     ]
    },
    {
     "data": {
      "application/vnd.jupyter.widget-view+json": {
       "model_id": "52458797a5ef434fa8780ef0930845ee",
       "version_major": 2,
       "version_minor": 0
      },
      "text/plain": [
       "finding where segmentation channel is expressed in Z:   0%|          | 0/61 [00:00<?, ?it/s]"
      ]
     },
     "metadata": {},
     "output_type": "display_data"
    },
    {
     "data": {
      "application/vnd.jupyter.widget-view+json": {
       "model_id": "de83ab10d2394a09b60b7987be44f3bc",
       "version_major": 2,
       "version_minor": 0
      },
      "text/plain": [
       "segmenting over select frames:   0%|          | 0/32 [00:00<?, ?it/s]"
      ]
     },
     "metadata": {},
     "output_type": "display_data"
    },
    {
     "name": "stderr",
     "output_type": "stream",
     "text": [
      "WARNING: no mask pixels found\n",
      "[INFO][2023/10/06 03:58:41 PM] Localizing objects from segmentation...\n"
     ]
    },
    {
     "name": "stdout",
     "output_type": "stream",
     "text": [
      "Update sms failed to send\n"
     ]
    },
    {
     "name": "stderr",
     "output_type": "stream",
     "text": [
      "progress: 100%|███████████████████████████████████████████████████████████████████████████████████████████████████████████████████████████████████████████| 61/61 [00:12<00:00,  4.86it/s]\n",
      "[INFO][2023/10/06 03:58:54 PM] Objects are of type: <class 'dict'>\n",
      "[INFO][2023/10/06 03:58:54 PM] ...Found 2887 objects in 45 frames.\n"
     ]
    },
    {
     "data": {
      "application/vnd.jupyter.widget-view+json": {
       "model_id": "ebf05542c47442a1b52ab435a7781ae2",
       "version_major": 2,
       "version_minor": 0
      },
      "text/plain": [
       "Measuring Mtb properties of each cell:   0%|          | 0/2887 [00:00<?, ?it/s]"
      ]
     },
     "metadata": {},
     "output_type": "display_data"
    },
    {
     "name": "stderr",
     "output_type": "stream",
     "text": [
      "[INFO][2023/10/06 03:59:58 PM] Loaded btrack: /home/dayn/analysis/btrack/btrack/libs/libtracker.so\n",
      "[INFO][2023/10/06 03:59:58 PM] Starting BayesianTracker session\n",
      "[INFO][2023/10/06 03:59:58 PM] Loading configuration file: /home/dayn/analysis/models/loc.json\n",
      "[INFO][2023/10/06 03:59:58 PM] Objects are of type: <class 'list'>\n",
      "[INFO][2023/10/06 03:59:58 PM] Starting tracking... \n",
      "[INFO][2023/10/06 03:59:58 PM] Update using: ['MOTION', 'VISUAL']\n",
      "[INFO][2023/10/06 03:59:58 PM] Tracking objects in frames 0 to 9 (of 45)...\n",
      "[INFO][2023/10/06 03:59:59 PM]  - Timing (Bayesian updates: 14.97ms, Linking: 2.70ms)\n",
      "[INFO][2023/10/06 03:59:59 PM]  - Probabilities (Link: 1.00000, Lost: 1.00000)\n",
      "[INFO][2023/10/06 03:59:59 PM]  - Stats (Active: 512, Lost: 2189, Conflicts resolved: 523)\n",
      "[INFO][2023/10/06 03:59:59 PM] Tracking objects in frames 10 to 19 (of 45)...\n",
      "[INFO][2023/10/06 03:59:59 PM]  - Timing (Bayesian updates: 0.00ms, Linking: 0.09ms)\n",
      "[INFO][2023/10/06 03:59:59 PM]  - Probabilities (Link: 1.00000, Lost: 1.00000)\n",
      "[INFO][2023/10/06 03:59:59 PM]  - Stats (Active: 30, Lost: 4205, Conflicts resolved: 584)\n",
      "[INFO][2023/10/06 03:59:59 PM] Tracking objects in frames 20 to 29 (of 45)...\n",
      "[INFO][2023/10/06 03:59:59 PM]  - Timing (Bayesian updates: 0.00ms, Linking: 0.01ms)\n",
      "[INFO][2023/10/06 03:59:59 PM]  - Probabilities (Link: 1.00000, Lost: 1.00000)\n",
      "[INFO][2023/10/06 03:59:59 PM] SUCCESS.\n",
      "[INFO][2023/10/06 03:59:59 PM]  - Found 1111 tracks in 45 frames (in 0.0s)\n",
      "[INFO][2023/10/06 03:59:59 PM]  - Inserted 138 dummy objects to fill tracking gaps\n",
      "[INFO][2023/10/06 03:59:59 PM] Loading hypothesis model: particle_hypothesis\n",
      "[INFO][2023/10/06 03:59:59 PM] Calculating hypotheses (relax: True)...\n",
      "[INFO][2023/10/06 03:59:59 PM] Setting up constraints matrix for global optimisation...\n",
      "[INFO][2023/10/06 03:59:59 PM] Using GLPK options: {'tm_lim': 60000}...\n",
      "[INFO][2023/10/06 03:59:59 PM] Optimizing...\n",
      "[INFO][2023/10/06 03:59:59 PM] Optimization complete. (Solution: optimal)\n",
      "[INFO][2023/10/06 03:59:59 PM]  - Fates.FALSE_POSITIVE: 1074 (of 1111)\n",
      "[INFO][2023/10/06 03:59:59 PM]  - Fates.LINK: 0 (of 3)\n",
      "[INFO][2023/10/06 03:59:59 PM]  - Fates.INITIALIZE_BORDER: 3 (of 14)\n",
      "[INFO][2023/10/06 03:59:59 PM]  - Fates.INITIALIZE_LAZY: 34 (of 1097)\n",
      "[INFO][2023/10/06 03:59:59 PM]  - Fates.TERMINATE_BORDER: 2 (of 11)\n",
      "[INFO][2023/10/06 03:59:59 PM]  - Fates.TERMINATE_BACK: 1 (of 1)\n",
      "[INFO][2023/10/06 03:59:59 PM]  - Fates.TERMINATE_LAZY: 34 (of 1099)\n",
      "[INFO][2023/10/06 03:59:59 PM]  - TOTAL: 3336 hypotheses\n",
      "[INFO][2023/10/06 03:59:59 PM] Completed optimization with 1111 tracks\n",
      "[INFO][2023/10/06 03:59:59 PM] Ending BayesianTracker session\n",
      "[INFO][2023/10/06 03:59:59 PM] Opening HDF file: /home/dayn/data/homuncu_loc_temp/seperate_tracks/iAT1_iAT2_experiments/DAPI_NKX21_PDPN_ZO1/sc_analyses/20230801_20X_23-03-002B5_DAPI_NKX2-1_PDPN_ZO-1_Multichannel Z-Stack_20230801_1446_iat1.h5...\n",
      "[INFO][2023/10/06 03:59:59 PM] Writing objects/obj_type_3\n",
      "[INFO][2023/10/06 03:59:59 PM] Writing labels/obj_type_3\n",
      "[INFO][2023/10/06 03:59:59 PM] Loading objects/obj_type_3 (1411, 5) (1411 filtered: None)\n",
      "[INFO][2023/10/06 03:59:59 PM] Writing properties/obj_type_3/axis_major_length (1411,)\n",
      "[INFO][2023/10/06 03:59:59 PM] Writing properties/obj_type_3/axis_minor_length (1411,)\n",
      "[INFO][2023/10/06 03:59:59 PM] Writing properties/obj_type_3/eccentricity (1411,)\n",
      "[INFO][2023/10/06 03:59:59 PM] Writing properties/obj_type_3/area (1411,)\n",
      "[INFO][2023/10/06 03:59:59 PM] Writing properties/obj_type_3/orientation (1411,)\n",
      "[INFO][2023/10/06 03:59:59 PM] Writing properties/obj_type_3/mean_intensity (1411, 4)\n",
      "[INFO][2023/10/06 03:59:59 PM] Writing properties/obj_type_3/class_id (1411,)\n",
      "[INFO][2023/10/06 03:59:59 PM] Writing properties/obj_type_3/mtb_status (1411,)\n",
      "[INFO][2023/10/06 03:59:59 PM] Writing properties/obj_type_3/mtb_area (1411,)\n",
      "[INFO][2023/10/06 03:59:59 PM] Writing tracks/obj_type_3\n",
      "[INFO][2023/10/06 03:59:59 PM] Writing dummies/obj_type_3\n",
      "[INFO][2023/10/06 03:59:59 PM] Writing LBEP/obj_type_3\n",
      "[INFO][2023/10/06 03:59:59 PM] Writing fates/obj_type_3\n"
     ]
    },
    {
     "name": "stdout",
     "output_type": "stream",
     "text": [
      "GLPK Integer Optimizer 5.0\n",
      "4444 rows, 3336 columns, 4450 non-zeros\n",
      "3336 integer variables, all of which are binary\n",
      "Preprocessing...\n",
      "2222 rows, 3336 columns, 4450 non-zeros\n",
      "3336 integer variables, all of which are binary\n",
      "Scaling...\n",
      " A: min|aij| =  1.000e+00  max|aij| =  1.000e+00  ratio =  1.000e+00\n",
      "Problem data seem to be well scaled\n",
      "Constructing initial basis...\n",
      "Size of triangular part is 2222\n",
      "Solving LP relaxation...\n",
      "GLPK Simplex Optimizer 5.0\n",
      "2222 rows, 3336 columns, 4450 non-zeros\n",
      "*     0: obj =   1.484647058e+04 inf =   0.000e+00 (1077)\n",
      "*  1080: obj =   3.394164377e+03 inf =   0.000e+00 (0)\n",
      "OPTIMAL LP SOLUTION FOUND\n",
      "Integer optimization begins...\n",
      "Long-step dual simplex will be used\n",
      "+  1080: mip =     not found yet >=              -inf        (1; 0)\n",
      "+  1080: >>>>>   3.394164377e+03 >=   3.394164377e+03   0.0% (1; 0)\n",
      "+  1080: mip =   3.394164377e+03 >=     tree is empty   0.0% (0; 1)\n",
      "INTEGER OPTIMAL SOLUTION FOUND\n"
     ]
    },
    {
     "name": "stderr",
     "output_type": "stream",
     "text": [
      "[INFO][2023/10/06 04:00:04 PM] Closing HDF file: /home/dayn/data/homuncu_loc_temp/seperate_tracks/iAT1_iAT2_experiments/DAPI_NKX21_PDPN_ZO1/sc_analyses/20230801_20X_23-03-002B5_DAPI_NKX2-1_PDPN_ZO-1_Multichannel Z-Stack_20230801_1446_iat1.h5\n"
     ]
    },
    {
     "data": {
      "application/vnd.jupyter.widget-view+json": {
       "model_id": "ac4da9031ae64e9789c73e67b84f4d7b",
       "version_major": 2,
       "version_minor": 0
      },
      "text/plain": [
       "finding where segmentation channel is expressed in Z:   0%|          | 0/61 [00:00<?, ?it/s]"
      ]
     },
     "metadata": {},
     "output_type": "display_data"
    },
    {
     "data": {
      "application/vnd.jupyter.widget-view+json": {
       "model_id": "cb8db549097d49e384fabeb9b37dde2b",
       "version_major": 2,
       "version_minor": 0
      },
      "text/plain": [
       "segmenting over select frames:   0%|          | 0/35 [00:00<?, ?it/s]"
      ]
     },
     "metadata": {},
     "output_type": "display_data"
    },
    {
     "name": "stderr",
     "output_type": "stream",
     "text": [
      "[INFO][2023/10/06 04:13:19 PM] Localizing objects from segmentation...\n"
     ]
    },
    {
     "name": "stdout",
     "output_type": "stream",
     "text": [
      "Update sms failed to send\n"
     ]
    },
    {
     "name": "stderr",
     "output_type": "stream",
     "text": [
      "progress: 100%|███████████████████████████████████████████████████████████████████████████████████████████████████████████████████████████████████████████| 61/61 [00:07<00:00,  7.93it/s]\n",
      "[INFO][2023/10/06 04:13:27 PM] Objects are of type: <class 'dict'>\n",
      "[INFO][2023/10/06 04:13:27 PM] ...Found 148 objects in 47 frames.\n"
     ]
    },
    {
     "data": {
      "application/vnd.jupyter.widget-view+json": {
       "model_id": "5fae615ea6da4804b054fcb1453f0deb",
       "version_major": 2,
       "version_minor": 0
      },
      "text/plain": [
       "Measuring Mtb properties of each cell:   0%|          | 0/148 [00:00<?, ?it/s]"
      ]
     },
     "metadata": {},
     "output_type": "display_data"
    },
    {
     "name": "stderr",
     "output_type": "stream",
     "text": [
      "[INFO][2023/10/06 04:13:31 PM] Loaded btrack: /home/dayn/analysis/btrack/btrack/libs/libtracker.so\n",
      "[INFO][2023/10/06 04:13:31 PM] Starting BayesianTracker session\n",
      "[INFO][2023/10/06 04:13:31 PM] Loading configuration file: /home/dayn/analysis/models/loc.json\n",
      "[INFO][2023/10/06 04:13:31 PM] Objects are of type: <class 'list'>\n",
      "[INFO][2023/10/06 04:13:31 PM] Starting tracking... \n",
      "[INFO][2023/10/06 04:13:31 PM] Update using: ['MOTION', 'VISUAL']\n",
      "[INFO][2023/10/06 04:13:31 PM] Tracking objects in frames 0 to 9 (of 47)...\n",
      "[INFO][2023/10/06 04:13:31 PM]  - Timing (Bayesian updates: 0.01ms, Linking: 0.05ms)\n",
      "[INFO][2023/10/06 04:13:31 PM]  - Probabilities (Link: 1.00000, Lost: 1.00000)\n",
      "[INFO][2023/10/06 04:13:31 PM]  - Stats (Active: 4, Lost: 50, Conflicts resolved: 4)\n",
      "[INFO][2023/10/06 04:13:31 PM] Tracking objects in frames 10 to 19 (of 47)...\n",
      "[INFO][2023/10/06 04:13:31 PM]  - Timing (Bayesian updates: 0.00ms, Linking: 0.02ms)\n",
      "[INFO][2023/10/06 04:13:31 PM]  - Probabilities (Link: 1.00000, Lost: 1.00000)\n",
      "[INFO][2023/10/06 04:13:31 PM]  - Stats (Active: 3, Lost: 82, Conflicts resolved: 12)\n",
      "[INFO][2023/10/06 04:13:31 PM] Tracking objects in frames 20 to 29 (of 47)...\n",
      "[INFO][2023/10/06 04:13:31 PM]  - Timing (Bayesian updates: 0.01ms, Linking: 0.06ms)\n",
      "[INFO][2023/10/06 04:13:31 PM]  - Probabilities (Link: 0.99998, Lost: 1.00000)\n",
      "[INFO][2023/10/06 04:13:31 PM]  - Stats (Active: 11, Lost: 96, Conflicts resolved: 22)\n",
      "[INFO][2023/10/06 04:13:31 PM] Tracking objects in frames 30 to 39 (of 47)...\n",
      "[INFO][2023/10/06 04:13:31 PM]  - Timing (Bayesian updates: 0.00ms, Linking: 0.03ms)\n",
      "[INFO][2023/10/06 04:13:31 PM]  - Probabilities (Link: 0.99998, Lost: 0.99996)\n",
      "[INFO][2023/10/06 04:13:31 PM] SUCCESS.\n",
      "[INFO][2023/10/06 04:13:31 PM]  - Found 46 tracks in 47 frames (in 0.0s)\n",
      "[INFO][2023/10/06 04:13:31 PM]  - Inserted 3 dummy objects to fill tracking gaps\n",
      "[INFO][2023/10/06 04:13:31 PM] Loading hypothesis model: particle_hypothesis\n",
      "[INFO][2023/10/06 04:13:31 PM] Calculating hypotheses (relax: True)...\n",
      "[INFO][2023/10/06 04:13:31 PM] Setting up constraints matrix for global optimisation...\n",
      "[INFO][2023/10/06 04:13:31 PM] Using GLPK options: {'tm_lim': 60000}...\n",
      "[INFO][2023/10/06 04:13:31 PM] Optimizing...\n",
      "[INFO][2023/10/06 04:13:31 PM] Optimization complete. (Solution: optimal)\n",
      "[INFO][2023/10/06 04:13:31 PM]  - Fates.FALSE_POSITIVE: 43 (of 46)\n",
      "[INFO][2023/10/06 04:13:31 PM]  - Fates.INITIALIZE_BORDER: 0 (of 1)\n",
      "[INFO][2023/10/06 04:13:31 PM]  - Fates.INITIALIZE_LAZY: 3 (of 45)\n",
      "[INFO][2023/10/06 04:13:31 PM]  - Fates.TERMINATE_BORDER: 0 (of 1)\n",
      "[INFO][2023/10/06 04:13:31 PM]  - Fates.TERMINATE_BACK: 1 (of 6)\n",
      "[INFO][2023/10/06 04:13:31 PM]  - Fates.TERMINATE_LAZY: 2 (of 39)\n",
      "[INFO][2023/10/06 04:13:31 PM]  - TOTAL: 138 hypotheses\n",
      "[INFO][2023/10/06 04:13:31 PM] Completed optimization with 46 tracks\n",
      "[INFO][2023/10/06 04:13:31 PM] Ending BayesianTracker session\n",
      "[INFO][2023/10/06 04:13:31 PM] Opening HDF file: /home/dayn/data/homuncu_loc_temp/seperate_tracks/iAT1_iAT2_experiments/DAPI_NKX21_PDPN_ZO1/sc_analyses/20230801_20X_23-03-002B5_DAPI_NKX2-1_PDPN_ZO-1_Multichannel Z-Stack_20230801_1447_iat1.h5...\n",
      "[INFO][2023/10/06 04:13:31 PM] Writing objects/obj_type_3\n",
      "[INFO][2023/10/06 04:13:31 PM] Writing labels/obj_type_3\n",
      "[INFO][2023/10/06 04:13:31 PM] Loading objects/obj_type_3 (69, 5) (69 filtered: None)\n",
      "[INFO][2023/10/06 04:13:31 PM] Writing properties/obj_type_3/axis_major_length (69,)\n",
      "[INFO][2023/10/06 04:13:31 PM] Writing properties/obj_type_3/axis_minor_length (69,)\n",
      "[INFO][2023/10/06 04:13:31 PM] Writing properties/obj_type_3/eccentricity (69,)\n",
      "[INFO][2023/10/06 04:13:31 PM] Writing properties/obj_type_3/area (69,)\n",
      "[INFO][2023/10/06 04:13:31 PM] Writing properties/obj_type_3/orientation (69,)\n",
      "[INFO][2023/10/06 04:13:31 PM] Writing properties/obj_type_3/mean_intensity (69, 4)\n",
      "[INFO][2023/10/06 04:13:31 PM] Writing properties/obj_type_3/class_id (69,)\n",
      "[INFO][2023/10/06 04:13:31 PM] Writing properties/obj_type_3/mtb_status (69,)\n",
      "[INFO][2023/10/06 04:13:31 PM] Writing properties/obj_type_3/mtb_area (69,)\n",
      "[INFO][2023/10/06 04:13:31 PM] Writing tracks/obj_type_3\n",
      "[INFO][2023/10/06 04:13:31 PM] Writing dummies/obj_type_3\n",
      "[INFO][2023/10/06 04:13:31 PM] Writing LBEP/obj_type_3\n",
      "[INFO][2023/10/06 04:13:31 PM] Writing fates/obj_type_3\n"
     ]
    },
    {
     "name": "stdout",
     "output_type": "stream",
     "text": [
      "GLPK Integer Optimizer 5.0\n",
      "184 rows, 138 columns, 184 non-zeros\n",
      "138 integer variables, all of which are binary\n",
      "Preprocessing...\n",
      "92 rows, 138 columns, 184 non-zeros\n",
      "138 integer variables, all of which are binary\n",
      "Scaling...\n",
      " A: min|aij| =  1.000e+00  max|aij| =  1.000e+00  ratio =  1.000e+00\n",
      "Problem data seem to be well scaled\n",
      "Constructing initial basis...\n",
      "Size of triangular part is 92\n",
      "Solving LP relaxation...\n",
      "GLPK Simplex Optimizer 5.0\n",
      "92 rows, 138 columns, 184 non-zeros\n",
      "*     0: obj =   5.782436089e+02 inf =   0.000e+00 (43)\n",
      "*    43: obj =   1.465600039e+02 inf =   0.000e+00 (0)\n",
      "OPTIMAL LP SOLUTION FOUND\n",
      "Integer optimization begins...\n",
      "Long-step dual simplex will be used\n",
      "+    43: mip =     not found yet >=              -inf        (1; 0)\n",
      "+    43: >>>>>   1.465600039e+02 >=   1.465600039e+02   0.0% (1; 0)\n",
      "+    43: mip =   1.465600039e+02 >=     tree is empty   0.0% (0; 1)\n",
      "INTEGER OPTIMAL SOLUTION FOUND\n"
     ]
    },
    {
     "name": "stderr",
     "output_type": "stream",
     "text": [
      "[INFO][2023/10/06 04:13:36 PM] Closing HDF file: /home/dayn/data/homuncu_loc_temp/seperate_tracks/iAT1_iAT2_experiments/DAPI_NKX21_PDPN_ZO1/sc_analyses/20230801_20X_23-03-002B5_DAPI_NKX2-1_PDPN_ZO-1_Multichannel Z-Stack_20230801_1447_iat1.h5\n"
     ]
    },
    {
     "data": {
      "application/vnd.jupyter.widget-view+json": {
       "model_id": "847adacae78a43a5a80efeaac1eb9c4f",
       "version_major": 2,
       "version_minor": 0
      },
      "text/plain": [
       "finding where segmentation channel is expressed in Z:   0%|          | 0/61 [00:00<?, ?it/s]"
      ]
     },
     "metadata": {},
     "output_type": "display_data"
    },
    {
     "data": {
      "application/vnd.jupyter.widget-view+json": {
       "model_id": "6f79ef4a884d400ca53c4fdba02c591c",
       "version_major": 2,
       "version_minor": 0
      },
      "text/plain": [
       "segmenting over select frames:   0%|          | 0/39 [00:00<?, ?it/s]"
      ]
     },
     "metadata": {},
     "output_type": "display_data"
    },
    {
     "name": "stderr",
     "output_type": "stream",
     "text": [
      "[INFO][2023/10/06 04:29:54 PM] Localizing objects from segmentation...\n"
     ]
    },
    {
     "name": "stdout",
     "output_type": "stream",
     "text": [
      "Update sms failed to send\n"
     ]
    },
    {
     "name": "stderr",
     "output_type": "stream",
     "text": [
      "progress: 100%|███████████████████████████████████████████████████████████████████████████████████████████████████████████████████████████████████████████| 61/61 [00:06<00:00,  9.25it/s]\n",
      "[INFO][2023/10/06 04:30:01 PM] Objects are of type: <class 'dict'>\n",
      "[INFO][2023/10/06 04:30:01 PM] ...Found 149 objects in 44 frames.\n"
     ]
    },
    {
     "data": {
      "application/vnd.jupyter.widget-view+json": {
       "model_id": "63caa5d3eca64de1b7e918639787e167",
       "version_major": 2,
       "version_minor": 0
      },
      "text/plain": [
       "Measuring Mtb properties of each cell:   0%|          | 0/149 [00:00<?, ?it/s]"
      ]
     },
     "metadata": {},
     "output_type": "display_data"
    },
    {
     "name": "stderr",
     "output_type": "stream",
     "text": [
      "[INFO][2023/10/06 04:30:03 PM] Loaded btrack: /home/dayn/analysis/btrack/btrack/libs/libtracker.so\n",
      "[INFO][2023/10/06 04:30:03 PM] Starting BayesianTracker session\n",
      "[INFO][2023/10/06 04:30:03 PM] Loading configuration file: /home/dayn/analysis/models/loc.json\n",
      "[INFO][2023/10/06 04:30:03 PM] Objects are of type: <class 'list'>\n",
      "[INFO][2023/10/06 04:30:03 PM] Starting tracking... \n",
      "[INFO][2023/10/06 04:30:03 PM] Update using: ['MOTION', 'VISUAL']\n",
      "[INFO][2023/10/06 04:30:03 PM] Tracking objects in frames 0 to 9 (of 44)...\n",
      "[INFO][2023/10/06 04:30:03 PM]  - Timing (Bayesian updates: 0.00ms, Linking: 0.01ms)\n",
      "[INFO][2023/10/06 04:30:03 PM]  - Probabilities (Link: 1.00000, Lost: 1.00000)\n",
      "[INFO][2023/10/06 04:30:03 PM]  - Stats (Active: 4, Lost: 74, Conflicts resolved: 6)\n",
      "[INFO][2023/10/06 04:30:03 PM] Tracking objects in frames 10 to 19 (of 44)...\n",
      "[INFO][2023/10/06 04:30:03 PM]  - Timing (Bayesian updates: 0.00ms, Linking: 0.05ms)\n",
      "[INFO][2023/10/06 04:30:03 PM]  - Probabilities (Link: 1.00000, Lost: 1.00000)\n",
      "[INFO][2023/10/06 04:30:03 PM]  - Stats (Active: 13, Lost: 112, Conflicts resolved: 10)\n",
      "[INFO][2023/10/06 04:30:03 PM] Tracking objects in frames 20 to 29 (of 44)...\n",
      "[INFO][2023/10/06 04:30:03 PM]  - Timing (Bayesian updates: 0.00ms, Linking: 0.04ms)\n",
      "[INFO][2023/10/06 04:30:03 PM]  - Probabilities (Link: 1.00000, Lost: 1.00000)\n",
      "[INFO][2023/10/06 04:30:03 PM] SUCCESS.\n",
      "[INFO][2023/10/06 04:30:03 PM]  - Found 42 tracks in 44 frames (in 0.0s)\n",
      "[INFO][2023/10/06 04:30:03 PM]  - Inserted 13 dummy objects to fill tracking gaps\n",
      "[INFO][2023/10/06 04:30:03 PM] Loading hypothesis model: particle_hypothesis\n",
      "[INFO][2023/10/06 04:30:03 PM] Calculating hypotheses (relax: True)...\n",
      "[INFO][2023/10/06 04:30:03 PM] Setting up constraints matrix for global optimisation...\n",
      "[INFO][2023/10/06 04:30:03 PM] Using GLPK options: {'tm_lim': 60000}...\n",
      "[INFO][2023/10/06 04:30:03 PM] Optimizing...\n",
      "[INFO][2023/10/06 04:30:03 PM] Optimization complete. (Solution: optimal)\n",
      "[INFO][2023/10/06 04:30:03 PM]  - Fates.FALSE_POSITIVE: 36 (of 42)\n",
      "[INFO][2023/10/06 04:30:03 PM]  - Fates.INITIALIZE_BORDER: 1 (of 1)\n",
      "[INFO][2023/10/06 04:30:03 PM]  - Fates.INITIALIZE_LAZY: 5 (of 41)\n",
      "[INFO][2023/10/06 04:30:03 PM]  - Fates.TERMINATE_BORDER: 1 (of 1)\n",
      "[INFO][2023/10/06 04:30:03 PM]  - Fates.TERMINATE_BACK: 0 (of 3)\n",
      "[INFO][2023/10/06 04:30:03 PM]  - Fates.TERMINATE_LAZY: 5 (of 38)\n",
      "[INFO][2023/10/06 04:30:03 PM]  - TOTAL: 126 hypotheses\n",
      "[INFO][2023/10/06 04:30:03 PM] Completed optimization with 42 tracks\n",
      "[INFO][2023/10/06 04:30:03 PM] Ending BayesianTracker session\n",
      "[INFO][2023/10/06 04:30:03 PM] Opening HDF file: /home/dayn/data/homuncu_loc_temp/seperate_tracks/iAT1_iAT2_experiments/DAPI_NKX21_PDPN_ZO1/sc_analyses/20230801_20X_23-03-002B5_DAPI_NKX2-1_PDPN_ZO-1_Multichannel Z-Stack_20230801_1448_iat1.h5...\n",
      "[INFO][2023/10/06 04:30:03 PM] Writing objects/obj_type_3\n",
      "[INFO][2023/10/06 04:30:03 PM] Writing labels/obj_type_3\n",
      "[INFO][2023/10/06 04:30:03 PM] Loading objects/obj_type_3 (96, 5) (96 filtered: None)\n",
      "[INFO][2023/10/06 04:30:03 PM] Writing properties/obj_type_3/axis_major_length (96,)\n",
      "[INFO][2023/10/06 04:30:03 PM] Writing properties/obj_type_3/axis_minor_length (96,)\n",
      "[INFO][2023/10/06 04:30:03 PM] Writing properties/obj_type_3/eccentricity (96,)\n",
      "[INFO][2023/10/06 04:30:03 PM] Writing properties/obj_type_3/area (96,)\n",
      "[INFO][2023/10/06 04:30:03 PM] Writing properties/obj_type_3/orientation (96,)\n",
      "[INFO][2023/10/06 04:30:03 PM] Writing properties/obj_type_3/mean_intensity (96, 4)\n",
      "[INFO][2023/10/06 04:30:03 PM] Writing properties/obj_type_3/class_id (96,)\n",
      "[INFO][2023/10/06 04:30:03 PM] Writing properties/obj_type_3/mtb_status (96,)\n",
      "[INFO][2023/10/06 04:30:03 PM] Writing properties/obj_type_3/mtb_area (96,)\n",
      "[INFO][2023/10/06 04:30:03 PM] Writing tracks/obj_type_3\n",
      "[INFO][2023/10/06 04:30:03 PM] Writing dummies/obj_type_3\n",
      "[INFO][2023/10/06 04:30:03 PM] Writing LBEP/obj_type_3\n",
      "[INFO][2023/10/06 04:30:03 PM] Writing fates/obj_type_3\n"
     ]
    },
    {
     "name": "stdout",
     "output_type": "stream",
     "text": [
      "GLPK Integer Optimizer 5.0\n",
      "168 rows, 126 columns, 168 non-zeros\n",
      "126 integer variables, all of which are binary\n",
      "Preprocessing...\n",
      "84 rows, 126 columns, 168 non-zeros\n",
      "126 integer variables, all of which are binary\n",
      "Scaling...\n",
      " A: min|aij| =  1.000e+00  max|aij| =  1.000e+00  ratio =  1.000e+00\n",
      "Problem data seem to be well scaled\n",
      "Constructing initial basis...\n",
      "Size of triangular part is 84\n",
      "Solving LP relaxation...\n",
      "GLPK Simplex Optimizer 5.0\n",
      "84 rows, 126 columns, 168 non-zeros\n",
      "*     0: obj =   5.324033596e+02 inf =   0.000e+00 (36)\n",
      "*    36: obj =   1.855372023e+02 inf =   0.000e+00 (0)\n",
      "OPTIMAL LP SOLUTION FOUND\n",
      "Integer optimization begins...\n",
      "Long-step dual simplex will be used\n",
      "+    36: mip =     not found yet >=              -inf        (1; 0)\n",
      "+    36: >>>>>   1.855372023e+02 >=   1.855372023e+02   0.0% (1; 0)\n",
      "+    36: mip =   1.855372023e+02 >=     tree is empty   0.0% (0; 1)\n",
      "INTEGER OPTIMAL SOLUTION FOUND\n"
     ]
    },
    {
     "name": "stderr",
     "output_type": "stream",
     "text": [
      "[INFO][2023/10/06 04:30:06 PM] Closing HDF file: /home/dayn/data/homuncu_loc_temp/seperate_tracks/iAT1_iAT2_experiments/DAPI_NKX21_PDPN_ZO1/sc_analyses/20230801_20X_23-03-002B5_DAPI_NKX2-1_PDPN_ZO-1_Multichannel Z-Stack_20230801_1448_iat1.h5\n"
     ]
    },
    {
     "data": {
      "application/vnd.jupyter.widget-view+json": {
       "model_id": "fa5e5243c5e74f8bb41e9b5c3f11584e",
       "version_major": 2,
       "version_minor": 0
      },
      "text/plain": [
       "finding where segmentation channel is expressed in Z:   0%|          | 0/61 [00:00<?, ?it/s]"
      ]
     },
     "metadata": {},
     "output_type": "display_data"
    },
    {
     "data": {
      "application/vnd.jupyter.widget-view+json": {
       "model_id": "9ced33bae4ea49bca2869f81ba46c028",
       "version_major": 2,
       "version_minor": 0
      },
      "text/plain": [
       "segmenting over select frames:   0%|          | 0/22 [00:00<?, ?it/s]"
      ]
     },
     "metadata": {},
     "output_type": "display_data"
    },
    {
     "name": "stderr",
     "output_type": "stream",
     "text": [
      "[INFO][2023/10/06 04:51:37 PM] Localizing objects from segmentation...\n"
     ]
    },
    {
     "name": "stdout",
     "output_type": "stream",
     "text": [
      "Update sms failed to send\n"
     ]
    },
    {
     "name": "stderr",
     "output_type": "stream",
     "text": [
      "progress: 100%|███████████████████████████████████████████████████████████████████████████████████████████████████████████████████████████████████████████| 61/61 [00:06<00:00,  8.87it/s]\n",
      "[INFO][2023/10/06 04:51:44 PM] Objects are of type: <class 'dict'>\n",
      "[INFO][2023/10/06 04:51:44 PM] ...Found 1559 objects in 36 frames.\n"
     ]
    },
    {
     "data": {
      "application/vnd.jupyter.widget-view+json": {
       "model_id": "9a462eea43bd4890b6683759c9ed12a8",
       "version_major": 2,
       "version_minor": 0
      },
      "text/plain": [
       "Measuring Mtb properties of each cell:   0%|          | 0/1559 [00:00<?, ?it/s]"
      ]
     },
     "metadata": {},
     "output_type": "display_data"
    },
    {
     "name": "stderr",
     "output_type": "stream",
     "text": [
      "[INFO][2023/10/06 04:52:08 PM] Loaded btrack: /home/dayn/analysis/btrack/btrack/libs/libtracker.so\n",
      "[INFO][2023/10/06 04:52:08 PM] Starting BayesianTracker session\n",
      "[INFO][2023/10/06 04:52:08 PM] Loading configuration file: /home/dayn/analysis/models/loc.json\n",
      "[INFO][2023/10/06 04:52:08 PM] Objects are of type: <class 'list'>\n",
      "[INFO][2023/10/06 04:52:08 PM] Starting tracking... \n",
      "[INFO][2023/10/06 04:52:08 PM] Update using: ['MOTION', 'VISUAL']\n",
      "[INFO][2023/10/06 04:52:08 PM] Tracking objects in frames 0 to 9 (of 36)...\n",
      "[INFO][2023/10/06 04:52:08 PM]  - Timing (Bayesian updates: 0.45ms, Linking: 0.45ms)\n",
      "[INFO][2023/10/06 04:52:08 PM]  - Probabilities (Link: 1.00000, Lost: 0.94427)\n",
      "[INFO][2023/10/06 04:52:08 PM]  - Stats (Active: 126, Lost: 713, Conflicts resolved: 90)\n",
      "[INFO][2023/10/06 04:52:08 PM] Tracking objects in frames 10 to 19 (of 36)...\n",
      "[INFO][2023/10/06 04:52:08 PM]  - Timing (Bayesian updates: 2.55ms, Linking: 1.55ms)\n",
      "[INFO][2023/10/06 04:52:08 PM]  - Probabilities (Link: 1.00000, Lost: 1.00000)\n",
      "[INFO][2023/10/06 04:52:08 PM] SUCCESS.\n",
      "[INFO][2023/10/06 04:52:08 PM]  - Found 550 tracks in 36 frames (in 0.0s)\n",
      "[INFO][2023/10/06 04:52:08 PM]  - Inserted 65 dummy objects to fill tracking gaps\n",
      "[INFO][2023/10/06 04:52:08 PM] Loading hypothesis model: particle_hypothesis\n",
      "[INFO][2023/10/06 04:52:08 PM] Calculating hypotheses (relax: True)...\n",
      "[INFO][2023/10/06 04:52:08 PM] Setting up constraints matrix for global optimisation...\n",
      "[INFO][2023/10/06 04:52:08 PM] Using GLPK options: {'tm_lim': 60000}...\n",
      "[INFO][2023/10/06 04:52:08 PM] Optimizing...\n",
      "[INFO][2023/10/06 04:52:08 PM] Optimization complete. (Solution: optimal)\n",
      "[INFO][2023/10/06 04:52:08 PM]  - Fates.FALSE_POSITIVE: 509 (of 550)\n",
      "[INFO][2023/10/06 04:52:08 PM]  - Fates.INITIALIZE_BORDER: 4 (of 21)\n",
      "[INFO][2023/10/06 04:52:08 PM]  - Fates.INITIALIZE_LAZY: 37 (of 529)\n",
      "[INFO][2023/10/06 04:52:08 PM]  - Fates.TERMINATE_BORDER: 2 (of 19)\n",
      "[INFO][2023/10/06 04:52:08 PM]  - Fates.TERMINATE_BACK: 4 (of 213)\n",
      "[INFO][2023/10/06 04:52:08 PM]  - Fates.TERMINATE_LAZY: 35 (of 318)\n",
      "[INFO][2023/10/06 04:52:08 PM]  - TOTAL: 1650 hypotheses\n",
      "[INFO][2023/10/06 04:52:08 PM] Completed optimization with 550 tracks\n",
      "[INFO][2023/10/06 04:52:08 PM] Ending BayesianTracker session\n",
      "[INFO][2023/10/06 04:52:08 PM] Opening HDF file: /home/dayn/data/homuncu_loc_temp/seperate_tracks/iAT1_iAT2_experiments/DAPI_SPC_PDPN_ZO1/sc_analyses/20230801_20X_23-03-002B6_DAPI_SP-C_PDPN_ZO-1_Multichannel Z-Stack_20230801_1449_iat1.h5...\n",
      "[INFO][2023/10/06 04:52:08 PM] Writing objects/obj_type_3\n",
      "[INFO][2023/10/06 04:52:08 PM] Writing labels/obj_type_3\n",
      "[INFO][2023/10/06 04:52:08 PM] Loading objects/obj_type_3 (890, 5) (890 filtered: None)\n",
      "[INFO][2023/10/06 04:52:09 PM] Writing properties/obj_type_3/axis_major_length (890,)\n",
      "[INFO][2023/10/06 04:52:09 PM] Writing properties/obj_type_3/axis_minor_length (890,)\n",
      "[INFO][2023/10/06 04:52:09 PM] Writing properties/obj_type_3/eccentricity (890,)\n",
      "[INFO][2023/10/06 04:52:09 PM] Writing properties/obj_type_3/area (890,)\n",
      "[INFO][2023/10/06 04:52:09 PM] Writing properties/obj_type_3/orientation (890,)\n",
      "[INFO][2023/10/06 04:52:09 PM] Writing properties/obj_type_3/mean_intensity (890, 4)\n",
      "[INFO][2023/10/06 04:52:09 PM] Writing properties/obj_type_3/class_id (890,)\n",
      "[INFO][2023/10/06 04:52:09 PM] Writing properties/obj_type_3/mtb_status (890,)\n",
      "[INFO][2023/10/06 04:52:09 PM] Writing properties/obj_type_3/mtb_area (890,)\n",
      "[INFO][2023/10/06 04:52:09 PM] Writing tracks/obj_type_3\n",
      "[INFO][2023/10/06 04:52:09 PM] Writing dummies/obj_type_3\n",
      "[INFO][2023/10/06 04:52:09 PM] Writing LBEP/obj_type_3\n",
      "[INFO][2023/10/06 04:52:09 PM] Writing fates/obj_type_3\n"
     ]
    },
    {
     "name": "stdout",
     "output_type": "stream",
     "text": [
      "GLPK Integer Optimizer 5.0\n",
      "2200 rows, 1650 columns, 2200 non-zeros\n",
      "1650 integer variables, all of which are binary\n",
      "Preprocessing...\n",
      "1100 rows, 1650 columns, 2200 non-zeros\n",
      "1650 integer variables, all of which are binary\n",
      "Scaling...\n",
      " A: min|aij| =  1.000e+00  max|aij| =  1.000e+00  ratio =  1.000e+00\n",
      "Problem data seem to be well scaled\n",
      "Constructing initial basis...\n",
      "Size of triangular part is 1100\n",
      "Solving LP relaxation...\n",
      "GLPK Simplex Optimizer 5.0\n",
      "1100 rows, 1650 columns, 2200 non-zeros\n",
      "*     0: obj =   5.971187158e+03 inf =   0.000e+00 (509)\n",
      "*   509: obj =   2.007298816e+03 inf =   0.000e+00 (0)\n",
      "OPTIMAL LP SOLUTION FOUND\n",
      "Integer optimization begins...\n",
      "Long-step dual simplex will be used\n",
      "+   509: mip =     not found yet >=              -inf        (1; 0)\n",
      "+   509: >>>>>   2.007298816e+03 >=   2.007298816e+03   0.0% (1; 0)\n",
      "+   509: mip =   2.007298816e+03 >=     tree is empty   0.0% (0; 1)\n",
      "INTEGER OPTIMAL SOLUTION FOUND\n"
     ]
    },
    {
     "name": "stderr",
     "output_type": "stream",
     "text": [
      "[INFO][2023/10/06 04:52:13 PM] Closing HDF file: /home/dayn/data/homuncu_loc_temp/seperate_tracks/iAT1_iAT2_experiments/DAPI_SPC_PDPN_ZO1/sc_analyses/20230801_20X_23-03-002B6_DAPI_SP-C_PDPN_ZO-1_Multichannel Z-Stack_20230801_1449_iat1.h5\n"
     ]
    },
    {
     "data": {
      "application/vnd.jupyter.widget-view+json": {
       "model_id": "dc2d17f1ff214f80a663f986367425df",
       "version_major": 2,
       "version_minor": 0
      },
      "text/plain": [
       "finding where segmentation channel is expressed in Z:   0%|          | 0/61 [00:00<?, ?it/s]"
      ]
     },
     "metadata": {},
     "output_type": "display_data"
    },
    {
     "data": {
      "application/vnd.jupyter.widget-view+json": {
       "model_id": "bc6ec96836a44738807b107ae11372d8",
       "version_major": 2,
       "version_minor": 0
      },
      "text/plain": [
       "segmenting over select frames:   0%|          | 0/22 [00:00<?, ?it/s]"
      ]
     },
     "metadata": {},
     "output_type": "display_data"
    },
    {
     "name": "stderr",
     "output_type": "stream",
     "text": [
      "[INFO][2023/10/06 05:12:42 PM] Localizing objects from segmentation...\n"
     ]
    },
    {
     "name": "stdout",
     "output_type": "stream",
     "text": [
      "Update sms failed to send\n"
     ]
    },
    {
     "name": "stderr",
     "output_type": "stream",
     "text": [
      "progress: 100%|███████████████████████████████████████████████████████████████████████████████████████████████████████████████████████████████████████████| 61/61 [00:06<00:00,  9.35it/s]\n",
      "[INFO][2023/10/06 05:12:49 PM] Objects are of type: <class 'dict'>\n",
      "[INFO][2023/10/06 05:12:49 PM] ...Found 1832 objects in 40 frames.\n"
     ]
    },
    {
     "data": {
      "application/vnd.jupyter.widget-view+json": {
       "model_id": "72a3a27373ec489a91aae62636389928",
       "version_major": 2,
       "version_minor": 0
      },
      "text/plain": [
       "Measuring Mtb properties of each cell:   0%|          | 0/1832 [00:00<?, ?it/s]"
      ]
     },
     "metadata": {},
     "output_type": "display_data"
    },
    {
     "name": "stderr",
     "output_type": "stream",
     "text": [
      "[INFO][2023/10/06 05:13:19 PM] Loaded btrack: /home/dayn/analysis/btrack/btrack/libs/libtracker.so\n",
      "[INFO][2023/10/06 05:13:19 PM] Starting BayesianTracker session\n",
      "[INFO][2023/10/06 05:13:19 PM] Loading configuration file: /home/dayn/analysis/models/loc.json\n",
      "[INFO][2023/10/06 05:13:19 PM] Objects are of type: <class 'list'>\n",
      "[INFO][2023/10/06 05:13:19 PM] Starting tracking... \n",
      "[INFO][2023/10/06 05:13:19 PM] Update using: ['MOTION', 'VISUAL']\n",
      "[INFO][2023/10/06 05:13:19 PM] Tracking objects in frames 0 to 9 (of 40)...\n",
      "[INFO][2023/10/06 05:13:19 PM]  - Timing (Bayesian updates: 0.17ms, Linking: 0.25ms)\n",
      "[INFO][2023/10/06 05:13:19 PM]  - Probabilities (Link: 0.99999, Lost: 1.00000)\n",
      "[INFO][2023/10/06 05:13:19 PM]  - Stats (Active: 96, Lost: 470, Conflicts resolved: 81)\n",
      "[INFO][2023/10/06 05:13:19 PM] Tracking objects in frames 10 to 19 (of 40)...\n",
      "[INFO][2023/10/06 05:13:20 PM]  - Timing (Bayesian updates: 15.88ms, Linking: 2.19ms)\n",
      "[INFO][2023/10/06 05:13:20 PM]  - Probabilities (Link: 1.00000, Lost: 1.00000)\n",
      "[INFO][2023/10/06 05:13:20 PM] SUCCESS.\n",
      "[INFO][2023/10/06 05:13:20 PM]  - Found 746 tracks in 40 frames (in 0.0s)\n",
      "[INFO][2023/10/06 05:13:20 PM]  - Inserted 77 dummy objects to fill tracking gaps\n",
      "[INFO][2023/10/06 05:13:20 PM] Loading hypothesis model: particle_hypothesis\n",
      "[INFO][2023/10/06 05:13:20 PM] Calculating hypotheses (relax: True)...\n",
      "[INFO][2023/10/06 05:13:20 PM] Setting up constraints matrix for global optimisation...\n",
      "[INFO][2023/10/06 05:13:20 PM] Using GLPK options: {'tm_lim': 60000}...\n",
      "[INFO][2023/10/06 05:13:20 PM] Optimizing...\n",
      "[INFO][2023/10/06 05:13:20 PM] Optimization complete. (Solution: optimal)\n",
      "[INFO][2023/10/06 05:13:20 PM]  - Fates.FALSE_POSITIVE: 701 (of 746)\n",
      "[INFO][2023/10/06 05:13:20 PM]  - Fates.LINK: 0 (of 5)\n",
      "[INFO][2023/10/06 05:13:20 PM]  - Fates.INITIALIZE_BORDER: 7 (of 22)\n",
      "[INFO][2023/10/06 05:13:20 PM]  - Fates.INITIALIZE_LAZY: 38 (of 724)\n",
      "[INFO][2023/10/06 05:13:20 PM]  - Fates.TERMINATE_BORDER: 4 (of 9)\n",
      "[INFO][2023/10/06 05:13:20 PM]  - Fates.TERMINATE_BACK: 14 (of 466)\n",
      "[INFO][2023/10/06 05:13:20 PM]  - Fates.TERMINATE_LAZY: 27 (of 271)\n",
      "[INFO][2023/10/06 05:13:20 PM]  - TOTAL: 2243 hypotheses\n",
      "[INFO][2023/10/06 05:13:20 PM] Completed optimization with 746 tracks\n",
      "[INFO][2023/10/06 05:13:20 PM] Ending BayesianTracker session\n",
      "[INFO][2023/10/06 05:13:20 PM] Opening HDF file: /home/dayn/data/homuncu_loc_temp/seperate_tracks/iAT1_iAT2_experiments/DAPI_SPC_PDPN_ZO1/sc_analyses/20230801_20X_23-03-002B6_DAPI_SP-C_PDPN_ZO-1_Multichannel Z-Stack_20230801_1450_iat1.h5...\n",
      "[INFO][2023/10/06 05:13:20 PM] Writing objects/obj_type_3\n",
      "[INFO][2023/10/06 05:13:20 PM] Writing labels/obj_type_3\n",
      "[INFO][2023/10/06 05:13:20 PM] Loading objects/obj_type_3 (1067, 5) (1067 filtered: None)\n",
      "[INFO][2023/10/06 05:13:20 PM] Writing properties/obj_type_3/axis_major_length (1067,)\n",
      "[INFO][2023/10/06 05:13:20 PM] Writing properties/obj_type_3/axis_minor_length (1067,)\n",
      "[INFO][2023/10/06 05:13:20 PM] Writing properties/obj_type_3/eccentricity (1067,)\n",
      "[INFO][2023/10/06 05:13:20 PM] Writing properties/obj_type_3/area (1067,)\n",
      "[INFO][2023/10/06 05:13:20 PM] Writing properties/obj_type_3/orientation (1067,)\n",
      "[INFO][2023/10/06 05:13:20 PM] Writing properties/obj_type_3/mean_intensity (1067, 4)\n",
      "[INFO][2023/10/06 05:13:20 PM] Writing properties/obj_type_3/class_id (1067,)\n",
      "[INFO][2023/10/06 05:13:20 PM] Writing properties/obj_type_3/mtb_status (1067,)\n",
      "[INFO][2023/10/06 05:13:20 PM] Writing properties/obj_type_3/mtb_area (1067,)\n",
      "[INFO][2023/10/06 05:13:20 PM] Writing tracks/obj_type_3\n",
      "[INFO][2023/10/06 05:13:20 PM] Writing dummies/obj_type_3\n",
      "[INFO][2023/10/06 05:13:20 PM] Writing LBEP/obj_type_3\n",
      "[INFO][2023/10/06 05:13:20 PM] Writing fates/obj_type_3\n"
     ]
    },
    {
     "name": "stdout",
     "output_type": "stream",
     "text": [
      "GLPK Integer Optimizer 5.0\n",
      "2984 rows, 2243 columns, 2994 non-zeros\n",
      "2243 integer variables, all of which are binary\n",
      "Preprocessing...\n",
      "1492 rows, 2243 columns, 2994 non-zeros\n",
      "2243 integer variables, all of which are binary\n",
      "Scaling...\n",
      " A: min|aij| =  1.000e+00  max|aij| =  1.000e+00  ratio =  1.000e+00\n",
      "Problem data seem to be well scaled\n",
      "Constructing initial basis...\n",
      "Size of triangular part is 1492\n",
      "Solving LP relaxation...\n",
      "GLPK Simplex Optimizer 5.0\n",
      "1492 rows, 2243 columns, 2994 non-zeros\n",
      "*     0: obj =   7.013055899e+03 inf =   0.000e+00 (706)\n",
      "*   709: obj =   2.373898878e+03 inf =   0.000e+00 (0)\n",
      "OPTIMAL LP SOLUTION FOUND\n",
      "Integer optimization begins...\n",
      "Long-step dual simplex will be used\n",
      "+   709: mip =     not found yet >=              -inf        (1; 0)\n",
      "+   709: >>>>>   2.373898878e+03 >=   2.373898878e+03   0.0% (1; 0)\n",
      "+   709: mip =   2.373898878e+03 >=     tree is empty   0.0% (0; 1)\n",
      "INTEGER OPTIMAL SOLUTION FOUND\n"
     ]
    },
    {
     "name": "stderr",
     "output_type": "stream",
     "text": [
      "[INFO][2023/10/06 05:13:23 PM] Closing HDF file: /home/dayn/data/homuncu_loc_temp/seperate_tracks/iAT1_iAT2_experiments/DAPI_SPC_PDPN_ZO1/sc_analyses/20230801_20X_23-03-002B6_DAPI_SP-C_PDPN_ZO-1_Multichannel Z-Stack_20230801_1450_iat1.h5\n"
     ]
    },
    {
     "data": {
      "application/vnd.jupyter.widget-view+json": {
       "model_id": "27cfa10a5a4b40f98619705447a416af",
       "version_major": 2,
       "version_minor": 0
      },
      "text/plain": [
       "finding where segmentation channel is expressed in Z:   0%|          | 0/61 [00:00<?, ?it/s]"
      ]
     },
     "metadata": {},
     "output_type": "display_data"
    },
    {
     "data": {
      "application/vnd.jupyter.widget-view+json": {
       "model_id": "c688b10920ca42c2b678f342c9e4cf46",
       "version_major": 2,
       "version_minor": 0
      },
      "text/plain": [
       "segmenting over select frames:   0%|          | 0/21 [00:00<?, ?it/s]"
      ]
     },
     "metadata": {},
     "output_type": "display_data"
    },
    {
     "name": "stderr",
     "output_type": "stream",
     "text": [
      "[INFO][2023/10/06 05:32:00 PM] Localizing objects from segmentation...\n"
     ]
    },
    {
     "name": "stdout",
     "output_type": "stream",
     "text": [
      "Update sms failed to send\n"
     ]
    },
    {
     "name": "stderr",
     "output_type": "stream",
     "text": [
      "progress: 100%|███████████████████████████████████████████████████████████████████████████████████████████████████████████████████████████████████████████| 61/61 [00:04<00:00, 14.75it/s]\n",
      "[INFO][2023/10/06 05:32:05 PM] Objects are of type: <class 'dict'>\n",
      "[INFO][2023/10/06 05:32:05 PM] ...Found 1508 objects in 38 frames.\n"
     ]
    },
    {
     "data": {
      "application/vnd.jupyter.widget-view+json": {
       "model_id": "02077603dc7445238adc9fc99a080083",
       "version_major": 2,
       "version_minor": 0
      },
      "text/plain": [
       "Measuring Mtb properties of each cell:   0%|          | 0/1508 [00:00<?, ?it/s]"
      ]
     },
     "metadata": {},
     "output_type": "display_data"
    },
    {
     "name": "stderr",
     "output_type": "stream",
     "text": [
      "[INFO][2023/10/06 05:32:31 PM] Loaded btrack: /home/dayn/analysis/btrack/btrack/libs/libtracker.so\n",
      "[INFO][2023/10/06 05:32:31 PM] Starting BayesianTracker session\n",
      "[INFO][2023/10/06 05:32:31 PM] Loading configuration file: /home/dayn/analysis/models/loc.json\n",
      "[INFO][2023/10/06 05:32:31 PM] Objects are of type: <class 'list'>\n",
      "[INFO][2023/10/06 05:32:31 PM] Starting tracking... \n",
      "[INFO][2023/10/06 05:32:31 PM] Update using: ['MOTION', 'VISUAL']\n",
      "[INFO][2023/10/06 05:32:31 PM] Tracking objects in frames 0 to 9 (of 38)...\n",
      "[INFO][2023/10/06 05:32:31 PM]  - Timing (Bayesian updates: 0.41ms, Linking: 0.34ms)\n",
      "[INFO][2023/10/06 05:32:31 PM]  - Probabilities (Link: 1.00000, Lost: 1.00000)\n",
      "[INFO][2023/10/06 05:32:31 PM]  - Stats (Active: 119, Lost: 606, Conflicts resolved: 85)\n",
      "[INFO][2023/10/06 05:32:31 PM] Tracking objects in frames 10 to 19 (of 38)...\n",
      "[INFO][2023/10/06 05:32:31 PM]  - Timing (Bayesian updates: 1.99ms, Linking: 1.13ms)\n",
      "[INFO][2023/10/06 05:32:31 PM]  - Probabilities (Link: 1.00000, Lost: 1.00000)\n",
      "[INFO][2023/10/06 05:32:31 PM] SUCCESS.\n",
      "[INFO][2023/10/06 05:32:31 PM]  - Found 535 tracks in 38 frames (in 0.0s)\n",
      "[INFO][2023/10/06 05:32:31 PM]  - Inserted 75 dummy objects to fill tracking gaps\n",
      "[INFO][2023/10/06 05:32:31 PM] Loading hypothesis model: particle_hypothesis\n",
      "[INFO][2023/10/06 05:32:31 PM] Calculating hypotheses (relax: True)...\n",
      "[INFO][2023/10/06 05:32:31 PM] Setting up constraints matrix for global optimisation...\n",
      "[INFO][2023/10/06 05:32:31 PM] Using GLPK options: {'tm_lim': 60000}...\n",
      "[INFO][2023/10/06 05:32:31 PM] Optimizing...\n",
      "[INFO][2023/10/06 05:32:32 PM] Optimization complete. (Solution: optimal)\n",
      "[INFO][2023/10/06 05:32:32 PM]  - Fates.FALSE_POSITIVE: 494 (of 535)\n",
      "[INFO][2023/10/06 05:32:32 PM]  - Fates.INITIALIZE_BORDER: 1 (of 21)\n",
      "[INFO][2023/10/06 05:32:32 PM]  - Fates.INITIALIZE_LAZY: 40 (of 514)\n",
      "[INFO][2023/10/06 05:32:32 PM]  - Fates.TERMINATE_BORDER: 1 (of 14)\n",
      "[INFO][2023/10/06 05:32:32 PM]  - Fates.TERMINATE_BACK: 13 (of 181)\n",
      "[INFO][2023/10/06 05:32:32 PM]  - Fates.TERMINATE_LAZY: 27 (of 340)\n",
      "[INFO][2023/10/06 05:32:32 PM]  - TOTAL: 1605 hypotheses\n",
      "[INFO][2023/10/06 05:32:32 PM] Completed optimization with 535 tracks\n",
      "[INFO][2023/10/06 05:32:32 PM] Ending BayesianTracker session\n",
      "[INFO][2023/10/06 05:32:32 PM] Opening HDF file: /home/dayn/data/homuncu_loc_temp/seperate_tracks/iAT1_iAT2_experiments/DAPI_SPC_PDPN_ZO1/sc_analyses/20230801_20X_23-03-002B6_DAPI_SP-C_PDPN_ZO-1_Multichannel Z-Stack_20230801_1451_iat1.h5...\n",
      "[INFO][2023/10/06 05:32:32 PM] Writing objects/obj_type_3\n",
      "[INFO][2023/10/06 05:32:32 PM] Writing labels/obj_type_3\n",
      "[INFO][2023/10/06 05:32:32 PM] Loading objects/obj_type_3 (895, 5) (895 filtered: None)\n",
      "[INFO][2023/10/06 05:32:32 PM] Writing properties/obj_type_3/axis_major_length (895,)\n",
      "[INFO][2023/10/06 05:32:32 PM] Writing properties/obj_type_3/axis_minor_length (895,)\n",
      "[INFO][2023/10/06 05:32:32 PM] Writing properties/obj_type_3/eccentricity (895,)\n",
      "[INFO][2023/10/06 05:32:32 PM] Writing properties/obj_type_3/area (895,)\n",
      "[INFO][2023/10/06 05:32:32 PM] Writing properties/obj_type_3/orientation (895,)\n",
      "[INFO][2023/10/06 05:32:32 PM] Writing properties/obj_type_3/mean_intensity (895, 4)\n",
      "[INFO][2023/10/06 05:32:32 PM] Writing properties/obj_type_3/class_id (895,)\n",
      "[INFO][2023/10/06 05:32:32 PM] Writing properties/obj_type_3/mtb_status (895,)\n",
      "[INFO][2023/10/06 05:32:32 PM] Writing properties/obj_type_3/mtb_area (895,)\n",
      "[INFO][2023/10/06 05:32:32 PM] Writing tracks/obj_type_3\n",
      "[INFO][2023/10/06 05:32:32 PM] Writing dummies/obj_type_3\n",
      "[INFO][2023/10/06 05:32:32 PM] Writing LBEP/obj_type_3\n",
      "[INFO][2023/10/06 05:32:32 PM] Writing fates/obj_type_3\n"
     ]
    },
    {
     "name": "stdout",
     "output_type": "stream",
     "text": [
      "GLPK Integer Optimizer 5.0\n",
      "2140 rows, 1605 columns, 2140 non-zeros\n",
      "1605 integer variables, all of which are binary\n",
      "Preprocessing...\n",
      "1070 rows, 1605 columns, 2140 non-zeros\n",
      "1605 integer variables, all of which are binary\n",
      "Scaling...\n",
      " A: min|aij| =  1.000e+00  max|aij| =  1.000e+00  ratio =  1.000e+00\n",
      "Problem data seem to be well scaled\n",
      "Constructing initial basis...\n",
      "Size of triangular part is 1070\n",
      "Solving LP relaxation...\n",
      "GLPK Simplex Optimizer 5.0\n",
      "1070 rows, 1605 columns, 2140 non-zeros\n",
      "*     0: obj =   6.006211164e+03 inf =   0.000e+00 (494)\n",
      "*   494: obj =   1.940774495e+03 inf =   0.000e+00 (0)\n",
      "OPTIMAL LP SOLUTION FOUND\n",
      "Integer optimization begins...\n",
      "Long-step dual simplex will be used\n",
      "+   494: mip =     not found yet >=              -inf        (1; 0)\n",
      "+   494: >>>>>   1.940774495e+03 >=   1.940774495e+03   0.0% (1; 0)\n",
      "+   494: mip =   1.940774495e+03 >=     tree is empty   0.0% (0; 1)\n",
      "INTEGER OPTIMAL SOLUTION FOUND\n"
     ]
    },
    {
     "name": "stderr",
     "output_type": "stream",
     "text": [
      "[INFO][2023/10/06 05:32:38 PM] Closing HDF file: /home/dayn/data/homuncu_loc_temp/seperate_tracks/iAT1_iAT2_experiments/DAPI_SPC_PDPN_ZO1/sc_analyses/20230801_20X_23-03-002B6_DAPI_SP-C_PDPN_ZO-1_Multichannel Z-Stack_20230801_1451_iat1.h5\n"
     ]
    },
    {
     "data": {
      "application/vnd.jupyter.widget-view+json": {
       "model_id": "42a353f7a6164c79905417395e802b60",
       "version_major": 2,
       "version_minor": 0
      },
      "text/plain": [
       "finding where segmentation channel is expressed in Z:   0%|          | 0/90 [00:00<?, ?it/s]"
      ]
     },
     "metadata": {},
     "output_type": "display_data"
    },
    {
     "data": {
      "application/vnd.jupyter.widget-view+json": {
       "model_id": "8eccbe388c31489882f6c9c406ac3965",
       "version_major": 2,
       "version_minor": 0
      },
      "text/plain": [
       "segmenting over select frames:   0%|          | 0/32 [00:00<?, ?it/s]"
      ]
     },
     "metadata": {},
     "output_type": "display_data"
    },
    {
     "name": "stderr",
     "output_type": "stream",
     "text": [
      "[INFO][2023/10/06 06:44:27 PM] Localizing objects from segmentation...\n"
     ]
    },
    {
     "name": "stdout",
     "output_type": "stream",
     "text": [
      "Update sms failed to send\n"
     ]
    },
    {
     "name": "stderr",
     "output_type": "stream",
     "text": [
      "progress: 100%|███████████████████████████████████████████████████████████████████████████████████████████████████████████████████████████████████████████| 90/90 [00:19<00:00,  4.50it/s]\n",
      "[INFO][2023/10/06 06:44:47 PM] Objects are of type: <class 'dict'>\n",
      "[INFO][2023/10/06 06:44:47 PM] ...Found 10098 objects in 40 frames.\n"
     ]
    },
    {
     "data": {
      "application/vnd.jupyter.widget-view+json": {
       "model_id": "e128c140382044168890c020323deffe",
       "version_major": 2,
       "version_minor": 0
      },
      "text/plain": [
       "Measuring Mtb properties of each cell:   0%|          | 0/10098 [00:00<?, ?it/s]"
      ]
     },
     "metadata": {},
     "output_type": "display_data"
    },
    {
     "name": "stderr",
     "output_type": "stream",
     "text": [
      "[INFO][2023/10/06 06:47:53 PM] Loaded btrack: /home/dayn/analysis/btrack/btrack/libs/libtracker.so\n",
      "[INFO][2023/10/06 06:47:53 PM] Starting BayesianTracker session\n",
      "[INFO][2023/10/06 06:47:53 PM] Loading configuration file: /home/dayn/analysis/models/loc.json\n",
      "[INFO][2023/10/06 06:47:53 PM] Objects are of type: <class 'list'>\n",
      "[INFO][2023/10/06 06:47:54 PM] Starting tracking... \n",
      "[INFO][2023/10/06 06:47:54 PM] Update using: ['MOTION', 'VISUAL']\n",
      "[INFO][2023/10/06 06:47:54 PM] Tracking objects in frames 0 to 9 (of 40)...\n",
      "[INFO][2023/10/06 06:47:58 PM]  - Timing (Bayesian updates: 143.40ms, Linking: 6.37ms)\n",
      "[INFO][2023/10/06 06:47:58 PM]  - Probabilities (Link: 0.72524, Lost: 1.00000)\n",
      "[INFO][2023/10/06 06:47:58 PM]  - Stats (Active: 860, Lost: 2957, Conflicts resolved: 1154)\n",
      "[INFO][2023/10/06 06:47:58 PM] Tracking objects in frames 10 to 19 (of 40)...\n",
      "[INFO][2023/10/06 06:48:02 PM]  - Timing (Bayesian updates: 52.94ms, Linking: 5.10ms)\n",
      "[INFO][2023/10/06 06:48:02 PM]  - Probabilities (Link: 1.00000, Lost: 1.00000)\n",
      "[INFO][2023/10/06 06:48:02 PM]  - Stats (Active: 864, Lost: 6461, Conflicts resolved: 2445)\n",
      "[INFO][2023/10/06 06:48:02 PM] Tracking objects in frames 20 to 29 (of 40)...\n",
      "[INFO][2023/10/06 06:48:02 PM]  - Timing (Bayesian updates: 1.35ms, Linking: 1.53ms)\n",
      "[INFO][2023/10/06 06:48:02 PM]  - Probabilities (Link: 0.99998, Lost: 1.00000)\n",
      "[INFO][2023/10/06 06:48:02 PM] SUCCESS.\n",
      "[INFO][2023/10/06 06:48:02 PM]  - Found 3582 tracks in 40 frames (in 0.0s)\n",
      "[INFO][2023/10/06 06:48:02 PM]  - Inserted 298 dummy objects to fill tracking gaps\n",
      "[INFO][2023/10/06 06:48:02 PM] Loading hypothesis model: particle_hypothesis\n",
      "[INFO][2023/10/06 06:48:02 PM] Calculating hypotheses (relax: True)...\n",
      "[INFO][2023/10/06 06:48:02 PM] Setting up constraints matrix for global optimisation...\n",
      "[INFO][2023/10/06 06:48:02 PM] Using GLPK options: {'tm_lim': 60000}...\n",
      "[INFO][2023/10/06 06:48:02 PM] Optimizing...\n",
      "[INFO][2023/10/06 06:48:03 PM] Optimization complete. (Solution: optimal)\n",
      "[INFO][2023/10/06 06:48:03 PM]  - Fates.FALSE_POSITIVE: 3523 (of 3582)\n",
      "[INFO][2023/10/06 06:48:03 PM]  - Fates.LINK: 0 (of 8)\n",
      "[INFO][2023/10/06 06:48:03 PM]  - Fates.INITIALIZE_BORDER: 9 (of 57)\n",
      "[INFO][2023/10/06 06:48:03 PM]  - Fates.INITIALIZE_LAZY: 50 (of 3525)\n",
      "[INFO][2023/10/06 06:48:03 PM]  - Fates.TERMINATE_BORDER: 7 (of 49)\n",
      "[INFO][2023/10/06 06:48:03 PM]  - Fates.TERMINATE_BACK: 10 (of 177)\n",
      "[INFO][2023/10/06 06:48:03 PM]  - Fates.TERMINATE_LAZY: 42 (of 3356)\n",
      "[INFO][2023/10/06 06:48:03 PM]  - TOTAL: 10754 hypotheses\n",
      "[INFO][2023/10/06 06:48:03 PM] Completed optimization with 3582 tracks\n",
      "[INFO][2023/10/06 06:48:04 PM] Ending BayesianTracker session\n"
     ]
    },
    {
     "name": "stdout",
     "output_type": "stream",
     "text": [
      "GLPK Integer Optimizer 5.0\n",
      "14328 rows, 10754 columns, 14344 non-zeros\n",
      "10754 integer variables, all of which are binary\n",
      "Preprocessing...\n",
      "7164 rows, 10754 columns, 14344 non-zeros\n",
      "10754 integer variables, all of which are binary\n",
      "Scaling...\n",
      " A: min|aij| =  1.000e+00  max|aij| =  1.000e+00  ratio =  1.000e+00\n",
      "Problem data seem to be well scaled\n",
      "Constructing initial basis...\n",
      "Size of triangular part is 7164\n",
      "Solving LP relaxation...\n",
      "GLPK Simplex Optimizer 5.0\n",
      "7164 rows, 10754 columns, 14344 non-zeros\n",
      "*     0: obj =   4.674710873e+04 inf =   0.000e+00 (3531)\n",
      "*  3539: obj =   9.952663475e+03 inf =   0.000e+00 (0)\n",
      "OPTIMAL LP SOLUTION FOUND\n",
      "Integer optimization begins...\n",
      "Long-step dual simplex will be used\n",
      "+  3539: mip =     not found yet >=              -inf        (1; 0)\n",
      "+  3539: >>>>>   9.952663475e+03 >=   9.952663475e+03   0.0% (1; 0)\n",
      "+  3539: mip =   9.952663475e+03 >=     tree is empty   0.0% (0; 1)\n",
      "INTEGER OPTIMAL SOLUTION FOUND\n"
     ]
    },
    {
     "name": "stderr",
     "output_type": "stream",
     "text": [
      "[INFO][2023/10/06 06:48:04 PM] Opening HDF file: /home/dayn/data/homuncu_loc_temp/seperate_tracks/iAT1_iAT2_experiments/DAPI_SPC_PDPN_ZO1/sc_analyses/20230801_60X_23-03-002B6_DAPI_SP-C_PDPN_ZO-1_Multichannel Z-Stack_20230801_1452_iat1.h5...\n",
      "[INFO][2023/10/06 06:48:04 PM] Writing objects/obj_type_3\n",
      "[INFO][2023/10/06 06:48:04 PM] Writing labels/obj_type_3\n",
      "[INFO][2023/10/06 06:48:04 PM] Loading objects/obj_type_3 (4119, 5) (4119 filtered: None)\n",
      "[INFO][2023/10/06 06:48:04 PM] Writing properties/obj_type_3/axis_major_length (4119,)\n",
      "[INFO][2023/10/06 06:48:04 PM] Writing properties/obj_type_3/axis_minor_length (4119,)\n",
      "[INFO][2023/10/06 06:48:04 PM] Writing properties/obj_type_3/eccentricity (4119,)\n",
      "[INFO][2023/10/06 06:48:04 PM] Writing properties/obj_type_3/area (4119,)\n",
      "[INFO][2023/10/06 06:48:04 PM] Writing properties/obj_type_3/orientation (4119,)\n",
      "[INFO][2023/10/06 06:48:04 PM] Writing properties/obj_type_3/mean_intensity (4119, 4)\n",
      "[INFO][2023/10/06 06:48:04 PM] Writing properties/obj_type_3/class_id (4119,)\n",
      "[INFO][2023/10/06 06:48:04 PM] Writing properties/obj_type_3/mtb_status (4119,)\n",
      "[INFO][2023/10/06 06:48:04 PM] Writing properties/obj_type_3/mtb_area (4119,)\n",
      "[INFO][2023/10/06 06:48:04 PM] Writing tracks/obj_type_3\n",
      "[INFO][2023/10/06 06:48:04 PM] Writing dummies/obj_type_3\n",
      "[INFO][2023/10/06 06:48:04 PM] Writing LBEP/obj_type_3\n",
      "[INFO][2023/10/06 06:48:04 PM] Writing fates/obj_type_3\n",
      "[INFO][2023/10/06 06:48:12 PM] Closing HDF file: /home/dayn/data/homuncu_loc_temp/seperate_tracks/iAT1_iAT2_experiments/DAPI_SPC_PDPN_ZO1/sc_analyses/20230801_60X_23-03-002B6_DAPI_SP-C_PDPN_ZO-1_Multichannel Z-Stack_20230801_1452_iat1.h5\n"
     ]
    }
   ],
   "source": [
    "# Iterate over a list of image file paths using tqdm for progress tracking\n",
    "for image_fn in tqdm(image_fns, total=len(image_fns), desc='iterating over image volumes'):\n",
    "\n",
    "    # if ID_extractor(image_fn) in ['1313', '1317', '1319']:\n",
    "    #     print(f'{image_fn} skipped')\n",
    "    #     continue\n",
    "    \n",
    "    # Define the output filename\n",
    "    output_fn = image_fn.replace('images', 'sc_analyses').replace('.tif', '_iat1.h5').replace('/run/user/30046150/gvfs/smb-share:server=data2.thecrick.org,share=lab-gutierrezm/home/shared/Lung on Chip/homuncu_loc_image_analysis/', \n",
    "                                                                                         '/home/dayn/data/homuncu_loc_temp/seperate_tracks/')\n",
    "    # if os.path.exists(output_fn):\n",
    "    #     continue\n",
    "\n",
    "    \n",
    "    try:\n",
    "        # Read the image using imageio.imread\n",
    "        image = io.imread(image_fn)\n",
    "    except Exception as e:\n",
    "        # Code to handle the exception and print the error message\n",
    "        print(e)\n",
    "        continue\n",
    "        \n",
    "    # # Extract the third channel (mphi_channel) from the image\n",
    "    # mphi_channel = image[..., 2]\n",
    "    \n",
    "    # # Segment the mphi_channel using custom function 'segment_channel'\n",
    "    # mphi_masks, mphi_diams = segment_channel(\n",
    "    #     mphi_channel,\n",
    "    #     diameter=60,\n",
    "    #     flow_threshold=0.99,\n",
    "    #     channels=[0, 0],\n",
    "    #     cellprob_threshold=-2,\n",
    "    #     min_mask_size=200,\n",
    "    #     return_diams=True,\n",
    "    #     start_point=None,\n",
    "    #     end_point=None\n",
    "    # )\n",
    "\n",
    "    # # update\n",
    "    # send_sms(f'mphi seg done {ID_extractor(image_fn)}')\n",
    "    \n",
    "    # Extract the second channel (zo1_channel) from the image\n",
    "    zo1_channel = image[..., 1]\n",
    "    \n",
    "    # # Segment the zo1_channel for iat2 using 'segment_channel' with specific parameters\n",
    "    # iat2_masks, iat2_diams = segment_channel(\n",
    "    #     zo1_channel,\n",
    "    #     diameter=None,\n",
    "    #     flow_threshold=0,\n",
    "    #     channels=[0, 0],\n",
    "    #     cellprob_threshold=0,\n",
    "    #     min_mask_size=200,\n",
    "    #     return_diams=True,\n",
    "    #     start_point=None,\n",
    "    #     end_point=None\n",
    "    # )\n",
    "    \n",
    "    # # update\n",
    "    # send_sms(f'iat2 seg done {ID_extractor(image_fn)}')\n",
    "    \n",
    "    # Segment the zo1_channel for iat1 using 'segment_channel' with specific parameters\n",
    "    iat1_masks, iat1_diams = segment_channel(\n",
    "        zo1_channel,\n",
    "        diameter=150,\n",
    "        flow_threshold=0.99,\n",
    "        channels=[0, 0],\n",
    "        cellprob_threshold=-3,\n",
    "        min_mask_size=2500,\n",
    "        return_diams=True,\n",
    "        start_point=None,\n",
    "        end_point=None\n",
    "    )\n",
    "    masks = iat1_masks\n",
    "    # update\n",
    "    send_sms(f'iat1 seg done {ID_extractor(image_fn)}')\n",
    "    \n",
    "    # # Loop over three different mask types: mphi_masks, iat2_masks, iat1_masks\n",
    "    # for n, masks in tqdm(enumerate([mphi_masks, iat2_masks, iat1_masks]), total=3):\n",
    "        \n",
    "    # Convert the segmentation masks to objects using btrack\n",
    "    objects = btrack.utils.segmentation_to_objects(\n",
    "        segmentation=iat1_masks,\n",
    "        intensity_image=image,\n",
    "        properties=props,\n",
    "        use_weighted_centroid=False,\n",
    "        assign_class_ID=True,\n",
    "    )\n",
    "\n",
    "    # update\n",
    "    # send_sms(f'object localisation {n, ID_extractor(image_fn)} done')\n",
    "\n",
    "    \n",
    "    # Check if mtb infected above threshold and measure mtb properties for each cell\n",
    "    threshold = 230\n",
    "    mtb_ch = 3\n",
    "    \n",
    "    for o in tqdm(objects, desc='Measuring Mtb properties of each cell'):\n",
    "        coordinates = np.argwhere(masks[o.t] == o.properties['class_id'])\n",
    "        pixel_values = image[o.t, coordinates[:, 0], coordinates[:, 1]]\n",
    "        mtb_status = np.any(pixel_values[:,mtb_ch] > threshold)\n",
    "        mtb_area = np.sum(pixel_values[:,mtb_ch] > threshold)\n",
    "        o.properties['mtb_status'] = mtb_status\n",
    "        o.properties['mtb_area'] = mtb_area\n",
    "        # o.properties['pixel_values'] = pixel_values\n",
    "\n",
    "    # update\n",
    "    # send_sms(f'mtb props {n, ID_extractor(image_fn)} done')\n",
    "\n",
    "    # Initialize BayesianTracker\n",
    "    with btrack.BayesianTracker() as tracker:\n",
    "        \n",
    "        # Configure the tracker using a config file\n",
    "        tracker.configure('/home/dayn/analysis/models/loc.json')\n",
    "        \n",
    "        # Set max search radius to a very limited radius\n",
    "        tracker.max_search_radius = 5\n",
    "        \n",
    "        # Define tracking method\n",
    "        tracker.tracking_updates = [\"MOTION\", \"VISUAL\"]\n",
    "        \n",
    "        # Use visual features to track\n",
    "        tracker.features = props\n",
    "        \n",
    "        # Append the objects to be tracked\n",
    "        tracker.append(objects)\n",
    "        \n",
    "        # Set the volume\n",
    "        tracker.volume = ((0, masks.shape[1]), (0, masks.shape[2]), (-1e5, 1e5))\n",
    "        \n",
    "        # Track them (in interactive mode)\n",
    "        tracker.track(step_size=10)\n",
    "        \n",
    "        # Generate hypotheses and run the global optimizer\n",
    "        tracker.optimize()\n",
    "        \n",
    "        # Get the tracks as a Python list\n",
    "        tracks = tracker.tracks\n",
    "\n",
    "    # update\n",
    "    # send_sms(f'tracking {n, ID_extractor(image_fn)} done')\n",
    "\n",
    "     # Define the output filename\n",
    "    output_fn = image_fn.replace('images', 'sc_analyses').replace('.tif', '_iat1.h5').replace('/run/user/30046150/gvfs/smb-share:server=data2.thecrick.org,share=lab-gutierrezm/home/shared/Lung on Chip/homuncu_loc_image_analysis/', \n",
    "                                                                                         '/home/dayn/data/homuncu_loc_temp/seperate_tracks/')\n",
    "    os.makedirs(os.path.dirname(output_fn), exist_ok=True)\n",
    "    \n",
    "    # Define the object type based on the iteration index\n",
    "    obj_type = f'obj_type_{3}'\n",
    "\n",
    "\n",
    "    # Write the tracks and segmentation masks to an HDF5 file using btrack.io.HDF5FileHandler\n",
    "    with btrack.io.HDF5FileHandler(output_fn, 'w', obj_type=obj_type) as writer:\n",
    "        writer.write_tracks(tracks)\n",
    "        writer.write_segmentation(masks)\n",
    "\n",
    "    # update\n",
    "    # send_sms(f'tracks saved {n, ID_extractor(image_fn)}')\n"
   ]
  },
  {
   "cell_type": "code",
   "execution_count": 12,
   "id": "35b751a1-57c1-44d1-9f1b-822aad69882f",
   "metadata": {},
   "outputs": [
    {
     "data": {
      "text/plain": [
       "'/run/user/30046150/gvfs/smb-share:server=data2.thecrick.org,share=lab-gutierrezm/home/shared/Lung on Chip/homuncu_loc_image_analysis/iAT1_iAT2_experiments/DAPI_SPC_PDPN_ZO1/images/20230801_60X_23-03-002B6_DAPI_SP-C_PDPN_ZO-1_Multichannel Z-Stack_20230801_1452.tif'"
      ]
     },
     "execution_count": 12,
     "metadata": {},
     "output_type": "execute_result"
    }
   ],
   "source": [
    "image_fn"
   ]
  }
 ],
 "metadata": {
  "kernelspec": {
   "display_name": "aero",
   "language": "python",
   "name": "aero"
  },
  "language_info": {
   "codemirror_mode": {
    "name": "ipython",
    "version": 3
   },
   "file_extension": ".py",
   "mimetype": "text/x-python",
   "name": "python",
   "nbconvert_exporter": "python",
   "pygments_lexer": "ipython3",
   "version": "3.9.12"
  }
 },
 "nbformat": 4,
 "nbformat_minor": 5
}
