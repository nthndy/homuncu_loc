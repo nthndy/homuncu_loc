{
 "cells": [
  {
   "cell_type": "markdown",
   "id": "038f144c",
   "metadata": {},
   "source": [
    "# homuncu_loc image viewer"
   ]
  },
  {
   "cell_type": "code",
   "execution_count": 1,
   "id": "8988af78",
   "metadata": {},
   "outputs": [],
   "source": [
    "import napari\n",
    "from skimage import io\n",
    "import btrack\n",
    "import os\n",
    "from tqdm.auto import tqdm\n",
    "\n",
    "def find_files_with_basename(target_basename, start_dir='.'):\n",
    "    \"\"\"\n",
    "    Recursively search for files with a given basename in a directory tree.\n",
    "    \n",
    "    :param target_basename: The basename to search for.\n",
    "    :param start_dir: The directory to start the search from. Default is current directory.\n",
    "    :return: A list of full paths to files matching the given basename.\n",
    "    \"\"\"\n",
    "    matching_files = []\n",
    "    \n",
    "    for dirpath, dirnames, filenames in tqdm(os.walk(start_dir), desc = 'Searching start directory for filename'):\n",
    "        for fname in filenames:\n",
    "            if os.path.basename(fname) == target_basename:\n",
    "                full_path = os.path.join(dirpath, fname)\n",
    "                matching_files.append(full_path)\n",
    "                \n",
    "    return matching_files\n",
    "\n",
    "def find_tif_files(start_dir='.'):\n",
    "    \"\"\"\n",
    "    Recursively search for files with '.tif' extension in a directory tree.\n",
    "    \n",
    "    :param start_dir: The directory to start the search from. Default is current directory.\n",
    "    :return: A list of full paths to files with '.tif' extension.\n",
    "    \"\"\"\n",
    "    matching_files = []\n",
    "    \n",
    "    for dirpath, dirnames, filenames in tqdm(os.walk(start_dir), desc='Searching for .tif files'):\n",
    "        for fname in filenames:\n",
    "            if fname.endswith('.tif'):\n",
    "                full_path = os.path.join(dirpath, fname)\n",
    "                matching_files.append(full_path)\n",
    "                \n",
    "    return matching_files"
   ]
  },
  {
   "cell_type": "markdown",
   "id": "09c5e155-1cd6-46e9-9643-5446f0fc851b",
   "metadata": {},
   "source": [
    "#### Define image fn "
   ]
  },
  {
   "cell_type": "code",
   "execution_count": 7,
   "id": "580f80c4-178e-4905-8f03-218c6c6548cc",
   "metadata": {},
   "outputs": [],
   "source": [
    "image_fn = '/run/user/30046150/gvfs/smb-share:server=data2.thecrick.org,share=lab-gutierrezm/home/shared/Lung on Chip/image analysis_Nathan/Job_Mtb area/run3/23-03-002/20230801_20X_23-03-002A5_DAPI_NKX201_PDPN_ZO-1_Multichannel Z-Stack_20230801_1441.tif'"
   ]
  },
  {
   "cell_type": "markdown",
   "id": "0381213d-598c-4d04-8966-536f7f37c589",
   "metadata": {},
   "source": [
    "#### Or search for image basename in directory"
   ]
  },
  {
   "cell_type": "code",
   "execution_count": 139,
   "id": "effd0613-475a-4613-9913-747bfdb97b88",
   "metadata": {},
   "outputs": [],
   "source": [
    "image_basename = '20230707_40X_23-01-001A3_Multichannel Z-Stack_20230707_1313.tif'\n",
    "start_directory = '/run/user/30046150/gvfs/smb-share:server=data2.thecrick.org,share=lab-gutierrezm/home/shared/Lung on Chip/image analysis_Nathan/'"
   ]
  },
  {
   "cell_type": "code",
   "execution_count": 140,
   "id": "1b1806a7-9f83-43dd-8096-eb4ddac5263e",
   "metadata": {},
   "outputs": [
    {
     "data": {
      "application/vnd.jupyter.widget-view+json": {
       "model_id": "566cf627db544ee4943825e18619265a",
       "version_major": 2,
       "version_minor": 0
      },
      "text/plain": [
       "Searching start directory for filename: 0it [00:00, ?it/s]"
      ]
     },
     "metadata": {},
     "output_type": "display_data"
    },
    {
     "name": "stdout",
     "output_type": "stream",
     "text": [
      "['/run/user/30046150/gvfs/smb-share:server=data2.thecrick.org,share=lab-gutierrezm/home/shared/Lung on Chip/image analysis_Nathan/Job_Mtb area/run1_23-01-001_23-01-005/2h pi/20230707_40X_23-01-001A3_Multichannel Z-Stack_20230707_1313.tif']\n"
     ]
    }
   ],
   "source": [
    "image_fn_results = find_files_with_basename(image_basename, start_directory)\n",
    "print(image_fn_results)"
   ]
  },
  {
   "cell_type": "code",
   "execution_count": 141,
   "id": "70c145f1-b455-48fe-a39d-04dfaba25e5f",
   "metadata": {},
   "outputs": [],
   "source": [
    "image_fn = image_fn_results[0]"
   ]
  },
  {
   "cell_type": "code",
   "execution_count": 76,
   "id": "8f2681b1",
   "metadata": {},
   "outputs": [
    {
     "name": "stdout",
     "output_type": "stream",
     "text": [
      "CPU times: user 1.21 s, sys: 12.3 s, total: 13.5 s\n",
      "Wall time: 3min 49s\n"
     ]
    },
    {
     "data": {
      "text/plain": [
       "(61, 2304, 2304, 4)"
      ]
     },
     "execution_count": 76,
     "metadata": {},
     "output_type": "execute_result"
    }
   ],
   "source": [
    "%%time\n",
    "image = io.imread(image_fn)\n",
    "image.shape"
   ]
  },
  {
   "cell_type": "markdown",
   "id": "f85948c6-f378-4340-b37a-f110f79f04e0",
   "metadata": {},
   "source": [
    "#### Now do the same for the tracking file"
   ]
  },
  {
   "cell_type": "code",
   "execution_count": 142,
   "id": "59bdd8ed-6aa0-4f64-bfe3-596c6fcc41e5",
   "metadata": {},
   "outputs": [
    {
     "data": {
      "application/vnd.jupyter.widget-view+json": {
       "model_id": "c860912340f64360b9c0ebcc4a05d6a4",
       "version_major": 2,
       "version_minor": 0
      },
      "text/plain": [
       "Searching start directory for filename: 0it [00:00, ?it/s]"
      ]
     },
     "metadata": {},
     "output_type": "display_data"
    },
    {
     "name": "stdout",
     "output_type": "stream",
     "text": [
      "['/run/user/30046150/gvfs/smb-share:server=data2.thecrick.org,share=lab-gutierrezm/home/shared/Lung on Chip/image analysis_Nathan/results/run1_23-01-001_23-01-005/2h pi/20230707_40X_23-01-001A3_Multichannel Z-Stack_20230707_1313_z_tracks_masks.h5']\n"
     ]
    }
   ],
   "source": [
    "tracks_basename = image_basename.replace('.tif','_z_tracks_masks.h5') #'20x_21-12-029B_A12346_Multichannel Z-Stack_20220819_295_z_tracks_masks.h5'\n",
    "tracks_fn_results = find_files_with_basename(tracks_basename, start_directory)\n",
    "if len(tracks_fn_results) > 1:\n",
    "        raise ValueError(\"Found more than one matching file. Please ensure only one target file exists or refine your search criteria.\")\n",
    "print(tracks_fn_results)"
   ]
  },
  {
   "cell_type": "code",
   "execution_count": 143,
   "id": "64cb0846",
   "metadata": {},
   "outputs": [],
   "source": [
    "tracks_fn = tracks_fn_results[0]"
   ]
  },
  {
   "cell_type": "markdown",
   "id": "ecc166f6-c9f9-4e53-9b1d-63b80ff36dc5",
   "metadata": {},
   "source": [
    "#### Now load the segmentation and z-tracks"
   ]
  },
  {
   "cell_type": "code",
   "execution_count": 129,
   "id": "dcbce733",
   "metadata": {},
   "outputs": [
    {
     "name": "stderr",
     "output_type": "stream",
     "text": [
      "[INFO][2023/08/22 01:07:23 pm] Opening HDF file: /run/user/30046150/gvfs/smb-share:server=data2.thecrick.org,share=lab-gutierrezm/home/shared/Lung on Chip/image analysis_Nathan/results/run1_23-01-001_23-01-005/2h pi/20230707_40X_23-01-001A3_Multichannel Z-Stack_20230707_1313_z_tracks_masks.h5...\n",
      "[INFO][2023/08/22 01:07:24 pm] Loading segmentation (4, 2304, 2304)\n",
      "[INFO][2023/08/22 01:07:24 pm] Loading tracks/obj_type_1\n",
      "[INFO][2023/08/22 01:07:24 pm] Loading LBEP/obj_type_1\n",
      "[INFO][2023/08/22 01:07:24 pm] Loading objects/obj_type_1 (12, 5) (12 filtered: None)\n",
      "[INFO][2023/08/22 01:07:24 pm] Loading objects/obj_type_1 (12, 5) (12 filtered: None)\n",
      "[INFO][2023/08/22 01:07:24 pm] Closing HDF file: /run/user/30046150/gvfs/smb-share:server=data2.thecrick.org,share=lab-gutierrezm/home/shared/Lung on Chip/image analysis_Nathan/results/run1_23-01-001_23-01-005/2h pi/20230707_40X_23-01-001A3_Multichannel Z-Stack_20230707_1313_z_tracks_masks.h5\n"
     ]
    }
   ],
   "source": [
    "with btrack.io.HDF5FileHandler(tracks_fn, 'r', obj_type='obj_type_1') as reader:\n",
    "    segmentation = reader.segmentation\n",
    "    tracks = [t for t in reader.tracks if len(t) >= 3]\n",
    "    objects = reader.objects"
   ]
  },
  {
   "cell_type": "code",
   "execution_count": 89,
   "id": "cdd465d4",
   "metadata": {},
   "outputs": [],
   "source": [
    "napari_tracks, _, _ = btrack.utils.tracks_to_napari(tracks, ndim = 2)"
   ]
  },
  {
   "cell_type": "code",
   "execution_count": 90,
   "id": "64c3f053",
   "metadata": {},
   "outputs": [],
   "source": [
    "recolored_segmentation = btrack.utils.update_segmentation(segmentation, tracks, color_by='ID')"
   ]
  },
  {
   "cell_type": "code",
   "execution_count": 91,
   "id": "fb976154",
   "metadata": {},
   "outputs": [
    {
     "data": {
      "text/plain": [
       "<Tracks layer 'napari_tracks' at 0x7f1841744dc0>"
      ]
     },
     "execution_count": 91,
     "metadata": {},
     "output_type": "execute_result"
    }
   ],
   "source": [
    "viewer = napari.Viewer(title = image_fn)\n",
    "\n",
    "viewer.add_image(image, channel_axis = -1)\n",
    "viewer.add_labels(segmentation, visible = False)\n",
    "viewer.add_labels(recolored_segmentation)\n",
    "viewer.add_tracks(napari_tracks)"
   ]
  },
  {
   "cell_type": "code",
   "execution_count": 92,
   "id": "af63f25e-7a7d-4a55-80c4-e2c863f558fc",
   "metadata": {},
   "outputs": [
    {
     "name": "stdout",
     "output_type": "stream",
     "text": [
      "\n"
     ]
    }
   ],
   "source": [
    "print()"
   ]
  },
  {
   "cell_type": "markdown",
   "id": "4088d5c0-5032-4586-a959-8b8f6881e54c",
   "metadata": {},
   "source": [
    "# Retracking"
   ]
  },
  {
   "cell_type": "code",
   "execution_count": 95,
   "id": "a9057af4-ed58-4670-b6fc-77e8111abe2c",
   "metadata": {},
   "outputs": [
    {
     "name": "stderr",
     "output_type": "stream",
     "text": [
      "[INFO][2023/08/22 11:31:17 am] Localizing objects from segmentation...\n",
      "100%|█████████████████████████| 61/61 [01:11<00:00,  1.18s/it]\n",
      "[INFO][2023/08/22 11:32:29 am] Objects are of type: <class 'dict'>\n",
      "[INFO][2023/08/22 11:32:31 am] ...Found 172246 objects in 61 frames.\n"
     ]
    }
   ],
   "source": [
    "props = ('axis_major_length', # first define some cell properties \n",
    "         'axis_minor_length', # this helps improve the tracking\n",
    "         'eccentricity',      # by comparing similarities between slices/frames\n",
    "         'area', \n",
    "         'orientation',\n",
    "         'mean_intensity', \n",
    "        )\n",
    "objects = btrack.utils.segmentation_to_objects(\n",
    "            segmentation = segmentation, # set the masks here \n",
    "            intensity_image = image, # provide the image so that the mean intensity can be measured\n",
    "            properties = props, # provide the cell properties to improve tracker \n",
    "            use_weighted_centroid = False, \n",
    "            assign_class_ID=False,\n",
    "            )"
   ]
  },
  {
   "cell_type": "code",
   "execution_count": 96,
   "id": "c34bfbf0-d253-4647-91ad-b9fecd317cc6",
   "metadata": {},
   "outputs": [
    {
     "name": "stderr",
     "output_type": "stream",
     "text": [
      "[INFO][2023/08/22 11:34:26 am] Loaded btrack: /home/dayn/analysis/btrack/btrack/libs/libtracker.so\n",
      "[INFO][2023/08/22 11:34:26 am] Starting BayesianTracker session\n",
      "[INFO][2023/08/22 11:34:26 am] Loading configuration file: /home/dayn/analysis/models/loc.json\n",
      "[INFO][2023/08/22 11:34:26 am] Objects are of type: <class 'list'>\n",
      "[INFO][2023/08/22 11:34:30 am] Starting tracking... \n",
      "[INFO][2023/08/22 11:34:30 am] Update using: ['VISUAL', 'MOTION']\n",
      "[INFO][2023/08/22 11:35:26 am] Tracking objects in frames 0 to 9 (of 61)...\n",
      "[INFO][2023/08/22 12:00:02 pm]  - Timing (Bayesian updates: 43739.25ms, Linking: 94.67ms)\n",
      "[INFO][2023/08/22 12:00:02 pm]  - Probabilities (Link: 1.00000, Lost: 0.99998)\n",
      "[INFO][2023/08/22 12:00:02 pm]  - Stats (Active: 5540, Lost: 687, Conflicts resolved: 17401)\n",
      "[INFO][2023/08/22 12:00:02 pm] Tracking objects in frames 10 to 19 (of 61)...\n",
      "[INFO][2023/08/22 12:13:11 pm]  - Timing (Bayesian updates: 38414.20ms, Linking: 76.59ms)\n",
      "[INFO][2023/08/22 12:13:11 pm]  - Probabilities (Link: 1.00000, Lost: 0.89914)\n",
      "[INFO][2023/08/22 12:13:11 pm]  - Stats (Active: 4523, Lost: 872, Conflicts resolved: 21399)\n",
      "[INFO][2023/08/22 12:13:11 pm] Tracking objects in frames 20 to 29 (of 61)...\n",
      "[INFO][2023/08/22 12:27:34 pm]  - Timing (Bayesian updates: 56765.61ms, Linking: 93.22ms)\n",
      "[INFO][2023/08/22 12:27:34 pm]  - Probabilities (Link: 0.99997, Lost: 0.99766)\n",
      "[INFO][2023/08/22 12:27:34 pm]  - Stats (Active: 5701, Lost: 1655, Conflicts resolved: 25280)\n",
      "[INFO][2023/08/22 12:27:34 pm] Tracking objects in frames 30 to 39 (of 61)...\n",
      "[INFO][2023/08/22 12:37:28 pm]  - Timing (Bayesian updates: 500.16ms, Linking: 19.26ms)\n",
      "[INFO][2023/08/22 12:37:28 pm]  - Probabilities (Link: 1.00000, Lost: 1.00000)\n",
      "[INFO][2023/08/22 12:37:28 pm]  - Stats (Active: 3444, Lost: 7396, Conflicts resolved: 37146)\n",
      "[INFO][2023/08/22 12:37:28 pm] Tracking objects in frames 40 to 49 (of 61)...\n",
      "[INFO][2023/08/22 12:37:41 pm]  - Timing (Bayesian updates: 12.56ms, Linking: 3.90ms)\n",
      "[INFO][2023/08/22 12:37:41 pm]  - Probabilities (Link: 1.00000, Lost: 1.00000)\n",
      "[INFO][2023/08/22 12:37:41 pm]  - Stats (Active: 1147, Lost: 12129, Conflicts resolved: 39927)\n",
      "[INFO][2023/08/22 12:37:41 pm] Tracking objects in frames 50 to 59 (of 61)...\n",
      "[INFO][2023/08/22 12:37:41 pm]  - Timing (Bayesian updates: 0.01ms, Linking: 0.11ms)\n",
      "[INFO][2023/08/22 12:37:41 pm]  - Probabilities (Link: 0.99995, Lost: 1.00000)\n",
      "[INFO][2023/08/22 12:37:41 pm] SUCCESS.\n",
      "[INFO][2023/08/22 12:37:41 pm]  - Found 21761 tracks in 61 frames (in 0.0s)\n",
      "[INFO][2023/08/22 12:37:42 pm]  - Inserted 6188 dummy objects to fill tracking gaps\n",
      "[INFO][2023/08/22 12:37:42 pm] Loading hypothesis model: particle_hypothesis\n",
      "[INFO][2023/08/22 12:37:42 pm] Calculating hypotheses (relax: True)...\n",
      "[INFO][2023/08/22 12:37:42 pm] Setting up constraints matrix for global optimisation...\n",
      "[INFO][2023/08/22 12:37:42 pm] Using GLPK options: {'tm_lim': 60000}...\n",
      "[INFO][2023/08/22 12:37:44 pm] Optimizing...\n",
      "[INFO][2023/08/22 12:38:03 pm] Optimization complete. (Solution: optimal)\n",
      "[INFO][2023/08/22 12:38:03 pm]  - Fates.FALSE_POSITIVE: 16233 (of 21761)\n",
      "[INFO][2023/08/22 12:38:03 pm]  - Fates.LINK: 142 (of 390)\n",
      "[INFO][2023/08/22 12:38:03 pm]  - Fates.INITIALIZE_BORDER: 329 (of 761)\n",
      "[INFO][2023/08/22 12:38:03 pm]  - Fates.INITIALIZE_FRONT: 1995 (of 8038)\n",
      "[INFO][2023/08/22 12:38:03 pm]  - Fates.INITIALIZE_LAZY: 3062 (of 12962)\n",
      "[INFO][2023/08/22 12:38:03 pm]  - Fates.TERMINATE_BORDER: 425 (of 980)\n",
      "[INFO][2023/08/22 12:38:03 pm]  - Fates.TERMINATE_BACK: 11 (of 13)\n",
      "[INFO][2023/08/22 12:38:03 pm]  - Fates.TERMINATE_LAZY: 4950 (of 20768)\n",
      "[INFO][2023/08/22 12:38:03 pm]  - TOTAL: 65673 hypotheses\n",
      "[INFO][2023/08/22 12:38:03 pm] Completed optimization with 21619 tracks\n"
     ]
    },
    {
     "name": "stdout",
     "output_type": "stream",
     "text": [
      "GLPK Integer Optimizer 5.0\n",
      "87044 rows, 65673 columns, 87824 non-zeros\n",
      "65673 integer variables, all of which are binary\n",
      "Preprocessing...\n",
      "43522 rows, 65673 columns, 87824 non-zeros\n",
      "65673 integer variables, all of which are binary\n",
      "Scaling...\n",
      " A: min|aij| =  1.000e+00  max|aij| =  1.000e+00  ratio =  1.000e+00\n",
      "Problem data seem to be well scaled\n",
      "Constructing initial basis...\n",
      "Size of triangular part is 43522\n",
      "Solving LP relaxation...\n",
      "GLPK Simplex Optimizer 5.0\n",
      "43522 rows, 65673 columns, 87824 non-zeros\n",
      "*     0: obj =   2.370127093e+05 inf =   0.000e+00 (16782)\n",
      "*  4325: obj =   1.901104049e+05 inf =   0.000e+00 (12483)\n",
      "Perturbing LP to avoid stalling [6925]...\n",
      "*  8993: obj =   1.433704515e+05 inf =   0.000e+00 (7836)\n",
      "* 13596: obj =   1.196027052e+05 inf =   0.000e+00 (3326)\n",
      "Removing LP perturbation [17001]...\n",
      "* 17001: obj =   1.084785872e+05 inf =   0.000e+00 (0)\n",
      "OPTIMAL LP SOLUTION FOUND\n",
      "Integer optimization begins...\n",
      "Long-step dual simplex will be used\n",
      "+ 17001: mip =     not found yet >=              -inf        (1; 0)\n",
      "+ 17001: >>>>>   1.084785872e+05 >=   1.084785872e+05   0.0% (1; 0)\n",
      "+ 17001: mip =   1.084785872e+05 >=     tree is empty   0.0% (0; 1)\n",
      "INTEGER OPTIMAL SOLUTION FOUND\n"
     ]
    },
    {
     "name": "stderr",
     "output_type": "stream",
     "text": [
      "[INFO][2023/08/22 12:38:04 pm] Ending BayesianTracker session\n"
     ]
    }
   ],
   "source": [
    "with btrack.BayesianTracker() as tracker:\n",
    "        # configure the tracker using a config file\n",
    "        tracker.configure('/home/dayn/analysis/models/loc.json')\n",
    "        ### set max search radius to a very limited radius \n",
    "        tracker.max_search_radius = 5\n",
    "        # define tracking method\n",
    "        tracker.tracking_updates = [\"MOTION\", \"VISUAL\"]\n",
    "        # use visual features to track\n",
    "        tracker.features = props\n",
    "        # append the objects to be tracked\n",
    "        tracker.append(objects)\n",
    "        # set the volume\n",
    "        tracker.volume=((0, segmentation.shape[1]), (0, segmentation.shape[2]), (-1e5, 1e5))\n",
    "        # track them (in interactive mode)\n",
    "        tracker.track(step_size=10)\n",
    "        # generate hypotheses and run the global optimizer\n",
    "        tracker.optimize()\n",
    "        # get the tracks as a python list\n",
    "        tracks = tracker.tracks"
   ]
  },
  {
   "cell_type": "code",
   "execution_count": 13,
   "id": "853cf565-eeb9-450c-b6ea-f4b27a097a94",
   "metadata": {},
   "outputs": [],
   "source": [
    "napari_tracks, _, _ = btrack.utils.tracks_to_napari(tracks, ndim = 2)"
   ]
  },
  {
   "cell_type": "code",
   "execution_count": 14,
   "id": "d683a4d6-43d9-4ff5-858a-f47ca4fe3aab",
   "metadata": {},
   "outputs": [],
   "source": [
    "recolored_segmentation = btrack.utils.update_segmentation(segmentation, tracks, color_by='ID')"
   ]
  },
  {
   "cell_type": "code",
   "execution_count": 16,
   "id": "1f2c42c8-86b8-4f17-bdda-e4ccc80a09f8",
   "metadata": {},
   "outputs": [
    {
     "data": {
      "text/plain": [
       "<Tracks layer 'napari_tracks' at 0x7f57c78724f0>"
      ]
     },
     "execution_count": 16,
     "metadata": {},
     "output_type": "execute_result"
    }
   ],
   "source": [
    "viewer = napari.Viewer(title = fn +'retracked')\n",
    "\n",
    "# viewer.add_image(image, channel_axis = -1)\n",
    "viewer.add_labels(segmentation, visible = False)\n",
    "viewer.add_labels(recolored_segmentation)\n",
    "viewer.add_tracks(napari_tracks)"
   ]
  },
  {
   "cell_type": "markdown",
   "id": "0463fd59-3613-46ff-aff9-85d8dc449eac",
   "metadata": {},
   "source": [
    "# Retrack all "
   ]
  },
  {
   "cell_type": "code",
   "execution_count": 5,
   "id": "5cff8d7d-01fd-4ffb-8adb-4a3425f792fa",
   "metadata": {},
   "outputs": [],
   "source": [
    "import napari\n",
    "from skimage import io\n",
    "import btrack\n",
    "import os\n",
    "from tqdm.auto import tqdm\n",
    "\n",
    "def find_files_with_basename(target_basename, start_dir='.'):\n",
    "    \"\"\"\n",
    "    Recursively search for files with a given basename in a directory tree.\n",
    "    \n",
    "    :param target_basename: The basename to search for.\n",
    "    :param start_dir: The directory to start the search from. Default is current directory.\n",
    "    :return: A list of full paths to files matching the given basename.\n",
    "    \"\"\"\n",
    "    matching_files = []\n",
    "    \n",
    "    for dirpath, dirnames, filenames in tqdm(os.walk(start_dir), desc = 'Searching start directory for filename'):\n",
    "        for fname in filenames:\n",
    "            if os.path.basename(fname) == target_basename:\n",
    "                full_path = os.path.join(dirpath, fname)\n",
    "                matching_files.append(full_path)\n",
    "                \n",
    "    return matching_files\n",
    "\n",
    "# from macrohet import notify\n",
    "\n",
    "def find_tif_files(start_dir='.'):\n",
    "    \"\"\"\n",
    "    Recursively search for files with '.tif' extension in a directory tree.\n",
    "    \n",
    "    :param start_dir: The directory to start the search from. Default is current directory.\n",
    "    :return: A list of full paths to files with '.tif' extension.\n",
    "    \"\"\"\n",
    "    matching_files = []\n",
    "    \n",
    "    for dirpath, dirnames, filenames in tqdm(os.walk(start_dir), desc='Searching for .tif files'):\n",
    "        for fname in filenames:\n",
    "            if fname.endswith('.tif'):\n",
    "                full_path = os.path.join(dirpath, fname)\n",
    "                matching_files.append(full_path)\n",
    "                \n",
    "    return matching_files"
   ]
  },
  {
   "cell_type": "code",
   "execution_count": 27,
   "id": "8bd43a74-5656-4df1-b009-2a1defd08529",
   "metadata": {},
   "outputs": [
    {
     "data": {
      "application/vnd.jupyter.widget-view+json": {
       "model_id": "3444ea4cc12f408d9c5665d51adc49c3",
       "version_major": 2,
       "version_minor": 0
      },
      "text/plain": [
       "Searching for .tif files: 0it [00:00, ?it/s]"
      ]
     },
     "metadata": {},
     "output_type": "display_data"
    },
    {
     "data": {
      "text/plain": [
       "49"
      ]
     },
     "execution_count": 27,
     "metadata": {},
     "output_type": "execute_result"
    }
   ],
   "source": [
    "start_directory = '/run/user/30046150/gvfs/smb-share:server=data2.thecrick.org,share=lab-gutierrezm/home/shared/Lung on Chip/image analysis_Nathan/'\n",
    "image_fns = find_tif_files(start_directory)\n",
    "len(image_fns)"
   ]
  },
  {
   "cell_type": "code",
   "execution_count": 28,
   "id": "bec6ec47-ebc2-4e37-99cb-0313da4f1dad",
   "metadata": {},
   "outputs": [
    {
     "data": {
      "text/plain": [
       "['/run/user/30046150/gvfs/smb-share:server=data2.thecrick.org,share=lab-gutierrezm/home/shared/Lung on Chip/image analysis_Nathan/Job_1/DAPI-SPC-PDPN-ZO1/Day14_breath/20x_21-12-029B_A12346_Multichannel Z-Stack_20220819_295.tif',\n",
       " '/run/user/30046150/gvfs/smb-share:server=data2.thecrick.org,share=lab-gutierrezm/home/shared/Lung on Chip/image analysis_Nathan/Job_1/DAPI-SPC-PDPN-ZO1/Day14_breath/20x_21-12-029B_A12346_Multichannel Z-Stack_20220819_292.tif',\n",
       " '/run/user/30046150/gvfs/smb-share:server=data2.thecrick.org,share=lab-gutierrezm/home/shared/Lung on Chip/image analysis_Nathan/Job_1/DAPI-SPC-PDPN-ZO1/Day14_breath/20x_21-12-029B_A12346_Multichannel Z-Stack_20220819_298.tif',\n",
       " '/run/user/30046150/gvfs/smb-share:server=data2.thecrick.org,share=lab-gutierrezm/home/shared/Lung on Chip/image analysis_Nathan/Job_1/DAPI-SPC-PDPN-ZO1/Day14_static/20x_21-12-028A_A23456_Multichannel Z-Stack_20220818_246.tif',\n",
       " '/run/user/30046150/gvfs/smb-share:server=data2.thecrick.org,share=lab-gutierrezm/home/shared/Lung on Chip/image analysis_Nathan/Job_1/DAPI-SPC-PDPN-ZO1/Day14_static/20x_21-12-028A_A23456_Multichannel Z-Stack_20220818_245.tif',\n",
       " '/run/user/30046150/gvfs/smb-share:server=data2.thecrick.org,share=lab-gutierrezm/home/shared/Lung on Chip/image analysis_Nathan/Job_1/DAPI-SPC-PDPN-ZO1/Day14_static/20x_21-12-028A_A23456_Multichannel Z-Stack_20220818_244.tif',\n",
       " '/run/user/30046150/gvfs/smb-share:server=data2.thecrick.org,share=lab-gutierrezm/home/shared/Lung on Chip/image analysis_Nathan/Job_1/DAPI-SPC-PDPN-ZO1/Day7_breath/20x_21-12-029A_A3456_Multichannel Z-Stack_20220818_196.tif',\n",
       " '/run/user/30046150/gvfs/smb-share:server=data2.thecrick.org,share=lab-gutierrezm/home/shared/Lung on Chip/image analysis_Nathan/Job_1/DAPI-SPC-PDPN-ZO1/Day7_breath/20x_21-12-029A_A3456_Multichannel Z-Stack_20220818_195.tif',\n",
       " '/run/user/30046150/gvfs/smb-share:server=data2.thecrick.org,share=lab-gutierrezm/home/shared/Lung on Chip/image analysis_Nathan/Job_1/DAPI-SPC-PDPN-ZO1/Day7_breath/20x_21-12-029A_A3456_Multichannel Z-Stack_20220818_194.tif',\n",
       " '/run/user/30046150/gvfs/smb-share:server=data2.thecrick.org,share=lab-gutierrezm/home/shared/Lung on Chip/image analysis_Nathan/Job_1/DAPI-SPC-PDPN-ZO1/Day7_static/20x_21-12-031B_A12456_Multichannel Z-Stack_20220811_121.tif',\n",
       " '/run/user/30046150/gvfs/smb-share:server=data2.thecrick.org,share=lab-gutierrezm/home/shared/Lung on Chip/image analysis_Nathan/Job_1/DAPI-SPC-PDPN-ZO1/Day7_static/20x_21-12-031B_A12456_Multichannel Z-Stack_20220811_122.tif',\n",
       " '/run/user/30046150/gvfs/smb-share:server=data2.thecrick.org,share=lab-gutierrezm/home/shared/Lung on Chip/image analysis_Nathan/Job_1/DAPI-SPC-PDPN-ZO1/Day7_static/20x_21-12-031B_A12456_Multichannel Z-Stack_20220811_123.tif',\n",
       " '/run/user/30046150/gvfs/smb-share:server=data2.thecrick.org,share=lab-gutierrezm/home/shared/Lung on Chip/image analysis_Nathan/Job_1/DAPI-NKX21-PDPN-ZO1/Day14_breath/20x_21-12-029B_A12346_Multichannel Z-Stack_20220819_286.tif',\n",
       " '/run/user/30046150/gvfs/smb-share:server=data2.thecrick.org,share=lab-gutierrezm/home/shared/Lung on Chip/image analysis_Nathan/Job_1/DAPI-NKX21-PDPN-ZO1/Day14_breath/20x_21-12-029B_A12346_Multichannel Z-Stack_20220819_287.tif',\n",
       " '/run/user/30046150/gvfs/smb-share:server=data2.thecrick.org,share=lab-gutierrezm/home/shared/Lung on Chip/image analysis_Nathan/Job_1/DAPI-NKX21-PDPN-ZO1/Day14_breath/20x_21-12-029B_A12346_Multichannel Z-Stack_20220819_284.tif',\n",
       " '/run/user/30046150/gvfs/smb-share:server=data2.thecrick.org,share=lab-gutierrezm/home/shared/Lung on Chip/image analysis_Nathan/Job_1/DAPI-NKX21-PDPN-ZO1/Day14_static/20x_21-12-028A_A23456_Multichannel Z-Stack_20220818_235.tif',\n",
       " '/run/user/30046150/gvfs/smb-share:server=data2.thecrick.org,share=lab-gutierrezm/home/shared/Lung on Chip/image analysis_Nathan/Job_1/DAPI-NKX21-PDPN-ZO1/Day14_static/20x_21-12-028A_A23456_Multichannel Z-Stack_20220818_236.tif',\n",
       " '/run/user/30046150/gvfs/smb-share:server=data2.thecrick.org,share=lab-gutierrezm/home/shared/Lung on Chip/image analysis_Nathan/Job_1/DAPI-NKX21-PDPN-ZO1/Day14_static/20x_21-12-028A_A23456_Multichannel Z-Stack_20220818_237.tif',\n",
       " '/run/user/30046150/gvfs/smb-share:server=data2.thecrick.org,share=lab-gutierrezm/home/shared/Lung on Chip/image analysis_Nathan/Job_1/DAPI-NKX21-PDPN-ZO1/Day7_static/20x_21-12-031B_A12456_Multichannel Z-Stack_20220811_113.tif',\n",
       " '/run/user/30046150/gvfs/smb-share:server=data2.thecrick.org,share=lab-gutierrezm/home/shared/Lung on Chip/image analysis_Nathan/Job_1/DAPI-NKX21-PDPN-ZO1/Day7_static/20x_21-12-031B_A12456_Multichannel Z-Stack_20220811_112.tif',\n",
       " '/run/user/30046150/gvfs/smb-share:server=data2.thecrick.org,share=lab-gutierrezm/home/shared/Lung on Chip/image analysis_Nathan/Job_Mtb area/run2_23-02-104/48h pi/20230718_20X_23-02-104B2_Multichannel Z-Stack_20230718_1365.tif',\n",
       " '/run/user/30046150/gvfs/smb-share:server=data2.thecrick.org,share=lab-gutierrezm/home/shared/Lung on Chip/image analysis_Nathan/Job_Mtb area/run2_23-02-104/48h pi/20230718_20X_23-02-104B2_Multichannel Z-Stack_20230718_1363.tif',\n",
       " '/run/user/30046150/gvfs/smb-share:server=data2.thecrick.org,share=lab-gutierrezm/home/shared/Lung on Chip/image analysis_Nathan/Job_Mtb area/run2_23-02-104/48h pi/20230718_20X_23-02-104B2_Multichannel Z-Stack_20230718_1361.tif',\n",
       " '/run/user/30046150/gvfs/smb-share:server=data2.thecrick.org,share=lab-gutierrezm/home/shared/Lung on Chip/image analysis_Nathan/Job_Mtb area/run2_23-02-104/48h pi/20230718_20X_23-02-104B2_Multichannel Z-Stack_20230718_1362.tif',\n",
       " '/run/user/30046150/gvfs/smb-share:server=data2.thecrick.org,share=lab-gutierrezm/home/shared/Lung on Chip/image analysis_Nathan/Job_Mtb area/run2_23-02-104/48h pi/20230718_20X_23-02-104B2_Multichannel Z-Stack_20230718_1364.tif',\n",
       " '/run/user/30046150/gvfs/smb-share:server=data2.thecrick.org,share=lab-gutierrezm/home/shared/Lung on Chip/image analysis_Nathan/Job_Mtb area/run2_23-02-104/2h pi/20230714_20X_23-02-104A4_Multichannel Z-Stack_20230714_1343.tif',\n",
       " '/run/user/30046150/gvfs/smb-share:server=data2.thecrick.org,share=lab-gutierrezm/home/shared/Lung on Chip/image analysis_Nathan/Job_Mtb area/run2_23-02-104/2h pi/20230714_20X_23-02-104A4_Multichannel Z-Stack_20230714_1342.tif',\n",
       " '/run/user/30046150/gvfs/smb-share:server=data2.thecrick.org,share=lab-gutierrezm/home/shared/Lung on Chip/image analysis_Nathan/Job_Mtb area/run2_23-02-104/2h pi/20230714_20X_23-02-104A4_Multichannel Z-Stack_20230714_1344.tif',\n",
       " '/run/user/30046150/gvfs/smb-share:server=data2.thecrick.org,share=lab-gutierrezm/home/shared/Lung on Chip/image analysis_Nathan/Job_Mtb area/run2_23-02-104/2h pi/20230714_20X_23-02-104A4_Multichannel Z-Stack_20230714_1341.tif',\n",
       " '/run/user/30046150/gvfs/smb-share:server=data2.thecrick.org,share=lab-gutierrezm/home/shared/Lung on Chip/image analysis_Nathan/Job_Mtb area/run2_23-02-104/2h pi/20230714_20X_23-02-104A4_Multichannel Z-Stack_20230714_1340.tif',\n",
       " '/run/user/30046150/gvfs/smb-share:server=data2.thecrick.org,share=lab-gutierrezm/home/shared/Lung on Chip/image analysis_Nathan/Job_Mtb area/run1_23-01-001_23-01-005/48h pi/20230707_40X_23-01-005A3_Multichannel Z-Stack_20230707_1325.tif',\n",
       " '/run/user/30046150/gvfs/smb-share:server=data2.thecrick.org,share=lab-gutierrezm/home/shared/Lung on Chip/image analysis_Nathan/Job_Mtb area/run1_23-01-001_23-01-005/48h pi/20230707_40X_23-01-005A3_Multichannel Z-Stack_20230707_1324.tif',\n",
       " '/run/user/30046150/gvfs/smb-share:server=data2.thecrick.org,share=lab-gutierrezm/home/shared/Lung on Chip/image analysis_Nathan/Job_Mtb area/run1_23-01-001_23-01-005/48h pi/20230705_40X_23-01-005A3_Multichannel Z-Stack_20230705_1309.tif',\n",
       " '/run/user/30046150/gvfs/smb-share:server=data2.thecrick.org,share=lab-gutierrezm/home/shared/Lung on Chip/image analysis_Nathan/Job_Mtb area/run1_23-01-001_23-01-005/48h pi/20230705_40X_23-01-005A3_Multichannel Z-Stack_20230705_1306.tif',\n",
       " '/run/user/30046150/gvfs/smb-share:server=data2.thecrick.org,share=lab-gutierrezm/home/shared/Lung on Chip/image analysis_Nathan/Job_Mtb area/run1_23-01-001_23-01-005/48h pi/20230705_40X_23-01-005A3_Multichannel Z-Stack_20230705_1308.tif',\n",
       " '/run/user/30046150/gvfs/smb-share:server=data2.thecrick.org,share=lab-gutierrezm/home/shared/Lung on Chip/image analysis_Nathan/Job_Mtb area/run1_23-01-001_23-01-005/48h pi/20230705_40X_23-01-005A3_Multichannel Z-Stack_20230705_1307.tif',\n",
       " '/run/user/30046150/gvfs/smb-share:server=data2.thecrick.org,share=lab-gutierrezm/home/shared/Lung on Chip/image analysis_Nathan/Job_Mtb area/run1_23-01-001_23-01-005/48h pi/20230705_40X_23-01-005A3_Multichannel Z-Stack_20230705_1311.tif',\n",
       " '/run/user/30046150/gvfs/smb-share:server=data2.thecrick.org,share=lab-gutierrezm/home/shared/Lung on Chip/image analysis_Nathan/Job_Mtb area/run1_23-01-001_23-01-005/48h pi/20230705_40X_23-01-005A3_Multichannel Z-Stack_20230705_1310.tif',\n",
       " '/run/user/30046150/gvfs/smb-share:server=data2.thecrick.org,share=lab-gutierrezm/home/shared/Lung on Chip/image analysis_Nathan/Job_Mtb area/run1_23-01-001_23-01-005/2h pi/20230707_40X_23-01-001A3_Multichannel Z-Stack_20230707_1318.tif',\n",
       " '/run/user/30046150/gvfs/smb-share:server=data2.thecrick.org,share=lab-gutierrezm/home/shared/Lung on Chip/image analysis_Nathan/Job_Mtb area/run1_23-01-001_23-01-005/2h pi/20230707_40X_23-01-001A3_Multichannel Z-Stack_20230707_1319.tif',\n",
       " '/run/user/30046150/gvfs/smb-share:server=data2.thecrick.org,share=lab-gutierrezm/home/shared/Lung on Chip/image analysis_Nathan/Job_Mtb area/run1_23-01-001_23-01-005/2h pi/20230707_40X_23-01-001A3_Multichannel Z-Stack_20230707_1317.tif',\n",
       " '/run/user/30046150/gvfs/smb-share:server=data2.thecrick.org,share=lab-gutierrezm/home/shared/Lung on Chip/image analysis_Nathan/Job_Mtb area/run1_23-01-001_23-01-005/2h pi/20230707_40X_23-01-001A3_Multichannel Z-Stack_20230707_1313.tif',\n",
       " '/run/user/30046150/gvfs/smb-share:server=data2.thecrick.org,share=lab-gutierrezm/home/shared/Lung on Chip/image analysis_Nathan/Job_Mtb area/run1_23-01-001_23-01-005/2h pi/20230707_40X_23-01-001A3_Multichannel Z-Stack_20230707_1316.tif',\n",
       " '/run/user/30046150/gvfs/smb-share:server=data2.thecrick.org,share=lab-gutierrezm/home/shared/Lung on Chip/image analysis_Nathan/Job_Mtb area/run1_23-01-001_23-01-005/2h pi/20230707_40X_23-01-001A3_Multichannel Z-Stack_20230707_1315.tif',\n",
       " '/run/user/30046150/gvfs/smb-share:server=data2.thecrick.org,share=lab-gutierrezm/home/shared/Lung on Chip/image analysis_Nathan/Job_Mtb area/run1_23-01-001_23-01-005/2h pi/20230707_40X_23-01-001A3_Multichannel Z-Stack_20230707_1320.tif',\n",
       " '/run/user/30046150/gvfs/smb-share:server=data2.thecrick.org,share=lab-gutierrezm/home/shared/Lung on Chip/image analysis_Nathan/Job_Mtb area/run1_23-01-001_23-01-005/2h pi/20230707_40X_23-01-001A3_Multichannel Z-Stack_20230707_1314.tif',\n",
       " '/run/user/30046150/gvfs/smb-share:server=data2.thecrick.org,share=lab-gutierrezm/home/shared/Lung on Chip/image analysis_Nathan/Job_Mtb area/run3/23-03-002/20230801_20X_23-03-002A6_DAPI_SP-C_PDPN_ZO-1_Multichannel Z-Stack_20230801_1444.tif',\n",
       " '/run/user/30046150/gvfs/smb-share:server=data2.thecrick.org,share=lab-gutierrezm/home/shared/Lung on Chip/image analysis_Nathan/Job_Mtb area/run3/23-03-002/20230801_20X_23-03-002A5_DAPI_NKX201_PDPN_ZO-1_Multichannel Z-Stack_20230801_1441.tif',\n",
       " '/run/user/30046150/gvfs/smb-share:server=data2.thecrick.org,share=lab-gutierrezm/home/shared/Lung on Chip/image analysis_Nathan/Job_Mtb area/run3/23-03-011/20230801_20X_23-03-011B5_DAPI_NKX2-1_PDPN_ZO-1_Multichannel Z-Stack_20230801_1434.tif']"
      ]
     },
     "execution_count": 28,
     "metadata": {},
     "output_type": "execute_result"
    }
   ],
   "source": [
    "image_fns"
   ]
  },
  {
   "cell_type": "code",
   "execution_count": 7,
   "id": "b64e3ebc-9876-4bfe-968a-7b3df51bdd80",
   "metadata": {},
   "outputs": [],
   "source": [
    "props = ('axis_major_length',\n",
    " 'axis_minor_length',\n",
    " 'eccentricity',\n",
    " 'area',\n",
    " 'orientation',\n",
    " 'mean_intensity')"
   ]
  },
  {
   "cell_type": "code",
   "execution_count": 29,
   "id": "d9a23f21-00ff-476b-a95e-797a59f885f6",
   "metadata": {},
   "outputs": [],
   "source": [
    "image_fns = [\n",
    " '/run/user/30046150/gvfs/smb-share:server=data2.thecrick.org,share=lab-gutierrezm/home/shared/Lung on Chip/image analysis_Nathan/Job_Mtb area/run1_23-01-001_23-01-005/2h pi/20230707_40X_23-01-001A3_Multichannel Z-Stack_20230707_1315.tif',\n",
    " '/run/user/30046150/gvfs/smb-share:server=data2.thecrick.org,share=lab-gutierrezm/home/shared/Lung on Chip/image analysis_Nathan/Job_Mtb area/run1_23-01-001_23-01-005/2h pi/20230707_40X_23-01-001A3_Multichannel Z-Stack_20230707_1320.tif',\n",
    " '/run/user/30046150/gvfs/smb-share:server=data2.thecrick.org,share=lab-gutierrezm/home/shared/Lung on Chip/image analysis_Nathan/Job_Mtb area/run1_23-01-001_23-01-005/2h pi/20230707_40X_23-01-001A3_Multichannel Z-Stack_20230707_1314.tif',]"
   ]
  },
  {
   "cell_type": "code",
   "execution_count": 25,
   "id": "626b1d51-681f-4b0e-8332-e3e0f82fbea5",
   "metadata": {},
   "outputs": [
    {
     "data": {
      "text/plain": [
       "True"
      ]
     },
     "execution_count": 25,
     "metadata": {},
     "output_type": "execute_result"
    }
   ],
   "source": [
    "tracks_fn_results == []"
   ]
  },
  {
   "cell_type": "code",
   "execution_count": 30,
   "id": "24504918-8756-4a67-8cb0-140a3ac9e854",
   "metadata": {},
   "outputs": [
    {
     "data": {
      "application/vnd.jupyter.widget-view+json": {
       "model_id": "296384cefa3a4e1fabcf60a58c9e8496",
       "version_major": 2,
       "version_minor": 0
      },
      "text/plain": [
       "  0%|          | 0/3 [00:00<?, ?it/s]"
      ]
     },
     "metadata": {},
     "output_type": "display_data"
    },
    {
     "data": {
      "application/vnd.jupyter.widget-view+json": {
       "model_id": "d1f2c63799d14d38bd7eb657090d9ca5",
       "version_major": 2,
       "version_minor": 0
      },
      "text/plain": [
       "Searching start directory for filename: 0it [00:00, ?it/s]"
      ]
     },
     "metadata": {},
     "output_type": "display_data"
    },
    {
     "name": "stderr",
     "output_type": "stream",
     "text": [
      "[INFO][2023/08/22 05:35:45 PM] Opening HDF file: /run/user/30046150/gvfs/smb-share:server=data2.thecrick.org,share=lab-gutierrezm/home/shared/Lung on Chip/image analysis_Nathan/results/run1_23-01-001_23-01-005/2h pi/20230707_40X_23-01-001A3_Multichannel Z-Stack_20230707_1315_z_tracks_masks.h5...\n",
      "[INFO][2023/08/22 05:35:45 PM] Loading objects/obj_type_1 (13489, 5) (13489 filtered: None)\n",
      "[INFO][2023/08/22 05:36:05 PM] Loading segmentation (362, 2304, 2304)\n",
      "[INFO][2023/08/22 05:36:05 PM] Closing HDF file: /run/user/30046150/gvfs/smb-share:server=data2.thecrick.org,share=lab-gutierrezm/home/shared/Lung on Chip/image analysis_Nathan/results/run1_23-01-001_23-01-005/2h pi/20230707_40X_23-01-001A3_Multichannel Z-Stack_20230707_1315_z_tracks_masks.h5\n",
      "[INFO][2023/08/22 05:36:05 PM] Loaded btrack: /home/dayn/analysis/btrack/btrack/libs/libtracker.so\n",
      "[INFO][2023/08/22 05:36:05 PM] Starting BayesianTracker session\n",
      "[INFO][2023/08/22 05:36:05 PM] Loading configuration file: /home/dayn/analysis/models/loc.json\n",
      "[INFO][2023/08/22 05:36:05 PM] Objects are of type: <class 'list'>\n",
      "[INFO][2023/08/22 05:36:06 PM] Starting tracking... \n",
      "[INFO][2023/08/22 05:36:06 PM] Update using: ['VISUAL', 'MOTION']\n",
      "[INFO][2023/08/22 05:36:06 PM] Tracking objects in frames 0 to 9 (of 362)...\n",
      "[INFO][2023/08/22 05:36:06 PM]  - Timing (Bayesian updates: 0.00ms, Linking: 0.16ms)\n",
      "[INFO][2023/08/22 05:36:06 PM]  - Probabilities (Link: 1.00000, Lost: 1.00000)\n",
      "[INFO][2023/08/22 05:36:06 PM]  - Stats (Active: 11, Lost: 17, Conflicts resolved: 1)\n",
      "[INFO][2023/08/22 05:36:06 PM] Tracking objects in frames 10 to 19 (of 362)...\n",
      "[INFO][2023/08/22 05:36:06 PM]  - Timing (Bayesian updates: 0.00ms, Linking: 0.01ms)\n",
      "[INFO][2023/08/22 05:36:06 PM]  - Probabilities (Link: 1.00000, Lost: 1.00000)\n",
      "[INFO][2023/08/22 05:36:06 PM]  - Stats (Active: 2, Lost: 54, Conflicts resolved: 2)\n",
      "[INFO][2023/08/22 05:36:06 PM] Tracking objects in frames 20 to 29 (of 362)...\n",
      "[INFO][2023/08/22 05:36:06 PM]  - Timing (Bayesian updates: 0.00ms, Linking: 0.01ms)\n",
      "[INFO][2023/08/22 05:36:06 PM]  - Probabilities (Link: 1.00000, Lost: 1.00000)\n",
      "[INFO][2023/08/22 05:36:06 PM]  - Stats (Active: 2, Lost: 64, Conflicts resolved: 2)\n",
      "[INFO][2023/08/22 05:36:06 PM] Tracking objects in frames 30 to 39 (of 362)...\n",
      "[INFO][2023/08/22 05:36:06 PM]  - Timing (Bayesian updates: 0.00ms, Linking: 0.03ms)\n",
      "[INFO][2023/08/22 05:36:06 PM]  - Probabilities (Link: 1.00000, Lost: 1.00000)\n",
      "[INFO][2023/08/22 05:36:06 PM]  - Stats (Active: 4, Lost: 84, Conflicts resolved: 2)\n",
      "[INFO][2023/08/22 05:36:06 PM] Tracking objects in frames 40 to 49 (of 362)...\n",
      "[INFO][2023/08/22 05:36:06 PM]  - Timing (Bayesian updates: 0.00ms, Linking: 0.03ms)\n",
      "[INFO][2023/08/22 05:36:06 PM]  - Probabilities (Link: 0.99999, Lost: 1.00000)\n",
      "[INFO][2023/08/22 05:36:06 PM]  - Stats (Active: 2, Lost: 90, Conflicts resolved: 2)\n",
      "[INFO][2023/08/22 05:36:06 PM] Tracking objects in frames 50 to 59 (of 362)...\n",
      "[INFO][2023/08/22 05:36:06 PM]  - Timing (Bayesian updates: 0.01ms, Linking: 0.08ms)\n",
      "[INFO][2023/08/22 05:36:06 PM]  - Probabilities (Link: 0.99998, Lost: 1.00000)\n",
      "[INFO][2023/08/22 05:36:06 PM]  - Stats (Active: 12, Lost: 125, Conflicts resolved: 3)\n",
      "[INFO][2023/08/22 05:36:06 PM] Tracking objects in frames 60 to 69 (of 362)...\n",
      "[INFO][2023/08/22 05:36:06 PM]  - Timing (Bayesian updates: 0.00ms, Linking: 0.03ms)\n",
      "[INFO][2023/08/22 05:36:06 PM]  - Probabilities (Link: 1.00000, Lost: 1.00000)\n",
      "[INFO][2023/08/22 05:36:06 PM]  - Stats (Active: 4, Lost: 189, Conflicts resolved: 3)\n",
      "[INFO][2023/08/22 05:36:06 PM] Tracking objects in frames 70 to 79 (of 362)...\n",
      "[INFO][2023/08/22 05:36:06 PM]  - Timing (Bayesian updates: 0.00ms, Linking: 0.02ms)\n",
      "[INFO][2023/08/22 05:36:06 PM]  - Probabilities (Link: 1.00000, Lost: 1.00000)\n",
      "[INFO][2023/08/22 05:36:06 PM]  - Stats (Active: 1, Lost: 191, Conflicts resolved: 3)\n",
      "[INFO][2023/08/22 05:36:06 PM] Tracking objects in frames 80 to 89 (of 362)...\n",
      "[INFO][2023/08/22 05:36:06 PM]  - Timing (Bayesian updates: 0.03ms, Linking: 0.21ms)\n",
      "[INFO][2023/08/22 05:36:06 PM]  - Probabilities (Link: 1.00000, Lost: 1.00000)\n",
      "[INFO][2023/08/22 05:36:06 PM]  - Stats (Active: 19, Lost: 261, Conflicts resolved: 5)\n",
      "[INFO][2023/08/22 05:36:06 PM] Tracking objects in frames 90 to 99 (of 362)...\n",
      "[INFO][2023/08/22 05:36:06 PM]  - Timing (Bayesian updates: 0.12ms, Linking: 0.37ms)\n",
      "[INFO][2023/08/22 05:36:06 PM]  - Probabilities (Link: 0.99999, Lost: 1.00000)\n",
      "[INFO][2023/08/22 05:36:06 PM]  - Stats (Active: 42, Lost: 434, Conflicts resolved: 32)\n",
      "[INFO][2023/08/22 05:36:06 PM] Tracking objects in frames 100 to 109 (of 362)...\n",
      "[INFO][2023/08/22 05:36:06 PM]  - Timing (Bayesian updates: 0.07ms, Linking: 0.29ms)\n",
      "[INFO][2023/08/22 05:36:06 PM]  - Probabilities (Link: 1.00000, Lost: 1.00000)\n",
      "[INFO][2023/08/22 05:36:06 PM]  - Stats (Active: 43, Lost: 637, Conflicts resolved: 81)\n",
      "[INFO][2023/08/22 05:36:06 PM] Tracking objects in frames 110 to 119 (of 362)...\n",
      "[INFO][2023/08/22 05:36:06 PM]  - Timing (Bayesian updates: 0.07ms, Linking: 0.20ms)\n",
      "[INFO][2023/08/22 05:36:06 PM]  - Probabilities (Link: 0.99841, Lost: 1.00000)\n",
      "[INFO][2023/08/22 05:36:06 PM]  - Stats (Active: 20, Lost: 757, Conflicts resolved: 93)\n",
      "[INFO][2023/08/22 05:36:06 PM] Tracking objects in frames 120 to 129 (of 362)...\n",
      "[INFO][2023/08/22 05:36:06 PM]  - Timing (Bayesian updates: 0.13ms, Linking: 0.38ms)\n",
      "[INFO][2023/08/22 05:36:06 PM]  - Probabilities (Link: 1.00000, Lost: 1.00000)\n",
      "[INFO][2023/08/22 05:36:06 PM]  - Stats (Active: 50, Lost: 972, Conflicts resolved: 141)\n",
      "[INFO][2023/08/22 05:36:06 PM] Tracking objects in frames 130 to 139 (of 362)...\n",
      "[INFO][2023/08/22 05:36:06 PM]  - Timing (Bayesian updates: 0.05ms, Linking: 0.39ms)\n",
      "[INFO][2023/08/22 05:36:06 PM]  - Probabilities (Link: 1.00000, Lost: 1.00000)\n",
      "[INFO][2023/08/22 05:36:06 PM]  - Stats (Active: 62, Lost: 1324, Conflicts resolved: 190)\n",
      "[INFO][2023/08/22 05:36:06 PM] Tracking objects in frames 140 to 149 (of 362)...\n",
      "[INFO][2023/08/22 05:36:06 PM]  - Timing (Bayesian updates: 0.10ms, Linking: 0.36ms)\n",
      "[INFO][2023/08/22 05:36:06 PM]  - Probabilities (Link: 1.00000, Lost: 1.00000)\n",
      "[INFO][2023/08/22 05:36:06 PM]  - Stats (Active: 49, Lost: 1591, Conflicts resolved: 234)\n",
      "[INFO][2023/08/22 05:36:06 PM] Tracking objects in frames 150 to 159 (of 362)...\n",
      "[INFO][2023/08/22 05:36:06 PM]  - Timing (Bayesian updates: 1.12ms, Linking: 0.77ms)\n",
      "[INFO][2023/08/22 05:36:06 PM]  - Probabilities (Link: 1.00000, Lost: 1.00000)\n",
      "[INFO][2023/08/22 05:36:06 PM]  - Stats (Active: 105, Lost: 1849, Conflicts resolved: 317)\n",
      "[INFO][2023/08/22 05:36:06 PM] Tracking objects in frames 160 to 169 (of 362)...\n",
      "[INFO][2023/08/22 05:36:06 PM]  - Timing (Bayesian updates: 1.08ms, Linking: 0.67ms)\n",
      "[INFO][2023/08/22 05:36:06 PM]  - Probabilities (Link: 1.00000, Lost: 1.00000)\n",
      "[INFO][2023/08/22 05:36:06 PM]  - Stats (Active: 100, Lost: 2170, Conflicts resolved: 496)\n",
      "[INFO][2023/08/22 05:36:06 PM] Tracking objects in frames 170 to 179 (of 362)...\n",
      "[INFO][2023/08/22 05:36:06 PM]  - Timing (Bayesian updates: 0.99ms, Linking: 0.44ms)\n",
      "[INFO][2023/08/22 05:36:06 PM]  - Probabilities (Link: 1.00000, Lost: 1.00000)\n",
      "[INFO][2023/08/22 05:36:06 PM]  - Stats (Active: 136, Lost: 2477, Conflicts resolved: 691)\n",
      "[INFO][2023/08/22 05:36:06 PM] Tracking objects in frames 180 to 189 (of 362)...\n",
      "[INFO][2023/08/22 05:36:06 PM]  - Timing (Bayesian updates: 1.54ms, Linking: 0.66ms)\n",
      "[INFO][2023/08/22 05:36:06 PM]  - Probabilities (Link: 1.00000, Lost: 1.00000)\n",
      "[INFO][2023/08/22 05:36:06 PM]  - Stats (Active: 141, Lost: 3004, Conflicts resolved: 902)\n",
      "[INFO][2023/08/22 05:36:06 PM] Tracking objects in frames 190 to 199 (of 362)...\n",
      "[INFO][2023/08/22 05:36:06 PM]  - Timing (Bayesian updates: 2.67ms, Linking: 1.13ms)\n",
      "[INFO][2023/08/22 05:36:06 PM]  - Probabilities (Link: 1.00000, Lost: 1.00000)\n",
      "[INFO][2023/08/22 05:36:06 PM]  - Stats (Active: 143, Lost: 3516, Conflicts resolved: 1179)\n",
      "[INFO][2023/08/22 05:36:06 PM] Tracking objects in frames 200 to 209 (of 362)...\n",
      "[INFO][2023/08/22 05:36:06 PM]  - Timing (Bayesian updates: 1.35ms, Linking: 0.51ms)\n",
      "[INFO][2023/08/22 05:36:06 PM]  - Probabilities (Link: 1.00000, Lost: 1.00000)\n",
      "[INFO][2023/08/22 05:36:06 PM]  - Stats (Active: 153, Lost: 4061, Conflicts resolved: 1446)\n",
      "[INFO][2023/08/22 05:36:06 PM] Tracking objects in frames 210 to 219 (of 362)...\n",
      "[INFO][2023/08/22 05:36:06 PM]  - Timing (Bayesian updates: 3.75ms, Linking: 1.46ms)\n",
      "[INFO][2023/08/22 05:36:06 PM]  - Probabilities (Link: 1.00000, Lost: 0.99327)\n",
      "[INFO][2023/08/22 05:36:06 PM]  - Stats (Active: 252, Lost: 4759, Conflicts resolved: 1787)\n",
      "[INFO][2023/08/22 05:36:06 PM] Tracking objects in frames 220 to 229 (of 362)...\n",
      "[INFO][2023/08/22 05:36:07 PM]  - Timing (Bayesian updates: 8.44ms, Linking: 1.62ms)\n",
      "[INFO][2023/08/22 05:36:07 PM]  - Probabilities (Link: 1.00000, Lost: 1.00000)\n",
      "[INFO][2023/08/22 05:36:07 PM]  - Stats (Active: 317, Lost: 5423, Conflicts resolved: 2293)\n",
      "[INFO][2023/08/22 05:36:07 PM] Tracking objects in frames 230 to 239 (of 362)...\n",
      "[INFO][2023/08/22 05:36:07 PM]  - Timing (Bayesian updates: 9.15ms, Linking: 1.48ms)\n",
      "[INFO][2023/08/22 05:36:07 PM]  - Probabilities (Link: 1.00000, Lost: 1.00000)\n",
      "[INFO][2023/08/22 05:36:07 PM]  - Stats (Active: 343, Lost: 6283, Conflicts resolved: 2741)\n",
      "[INFO][2023/08/22 05:36:07 PM] Tracking objects in frames 240 to 249 (of 362)...\n",
      "[INFO][2023/08/22 05:36:07 PM]  - Timing (Bayesian updates: 4.02ms, Linking: 1.03ms)\n",
      "[INFO][2023/08/22 05:36:07 PM]  - Probabilities (Link: 1.00000, Lost: 1.00000)\n",
      "[INFO][2023/08/22 05:36:07 PM]  - Stats (Active: 263, Lost: 7225, Conflicts resolved: 3244)\n",
      "[INFO][2023/08/22 05:36:07 PM] Tracking objects in frames 250 to 259 (of 362)...\n",
      "[INFO][2023/08/22 05:36:07 PM]  - Timing (Bayesian updates: 1.34ms, Linking: 0.65ms)\n",
      "[INFO][2023/08/22 05:36:08 PM]  - Probabilities (Link: 1.00000, Lost: 1.00000)\n",
      "[INFO][2023/08/22 05:36:08 PM]  - Stats (Active: 174, Lost: 8225, Conflicts resolved: 3564)\n",
      "[INFO][2023/08/22 05:36:08 PM] Tracking objects in frames 260 to 269 (of 362)...\n",
      "[INFO][2023/08/22 05:36:08 PM]  - Timing (Bayesian updates: 1.15ms, Linking: 0.69ms)\n",
      "[INFO][2023/08/22 05:36:08 PM]  - Probabilities (Link: 1.00000, Lost: 0.99994)\n",
      "[INFO][2023/08/22 05:36:08 PM]  - Stats (Active: 133, Lost: 8921, Conflicts resolved: 3798)\n",
      "[INFO][2023/08/22 05:36:08 PM] Tracking objects in frames 270 to 279 (of 362)...\n",
      "[INFO][2023/08/22 05:36:08 PM]  - Timing (Bayesian updates: 0.39ms, Linking: 0.41ms)\n",
      "[INFO][2023/08/22 05:36:08 PM]  - Probabilities (Link: 1.00000, Lost: 1.00000)\n",
      "[INFO][2023/08/22 05:36:08 PM]  - Stats (Active: 101, Lost: 9367, Conflicts resolved: 3976)\n",
      "[INFO][2023/08/22 05:36:08 PM] Tracking objects in frames 280 to 289 (of 362)...\n",
      "[INFO][2023/08/22 05:36:08 PM]  - Timing (Bayesian updates: 0.01ms, Linking: 0.13ms)\n",
      "[INFO][2023/08/22 05:36:08 PM]  - Probabilities (Link: 1.00000, Lost: 1.00000)\n",
      "[INFO][2023/08/22 05:36:08 PM]  - Stats (Active: 25, Lost: 9773, Conflicts resolved: 3999)\n",
      "[INFO][2023/08/22 05:36:08 PM] Tracking objects in frames 290 to 299 (of 362)...\n",
      "[INFO][2023/08/22 05:36:08 PM]  - Timing (Bayesian updates: 0.01ms, Linking: 0.60ms)\n",
      "[INFO][2023/08/22 05:36:08 PM]  - Probabilities (Link: 1.00000, Lost: 1.00000)\n",
      "[INFO][2023/08/22 05:36:08 PM]  - Stats (Active: 27, Lost: 9799, Conflicts resolved: 3999)\n",
      "[INFO][2023/08/22 05:36:08 PM] Tracking objects in frames 300 to 309 (of 362)...\n",
      "[INFO][2023/08/22 05:36:08 PM]  - Timing (Bayesian updates: 0.01ms, Linking: 0.05ms)\n",
      "[INFO][2023/08/22 05:36:08 PM]  - Probabilities (Link: 1.00000, Lost: 1.00000)\n",
      "[INFO][2023/08/22 05:36:08 PM]  - Stats (Active: 8, Lost: 9814, Conflicts resolved: 3999)\n",
      "[INFO][2023/08/22 05:36:08 PM] Tracking objects in frames 310 to 319 (of 362)...\n",
      "[INFO][2023/08/22 05:36:08 PM]  - Timing (Bayesian updates: 0.00ms, Linking: 0.02ms)\n",
      "[INFO][2023/08/22 05:36:08 PM]  - Probabilities (Link: 1.00000, Lost: 1.00000)\n",
      "[INFO][2023/08/22 05:36:08 PM]  - Stats (Active: 2, Lost: 9816, Conflicts resolved: 4000)\n",
      "[INFO][2023/08/22 05:36:08 PM] Tracking objects in frames 320 to 329 (of 362)...\n",
      "[INFO][2023/08/22 05:36:08 PM]  - Timing (Bayesian updates: 0.00ms, Linking: 0.02ms)\n",
      "[INFO][2023/08/22 05:36:08 PM]  - Probabilities (Link: 1.00000, Lost: 1.00000)\n",
      "[INFO][2023/08/22 05:36:08 PM]  - Stats (Active: 2, Lost: 9859, Conflicts resolved: 4004)\n",
      "[INFO][2023/08/22 05:36:08 PM] Tracking objects in frames 330 to 339 (of 362)...\n",
      "[INFO][2023/08/22 05:36:08 PM]  - Timing (Bayesian updates: 0.00ms, Linking: 0.03ms)\n",
      "[INFO][2023/08/22 05:36:08 PM]  - Probabilities (Link: 0.99999, Lost: 1.00000)\n",
      "[INFO][2023/08/22 05:36:08 PM]  - Stats (Active: 5, Lost: 9873, Conflicts resolved: 4004)\n",
      "[INFO][2023/08/22 05:36:08 PM] Tracking objects in frames 340 to 349 (of 362)...\n",
      "[INFO][2023/08/22 05:36:08 PM]  - Timing (Bayesian updates: 0.01ms, Linking: 0.12ms)\n",
      "[INFO][2023/08/22 05:36:08 PM]  - Probabilities (Link: 1.00000, Lost: 1.00000)\n",
      "[INFO][2023/08/22 05:36:08 PM]  - Stats (Active: 12, Lost: 9920, Conflicts resolved: 4004)\n",
      "[INFO][2023/08/22 05:36:08 PM] Tracking objects in frames 350 to 359 (of 362)...\n",
      "[INFO][2023/08/22 05:36:08 PM]  - Timing (Bayesian updates: 0.00ms, Linking: 0.05ms)\n",
      "[INFO][2023/08/22 05:36:08 PM]  - Probabilities (Link: 1.00000, Lost: 1.00000)\n",
      "[INFO][2023/08/22 05:36:08 PM] SUCCESS.\n",
      "[INFO][2023/08/22 05:36:08 PM]  - Found 2789 tracks in 362 frames (in 0.0s)\n",
      "[INFO][2023/08/22 05:36:08 PM]  - Inserted 1134 dummy objects to fill tracking gaps\n",
      "[INFO][2023/08/22 05:36:08 PM] Loading hypothesis model: particle_hypothesis\n",
      "[INFO][2023/08/22 05:36:08 PM] Calculating hypotheses (relax: True)...\n",
      "[INFO][2023/08/22 05:36:08 PM] Setting up constraints matrix for global optimisation...\n",
      "[INFO][2023/08/22 05:36:08 PM] Using GLPK options: {'tm_lim': 60000}...\n",
      "[INFO][2023/08/22 05:36:08 PM] Optimizing...\n",
      "[INFO][2023/08/22 05:36:08 PM] Optimization complete. (Solution: optimal)\n",
      "[INFO][2023/08/22 05:36:08 PM]  - Fates.FALSE_POSITIVE: 2077 (of 2789)\n",
      "[INFO][2023/08/22 05:36:08 PM]  - Fates.LINK: 0 (of 1)\n",
      "[INFO][2023/08/22 05:36:08 PM]  - Fates.INITIALIZE_BORDER: 45 (of 173)\n",
      "[INFO][2023/08/22 05:36:08 PM]  - Fates.INITIALIZE_LAZY: 667 (of 2616)\n",
      "[INFO][2023/08/22 05:36:08 PM]  - Fates.TERMINATE_BORDER: 39 (of 168)\n",
      "[INFO][2023/08/22 05:36:08 PM]  - Fates.TERMINATE_BACK: 2 (of 3)\n",
      "[INFO][2023/08/22 05:36:08 PM]  - Fates.TERMINATE_LAZY: 671 (of 2618)\n",
      "[INFO][2023/08/22 05:36:08 PM]  - TOTAL: 8368 hypotheses\n",
      "[INFO][2023/08/22 05:36:08 PM] Completed optimization with 2789 tracks\n",
      "[INFO][2023/08/22 05:36:09 PM] Ending BayesianTracker session\n",
      "[INFO][2023/08/22 05:36:09 PM] Opening HDF file: /home/dayn/data/homuncu_loc_temp/results/image analysis_Nathan/Job_Mtb area/run1_23-01-001_23-01-005/2h pi/20230707_40X_23-01-001A3_Multichannel Z-Stack_20230707_1315_sc_data.h5...\n"
     ]
    },
    {
     "name": "stdout",
     "output_type": "stream",
     "text": [
      "GLPK Integer Optimizer 5.0\n",
      "11156 rows, 8368 columns, 11158 non-zeros\n",
      "8368 integer variables, all of which are binary\n",
      "Preprocessing...\n",
      "5578 rows, 8368 columns, 11158 non-zeros\n",
      "8368 integer variables, all of which are binary\n",
      "Scaling...\n",
      " A: min|aij| =  1.000e+00  max|aij| =  1.000e+00  ratio =  1.000e+00\n",
      "Problem data seem to be well scaled\n",
      "Constructing initial basis...\n",
      "Size of triangular part is 5578\n",
      "Solving LP relaxation...\n",
      "GLPK Simplex Optimizer 5.0\n",
      "5578 rows, 8368 columns, 11158 non-zeros\n",
      "*     0: obj =   3.649280368e+04 inf =   0.000e+00 (2078)\n",
      "*  2079: obj =   1.643507169e+04 inf =   0.000e+00 (0)\n",
      "OPTIMAL LP SOLUTION FOUND\n",
      "Integer optimization begins...\n",
      "Long-step dual simplex will be used\n",
      "+  2079: mip =     not found yet >=              -inf        (1; 0)\n",
      "+  2079: >>>>>   1.643507169e+04 >=   1.643507169e+04   0.0% (1; 0)\n",
      "+  2079: mip =   1.643507169e+04 >=     tree is empty   0.0% (0; 1)\n",
      "INTEGER OPTIMAL SOLUTION FOUND\n"
     ]
    },
    {
     "name": "stderr",
     "output_type": "stream",
     "text": [
      "[INFO][2023/08/22 05:36:09 PM] Writing objects/obj_type_1\n",
      "[INFO][2023/08/22 05:36:09 PM] Writing labels/obj_type_1\n",
      "[INFO][2023/08/22 05:36:09 PM] Loading objects/obj_type_1 (11722, 5) (11722 filtered: None)\n",
      "[INFO][2023/08/22 05:36:09 PM] Writing properties/obj_type_1/axis_major_length (11722,)\n",
      "[INFO][2023/08/22 05:36:09 PM] Writing properties/obj_type_1/axis_minor_length (11722,)\n",
      "[INFO][2023/08/22 05:36:09 PM] Writing properties/obj_type_1/eccentricity (11722,)\n",
      "[INFO][2023/08/22 05:36:09 PM] Writing properties/obj_type_1/area (11722,)\n",
      "[INFO][2023/08/22 05:36:09 PM] Writing properties/obj_type_1/orientation (11722,)\n",
      "[INFO][2023/08/22 05:36:09 PM] Writing properties/obj_type_1/mean_intensity (11722, 4)\n",
      "[INFO][2023/08/22 05:36:09 PM] Writing properties/obj_type_1/mtb_area (11722,)\n",
      "[INFO][2023/08/22 05:36:09 PM] Writing properties/obj_type_1/mtb_status (11722,)\n",
      "[INFO][2023/08/22 05:36:09 PM] Writing tracks/obj_type_1\n",
      "[INFO][2023/08/22 05:36:09 PM] Writing dummies/obj_type_1\n",
      "[INFO][2023/08/22 05:36:09 PM] Writing LBEP/obj_type_1\n",
      "[INFO][2023/08/22 05:36:09 PM] Writing fates/obj_type_1\n",
      "[INFO][2023/08/22 05:36:26 PM] Closing HDF file: /home/dayn/data/homuncu_loc_temp/results/image analysis_Nathan/Job_Mtb area/run1_23-01-001_23-01-005/2h pi/20230707_40X_23-01-001A3_Multichannel Z-Stack_20230707_1315_sc_data.h5\n"
     ]
    },
    {
     "data": {
      "application/vnd.jupyter.widget-view+json": {
       "model_id": "8a90fa2369834018bb55cec2d0ca4157",
       "version_major": 2,
       "version_minor": 0
      },
      "text/plain": [
       "Searching start directory for filename: 0it [00:00, ?it/s]"
      ]
     },
     "metadata": {},
     "output_type": "display_data"
    },
    {
     "name": "stderr",
     "output_type": "stream",
     "text": [
      "[INFO][2023/08/22 05:36:43 PM] Opening HDF file: /run/user/30046150/gvfs/smb-share:server=data2.thecrick.org,share=lab-gutierrezm/home/shared/Lung on Chip/image analysis_Nathan/results/run1_23-01-001_23-01-005/2h pi/20230707_40X_23-01-001A3_Multichannel Z-Stack_20230707_1320_z_tracks_masks.h5...\n",
      "[INFO][2023/08/22 05:36:43 PM] Loading objects/obj_type_1 (12550, 5) (12550 filtered: None)\n",
      "[INFO][2023/08/22 05:36:57 PM] Loading segmentation (317, 2304, 2304)\n",
      "[INFO][2023/08/22 05:36:57 PM] Closing HDF file: /run/user/30046150/gvfs/smb-share:server=data2.thecrick.org,share=lab-gutierrezm/home/shared/Lung on Chip/image analysis_Nathan/results/run1_23-01-001_23-01-005/2h pi/20230707_40X_23-01-001A3_Multichannel Z-Stack_20230707_1320_z_tracks_masks.h5\n",
      "[INFO][2023/08/22 05:36:57 PM] Loaded btrack: /home/dayn/analysis/btrack/btrack/libs/libtracker.so\n",
      "[INFO][2023/08/22 05:36:57 PM] Starting BayesianTracker session\n",
      "[INFO][2023/08/22 05:36:57 PM] Loading configuration file: /home/dayn/analysis/models/loc.json\n",
      "[INFO][2023/08/22 05:36:57 PM] Objects are of type: <class 'list'>\n",
      "[INFO][2023/08/22 05:36:58 PM] Starting tracking... \n",
      "[INFO][2023/08/22 05:36:58 PM] Update using: ['VISUAL', 'MOTION']\n",
      "[INFO][2023/08/22 05:36:58 PM] Tracking objects in frames 0 to 9 (of 316)...\n",
      "[INFO][2023/08/22 05:36:58 PM]  - Timing (Bayesian updates: 1.17ms, Linking: 0.47ms)\n",
      "[INFO][2023/08/22 05:36:58 PM]  - Probabilities (Link: 1.00000, Lost: 1.00000)\n",
      "[INFO][2023/08/22 05:36:58 PM]  - Stats (Active: 135, Lost: 506, Conflicts resolved: 137)\n",
      "[INFO][2023/08/22 05:36:58 PM] Tracking objects in frames 10 to 19 (of 316)...\n",
      "[INFO][2023/08/22 05:36:58 PM]  - Timing (Bayesian updates: 9.90ms, Linking: 1.31ms)\n",
      "[INFO][2023/08/22 05:36:58 PM]  - Probabilities (Link: 1.00000, Lost: 1.00000)\n",
      "[INFO][2023/08/22 05:36:58 PM]  - Stats (Active: 330, Lost: 1385, Conflicts resolved: 562)\n",
      "[INFO][2023/08/22 05:36:58 PM] Tracking objects in frames 20 to 29 (of 316)...\n",
      "[INFO][2023/08/22 05:36:58 PM]  - Timing (Bayesian updates: 16.00ms, Linking: 1.70ms)\n",
      "[INFO][2023/08/22 05:36:58 PM]  - Probabilities (Link: 1.00000, Lost: 1.00000)\n",
      "[INFO][2023/08/22 05:36:58 PM]  - Stats (Active: 416, Lost: 2284, Conflicts resolved: 1047)\n",
      "[INFO][2023/08/22 05:36:58 PM] Tracking objects in frames 30 to 39 (of 316)...\n",
      "[INFO][2023/08/22 05:36:59 PM]  - Timing (Bayesian updates: 2.70ms, Linking: 0.79ms)\n",
      "[INFO][2023/08/22 05:36:59 PM]  - Probabilities (Link: 1.00000, Lost: 1.00000)\n",
      "[INFO][2023/08/22 05:36:59 PM]  - Stats (Active: 288, Lost: 3811, Conflicts resolved: 1509)\n",
      "[INFO][2023/08/22 05:36:59 PM] Tracking objects in frames 40 to 49 (of 316)...\n",
      "[INFO][2023/08/22 05:36:59 PM]  - Timing (Bayesian updates: 0.93ms, Linking: 0.45ms)\n",
      "[INFO][2023/08/22 05:36:59 PM]  - Probabilities (Link: 1.00000, Lost: 1.00000)\n",
      "[INFO][2023/08/22 05:36:59 PM]  - Stats (Active: 178, Lost: 4702, Conflicts resolved: 1775)\n",
      "[INFO][2023/08/22 05:36:59 PM] Tracking objects in frames 50 to 59 (of 316)...\n",
      "[INFO][2023/08/22 05:36:59 PM]  - Timing (Bayesian updates: 1.48ms, Linking: 0.65ms)\n",
      "[INFO][2023/08/22 05:36:59 PM]  - Probabilities (Link: 1.00000, Lost: 1.00000)\n",
      "[INFO][2023/08/22 05:36:59 PM]  - Stats (Active: 166, Lost: 5512, Conflicts resolved: 1969)\n",
      "[INFO][2023/08/22 05:36:59 PM] Tracking objects in frames 60 to 69 (of 316)...\n",
      "[INFO][2023/08/22 05:36:59 PM]  - Timing (Bayesian updates: 2.85ms, Linking: 0.77ms)\n",
      "[INFO][2023/08/22 05:36:59 PM]  - Probabilities (Link: 1.00000, Lost: 1.00000)\n",
      "[INFO][2023/08/22 05:36:59 PM]  - Stats (Active: 223, Lost: 6155, Conflicts resolved: 2265)\n",
      "[INFO][2023/08/22 05:36:59 PM] Tracking objects in frames 70 to 79 (of 316)...\n",
      "[INFO][2023/08/22 05:36:59 PM]  - Timing (Bayesian updates: 2.66ms, Linking: 0.80ms)\n",
      "[INFO][2023/08/22 05:36:59 PM]  - Probabilities (Link: 1.00000, Lost: 0.79757)\n",
      "[INFO][2023/08/22 05:36:59 PM]  - Stats (Active: 231, Lost: 6945, Conflicts resolved: 2639)\n",
      "[INFO][2023/08/22 05:36:59 PM] Tracking objects in frames 80 to 89 (of 316)...\n",
      "[INFO][2023/08/22 05:36:59 PM]  - Timing (Bayesian updates: 0.66ms, Linking: 0.40ms)\n",
      "[INFO][2023/08/22 05:36:59 PM]  - Probabilities (Link: 1.00000, Lost: 1.00000)\n",
      "[INFO][2023/08/22 05:36:59 PM]  - Stats (Active: 126, Lost: 7770, Conflicts resolved: 2896)\n",
      "[INFO][2023/08/22 05:36:59 PM] Tracking objects in frames 90 to 99 (of 316)...\n",
      "[INFO][2023/08/22 05:36:59 PM]  - Timing (Bayesian updates: 0.16ms, Linking: 0.22ms)\n",
      "[INFO][2023/08/22 05:36:59 PM]  - Probabilities (Link: 1.00000, Lost: 1.00000)\n",
      "[INFO][2023/08/22 05:36:59 PM]  - Stats (Active: 76, Lost: 8290, Conflicts resolved: 3020)\n",
      "[INFO][2023/08/22 05:36:59 PM] Tracking objects in frames 100 to 109 (of 316)...\n",
      "[INFO][2023/08/22 05:36:59 PM]  - Timing (Bayesian updates: 0.16ms, Linking: 0.36ms)\n",
      "[INFO][2023/08/22 05:36:59 PM]  - Probabilities (Link: 0.99994, Lost: 1.00000)\n",
      "[INFO][2023/08/22 05:36:59 PM]  - Stats (Active: 41, Lost: 8569, Conflicts resolved: 3064)\n",
      "[INFO][2023/08/22 05:36:59 PM] Tracking objects in frames 110 to 119 (of 316)...\n",
      "[INFO][2023/08/22 05:36:59 PM]  - Timing (Bayesian updates: 0.09ms, Linking: 0.37ms)\n",
      "[INFO][2023/08/22 05:36:59 PM]  - Probabilities (Link: 1.00000, Lost: 1.00000)\n",
      "[INFO][2023/08/22 05:36:59 PM]  - Stats (Active: 59, Lost: 8866, Conflicts resolved: 3109)\n",
      "[INFO][2023/08/22 05:36:59 PM] Tracking objects in frames 120 to 129 (of 316)...\n",
      "[INFO][2023/08/22 05:36:59 PM]  - Timing (Bayesian updates: 0.03ms, Linking: 0.21ms)\n",
      "[INFO][2023/08/22 05:36:59 PM]  - Probabilities (Link: 1.00000, Lost: 1.00000)\n",
      "[INFO][2023/08/22 05:36:59 PM]  - Stats (Active: 25, Lost: 9062, Conflicts resolved: 3142)\n",
      "[INFO][2023/08/22 05:36:59 PM] Tracking objects in frames 130 to 139 (of 316)...\n",
      "[INFO][2023/08/22 05:36:59 PM]  - Timing (Bayesian updates: 0.01ms, Linking: 0.08ms)\n",
      "[INFO][2023/08/22 05:36:59 PM]  - Probabilities (Link: 1.00000, Lost: 1.00000)\n",
      "[INFO][2023/08/22 05:36:59 PM]  - Stats (Active: 11, Lost: 9179, Conflicts resolved: 3147)\n",
      "[INFO][2023/08/22 05:36:59 PM] Tracking objects in frames 140 to 149 (of 316)...\n",
      "[INFO][2023/08/22 05:36:59 PM]  - Timing (Bayesian updates: 0.00ms, Linking: 0.03ms)\n",
      "[INFO][2023/08/22 05:36:59 PM]  - Probabilities (Link: 1.00000, Lost: 1.00000)\n",
      "[INFO][2023/08/22 05:36:59 PM]  - Stats (Active: 3, Lost: 9242, Conflicts resolved: 3148)\n",
      "[INFO][2023/08/22 05:36:59 PM] Tracking objects in frames 150 to 159 (of 316)...\n",
      "[INFO][2023/08/22 05:36:59 PM]  - Timing (Bayesian updates: 0.00ms, Linking: 0.05ms)\n",
      "[INFO][2023/08/22 05:36:59 PM]  - Probabilities (Link: 1.00000, Lost: 1.00000)\n",
      "[INFO][2023/08/22 05:36:59 PM]  - Stats (Active: 7, Lost: 9267, Conflicts resolved: 3148)\n",
      "[INFO][2023/08/22 05:36:59 PM] Tracking objects in frames 160 to 169 (of 316)...\n",
      "[INFO][2023/08/22 05:36:59 PM]  - Timing (Bayesian updates: 0.00ms, Linking: 0.03ms)\n",
      "[INFO][2023/08/22 05:36:59 PM]  - Probabilities (Link: 1.00000, Lost: 1.00000)\n",
      "[INFO][2023/08/22 05:36:59 PM]  - Stats (Active: 5, Lost: 9309, Conflicts resolved: 3149)\n",
      "[INFO][2023/08/22 05:36:59 PM] Tracking objects in frames 170 to 179 (of 316)...\n",
      "[INFO][2023/08/22 05:36:59 PM]  - Timing (Bayesian updates: 0.00ms, Linking: 0.02ms)\n",
      "[INFO][2023/08/22 05:36:59 PM]  - Probabilities (Link: 1.00000, Lost: 1.00000)\n",
      "[INFO][2023/08/22 05:36:59 PM]  - Stats (Active: 2, Lost: 9330, Conflicts resolved: 3149)\n",
      "[INFO][2023/08/22 05:36:59 PM] Tracking objects in frames 180 to 189 (of 316)...\n",
      "[INFO][2023/08/22 05:36:59 PM]  - Timing (Bayesian updates: 0.00ms, Linking: 0.05ms)\n",
      "[INFO][2023/08/22 05:36:59 PM]  - Probabilities (Link: 1.00000, Lost: 1.00000)\n",
      "[INFO][2023/08/22 05:36:59 PM]  - Stats (Active: 9, Lost: 9391, Conflicts resolved: 3149)\n",
      "[INFO][2023/08/22 05:36:59 PM] Tracking objects in frames 190 to 199 (of 316)...\n",
      "[INFO][2023/08/22 05:36:59 PM]  - Timing (Bayesian updates: 0.03ms, Linking: 0.16ms)\n",
      "[INFO][2023/08/22 05:36:59 PM]  - Probabilities (Link: 1.00000, Lost: 1.00000)\n",
      "[INFO][2023/08/22 05:36:59 PM]  - Stats (Active: 26, Lost: 9466, Conflicts resolved: 3152)\n",
      "[INFO][2023/08/22 05:36:59 PM] Tracking objects in frames 200 to 209 (of 316)...\n",
      "[INFO][2023/08/22 05:36:59 PM]  - Timing (Bayesian updates: 0.03ms, Linking: 0.23ms)\n",
      "[INFO][2023/08/22 05:36:59 PM]  - Probabilities (Link: 1.00000, Lost: 0.99999)\n",
      "[INFO][2023/08/22 05:36:59 PM]  - Stats (Active: 37, Lost: 9657, Conflicts resolved: 3179)\n",
      "[INFO][2023/08/22 05:36:59 PM] Tracking objects in frames 210 to 219 (of 316)...\n",
      "[INFO][2023/08/22 05:36:59 PM]  - Timing (Bayesian updates: 0.02ms, Linking: 0.10ms)\n",
      "[INFO][2023/08/22 05:36:59 PM]  - Probabilities (Link: 1.00000, Lost: 0.99991)\n",
      "[INFO][2023/08/22 05:36:59 PM]  - Stats (Active: 9, Lost: 9815, Conflicts resolved: 3183)\n",
      "[INFO][2023/08/22 05:36:59 PM] Tracking objects in frames 220 to 229 (of 316)...\n",
      "[INFO][2023/08/22 05:36:59 PM]  - Timing (Bayesian updates: 0.01ms, Linking: 0.11ms)\n",
      "[INFO][2023/08/22 05:36:59 PM]  - Probabilities (Link: 1.00000, Lost: 1.00000)\n",
      "[INFO][2023/08/22 05:36:59 PM]  - Stats (Active: 16, Lost: 9933, Conflicts resolved: 3188)\n",
      "[INFO][2023/08/22 05:36:59 PM] Tracking objects in frames 230 to 239 (of 316)...\n",
      "[INFO][2023/08/22 05:37:00 PM]  - Timing (Bayesian updates: 0.01ms, Linking: 0.10ms)\n",
      "[INFO][2023/08/22 05:37:00 PM]  - Probabilities (Link: 0.99999, Lost: 1.00000)\n",
      "[INFO][2023/08/22 05:37:00 PM]  - Stats (Active: 19, Lost: 10040, Conflicts resolved: 3200)\n",
      "[INFO][2023/08/22 05:37:00 PM] Tracking objects in frames 240 to 249 (of 316)...\n",
      "[INFO][2023/08/22 05:37:00 PM]  - Timing (Bayesian updates: 0.01ms, Linking: 0.06ms)\n",
      "[INFO][2023/08/22 05:37:00 PM]  - Probabilities (Link: 0.78710, Lost: 1.00000)\n",
      "[INFO][2023/08/22 05:37:00 PM]  - Stats (Active: 12, Lost: 10212, Conflicts resolved: 3204)\n",
      "[INFO][2023/08/22 05:37:00 PM] Tracking objects in frames 250 to 259 (of 316)...\n",
      "[INFO][2023/08/22 05:37:00 PM]  - Timing (Bayesian updates: 0.01ms, Linking: 0.09ms)\n",
      "[INFO][2023/08/22 05:37:00 PM]  - Probabilities (Link: 1.00000, Lost: 1.00000)\n",
      "[INFO][2023/08/22 05:37:00 PM]  - Stats (Active: 17, Lost: 10369, Conflicts resolved: 3209)\n",
      "[INFO][2023/08/22 05:37:00 PM] Tracking objects in frames 260 to 269 (of 316)...\n",
      "[INFO][2023/08/22 05:37:00 PM]  - Timing (Bayesian updates: 0.00ms, Linking: 0.04ms)\n",
      "[INFO][2023/08/22 05:37:00 PM]  - Probabilities (Link: 1.00000, Lost: 1.00000)\n",
      "[INFO][2023/08/22 05:37:00 PM]  - Stats (Active: 7, Lost: 10437, Conflicts resolved: 3209)\n",
      "[INFO][2023/08/22 05:37:00 PM] Tracking objects in frames 270 to 279 (of 316)...\n",
      "[INFO][2023/08/22 05:37:00 PM]  - Timing (Bayesian updates: 0.01ms, Linking: 0.09ms)\n",
      "[INFO][2023/08/22 05:37:00 PM]  - Probabilities (Link: 0.98001, Lost: 0.85488)\n",
      "[INFO][2023/08/22 05:37:00 PM]  - Stats (Active: 4, Lost: 10445, Conflicts resolved: 3209)\n",
      "[INFO][2023/08/22 05:37:00 PM] Tracking objects in frames 280 to 289 (of 316)...\n",
      "[INFO][2023/08/22 05:37:00 PM]  - Timing (Bayesian updates: 0.00ms, Linking: 0.03ms)\n",
      "[INFO][2023/08/22 05:37:00 PM]  - Probabilities (Link: 1.00000, Lost: 1.00000)\n",
      "[INFO][2023/08/22 05:37:00 PM]  - Stats (Active: 6, Lost: 10509, Conflicts resolved: 3210)\n",
      "[INFO][2023/08/22 05:37:00 PM] Tracking objects in frames 290 to 299 (of 316)...\n",
      "[INFO][2023/08/22 05:37:00 PM]  - Timing (Bayesian updates: 0.01ms, Linking: 0.06ms)\n",
      "[INFO][2023/08/22 05:37:00 PM]  - Probabilities (Link: 1.00000, Lost: 1.00000)\n",
      "[INFO][2023/08/22 05:37:00 PM]  - Stats (Active: 10, Lost: 10522, Conflicts resolved: 3210)\n",
      "[INFO][2023/08/22 05:37:00 PM] Tracking objects in frames 300 to 309 (of 316)...\n",
      "[INFO][2023/08/22 05:37:00 PM]  - Timing (Bayesian updates: 0.03ms, Linking: 0.21ms)\n",
      "[INFO][2023/08/22 05:37:00 PM]  - Probabilities (Link: 1.00000, Lost: 1.00000)\n",
      "[INFO][2023/08/22 05:37:00 PM]  - Stats (Active: 45, Lost: 10663, Conflicts resolved: 3223)\n",
      "[INFO][2023/08/22 05:37:00 PM] Tracking objects in frames 310 to 316 (of 316)...\n",
      "[INFO][2023/08/22 05:37:00 PM]  - Timing (Bayesian updates: 0.01ms, Linking: 0.06ms)\n",
      "[INFO][2023/08/22 05:37:00 PM]  - Probabilities (Link: 1.00000, Lost: 1.00000)\n",
      "[INFO][2023/08/22 05:37:00 PM] SUCCESS.\n",
      "[INFO][2023/08/22 05:37:00 PM]  - Found 2762 tracks in 316 frames (in 0.0s)\n",
      "[INFO][2023/08/22 05:37:00 PM]  - Inserted 1093 dummy objects to fill tracking gaps\n",
      "[INFO][2023/08/22 05:37:00 PM] Loading hypothesis model: particle_hypothesis\n",
      "[INFO][2023/08/22 05:37:00 PM] Calculating hypotheses (relax: True)...\n",
      "[INFO][2023/08/22 05:37:00 PM] Setting up constraints matrix for global optimisation...\n",
      "[INFO][2023/08/22 05:37:00 PM] Using GLPK options: {'tm_lim': 60000}...\n",
      "[INFO][2023/08/22 05:37:00 PM] Optimizing...\n",
      "[INFO][2023/08/22 05:37:00 PM] Optimization complete. (Solution: optimal)\n",
      "[INFO][2023/08/22 05:37:00 PM]  - Fates.FALSE_POSITIVE: 2129 (of 2762)\n",
      "[INFO][2023/08/22 05:37:00 PM]  - Fates.LINK: 1 (of 2)\n",
      "[INFO][2023/08/22 05:37:00 PM]  - Fates.INITIALIZE_BORDER: 23 (of 116)\n",
      "[INFO][2023/08/22 05:37:00 PM]  - Fates.INITIALIZE_FRONT: 30 (of 94)\n",
      "[INFO][2023/08/22 05:37:00 PM]  - Fates.INITIALIZE_LAZY: 579 (of 2552)\n",
      "[INFO][2023/08/22 05:37:00 PM]  - Fates.TERMINATE_BORDER: 21 (of 116)\n",
      "[INFO][2023/08/22 05:37:00 PM]  - Fates.TERMINATE_BACK: 5 (of 13)\n",
      "[INFO][2023/08/22 05:37:00 PM]  - Fates.TERMINATE_LAZY: 606 (of 2633)\n",
      "[INFO][2023/08/22 05:37:00 PM]  - TOTAL: 8288 hypotheses\n",
      "[INFO][2023/08/22 05:37:00 PM] Completed optimization with 2761 tracks\n",
      "[INFO][2023/08/22 05:37:00 PM] Ending BayesianTracker session\n"
     ]
    },
    {
     "name": "stdout",
     "output_type": "stream",
     "text": [
      "GLPK Integer Optimizer 5.0\n",
      "11048 rows, 8288 columns, 11052 non-zeros\n",
      "8288 integer variables, all of which are binary\n",
      "Preprocessing...\n",
      "5524 rows, 8288 columns, 11052 non-zeros\n",
      "8288 integer variables, all of which are binary\n",
      "Scaling...\n",
      " A: min|aij| =  1.000e+00  max|aij| =  1.000e+00  ratio =  1.000e+00\n",
      "Problem data seem to be well scaled\n",
      "Constructing initial basis...\n",
      "Size of triangular part is 5524\n",
      "Solving LP relaxation...\n",
      "GLPK Simplex Optimizer 5.0\n",
      "5524 rows, 8288 columns, 11052 non-zeros\n",
      "*     0: obj =   3.582201825e+04 inf =   0.000e+00 (2133)\n",
      "*  2134: obj =   1.566038627e+04 inf =   0.000e+00 (0)\n",
      "OPTIMAL LP SOLUTION FOUND\n",
      "Integer optimization begins...\n",
      "Long-step dual simplex will be used\n",
      "+  2134: mip =     not found yet >=              -inf        (1; 0)\n",
      "+  2134: >>>>>   1.566038627e+04 >=   1.566038627e+04   0.0% (1; 0)\n",
      "+  2134: mip =   1.566038627e+04 >=     tree is empty   0.0% (0; 1)\n",
      "INTEGER OPTIMAL SOLUTION FOUND\n"
     ]
    },
    {
     "name": "stderr",
     "output_type": "stream",
     "text": [
      "[INFO][2023/08/22 05:37:00 PM] Opening HDF file: /home/dayn/data/homuncu_loc_temp/results/image analysis_Nathan/Job_Mtb area/run1_23-01-001_23-01-005/2h pi/20230707_40X_23-01-001A3_Multichannel Z-Stack_20230707_1320_sc_data.h5...\n",
      "[INFO][2023/08/22 05:37:00 PM] Writing objects/obj_type_1\n",
      "[INFO][2023/08/22 05:37:00 PM] Writing labels/obj_type_1\n",
      "[INFO][2023/08/22 05:37:00 PM] Loading objects/obj_type_1 (10870, 5) (10870 filtered: None)\n",
      "[INFO][2023/08/22 05:37:00 PM] Writing properties/obj_type_1/axis_major_length (10870,)\n",
      "[INFO][2023/08/22 05:37:00 PM] Writing properties/obj_type_1/axis_minor_length (10870,)\n",
      "[INFO][2023/08/22 05:37:00 PM] Writing properties/obj_type_1/eccentricity (10870,)\n",
      "[INFO][2023/08/22 05:37:00 PM] Writing properties/obj_type_1/area (10870,)\n",
      "[INFO][2023/08/22 05:37:00 PM] Writing properties/obj_type_1/orientation (10870,)\n",
      "[INFO][2023/08/22 05:37:00 PM] Writing properties/obj_type_1/mean_intensity (10870, 4)\n",
      "[INFO][2023/08/22 05:37:00 PM] Writing properties/obj_type_1/mtb_area (10870,)\n",
      "[INFO][2023/08/22 05:37:00 PM] Writing properties/obj_type_1/mtb_status (10870,)\n",
      "[INFO][2023/08/22 05:37:00 PM] Writing tracks/obj_type_1\n",
      "[INFO][2023/08/22 05:37:01 PM] Writing dummies/obj_type_1\n",
      "[INFO][2023/08/22 05:37:01 PM] Writing LBEP/obj_type_1\n",
      "[INFO][2023/08/22 05:37:01 PM] Writing fates/obj_type_1\n",
      "[INFO][2023/08/22 05:37:16 PM] Closing HDF file: /home/dayn/data/homuncu_loc_temp/results/image analysis_Nathan/Job_Mtb area/run1_23-01-001_23-01-005/2h pi/20230707_40X_23-01-001A3_Multichannel Z-Stack_20230707_1320_sc_data.h5\n"
     ]
    },
    {
     "data": {
      "application/vnd.jupyter.widget-view+json": {
       "model_id": "aae8f7340bfe48a4afcd4ae352a37866",
       "version_major": 2,
       "version_minor": 0
      },
      "text/plain": [
       "Searching start directory for filename: 0it [00:00, ?it/s]"
      ]
     },
     "metadata": {},
     "output_type": "display_data"
    },
    {
     "name": "stderr",
     "output_type": "stream",
     "text": [
      "[INFO][2023/08/22 05:37:31 PM] Opening HDF file: /run/user/30046150/gvfs/smb-share:server=data2.thecrick.org,share=lab-gutierrezm/home/shared/Lung on Chip/image analysis_Nathan/results/run1_23-01-001_23-01-005/2h pi/20230707_40X_23-01-001A3_Multichannel Z-Stack_20230707_1314_z_tracks_masks.h5...\n",
      "[INFO][2023/08/22 05:37:31 PM] Loading objects/obj_type_1 (12239, 5) (12239 filtered: None)\n",
      "[INFO][2023/08/22 05:37:44 PM] Loading segmentation (303, 2304, 2304)\n",
      "[INFO][2023/08/22 05:37:44 PM] Closing HDF file: /run/user/30046150/gvfs/smb-share:server=data2.thecrick.org,share=lab-gutierrezm/home/shared/Lung on Chip/image analysis_Nathan/results/run1_23-01-001_23-01-005/2h pi/20230707_40X_23-01-001A3_Multichannel Z-Stack_20230707_1314_z_tracks_masks.h5\n",
      "[INFO][2023/08/22 05:37:44 PM] Loaded btrack: /home/dayn/analysis/btrack/btrack/libs/libtracker.so\n",
      "[INFO][2023/08/22 05:37:44 PM] Starting BayesianTracker session\n",
      "[INFO][2023/08/22 05:37:44 PM] Loading configuration file: /home/dayn/analysis/models/loc.json\n",
      "[INFO][2023/08/22 05:37:44 PM] Objects are of type: <class 'list'>\n",
      "[INFO][2023/08/22 05:37:44 PM] Starting tracking... \n",
      "[INFO][2023/08/22 05:37:44 PM] Update using: ['VISUAL', 'MOTION']\n",
      "[INFO][2023/08/22 05:37:44 PM] Tracking objects in frames 0 to 9 (of 231)...\n",
      "[INFO][2023/08/22 05:37:44 PM]  - Timing (Bayesian updates: 0.01ms, Linking: 0.10ms)\n",
      "[INFO][2023/08/22 05:37:44 PM]  - Probabilities (Link: 1.00000, Lost: 1.00000)\n",
      "[INFO][2023/08/22 05:37:44 PM]  - Stats (Active: 20, Lost: 298, Conflicts resolved: 20)\n",
      "[INFO][2023/08/22 05:37:44 PM] Tracking objects in frames 10 to 19 (of 231)...\n",
      "[INFO][2023/08/22 05:37:44 PM]  - Timing (Bayesian updates: 0.04ms, Linking: 0.20ms)\n",
      "[INFO][2023/08/22 05:37:44 PM]  - Probabilities (Link: 1.00000, Lost: 1.00000)\n",
      "[INFO][2023/08/22 05:37:44 PM]  - Stats (Active: 22, Lost: 473, Conflicts resolved: 39)\n",
      "[INFO][2023/08/22 05:37:44 PM] Tracking objects in frames 20 to 29 (of 231)...\n",
      "[INFO][2023/08/22 05:37:44 PM]  - Timing (Bayesian updates: 0.01ms, Linking: 0.13ms)\n",
      "[INFO][2023/08/22 05:37:44 PM]  - Probabilities (Link: 1.00000, Lost: 1.00000)\n",
      "[INFO][2023/08/22 05:37:44 PM]  - Stats (Active: 27, Lost: 671, Conflicts resolved: 50)\n",
      "[INFO][2023/08/22 05:37:44 PM] Tracking objects in frames 30 to 39 (of 231)...\n",
      "[INFO][2023/08/22 05:37:44 PM]  - Timing (Bayesian updates: 0.05ms, Linking: 0.22ms)\n",
      "[INFO][2023/08/22 05:37:44 PM]  - Probabilities (Link: 1.00000, Lost: 1.00000)\n",
      "[INFO][2023/08/22 05:37:44 PM]  - Stats (Active: 40, Lost: 916, Conflicts resolved: 61)\n",
      "[INFO][2023/08/22 05:37:44 PM] Tracking objects in frames 40 to 49 (of 231)...\n",
      "[INFO][2023/08/22 05:37:44 PM]  - Timing (Bayesian updates: 0.04ms, Linking: 0.16ms)\n",
      "[INFO][2023/08/22 05:37:44 PM]  - Probabilities (Link: 1.00000, Lost: 1.00000)\n",
      "[INFO][2023/08/22 05:37:44 PM]  - Stats (Active: 37, Lost: 1172, Conflicts resolved: 77)\n",
      "[INFO][2023/08/22 05:37:44 PM] Tracking objects in frames 50 to 59 (of 231)...\n",
      "[INFO][2023/08/22 05:37:44 PM]  - Timing (Bayesian updates: 0.03ms, Linking: 0.16ms)\n",
      "[INFO][2023/08/22 05:37:44 PM]  - Probabilities (Link: 1.00000, Lost: 0.95557)\n",
      "[INFO][2023/08/22 05:37:44 PM]  - Stats (Active: 34, Lost: 1411, Conflicts resolved: 109)\n",
      "[INFO][2023/08/22 05:37:44 PM] Tracking objects in frames 60 to 69 (of 231)...\n",
      "[INFO][2023/08/22 05:37:44 PM]  - Timing (Bayesian updates: 0.04ms, Linking: 0.13ms)\n",
      "[INFO][2023/08/22 05:37:44 PM]  - Probabilities (Link: 1.00000, Lost: 1.00000)\n",
      "[INFO][2023/08/22 05:37:44 PM]  - Stats (Active: 31, Lost: 1599, Conflicts resolved: 123)\n",
      "[INFO][2023/08/22 05:37:44 PM] Tracking objects in frames 70 to 79 (of 231)...\n",
      "[INFO][2023/08/22 05:37:44 PM]  - Timing (Bayesian updates: 0.06ms, Linking: 0.17ms)\n",
      "[INFO][2023/08/22 05:37:44 PM]  - Probabilities (Link: 1.00000, Lost: 1.00000)\n",
      "[INFO][2023/08/22 05:37:44 PM]  - Stats (Active: 35, Lost: 1902, Conflicts resolved: 149)\n",
      "[INFO][2023/08/22 05:37:44 PM] Tracking objects in frames 80 to 89 (of 231)...\n",
      "[INFO][2023/08/22 05:37:44 PM]  - Timing (Bayesian updates: 0.03ms, Linking: 0.10ms)\n",
      "[INFO][2023/08/22 05:37:44 PM]  - Probabilities (Link: 1.00000, Lost: 1.00000)\n",
      "[INFO][2023/08/22 05:37:44 PM]  - Stats (Active: 42, Lost: 2223, Conflicts resolved: 175)\n",
      "[INFO][2023/08/22 05:37:44 PM] Tracking objects in frames 90 to 99 (of 231)...\n",
      "[INFO][2023/08/22 05:37:44 PM]  - Timing (Bayesian updates: 0.03ms, Linking: 0.10ms)\n",
      "[INFO][2023/08/22 05:37:44 PM]  - Probabilities (Link: 1.00000, Lost: 1.00000)\n",
      "[INFO][2023/08/22 05:37:44 PM]  - Stats (Active: 38, Lost: 2511, Conflicts resolved: 198)\n",
      "[INFO][2023/08/22 05:37:44 PM] Tracking objects in frames 100 to 109 (of 231)...\n",
      "[INFO][2023/08/22 05:37:44 PM]  - Timing (Bayesian updates: 0.22ms, Linking: 0.26ms)\n",
      "[INFO][2023/08/22 05:37:44 PM]  - Probabilities (Link: 1.00000, Lost: 1.00000)\n",
      "[INFO][2023/08/22 05:37:44 PM]  - Stats (Active: 86, Lost: 2821, Conflicts resolved: 242)\n",
      "[INFO][2023/08/22 05:37:44 PM] Tracking objects in frames 110 to 119 (of 231)...\n",
      "[INFO][2023/08/22 05:37:44 PM]  - Timing (Bayesian updates: 0.35ms, Linking: 0.33ms)\n",
      "[INFO][2023/08/22 05:37:44 PM]  - Probabilities (Link: 1.00000, Lost: 1.00000)\n",
      "[INFO][2023/08/22 05:37:44 PM]  - Stats (Active: 92, Lost: 3204, Conflicts resolved: 321)\n",
      "[INFO][2023/08/22 05:37:44 PM] Tracking objects in frames 120 to 129 (of 231)...\n",
      "[INFO][2023/08/22 05:37:44 PM]  - Timing (Bayesian updates: 0.31ms, Linking: 0.34ms)\n",
      "[INFO][2023/08/22 05:37:44 PM]  - Probabilities (Link: 1.00000, Lost: 1.00000)\n",
      "[INFO][2023/08/22 05:37:44 PM]  - Stats (Active: 101, Lost: 3726, Conflicts resolved: 445)\n",
      "[INFO][2023/08/22 05:37:44 PM] Tracking objects in frames 130 to 139 (of 231)...\n",
      "[INFO][2023/08/22 05:37:44 PM]  - Timing (Bayesian updates: 0.55ms, Linking: 0.48ms)\n",
      "[INFO][2023/08/22 05:37:44 PM]  - Probabilities (Link: 1.00000, Lost: 1.00000)\n",
      "[INFO][2023/08/22 05:37:44 PM]  - Stats (Active: 80, Lost: 4171, Conflicts resolved: 536)\n",
      "[INFO][2023/08/22 05:37:44 PM] Tracking objects in frames 140 to 149 (of 231)...\n",
      "[INFO][2023/08/22 05:37:44 PM]  - Timing (Bayesian updates: 1.02ms, Linking: 0.54ms)\n",
      "[INFO][2023/08/22 05:37:44 PM]  - Probabilities (Link: 1.00000, Lost: 1.00000)\n",
      "[INFO][2023/08/22 05:37:44 PM]  - Stats (Active: 150, Lost: 4878, Conflicts resolved: 670)\n",
      "[INFO][2023/08/22 05:37:44 PM] Tracking objects in frames 150 to 159 (of 231)...\n",
      "[INFO][2023/08/22 05:37:44 PM]  - Timing (Bayesian updates: 2.18ms, Linking: 0.73ms)\n",
      "[INFO][2023/08/22 05:37:44 PM]  - Probabilities (Link: 1.00000, Lost: 1.00000)\n",
      "[INFO][2023/08/22 05:37:44 PM]  - Stats (Active: 184, Lost: 5541, Conflicts resolved: 861)\n",
      "[INFO][2023/08/22 05:37:44 PM] Tracking objects in frames 160 to 169 (of 231)...\n",
      "[INFO][2023/08/22 05:37:45 PM]  - Timing (Bayesian updates: 5.70ms, Linking: 1.17ms)\n",
      "[INFO][2023/08/22 05:37:45 PM]  - Probabilities (Link: 1.00000, Lost: 1.00000)\n",
      "[INFO][2023/08/22 05:37:45 PM]  - Stats (Active: 284, Lost: 6421, Conflicts resolved: 1182)\n",
      "[INFO][2023/08/22 05:37:45 PM] Tracking objects in frames 170 to 179 (of 231)...\n",
      "[INFO][2023/08/22 05:37:45 PM]  - Timing (Bayesian updates: 22.50ms, Linking: 2.23ms)\n",
      "[INFO][2023/08/22 05:37:45 PM]  - Probabilities (Link: 1.00000, Lost: 1.00000)\n",
      "[INFO][2023/08/22 05:37:45 PM]  - Stats (Active: 434, Lost: 7424, Conflicts resolved: 1713)\n",
      "[INFO][2023/08/22 05:37:45 PM] Tracking objects in frames 180 to 189 (of 231)...\n",
      "[INFO][2023/08/22 05:37:46 PM]  - Timing (Bayesian updates: 10.97ms, Linking: 1.72ms)\n",
      "[INFO][2023/08/22 05:37:46 PM]  - Probabilities (Link: 1.00000, Lost: 1.00000)\n",
      "[INFO][2023/08/22 05:37:46 PM]  - Stats (Active: 359, Lost: 8596, Conflicts resolved: 2254)\n",
      "[INFO][2023/08/22 05:37:46 PM] Tracking objects in frames 190 to 199 (of 231)...\n",
      "[INFO][2023/08/22 05:37:46 PM]  - Timing (Bayesian updates: 0.93ms, Linking: 0.50ms)\n",
      "[INFO][2023/08/22 05:37:46 PM]  - Probabilities (Link: 1.00000, Lost: 1.00000)\n",
      "[INFO][2023/08/22 05:37:46 PM]  - Stats (Active: 181, Lost: 9960, Conflicts resolved: 2557)\n",
      "[INFO][2023/08/22 05:37:46 PM] Tracking objects in frames 200 to 209 (of 231)...\n",
      "[INFO][2023/08/22 05:37:46 PM]  - Timing (Bayesian updates: 0.19ms, Linking: 0.32ms)\n",
      "[INFO][2023/08/22 05:37:46 PM]  - Probabilities (Link: 1.00000, Lost: 1.00000)\n",
      "[INFO][2023/08/22 05:37:46 PM]  - Stats (Active: 129, Lost: 10969, Conflicts resolved: 2664)\n",
      "[INFO][2023/08/22 05:37:46 PM] Tracking objects in frames 210 to 219 (of 231)...\n",
      "[INFO][2023/08/22 05:37:46 PM]  - Timing (Bayesian updates: 0.08ms, Linking: 0.30ms)\n",
      "[INFO][2023/08/22 05:37:46 PM]  - Probabilities (Link: 1.00000, Lost: 1.00000)\n",
      "[INFO][2023/08/22 05:37:46 PM]  - Stats (Active: 60, Lost: 11720, Conflicts resolved: 2698)\n",
      "[INFO][2023/08/22 05:37:46 PM] Tracking objects in frames 220 to 229 (of 231)...\n",
      "[INFO][2023/08/22 05:37:46 PM]  - Timing (Bayesian updates: 0.03ms, Linking: 0.15ms)\n",
      "[INFO][2023/08/22 05:37:46 PM]  - Probabilities (Link: 1.00000, Lost: 1.00000)\n",
      "[INFO][2023/08/22 05:37:46 PM] SUCCESS.\n",
      "[INFO][2023/08/22 05:37:46 PM]  - Found 2736 tracks in 231 frames (in 0.0s)\n",
      "[INFO][2023/08/22 05:37:46 PM]  - Inserted 904 dummy objects to fill tracking gaps\n",
      "[INFO][2023/08/22 05:37:46 PM] Loading hypothesis model: particle_hypothesis\n",
      "[INFO][2023/08/22 05:37:46 PM] Calculating hypotheses (relax: True)...\n",
      "[INFO][2023/08/22 05:37:46 PM] Setting up constraints matrix for global optimisation...\n",
      "[INFO][2023/08/22 05:37:46 PM] Using GLPK options: {'tm_lim': 60000}...\n",
      "[INFO][2023/08/22 05:37:46 PM] Optimizing...\n",
      "[INFO][2023/08/22 05:37:47 PM] Optimization complete. (Solution: optimal)\n",
      "[INFO][2023/08/22 05:37:47 PM]  - Fates.FALSE_POSITIVE: 2115 (of 2736)\n",
      "[INFO][2023/08/22 05:37:47 PM]  - Fates.INITIALIZE_BORDER: 31 (of 142)\n",
      "[INFO][2023/08/22 05:37:47 PM]  - Fates.INITIALIZE_FRONT: 9 (of 46)\n",
      "[INFO][2023/08/22 05:37:47 PM]  - Fates.INITIALIZE_LAZY: 581 (of 2548)\n",
      "[INFO][2023/08/22 05:37:47 PM]  - Fates.TERMINATE_BORDER: 32 (of 157)\n",
      "[INFO][2023/08/22 05:37:47 PM]  - Fates.TERMINATE_BACK: 0 (of 21)\n",
      "[INFO][2023/08/22 05:37:47 PM]  - Fates.TERMINATE_LAZY: 589 (of 2558)\n",
      "[INFO][2023/08/22 05:37:47 PM]  - TOTAL: 8208 hypotheses\n",
      "[INFO][2023/08/22 05:37:47 PM] Completed optimization with 2736 tracks\n",
      "[INFO][2023/08/22 05:37:47 PM] Ending BayesianTracker session\n",
      "[INFO][2023/08/22 05:37:47 PM] Opening HDF file: /home/dayn/data/homuncu_loc_temp/results/image analysis_Nathan/Job_Mtb area/run1_23-01-001_23-01-005/2h pi/20230707_40X_23-01-001A3_Multichannel Z-Stack_20230707_1314_sc_data.h5...\n"
     ]
    },
    {
     "name": "stdout",
     "output_type": "stream",
     "text": [
      "GLPK Integer Optimizer 5.0\n",
      "10944 rows, 8208 columns, 10944 non-zeros\n",
      "8208 integer variables, all of which are binary\n",
      "Preprocessing...\n",
      "5472 rows, 8208 columns, 10944 non-zeros\n",
      "8208 integer variables, all of which are binary\n",
      "Scaling...\n",
      " A: min|aij| =  1.000e+00  max|aij| =  1.000e+00  ratio =  1.000e+00\n",
      "Problem data seem to be well scaled\n",
      "Constructing initial basis...\n",
      "Size of triangular part is 5472\n",
      "Solving LP relaxation...\n",
      "GLPK Simplex Optimizer 5.0\n",
      "5472 rows, 8208 columns, 10944 non-zeros\n",
      "*     0: obj =   3.579909169e+04 inf =   0.000e+00 (2115)\n",
      "*  2115: obj =   1.509093650e+04 inf =   0.000e+00 (0)\n",
      "OPTIMAL LP SOLUTION FOUND\n",
      "Integer optimization begins...\n",
      "Long-step dual simplex will be used\n",
      "+  2115: mip =     not found yet >=              -inf        (1; 0)\n",
      "+  2115: >>>>>   1.509093650e+04 >=   1.509093650e+04   0.0% (1; 0)\n",
      "+  2115: mip =   1.509093650e+04 >=     tree is empty   0.0% (0; 1)\n",
      "INTEGER OPTIMAL SOLUTION FOUND\n"
     ]
    },
    {
     "name": "stderr",
     "output_type": "stream",
     "text": [
      "[INFO][2023/08/22 05:37:47 PM] Writing objects/obj_type_1\n",
      "[INFO][2023/08/22 05:37:47 PM] Writing labels/obj_type_1\n",
      "[INFO][2023/08/22 05:37:47 PM] Loading objects/obj_type_1 (10736, 5) (10736 filtered: None)\n",
      "[INFO][2023/08/22 05:37:47 PM] Writing properties/obj_type_1/axis_major_length (10736,)\n",
      "[INFO][2023/08/22 05:37:47 PM] Writing properties/obj_type_1/axis_minor_length (10736,)\n",
      "[INFO][2023/08/22 05:37:47 PM] Writing properties/obj_type_1/class_id (10736,)\n",
      "[INFO][2023/08/22 05:37:47 PM] Writing properties/obj_type_1/eccentricity (10736,)\n",
      "[INFO][2023/08/22 05:37:47 PM] Writing properties/obj_type_1/area (10736,)\n",
      "[INFO][2023/08/22 05:37:47 PM] Writing properties/obj_type_1/orientation (10736,)\n",
      "[INFO][2023/08/22 05:37:47 PM] Writing properties/obj_type_1/mean_intensity (10736, 4)\n",
      "[INFO][2023/08/22 05:37:47 PM] Writing properties/obj_type_1/mtb_area (10736,)\n",
      "[INFO][2023/08/22 05:37:47 PM] Writing properties/obj_type_1/mtb_status (10736,)\n",
      "[INFO][2023/08/22 05:37:47 PM] Writing tracks/obj_type_1\n",
      "[INFO][2023/08/22 05:37:47 PM] Writing dummies/obj_type_1\n",
      "[INFO][2023/08/22 05:37:47 PM] Writing LBEP/obj_type_1\n",
      "[INFO][2023/08/22 05:37:47 PM] Writing fates/obj_type_1\n",
      "[INFO][2023/08/22 05:38:03 PM] Closing HDF file: /home/dayn/data/homuncu_loc_temp/results/image analysis_Nathan/Job_Mtb area/run1_23-01-001_23-01-005/2h pi/20230707_40X_23-01-001A3_Multichannel Z-Stack_20230707_1314_sc_data.h5\n"
     ]
    }
   ],
   "source": [
    "for fn in tqdm(image_fns, total = len(image_fns)):\n",
    "    # image = io.imread(fn)\n",
    "    image_basename = os.path.basename(fn)\n",
    "    tracks_basename = image_basename.replace('.tif','_z_tracks_masks.h5') #'20x_21-12-029B_A12346_Multichannel Z-Stack_20220819_295_z_tracks_masks.h5'\n",
    "    tracks_fn_results = find_files_with_basename(tracks_basename, start_directory)\n",
    "    if len(tracks_fn_results) > 1:\n",
    "        raise ValueError(\"Found more than one matching file. Please ensure only one target file exists or refine your search criteria.\")\n",
    "    elif tracks_fn_results == []:\n",
    "        print(f'No tracking file found for image {image_basename}')\n",
    "        continue\n",
    "    tracks_fn = tracks_fn_results[0]\n",
    "    with btrack.io.HDF5FileHandler(tracks_fn, 'r', obj_type='obj_type_1') as reader:\n",
    "        objects = reader.objects\n",
    "        segmentation = reader.segmentation\n",
    "\n",
    "    with btrack.BayesianTracker() as tracker:\n",
    "        # configure the tracker using a config file\n",
    "        tracker.configure('/home/dayn/analysis/models/loc.json')\n",
    "        ### set max search radius to a very limited radius \n",
    "        tracker.max_search_radius = 5\n",
    "        # define tracking method\n",
    "        tracker.tracking_updates = [\"MOTION\", \"VISUAL\"]\n",
    "        # use visual features to track\n",
    "        tracker.features = props\n",
    "        # append the objects to be tracked\n",
    "        tracker.append(objects)\n",
    "        # set the volume\n",
    "        tracker.volume=((0, segmentation.shape[1]), (0, segmentation.shape[2]), (-1e5, 1e5))\n",
    "        # track them (in interactive mode)\n",
    "        tracker.track(step_size=10)\n",
    "        # generate hypotheses and run the global optimizer\n",
    "        tracker.optimize()\n",
    "        # get the tracks as a python list\n",
    "        tracks = tracker.tracks\n",
    "\n",
    "    # save out alongside new images\n",
    "    new_tracks_fn = fn.replace('.tif', '_sc_data.h5').replace('/run/user/30046150/gvfs/smb-share:server=data2.thecrick.org,share=lab-gutierrezm/home/shared/Lung on Chip/', '/home/dayn/data/homuncu_loc_temp/results/')    \n",
    "    os.makedirs(os.path.dirname(new_tracks_fn), exist_ok=True)\n",
    "    # save out \n",
    "    with btrack.io.HDF5FileHandler(new_tracks_fn, \n",
    "                                       'w', \n",
    "                                       obj_type='obj_type_1'\n",
    "                                       ) as writer:\n",
    "            writer.write_tracks(tracks)\n",
    "            writer.write_segmentation(segmentation)\n",
    "    # notify me\n",
    "    notify.send_sms(f'{image_basename} complete')"
   ]
  }
 ],
 "metadata": {
  "kernelspec": {
   "display_name": "brassica",
   "language": "python",
   "name": "brassica"
  },
  "language_info": {
   "codemirror_mode": {
    "name": "ipython",
    "version": 3
   },
   "file_extension": ".py",
   "mimetype": "text/x-python",
   "name": "python",
   "nbconvert_exporter": "python",
   "pygments_lexer": "ipython3",
   "version": "3.9.17"
  }
 },
 "nbformat": 4,
 "nbformat_minor": 5
}
