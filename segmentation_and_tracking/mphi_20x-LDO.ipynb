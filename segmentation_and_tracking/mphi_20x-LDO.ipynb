{
 "cells": [
  {
   "cell_type": "markdown",
   "id": "038f144c",
   "metadata": {},
   "source": [
    "# saving out mphi masks"
   ]
  },
  {
   "cell_type": "code",
   "execution_count": 8,
   "id": "2a028c61-6624-4102-85b4-38260e89b2d8",
   "metadata": {},
   "outputs": [],
   "source": [
    "from csbdeep.utils.tf import limit_gpu_memory\n",
    "limit_gpu_memory(fraction = 0.00, allow_growth=False, total_memory=49140)"
   ]
  },
  {
   "cell_type": "code",
   "execution_count": 1,
   "id": "8988af78",
   "metadata": {},
   "outputs": [],
   "source": [
    "import napari\n",
    "from skimage import io\n",
    "import btrack\n",
    "import os\n",
    "from tqdm.auto import tqdm\n",
    "import numpy as np\n",
    "import btrack\n",
    "from glob import glob\n",
    "from homuncu_loc.dataio import find_files_with_basename, ID_extractor"
   ]
  },
  {
   "cell_type": "markdown",
   "id": "09c5e155-1cd6-46e9-9643-5446f0fc851b",
   "metadata": {},
   "source": [
    "#### Define image fn "
   ]
  },
  {
   "cell_type": "code",
   "execution_count": 2,
   "id": "662eacac-3046-4b30-9465-a8f734574ad4",
   "metadata": {},
   "outputs": [
    {
     "name": "stdout",
     "output_type": "stream",
     "text": [
      "nvcc: NVIDIA (R) Cuda compiler driver\n",
      "Copyright (c) 2005-2019 NVIDIA Corporation\n",
      "Built on Sun_Jul_28_19:07:16_PDT_2019\n",
      "Cuda compilation tools, release 10.1, V10.1.243\n",
      "Fri Oct  6 14:48:19 2023       \n",
      "+-----------------------------------------------------------------------------+\n",
      "| NVIDIA-SMI 515.105.01   Driver Version: 515.105.01   CUDA Version: 11.7     |\n",
      "|-------------------------------+----------------------+----------------------+\n",
      "| GPU  Name        Persistence-M| Bus-Id        Disp.A | Volatile Uncorr. ECC |\n",
      "| Fan  Temp  Perf  Pwr:Usage/Cap|         Memory-Usage | GPU-Util  Compute M. |\n",
      "|                               |                      |               MIG M. |\n",
      "|===============================+======================+======================|\n",
      "|   0  NVIDIA RTX A6000    On   | 00000000:65:00.0  On |                  Off |\n",
      "| 30%   46C    P8    35W / 300W |  46151MiB / 49140MiB |     24%      Default |\n",
      "|                               |                      |                  N/A |\n",
      "+-------------------------------+----------------------+----------------------+\n",
      "                                                                               \n",
      "+-----------------------------------------------------------------------------+\n",
      "| Processes:                                                                  |\n",
      "|  GPU   GI   CI        PID   Type   Process name                  GPU Memory |\n",
      "|        ID   ID                                                   Usage      |\n",
      "|=============================================================================|\n",
      "|    0   N/A  N/A      2292      G   /usr/lib/xorg/Xorg                451MiB |\n",
      "|    0   N/A  N/A     11268      G   /usr/bin/gnome-shell              109MiB |\n",
      "|    0   N/A  N/A     42098      G   gnome-control-center               50MiB |\n",
      "|    0   N/A  N/A     83810      G   ...AAAAAAAAA= --shared-files       29MiB |\n",
      "|    0   N/A  N/A     91460      C   .../envs/brassica/bin/python      385MiB |\n",
      "|    0   N/A  N/A    336109      G   .../envs/brassica/bin/python        5MiB |\n",
      "|    0   N/A  N/A    338054      C   .../envs/brassica/bin/python      359MiB |\n",
      "|    0   N/A  N/A    339241    C+G   .../envs/brassica/bin/python    43717MiB |\n",
      "|    0   N/A  N/A    530026      G   ...714807703712694810,262144      191MiB |\n",
      "|    0   N/A  N/A    536034      C   ...nda3/envs/aero/bin/python      421MiB |\n",
      "|    0   N/A  N/A    541429      C   ...nda3/envs/aero/bin/python      421MiB |\n",
      "+-----------------------------------------------------------------------------+\n"
     ]
    }
   ],
   "source": [
    "# print gpu information\n",
    "!nvcc --version\n",
    "!nvidia-smi\n",
    "\n",
    "# load cellpose\n",
    "# from cellpose import core, utils, models, metrics\n",
    "import matplotlib.pyplot as plt \n",
    "from skimage.morphology import remove_small_objects\n",
    "\n",
    "# check to see if GPU can be used\n",
    "# use_GPU = core.use_gpu()\n",
    "# yn = ['NO', 'YES']\n",
    "# print(f'>>> GPU activated? {yn[use_GPU]}')\n",
    "\n",
    "# # define segmentation model parameters\n",
    "# model = models.Cellpose(gpu=use_GPU, \n",
    "#                         model_type='cyto') # cytoplasmic segmentation \n",
    "# channels = [0,0] # this means using a grayscale image for both nuclei and cyto channels (even if not using nuclei, still have to say its same colour [greyscale = 0])"
   ]
  },
  {
   "cell_type": "markdown",
   "id": "3b2ce567-d8fb-41d9-8cac-f61e04741f99",
   "metadata": {},
   "source": [
    "# define a general segmentation framework for macroph and edit params for other cell"
   ]
  },
  {
   "cell_type": "code",
   "execution_count": 16,
   "id": "e3ed329d-6793-4a23-80ab-90f04e9d4992",
   "metadata": {},
   "outputs": [],
   "source": [
    "from tqdm.auto import tqdm\n",
    "from cellpose import models\n",
    "from skimage.morphology import remove_small_objects\n",
    "import numpy as np\n",
    "import btrack\n",
    "\n",
    "def segment_channel(segmentation_channel, diameter=60, flow_threshold=0.99, channels=[0,0], cellprob_threshold=-2, min_mask_size=500, return_diams=False, start_point=None, end_point=None):\n",
    "    \"\"\"\n",
    "    Segments a specified channel of an image using Cellpose and optionally returns the average diameter of segments.\n",
    "\n",
    "    Args:\n",
    "    - segmentation_channel (ndarray): 3D array of the target channel where the 3rd dimension represents the Z-stack.\n",
    "    - diameter (int, optional): Average cell diameter for Cellpose. Default is 60.\n",
    "    - flow_threshold (float, optional): Threshold for flow in Cellpose. Default is 0.99.\n",
    "    - channels (list, optional): Channel input for Cellpose. Default is [0,0].\n",
    "    - cellprob_threshold (float, optional): Cell probability threshold for Cellpose. Default is -2.\n",
    "    - min_mask_size (int, optional): Minimum size of objects to keep in the segmented mask. Default is 500.\n",
    "    - return_diams (bool, optional): If set to True, the function will also return the average diameter of segments.\n",
    "    - start_point (int, optional): Starting point for segmentation frames. Default is None.\n",
    "    - end_point (int, optional): Ending point for segmentation frames. Default is None.\n",
    "\n",
    "    Returns:\n",
    "    - ndarray: 3D mask array with the same shape as the input, where segmented regions are labeled.\n",
    "    - float (optional): Average diameter of segments if return_diams is True.\n",
    "    \"\"\"\n",
    "\n",
    "    if start_point is None or end_point is None:\n",
    "        # Calculate intensities for each frame in Z-stack\n",
    "        intensities = [np.sum(frame) for frame in tqdm(segmentation_channel, desc='finding where segmentation channel is expressed in Z')]\n",
    "\n",
    "        # Estimate the background level\n",
    "        background_level = np.min(intensities)\n",
    "        threshold = background_level + ((np.max(intensities)-np.min(intensities))*0.50)\n",
    "\n",
    "        if start_point is None:\n",
    "            # Find the points where the curve starts to deviate from the background\n",
    "            start_point = np.argmax(intensities > threshold)\n",
    "\n",
    "        if end_point is None:\n",
    "            end_point = len(intensities) - np.argmax(intensities[::-1] > threshold) - 1\n",
    "\n",
    "    # Initialize output mask array\n",
    "    mask_array = np.zeros_like(segmentation_channel)\n",
    "\n",
    "    # Initialize the model\n",
    "    model = models.Cellpose(model_type='cyto')\n",
    "    \n",
    "    # List to store diameters if return_diams is True\n",
    "    diams = []\n",
    "\n",
    "    # Segment over selected frames\n",
    "    for n, frame in tqdm(enumerate(segmentation_channel[start_point:end_point]), total=end_point-start_point, desc='segmenting over select frames'):\n",
    "        n += start_point\n",
    "        masks, _, _, diam = model.eval(frame, diameter=diameter, flow_threshold=flow_threshold, channels=channels, cellprob_threshold=cellprob_threshold)\n",
    "        masks = remove_small_objects(masks, min_size=min_mask_size)\n",
    "        mask_array[n] = masks\n",
    "        diams.append(diam)\n",
    "\n",
    "    if return_diams:\n",
    "        return mask_array, diams\n",
    "    else:\n",
    "        return mask_array"
   ]
  },
  {
   "cell_type": "code",
   "execution_count": 3,
   "id": "a546e647-6502-4610-b3ee-95784f652a20",
   "metadata": {
    "scrolled": true
   },
   "outputs": [
    {
     "name": "stderr",
     "output_type": "stream",
     "text": [
      "2023-10-06 14:48:27.301741: I tensorflow/core/util/port.cc:111] oneDNN custom operations are on. You may see slightly different numerical results due to floating-point round-off errors from different computation orders. To turn them off, set the environment variable `TF_ENABLE_ONEDNN_OPTS=0`.\n",
      "2023-10-06 14:48:27.375491: E tensorflow/compiler/xla/stream_executor/cuda/cuda_dnn.cc:9342] Unable to register cuDNN factory: Attempting to register factory for plugin cuDNN when one has already been registered\n",
      "2023-10-06 14:48:27.375581: E tensorflow/compiler/xla/stream_executor/cuda/cuda_fft.cc:609] Unable to register cuFFT factory: Attempting to register factory for plugin cuFFT when one has already been registered\n",
      "2023-10-06 14:48:27.375632: E tensorflow/compiler/xla/stream_executor/cuda/cuda_blas.cc:1518] Unable to register cuBLAS factory: Attempting to register factory for plugin cuBLAS when one has already been registered\n",
      "2023-10-06 14:48:27.388196: I tensorflow/core/platform/cpu_feature_guard.cc:182] This TensorFlow binary is optimized to use available CPU instructions in performance-critical operations.\n",
      "To enable the following instructions: AVX2 AVX512F AVX512_VNNI FMA, in other operations, rebuild TensorFlow with the appropriate compiler flags.\n"
     ]
    }
   ],
   "source": [
    "from stardist.models import StarDist2D\n",
    "from csbdeep.utils import normalize\n",
    "import numpy as np\n",
    "from tqdm.auto import tqdm\n",
    "from skimage import segmentation\n",
    "from skimage.morphology import remove_small_objects\n",
    "import btrack\n",
    "axis_norm = (0,1) \n",
    "\n",
    "def segmestimate_channel(segmentation_channel, min_mask_size=100, start_point=None, end_point=None):\n",
    "    \"\"\"\n",
    "    Segments a specified channel of an image using stardist and estimates an approximation of cytoplasmic area by expanding the nucleus.\n",
    "\n",
    "    Args:\n",
    "    - segmentation_channel (ndarray): 3D array of the target channel where the 3rd dimension represents the Z-stack.\n",
    "   \n",
    "    - start_point (int, optional): Starting point for segmentation frames. Default is None.\n",
    "    - end_point (int, optional): Ending point for segmentation frames. Default is None.\n",
    "\n",
    "    Returns:\n",
    "    - ndarray: 3D mask array with the same shape as the input, where segmented regions are labeled.\n",
    "    - float (optional): Average diameter of segments if return_diams is True.\n",
    "    \"\"\"\n",
    "\n",
    "    if start_point is None or end_point is None:\n",
    "        # Calculate intensities for each frame in Z-stack\n",
    "        intensities = [np.sum(frame) for frame in tqdm(segmentation_channel, desc='finding where segmentation channel is expressed in Z')]\n",
    "\n",
    "        # Estimate the background level\n",
    "        background_level = np.min(intensities)\n",
    "        threshold = background_level + ((np.max(intensities)-np.min(intensities))*0.50)\n",
    "\n",
    "        if start_point is None:\n",
    "            # Find the points where the curve starts to deviate from the background\n",
    "            start_point = np.argmax(intensities > threshold)\n",
    "\n",
    "        if end_point is None:\n",
    "            end_point = len(intensities) - np.argmax(intensities[::-1] > threshold) - 1\n",
    "\n",
    "    # Initialize output mask array\n",
    "    mask_array = np.zeros_like(segmentation_channel)\n",
    "\n",
    "    # Initialize the model\n",
    "    model = StarDist2D.from_pretrained('2D_versatile_fluo')\n",
    "\n",
    "    # Segment over selected frames\n",
    "    for n, frame in tqdm(enumerate(segmentation_channel[start_point:end_point]), total=end_point-start_point, desc='segmenting over select frames'):\n",
    "        n += start_point\n",
    "        frame = normalize(frame, 1, 99.8, axis=axis_norm)\n",
    "        masks, details = model.predict_instances(frame)\n",
    "        masks = remove_small_objects(masks, min_size=min_mask_size)\n",
    "        masks = segmentation.expand_labels(masks, distance=20)\n",
    "        mask_array[n] = masks\n",
    "   \n",
    "    return mask_array"
   ]
  },
  {
   "cell_type": "code",
   "execution_count": 4,
   "id": "a5d91684-47ff-428b-8a69-0dfd829a4d86",
   "metadata": {},
   "outputs": [
    {
     "name": "stdout",
     "output_type": "stream",
     "text": [
      "Fri Oct  6 14:48:29 2023       \n",
      "+-----------------------------------------------------------------------------+\n",
      "| NVIDIA-SMI 515.105.01   Driver Version: 515.105.01   CUDA Version: 11.7     |\n",
      "|-------------------------------+----------------------+----------------------+\n",
      "| GPU  Name        Persistence-M| Bus-Id        Disp.A | Volatile Uncorr. ECC |\n",
      "| Fan  Temp  Perf  Pwr:Usage/Cap|         Memory-Usage | GPU-Util  Compute M. |\n",
      "|                               |                      |               MIG M. |\n",
      "|===============================+======================+======================|\n",
      "|   0  NVIDIA RTX A6000    On   | 00000000:65:00.0  On |                  Off |\n",
      "| 30%   46C    P8    35W / 300W |  46163MiB / 49140MiB |     19%      Default |\n",
      "|                               |                      |                  N/A |\n",
      "+-------------------------------+----------------------+----------------------+\n",
      "                                                                               \n",
      "+-----------------------------------------------------------------------------+\n",
      "| Processes:                                                                  |\n",
      "|  GPU   GI   CI        PID   Type   Process name                  GPU Memory |\n",
      "|        ID   ID                                                   Usage      |\n",
      "|=============================================================================|\n",
      "|    0   N/A  N/A      2292      G   /usr/lib/xorg/Xorg                455MiB |\n",
      "|    0   N/A  N/A     11268      G   /usr/bin/gnome-shell              109MiB |\n",
      "|    0   N/A  N/A     42098      G   gnome-control-center               50MiB |\n",
      "|    0   N/A  N/A     83810      G   ...AAAAAAAAA= --shared-files       29MiB |\n",
      "|    0   N/A  N/A     91460      C   .../envs/brassica/bin/python      385MiB |\n",
      "|    0   N/A  N/A    336109      G   .../envs/brassica/bin/python        5MiB |\n",
      "|    0   N/A  N/A    338054      C   .../envs/brassica/bin/python      359MiB |\n",
      "|    0   N/A  N/A    339241    C+G   .../envs/brassica/bin/python    43717MiB |\n",
      "|    0   N/A  N/A    530026      G   ...714807703712694810,262144      199MiB |\n",
      "|    0   N/A  N/A    536034      C   ...nda3/envs/aero/bin/python      421MiB |\n",
      "|    0   N/A  N/A    541429      C   ...nda3/envs/aero/bin/python      421MiB |\n",
      "+-----------------------------------------------------------------------------+\n"
     ]
    }
   ],
   "source": [
    "!nvidia-smi"
   ]
  },
  {
   "cell_type": "code",
   "execution_count": 34,
   "id": "41039c94-0ff9-4623-a996-3729d642b1bc",
   "metadata": {},
   "outputs": [
    {
     "data": {
      "text/plain": [
       "540"
      ]
     },
     "execution_count": 34,
     "metadata": {},
     "output_type": "execute_result"
    }
   ],
   "source": [
    "49140-48600"
   ]
  },
  {
   "cell_type": "code",
   "execution_count": 35,
   "id": "7ae3ba72-e17b-408e-a915-b7598fadf138",
   "metadata": {},
   "outputs": [
    {
     "data": {
      "text/plain": [
       "0.01098901098901099"
      ]
     },
     "execution_count": 35,
     "metadata": {},
     "output_type": "execute_result"
    }
   ],
   "source": [
    "540/49140"
   ]
  },
  {
   "cell_type": "code",
   "execution_count": 7,
   "id": "373ca23b-a603-4a8f-8c34-4d4dec82d962",
   "metadata": {},
   "outputs": [],
   "source": [
    "test = normalize(np.zeros((2048, 2048)), 1, 99.8, axis=axis_norm)"
   ]
  },
  {
   "cell_type": "code",
   "execution_count": 6,
   "id": "2550a13a-2444-4873-9f17-86dc3c325094",
   "metadata": {},
   "outputs": [
    {
     "ename": "NameError",
     "evalue": "name 'image' is not defined",
     "output_type": "error",
     "traceback": [
      "\u001b[0;31m---------------------------------------------------------------------------\u001b[0m",
      "\u001b[0;31mNameError\u001b[0m                                 Traceback (most recent call last)",
      "Cell \u001b[0;32mIn[6], line 1\u001b[0m\n\u001b[0;32m----> 1\u001b[0m test \u001b[38;5;241m=\u001b[39m normalize(\u001b[43mimage\u001b[49m[\u001b[38;5;241m0\u001b[39m,\u001b[38;5;241m.\u001b[39m\u001b[38;5;241m.\u001b[39m\u001b[38;5;241m.\u001b[39m,\u001b[38;5;241m0\u001b[39m], \u001b[38;5;241m1\u001b[39m, \u001b[38;5;241m99.8\u001b[39m, axis\u001b[38;5;241m=\u001b[39maxis_norm)\n",
      "\u001b[0;31mNameError\u001b[0m: name 'image' is not defined"
     ]
    }
   ],
   "source": [
    "test = normalize(image[0,...,0], 1, 99.8, axis=axis_norm)"
   ]
  },
  {
   "cell_type": "code",
   "execution_count": 8,
   "id": "d362ef93-3e55-4646-b516-ad1e89ea91d4",
   "metadata": {
    "scrolled": true
   },
   "outputs": [
    {
     "name": "stdout",
     "output_type": "stream",
     "text": [
      "Found model '2D_versatile_fluo' for 'StarDist2D'.\n"
     ]
    },
    {
     "name": "stderr",
     "output_type": "stream",
     "text": [
      "2023-10-06 14:45:21.115793: I tensorflow/core/common_runtime/gpu/gpu_device.cc:1886] Created device /job:localhost/replica:0/task:0/device:GPU:0 with 1820 MB memory:  -> device: 0, name: NVIDIA RTX A6000, pci bus id: 0000:65:00.0, compute capability: 8.6\n"
     ]
    },
    {
     "name": "stdout",
     "output_type": "stream",
     "text": [
      "Loading network weights from 'weights_best.h5'.\n",
      "Loading thresholds from 'thresholds.json'.\n",
      "Using default values: prob_thresh=0.479071, nms_thresh=0.3.\n"
     ]
    },
    {
     "name": "stderr",
     "output_type": "stream",
     "text": [
      "2023-10-06 14:45:23.507442: E tensorflow/compiler/xla/stream_executor/cuda/cuda_dnn.cc:447] Could not create cudnn handle: CUDNN_STATUS_NOT_INITIALIZED\n",
      "2023-10-06 14:45:23.507530: E tensorflow/compiler/xla/stream_executor/cuda/cuda_dnn.cc:451] Memory usage: 41484288 bytes free, 51040419840 bytes total.\n",
      "2023-10-06 14:45:23.508069: E tensorflow/compiler/xla/stream_executor/cuda/cuda_dnn.cc:461] Possibly insufficient driver version: 515.105.1\n",
      "2023-10-06 14:45:23.508101: W tensorflow/core/framework/op_kernel.cc:1839] OP_REQUIRES failed at conv_ops_fused_impl.h:625 : UNIMPLEMENTED: DNN library is not found.\n"
     ]
    },
    {
     "ename": "UnimplementedError",
     "evalue": "Graph execution error:\n\nDetected at node model/conv2d/Relu defined at (most recent call last):\n  File \"/home/dayn/miniconda3/envs/brassica/lib/python3.9/runpy.py\", line 197, in _run_module_as_main\n\n  File \"/home/dayn/miniconda3/envs/brassica/lib/python3.9/runpy.py\", line 87, in _run_code\n\n  File \"/home/dayn/miniconda3/envs/brassica/lib/python3.9/site-packages/ipykernel_launcher.py\", line 17, in <module>\n\n  File \"/home/dayn/miniconda3/envs/brassica/lib/python3.9/site-packages/traitlets/config/application.py\", line 1043, in launch_instance\n\n  File \"/home/dayn/miniconda3/envs/brassica/lib/python3.9/site-packages/ipykernel/kernelapp.py\", line 711, in start\n\n  File \"/home/dayn/miniconda3/envs/brassica/lib/python3.9/site-packages/tornado/platform/asyncio.py\", line 195, in start\n\n  File \"/home/dayn/miniconda3/envs/brassica/lib/python3.9/asyncio/base_events.py\", line 601, in run_forever\n\n  File \"/home/dayn/miniconda3/envs/brassica/lib/python3.9/asyncio/base_events.py\", line 1905, in _run_once\n\n  File \"/home/dayn/miniconda3/envs/brassica/lib/python3.9/asyncio/events.py\", line 80, in _run\n\n  File \"/home/dayn/miniconda3/envs/brassica/lib/python3.9/site-packages/ipykernel/kernelbase.py\", line 510, in dispatch_queue\n\n  File \"/home/dayn/miniconda3/envs/brassica/lib/python3.9/site-packages/ipykernel/kernelbase.py\", line 499, in process_one\n\n  File \"/home/dayn/miniconda3/envs/brassica/lib/python3.9/site-packages/ipykernel/kernelbase.py\", line 406, in dispatch_shell\n\n  File \"/home/dayn/miniconda3/envs/brassica/lib/python3.9/site-packages/ipykernel/kernelbase.py\", line 729, in execute_request\n\n  File \"/home/dayn/miniconda3/envs/brassica/lib/python3.9/site-packages/ipykernel/ipkernel.py\", line 411, in do_execute\n\n  File \"/home/dayn/miniconda3/envs/brassica/lib/python3.9/site-packages/ipykernel/zmqshell.py\", line 531, in run_cell\n\n  File \"/home/dayn/miniconda3/envs/brassica/lib/python3.9/site-packages/IPython/core/interactiveshell.py\", line 3009, in run_cell\n\n  File \"/home/dayn/miniconda3/envs/brassica/lib/python3.9/site-packages/IPython/core/interactiveshell.py\", line 3064, in _run_cell\n\n  File \"/home/dayn/miniconda3/envs/brassica/lib/python3.9/site-packages/IPython/core/async_helpers.py\", line 129, in _pseudo_sync_runner\n\n  File \"/home/dayn/miniconda3/envs/brassica/lib/python3.9/site-packages/IPython/core/interactiveshell.py\", line 3269, in run_cell_async\n\n  File \"/home/dayn/miniconda3/envs/brassica/lib/python3.9/site-packages/IPython/core/interactiveshell.py\", line 3448, in run_ast_nodes\n\n  File \"/home/dayn/miniconda3/envs/brassica/lib/python3.9/site-packages/IPython/core/interactiveshell.py\", line 3508, in run_code\n\n  File \"/tmp/ipykernel_541627/3975458705.py\", line 1, in <module>\n\n  File \"/home/dayn/miniconda3/envs/brassica/lib/python3.9/site-packages/stardist/models/base.py\", line 777, in predict_instances\n\n  File \"/home/dayn/miniconda3/envs/brassica/lib/python3.9/site-packages/stardist/models/base.py\", line 729, in _predict_instances_generator\n\n  File \"/home/dayn/miniconda3/envs/brassica/lib/python3.9/site-packages/stardist/models/base.py\", line 592, in _predict_sparse_generator\n\n  File \"/home/dayn/miniconda3/envs/brassica/lib/python3.9/site-packages/stardist/models/base.py\", line 398, in predict_direct\n\n  File \"/home/dayn/miniconda3/envs/brassica/lib/python3.9/site-packages/keras/src/utils/traceback_utils.py\", line 65, in error_handler\n\n  File \"/home/dayn/miniconda3/envs/brassica/lib/python3.9/site-packages/keras/src/engine/training.py\", line 2631, in predict\n\n  File \"/home/dayn/miniconda3/envs/brassica/lib/python3.9/site-packages/keras/src/engine/training.py\", line 2416, in predict_function\n\n  File \"/home/dayn/miniconda3/envs/brassica/lib/python3.9/site-packages/keras/src/engine/training.py\", line 2401, in step_function\n\n  File \"/home/dayn/miniconda3/envs/brassica/lib/python3.9/site-packages/keras/src/engine/training.py\", line 2389, in run_step\n\n  File \"/home/dayn/miniconda3/envs/brassica/lib/python3.9/site-packages/keras/src/engine/training.py\", line 2357, in predict_step\n\n  File \"/home/dayn/miniconda3/envs/brassica/lib/python3.9/site-packages/keras/src/utils/traceback_utils.py\", line 65, in error_handler\n\n  File \"/home/dayn/miniconda3/envs/brassica/lib/python3.9/site-packages/keras/src/engine/training.py\", line 589, in __call__\n\n  File \"/home/dayn/miniconda3/envs/brassica/lib/python3.9/site-packages/keras/src/utils/traceback_utils.py\", line 65, in error_handler\n\n  File \"/home/dayn/miniconda3/envs/brassica/lib/python3.9/site-packages/keras/src/engine/base_layer.py\", line 1149, in __call__\n\n  File \"/home/dayn/miniconda3/envs/brassica/lib/python3.9/site-packages/keras/src/utils/traceback_utils.py\", line 96, in error_handler\n\n  File \"/home/dayn/miniconda3/envs/brassica/lib/python3.9/site-packages/keras/src/engine/functional.py\", line 515, in call\n\n  File \"/home/dayn/miniconda3/envs/brassica/lib/python3.9/site-packages/keras/src/engine/functional.py\", line 672, in _run_internal_graph\n\n  File \"/home/dayn/miniconda3/envs/brassica/lib/python3.9/site-packages/keras/src/utils/traceback_utils.py\", line 65, in error_handler\n\n  File \"/home/dayn/miniconda3/envs/brassica/lib/python3.9/site-packages/keras/src/engine/base_layer.py\", line 1149, in __call__\n\n  File \"/home/dayn/miniconda3/envs/brassica/lib/python3.9/site-packages/keras/src/utils/traceback_utils.py\", line 96, in error_handler\n\n  File \"/home/dayn/miniconda3/envs/brassica/lib/python3.9/site-packages/keras/src/layers/convolutional/base_conv.py\", line 321, in call\n\n  File \"/home/dayn/miniconda3/envs/brassica/lib/python3.9/site-packages/keras/src/activations.py\", line 306, in relu\n\n  File \"/home/dayn/miniconda3/envs/brassica/lib/python3.9/site-packages/keras/src/backend.py\", line 5397, in relu\n\nDNN library is not found.\n\t [[{{node model/conv2d/Relu}}]] [Op:__inference_predict_function_845]",
     "output_type": "error",
     "traceback": [
      "\u001b[0;31m---------------------------------------------------------------------------\u001b[0m",
      "\u001b[0;31mUnimplementedError\u001b[0m                        Traceback (most recent call last)",
      "Cell \u001b[0;32mIn[8], line 1\u001b[0m\n\u001b[0;32m----> 1\u001b[0m \u001b[43mStarDist2D\u001b[49m\u001b[38;5;241;43m.\u001b[39;49m\u001b[43mfrom_pretrained\u001b[49m\u001b[43m(\u001b[49m\u001b[38;5;124;43m'\u001b[39;49m\u001b[38;5;124;43m2D_versatile_fluo\u001b[39;49m\u001b[38;5;124;43m'\u001b[39;49m\u001b[43m)\u001b[49m\u001b[38;5;241;43m.\u001b[39;49m\u001b[43mpredict_instances\u001b[49m\u001b[43m(\u001b[49m\u001b[43mtest\u001b[49m\u001b[43m)\u001b[49m\n",
      "File \u001b[0;32m~/miniconda3/envs/brassica/lib/python3.9/site-packages/stardist/models/base.py:777\u001b[0m, in \u001b[0;36mStarDistBase.predict_instances\u001b[0;34m(self, *args, **kwargs)\u001b[0m\n\u001b[1;32m    764\u001b[0m \u001b[38;5;129m@functools\u001b[39m\u001b[38;5;241m.\u001b[39mwraps(_predict_instances_generator)\n\u001b[1;32m    765\u001b[0m \u001b[38;5;28;01mdef\u001b[39;00m \u001b[38;5;21mpredict_instances\u001b[39m(\u001b[38;5;28mself\u001b[39m, \u001b[38;5;241m*\u001b[39margs, \u001b[38;5;241m*\u001b[39m\u001b[38;5;241m*\u001b[39mkwargs):\n\u001b[1;32m    766\u001b[0m     \u001b[38;5;66;03m# the reason why the actual computation happens as a generator function\u001b[39;00m\n\u001b[0;32m   (...)\u001b[0m\n\u001b[1;32m    774\u001b[0m \n\u001b[1;32m    775\u001b[0m     \u001b[38;5;66;03m# return last \"yield\"ed value of generator\u001b[39;00m\n\u001b[1;32m    776\u001b[0m     r \u001b[38;5;241m=\u001b[39m \u001b[38;5;28;01mNone\u001b[39;00m\n\u001b[0;32m--> 777\u001b[0m     \u001b[38;5;28;01mfor\u001b[39;00m r \u001b[38;5;129;01min\u001b[39;00m \u001b[38;5;28mself\u001b[39m\u001b[38;5;241m.\u001b[39m_predict_instances_generator(\u001b[38;5;241m*\u001b[39margs, \u001b[38;5;241m*\u001b[39m\u001b[38;5;241m*\u001b[39mkwargs):\n\u001b[1;32m    778\u001b[0m         \u001b[38;5;28;01mpass\u001b[39;00m\n\u001b[1;32m    779\u001b[0m     \u001b[38;5;28;01mreturn\u001b[39;00m r\n",
      "File \u001b[0;32m~/miniconda3/envs/brassica/lib/python3.9/site-packages/stardist/models/base.py:729\u001b[0m, in \u001b[0;36mStarDistBase._predict_instances_generator\u001b[0;34m(self, img, axes, normalizer, sparse, prob_thresh, nms_thresh, scale, n_tiles, show_tile_progress, verbose, return_labels, predict_kwargs, nms_kwargs, overlap_label, return_predict)\u001b[0m\n\u001b[1;32m    727\u001b[0m res \u001b[38;5;241m=\u001b[39m \u001b[38;5;28;01mNone\u001b[39;00m\n\u001b[1;32m    728\u001b[0m \u001b[38;5;28;01mif\u001b[39;00m sparse:\n\u001b[0;32m--> 729\u001b[0m     \u001b[38;5;28;01mfor\u001b[39;00m res \u001b[38;5;129;01min\u001b[39;00m \u001b[38;5;28mself\u001b[39m\u001b[38;5;241m.\u001b[39m_predict_sparse_generator(img, axes\u001b[38;5;241m=\u001b[39maxes, normalizer\u001b[38;5;241m=\u001b[39mnormalizer, n_tiles\u001b[38;5;241m=\u001b[39mn_tiles,\n\u001b[1;32m    730\u001b[0m                                               prob_thresh\u001b[38;5;241m=\u001b[39mprob_thresh, show_tile_progress\u001b[38;5;241m=\u001b[39mshow_tile_progress, \u001b[38;5;241m*\u001b[39m\u001b[38;5;241m*\u001b[39mpredict_kwargs):\n\u001b[1;32m    731\u001b[0m         \u001b[38;5;28;01mif\u001b[39;00m res \u001b[38;5;129;01mis\u001b[39;00m \u001b[38;5;28;01mNone\u001b[39;00m:\n\u001b[1;32m    732\u001b[0m             \u001b[38;5;28;01myield\u001b[39;00m \u001b[38;5;124m'\u001b[39m\u001b[38;5;124mtile\u001b[39m\u001b[38;5;124m'\u001b[39m  \u001b[38;5;66;03m# yield 'tile' each time a tile has been processed\u001b[39;00m\n",
      "File \u001b[0;32m~/miniconda3/envs/brassica/lib/python3.9/site-packages/stardist/models/base.py:592\u001b[0m, in \u001b[0;36mStarDistBase._predict_sparse_generator\u001b[0;34m(self, img, prob_thresh, axes, normalizer, n_tiles, show_tile_progress, b, **predict_kwargs)\u001b[0m\n\u001b[1;32m    588\u001b[0m         \u001b[38;5;28;01myield\u001b[39;00m  \u001b[38;5;66;03m# yield None after each processed tile\u001b[39;00m\n\u001b[1;32m    590\u001b[0m \u001b[38;5;28;01melse\u001b[39;00m:\n\u001b[1;32m    591\u001b[0m     \u001b[38;5;66;03m# predict_direct -> prob, dist, [prob_class if multi_class]\u001b[39;00m\n\u001b[0;32m--> 592\u001b[0m     results \u001b[38;5;241m=\u001b[39m \u001b[43mpredict_direct\u001b[49m\u001b[43m(\u001b[49m\u001b[43mx\u001b[49m\u001b[43m)\u001b[49m\n\u001b[1;32m    593\u001b[0m     prob, dist \u001b[38;5;241m=\u001b[39m results[:\u001b[38;5;241m2\u001b[39m]\n\u001b[1;32m    594\u001b[0m     prob, dist \u001b[38;5;241m=\u001b[39m _prep(prob, dist)\n",
      "File \u001b[0;32m~/miniconda3/envs/brassica/lib/python3.9/site-packages/stardist/models/base.py:398\u001b[0m, in \u001b[0;36mStarDistBase._predict_setup.<locals>.predict_direct\u001b[0;34m(x)\u001b[0m\n\u001b[1;32m    397\u001b[0m \u001b[38;5;28;01mdef\u001b[39;00m \u001b[38;5;21mpredict_direct\u001b[39m(x):\n\u001b[0;32m--> 398\u001b[0m     ys \u001b[38;5;241m=\u001b[39m \u001b[38;5;28;43mself\u001b[39;49m\u001b[38;5;241;43m.\u001b[39;49m\u001b[43mkeras_model\u001b[49m\u001b[38;5;241;43m.\u001b[39;49m\u001b[43mpredict\u001b[49m\u001b[43m(\u001b[49m\u001b[43mx\u001b[49m\u001b[43m[\u001b[49m\u001b[43mnp\u001b[49m\u001b[38;5;241;43m.\u001b[39;49m\u001b[43mnewaxis\u001b[49m\u001b[43m]\u001b[49m\u001b[43m,\u001b[49m\u001b[43m \u001b[49m\u001b[38;5;241;43m*\u001b[39;49m\u001b[38;5;241;43m*\u001b[39;49m\u001b[43mpredict_kwargs\u001b[49m\u001b[43m)\u001b[49m\n\u001b[1;32m    399\u001b[0m     \u001b[38;5;28;01mreturn\u001b[39;00m \u001b[38;5;28mtuple\u001b[39m(y[\u001b[38;5;241m0\u001b[39m] \u001b[38;5;28;01mfor\u001b[39;00m y \u001b[38;5;129;01min\u001b[39;00m ys)\n",
      "File \u001b[0;32m~/miniconda3/envs/brassica/lib/python3.9/site-packages/keras/src/utils/traceback_utils.py:70\u001b[0m, in \u001b[0;36mfilter_traceback.<locals>.error_handler\u001b[0;34m(*args, **kwargs)\u001b[0m\n\u001b[1;32m     67\u001b[0m     filtered_tb \u001b[38;5;241m=\u001b[39m _process_traceback_frames(e\u001b[38;5;241m.\u001b[39m__traceback__)\n\u001b[1;32m     68\u001b[0m     \u001b[38;5;66;03m# To get the full stack trace, call:\u001b[39;00m\n\u001b[1;32m     69\u001b[0m     \u001b[38;5;66;03m# `tf.debugging.disable_traceback_filtering()`\u001b[39;00m\n\u001b[0;32m---> 70\u001b[0m     \u001b[38;5;28;01mraise\u001b[39;00m e\u001b[38;5;241m.\u001b[39mwith_traceback(filtered_tb) \u001b[38;5;28;01mfrom\u001b[39;00m \u001b[38;5;28;01mNone\u001b[39;00m\n\u001b[1;32m     71\u001b[0m \u001b[38;5;28;01mfinally\u001b[39;00m:\n\u001b[1;32m     72\u001b[0m     \u001b[38;5;28;01mdel\u001b[39;00m filtered_tb\n",
      "File \u001b[0;32m~/miniconda3/envs/brassica/lib/python3.9/site-packages/tensorflow/python/eager/execute.py:60\u001b[0m, in \u001b[0;36mquick_execute\u001b[0;34m(op_name, num_outputs, inputs, attrs, ctx, name)\u001b[0m\n\u001b[1;32m     53\u001b[0m   \u001b[38;5;66;03m# Convert any objects of type core_types.Tensor to Tensor.\u001b[39;00m\n\u001b[1;32m     54\u001b[0m   inputs \u001b[38;5;241m=\u001b[39m [\n\u001b[1;32m     55\u001b[0m       tensor_conversion_registry\u001b[38;5;241m.\u001b[39mconvert(t)\n\u001b[1;32m     56\u001b[0m       \u001b[38;5;28;01mif\u001b[39;00m \u001b[38;5;28misinstance\u001b[39m(t, core_types\u001b[38;5;241m.\u001b[39mTensor)\n\u001b[1;32m     57\u001b[0m       \u001b[38;5;28;01melse\u001b[39;00m t\n\u001b[1;32m     58\u001b[0m       \u001b[38;5;28;01mfor\u001b[39;00m t \u001b[38;5;129;01min\u001b[39;00m inputs\n\u001b[1;32m     59\u001b[0m   ]\n\u001b[0;32m---> 60\u001b[0m   tensors \u001b[38;5;241m=\u001b[39m pywrap_tfe\u001b[38;5;241m.\u001b[39mTFE_Py_Execute(ctx\u001b[38;5;241m.\u001b[39m_handle, device_name, op_name,\n\u001b[1;32m     61\u001b[0m                                       inputs, attrs, num_outputs)\n\u001b[1;32m     62\u001b[0m \u001b[38;5;28;01mexcept\u001b[39;00m core\u001b[38;5;241m.\u001b[39m_NotOkStatusException \u001b[38;5;28;01mas\u001b[39;00m e:\n\u001b[1;32m     63\u001b[0m   \u001b[38;5;28;01mif\u001b[39;00m name \u001b[38;5;129;01mis\u001b[39;00m \u001b[38;5;129;01mnot\u001b[39;00m \u001b[38;5;28;01mNone\u001b[39;00m:\n",
      "\u001b[0;31mUnimplementedError\u001b[0m: Graph execution error:\n\nDetected at node model/conv2d/Relu defined at (most recent call last):\n  File \"/home/dayn/miniconda3/envs/brassica/lib/python3.9/runpy.py\", line 197, in _run_module_as_main\n\n  File \"/home/dayn/miniconda3/envs/brassica/lib/python3.9/runpy.py\", line 87, in _run_code\n\n  File \"/home/dayn/miniconda3/envs/brassica/lib/python3.9/site-packages/ipykernel_launcher.py\", line 17, in <module>\n\n  File \"/home/dayn/miniconda3/envs/brassica/lib/python3.9/site-packages/traitlets/config/application.py\", line 1043, in launch_instance\n\n  File \"/home/dayn/miniconda3/envs/brassica/lib/python3.9/site-packages/ipykernel/kernelapp.py\", line 711, in start\n\n  File \"/home/dayn/miniconda3/envs/brassica/lib/python3.9/site-packages/tornado/platform/asyncio.py\", line 195, in start\n\n  File \"/home/dayn/miniconda3/envs/brassica/lib/python3.9/asyncio/base_events.py\", line 601, in run_forever\n\n  File \"/home/dayn/miniconda3/envs/brassica/lib/python3.9/asyncio/base_events.py\", line 1905, in _run_once\n\n  File \"/home/dayn/miniconda3/envs/brassica/lib/python3.9/asyncio/events.py\", line 80, in _run\n\n  File \"/home/dayn/miniconda3/envs/brassica/lib/python3.9/site-packages/ipykernel/kernelbase.py\", line 510, in dispatch_queue\n\n  File \"/home/dayn/miniconda3/envs/brassica/lib/python3.9/site-packages/ipykernel/kernelbase.py\", line 499, in process_one\n\n  File \"/home/dayn/miniconda3/envs/brassica/lib/python3.9/site-packages/ipykernel/kernelbase.py\", line 406, in dispatch_shell\n\n  File \"/home/dayn/miniconda3/envs/brassica/lib/python3.9/site-packages/ipykernel/kernelbase.py\", line 729, in execute_request\n\n  File \"/home/dayn/miniconda3/envs/brassica/lib/python3.9/site-packages/ipykernel/ipkernel.py\", line 411, in do_execute\n\n  File \"/home/dayn/miniconda3/envs/brassica/lib/python3.9/site-packages/ipykernel/zmqshell.py\", line 531, in run_cell\n\n  File \"/home/dayn/miniconda3/envs/brassica/lib/python3.9/site-packages/IPython/core/interactiveshell.py\", line 3009, in run_cell\n\n  File \"/home/dayn/miniconda3/envs/brassica/lib/python3.9/site-packages/IPython/core/interactiveshell.py\", line 3064, in _run_cell\n\n  File \"/home/dayn/miniconda3/envs/brassica/lib/python3.9/site-packages/IPython/core/async_helpers.py\", line 129, in _pseudo_sync_runner\n\n  File \"/home/dayn/miniconda3/envs/brassica/lib/python3.9/site-packages/IPython/core/interactiveshell.py\", line 3269, in run_cell_async\n\n  File \"/home/dayn/miniconda3/envs/brassica/lib/python3.9/site-packages/IPython/core/interactiveshell.py\", line 3448, in run_ast_nodes\n\n  File \"/home/dayn/miniconda3/envs/brassica/lib/python3.9/site-packages/IPython/core/interactiveshell.py\", line 3508, in run_code\n\n  File \"/tmp/ipykernel_541627/3975458705.py\", line 1, in <module>\n\n  File \"/home/dayn/miniconda3/envs/brassica/lib/python3.9/site-packages/stardist/models/base.py\", line 777, in predict_instances\n\n  File \"/home/dayn/miniconda3/envs/brassica/lib/python3.9/site-packages/stardist/models/base.py\", line 729, in _predict_instances_generator\n\n  File \"/home/dayn/miniconda3/envs/brassica/lib/python3.9/site-packages/stardist/models/base.py\", line 592, in _predict_sparse_generator\n\n  File \"/home/dayn/miniconda3/envs/brassica/lib/python3.9/site-packages/stardist/models/base.py\", line 398, in predict_direct\n\n  File \"/home/dayn/miniconda3/envs/brassica/lib/python3.9/site-packages/keras/src/utils/traceback_utils.py\", line 65, in error_handler\n\n  File \"/home/dayn/miniconda3/envs/brassica/lib/python3.9/site-packages/keras/src/engine/training.py\", line 2631, in predict\n\n  File \"/home/dayn/miniconda3/envs/brassica/lib/python3.9/site-packages/keras/src/engine/training.py\", line 2416, in predict_function\n\n  File \"/home/dayn/miniconda3/envs/brassica/lib/python3.9/site-packages/keras/src/engine/training.py\", line 2401, in step_function\n\n  File \"/home/dayn/miniconda3/envs/brassica/lib/python3.9/site-packages/keras/src/engine/training.py\", line 2389, in run_step\n\n  File \"/home/dayn/miniconda3/envs/brassica/lib/python3.9/site-packages/keras/src/engine/training.py\", line 2357, in predict_step\n\n  File \"/home/dayn/miniconda3/envs/brassica/lib/python3.9/site-packages/keras/src/utils/traceback_utils.py\", line 65, in error_handler\n\n  File \"/home/dayn/miniconda3/envs/brassica/lib/python3.9/site-packages/keras/src/engine/training.py\", line 589, in __call__\n\n  File \"/home/dayn/miniconda3/envs/brassica/lib/python3.9/site-packages/keras/src/utils/traceback_utils.py\", line 65, in error_handler\n\n  File \"/home/dayn/miniconda3/envs/brassica/lib/python3.9/site-packages/keras/src/engine/base_layer.py\", line 1149, in __call__\n\n  File \"/home/dayn/miniconda3/envs/brassica/lib/python3.9/site-packages/keras/src/utils/traceback_utils.py\", line 96, in error_handler\n\n  File \"/home/dayn/miniconda3/envs/brassica/lib/python3.9/site-packages/keras/src/engine/functional.py\", line 515, in call\n\n  File \"/home/dayn/miniconda3/envs/brassica/lib/python3.9/site-packages/keras/src/engine/functional.py\", line 672, in _run_internal_graph\n\n  File \"/home/dayn/miniconda3/envs/brassica/lib/python3.9/site-packages/keras/src/utils/traceback_utils.py\", line 65, in error_handler\n\n  File \"/home/dayn/miniconda3/envs/brassica/lib/python3.9/site-packages/keras/src/engine/base_layer.py\", line 1149, in __call__\n\n  File \"/home/dayn/miniconda3/envs/brassica/lib/python3.9/site-packages/keras/src/utils/traceback_utils.py\", line 96, in error_handler\n\n  File \"/home/dayn/miniconda3/envs/brassica/lib/python3.9/site-packages/keras/src/layers/convolutional/base_conv.py\", line 321, in call\n\n  File \"/home/dayn/miniconda3/envs/brassica/lib/python3.9/site-packages/keras/src/activations.py\", line 306, in relu\n\n  File \"/home/dayn/miniconda3/envs/brassica/lib/python3.9/site-packages/keras/src/backend.py\", line 5397, in relu\n\nDNN library is not found.\n\t [[{{node model/conv2d/Relu}}]] [Op:__inference_predict_function_845]"
     ]
    }
   ],
   "source": [
    "StarDist2D.from_pretrained('2D_versatile_fluo').predict_instances(test)"
   ]
  },
  {
   "cell_type": "code",
   "execution_count": 15,
   "id": "414b902d-546c-44d3-944c-1d9f2aa8bac0",
   "metadata": {},
   "outputs": [
    {
     "name": "stdout",
     "output_type": "stream",
     "text": [
      "Found model '2D_versatile_fluo' for 'StarDist2D'.\n",
      "Loading network weights from 'weights_best.h5'.\n",
      "Loading thresholds from 'thresholds.json'.\n",
      "Using default values: prob_thresh=0.479071, nms_thresh=0.3.\n",
      "Help on method _predict_instances_generator in module stardist.models.base:\n",
      "\n",
      "_predict_instances_generator(img, axes=None, normalizer=None, sparse=True, prob_thresh=None, nms_thresh=None, scale=None, n_tiles=None, show_tile_progress=True, verbose=False, return_labels=True, predict_kwargs=None, nms_kwargs=None, overlap_label=None, return_predict=False) method of stardist.models.model2d.StarDist2D instance\n",
      "    Predict instance segmentation from input image.\n",
      "    \n",
      "    Parameters\n",
      "    ----------\n",
      "    img : :class:`numpy.ndarray`\n",
      "        Input image\n",
      "    axes : str or None\n",
      "        Axes of the input ``img``.\n",
      "        ``None`` denotes that axes of img are the same as denoted in the config.\n",
      "    normalizer : :class:`csbdeep.data.Normalizer` or None\n",
      "        (Optional) normalization of input image before prediction.\n",
      "        Note that the default (``None``) assumes ``img`` to be already normalized.\n",
      "    sparse: bool\n",
      "        If true, aggregate probabilities/distances sparsely during tiled\n",
      "        prediction to save memory (recommended).\n",
      "    prob_thresh : float or None\n",
      "        Consider only object candidates from pixels with predicted object probability\n",
      "        above this threshold (also see `optimize_thresholds`).\n",
      "    nms_thresh : float or None\n",
      "        Perform non-maximum suppression that considers two objects to be the same\n",
      "        when their area/surface overlap exceeds this threshold (also see `optimize_thresholds`).\n",
      "    scale: None or float or iterable\n",
      "        Scale the input image internally by this factor and rescale the output accordingly.\n",
      "        All spatial axes (X,Y,Z) will be scaled if a scalar value is provided.\n",
      "        Alternatively, multiple scale values (compatible with input `axes`) can be used\n",
      "        for more fine-grained control (scale values for non-spatial axes must be 1).\n",
      "    n_tiles : iterable or None\n",
      "        Out of memory (OOM) errors can occur if the input image is too large.\n",
      "        To avoid this problem, the input image is broken up into (overlapping) tiles\n",
      "        that are processed independently and re-assembled.\n",
      "        This parameter denotes a tuple of the number of tiles for every image axis (see ``axes``).\n",
      "        ``None`` denotes that no tiling should be used.\n",
      "    show_tile_progress: bool\n",
      "        Whether to show progress during tiled prediction.\n",
      "    verbose: bool\n",
      "        Whether to print some info messages.\n",
      "    return_labels: bool\n",
      "        Whether to create a label image, otherwise return None in its place.\n",
      "    predict_kwargs: dict\n",
      "        Keyword arguments for ``predict`` function of Keras model.\n",
      "    nms_kwargs: dict\n",
      "        Keyword arguments for non-maximum suppression.\n",
      "    overlap_label: scalar or None\n",
      "        if not None, label the regions where polygons overlap with that value\n",
      "    return_predict: bool\n",
      "        Also return the outputs of :func:`predict` (in a separate tuple)\n",
      "        If True, implies sparse = False\n",
      "    \n",
      "    Returns\n",
      "    -------\n",
      "    (:class:`numpy.ndarray`, dict), (optional: return tuple of :func:`predict`)\n",
      "        Returns a tuple of the label instances image and also\n",
      "        a dictionary with the details (coordinates, etc.) of all remaining polygons/polyhedra.\n",
      "\n"
     ]
    }
   ],
   "source": [
    "help(StarDist2D.from_pretrained('2D_versatile_fluo').predict_instances)"
   ]
  },
  {
   "cell_type": "code",
   "execution_count": 5,
   "id": "2b6e699a-fedb-45c2-8412-5b4f63a4da19",
   "metadata": {},
   "outputs": [],
   "source": [
    "props = ('axis_major_length', # first define some cell properties \n",
    "         'axis_minor_length', # this helps improve the tracking\n",
    "         'eccentricity',      # by comparing similarities between slices/frames\n",
    "         'area', \n",
    "         'orientation',\n",
    "         'mean_intensity', \n",
    "        )"
   ]
  },
  {
   "cell_type": "code",
   "execution_count": 7,
   "id": "075d89d6-b7a0-4699-a6a0-3d730c262adb",
   "metadata": {},
   "outputs": [],
   "source": [
    "basedir = '/run/user/30046150/gvfs/smb-share:server=data2.thecrick.org,share=lab-gutierrezm/home/shared/Lung on Chip/homuncu_loc_image_analysis/iAT1_iAT2_iVEC_macrophage_experiments/DAPI_ZO1_LDO_MTB/images'"
   ]
  },
  {
   "cell_type": "code",
   "execution_count": 8,
   "id": "38f4bd7f-f353-47c0-a1bb-1bd73cd4f5a7",
   "metadata": {},
   "outputs": [],
   "source": [
    "image_basenames = [\n",
    "    # \"20230705_40X_23-01-001B3_Multichannel Z-Stack_20230705_1298\",\n",
    "    # \"20230705_40X_23-01-001B3_Multichannel Z-Stack_20230705_1299\",\n",
    "    # \"20230705_40X_23-01-001B3_Multichannel Z-Stack_20230705_1300\",\n",
    "    # \"20230705_40X_23-01-005A3_Multichannel Z-Stack_20230705_1306\",\n",
    "    # \"20230705_40X_23-01-005A3_Multichannel Z-Stack_20230705_1307\",\n",
    "    # \"20230705_40X_23-01-005A3_Multichannel Z-Stack_20230705_1308\",\n",
    "    # \"20230705_40X_23-01-005A3_Multichannel Z-Stack_20230705_1309\",\n",
    "    # \"20230705_40X_23-01-005A3_Multichannel Z-Stack_20230705_1310\",\n",
    "    # \"20230705_40X_23-01-005A3_Multichannel Z-Stack_20230705_1311\",\n",
    "    # \"20230707_40X_23-01-001A3_Multichannel Z-Stack_20230707_1313\",\n",
    "    # \"20230707_40X_23-01-001A3_Multichannel Z-Stack_20230707_1314\",\n",
    "    # \"20230707_40X_23-01-001A3_Multichannel Z-Stack_20230707_1315\",\n",
    "    # \"20230707_40X_23-01-001A3_Multichannel Z-Stack_20230707_1316\",\n",
    "    # \"20230707_40X_23-01-001A3_Multichannel Z-Stack_20230707_1317\",\n",
    "    # \"20230707_40X_23-01-001A3_Multichannel Z-Stack_20230707_1318\",\n",
    "    # \"20230707_40X_23-01-001A3_Multichannel Z-Stack_20230707_1319\",\n",
    "    # \"20230707_40X_23-01-001A3_Multichannel Z-Stack_20230707_1320\",\n",
    "    # \"20230707_40X_23-01-005A3_Multichannel Z-Stack_20230707_1324\",\n",
    "    # \"20230707_40X_23-01-005A3_Multichannel Z-Stack_20230707_1325\",\n",
    "    # \"20230714_20X_23-02-104A4_Multichannel Z-Stack_20230714_1340\",\n",
    "    # \"20230714_20X_23-02-104A4_Multichannel Z-Stack_20230714_1341\",\n",
    "    # \"20230714_20X_23-02-104A4_Multichannel Z-Stack_20230714_1342\",\n",
    "    # \"20230714_20X_23-02-104A4_Multichannel Z-Stack_20230714_1343\",\n",
    "    # \"20230714_20X_23-02-104A4_Multichannel Z-Stack_20230714_1344\",\n",
    "    # \"20230718_20X_23-02-104B2_Multichannel Z-Stack_20230718_1361\",\n",
    "    # \"20230718_20X_23-02-104B2_Multichannel Z-Stack_20230718_1362\",\n",
    "    # \"20230718_20X_23-02-104B2_Multichannel Z-Stack_20230718_1363\",\n",
    "    # \"20230718_20X_23-02-104B2_Multichannel Z-Stack_20230718_1364\",\n",
    "    # \"20230718_20X_23-02-104B2_Multichannel Z-Stack_20230718_1365\",\n",
    "    #    \"20230801_20X_23-03-001B4_DAPI_ZO-1_CD16_Mtb_Multichannel Z-Stack_20230801_1463\",\n",
    "    # \"20230801_20X_23-03-001B4_DAPI_ZO-1_CD16_Mtb_Multichannel Z-Stack_20230801_1464\",\n",
    "    # \"20230801_20X_23-03-001B4_DAPI_ZO-1_CD16_Mtb_Multichannel Z-Stack_20230801_1465\",\n",
    "    # \"20230801_20X_23-03-001B4_DAPI_ZO-1_CD16_Mtb_Multichannel Z-Stack_20230801_1467\",\n",
    "    # \"20230801_20X_23-03-001B2_DAPI_ZO-1_Ki67_Mtb_Multichannel Z-Stack_20230801_1482\",\n",
    "    # \"20230801_20X_23-03-001B2_DAPI_ZO-1_Ki67_Mtb_Multichannel Z-Stack_20230801_1483\",\n",
    "    # \"20230801_20X_23-03-001B2_DAPI_ZO-1_Ki67_Mtb_Multichannel Z-Stack_20230801_1484\",\n",
    "    # \"20230802_20X_23-03-001A4_DAPI_ZO-1_CD16_Mtb_Multichannel Z-Stack_20230802_1500\",\n",
    "    # \"20230802_20X_23-03-001A4_DAPI_ZO-1_CD16_Mtb_Multichannel Z-Stack_20230802_1501\",\n",
    "    # \"20230802_20X_23-03-001A1_DAPI_ZO-1_CD16_Mtb_Multichannel Z-Stack_20230802_1510\",\n",
    "    # \"20230802_20X_23-03-001A1_DAPI_ZO-1_CD16_Mtb_Multichannel Z-Stack_20230802_1511\",\n",
    "    # \"20230802_20X_23-03-001A1_DAPI_ZO-1_CD16_Mtb_Multichannel Z-Stack_20230802_1512\",\n",
    "    # \"20230802_20X_23-03-001A1_DAPI_ZO-1_CD16_Mtb_Multichannel Z-Stack_20230802_1513\",\n",
    "    # \"20230802_20X_23-03-001A1_DAPI_ZO-1_CD16_Mtb_Multichannel Z-Stack_20230802_1514\",\n",
    "    # \"20230801_20X_23-03-001B2_DAPI_ZO-1_Ki67_Mtb_Multichannel Z-Stack_20230801_1481\"\n",
    "    '20230802_20X_23-03-001A2_DAPI_ZO-1_LDO_Mtb_Multichannel Z-Stack_20230802_1504', \n",
    "    '20230802_20X_23-03-001A5_DAPI_ZO-1_LDO_Mtb_Multichannel Z-Stack_20230802_1496',\n",
    "    '20230801_20X_23-03-001B3_DAPI_ZO-1_LDO_Mtb_Multichannel Z-Stack_20230801_1468',\n",
    "    '20230801_20X_23-03-001B6_DAPI_ZO-1_LDO_Mtb_Multichannel Z-Stack_20230801_1453',\n",
    "]\n",
    "    \n",
    "    "
   ]
  },
  {
   "cell_type": "code",
   "execution_count": 9,
   "id": "99b9c3ab-a85a-4fb7-8022-f1f858490035",
   "metadata": {},
   "outputs": [],
   "source": [
    "image_fns = [os.path.join(basedir, fn+'.tif') for fn in image_basenames]"
   ]
  },
  {
   "cell_type": "code",
   "execution_count": 6,
   "id": "c02caad4-bade-4f57-8616-3932f416fe26",
   "metadata": {},
   "outputs": [],
   "source": [
    "image_fns = [f'{fn}.tif' for fn in [\n",
    "    \"/run/user/30046150/gvfs/smb-share:server=data2.thecrick.org,share=lab-gutierrezm/home/shared/Lung on Chip/homuncu_loc_image_analysis/iAT1_iAT2_iVEC_macrophage_experiments/DAPI_ZO1_LDO_MTB/images/20230801_20X_23-03-001B6_DAPI_ZO-1_LDO_Mtb_Multichannel Z-Stack_20230801_1453\",\n",
    "    \"/run/user/30046150/gvfs/smb-share:server=data2.thecrick.org,share=lab-gutierrezm/home/shared/Lung on Chip/homuncu_loc_image_analysis/iAT1_iAT2_iVEC_macrophage_experiments/DAPI_ZO1_LDO_MTB/images/20230801_20X_23-03-001B3_DAPI_ZO-1_LDO_Mtb_Multichannel Z-Stack_20230801_1468\",\n",
    "    \"/run/user/30046150/gvfs/smb-share:server=data2.thecrick.org,share=lab-gutierrezm/home/shared/Lung on Chip/homuncu_loc_image_analysis/iAT1_iAT2_iVEC_macrophage_experiments/DAPI_ZO1_Ki67_MTB/images/20230801_20X_23-03-001B2_DAPI_ZO-1_Ki67_Mtb_Multichannel Z-Stack_20230801_1481\",\n",
    "    \"/run/user/30046150/gvfs/smb-share:server=data2.thecrick.org,share=lab-gutierrezm/home/shared/Lung on Chip/homuncu_loc_image_analysis/iAT1_iAT2_iVEC_macrophage_experiments/DAPI_ZO1_Ki67_MTB/images/20230801_20X_23-03-001B2_DAPI_ZO-1_Ki67_Mtb_Multichannel Z-Stack_20230801_1482\",\n",
    "    \"/run/user/30046150/gvfs/smb-share:server=data2.thecrick.org,share=lab-gutierrezm/home/shared/Lung on Chip/homuncu_loc_image_analysis/iAT1_iAT2_iVEC_macrophage_experiments/DAPI_ZO1_Ki67_MTB/images/20230801_20X_23-03-001B2_DAPI_ZO-1_Ki67_Mtb_Multichannel Z-Stack_20230801_1483\",\n",
    "    \"/run/user/30046150/gvfs/smb-share:server=data2.thecrick.org,share=lab-gutierrezm/home/shared/Lung on Chip/homuncu_loc_image_analysis/iAT1_iAT2_iVEC_macrophage_experiments/DAPI_ZO1_Ki67_MTB/images/20230801_20X_23-03-001B2_DAPI_ZO-1_Ki67_Mtb_Multichannel Z-Stack_20230801_1484\",\n",
    "    \"/run/user/30046150/gvfs/smb-share:server=data2.thecrick.org,share=lab-gutierrezm/home/shared/Lung on Chip/homuncu_loc_image_analysis/iAT1_iAT2_iVEC_macrophage_experiments/DAPI_ZO1_LDO_MTB/images/20230802_20X_23-03-001A5_DAPI_ZO-1_LDO_Mtb_Multichannel Z-Stack_20230802_1496\",\n",
    "    \"/run/user/30046150/gvfs/smb-share:server=data2.thecrick.org,share=lab-gutierrezm/home/shared/Lung on Chip/homuncu_loc_image_analysis/iAT1_iAT2_iVEC_macrophage_experiments/DAPI_ZO1_LDO_MTB/images/20230802_20X_23-03-001A2_DAPI_ZO-1_LDO_Mtb_Multichannel Z-Stack_20230802_1504\"\n",
    "]]\n"
   ]
  },
  {
   "cell_type": "code",
   "execution_count": 8,
   "id": "7d75fcf8-d7fe-426b-a202-9b9df581c642",
   "metadata": {},
   "outputs": [],
   "source": [
    "from macrohet.notify import send_sms"
   ]
  },
  {
   "cell_type": "code",
   "execution_count": 7,
   "id": "27bed3b8-a3ba-4ec4-a433-bee52bdf07e6",
   "metadata": {},
   "outputs": [],
   "source": [
    "import time"
   ]
  },
  {
   "cell_type": "code",
   "execution_count": null,
   "id": "427095f7-4f3f-4654-a4fc-51de8193c6f5",
   "metadata": {},
   "outputs": [],
   "source": [
    "time.sleep(60*60*24)"
   ]
  },
  {
   "cell_type": "code",
   "execution_count": null,
   "id": "d9e89ba2-65ca-415c-ab3e-781afe2a5dc0",
   "metadata": {},
   "outputs": [],
   "source": [
    "\n",
    "\n",
    "# Iterate over a list of image file paths using tqdm for progress tracking\n",
    "for image_fn in tqdm(image_fns, total=len(image_fns), desc='iterating over image volumes'):\n",
    "\n",
    "    # if not ID_extractor(image_fn) in ['1463']:#, '1317', '1319']:\n",
    "    #     print(f'{image_fn} skipped')\n",
    "    #     continue\n",
    "    # Define the output filename\n",
    "    output_fn = image_fn.replace('images', 'sc_analyses').replace('.tif', '_mphi.h5').replace('/run/user/30046150/gvfs/smb-share:server=data2.thecrick.org,share=lab-gutierrezm/home/shared/Lung on Chip/homuncu_loc_image_analysis/', \n",
    "                                                                                         '/home/dayn/data/homuncu_loc_temp/seperate_tracks/')\n",
    "    # if os.path.exists(output_fn):\n",
    "    #     continue\n",
    "    print(image_fn)\n",
    "    # if image_fn != '/run/user/30046150/gvfs/smb-share:server=data2.thecrick.org,share=lab-gutierrezm/home/shared/Lung on Chip/homuncu_loc_image_analysis/iAT1_iAT2_iVEC_macrophage_experiments/DAPI_ZO1_LDO_MTB/images/20230801_20X_23-03-001B6_DAPI_ZO-1_LDO_Mtb_Multichannel Z-Stack_20230801_1453.tif':\n",
    "    try:\n",
    "        # Read the image using imageio.imread\n",
    "        image = io.imread(image_fn)\n",
    "    except Exception as e:\n",
    "        # Code to handle the exception and print the error message\n",
    "        print(e)\n",
    "        continue\n",
    "    # # Extract the third channel (mphi_channel) from the image\n",
    "    # mphi_channel = image[..., 2]\n",
    "    \n",
    "    # # Segment the mphi_channel using custom function 'segment_channel'\n",
    "    # mphi_masks, mphi_diams = segment_channel(\n",
    "    #     mphi_channel,\n",
    "    #     diameter=60,\n",
    "    #     flow_threshold=0.99,\n",
    "    #     channels=[0, 0],\n",
    "    #     cellprob_threshold=-2,\n",
    "    #     min_mask_size=200,\n",
    "    #     return_diams=True,\n",
    "    #     start_point=None,\n",
    "    #     end_point=None\n",
    "    # )\n",
    "    # masks = mphi_masks\n",
    "\n",
    "    # Extract the 0th channel (nuclear) from the image\n",
    "    nuc_channel = image[..., 0]\n",
    "    \n",
    "    # Segment the nuc_channel using custom function 'segmestimate_channel' to get the perinuclear\n",
    "    perinuc_masks = segmestimate_channel(\n",
    "        nuc_channel,\n",
    "        min_mask_size=100,\n",
    "        start_point=None,\n",
    "        end_point=None\n",
    "    )\n",
    "    masks = perinuc_masks\n",
    "\n",
    "    # # update\n",
    "    # send_sms(f'mphi seg done {ID_extractor(image_fn)}')\n",
    "    \n",
    "    # # Extract the second channel (zo1_channel) from the image\n",
    "    # zo1_channel = image[..., 1]\n",
    "    \n",
    "    # # Segment the zo1_channel for iat2 using 'segment_channel' with specific parameters\n",
    "    # iat2_masks, iat2_diams = segment_channel(\n",
    "    #     zo1_channel,\n",
    "    #     diameter=None,\n",
    "    #     flow_threshold=0,\n",
    "    #     channels=[0, 0],\n",
    "    #     cellprob_threshold=0,\n",
    "    #     min_mask_size=200,\n",
    "    #     return_diams=True,\n",
    "    #     start_point=None,\n",
    "    #     end_point=None\n",
    "    # )\n",
    "    \n",
    "    # # update\n",
    "    # send_sms(f'iat2 seg done {ID_extractor(image_fn)}')\n",
    "    \n",
    "    # # Segment the zo1_channel for iat1 using 'segment_channel' with specific parameters\n",
    "    # iat1_masks, iat1_diams = segment_channel(\n",
    "    #     zo1_channel,\n",
    "    #     diameter=150,\n",
    "    #     flow_threshold=0.99,\n",
    "    #     channels=[0, 0],\n",
    "    #     cellprob_threshold=-3,\n",
    "    #     min_mask_size=2500,\n",
    "    #     return_diams=True,\n",
    "    #     start_point=None,\n",
    "    #     end_point=None\n",
    "    # )\n",
    "    \n",
    "    # # update\n",
    "    # send_sms(f'iat1 seg done {ID_extractor(image_fn)}')\n",
    "    \n",
    "    # # Loop over three different mask types: mphi_masks, iat2_masks, iat1_masks\n",
    "    # for n, masks in tqdm(enumerate([mphi_masks, iat2_masks, iat1_masks]), total=3):\n",
    "        \n",
    "    # Convert the segmentation masks to objects using btrack\n",
    "    objects = btrack.utils.segmentation_to_objects(\n",
    "        segmentation=perinuc_masks,\n",
    "        intensity_image=image,\n",
    "        properties=props,\n",
    "        use_weighted_centroid=False,\n",
    "        assign_class_ID=True,\n",
    "    )\n",
    "\n",
    "    # update\n",
    "    # send_sms(f'object localisation {n, ID_extractor(image_fn)} done')\n",
    "\n",
    "    \n",
    "    # Check if mtb infected above threshold and measure mtb properties for each cell\n",
    "    threshold = 230\n",
    "    mtb_ch = 3\n",
    "    \n",
    "    for o in tqdm(objects, desc='Measuring Mtb properties of each cell'):\n",
    "        coordinates = np.argwhere(masks[o.t] == o.properties['class_id'])\n",
    "        pixel_values = image[o.t, coordinates[:, 0], coordinates[:, 1]]\n",
    "        mtb_status = np.any(pixel_values[:,mtb_ch] > threshold)\n",
    "        mtb_area = np.sum(pixel_values[:,mtb_ch] > threshold)\n",
    "        o.properties['mtb_status'] = mtb_status\n",
    "        o.properties['mtb_area'] = mtb_area\n",
    "        # o.properties['pixel_values'] = pixel_values\n",
    "\n",
    "    # update\n",
    "    # send_sms(f'mtb props {n, ID_extractor(image_fn)} done')\n",
    "\n",
    "    # Initialize BayesianTracker\n",
    "    with btrack.BayesianTracker() as tracker:\n",
    "        \n",
    "        # Configure the tracker using a config file\n",
    "        tracker.configure('/home/dayn/analysis/models/loc.json')\n",
    "        \n",
    "        # Set max search radius to a very limited radius\n",
    "        tracker.max_search_radius = 5\n",
    "        \n",
    "        # Define tracking method\n",
    "        tracker.tracking_updates = [\"MOTION\", \"VISUAL\"]\n",
    "        \n",
    "        # Use visual features to track\n",
    "        tracker.features = props\n",
    "        \n",
    "        # Append the objects to be tracked\n",
    "        tracker.append(objects)\n",
    "        \n",
    "        # Set the volume\n",
    "        tracker.volume = ((0, masks.shape[1]), (0, masks.shape[2]), (-1e5, 1e5))\n",
    "        \n",
    "        # Track them (in interactive mode)\n",
    "        tracker.track(step_size=10)\n",
    "        \n",
    "        # Generate hypotheses and run the global optimizer\n",
    "        tracker.optimize()\n",
    "        \n",
    "        # Get the tracks as a Python list\n",
    "        tracks = tracker.tracks\n",
    "\n",
    "    # update\n",
    "    # send_sms(f'tracking {n, ID_extractor(image_fn)} done')\n",
    "\n",
    "    # Define the output filename\n",
    "    output_fn = image_fn.replace('images', 'sc_analyses').replace('.tif', '_mphi.h5').replace('/run/user/30046150/gvfs/smb-share:server=data2.thecrick.org,share=lab-gutierrezm/home/shared/Lung on Chip/homuncu_loc_image_analysis/', \n",
    "                                                                                         '/home/dayn/data/homuncu_loc_temp/seperate_tracks/')\n",
    "    os.makedirs(os.path.dirname(output_fn), exist_ok=True)\n",
    "    \n",
    "    # Define the object type based on the iteration index\n",
    "    obj_type = f'obj_type_{1}'\n",
    "\n",
    "\n",
    "    # Write the tracks and segmentation masks to an HDF5 file using btrack.io.HDF5FileHandler\n",
    "    with btrack.io.HDF5FileHandler(output_fn, 'w', obj_type=obj_type) as writer:\n",
    "        writer.write_tracks(tracks)\n",
    "        writer.write_segmentation(masks)\n",
    "\n",
    "    # update\n",
    "    # send_sms(f'tracks saved {n, ID_extractor(image_fn)}')\n"
   ]
  },
  {
   "cell_type": "code",
   "execution_count": 12,
   "id": "8b8e800b-fae7-49fe-b79b-232c074e3311",
   "metadata": {},
   "outputs": [
    {
     "name": "stdout",
     "output_type": "stream",
     "text": [
      "Fri Oct  6 13:59:40 2023       \n",
      "+-----------------------------------------------------------------------------+\n",
      "| NVIDIA-SMI 515.105.01   Driver Version: 515.105.01   CUDA Version: 11.7     |\n",
      "|-------------------------------+----------------------+----------------------+\n",
      "| GPU  Name        Persistence-M| Bus-Id        Disp.A | Volatile Uncorr. ECC |\n",
      "| Fan  Temp  Perf  Pwr:Usage/Cap|         Memory-Usage | GPU-Util  Compute M. |\n",
      "|                               |                      |               MIG M. |\n",
      "|===============================+======================+======================|\n",
      "|   0  NVIDIA RTX A6000    On   | 00000000:65:00.0  On |                  Off |\n",
      "| 30%   45C    P8    35W / 300W |  48464MiB / 49140MiB |     22%      Default |\n",
      "|                               |                      |                  N/A |\n",
      "+-------------------------------+----------------------+----------------------+\n",
      "                                                                               \n",
      "+-----------------------------------------------------------------------------+\n",
      "| Processes:                                                                  |\n",
      "|  GPU   GI   CI        PID   Type   Process name                  GPU Memory |\n",
      "|        ID   ID                                                   Usage      |\n",
      "|=============================================================================|\n",
      "|    0   N/A  N/A      2292      G   /usr/lib/xorg/Xorg               1066MiB |\n",
      "|    0   N/A  N/A     11268      G   /usr/bin/gnome-shell               94MiB |\n",
      "|    0   N/A  N/A     42098      G   gnome-control-center               50MiB |\n",
      "|    0   N/A  N/A     83810      G   ...AAAAAAAAA= --shared-files        6MiB |\n",
      "|    0   N/A  N/A     91460      C   .../envs/brassica/bin/python      385MiB |\n",
      "|    0   N/A  N/A    336109      G   .../envs/brassica/bin/python       25MiB |\n",
      "|    0   N/A  N/A    338054      C   .../envs/brassica/bin/python      359MiB |\n",
      "|    0   N/A  N/A    339241    C+G   .../envs/brassica/bin/python    43812MiB |\n",
      "|    0   N/A  N/A    530026      G   ...714807703712694810,262144      183MiB |\n",
      "|    0   N/A  N/A    536034      C   ...nda3/envs/aero/bin/python      421MiB |\n",
      "|    0   N/A  N/A    536386      C   ...nda3/envs/aero/bin/python      421MiB |\n",
      "|    0   N/A  N/A    536711      C   ...nda3/envs/aero/bin/python      421MiB |\n",
      "|    0   N/A  N/A    537809      C   .../envs/brassica/bin/python     1207MiB |\n",
      "+-----------------------------------------------------------------------------+\n"
     ]
    }
   ],
   "source": [
    "!nvidia-smi"
   ]
  }
 ],
 "metadata": {
  "kernelspec": {
   "display_name": "brassica",
   "language": "python",
   "name": "brassica"
  },
  "language_info": {
   "codemirror_mode": {
    "name": "ipython",
    "version": 3
   },
   "file_extension": ".py",
   "mimetype": "text/x-python",
   "name": "python",
   "nbconvert_exporter": "python",
   "pygments_lexer": "ipython3",
   "version": "3.9.17"
  }
 },
 "nbformat": 4,
 "nbformat_minor": 5
}
