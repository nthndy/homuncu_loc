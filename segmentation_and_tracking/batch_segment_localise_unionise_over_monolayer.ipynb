{
 "cells": [
  {
   "cell_type": "markdown",
   "id": "443c3842",
   "metadata": {},
   "source": [
    "# LoC localisation notebook - batch process\n",
    "\n",
    "This notebook loads a set of images and segments them based on a \"segmentation channel\" of choice. The structure of the notebook is as follows:\n",
    "\n",
    "1. Load images\n",
    "2. Segment\n",
    "3. Localise segment centroids\n",
    "4. Unite cell slices over z-stack (equivalent to track over t)\n",
    "5. Check labelling in Napari"
   ]
  },
  {
   "cell_type": "markdown",
   "id": "80ef9a9b",
   "metadata": {},
   "source": [
    "Load necessary Python packages:"
   ]
  },
  {
   "cell_type": "code",
   "execution_count": 1,
   "id": "0403fd11",
   "metadata": {},
   "outputs": [
    {
     "name": "stdout",
     "output_type": "stream",
     "text": [
      "nvcc: NVIDIA (R) Cuda compiler driver\n",
      "Copyright (c) 2005-2019 NVIDIA Corporation\n",
      "Built on Sun_Jul_28_19:07:16_PDT_2019\n",
      "Cuda compilation tools, release 10.1, V10.1.243\n",
      "Tue Aug 22 09:53:25 2023       \n",
      "+-----------------------------------------------------------------------------+\n",
      "| NVIDIA-SMI 515.105.01   Driver Version: 515.105.01   CUDA Version: 11.7     |\n",
      "|-------------------------------+----------------------+----------------------+\n",
      "| GPU  Name        Persistence-M| Bus-Id        Disp.A | Volatile Uncorr. ECC |\n",
      "| Fan  Temp  Perf  Pwr:Usage/Cap|         Memory-Usage | GPU-Util  Compute M. |\n",
      "|                               |                      |               MIG M. |\n",
      "|===============================+======================+======================|\n",
      "|   0  NVIDIA RTX A6000    On   | 00000000:65:00.0  On |                  Off |\n",
      "| 30%   44C    P8    34W / 300W |   1664MiB / 49140MiB |     19%      Default |\n",
      "|                               |                      |                  N/A |\n",
      "+-------------------------------+----------------------+----------------------+\n",
      "                                                                               \n",
      "+-----------------------------------------------------------------------------+\n",
      "| Processes:                                                                  |\n",
      "|  GPU   GI   CI        PID   Type   Process name                  GPU Memory |\n",
      "|        ID   ID                                                   Usage      |\n",
      "|=============================================================================|\n",
      "|    0   N/A  N/A    248106      G   /usr/lib/xorg/Xorg                814MiB |\n",
      "|    0   N/A  N/A    248664      G   /usr/bin/gnome-shell               92MiB |\n",
      "|    0   N/A  N/A    298293      G   ...AAAAAAAAA= --shared-files       29MiB |\n",
      "|    0   N/A  N/A    739147      G   .../envs/brassica/bin/python      183MiB |\n",
      "|    0   N/A  N/A    739387      G   .../envs/brassica/bin/python      183MiB |\n",
      "|    0   N/A  N/A    786553      G   ...veSuggestionsOnlyOnDemand       72MiB |\n",
      "|    0   N/A  N/A    786635      G   ...032443910155199331,262144      285MiB |\n",
      "+-----------------------------------------------------------------------------+\n",
      ">>> GPU activated? YES\n"
     ]
    }
   ],
   "source": [
    "import os # this module contains functions for interacting with the operating system (i.e. list files etc)\n",
    "import glob # good for finding files matching a certain extension\n",
    "from skimage import io #scikit image data in/out module (for loading/saving images)\n",
    "import napari # image viewer\n",
    "import matplotlib.pyplot as plt # figure making module, used to display two images side by side\n",
    "from tqdm.auto import tqdm # this is a counter that times how long iterative jobs take\n",
    "import numpy as np # this numerical python module is good for handling images as matrices\n",
    "import btrack # this is for \"tracking\" cells through the z-axis\n",
    "from homuncu_loc import tools # this is for a few custom tools \n",
    "import h5py # for creating an empty h5 placeholder file\n",
    "\n",
    "# print gpu information\n",
    "!nvcc --version\n",
    "!nvidia-smi\n",
    "\n",
    "# load cellpose\n",
    "from cellpose import core, utils, models, metrics\n",
    "\n",
    "# check to see if GPU can be used\n",
    "use_GPU = core.use_gpu()\n",
    "yn = ['NO', 'YES']\n",
    "print(f'>>> GPU activated? {yn[use_GPU]}')\n",
    "\n",
    "# define segmentation model parameters\n",
    "model = models.Cellpose(gpu=use_GPU, \n",
    "                        model_type='cyto') # cytoplasmic segmentation \n",
    "channels = [0,0] # this means using a grayscale image for both nuclei and cyto channels (even if not using nuclei, still have to say its same colour [greyscale = 0])"
   ]
  },
  {
   "cell_type": "markdown",
   "id": "017be436",
   "metadata": {},
   "source": [
    "## 1. Load images\n",
    "\n",
    "The first step here is to define a base directory where different images for analysis are stored. By defining the path to this directory as a python variable we will reduce the need for long string input of future image paths. "
   ]
  },
  {
   "cell_type": "code",
   "execution_count": 2,
   "id": "6794d0e1",
   "metadata": {},
   "outputs": [
    {
     "name": "stdout",
     "output_type": "stream",
     "text": [
      "Here are the experimental data sets contained within base_dir:\n",
      "['results', 'Job_1', 'Job_Mtb area']\n"
     ]
    }
   ],
   "source": [
    "# take note of root directories on server and local equivalent for saving of dir structure locally\n",
    "base_dir = server_rootdir = '/run/user/30046150/gvfs/smb-share:server=data2.thecrick.org,share=lab-gutierrezm/home/shared/Lung on Chip/image analysis_Nathan/' #Job_Mtb area\n",
    "# this is the root directory where files will be saved locally\n",
    "local_rootdir = '/home/dayn/data/homuncu_loc_temp'\n",
    "print('Here are the experimental data sets contained within base_dir:')\n",
    "print(os.listdir(base_dir))"
   ]
  },
  {
   "cell_type": "code",
   "execution_count": 3,
   "id": "9f2246c2",
   "metadata": {},
   "outputs": [
    {
     "name": "stdout",
     "output_type": "stream",
     "text": [
      "Here are the image data sets contained within the base directory:\n",
      "Job_1/DAPI-SPC-PDPN-ZO1/Day14_breath/20x_21-12-029B_A12346_Multichannel Z-Stack_20220819_295.tif\n",
      "Job_1/DAPI-SPC-PDPN-ZO1/Day14_breath/20x_21-12-029B_A12346_Multichannel Z-Stack_20220819_292.tif\n",
      "Job_1/DAPI-SPC-PDPN-ZO1/Day14_breath/20x_21-12-029B_A12346_Multichannel Z-Stack_20220819_298.tif\n",
      "Job_1/DAPI-SPC-PDPN-ZO1/Day14_static/20x_21-12-028A_A23456_Multichannel Z-Stack_20220818_246.tif\n",
      "Job_1/DAPI-SPC-PDPN-ZO1/Day14_static/20x_21-12-028A_A23456_Multichannel Z-Stack_20220818_245.tif\n",
      "Job_1/DAPI-SPC-PDPN-ZO1/Day14_static/20x_21-12-028A_A23456_Multichannel Z-Stack_20220818_244.tif\n",
      "Job_1/DAPI-SPC-PDPN-ZO1/Day7_breath/20x_21-12-029A_A3456_Multichannel Z-Stack_20220818_196.tif\n",
      "Job_1/DAPI-SPC-PDPN-ZO1/Day7_breath/20x_21-12-029A_A3456_Multichannel Z-Stack_20220818_195.tif\n",
      "Job_1/DAPI-SPC-PDPN-ZO1/Day7_breath/20x_21-12-029A_A3456_Multichannel Z-Stack_20220818_194.tif\n",
      "Job_1/DAPI-SPC-PDPN-ZO1/Day7_static/20x_21-12-031B_A12456_Multichannel Z-Stack_20220811_121.tif\n",
      "Job_1/DAPI-SPC-PDPN-ZO1/Day7_static/20x_21-12-031B_A12456_Multichannel Z-Stack_20220811_122.tif\n",
      "Job_1/DAPI-SPC-PDPN-ZO1/Day7_static/20x_21-12-031B_A12456_Multichannel Z-Stack_20220811_123.tif\n",
      "Job_1/DAPI-NKX21-PDPN-ZO1/Day14_breath/20x_21-12-029B_A12346_Multichannel Z-Stack_20220819_286.tif\n",
      "Job_1/DAPI-NKX21-PDPN-ZO1/Day14_breath/20x_21-12-029B_A12346_Multichannel Z-Stack_20220819_287.tif\n",
      "Job_1/DAPI-NKX21-PDPN-ZO1/Day14_breath/20x_21-12-029B_A12346_Multichannel Z-Stack_20220819_284.tif\n",
      "Job_1/DAPI-NKX21-PDPN-ZO1/Day14_static/20x_21-12-028A_A23456_Multichannel Z-Stack_20220818_235.tif\n",
      "Job_1/DAPI-NKX21-PDPN-ZO1/Day14_static/20x_21-12-028A_A23456_Multichannel Z-Stack_20220818_236.tif\n",
      "Job_1/DAPI-NKX21-PDPN-ZO1/Day14_static/20x_21-12-028A_A23456_Multichannel Z-Stack_20220818_237.tif\n",
      "Job_1/DAPI-NKX21-PDPN-ZO1/Day7_static/20x_21-12-031B_A12456_Multichannel Z-Stack_20220811_113.tif\n",
      "Job_1/DAPI-NKX21-PDPN-ZO1/Day7_static/20x_21-12-031B_A12456_Multichannel Z-Stack_20220811_112.tif\n",
      "Job_Mtb area/run2_23-02-104/48h pi/20230718_20X_23-02-104B2_Multichannel Z-Stack_20230718_1365.tif\n",
      "Job_Mtb area/run2_23-02-104/48h pi/20230718_20X_23-02-104B2_Multichannel Z-Stack_20230718_1363.tif\n",
      "Job_Mtb area/run2_23-02-104/48h pi/20230718_20X_23-02-104B2_Multichannel Z-Stack_20230718_1361.tif\n",
      "Job_Mtb area/run2_23-02-104/48h pi/20230718_20X_23-02-104B2_Multichannel Z-Stack_20230718_1362.tif\n",
      "Job_Mtb area/run2_23-02-104/48h pi/20230718_20X_23-02-104B2_Multichannel Z-Stack_20230718_1364.tif\n",
      "Job_Mtb area/run2_23-02-104/2h pi/20230714_20X_23-02-104A4_Multichannel Z-Stack_20230714_1343.tif\n",
      "Job_Mtb area/run2_23-02-104/2h pi/20230714_20X_23-02-104A4_Multichannel Z-Stack_20230714_1342.tif\n",
      "Job_Mtb area/run2_23-02-104/2h pi/20230714_20X_23-02-104A4_Multichannel Z-Stack_20230714_1344.tif\n",
      "Job_Mtb area/run2_23-02-104/2h pi/20230714_20X_23-02-104A4_Multichannel Z-Stack_20230714_1341.tif\n",
      "Job_Mtb area/run2_23-02-104/2h pi/20230714_20X_23-02-104A4_Multichannel Z-Stack_20230714_1340.tif\n",
      "Job_Mtb area/run1_23-01-001_23-01-005/48h pi/20230707_40X_23-01-005A3_Multichannel Z-Stack_20230707_1325.tif\n",
      "Job_Mtb area/run1_23-01-001_23-01-005/48h pi/20230707_40X_23-01-005A3_Multichannel Z-Stack_20230707_1324.tif\n",
      "Job_Mtb area/run1_23-01-001_23-01-005/48h pi/20230705_40X_23-01-005A3_Multichannel Z-Stack_20230705_1309.tif\n",
      "Job_Mtb area/run1_23-01-001_23-01-005/48h pi/20230705_40X_23-01-005A3_Multichannel Z-Stack_20230705_1306.tif\n",
      "Job_Mtb area/run1_23-01-001_23-01-005/48h pi/20230705_40X_23-01-005A3_Multichannel Z-Stack_20230705_1308.tif\n",
      "Job_Mtb area/run1_23-01-001_23-01-005/48h pi/20230705_40X_23-01-005A3_Multichannel Z-Stack_20230705_1307.tif\n",
      "Job_Mtb area/run1_23-01-001_23-01-005/48h pi/20230705_40X_23-01-005A3_Multichannel Z-Stack_20230705_1311.tif\n",
      "Job_Mtb area/run1_23-01-001_23-01-005/48h pi/20230705_40X_23-01-005A3_Multichannel Z-Stack_20230705_1310.tif\n",
      "Job_Mtb area/run1_23-01-001_23-01-005/2h pi/20230707_40X_23-01-001A3_Multichannel Z-Stack_20230707_1318.tif\n",
      "Job_Mtb area/run1_23-01-001_23-01-005/2h pi/20230707_40X_23-01-001A3_Multichannel Z-Stack_20230707_1319.tif\n",
      "Job_Mtb area/run1_23-01-001_23-01-005/2h pi/20230707_40X_23-01-001A3_Multichannel Z-Stack_20230707_1317.tif\n",
      "Job_Mtb area/run1_23-01-001_23-01-005/2h pi/20230707_40X_23-01-001A3_Multichannel Z-Stack_20230707_1313.tif\n",
      "Job_Mtb area/run1_23-01-001_23-01-005/2h pi/20230707_40X_23-01-001A3_Multichannel Z-Stack_20230707_1316.tif\n",
      "Job_Mtb area/run1_23-01-001_23-01-005/2h pi/20230707_40X_23-01-001A3_Multichannel Z-Stack_20230707_1315.tif\n",
      "Job_Mtb area/run1_23-01-001_23-01-005/2h pi/20230707_40X_23-01-001A3_Multichannel Z-Stack_20230707_1320.tif\n",
      "Job_Mtb area/run1_23-01-001_23-01-005/2h pi/20230707_40X_23-01-001A3_Multichannel Z-Stack_20230707_1314.tif\n",
      "Job_Mtb area/run3/23-03-002/20230801_20X_23-03-002A6_DAPI_SP-C_PDPN_ZO-1_Multichannel Z-Stack_20230801_1444.tif\n",
      "Job_Mtb area/run3/23-03-002/20230801_20X_23-03-002A5_DAPI_NKX201_PDPN_ZO-1_Multichannel Z-Stack_20230801_1441.tif\n",
      "Job_Mtb area/run3/23-03-011/20230801_20X_23-03-011B5_DAPI_NKX2-1_PDPN_ZO-1_Multichannel Z-Stack_20230801_1434.tif\n"
     ]
    }
   ],
   "source": [
    "print('Here are the image data sets contained within the base directory:')\n",
    "image_file_list = list()\n",
    "\n",
    "for root, dirs, files in os.walk(base_dir):\n",
    "    for file in files:\n",
    "        if file.endswith('.tif'):\n",
    "            image_file_list.append(os.path.join(root, file))\n",
    "\n",
    "for image_file in image_file_list:\n",
    "    folder_up = os.path.relpath(os.path.dirname(image_file), base_dir)\n",
    "    file_name = os.path.basename(image_file)\n",
    "    print(f'{folder_up}/{file_name}')"
   ]
  },
  {
   "cell_type": "markdown",
   "id": "e9a495c0",
   "metadata": {},
   "source": [
    "Next we will pick some specific images to do, one image per directory to begin with"
   ]
  },
  {
   "cell_type": "code",
   "execution_count": 11,
   "id": "a6203601",
   "metadata": {
    "scrolled": true
   },
   "outputs": [
    {
     "name": "stdout",
     "output_type": "stream",
     "text": [
      "Selecting one image from each directory:\n",
      "run2_23-02-104/48h pi/20230718_20X_23-02-104B2_Multichannel Z-Stack_20230718_1365.tif\n",
      "run2_23-02-104/2h pi/20230714_20X_23-02-104A4_Multichannel Z-Stack_20230714_1343.tif\n",
      "run1_23-01-001_23-01-005/48h pi/20230707_40X_23-01-005A3_Multichannel Z-Stack_20230707_1325.tif\n",
      "run1_23-01-001_23-01-005/2h pi/20230707_40X_23-01-001A3_Multichannel Z-Stack_20230707_1318.tif\n",
      "run3/23-03-002/20230801_20X_23-03-002A6_DAPI_SP-C_PDPN_ZO-1_Multichannel Z-Stack_20230801_1444.tif\n",
      "run3/23-03-011/20230801_20X_23-03-011B5_DAPI_NKX2-1_PDPN_ZO-1_Multichannel Z-Stack_20230801_1434.tif\n"
     ]
    }
   ],
   "source": [
    "print('Selecting one image from each directory:')\n",
    "image_file_list = list()\n",
    "unique_folders = set()\n",
    "# collect file names (one per )\n",
    "for root, dirs, files in os.walk(base_dir):\n",
    "    for file in files:\n",
    "        if file.endswith('.tif'):\n",
    "            folder_path = os.path.dirname(os.path.join(root, file))\n",
    "            if folder_path not in unique_folders:\n",
    "                unique_folders.add(folder_path)\n",
    "                image_file_list.append(os.path.join(root, file))\n",
    "                break  # Move to the next folder after adding one image.\n",
    "\n",
    "# print file names\n",
    "for image_file in image_file_list:\n",
    "    folder_up = os.path.relpath(os.path.dirname(image_file), base_dir)\n",
    "    file_name = os.path.basename(image_file)\n",
    "    print(f'{folder_up}/{file_name}')"
   ]
  },
  {
   "cell_type": "markdown",
   "id": "4320fd1c",
   "metadata": {},
   "source": [
    "Or filter for images you DO NOT want to use"
   ]
  },
  {
   "cell_type": "code",
   "execution_count": 5,
   "id": "c26b6686",
   "metadata": {},
   "outputs": [],
   "source": [
    "IDs = ['1306', # only 3 z slices  \n",
    "       '1343', '1342', '1344', '1341' # ZO1 not quite there\n",
    "      ]\n",
    "\n",
    "# Use a list comprehension to filter the image_file_list and remove filenames containing faulty IDs\n",
    "image_file_list = [fn for fn in image_file_list if not any(ID in fn for ID in IDs)]\n"
   ]
  },
  {
   "cell_type": "markdown",
   "id": "eebcf588-1635-4367-a1c7-3a43a4d7a39e",
   "metadata": {},
   "source": [
    "Or filter for images you DO want to use"
   ]
  },
  {
   "cell_type": "code",
   "execution_count": 4,
   "id": "f0f7c7b4-dbbc-4c51-a350-9464aacdadef",
   "metadata": {},
   "outputs": [],
   "source": [
    "IDs = ['1434', '1444', '1441'\n",
    "      ]\n",
    "\n",
    "# Use a list comprehension to filter the image_file_list and include filenames containing IDs\n",
    "image_file_list = [fn for fn in image_file_list if any(ID in fn for ID in IDs)]\n"
   ]
  },
  {
   "cell_type": "markdown",
   "id": "370970db-18c6-4a63-b935-aeb3caf077f0",
   "metadata": {},
   "source": [
    "#### Set a few options before initiating analysis\n",
    "\n",
    "These params can change between image datasets"
   ]
  },
  {
   "cell_type": "code",
   "execution_count": 5,
   "id": "691f69df-e3ae-413e-8036-68455d2f8e07",
   "metadata": {},
   "outputs": [],
   "source": [
    "# measure mtb?\n",
    "mtb_measure = False\n",
    "# set zo1 as mask input channel\n",
    "mask_input_channel_enumeration = -1"
   ]
  },
  {
   "cell_type": "markdown",
   "id": "c6ebab8f",
   "metadata": {},
   "source": [
    "# Batch process"
   ]
  },
  {
   "cell_type": "code",
   "execution_count": 7,
   "id": "251e91a5",
   "metadata": {
    "scrolled": true
   },
   "outputs": [
    {
     "data": {
      "application/vnd.jupyter.widget-view+json": {
       "model_id": "4949950b551e48b183c524fd47901efa",
       "version_major": 2,
       "version_minor": 0
      },
      "text/plain": [
       "Iterating over images:   0%|          | 0/3 [00:00<?, ?it/s]"
      ]
     },
     "metadata": {},
     "output_type": "display_data"
    },
    {
     "name": "stdout",
     "output_type": "stream",
     "text": [
      "Loaded image: run3/23-03-011/20230801_20X_23-03-011B5_DAPI_NKX2-1_PDPN_ZO-1_Multichannel Z-Stack_20230801_1434.tif\n"
     ]
    },
    {
     "data": {
      "application/vnd.jupyter.widget-view+json": {
       "model_id": "51c804bd3e1f496fb05bf3c29df6c269",
       "version_major": 2,
       "version_minor": 0
      },
      "text/plain": [
       "Checking where the cells are in the image stack:   0%|          | 0/61 [00:00<?, ?it/s]"
      ]
     },
     "metadata": {},
     "output_type": "display_data"
    },
    {
     "data": {
      "application/vnd.jupyter.widget-view+json": {
       "model_id": "317b75fe142c4b4e9c17fcfde2c58584",
       "version_major": 2,
       "version_minor": 0
      },
      "text/plain": [
       "Segmenting image stack:   0%|          | 0/61 [00:00<?, ?it/s]"
      ]
     },
     "metadata": {},
     "output_type": "display_data"
    },
    {
     "name": "stderr",
     "output_type": "stream",
     "text": [
      "[INFO][2023/08/17 03:05:41 PM] Localizing objects from segmentation...\n",
      "100%|██████████████████████████████████████████████████████████| 61/61 [01:01<00:00,  1.00s/it]\n",
      "[INFO][2023/08/17 03:06:42 PM] Objects are of type: <class 'dict'>\n",
      "[INFO][2023/08/17 03:06:44 PM] ...Found 172246 objects in 61 frames.\n",
      "[INFO][2023/08/17 03:06:44 PM] Loaded btrack: /home/dayn/analysis/btrack/btrack/libs/libtracker.so\n",
      "[INFO][2023/08/17 03:06:44 PM] Starting BayesianTracker session\n",
      "[INFO][2023/08/17 03:06:44 PM] Loading configuration file: /home/dayn/analysis/btrack/models/particle_config.json\n",
      "[INFO][2023/08/17 03:06:44 PM] Objects are of type: <class 'list'>\n"
     ]
    },
    {
     "name": "stdout",
     "output_type": "stream",
     "text": [
      "115806 cell objects found in 61 frames/z-slices\n"
     ]
    },
    {
     "name": "stderr",
     "output_type": "stream",
     "text": [
      "[INFO][2023/08/17 03:06:46 PM] Starting tracking... \n",
      "[INFO][2023/08/17 03:06:46 PM] Update using: ['MOTION', 'VISUAL']\n",
      "[INFO][2023/08/17 03:06:50 PM] Tracking objects in frames 0 to 9 (of 60)...\n",
      "[INFO][2023/08/17 03:13:13 PM]  - Timing (Bayesian updates: 24302.27ms, Linking: 53.30ms)\n",
      "[INFO][2023/08/17 03:13:13 PM]  - Probabilities (Link: 1.00000, Lost: 0.99957)\n",
      "[INFO][2023/08/17 03:13:13 PM]  - Stats (Active: 4089, Lost: 646, Conflicts resolved: 6243)\n",
      "[INFO][2023/08/17 03:13:13 PM] Tracking objects in frames 10 to 19 (of 60)...\n",
      "[INFO][2023/08/17 03:21:03 PM]  - Timing (Bayesian updates: 19855.20ms, Linking: 47.99ms)\n",
      "[INFO][2023/08/17 03:21:03 PM]  - Probabilities (Link: 1.00000, Lost: 1.00000)\n",
      "[INFO][2023/08/17 03:21:03 PM]  - Stats (Active: 3671, Lost: 825, Conflicts resolved: 7961)\n",
      "[INFO][2023/08/17 03:21:03 PM] Tracking objects in frames 20 to 29 (of 60)...\n",
      "[INFO][2023/08/17 03:28:52 PM]  - Timing (Bayesian updates: 17357.09ms, Linking: 47.08ms)\n",
      "[INFO][2023/08/17 03:28:52 PM]  - Probabilities (Link: 1.00000, Lost: 0.93026)\n",
      "[INFO][2023/08/17 03:28:52 PM]  - Stats (Active: 3887, Lost: 1509, Conflicts resolved: 8981)\n",
      "[INFO][2023/08/17 03:28:52 PM] Tracking objects in frames 30 to 39 (of 60)...\n",
      "[INFO][2023/08/17 03:29:56 PM]  - Timing (Bayesian updates: 0.12ms, Linking: 1.28ms)\n",
      "[INFO][2023/08/17 03:29:56 PM]  - Probabilities (Link: 0.99999, Lost: 1.00000)\n",
      "[INFO][2023/08/17 03:29:56 PM]  - Stats (Active: 583, Lost: 13439, Conflicts resolved: 12292)\n",
      "[INFO][2023/08/17 03:29:56 PM] Tracking objects in frames 40 to 49 (of 60)...\n",
      "[INFO][2023/08/17 03:29:56 PM]  - Timing (Bayesian updates: 0.02ms, Linking: 0.10ms)\n",
      "[INFO][2023/08/17 03:29:56 PM]  - Probabilities (Link: 1.00000, Lost: 1.00000)\n",
      "[INFO][2023/08/17 03:29:56 PM]  - Stats (Active: 18, Lost: 14028, Conflicts resolved: 12295)\n",
      "[INFO][2023/08/17 03:29:56 PM] Tracking objects in frames 50 to 59 (of 60)...\n",
      "[INFO][2023/08/17 03:29:56 PM]  - Timing (Bayesian updates: 0.00ms, Linking: 0.03ms)\n",
      "[INFO][2023/08/17 03:29:56 PM]  - Probabilities (Link: 1.00000, Lost: 1.00000)\n",
      "[INFO][2023/08/17 03:29:56 PM] SUCCESS.\n",
      "[INFO][2023/08/17 03:29:56 PM]  - Found 7036 tracks in 60 frames (in 0.0s)\n",
      "[INFO][2023/08/17 03:29:56 PM]  - Inserted 3155 dummy objects to fill tracking gaps\n",
      "[INFO][2023/08/17 03:29:56 PM] Loading hypothesis model: particle_hypothesis\n",
      "[INFO][2023/08/17 03:29:56 PM] Calculating hypotheses (relax: True)...\n",
      "[INFO][2023/08/17 03:29:56 PM] Setting up constraints matrix for global optimisation...\n",
      "[INFO][2023/08/17 03:29:56 PM] Using GLPK options: {'tm_lim': 60000}...\n",
      "[INFO][2023/08/17 03:29:56 PM] Optimizing...\n",
      "[INFO][2023/08/17 03:29:59 PM] Optimization complete. (Solution: optimal)\n",
      "[INFO][2023/08/17 03:29:59 PM]  - Fates.FALSE_POSITIVE: 2045 (of 7036)\n",
      "[INFO][2023/08/17 03:29:59 PM]  - Fates.LINK: 979 (of 2818)\n",
      "[INFO][2023/08/17 03:29:59 PM]  - Fates.INITIALIZE_BORDER: 111 (of 171)\n",
      "[INFO][2023/08/17 03:29:59 PM]  - Fates.INITIALIZE_FRONT: 1966 (of 3094)\n",
      "[INFO][2023/08/17 03:29:59 PM]  - Fates.INITIALIZE_LAZY: 1935 (of 3771)\n",
      "[INFO][2023/08/17 03:29:59 PM]  - Fates.TERMINATE_BORDER: 152 (of 234)\n",
      "[INFO][2023/08/17 03:29:59 PM]  - Fates.TERMINATE_BACK: 2 (of 3)\n",
      "[INFO][2023/08/17 03:29:59 PM]  - Fates.TERMINATE_LAZY: 3858 (of 6799)\n",
      "[INFO][2023/08/17 03:29:59 PM]  - TOTAL: 23926 hypotheses\n",
      "[INFO][2023/08/17 03:29:59 PM] Completed optimization with 6057 tracks\n"
     ]
    },
    {
     "name": "stdout",
     "output_type": "stream",
     "text": [
      "GLPK Integer Optimizer 5.0\n",
      "28144 rows, 23926 columns, 33780 non-zeros\n",
      "23926 integer variables, all of which are binary\n",
      "Preprocessing...\n",
      "14072 rows, 23926 columns, 33780 non-zeros\n",
      "23926 integer variables, all of which are binary\n",
      "Scaling...\n",
      " A: min|aij| =  1.000e+00  max|aij| =  1.000e+00  ratio =  1.000e+00\n",
      "Problem data seem to be well scaled\n",
      "Constructing initial basis...\n",
      "Size of triangular part is 14072\n",
      "Solving LP relaxation...\n",
      "GLPK Simplex Optimizer 5.0\n",
      "14072 rows, 23926 columns, 33780 non-zeros\n",
      "*     0: obj =   7.431210144e+04 inf =   0.000e+00 (5752)\n",
      "Perturbing LP to avoid stalling [1178]...\n",
      "Removing LP perturbation [5271]...\n",
      "*  5271: obj =   4.981838288e+04 inf =   0.000e+00 (0) 2\n",
      "OPTIMAL LP SOLUTION FOUND\n",
      "Integer optimization begins...\n",
      "Long-step dual simplex will be used\n",
      "+  5271: mip =     not found yet >=              -inf        (1; 0)\n",
      "+  5271: >>>>>   4.981838288e+04 >=   4.981838288e+04   0.0% (1; 0)\n",
      "+  5271: mip =   4.981838288e+04 >=     tree is empty   0.0% (0; 1)\n",
      "INTEGER OPTIMAL SOLUTION FOUND\n"
     ]
    },
    {
     "name": "stderr",
     "output_type": "stream",
     "text": [
      "[INFO][2023/08/17 03:29:59 PM] Ending BayesianTracker session\n",
      "[INFO][2023/08/17 03:30:00 PM] Opening HDF file: /home/dayn/data/homuncu_loc_temp/run3/23-03-011/20230801_20X_23-03-011B5_DAPI_NKX2-1_PDPN_ZO-1_Multichannel Z-Stack_20230801_1434_z_tracks_masks.h5...\n",
      "[INFO][2023/08/17 03:30:01 PM] Writing objects/obj_type_1\n",
      "[INFO][2023/08/17 03:30:01 PM] Writing labels/obj_type_1\n",
      "[INFO][2023/08/17 03:30:01 PM] Loading objects/obj_type_1 (103813, 5) (103813 filtered: None)\n",
      "[INFO][2023/08/17 03:30:02 PM] Writing properties/obj_type_1/axis_major_length (103813,)\n",
      "[INFO][2023/08/17 03:30:02 PM] Writing properties/obj_type_1/axis_minor_length (103813,)\n",
      "[INFO][2023/08/17 03:30:02 PM] Writing properties/obj_type_1/eccentricity (103813,)\n",
      "[INFO][2023/08/17 03:30:02 PM] Writing properties/obj_type_1/area (103813,)\n",
      "[INFO][2023/08/17 03:30:02 PM] Writing properties/obj_type_1/orientation (103813,)\n",
      "[INFO][2023/08/17 03:30:02 PM] Writing properties/obj_type_1/mean_intensity (103813, 4)\n",
      "[INFO][2023/08/17 03:30:02 PM] Writing tracks/obj_type_1\n",
      "[INFO][2023/08/17 03:30:02 PM] Writing dummies/obj_type_1\n",
      "[INFO][2023/08/17 03:30:02 PM] Writing LBEP/obj_type_1\n",
      "[INFO][2023/08/17 03:30:02 PM] Writing fates/obj_type_1\n",
      "[INFO][2023/08/17 03:30:07 PM] Closing HDF file: /home/dayn/data/homuncu_loc_temp/run3/23-03-011/20230801_20X_23-03-011B5_DAPI_NKX2-1_PDPN_ZO-1_Multichannel Z-Stack_20230801_1434_z_tracks_masks.h5\n"
     ]
    },
    {
     "name": "stdout",
     "output_type": "stream",
     "text": [
      "Loaded image: run3/23-03-002/20230801_20X_23-03-002A5_DAPI_NKX201_PDPN_ZO-1_Multichannel Z-Stack_20230801_1441.tif\n"
     ]
    },
    {
     "data": {
      "application/vnd.jupyter.widget-view+json": {
       "model_id": "610da480adfb49ba9660facc6105b16c",
       "version_major": 2,
       "version_minor": 0
      },
      "text/plain": [
       "Checking where the cells are in the image stack:   0%|          | 0/51 [00:00<?, ?it/s]"
      ]
     },
     "metadata": {},
     "output_type": "display_data"
    },
    {
     "data": {
      "application/vnd.jupyter.widget-view+json": {
       "model_id": "6ecb245a14824083bd216628982fa19d",
       "version_major": 2,
       "version_minor": 0
      },
      "text/plain": [
       "Segmenting image stack:   0%|          | 0/51 [00:00<?, ?it/s]"
      ]
     },
     "metadata": {},
     "output_type": "display_data"
    },
    {
     "name": "stderr",
     "output_type": "stream",
     "text": [
      "[INFO][2023/08/17 03:41:32 PM] Localizing objects from segmentation...\n",
      "100%|██████████████████████████████████████████████████████████| 51/51 [00:50<00:00,  1.02it/s]\n",
      "[INFO][2023/08/17 03:42:22 PM] Objects are of type: <class 'dict'>\n",
      "[INFO][2023/08/17 03:42:23 PM] ...Found 137787 objects in 51 frames.\n",
      "[INFO][2023/08/17 03:42:24 PM] Loaded btrack: /home/dayn/analysis/btrack/btrack/libs/libtracker.so\n",
      "[INFO][2023/08/17 03:42:24 PM] Starting BayesianTracker session\n",
      "[INFO][2023/08/17 03:42:24 PM] Loading configuration file: /home/dayn/analysis/btrack/models/particle_config.json\n",
      "[INFO][2023/08/17 03:42:24 PM] Objects are of type: <class 'list'>\n"
     ]
    },
    {
     "name": "stdout",
     "output_type": "stream",
     "text": [
      "85539 cell objects found in 51 frames/z-slices\n"
     ]
    },
    {
     "name": "stderr",
     "output_type": "stream",
     "text": [
      "[INFO][2023/08/17 03:42:25 PM] Starting tracking... \n",
      "[INFO][2023/08/17 03:42:25 PM] Update using: ['MOTION', 'VISUAL']\n",
      "[INFO][2023/08/17 03:42:50 PM] Tracking objects in frames 0 to 9 (of 51)...\n",
      "[INFO][2023/08/17 03:49:59 PM]  - Timing (Bayesian updates: 19984.99ms, Linking: 48.75ms)\n",
      "[INFO][2023/08/17 03:49:59 PM]  - Probabilities (Link: 1.00000, Lost: 0.60911)\n",
      "[INFO][2023/08/17 03:49:59 PM]  - Stats (Active: 3742, Lost: 446, Conflicts resolved: 3321)\n",
      "[INFO][2023/08/17 03:49:59 PM] Tracking objects in frames 10 to 19 (of 51)...\n",
      "[INFO][2023/08/17 03:57:16 PM]  - Timing (Bayesian updates: 13821.51ms, Linking: 43.33ms)\n",
      "[INFO][2023/08/17 03:57:16 PM]  - Probabilities (Link: 1.00000, Lost: 0.99513)\n",
      "[INFO][2023/08/17 03:57:16 PM]  - Stats (Active: 3806, Lost: 1436, Conflicts resolved: 5147)\n",
      "[INFO][2023/08/17 03:57:16 PM] Tracking objects in frames 20 to 29 (of 51)...\n",
      "[INFO][2023/08/17 03:58:16 PM]  - Timing (Bayesian updates: 0.72ms, Linking: 1.98ms)\n",
      "[INFO][2023/08/17 03:58:16 PM]  - Probabilities (Link: 0.99999, Lost: 1.00000)\n",
      "[INFO][2023/08/17 03:58:16 PM]  - Stats (Active: 1186, Lost: 12752, Conflicts resolved: 8526)\n",
      "[INFO][2023/08/17 03:58:16 PM] Tracking objects in frames 30 to 39 (of 51)...\n",
      "[INFO][2023/08/17 03:58:16 PM]  - Timing (Bayesian updates: 0.01ms, Linking: 0.05ms)\n",
      "[INFO][2023/08/17 03:58:16 PM]  - Probabilities (Link: 1.00000, Lost: 1.00000)\n",
      "[INFO][2023/08/17 03:58:16 PM]  - Stats (Active: 22, Lost: 13740, Conflicts resolved: 8537)\n",
      "[INFO][2023/08/17 03:58:16 PM] Tracking objects in frames 40 to 49 (of 51)...\n",
      "[INFO][2023/08/17 03:58:16 PM]  - Timing (Bayesian updates: 0.01ms, Linking: 0.05ms)\n",
      "[INFO][2023/08/17 03:58:16 PM]  - Probabilities (Link: 1.00000, Lost: 1.00000)\n",
      "[INFO][2023/08/17 03:58:16 PM] SUCCESS.\n",
      "[INFO][2023/08/17 03:58:16 PM]  - Found 5457 tracks in 51 frames (in 0.0s)\n",
      "[INFO][2023/08/17 03:58:16 PM]  - Inserted 1991 dummy objects to fill tracking gaps\n",
      "[INFO][2023/08/17 03:58:16 PM] Loading hypothesis model: particle_hypothesis\n",
      "[INFO][2023/08/17 03:58:16 PM] Calculating hypotheses (relax: True)...\n",
      "[INFO][2023/08/17 03:58:16 PM] Setting up constraints matrix for global optimisation...\n",
      "[INFO][2023/08/17 03:58:16 PM] Using GLPK options: {'tm_lim': 60000}...\n",
      "[INFO][2023/08/17 03:58:16 PM] Optimizing...\n",
      "[INFO][2023/08/17 03:58:17 PM] Optimization complete. (Solution: optimal)\n",
      "[INFO][2023/08/17 03:58:17 PM]  - Fates.FALSE_POSITIVE: 1236 (of 5457)\n",
      "[INFO][2023/08/17 03:58:17 PM]  - Fates.LINK: 392 (of 920)\n",
      "[INFO][2023/08/17 03:58:17 PM]  - Fates.INITIALIZE_BORDER: 26 (of 57)\n",
      "[INFO][2023/08/17 03:58:17 PM]  - Fates.INITIALIZE_FRONT: 3032 (of 3837)\n",
      "[INFO][2023/08/17 03:58:17 PM]  - Fates.INITIALIZE_LAZY: 771 (of 1563)\n",
      "[INFO][2023/08/17 03:58:17 PM]  - Fates.TERMINATE_BORDER: 126 (of 176)\n",
      "[INFO][2023/08/17 03:58:17 PM]  - Fates.TERMINATE_BACK: 3 (of 4)\n",
      "[INFO][2023/08/17 03:58:17 PM]  - Fates.TERMINATE_LAZY: 3700 (of 5277)\n",
      "[INFO][2023/08/17 03:58:17 PM]  - TOTAL: 17291 hypotheses\n",
      "[INFO][2023/08/17 03:58:17 PM] Completed optimization with 5065 tracks\n"
     ]
    },
    {
     "name": "stdout",
     "output_type": "stream",
     "text": [
      "GLPK Integer Optimizer 5.0\n",
      "21828 rows, 17291 columns, 23668 non-zeros\n",
      "17291 integer variables, all of which are binary\n",
      "Preprocessing...\n",
      "10914 rows, 17291 columns, 23668 non-zeros\n",
      "17291 integer variables, all of which are binary\n",
      "Scaling...\n",
      " A: min|aij| =  1.000e+00  max|aij| =  1.000e+00  ratio =  1.000e+00\n",
      "Problem data seem to be well scaled\n",
      "Constructing initial basis...\n",
      "Size of triangular part is 10914\n",
      "Solving LP relaxation...\n",
      "GLPK Simplex Optimizer 5.0\n",
      "10914 rows, 17291 columns, 23668 non-zeros\n",
      "*     0: obj =   4.864751392e+04 inf =   0.000e+00 (2482)\n",
      "Perturbing LP to avoid stalling [726]...\n",
      "Removing LP perturbation [2405]...\n",
      "*  2405: obj =   3.721171731e+04 inf =   0.000e+00 (0)\n",
      "OPTIMAL LP SOLUTION FOUND\n",
      "Integer optimization begins...\n",
      "Long-step dual simplex will be used\n",
      "+  2405: mip =     not found yet >=              -inf        (1; 0)\n",
      "+  2405: >>>>>   3.721171731e+04 >=   3.721171731e+04   0.0% (1; 0)\n",
      "+  2405: mip =   3.721171731e+04 >=     tree is empty   0.0% (0; 1)\n",
      "INTEGER OPTIMAL SOLUTION FOUND\n"
     ]
    },
    {
     "name": "stderr",
     "output_type": "stream",
     "text": [
      "[INFO][2023/08/17 03:58:18 PM] Ending BayesianTracker session\n",
      "[INFO][2023/08/17 03:58:18 PM] Opening HDF file: /home/dayn/data/homuncu_loc_temp/run3/23-03-002/20230801_20X_23-03-002A5_DAPI_NKX201_PDPN_ZO-1_Multichannel Z-Stack_20230801_1441_z_tracks_masks.h5...\n",
      "[INFO][2023/08/17 03:58:19 PM] Writing objects/obj_type_1\n",
      "[INFO][2023/08/17 03:58:19 PM] Writing labels/obj_type_1\n",
      "[INFO][2023/08/17 03:58:19 PM] Loading objects/obj_type_1 (78488, 5) (78488 filtered: None)\n",
      "[INFO][2023/08/17 03:58:20 PM] Writing properties/obj_type_1/axis_major_length (78488,)\n",
      "[INFO][2023/08/17 03:58:20 PM] Writing properties/obj_type_1/axis_minor_length (78488,)\n",
      "[INFO][2023/08/17 03:58:20 PM] Writing properties/obj_type_1/eccentricity (78488,)\n",
      "[INFO][2023/08/17 03:58:20 PM] Writing properties/obj_type_1/area (78488,)\n",
      "[INFO][2023/08/17 03:58:20 PM] Writing properties/obj_type_1/orientation (78488,)\n",
      "[INFO][2023/08/17 03:58:20 PM] Writing properties/obj_type_1/mean_intensity (78488, 4)\n",
      "[INFO][2023/08/17 03:58:20 PM] Writing tracks/obj_type_1\n",
      "[INFO][2023/08/17 03:58:20 PM] Writing dummies/obj_type_1\n",
      "[INFO][2023/08/17 03:58:20 PM] Writing LBEP/obj_type_1\n",
      "[INFO][2023/08/17 03:58:20 PM] Writing fates/obj_type_1\n",
      "[INFO][2023/08/17 03:58:24 PM] Closing HDF file: /home/dayn/data/homuncu_loc_temp/run3/23-03-002/20230801_20X_23-03-002A5_DAPI_NKX201_PDPN_ZO-1_Multichannel Z-Stack_20230801_1441_z_tracks_masks.h5\n"
     ]
    },
    {
     "name": "stdout",
     "output_type": "stream",
     "text": [
      "Loaded image: run3/23-03-002/20230801_20X_23-03-002A6_DAPI_SP-C_PDPN_ZO-1_Multichannel Z-Stack_20230801_1444.tif\n"
     ]
    },
    {
     "data": {
      "application/vnd.jupyter.widget-view+json": {
       "model_id": "0690180473ae4de98d1fbbe9ab220136",
       "version_major": 2,
       "version_minor": 0
      },
      "text/plain": [
       "Checking where the cells are in the image stack:   0%|          | 0/51 [00:00<?, ?it/s]"
      ]
     },
     "metadata": {},
     "output_type": "display_data"
    },
    {
     "data": {
      "application/vnd.jupyter.widget-view+json": {
       "model_id": "17a234e1c3de45aaaa3f2b0ecaffd0cd",
       "version_major": 2,
       "version_minor": 0
      },
      "text/plain": [
       "Segmenting image stack:   0%|          | 0/51 [00:00<?, ?it/s]"
      ]
     },
     "metadata": {},
     "output_type": "display_data"
    },
    {
     "name": "stderr",
     "output_type": "stream",
     "text": [
      "[INFO][2023/08/17 04:08:11 PM] Localizing objects from segmentation...\n",
      "100%|██████████████████████████████████████████████████████████| 51/51 [00:44<00:00,  1.15it/s]\n",
      "[INFO][2023/08/17 04:08:55 PM] Objects are of type: <class 'dict'>\n",
      "[INFO][2023/08/17 04:08:56 PM] ...Found 97885 objects in 51 frames.\n",
      "[INFO][2023/08/17 04:08:56 PM] Loaded btrack: /home/dayn/analysis/btrack/btrack/libs/libtracker.so\n",
      "[INFO][2023/08/17 04:08:57 PM] Starting BayesianTracker session\n",
      "[INFO][2023/08/17 04:08:57 PM] Loading configuration file: /home/dayn/analysis/btrack/models/particle_config.json\n",
      "[INFO][2023/08/17 04:08:57 PM] Objects are of type: <class 'list'>\n"
     ]
    },
    {
     "name": "stdout",
     "output_type": "stream",
     "text": [
      "54670 cell objects found in 51 frames/z-slices\n"
     ]
    },
    {
     "name": "stderr",
     "output_type": "stream",
     "text": [
      "[INFO][2023/08/17 04:08:57 PM] Starting tracking... \n",
      "[INFO][2023/08/17 04:08:57 PM] Update using: ['MOTION', 'VISUAL']\n",
      "[INFO][2023/08/17 04:08:57 PM] Tracking objects in frames 0 to 9 (of 51)...\n",
      "[INFO][2023/08/17 04:09:32 PM]  - Timing (Bayesian updates: 3590.68ms, Linking: 24.01ms)\n",
      "[INFO][2023/08/17 04:09:32 PM]  - Probabilities (Link: 1.00000, Lost: 1.00000)\n",
      "[INFO][2023/08/17 04:09:32 PM]  - Stats (Active: 2452, Lost: 559, Conflicts resolved: 2686)\n",
      "[INFO][2023/08/17 04:09:32 PM] Tracking objects in frames 10 to 19 (of 51)...\n",
      "[INFO][2023/08/17 04:11:04 PM]  - Timing (Bayesian updates: 3320.42ms, Linking: 21.13ms)\n",
      "[INFO][2023/08/17 04:11:04 PM]  - Probabilities (Link: 1.00000, Lost: 0.99990)\n",
      "[INFO][2023/08/17 04:11:04 PM]  - Stats (Active: 2209, Lost: 833, Conflicts resolved: 5196)\n",
      "[INFO][2023/08/17 04:11:04 PM] Tracking objects in frames 20 to 29 (of 51)...\n",
      "[INFO][2023/08/17 04:12:09 PM]  - Timing (Bayesian updates: 775.49ms, Linking: 14.35ms)\n",
      "[INFO][2023/08/17 04:12:09 PM]  - Probabilities (Link: 1.00000, Lost: 0.99995)\n",
      "[INFO][2023/08/17 04:12:09 PM]  - Stats (Active: 2358, Lost: 3270, Conflicts resolved: 6766)\n",
      "[INFO][2023/08/17 04:12:09 PM] Tracking objects in frames 30 to 39 (of 51)...\n",
      "[INFO][2023/08/17 04:12:10 PM]  - Timing (Bayesian updates: 0.02ms, Linking: 0.06ms)\n",
      "[INFO][2023/08/17 04:12:10 PM]  - Probabilities (Link: 1.00000, Lost: 1.00000)\n",
      "[INFO][2023/08/17 04:12:10 PM]  - Stats (Active: 23, Lost: 12842, Conflicts resolved: 6950)\n",
      "[INFO][2023/08/17 04:12:10 PM] Tracking objects in frames 40 to 49 (of 51)...\n",
      "[INFO][2023/08/17 04:12:10 PM]  - Timing (Bayesian updates: 0.01ms, Linking: 0.08ms)\n",
      "[INFO][2023/08/17 04:12:10 PM]  - Probabilities (Link: 1.00000, Lost: 1.00000)\n",
      "[INFO][2023/08/17 04:12:10 PM] SUCCESS.\n",
      "[INFO][2023/08/17 04:12:10 PM]  - Found 4796 tracks in 51 frames (in 0.0s)\n",
      "[INFO][2023/08/17 04:12:10 PM]  - Inserted 1385 dummy objects to fill tracking gaps\n",
      "[INFO][2023/08/17 04:12:10 PM] Loading hypothesis model: particle_hypothesis\n",
      "[INFO][2023/08/17 04:12:10 PM] Calculating hypotheses (relax: True)...\n",
      "[INFO][2023/08/17 04:12:10 PM] Setting up constraints matrix for global optimisation...\n",
      "[INFO][2023/08/17 04:12:10 PM] Using GLPK options: {'tm_lim': 60000}...\n",
      "[INFO][2023/08/17 04:12:10 PM] Optimizing...\n",
      "[INFO][2023/08/17 04:12:11 PM] Optimization complete. (Solution: optimal)\n",
      "[INFO][2023/08/17 04:12:11 PM]  - Fates.FALSE_POSITIVE: 2160 (of 4796)\n",
      "[INFO][2023/08/17 04:12:11 PM]  - Fates.LINK: 398 (of 1572)\n",
      "[INFO][2023/08/17 04:12:11 PM]  - Fates.INITIALIZE_BORDER: 72 (of 114)\n",
      "[INFO][2023/08/17 04:12:11 PM]  - Fates.INITIALIZE_FRONT: 567 (of 835)\n",
      "[INFO][2023/08/17 04:12:11 PM]  - Fates.INITIALIZE_LAZY: 1599 (of 3847)\n",
      "[INFO][2023/08/17 04:12:11 PM]  - Fates.TERMINATE_BORDER: 93 (of 154)\n",
      "[INFO][2023/08/17 04:12:11 PM]  - Fates.TERMINATE_BACK: 10 (of 14)\n",
      "[INFO][2023/08/17 04:12:11 PM]  - Fates.TERMINATE_LAZY: 2135 (of 4628)\n",
      "[INFO][2023/08/17 04:12:11 PM]  - TOTAL: 15960 hypotheses\n",
      "[INFO][2023/08/17 04:12:12 PM] Completed optimization with 4398 tracks\n"
     ]
    },
    {
     "name": "stdout",
     "output_type": "stream",
     "text": [
      "GLPK Integer Optimizer 5.0\n",
      "19184 rows, 15960 columns, 22328 non-zeros\n",
      "15960 integer variables, all of which are binary\n",
      "Preprocessing...\n",
      "9592 rows, 15960 columns, 22328 non-zeros\n",
      "15960 integer variables, all of which are binary\n",
      "Scaling...\n",
      " A: min|aij| =  1.000e+00  max|aij| =  1.000e+00  ratio =  1.000e+00\n",
      "Problem data seem to be well scaled\n",
      "Constructing initial basis...\n",
      "Size of triangular part is 9592\n",
      "Solving LP relaxation...\n",
      "GLPK Simplex Optimizer 5.0\n",
      "9592 rows, 15960 columns, 22328 non-zeros\n",
      "*     0: obj =   5.847065119e+04 inf =   0.000e+00 (4130)\n",
      "Perturbing LP to avoid stalling [1828]...\n",
      "Removing LP perturbation [4012]...\n",
      "*  4012: obj =   3.349564806e+04 inf =   0.000e+00 (0) 1\n",
      "OPTIMAL LP SOLUTION FOUND\n",
      "Integer optimization begins...\n",
      "Long-step dual simplex will be used\n",
      "+  4012: mip =     not found yet >=              -inf        (1; 0)\n",
      "+  4012: >>>>>   3.349564806e+04 >=   3.349564806e+04   0.0% (1; 0)\n",
      "+  4012: mip =   3.349564806e+04 >=     tree is empty   0.0% (0; 1)\n",
      "INTEGER OPTIMAL SOLUTION FOUND\n"
     ]
    },
    {
     "name": "stderr",
     "output_type": "stream",
     "text": [
      "[INFO][2023/08/17 04:12:12 PM] Ending BayesianTracker session\n",
      "[INFO][2023/08/17 04:12:12 PM] Opening HDF file: /home/dayn/data/homuncu_loc_temp/run3/23-03-002/20230801_20X_23-03-002A6_DAPI_SP-C_PDPN_ZO-1_Multichannel Z-Stack_20230801_1444_z_tracks_masks.h5...\n",
      "[INFO][2023/08/17 04:12:13 PM] Writing objects/obj_type_1\n",
      "[INFO][2023/08/17 04:12:13 PM] Writing labels/obj_type_1\n",
      "[INFO][2023/08/17 04:12:13 PM] Loading objects/obj_type_1 (46711, 5) (46711 filtered: None)\n",
      "[INFO][2023/08/17 04:12:13 PM] Writing properties/obj_type_1/axis_major_length (46711,)\n",
      "[INFO][2023/08/17 04:12:13 PM] Writing properties/obj_type_1/axis_minor_length (46711,)\n",
      "[INFO][2023/08/17 04:12:13 PM] Writing properties/obj_type_1/eccentricity (46711,)\n",
      "[INFO][2023/08/17 04:12:13 PM] Writing properties/obj_type_1/area (46711,)\n",
      "[INFO][2023/08/17 04:12:13 PM] Writing properties/obj_type_1/orientation (46711,)\n",
      "[INFO][2023/08/17 04:12:13 PM] Writing properties/obj_type_1/mean_intensity (46711, 4)\n",
      "[INFO][2023/08/17 04:12:14 PM] Writing tracks/obj_type_1\n",
      "[INFO][2023/08/17 04:12:14 PM] Writing dummies/obj_type_1\n",
      "[INFO][2023/08/17 04:12:14 PM] Writing LBEP/obj_type_1\n",
      "[INFO][2023/08/17 04:12:14 PM] Writing fates/obj_type_1\n",
      "[INFO][2023/08/17 04:12:17 PM] Closing HDF file: /home/dayn/data/homuncu_loc_temp/run3/23-03-002/20230801_20X_23-03-002A6_DAPI_SP-C_PDPN_ZO-1_Multichannel Z-Stack_20230801_1444_z_tracks_masks.h5\n"
     ]
    }
   ],
   "source": [
    "# iterate over file list\n",
    "for image_file in tqdm(reversed(image_file_list), total = len(image_file_list), desc = 'Iterating over images'):\n",
    "    # redefine output filename as being h5 file in same directory as image\n",
    "    output_fn = image_file.replace('.tif', '_z_tracks_masks.h5')\n",
    "    # relocate output file to a local directory (doesnt like saving to server?)\n",
    "    output_fn = output_fn.replace(server_rootdir, local_rootdir)\n",
    "    # create directory structure to hold local file\n",
    "    os.makedirs(os.path.dirname(output_fn), exist_ok=True)\n",
    "    # check if output fn exists already, if so then skip\n",
    "    if os.path.exists(output_fn):\n",
    "        print(f'Output {os.path.basename(output_fn)} already exists')\n",
    "        continue\n",
    "    # create empty placeholder file so that other parallel processes do not start on the same image whilst this is processing\n",
    "    else:\n",
    "        # Create an empty HDF5 file with \n",
    "        with h5py.File(output_fn, \"w\") as f:\n",
    "            pass\n",
    "    # load image\n",
    "    try:\n",
    "        image = io.imread(image_file)\n",
    "        if image.ndim < 4:\n",
    "            print('Image is not correct shape')\n",
    "            continue\n",
    "    except Exception as e:\n",
    "        print(f\"An error occurred while reading the image: {image_file}\")\n",
    "        print(e)\n",
    "    # format filenames to print update\n",
    "    folder_up = os.path.relpath(os.path.dirname(image_file), base_dir)\n",
    "    file_name = os.path.basename(image_file)\n",
    "    # print update\n",
    "    print(f'Loaded image: {folder_up}/{file_name}')\n",
    "    # check where the cells exist in the image volume, start by defining an empty list to store mean intensity values\n",
    "    mean_measure = list()\n",
    "    # set zo1 as mask input channel\n",
    "    mask_input_channel = image[..., mask_input_channel_enumeration]\n",
    "    # iterate over image data set \n",
    "    for frame in tqdm(mask_input_channel, total = len(mask_input_channel), \n",
    "                      desc = 'Checking where the cells are in the image stack'):\n",
    "        mean_measure.append(np.mean(frame))    \n",
    "    # Calculate the average background signal\n",
    "    average_background = np.mean(mean_measure)\n",
    "    # Find the indices where the signal crosses above and below the average background\n",
    "    start_frame = 0 #np.where(mean_measure > average_background)[0][0] - 5 # adding a buffer\n",
    "    end_frame = len(mask_input_channel) #np.where(mean_measure > average_background)[0][-1] + 5 # adding a buffer \n",
    "    ### define empty mask image array (as a list)\n",
    "    mask_stack = list()\n",
    "    ### iterate over frames\n",
    "    for n, frame in tqdm(enumerate(mask_input_channel), total = len(mask_input_channel), \n",
    "                         desc = 'Segmenting image stack'):\n",
    "        if start_frame < n < end_frame:\n",
    "            ### run segmentation for single frame\n",
    "            masks, flows, styles, diams = model.eval(frame, diameter=None, flow_threshold=None, channels=channels, min_size = 500)\n",
    "            \n",
    "            # trying to fix bug where localisation fails if only one segment present in image\n",
    "            if np.max(masks) < 2:\n",
    "                # if beyond the focal range of the stack then just use blank array as masks\n",
    "                masks = np.zeros(frame.shape, dtype=np.uint16)\n",
    "                \n",
    "        else:\n",
    "            # if beyond the focal range of the stack then just use blank array as masks\n",
    "            masks = np.zeros(frame.shape, dtype=np.uint16)\n",
    "        ### append segmentation results to empty to mask image list\n",
    "        mask_stack.append(masks)\n",
    "    # turn mask stack into an image array\n",
    "    mask_stack = np.stack(mask_stack, axis = 0)\n",
    "\n",
    "    # define props\n",
    "    if mtb_measure:  \n",
    "        props = ('axis_major_length',\n",
    "                 'axis_minor_length',\n",
    "                 'eccentricity',\n",
    "                 'area',\n",
    "                 'orientation',\n",
    "                 'mean_intensity',\n",
    "                 'intensity_image')\n",
    "    else: \n",
    "        props = ('axis_major_length',\n",
    "                 'axis_minor_length',\n",
    "                 'eccentricity',\n",
    "                 'area',\n",
    "                 'orientation',\n",
    "                 'mean_intensity',)\n",
    "    \n",
    "    # localise all cells in image stack\n",
    "    objects = btrack.utils.segmentation_to_objects(\n",
    "                                                   segmentation = mask_stack, # set the masks here \n",
    "                                                   intensity_image = image, # provide the image so that the mean intensity can be measured\n",
    "                                                   properties = props, # provide the cell properties to improve tracker \n",
    "                                                   use_weighted_centroid = False, \n",
    "    #                                                    assign_class_ID=True,\n",
    "                                                   )\n",
    "    if mtb_measure: \n",
    "        # check if mtb infected above threshold\n",
    "        threshold = 230\n",
    "        for o in tqdm(objects):\n",
    "            mtb_glimpse = o.properties['intensity_image'][...,3]\n",
    "            mtb_status = np.any(mtb_glimpse > threshold)\n",
    "            mtb_area = np.sum(mtb_glimpse > threshold)\n",
    "            o.properties['mtb_status'] = mtb_status\n",
    "            o.properties['mtb_area'] = mtb_area\n",
    "            del o.properties['intensity_image']\n",
    "    \n",
    "    # apply size threshold\n",
    "    objects = [o for o in objects if o.properties['area'] > 500]\n",
    "    \n",
    "    #redefine tuple of properties to remove intensity image\n",
    "    props = ('axis_major_length',\n",
    "             'axis_minor_length',\n",
    "             'eccentricity',\n",
    "             'area',\n",
    "             'orientation',\n",
    "             'mean_intensity',\n",
    "             )\n",
    "    \n",
    "    print(f'{len(objects)} cell objects found in {len(mask_input_channel)} frames/z-slices')\n",
    "    # track cells over Z\n",
    "    with btrack.BayesianTracker() as tracker:\n",
    "        # configure the tracker using a config file\n",
    "        tracker.configure('/home/dayn/analysis/btrack/models/particle_config.json')\n",
    "        ### set max search radius to a very limited radius \n",
    "        tracker.max_search_radius = 5\n",
    "        # define tracking method\n",
    "        tracker.tracking_updates = [\"MOTION\", \"VISUAL\"]\n",
    "        # use visual features to track\n",
    "        tracker.features = props\n",
    "        # append the objects to be tracked\n",
    "        tracker.append(objects)\n",
    "        # set the volume\n",
    "        tracker.volume=((0, mask_input_channel.shape[1]), (0, mask_input_channel.shape[2]), (-1e5, 1e5))\n",
    "        # track them (in interactive mode)\n",
    "        tracker.track(step_size=10)\n",
    "        # generate hypotheses and run the global optimizer\n",
    "        tracker.optimize()\n",
    "        # get the tracks as a python list\n",
    "        tracks = tracker.tracks\n",
    "    \n",
    "    # save out \n",
    "    with btrack.io.HDF5FileHandler(output_fn, \n",
    "                                       'w', \n",
    "                                       obj_type='obj_type_1'\n",
    "                                       ) as writer:\n",
    "            writer.write_tracks(tracks)\n",
    "            writer.write_segmentation(mask_stack)\n",
    "        #write objects out too in future\n",
    "    # notify me\n",
    "    notify.send_sms(f'{image_file} complete')"
   ]
  },
  {
   "cell_type": "markdown",
   "id": "5473c06d",
   "metadata": {},
   "source": [
    "# Check output"
   ]
  },
  {
   "cell_type": "code",
   "execution_count": 7,
   "id": "a37551c4",
   "metadata": {},
   "outputs": [
    {
     "name": "stderr",
     "output_type": "stream",
     "text": [
      "/home/dayn/analysis/btrack/btrack/dataio.py:3: UserWarning: `btrack.dataio` has been deprecated. Please use `btrack.io` subpackage instead.\n",
      "  warnings.warn(  # noqa: B028\n"
     ]
    },
    {
     "name": "stdout",
     "output_type": "stream",
     "text": [
      "Assistant skips harvesting pyclesperanto as it's not installed.\n"
     ]
    },
    {
     "data": {
      "text/plain": [
       "<Labels layer 'mask_stack' at 0x7f9bcad0b910>"
      ]
     },
     "execution_count": 7,
     "metadata": {},
     "output_type": "execute_result"
    }
   ],
   "source": [
    "v = napari.Viewer()\n",
    "\n",
    "v.add_image(image, channel_axis = -1, )\n",
    "v.add_labels(mask_stack)"
   ]
  },
  {
   "cell_type": "markdown",
   "id": "f9bc48a5",
   "metadata": {},
   "source": [
    "job1a images/tracks"
   ]
  },
  {
   "cell_type": "code",
   "execution_count": 7,
   "id": "0d7ce59a",
   "metadata": {},
   "outputs": [
    {
     "name": "stdout",
     "output_type": "stream",
     "text": [
      "File list saved to /home/dayn/data/homuncu_loc_temp/job_1a_files.txt\n"
     ]
    }
   ],
   "source": [
    "file_list = [\n",
    "    \"DAPI-SPC-PDPN-ZO1/Day14_breath/20x_21-12-029B_A12346_Multichannel Z-Stack_20220819_295.tif\",\n",
    "    \"DAPI-SPC-PDPN-ZO1/Day14_static/20x_21-12-028A_A23456_Multichannel Z-Stack_20220818_246.tif\",\n",
    "    \"DAPI-SPC-PDPN-ZO1/Day7_breath/20x_21-12-029A_A3456_Multichannel Z-Stack_20220818_196.tif\",\n",
    "    \"DAPI-SPC-PDPN-ZO1/Day7_static/20x_21-12-031B_A12456_Multichannel Z-Stack_20220811_121.tif\",\n",
    "    \"DAPI-NKX21-PDPN-ZO1/Day14_breath/20x_21-12-029B_A12346_Multichannel Z-Stack_20220819_286.tif\",\n",
    "    \"DAPI-NKX21-PDPN-ZO1/Day14_static/20x_21-12-028A_A23456_Multichannel Z-Stack_20220818_235.tif\",\n",
    "    \"DAPI-NKX21-PDPN-ZO1/Day7_static/20x_21-12-031B_A12456_Multichannel Z-Stack_20220811_113.tif\"\n",
    "]\n",
    "\n",
    "output_file = \"/home/dayn/data/homuncu_loc_temp/job_1a_files.txt\"\n",
    "\n",
    "with open(output_file, \"w\") as file:\n",
    "    for item in file_list:\n",
    "        file.write(\"%s\\n\" % item)\n",
    "\n",
    "print(f\"File list saved to {output_file}\")\n"
   ]
  }
 ],
 "metadata": {
  "kernelspec": {
   "display_name": "Python 3 (ipykernel)",
   "language": "python",
   "name": "python3"
  },
  "language_info": {
   "codemirror_mode": {
    "name": "ipython",
    "version": 3
   },
   "file_extension": ".py",
   "mimetype": "text/x-python",
   "name": "python",
   "nbconvert_exporter": "python",
   "pygments_lexer": "ipython3",
   "version": "3.12.3"
  }
 },
 "nbformat": 4,
 "nbformat_minor": 5
}
