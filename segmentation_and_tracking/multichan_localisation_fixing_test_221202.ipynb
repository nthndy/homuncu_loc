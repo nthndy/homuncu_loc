{
 "cells": [
  {
   "cell_type": "markdown",
   "id": "0d243d9a",
   "metadata": {},
   "source": [
    "# Fixing the error returned by testing the multihcannel localisation in btrack"
   ]
  },
  {
   "cell_type": "code",
   "execution_count": 1,
   "id": "b3341d38",
   "metadata": {},
   "outputs": [],
   "source": [
    "import os\n",
    "import glob\n",
    "from octopusheavy import DaskOctopusHeavyLoader\n",
    "import napari\n",
    "from skimage.io import imshow,  imsave, imread\n",
    "import napari\n",
    "import btrack\n",
    "from tqdm.auto import tqdm\n",
    "import dask.array as da"
   ]
  },
  {
   "cell_type": "markdown",
   "id": "ce96b2e7",
   "metadata": {},
   "source": [
    "# Loading images\n",
    "\n",
    "Define root path and individual experiment IDs"
   ]
  },
  {
   "cell_type": "code",
   "execution_count": 2,
   "id": "f17b38de",
   "metadata": {},
   "outputs": [],
   "source": [
    "root_path = '/run/user/30046150/gvfs/smb-share:server=data.thecrick.org,share=lab-gutierrezm/home/shared/Lung on chip/Light microscopy'"
   ]
  },
  {
   "cell_type": "code",
   "execution_count": 3,
   "id": "577b6085",
   "metadata": {},
   "outputs": [],
   "source": [
    "expt_IDs = ['mono-culture/iAT2AT1/for analysis_20221125/DAPI-AQP5-proSPC-ZO1/Day14_static/_20x_21-12-028A_A23456_Multichannel Z-Stack_20220818_262_/images/',\n",
    "        ]"
   ]
  },
  {
   "cell_type": "markdown",
   "id": "b9560206",
   "metadata": {},
   "source": [
    "## Check to see what channels each expt has"
   ]
  },
  {
   "cell_type": "code",
   "execution_count": 4,
   "id": "b51972e4",
   "metadata": {},
   "outputs": [
    {
     "name": "stdout",
     "output_type": "stream",
     "text": [
      "0 [<Channels.CH1: 1>, <Channels.CH2: 2>, <Channels.CH3: 3>, <Channels.CH4: 4>, <Channels.MASK1: 99>]\n"
     ]
    }
   ],
   "source": [
    "for i, expt in enumerate(expt_IDs):\n",
    "    images = DaskOctopusHeavyLoader(os.path.join(root_path, expt), remove_background=False)\n",
    "    if 'MASK1' in [channel.name for channel in images.channels]:\n",
    "        images = DaskOctopusHeavyLoader(os.path.join(root_path, expt), remove_background=False)\n",
    "        print(i, images.channels)"
   ]
  },
  {
   "cell_type": "code",
   "execution_count": 5,
   "id": "6d5e97bc",
   "metadata": {},
   "outputs": [
    {
     "data": {
      "text/html": [
       "<table>\n",
       "<tr>\n",
       "<td>\n",
       "<table>\n",
       "  <thead>\n",
       "    <tr><td> </td><th> Array </th><th> Chunk </th></tr>\n",
       "  </thead>\n",
       "  <tbody>\n",
       "    <tr><th> Bytes </th><td> 410.06 MiB </td> <td> 5.06 MiB </td></tr>\n",
       "    <tr><th> Shape </th><td> (81, 2304, 2304) </td> <td> (1, 2304, 2304) </td></tr>\n",
       "    <tr><th> Count </th><td> 243 Tasks </td><td> 81 Chunks </td></tr>\n",
       "    <tr><th> Type </th><td> uint8 </td><td> numpy.ndarray </td></tr>\n",
       "  </tbody>\n",
       "</table>\n",
       "</td>\n",
       "<td>\n",
       "<svg width=\"199\" height=\"189\" style=\"stroke:rgb(0,0,0);stroke-width:1\" >\n",
       "\n",
       "  <!-- Horizontal lines -->\n",
       "  <line x1=\"10\" y1=\"0\" x2=\"29\" y2=\"19\" style=\"stroke-width:2\" />\n",
       "  <line x1=\"10\" y1=\"120\" x2=\"29\" y2=\"139\" style=\"stroke-width:2\" />\n",
       "\n",
       "  <!-- Vertical lines -->\n",
       "  <line x1=\"10\" y1=\"0\" x2=\"10\" y2=\"120\" style=\"stroke-width:2\" />\n",
       "  <line x1=\"10\" y1=\"0\" x2=\"10\" y2=\"120\" />\n",
       "  <line x1=\"11\" y1=\"1\" x2=\"11\" y2=\"121\" />\n",
       "  <line x1=\"12\" y1=\"2\" x2=\"12\" y2=\"122\" />\n",
       "  <line x1=\"13\" y1=\"3\" x2=\"13\" y2=\"123\" />\n",
       "  <line x1=\"14\" y1=\"4\" x2=\"14\" y2=\"124\" />\n",
       "  <line x1=\"15\" y1=\"5\" x2=\"15\" y2=\"125\" />\n",
       "  <line x1=\"16\" y1=\"6\" x2=\"16\" y2=\"126\" />\n",
       "  <line x1=\"17\" y1=\"7\" x2=\"17\" y2=\"127\" />\n",
       "  <line x1=\"18\" y1=\"8\" x2=\"18\" y2=\"128\" />\n",
       "  <line x1=\"19\" y1=\"9\" x2=\"19\" y2=\"129\" />\n",
       "  <line x1=\"20\" y1=\"10\" x2=\"20\" y2=\"130\" />\n",
       "  <line x1=\"21\" y1=\"11\" x2=\"21\" y2=\"131\" />\n",
       "  <line x1=\"22\" y1=\"12\" x2=\"22\" y2=\"132\" />\n",
       "  <line x1=\"23\" y1=\"13\" x2=\"23\" y2=\"133\" />\n",
       "  <line x1=\"24\" y1=\"14\" x2=\"24\" y2=\"134\" />\n",
       "  <line x1=\"25\" y1=\"15\" x2=\"25\" y2=\"135\" />\n",
       "  <line x1=\"26\" y1=\"16\" x2=\"26\" y2=\"136\" />\n",
       "  <line x1=\"27\" y1=\"17\" x2=\"27\" y2=\"137\" />\n",
       "  <line x1=\"29\" y1=\"19\" x2=\"29\" y2=\"139\" style=\"stroke-width:2\" />\n",
       "\n",
       "  <!-- Colored Rectangle -->\n",
       "  <polygon points=\"10.0,0.0 29.02765395748794,19.02765395748794 29.02765395748794,139.02765395748793 10.0,120.0\" style=\"fill:#8B4903A0;stroke-width:0\"/>\n",
       "\n",
       "  <!-- Horizontal lines -->\n",
       "  <line x1=\"10\" y1=\"0\" x2=\"130\" y2=\"0\" style=\"stroke-width:2\" />\n",
       "  <line x1=\"10\" y1=\"0\" x2=\"130\" y2=\"0\" />\n",
       "  <line x1=\"11\" y1=\"1\" x2=\"131\" y2=\"1\" />\n",
       "  <line x1=\"12\" y1=\"2\" x2=\"132\" y2=\"2\" />\n",
       "  <line x1=\"13\" y1=\"3\" x2=\"133\" y2=\"3\" />\n",
       "  <line x1=\"14\" y1=\"4\" x2=\"134\" y2=\"4\" />\n",
       "  <line x1=\"15\" y1=\"5\" x2=\"135\" y2=\"5\" />\n",
       "  <line x1=\"16\" y1=\"6\" x2=\"136\" y2=\"6\" />\n",
       "  <line x1=\"17\" y1=\"7\" x2=\"137\" y2=\"7\" />\n",
       "  <line x1=\"18\" y1=\"8\" x2=\"138\" y2=\"8\" />\n",
       "  <line x1=\"19\" y1=\"9\" x2=\"139\" y2=\"9\" />\n",
       "  <line x1=\"20\" y1=\"10\" x2=\"140\" y2=\"10\" />\n",
       "  <line x1=\"21\" y1=\"11\" x2=\"141\" y2=\"11\" />\n",
       "  <line x1=\"22\" y1=\"12\" x2=\"142\" y2=\"12\" />\n",
       "  <line x1=\"23\" y1=\"13\" x2=\"143\" y2=\"13\" />\n",
       "  <line x1=\"24\" y1=\"14\" x2=\"144\" y2=\"14\" />\n",
       "  <line x1=\"25\" y1=\"15\" x2=\"145\" y2=\"15\" />\n",
       "  <line x1=\"26\" y1=\"16\" x2=\"146\" y2=\"16\" />\n",
       "  <line x1=\"27\" y1=\"17\" x2=\"147\" y2=\"17\" />\n",
       "  <line x1=\"29\" y1=\"19\" x2=\"149\" y2=\"19\" style=\"stroke-width:2\" />\n",
       "\n",
       "  <!-- Vertical lines -->\n",
       "  <line x1=\"10\" y1=\"0\" x2=\"29\" y2=\"19\" style=\"stroke-width:2\" />\n",
       "  <line x1=\"130\" y1=\"0\" x2=\"149\" y2=\"19\" style=\"stroke-width:2\" />\n",
       "\n",
       "  <!-- Colored Rectangle -->\n",
       "  <polygon points=\"10.0,0.0 130.0,0.0 149.02765395748793,19.02765395748794 29.02765395748794,19.02765395748794\" style=\"fill:#8B4903A0;stroke-width:0\"/>\n",
       "\n",
       "  <!-- Horizontal lines -->\n",
       "  <line x1=\"29\" y1=\"19\" x2=\"149\" y2=\"19\" style=\"stroke-width:2\" />\n",
       "  <line x1=\"29\" y1=\"139\" x2=\"149\" y2=\"139\" style=\"stroke-width:2\" />\n",
       "\n",
       "  <!-- Vertical lines -->\n",
       "  <line x1=\"29\" y1=\"19\" x2=\"29\" y2=\"139\" style=\"stroke-width:2\" />\n",
       "  <line x1=\"149\" y1=\"19\" x2=\"149\" y2=\"139\" style=\"stroke-width:2\" />\n",
       "\n",
       "  <!-- Colored Rectangle -->\n",
       "  <polygon points=\"29.02765395748794,19.02765395748794 149.02765395748793,19.02765395748794 149.02765395748793,139.02765395748793 29.02765395748794,139.02765395748793\" style=\"fill:#ECB172A0;stroke-width:0\"/>\n",
       "\n",
       "  <!-- Text -->\n",
       "  <text x=\"89.027654\" y=\"159.027654\" font-size=\"1.0rem\" font-weight=\"100\" text-anchor=\"middle\" >2304</text>\n",
       "  <text x=\"169.027654\" y=\"79.027654\" font-size=\"1.0rem\" font-weight=\"100\" text-anchor=\"middle\" transform=\"rotate(-90,169.027654,79.027654)\">2304</text>\n",
       "  <text x=\"9.513827\" y=\"149.513827\" font-size=\"1.0rem\" font-weight=\"100\" text-anchor=\"middle\" transform=\"rotate(45,9.513827,149.513827)\">81</text>\n",
       "</svg>\n",
       "</td>\n",
       "</tr>\n",
       "</table>"
      ],
      "text/plain": [
       "dask.array<stack, shape=(81, 2304, 2304), dtype=uint8, chunksize=(1, 2304, 2304), chunktype=numpy.ndarray>"
      ]
     },
     "execution_count": 5,
     "metadata": {},
     "output_type": "execute_result"
    }
   ],
   "source": [
    "images['MASK1']"
   ]
  },
  {
   "cell_type": "markdown",
   "id": "5f1b0131",
   "metadata": {},
   "source": [
    "## Creating a multichannel dask array to feed to localisation"
   ]
  },
  {
   "cell_type": "code",
   "execution_count": 6,
   "id": "16146b9c",
   "metadata": {},
   "outputs": [],
   "source": [
    "multichannel_stack = da.stack([images['CH1'], images['CH2'], images['CH3'], images['CH4']], axis = -1)"
   ]
  },
  {
   "cell_type": "code",
   "execution_count": 7,
   "id": "c9d83126",
   "metadata": {},
   "outputs": [
    {
     "data": {
      "text/plain": [
       "(81, 2304, 2304)"
      ]
     },
     "execution_count": 7,
     "metadata": {},
     "output_type": "execute_result"
    }
   ],
   "source": [
    "images['CH1'].shape"
   ]
  },
  {
   "cell_type": "code",
   "execution_count": 8,
   "id": "406c7784",
   "metadata": {},
   "outputs": [
    {
     "data": {
      "text/plain": [
       "(81, 2304, 2304, 4)"
      ]
     },
     "execution_count": 8,
     "metadata": {},
     "output_type": "execute_result"
    }
   ],
   "source": [
    "multichannel_stack.shape"
   ]
  },
  {
   "cell_type": "code",
   "execution_count": 9,
   "id": "5aec2d7c",
   "metadata": {},
   "outputs": [
    {
     "data": {
      "text/plain": [
       "4"
      ]
     },
     "execution_count": 9,
     "metadata": {},
     "output_type": "execute_result"
    }
   ],
   "source": [
    "multichannel_stack.ndim"
   ]
  },
  {
   "cell_type": "markdown",
   "id": "ce9d2dea",
   "metadata": {},
   "source": [
    "### Creating a pseudo 3D (zyx) stack to test"
   ]
  },
  {
   "cell_type": "code",
   "execution_count": 10,
   "id": "54867469",
   "metadata": {},
   "outputs": [],
   "source": [
    "stack = da.stack([images['CH1'] for i in range(0,25)], axis = 1)"
   ]
  },
  {
   "cell_type": "code",
   "execution_count": 11,
   "id": "3b604dbe",
   "metadata": {
    "scrolled": true
   },
   "outputs": [
    {
     "data": {
      "text/plain": [
       "(81, 25, 2304, 2304)"
      ]
     },
     "execution_count": 11,
     "metadata": {},
     "output_type": "execute_result"
    }
   ],
   "source": [
    "stack.shape"
   ]
  },
  {
   "cell_type": "markdown",
   "id": "9b7d03a9",
   "metadata": {},
   "source": [
    "### Defining properties to measure similarities of z-slices"
   ]
  },
  {
   "cell_type": "code",
   "execution_count": 12,
   "id": "841334ba",
   "metadata": {},
   "outputs": [],
   "source": [
    "props = ('axis_major_length', \n",
    "         'axis_minor_length', \n",
    "         'eccentricity', \n",
    "         'area', \n",
    "         #'intensity_image', \n",
    "         'orientation',\n",
    "         'mean_intensity')"
   ]
  },
  {
   "cell_type": "code",
   "execution_count": 17,
   "id": "4546685b",
   "metadata": {},
   "outputs": [
    {
     "name": "stderr",
     "output_type": "stream",
     "text": [
      "[INFO][2022/12/02 04:39:51 PM] Localizing objects from segmentation...\n"
     ]
    },
    {
     "ename": "TypeError",
     "evalue": "Weighted centroids cannot be used for multichannel images yeah.",
     "output_type": "error",
     "traceback": [
      "\u001b[0;31m---------------------------------------------------------------------------\u001b[0m",
      "\u001b[0;31mTypeError\u001b[0m                                 Traceback (most recent call last)",
      "Input \u001b[0;32mIn [17]\u001b[0m, in \u001b[0;36m<cell line: 1>\u001b[0;34m()\u001b[0m\n\u001b[0;32m----> 1\u001b[0m objects \u001b[38;5;241m=\u001b[39m \u001b[43mbtrack\u001b[49m\u001b[38;5;241;43m.\u001b[39;49m\u001b[43mutils\u001b[49m\u001b[38;5;241;43m.\u001b[39;49m\u001b[43msegmentation_to_objects\u001b[49m\u001b[43m(\u001b[49m\n\u001b[1;32m      2\u001b[0m \u001b[43m            \u001b[49m\u001b[43mimages\u001b[49m\u001b[43m[\u001b[49m\u001b[38;5;124;43m'\u001b[39;49m\u001b[38;5;124;43mMASK1\u001b[39;49m\u001b[38;5;124;43m'\u001b[39;49m\u001b[43m]\u001b[49m\u001b[43m,\u001b[49m\u001b[43m \u001b[49m\n\u001b[1;32m      3\u001b[0m \u001b[43m            \u001b[49m\u001b[43mmultichannel_stack\u001b[49m\u001b[43m,\u001b[49m\n\u001b[1;32m      4\u001b[0m \u001b[43m            \u001b[49m\u001b[43mmultichannel_input\u001b[49m\u001b[38;5;241;43m=\u001b[39;49m\u001b[38;5;28;43;01mTrue\u001b[39;49;00m\u001b[43m,\u001b[49m\n\u001b[1;32m      5\u001b[0m \u001b[43m            \u001b[49m\u001b[43mproperties\u001b[49m\u001b[43m \u001b[49m\u001b[38;5;241;43m=\u001b[39;49m\u001b[43m \u001b[49m\u001b[43mprops\u001b[49m\u001b[43m,\u001b[49m\u001b[38;5;66;43;03m#('area', 'mean_intensity', 'intensity_image'), \u001b[39;49;00m\n\u001b[1;32m      6\u001b[0m \u001b[38;5;66;43;03m#             use_weighted_centroid = False\u001b[39;49;00m\n\u001b[1;32m      7\u001b[0m \u001b[43m        \u001b[49m\u001b[43m)\u001b[49m\n",
      "File \u001b[0;32m~/analysis/BayesianTracker/btrack/_localization.py:199\u001b[0m, in \u001b[0;36msegmentation_to_objects\u001b[0;34m(segmentation, intensity_image, multichannel_input, properties, scale, use_weighted_centroid, assign_class_ID)\u001b[0m\n\u001b[1;32m    196\u001b[0m \u001b[38;5;66;03m# if the intensity image is multichannel then we cannot use weighted\u001b[39;00m\n\u001b[1;32m    197\u001b[0m \u001b[38;5;66;03m# centroids as it will record n_channel values for each property\u001b[39;00m\n\u001b[1;32m    198\u001b[0m \u001b[38;5;28;01mif\u001b[39;00m multichannel_input \u001b[38;5;129;01mand\u001b[39;00m use_weighted_centroid:\n\u001b[0;32m--> 199\u001b[0m     \u001b[38;5;28;01mraise\u001b[39;00m \u001b[38;5;167;01mTypeError\u001b[39;00m(\n\u001b[1;32m    200\u001b[0m         \u001b[38;5;124m\"\u001b[39m\u001b[38;5;124mWeighted centroids cannot be used for multichannel images yeah.\u001b[39m\u001b[38;5;124m\"\u001b[39m\n\u001b[1;32m    201\u001b[0m     )\n\u001b[1;32m    202\u001b[0m \u001b[38;5;28;01melse\u001b[39;00m:\n\u001b[1;32m    203\u001b[0m     USE_WEIGHTED \u001b[38;5;241m=\u001b[39m use_weighted_centroid \u001b[38;5;129;01mand\u001b[39;00m USE_INTENSITY\n",
      "\u001b[0;31mTypeError\u001b[0m: Weighted centroids cannot be used for multichannel images yeah."
     ]
    }
   ],
   "source": [
    "objects = btrack.utils.segmentation_to_objects(\n",
    "            images['MASK1'], \n",
    "            multichannel_stack,\n",
    "            multichannel_input=True,\n",
    "            properties = props,#('area', 'mean_intensity', 'intensity_image'), \n",
    "#             use_weighted_centroid = False\n",
    "        )"
   ]
  },
  {
   "cell_type": "code",
   "execution_count": 18,
   "id": "da610002",
   "metadata": {},
   "outputs": [
    {
     "name": "stderr",
     "output_type": "stream",
     "text": [
      "[INFO][2022/12/02 04:40:59 PM] Localizing objects from segmentation...\n",
      "[INFO][2022/12/02 04:40:59 PM] Found intensity_image data\n",
      "[INFO][2022/12/02 04:40:59 PM] Calculating weighted centroids using intensity_image\n"
     ]
    },
    {
     "ename": "ValueError",
     "evalue": "setting an array element with a sequence.",
     "output_type": "error",
     "traceback": [
      "\u001b[0;31m---------------------------------------------------------------------------\u001b[0m",
      "\u001b[0;31mTypeError\u001b[0m                                 Traceback (most recent call last)",
      "\u001b[0;31mTypeError\u001b[0m: only size-1 arrays can be converted to Python scalars",
      "\nThe above exception was the direct cause of the following exception:\n",
      "\u001b[0;31mValueError\u001b[0m                                Traceback (most recent call last)",
      "Input \u001b[0;32mIn [18]\u001b[0m, in \u001b[0;36m<cell line: 1>\u001b[0;34m()\u001b[0m\n\u001b[0;32m----> 1\u001b[0m objects \u001b[38;5;241m=\u001b[39m \u001b[43mbtrack\u001b[49m\u001b[38;5;241;43m.\u001b[39;49m\u001b[43mutils\u001b[49m\u001b[38;5;241;43m.\u001b[39;49m\u001b[43msegmentation_to_objects\u001b[49m\u001b[43m(\u001b[49m\n\u001b[1;32m      2\u001b[0m \u001b[43m            \u001b[49m\u001b[43mimages\u001b[49m\u001b[43m[\u001b[49m\u001b[38;5;124;43m'\u001b[39;49m\u001b[38;5;124;43mMASK1\u001b[39;49m\u001b[38;5;124;43m'\u001b[39;49m\u001b[43m]\u001b[49m\u001b[43m,\u001b[49m\u001b[43m \u001b[49m\n\u001b[1;32m      3\u001b[0m \u001b[43m            \u001b[49m\u001b[43mmultichannel_stack\u001b[49m\u001b[43m,\u001b[49m\n\u001b[1;32m      4\u001b[0m \u001b[43m            \u001b[49m\u001b[43mproperties\u001b[49m\u001b[43m \u001b[49m\u001b[38;5;241;43m=\u001b[39;49m\u001b[43m \u001b[49m\u001b[43mprops\u001b[49m\u001b[43m,\u001b[49m\u001b[38;5;66;43;03m#('area', 'mean_intensity', 'intensity_image'), \u001b[39;49;00m\n\u001b[1;32m      5\u001b[0m \u001b[38;5;66;43;03m#             use_weighted_centroid = False\u001b[39;49;00m\n\u001b[1;32m      6\u001b[0m \u001b[43m        \u001b[49m\u001b[43m)\u001b[49m\n",
      "File \u001b[0;32m~/analysis/BayesianTracker/btrack/_localization.py:255\u001b[0m, in \u001b[0;36msegmentation_to_objects\u001b[0;34m(segmentation, intensity_image, multichannel_input, properties, scale, use_weighted_centroid, assign_class_ID)\u001b[0m\n\u001b[1;32m    249\u001b[0m seg \u001b[38;5;241m=\u001b[39m np\u001b[38;5;241m.\u001b[39masarray(segmentation[frame, \u001b[38;5;241m.\u001b[39m\u001b[38;5;241m.\u001b[39m\u001b[38;5;241m.\u001b[39m])\n\u001b[1;32m    250\u001b[0m intens \u001b[38;5;241m=\u001b[39m (\n\u001b[1;32m    251\u001b[0m     np\u001b[38;5;241m.\u001b[39masarray(intensity_image[frame, \u001b[38;5;241m.\u001b[39m\u001b[38;5;241m.\u001b[39m\u001b[38;5;241m.\u001b[39m])\n\u001b[1;32m    252\u001b[0m     \u001b[38;5;28;01mif\u001b[39;00m USE_INTENSITY\n\u001b[1;32m    253\u001b[0m     \u001b[38;5;28;01melse\u001b[39;00m \u001b[38;5;28;01mNone\u001b[39;00m\n\u001b[1;32m    254\u001b[0m )\n\u001b[0;32m--> 255\u001b[0m _centroids \u001b[38;5;241m=\u001b[39m \u001b[43m_centroids_from_single_arr\u001b[49m\u001b[43m(\u001b[49m\n\u001b[1;32m    256\u001b[0m \u001b[43m    \u001b[49m\u001b[43mseg\u001b[49m\u001b[43m,\u001b[49m\n\u001b[1;32m    257\u001b[0m \u001b[43m    \u001b[49m\u001b[43mproperties\u001b[49m\u001b[43m,\u001b[49m\n\u001b[1;32m    258\u001b[0m \u001b[43m    \u001b[49m\u001b[43mframe\u001b[49m\u001b[43m,\u001b[49m\n\u001b[1;32m    259\u001b[0m \u001b[43m    \u001b[49m\u001b[43mintensity_image\u001b[49m\u001b[38;5;241;43m=\u001b[39;49m\u001b[43mintens\u001b[49m\u001b[43m,\u001b[49m\n\u001b[1;32m    260\u001b[0m \u001b[43m    \u001b[49m\u001b[43mscale\u001b[49m\u001b[38;5;241;43m=\u001b[39;49m\u001b[43mscale\u001b[49m\u001b[43m,\u001b[49m\n\u001b[1;32m    261\u001b[0m \u001b[43m    \u001b[49m\u001b[43muse_weighted_centroid\u001b[49m\u001b[38;5;241;43m=\u001b[39;49m\u001b[43mUSE_WEIGHTED\u001b[49m\u001b[43m,\u001b[49m\n\u001b[1;32m    262\u001b[0m \u001b[43m    \u001b[49m\u001b[43massign_class_ID\u001b[49m\u001b[38;5;241;43m=\u001b[39;49m\u001b[43massign_class_ID\u001b[49m\u001b[43m,\u001b[49m\n\u001b[1;32m    263\u001b[0m \u001b[43m\u001b[49m\u001b[43m)\u001b[49m\n\u001b[1;32m    265\u001b[0m \u001b[38;5;66;03m# concatenate the centroids\u001b[39;00m\n\u001b[1;32m    266\u001b[0m centroids \u001b[38;5;241m=\u001b[39m _concat_centroids(centroids, _centroids)\n",
      "File \u001b[0;32m~/analysis/BayesianTracker/btrack/_localization.py:82\u001b[0m, in \u001b[0;36m_centroids_from_single_arr\u001b[0;34m(segmentation, properties, frame, intensity_image, scale, use_weighted_centroid, assign_class_ID)\u001b[0m\n\u001b[1;32m     79\u001b[0m     \u001b[38;5;28;01melse\u001b[39;00m:\n\u001b[1;32m     80\u001b[0m         labeled \u001b[38;5;241m=\u001b[39m segmentation\n\u001b[0;32m---> 82\u001b[0m     _centroids \u001b[38;5;241m=\u001b[39m \u001b[43mregionprops_table\u001b[49m\u001b[43m(\u001b[49m\n\u001b[1;32m     83\u001b[0m \u001b[43m        \u001b[49m\u001b[43mlabeled\u001b[49m\u001b[43m,\u001b[49m\n\u001b[1;32m     84\u001b[0m \u001b[43m        \u001b[49m\u001b[43mintensity_image\u001b[49m\u001b[38;5;241;43m=\u001b[39;49m\u001b[43mintensity_image\u001b[49m\u001b[43m,\u001b[49m\n\u001b[1;32m     85\u001b[0m \u001b[43m        \u001b[49m\u001b[43mproperties\u001b[49m\u001b[38;5;241;43m=\u001b[39;49m\u001b[43mproperties\u001b[49m\u001b[43m,\u001b[49m\n\u001b[1;32m     86\u001b[0m \u001b[43m    \u001b[49m\u001b[43m)\u001b[49m\n\u001b[1;32m     88\u001b[0m \u001b[38;5;66;03m# add time to the array\u001b[39;00m\n\u001b[1;32m     89\u001b[0m _centroids[\u001b[38;5;124m\"\u001b[39m\u001b[38;5;124mt\u001b[39m\u001b[38;5;124m\"\u001b[39m] \u001b[38;5;241m=\u001b[39m np\u001b[38;5;241m.\u001b[39mfull(\n\u001b[1;32m     90\u001b[0m     _centroids[\u001b[38;5;124mf\u001b[39m\u001b[38;5;124m\"\u001b[39m\u001b[38;5;132;01m{\u001b[39;00mCENTROID_PROPERTY\u001b[38;5;132;01m}\u001b[39;00m\u001b[38;5;124m-0\u001b[39m\u001b[38;5;124m\"\u001b[39m]\u001b[38;5;241m.\u001b[39mshape, frame\n\u001b[1;32m     91\u001b[0m )\n",
      "File \u001b[0;32m~/miniconda3/envs/aero/lib/python3.9/site-packages/skimage/measure/_regionprops.py:996\u001b[0m, in \u001b[0;36mregionprops_table\u001b[0;34m(label_image, intensity_image, properties, cache, separator, extra_properties)\u001b[0m\n\u001b[1;32m    992\u001b[0m     out_d \u001b[38;5;241m=\u001b[39m _props_to_dict(regions, properties\u001b[38;5;241m=\u001b[39mproperties,\n\u001b[1;32m    993\u001b[0m                            separator\u001b[38;5;241m=\u001b[39mseparator)\n\u001b[1;32m    994\u001b[0m     \u001b[38;5;28;01mreturn\u001b[39;00m {k: v[:\u001b[38;5;241m0\u001b[39m] \u001b[38;5;28;01mfor\u001b[39;00m k, v \u001b[38;5;129;01min\u001b[39;00m out_d\u001b[38;5;241m.\u001b[39mitems()}\n\u001b[0;32m--> 996\u001b[0m \u001b[38;5;28;01mreturn\u001b[39;00m \u001b[43m_props_to_dict\u001b[49m\u001b[43m(\u001b[49m\n\u001b[1;32m    997\u001b[0m \u001b[43m    \u001b[49m\u001b[43mregions\u001b[49m\u001b[43m,\u001b[49m\u001b[43m \u001b[49m\u001b[43mproperties\u001b[49m\u001b[38;5;241;43m=\u001b[39;49m\u001b[43mproperties\u001b[49m\u001b[43m,\u001b[49m\u001b[43m \u001b[49m\u001b[43mseparator\u001b[49m\u001b[38;5;241;43m=\u001b[39;49m\u001b[43mseparator\u001b[49m\n\u001b[1;32m    998\u001b[0m \u001b[43m\u001b[49m\u001b[43m)\u001b[49m\n",
      "File \u001b[0;32m~/miniconda3/envs/aero/lib/python3.9/site-packages/skimage/measure/_regionprops.py:830\u001b[0m, in \u001b[0;36m_props_to_dict\u001b[0;34m(regions, properties, separator)\u001b[0m\n\u001b[1;32m    828\u001b[0m     rp \u001b[38;5;241m=\u001b[39m regions[k][prop]\n\u001b[1;32m    829\u001b[0m     \u001b[38;5;28;01mfor\u001b[39;00m i, loc \u001b[38;5;129;01min\u001b[39;00m \u001b[38;5;28menumerate\u001b[39m(locs):\n\u001b[0;32m--> 830\u001b[0m         column_data[k, i] \u001b[38;5;241m=\u001b[39m rp[loc]\n\u001b[1;32m    832\u001b[0m \u001b[38;5;66;03m# add the columns to the output dictionary\u001b[39;00m\n\u001b[1;32m    833\u001b[0m \u001b[38;5;28;01mfor\u001b[39;00m i, modified_prop \u001b[38;5;129;01min\u001b[39;00m \u001b[38;5;28menumerate\u001b[39m(modified_props):\n",
      "\u001b[0;31mValueError\u001b[0m: setting an array element with a sequence."
     ]
    }
   ],
   "source": [
    "objects = btrack.utils.segmentation_to_objects(\n",
    "            images['MASK1'], \n",
    "            multichannel_stack,\n",
    "            properties = props,#('area', 'mean_intensity', 'intensity_image'), \n",
    "#             use_weighted_centroid = False\n",
    "        )"
   ]
  },
  {
   "cell_type": "code",
   "execution_count": 16,
   "id": "d5df1a10",
   "metadata": {},
   "outputs": [
    {
     "name": "stderr",
     "output_type": "stream",
     "text": [
      "[INFO][2022/12/02 04:39:02 PM] Localizing objects from segmentation...\n",
      "[INFO][2022/12/02 04:39:02 PM] Found intensity_image data\n",
      "[INFO][2022/12/02 04:39:02 PM] Calculating weighted centroids using intensity_image\n"
     ]
    },
    {
     "ename": "ValueError",
     "evalue": "setting an array element with a sequence.",
     "output_type": "error",
     "traceback": [
      "\u001b[0;31m---------------------------------------------------------------------------\u001b[0m",
      "\u001b[0;31mTypeError\u001b[0m                                 Traceback (most recent call last)",
      "\u001b[0;31mTypeError\u001b[0m: only size-1 arrays can be converted to Python scalars",
      "\nThe above exception was the direct cause of the following exception:\n",
      "\u001b[0;31mValueError\u001b[0m                                Traceback (most recent call last)",
      "Input \u001b[0;32mIn [16]\u001b[0m, in \u001b[0;36m<cell line: 1>\u001b[0;34m()\u001b[0m\n\u001b[0;32m----> 1\u001b[0m objects \u001b[38;5;241m=\u001b[39m \u001b[43mbtrack\u001b[49m\u001b[38;5;241;43m.\u001b[39;49m\u001b[43mutils\u001b[49m\u001b[38;5;241;43m.\u001b[39;49m\u001b[43msegmentation_to_objects\u001b[49m\u001b[43m(\u001b[49m\n\u001b[1;32m      2\u001b[0m \u001b[43m            \u001b[49m\u001b[43mimages\u001b[49m\u001b[43m[\u001b[49m\u001b[38;5;124;43m'\u001b[39;49m\u001b[38;5;124;43mMASK1\u001b[39;49m\u001b[38;5;124;43m'\u001b[39;49m\u001b[43m]\u001b[49m\u001b[43m,\u001b[49m\u001b[43m \u001b[49m\n\u001b[1;32m      3\u001b[0m \u001b[43m            \u001b[49m\u001b[43mmultichannel_stack\u001b[49m\u001b[43m,\u001b[49m\n\u001b[1;32m      4\u001b[0m \u001b[43m            \u001b[49m\u001b[43mmultichannel_input\u001b[49m\u001b[38;5;241;43m=\u001b[39;49m\u001b[38;5;28;43;01mFalse\u001b[39;49;00m\u001b[43m,\u001b[49m\n\u001b[1;32m      5\u001b[0m \u001b[43m            \u001b[49m\u001b[43mproperties\u001b[49m\u001b[43m \u001b[49m\u001b[38;5;241;43m=\u001b[39;49m\u001b[43m \u001b[49m\u001b[43mprops\u001b[49m\u001b[43m,\u001b[49m\u001b[38;5;66;43;03m#('area', 'mean_intensity', 'intensity_image'), \u001b[39;49;00m\n\u001b[1;32m      6\u001b[0m \u001b[38;5;66;43;03m#             use_weighted_centroid = False\u001b[39;49;00m\n\u001b[1;32m      7\u001b[0m \u001b[43m        \u001b[49m\u001b[43m)\u001b[49m\n",
      "File \u001b[0;32m~/analysis/BayesianTracker/btrack/_localization.py:255\u001b[0m, in \u001b[0;36msegmentation_to_objects\u001b[0;34m(segmentation, intensity_image, multichannel_input, properties, scale, use_weighted_centroid, assign_class_ID)\u001b[0m\n\u001b[1;32m    249\u001b[0m seg \u001b[38;5;241m=\u001b[39m np\u001b[38;5;241m.\u001b[39masarray(segmentation[frame, \u001b[38;5;241m.\u001b[39m\u001b[38;5;241m.\u001b[39m\u001b[38;5;241m.\u001b[39m])\n\u001b[1;32m    250\u001b[0m intens \u001b[38;5;241m=\u001b[39m (\n\u001b[1;32m    251\u001b[0m     np\u001b[38;5;241m.\u001b[39masarray(intensity_image[frame, \u001b[38;5;241m.\u001b[39m\u001b[38;5;241m.\u001b[39m\u001b[38;5;241m.\u001b[39m])\n\u001b[1;32m    252\u001b[0m     \u001b[38;5;28;01mif\u001b[39;00m USE_INTENSITY\n\u001b[1;32m    253\u001b[0m     \u001b[38;5;28;01melse\u001b[39;00m \u001b[38;5;28;01mNone\u001b[39;00m\n\u001b[1;32m    254\u001b[0m )\n\u001b[0;32m--> 255\u001b[0m _centroids \u001b[38;5;241m=\u001b[39m \u001b[43m_centroids_from_single_arr\u001b[49m\u001b[43m(\u001b[49m\n\u001b[1;32m    256\u001b[0m \u001b[43m    \u001b[49m\u001b[43mseg\u001b[49m\u001b[43m,\u001b[49m\n\u001b[1;32m    257\u001b[0m \u001b[43m    \u001b[49m\u001b[43mproperties\u001b[49m\u001b[43m,\u001b[49m\n\u001b[1;32m    258\u001b[0m \u001b[43m    \u001b[49m\u001b[43mframe\u001b[49m\u001b[43m,\u001b[49m\n\u001b[1;32m    259\u001b[0m \u001b[43m    \u001b[49m\u001b[43mintensity_image\u001b[49m\u001b[38;5;241;43m=\u001b[39;49m\u001b[43mintens\u001b[49m\u001b[43m,\u001b[49m\n\u001b[1;32m    260\u001b[0m \u001b[43m    \u001b[49m\u001b[43mscale\u001b[49m\u001b[38;5;241;43m=\u001b[39;49m\u001b[43mscale\u001b[49m\u001b[43m,\u001b[49m\n\u001b[1;32m    261\u001b[0m \u001b[43m    \u001b[49m\u001b[43muse_weighted_centroid\u001b[49m\u001b[38;5;241;43m=\u001b[39;49m\u001b[43mUSE_WEIGHTED\u001b[49m\u001b[43m,\u001b[49m\n\u001b[1;32m    262\u001b[0m \u001b[43m    \u001b[49m\u001b[43massign_class_ID\u001b[49m\u001b[38;5;241;43m=\u001b[39;49m\u001b[43massign_class_ID\u001b[49m\u001b[43m,\u001b[49m\n\u001b[1;32m    263\u001b[0m \u001b[43m\u001b[49m\u001b[43m)\u001b[49m\n\u001b[1;32m    265\u001b[0m \u001b[38;5;66;03m# concatenate the centroids\u001b[39;00m\n\u001b[1;32m    266\u001b[0m centroids \u001b[38;5;241m=\u001b[39m _concat_centroids(centroids, _centroids)\n",
      "File \u001b[0;32m~/analysis/BayesianTracker/btrack/_localization.py:82\u001b[0m, in \u001b[0;36m_centroids_from_single_arr\u001b[0;34m(segmentation, properties, frame, intensity_image, scale, use_weighted_centroid, assign_class_ID)\u001b[0m\n\u001b[1;32m     79\u001b[0m     \u001b[38;5;28;01melse\u001b[39;00m:\n\u001b[1;32m     80\u001b[0m         labeled \u001b[38;5;241m=\u001b[39m segmentation\n\u001b[0;32m---> 82\u001b[0m     _centroids \u001b[38;5;241m=\u001b[39m \u001b[43mregionprops_table\u001b[49m\u001b[43m(\u001b[49m\n\u001b[1;32m     83\u001b[0m \u001b[43m        \u001b[49m\u001b[43mlabeled\u001b[49m\u001b[43m,\u001b[49m\n\u001b[1;32m     84\u001b[0m \u001b[43m        \u001b[49m\u001b[43mintensity_image\u001b[49m\u001b[38;5;241;43m=\u001b[39;49m\u001b[43mintensity_image\u001b[49m\u001b[43m,\u001b[49m\n\u001b[1;32m     85\u001b[0m \u001b[43m        \u001b[49m\u001b[43mproperties\u001b[49m\u001b[38;5;241;43m=\u001b[39;49m\u001b[43mproperties\u001b[49m\u001b[43m,\u001b[49m\n\u001b[1;32m     86\u001b[0m \u001b[43m    \u001b[49m\u001b[43m)\u001b[49m\n\u001b[1;32m     88\u001b[0m \u001b[38;5;66;03m# add time to the array\u001b[39;00m\n\u001b[1;32m     89\u001b[0m _centroids[\u001b[38;5;124m\"\u001b[39m\u001b[38;5;124mt\u001b[39m\u001b[38;5;124m\"\u001b[39m] \u001b[38;5;241m=\u001b[39m np\u001b[38;5;241m.\u001b[39mfull(\n\u001b[1;32m     90\u001b[0m     _centroids[\u001b[38;5;124mf\u001b[39m\u001b[38;5;124m\"\u001b[39m\u001b[38;5;132;01m{\u001b[39;00mCENTROID_PROPERTY\u001b[38;5;132;01m}\u001b[39;00m\u001b[38;5;124m-0\u001b[39m\u001b[38;5;124m\"\u001b[39m]\u001b[38;5;241m.\u001b[39mshape, frame\n\u001b[1;32m     91\u001b[0m )\n",
      "File \u001b[0;32m~/miniconda3/envs/aero/lib/python3.9/site-packages/skimage/measure/_regionprops.py:996\u001b[0m, in \u001b[0;36mregionprops_table\u001b[0;34m(label_image, intensity_image, properties, cache, separator, extra_properties)\u001b[0m\n\u001b[1;32m    992\u001b[0m     out_d \u001b[38;5;241m=\u001b[39m _props_to_dict(regions, properties\u001b[38;5;241m=\u001b[39mproperties,\n\u001b[1;32m    993\u001b[0m                            separator\u001b[38;5;241m=\u001b[39mseparator)\n\u001b[1;32m    994\u001b[0m     \u001b[38;5;28;01mreturn\u001b[39;00m {k: v[:\u001b[38;5;241m0\u001b[39m] \u001b[38;5;28;01mfor\u001b[39;00m k, v \u001b[38;5;129;01min\u001b[39;00m out_d\u001b[38;5;241m.\u001b[39mitems()}\n\u001b[0;32m--> 996\u001b[0m \u001b[38;5;28;01mreturn\u001b[39;00m \u001b[43m_props_to_dict\u001b[49m\u001b[43m(\u001b[49m\n\u001b[1;32m    997\u001b[0m \u001b[43m    \u001b[49m\u001b[43mregions\u001b[49m\u001b[43m,\u001b[49m\u001b[43m \u001b[49m\u001b[43mproperties\u001b[49m\u001b[38;5;241;43m=\u001b[39;49m\u001b[43mproperties\u001b[49m\u001b[43m,\u001b[49m\u001b[43m \u001b[49m\u001b[43mseparator\u001b[49m\u001b[38;5;241;43m=\u001b[39;49m\u001b[43mseparator\u001b[49m\n\u001b[1;32m    998\u001b[0m \u001b[43m\u001b[49m\u001b[43m)\u001b[49m\n",
      "File \u001b[0;32m~/miniconda3/envs/aero/lib/python3.9/site-packages/skimage/measure/_regionprops.py:830\u001b[0m, in \u001b[0;36m_props_to_dict\u001b[0;34m(regions, properties, separator)\u001b[0m\n\u001b[1;32m    828\u001b[0m     rp \u001b[38;5;241m=\u001b[39m regions[k][prop]\n\u001b[1;32m    829\u001b[0m     \u001b[38;5;28;01mfor\u001b[39;00m i, loc \u001b[38;5;129;01min\u001b[39;00m \u001b[38;5;28menumerate\u001b[39m(locs):\n\u001b[0;32m--> 830\u001b[0m         column_data[k, i] \u001b[38;5;241m=\u001b[39m rp[loc]\n\u001b[1;32m    832\u001b[0m \u001b[38;5;66;03m# add the columns to the output dictionary\u001b[39;00m\n\u001b[1;32m    833\u001b[0m \u001b[38;5;28;01mfor\u001b[39;00m i, modified_prop \u001b[38;5;129;01min\u001b[39;00m \u001b[38;5;28menumerate\u001b[39m(modified_props):\n",
      "\u001b[0;31mValueError\u001b[0m: setting an array element with a sequence."
     ]
    }
   ],
   "source": [
    "objects = btrack.utils.segmentation_to_objects(\n",
    "            images['MASK1'], \n",
    "            multichannel_stack,\n",
    "            multichannel_input=False,\n",
    "            properties = props,#('area', 'mean_intensity', 'intensity_image'), \n",
    "#             use_weighted_centroid = False\n",
    "        )"
   ]
  },
  {
   "cell_type": "code",
   "execution_count": 15,
   "id": "8ed669b3",
   "metadata": {},
   "outputs": [
    {
     "name": "stderr",
     "output_type": "stream",
     "text": [
      "[INFO][2022/12/02 04:38:25 PM] Localizing objects from segmentation...\n",
      "[INFO][2022/12/02 04:38:25 PM] Found intensity_image data\n",
      "[INFO][2022/12/02 04:38:25 PM] Calculating weighted centroids using intensity_image\n",
      "/home/dayn/miniconda3/envs/aero/lib/python3.9/site-packages/skimage/measure/_regionprops.py:594: RuntimeWarning: invalid value encountered in true_divide\n",
      "  tuple(M[_get_element(axis)] / M0 for axis in range(self._ndim)))\n"
     ]
    },
    {
     "ename": "ValueError",
     "evalue": "setting an array element with a sequence.",
     "output_type": "error",
     "traceback": [
      "\u001b[0;31m---------------------------------------------------------------------------\u001b[0m",
      "\u001b[0;31mTypeError\u001b[0m                                 Traceback (most recent call last)",
      "\u001b[0;31mTypeError\u001b[0m: only size-1 arrays can be converted to Python scalars",
      "\nThe above exception was the direct cause of the following exception:\n",
      "\u001b[0;31mValueError\u001b[0m                                Traceback (most recent call last)",
      "Input \u001b[0;32mIn [15]\u001b[0m, in \u001b[0;36m<cell line: 1>\u001b[0;34m()\u001b[0m\n\u001b[0;32m----> 1\u001b[0m objects \u001b[38;5;241m=\u001b[39m \u001b[43mbtrack\u001b[49m\u001b[38;5;241;43m.\u001b[39;49m\u001b[43mutils\u001b[49m\u001b[38;5;241;43m.\u001b[39;49m\u001b[43msegmentation_to_objects\u001b[49m\u001b[43m(\u001b[49m\n\u001b[1;32m      2\u001b[0m \u001b[43m            \u001b[49m\u001b[43mimages\u001b[49m\u001b[43m[\u001b[49m\u001b[38;5;124;43m'\u001b[39;49m\u001b[38;5;124;43mMASK1\u001b[39;49m\u001b[38;5;124;43m'\u001b[39;49m\u001b[43m]\u001b[49m\u001b[43m,\u001b[49m\u001b[43m \u001b[49m\n\u001b[1;32m      3\u001b[0m \u001b[43m            \u001b[49m\u001b[43mmultichannel_stack\u001b[49m\u001b[43m,\u001b[49m\n\u001b[1;32m      4\u001b[0m \u001b[38;5;66;43;03m#             multichannel_input=False,\u001b[39;49;00m\n\u001b[1;32m      5\u001b[0m \u001b[43m            \u001b[49m\u001b[43mproperties\u001b[49m\u001b[43m \u001b[49m\u001b[38;5;241;43m=\u001b[39;49m\u001b[43m \u001b[49m\u001b[43mprops\u001b[49m\u001b[43m,\u001b[49m\u001b[38;5;66;43;03m#('area', 'mean_intensity', 'intensity_image'), \u001b[39;49;00m\n\u001b[1;32m      6\u001b[0m \u001b[38;5;66;43;03m#             use_weighted_centroid = False\u001b[39;49;00m\n\u001b[1;32m      7\u001b[0m \u001b[43m        \u001b[49m\u001b[43m)\u001b[49m\n",
      "File \u001b[0;32m~/analysis/BayesianTracker/btrack/_localization.py:255\u001b[0m, in \u001b[0;36msegmentation_to_objects\u001b[0;34m(segmentation, intensity_image, multichannel_input, properties, scale, use_weighted_centroid, assign_class_ID)\u001b[0m\n\u001b[1;32m    249\u001b[0m seg \u001b[38;5;241m=\u001b[39m np\u001b[38;5;241m.\u001b[39masarray(segmentation[frame, \u001b[38;5;241m.\u001b[39m\u001b[38;5;241m.\u001b[39m\u001b[38;5;241m.\u001b[39m])\n\u001b[1;32m    250\u001b[0m intens \u001b[38;5;241m=\u001b[39m (\n\u001b[1;32m    251\u001b[0m     np\u001b[38;5;241m.\u001b[39masarray(intensity_image[frame, \u001b[38;5;241m.\u001b[39m\u001b[38;5;241m.\u001b[39m\u001b[38;5;241m.\u001b[39m])\n\u001b[1;32m    252\u001b[0m     \u001b[38;5;28;01mif\u001b[39;00m USE_INTENSITY\n\u001b[1;32m    253\u001b[0m     \u001b[38;5;28;01melse\u001b[39;00m \u001b[38;5;28;01mNone\u001b[39;00m\n\u001b[1;32m    254\u001b[0m )\n\u001b[0;32m--> 255\u001b[0m _centroids \u001b[38;5;241m=\u001b[39m \u001b[43m_centroids_from_single_arr\u001b[49m\u001b[43m(\u001b[49m\n\u001b[1;32m    256\u001b[0m \u001b[43m    \u001b[49m\u001b[43mseg\u001b[49m\u001b[43m,\u001b[49m\n\u001b[1;32m    257\u001b[0m \u001b[43m    \u001b[49m\u001b[43mproperties\u001b[49m\u001b[43m,\u001b[49m\n\u001b[1;32m    258\u001b[0m \u001b[43m    \u001b[49m\u001b[43mframe\u001b[49m\u001b[43m,\u001b[49m\n\u001b[1;32m    259\u001b[0m \u001b[43m    \u001b[49m\u001b[43mintensity_image\u001b[49m\u001b[38;5;241;43m=\u001b[39;49m\u001b[43mintens\u001b[49m\u001b[43m,\u001b[49m\n\u001b[1;32m    260\u001b[0m \u001b[43m    \u001b[49m\u001b[43mscale\u001b[49m\u001b[38;5;241;43m=\u001b[39;49m\u001b[43mscale\u001b[49m\u001b[43m,\u001b[49m\n\u001b[1;32m    261\u001b[0m \u001b[43m    \u001b[49m\u001b[43muse_weighted_centroid\u001b[49m\u001b[38;5;241;43m=\u001b[39;49m\u001b[43mUSE_WEIGHTED\u001b[49m\u001b[43m,\u001b[49m\n\u001b[1;32m    262\u001b[0m \u001b[43m    \u001b[49m\u001b[43massign_class_ID\u001b[49m\u001b[38;5;241;43m=\u001b[39;49m\u001b[43massign_class_ID\u001b[49m\u001b[43m,\u001b[49m\n\u001b[1;32m    263\u001b[0m \u001b[43m\u001b[49m\u001b[43m)\u001b[49m\n\u001b[1;32m    265\u001b[0m \u001b[38;5;66;03m# concatenate the centroids\u001b[39;00m\n\u001b[1;32m    266\u001b[0m centroids \u001b[38;5;241m=\u001b[39m _concat_centroids(centroids, _centroids)\n",
      "File \u001b[0;32m~/analysis/BayesianTracker/btrack/_localization.py:82\u001b[0m, in \u001b[0;36m_centroids_from_single_arr\u001b[0;34m(segmentation, properties, frame, intensity_image, scale, use_weighted_centroid, assign_class_ID)\u001b[0m\n\u001b[1;32m     79\u001b[0m     \u001b[38;5;28;01melse\u001b[39;00m:\n\u001b[1;32m     80\u001b[0m         labeled \u001b[38;5;241m=\u001b[39m segmentation\n\u001b[0;32m---> 82\u001b[0m     _centroids \u001b[38;5;241m=\u001b[39m \u001b[43mregionprops_table\u001b[49m\u001b[43m(\u001b[49m\n\u001b[1;32m     83\u001b[0m \u001b[43m        \u001b[49m\u001b[43mlabeled\u001b[49m\u001b[43m,\u001b[49m\n\u001b[1;32m     84\u001b[0m \u001b[43m        \u001b[49m\u001b[43mintensity_image\u001b[49m\u001b[38;5;241;43m=\u001b[39;49m\u001b[43mintensity_image\u001b[49m\u001b[43m,\u001b[49m\n\u001b[1;32m     85\u001b[0m \u001b[43m        \u001b[49m\u001b[43mproperties\u001b[49m\u001b[38;5;241;43m=\u001b[39;49m\u001b[43mproperties\u001b[49m\u001b[43m,\u001b[49m\n\u001b[1;32m     86\u001b[0m \u001b[43m    \u001b[49m\u001b[43m)\u001b[49m\n\u001b[1;32m     88\u001b[0m \u001b[38;5;66;03m# add time to the array\u001b[39;00m\n\u001b[1;32m     89\u001b[0m _centroids[\u001b[38;5;124m\"\u001b[39m\u001b[38;5;124mt\u001b[39m\u001b[38;5;124m\"\u001b[39m] \u001b[38;5;241m=\u001b[39m np\u001b[38;5;241m.\u001b[39mfull(\n\u001b[1;32m     90\u001b[0m     _centroids[\u001b[38;5;124mf\u001b[39m\u001b[38;5;124m\"\u001b[39m\u001b[38;5;132;01m{\u001b[39;00mCENTROID_PROPERTY\u001b[38;5;132;01m}\u001b[39;00m\u001b[38;5;124m-0\u001b[39m\u001b[38;5;124m\"\u001b[39m]\u001b[38;5;241m.\u001b[39mshape, frame\n\u001b[1;32m     91\u001b[0m )\n",
      "File \u001b[0;32m~/miniconda3/envs/aero/lib/python3.9/site-packages/skimage/measure/_regionprops.py:996\u001b[0m, in \u001b[0;36mregionprops_table\u001b[0;34m(label_image, intensity_image, properties, cache, separator, extra_properties)\u001b[0m\n\u001b[1;32m    992\u001b[0m     out_d \u001b[38;5;241m=\u001b[39m _props_to_dict(regions, properties\u001b[38;5;241m=\u001b[39mproperties,\n\u001b[1;32m    993\u001b[0m                            separator\u001b[38;5;241m=\u001b[39mseparator)\n\u001b[1;32m    994\u001b[0m     \u001b[38;5;28;01mreturn\u001b[39;00m {k: v[:\u001b[38;5;241m0\u001b[39m] \u001b[38;5;28;01mfor\u001b[39;00m k, v \u001b[38;5;129;01min\u001b[39;00m out_d\u001b[38;5;241m.\u001b[39mitems()}\n\u001b[0;32m--> 996\u001b[0m \u001b[38;5;28;01mreturn\u001b[39;00m \u001b[43m_props_to_dict\u001b[49m\u001b[43m(\u001b[49m\n\u001b[1;32m    997\u001b[0m \u001b[43m    \u001b[49m\u001b[43mregions\u001b[49m\u001b[43m,\u001b[49m\u001b[43m \u001b[49m\u001b[43mproperties\u001b[49m\u001b[38;5;241;43m=\u001b[39;49m\u001b[43mproperties\u001b[49m\u001b[43m,\u001b[49m\u001b[43m \u001b[49m\u001b[43mseparator\u001b[49m\u001b[38;5;241;43m=\u001b[39;49m\u001b[43mseparator\u001b[49m\n\u001b[1;32m    998\u001b[0m \u001b[43m\u001b[49m\u001b[43m)\u001b[49m\n",
      "File \u001b[0;32m~/miniconda3/envs/aero/lib/python3.9/site-packages/skimage/measure/_regionprops.py:830\u001b[0m, in \u001b[0;36m_props_to_dict\u001b[0;34m(regions, properties, separator)\u001b[0m\n\u001b[1;32m    828\u001b[0m     rp \u001b[38;5;241m=\u001b[39m regions[k][prop]\n\u001b[1;32m    829\u001b[0m     \u001b[38;5;28;01mfor\u001b[39;00m i, loc \u001b[38;5;129;01min\u001b[39;00m \u001b[38;5;28menumerate\u001b[39m(locs):\n\u001b[0;32m--> 830\u001b[0m         column_data[k, i] \u001b[38;5;241m=\u001b[39m rp[loc]\n\u001b[1;32m    832\u001b[0m \u001b[38;5;66;03m# add the columns to the output dictionary\u001b[39;00m\n\u001b[1;32m    833\u001b[0m \u001b[38;5;28;01mfor\u001b[39;00m i, modified_prop \u001b[38;5;129;01min\u001b[39;00m \u001b[38;5;28menumerate\u001b[39m(modified_props):\n",
      "\u001b[0;31mValueError\u001b[0m: setting an array element with a sequence."
     ]
    }
   ],
   "source": [
    "objects = btrack.utils.segmentation_to_objects(\n",
    "            images['MASK1'], \n",
    "            multichannel_stack,\n",
    "#             multichannel_input=False,\n",
    "            properties = props,#('area', 'mean_intensity', 'intensity_image'), \n",
    "#             use_weighted_centroid = False\n",
    "        )"
   ]
  },
  {
   "cell_type": "code",
   "execution_count": 14,
   "id": "fb187174",
   "metadata": {},
   "outputs": [
    {
     "name": "stderr",
     "output_type": "stream",
     "text": [
      "[INFO][2022/12/02 04:36:42 PM] Localizing objects from segmentation...\n",
      "[INFO][2022/12/02 04:36:42 PM] Found intensity_image data\n",
      "\n",
      "KeyboardInterrupt\n",
      "\n"
     ]
    }
   ],
   "source": [
    "objects = btrack.utils.segmentation_to_objects(\n",
    "            images['MASK1'], \n",
    "            multichannel_stack,\n",
    "            multichannel_input=True,\n",
    "            properties = props,#('area', 'mean_intensity', 'intensity_image'), \n",
    "            use_weighted_centroid = False\n",
    "        )"
   ]
  },
  {
   "cell_type": "markdown",
   "id": "a8781033",
   "metadata": {},
   "source": [
    "# The issue:\n",
    "\n",
    "I need a way of discerning whether the input intensity image is multichannel or not... \n",
    "\n",
    "I cannot just read the number of dimensions as it could be a 3D volume."
   ]
  },
  {
   "cell_type": "markdown",
   "id": "a08e3a0d",
   "metadata": {},
   "source": [
    "# I think if this one doesn't work it's due to the filename... but surely because I'm reading images from that address then the filepath works...?"
   ]
  },
  {
   "cell_type": "code",
   "execution_count": 15,
   "id": "c8a48401",
   "metadata": {
    "scrolled": false
   },
   "outputs": [
    {
     "data": {
      "application/vnd.jupyter.widget-view+json": {
       "model_id": "6aad230b67cf49f2b2749d149bb8c769",
       "version_major": 2,
       "version_minor": 0
      },
      "text/plain": [
       "  0%|          | 0/3 [00:00<?, ?it/s]"
      ]
     },
     "metadata": {},
     "output_type": "display_data"
    },
    {
     "name": "stdout",
     "output_type": "stream",
     "text": [
      "0\n",
      "1\n"
     ]
    },
    {
     "name": "stderr",
     "output_type": "stream",
     "text": [
      "[INFO][2022/12/02 11:06:17 AM] Localizing objects from segmentation...\n",
      "[INFO][2022/12/02 11:06:17 AM] Found intensity_image data\n",
      "[INFO][2022/12/02 11:08:43 AM] Objects are of type: <class 'dict'>\n",
      "[INFO][2022/12/02 11:08:45 AM] ...Found 89178 objects in 81 frames.\n",
      "[INFO][2022/12/02 11:08:45 AM] Opening HDF file: mono-culture_iAT2AT1_for analysis_20221125_DAPI-CAV1-proSPC-ZO1_Day7_static__20x_21-12-031B_A12456_Multichannel Z-Stack_20220811_130__objects.hdf5...\n",
      "[INFO][2022/12/02 11:09:13 AM] Writing objects/obj_type_1\n",
      "[INFO][2022/12/02 11:09:13 AM] Writing labels/obj_type_1\n",
      "[INFO][2022/12/02 11:09:13 AM] Loading objects/obj_type_1 (82669, 5) (82669 filtered: None)\n",
      "[INFO][2022/12/02 11:09:14 AM] Writing properties/obj_type_1/axis_major_length (82669,)\n",
      "[INFO][2022/12/02 11:09:14 AM] Writing properties/obj_type_1/axis_minor_length (82669,)\n",
      "[INFO][2022/12/02 11:09:14 AM] Writing properties/obj_type_1/eccentricity (82669,)\n",
      "[INFO][2022/12/02 11:09:14 AM] Writing properties/obj_type_1/area (82669,)\n",
      "[INFO][2022/12/02 11:09:14 AM] Writing properties/obj_type_1/orientation (82669,)\n",
      "[INFO][2022/12/02 11:09:14 AM] Writing properties/obj_type_1/mean_intensity-0 (82669,)\n",
      "[INFO][2022/12/02 11:09:14 AM] Writing properties/obj_type_1/mean_intensity-1 (82669,)\n",
      "[INFO][2022/12/02 11:09:15 AM] Writing properties/obj_type_1/mean_intensity-2 (82669,)\n",
      "[INFO][2022/12/02 11:09:15 AM] Writing properties/obj_type_1/mean_intensity-3 (82669,)\n",
      "[INFO][2022/12/02 11:09:15 AM] Closing HDF file: mono-culture_iAT2AT1_for analysis_20221125_DAPI-CAV1-proSPC-ZO1_Day7_static__20x_21-12-031B_A12456_Multichannel Z-Stack_20220811_130__objects.hdf5\n",
      "[INFO][2022/12/02 11:09:15 AM] Loaded btrack: /home/dayn/analysis/BayesianTracker/btrack/libs/libtracker.so\n",
      "[INFO][2022/12/02 11:09:15 AM] btrack (v0.5.0) library imported\n",
      "[INFO][2022/12/02 11:09:15 AM] Starting BayesianTracker session\n",
      "[INFO][2022/12/02 11:09:15 AM] Loading configuration file: /home/dayn/analysis/BayesianTracker/models/particle_config.json\n",
      "[INFO][2022/12/02 11:09:15 AM] Setting max_search_radius -> 100\n",
      "[INFO][2022/12/02 11:09:15 AM] Setting features -> ('axis_major_length', 'axis_minor_length', 'eccentricity', 'area', 'orientation', 'mean_intensity-0', 'mean_intensity-1', 'mean_intensity-2', 'mean_intensity-3')\n",
      "[INFO][2022/12/02 11:09:15 AM] Objects are of type: <class 'list'>\n",
      "[INFO][2022/12/02 11:09:17 AM] Setting volume -> ((0, 2304), (0, 2304), (-100000.0, 100000.0))\n",
      "[INFO][2022/12/02 11:09:17 AM] Starting tracking... \n",
      "[INFO][2022/12/02 11:09:17 AM] Update using: ['VISUAL', 'MOTION']\n",
      "[INFO][2022/12/02 11:09:17 AM] Tracking objects in frames 0 to 9 (of 81)...\n",
      "[INFO][2022/12/02 11:09:17 AM]  - Timing (Bayesian updates: 2.45ms, Linking: 0.83ms)\n",
      "[INFO][2022/12/02 11:09:17 AM]  - Probabilities (Link: 0.73776, Lost: 1.00000)\n",
      "[INFO][2022/12/02 11:09:17 AM]  - Stats (Active: 251, Lost: 806, Conflicts resolved: 349)\n",
      "[INFO][2022/12/02 11:09:17 AM] Tracking objects in frames 10 to 19 (of 81)...\n",
      "[INFO][2022/12/02 11:12:30 AM]  - Timing (Bayesian updates: 39226.94ms, Linking: 70.93ms)\n",
      "[INFO][2022/12/02 11:12:30 AM]  - Probabilities (Link: 0.51544, Lost: 0.99998)\n",
      "[INFO][2022/12/02 11:12:30 AM]  - Stats (Active: 4644, Lost: 1774, Conflicts resolved: 3444)\n",
      "[INFO][2022/12/02 11:12:30 AM] Tracking objects in frames 20 to 29 (of 81)...\n",
      "[INFO][2022/12/02 11:36:16 AM]  - Timing (Bayesian updates: 27927.45ms, Linking: 78.19ms)\n",
      "[INFO][2022/12/02 11:36:16 AM]  - Probabilities (Link: 1.00000, Lost: 1.00000)\n",
      "[INFO][2022/12/02 11:36:16 AM]  - Stats (Active: 6201, Lost: 6512, Conflicts resolved: 11264)\n",
      "[INFO][2022/12/02 11:36:16 AM] Tracking objects in frames 30 to 39 (of 81)...\n",
      "[INFO][2022/12/02 11:37:49 AM]  - Timing (Bayesian updates: 759.58ms, Linking: 15.49ms)\n",
      "[INFO][2022/12/02 11:37:49 AM]  - Probabilities (Link: 1.00000, Lost: 0.89552)\n",
      "[INFO][2022/12/02 11:37:49 AM]  - Stats (Active: 2298, Lost: 22291, Conflicts resolved: 15284)\n",
      "[INFO][2022/12/02 11:37:49 AM] Tracking objects in frames 40 to 49 (of 81)...\n",
      "[INFO][2022/12/02 11:37:51 AM]  - Timing (Bayesian updates: 2.20ms, Linking: 0.85ms)\n",
      "[INFO][2022/12/02 11:37:51 AM]  - Probabilities (Link: 0.99994, Lost: 1.00000)\n",
      "[INFO][2022/12/02 11:37:51 AM]  - Stats (Active: 254, Lost: 30595, Conflicts resolved: 16245)\n",
      "[INFO][2022/12/02 11:37:51 AM] Tracking objects in frames 50 to 59 (of 81)...\n",
      "[INFO][2022/12/02 11:37:51 AM]  - Timing (Bayesian updates: 1.66ms, Linking: 0.69ms)\n",
      "[INFO][2022/12/02 11:37:51 AM]  - Probabilities (Link: 0.99586, Lost: 1.00000)\n",
      "[INFO][2022/12/02 11:37:51 AM]  - Stats (Active: 220, Lost: 31454, Conflicts resolved: 16540)\n",
      "[INFO][2022/12/02 11:37:51 AM] Tracking objects in frames 60 to 69 (of 81)...\n",
      "[INFO][2022/12/02 11:37:51 AM]  - Timing (Bayesian updates: 2.02ms, Linking: 0.83ms)\n",
      "[INFO][2022/12/02 11:37:51 AM]  - Probabilities (Link: 0.99076, Lost: 0.99212)\n",
      "[INFO][2022/12/02 11:37:51 AM]  - Stats (Active: 196, Lost: 32495, Conflicts resolved: 16785)\n",
      "[INFO][2022/12/02 11:37:51 AM] Tracking objects in frames 70 to 79 (of 81)...\n",
      "[INFO][2022/12/02 11:37:51 AM]  - Timing (Bayesian updates: 1.32ms, Linking: 0.55ms)\n",
      "[INFO][2022/12/02 11:37:51 AM]  - Probabilities (Link: 0.99999, Lost: 1.00000)\n",
      "[INFO][2022/12/02 11:37:51 AM] SUCCESS.\n",
      "[INFO][2022/12/02 11:37:51 AM]  - Found 10571 tracks in 81 frames (in 0.0s)\n",
      "[INFO][2022/12/02 11:37:52 AM]  - Inserted 11517 dummy objects to fill tracking gaps\n",
      "[INFO][2022/12/02 11:37:52 AM] Loading hypothesis model: particle_hypothesis\n",
      "[INFO][2022/12/02 11:37:52 AM] Calculating hypotheses (relax: True)...\n",
      "[INFO][2022/12/02 11:37:52 AM] Setting up constraints matrix for global optimisation...\n",
      "[INFO][2022/12/02 11:37:52 AM] Using GLPK options: {'tm_lim': 60000}...\n",
      "[INFO][2022/12/02 11:37:52 AM] Optimizing...\n",
      "[INFO][2022/12/02 11:37:58 AM] Optimization complete. (Solution: optimal)\n",
      "[INFO][2022/12/02 11:37:58 AM]  - Fates.FALSE_POSITIVE: 2620 (of 10571)\n",
      "[INFO][2022/12/02 11:37:58 AM]  - Fates.LINK: 1374 (of 3932)\n",
      "[INFO][2022/12/02 11:37:58 AM]  - Fates.INITIALIZE_BORDER: 867 (of 1251)\n",
      "[INFO][2022/12/02 11:37:58 AM]  - Fates.INITIALIZE_FRONT: 184 (of 197)\n",
      "[INFO][2022/12/02 11:37:58 AM]  - Fates.INITIALIZE_LAZY: 5526 (of 9123)\n",
      "[INFO][2022/12/02 11:37:58 AM]  - Fates.TERMINATE_BORDER: 783 (of 1172)\n",
      "[INFO][2022/12/02 11:37:58 AM]  - Fates.TERMINATE_BACK: 208 (of 238)\n",
      "[INFO][2022/12/02 11:37:58 AM]  - Fates.TERMINATE_LAZY: 5586 (of 9161)\n",
      "[INFO][2022/12/02 11:37:58 AM]  - TOTAL: 35645 hypotheses\n",
      "[INFO][2022/12/02 11:37:58 AM] Completed optimization with 9197 tracks\n"
     ]
    },
    {
     "name": "stdout",
     "output_type": "stream",
     "text": [
      "GLPK Integer Optimizer 5.0\n",
      "42284 rows, 35645 columns, 50148 non-zeros\n",
      "35645 integer variables, all of which are binary\n",
      "Preprocessing...\n",
      "21142 rows, 35645 columns, 50148 non-zeros\n",
      "35645 integer variables, all of which are binary\n",
      "Scaling...\n",
      " A: min|aij| =  1.000e+00  max|aij| =  1.000e+00  ratio =  1.000e+00\n",
      "Problem data seem to be well scaled\n",
      "Constructing initial basis...\n",
      "Size of triangular part is 21142\n",
      "Solving LP relaxation...\n",
      "GLPK Simplex Optimizer 5.0\n",
      "21142 rows, 35645 columns, 50148 non-zeros\n",
      "*     0: obj =   1.279688888e+05 inf =   0.000e+00 (7517)\n",
      "Perturbing LP to avoid stalling [1074]...\n",
      "*  6264: obj =   9.043003531e+04 inf =   0.000e+00 (335) 2\n",
      "Removing LP perturbation [6603]...\n",
      "*  6603: obj =   9.025442271e+04 inf =   0.000e+00 (0) 1\n",
      "OPTIMAL LP SOLUTION FOUND\n",
      "Integer optimization begins...\n",
      "Long-step dual simplex will be used\n",
      "+  6603: mip =     not found yet >=              -inf        (1; 0)\n",
      "+  6603: >>>>>   9.025442271e+04 >=   9.025442271e+04   0.0% (1; 0)\n",
      "+  6603: mip =   9.025442271e+04 >=     tree is empty   0.0% (0; 1)\n",
      "INTEGER OPTIMAL SOLUTION FOUND\n"
     ]
    },
    {
     "name": "stderr",
     "output_type": "stream",
     "text": [
      "[WARNING][2022/12/02 11:37:59 AM] Changing HDF filename to mono-culture_iAT2AT1_for analysis_20221125_DAPI-CAV1-proSPC-ZO1_Day7_static__20x_21-12-031B_A12456_Multichannel Z-Stack_20220811_130__tracks.h5\n",
      "[INFO][2022/12/02 11:37:59 AM] Opening HDF file: mono-culture_iAT2AT1_for analysis_20221125_DAPI-CAV1-proSPC-ZO1_Day7_static__20x_21-12-031B_A12456_Multichannel Z-Stack_20220811_130__tracks.h5...\n",
      "[INFO][2022/12/02 11:38:00 AM] Writing objects/obj_type_1\n",
      "[INFO][2022/12/02 11:38:00 AM] Writing labels/obj_type_1\n",
      "[INFO][2022/12/02 11:38:00 AM] Loading objects/obj_type_1 (82669, 5) (82669 filtered: None)\n",
      "[INFO][2022/12/02 11:38:01 AM] Writing properties/obj_type_1/axis_major_length (82669,)\n",
      "[INFO][2022/12/02 11:38:01 AM] Writing properties/obj_type_1/axis_minor_length (82669,)\n",
      "[INFO][2022/12/02 11:38:01 AM] Writing properties/obj_type_1/eccentricity (82669,)\n",
      "[INFO][2022/12/02 11:38:01 AM] Writing properties/obj_type_1/area (82669,)\n",
      "[INFO][2022/12/02 11:38:01 AM] Writing properties/obj_type_1/orientation (82669,)\n",
      "[INFO][2022/12/02 11:38:01 AM] Writing properties/obj_type_1/mean_intensity-0 (82669,)\n",
      "[INFO][2022/12/02 11:38:01 AM] Writing properties/obj_type_1/mean_intensity-1 (82669,)\n",
      "[INFO][2022/12/02 11:38:01 AM] Writing properties/obj_type_1/mean_intensity-2 (82669,)\n",
      "[INFO][2022/12/02 11:38:01 AM] Writing properties/obj_type_1/mean_intensity-3 (82669,)\n",
      "[INFO][2022/12/02 11:38:02 AM] Writing tracks/obj_type_1\n",
      "[INFO][2022/12/02 11:38:02 AM] Writing dummies/obj_type_1\n",
      "[INFO][2022/12/02 11:38:02 AM] Writing LBEP/obj_type_1\n",
      "[INFO][2022/12/02 11:38:02 AM] Writing fates/obj_type_1\n",
      "[INFO][2022/12/02 11:38:02 AM] Closing HDF file: mono-culture_iAT2AT1_for analysis_20221125_DAPI-CAV1-proSPC-ZO1_Day7_static__20x_21-12-031B_A12456_Multichannel Z-Stack_20220811_130__tracks.h5\n",
      "[INFO][2022/12/02 11:38:02 AM] Ending BayesianTracker session\n"
     ]
    },
    {
     "name": "stdout",
     "output_type": "stream",
     "text": [
      "2\n"
     ]
    },
    {
     "name": "stderr",
     "output_type": "stream",
     "text": [
      "[INFO][2022/12/02 11:38:03 AM] Localizing objects from segmentation...\n",
      "[INFO][2022/12/02 11:38:03 AM] Found intensity_image data\n",
      "[INFO][2022/12/02 11:40:36 AM] Objects are of type: <class 'dict'>\n",
      "[INFO][2022/12/02 11:40:37 AM] ...Found 64389 objects in 81 frames.\n",
      "[INFO][2022/12/02 11:40:37 AM] Opening HDF file: mono-culture_iAT2AT1_for analysis_20221125_DAPI-CAV1-proSPC-ZO1_Day14_static__20x_21-12-028A_A23456_Multichannel Z-Stack_20220818_253__objects.hdf5...\n",
      "[INFO][2022/12/02 11:41:09 AM] Writing objects/obj_type_1\n",
      "[INFO][2022/12/02 11:41:09 AM] Writing labels/obj_type_1\n",
      "[INFO][2022/12/02 11:41:09 AM] Loading objects/obj_type_1 (58357, 5) (58357 filtered: None)\n",
      "[INFO][2022/12/02 11:41:10 AM] Writing properties/obj_type_1/axis_major_length (58357,)\n",
      "[INFO][2022/12/02 11:41:10 AM] Writing properties/obj_type_1/axis_minor_length (58357,)\n",
      "[INFO][2022/12/02 11:41:10 AM] Writing properties/obj_type_1/eccentricity (58357,)\n",
      "[INFO][2022/12/02 11:41:10 AM] Writing properties/obj_type_1/area (58357,)\n",
      "[INFO][2022/12/02 11:41:10 AM] Writing properties/obj_type_1/orientation (58357,)\n",
      "[INFO][2022/12/02 11:41:10 AM] Writing properties/obj_type_1/mean_intensity-0 (58357,)\n",
      "[INFO][2022/12/02 11:41:10 AM] Writing properties/obj_type_1/mean_intensity-1 (58357,)\n",
      "[INFO][2022/12/02 11:41:10 AM] Writing properties/obj_type_1/mean_intensity-2 (58357,)\n",
      "[INFO][2022/12/02 11:41:10 AM] Writing properties/obj_type_1/mean_intensity-3 (58357,)\n",
      "[INFO][2022/12/02 11:41:10 AM] Closing HDF file: mono-culture_iAT2AT1_for analysis_20221125_DAPI-CAV1-proSPC-ZO1_Day14_static__20x_21-12-028A_A23456_Multichannel Z-Stack_20220818_253__objects.hdf5\n",
      "[INFO][2022/12/02 11:41:10 AM] Loaded btrack: /home/dayn/analysis/BayesianTracker/btrack/libs/libtracker.so\n",
      "[INFO][2022/12/02 11:41:10 AM] btrack (v0.5.0) library imported\n",
      "[INFO][2022/12/02 11:41:10 AM] Starting BayesianTracker session\n",
      "[INFO][2022/12/02 11:41:10 AM] Loading configuration file: /home/dayn/analysis/BayesianTracker/models/particle_config.json\n",
      "[INFO][2022/12/02 11:41:10 AM] Setting max_search_radius -> 100\n",
      "[INFO][2022/12/02 11:41:10 AM] Setting features -> ('axis_major_length', 'axis_minor_length', 'eccentricity', 'area', 'orientation', 'mean_intensity-0', 'mean_intensity-1', 'mean_intensity-2', 'mean_intensity-3')\n",
      "[INFO][2022/12/02 11:41:10 AM] Objects are of type: <class 'list'>\n",
      "[INFO][2022/12/02 11:41:12 AM] Setting volume -> ((0, 2304), (0, 2304), (-100000.0, 100000.0))\n",
      "[INFO][2022/12/02 11:41:12 AM] Starting tracking... \n",
      "[INFO][2022/12/02 11:41:12 AM] Update using: ['VISUAL', 'MOTION']\n",
      "[INFO][2022/12/02 11:41:12 AM] Tracking objects in frames 0 to 9 (of 81)...\n",
      "[INFO][2022/12/02 11:41:12 AM]  - Timing (Bayesian updates: 1.65ms, Linking: 0.59ms)\n",
      "[INFO][2022/12/02 11:41:12 AM]  - Probabilities (Link: 0.98128, Lost: 1.00000)\n",
      "[INFO][2022/12/02 11:41:12 AM]  - Stats (Active: 154, Lost: 759, Conflicts resolved: 307)\n",
      "[INFO][2022/12/02 11:41:12 AM] Tracking objects in frames 10 to 19 (of 81)...\n",
      "[INFO][2022/12/02 11:41:47 AM]  - Timing (Bayesian updates: 15009.70ms, Linking: 32.50ms)\n",
      "[INFO][2022/12/02 11:41:47 AM]  - Probabilities (Link: 0.99996, Lost: 0.72883)\n",
      "[INFO][2022/12/02 11:41:47 AM]  - Stats (Active: 1956, Lost: 1701, Conflicts resolved: 959)\n",
      "[INFO][2022/12/02 11:41:47 AM] Tracking objects in frames 20 to 29 (of 81)...\n",
      "[INFO][2022/12/02 12:00:11 PM]  - Timing (Bayesian updates: 20882.98ms, Linking: 65.24ms)\n",
      "[INFO][2022/12/02 12:00:11 PM]  - Probabilities (Link: 1.00000, Lost: 0.99999)\n",
      "[INFO][2022/12/02 12:00:11 PM]  - Stats (Active: 5099, Lost: 4789, Conflicts resolved: 8675)\n",
      "[INFO][2022/12/02 12:00:11 PM] Tracking objects in frames 30 to 39 (of 81)...\n",
      "[INFO][2022/12/02 12:00:27 PM]  - Timing (Bayesian updates: 0.01ms, Linking: 0.29ms)\n",
      "[INFO][2022/12/02 12:00:27 PM]  - Probabilities (Link: 0.99992, Lost: 1.00000)\n",
      "[INFO][2022/12/02 12:00:27 PM]  - Stats (Active: 143, Lost: 32857, Conflicts resolved: 9268)\n",
      "[INFO][2022/12/02 12:00:27 PM] Tracking objects in frames 40 to 49 (of 81)...\n",
      "[INFO][2022/12/02 12:00:27 PM]  - Timing (Bayesian updates: 4.34ms, Linking: 0.98ms)\n",
      "[INFO][2022/12/02 12:00:27 PM]  - Probabilities (Link: 1.00000, Lost: 0.99500)\n",
      "[INFO][2022/12/02 12:00:27 PM]  - Stats (Active: 314, Lost: 33522, Conflicts resolved: 9550)\n",
      "[INFO][2022/12/02 12:00:27 PM] Tracking objects in frames 50 to 59 (of 81)...\n",
      "[INFO][2022/12/02 12:00:27 PM]  - Timing (Bayesian updates: 2.70ms, Linking: 0.83ms)\n",
      "[INFO][2022/12/02 12:00:27 PM]  - Probabilities (Link: 1.00000, Lost: 0.99993)\n",
      "[INFO][2022/12/02 12:00:27 PM]  - Stats (Active: 271, Lost: 34580, Conflicts resolved: 10019)\n",
      "[INFO][2022/12/02 12:00:27 PM] Tracking objects in frames 60 to 69 (of 81)...\n",
      "[INFO][2022/12/02 12:00:28 PM]  - Timing (Bayesian updates: 2.04ms, Linking: 0.73ms)\n",
      "[INFO][2022/12/02 12:00:28 PM]  - Probabilities (Link: 0.55543, Lost: 1.00000)\n",
      "[INFO][2022/12/02 12:00:28 PM]  - Stats (Active: 289, Lost: 35401, Conflicts resolved: 10350)\n",
      "[INFO][2022/12/02 12:00:28 PM] Tracking objects in frames 70 to 79 (of 81)...\n",
      "[INFO][2022/12/02 12:00:28 PM]  - Timing (Bayesian updates: 2.31ms, Linking: 0.77ms)\n",
      "[INFO][2022/12/02 12:00:28 PM]  - Probabilities (Link: 0.99947, Lost: 1.00000)\n",
      "[INFO][2022/12/02 12:00:28 PM] SUCCESS.\n",
      "[INFO][2022/12/02 12:00:28 PM]  - Found 8919 tracks in 81 frames (in 0.0s)\n",
      "[INFO][2022/12/02 12:00:28 PM]  - Inserted 6357 dummy objects to fill tracking gaps\n",
      "[INFO][2022/12/02 12:00:28 PM] Loading hypothesis model: particle_hypothesis\n",
      "[INFO][2022/12/02 12:00:28 PM] Calculating hypotheses (relax: True)...\n",
      "[INFO][2022/12/02 12:00:28 PM] Setting up constraints matrix for global optimisation...\n",
      "[INFO][2022/12/02 12:00:28 PM] Using GLPK options: {'tm_lim': 60000}...\n",
      "[INFO][2022/12/02 12:00:28 PM] Optimizing...\n",
      "[INFO][2022/12/02 12:00:32 PM] Optimization complete. (Solution: optimal)\n",
      "[INFO][2022/12/02 12:00:32 PM]  - Fates.FALSE_POSITIVE: 2377 (of 8919)\n",
      "[INFO][2022/12/02 12:00:32 PM]  - Fates.LINK: 793 (of 2792)\n",
      "[INFO][2022/12/02 12:00:32 PM]  - Fates.INITIALIZE_BORDER: 1140 (of 1672)\n",
      "[INFO][2022/12/02 12:00:32 PM]  - Fates.INITIALIZE_FRONT: 233 (of 266)\n",
      "[INFO][2022/12/02 12:00:32 PM]  - Fates.INITIALIZE_LAZY: 4376 (of 6981)\n",
      "[INFO][2022/12/02 12:00:32 PM]  - Fates.TERMINATE_BORDER: 1027 (of 1566)\n",
      "[INFO][2022/12/02 12:00:32 PM]  - Fates.TERMINATE_BACK: 246 (of 300)\n",
      "[INFO][2022/12/02 12:00:32 PM]  - Fates.TERMINATE_LAZY: 4476 (of 7053)\n",
      "[INFO][2022/12/02 12:00:32 PM]  - TOTAL: 29549 hypotheses\n",
      "[INFO][2022/12/02 12:00:32 PM] Completed optimization with 8126 tracks\n"
     ]
    },
    {
     "name": "stdout",
     "output_type": "stream",
     "text": [
      "GLPK Integer Optimizer 5.0\n",
      "35676 rows, 29549 columns, 41260 non-zeros\n",
      "29549 integer variables, all of which are binary\n",
      "Preprocessing...\n",
      "17838 rows, 29549 columns, 41260 non-zeros\n",
      "29549 integer variables, all of which are binary\n",
      "Scaling...\n",
      " A: min|aij| =  1.000e+00  max|aij| =  1.000e+00  ratio =  1.000e+00\n",
      "Problem data seem to be well scaled\n",
      "Constructing initial basis...\n",
      "Size of triangular part is 17838\n",
      "Solving LP relaxation...\n",
      "GLPK Simplex Optimizer 5.0\n",
      "17838 rows, 29549 columns, 41260 non-zeros\n",
      "*     0: obj =   1.013169624e+05 inf =   0.000e+00 (5574)\n",
      "Perturbing LP to avoid stalling [1274]...\n",
      "Removing LP perturbation [4981]...\n",
      "*  4981: obj =   7.250326770e+04 inf =   0.000e+00 (0) 1\n",
      "OPTIMAL LP SOLUTION FOUND\n",
      "Integer optimization begins...\n",
      "Long-step dual simplex will be used\n",
      "+  4981: mip =     not found yet >=              -inf        (1; 0)\n",
      "+  4981: >>>>>   7.250326770e+04 >=   7.250326770e+04   0.0% (1; 0)\n",
      "+  4981: mip =   7.250326770e+04 >=     tree is empty   0.0% (0; 1)\n",
      "INTEGER OPTIMAL SOLUTION FOUND\n"
     ]
    },
    {
     "name": "stderr",
     "output_type": "stream",
     "text": [
      "[WARNING][2022/12/02 12:00:32 PM] Changing HDF filename to mono-culture_iAT2AT1_for analysis_20221125_DAPI-CAV1-proSPC-ZO1_Day14_static__20x_21-12-028A_A23456_Multichannel Z-Stack_20220818_253__tracks.h5\n",
      "[INFO][2022/12/02 12:00:32 PM] Opening HDF file: mono-culture_iAT2AT1_for analysis_20221125_DAPI-CAV1-proSPC-ZO1_Day14_static__20x_21-12-028A_A23456_Multichannel Z-Stack_20220818_253__tracks.h5...\n",
      "[INFO][2022/12/02 12:00:33 PM] Writing objects/obj_type_1\n",
      "[INFO][2022/12/02 12:00:33 PM] Writing labels/obj_type_1\n",
      "[INFO][2022/12/02 12:00:33 PM] Loading objects/obj_type_1 (58357, 5) (58357 filtered: None)\n",
      "[INFO][2022/12/02 12:00:33 PM] Writing properties/obj_type_1/axis_major_length (58357,)\n",
      "[INFO][2022/12/02 12:00:33 PM] Writing properties/obj_type_1/axis_minor_length (58357,)\n",
      "[INFO][2022/12/02 12:00:33 PM] Writing properties/obj_type_1/eccentricity (58357,)\n",
      "[INFO][2022/12/02 12:00:33 PM] Writing properties/obj_type_1/area (58357,)\n",
      "[INFO][2022/12/02 12:00:33 PM] Writing properties/obj_type_1/orientation (58357,)\n",
      "[INFO][2022/12/02 12:00:34 PM] Writing properties/obj_type_1/mean_intensity-0 (58357,)\n",
      "[INFO][2022/12/02 12:00:34 PM] Writing properties/obj_type_1/mean_intensity-1 (58357,)\n",
      "[INFO][2022/12/02 12:00:34 PM] Writing properties/obj_type_1/mean_intensity-2 (58357,)\n",
      "[INFO][2022/12/02 12:00:34 PM] Writing properties/obj_type_1/mean_intensity-3 (58357,)\n",
      "[INFO][2022/12/02 12:00:35 PM] Writing tracks/obj_type_1\n",
      "[INFO][2022/12/02 12:00:35 PM] Writing dummies/obj_type_1\n",
      "[INFO][2022/12/02 12:00:35 PM] Writing LBEP/obj_type_1\n",
      "[INFO][2022/12/02 12:00:35 PM] Writing fates/obj_type_1\n",
      "[INFO][2022/12/02 12:00:35 PM] Closing HDF file: mono-culture_iAT2AT1_for analysis_20221125_DAPI-CAV1-proSPC-ZO1_Day14_static__20x_21-12-028A_A23456_Multichannel Z-Stack_20220818_253__tracks.h5\n",
      "[INFO][2022/12/02 12:00:35 PM] Ending BayesianTracker session\n"
     ]
    }
   ],
   "source": [
    "for i, expt in tqdm(enumerate(expt_IDs), total = len(expt_IDs)):\n",
    "    print(i)\n",
    "    if i == 0:\n",
    "        continue\n",
    "    props = ('axis_major_length', \n",
    "         'axis_minor_length', \n",
    "         'eccentricity', \n",
    "         'area', \n",
    "         #'intensity_image', \n",
    "         'orientation',\n",
    "         'mean_intensity')\n",
    "    images = DaskOctopusHeavyLoader(os.path.join(root_path, expt), remove_background=False)\n",
    "    multichannel_stack = da.stack([images['CH1'], images['CH2'], images['CH3'], images['CH4']], axis = -1)\n",
    "    if 'MASK1' in [channel.name for channel in images.channels]: \n",
    "        ### create filename for tracks and objects \n",
    "        dirname = os.path.dirname(images.files('CH1')[0]).replace('images','')\n",
    "        objects_fn = os.path.join(dirname, 'objects.hdf5')\n",
    "        tracks_fn = os.path.join(dirname, 'tracks.hdf5')\n",
    "        ### try saving locally instead of online\n",
    "        tracks_fn = tracks_fn.split('Light microscopy/')[-1].replace('/', '_')\n",
    "        objects_fn = objects_fn.split('Light microscopy/')[-1].replace('/', '_')\n",
    "        objects = btrack.utils.segmentation_to_objects(\n",
    "            images['MASK1'], \n",
    "            multichannel_stack,\n",
    "            properties = props,#('area', 'mean_intensity', 'intensity_image'), \n",
    "            use_weighted_centroid = False\n",
    "        )\n",
    "        ### prune objects \n",
    "        objects = [o for o in objects if o.properties['area']>50]\n",
    "        ### save out objects\n",
    "        with btrack.dataio.HDF5FileHandler(\n",
    "             objects_fn, 'w', obj_type='obj_type_1',\n",
    "        ) as hdf:\n",
    "            hdf.write_segmentation(images['MASK1'])\n",
    "            hdf.write_objects(objects)\n",
    "        \n",
    "        ### redefine properties as multichannel image was measured\n",
    "        props = ('axis_major_length', \n",
    "             'axis_minor_length', \n",
    "             'eccentricity', \n",
    "             'area', \n",
    "             #'intensity_image', \n",
    "             'orientation',\n",
    "             'mean_intensity-0',\n",
    "             'mean_intensity-1',\n",
    "             'mean_intensity-2',\n",
    "             'mean_intensity-3',)\n",
    "        # initialise a tracker session using a context manager\n",
    "        with btrack.BayesianTracker() as tracker:\n",
    "            # configure the tracker using a config file\n",
    "            tracker.configure('/home/dayn/analysis/BayesianTracker/models/particle_config.json')\n",
    "            tracker.verbose = True\n",
    "            ### set max search radius\n",
    "            tracker.max_search_radius = 100\n",
    "            # use visual features to track\n",
    "            tracker.features = props\n",
    "            # append the objects to be tracked\n",
    "            tracker.append(objects)\n",
    "            # set the volume (Z axis volume limits default to [-1e5, 1e5] for 2D data)\n",
    "            tracker.volume=((0, 2304), (0, 2304), (-1e5, 1e5))\n",
    "            # track them (in interactive mode)\n",
    "#             tracker.track_interactive(step_size=100)\n",
    "            tracker.track(tracking_updates =['visual', 'motion'], step_size=10)\n",
    "            # generate hypotheses and run the global optimizer\n",
    "            tracker.optimize()\n",
    "            # get the tracks as a python list\n",
    "            tracks = tracker.tracks\n",
    "#             # filter tracks\n",
    "#             tracks = [track for track in tracks if len(track) >= 3]\n",
    "            # optional: get the data in a format for napari\n",
    "            #   data, properties, graph = tracker.to_napari()\n",
    "            tracker.export(tracks_fn, obj_type = 'obj_type_1')\n",
    "                        "
   ]
  },
  {
   "cell_type": "code",
   "execution_count": 17,
   "id": "6b952f8f",
   "metadata": {},
   "outputs": [],
   "source": [
    "expt_IDs = ['co-culture/iVECs+iAT2AT1/Folder_20220808/A2-A5/analysis_20221125/DAPI-SPC-PDPN-ZO1/_20220808_kolf-WT_co-culture_20x_A2-A5_Multichannel Z-Stack_20220808_60_/images/',\n",
    "            'co-culture/iVECs+iAT2AT1/Folder_20220808/A2-A5/analysis_20221125/DAPI-VWF-iCAM1-ZO1/_20220808_kolf-WT_co-culture_20x_A2-A5_Multichannel Z-Stack_20220808_70_/images/',\n",
    "            'mono-culture/iAT2AT1/for analysis_20221125/DAPI-AQP5-proSPC-ZO1/Day7_static/_20x_21-12-031B_A12456_Multichannel Z-Stack_20220811_150_/images/',]"
   ]
  },
  {
   "cell_type": "code",
   "execution_count": 18,
   "id": "5190d6e6",
   "metadata": {},
   "outputs": [
    {
     "data": {
      "application/vnd.jupyter.widget-view+json": {
       "model_id": "2bc7b471ef6f4ee2b5a1a664affcbbce",
       "version_major": 2,
       "version_minor": 0
      },
      "text/plain": [
       "  0%|          | 0/3 [00:00<?, ?it/s]"
      ]
     },
     "metadata": {},
     "output_type": "display_data"
    },
    {
     "name": "stdout",
     "output_type": "stream",
     "text": [
      "0\n",
      "1\n"
     ]
    },
    {
     "name": "stderr",
     "output_type": "stream",
     "text": [
      "[INFO][2022/12/02 12:00:37 PM] Localizing objects from segmentation...\n",
      "[INFO][2022/12/02 12:00:37 PM] Found intensity_image data\n",
      "[INFO][2022/12/02 12:05:50 PM] Objects are of type: <class 'dict'>\n",
      "[INFO][2022/12/02 12:05:51 PM] ...Found 63985 objects in 81 frames.\n",
      "[INFO][2022/12/02 12:05:51 PM] Opening HDF file: co-culture_iVECs+iAT2AT1_Folder_20220808_A2-A5_analysis_20221125_DAPI-VWF-iCAM1-ZO1__20220808_kolf-WT_co-culture_20x_A2-A5_Multichannel Z-Stack_20220808_70__objects.hdf5...\n",
      "[INFO][2022/12/02 12:06:32 PM] Writing objects/obj_type_1\n",
      "[INFO][2022/12/02 12:06:32 PM] Writing labels/obj_type_1\n",
      "[INFO][2022/12/02 12:06:32 PM] Loading objects/obj_type_1 (54035, 5) (54035 filtered: None)\n",
      "[INFO][2022/12/02 12:06:33 PM] Writing properties/obj_type_1/axis_major_length (54035,)\n",
      "[INFO][2022/12/02 12:06:33 PM] Writing properties/obj_type_1/axis_minor_length (54035,)\n",
      "[INFO][2022/12/02 12:06:33 PM] Writing properties/obj_type_1/eccentricity (54035,)\n",
      "[INFO][2022/12/02 12:06:33 PM] Writing properties/obj_type_1/area (54035,)\n",
      "[INFO][2022/12/02 12:06:33 PM] Writing properties/obj_type_1/orientation (54035,)\n",
      "[INFO][2022/12/02 12:06:33 PM] Writing properties/obj_type_1/mean_intensity-0 (54035,)\n",
      "[INFO][2022/12/02 12:06:33 PM] Writing properties/obj_type_1/mean_intensity-1 (54035,)\n",
      "[INFO][2022/12/02 12:06:33 PM] Writing properties/obj_type_1/mean_intensity-2 (54035,)\n",
      "[INFO][2022/12/02 12:06:33 PM] Writing properties/obj_type_1/mean_intensity-3 (54035,)\n",
      "[INFO][2022/12/02 12:06:33 PM] Closing HDF file: co-culture_iVECs+iAT2AT1_Folder_20220808_A2-A5_analysis_20221125_DAPI-VWF-iCAM1-ZO1__20220808_kolf-WT_co-culture_20x_A2-A5_Multichannel Z-Stack_20220808_70__objects.hdf5\n",
      "[INFO][2022/12/02 12:06:33 PM] Loaded btrack: /home/dayn/analysis/BayesianTracker/btrack/libs/libtracker.so\n",
      "[INFO][2022/12/02 12:06:33 PM] btrack (v0.5.0) library imported\n",
      "[INFO][2022/12/02 12:06:33 PM] Starting BayesianTracker session\n",
      "[INFO][2022/12/02 12:06:33 PM] Loading configuration file: /home/dayn/analysis/BayesianTracker/models/particle_config.json\n",
      "[INFO][2022/12/02 12:06:33 PM] Setting max_search_radius -> 100\n",
      "[INFO][2022/12/02 12:06:33 PM] Setting features -> ('axis_major_length', 'axis_minor_length', 'eccentricity', 'area', 'orientation', 'mean_intensity-0', 'mean_intensity-1', 'mean_intensity-2', 'mean_intensity-3')\n",
      "[INFO][2022/12/02 12:06:33 PM] Objects are of type: <class 'list'>\n",
      "[INFO][2022/12/02 12:06:34 PM] Setting volume -> ((0, 2304), (0, 2304), (-100000.0, 100000.0))\n",
      "[INFO][2022/12/02 12:06:34 PM] Starting tracking... \n",
      "[INFO][2022/12/02 12:06:34 PM] Update using: ['VISUAL', 'MOTION']\n",
      "[INFO][2022/12/02 12:06:34 PM] Tracking objects in frames 0 to 9 (of 81)...\n",
      "[INFO][2022/12/02 12:06:34 PM]  - Timing (Bayesian updates: 0.01ms, Linking: 0.30ms)\n",
      "[INFO][2022/12/02 12:06:34 PM]  - Probabilities (Link: 0.49446, Lost: 0.85325)\n",
      "[INFO][2022/12/02 12:06:34 PM]  - Stats (Active: 4, Lost: 5, Conflicts resolved: 3)\n",
      "[INFO][2022/12/02 12:06:34 PM] Tracking objects in frames 10 to 19 (of 81)...\n",
      "[INFO][2022/12/02 12:06:34 PM]  - Timing (Bayesian updates: 4.04ms, Linking: 0.80ms)\n",
      "[INFO][2022/12/02 12:06:34 PM]  - Probabilities (Link: 0.96878, Lost: 1.00000)\n",
      "[INFO][2022/12/02 12:06:34 PM]  - Stats (Active: 103, Lost: 103, Conflicts resolved: 25)\n",
      "[INFO][2022/12/02 12:06:34 PM] Tracking objects in frames 20 to 29 (of 81)...\n",
      "[INFO][2022/12/02 12:08:29 PM]  - Timing (Bayesian updates: 13277.60ms, Linking: 45.53ms)\n",
      "[INFO][2022/12/02 12:08:29 PM]  - Probabilities (Link: 1.00000, Lost: 0.99989)\n",
      "[INFO][2022/12/02 12:08:29 PM]  - Stats (Active: 3910, Lost: 1704, Conflicts resolved: 5792)\n",
      "[INFO][2022/12/02 12:08:29 PM] Tracking objects in frames 30 to 39 (of 81)...\n",
      "[INFO][2022/12/02 12:13:29 PM]  - Timing (Bayesian updates: 3301.89ms, Linking: 36.90ms)\n",
      "[INFO][2022/12/02 12:13:29 PM]  - Probabilities (Link: 0.43149, Lost: 1.00000)\n",
      "[INFO][2022/12/02 12:13:29 PM]  - Stats (Active: 4966, Lost: 14483, Conflicts resolved: 13627)\n",
      "[INFO][2022/12/02 12:13:29 PM] Tracking objects in frames 40 to 49 (of 81)...\n",
      "[INFO][2022/12/02 12:13:49 PM]  - Timing (Bayesian updates: 202.37ms, Linking: 6.83ms)\n",
      "[INFO][2022/12/02 12:13:49 PM]  - Probabilities (Link: 1.00000, Lost: 1.00000)\n",
      "[INFO][2022/12/02 12:13:49 PM]  - Stats (Active: 1524, Lost: 23414, Conflicts resolved: 17241)\n",
      "[INFO][2022/12/02 12:13:49 PM] Tracking objects in frames 50 to 59 (of 81)...\n",
      "[INFO][2022/12/02 12:13:51 PM]  - Timing (Bayesian updates: 18.94ms, Linking: 2.15ms)\n",
      "[INFO][2022/12/02 12:13:51 PM]  - Probabilities (Link: 1.00000, Lost: 1.00000)\n",
      "[INFO][2022/12/02 12:13:51 PM]  - Stats (Active: 666, Lost: 26944, Conflicts resolved: 18964)\n",
      "[INFO][2022/12/02 12:13:51 PM] Tracking objects in frames 60 to 69 (of 81)...\n",
      "[INFO][2022/12/02 12:13:51 PM]  - Timing (Bayesian updates: 1.30ms, Linking: 0.71ms)\n",
      "[INFO][2022/12/02 12:13:51 PM]  - Probabilities (Link: 0.94313, Lost: 1.00000)\n",
      "[INFO][2022/12/02 12:13:51 PM]  - Stats (Active: 294, Lost: 28447, Conflicts resolved: 19698)\n",
      "[INFO][2022/12/02 12:13:51 PM] Tracking objects in frames 70 to 79 (of 81)...\n",
      "[INFO][2022/12/02 12:13:51 PM]  - Timing (Bayesian updates: 0.03ms, Linking: 0.08ms)\n",
      "[INFO][2022/12/02 12:13:51 PM]  - Probabilities (Link: 1.00000, Lost: 1.00000)\n",
      "[INFO][2022/12/02 12:13:51 PM] SUCCESS.\n",
      "[INFO][2022/12/02 12:13:51 PM]  - Found 10282 tracks in 81 frames (in 0.0s)\n",
      "[INFO][2022/12/02 12:13:51 PM]  - Inserted 15474 dummy objects to fill tracking gaps\n",
      "[INFO][2022/12/02 12:13:51 PM] Loading hypothesis model: particle_hypothesis\n",
      "[INFO][2022/12/02 12:13:51 PM] Calculating hypotheses (relax: True)...\n",
      "[INFO][2022/12/02 12:13:52 PM] Setting up constraints matrix for global optimisation...\n",
      "[INFO][2022/12/02 12:13:52 PM] Using GLPK options: {'tm_lim': 60000}...\n",
      "[INFO][2022/12/02 12:13:52 PM] Optimizing...\n",
      "[INFO][2022/12/02 12:14:02 PM] Optimization complete. (Solution: optimal)\n",
      "[INFO][2022/12/02 12:14:02 PM]  - Fates.FALSE_POSITIVE: 4045 (of 10282)\n",
      "[INFO][2022/12/02 12:14:02 PM]  - Fates.LINK: 1616 (of 5190)\n",
      "[INFO][2022/12/02 12:14:02 PM]  - Fates.INITIALIZE_BORDER: 238 (of 414)\n",
      "[INFO][2022/12/02 12:14:02 PM]  - Fates.INITIALIZE_FRONT: 2 (of 3)\n",
      "[INFO][2022/12/02 12:14:02 PM]  - Fates.INITIALIZE_LAZY: 4381 (of 9865)\n",
      "[INFO][2022/12/02 12:14:02 PM]  - Fates.TERMINATE_BORDER: 278 (of 442)\n",
      "[INFO][2022/12/02 12:14:02 PM]  - Fates.TERMINATE_BACK: 23 (of 29)\n",
      "[INFO][2022/12/02 12:14:02 PM]  - Fates.TERMINATE_LAZY: 4320 (of 9811)\n",
      "[INFO][2022/12/02 12:14:02 PM]  - TOTAL: 36036 hypotheses\n",
      "[INFO][2022/12/02 12:14:02 PM] Completed optimization with 8666 tracks\n"
     ]
    },
    {
     "name": "stdout",
     "output_type": "stream",
     "text": [
      "GLPK Integer Optimizer 5.0\n",
      "41128 rows, 36036 columns, 51508 non-zeros\n",
      "36036 integer variables, all of which are binary\n",
      "Preprocessing...\n",
      "20564 rows, 36036 columns, 51508 non-zeros\n",
      "36036 integer variables, all of which are binary\n",
      "Scaling...\n",
      " A: min|aij| =  1.000e+00  max|aij| =  1.000e+00  ratio =  1.000e+00\n",
      "Problem data seem to be well scaled\n",
      "Constructing initial basis...\n",
      "Size of triangular part is 20564\n",
      "Solving LP relaxation...\n",
      "GLPK Simplex Optimizer 5.0\n",
      "20564 rows, 36036 columns, 51508 non-zeros\n",
      "*     0: obj =   1.346829424e+05 inf =   0.000e+00 (10413)\n",
      "Perturbing LP to avoid stalling [1052]...\n",
      "*  5073: obj =   9.536215990e+04 inf =   0.000e+00 (3993)\n",
      "Removing LP perturbation [9467]...\n",
      "*  9467: obj =   8.156897322e+04 inf =   0.000e+00 (0) 5\n",
      "OPTIMAL LP SOLUTION FOUND\n",
      "Integer optimization begins...\n",
      "Long-step dual simplex will be used\n",
      "+  9467: mip =     not found yet >=              -inf        (1; 0)\n",
      "+  9467: >>>>>   8.156897322e+04 >=   8.156897322e+04   0.0% (1; 0)\n",
      "+  9467: mip =   8.156897322e+04 >=     tree is empty   0.0% (0; 1)\n",
      "INTEGER OPTIMAL SOLUTION FOUND\n"
     ]
    },
    {
     "name": "stderr",
     "output_type": "stream",
     "text": [
      "[WARNING][2022/12/02 12:14:02 PM] Changing HDF filename to co-culture_iVECs+iAT2AT1_Folder_20220808_A2-A5_analysis_20221125_DAPI-VWF-iCAM1-ZO1__20220808_kolf-WT_co-culture_20x_A2-A5_Multichannel Z-Stack_20220808_70__tracks.h5\n",
      "[INFO][2022/12/02 12:14:02 PM] Opening HDF file: co-culture_iVECs+iAT2AT1_Folder_20220808_A2-A5_analysis_20221125_DAPI-VWF-iCAM1-ZO1__20220808_kolf-WT_co-culture_20x_A2-A5_Multichannel Z-Stack_20220808_70__tracks.h5...\n",
      "[INFO][2022/12/02 12:14:03 PM] Writing tracks/obj_type_1\n",
      "[WARNING][2022/12/02 12:14:03 PM] Removing tracks/obj_type_1.\n",
      "[INFO][2022/12/02 12:14:03 PM] Writing dummies/obj_type_1\n",
      "[INFO][2022/12/02 12:14:03 PM] Writing LBEP/obj_type_1\n",
      "[INFO][2022/12/02 12:14:03 PM] Writing fates/obj_type_1\n",
      "[INFO][2022/12/02 12:14:03 PM] Closing HDF file: co-culture_iVECs+iAT2AT1_Folder_20220808_A2-A5_analysis_20221125_DAPI-VWF-iCAM1-ZO1__20220808_kolf-WT_co-culture_20x_A2-A5_Multichannel Z-Stack_20220808_70__tracks.h5\n",
      "[INFO][2022/12/02 12:14:03 PM] Ending BayesianTracker session\n"
     ]
    },
    {
     "name": "stdout",
     "output_type": "stream",
     "text": [
      "2\n"
     ]
    },
    {
     "name": "stderr",
     "output_type": "stream",
     "text": [
      "[INFO][2022/12/02 12:14:04 PM] Localizing objects from segmentation...\n",
      "[INFO][2022/12/02 12:14:04 PM] Found intensity_image data\n",
      "[INFO][2022/12/02 12:16:42 PM] Objects are of type: <class 'dict'>\n",
      "[INFO][2022/12/02 12:16:43 PM] ...Found 77706 objects in 81 frames.\n",
      "[INFO][2022/12/02 12:16:43 PM] Opening HDF file: mono-culture_iAT2AT1_for analysis_20221125_DAPI-AQP5-proSPC-ZO1_Day7_static__20x_21-12-031B_A12456_Multichannel Z-Stack_20220811_150__objects.hdf5...\n",
      "[INFO][2022/12/02 12:17:13 PM] Writing objects/obj_type_1\n",
      "[INFO][2022/12/02 12:17:13 PM] Writing labels/obj_type_1\n",
      "[INFO][2022/12/02 12:17:13 PM] Loading objects/obj_type_1 (70817, 5) (70817 filtered: None)\n",
      "[INFO][2022/12/02 12:17:13 PM] Writing properties/obj_type_1/axis_major_length (70817,)\n",
      "[INFO][2022/12/02 12:17:13 PM] Writing properties/obj_type_1/axis_minor_length (70817,)\n",
      "[INFO][2022/12/02 12:17:14 PM] Writing properties/obj_type_1/eccentricity (70817,)\n",
      "[INFO][2022/12/02 12:17:14 PM] Writing properties/obj_type_1/area (70817,)\n",
      "[INFO][2022/12/02 12:17:14 PM] Writing properties/obj_type_1/orientation (70817,)\n",
      "[INFO][2022/12/02 12:17:14 PM] Writing properties/obj_type_1/mean_intensity-0 (70817,)\n",
      "[INFO][2022/12/02 12:17:14 PM] Writing properties/obj_type_1/mean_intensity-1 (70817,)\n",
      "[INFO][2022/12/02 12:17:14 PM] Writing properties/obj_type_1/mean_intensity-2 (70817,)\n",
      "[INFO][2022/12/02 12:17:14 PM] Writing properties/obj_type_1/mean_intensity-3 (70817,)\n",
      "[INFO][2022/12/02 12:17:14 PM] Closing HDF file: mono-culture_iAT2AT1_for analysis_20221125_DAPI-AQP5-proSPC-ZO1_Day7_static__20x_21-12-031B_A12456_Multichannel Z-Stack_20220811_150__objects.hdf5\n",
      "[INFO][2022/12/02 12:17:14 PM] Loaded btrack: /home/dayn/analysis/BayesianTracker/btrack/libs/libtracker.so\n",
      "[INFO][2022/12/02 12:17:14 PM] btrack (v0.5.0) library imported\n",
      "[INFO][2022/12/02 12:17:14 PM] Starting BayesianTracker session\n",
      "[INFO][2022/12/02 12:17:14 PM] Loading configuration file: /home/dayn/analysis/BayesianTracker/models/particle_config.json\n",
      "[INFO][2022/12/02 12:17:14 PM] Setting max_search_radius -> 100\n",
      "[INFO][2022/12/02 12:17:14 PM] Setting features -> ('axis_major_length', 'axis_minor_length', 'eccentricity', 'area', 'orientation', 'mean_intensity-0', 'mean_intensity-1', 'mean_intensity-2', 'mean_intensity-3')\n",
      "[INFO][2022/12/02 12:17:14 PM] Objects are of type: <class 'list'>\n",
      "[INFO][2022/12/02 12:17:15 PM] Setting volume -> ((0, 2304), (0, 2304), (-100000.0, 100000.0))\n",
      "[INFO][2022/12/02 12:17:15 PM] Starting tracking... \n",
      "[INFO][2022/12/02 12:17:15 PM] Update using: ['VISUAL', 'MOTION']\n",
      "[INFO][2022/12/02 12:17:15 PM] Tracking objects in frames 0 to 9 (of 81)...\n",
      "[INFO][2022/12/02 12:17:15 PM]  - Timing (Bayesian updates: 1.74ms, Linking: 0.71ms)\n",
      "[INFO][2022/12/02 12:17:15 PM]  - Probabilities (Link: 0.99932, Lost: 1.00000)\n",
      "[INFO][2022/12/02 12:17:15 PM]  - Stats (Active: 170, Lost: 1117, Conflicts resolved: 173)\n",
      "[INFO][2022/12/02 12:17:15 PM] Tracking objects in frames 10 to 19 (of 81)...\n",
      "[INFO][2022/12/02 12:17:15 PM]  - Timing (Bayesian updates: 47.49ms, Linking: 2.62ms)\n",
      "[INFO][2022/12/02 12:17:15 PM]  - Probabilities (Link: 0.98016, Lost: 1.00000)\n",
      "[INFO][2022/12/02 12:17:15 PM]  - Stats (Active: 472, Lost: 2735, Conflicts resolved: 463)\n",
      "[INFO][2022/12/02 12:17:15 PM] Tracking objects in frames 20 to 29 (of 81)...\n",
      "[INFO][2022/12/02 12:27:06 PM]  - Timing (Bayesian updates: 65581.88ms, Linking: 101.82ms)\n",
      "[INFO][2022/12/02 12:27:06 PM]  - Probabilities (Link: 1.00000, Lost: 0.62233)\n",
      "[INFO][2022/12/02 12:27:06 PM]  - Stats (Active: 5911, Lost: 3686, Conflicts resolved: 7707)\n",
      "[INFO][2022/12/02 12:27:06 PM] Tracking objects in frames 30 to 39 (of 81)...\n",
      "[INFO][2022/12/02 12:38:29 PM]  - Timing (Bayesian updates: 1374.63ms, Linking: 30.30ms)\n",
      "[INFO][2022/12/02 12:38:29 PM]  - Probabilities (Link: 0.35374, Lost: 1.00000)\n",
      "[INFO][2022/12/02 12:38:29 PM]  - Stats (Active: 5465, Lost: 18555, Conflicts resolved: 13586)\n",
      "[INFO][2022/12/02 12:38:29 PM] Tracking objects in frames 40 to 49 (of 81)...\n",
      "[INFO][2022/12/02 12:38:41 PM]  - Timing (Bayesian updates: 12.57ms, Linking: 1.62ms)\n",
      "[INFO][2022/12/02 12:38:41 PM]  - Probabilities (Link: 0.64458, Lost: 1.00000)\n",
      "[INFO][2022/12/02 12:38:41 PM]  - Stats (Active: 626, Lost: 32481, Conflicts resolved: 15696)\n",
      "[INFO][2022/12/02 12:38:41 PM] Tracking objects in frames 50 to 59 (of 81)...\n",
      "[INFO][2022/12/02 12:38:41 PM]  - Timing (Bayesian updates: 1.50ms, Linking: 0.63ms)\n",
      "[INFO][2022/12/02 12:38:41 PM]  - Probabilities (Link: 0.99996, Lost: 1.00000)\n",
      "[INFO][2022/12/02 12:38:41 PM]  - Stats (Active: 244, Lost: 34169, Conflicts resolved: 15990)\n",
      "[INFO][2022/12/02 12:38:41 PM] Tracking objects in frames 60 to 69 (of 81)...\n",
      "[INFO][2022/12/02 12:38:42 PM]  - Timing (Bayesian updates: 1.89ms, Linking: 0.62ms)\n",
      "[INFO][2022/12/02 12:38:42 PM]  - Probabilities (Link: 0.89355, Lost: 1.00000)\n",
      "[INFO][2022/12/02 12:38:42 PM]  - Stats (Active: 250, Lost: 35312, Conflicts resolved: 16378)\n",
      "[INFO][2022/12/02 12:38:42 PM] Tracking objects in frames 70 to 79 (of 81)...\n",
      "[INFO][2022/12/02 12:38:42 PM]  - Timing (Bayesian updates: 4.92ms, Linking: 1.67ms)\n",
      "[INFO][2022/12/02 12:38:42 PM]  - Probabilities (Link: 1.00000, Lost: 1.00000)\n",
      "[INFO][2022/12/02 12:38:42 PM] SUCCESS.\n",
      "[INFO][2022/12/02 12:38:42 PM]  - Found 10420 tracks in 81 frames (in 0.0s)\n",
      "[INFO][2022/12/02 12:38:42 PM]  - Inserted 12629 dummy objects to fill tracking gaps\n",
      "[INFO][2022/12/02 12:38:42 PM] Loading hypothesis model: particle_hypothesis\n",
      "[INFO][2022/12/02 12:38:42 PM] Calculating hypotheses (relax: True)...\n",
      "[INFO][2022/12/02 12:38:42 PM] Setting up constraints matrix for global optimisation...\n",
      "[INFO][2022/12/02 12:38:42 PM] Using GLPK options: {'tm_lim': 60000}...\n",
      "[INFO][2022/12/02 12:38:43 PM] Optimizing...\n",
      "[INFO][2022/12/02 12:38:49 PM] Optimization complete. (Solution: optimal)\n",
      "[INFO][2022/12/02 12:38:49 PM]  - Fates.FALSE_POSITIVE: 3018 (of 10420)\n",
      "[INFO][2022/12/02 12:38:49 PM]  - Fates.LINK: 1307 (of 4145)\n",
      "[INFO][2022/12/02 12:38:49 PM]  - Fates.INITIALIZE_BORDER: 990 (of 1575)\n",
      "[INFO][2022/12/02 12:38:49 PM]  - Fates.INITIALIZE_FRONT: 179 (of 202)\n",
      "[INFO][2022/12/02 12:38:49 PM]  - Fates.INITIALIZE_LAZY: 4926 (of 8643)\n",
      "[INFO][2022/12/02 12:38:49 PM]  - Fates.TERMINATE_BORDER: 868 (of 1468)\n",
      "[INFO][2022/12/02 12:38:49 PM]  - Fates.TERMINATE_BACK: 231 (of 277)\n",
      "[INFO][2022/12/02 12:38:49 PM]  - Fates.TERMINATE_LAZY: 4996 (of 8675)\n",
      "[INFO][2022/12/02 12:38:49 PM]  - TOTAL: 35405 hypotheses\n",
      "[INFO][2022/12/02 12:38:49 PM] Completed optimization with 9113 tracks\n"
     ]
    },
    {
     "name": "stdout",
     "output_type": "stream",
     "text": [
      "GLPK Integer Optimizer 5.0\n",
      "41680 rows, 35405 columns, 49970 non-zeros\n",
      "35405 integer variables, all of which are binary\n",
      "Preprocessing...\n",
      "20840 rows, 35405 columns, 49970 non-zeros\n",
      "35405 integer variables, all of which are binary\n",
      "Scaling...\n",
      " A: min|aij| =  1.000e+00  max|aij| =  1.000e+00  ratio =  1.000e+00\n",
      "Problem data seem to be well scaled\n",
      "Constructing initial basis...\n",
      "Size of triangular part is 20840\n",
      "Solving LP relaxation...\n",
      "GLPK Simplex Optimizer 5.0\n",
      "20840 rows, 35405 columns, 49970 non-zeros\n",
      "*     0: obj =   1.240719098e+05 inf =   0.000e+00 (7988)\n",
      "Perturbing LP to avoid stalling [988]...\n",
      "*  6350: obj =   8.448660897e+04 inf =   0.000e+00 (640) 2\n",
      "Removing LP perturbation [7020]...\n",
      "*  7020: obj =   8.389569247e+04 inf =   0.000e+00 (0) 1\n",
      "OPTIMAL LP SOLUTION FOUND\n",
      "Integer optimization begins...\n",
      "Long-step dual simplex will be used\n",
      "+  7020: mip =     not found yet >=              -inf        (1; 0)\n",
      "+  7020: >>>>>   8.389569247e+04 >=   8.389569247e+04   0.0% (1; 0)\n",
      "+  7020: mip =   8.389569247e+04 >=     tree is empty   0.0% (0; 1)\n",
      "INTEGER OPTIMAL SOLUTION FOUND\n"
     ]
    },
    {
     "name": "stderr",
     "output_type": "stream",
     "text": [
      "[WARNING][2022/12/02 12:38:49 PM] Changing HDF filename to mono-culture_iAT2AT1_for analysis_20221125_DAPI-AQP5-proSPC-ZO1_Day7_static__20x_21-12-031B_A12456_Multichannel Z-Stack_20220811_150__tracks.h5\n",
      "[INFO][2022/12/02 12:38:49 PM] Opening HDF file: mono-culture_iAT2AT1_for analysis_20221125_DAPI-AQP5-proSPC-ZO1_Day7_static__20x_21-12-031B_A12456_Multichannel Z-Stack_20220811_150__tracks.h5...\n",
      "[INFO][2022/12/02 12:38:50 PM] Writing tracks/obj_type_1\n",
      "[WARNING][2022/12/02 12:38:50 PM] Removing tracks/obj_type_1.\n",
      "[INFO][2022/12/02 12:38:50 PM] Writing dummies/obj_type_1\n",
      "[INFO][2022/12/02 12:38:50 PM] Writing LBEP/obj_type_1\n",
      "[INFO][2022/12/02 12:38:50 PM] Writing fates/obj_type_1\n",
      "[INFO][2022/12/02 12:38:50 PM] Closing HDF file: mono-culture_iAT2AT1_for analysis_20221125_DAPI-AQP5-proSPC-ZO1_Day7_static__20x_21-12-031B_A12456_Multichannel Z-Stack_20220811_150__tracks.h5\n",
      "[INFO][2022/12/02 12:38:50 PM] Ending BayesianTracker session\n"
     ]
    }
   ],
   "source": [
    "for i, expt in tqdm(enumerate(expt_IDs), total = len(expt_IDs)):\n",
    "    print(i)\n",
    "    if i == 0:\n",
    "        continue\n",
    "    props = ('axis_major_length', \n",
    "         'axis_minor_length', \n",
    "         'eccentricity', \n",
    "         'area', \n",
    "         #'intensity_image', \n",
    "         'orientation',\n",
    "         'mean_intensity')\n",
    "    images = DaskOctopusHeavyLoader(os.path.join(root_path, expt), remove_background=False)\n",
    "    multichannel_stack = da.stack([images['CH1'], images['CH2'], images['CH3'], images['CH4']], axis = -1)\n",
    "    if 'MASK1' in [channel.name for channel in images.channels]: \n",
    "        ### create filename for tracks and objects \n",
    "        dirname = os.path.dirname(images.files('CH1')[0]).replace('images','')\n",
    "        objects_fn = os.path.join(dirname, 'objects.hdf5')\n",
    "        tracks_fn = os.path.join(dirname, 'tracks.hdf5')\n",
    "        ### try saving locally instead of online\n",
    "        tracks_fn = tracks_fn.split('Light microscopy/')[-1].replace('/', '_')\n",
    "        objects_fn = objects_fn.split('Light microscopy/')[-1].replace('/', '_')\n",
    "        objects = btrack.utils.segmentation_to_objects(\n",
    "            images['MASK1'], \n",
    "            multichannel_stack,\n",
    "            properties = props,#('area', 'mean_intensity', 'intensity_image'), \n",
    "            use_weighted_centroid = False\n",
    "        )\n",
    "        ### prune objects \n",
    "        objects = [o for o in objects if o.properties['area']>50]\n",
    "        ### save out objects\n",
    "        with btrack.dataio.HDF5FileHandler(\n",
    "             objects_fn, 'w', obj_type='obj_type_1',\n",
    "        ) as hdf:\n",
    "            hdf.write_segmentation(images['MASK1'])\n",
    "            hdf.write_objects(objects)\n",
    "        \n",
    "        ### redefine properties as multichannel image was measured\n",
    "        props = ('axis_major_length', \n",
    "             'axis_minor_length', \n",
    "             'eccentricity', \n",
    "             'area', \n",
    "             #'intensity_image', \n",
    "             'orientation',\n",
    "             'mean_intensity-0',\n",
    "             'mean_intensity-1',\n",
    "             'mean_intensity-2',\n",
    "             'mean_intensity-3',)\n",
    "        # initialise a tracker session using a context manager\n",
    "        with btrack.BayesianTracker() as tracker:\n",
    "            # configure the tracker using a config file\n",
    "            tracker.configure('/home/dayn/analysis/BayesianTracker/models/particle_config.json')\n",
    "            tracker.verbose = True\n",
    "            ### set max search radius\n",
    "            tracker.max_search_radius = 100\n",
    "            # use visual features to track\n",
    "            tracker.features = props\n",
    "            # append the objects to be tracked\n",
    "            tracker.append(objects)\n",
    "            # set the volume (Z axis volume limits default to [-1e5, 1e5] for 2D data)\n",
    "            tracker.volume=((0, 2304), (0, 2304), (-1e5, 1e5))\n",
    "            # track them (in interactive mode)\n",
    "#             tracker.track_interactive(step_size=100)\n",
    "            tracker.track(tracking_updates =['visual', 'motion'], step_size=10)\n",
    "            # generate hypotheses and run the global optimizer\n",
    "            tracker.optimize()\n",
    "            # get the tracks as a python list\n",
    "            tracks = tracker.tracks\n",
    "#             # filter tracks\n",
    "#             tracks = [track for track in tracks if len(track) >= 3]\n",
    "            # optional: get the data in a format for napari\n",
    "            #   data, properties, graph = tracker.to_napari()\n",
    "            tracker.export(tracks_fn, obj_type = 'obj_type_1')\n",
    "                        "
   ]
  },
  {
   "cell_type": "markdown",
   "id": "7310d8a3",
   "metadata": {},
   "source": [
    "# It won't let me save tracks to the server? But will let me save locally"
   ]
  },
  {
   "cell_type": "code",
   "execution_count": 33,
   "id": "e656dd11",
   "metadata": {},
   "outputs": [
    {
     "data": {
      "text/plain": [
       "'/run/user/30046150/gvfs/smb-share:server=data.thecrick.org,share=lab-gutierrezm/home/shared/Lung on chip/Light microscopy/co-culture/iVECs+iAT2AT1/Folder_20220808/A2-A5/analysis_20221125/DAPI-SPC-PDPN-ZO1/_20220808_kolf-WT_co-culture_20x_A2-A5_Multichannel Z-Stack_20220808_60_/tracks.hdf5'"
      ]
     },
     "execution_count": 33,
     "metadata": {},
     "output_type": "execute_result"
    }
   ],
   "source": [
    "tracks_fn"
   ]
  },
  {
   "cell_type": "code",
   "execution_count": 35,
   "id": "04187259",
   "metadata": {},
   "outputs": [
    {
     "name": "stderr",
     "output_type": "stream",
     "text": [
      "[INFO][2022/12/02 09:22:48 AM] Opening HDF file: tracks.h5...\n",
      "[INFO][2022/12/02 09:22:49 AM] Writing objects/obj_type_1\n",
      "[INFO][2022/12/02 09:22:49 AM] Writing labels/obj_type_1\n",
      "[INFO][2022/12/02 09:22:49 AM] Loading objects/obj_type_1 (59306, 5) (59306 filtered: None)\n",
      "[INFO][2022/12/02 09:22:49 AM] Writing properties/obj_type_1/axis_major_length (59306,)\n",
      "[INFO][2022/12/02 09:22:49 AM] Writing properties/obj_type_1/axis_minor_length (59306,)\n",
      "[INFO][2022/12/02 09:22:49 AM] Writing properties/obj_type_1/eccentricity (59306,)\n",
      "[INFO][2022/12/02 09:22:50 AM] Writing properties/obj_type_1/area (59306,)\n",
      "[INFO][2022/12/02 09:22:50 AM] Writing properties/obj_type_1/orientation (59306,)\n",
      "[INFO][2022/12/02 09:22:50 AM] Writing tracks/obj_type_1\n",
      "[INFO][2022/12/02 09:22:50 AM] Writing LBEP/obj_type_1\n",
      "[INFO][2022/12/02 09:22:50 AM] Writing fates/obj_type_1\n",
      "[INFO][2022/12/02 09:22:50 AM] Closing HDF file: tracks.h5\n"
     ]
    }
   ],
   "source": [
    "with btrack.dataio.HDF5FileHandler(\"tracks.h5\", \"w\", obj_type=\"obj_type_1\") as hdf:\n",
    "    hdf.write_tracks(tracks)"
   ]
  },
  {
   "cell_type": "markdown",
   "id": "10880004",
   "metadata": {},
   "source": [
    "#### testing unique fn "
   ]
  },
  {
   "cell_type": "code",
   "execution_count": 49,
   "id": "d9e087fa",
   "metadata": {},
   "outputs": [
    {
     "data": {
      "text/plain": [
       "'co-culture_iVECs+iAT2AT1_Folder_20220808_A2-A5_analysis_20221125_DAPI-SPC-PDPN-ZO1__20220808_kolf-WT_co-culture_20x_A2-A5_Multichannel Z-Stack_20220808_60__tracks.hdf5'"
      ]
     },
     "execution_count": 49,
     "metadata": {},
     "output_type": "execute_result"
    }
   ],
   "source": [
    "tracks_fn.split('Light microscopy/')[-1].replace('/', '_')"
   ]
  },
  {
   "cell_type": "code",
   "execution_count": null,
   "id": "dba8152a",
   "metadata": {},
   "outputs": [],
   "source": []
  },
  {
   "cell_type": "code",
   "execution_count": 37,
   "id": "57f1ed9e",
   "metadata": {},
   "outputs": [
    {
     "data": {
      "text/plain": [
       "'/run/user/30046150/gvfs/smb-share:server=data.thecrick.org,share=lab-gutierrezm/home/shared/Lung on chip/Light microscopy/co-culture/iVECs+iAT2AT1/Folder_20220808/A2-A5/analysis_20221125/DAPI-SPC-PDPN-ZO1/_20220808_kolf-WT_co-culture_20x_A2-A5_Multichannel Z-Stack_20220808_60_/tracks.hdf5'"
      ]
     },
     "execution_count": 37,
     "metadata": {},
     "output_type": "execute_result"
    }
   ],
   "source": [
    "tracks_fn"
   ]
  },
  {
   "cell_type": "code",
   "execution_count": null,
   "id": "1432585b",
   "metadata": {},
   "outputs": [],
   "source": []
  },
  {
   "cell_type": "code",
   "execution_count": 43,
   "id": "a9cceeb9",
   "metadata": {},
   "outputs": [],
   "source": [
    "test_tracks_fn = '/run/user/30046150/gvfs/smb-share:server=data.thecrick.org,share=lab-gutierrezm/home/users/dayn/test_tracks_output/tracks.hdf5'"
   ]
  },
  {
   "cell_type": "code",
   "execution_count": 44,
   "id": "65377176",
   "metadata": {
    "scrolled": false
   },
   "outputs": [
    {
     "name": "stderr",
     "output_type": "stream",
     "text": [
      "[INFO][2022/12/02 09:25:39 AM] Opening HDF file: /run/user/30046150/gvfs/smb-share:server=data.thecrick.org,share=lab-gutierrezm/home/users/dayn/test_tracks_output/tracks.hdf5...\n",
      "[INFO][2022/12/02 09:25:39 AM] Writing objects/obj_type_1\n",
      "[INFO][2022/12/02 09:25:39 AM] Writing labels/obj_type_1\n",
      "[INFO][2022/12/02 09:25:39 AM] Loading objects/obj_type_1 (59306, 5) (59306 filtered: None)\n",
      "[INFO][2022/12/02 09:25:41 AM] Writing properties/obj_type_1/axis_major_length (59306,)\n",
      "[INFO][2022/12/02 09:25:41 AM] Closing HDF file: /run/user/30046150/gvfs/smb-share:server=data.thecrick.org,share=lab-gutierrezm/home/users/dayn/test_tracks_output/tracks.hdf5\n"
     ]
    },
    {
     "ename": "OSError",
     "evalue": "[Errno 95] Unable to extend file properly, errno = 95, error message = 'operation not supported' (file write failed: time = Fri Dec  2 09:25:41 2022\n, filename = '/run/user/30046150/gvfs/smb-share:server=data.thecrick.org,share=lab-gutierrezm/home/users/dayn/test_tracks_output/tracks.hdf5', file descriptor = 66, errno = 95, error message = 'Operation not supported', buf = 0x5620987ad0c8, total write size = 3368, bytes this sub-write = 3368, bytes actually written = 18446744073709551615, offset = 0)",
     "output_type": "error",
     "traceback": [
      "\u001b[0;31m---------------------------------------------------------------------------\u001b[0m",
      "\u001b[0;31mOSError\u001b[0m                                   Traceback (most recent call last)",
      "Input \u001b[0;32mIn [44]\u001b[0m, in \u001b[0;36m<cell line: 1>\u001b[0;34m()\u001b[0m\n\u001b[1;32m      1\u001b[0m \u001b[38;5;28;01mwith\u001b[39;00m btrack\u001b[38;5;241m.\u001b[39mdataio\u001b[38;5;241m.\u001b[39mHDF5FileHandler(test_tracks_fn, \u001b[38;5;124m\"\u001b[39m\u001b[38;5;124mw\u001b[39m\u001b[38;5;124m\"\u001b[39m, obj_type\u001b[38;5;241m=\u001b[39m\u001b[38;5;124m\"\u001b[39m\u001b[38;5;124mobj_type_1\u001b[39m\u001b[38;5;124m\"\u001b[39m) \u001b[38;5;28;01mas\u001b[39;00m hdf:\n\u001b[0;32m----> 2\u001b[0m     \u001b[43mhdf\u001b[49m\u001b[38;5;241;43m.\u001b[39;49m\u001b[43mwrite_tracks\u001b[49m\u001b[43m(\u001b[49m\u001b[43mtracks\u001b[49m\u001b[43m)\u001b[49m\n",
      "File \u001b[0;32m~/analysis/BayesianTracker/btrack/dataio.py:752\u001b[0m, in \u001b[0;36mHDF5FileHandler.write_tracks\u001b[0;34m(self, data, f_expr)\u001b[0m\n\u001b[1;32m    751\u001b[0m     \u001b[38;5;28;01mif\u001b[39;00m \u001b[38;5;124m\"\u001b[39m\u001b[38;5;124mobjects\u001b[39m\u001b[38;5;124m\"\u001b[39m \u001b[38;5;129;01mnot\u001b[39;00m \u001b[38;5;129;01min\u001b[39;00m \u001b[38;5;28mself\u001b[39m\u001b[38;5;241m.\u001b[39m_hdf:\n\u001b[0;32m--> 752\u001b[0m         \u001b[38;5;28;43mself\u001b[39;49m\u001b[38;5;241;43m.\u001b[39;49m\u001b[43mwrite_objects\u001b[49m\u001b[43m(\u001b[49m\u001b[43mobjects\u001b[49m\u001b[43m)\u001b[49m\n\u001b[1;32m    754\u001b[0m \u001b[38;5;28;01melif\u001b[39;00m \u001b[38;5;28mhasattr\u001b[39m(data, \u001b[38;5;124m\"\u001b[39m\u001b[38;5;124mtracks\u001b[39m\u001b[38;5;124m\"\u001b[39m):\n",
      "File \u001b[0;32m~/analysis/BayesianTracker/btrack/dataio.py:579\u001b[0m, in \u001b[0;36mHDF5FileHandler.write_objects\u001b[0;34m(self, data)\u001b[0m\n\u001b[1;32m    578\u001b[0m \u001b[38;5;66;03m# finally, write any properties\u001b[39;00m\n\u001b[0;32m--> 579\u001b[0m \u001b[38;5;28;43mself\u001b[39;49m\u001b[38;5;241;43m.\u001b[39;49m\u001b[43mwrite_properties\u001b[49m\u001b[43m(\u001b[49m\u001b[43mprops\u001b[49m\u001b[43m)\u001b[49m\n",
      "File \u001b[0;32m~/analysis/BayesianTracker/btrack/dataio.py:286\u001b[0m, in \u001b[0;36mh5check_property_exists.<locals>.func.<locals>.wrapped_handler_property\u001b[0;34m(*args, **kwargs)\u001b[0m\n\u001b[1;32m    285\u001b[0m     \u001b[38;5;28;01mreturn\u001b[39;00m \u001b[38;5;28;01mNone\u001b[39;00m\n\u001b[0;32m--> 286\u001b[0m \u001b[38;5;28;01mreturn\u001b[39;00m \u001b[43mfn\u001b[49m\u001b[43m(\u001b[49m\u001b[38;5;241;43m*\u001b[39;49m\u001b[43margs\u001b[49m\u001b[43m,\u001b[49m\u001b[43m \u001b[49m\u001b[38;5;241;43m*\u001b[39;49m\u001b[38;5;241;43m*\u001b[39;49m\u001b[43mkwargs\u001b[49m\u001b[43m)\u001b[49m\n",
      "File \u001b[0;32m~/analysis/BayesianTracker/btrack/dataio.py:640\u001b[0m, in \u001b[0;36mHDF5FileHandler.write_properties\u001b[0;34m(self, data, allow_overwrite)\u001b[0m\n\u001b[1;32m    637\u001b[0m logger\u001b[38;5;241m.\u001b[39minfo(\n\u001b[1;32m    638\u001b[0m     \u001b[38;5;124mf\u001b[39m\u001b[38;5;124m\"\u001b[39m\u001b[38;5;124mWriting properties/\u001b[39m\u001b[38;5;132;01m{\u001b[39;00m\u001b[38;5;28mself\u001b[39m\u001b[38;5;241m.\u001b[39mobject_type\u001b[38;5;132;01m}\u001b[39;00m\u001b[38;5;124m/\u001b[39m\u001b[38;5;132;01m{\u001b[39;00mkey\u001b[38;5;132;01m}\u001b[39;00m\u001b[38;5;124m \u001b[39m\u001b[38;5;132;01m{\u001b[39;00mvalues\u001b[38;5;241m.\u001b[39mshape\u001b[38;5;132;01m}\u001b[39;00m\u001b[38;5;124m\"\u001b[39m\n\u001b[1;32m    639\u001b[0m )\n\u001b[0;32m--> 640\u001b[0m \u001b[43mprops_grp\u001b[49m\u001b[38;5;241;43m.\u001b[39;49m\u001b[43mcreate_dataset\u001b[49m\u001b[43m(\u001b[49m\u001b[43mkey\u001b[49m\u001b[43m,\u001b[49m\u001b[43m \u001b[49m\u001b[43mdata\u001b[49m\u001b[38;5;241;43m=\u001b[39;49m\u001b[43mdata\u001b[49m\u001b[43m[\u001b[49m\u001b[43mkey\u001b[49m\u001b[43m]\u001b[49m\u001b[43m,\u001b[49m\u001b[43m \u001b[49m\u001b[43mdtype\u001b[49m\u001b[38;5;241;43m=\u001b[39;49m\u001b[38;5;124;43m\"\u001b[39;49m\u001b[38;5;124;43mfloat32\u001b[39;49m\u001b[38;5;124;43m\"\u001b[39;49m\u001b[43m)\u001b[49m\n",
      "File \u001b[0;32m~/miniconda3/envs/aero/lib/python3.9/site-packages/h5py/_hl/group.py:161\u001b[0m, in \u001b[0;36mGroup.create_dataset\u001b[0;34m(self, name, shape, dtype, data, **kwds)\u001b[0m\n\u001b[1;32m    159\u001b[0m         group \u001b[38;5;241m=\u001b[39m \u001b[38;5;28mself\u001b[39m\u001b[38;5;241m.\u001b[39mrequire_group(parent_path)\n\u001b[0;32m--> 161\u001b[0m dsid \u001b[38;5;241m=\u001b[39m \u001b[43mdataset\u001b[49m\u001b[38;5;241;43m.\u001b[39;49m\u001b[43mmake_new_dset\u001b[49m\u001b[43m(\u001b[49m\u001b[43mgroup\u001b[49m\u001b[43m,\u001b[49m\u001b[43m \u001b[49m\u001b[43mshape\u001b[49m\u001b[43m,\u001b[49m\u001b[43m \u001b[49m\u001b[43mdtype\u001b[49m\u001b[43m,\u001b[49m\u001b[43m \u001b[49m\u001b[43mdata\u001b[49m\u001b[43m,\u001b[49m\u001b[43m \u001b[49m\u001b[43mname\u001b[49m\u001b[43m,\u001b[49m\u001b[43m \u001b[49m\u001b[38;5;241;43m*\u001b[39;49m\u001b[38;5;241;43m*\u001b[39;49m\u001b[43mkwds\u001b[49m\u001b[43m)\u001b[49m\n\u001b[1;32m    162\u001b[0m dset \u001b[38;5;241m=\u001b[39m dataset\u001b[38;5;241m.\u001b[39mDataset(dsid)\n",
      "File \u001b[0;32m~/miniconda3/envs/aero/lib/python3.9/site-packages/h5py/_hl/dataset.py:159\u001b[0m, in \u001b[0;36mmake_new_dset\u001b[0;34m(parent, shape, dtype, data, name, chunks, compression, shuffle, fletcher32, maxshape, compression_opts, fillvalue, scaleoffset, track_times, external, track_order, dcpl, dapl, efile_prefix, virtual_prefix, allow_unknown_filter)\u001b[0m\n\u001b[1;32m    158\u001b[0m \u001b[38;5;28;01mif\u001b[39;00m (data \u001b[38;5;129;01mis\u001b[39;00m \u001b[38;5;129;01mnot\u001b[39;00m \u001b[38;5;28;01mNone\u001b[39;00m) \u001b[38;5;129;01mand\u001b[39;00m (\u001b[38;5;129;01mnot\u001b[39;00m \u001b[38;5;28misinstance\u001b[39m(data, Empty)):\n\u001b[0;32m--> 159\u001b[0m     \u001b[43mdset_id\u001b[49m\u001b[38;5;241;43m.\u001b[39;49m\u001b[43mwrite\u001b[49m\u001b[43m(\u001b[49m\u001b[43mh5s\u001b[49m\u001b[38;5;241;43m.\u001b[39;49m\u001b[43mALL\u001b[49m\u001b[43m,\u001b[49m\u001b[43m \u001b[49m\u001b[43mh5s\u001b[49m\u001b[38;5;241;43m.\u001b[39;49m\u001b[43mALL\u001b[49m\u001b[43m,\u001b[49m\u001b[43m \u001b[49m\u001b[43mdata\u001b[49m\u001b[43m)\u001b[49m\n\u001b[1;32m    161\u001b[0m \u001b[38;5;28;01mreturn\u001b[39;00m dset_id\n",
      "File \u001b[0;32mh5py/_objects.pyx:54\u001b[0m, in \u001b[0;36mh5py._objects.with_phil.wrapper\u001b[0;34m()\u001b[0m\n",
      "File \u001b[0;32mh5py/_objects.pyx:55\u001b[0m, in \u001b[0;36mh5py._objects.with_phil.wrapper\u001b[0;34m()\u001b[0m\n",
      "File \u001b[0;32mh5py/h5d.pyx:232\u001b[0m, in \u001b[0;36mh5py.h5d.DatasetID.write\u001b[0;34m()\u001b[0m\n",
      "File \u001b[0;32mh5py/_proxy.pyx:114\u001b[0m, in \u001b[0;36mh5py._proxy.dset_rw\u001b[0;34m()\u001b[0m\n",
      "\u001b[0;31mOSError\u001b[0m: [Errno 95] Can't write data (file write failed: time = Fri Dec  2 09:25:41 2022\n, filename = '/run/user/30046150/gvfs/smb-share:server=data.thecrick.org,share=lab-gutierrezm/home/users/dayn/test_tracks_output/tracks.hdf5', file descriptor = 66, errno = 95, error message = 'Operation not supported', buf = 0x56208e3cce80, total write size = 237224, bytes this sub-write = 237224, bytes actually written = 18446744073709551615, offset = 0)",
      "\nDuring handling of the above exception, another exception occurred:\n",
      "\u001b[0;31mOSError\u001b[0m                                   Traceback (most recent call last)",
      "Input \u001b[0;32mIn [44]\u001b[0m, in \u001b[0;36m<cell line: 1>\u001b[0;34m()\u001b[0m\n\u001b[1;32m      1\u001b[0m \u001b[38;5;28;01mwith\u001b[39;00m btrack\u001b[38;5;241m.\u001b[39mdataio\u001b[38;5;241m.\u001b[39mHDF5FileHandler(test_tracks_fn, \u001b[38;5;124m\"\u001b[39m\u001b[38;5;124mw\u001b[39m\u001b[38;5;124m\"\u001b[39m, obj_type\u001b[38;5;241m=\u001b[39m\u001b[38;5;124m\"\u001b[39m\u001b[38;5;124mobj_type_1\u001b[39m\u001b[38;5;124m\"\u001b[39m) \u001b[38;5;28;01mas\u001b[39;00m hdf:\n\u001b[0;32m----> 2\u001b[0m     hdf\u001b[38;5;241m.\u001b[39mwrite_tracks(tracks)\n",
      "File \u001b[0;32m~/analysis/BayesianTracker/btrack/dataio.py:392\u001b[0m, in \u001b[0;36mHDF5FileHandler.__exit__\u001b[0;34m(self, exc_type, exc_value, traceback)\u001b[0m\n\u001b[1;32m    391\u001b[0m \u001b[38;5;28;01mdef\u001b[39;00m \u001b[38;5;21m__exit__\u001b[39m(\u001b[38;5;28mself\u001b[39m, exc_type, exc_value, traceback):\n\u001b[0;32m--> 392\u001b[0m     \u001b[38;5;28;43mself\u001b[39;49m\u001b[38;5;241;43m.\u001b[39;49m\u001b[43mclose\u001b[49m\u001b[43m(\u001b[49m\u001b[43m)\u001b[49m\n",
      "File \u001b[0;32m~/analysis/BayesianTracker/btrack/dataio.py:398\u001b[0m, in \u001b[0;36mHDF5FileHandler.close\u001b[0;34m(self)\u001b[0m\n\u001b[1;32m    396\u001b[0m     \u001b[38;5;28;01mreturn\u001b[39;00m\n\u001b[1;32m    397\u001b[0m logger\u001b[38;5;241m.\u001b[39minfo(\u001b[38;5;124mf\u001b[39m\u001b[38;5;124m\"\u001b[39m\u001b[38;5;124mClosing HDF file: \u001b[39m\u001b[38;5;132;01m{\u001b[39;00m\u001b[38;5;28mself\u001b[39m\u001b[38;5;241m.\u001b[39mfilename\u001b[38;5;132;01m}\u001b[39;00m\u001b[38;5;124m\"\u001b[39m)\n\u001b[0;32m--> 398\u001b[0m \u001b[38;5;28;43mself\u001b[39;49m\u001b[38;5;241;43m.\u001b[39;49m\u001b[43m_hdf\u001b[49m\u001b[38;5;241;43m.\u001b[39;49m\u001b[43mclose\u001b[49m\u001b[43m(\u001b[49m\u001b[43m)\u001b[49m\n",
      "File \u001b[0;32m~/miniconda3/envs/aero/lib/python3.9/site-packages/h5py/_hl/files.py:551\u001b[0m, in \u001b[0;36mFile.close\u001b[0;34m(self)\u001b[0m\n\u001b[1;32m    544\u001b[0m \u001b[38;5;28;01mwith\u001b[39;00m phil:\n\u001b[1;32m    545\u001b[0m     \u001b[38;5;66;03m# Check that the file is still open, otherwise skip\u001b[39;00m\n\u001b[1;32m    546\u001b[0m     \u001b[38;5;28;01mif\u001b[39;00m \u001b[38;5;28mself\u001b[39m\u001b[38;5;241m.\u001b[39mid\u001b[38;5;241m.\u001b[39mvalid:\n\u001b[1;32m    547\u001b[0m         \u001b[38;5;66;03m# We have to explicitly murder all open objects related to the file\u001b[39;00m\n\u001b[1;32m    548\u001b[0m \n\u001b[1;32m    549\u001b[0m         \u001b[38;5;66;03m# Close file-resident objects first, then the files.\u001b[39;00m\n\u001b[1;32m    550\u001b[0m         \u001b[38;5;66;03m# Otherwise we get errors in MPI mode.\u001b[39;00m\n\u001b[0;32m--> 551\u001b[0m         \u001b[38;5;28;43mself\u001b[39;49m\u001b[38;5;241;43m.\u001b[39;49m\u001b[43mid\u001b[49m\u001b[38;5;241;43m.\u001b[39;49m\u001b[43m_close_open_objects\u001b[49m\u001b[43m(\u001b[49m\u001b[43mh5f\u001b[49m\u001b[38;5;241;43m.\u001b[39;49m\u001b[43mOBJ_LOCAL\u001b[49m\u001b[43m \u001b[49m\u001b[38;5;241;43m|\u001b[39;49m\u001b[43m \u001b[49m\u001b[38;5;241;43m~\u001b[39;49m\u001b[43mh5f\u001b[49m\u001b[38;5;241;43m.\u001b[39;49m\u001b[43mOBJ_FILE\u001b[49m\u001b[43m)\u001b[49m\n\u001b[1;32m    552\u001b[0m         \u001b[38;5;28mself\u001b[39m\u001b[38;5;241m.\u001b[39mid\u001b[38;5;241m.\u001b[39m_close_open_objects(h5f\u001b[38;5;241m.\u001b[39mOBJ_LOCAL \u001b[38;5;241m|\u001b[39m h5f\u001b[38;5;241m.\u001b[39mOBJ_FILE)\n\u001b[1;32m    554\u001b[0m         \u001b[38;5;28mself\u001b[39m\u001b[38;5;241m.\u001b[39mid\u001b[38;5;241m.\u001b[39mclose()\n",
      "File \u001b[0;32mh5py/_objects.pyx:54\u001b[0m, in \u001b[0;36mh5py._objects.with_phil.wrapper\u001b[0;34m()\u001b[0m\n",
      "File \u001b[0;32mh5py/_objects.pyx:55\u001b[0m, in \u001b[0;36mh5py._objects.with_phil.wrapper\u001b[0;34m()\u001b[0m\n",
      "File \u001b[0;32mh5py/h5f.pyx:360\u001b[0m, in \u001b[0;36mh5py.h5f.FileID._close_open_objects\u001b[0;34m()\u001b[0m\n",
      "\u001b[0;31mOSError\u001b[0m: [Errno 95] Unable to extend file properly, errno = 95, error message = 'operation not supported' (file write failed: time = Fri Dec  2 09:25:41 2022\n, filename = '/run/user/30046150/gvfs/smb-share:server=data.thecrick.org,share=lab-gutierrezm/home/users/dayn/test_tracks_output/tracks.hdf5', file descriptor = 66, errno = 95, error message = 'Operation not supported', buf = 0x5620987ad0c8, total write size = 3368, bytes this sub-write = 3368, bytes actually written = 18446744073709551615, offset = 0)"
     ]
    }
   ],
   "source": [
    "with btrack.dataio.HDF5FileHandler(test_tracks_fn, \"w\", obj_type=\"obj_type_1\") as hdf:\n",
    "    hdf.write_tracks(tracks)"
   ]
  },
  {
   "cell_type": "markdown",
   "id": "54a9d97b",
   "metadata": {},
   "source": [
    "## Checking tracks prior to plotting single cell info"
   ]
  },
  {
   "cell_type": "code",
   "execution_count": null,
   "id": "c21df49d",
   "metadata": {},
   "outputs": [],
   "source": [
    "import napari"
   ]
  },
  {
   "cell_type": "code",
   "execution_count": null,
   "id": "335f35ae",
   "metadata": {},
   "outputs": [],
   "source": [
    "viewer = napari.Viewer()\n",
    "\n",
    "viewer.add_image(ch0, colormap='blue', blending = 'additive')\n",
    "viewer.add_image(ch3, colormap= 'gray', blending = 'additive')\n",
    "viewer.add_image(ch1, colormap='red', blending = 'additive')\n",
    "viewer.add_image(ch2, colormap= 'green', blending = 'additive')\n",
    "\n",
    "viewer.add_labels(mask_stack)\n",
    "\n",
    "viewer.add_tracks(ch1_data)\n",
    "viewer.add_tracks(ch2_data)\n"
   ]
  }
 ],
 "metadata": {
  "kernelspec": {
   "display_name": "aero",
   "language": "python",
   "name": "aero"
  },
  "language_info": {
   "codemirror_mode": {
    "name": "ipython",
    "version": 3
   },
   "file_extension": ".py",
   "mimetype": "text/x-python",
   "name": "python",
   "nbconvert_exporter": "python",
   "pygments_lexer": "ipython3",
   "version": "3.9.12"
  }
 },
 "nbformat": 4,
 "nbformat_minor": 5
}
