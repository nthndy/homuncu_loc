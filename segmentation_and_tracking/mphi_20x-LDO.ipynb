{
 "cells": [
  {
   "cell_type": "markdown",
   "id": "038f144c",
   "metadata": {},
   "source": [
    "# saving out mphi masks"
   ]
  },
  {
   "cell_type": "code",
   "execution_count": 8,
   "id": "2a028c61-6624-4102-85b4-38260e89b2d8",
   "metadata": {},
   "outputs": [],
   "source": [
    "from csbdeep.utils.tf import limit_gpu_memory\n",
    "limit_gpu_memory(fraction = 0.00, allow_growth=False, total_memory=49140)"
   ]
  },
  {
   "cell_type": "code",
   "execution_count": 1,
   "id": "8988af78",
   "metadata": {},
   "outputs": [],
   "source": [
    "import napari\n",
    "from skimage import io\n",
    "import btrack\n",
    "import os\n",
    "from tqdm.auto import tqdm\n",
    "import numpy as np\n",
    "import btrack\n",
    "from glob import glob\n",
    "from homuncu_loc.dataio import find_files_with_basename, ID_extractor"
   ]
  },
  {
   "cell_type": "markdown",
   "id": "09c5e155-1cd6-46e9-9643-5446f0fc851b",
   "metadata": {},
   "source": [
    "#### Define image fn "
   ]
  },
  {
   "cell_type": "code",
   "execution_count": 2,
   "id": "662eacac-3046-4b30-9465-a8f734574ad4",
   "metadata": {},
   "outputs": [
    {
     "name": "stdout",
     "output_type": "stream",
     "text": [
      "nvcc: NVIDIA (R) Cuda compiler driver\n",
      "Copyright (c) 2005-2019 NVIDIA Corporation\n",
      "Built on Sun_Jul_28_19:07:16_PDT_2019\n",
      "Cuda compilation tools, release 10.1, V10.1.243\n",
      "Mon Oct  9 09:42:37 2023       \n",
      "+-----------------------------------------------------------------------------+\n",
      "| NVIDIA-SMI 515.105.01   Driver Version: 515.105.01   CUDA Version: 11.7     |\n",
      "|-------------------------------+----------------------+----------------------+\n",
      "| GPU  Name        Persistence-M| Bus-Id        Disp.A | Volatile Uncorr. ECC |\n",
      "| Fan  Temp  Perf  Pwr:Usage/Cap|         Memory-Usage | GPU-Util  Compute M. |\n",
      "|                               |                      |               MIG M. |\n",
      "|===============================+======================+======================|\n",
      "|   0  NVIDIA RTX A6000    On   | 00000000:65:00.0  On |                  Off |\n",
      "| 30%   44C    P5    38W / 300W |  45557MiB / 49140MiB |     29%      Default |\n",
      "|                               |                      |                  N/A |\n",
      "+-------------------------------+----------------------+----------------------+\n",
      "                                                                               \n",
      "+-----------------------------------------------------------------------------+\n",
      "| Processes:                                                                  |\n",
      "|  GPU   GI   CI        PID   Type   Process name                  GPU Memory |\n",
      "|        ID   ID                                                   Usage      |\n",
      "|=============================================================================|\n",
      "|    0   N/A  N/A      2292      G   /usr/lib/xorg/Xorg                253MiB |\n",
      "|    0   N/A  N/A     42098      G   gnome-control-center               50MiB |\n",
      "|    0   N/A  N/A     91460      C   .../envs/brassica/bin/python      385MiB |\n",
      "|    0   N/A  N/A    336109      G   .../envs/brassica/bin/python        5MiB |\n",
      "|    0   N/A  N/A    338054      C   .../envs/brassica/bin/python      359MiB |\n",
      "|    0   N/A  N/A    339241    C+G   .../envs/brassica/bin/python    43763MiB |\n",
      "|    0   N/A  N/A    541429      C   ...nda3/envs/aero/bin/python      421MiB |\n",
      "|    0   N/A  N/A    551092      G   /usr/bin/gnome-shell               49MiB |\n",
      "|    0   N/A  N/A    673673      G   ...AAAAAAAAA= --shared-files       47MiB |\n",
      "|    0   N/A  N/A    673674      G   ...714807703712694810,262144      212MiB |\n",
      "+-----------------------------------------------------------------------------+\n"
     ]
    }
   ],
   "source": [
    "# print gpu information\n",
    "!nvcc --version\n",
    "!nvidia-smi\n",
    "\n",
    "# load cellpose\n",
    "# from cellpose import core, utils, models, metrics\n",
    "import matplotlib.pyplot as plt \n",
    "from skimage.morphology import remove_small_objects\n",
    "\n",
    "# check to see if GPU can be used\n",
    "# use_GPU = core.use_gpu()\n",
    "# yn = ['NO', 'YES']\n",
    "# print(f'>>> GPU activated? {yn[use_GPU]}')\n",
    "\n",
    "# # define segmentation model parameters\n",
    "# model = models.Cellpose(gpu=use_GPU, \n",
    "#                         model_type='cyto') # cytoplasmic segmentation \n",
    "# channels = [0,0] # this means using a grayscale image for both nuclei and cyto channels (even if not using nuclei, still have to say its same colour [greyscale = 0])"
   ]
  },
  {
   "cell_type": "markdown",
   "id": "3b2ce567-d8fb-41d9-8cac-f61e04741f99",
   "metadata": {},
   "source": [
    "# define a general segmentation framework for macroph and edit params for other cell"
   ]
  },
  {
   "cell_type": "code",
   "execution_count": 16,
   "id": "e3ed329d-6793-4a23-80ab-90f04e9d4992",
   "metadata": {},
   "outputs": [],
   "source": [
    "from tqdm.auto import tqdm\n",
    "from cellpose import models\n",
    "from skimage.morphology import remove_small_objects\n",
    "import numpy as np\n",
    "import btrack\n",
    "\n",
    "def segment_channel(segmentation_channel, diameter=60, flow_threshold=0.99, channels=[0,0], cellprob_threshold=-2, min_mask_size=500, return_diams=False, start_point=None, end_point=None):\n",
    "    \"\"\"\n",
    "    Segments a specified channel of an image using Cellpose and optionally returns the average diameter of segments.\n",
    "\n",
    "    Args:\n",
    "    - segmentation_channel (ndarray): 3D array of the target channel where the 3rd dimension represents the Z-stack.\n",
    "    - diameter (int, optional): Average cell diameter for Cellpose. Default is 60.\n",
    "    - flow_threshold (float, optional): Threshold for flow in Cellpose. Default is 0.99.\n",
    "    - channels (list, optional): Channel input for Cellpose. Default is [0,0].\n",
    "    - cellprob_threshold (float, optional): Cell probability threshold for Cellpose. Default is -2.\n",
    "    - min_mask_size (int, optional): Minimum size of objects to keep in the segmented mask. Default is 500.\n",
    "    - return_diams (bool, optional): If set to True, the function will also return the average diameter of segments.\n",
    "    - start_point (int, optional): Starting point for segmentation frames. Default is None.\n",
    "    - end_point (int, optional): Ending point for segmentation frames. Default is None.\n",
    "\n",
    "    Returns:\n",
    "    - ndarray: 3D mask array with the same shape as the input, where segmented regions are labeled.\n",
    "    - float (optional): Average diameter of segments if return_diams is True.\n",
    "    \"\"\"\n",
    "\n",
    "    if start_point is None or end_point is None:\n",
    "        # Calculate intensities for each frame in Z-stack\n",
    "        intensities = [np.sum(frame) for frame in tqdm(segmentation_channel, desc='finding where segmentation channel is expressed in Z')]\n",
    "\n",
    "        # Estimate the background level\n",
    "        background_level = np.min(intensities)\n",
    "        threshold = background_level + ((np.max(intensities)-np.min(intensities))*0.50)\n",
    "\n",
    "        if start_point is None:\n",
    "            # Find the points where the curve starts to deviate from the background\n",
    "            start_point = np.argmax(intensities > threshold)\n",
    "\n",
    "        if end_point is None:\n",
    "            end_point = len(intensities) - np.argmax(intensities[::-1] > threshold) - 1\n",
    "\n",
    "    # Initialize output mask array\n",
    "    mask_array = np.zeros_like(segmentation_channel)\n",
    "\n",
    "    # Initialize the model\n",
    "    model = models.Cellpose(model_type='cyto')\n",
    "    \n",
    "    # List to store diameters if return_diams is True\n",
    "    diams = []\n",
    "\n",
    "    # Segment over selected frames\n",
    "    for n, frame in tqdm(enumerate(segmentation_channel[start_point:end_point]), total=end_point-start_point, desc='segmenting over select frames'):\n",
    "        n += start_point\n",
    "        masks, _, _, diam = model.eval(frame, diameter=diameter, flow_threshold=flow_threshold, channels=channels, cellprob_threshold=cellprob_threshold)\n",
    "        masks = remove_small_objects(masks, min_size=min_mask_size)\n",
    "        mask_array[n] = masks\n",
    "        diams.append(diam)\n",
    "\n",
    "    if return_diams:\n",
    "        return mask_array, diams\n",
    "    else:\n",
    "        return mask_array"
   ]
  },
  {
   "cell_type": "code",
   "execution_count": 3,
   "id": "a546e647-6502-4610-b3ee-95784f652a20",
   "metadata": {
    "scrolled": true
   },
   "outputs": [
    {
     "name": "stderr",
     "output_type": "stream",
     "text": [
      "2023-10-09 09:42:43.928119: I tensorflow/core/util/port.cc:111] oneDNN custom operations are on. You may see slightly different numerical results due to floating-point round-off errors from different computation orders. To turn them off, set the environment variable `TF_ENABLE_ONEDNN_OPTS=0`.\n",
      "2023-10-09 09:42:43.990647: E tensorflow/compiler/xla/stream_executor/cuda/cuda_dnn.cc:9342] Unable to register cuDNN factory: Attempting to register factory for plugin cuDNN when one has already been registered\n",
      "2023-10-09 09:42:43.990685: E tensorflow/compiler/xla/stream_executor/cuda/cuda_fft.cc:609] Unable to register cuFFT factory: Attempting to register factory for plugin cuFFT when one has already been registered\n",
      "2023-10-09 09:42:43.990714: E tensorflow/compiler/xla/stream_executor/cuda/cuda_blas.cc:1518] Unable to register cuBLAS factory: Attempting to register factory for plugin cuBLAS when one has already been registered\n",
      "2023-10-09 09:42:44.001408: I tensorflow/core/platform/cpu_feature_guard.cc:182] This TensorFlow binary is optimized to use available CPU instructions in performance-critical operations.\n",
      "To enable the following instructions: AVX2 AVX512F AVX512_VNNI FMA, in other operations, rebuild TensorFlow with the appropriate compiler flags.\n"
     ]
    }
   ],
   "source": [
    "from stardist.models import StarDist2D\n",
    "from csbdeep.utils import normalize\n",
    "import numpy as np\n",
    "from tqdm.auto import tqdm\n",
    "from skimage import segmentation\n",
    "from skimage.morphology import remove_small_objects\n",
    "import btrack\n",
    "axis_norm = (0,1) \n",
    "\n",
    "def segmestimate_channel(segmentation_channel, min_mask_size=100, start_point=None, end_point=None):\n",
    "    \"\"\"\n",
    "    Segments a specified channel of an image using stardist and estimates an approximation of cytoplasmic area by expanding the nucleus.\n",
    "\n",
    "    Args:\n",
    "    - segmentation_channel (ndarray): 3D array of the target channel where the 3rd dimension represents the Z-stack.\n",
    "   \n",
    "    - start_point (int, optional): Starting point for segmentation frames. Default is None.\n",
    "    - end_point (int, optional): Ending point for segmentation frames. Default is None.\n",
    "\n",
    "    Returns:\n",
    "    - ndarray: 3D mask array with the same shape as the input, where segmented regions are labeled.\n",
    "    - float (optional): Average diameter of segments if return_diams is True.\n",
    "    \"\"\"\n",
    "\n",
    "    if start_point is None or end_point is None:\n",
    "        # Calculate intensities for each frame in Z-stack\n",
    "        intensities = [np.sum(frame) for frame in tqdm(segmentation_channel, desc='finding where segmentation channel is expressed in Z')]\n",
    "\n",
    "        # Estimate the background level\n",
    "        background_level = np.min(intensities)\n",
    "        threshold = background_level + ((np.max(intensities)-np.min(intensities))*0.50)\n",
    "\n",
    "        if start_point is None:\n",
    "            # Find the points where the curve starts to deviate from the background\n",
    "            start_point = np.argmax(intensities > threshold)\n",
    "\n",
    "        if end_point is None:\n",
    "            end_point = len(intensities) - np.argmax(intensities[::-1] > threshold) - 1\n",
    "\n",
    "    # Initialize output mask array\n",
    "    mask_array = np.zeros_like(segmentation_channel)\n",
    "\n",
    "    # Initialize the model\n",
    "    model = StarDist2D.from_pretrained('2D_versatile_fluo')\n",
    "\n",
    "    # Segment over selected frames\n",
    "    for n, frame in tqdm(enumerate(segmentation_channel[start_point:end_point]), total=end_point-start_point, desc='segmenting over select frames'):\n",
    "        n += start_point\n",
    "        frame = normalize(frame, 1, 99.8, axis=axis_norm)\n",
    "        masks, details = model.predict_instances(frame)\n",
    "        masks = remove_small_objects(masks, min_size=min_mask_size)\n",
    "        masks = segmentation.expand_labels(masks, distance=20)\n",
    "        mask_array[n] = masks\n",
    "   \n",
    "    return mask_array"
   ]
  },
  {
   "cell_type": "code",
   "execution_count": 5,
   "id": "a5d91684-47ff-428b-8a69-0dfd829a4d86",
   "metadata": {},
   "outputs": [
    {
     "name": "stdout",
     "output_type": "stream",
     "text": [
      "Mon Oct  9 09:44:05 2023       \n",
      "+-----------------------------------------------------------------------------+\n",
      "| NVIDIA-SMI 515.105.01   Driver Version: 515.105.01   CUDA Version: 11.7     |\n",
      "|-------------------------------+----------------------+----------------------+\n",
      "| GPU  Name        Persistence-M| Bus-Id        Disp.A | Volatile Uncorr. ECC |\n",
      "| Fan  Temp  Perf  Pwr:Usage/Cap|         Memory-Usage | GPU-Util  Compute M. |\n",
      "|                               |                      |               MIG M. |\n",
      "|===============================+======================+======================|\n",
      "|   0  NVIDIA RTX A6000    On   | 00000000:65:00.0  On |                  Off |\n",
      "| 30%   45C    P5    38W / 300W |    779MiB / 49140MiB |     29%      Default |\n",
      "|                               |                      |                  N/A |\n",
      "+-------------------------------+----------------------+----------------------+\n",
      "                                                                               \n",
      "+-----------------------------------------------------------------------------+\n",
      "| Processes:                                                                  |\n",
      "|  GPU   GI   CI        PID   Type   Process name                  GPU Memory |\n",
      "|        ID   ID                                                   Usage      |\n",
      "|=============================================================================|\n",
      "|    0   N/A  N/A      2292      G   /usr/lib/xorg/Xorg                253MiB |\n",
      "|    0   N/A  N/A     42098      G   gnome-control-center               50MiB |\n",
      "|    0   N/A  N/A    336109      G   .../envs/brassica/bin/python       51MiB |\n",
      "|    0   N/A  N/A    551092      G   /usr/bin/gnome-shell               49MiB |\n",
      "|    0   N/A  N/A    673673      G   ...AAAAAAAAA= --shared-files       47MiB |\n",
      "|    0   N/A  N/A    673674      G   ...714807703712694810,262144      321MiB |\n",
      "+-----------------------------------------------------------------------------+\n"
     ]
    }
   ],
   "source": [
    "!nvidia-smi"
   ]
  },
  {
   "cell_type": "code",
   "execution_count": 10,
   "id": "2b6e699a-fedb-45c2-8412-5b4f63a4da19",
   "metadata": {},
   "outputs": [],
   "source": [
    "props = ('axis_major_length', # first define some cell properties \n",
    "         'axis_minor_length', # this helps improve the tracking\n",
    "         'eccentricity',      # by comparing similarities between slices/frames\n",
    "         'area', \n",
    "         'orientation',\n",
    "         'mean_intensity', \n",
    "        )"
   ]
  },
  {
   "cell_type": "code",
   "execution_count": 7,
   "id": "075d89d6-b7a0-4699-a6a0-3d730c262adb",
   "metadata": {},
   "outputs": [],
   "source": [
    "basedir = '/run/user/30046150/gvfs/smb-share:server=data2.thecrick.org,share=lab-gutierrezm/home/shared/Lung on Chip/homuncu_loc_image_analysis/iAT1_iAT2_iVEC_macrophage_experiments/DAPI_ZO1_LDO_MTB/images'"
   ]
  },
  {
   "cell_type": "code",
   "execution_count": 8,
   "id": "38f4bd7f-f353-47c0-a1bb-1bd73cd4f5a7",
   "metadata": {},
   "outputs": [],
   "source": [
    "image_basenames = [\n",
    "    # \"20230705_40X_23-01-001B3_Multichannel Z-Stack_20230705_1298\",\n",
    "    # \"20230705_40X_23-01-001B3_Multichannel Z-Stack_20230705_1299\",\n",
    "    # \"20230705_40X_23-01-001B3_Multichannel Z-Stack_20230705_1300\",\n",
    "    # \"20230705_40X_23-01-005A3_Multichannel Z-Stack_20230705_1306\",\n",
    "    # \"20230705_40X_23-01-005A3_Multichannel Z-Stack_20230705_1307\",\n",
    "    # \"20230705_40X_23-01-005A3_Multichannel Z-Stack_20230705_1308\",\n",
    "    # \"20230705_40X_23-01-005A3_Multichannel Z-Stack_20230705_1309\",\n",
    "    # \"20230705_40X_23-01-005A3_Multichannel Z-Stack_20230705_1310\",\n",
    "    # \"20230705_40X_23-01-005A3_Multichannel Z-Stack_20230705_1311\",\n",
    "    # \"20230707_40X_23-01-001A3_Multichannel Z-Stack_20230707_1313\",\n",
    "    # \"20230707_40X_23-01-001A3_Multichannel Z-Stack_20230707_1314\",\n",
    "    # \"20230707_40X_23-01-001A3_Multichannel Z-Stack_20230707_1315\",\n",
    "    # \"20230707_40X_23-01-001A3_Multichannel Z-Stack_20230707_1316\",\n",
    "    # \"20230707_40X_23-01-001A3_Multichannel Z-Stack_20230707_1317\",\n",
    "    # \"20230707_40X_23-01-001A3_Multichannel Z-Stack_20230707_1318\",\n",
    "    # \"20230707_40X_23-01-001A3_Multichannel Z-Stack_20230707_1319\",\n",
    "    # \"20230707_40X_23-01-001A3_Multichannel Z-Stack_20230707_1320\",\n",
    "    # \"20230707_40X_23-01-005A3_Multichannel Z-Stack_20230707_1324\",\n",
    "    # \"20230707_40X_23-01-005A3_Multichannel Z-Stack_20230707_1325\",\n",
    "    # \"20230714_20X_23-02-104A4_Multichannel Z-Stack_20230714_1340\",\n",
    "    # \"20230714_20X_23-02-104A4_Multichannel Z-Stack_20230714_1341\",\n",
    "    # \"20230714_20X_23-02-104A4_Multichannel Z-Stack_20230714_1342\",\n",
    "    # \"20230714_20X_23-02-104A4_Multichannel Z-Stack_20230714_1343\",\n",
    "    # \"20230714_20X_23-02-104A4_Multichannel Z-Stack_20230714_1344\",\n",
    "    # \"20230718_20X_23-02-104B2_Multichannel Z-Stack_20230718_1361\",\n",
    "    # \"20230718_20X_23-02-104B2_Multichannel Z-Stack_20230718_1362\",\n",
    "    # \"20230718_20X_23-02-104B2_Multichannel Z-Stack_20230718_1363\",\n",
    "    # \"20230718_20X_23-02-104B2_Multichannel Z-Stack_20230718_1364\",\n",
    "    # \"20230718_20X_23-02-104B2_Multichannel Z-Stack_20230718_1365\",\n",
    "    #    \"20230801_20X_23-03-001B4_DAPI_ZO-1_CD16_Mtb_Multichannel Z-Stack_20230801_1463\",\n",
    "    # \"20230801_20X_23-03-001B4_DAPI_ZO-1_CD16_Mtb_Multichannel Z-Stack_20230801_1464\",\n",
    "    # \"20230801_20X_23-03-001B4_DAPI_ZO-1_CD16_Mtb_Multichannel Z-Stack_20230801_1465\",\n",
    "    # \"20230801_20X_23-03-001B4_DAPI_ZO-1_CD16_Mtb_Multichannel Z-Stack_20230801_1467\",\n",
    "    # \"20230801_20X_23-03-001B2_DAPI_ZO-1_Ki67_Mtb_Multichannel Z-Stack_20230801_1482\",\n",
    "    # \"20230801_20X_23-03-001B2_DAPI_ZO-1_Ki67_Mtb_Multichannel Z-Stack_20230801_1483\",\n",
    "    # \"20230801_20X_23-03-001B2_DAPI_ZO-1_Ki67_Mtb_Multichannel Z-Stack_20230801_1484\",\n",
    "    # \"20230802_20X_23-03-001A4_DAPI_ZO-1_CD16_Mtb_Multichannel Z-Stack_20230802_1500\",\n",
    "    # \"20230802_20X_23-03-001A4_DAPI_ZO-1_CD16_Mtb_Multichannel Z-Stack_20230802_1501\",\n",
    "    # \"20230802_20X_23-03-001A1_DAPI_ZO-1_CD16_Mtb_Multichannel Z-Stack_20230802_1510\",\n",
    "    # \"20230802_20X_23-03-001A1_DAPI_ZO-1_CD16_Mtb_Multichannel Z-Stack_20230802_1511\",\n",
    "    # \"20230802_20X_23-03-001A1_DAPI_ZO-1_CD16_Mtb_Multichannel Z-Stack_20230802_1512\",\n",
    "    # \"20230802_20X_23-03-001A1_DAPI_ZO-1_CD16_Mtb_Multichannel Z-Stack_20230802_1513\",\n",
    "    # \"20230802_20X_23-03-001A1_DAPI_ZO-1_CD16_Mtb_Multichannel Z-Stack_20230802_1514\",\n",
    "    # \"20230801_20X_23-03-001B2_DAPI_ZO-1_Ki67_Mtb_Multichannel Z-Stack_20230801_1481\"\n",
    "    '20230802_20X_23-03-001A2_DAPI_ZO-1_LDO_Mtb_Multichannel Z-Stack_20230802_1504', \n",
    "    '20230802_20X_23-03-001A5_DAPI_ZO-1_LDO_Mtb_Multichannel Z-Stack_20230802_1496',\n",
    "    '20230801_20X_23-03-001B3_DAPI_ZO-1_LDO_Mtb_Multichannel Z-Stack_20230801_1468',\n",
    "    '20230801_20X_23-03-001B6_DAPI_ZO-1_LDO_Mtb_Multichannel Z-Stack_20230801_1453',\n",
    "]\n",
    "    \n",
    "    "
   ]
  },
  {
   "cell_type": "code",
   "execution_count": 9,
   "id": "99b9c3ab-a85a-4fb7-8022-f1f858490035",
   "metadata": {},
   "outputs": [],
   "source": [
    "image_fns = [os.path.join(basedir, fn+'.tif') for fn in image_basenames]"
   ]
  },
  {
   "cell_type": "code",
   "execution_count": 11,
   "id": "c02caad4-bade-4f57-8616-3932f416fe26",
   "metadata": {},
   "outputs": [],
   "source": [
    "image_fns = [f'{fn}.tif' for fn in [\n",
    "    \"/run/user/30046150/gvfs/smb-share:server=data2.thecrick.org,share=lab-gutierrezm/home/shared/Lung on Chip/homuncu_loc_image_analysis/iAT1_iAT2_iVEC_macrophage_experiments/DAPI_ZO1_LDO_MTB/images/20230801_20X_23-03-001B6_DAPI_ZO-1_LDO_Mtb_Multichannel Z-Stack_20230801_1453\",\n",
    "    \"/run/user/30046150/gvfs/smb-share:server=data2.thecrick.org,share=lab-gutierrezm/home/shared/Lung on Chip/homuncu_loc_image_analysis/iAT1_iAT2_iVEC_macrophage_experiments/DAPI_ZO1_LDO_MTB/images/20230801_20X_23-03-001B3_DAPI_ZO-1_LDO_Mtb_Multichannel Z-Stack_20230801_1468\",\n",
    "    \"/run/user/30046150/gvfs/smb-share:server=data2.thecrick.org,share=lab-gutierrezm/home/shared/Lung on Chip/homuncu_loc_image_analysis/iAT1_iAT2_iVEC_macrophage_experiments/DAPI_ZO1_Ki67_MTB/images/20230801_20X_23-03-001B2_DAPI_ZO-1_Ki67_Mtb_Multichannel Z-Stack_20230801_1481\",\n",
    "    \"/run/user/30046150/gvfs/smb-share:server=data2.thecrick.org,share=lab-gutierrezm/home/shared/Lung on Chip/homuncu_loc_image_analysis/iAT1_iAT2_iVEC_macrophage_experiments/DAPI_ZO1_Ki67_MTB/images/20230801_20X_23-03-001B2_DAPI_ZO-1_Ki67_Mtb_Multichannel Z-Stack_20230801_1482\",\n",
    "    \"/run/user/30046150/gvfs/smb-share:server=data2.thecrick.org,share=lab-gutierrezm/home/shared/Lung on Chip/homuncu_loc_image_analysis/iAT1_iAT2_iVEC_macrophage_experiments/DAPI_ZO1_Ki67_MTB/images/20230801_20X_23-03-001B2_DAPI_ZO-1_Ki67_Mtb_Multichannel Z-Stack_20230801_1483\",\n",
    "    \"/run/user/30046150/gvfs/smb-share:server=data2.thecrick.org,share=lab-gutierrezm/home/shared/Lung on Chip/homuncu_loc_image_analysis/iAT1_iAT2_iVEC_macrophage_experiments/DAPI_ZO1_Ki67_MTB/images/20230801_20X_23-03-001B2_DAPI_ZO-1_Ki67_Mtb_Multichannel Z-Stack_20230801_1484\",\n",
    "    \"/run/user/30046150/gvfs/smb-share:server=data2.thecrick.org,share=lab-gutierrezm/home/shared/Lung on Chip/homuncu_loc_image_analysis/iAT1_iAT2_iVEC_macrophage_experiments/DAPI_ZO1_LDO_MTB/images/20230802_20X_23-03-001A5_DAPI_ZO-1_LDO_Mtb_Multichannel Z-Stack_20230802_1496\",\n",
    "    \"/run/user/30046150/gvfs/smb-share:server=data2.thecrick.org,share=lab-gutierrezm/home/shared/Lung on Chip/homuncu_loc_image_analysis/iAT1_iAT2_iVEC_macrophage_experiments/DAPI_ZO1_LDO_MTB/images/20230802_20X_23-03-001A2_DAPI_ZO-1_LDO_Mtb_Multichannel Z-Stack_20230802_1504\"\n",
    "]]\n"
   ]
  },
  {
   "cell_type": "code",
   "execution_count": 12,
   "id": "7d75fcf8-d7fe-426b-a202-9b9df581c642",
   "metadata": {},
   "outputs": [],
   "source": [
    "from macrohet.notify import send_sms"
   ]
  },
  {
   "cell_type": "code",
   "execution_count": 13,
   "id": "d9e89ba2-65ca-415c-ab3e-781afe2a5dc0",
   "metadata": {
    "scrolled": true
   },
   "outputs": [
    {
     "data": {
      "application/vnd.jupyter.widget-view+json": {
       "model_id": "2c140ea47267483b9f6648c9a17e035d",
       "version_major": 2,
       "version_minor": 0
      },
      "text/plain": [
       "iterating over image volumes:   0%|          | 0/8 [00:00<?, ?it/s]"
      ]
     },
     "metadata": {},
     "output_type": "display_data"
    },
    {
     "name": "stdout",
     "output_type": "stream",
     "text": [
      "/run/user/30046150/gvfs/smb-share:server=data2.thecrick.org,share=lab-gutierrezm/home/shared/Lung on Chip/homuncu_loc_image_analysis/iAT1_iAT2_iVEC_macrophage_experiments/DAPI_ZO1_LDO_MTB/images/20230801_20X_23-03-001B6_DAPI_ZO-1_LDO_Mtb_Multichannel Z-Stack_20230801_1453.tif\n"
     ]
    },
    {
     "data": {
      "application/vnd.jupyter.widget-view+json": {
       "model_id": "d6dd4f9878684083a88d2d9b36b86d56",
       "version_major": 2,
       "version_minor": 0
      },
      "text/plain": [
       "finding where segmentation channel is expressed in Z:   0%|          | 0/233 [00:00<?, ?it/s]"
      ]
     },
     "metadata": {},
     "output_type": "display_data"
    },
    {
     "name": "stdout",
     "output_type": "stream",
     "text": [
      "Found model '2D_versatile_fluo' for 'StarDist2D'.\n",
      "Loading network weights from 'weights_best.h5'.\n",
      "Loading thresholds from 'thresholds.json'.\n",
      "Using default values: prob_thresh=0.479071, nms_thresh=0.3.\n"
     ]
    },
    {
     "data": {
      "application/vnd.jupyter.widget-view+json": {
       "model_id": "8f35ed8b64064504ae765d292dbbcd13",
       "version_major": 2,
       "version_minor": 0
      },
      "text/plain": [
       "segmenting over select frames:   0%|          | 0/176 [00:00<?, ?it/s]"
      ]
     },
     "metadata": {},
     "output_type": "display_data"
    },
    {
     "name": "stderr",
     "output_type": "stream",
     "text": [
      "[INFO][2023/10/09 09:54:12 AM] Localizing objects from segmentation...\n",
      "progress: 100%|█████████████████████████████████████████████████████████████████████████████████████████████████████████████████████████████████████████| 233/233 [02:19<00:00,  1.67it/s]\n",
      "[INFO][2023/10/09 09:56:32 AM] Objects are of type: <class 'dict'>\n",
      "[INFO][2023/10/09 09:56:34 AM] ...Found 218167 objects in 196 frames.\n"
     ]
    },
    {
     "data": {
      "application/vnd.jupyter.widget-view+json": {
       "model_id": "49cb4a4b624d4874a5c2474ddcbbe2f3",
       "version_major": 2,
       "version_minor": 0
      },
      "text/plain": [
       "Measuring Mtb properties of each cell:   0%|          | 0/218167 [00:00<?, ?it/s]"
      ]
     },
     "metadata": {},
     "output_type": "display_data"
    },
    {
     "name": "stderr",
     "output_type": "stream",
     "text": [
      "[INFO][2023/10/09 10:47:52 AM] Loaded btrack: /home/dayn/analysis/btrack/btrack/libs/libtracker.so\n",
      "[INFO][2023/10/09 10:47:52 AM] Starting BayesianTracker session\n",
      "[INFO][2023/10/09 10:47:52 AM] Loading configuration file: /home/dayn/analysis/models/loc.json\n",
      "[INFO][2023/10/09 10:47:52 AM] Objects are of type: <class 'list'>\n",
      "[INFO][2023/10/09 10:47:55 AM] Starting tracking... \n",
      "[INFO][2023/10/09 10:47:55 AM] Update using: ['VISUAL', 'MOTION']\n",
      "[INFO][2023/10/09 10:47:56 AM] Tracking objects in frames 0 to 9 (of 196)...\n",
      "[INFO][2023/10/09 10:48:00 AM]  - Timing (Bayesian updates: 113.19ms, Linking: 3.76ms)\n",
      "[INFO][2023/10/09 10:48:00 AM]  - Probabilities (Link: 1.00000, Lost: 1.00000)\n",
      "[INFO][2023/10/09 10:48:00 AM]  - Stats (Active: 733, Lost: 86, Conflicts resolved: 673)\n",
      "[INFO][2023/10/09 10:48:00 AM] Tracking objects in frames 10 to 19 (of 196)...\n",
      "[INFO][2023/10/09 10:48:04 AM]  - Timing (Bayesian updates: 139.51ms, Linking: 4.14ms)\n",
      "[INFO][2023/10/09 10:48:04 AM]  - Probabilities (Link: 1.00000, Lost: 1.00000)\n",
      "[INFO][2023/10/09 10:48:04 AM]  - Stats (Active: 773, Lost: 195, Conflicts resolved: 1467)\n",
      "[INFO][2023/10/09 10:48:04 AM] Tracking objects in frames 20 to 29 (of 196)...\n",
      "[INFO][2023/10/09 10:48:08 AM]  - Timing (Bayesian updates: 153.67ms, Linking: 4.67ms)\n",
      "[INFO][2023/10/09 10:48:08 AM]  - Probabilities (Link: 1.00000, Lost: 1.00000)\n",
      "[INFO][2023/10/09 10:48:08 AM]  - Stats (Active: 785, Lost: 312, Conflicts resolved: 2263)\n",
      "[INFO][2023/10/09 10:48:08 AM] Tracking objects in frames 30 to 39 (of 196)...\n",
      "[INFO][2023/10/09 10:48:12 AM]  - Timing (Bayesian updates: 140.89ms, Linking: 4.24ms)\n",
      "[INFO][2023/10/09 10:48:12 AM]  - Probabilities (Link: 1.00000, Lost: 1.00000)\n",
      "[INFO][2023/10/09 10:48:12 AM]  - Stats (Active: 840, Lost: 540, Conflicts resolved: 3211)\n",
      "[INFO][2023/10/09 10:48:12 AM] Tracking objects in frames 40 to 49 (of 196)...\n",
      "[INFO][2023/10/09 10:48:16 AM]  - Timing (Bayesian updates: 107.32ms, Linking: 3.82ms)\n",
      "[INFO][2023/10/09 10:48:16 AM]  - Probabilities (Link: 1.00000, Lost: 1.00000)\n",
      "[INFO][2023/10/09 10:48:16 AM]  - Stats (Active: 759, Lost: 873, Conflicts resolved: 4264)\n",
      "[INFO][2023/10/09 10:48:16 AM] Tracking objects in frames 50 to 59 (of 196)...\n",
      "[INFO][2023/10/09 10:48:19 AM]  - Timing (Bayesian updates: 128.39ms, Linking: 4.01ms)\n",
      "[INFO][2023/10/09 10:48:19 AM]  - Probabilities (Link: 1.00000, Lost: 1.00000)\n",
      "[INFO][2023/10/09 10:48:19 AM]  - Stats (Active: 768, Lost: 1089, Conflicts resolved: 5109)\n",
      "[INFO][2023/10/09 10:48:19 AM] Tracking objects in frames 60 to 69 (of 196)...\n",
      "[INFO][2023/10/09 10:48:23 AM]  - Timing (Bayesian updates: 153.46ms, Linking: 4.66ms)\n",
      "[INFO][2023/10/09 10:48:23 AM]  - Probabilities (Link: 1.00000, Lost: 0.66752)\n",
      "[INFO][2023/10/09 10:48:23 AM]  - Stats (Active: 793, Lost: 1223, Conflicts resolved: 6040)\n",
      "[INFO][2023/10/09 10:48:23 AM] Tracking objects in frames 70 to 79 (of 196)...\n",
      "[INFO][2023/10/09 10:48:29 AM]  - Timing (Bayesian updates: 235.32ms, Linking: 5.55ms)\n",
      "[INFO][2023/10/09 10:48:29 AM]  - Probabilities (Link: 1.00000, Lost: 0.84599)\n",
      "[INFO][2023/10/09 10:48:29 AM]  - Stats (Active: 939, Lost: 1351, Conflicts resolved: 7071)\n",
      "[INFO][2023/10/09 10:48:29 AM] Tracking objects in frames 80 to 89 (of 196)...\n",
      "[INFO][2023/10/09 10:48:38 AM]  - Timing (Bayesian updates: 433.44ms, Linking: 7.82ms)\n",
      "[INFO][2023/10/09 10:48:38 AM]  - Probabilities (Link: 1.00000, Lost: 0.98582)\n",
      "[INFO][2023/10/09 10:48:38 AM]  - Stats (Active: 1185, Lost: 1514, Conflicts resolved: 8213)\n",
      "[INFO][2023/10/09 10:48:38 AM] Tracking objects in frames 90 to 99 (of 196)...\n",
      "[INFO][2023/10/09 10:48:53 AM]  - Timing (Bayesian updates: 781.09ms, Linking: 10.45ms)\n",
      "[INFO][2023/10/09 10:48:53 AM]  - Probabilities (Link: 1.00000, Lost: 1.00000)\n",
      "[INFO][2023/10/09 10:48:53 AM]  - Stats (Active: 1406, Lost: 1675, Conflicts resolved: 9481)\n",
      "[INFO][2023/10/09 10:48:53 AM] Tracking objects in frames 100 to 109 (of 196)...\n",
      "[INFO][2023/10/09 10:49:19 AM]  - Timing (Bayesian updates: 1195.75ms, Linking: 12.94ms)\n",
      "[INFO][2023/10/09 10:49:19 AM]  - Probabilities (Link: 1.00000, Lost: 1.00000)\n",
      "[INFO][2023/10/09 10:49:19 AM]  - Stats (Active: 1642, Lost: 1879, Conflicts resolved: 10978)\n",
      "[INFO][2023/10/09 10:49:19 AM] Tracking objects in frames 110 to 119 (of 196)...\n",
      "[INFO][2023/10/09 10:49:57 AM]  - Timing (Bayesian updates: 1717.76ms, Linking: 15.61ms)\n",
      "[INFO][2023/10/09 10:49:57 AM]  - Probabilities (Link: 1.00000, Lost: 0.98642)\n",
      "[INFO][2023/10/09 10:49:57 AM]  - Stats (Active: 1831, Lost: 2069, Conflicts resolved: 12340)\n",
      "[INFO][2023/10/09 10:49:57 AM] Tracking objects in frames 120 to 129 (of 196)...\n",
      "[INFO][2023/10/09 10:50:51 AM]  - Timing (Bayesian updates: 2500.02ms, Linking: 20.07ms)\n",
      "[INFO][2023/10/09 10:50:51 AM]  - Probabilities (Link: 1.00000, Lost: 1.00000)\n",
      "[INFO][2023/10/09 10:50:51 AM]  - Stats (Active: 2122, Lost: 2285, Conflicts resolved: 14011)\n",
      "[INFO][2023/10/09 10:50:51 AM] Tracking objects in frames 130 to 139 (of 196)...\n",
      "[INFO][2023/10/09 10:52:05 AM]  - Timing (Bayesian updates: 3395.15ms, Linking: 22.34ms)\n",
      "[INFO][2023/10/09 10:52:05 AM]  - Probabilities (Link: 1.00000, Lost: 1.00000)\n",
      "[INFO][2023/10/09 10:52:05 AM]  - Stats (Active: 2292, Lost: 2522, Conflicts resolved: 16174)\n",
      "[INFO][2023/10/09 10:52:05 AM] Tracking objects in frames 140 to 149 (of 196)...\n",
      "[INFO][2023/10/09 10:53:30 AM]  - Timing (Bayesian updates: 3614.44ms, Linking: 24.21ms)\n",
      "[INFO][2023/10/09 10:53:30 AM]  - Probabilities (Link: 1.00000, Lost: 0.99613)\n",
      "[INFO][2023/10/09 10:53:30 AM]  - Stats (Active: 2354, Lost: 2853, Conflicts resolved: 18451)\n",
      "[INFO][2023/10/09 10:53:30 AM] Tracking objects in frames 150 to 159 (of 196)...\n",
      "[INFO][2023/10/09 10:54:54 AM]  - Timing (Bayesian updates: 3038.64ms, Linking: 23.29ms)\n",
      "[INFO][2023/10/09 10:54:54 AM]  - Probabilities (Link: 1.00000, Lost: 1.00000)\n",
      "[INFO][2023/10/09 10:54:54 AM]  - Stats (Active: 2309, Lost: 3306, Conflicts resolved: 20857)\n",
      "[INFO][2023/10/09 10:54:54 AM] Tracking objects in frames 160 to 169 (of 196)...\n",
      "[INFO][2023/10/09 10:56:00 AM]  - Timing (Bayesian updates: 2527.95ms, Linking: 21.45ms)\n",
      "[INFO][2023/10/09 10:56:00 AM]  - Probabilities (Link: 1.00000, Lost: 1.00000)\n",
      "[INFO][2023/10/09 10:56:00 AM]  - Stats (Active: 2164, Lost: 3792, Conflicts resolved: 23219)\n",
      "[INFO][2023/10/09 10:56:00 AM] Tracking objects in frames 170 to 179 (of 196)...\n",
      "[INFO][2023/10/09 10:56:22 AM]  - Timing (Bayesian updates: 2094.88ms, Linking: 18.60ms)\n",
      "[INFO][2023/10/09 10:56:22 AM]  - Probabilities (Link: 1.00000, Lost: 1.00000)\n",
      "[INFO][2023/10/09 10:56:22 AM] SUCCESS.\n",
      "[INFO][2023/10/09 10:56:22 AM]  - Found 10075 tracks in 196 frames (in 0.0s)\n",
      "[INFO][2023/10/09 10:56:22 AM]  - Inserted 8558 dummy objects to fill tracking gaps\n",
      "[INFO][2023/10/09 10:56:22 AM] Loading hypothesis model: particle_hypothesis\n",
      "[INFO][2023/10/09 10:56:22 AM] Calculating hypotheses (relax: True)...\n",
      "[INFO][2023/10/09 10:56:22 AM] Setting up constraints matrix for global optimisation...\n",
      "[INFO][2023/10/09 10:56:22 AM] Using GLPK options: {'tm_lim': 60000}...\n",
      "[INFO][2023/10/09 10:56:23 AM] Optimizing...\n",
      "[INFO][2023/10/09 10:56:24 AM] Optimization complete. (Solution: optimal)\n",
      "[INFO][2023/10/09 10:56:24 AM]  - Fates.FALSE_POSITIVE: 3061 (of 10075)\n",
      "[INFO][2023/10/09 10:56:24 AM]  - Fates.LINK: 29 (of 33)\n",
      "[INFO][2023/10/09 10:56:24 AM]  - Fates.INITIALIZE_BORDER: 116 (of 138)\n",
      "[INFO][2023/10/09 10:56:24 AM]  - Fates.INITIALIZE_LAZY: 6869 (of 9937)\n",
      "[INFO][2023/10/09 10:56:24 AM]  - Fates.TERMINATE_BORDER: 98 (of 120)\n",
      "[INFO][2023/10/09 10:56:24 AM]  - Fates.TERMINATE_BACK: 1822 (of 1983)\n",
      "[INFO][2023/10/09 10:56:24 AM]  - Fates.TERMINATE_LAZY: 5065 (of 7972)\n",
      "[INFO][2023/10/09 10:56:24 AM]  - TOTAL: 30258 hypotheses\n",
      "[INFO][2023/10/09 10:56:24 AM] Completed optimization with 10046 tracks\n"
     ]
    },
    {
     "name": "stdout",
     "output_type": "stream",
     "text": [
      "GLPK Integer Optimizer 5.0\n",
      "40300 rows, 30258 columns, 40366 non-zeros\n",
      "30258 integer variables, all of which are binary\n",
      "Preprocessing...\n",
      "20150 rows, 30258 columns, 40366 non-zeros\n",
      "30258 integer variables, all of which are binary\n",
      "Scaling...\n",
      " A: min|aij| =  1.000e+00  max|aij| =  1.000e+00  ratio =  1.000e+00\n",
      "Problem data seem to be well scaled\n",
      "Constructing initial basis...\n",
      "Size of triangular part is 20150\n",
      "Solving LP relaxation...\n",
      "GLPK Simplex Optimizer 5.0\n",
      "20150 rows, 30258 columns, 40366 non-zeros\n",
      "*     0: obj =   1.208848356e+05 inf =   0.000e+00 (3118)\n",
      "*  3122: obj =   9.777718954e+04 inf =   0.000e+00 (0)\n",
      "OPTIMAL LP SOLUTION FOUND\n",
      "Integer optimization begins...\n",
      "Long-step dual simplex will be used\n",
      "+  3122: mip =     not found yet >=              -inf        (1; 0)\n",
      "+  3122: >>>>>   9.777718954e+04 >=   9.777718954e+04   0.0% (1; 0)\n",
      "+  3122: mip =   9.777718954e+04 >=     tree is empty   0.0% (0; 1)\n",
      "INTEGER OPTIMAL SOLUTION FOUND\n"
     ]
    },
    {
     "name": "stderr",
     "output_type": "stream",
     "text": [
      "[INFO][2023/10/09 10:56:25 AM] Ending BayesianTracker session\n",
      "[INFO][2023/10/09 10:56:25 AM] Opening HDF file: /home/dayn/data/homuncu_loc_temp/seperate_tracks/iAT1_iAT2_iVEC_macrophage_experiments/DAPI_ZO1_LDO_MTB/sc_analyses/20230801_20X_23-03-001B6_DAPI_ZO-1_LDO_Mtb_Multichannel Z-Stack_20230801_1453_mphi.h5...\n",
      "[INFO][2023/10/09 10:56:27 AM] Writing objects/obj_type_1\n",
      "[INFO][2023/10/09 10:56:27 AM] Writing labels/obj_type_1\n",
      "[INFO][2023/10/09 10:56:27 AM] Loading objects/obj_type_1 (191248, 5) (191248 filtered: None)\n",
      "[INFO][2023/10/09 10:56:29 AM] Writing properties/obj_type_1/axis_major_length (191248,)\n",
      "[INFO][2023/10/09 10:56:29 AM] Writing properties/obj_type_1/axis_minor_length (191248,)\n",
      "[INFO][2023/10/09 10:56:29 AM] Writing properties/obj_type_1/eccentricity (191248,)\n",
      "[INFO][2023/10/09 10:56:29 AM] Writing properties/obj_type_1/area (191248,)\n",
      "[INFO][2023/10/09 10:56:29 AM] Writing properties/obj_type_1/orientation (191248,)\n",
      "[INFO][2023/10/09 10:56:29 AM] Writing properties/obj_type_1/mean_intensity (191248, 4)\n",
      "[INFO][2023/10/09 10:56:30 AM] Writing properties/obj_type_1/class_id (191248,)\n",
      "[INFO][2023/10/09 10:56:30 AM] Writing properties/obj_type_1/mtb_status (191248,)\n",
      "[INFO][2023/10/09 10:56:30 AM] Writing properties/obj_type_1/mtb_area (191248,)\n",
      "[INFO][2023/10/09 10:56:30 AM] Writing tracks/obj_type_1\n",
      "[INFO][2023/10/09 10:56:30 AM] Writing dummies/obj_type_1\n",
      "[INFO][2023/10/09 10:56:30 AM] Writing LBEP/obj_type_1\n",
      "[INFO][2023/10/09 10:56:30 AM] Writing fates/obj_type_1\n",
      "[INFO][2023/10/09 10:56:43 AM] Closing HDF file: /home/dayn/data/homuncu_loc_temp/seperate_tracks/iAT1_iAT2_iVEC_macrophage_experiments/DAPI_ZO1_LDO_MTB/sc_analyses/20230801_20X_23-03-001B6_DAPI_ZO-1_LDO_Mtb_Multichannel Z-Stack_20230801_1453_mphi.h5\n"
     ]
    },
    {
     "name": "stdout",
     "output_type": "stream",
     "text": [
      "/run/user/30046150/gvfs/smb-share:server=data2.thecrick.org,share=lab-gutierrezm/home/shared/Lung on Chip/homuncu_loc_image_analysis/iAT1_iAT2_iVEC_macrophage_experiments/DAPI_ZO1_LDO_MTB/images/20230801_20X_23-03-001B3_DAPI_ZO-1_LDO_Mtb_Multichannel Z-Stack_20230801_1468.tif\n"
     ]
    },
    {
     "data": {
      "application/vnd.jupyter.widget-view+json": {
       "model_id": "eef524ab0c3d492499b453f99fed4ecf",
       "version_major": 2,
       "version_minor": 0
      },
      "text/plain": [
       "finding where segmentation channel is expressed in Z:   0%|          | 0/127 [00:00<?, ?it/s]"
      ]
     },
     "metadata": {},
     "output_type": "display_data"
    },
    {
     "name": "stdout",
     "output_type": "stream",
     "text": [
      "Found model '2D_versatile_fluo' for 'StarDist2D'.\n",
      "Loading network weights from 'weights_best.h5'.\n",
      "Loading thresholds from 'thresholds.json'.\n",
      "Using default values: prob_thresh=0.479071, nms_thresh=0.3.\n"
     ]
    },
    {
     "data": {
      "application/vnd.jupyter.widget-view+json": {
       "model_id": "28b73c48cf8949628478b7107f374eb2",
       "version_major": 2,
       "version_minor": 0
      },
      "text/plain": [
       "segmenting over select frames:   0%|          | 0/46 [00:00<?, ?it/s]"
      ]
     },
     "metadata": {},
     "output_type": "display_data"
    },
    {
     "name": "stderr",
     "output_type": "stream",
     "text": [
      "[INFO][2023/10/09 10:59:44 AM] Localizing objects from segmentation...\n",
      "progress: 100%|█████████████████████████████████████████████████████████████████████████████████████████████████████████████████████████████████████████| 127/127 [00:38<00:00,  3.34it/s]\n",
      "[INFO][2023/10/09 11:00:22 AM] Objects are of type: <class 'dict'>\n",
      "[INFO][2023/10/09 11:00:23 AM] ...Found 60508 objects in 58 frames.\n"
     ]
    },
    {
     "data": {
      "application/vnd.jupyter.widget-view+json": {
       "model_id": "4463118d98cb476f886a39f22b316afd",
       "version_major": 2,
       "version_minor": 0
      },
      "text/plain": [
       "Measuring Mtb properties of each cell:   0%|          | 0/60508 [00:00<?, ?it/s]"
      ]
     },
     "metadata": {},
     "output_type": "display_data"
    },
    {
     "name": "stderr",
     "output_type": "stream",
     "text": [
      "[INFO][2023/10/09 11:13:28 AM] Loaded btrack: /home/dayn/analysis/btrack/btrack/libs/libtracker.so\n",
      "[INFO][2023/10/09 11:13:28 AM] Starting BayesianTracker session\n",
      "[INFO][2023/10/09 11:13:28 AM] Loading configuration file: /home/dayn/analysis/models/loc.json\n",
      "[INFO][2023/10/09 11:13:28 AM] Objects are of type: <class 'list'>\n",
      "[INFO][2023/10/09 11:13:29 AM] Starting tracking... \n",
      "[INFO][2023/10/09 11:13:29 AM] Update using: ['VISUAL', 'MOTION']\n",
      "[INFO][2023/10/09 11:13:30 AM] Tracking objects in frames 0 to 9 (of 58)...\n",
      "[INFO][2023/10/09 11:13:46 AM]  - Timing (Bayesian updates: 924.58ms, Linking: 12.97ms)\n",
      "[INFO][2023/10/09 11:13:46 AM]  - Probabilities (Link: 1.00000, Lost: 1.00000)\n",
      "[INFO][2023/10/09 11:13:46 AM]  - Stats (Active: 1488, Lost: 67, Conflicts resolved: 870)\n",
      "[INFO][2023/10/09 11:13:46 AM] Tracking objects in frames 10 to 19 (of 58)...\n",
      "[INFO][2023/10/09 11:14:14 AM]  - Timing (Bayesian updates: 1204.77ms, Linking: 15.08ms)\n",
      "[INFO][2023/10/09 11:14:14 AM]  - Probabilities (Link: 1.00000, Lost: 1.00000)\n",
      "[INFO][2023/10/09 11:14:14 AM]  - Stats (Active: 1762, Lost: 576, Conflicts resolved: 2600)\n",
      "[INFO][2023/10/09 11:14:14 AM] Tracking objects in frames 20 to 29 (of 58)...\n",
      "[INFO][2023/10/09 11:14:43 AM]  - Timing (Bayesian updates: 1024.19ms, Linking: 13.33ms)\n",
      "[INFO][2023/10/09 11:14:43 AM]  - Probabilities (Link: 1.00000, Lost: 0.99912)\n",
      "[INFO][2023/10/09 11:14:43 AM]  - Stats (Active: 1653, Lost: 1436, Conflicts resolved: 4786)\n",
      "[INFO][2023/10/09 11:14:43 AM] Tracking objects in frames 30 to 39 (of 58)...\n",
      "[INFO][2023/10/09 11:15:06 AM]  - Timing (Bayesian updates: 864.77ms, Linking: 11.64ms)\n",
      "[INFO][2023/10/09 11:15:06 AM]  - Probabilities (Link: 1.00000, Lost: 0.99999)\n",
      "[INFO][2023/10/09 11:15:06 AM]  - Stats (Active: 1574, Lost: 2035, Conflicts resolved: 6988)\n",
      "[INFO][2023/10/09 11:15:06 AM] Tracking objects in frames 40 to 49 (of 58)...\n",
      "[INFO][2023/10/09 11:15:15 AM]  - Timing (Bayesian updates: 804.21ms, Linking: 11.45ms)\n",
      "[INFO][2023/10/09 11:15:15 AM]  - Probabilities (Link: 1.00000, Lost: 0.99998)\n",
      "[INFO][2023/10/09 11:15:15 AM] SUCCESS.\n",
      "[INFO][2023/10/09 11:15:15 AM]  - Found 4580 tracks in 58 frames (in 0.0s)\n",
      "[INFO][2023/10/09 11:15:15 AM]  - Inserted 1682 dummy objects to fill tracking gaps\n",
      "[INFO][2023/10/09 11:15:15 AM] Loading hypothesis model: particle_hypothesis\n",
      "[INFO][2023/10/09 11:15:15 AM] Calculating hypotheses (relax: True)...\n",
      "[INFO][2023/10/09 11:15:15 AM] Setting up constraints matrix for global optimisation...\n",
      "[INFO][2023/10/09 11:15:15 AM] Using GLPK options: {'tm_lim': 60000}...\n",
      "[INFO][2023/10/09 11:15:15 AM] Optimizing...\n",
      "[INFO][2023/10/09 11:15:16 AM] Optimization complete. (Solution: optimal)\n",
      "[INFO][2023/10/09 11:15:16 AM]  - Fates.FALSE_POSITIVE: 1651 (of 4580)\n",
      "[INFO][2023/10/09 11:15:16 AM]  - Fates.LINK: 9 (of 18)\n",
      "[INFO][2023/10/09 11:15:16 AM]  - Fates.INITIALIZE_BORDER: 100 (of 121)\n",
      "[INFO][2023/10/09 11:15:16 AM]  - Fates.INITIALIZE_LAZY: 2820 (of 4459)\n",
      "[INFO][2023/10/09 11:15:16 AM]  - Fates.TERMINATE_BORDER: 69 (of 90)\n",
      "[INFO][2023/10/09 11:15:16 AM]  - Fates.TERMINATE_BACK: 1162 (of 1421)\n",
      "[INFO][2023/10/09 11:15:16 AM]  - Fates.TERMINATE_LAZY: 1689 (of 3069)\n",
      "[INFO][2023/10/09 11:15:16 AM]  - TOTAL: 13758 hypotheses\n",
      "[INFO][2023/10/09 11:15:16 AM] Completed optimization with 4571 tracks\n"
     ]
    },
    {
     "name": "stdout",
     "output_type": "stream",
     "text": [
      "GLPK Integer Optimizer 5.0\n",
      "18320 rows, 13758 columns, 18356 non-zeros\n",
      "13758 integer variables, all of which are binary\n",
      "Preprocessing...\n",
      "9160 rows, 13758 columns, 18356 non-zeros\n",
      "13758 integer variables, all of which are binary\n",
      "Scaling...\n",
      " A: min|aij| =  1.000e+00  max|aij| =  1.000e+00  ratio =  1.000e+00\n",
      "Problem data seem to be well scaled\n",
      "Constructing initial basis...\n",
      "Size of triangular part is 9160\n",
      "Solving LP relaxation...\n",
      "GLPK Simplex Optimizer 5.0\n",
      "9160 rows, 13758 columns, 18356 non-zeros\n",
      "*     0: obj =   5.134932318e+04 inf =   0.000e+00 (1680)\n",
      "*  1688: obj =   3.941090166e+04 inf =   0.000e+00 (0)\n",
      "OPTIMAL LP SOLUTION FOUND\n",
      "Integer optimization begins...\n",
      "Long-step dual simplex will be used\n",
      "+  1688: mip =     not found yet >=              -inf        (1; 0)\n",
      "+  1688: >>>>>   3.941090166e+04 >=   3.941090166e+04   0.0% (1; 0)\n",
      "+  1688: mip =   3.941090166e+04 >=     tree is empty   0.0% (0; 1)\n",
      "INTEGER OPTIMAL SOLUTION FOUND\n"
     ]
    },
    {
     "name": "stderr",
     "output_type": "stream",
     "text": [
      "[INFO][2023/10/09 11:15:16 AM] Ending BayesianTracker session\n",
      "[INFO][2023/10/09 11:15:17 AM] Opening HDF file: /home/dayn/data/homuncu_loc_temp/seperate_tracks/iAT1_iAT2_iVEC_macrophage_experiments/DAPI_ZO1_LDO_MTB/sc_analyses/20230801_20X_23-03-001B3_DAPI_ZO-1_LDO_Mtb_Multichannel Z-Stack_20230801_1468_mphi.h5...\n",
      "[INFO][2023/10/09 11:15:17 AM] Writing objects/obj_type_1\n",
      "[INFO][2023/10/09 11:15:17 AM] Writing labels/obj_type_1\n",
      "[INFO][2023/10/09 11:15:17 AM] Loading objects/obj_type_1 (50866, 5) (50866 filtered: None)\n",
      "[INFO][2023/10/09 11:15:18 AM] Writing properties/obj_type_1/axis_major_length (50866,)\n",
      "[INFO][2023/10/09 11:15:18 AM] Writing properties/obj_type_1/axis_minor_length (50866,)\n",
      "[INFO][2023/10/09 11:15:18 AM] Writing properties/obj_type_1/eccentricity (50866,)\n",
      "[INFO][2023/10/09 11:15:18 AM] Writing properties/obj_type_1/area (50866,)\n",
      "[INFO][2023/10/09 11:15:18 AM] Writing properties/obj_type_1/orientation (50866,)\n",
      "[INFO][2023/10/09 11:15:18 AM] Writing properties/obj_type_1/mean_intensity (50866, 4)\n",
      "[INFO][2023/10/09 11:15:19 AM] Writing properties/obj_type_1/class_id (50866,)\n",
      "[INFO][2023/10/09 11:15:19 AM] Writing properties/obj_type_1/mtb_status (50866,)\n",
      "[INFO][2023/10/09 11:15:19 AM] Writing properties/obj_type_1/mtb_area (50866,)\n",
      "[INFO][2023/10/09 11:15:19 AM] Writing tracks/obj_type_1\n",
      "[INFO][2023/10/09 11:15:19 AM] Writing dummies/obj_type_1\n",
      "[INFO][2023/10/09 11:15:19 AM] Writing LBEP/obj_type_1\n",
      "[INFO][2023/10/09 11:15:19 AM] Writing fates/obj_type_1\n",
      "[INFO][2023/10/09 11:15:25 AM] Closing HDF file: /home/dayn/data/homuncu_loc_temp/seperate_tracks/iAT1_iAT2_iVEC_macrophage_experiments/DAPI_ZO1_LDO_MTB/sc_analyses/20230801_20X_23-03-001B3_DAPI_ZO-1_LDO_Mtb_Multichannel Z-Stack_20230801_1468_mphi.h5\n"
     ]
    },
    {
     "name": "stdout",
     "output_type": "stream",
     "text": [
      "/run/user/30046150/gvfs/smb-share:server=data2.thecrick.org,share=lab-gutierrezm/home/shared/Lung on Chip/homuncu_loc_image_analysis/iAT1_iAT2_iVEC_macrophage_experiments/DAPI_ZO1_Ki67_MTB/images/20230801_20X_23-03-001B2_DAPI_ZO-1_Ki67_Mtb_Multichannel Z-Stack_20230801_1481.tif\n"
     ]
    },
    {
     "data": {
      "application/vnd.jupyter.widget-view+json": {
       "model_id": "11a15a0d4bdf4402902c55ad099c0559",
       "version_major": 2,
       "version_minor": 0
      },
      "text/plain": [
       "finding where segmentation channel is expressed in Z:   0%|          | 0/61 [00:00<?, ?it/s]"
      ]
     },
     "metadata": {},
     "output_type": "display_data"
    },
    {
     "name": "stdout",
     "output_type": "stream",
     "text": [
      "Found model '2D_versatile_fluo' for 'StarDist2D'.\n",
      "Loading network weights from 'weights_best.h5'.\n",
      "Loading thresholds from 'thresholds.json'.\n",
      "Using default values: prob_thresh=0.479071, nms_thresh=0.3.\n"
     ]
    },
    {
     "data": {
      "application/vnd.jupyter.widget-view+json": {
       "model_id": "9ff2b62182004db59b80b679b8d0b525",
       "version_major": 2,
       "version_minor": 0
      },
      "text/plain": [
       "segmenting over select frames:   0%|          | 0/21 [00:00<?, ?it/s]"
      ]
     },
     "metadata": {},
     "output_type": "display_data"
    },
    {
     "name": "stderr",
     "output_type": "stream",
     "text": [
      "[INFO][2023/10/09 11:16:47 AM] Localizing objects from segmentation...\n",
      "progress: 100%|███████████████████████████████████████████████████████████████████████████████████████████████████████████████████████████████████████████| 61/61 [00:13<00:00,  4.61it/s]\n",
      "[INFO][2023/10/09 11:17:00 AM] Objects are of type: <class 'dict'>\n",
      "[INFO][2023/10/09 11:17:00 AM] ...Found 19000 objects in 21 frames.\n"
     ]
    },
    {
     "data": {
      "application/vnd.jupyter.widget-view+json": {
       "model_id": "a274fb04b3df4f92b993d6a8c101e3d6",
       "version_major": 2,
       "version_minor": 0
      },
      "text/plain": [
       "Measuring Mtb properties of each cell:   0%|          | 0/19000 [00:00<?, ?it/s]"
      ]
     },
     "metadata": {},
     "output_type": "display_data"
    },
    {
     "name": "stderr",
     "output_type": "stream",
     "text": [
      "[INFO][2023/10/09 11:21:08 AM] Loaded btrack: /home/dayn/analysis/btrack/btrack/libs/libtracker.so\n",
      "[INFO][2023/10/09 11:21:08 AM] Starting BayesianTracker session\n",
      "[INFO][2023/10/09 11:21:08 AM] Loading configuration file: /home/dayn/analysis/models/loc.json\n",
      "[INFO][2023/10/09 11:21:08 AM] Objects are of type: <class 'list'>\n",
      "[INFO][2023/10/09 11:21:09 AM] Starting tracking... \n",
      "[INFO][2023/10/09 11:21:09 AM] Update using: ['VISUAL', 'MOTION']\n",
      "[INFO][2023/10/09 11:21:10 AM] Tracking objects in frames 0 to 9 (of 21)...\n",
      "[INFO][2023/10/09 11:21:20 AM]  - Timing (Bayesian updates: 331.71ms, Linking: 8.98ms)\n",
      "[INFO][2023/10/09 11:21:20 AM]  - Probabilities (Link: 1.00000, Lost: 0.97805)\n",
      "[INFO][2023/10/09 11:21:20 AM]  - Stats (Active: 1160, Lost: 610, Conflicts resolved: 1134)\n",
      "[INFO][2023/10/09 11:21:20 AM] Tracking objects in frames 10 to 19 (of 21)...\n",
      "[INFO][2023/10/09 11:21:26 AM]  - Timing (Bayesian updates: 153.01ms, Linking: 6.27ms)\n",
      "[INFO][2023/10/09 11:21:26 AM]  - Probabilities (Link: 1.00000, Lost: 0.99961)\n",
      "[INFO][2023/10/09 11:21:26 AM] SUCCESS.\n",
      "[INFO][2023/10/09 11:21:26 AM]  - Found 1799 tracks in 21 frames (in 0.0s)\n",
      "[INFO][2023/10/09 11:21:26 AM]  - Inserted 417 dummy objects to fill tracking gaps\n",
      "[INFO][2023/10/09 11:21:26 AM] Loading hypothesis model: particle_hypothesis\n",
      "[INFO][2023/10/09 11:21:26 AM] Calculating hypotheses (relax: True)...\n",
      "[INFO][2023/10/09 11:21:26 AM] Setting up constraints matrix for global optimisation...\n",
      "[INFO][2023/10/09 11:21:26 AM] Using GLPK options: {'tm_lim': 60000}...\n",
      "[INFO][2023/10/09 11:21:26 AM] Optimizing...\n",
      "[INFO][2023/10/09 11:21:26 AM] Optimization complete. (Solution: optimal)\n",
      "[INFO][2023/10/09 11:21:26 AM]  - Fates.FALSE_POSITIVE: 448 (of 1799)\n",
      "[INFO][2023/10/09 11:21:26 AM]  - Fates.LINK: 3 (of 6)\n",
      "[INFO][2023/10/09 11:21:26 AM]  - Fates.INITIALIZE_BORDER: 15 (of 21)\n",
      "[INFO][2023/10/09 11:21:26 AM]  - Fates.INITIALIZE_FRONT: 992 (of 1178)\n",
      "[INFO][2023/10/09 11:21:26 AM]  - Fates.INITIALIZE_LAZY: 341 (of 600)\n",
      "[INFO][2023/10/09 11:21:26 AM]  - Fates.TERMINATE_BORDER: 43 (of 56)\n",
      "[INFO][2023/10/09 11:21:26 AM]  - Fates.TERMINATE_BACK: 697 (of 783)\n",
      "[INFO][2023/10/09 11:21:26 AM]  - Fates.TERMINATE_LAZY: 608 (of 960)\n",
      "[INFO][2023/10/09 11:21:26 AM]  - TOTAL: 5403 hypotheses\n",
      "[INFO][2023/10/09 11:21:26 AM] Completed optimization with 1796 tracks\n"
     ]
    },
    {
     "name": "stdout",
     "output_type": "stream",
     "text": [
      "GLPK Integer Optimizer 5.0\n",
      "7196 rows, 5403 columns, 7208 non-zeros\n",
      "5403 integer variables, all of which are binary\n",
      "Preprocessing...\n",
      "3598 rows, 5403 columns, 7208 non-zeros\n",
      "5403 integer variables, all of which are binary\n",
      "Scaling...\n",
      " A: min|aij| =  1.000e+00  max|aij| =  1.000e+00  ratio =  1.000e+00\n",
      "Problem data seem to be well scaled\n",
      "Constructing initial basis...\n",
      "Size of triangular part is 3598\n",
      "Solving LP relaxation...\n",
      "GLPK Simplex Optimizer 5.0\n",
      "3598 rows, 5403 columns, 7208 non-zeros\n",
      "*     0: obj =   1.117667759e+04 inf =   0.000e+00 (456)\n",
      "*   459: obj =   8.717813180e+03 inf =   0.000e+00 (0)\n",
      "OPTIMAL LP SOLUTION FOUND\n",
      "Integer optimization begins...\n",
      "Long-step dual simplex will be used\n",
      "+   459: mip =     not found yet >=              -inf        (1; 0)\n",
      "+   459: >>>>>   8.717813180e+03 >=   8.717813180e+03   0.0% (1; 0)\n",
      "+   459: mip =   8.717813180e+03 >=     tree is empty   0.0% (0; 1)\n",
      "INTEGER OPTIMAL SOLUTION FOUND\n"
     ]
    },
    {
     "name": "stderr",
     "output_type": "stream",
     "text": [
      "[INFO][2023/10/09 11:21:26 AM] Ending BayesianTracker session\n",
      "[INFO][2023/10/09 11:21:26 AM] Opening HDF file: /home/dayn/data/homuncu_loc_temp/seperate_tracks/iAT1_iAT2_iVEC_macrophage_experiments/DAPI_ZO1_Ki67_MTB/sc_analyses/20230801_20X_23-03-001B2_DAPI_ZO-1_Ki67_Mtb_Multichannel Z-Stack_20230801_1481_mphi.h5...\n",
      "[INFO][2023/10/09 11:21:26 AM] Writing objects/obj_type_1\n",
      "[INFO][2023/10/09 11:21:26 AM] Writing labels/obj_type_1\n",
      "[INFO][2023/10/09 11:21:26 AM] Loading objects/obj_type_1 (16398, 5) (16398 filtered: None)\n",
      "[INFO][2023/10/09 11:21:26 AM] Writing properties/obj_type_1/axis_major_length (16398,)\n",
      "[INFO][2023/10/09 11:21:26 AM] Writing properties/obj_type_1/axis_minor_length (16398,)\n",
      "[INFO][2023/10/09 11:21:27 AM] Writing properties/obj_type_1/eccentricity (16398,)\n",
      "[INFO][2023/10/09 11:21:27 AM] Writing properties/obj_type_1/area (16398,)\n",
      "[INFO][2023/10/09 11:21:27 AM] Writing properties/obj_type_1/orientation (16398,)\n",
      "[INFO][2023/10/09 11:21:27 AM] Writing properties/obj_type_1/mean_intensity (16398, 4)\n",
      "[INFO][2023/10/09 11:21:27 AM] Writing properties/obj_type_1/class_id (16398,)\n",
      "[INFO][2023/10/09 11:21:27 AM] Writing properties/obj_type_1/mtb_status (16398,)\n",
      "[INFO][2023/10/09 11:21:27 AM] Writing properties/obj_type_1/mtb_area (16398,)\n",
      "[INFO][2023/10/09 11:21:27 AM] Writing tracks/obj_type_1\n",
      "[INFO][2023/10/09 11:21:27 AM] Writing dummies/obj_type_1\n",
      "[INFO][2023/10/09 11:21:27 AM] Writing LBEP/obj_type_1\n",
      "[INFO][2023/10/09 11:21:27 AM] Writing fates/obj_type_1\n",
      "[INFO][2023/10/09 11:21:30 AM] Closing HDF file: /home/dayn/data/homuncu_loc_temp/seperate_tracks/iAT1_iAT2_iVEC_macrophage_experiments/DAPI_ZO1_Ki67_MTB/sc_analyses/20230801_20X_23-03-001B2_DAPI_ZO-1_Ki67_Mtb_Multichannel Z-Stack_20230801_1481_mphi.h5\n"
     ]
    },
    {
     "name": "stdout",
     "output_type": "stream",
     "text": [
      "/run/user/30046150/gvfs/smb-share:server=data2.thecrick.org,share=lab-gutierrezm/home/shared/Lung on Chip/homuncu_loc_image_analysis/iAT1_iAT2_iVEC_macrophage_experiments/DAPI_ZO1_Ki67_MTB/images/20230801_20X_23-03-001B2_DAPI_ZO-1_Ki67_Mtb_Multichannel Z-Stack_20230801_1482.tif\n"
     ]
    },
    {
     "data": {
      "application/vnd.jupyter.widget-view+json": {
       "model_id": "75646534e2b74224b1beb17f633bb70c",
       "version_major": 2,
       "version_minor": 0
      },
      "text/plain": [
       "finding where segmentation channel is expressed in Z:   0%|          | 0/61 [00:00<?, ?it/s]"
      ]
     },
     "metadata": {},
     "output_type": "display_data"
    },
    {
     "name": "stdout",
     "output_type": "stream",
     "text": [
      "Found model '2D_versatile_fluo' for 'StarDist2D'.\n",
      "Loading network weights from 'weights_best.h5'.\n",
      "Loading thresholds from 'thresholds.json'.\n",
      "Using default values: prob_thresh=0.479071, nms_thresh=0.3.\n"
     ]
    },
    {
     "data": {
      "application/vnd.jupyter.widget-view+json": {
       "model_id": "9cf019deb62243e1a272e6cfa63358f4",
       "version_major": 2,
       "version_minor": 0
      },
      "text/plain": [
       "segmenting over select frames:   0%|          | 0/32 [00:00<?, ?it/s]"
      ]
     },
     "metadata": {},
     "output_type": "display_data"
    },
    {
     "name": "stderr",
     "output_type": "stream",
     "text": [
      "[INFO][2023/10/09 11:23:05 AM] Localizing objects from segmentation...\n",
      "progress: 100%|███████████████████████████████████████████████████████████████████████████████████████████████████████████████████████████████████████████| 61/61 [00:15<00:00,  4.03it/s]\n",
      "[INFO][2023/10/09 11:23:20 AM] Objects are of type: <class 'dict'>\n",
      "[INFO][2023/10/09 11:23:20 AM] ...Found 18310 objects in 60 frames.\n"
     ]
    },
    {
     "data": {
      "application/vnd.jupyter.widget-view+json": {
       "model_id": "7b7f618e70ca4d6880a50cdea12bd23a",
       "version_major": 2,
       "version_minor": 0
      },
      "text/plain": [
       "Measuring Mtb properties of each cell:   0%|          | 0/18310 [00:00<?, ?it/s]"
      ]
     },
     "metadata": {},
     "output_type": "display_data"
    },
    {
     "name": "stderr",
     "output_type": "stream",
     "text": [
      "[INFO][2023/10/09 11:27:22 AM] Loaded btrack: /home/dayn/analysis/btrack/btrack/libs/libtracker.so\n",
      "[INFO][2023/10/09 11:27:22 AM] Starting BayesianTracker session\n",
      "[INFO][2023/10/09 11:27:22 AM] Loading configuration file: /home/dayn/analysis/models/loc.json\n",
      "[INFO][2023/10/09 11:27:22 AM] Objects are of type: <class 'list'>\n",
      "[INFO][2023/10/09 11:27:22 AM] Starting tracking... \n",
      "[INFO][2023/10/09 11:27:22 AM] Update using: ['VISUAL', 'MOTION']\n",
      "[INFO][2023/10/09 11:27:22 AM] Tracking objects in frames 0 to 9 (of 60)...\n",
      "[INFO][2023/10/09 11:27:25 AM]  - Timing (Bayesian updates: 104.00ms, Linking: 4.05ms)\n",
      "[INFO][2023/10/09 11:27:25 AM]  - Probabilities (Link: 1.00000, Lost: 1.00000)\n",
      "[INFO][2023/10/09 11:27:25 AM]  - Stats (Active: 605, Lost: 106, Conflicts resolved: 517)\n",
      "[INFO][2023/10/09 11:27:25 AM] Tracking objects in frames 10 to 19 (of 60)...\n",
      "[INFO][2023/10/09 11:27:29 AM]  - Timing (Bayesian updates: 98.54ms, Linking: 3.73ms)\n",
      "[INFO][2023/10/09 11:27:29 AM]  - Probabilities (Link: 1.00000, Lost: 1.00000)\n",
      "[INFO][2023/10/09 11:27:29 AM]  - Stats (Active: 700, Lost: 324, Conflicts resolved: 1195)\n",
      "[INFO][2023/10/09 11:27:29 AM] Tracking objects in frames 20 to 29 (of 60)...\n",
      "[INFO][2023/10/09 11:27:31 AM]  - Timing (Bayesian updates: 72.66ms, Linking: 3.34ms)\n",
      "[INFO][2023/10/09 11:27:31 AM]  - Probabilities (Link: 1.00000, Lost: 1.00000)\n",
      "[INFO][2023/10/09 11:27:31 AM] SUCCESS.\n",
      "[INFO][2023/10/09 11:27:31 AM]  - Found 1349 tracks in 60 frames (in 0.0s)\n",
      "[INFO][2023/10/09 11:27:32 AM]  - Inserted 363 dummy objects to fill tracking gaps\n",
      "[INFO][2023/10/09 11:27:32 AM] Loading hypothesis model: particle_hypothesis\n",
      "[INFO][2023/10/09 11:27:32 AM] Calculating hypotheses (relax: True)...\n",
      "[INFO][2023/10/09 11:27:32 AM] Setting up constraints matrix for global optimisation...\n",
      "[INFO][2023/10/09 11:27:32 AM] Using GLPK options: {'tm_lim': 60000}...\n",
      "[INFO][2023/10/09 11:27:32 AM] Optimizing...\n",
      "[INFO][2023/10/09 11:27:32 AM] Optimization complete. (Solution: optimal)\n",
      "[INFO][2023/10/09 11:27:32 AM]  - Fates.FALSE_POSITIVE: 409 (of 1349)\n",
      "[INFO][2023/10/09 11:27:32 AM]  - Fates.INITIALIZE_BORDER: 54 (of 69)\n",
      "[INFO][2023/10/09 11:27:32 AM]  - Fates.INITIALIZE_LAZY: 886 (of 1280)\n",
      "[INFO][2023/10/09 11:27:32 AM]  - Fates.TERMINATE_BORDER: 26 (of 40)\n",
      "[INFO][2023/10/09 11:27:32 AM]  - Fates.TERMINATE_BACK: 556 (of 601)\n",
      "[INFO][2023/10/09 11:27:32 AM]  - Fates.TERMINATE_LAZY: 358 (of 708)\n",
      "[INFO][2023/10/09 11:27:32 AM]  - TOTAL: 4047 hypotheses\n",
      "[INFO][2023/10/09 11:27:32 AM] Completed optimization with 1349 tracks\n",
      "[INFO][2023/10/09 11:27:32 AM] Ending BayesianTracker session\n"
     ]
    },
    {
     "name": "stdout",
     "output_type": "stream",
     "text": [
      "GLPK Integer Optimizer 5.0\n",
      "5396 rows, 4047 columns, 5396 non-zeros\n",
      "4047 integer variables, all of which are binary\n",
      "Preprocessing...\n",
      "2698 rows, 4047 columns, 5396 non-zeros\n",
      "4047 integer variables, all of which are binary\n",
      "Scaling...\n",
      " A: min|aij| =  1.000e+00  max|aij| =  1.000e+00  ratio =  1.000e+00\n",
      "Problem data seem to be well scaled\n",
      "Constructing initial basis...\n",
      "Size of triangular part is 2698\n",
      "Solving LP relaxation...\n",
      "GLPK Simplex Optimizer 5.0\n",
      "2698 rows, 4047 columns, 5396 non-zeros\n",
      "*     0: obj =   1.383090480e+04 inf =   0.000e+00 (409)\n",
      "*   409: obj =   1.078877579e+04 inf =   0.000e+00 (0)\n",
      "OPTIMAL LP SOLUTION FOUND\n",
      "Integer optimization begins...\n",
      "Long-step dual simplex will be used\n",
      "+   409: mip =     not found yet >=              -inf        (1; 0)\n",
      "+   409: >>>>>   1.078877579e+04 >=   1.078877579e+04   0.0% (1; 0)\n",
      "+   409: mip =   1.078877579e+04 >=     tree is empty   0.0% (0; 1)\n",
      "INTEGER OPTIMAL SOLUTION FOUND\n"
     ]
    },
    {
     "name": "stderr",
     "output_type": "stream",
     "text": [
      "[INFO][2023/10/09 11:27:32 AM] Opening HDF file: /home/dayn/data/homuncu_loc_temp/seperate_tracks/iAT1_iAT2_iVEC_macrophage_experiments/DAPI_ZO1_Ki67_MTB/sc_analyses/20230801_20X_23-03-001B2_DAPI_ZO-1_Ki67_Mtb_Multichannel Z-Stack_20230801_1482_mphi.h5...\n",
      "[INFO][2023/10/09 11:27:32 AM] Writing objects/obj_type_1\n",
      "[INFO][2023/10/09 11:27:32 AM] Writing labels/obj_type_1\n",
      "[INFO][2023/10/09 11:27:32 AM] Loading objects/obj_type_1 (16040, 5) (16040 filtered: None)\n",
      "[INFO][2023/10/09 11:27:32 AM] Writing properties/obj_type_1/axis_major_length (16040,)\n",
      "[INFO][2023/10/09 11:27:32 AM] Writing properties/obj_type_1/axis_minor_length (16040,)\n",
      "[INFO][2023/10/09 11:27:32 AM] Writing properties/obj_type_1/eccentricity (16040,)\n",
      "[INFO][2023/10/09 11:27:32 AM] Writing properties/obj_type_1/area (16040,)\n",
      "[INFO][2023/10/09 11:27:32 AM] Writing properties/obj_type_1/orientation (16040,)\n",
      "[INFO][2023/10/09 11:27:32 AM] Writing properties/obj_type_1/mean_intensity (16040, 4)\n",
      "[INFO][2023/10/09 11:27:32 AM] Writing properties/obj_type_1/class_id (16040,)\n",
      "[INFO][2023/10/09 11:27:32 AM] Writing properties/obj_type_1/mtb_status (16040,)\n",
      "[INFO][2023/10/09 11:27:32 AM] Writing properties/obj_type_1/mtb_area (16040,)\n",
      "[INFO][2023/10/09 11:27:32 AM] Writing tracks/obj_type_1\n",
      "[INFO][2023/10/09 11:27:32 AM] Writing dummies/obj_type_1\n",
      "[INFO][2023/10/09 11:27:32 AM] Writing LBEP/obj_type_1\n",
      "[INFO][2023/10/09 11:27:32 AM] Writing fates/obj_type_1\n",
      "[INFO][2023/10/09 11:27:35 AM] Closing HDF file: /home/dayn/data/homuncu_loc_temp/seperate_tracks/iAT1_iAT2_iVEC_macrophage_experiments/DAPI_ZO1_Ki67_MTB/sc_analyses/20230801_20X_23-03-001B2_DAPI_ZO-1_Ki67_Mtb_Multichannel Z-Stack_20230801_1482_mphi.h5\n"
     ]
    },
    {
     "name": "stdout",
     "output_type": "stream",
     "text": [
      "/run/user/30046150/gvfs/smb-share:server=data2.thecrick.org,share=lab-gutierrezm/home/shared/Lung on Chip/homuncu_loc_image_analysis/iAT1_iAT2_iVEC_macrophage_experiments/DAPI_ZO1_Ki67_MTB/images/20230801_20X_23-03-001B2_DAPI_ZO-1_Ki67_Mtb_Multichannel Z-Stack_20230801_1483.tif\n"
     ]
    },
    {
     "data": {
      "application/vnd.jupyter.widget-view+json": {
       "model_id": "5e3f4a009dcb4989913bfcf7c614dc5a",
       "version_major": 2,
       "version_minor": 0
      },
      "text/plain": [
       "finding where segmentation channel is expressed in Z:   0%|          | 0/61 [00:00<?, ?it/s]"
      ]
     },
     "metadata": {},
     "output_type": "display_data"
    },
    {
     "name": "stdout",
     "output_type": "stream",
     "text": [
      "Found model '2D_versatile_fluo' for 'StarDist2D'.\n",
      "Loading network weights from 'weights_best.h5'.\n",
      "Loading thresholds from 'thresholds.json'.\n",
      "Using default values: prob_thresh=0.479071, nms_thresh=0.3.\n"
     ]
    },
    {
     "data": {
      "application/vnd.jupyter.widget-view+json": {
       "model_id": "37f9ed5f0ad842debacb0e0fbd6624b2",
       "version_major": 2,
       "version_minor": 0
      },
      "text/plain": [
       "segmenting over select frames:   0%|          | 0/23 [00:00<?, ?it/s]"
      ]
     },
     "metadata": {},
     "output_type": "display_data"
    },
    {
     "name": "stderr",
     "output_type": "stream",
     "text": [
      "[INFO][2023/10/09 11:29:09 AM] Localizing objects from segmentation...\n",
      "progress: 100%|███████████████████████████████████████████████████████████████████████████████████████████████████████████████████████████████████████████| 61/61 [00:28<00:00,  2.12it/s]\n",
      "[INFO][2023/10/09 11:29:37 AM] Objects are of type: <class 'dict'>\n",
      "[INFO][2023/10/09 11:29:38 AM] ...Found 53620 objects in 23 frames.\n"
     ]
    },
    {
     "data": {
      "application/vnd.jupyter.widget-view+json": {
       "model_id": "20174bf9e666492eab9e885a81d06ff8",
       "version_major": 2,
       "version_minor": 0
      },
      "text/plain": [
       "Measuring Mtb properties of each cell:   0%|          | 0/53620 [00:00<?, ?it/s]"
      ]
     },
     "metadata": {},
     "output_type": "display_data"
    },
    {
     "name": "stderr",
     "output_type": "stream",
     "text": [
      "[INFO][2023/10/09 11:41:00 AM] Loaded btrack: /home/dayn/analysis/btrack/btrack/libs/libtracker.so\n",
      "[INFO][2023/10/09 11:41:00 AM] Starting BayesianTracker session\n",
      "[INFO][2023/10/09 11:41:00 AM] Loading configuration file: /home/dayn/analysis/models/loc.json\n",
      "[INFO][2023/10/09 11:41:00 AM] Objects are of type: <class 'list'>\n",
      "[INFO][2023/10/09 11:41:01 AM] Starting tracking... \n",
      "[INFO][2023/10/09 11:41:01 AM] Update using: ['VISUAL', 'MOTION']\n",
      "[INFO][2023/10/09 11:41:12 AM] Tracking objects in frames 0 to 9 (of 23)...\n",
      "[INFO][2023/10/09 11:43:11 AM]  - Timing (Bayesian updates: 5428.96ms, Linking: 27.81ms)\n",
      "[INFO][2023/10/09 11:43:11 AM]  - Probabilities (Link: 1.00000, Lost: 0.95287)\n",
      "[INFO][2023/10/09 11:43:11 AM]  - Stats (Active: 2743, Lost: 1106, Conflicts resolved: 4283)\n",
      "[INFO][2023/10/09 11:43:11 AM] Tracking objects in frames 10 to 19 (of 23)...\n",
      "[INFO][2023/10/09 11:45:42 AM]  - Timing (Bayesian updates: 6855.86ms, Linking: 29.31ms)\n",
      "[INFO][2023/10/09 11:45:42 AM]  - Probabilities (Link: 1.00000, Lost: 0.99943)\n",
      "[INFO][2023/10/09 11:45:42 AM] SUCCESS.\n",
      "[INFO][2023/10/09 11:45:42 AM]  - Found 5785 tracks in 23 frames (in 0.0s)\n",
      "[INFO][2023/10/09 11:45:42 AM]  - Inserted 1955 dummy objects to fill tracking gaps\n",
      "[INFO][2023/10/09 11:45:42 AM] Loading hypothesis model: particle_hypothesis\n",
      "[INFO][2023/10/09 11:45:42 AM] Calculating hypotheses (relax: True)...\n",
      "[INFO][2023/10/09 11:45:42 AM] Setting up constraints matrix for global optimisation...\n",
      "[INFO][2023/10/09 11:45:42 AM] Using GLPK options: {'tm_lim': 60000}...\n",
      "[INFO][2023/10/09 11:45:42 AM] Optimizing...\n",
      "[INFO][2023/10/09 11:45:43 AM] Optimization complete. (Solution: optimal)\n",
      "[INFO][2023/10/09 11:45:43 AM]  - Fates.FALSE_POSITIVE: 2026 (of 5785)\n",
      "[INFO][2023/10/09 11:45:43 AM]  - Fates.LINK: 22 (of 28)\n",
      "[INFO][2023/10/09 11:45:43 AM]  - Fates.INITIALIZE_BORDER: 48 (of 64)\n",
      "[INFO][2023/10/09 11:45:43 AM]  - Fates.INITIALIZE_FRONT: 2133 (of 2776)\n",
      "[INFO][2023/10/09 11:45:43 AM]  - Fates.INITIALIZE_LAZY: 1556 (of 2945)\n",
      "[INFO][2023/10/09 11:45:43 AM]  - Fates.TERMINATE_BORDER: 52 (of 66)\n",
      "[INFO][2023/10/09 11:45:43 AM]  - Fates.TERMINATE_BACK: 2032 (of 2552)\n",
      "[INFO][2023/10/09 11:45:43 AM]  - Fates.TERMINATE_LAZY: 1653 (of 3167)\n",
      "[INFO][2023/10/09 11:45:43 AM]  - TOTAL: 17383 hypotheses\n",
      "[INFO][2023/10/09 11:45:43 AM] Completed optimization with 5763 tracks\n"
     ]
    },
    {
     "name": "stdout",
     "output_type": "stream",
     "text": [
      "GLPK Integer Optimizer 5.0\n",
      "23140 rows, 17383 columns, 23196 non-zeros\n",
      "17383 integer variables, all of which are binary\n",
      "Preprocessing...\n",
      "11570 rows, 17383 columns, 23196 non-zeros\n",
      "17383 integer variables, all of which are binary\n",
      "Scaling...\n",
      " A: min|aij| =  1.000e+00  max|aij| =  1.000e+00  ratio =  1.000e+00\n",
      "Problem data seem to be well scaled\n",
      "Constructing initial basis...\n",
      "Size of triangular part is 11570\n",
      "Solving LP relaxation...\n",
      "GLPK Simplex Optimizer 5.0\n",
      "11570 rows, 17383 columns, 23196 non-zeros\n",
      "*     0: obj =   4.296286451e+04 inf =   0.000e+00 (2075)\n",
      "*  2081: obj =   3.151671836e+04 inf =   0.000e+00 (0)\n",
      "OPTIMAL LP SOLUTION FOUND\n",
      "Integer optimization begins...\n",
      "Long-step dual simplex will be used\n",
      "+  2081: mip =     not found yet >=              -inf        (1; 0)\n",
      "+  2081: >>>>>   3.151671836e+04 >=   3.151671836e+04   0.0% (1; 0)\n",
      "+  2081: mip =   3.151671836e+04 >=     tree is empty   0.0% (0; 1)\n",
      "INTEGER OPTIMAL SOLUTION FOUND\n"
     ]
    },
    {
     "name": "stderr",
     "output_type": "stream",
     "text": [
      "[INFO][2023/10/09 11:45:43 AM] Ending BayesianTracker session\n",
      "[INFO][2023/10/09 11:45:43 AM] Opening HDF file: /home/dayn/data/homuncu_loc_temp/seperate_tracks/iAT1_iAT2_iVEC_macrophage_experiments/DAPI_ZO1_Ki67_MTB/sc_analyses/20230801_20X_23-03-001B2_DAPI_ZO-1_Ki67_Mtb_Multichannel Z-Stack_20230801_1483_mphi.h5...\n",
      "[INFO][2023/10/09 11:45:43 AM] Writing objects/obj_type_1\n",
      "[INFO][2023/10/09 11:45:43 AM] Writing labels/obj_type_1\n",
      "[INFO][2023/10/09 11:45:43 AM] Loading objects/obj_type_1 (41056, 5) (41056 filtered: None)\n",
      "[INFO][2023/10/09 11:45:44 AM] Writing properties/obj_type_1/axis_major_length (41056,)\n",
      "[INFO][2023/10/09 11:45:44 AM] Writing properties/obj_type_1/axis_minor_length (41056,)\n",
      "[INFO][2023/10/09 11:45:44 AM] Writing properties/obj_type_1/eccentricity (41056,)\n",
      "[INFO][2023/10/09 11:45:44 AM] Writing properties/obj_type_1/area (41056,)\n",
      "[INFO][2023/10/09 11:45:44 AM] Writing properties/obj_type_1/orientation (41056,)\n",
      "[INFO][2023/10/09 11:45:44 AM] Writing properties/obj_type_1/mean_intensity (41056, 4)\n",
      "[INFO][2023/10/09 11:45:44 AM] Writing properties/obj_type_1/class_id (41056,)\n",
      "[INFO][2023/10/09 11:45:44 AM] Writing properties/obj_type_1/mtb_status (41056,)\n",
      "[INFO][2023/10/09 11:45:44 AM] Writing properties/obj_type_1/mtb_area (41056,)\n",
      "[INFO][2023/10/09 11:45:44 AM] Writing tracks/obj_type_1\n",
      "[INFO][2023/10/09 11:45:44 AM] Writing dummies/obj_type_1\n",
      "[INFO][2023/10/09 11:45:44 AM] Writing LBEP/obj_type_1\n",
      "[INFO][2023/10/09 11:45:44 AM] Writing fates/obj_type_1\n",
      "[INFO][2023/10/09 11:45:47 AM] Closing HDF file: /home/dayn/data/homuncu_loc_temp/seperate_tracks/iAT1_iAT2_iVEC_macrophage_experiments/DAPI_ZO1_Ki67_MTB/sc_analyses/20230801_20X_23-03-001B2_DAPI_ZO-1_Ki67_Mtb_Multichannel Z-Stack_20230801_1483_mphi.h5\n"
     ]
    },
    {
     "name": "stdout",
     "output_type": "stream",
     "text": [
      "/run/user/30046150/gvfs/smb-share:server=data2.thecrick.org,share=lab-gutierrezm/home/shared/Lung on Chip/homuncu_loc_image_analysis/iAT1_iAT2_iVEC_macrophage_experiments/DAPI_ZO1_Ki67_MTB/images/20230801_20X_23-03-001B2_DAPI_ZO-1_Ki67_Mtb_Multichannel Z-Stack_20230801_1484.tif\n"
     ]
    },
    {
     "data": {
      "application/vnd.jupyter.widget-view+json": {
       "model_id": "e0a457262fb9433da9385da9dd878a15",
       "version_major": 2,
       "version_minor": 0
      },
      "text/plain": [
       "finding where segmentation channel is expressed in Z:   0%|          | 0/61 [00:00<?, ?it/s]"
      ]
     },
     "metadata": {},
     "output_type": "display_data"
    },
    {
     "name": "stdout",
     "output_type": "stream",
     "text": [
      "Found model '2D_versatile_fluo' for 'StarDist2D'.\n",
      "Loading network weights from 'weights_best.h5'.\n",
      "Loading thresholds from 'thresholds.json'.\n",
      "Using default values: prob_thresh=0.479071, nms_thresh=0.3.\n"
     ]
    },
    {
     "data": {
      "application/vnd.jupyter.widget-view+json": {
       "model_id": "c0eefc03320e427e8e77eafa1c14fa99",
       "version_major": 2,
       "version_minor": 0
      },
      "text/plain": [
       "segmenting over select frames:   0%|          | 0/28 [00:00<?, ?it/s]"
      ]
     },
     "metadata": {},
     "output_type": "display_data"
    },
    {
     "name": "stderr",
     "output_type": "stream",
     "text": [
      "[INFO][2023/10/09 11:47:33 AM] Localizing objects from segmentation...\n",
      "progress: 100%|███████████████████████████████████████████████████████████████████████████████████████████████████████████████████████████████████████████| 61/61 [00:32<00:00,  1.85it/s]\n",
      "[INFO][2023/10/09 11:48:05 AM] Objects are of type: <class 'dict'>\n",
      "[INFO][2023/10/09 11:48:06 AM] ...Found 58271 objects in 28 frames.\n"
     ]
    },
    {
     "data": {
      "application/vnd.jupyter.widget-view+json": {
       "model_id": "d270d904d44f4b7695e6072c5d528b5b",
       "version_major": 2,
       "version_minor": 0
      },
      "text/plain": [
       "Measuring Mtb properties of each cell:   0%|          | 0/58271 [00:00<?, ?it/s]"
      ]
     },
     "metadata": {},
     "output_type": "display_data"
    },
    {
     "name": "stderr",
     "output_type": "stream",
     "text": [
      "[INFO][2023/10/09 12:00:39 PM] Loaded btrack: /home/dayn/analysis/btrack/btrack/libs/libtracker.so\n",
      "[INFO][2023/10/09 12:00:39 PM] Starting BayesianTracker session\n",
      "[INFO][2023/10/09 12:00:39 PM] Loading configuration file: /home/dayn/analysis/models/loc.json\n",
      "[INFO][2023/10/09 12:00:39 PM] Objects are of type: <class 'list'>\n",
      "[INFO][2023/10/09 12:00:40 PM] Starting tracking... \n",
      "[INFO][2023/10/09 12:00:40 PM] Update using: ['VISUAL', 'MOTION']\n",
      "[INFO][2023/10/09 12:00:50 PM] Tracking objects in frames 0 to 9 (of 28)...\n",
      "[INFO][2023/10/09 12:02:25 PM]  - Timing (Bayesian updates: 3368.40ms, Linking: 23.02ms)\n",
      "[INFO][2023/10/09 12:02:25 PM]  - Probabilities (Link: 1.00000, Lost: 1.00000)\n",
      "[INFO][2023/10/09 12:02:25 PM]  - Stats (Active: 2538, Lost: 1676, Conflicts resolved: 3352)\n",
      "[INFO][2023/10/09 12:02:25 PM] Tracking objects in frames 10 to 19 (of 28)...\n",
      "[INFO][2023/10/09 12:03:45 PM]  - Timing (Bayesian updates: 3775.67ms, Linking: 21.87ms)\n",
      "[INFO][2023/10/09 12:03:45 PM]  - Probabilities (Link: 1.00000, Lost: 1.00000)\n",
      "[INFO][2023/10/09 12:03:45 PM]  - Stats (Active: 2355, Lost: 2775, Conflicts resolved: 6458)\n",
      "[INFO][2023/10/09 12:03:45 PM] Tracking objects in frames 20 to 28 (of 28)...\n",
      "[INFO][2023/10/09 12:04:42 PM]  - Timing (Bayesian updates: 2965.50ms, Linking: 22.16ms)\n",
      "[INFO][2023/10/09 12:04:42 PM]  - Probabilities (Link: 1.00000, Lost: 0.92305)\n",
      "[INFO][2023/10/09 12:04:42 PM] SUCCESS.\n",
      "[INFO][2023/10/09 12:04:42 PM]  - Found 5610 tracks in 28 frames (in 0.0s)\n",
      "[INFO][2023/10/09 12:04:42 PM]  - Inserted 1629 dummy objects to fill tracking gaps\n",
      "[INFO][2023/10/09 12:04:42 PM] Loading hypothesis model: particle_hypothesis\n",
      "[INFO][2023/10/09 12:04:42 PM] Calculating hypotheses (relax: True)...\n",
      "[INFO][2023/10/09 12:04:42 PM] Setting up constraints matrix for global optimisation...\n",
      "[INFO][2023/10/09 12:04:42 PM] Using GLPK options: {'tm_lim': 60000}...\n",
      "[INFO][2023/10/09 12:04:42 PM] Optimizing...\n",
      "[INFO][2023/10/09 12:04:42 PM] Optimization complete. (Solution: optimal)\n",
      "[INFO][2023/10/09 12:04:42 PM]  - Fates.FALSE_POSITIVE: 1760 (of 5610)\n",
      "[INFO][2023/10/09 12:04:42 PM]  - Fates.LINK: 11 (of 23)\n",
      "[INFO][2023/10/09 12:04:42 PM]  - Fates.INITIALIZE_BORDER: 54 (of 78)\n",
      "[INFO][2023/10/09 12:04:42 PM]  - Fates.INITIALIZE_FRONT: 2165 (of 2640)\n",
      "[INFO][2023/10/09 12:04:42 PM]  - Fates.INITIALIZE_LAZY: 1620 (of 2892)\n",
      "[INFO][2023/10/09 12:04:42 PM]  - Fates.TERMINATE_BORDER: 48 (of 79)\n",
      "[INFO][2023/10/09 12:04:42 PM]  - Fates.TERMINATE_BACK: 1898 (of 2232)\n",
      "[INFO][2023/10/09 12:04:42 PM]  - Fates.TERMINATE_LAZY: 1893 (of 3299)\n",
      "[INFO][2023/10/09 12:04:42 PM]  - TOTAL: 16853 hypotheses\n",
      "[INFO][2023/10/09 12:04:42 PM] Completed optimization with 5599 tracks\n"
     ]
    },
    {
     "name": "stdout",
     "output_type": "stream",
     "text": [
      "GLPK Integer Optimizer 5.0\n",
      "22440 rows, 16853 columns, 22486 non-zeros\n",
      "16853 integer variables, all of which are binary\n",
      "Preprocessing...\n",
      "11220 rows, 16853 columns, 22486 non-zeros\n",
      "16853 integer variables, all of which are binary\n",
      "Scaling...\n",
      " A: min|aij| =  1.000e+00  max|aij| =  1.000e+00  ratio =  1.000e+00\n",
      "Problem data seem to be well scaled\n",
      "Constructing initial basis...\n",
      "Size of triangular part is 11220\n",
      "Solving LP relaxation...\n",
      "GLPK Simplex Optimizer 5.0\n",
      "11220 rows, 16853 columns, 22486 non-zeros\n",
      "*     0: obj =   4.302961073e+04 inf =   0.000e+00 (1791)\n",
      "*  1803: obj =   3.224525430e+04 inf =   0.000e+00 (0)\n",
      "OPTIMAL LP SOLUTION FOUND\n",
      "Integer optimization begins...\n",
      "Long-step dual simplex will be used\n",
      "+  1803: mip =     not found yet >=              -inf        (1; 0)\n",
      "+  1803: >>>>>   3.224525430e+04 >=   3.224525430e+04   0.0% (1; 0)\n",
      "+  1803: mip =   3.224525430e+04 >=     tree is empty   0.0% (0; 1)\n",
      "INTEGER OPTIMAL SOLUTION FOUND\n"
     ]
    },
    {
     "name": "stderr",
     "output_type": "stream",
     "text": [
      "[INFO][2023/10/09 12:04:43 PM] Ending BayesianTracker session\n",
      "[INFO][2023/10/09 12:04:43 PM] Opening HDF file: /home/dayn/data/homuncu_loc_temp/seperate_tracks/iAT1_iAT2_iVEC_macrophage_experiments/DAPI_ZO1_Ki67_MTB/sc_analyses/20230801_20X_23-03-001B2_DAPI_ZO-1_Ki67_Mtb_Multichannel Z-Stack_20230801_1484_mphi.h5...\n",
      "[INFO][2023/10/09 12:04:43 PM] Writing objects/obj_type_1\n",
      "[INFO][2023/10/09 12:04:43 PM] Writing labels/obj_type_1\n",
      "[INFO][2023/10/09 12:04:43 PM] Loading objects/obj_type_1 (48750, 5) (48750 filtered: None)\n",
      "[INFO][2023/10/09 12:04:44 PM] Writing properties/obj_type_1/axis_major_length (48750,)\n",
      "[INFO][2023/10/09 12:04:44 PM] Writing properties/obj_type_1/axis_minor_length (48750,)\n",
      "[INFO][2023/10/09 12:04:44 PM] Writing properties/obj_type_1/eccentricity (48750,)\n",
      "[INFO][2023/10/09 12:04:44 PM] Writing properties/obj_type_1/area (48750,)\n",
      "[INFO][2023/10/09 12:04:44 PM] Writing properties/obj_type_1/orientation (48750,)\n",
      "[INFO][2023/10/09 12:04:44 PM] Writing properties/obj_type_1/mean_intensity (48750, 4)\n",
      "[INFO][2023/10/09 12:04:44 PM] Writing properties/obj_type_1/class_id (48750,)\n",
      "[INFO][2023/10/09 12:04:44 PM] Writing properties/obj_type_1/mtb_status (48750,)\n",
      "[INFO][2023/10/09 12:04:44 PM] Writing properties/obj_type_1/mtb_area (48750,)\n",
      "[INFO][2023/10/09 12:04:44 PM] Writing tracks/obj_type_1\n",
      "[INFO][2023/10/09 12:04:45 PM] Writing dummies/obj_type_1\n",
      "[INFO][2023/10/09 12:04:45 PM] Writing LBEP/obj_type_1\n",
      "[INFO][2023/10/09 12:04:45 PM] Writing fates/obj_type_1\n",
      "[INFO][2023/10/09 12:04:49 PM] Closing HDF file: /home/dayn/data/homuncu_loc_temp/seperate_tracks/iAT1_iAT2_iVEC_macrophage_experiments/DAPI_ZO1_Ki67_MTB/sc_analyses/20230801_20X_23-03-001B2_DAPI_ZO-1_Ki67_Mtb_Multichannel Z-Stack_20230801_1484_mphi.h5\n"
     ]
    },
    {
     "name": "stdout",
     "output_type": "stream",
     "text": [
      "/run/user/30046150/gvfs/smb-share:server=data2.thecrick.org,share=lab-gutierrezm/home/shared/Lung on Chip/homuncu_loc_image_analysis/iAT1_iAT2_iVEC_macrophage_experiments/DAPI_ZO1_LDO_MTB/images/20230802_20X_23-03-001A5_DAPI_ZO-1_LDO_Mtb_Multichannel Z-Stack_20230802_1496.tif\n"
     ]
    },
    {
     "data": {
      "application/vnd.jupyter.widget-view+json": {
       "model_id": "1ef71f3d31c74a539f445279f032f48d",
       "version_major": 2,
       "version_minor": 0
      },
      "text/plain": [
       "finding where segmentation channel is expressed in Z:   0%|          | 0/81 [00:00<?, ?it/s]"
      ]
     },
     "metadata": {},
     "output_type": "display_data"
    },
    {
     "name": "stdout",
     "output_type": "stream",
     "text": [
      "Found model '2D_versatile_fluo' for 'StarDist2D'.\n",
      "Loading network weights from 'weights_best.h5'.\n",
      "Loading thresholds from 'thresholds.json'.\n",
      "Using default values: prob_thresh=0.479071, nms_thresh=0.3.\n"
     ]
    },
    {
     "data": {
      "application/vnd.jupyter.widget-view+json": {
       "model_id": "cbc7240fb0d2431eb2a8afd7cf1a352c",
       "version_major": 2,
       "version_minor": 0
      },
      "text/plain": [
       "segmenting over select frames:   0%|          | 0/16 [00:00<?, ?it/s]"
      ]
     },
     "metadata": {},
     "output_type": "display_data"
    },
    {
     "name": "stderr",
     "output_type": "stream",
     "text": [
      "[INFO][2023/10/09 12:06:26 PM] Localizing objects from segmentation...\n",
      "progress: 100%|███████████████████████████████████████████████████████████████████████████████████████████████████████████████████████████████████████████| 81/81 [00:20<00:00,  3.95it/s]\n",
      "[INFO][2023/10/09 12:06:46 PM] Objects are of type: <class 'dict'>\n",
      "[INFO][2023/10/09 12:06:47 PM] ...Found 31368 objects in 28 frames.\n"
     ]
    },
    {
     "data": {
      "application/vnd.jupyter.widget-view+json": {
       "model_id": "7daac2e996d44d18aa5d774bfc610432",
       "version_major": 2,
       "version_minor": 0
      },
      "text/plain": [
       "Measuring Mtb properties of each cell:   0%|          | 0/31368 [00:00<?, ?it/s]"
      ]
     },
     "metadata": {},
     "output_type": "display_data"
    },
    {
     "name": "stderr",
     "output_type": "stream",
     "text": [
      "[INFO][2023/10/09 12:13:25 PM] Loaded btrack: /home/dayn/analysis/btrack/btrack/libs/libtracker.so\n",
      "[INFO][2023/10/09 12:13:25 PM] Starting BayesianTracker session\n",
      "[INFO][2023/10/09 12:13:25 PM] Loading configuration file: /home/dayn/analysis/models/loc.json\n",
      "[INFO][2023/10/09 12:13:25 PM] Objects are of type: <class 'list'>\n",
      "[INFO][2023/10/09 12:13:26 PM] Starting tracking... \n",
      "[INFO][2023/10/09 12:13:26 PM] Update using: ['VISUAL', 'MOTION']\n",
      "[INFO][2023/10/09 12:13:30 PM] Tracking objects in frames 0 to 9 (of 28)...\n",
      "[INFO][2023/10/09 12:14:32 PM]  - Timing (Bayesian updates: 3299.98ms, Linking: 21.62ms)\n",
      "[INFO][2023/10/09 12:14:32 PM]  - Probabilities (Link: 1.00000, Lost: 1.00000)\n",
      "[INFO][2023/10/09 12:14:32 PM]  - Stats (Active: 2290, Lost: 248, Conflicts resolved: 1618)\n",
      "[INFO][2023/10/09 12:14:32 PM] Tracking objects in frames 10 to 19 (of 28)...\n",
      "[INFO][2023/10/09 12:15:09 PM]  - Timing (Bayesian updates: 3559.65ms, Linking: 23.31ms)\n",
      "[INFO][2023/10/09 12:15:09 PM]  - Probabilities (Link: 1.00000, Lost: 1.00000)\n",
      "[INFO][2023/10/09 12:15:09 PM] SUCCESS.\n",
      "[INFO][2023/10/09 12:15:09 PM]  - Found 3457 tracks in 28 frames (in 0.0s)\n",
      "[INFO][2023/10/09 12:15:09 PM]  - Inserted 679 dummy objects to fill tracking gaps\n",
      "[INFO][2023/10/09 12:15:09 PM] Loading hypothesis model: particle_hypothesis\n",
      "[INFO][2023/10/09 12:15:09 PM] Calculating hypotheses (relax: True)...\n",
      "[INFO][2023/10/09 12:15:09 PM] Setting up constraints matrix for global optimisation...\n",
      "[INFO][2023/10/09 12:15:09 PM] Using GLPK options: {'tm_lim': 60000}...\n",
      "[INFO][2023/10/09 12:15:09 PM] Optimizing...\n",
      "[INFO][2023/10/09 12:15:10 PM] Optimization complete. (Solution: optimal)\n",
      "[INFO][2023/10/09 12:15:10 PM]  - Fates.FALSE_POSITIVE: 1194 (of 3457)\n",
      "[INFO][2023/10/09 12:15:10 PM]  - Fates.LINK: 4 (of 7)\n",
      "[INFO][2023/10/09 12:15:10 PM]  - Fates.INITIALIZE_BORDER: 101 (of 127)\n",
      "[INFO][2023/10/09 12:15:10 PM]  - Fates.INITIALIZE_LAZY: 2158 (of 3330)\n",
      "[INFO][2023/10/09 12:15:10 PM]  - Fates.TERMINATE_BORDER: 28 (of 49)\n",
      "[INFO][2023/10/09 12:15:10 PM]  - Fates.TERMINATE_BACK: 1912 (of 2357)\n",
      "[INFO][2023/10/09 12:15:10 PM]  - Fates.TERMINATE_LAZY: 319 (of 1051)\n",
      "[INFO][2023/10/09 12:15:10 PM]  - TOTAL: 10378 hypotheses\n",
      "[INFO][2023/10/09 12:15:10 PM] Completed optimization with 3453 tracks\n"
     ]
    },
    {
     "name": "stdout",
     "output_type": "stream",
     "text": [
      "GLPK Integer Optimizer 5.0\n",
      "13828 rows, 10378 columns, 13842 non-zeros\n",
      "10378 integer variables, all of which are binary\n",
      "Preprocessing...\n",
      "6914 rows, 10378 columns, 13842 non-zeros\n",
      "10378 integer variables, all of which are binary\n",
      "Scaling...\n",
      " A: min|aij| =  1.000e+00  max|aij| =  1.000e+00  ratio =  1.000e+00\n",
      "Problem data seem to be well scaled\n",
      "Constructing initial basis...\n",
      "Size of triangular part is 6914\n",
      "Solving LP relaxation...\n",
      "GLPK Simplex Optimizer 5.0\n",
      "6914 rows, 10378 columns, 13842 non-zeros\n",
      "*     0: obj =   3.035804889e+04 inf =   0.000e+00 (1202)\n",
      "*  1205: obj =   2.338215454e+04 inf =   0.000e+00 (0)\n",
      "OPTIMAL LP SOLUTION FOUND\n",
      "Integer optimization begins...\n",
      "Long-step dual simplex will be used\n",
      "+  1205: mip =     not found yet >=              -inf        (1; 0)\n",
      "+  1205: >>>>>   2.338215454e+04 >=   2.338215454e+04   0.0% (1; 0)\n",
      "+  1205: mip =   2.338215454e+04 >=     tree is empty   0.0% (0; 1)\n",
      "INTEGER OPTIMAL SOLUTION FOUND\n"
     ]
    },
    {
     "name": "stderr",
     "output_type": "stream",
     "text": [
      "[INFO][2023/10/09 12:15:10 PM] Ending BayesianTracker session\n",
      "[INFO][2023/10/09 12:15:10 PM] Opening HDF file: /home/dayn/data/homuncu_loc_temp/seperate_tracks/iAT1_iAT2_iVEC_macrophage_experiments/DAPI_ZO1_LDO_MTB/sc_analyses/20230802_20X_23-03-001A5_DAPI_ZO-1_LDO_Mtb_Multichannel Z-Stack_20230802_1496_mphi.h5...\n",
      "[INFO][2023/10/09 12:15:10 PM] Writing objects/obj_type_1\n",
      "[INFO][2023/10/09 12:15:10 PM] Writing labels/obj_type_1\n",
      "[INFO][2023/10/09 12:15:10 PM] Loading objects/obj_type_1 (26444, 5) (26444 filtered: None)\n",
      "[INFO][2023/10/09 12:15:11 PM] Writing properties/obj_type_1/axis_major_length (26444,)\n",
      "[INFO][2023/10/09 12:15:11 PM] Writing properties/obj_type_1/axis_minor_length (26444,)\n",
      "[INFO][2023/10/09 12:15:11 PM] Writing properties/obj_type_1/eccentricity (26444,)\n",
      "[INFO][2023/10/09 12:15:11 PM] Writing properties/obj_type_1/area (26444,)\n",
      "[INFO][2023/10/09 12:15:11 PM] Writing properties/obj_type_1/orientation (26444,)\n",
      "[INFO][2023/10/09 12:15:11 PM] Writing properties/obj_type_1/mean_intensity (26444, 4)\n",
      "[INFO][2023/10/09 12:15:11 PM] Writing properties/obj_type_1/class_id (26444,)\n",
      "[INFO][2023/10/09 12:15:11 PM] Writing properties/obj_type_1/mtb_status (26444,)\n",
      "[INFO][2023/10/09 12:15:11 PM] Writing properties/obj_type_1/mtb_area (26444,)\n",
      "[INFO][2023/10/09 12:15:11 PM] Writing tracks/obj_type_1\n",
      "[INFO][2023/10/09 12:15:11 PM] Writing dummies/obj_type_1\n",
      "[INFO][2023/10/09 12:15:11 PM] Writing LBEP/obj_type_1\n",
      "[INFO][2023/10/09 12:15:11 PM] Writing fates/obj_type_1\n",
      "[INFO][2023/10/09 12:15:15 PM] Closing HDF file: /home/dayn/data/homuncu_loc_temp/seperate_tracks/iAT1_iAT2_iVEC_macrophage_experiments/DAPI_ZO1_LDO_MTB/sc_analyses/20230802_20X_23-03-001A5_DAPI_ZO-1_LDO_Mtb_Multichannel Z-Stack_20230802_1496_mphi.h5\n"
     ]
    },
    {
     "name": "stdout",
     "output_type": "stream",
     "text": [
      "/run/user/30046150/gvfs/smb-share:server=data2.thecrick.org,share=lab-gutierrezm/home/shared/Lung on Chip/homuncu_loc_image_analysis/iAT1_iAT2_iVEC_macrophage_experiments/DAPI_ZO1_LDO_MTB/images/20230802_20X_23-03-001A2_DAPI_ZO-1_LDO_Mtb_Multichannel Z-Stack_20230802_1504.tif\n"
     ]
    },
    {
     "data": {
      "application/vnd.jupyter.widget-view+json": {
       "model_id": "e853d7c747094bf7a679ce844e526271",
       "version_major": 2,
       "version_minor": 0
      },
      "text/plain": [
       "finding where segmentation channel is expressed in Z:   0%|          | 0/81 [00:00<?, ?it/s]"
      ]
     },
     "metadata": {},
     "output_type": "display_data"
    },
    {
     "name": "stdout",
     "output_type": "stream",
     "text": [
      "Found model '2D_versatile_fluo' for 'StarDist2D'.\n",
      "Loading network weights from 'weights_best.h5'.\n",
      "Loading thresholds from 'thresholds.json'.\n",
      "Using default values: prob_thresh=0.479071, nms_thresh=0.3.\n"
     ]
    },
    {
     "data": {
      "application/vnd.jupyter.widget-view+json": {
       "model_id": "9baba571a591413c8f45a298c72020e0",
       "version_major": 2,
       "version_minor": 0
      },
      "text/plain": [
       "segmenting over select frames:   0%|          | 0/32 [00:00<?, ?it/s]"
      ]
     },
     "metadata": {},
     "output_type": "display_data"
    },
    {
     "name": "stderr",
     "output_type": "stream",
     "text": [
      "[INFO][2023/10/09 12:17:10 PM] Localizing objects from segmentation...\n",
      "progress: 100%|███████████████████████████████████████████████████████████████████████████████████████████████████████████████████████████████████████████| 81/81 [00:23<00:00,  3.50it/s]\n",
      "[INFO][2023/10/09 12:17:33 PM] Objects are of type: <class 'dict'>\n",
      "[INFO][2023/10/09 12:17:34 PM] ...Found 33410 objects in 34 frames.\n"
     ]
    },
    {
     "data": {
      "application/vnd.jupyter.widget-view+json": {
       "model_id": "df6d2aba195b40e1a0b289dfcbf38c96",
       "version_major": 2,
       "version_minor": 0
      },
      "text/plain": [
       "Measuring Mtb properties of each cell:   0%|          | 0/33410 [00:00<?, ?it/s]"
      ]
     },
     "metadata": {},
     "output_type": "display_data"
    },
    {
     "name": "stderr",
     "output_type": "stream",
     "text": [
      "[INFO][2023/10/09 12:24:45 PM] Loaded btrack: /home/dayn/analysis/btrack/btrack/libs/libtracker.so\n",
      "[INFO][2023/10/09 12:24:45 PM] Starting BayesianTracker session\n",
      "[INFO][2023/10/09 12:24:45 PM] Loading configuration file: /home/dayn/analysis/models/loc.json\n",
      "[INFO][2023/10/09 12:24:45 PM] Objects are of type: <class 'list'>\n",
      "[INFO][2023/10/09 12:24:46 PM] Starting tracking... \n",
      "[INFO][2023/10/09 12:24:46 PM] Update using: ['VISUAL', 'MOTION']\n",
      "[INFO][2023/10/09 12:24:46 PM] Tracking objects in frames 0 to 9 (of 34)...\n",
      "[INFO][2023/10/09 12:24:59 PM]  - Timing (Bayesian updates: 679.81ms, Linking: 10.28ms)\n",
      "[INFO][2023/10/09 12:24:59 PM]  - Probabilities (Link: 1.00000, Lost: 0.99307)\n",
      "[INFO][2023/10/09 12:24:59 PM]  - Stats (Active: 1466, Lost: 223, Conflicts resolved: 859)\n",
      "[INFO][2023/10/09 12:24:59 PM] Tracking objects in frames 10 to 19 (of 34)...\n",
      "[INFO][2023/10/09 12:25:17 PM]  - Timing (Bayesian updates: 457.67ms, Linking: 9.72ms)\n",
      "[INFO][2023/10/09 12:25:17 PM]  - Probabilities (Link: 1.00000, Lost: 0.99995)\n",
      "[INFO][2023/10/09 12:25:17 PM]  - Stats (Active: 1367, Lost: 1330, Conflicts resolved: 2426)\n",
      "[INFO][2023/10/09 12:25:17 PM] Tracking objects in frames 20 to 29 (of 34)...\n",
      "[INFO][2023/10/09 12:25:27 PM]  - Timing (Bayesian updates: 270.97ms, Linking: 7.49ms)\n",
      "[INFO][2023/10/09 12:25:27 PM]  - Probabilities (Link: 1.00000, Lost: 1.00000)\n",
      "[INFO][2023/10/09 12:25:27 PM] SUCCESS.\n",
      "[INFO][2023/10/09 12:25:27 PM]  - Found 2944 tracks in 34 frames (in 0.0s)\n",
      "[INFO][2023/10/09 12:25:27 PM]  - Inserted 686 dummy objects to fill tracking gaps\n",
      "[INFO][2023/10/09 12:25:27 PM] Loading hypothesis model: particle_hypothesis\n",
      "[INFO][2023/10/09 12:25:27 PM] Calculating hypotheses (relax: True)...\n",
      "[INFO][2023/10/09 12:25:27 PM] Setting up constraints matrix for global optimisation...\n",
      "[INFO][2023/10/09 12:25:27 PM] Using GLPK options: {'tm_lim': 60000}...\n",
      "[INFO][2023/10/09 12:25:27 PM] Optimizing...\n",
      "[INFO][2023/10/09 12:25:27 PM] Optimization complete. (Solution: optimal)\n",
      "[INFO][2023/10/09 12:25:28 PM]  - Fates.FALSE_POSITIVE: 1160 (of 2944)\n",
      "[INFO][2023/10/09 12:25:28 PM]  - Fates.LINK: 6 (of 10)\n",
      "[INFO][2023/10/09 12:25:28 PM]  - Fates.INITIALIZE_BORDER: 33 (of 57)\n",
      "[INFO][2023/10/09 12:25:28 PM]  - Fates.INITIALIZE_FRONT: 839 (of 914)\n",
      "[INFO][2023/10/09 12:25:28 PM]  - Fates.INITIALIZE_LAZY: 906 (of 1973)\n",
      "[INFO][2023/10/09 12:25:28 PM]  - Fates.TERMINATE_BORDER: 50 (of 72)\n",
      "[INFO][2023/10/09 12:25:28 PM]  - Fates.TERMINATE_BACK: 855 (of 1024)\n",
      "[INFO][2023/10/09 12:25:28 PM]  - Fates.TERMINATE_LAZY: 873 (of 1848)\n",
      "[INFO][2023/10/09 12:25:28 PM]  - TOTAL: 8842 hypotheses\n",
      "[INFO][2023/10/09 12:25:28 PM] Completed optimization with 2938 tracks\n"
     ]
    },
    {
     "name": "stdout",
     "output_type": "stream",
     "text": [
      "GLPK Integer Optimizer 5.0\n",
      "11776 rows, 8842 columns, 11796 non-zeros\n",
      "8842 integer variables, all of which are binary\n",
      "Preprocessing...\n",
      "5888 rows, 8842 columns, 11796 non-zeros\n",
      "8842 integer variables, all of which are binary\n",
      "Scaling...\n",
      " A: min|aij| =  1.000e+00  max|aij| =  1.000e+00  ratio =  1.000e+00\n",
      "Problem data seem to be well scaled\n",
      "Constructing initial basis...\n",
      "Size of triangular part is 5888\n",
      "Solving LP relaxation...\n",
      "GLPK Simplex Optimizer 5.0\n",
      "5888 rows, 8842 columns, 11796 non-zeros\n",
      "*     0: obj =   2.684684813e+04 inf =   0.000e+00 (1176)\n",
      "*  1180: obj =   1.844015803e+04 inf =   0.000e+00 (0)\n",
      "OPTIMAL LP SOLUTION FOUND\n",
      "Integer optimization begins...\n",
      "Long-step dual simplex will be used\n",
      "+  1180: mip =     not found yet >=              -inf        (1; 0)\n",
      "+  1180: >>>>>   1.844015803e+04 >=   1.844015803e+04   0.0% (1; 0)\n",
      "+  1180: mip =   1.844015803e+04 >=     tree is empty   0.0% (0; 1)\n",
      "INTEGER OPTIMAL SOLUTION FOUND\n"
     ]
    },
    {
     "name": "stderr",
     "output_type": "stream",
     "text": [
      "[INFO][2023/10/09 12:25:28 PM] Ending BayesianTracker session\n",
      "[INFO][2023/10/09 12:25:28 PM] Opening HDF file: /home/dayn/data/homuncu_loc_temp/seperate_tracks/iAT1_iAT2_iVEC_macrophage_experiments/DAPI_ZO1_LDO_MTB/sc_analyses/20230802_20X_23-03-001A2_DAPI_ZO-1_LDO_Mtb_Multichannel Z-Stack_20230802_1504_mphi.h5...\n",
      "[INFO][2023/10/09 12:25:28 PM] Writing objects/obj_type_1\n",
      "[INFO][2023/10/09 12:25:28 PM] Writing labels/obj_type_1\n",
      "[INFO][2023/10/09 12:25:28 PM] Loading objects/obj_type_1 (28388, 5) (28388 filtered: None)\n",
      "[INFO][2023/10/09 12:25:29 PM] Writing properties/obj_type_1/axis_major_length (28388,)\n",
      "[INFO][2023/10/09 12:25:29 PM] Writing properties/obj_type_1/axis_minor_length (28388,)\n",
      "[INFO][2023/10/09 12:25:29 PM] Writing properties/obj_type_1/eccentricity (28388,)\n",
      "[INFO][2023/10/09 12:25:29 PM] Writing properties/obj_type_1/area (28388,)\n",
      "[INFO][2023/10/09 12:25:29 PM] Writing properties/obj_type_1/orientation (28388,)\n",
      "[INFO][2023/10/09 12:25:29 PM] Writing properties/obj_type_1/mean_intensity (28388, 4)\n",
      "[INFO][2023/10/09 12:25:29 PM] Writing properties/obj_type_1/class_id (28388,)\n",
      "[INFO][2023/10/09 12:25:29 PM] Writing properties/obj_type_1/mtb_status (28388,)\n",
      "[INFO][2023/10/09 12:25:29 PM] Writing properties/obj_type_1/mtb_area (28388,)\n",
      "[INFO][2023/10/09 12:25:29 PM] Writing tracks/obj_type_1\n",
      "[INFO][2023/10/09 12:25:29 PM] Writing dummies/obj_type_1\n",
      "[INFO][2023/10/09 12:25:29 PM] Writing LBEP/obj_type_1\n",
      "[INFO][2023/10/09 12:25:29 PM] Writing fates/obj_type_1\n",
      "[INFO][2023/10/09 12:25:32 PM] Closing HDF file: /home/dayn/data/homuncu_loc_temp/seperate_tracks/iAT1_iAT2_iVEC_macrophage_experiments/DAPI_ZO1_LDO_MTB/sc_analyses/20230802_20X_23-03-001A2_DAPI_ZO-1_LDO_Mtb_Multichannel Z-Stack_20230802_1504_mphi.h5\n"
     ]
    }
   ],
   "source": [
    "# Iterate over a list of image file paths using tqdm for progress tracking\n",
    "for image_fn in tqdm(image_fns, total=len(image_fns), desc='iterating over image volumes'):\n",
    "\n",
    "    # if not ID_extractor(image_fn) in ['1463']:#, '1317', '1319']:\n",
    "    #     print(f'{image_fn} skipped')\n",
    "    #     continue\n",
    "    # Define the output filename\n",
    "    output_fn = image_fn.replace('images', 'sc_analyses').replace('.tif', '_mphi.h5').replace('/run/user/30046150/gvfs/smb-share:server=data2.thecrick.org,share=lab-gutierrezm/home/shared/Lung on Chip/homuncu_loc_image_analysis/', \n",
    "                                                                                         '/home/dayn/data/homuncu_loc_temp/seperate_tracks/')\n",
    "    # if os.path.exists(output_fn):\n",
    "    #     continue\n",
    "    print(image_fn)\n",
    "    # if image_fn != '/run/user/30046150/gvfs/smb-share:server=data2.thecrick.org,share=lab-gutierrezm/home/shared/Lung on Chip/homuncu_loc_image_analysis/iAT1_iAT2_iVEC_macrophage_experiments/DAPI_ZO1_LDO_MTB/images/20230801_20X_23-03-001B6_DAPI_ZO-1_LDO_Mtb_Multichannel Z-Stack_20230801_1453.tif':\n",
    "    try:\n",
    "        # Read the image using imageio.imread\n",
    "        image = io.imread(image_fn)\n",
    "    except Exception as e:\n",
    "        # Code to handle the exception and print the error message\n",
    "        print(e)\n",
    "        continue\n",
    "    # # Extract the third channel (mphi_channel) from the image\n",
    "    # mphi_channel = image[..., 2]\n",
    "    \n",
    "    # # Segment the mphi_channel using custom function 'segment_channel'\n",
    "    # mphi_masks, mphi_diams = segment_channel(\n",
    "    #     mphi_channel,\n",
    "    #     diameter=60,\n",
    "    #     flow_threshold=0.99,\n",
    "    #     channels=[0, 0],\n",
    "    #     cellprob_threshold=-2,\n",
    "    #     min_mask_size=200,\n",
    "    #     return_diams=True,\n",
    "    #     start_point=None,\n",
    "    #     end_point=None\n",
    "    # )\n",
    "    # masks = mphi_masks\n",
    "\n",
    "    # Extract the 0th channel (nuclear) from the image\n",
    "    nuc_channel = image[..., 0]\n",
    "    \n",
    "    # Segment the nuc_channel using custom function 'segmestimate_channel' to get the perinuclear\n",
    "    perinuc_masks = segmestimate_channel(\n",
    "        nuc_channel,\n",
    "        min_mask_size=100,\n",
    "        start_point=None,\n",
    "        end_point=None\n",
    "    )\n",
    "    masks = perinuc_masks\n",
    "\n",
    "    # # update\n",
    "    # send_sms(f'mphi seg done {ID_extractor(image_fn)}')\n",
    "    \n",
    "    # # Extract the second channel (zo1_channel) from the image\n",
    "    # zo1_channel = image[..., 1]\n",
    "    \n",
    "    # # Segment the zo1_channel for iat2 using 'segment_channel' with specific parameters\n",
    "    # iat2_masks, iat2_diams = segment_channel(\n",
    "    #     zo1_channel,\n",
    "    #     diameter=None,\n",
    "    #     flow_threshold=0,\n",
    "    #     channels=[0, 0],\n",
    "    #     cellprob_threshold=0,\n",
    "    #     min_mask_size=200,\n",
    "    #     return_diams=True,\n",
    "    #     start_point=None,\n",
    "    #     end_point=None\n",
    "    # )\n",
    "    \n",
    "    # # update\n",
    "    # send_sms(f'iat2 seg done {ID_extractor(image_fn)}')\n",
    "    \n",
    "    # # Segment the zo1_channel for iat1 using 'segment_channel' with specific parameters\n",
    "    # iat1_masks, iat1_diams = segment_channel(\n",
    "    #     zo1_channel,\n",
    "    #     diameter=150,\n",
    "    #     flow_threshold=0.99,\n",
    "    #     channels=[0, 0],\n",
    "    #     cellprob_threshold=-3,\n",
    "    #     min_mask_size=2500,\n",
    "    #     return_diams=True,\n",
    "    #     start_point=None,\n",
    "    #     end_point=None\n",
    "    # )\n",
    "    \n",
    "    # # update\n",
    "    # send_sms(f'iat1 seg done {ID_extractor(image_fn)}')\n",
    "    \n",
    "    # # Loop over three different mask types: mphi_masks, iat2_masks, iat1_masks\n",
    "    # for n, masks in tqdm(enumerate([mphi_masks, iat2_masks, iat1_masks]), total=3):\n",
    "        \n",
    "    # Convert the segmentation masks to objects using btrack\n",
    "    objects = btrack.utils.segmentation_to_objects(\n",
    "        segmentation=perinuc_masks,\n",
    "        intensity_image=image,\n",
    "        properties=props,\n",
    "        use_weighted_centroid=False,\n",
    "        assign_class_ID=True,\n",
    "    )\n",
    "\n",
    "    # update\n",
    "    # send_sms(f'object localisation {n, ID_extractor(image_fn)} done')\n",
    "\n",
    "    \n",
    "    # Check if mtb infected above threshold and measure mtb properties for each cell\n",
    "    threshold = 230\n",
    "    mtb_ch = 3\n",
    "    \n",
    "    for o in tqdm(objects, desc='Measuring Mtb properties of each cell'):\n",
    "        coordinates = np.argwhere(masks[o.t] == o.properties['class_id'])\n",
    "        pixel_values = image[o.t, coordinates[:, 0], coordinates[:, 1]]\n",
    "        mtb_status = np.any(pixel_values[:,mtb_ch] > threshold)\n",
    "        mtb_area = np.sum(pixel_values[:,mtb_ch] > threshold)\n",
    "        o.properties['mtb_status'] = mtb_status\n",
    "        o.properties['mtb_area'] = mtb_area\n",
    "        # o.properties['pixel_values'] = pixel_values\n",
    "\n",
    "    # update\n",
    "    # send_sms(f'mtb props {n, ID_extractor(image_fn)} done')\n",
    "\n",
    "    # Initialize BayesianTracker\n",
    "    with btrack.BayesianTracker() as tracker:\n",
    "        \n",
    "        # Configure the tracker using a config file\n",
    "        tracker.configure('/home/dayn/analysis/models/loc.json')\n",
    "        \n",
    "        # Set max search radius to a very limited radius\n",
    "        tracker.max_search_radius = 5\n",
    "        \n",
    "        # Define tracking method\n",
    "        tracker.tracking_updates = [\"MOTION\", \"VISUAL\"]\n",
    "        \n",
    "        # Use visual features to track\n",
    "        tracker.features = props\n",
    "        \n",
    "        # Append the objects to be tracked\n",
    "        tracker.append(objects)\n",
    "        \n",
    "        # Set the volume\n",
    "        tracker.volume = ((0, masks.shape[1]), (0, masks.shape[2]), (-1e5, 1e5))\n",
    "        \n",
    "        # Track them (in interactive mode)\n",
    "        tracker.track(step_size=10)\n",
    "        \n",
    "        # Generate hypotheses and run the global optimizer\n",
    "        tracker.optimize()\n",
    "        \n",
    "        # Get the tracks as a Python list\n",
    "        tracks = tracker.tracks\n",
    "\n",
    "    # update\n",
    "    # send_sms(f'tracking {n, ID_extractor(image_fn)} done')\n",
    "\n",
    "    # Define the output filename\n",
    "    output_fn = image_fn.replace('images', 'sc_analyses').replace('.tif', '_mphi.h5').replace('/run/user/30046150/gvfs/smb-share:server=data2.thecrick.org,share=lab-gutierrezm/home/shared/Lung on Chip/homuncu_loc_image_analysis/', \n",
    "                                                                                         '/home/dayn/data/homuncu_loc_temp/seperate_tracks/')\n",
    "    os.makedirs(os.path.dirname(output_fn), exist_ok=True)\n",
    "    \n",
    "    # Define the object type based on the iteration index\n",
    "    obj_type = f'obj_type_{1}'\n",
    "\n",
    "\n",
    "    # Write the tracks and segmentation masks to an HDF5 file using btrack.io.HDF5FileHandler\n",
    "    with btrack.io.HDF5FileHandler(output_fn, 'w', obj_type=obj_type) as writer:\n",
    "        writer.write_tracks(tracks)\n",
    "        writer.write_segmentation(masks)\n",
    "\n",
    "    # update\n",
    "    # send_sms(f'tracks saved {n, ID_extractor(image_fn)}')\n"
   ]
  },
  {
   "cell_type": "code",
   "execution_count": 17,
   "id": "28abfb18-3557-41a7-b781-d5cb0e5e9c21",
   "metadata": {},
   "outputs": [],
   "source": [
    "napari_tracks, _, _ = btrack.utils.tracks_to_napari(tracks, ndim=2)"
   ]
  },
  {
   "cell_type": "code",
   "execution_count": 18,
   "id": "8b8e800b-fae7-49fe-b79b-232c074e3311",
   "metadata": {},
   "outputs": [
    {
     "data": {
      "text/plain": [
       "<Tracks layer 'napari_tracks' at 0x7f86dc27b790>"
      ]
     },
     "execution_count": 18,
     "metadata": {},
     "output_type": "execute_result"
    },
    {
     "name": "stderr",
     "output_type": "stream",
     "text": [
      "labels.py (966): Contours are not displayed during 3D rendering\n"
     ]
    }
   ],
   "source": [
    "v = napari.Viewer(title = ID_extractor(image_fn))\n",
    "\n",
    "v.add_image(image, channel_axis=-1)\n",
    "v.add_labels(masks)\n",
    "v.add_tracks(napari_tracks)"
   ]
  }
 ],
 "metadata": {
  "kernelspec": {
   "display_name": "brassica",
   "language": "python",
   "name": "brassica"
  },
  "language_info": {
   "codemirror_mode": {
    "name": "ipython",
    "version": 3
   },
   "file_extension": ".py",
   "mimetype": "text/x-python",
   "name": "python",
   "nbconvert_exporter": "python",
   "pygments_lexer": "ipython3",
   "version": "3.9.17"
  }
 },
 "nbformat": 4,
 "nbformat_minor": 5
}
