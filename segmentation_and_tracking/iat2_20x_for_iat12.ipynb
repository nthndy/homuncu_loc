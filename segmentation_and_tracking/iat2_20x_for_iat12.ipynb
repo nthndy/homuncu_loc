{
 "cells": [
  {
   "cell_type": "markdown",
   "id": "038f144c",
   "metadata": {},
   "source": [
    "# saving out iat1 masks"
   ]
  },
  {
   "cell_type": "code",
   "execution_count": 24,
   "id": "8988af78",
   "metadata": {},
   "outputs": [],
   "source": [
    "import napari\n",
    "from skimage import io\n",
    "import btrack\n",
    "import os\n",
    "from tqdm.auto import tqdm\n",
    "import numpy as np\n",
    "import btrack\n",
    "from glob import glob\n",
    "from homuncu_loc.dataio import find_files_with_basename, ID_extractor"
   ]
  },
  {
   "cell_type": "markdown",
   "id": "09c5e155-1cd6-46e9-9643-5446f0fc851b",
   "metadata": {},
   "source": [
    "#### Define image fn "
   ]
  },
  {
   "cell_type": "code",
   "execution_count": 25,
   "id": "662eacac-3046-4b30-9465-a8f734574ad4",
   "metadata": {},
   "outputs": [
    {
     "name": "stdout",
     "output_type": "stream",
     "text": [
      "nvcc: NVIDIA (R) Cuda compiler driver\n",
      "Copyright (c) 2005-2019 NVIDIA Corporation\n",
      "Built on Sun_Jul_28_19:07:16_PDT_2019\n",
      "Cuda compilation tools, release 10.1, V10.1.243\n",
      "Fri Oct  6 13:07:10 2023       \n",
      "+-----------------------------------------------------------------------------+\n",
      "| NVIDIA-SMI 515.105.01   Driver Version: 515.105.01   CUDA Version: 11.7     |\n",
      "|-------------------------------+----------------------+----------------------+\n",
      "| GPU  Name        Persistence-M| Bus-Id        Disp.A | Volatile Uncorr. ECC |\n",
      "| Fan  Temp  Perf  Pwr:Usage/Cap|         Memory-Usage | GPU-Util  Compute M. |\n",
      "|                               |                      |               MIG M. |\n",
      "|===============================+======================+======================|\n",
      "|   0  NVIDIA RTX A6000    On   | 00000000:65:00.0  On |                  Off |\n",
      "| 30%   41C    P8    34W / 300W |  48208MiB / 49140MiB |     24%      Default |\n",
      "|                               |                      |                  N/A |\n",
      "+-------------------------------+----------------------+----------------------+\n",
      "                                                                               \n",
      "+-----------------------------------------------------------------------------+\n",
      "| Processes:                                                                  |\n",
      "|  GPU   GI   CI        PID   Type   Process name                  GPU Memory |\n",
      "|        ID   ID                                                   Usage      |\n",
      "|=============================================================================|\n",
      "|    0   N/A  N/A      2292      G   /usr/lib/xorg/Xorg               1488MiB |\n",
      "|    0   N/A  N/A     11268      G   /usr/bin/gnome-shell              150MiB |\n",
      "|    0   N/A  N/A     42098      G   gnome-control-center               50MiB |\n",
      "|    0   N/A  N/A     83810      G   ...AAAAAAAAA= --shared-files        6MiB |\n",
      "|    0   N/A  N/A     91460      C   .../envs/brassica/bin/python      359MiB |\n",
      "|    0   N/A  N/A     93300      C   .../envs/brassica/bin/python      359MiB |\n",
      "|    0   N/A  N/A    328669      C   .../envs/brassica/bin/python      359MiB |\n",
      "|    0   N/A  N/A    332587      C   .../envs/brassica/bin/python      359MiB |\n",
      "|    0   N/A  N/A    332718      C   .../envs/brassica/bin/python      359MiB |\n",
      "|    0   N/A  N/A    336109      G   .../envs/brassica/bin/python       25MiB |\n",
      "|    0   N/A  N/A    338054      C   .../envs/brassica/bin/python      359MiB |\n",
      "|    0   N/A  N/A    338291      C   .../envs/brassica/bin/python      359MiB |\n",
      "|    0   N/A  N/A    339241    C+G   .../envs/brassica/bin/python    43740MiB |\n",
      "|    0   N/A  N/A    400359      G   ...nda3/envs/aero/bin/python        8MiB |\n",
      "|    0   N/A  N/A    404955      G   ...nda3/envs/aero/bin/python        7MiB |\n",
      "|    0   N/A  N/A    409820      G   ...nda3/envs/aero/bin/python       17MiB |\n",
      "|    0   N/A  N/A    530026      G   ...714807703712694810,262144      187MiB |\n",
      "+-----------------------------------------------------------------------------+\n",
      ">>> GPU activated? YES\n"
     ]
    }
   ],
   "source": [
    "# print gpu information\n",
    "!nvcc --version\n",
    "!nvidia-smi\n",
    "\n",
    "# load cellpose\n",
    "from cellpose import core, utils, models, metrics\n",
    "import matplotlib.pyplot as plt \n",
    "from skimage.morphology import remove_small_objects\n",
    "\n",
    "# check to see if GPU can be used\n",
    "use_GPU = core.use_gpu()\n",
    "yn = ['NO', 'YES']\n",
    "print(f'>>> GPU activated? {yn[use_GPU]}')\n",
    "\n",
    "# define segmentation model parameters\n",
    "model = models.Cellpose(gpu=use_GPU, \n",
    "                        model_type='cyto') # cytoplasmic segmentation \n",
    "channels = [0,0] # this means using a grayscale image for both nuclei and cyto channels (even if not using nuclei, still have to say its same colour [greyscale = 0])"
   ]
  },
  {
   "cell_type": "markdown",
   "id": "3b2ce567-d8fb-41d9-8cac-f61e04741f99",
   "metadata": {},
   "source": [
    "# define a general segmentation framework for macroph and edit params for other cell"
   ]
  },
  {
   "cell_type": "code",
   "execution_count": 26,
   "id": "e3ed329d-6793-4a23-80ab-90f04e9d4992",
   "metadata": {},
   "outputs": [],
   "source": [
    "from tqdm.auto import tqdm\n",
    "from cellpose import models\n",
    "from skimage.morphology import remove_small_objects\n",
    "import numpy as np\n",
    "import btrack\n",
    "\n",
    "def segment_channel(segmentation_channel, diameter=60, flow_threshold=0.99, channels=[0,0], cellprob_threshold=-2, min_mask_size=500, return_diams=False, start_point=None, end_point=None):\n",
    "    \"\"\"\n",
    "    Segments a specified channel of an image using Cellpose and optionally returns the average diameter of segments.\n",
    "\n",
    "    Args:\n",
    "    - segmentation_channel (ndarray): 3D array of the target channel where the 3rd dimension represents the Z-stack.\n",
    "    - diameter (int, optional): Average cell diameter for Cellpose. Default is 60.\n",
    "    - flow_threshold (float, optional): Threshold for flow in Cellpose. Default is 0.99.\n",
    "    - channels (list, optional): Channel input for Cellpose. Default is [0,0].\n",
    "    - cellprob_threshold (float, optional): Cell probability threshold for Cellpose. Default is -2.\n",
    "    - min_mask_size (int, optional): Minimum size of objects to keep in the segmented mask. Default is 500.\n",
    "    - return_diams (bool, optional): If set to True, the function will also return the average diameter of segments.\n",
    "    - start_point (int, optional): Starting point for segmentation frames. Default is None.\n",
    "    - end_point (int, optional): Ending point for segmentation frames. Default is None.\n",
    "\n",
    "    Returns:\n",
    "    - ndarray: 3D mask array with the same shape as the input, where segmented regions are labeled.\n",
    "    - float (optional): Average diameter of segments if return_diams is True.\n",
    "    \"\"\"\n",
    "\n",
    "    if start_point is None or end_point is None:\n",
    "        # Calculate intensities for each frame in Z-stack\n",
    "        intensities = [np.sum(frame) for frame in tqdm(segmentation_channel, desc='finding where segmentation channel is expressed in Z')]\n",
    "\n",
    "        # Estimate the background level\n",
    "        background_level = np.min(intensities)\n",
    "        threshold = background_level + ((np.max(intensities)-np.min(intensities))*0.50)\n",
    "\n",
    "        if start_point is None:\n",
    "            # Find the points where the curve starts to deviate from the background\n",
    "            start_point = np.argmax(intensities > threshold)\n",
    "\n",
    "        if end_point is None:\n",
    "            end_point = len(intensities) - np.argmax(intensities[::-1] > threshold) - 1\n",
    "\n",
    "    # Initialize output mask array\n",
    "    mask_array = np.zeros_like(segmentation_channel)\n",
    "\n",
    "    # Initialize the model\n",
    "    model = models.Cellpose(model_type='cyto')\n",
    "    \n",
    "    # List to store diameters if return_diams is True\n",
    "    diams = []\n",
    "\n",
    "    # Segment over selected frames\n",
    "    for n, frame in tqdm(enumerate(segmentation_channel[start_point:end_point]), total=end_point-start_point, desc='segmenting over select frames'):\n",
    "        n += start_point\n",
    "        masks, _, _, diam = model.eval(frame, diameter=diameter, flow_threshold=flow_threshold, channels=channels, cellprob_threshold=cellprob_threshold)\n",
    "        masks = remove_small_objects(masks, min_size=min_mask_size)\n",
    "        mask_array[n] = masks\n",
    "        diams.append(diam)\n",
    "\n",
    "    if return_diams:\n",
    "        return mask_array, diams\n",
    "    else:\n",
    "        return mask_array\n"
   ]
  },
  {
   "cell_type": "code",
   "execution_count": 27,
   "id": "2b6e699a-fedb-45c2-8412-5b4f63a4da19",
   "metadata": {},
   "outputs": [],
   "source": [
    "props = ('axis_major_length', # first define some cell properties \n",
    "         'axis_minor_length', # this helps improve the tracking\n",
    "         'eccentricity',      # by comparing similarities between slices/frames\n",
    "         'area', \n",
    "         'orientation',\n",
    "         'mean_intensity', \n",
    "        )"
   ]
  },
  {
   "cell_type": "code",
   "execution_count": null,
   "id": "2bd60c17-8f6b-4654-819f-0bf691465d58",
   "metadata": {},
   "outputs": [],
   "source": [
    "/run/user/30046150/gvfs/smb-share:server=data2.thecrick.org,share=lab-gutierrezm/home/shared/Lung on Chip/homuncu_loc_image_analysis/iAT1_iAT2_experiments/DAPI_NKX21_PDPN_ZO1/images\t20230801_20X_23-03-011B5_DAPI_NKX2-1_PDPN_ZO-1_Multichannel Z-Stack_20230801_1435\n",
    "/run/user/30046150/gvfs/smb-share:server=data2.thecrick.org,share=lab-gutierrezm/home/shared/Lung on Chip/homuncu_loc_image_analysis/iAT1_iAT2_experiments/DAPI_NKX21_PDPN_ZO1/images\t20230801_20X_23-03-011B5_DAPI_NKX2-1_PDPN_ZO-1_Multichannel Z-Stack_20230801_1436\n",
    "/run/user/30046150/gvfs/smb-share:server=data2.thecrick.org,share=lab-gutierrezm/home/shared/Lung on Chip/homuncu_loc_image_analysis/iAT1_iAT2_experiments/DAPI_SPC_PDPN_ZO1/images\t20230801_20X_23-03-011B6_DAPI_SP-C_PDPN_ZO-1_Multichannel Z-Stack_20230801_1438\n",
    "/run/user/30046150/gvfs/smb-share:server=data2.thecrick.org,share=lab-gutierrezm/home/shared/Lung on Chip/homuncu_loc_image_analysis/iAT1_iAT2_experiments/DAPI_SPC_PDPN_ZO1/images\t20230801_20X_23-03-011B6_DAPI_SP-C_PDPN_ZO-1_Multichannel Z-Stack_20230801_1439\n",
    "/run/user/30046150/gvfs/smb-share:server=data2.thecrick.org,share=lab-gutierrezm/home/shared/Lung on Chip/homuncu_loc_image_analysis/iAT1_iAT2_experiments/DAPI_SPC_PDPN_ZO1/images\t20230801_20X_23-03-011B6_DAPI_SP-C_PDPN_ZO-1_Multichannel Z-Stack_20230801_1440\n",
    "/run/user/30046150/gvfs/smb-share:server=data2.thecrick.org,share=lab-gutierrezm/home/shared/Lung on Chip/homuncu_loc_image_analysis/iAT1_iAT2_experiments/DAPI_NKX21_PDPN_ZO1/images\t20230801_20X_23-03-002A5_DAPI_NKX201_PDPN_ZO-1_Multichannel Z-Stack_20230801_1442\n",
    "/run/user/30046150/gvfs/smb-share:server=data2.thecrick.org,share=lab-gutierrezm/home/shared/Lung on Chip/homuncu_loc_image_analysis/iAT1_iAT2_experiments/DAPI_NKX21_PDPN_ZO1/images\t20230801_20X_23-03-002A5_DAPI_NKX201_PDPN_ZO-1_Multichannel Z-Stack_20230801_1443\n",
    "/run/user/30046150/gvfs/smb-share:server=data2.thecrick.org,share=lab-gutierrezm/home/shared/Lung on Chip/homuncu_loc_image_analysis/iAT1_iAT2_experiments/DAPI_SPC_PDPN_ZO1/images\t20230801_20X_23-03-002A6_DAPI_SP-C_PDPN_ZO-1_Multichannel Z-Stack_20230801_1445\n",
    "/run/user/30046150/gvfs/smb-share:server=data2.thecrick.org,share=lab-gutierrezm/home/shared/Lung on Chip/homuncu_loc_image_analysis/iAT1_iAT2_experiments/DAPI_NKX21_PDPN_ZO1/images\t20230801_20X_23-03-002B5_DAPI_NKX2-1_PDPN_ZO-1_Multichannel Z-Stack_20230801_1446\n",
    "/run/user/30046150/gvfs/smb-share:server=data2.thecrick.org,share=lab-gutierrezm/home/shared/Lung on Chip/homuncu_loc_image_analysis/iAT1_iAT2_experiments/DAPI_NKX21_PDPN_ZO1/images\t20230801_20X_23-03-002B5_DAPI_NKX2-1_PDPN_ZO-1_Multichannel Z-Stack_20230801_1447\n",
    "/run/user/30046150/gvfs/smb-share:server=data2.thecrick.org,share=lab-gutierrezm/home/shared/Lung on Chip/homuncu_loc_image_analysis/iAT1_iAT2_experiments/DAPI_NKX21_PDPN_ZO1/images\t20230801_20X_23-03-002B5_DAPI_NKX2-1_PDPN_ZO-1_Multichannel Z-Stack_20230801_1448\n",
    "/run/user/30046150/gvfs/smb-share:server=data2.thecrick.org,share=lab-gutierrezm/home/shared/Lung on Chip/homuncu_loc_image_analysis/iAT1_iAT2_experiments/DAPI_SPC_PDPN_ZO1/images\t20230801_20X_23-03-002B6_DAPI_SP-C_PDPN_ZO-1_Multichannel Z-Stack_20230801_1449\n",
    "/run/user/30046150/gvfs/smb-share:server=data2.thecrick.org,share=lab-gutierrezm/home/shared/Lung on Chip/homuncu_loc_image_analysis/iAT1_iAT2_experiments/DAPI_SPC_PDPN_ZO1/images\t20230801_20X_23-03-002B6_DAPI_SP-C_PDPN_ZO-1_Multichannel Z-Stack_20230801_1450\n",
    "/run/user/30046150/gvfs/smb-share:server=data2.thecrick.org,share=lab-gutierrezm/home/shared/Lung on Chip/homuncu_loc_image_analysis/iAT1_iAT2_experiments/DAPI_SPC_PDPN_ZO1/images\t20230801_20X_23-03-002B6_DAPI_SP-C_PDPN_ZO-1_Multichannel Z-Stack_20230801_1451\n",
    "/run/user/30046150/gvfs/smb-share:server=data2.thecrick.org,share=lab-gutierrezm/home/shared/Lung on Chip/homuncu_loc_image_analysis/iAT1_iAT2_experiments/DAPI_SPC_PDPN_ZO1/images\t20230801_60X_23-03-002B6_DAPI_SP-C_PDPN_ZO-1_Multichannel Z-Stack_20230801_1452"
   ]
  },
  {
   "cell_type": "code",
   "execution_count": 6,
   "id": "075d89d6-b7a0-4699-a6a0-3d730c262adb",
   "metadata": {},
   "outputs": [],
   "source": [
    "basedir = '/run/user/30046150/gvfs/smb-share:server=data2.thecrick.org,share=lab-gutierrezm/home/shared/Lung on Chip/homuncu_loc_image_analysis/iAT1_iAT2_iVEC_macrophage_experiments/DAPI_ZO1_CD16_MTB/images'"
   ]
  },
  {
   "cell_type": "code",
   "execution_count": 12,
   "id": "38f4bd7f-f353-47c0-a1bb-1bd73cd4f5a7",
   "metadata": {},
   "outputs": [],
   "source": [
    "image_basenames = [\n",
    "    # \"20230705_40X_23-01-001B3_Multichannel Z-Stack_20230705_1298\",\n",
    "    # \"20230705_40X_23-01-001B3_Multichannel Z-Stack_20230705_1299\",\n",
    "    # \"20230705_40X_23-01-001B3_Multichannel Z-Stack_20230705_1300\",\n",
    "    # \"20230705_40X_23-01-005A3_Multichannel Z-Stack_20230705_1306\",\n",
    "    # \"20230705_40X_23-01-005A3_Multichannel Z-Stack_20230705_1307\",\n",
    "    # \"20230705_40X_23-01-005A3_Multichannel Z-Stack_20230705_1308\",\n",
    "    # \"20230705_40X_23-01-005A3_Multichannel Z-Stack_20230705_1309\",\n",
    "    # \"20230705_40X_23-01-005A3_Multichannel Z-Stack_20230705_1310\",\n",
    "    # \"20230705_40X_23-01-005A3_Multichannel Z-Stack_20230705_1311\",\n",
    "    # \"20230707_40X_23-01-001A3_Multichannel Z-Stack_20230707_1313\",\n",
    "    \"20230707_40X_23-01-001A3_Multichannel Z-Stack_20230707_1314\",\n",
    "    \"20230707_40X_23-01-001A3_Multichannel Z-Stack_20230707_1315\",\n",
    "    \"20230707_40X_23-01-001A3_Multichannel Z-Stack_20230707_1316\",\n",
    "    \"20230707_40X_23-01-001A3_Multichannel Z-Stack_20230707_1317\",\n",
    "    \"20230707_40X_23-01-001A3_Multichannel Z-Stack_20230707_1318\",\n",
    "    \"20230707_40X_23-01-001A3_Multichannel Z-Stack_20230707_1319\",\n",
    "    \"20230707_40X_23-01-001A3_Multichannel Z-Stack_20230707_1320\",\n",
    "    # \"20230707_40X_23-01-005A3_Multichannel Z-Stack_20230707_1324\",\n",
    "    # \"20230707_40X_23-01-005A3_Multichannel Z-Stack_20230707_1325\",\n",
    "    # \"20230714_20X_23-02-104A4_Multichannel Z-Stack_20230714_1340\",\n",
    "    # \"20230714_20X_23-02-104A4_Multichannel Z-Stack_20230714_1341\",\n",
    "    # \"20230714_20X_23-02-104A4_Multichannel Z-Stack_20230714_1342\",\n",
    "    # \"20230714_20X_23-02-104A4_Multichannel Z-Stack_20230714_1343\",\n",
    "    # \"20230714_20X_23-02-104A4_Multichannel Z-Stack_20230714_1344\",\n",
    "    # \"20230718_20X_23-02-104B2_Multichannel Z-Stack_20230718_1361\",\n",
    "    # \"20230718_20X_23-02-104B2_Multichannel Z-Stack_20230718_1362\",\n",
    "    # \"20230718_20X_23-02-104B2_Multichannel Z-Stack_20230718_1363\",\n",
    "    # \"20230718_20X_23-02-104B2_Multichannel Z-Stack_20230718_1364\",\n",
    "    # \"20230718_20X_23-02-104B2_Multichannel Z-Stack_20230718_1365\",\n",
    "    #    \"20230801_20X_23-03-001B4_DAPI_ZO-1_CD16_Mtb_Multichannel Z-Stack_20230801_1463\",\n",
    "    # \"20230801_20X_23-03-001B4_DAPI_ZO-1_CD16_Mtb_Multichannel Z-Stack_20230801_1464\",\n",
    "    # \"20230801_20X_23-03-001B4_DAPI_ZO-1_CD16_Mtb_Multichannel Z-Stack_20230801_1465\",\n",
    "    # \"20230801_20X_23-03-001B4_DAPI_ZO-1_CD16_Mtb_Multichannel Z-Stack_20230801_1467\",\n",
    "    # \"20230801_20X_23-03-001B2_DAPI_ZO-1_Ki67_Mtb_Multichannel Z-Stack_20230801_1482\",\n",
    "    # \"20230801_20X_23-03-001B2_DAPI_ZO-1_Ki67_Mtb_Multichannel Z-Stack_20230801_1483\",\n",
    "    # \"20230801_20X_23-03-001B2_DAPI_ZO-1_Ki67_Mtb_Multichannel Z-Stack_20230801_1484\",\n",
    "    # \"20230802_20X_23-03-001A4_DAPI_ZO-1_CD16_Mtb_Multichannel Z-Stack_20230802_1500\",\n",
    "    # \"20230802_20X_23-03-001A4_DAPI_ZO-1_CD16_Mtb_Multichannel Z-Stack_20230802_1501\",\n",
    "    # \"20230802_20X_23-03-001A1_DAPI_ZO-1_CD16_Mtb_Multichannel Z-Stack_20230802_1510\",\n",
    "    # \"20230802_20X_23-03-001A1_DAPI_ZO-1_CD16_Mtb_Multichannel Z-Stack_20230802_1511\",\n",
    "    # \"20230802_20X_23-03-001A1_DAPI_ZO-1_CD16_Mtb_Multichannel Z-Stack_20230802_1512\",\n",
    "    # \"20230802_20X_23-03-001A1_DAPI_ZO-1_CD16_Mtb_Multichannel Z-Stack_20230802_1513\",\n",
    "    # \"20230802_20X_23-03-001A1_DAPI_ZO-1_CD16_Mtb_Multichannel Z-Stack_20230802_1514\",\n",
    "    # \"20230801_20X_23-03-001B2_DAPI_ZO-1_Ki67_Mtb_Multichannel Z-Stack_20230801_1481\"\n",
    "]\n"
   ]
  },
  {
   "cell_type": "code",
   "execution_count": 13,
   "id": "99b9c3ab-a85a-4fb7-8022-f1f858490035",
   "metadata": {},
   "outputs": [],
   "source": [
    "image_fns = [os.path.join(basedir, fn+'.tif') for fn in image_basenames] "
   ]
  },
  {
   "cell_type": "markdown",
   "id": "16837dce-776b-4dab-bfd9-9b28087350d1",
   "metadata": {},
   "source": [
    "### Or just define different basename, path combinations"
   ]
  },
  {
   "cell_type": "code",
   "execution_count": 29,
   "id": "36c63097-1fd9-49ea-b9e5-4f6b31c708b1",
   "metadata": {},
   "outputs": [],
   "source": [
    "image_fns =[\n",
    "    \"/run/user/30046150/gvfs/smb-share:server=data2.thecrick.org,share=lab-gutierrezm/home/shared/Lung on Chip/homuncu_loc_image_analysis/iAT1_iAT2_experiments/DAPI_NKX21_PDPN_ZO1/images/20230801_20X_23-03-011B5_DAPI_NKX2-1_PDPN_ZO-1_Multichannel Z-Stack_20230801_1435\",\n",
    "    \"/run/user/30046150/gvfs/smb-share:server=data2.thecrick.org,share=lab-gutierrezm/home/shared/Lung on Chip/homuncu_loc_image_analysis/iAT1_iAT2_experiments/DAPI_NKX21_PDPN_ZO1/images/20230801_20X_23-03-011B5_DAPI_NKX2-1_PDPN_ZO-1_Multichannel Z-Stack_20230801_1436\",\n",
    "    \"/run/user/30046150/gvfs/smb-share:server=data2.thecrick.org,share=lab-gutierrezm/home/shared/Lung on Chip/homuncu_loc_image_analysis/iAT1_iAT2_experiments/DAPI_SPC_PDPN_ZO1/images/20230801_20X_23-03-011B6_DAPI_SP-C_PDPN_ZO-1_Multichannel Z-Stack_20230801_1438\",\n",
    "    \"/run/user/30046150/gvfs/smb-share:server=data2.thecrick.org,share=lab-gutierrezm/home/shared/Lung on Chip/homuncu_loc_image_analysis/iAT1_iAT2_experiments/DAPI_SPC_PDPN_ZO1/images/20230801_20X_23-03-011B6_DAPI_SP-C_PDPN_ZO-1_Multichannel Z-Stack_20230801_1439\",\n",
    "    \"/run/user/30046150/gvfs/smb-share:server=data2.thecrick.org,share=lab-gutierrezm/home/shared/Lung on Chip/homuncu_loc_image_analysis/iAT1_iAT2_experiments/DAPI_SPC_PDPN_ZO1/images/20230801_20X_23-03-011B6_DAPI_SP-C_PDPN_ZO-1_Multichannel Z-Stack_20230801_1440\",\n",
    "    \"/run/user/30046150/gvfs/smb-share:server=data2.thecrick.org,share=lab-gutierrezm/home/shared/Lung on Chip/homuncu_loc_image_analysis/iAT1_iAT2_experiments/DAPI_NKX21_PDPN_ZO1/images/20230801_20X_23-03-002A5_DAPI_NKX201_PDPN_ZO-1_Multichannel Z-Stack_20230801_1442\",\n",
    "    \"/run/user/30046150/gvfs/smb-share:server=data2.thecrick.org,share=lab-gutierrezm/home/shared/Lung on Chip/homuncu_loc_image_analysis/iAT1_iAT2_experiments/DAPI_NKX21_PDPN_ZO1/images/20230801_20X_23-03-002A5_DAPI_NKX201_PDPN_ZO-1_Multichannel Z-Stack_20230801_1443\",\n",
    "    \"/run/user/30046150/gvfs/smb-share:server=data2.thecrick.org,share=lab-gutierrezm/home/shared/Lung on Chip/homuncu_loc_image_analysis/iAT1_iAT2_experiments/DAPI_SPC_PDPN_ZO1/images/20230801_20X_23-03-002A6_DAPI_SP-C_PDPN_ZO-1_Multichannel Z-Stack_20230801_1445\",\n",
    "    \"/run/user/30046150/gvfs/smb-share:server=data2.thecrick.org,share=lab-gutierrezm/home/shared/Lung on Chip/homuncu_loc_image_analysis/iAT1_iAT2_experiments/DAPI_NKX21_PDPN_ZO1/images/20230801_20X_23-03-002B5_DAPI_NKX2-1_PDPN_ZO-1_Multichannel Z-Stack_20230801_1446\",\n",
    "    \"/run/user/30046150/gvfs/smb-share:server=data2.thecrick.org,share=lab-gutierrezm/home/shared/Lung on Chip/homuncu_loc_image_analysis/iAT1_iAT2_experiments/DAPI_NKX21_PDPN_ZO1/images/20230801_20X_23-03-002B5_DAPI_NKX2-1_PDPN_ZO-1_Multichannel Z-Stack_20230801_1447\",\n",
    "    \"/run/user/30046150/gvfs/smb-share:server=data2.thecrick.org,share=lab-gutierrezm/home/shared/Lung on Chip/homuncu_loc_image_analysis/iAT1_iAT2_experiments/DAPI_NKX21_PDPN_ZO1/images/20230801_20X_23-03-002B5_DAPI_NKX2-1_PDPN_ZO-1_Multichannel Z-Stack_20230801_1448\",\n",
    "    \"/run/user/30046150/gvfs/smb-share:server=data2.thecrick.org,share=lab-gutierrezm/home/shared/Lung on Chip/homuncu_loc_image_analysis/iAT1_iAT2_experiments/DAPI_SPC_PDPN_ZO1/images/20230801_20X_23-03-002B6_DAPI_SP-C_PDPN_ZO-1_Multichannel Z-Stack_20230801_1449\",\n",
    "    \"/run/user/30046150/gvfs/smb-share:server=data2.thecrick.org,share=lab-gutierrezm/home/shared/Lung on Chip/homuncu_loc_image_analysis/iAT1_iAT2_experiments/DAPI_SPC_PDPN_ZO1/images/20230801_20X_23-03-002B6_DAPI_SP-C_PDPN_ZO-1_Multichannel Z-Stack_20230801_1450\",\n",
    "    \"/run/user/30046150/gvfs/smb-share:server=data2.thecrick.org,share=lab-gutierrezm/home/shared/Lung on Chip/homuncu_loc_image_analysis/iAT1_iAT2_experiments/DAPI_SPC_PDPN_ZO1/images/20230801_20X_23-03-002B6_DAPI_SP-C_PDPN_ZO-1_Multichannel Z-Stack_20230801_1451\",\n",
    "    \"/run/user/30046150/gvfs/smb-share:server=data2.thecrick.org,share=lab-gutierrezm/home/shared/Lung on Chip/homuncu_loc_image_analysis/iAT1_iAT2_experiments/DAPI_SPC_PDPN_ZO1/images/20230801_60X_23-03-002B6_DAPI_SP-C_PDPN_ZO-1_Multichannel Z-Stack_20230801_1452\"\n",
    "]\n"
   ]
  },
  {
   "cell_type": "code",
   "execution_count": 33,
   "id": "1085465c-5771-4148-895c-d9167b57677e",
   "metadata": {},
   "outputs": [],
   "source": [
    "image_fns = [f'{fn}.tif' for fn in image_fns]"
   ]
  },
  {
   "cell_type": "code",
   "execution_count": 34,
   "id": "7d75fcf8-d7fe-426b-a202-9b9df581c642",
   "metadata": {},
   "outputs": [],
   "source": [
    "from macrohet.notify import send_sms"
   ]
  },
  {
   "cell_type": "code",
   "execution_count": 35,
   "id": "d9e89ba2-65ca-415c-ab3e-781afe2a5dc0",
   "metadata": {
    "scrolled": true
   },
   "outputs": [
    {
     "data": {
      "application/vnd.jupyter.widget-view+json": {
       "model_id": "8d906e7c940b4fb8b9a4ce68ad1241ee",
       "version_major": 2,
       "version_minor": 0
      },
      "text/plain": [
       "iterating over image volumes:   0%|          | 0/15 [00:00<?, ?it/s]"
      ]
     },
     "metadata": {},
     "output_type": "display_data"
    },
    {
     "data": {
      "application/vnd.jupyter.widget-view+json": {
       "model_id": "159255de4a754b9ca1f12aa733bbb361",
       "version_major": 2,
       "version_minor": 0
      },
      "text/plain": [
       "finding where segmentation channel is expressed in Z:   0%|          | 0/61 [00:00<?, ?it/s]"
      ]
     },
     "metadata": {},
     "output_type": "display_data"
    },
    {
     "data": {
      "application/vnd.jupyter.widget-view+json": {
       "model_id": "40144e09d9344db5b9d492289fc831b7",
       "version_major": 2,
       "version_minor": 0
      },
      "text/plain": [
       "segmenting over select frames:   0%|          | 0/39 [00:00<?, ?it/s]"
      ]
     },
     "metadata": {},
     "output_type": "display_data"
    },
    {
     "name": "stderr",
     "output_type": "stream",
     "text": [
      "[INFO][2023/10/06 02:02:36 PM] Localizing objects from segmentation...\n"
     ]
    },
    {
     "name": "stdout",
     "output_type": "stream",
     "text": [
      "Update sms failed to send\n"
     ]
    },
    {
     "name": "stderr",
     "output_type": "stream",
     "text": [
      "progress: 100%|███████████████████████████████████████████████████████████████████████████████████████████████████████████████████████████████████████████| 61/61 [00:21<00:00,  2.81it/s]\n",
      "[INFO][2023/10/06 02:02:58 PM] Objects are of type: <class 'dict'>\n",
      "[INFO][2023/10/06 02:02:59 PM] ...Found 39405 objects in 60 frames.\n"
     ]
    },
    {
     "data": {
      "application/vnd.jupyter.widget-view+json": {
       "model_id": "8c787ae3ada74351b8fb47479b6f3b3d",
       "version_major": 2,
       "version_minor": 0
      },
      "text/plain": [
       "Measuring Mtb properties of each cell:   0%|          | 0/39405 [00:00<?, ?it/s]"
      ]
     },
     "metadata": {},
     "output_type": "display_data"
    },
    {
     "name": "stderr",
     "output_type": "stream",
     "text": [
      "[INFO][2023/10/06 02:13:27 PM] Loaded btrack: /home/dayn/analysis/btrack/btrack/libs/libtracker.so\n",
      "[INFO][2023/10/06 02:13:27 PM] Starting BayesianTracker session\n",
      "[INFO][2023/10/06 02:13:28 PM] Loading configuration file: /home/dayn/analysis/models/loc.json\n",
      "[INFO][2023/10/06 02:13:28 PM] Objects are of type: <class 'list'>\n",
      "[INFO][2023/10/06 02:13:28 PM] Starting tracking... \n",
      "[INFO][2023/10/06 02:13:28 PM] Update using: ['MOTION', 'VISUAL']\n",
      "[INFO][2023/10/06 02:13:29 PM] Tracking objects in frames 0 to 9 (of 60)...\n",
      "[INFO][2023/10/06 02:13:43 PM]  - Timing (Bayesian updates: 719.95ms, Linking: 11.67ms)\n",
      "[INFO][2023/10/06 02:13:43 PM]  - Probabilities (Link: 1.00000, Lost: 0.99999)\n",
      "[INFO][2023/10/06 02:13:43 PM]  - Stats (Active: 1362, Lost: 266, Conflicts resolved: 1313)\n",
      "[INFO][2023/10/06 02:13:43 PM] Tracking objects in frames 10 to 19 (of 60)...\n",
      "[INFO][2023/10/06 02:14:02 PM]  - Timing (Bayesian updates: 574.02ms, Linking: 10.20ms)\n",
      "[INFO][2023/10/06 02:14:02 PM]  - Probabilities (Link: 1.00000, Lost: 1.00000)\n",
      "[INFO][2023/10/06 02:14:02 PM]  - Stats (Active: 1434, Lost: 1207, Conflicts resolved: 3598)\n",
      "[INFO][2023/10/06 02:14:02 PM] Tracking objects in frames 20 to 29 (of 60)...\n",
      "[INFO][2023/10/06 02:14:15 PM]  - Timing (Bayesian updates: 426.02ms, Linking: 10.44ms)\n",
      "[INFO][2023/10/06 02:14:15 PM]  - Probabilities (Link: 1.00000, Lost: 0.54223)\n",
      "[INFO][2023/10/06 02:14:15 PM]  - Stats (Active: 1253, Lost: 2545, Conflicts resolved: 5570)\n",
      "[INFO][2023/10/06 02:14:15 PM] Tracking objects in frames 30 to 39 (of 60)...\n",
      "[INFO][2023/10/06 02:14:21 PM]  - Timing (Bayesian updates: 288.00ms, Linking: 7.80ms)\n",
      "[INFO][2023/10/06 02:14:21 PM]  - Probabilities (Link: 1.00000, Lost: 1.00000)\n",
      "[INFO][2023/10/06 02:14:21 PM] SUCCESS.\n",
      "[INFO][2023/10/06 02:14:21 PM]  - Found 3289 tracks in 60 frames (in 0.0s)\n",
      "[INFO][2023/10/06 02:14:21 PM]  - Inserted 1916 dummy objects to fill tracking gaps\n",
      "[INFO][2023/10/06 02:14:21 PM] Loading hypothesis model: particle_hypothesis\n",
      "[INFO][2023/10/06 02:14:21 PM] Calculating hypotheses (relax: True)...\n",
      "[INFO][2023/10/06 02:14:21 PM] Setting up constraints matrix for global optimisation...\n",
      "[INFO][2023/10/06 02:14:21 PM] Using GLPK options: {'tm_lim': 60000}...\n",
      "[INFO][2023/10/06 02:14:22 PM] Optimizing...\n",
      "[INFO][2023/10/06 02:14:22 PM] Optimization complete. (Solution: optimal)\n",
      "[INFO][2023/10/06 02:14:22 PM]  - Fates.FALSE_POSITIVE: 1000 (of 3289)\n",
      "[INFO][2023/10/06 02:14:22 PM]  - Fates.LINK: 37 (of 65)\n",
      "[INFO][2023/10/06 02:14:22 PM]  - Fates.INITIALIZE_BORDER: 62 (of 77)\n",
      "[INFO][2023/10/06 02:14:22 PM]  - Fates.INITIALIZE_LAZY: 2190 (of 3212)\n",
      "[INFO][2023/10/06 02:14:22 PM]  - Fates.TERMINATE_BORDER: 44 (of 57)\n",
      "[INFO][2023/10/06 02:14:22 PM]  - Fates.TERMINATE_BACK: 896 (of 1030)\n",
      "[INFO][2023/10/06 02:14:22 PM]  - Fates.TERMINATE_LAZY: 1312 (of 2202)\n",
      "[INFO][2023/10/06 02:14:22 PM]  - TOTAL: 9932 hypotheses\n",
      "[INFO][2023/10/06 02:14:22 PM] Completed optimization with 3252 tracks\n"
     ]
    },
    {
     "name": "stdout",
     "output_type": "stream",
     "text": [
      "GLPK Integer Optimizer 5.0\n",
      "13156 rows, 9932 columns, 13286 non-zeros\n",
      "9932 integer variables, all of which are binary\n",
      "Preprocessing...\n",
      "6578 rows, 9932 columns, 13286 non-zeros\n",
      "9932 integer variables, all of which are binary\n",
      "Scaling...\n",
      " A: min|aij| =  1.000e+00  max|aij| =  1.000e+00  ratio =  1.000e+00\n",
      "Problem data seem to be well scaled\n",
      "Constructing initial basis...\n",
      "Size of triangular part is 6578\n",
      "Solving LP relaxation...\n",
      "GLPK Simplex Optimizer 5.0\n",
      "6578 rows, 9932 columns, 13286 non-zeros\n",
      "*     0: obj =   3.673996910e+04 inf =   0.000e+00 (1111)\n",
      "*  1135: obj =   2.865477389e+04 inf =   0.000e+00 (0)\n",
      "OPTIMAL LP SOLUTION FOUND\n",
      "Integer optimization begins...\n",
      "Long-step dual simplex will be used\n",
      "+  1135: mip =     not found yet >=              -inf        (1; 0)\n",
      "+  1135: >>>>>   2.865477389e+04 >=   2.865477389e+04   0.0% (1; 0)\n",
      "+  1135: mip =   2.865477389e+04 >=     tree is empty   0.0% (0; 1)\n",
      "INTEGER OPTIMAL SOLUTION FOUND\n"
     ]
    },
    {
     "name": "stderr",
     "output_type": "stream",
     "text": [
      "[INFO][2023/10/06 02:14:22 PM] Ending BayesianTracker session\n",
      "[INFO][2023/10/06 02:14:22 PM] Opening HDF file: /home/dayn/data/homuncu_loc_temp/seperate_tracks/iAT1_iAT2_experiments/DAPI_NKX21_PDPN_ZO1/sc_analyses/20230801_20X_23-03-011B5_DAPI_NKX2-1_PDPN_ZO-1_Multichannel Z-Stack_20230801_1435_iat2.h5...\n",
      "[INFO][2023/10/06 02:14:23 PM] Writing objects/obj_type_2\n",
      "[INFO][2023/10/06 02:14:23 PM] Writing labels/obj_type_2\n",
      "[INFO][2023/10/06 02:14:23 PM] Loading objects/obj_type_2 (35879, 5) (35879 filtered: None)\n",
      "[INFO][2023/10/06 02:14:23 PM] Writing properties/obj_type_2/axis_major_length (35879,)\n",
      "[INFO][2023/10/06 02:14:23 PM] Writing properties/obj_type_2/axis_minor_length (35879,)\n",
      "[INFO][2023/10/06 02:14:23 PM] Writing properties/obj_type_2/eccentricity (35879,)\n",
      "[INFO][2023/10/06 02:14:23 PM] Writing properties/obj_type_2/area (35879,)\n",
      "[INFO][2023/10/06 02:14:23 PM] Writing properties/obj_type_2/orientation (35879,)\n",
      "[INFO][2023/10/06 02:14:23 PM] Writing properties/obj_type_2/mean_intensity (35879, 4)\n",
      "[INFO][2023/10/06 02:14:24 PM] Writing properties/obj_type_2/class_id (35879,)\n",
      "[INFO][2023/10/06 02:14:24 PM] Writing properties/obj_type_2/mtb_status (35879,)\n",
      "[INFO][2023/10/06 02:14:24 PM] Writing properties/obj_type_2/mtb_area (35879,)\n",
      "[INFO][2023/10/06 02:14:24 PM] Writing tracks/obj_type_2\n",
      "[INFO][2023/10/06 02:14:24 PM] Writing dummies/obj_type_2\n",
      "[INFO][2023/10/06 02:14:24 PM] Writing LBEP/obj_type_2\n",
      "[INFO][2023/10/06 02:14:24 PM] Writing fates/obj_type_2\n",
      "[INFO][2023/10/06 02:14:27 PM] Closing HDF file: /home/dayn/data/homuncu_loc_temp/seperate_tracks/iAT1_iAT2_experiments/DAPI_NKX21_PDPN_ZO1/sc_analyses/20230801_20X_23-03-011B5_DAPI_NKX2-1_PDPN_ZO-1_Multichannel Z-Stack_20230801_1435_iat2.h5\n"
     ]
    },
    {
     "data": {
      "application/vnd.jupyter.widget-view+json": {
       "model_id": "41ae0f71697c40c681bdd8c883268920",
       "version_major": 2,
       "version_minor": 0
      },
      "text/plain": [
       "finding where segmentation channel is expressed in Z:   0%|          | 0/61 [00:00<?, ?it/s]"
      ]
     },
     "metadata": {},
     "output_type": "display_data"
    },
    {
     "data": {
      "application/vnd.jupyter.widget-view+json": {
       "model_id": "9cf2822cbeee40338359c616b180f179",
       "version_major": 2,
       "version_minor": 0
      },
      "text/plain": [
       "segmenting over select frames:   0%|          | 0/46 [00:00<?, ?it/s]"
      ]
     },
     "metadata": {},
     "output_type": "display_data"
    },
    {
     "name": "stderr",
     "output_type": "stream",
     "text": [
      "[INFO][2023/10/06 03:16:15 PM] Localizing objects from segmentation...\n"
     ]
    },
    {
     "name": "stdout",
     "output_type": "stream",
     "text": [
      "Update sms failed to send\n"
     ]
    },
    {
     "name": "stderr",
     "output_type": "stream",
     "text": [
      "progress: 100%|███████████████████████████████████████████████████████████████████████████████████████████████████████████████████████████████████████████| 61/61 [00:23<00:00,  2.57it/s]\n",
      "[INFO][2023/10/06 03:16:39 PM] Objects are of type: <class 'dict'>\n",
      "[INFO][2023/10/06 03:16:39 PM] ...Found 47273 objects in 60 frames.\n"
     ]
    },
    {
     "data": {
      "application/vnd.jupyter.widget-view+json": {
       "model_id": "77886f6da7914f4abf0d8cee437b2607",
       "version_major": 2,
       "version_minor": 0
      },
      "text/plain": [
       "Measuring Mtb properties of each cell:   0%|          | 0/47273 [00:00<?, ?it/s]"
      ]
     },
     "metadata": {},
     "output_type": "display_data"
    },
    {
     "name": "stderr",
     "output_type": "stream",
     "text": [
      "[INFO][2023/10/06 03:27:29 PM] Loaded btrack: /home/dayn/analysis/btrack/btrack/libs/libtracker.so\n",
      "[INFO][2023/10/06 03:27:29 PM] Starting BayesianTracker session\n",
      "[INFO][2023/10/06 03:27:29 PM] Loading configuration file: /home/dayn/analysis/models/loc.json\n",
      "[INFO][2023/10/06 03:27:29 PM] Objects are of type: <class 'list'>\n",
      "[INFO][2023/10/06 03:27:31 PM] Starting tracking... \n",
      "[INFO][2023/10/06 03:27:31 PM] Update using: ['MOTION', 'VISUAL']\n",
      "[INFO][2023/10/06 03:27:32 PM] Tracking objects in frames 0 to 9 (of 60)...\n",
      "[INFO][2023/10/06 03:27:50 PM]  - Timing (Bayesian updates: 1030.40ms, Linking: 12.56ms)\n",
      "[INFO][2023/10/06 03:27:50 PM]  - Probabilities (Link: 1.00000, Lost: 0.99734)\n",
      "[INFO][2023/10/06 03:27:50 PM]  - Stats (Active: 1608, Lost: 207, Conflicts resolved: 1491)\n",
      "[INFO][2023/10/06 03:27:50 PM] Tracking objects in frames 10 to 19 (of 60)...\n",
      "[INFO][2023/10/06 03:28:16 PM]  - Timing (Bayesian updates: 771.49ms, Linking: 12.86ms)\n",
      "[INFO][2023/10/06 03:28:16 PM]  - Probabilities (Link: 1.00000, Lost: 1.00000)\n",
      "[INFO][2023/10/06 03:28:16 PM]  - Stats (Active: 1661, Lost: 1055, Conflicts resolved: 4312)\n",
      "[INFO][2023/10/06 03:28:16 PM] Tracking objects in frames 20 to 29 (of 60)...\n",
      "[INFO][2023/10/06 03:28:29 PM]  - Timing (Bayesian updates: 325.37ms, Linking: 7.57ms)\n",
      "[INFO][2023/10/06 03:28:29 PM]  - Probabilities (Link: 1.00000, Lost: 0.97459)\n",
      "[INFO][2023/10/06 03:28:29 PM]  - Stats (Active: 1264, Lost: 2642, Conflicts resolved: 6664)\n",
      "[INFO][2023/10/06 03:28:29 PM] Tracking objects in frames 30 to 39 (of 60)...\n",
      "[INFO][2023/10/06 03:28:36 PM]  - Timing (Bayesian updates: 256.00ms, Linking: 5.71ms)\n",
      "[INFO][2023/10/06 03:28:36 PM]  - Probabilities (Link: 1.00000, Lost: 1.00000)\n",
      "[INFO][2023/10/06 03:28:36 PM]  - Stats (Active: 1007, Lost: 3899, Conflicts resolved: 8325)\n",
      "[INFO][2023/10/06 03:28:36 PM] Tracking objects in frames 40 to 49 (of 60)...\n",
      "[INFO][2023/10/06 03:28:38 PM]  - Timing (Bayesian updates: 174.58ms, Linking: 5.79ms)\n",
      "[INFO][2023/10/06 03:28:38 PM]  - Probabilities (Link: 1.00000, Lost: 0.99996)\n",
      "[INFO][2023/10/06 03:28:38 PM] SUCCESS.\n",
      "[INFO][2023/10/06 03:28:38 PM]  - Found 3894 tracks in 60 frames (in 0.0s)\n",
      "[INFO][2023/10/06 03:28:38 PM]  - Inserted 2296 dummy objects to fill tracking gaps\n",
      "[INFO][2023/10/06 03:28:38 PM] Loading hypothesis model: particle_hypothesis\n",
      "[INFO][2023/10/06 03:28:38 PM] Calculating hypotheses (relax: True)...\n",
      "[INFO][2023/10/06 03:28:38 PM] Setting up constraints matrix for global optimisation...\n",
      "[INFO][2023/10/06 03:28:38 PM] Using GLPK options: {'tm_lim': 60000}...\n",
      "[INFO][2023/10/06 03:28:38 PM] Optimizing...\n",
      "[INFO][2023/10/06 03:28:38 PM] Optimization complete. (Solution: optimal)\n",
      "[INFO][2023/10/06 03:28:38 PM]  - Fates.FALSE_POSITIVE: 1200 (of 3894)\n",
      "[INFO][2023/10/06 03:28:38 PM]  - Fates.LINK: 35 (of 60)\n",
      "[INFO][2023/10/06 03:28:38 PM]  - Fates.INITIALIZE_BORDER: 93 (of 117)\n",
      "[INFO][2023/10/06 03:28:38 PM]  - Fates.INITIALIZE_LAZY: 2566 (of 3777)\n",
      "[INFO][2023/10/06 03:28:38 PM]  - Fates.TERMINATE_BORDER: 78 (of 96)\n",
      "[INFO][2023/10/06 03:28:38 PM]  - Fates.TERMINATE_BACK: 745 (of 866)\n",
      "[INFO][2023/10/06 03:28:38 PM]  - Fates.TERMINATE_LAZY: 1836 (of 2932)\n",
      "[INFO][2023/10/06 03:28:38 PM]  - TOTAL: 11742 hypotheses\n",
      "[INFO][2023/10/06 03:28:39 PM] Completed optimization with 3859 tracks\n"
     ]
    },
    {
     "name": "stdout",
     "output_type": "stream",
     "text": [
      "GLPK Integer Optimizer 5.0\n",
      "15576 rows, 11742 columns, 15696 non-zeros\n",
      "11742 integer variables, all of which are binary\n",
      "Preprocessing...\n",
      "7788 rows, 11742 columns, 15696 non-zeros\n",
      "11742 integer variables, all of which are binary\n",
      "Scaling...\n",
      " A: min|aij| =  1.000e+00  max|aij| =  1.000e+00  ratio =  1.000e+00\n",
      "Problem data seem to be well scaled\n",
      "Constructing initial basis...\n",
      "Size of triangular part is 7788\n",
      "Solving LP relaxation...\n",
      "GLPK Simplex Optimizer 5.0\n",
      "7788 rows, 11742 columns, 15696 non-zeros\n",
      "*     0: obj =   4.567966876e+04 inf =   0.000e+00 (1297)\n",
      "*  1321: obj =   3.600837537e+04 inf =   0.000e+00 (0)\n",
      "OPTIMAL LP SOLUTION FOUND\n",
      "Integer optimization begins...\n",
      "Long-step dual simplex will be used\n",
      "+  1321: mip =     not found yet >=              -inf        (1; 0)\n",
      "+  1321: >>>>>   3.600837537e+04 >=   3.600837537e+04   0.0% (1; 0)\n",
      "+  1321: mip =   3.600837537e+04 >=     tree is empty   0.0% (0; 1)\n",
      "INTEGER OPTIMAL SOLUTION FOUND\n"
     ]
    },
    {
     "name": "stderr",
     "output_type": "stream",
     "text": [
      "[INFO][2023/10/06 03:28:39 PM] Ending BayesianTracker session\n",
      "[INFO][2023/10/06 03:28:39 PM] Opening HDF file: /home/dayn/data/homuncu_loc_temp/seperate_tracks/iAT1_iAT2_experiments/DAPI_NKX21_PDPN_ZO1/sc_analyses/20230801_20X_23-03-011B5_DAPI_NKX2-1_PDPN_ZO-1_Multichannel Z-Stack_20230801_1436_iat2.h5...\n",
      "[INFO][2023/10/06 03:28:39 PM] Writing objects/obj_type_2\n",
      "[INFO][2023/10/06 03:28:39 PM] Writing labels/obj_type_2\n",
      "[INFO][2023/10/06 03:28:39 PM] Loading objects/obj_type_2 (42826, 5) (42826 filtered: None)\n",
      "[INFO][2023/10/06 03:28:40 PM] Writing properties/obj_type_2/axis_major_length (42826,)\n",
      "[INFO][2023/10/06 03:28:40 PM] Writing properties/obj_type_2/axis_minor_length (42826,)\n",
      "[INFO][2023/10/06 03:28:40 PM] Writing properties/obj_type_2/eccentricity (42826,)\n",
      "[INFO][2023/10/06 03:28:40 PM] Writing properties/obj_type_2/area (42826,)\n",
      "[INFO][2023/10/06 03:28:40 PM] Writing properties/obj_type_2/orientation (42826,)\n",
      "[INFO][2023/10/06 03:28:40 PM] Writing properties/obj_type_2/mean_intensity (42826, 4)\n",
      "[INFO][2023/10/06 03:28:40 PM] Writing properties/obj_type_2/class_id (42826,)\n",
      "[INFO][2023/10/06 03:28:40 PM] Writing properties/obj_type_2/mtb_status (42826,)\n",
      "[INFO][2023/10/06 03:28:40 PM] Writing properties/obj_type_2/mtb_area (42826,)\n",
      "[INFO][2023/10/06 03:28:40 PM] Writing tracks/obj_type_2\n",
      "[INFO][2023/10/06 03:28:40 PM] Writing dummies/obj_type_2\n",
      "[INFO][2023/10/06 03:28:40 PM] Writing LBEP/obj_type_2\n",
      "[INFO][2023/10/06 03:28:40 PM] Writing fates/obj_type_2\n",
      "[INFO][2023/10/06 03:28:43 PM] Closing HDF file: /home/dayn/data/homuncu_loc_temp/seperate_tracks/iAT1_iAT2_experiments/DAPI_NKX21_PDPN_ZO1/sc_analyses/20230801_20X_23-03-011B5_DAPI_NKX2-1_PDPN_ZO-1_Multichannel Z-Stack_20230801_1436_iat2.h5\n"
     ]
    },
    {
     "data": {
      "application/vnd.jupyter.widget-view+json": {
       "model_id": "976c05bc76164dd596ee6473df4adf18",
       "version_major": 2,
       "version_minor": 0
      },
      "text/plain": [
       "finding where segmentation channel is expressed in Z:   0%|          | 0/51 [00:00<?, ?it/s]"
      ]
     },
     "metadata": {},
     "output_type": "display_data"
    },
    {
     "data": {
      "application/vnd.jupyter.widget-view+json": {
       "model_id": "e45fe1a993384ead8c0f7a51ad68caec",
       "version_major": 2,
       "version_minor": 0
      },
      "text/plain": [
       "segmenting over select frames:   0%|          | 0/17 [00:00<?, ?it/s]"
      ]
     },
     "metadata": {},
     "output_type": "display_data"
    },
    {
     "name": "stderr",
     "output_type": "stream",
     "text": [
      "[INFO][2023/10/06 04:01:57 PM] Localizing objects from segmentation...\n"
     ]
    },
    {
     "name": "stdout",
     "output_type": "stream",
     "text": [
      "Update sms failed to send\n"
     ]
    },
    {
     "name": "stderr",
     "output_type": "stream",
     "text": [
      "progress: 100%|███████████████████████████████████████████████████████████████████████████████████████████████████████████████████████████████████████████| 51/51 [00:02<00:00, 22.23it/s]\n",
      "[INFO][2023/10/06 04:01:59 PM] Objects are of type: <class 'dict'>\n",
      "[INFO][2023/10/06 04:01:59 PM] ...Found 1395 objects in 35 frames.\n"
     ]
    },
    {
     "data": {
      "application/vnd.jupyter.widget-view+json": {
       "model_id": "723da64899204c1d892608be8dd7cd2b",
       "version_major": 2,
       "version_minor": 0
      },
      "text/plain": [
       "Measuring Mtb properties of each cell:   0%|          | 0/1395 [00:00<?, ?it/s]"
      ]
     },
     "metadata": {},
     "output_type": "display_data"
    },
    {
     "name": "stderr",
     "output_type": "stream",
     "text": [
      "[INFO][2023/10/06 04:02:19 PM] Loaded btrack: /home/dayn/analysis/btrack/btrack/libs/libtracker.so\n",
      "[INFO][2023/10/06 04:02:19 PM] Starting BayesianTracker session\n",
      "[INFO][2023/10/06 04:02:19 PM] Loading configuration file: /home/dayn/analysis/models/loc.json\n",
      "[INFO][2023/10/06 04:02:19 PM] Objects are of type: <class 'list'>\n",
      "[INFO][2023/10/06 04:02:19 PM] Starting tracking... \n",
      "[INFO][2023/10/06 04:02:19 PM] Update using: ['MOTION', 'VISUAL']\n",
      "[INFO][2023/10/06 04:02:19 PM] Tracking objects in frames 0 to 9 (of 35)...\n",
      "[INFO][2023/10/06 04:02:19 PM]  - Timing (Bayesian updates: 1.98ms, Linking: 2.48ms)\n",
      "[INFO][2023/10/06 04:02:19 PM]  - Probabilities (Link: 1.00000, Lost: 1.00000)\n",
      "[INFO][2023/10/06 04:02:19 PM]  - Stats (Active: 389, Lost: 1565, Conflicts resolved: 226)\n",
      "[INFO][2023/10/06 04:02:19 PM] Tracking objects in frames 10 to 19 (of 35)...\n",
      "[INFO][2023/10/06 04:02:19 PM]  - Timing (Bayesian updates: 0.10ms, Linking: 0.28ms)\n",
      "[INFO][2023/10/06 04:02:19 PM]  - Probabilities (Link: 1.00000, Lost: 1.00000)\n",
      "[INFO][2023/10/06 04:02:19 PM] SUCCESS.\n",
      "[INFO][2023/10/06 04:02:19 PM]  - Found 530 tracks in 35 frames (in 0.0s)\n",
      "[INFO][2023/10/06 04:02:19 PM]  - Inserted 112 dummy objects to fill tracking gaps\n",
      "[INFO][2023/10/06 04:02:19 PM] Loading hypothesis model: particle_hypothesis\n",
      "[INFO][2023/10/06 04:02:19 PM] Calculating hypotheses (relax: True)...\n",
      "[INFO][2023/10/06 04:02:19 PM] Setting up constraints matrix for global optimisation...\n",
      "[INFO][2023/10/06 04:02:19 PM] Using GLPK options: {'tm_lim': 60000}...\n",
      "[INFO][2023/10/06 04:02:19 PM] Optimizing...\n",
      "[INFO][2023/10/06 04:02:20 PM] Optimization complete. (Solution: optimal)\n",
      "[INFO][2023/10/06 04:02:20 PM]  - Fates.FALSE_POSITIVE: 486 (of 530)\n",
      "[INFO][2023/10/06 04:02:20 PM]  - Fates.LINK: 0 (of 1)\n",
      "[INFO][2023/10/06 04:02:20 PM]  - Fates.INITIALIZE_BORDER: 1 (of 10)\n",
      "[INFO][2023/10/06 04:02:20 PM]  - Fates.INITIALIZE_LAZY: 43 (of 520)\n",
      "[INFO][2023/10/06 04:02:20 PM]  - Fates.TERMINATE_BORDER: 1 (of 10)\n",
      "[INFO][2023/10/06 04:02:20 PM]  - Fates.TERMINATE_BACK: 10 (of 40)\n",
      "[INFO][2023/10/06 04:02:20 PM]  - Fates.TERMINATE_LAZY: 33 (of 480)\n",
      "[INFO][2023/10/06 04:02:20 PM]  - TOTAL: 1591 hypotheses\n",
      "[INFO][2023/10/06 04:02:20 PM] Completed optimization with 530 tracks\n"
     ]
    },
    {
     "name": "stdout",
     "output_type": "stream",
     "text": [
      "GLPK Integer Optimizer 5.0\n",
      "2120 rows, 1591 columns, 2122 non-zeros\n",
      "1591 integer variables, all of which are binary\n",
      "Preprocessing...\n",
      "1060 rows, 1591 columns, 2122 non-zeros\n",
      "1591 integer variables, all of which are binary\n",
      "Scaling...\n",
      " A: min|aij| =  1.000e+00  max|aij| =  1.000e+00  ratio =  1.000e+00\n",
      "Problem data seem to be well scaled\n",
      "Constructing initial basis...\n",
      "Size of triangular part is 1060\n",
      "Solving LP relaxation...\n",
      "GLPK Simplex Optimizer 5.0\n",
      "1060 rows, 1591 columns, 2122 non-zeros\n",
      "*     0: obj =   6.784104122e+03 inf =   0.000e+00 (487)\n",
      "*   488: obj =   2.583917071e+03 inf =   0.000e+00 (0)\n",
      "OPTIMAL LP SOLUTION FOUND\n",
      "Integer optimization begins...\n",
      "Long-step dual simplex will be used\n",
      "+   488: mip =     not found yet >=              -inf        (1; 0)\n",
      "+   488: >>>>>   2.583917071e+03 >=   2.583917071e+03   0.0% (1; 0)\n",
      "+   488: mip =   2.583917071e+03 >=     tree is empty   0.0% (0; 1)\n",
      "INTEGER OPTIMAL SOLUTION FOUND\n"
     ]
    },
    {
     "name": "stderr",
     "output_type": "stream",
     "text": [
      "[INFO][2023/10/06 04:02:20 PM] Ending BayesianTracker session\n",
      "[INFO][2023/10/06 04:02:20 PM] Opening HDF file: /home/dayn/data/homuncu_loc_temp/seperate_tracks/iAT1_iAT2_experiments/DAPI_SPC_PDPN_ZO1/sc_analyses/20230801_20X_23-03-011B6_DAPI_SP-C_PDPN_ZO-1_Multichannel Z-Stack_20230801_1438_iat2.h5...\n",
      "[INFO][2023/10/06 04:02:20 PM] Writing objects/obj_type_2\n",
      "[INFO][2023/10/06 04:02:20 PM] Writing labels/obj_type_2\n",
      "[INFO][2023/10/06 04:02:20 PM] Loading objects/obj_type_2 (1110, 5) (1110 filtered: None)\n",
      "[INFO][2023/10/06 04:02:20 PM] Writing properties/obj_type_2/axis_major_length (1110,)\n",
      "[INFO][2023/10/06 04:02:20 PM] Writing properties/obj_type_2/axis_minor_length (1110,)\n",
      "[INFO][2023/10/06 04:02:20 PM] Writing properties/obj_type_2/eccentricity (1110,)\n",
      "[INFO][2023/10/06 04:02:20 PM] Writing properties/obj_type_2/area (1110,)\n",
      "[INFO][2023/10/06 04:02:20 PM] Writing properties/obj_type_2/orientation (1110,)\n",
      "[INFO][2023/10/06 04:02:20 PM] Writing properties/obj_type_2/mean_intensity (1110, 4)\n",
      "[INFO][2023/10/06 04:02:20 PM] Writing properties/obj_type_2/class_id (1110,)\n",
      "[INFO][2023/10/06 04:02:20 PM] Writing properties/obj_type_2/mtb_status (1110,)\n",
      "[INFO][2023/10/06 04:02:20 PM] Writing properties/obj_type_2/mtb_area (1110,)\n",
      "[INFO][2023/10/06 04:02:20 PM] Writing tracks/obj_type_2\n",
      "[INFO][2023/10/06 04:02:20 PM] Writing dummies/obj_type_2\n",
      "[INFO][2023/10/06 04:02:20 PM] Writing LBEP/obj_type_2\n",
      "[INFO][2023/10/06 04:02:20 PM] Writing fates/obj_type_2\n",
      "[INFO][2023/10/06 04:02:22 PM] Closing HDF file: /home/dayn/data/homuncu_loc_temp/seperate_tracks/iAT1_iAT2_experiments/DAPI_SPC_PDPN_ZO1/sc_analyses/20230801_20X_23-03-011B6_DAPI_SP-C_PDPN_ZO-1_Multichannel Z-Stack_20230801_1438_iat2.h5\n"
     ]
    },
    {
     "data": {
      "application/vnd.jupyter.widget-view+json": {
       "model_id": "6b362942a6d94a299f1f3ecb15de9577",
       "version_major": 2,
       "version_minor": 0
      },
      "text/plain": [
       "finding where segmentation channel is expressed in Z:   0%|          | 0/51 [00:00<?, ?it/s]"
      ]
     },
     "metadata": {},
     "output_type": "display_data"
    },
    {
     "data": {
      "application/vnd.jupyter.widget-view+json": {
       "model_id": "4262206029b44de8882a41a3b2552890",
       "version_major": 2,
       "version_minor": 0
      },
      "text/plain": [
       "segmenting over select frames:   0%|          | 0/16 [00:00<?, ?it/s]"
      ]
     },
     "metadata": {},
     "output_type": "display_data"
    },
    {
     "name": "stderr",
     "output_type": "stream",
     "text": [
      "[INFO][2023/10/06 04:36:11 PM] Localizing objects from segmentation...\n"
     ]
    },
    {
     "name": "stdout",
     "output_type": "stream",
     "text": [
      "Update sms failed to send\n"
     ]
    },
    {
     "name": "stderr",
     "output_type": "stream",
     "text": [
      "progress: 100%|███████████████████████████████████████████████████████████████████████████████████████████████████████████████████████████████████████████| 51/51 [00:01<00:00, 27.93it/s]\n",
      "[INFO][2023/10/06 04:36:13 PM] Objects are of type: <class 'dict'>\n",
      "[INFO][2023/10/06 04:36:13 PM] ...Found 445 objects in 39 frames.\n"
     ]
    },
    {
     "data": {
      "application/vnd.jupyter.widget-view+json": {
       "model_id": "cd319d0043ef4ed183a4caab001a26ac",
       "version_major": 2,
       "version_minor": 0
      },
      "text/plain": [
       "Measuring Mtb properties of each cell:   0%|          | 0/445 [00:00<?, ?it/s]"
      ]
     },
     "metadata": {},
     "output_type": "display_data"
    },
    {
     "name": "stderr",
     "output_type": "stream",
     "text": [
      "[INFO][2023/10/06 04:36:19 PM] Loaded btrack: /home/dayn/analysis/btrack/btrack/libs/libtracker.so\n",
      "[INFO][2023/10/06 04:36:19 PM] Starting BayesianTracker session\n",
      "[INFO][2023/10/06 04:36:19 PM] Loading configuration file: /home/dayn/analysis/models/loc.json\n",
      "[INFO][2023/10/06 04:36:19 PM] Objects are of type: <class 'list'>\n",
      "[INFO][2023/10/06 04:36:19 PM] Starting tracking... \n",
      "[INFO][2023/10/06 04:36:19 PM] Update using: ['MOTION', 'VISUAL']\n",
      "[INFO][2023/10/06 04:36:19 PM] Tracking objects in frames 0 to 9 (of 39)...\n",
      "[INFO][2023/10/06 04:36:19 PM]  - Timing (Bayesian updates: 0.11ms, Linking: 0.29ms)\n",
      "[INFO][2023/10/06 04:36:19 PM]  - Probabilities (Link: 1.00000, Lost: 1.00000)\n",
      "[INFO][2023/10/06 04:36:19 PM]  - Stats (Active: 109, Lost: 710, Conflicts resolved: 46)\n",
      "[INFO][2023/10/06 04:36:19 PM] Tracking objects in frames 10 to 19 (of 39)...\n",
      "[INFO][2023/10/06 04:36:19 PM]  - Timing (Bayesian updates: 0.03ms, Linking: 0.10ms)\n",
      "[INFO][2023/10/06 04:36:19 PM]  - Probabilities (Link: 1.00000, Lost: 1.00000)\n",
      "[INFO][2023/10/06 04:36:19 PM] SUCCESS.\n",
      "[INFO][2023/10/06 04:36:19 PM]  - Found 186 tracks in 39 frames (in 0.0s)\n",
      "[INFO][2023/10/06 04:36:19 PM]  - Inserted 65 dummy objects to fill tracking gaps\n",
      "[INFO][2023/10/06 04:36:19 PM] Loading hypothesis model: particle_hypothesis\n",
      "[INFO][2023/10/06 04:36:19 PM] Calculating hypotheses (relax: True)...\n",
      "[INFO][2023/10/06 04:36:19 PM] Setting up constraints matrix for global optimisation...\n",
      "[INFO][2023/10/06 04:36:19 PM] Using GLPK options: {'tm_lim': 60000}...\n",
      "[INFO][2023/10/06 04:36:19 PM] Optimizing...\n",
      "[INFO][2023/10/06 04:36:19 PM] Optimization complete. (Solution: optimal)\n",
      "[INFO][2023/10/06 04:36:19 PM]  - Fates.FALSE_POSITIVE: 167 (of 186)\n",
      "[INFO][2023/10/06 04:36:19 PM]  - Fates.INITIALIZE_BORDER: 0 (of 3)\n",
      "[INFO][2023/10/06 04:36:19 PM]  - Fates.INITIALIZE_LAZY: 19 (of 183)\n",
      "[INFO][2023/10/06 04:36:19 PM]  - Fates.TERMINATE_BORDER: 0 (of 3)\n",
      "[INFO][2023/10/06 04:36:19 PM]  - Fates.TERMINATE_BACK: 9 (of 25)\n",
      "[INFO][2023/10/06 04:36:19 PM]  - Fates.TERMINATE_LAZY: 10 (of 158)\n",
      "[INFO][2023/10/06 04:36:19 PM]  - TOTAL: 558 hypotheses\n",
      "[INFO][2023/10/06 04:36:19 PM] Completed optimization with 186 tracks\n",
      "[INFO][2023/10/06 04:36:19 PM] Ending BayesianTracker session\n",
      "[INFO][2023/10/06 04:36:19 PM] Opening HDF file: /home/dayn/data/homuncu_loc_temp/seperate_tracks/iAT1_iAT2_experiments/DAPI_SPC_PDPN_ZO1/sc_analyses/20230801_20X_23-03-011B6_DAPI_SP-C_PDPN_ZO-1_Multichannel Z-Stack_20230801_1439_iat2.h5...\n",
      "[INFO][2023/10/06 04:36:19 PM] Writing objects/obj_type_2\n",
      "[INFO][2023/10/06 04:36:19 PM] Writing labels/obj_type_2\n",
      "[INFO][2023/10/06 04:36:19 PM] Loading objects/obj_type_2 (378, 5) (378 filtered: None)\n",
      "[INFO][2023/10/06 04:36:19 PM] Writing properties/obj_type_2/axis_major_length (378,)\n",
      "[INFO][2023/10/06 04:36:19 PM] Writing properties/obj_type_2/axis_minor_length (378,)\n",
      "[INFO][2023/10/06 04:36:19 PM] Writing properties/obj_type_2/eccentricity (378,)\n",
      "[INFO][2023/10/06 04:36:19 PM] Writing properties/obj_type_2/area (378,)\n",
      "[INFO][2023/10/06 04:36:19 PM] Writing properties/obj_type_2/orientation (378,)\n",
      "[INFO][2023/10/06 04:36:19 PM] Writing properties/obj_type_2/mean_intensity (378, 4)\n",
      "[INFO][2023/10/06 04:36:19 PM] Writing properties/obj_type_2/class_id (378,)\n",
      "[INFO][2023/10/06 04:36:19 PM] Writing properties/obj_type_2/mtb_status (378,)\n",
      "[INFO][2023/10/06 04:36:19 PM] Writing properties/obj_type_2/mtb_area (378,)\n",
      "[INFO][2023/10/06 04:36:19 PM] Writing tracks/obj_type_2\n",
      "[INFO][2023/10/06 04:36:19 PM] Writing dummies/obj_type_2\n",
      "[INFO][2023/10/06 04:36:19 PM] Writing LBEP/obj_type_2\n",
      "[INFO][2023/10/06 04:36:19 PM] Writing fates/obj_type_2\n"
     ]
    },
    {
     "name": "stdout",
     "output_type": "stream",
     "text": [
      "GLPK Integer Optimizer 5.0\n",
      "744 rows, 558 columns, 744 non-zeros\n",
      "558 integer variables, all of which are binary\n",
      "Preprocessing...\n",
      "372 rows, 558 columns, 744 non-zeros\n",
      "558 integer variables, all of which are binary\n",
      "Scaling...\n",
      " A: min|aij| =  1.000e+00  max|aij| =  1.000e+00  ratio =  1.000e+00\n",
      "Problem data seem to be well scaled\n",
      "Constructing initial basis...\n",
      "Size of triangular part is 372\n",
      "Solving LP relaxation...\n",
      "GLPK Simplex Optimizer 5.0\n",
      "372 rows, 558 columns, 744 non-zeros\n",
      "*     0: obj =   2.317088476e+03 inf =   0.000e+00 (167)\n",
      "*   167: obj =   8.912115565e+02 inf =   0.000e+00 (0)\n",
      "OPTIMAL LP SOLUTION FOUND\n",
      "Integer optimization begins...\n",
      "Long-step dual simplex will be used\n",
      "+   167: mip =     not found yet >=              -inf        (1; 0)\n",
      "+   167: >>>>>   8.912115565e+02 >=   8.912115565e+02   0.0% (1; 0)\n",
      "+   167: mip =   8.912115565e+02 >=     tree is empty   0.0% (0; 1)\n",
      "INTEGER OPTIMAL SOLUTION FOUND\n"
     ]
    },
    {
     "name": "stderr",
     "output_type": "stream",
     "text": [
      "[INFO][2023/10/06 04:36:21 PM] Closing HDF file: /home/dayn/data/homuncu_loc_temp/seperate_tracks/iAT1_iAT2_experiments/DAPI_SPC_PDPN_ZO1/sc_analyses/20230801_20X_23-03-011B6_DAPI_SP-C_PDPN_ZO-1_Multichannel Z-Stack_20230801_1439_iat2.h5\n"
     ]
    },
    {
     "data": {
      "application/vnd.jupyter.widget-view+json": {
       "model_id": "a075aa74916e4e249d6191b46d71ac1b",
       "version_major": 2,
       "version_minor": 0
      },
      "text/plain": [
       "finding where segmentation channel is expressed in Z:   0%|          | 0/51 [00:00<?, ?it/s]"
      ]
     },
     "metadata": {},
     "output_type": "display_data"
    },
    {
     "data": {
      "application/vnd.jupyter.widget-view+json": {
       "model_id": "ad45267a892b4f8e90eef7d9fa729f35",
       "version_major": 2,
       "version_minor": 0
      },
      "text/plain": [
       "segmenting over select frames:   0%|          | 0/16 [00:00<?, ?it/s]"
      ]
     },
     "metadata": {},
     "output_type": "display_data"
    },
    {
     "name": "stderr",
     "output_type": "stream",
     "text": [
      "[INFO][2023/10/06 05:06:26 PM] Localizing objects from segmentation...\n"
     ]
    },
    {
     "name": "stdout",
     "output_type": "stream",
     "text": [
      "Update sms failed to send\n"
     ]
    },
    {
     "name": "stderr",
     "output_type": "stream",
     "text": [
      "progress: 100%|███████████████████████████████████████████████████████████████████████████████████████████████████████████████████████████████████████████| 51/51 [00:01<00:00, 25.62it/s]\n",
      "[INFO][2023/10/06 05:06:28 PM] Objects are of type: <class 'dict'>\n",
      "[INFO][2023/10/06 05:06:28 PM] ...Found 782 objects in 38 frames.\n"
     ]
    },
    {
     "data": {
      "application/vnd.jupyter.widget-view+json": {
       "model_id": "29bda467cb9c48fb8bedf2f7eea540e3",
       "version_major": 2,
       "version_minor": 0
      },
      "text/plain": [
       "Measuring Mtb properties of each cell:   0%|          | 0/782 [00:00<?, ?it/s]"
      ]
     },
     "metadata": {},
     "output_type": "display_data"
    },
    {
     "name": "stderr",
     "output_type": "stream",
     "text": [
      "[INFO][2023/10/06 05:06:41 PM] Loaded btrack: /home/dayn/analysis/btrack/btrack/libs/libtracker.so\n",
      "[INFO][2023/10/06 05:06:41 PM] Starting BayesianTracker session\n",
      "[INFO][2023/10/06 05:06:41 PM] Loading configuration file: /home/dayn/analysis/models/loc.json\n",
      "[INFO][2023/10/06 05:06:41 PM] Objects are of type: <class 'list'>\n",
      "[INFO][2023/10/06 05:06:41 PM] Starting tracking... \n",
      "[INFO][2023/10/06 05:06:41 PM] Update using: ['MOTION', 'VISUAL']\n",
      "[INFO][2023/10/06 05:06:41 PM] Tracking objects in frames 0 to 9 (of 38)...\n",
      "[INFO][2023/10/06 05:06:41 PM]  - Timing (Bayesian updates: 0.17ms, Linking: 0.43ms)\n",
      "[INFO][2023/10/06 05:06:41 PM]  - Probabilities (Link: 1.00000, Lost: 1.00000)\n",
      "[INFO][2023/10/06 05:06:41 PM]  - Stats (Active: 204, Lost: 1201, Conflicts resolved: 91)\n",
      "[INFO][2023/10/06 05:06:41 PM] Tracking objects in frames 10 to 19 (of 38)...\n",
      "[INFO][2023/10/06 05:06:41 PM]  - Timing (Bayesian updates: 0.05ms, Linking: 0.17ms)\n",
      "[INFO][2023/10/06 05:06:41 PM]  - Probabilities (Link: 1.00000, Lost: 0.77376)\n",
      "[INFO][2023/10/06 05:06:41 PM] SUCCESS.\n",
      "[INFO][2023/10/06 05:06:41 PM]  - Found 344 tracks in 38 frames (in 0.0s)\n",
      "[INFO][2023/10/06 05:06:41 PM]  - Inserted 58 dummy objects to fill tracking gaps\n",
      "[INFO][2023/10/06 05:06:41 PM] Loading hypothesis model: particle_hypothesis\n",
      "[INFO][2023/10/06 05:06:41 PM] Calculating hypotheses (relax: True)...\n",
      "[INFO][2023/10/06 05:06:41 PM] Setting up constraints matrix for global optimisation...\n",
      "[INFO][2023/10/06 05:06:41 PM] Using GLPK options: {'tm_lim': 60000}...\n",
      "[INFO][2023/10/06 05:06:41 PM] Optimizing...\n",
      "[INFO][2023/10/06 05:06:41 PM] Optimization complete. (Solution: optimal)\n",
      "[INFO][2023/10/06 05:06:41 PM]  - Fates.FALSE_POSITIVE: 317 (of 344)\n",
      "[INFO][2023/10/06 05:06:41 PM]  - Fates.INITIALIZE_BORDER: 1 (of 14)\n",
      "[INFO][2023/10/06 05:06:41 PM]  - Fates.INITIALIZE_LAZY: 26 (of 330)\n",
      "[INFO][2023/10/06 05:06:41 PM]  - Fates.TERMINATE_BORDER: 1 (of 12)\n",
      "[INFO][2023/10/06 05:06:41 PM]  - Fates.TERMINATE_BACK: 10 (of 36)\n",
      "[INFO][2023/10/06 05:06:41 PM]  - Fates.TERMINATE_LAZY: 16 (of 296)\n",
      "[INFO][2023/10/06 05:06:41 PM]  - TOTAL: 1032 hypotheses\n",
      "[INFO][2023/10/06 05:06:41 PM] Completed optimization with 344 tracks\n",
      "[INFO][2023/10/06 05:06:41 PM] Ending BayesianTracker session\n",
      "[INFO][2023/10/06 05:06:41 PM] Opening HDF file: /home/dayn/data/homuncu_loc_temp/seperate_tracks/iAT1_iAT2_experiments/DAPI_SPC_PDPN_ZO1/sc_analyses/20230801_20X_23-03-011B6_DAPI_SP-C_PDPN_ZO-1_Multichannel Z-Stack_20230801_1440_iat2.h5...\n",
      "[INFO][2023/10/06 05:06:41 PM] Writing objects/obj_type_2\n",
      "[INFO][2023/10/06 05:06:41 PM] Writing labels/obj_type_2\n",
      "[INFO][2023/10/06 05:06:41 PM] Loading objects/obj_type_2 (642, 5) (642 filtered: None)\n",
      "[INFO][2023/10/06 05:06:41 PM] Writing properties/obj_type_2/axis_major_length (642,)\n",
      "[INFO][2023/10/06 05:06:41 PM] Writing properties/obj_type_2/axis_minor_length (642,)\n",
      "[INFO][2023/10/06 05:06:41 PM] Writing properties/obj_type_2/eccentricity (642,)\n",
      "[INFO][2023/10/06 05:06:41 PM] Writing properties/obj_type_2/area (642,)\n",
      "[INFO][2023/10/06 05:06:41 PM] Writing properties/obj_type_2/orientation (642,)\n",
      "[INFO][2023/10/06 05:06:41 PM] Writing properties/obj_type_2/mean_intensity (642, 4)\n",
      "[INFO][2023/10/06 05:06:41 PM] Writing properties/obj_type_2/class_id (642,)\n",
      "[INFO][2023/10/06 05:06:41 PM] Writing properties/obj_type_2/mtb_status (642,)\n",
      "[INFO][2023/10/06 05:06:41 PM] Writing properties/obj_type_2/mtb_area (642,)\n",
      "[INFO][2023/10/06 05:06:41 PM] Writing tracks/obj_type_2\n",
      "[INFO][2023/10/06 05:06:41 PM] Writing dummies/obj_type_2\n",
      "[INFO][2023/10/06 05:06:41 PM] Writing LBEP/obj_type_2\n",
      "[INFO][2023/10/06 05:06:41 PM] Writing fates/obj_type_2\n"
     ]
    },
    {
     "name": "stdout",
     "output_type": "stream",
     "text": [
      "GLPK Integer Optimizer 5.0\n",
      "1376 rows, 1032 columns, 1376 non-zeros\n",
      "1032 integer variables, all of which are binary\n",
      "Preprocessing...\n",
      "688 rows, 1032 columns, 1376 non-zeros\n",
      "1032 integer variables, all of which are binary\n",
      "Scaling...\n",
      " A: min|aij| =  1.000e+00  max|aij| =  1.000e+00  ratio =  1.000e+00\n",
      "Problem data seem to be well scaled\n",
      "Constructing initial basis...\n",
      "Size of triangular part is 688\n",
      "Solving LP relaxation...\n",
      "GLPK Simplex Optimizer 5.0\n",
      "688 rows, 1032 columns, 1376 non-zeros\n",
      "*     0: obj =   4.320562390e+03 inf =   0.000e+00 (317)\n",
      "*   317: obj =   1.512606322e+03 inf =   0.000e+00 (0)\n",
      "OPTIMAL LP SOLUTION FOUND\n",
      "Integer optimization begins...\n",
      "Long-step dual simplex will be used\n",
      "+   317: mip =     not found yet >=              -inf        (1; 0)\n",
      "+   317: >>>>>   1.512606322e+03 >=   1.512606322e+03   0.0% (1; 0)\n",
      "+   317: mip =   1.512606322e+03 >=     tree is empty   0.0% (0; 1)\n",
      "INTEGER OPTIMAL SOLUTION FOUND\n"
     ]
    },
    {
     "name": "stderr",
     "output_type": "stream",
     "text": [
      "[INFO][2023/10/06 05:06:43 PM] Closing HDF file: /home/dayn/data/homuncu_loc_temp/seperate_tracks/iAT1_iAT2_experiments/DAPI_SPC_PDPN_ZO1/sc_analyses/20230801_20X_23-03-011B6_DAPI_SP-C_PDPN_ZO-1_Multichannel Z-Stack_20230801_1440_iat2.h5\n"
     ]
    },
    {
     "data": {
      "application/vnd.jupyter.widget-view+json": {
       "model_id": "e963ac77e9e3474b95b22d7f6fb5c02d",
       "version_major": 2,
       "version_minor": 0
      },
      "text/plain": [
       "finding where segmentation channel is expressed in Z:   0%|          | 0/51 [00:00<?, ?it/s]"
      ]
     },
     "metadata": {},
     "output_type": "display_data"
    },
    {
     "data": {
      "application/vnd.jupyter.widget-view+json": {
       "model_id": "5839aef0356e494ea4c5bea3fbe57341",
       "version_major": 2,
       "version_minor": 0
      },
      "text/plain": [
       "segmenting over select frames:   0%|          | 0/18 [00:00<?, ?it/s]"
      ]
     },
     "metadata": {},
     "output_type": "display_data"
    },
    {
     "name": "stderr",
     "output_type": "stream",
     "text": [
      "[INFO][2023/10/06 05:39:21 PM] Localizing objects from segmentation...\n"
     ]
    },
    {
     "name": "stdout",
     "output_type": "stream",
     "text": [
      "Update sms failed to send\n"
     ]
    },
    {
     "name": "stderr",
     "output_type": "stream",
     "text": [
      "progress: 100%|███████████████████████████████████████████████████████████████████████████████████████████████████████████████████████████████████████████| 51/51 [00:16<00:00,  3.03it/s]\n",
      "[INFO][2023/10/06 05:39:38 PM] Objects are of type: <class 'dict'>\n",
      "[INFO][2023/10/06 05:39:38 PM] ...Found 34591 objects in 36 frames.\n"
     ]
    },
    {
     "data": {
      "application/vnd.jupyter.widget-view+json": {
       "model_id": "3194eccff881445a9b8d04478008732b",
       "version_major": 2,
       "version_minor": 0
      },
      "text/plain": [
       "Measuring Mtb properties of each cell:   0%|          | 0/34591 [00:00<?, ?it/s]"
      ]
     },
     "metadata": {},
     "output_type": "display_data"
    },
    {
     "name": "stderr",
     "output_type": "stream",
     "text": [
      "[INFO][2023/10/06 05:47:32 PM] Loaded btrack: /home/dayn/analysis/btrack/btrack/libs/libtracker.so\n",
      "[INFO][2023/10/06 05:47:32 PM] Starting BayesianTracker session\n",
      "[INFO][2023/10/06 05:47:32 PM] Loading configuration file: /home/dayn/analysis/models/loc.json\n",
      "[INFO][2023/10/06 05:47:32 PM] Objects are of type: <class 'list'>\n",
      "[INFO][2023/10/06 05:47:33 PM] Starting tracking... \n",
      "[INFO][2023/10/06 05:47:33 PM] Update using: ['MOTION', 'VISUAL']\n",
      "[INFO][2023/10/06 05:47:42 PM] Tracking objects in frames 0 to 9 (of 36)...\n",
      "[INFO][2023/10/06 05:50:16 PM]  - Timing (Bayesian updates: 4119.67ms, Linking: 27.62ms)\n",
      "[INFO][2023/10/06 05:50:16 PM]  - Probabilities (Link: 1.00000, Lost: 0.99999)\n",
      "[INFO][2023/10/06 05:50:16 PM]  - Stats (Active: 2993, Lost: 635, Conflicts resolved: 4507)\n",
      "[INFO][2023/10/06 05:50:16 PM] Tracking objects in frames 10 to 19 (of 36)...\n",
      "[INFO][2023/10/06 05:50:36 PM]  - Timing (Bayesian updates: 231.66ms, Linking: 10.35ms)\n",
      "[INFO][2023/10/06 05:50:36 PM]  - Probabilities (Link: 1.00000, Lost: 1.00000)\n",
      "[INFO][2023/10/06 05:50:36 PM] SUCCESS.\n",
      "[INFO][2023/10/06 05:50:36 PM]  - Found 3969 tracks in 36 frames (in 0.0s)\n",
      "[INFO][2023/10/06 05:50:36 PM]  - Inserted 2076 dummy objects to fill tracking gaps\n",
      "[INFO][2023/10/06 05:50:36 PM] Loading hypothesis model: particle_hypothesis\n",
      "[INFO][2023/10/06 05:50:36 PM] Calculating hypotheses (relax: True)...\n",
      "[INFO][2023/10/06 05:50:36 PM] Setting up constraints matrix for global optimisation...\n",
      "[INFO][2023/10/06 05:50:36 PM] Using GLPK options: {'tm_lim': 60000}...\n",
      "[INFO][2023/10/06 05:50:37 PM] Optimizing...\n",
      "[INFO][2023/10/06 05:50:37 PM] Optimization complete. (Solution: optimal)\n",
      "[INFO][2023/10/06 05:50:37 PM]  - Fates.FALSE_POSITIVE: 1559 (of 3969)\n",
      "[INFO][2023/10/06 05:50:37 PM]  - Fates.LINK: 37 (of 69)\n",
      "[INFO][2023/10/06 05:50:37 PM]  - Fates.INITIALIZE_BORDER: 100 (of 128)\n",
      "[INFO][2023/10/06 05:50:37 PM]  - Fates.INITIALIZE_LAZY: 2273 (of 3841)\n",
      "[INFO][2023/10/06 05:50:37 PM]  - Fates.TERMINATE_BORDER: 60 (of 84)\n",
      "[INFO][2023/10/06 05:50:37 PM]  - Fates.TERMINATE_BACK: 1217 (of 1423)\n",
      "[INFO][2023/10/06 05:50:37 PM]  - Fates.TERMINATE_LAZY: 1096 (of 2462)\n",
      "[INFO][2023/10/06 05:50:37 PM]  - TOTAL: 11976 hypotheses\n",
      "[INFO][2023/10/06 05:50:37 PM] Completed optimization with 3932 tracks\n",
      "[INFO][2023/10/06 05:50:37 PM] Ending BayesianTracker session\n"
     ]
    },
    {
     "name": "stdout",
     "output_type": "stream",
     "text": [
      "GLPK Integer Optimizer 5.0\n",
      "15876 rows, 11976 columns, 16014 non-zeros\n",
      "11976 integer variables, all of which are binary\n",
      "Preprocessing...\n",
      "7938 rows, 11976 columns, 16014 non-zeros\n",
      "11976 integer variables, all of which are binary\n",
      "Scaling...\n",
      " A: min|aij| =  1.000e+00  max|aij| =  1.000e+00  ratio =  1.000e+00\n",
      "Problem data seem to be well scaled\n",
      "Constructing initial basis...\n",
      "Size of triangular part is 7938\n",
      "Solving LP relaxation...\n",
      "GLPK Simplex Optimizer 5.0\n",
      "7938 rows, 11976 columns, 16014 non-zeros\n",
      "*     0: obj =   4.349534892e+04 inf =   0.000e+00 (1675)\n",
      "*  1705: obj =   3.094217572e+04 inf =   0.000e+00 (0)\n",
      "OPTIMAL LP SOLUTION FOUND\n",
      "Integer optimization begins...\n",
      "Long-step dual simplex will be used\n",
      "+  1705: mip =     not found yet >=              -inf        (1; 0)\n",
      "+  1705: >>>>>   3.094217572e+04 >=   3.094217572e+04   0.0% (1; 0)\n",
      "+  1705: mip =   3.094217572e+04 >=     tree is empty   0.0% (0; 1)\n",
      "INTEGER OPTIMAL SOLUTION FOUND\n"
     ]
    },
    {
     "name": "stderr",
     "output_type": "stream",
     "text": [
      "[INFO][2023/10/06 05:50:37 PM] Opening HDF file: /home/dayn/data/homuncu_loc_temp/seperate_tracks/iAT1_iAT2_experiments/DAPI_NKX21_PDPN_ZO1/sc_analyses/20230801_20X_23-03-002A5_DAPI_NKX201_PDPN_ZO-1_Multichannel Z-Stack_20230801_1442_iat2.h5...\n",
      "[INFO][2023/10/06 05:50:38 PM] Writing objects/obj_type_2\n",
      "[INFO][2023/10/06 05:50:38 PM] Writing labels/obj_type_2\n",
      "[INFO][2023/10/06 05:50:38 PM] Loading objects/obj_type_2 (29852, 5) (29852 filtered: None)\n",
      "[INFO][2023/10/06 05:50:38 PM] Writing properties/obj_type_2/axis_major_length (29852,)\n",
      "[INFO][2023/10/06 05:50:38 PM] Writing properties/obj_type_2/axis_minor_length (29852,)\n",
      "[INFO][2023/10/06 05:50:38 PM] Writing properties/obj_type_2/eccentricity (29852,)\n",
      "[INFO][2023/10/06 05:50:38 PM] Writing properties/obj_type_2/area (29852,)\n",
      "[INFO][2023/10/06 05:50:38 PM] Writing properties/obj_type_2/orientation (29852,)\n",
      "[INFO][2023/10/06 05:50:38 PM] Writing properties/obj_type_2/mean_intensity (29852, 4)\n",
      "[INFO][2023/10/06 05:50:38 PM] Writing properties/obj_type_2/class_id (29852,)\n",
      "[INFO][2023/10/06 05:50:38 PM] Writing properties/obj_type_2/mtb_status (29852,)\n",
      "[INFO][2023/10/06 05:50:38 PM] Writing properties/obj_type_2/mtb_area (29852,)\n",
      "[INFO][2023/10/06 05:50:38 PM] Writing tracks/obj_type_2\n",
      "[INFO][2023/10/06 05:50:38 PM] Writing dummies/obj_type_2\n",
      "[INFO][2023/10/06 05:50:38 PM] Writing LBEP/obj_type_2\n",
      "[INFO][2023/10/06 05:50:38 PM] Writing fates/obj_type_2\n",
      "[INFO][2023/10/06 05:50:42 PM] Closing HDF file: /home/dayn/data/homuncu_loc_temp/seperate_tracks/iAT1_iAT2_experiments/DAPI_NKX21_PDPN_ZO1/sc_analyses/20230801_20X_23-03-002A5_DAPI_NKX201_PDPN_ZO-1_Multichannel Z-Stack_20230801_1442_iat2.h5\n"
     ]
    },
    {
     "data": {
      "application/vnd.jupyter.widget-view+json": {
       "model_id": "9368d6f50a5b4fbb8efb4d28358b2438",
       "version_major": 2,
       "version_minor": 0
      },
      "text/plain": [
       "finding where segmentation channel is expressed in Z:   0%|          | 0/51 [00:00<?, ?it/s]"
      ]
     },
     "metadata": {},
     "output_type": "display_data"
    },
    {
     "data": {
      "application/vnd.jupyter.widget-view+json": {
       "model_id": "f57a42fe796e467aad9d13180e965e58",
       "version_major": 2,
       "version_minor": 0
      },
      "text/plain": [
       "segmenting over select frames:   0%|          | 0/17 [00:00<?, ?it/s]"
      ]
     },
     "metadata": {},
     "output_type": "display_data"
    },
    {
     "name": "stderr",
     "output_type": "stream",
     "text": [
      "[INFO][2023/10/06 06:24:01 PM] Localizing objects from segmentation...\n"
     ]
    },
    {
     "name": "stdout",
     "output_type": "stream",
     "text": [
      "Update sms failed to send\n"
     ]
    },
    {
     "name": "stderr",
     "output_type": "stream",
     "text": [
      "progress: 100%|███████████████████████████████████████████████████████████████████████████████████████████████████████████████████████████████████████████| 51/51 [00:20<00:00,  2.52it/s]\n",
      "[INFO][2023/10/06 06:24:21 PM] Objects are of type: <class 'dict'>\n",
      "[INFO][2023/10/06 06:24:22 PM] ...Found 46432 objects in 36 frames.\n"
     ]
    },
    {
     "data": {
      "application/vnd.jupyter.widget-view+json": {
       "model_id": "83bf54cd809646d98978f27c86a94a24",
       "version_major": 2,
       "version_minor": 0
      },
      "text/plain": [
       "Measuring Mtb properties of each cell:   0%|          | 0/46432 [00:00<?, ?it/s]"
      ]
     },
     "metadata": {},
     "output_type": "display_data"
    },
    {
     "name": "stderr",
     "output_type": "stream",
     "text": [
      "[INFO][2023/10/06 06:34:50 PM] Loaded btrack: /home/dayn/analysis/btrack/btrack/libs/libtracker.so\n",
      "[INFO][2023/10/06 06:34:50 PM] Starting BayesianTracker session\n",
      "[INFO][2023/10/06 06:34:50 PM] Loading configuration file: /home/dayn/analysis/models/loc.json\n",
      "[INFO][2023/10/06 06:34:50 PM] Objects are of type: <class 'list'>\n",
      "[INFO][2023/10/06 06:34:51 PM] Starting tracking... \n",
      "[INFO][2023/10/06 06:34:51 PM] Update using: ['MOTION', 'VISUAL']\n",
      "[INFO][2023/10/06 06:35:14 PM] Tracking objects in frames 0 to 9 (of 36)...\n",
      "[INFO][2023/10/06 06:40:50 PM]  - Timing (Bayesian updates: 12443.25ms, Linking: 43.13ms)\n",
      "[INFO][2023/10/06 06:40:50 PM]  - Probabilities (Link: 0.99999, Lost: 1.00000)\n",
      "[INFO][2023/10/06 06:40:50 PM]  - Stats (Active: 3940, Lost: 673, Conflicts resolved: 5279)\n",
      "[INFO][2023/10/06 06:40:50 PM] Tracking objects in frames 10 to 19 (of 36)...\n",
      "[INFO][2023/10/06 06:41:55 PM]  - Timing (Bayesian updates: 1569.80ms, Linking: 24.76ms)\n",
      "[INFO][2023/10/06 06:41:55 PM]  - Probabilities (Link: 0.99999, Lost: 1.00000)\n",
      "[INFO][2023/10/06 06:41:55 PM] SUCCESS.\n",
      "[INFO][2023/10/06 06:41:55 PM]  - Found 5107 tracks in 36 frames (in 0.0s)\n",
      "[INFO][2023/10/06 06:41:55 PM]  - Inserted 2687 dummy objects to fill tracking gaps\n",
      "[INFO][2023/10/06 06:41:55 PM] Loading hypothesis model: particle_hypothesis\n",
      "[INFO][2023/10/06 06:41:55 PM] Calculating hypotheses (relax: True)...\n",
      "[INFO][2023/10/06 06:41:55 PM] Setting up constraints matrix for global optimisation...\n",
      "[INFO][2023/10/06 06:41:55 PM] Using GLPK options: {'tm_lim': 60000}...\n",
      "[INFO][2023/10/06 06:41:56 PM] Optimizing...\n",
      "[INFO][2023/10/06 06:41:56 PM] Optimization complete. (Solution: optimal)\n",
      "[INFO][2023/10/06 06:41:56 PM]  - Fates.FALSE_POSITIVE: 1741 (of 5107)\n",
      "[INFO][2023/10/06 06:41:56 PM]  - Fates.LINK: 65 (of 98)\n",
      "[INFO][2023/10/06 06:41:56 PM]  - Fates.INITIALIZE_BORDER: 146 (of 186)\n",
      "[INFO][2023/10/06 06:41:56 PM]  - Fates.INITIALIZE_LAZY: 3155 (of 4921)\n",
      "[INFO][2023/10/06 06:41:56 PM]  - Fates.TERMINATE_BORDER: 57 (of 94)\n",
      "[INFO][2023/10/06 06:41:56 PM]  - Fates.TERMINATE_BACK: 2242 (of 2563)\n",
      "[INFO][2023/10/06 06:41:56 PM]  - Fates.TERMINATE_LAZY: 1002 (of 2450)\n",
      "[INFO][2023/10/06 06:41:56 PM]  - TOTAL: 15419 hypotheses\n",
      "[INFO][2023/10/06 06:41:56 PM] Completed optimization with 5042 tracks\n"
     ]
    },
    {
     "name": "stdout",
     "output_type": "stream",
     "text": [
      "GLPK Integer Optimizer 5.0\n",
      "20428 rows, 15419 columns, 20624 non-zeros\n",
      "15419 integer variables, all of which are binary\n",
      "Preprocessing...\n",
      "10214 rows, 15419 columns, 20624 non-zeros\n",
      "15419 integer variables, all of which are binary\n",
      "Scaling...\n",
      " A: min|aij| =  1.000e+00  max|aij| =  1.000e+00  ratio =  1.000e+00\n",
      "Problem data seem to be well scaled\n",
      "Constructing initial basis...\n",
      "Size of triangular part is 10214\n",
      "Solving LP relaxation...\n",
      "GLPK Simplex Optimizer 5.0\n",
      "10214 rows, 15419 columns, 20624 non-zeros\n",
      "*     0: obj =   5.109862674e+04 inf =   0.000e+00 (1916)\n",
      "*  1948: obj =   3.692941608e+04 inf =   0.000e+00 (0)\n",
      "OPTIMAL LP SOLUTION FOUND\n",
      "Integer optimization begins...\n",
      "Long-step dual simplex will be used\n",
      "+  1948: mip =     not found yet >=              -inf        (1; 0)\n",
      "+  1948: >>>>>   3.692941608e+04 >=   3.692941608e+04   0.0% (1; 0)\n",
      "+  1948: mip =   3.692941608e+04 >=     tree is empty   0.0% (0; 1)\n",
      "INTEGER OPTIMAL SOLUTION FOUND\n"
     ]
    },
    {
     "name": "stderr",
     "output_type": "stream",
     "text": [
      "[INFO][2023/10/06 06:41:57 PM] Ending BayesianTracker session\n",
      "[INFO][2023/10/06 06:41:57 PM] Opening HDF file: /home/dayn/data/homuncu_loc_temp/seperate_tracks/iAT1_iAT2_experiments/DAPI_NKX21_PDPN_ZO1/sc_analyses/20230801_20X_23-03-002A5_DAPI_NKX201_PDPN_ZO-1_Multichannel Z-Stack_20230801_1443_iat2.h5...\n",
      "[INFO][2023/10/06 06:41:57 PM] Writing objects/obj_type_2\n",
      "[INFO][2023/10/06 06:41:57 PM] Writing labels/obj_type_2\n",
      "[INFO][2023/10/06 06:41:57 PM] Loading objects/obj_type_2 (40946, 5) (40946 filtered: None)\n",
      "[INFO][2023/10/06 06:41:58 PM] Writing properties/obj_type_2/axis_major_length (40946,)\n",
      "[INFO][2023/10/06 06:41:58 PM] Writing properties/obj_type_2/axis_minor_length (40946,)\n",
      "[INFO][2023/10/06 06:41:58 PM] Writing properties/obj_type_2/eccentricity (40946,)\n",
      "[INFO][2023/10/06 06:41:58 PM] Writing properties/obj_type_2/area (40946,)\n",
      "[INFO][2023/10/06 06:41:58 PM] Writing properties/obj_type_2/orientation (40946,)\n",
      "[INFO][2023/10/06 06:41:58 PM] Writing properties/obj_type_2/mean_intensity (40946, 4)\n",
      "[INFO][2023/10/06 06:41:58 PM] Writing properties/obj_type_2/class_id (40946,)\n",
      "[INFO][2023/10/06 06:41:58 PM] Writing properties/obj_type_2/mtb_status (40946,)\n",
      "[INFO][2023/10/06 06:41:58 PM] Writing properties/obj_type_2/mtb_area (40946,)\n",
      "[INFO][2023/10/06 06:41:58 PM] Writing tracks/obj_type_2\n",
      "[INFO][2023/10/06 06:41:58 PM] Writing dummies/obj_type_2\n",
      "[INFO][2023/10/06 06:41:58 PM] Writing LBEP/obj_type_2\n",
      "[INFO][2023/10/06 06:41:58 PM] Writing fates/obj_type_2\n",
      "[INFO][2023/10/06 06:42:01 PM] Closing HDF file: /home/dayn/data/homuncu_loc_temp/seperate_tracks/iAT1_iAT2_experiments/DAPI_NKX21_PDPN_ZO1/sc_analyses/20230801_20X_23-03-002A5_DAPI_NKX201_PDPN_ZO-1_Multichannel Z-Stack_20230801_1443_iat2.h5\n"
     ]
    },
    {
     "data": {
      "application/vnd.jupyter.widget-view+json": {
       "model_id": "6d465871264e4a988385164790f1596a",
       "version_major": 2,
       "version_minor": 0
      },
      "text/plain": [
       "finding where segmentation channel is expressed in Z:   0%|          | 0/51 [00:00<?, ?it/s]"
      ]
     },
     "metadata": {},
     "output_type": "display_data"
    },
    {
     "data": {
      "application/vnd.jupyter.widget-view+json": {
       "model_id": "a3f8c55f1c4e48489b266a879afb20d9",
       "version_major": 2,
       "version_minor": 0
      },
      "text/plain": [
       "segmenting over select frames:   0%|          | 0/14 [00:00<?, ?it/s]"
      ]
     },
     "metadata": {},
     "output_type": "display_data"
    },
    {
     "name": "stderr",
     "output_type": "stream",
     "text": [
      "[INFO][2023/10/06 07:36:26 PM] Localizing objects from segmentation...\n"
     ]
    },
    {
     "name": "stdout",
     "output_type": "stream",
     "text": [
      "Update sms failed to send\n"
     ]
    },
    {
     "name": "stderr",
     "output_type": "stream",
     "text": [
      "progress: 100%|███████████████████████████████████████████████████████████████████████████████████████████████████████████████████████████████████████████| 51/51 [00:01<00:00, 30.98it/s]\n",
      "[INFO][2023/10/06 07:36:28 PM] Objects are of type: <class 'dict'>\n",
      "[INFO][2023/10/06 07:36:28 PM] ...Found 66 objects in 37 frames.\n"
     ]
    },
    {
     "data": {
      "application/vnd.jupyter.widget-view+json": {
       "model_id": "0082cdabf4dc4f71a4d3d8fb7304f450",
       "version_major": 2,
       "version_minor": 0
      },
      "text/plain": [
       "Measuring Mtb properties of each cell:   0%|          | 0/66 [00:00<?, ?it/s]"
      ]
     },
     "metadata": {},
     "output_type": "display_data"
    },
    {
     "name": "stderr",
     "output_type": "stream",
     "text": [
      "[INFO][2023/10/06 07:36:29 PM] Loaded btrack: /home/dayn/analysis/btrack/btrack/libs/libtracker.so\n",
      "[INFO][2023/10/06 07:36:29 PM] Starting BayesianTracker session\n",
      "[INFO][2023/10/06 07:36:29 PM] Loading configuration file: /home/dayn/analysis/models/loc.json\n",
      "[INFO][2023/10/06 07:36:29 PM] Objects are of type: <class 'list'>\n",
      "[INFO][2023/10/06 07:36:29 PM] Starting tracking... \n",
      "[INFO][2023/10/06 07:36:29 PM] Update using: ['MOTION', 'VISUAL']\n",
      "[INFO][2023/10/06 07:36:29 PM] Tracking objects in frames 0 to 9 (of 37)...\n",
      "[INFO][2023/10/06 07:36:29 PM]  - Timing (Bayesian updates: 0.01ms, Linking: 0.10ms)\n",
      "[INFO][2023/10/06 07:36:29 PM]  - Probabilities (Link: 1.00000, Lost: 1.00000)\n",
      "[INFO][2023/10/06 07:36:29 PM]  - Stats (Active: 8, Lost: 61, Conflicts resolved: 2)\n",
      "[INFO][2023/10/06 07:36:29 PM] Tracking objects in frames 10 to 19 (of 37)...\n",
      "[INFO][2023/10/06 07:36:29 PM]  - Timing (Bayesian updates: 0.02ms, Linking: 0.10ms)\n",
      "[INFO][2023/10/06 07:36:29 PM]  - Probabilities (Link: 1.00000, Lost: 1.00000)\n",
      "[INFO][2023/10/06 07:36:29 PM] SUCCESS.\n",
      "[INFO][2023/10/06 07:36:29 PM]  - Found 23 tracks in 37 frames (in 0.0s)\n",
      "[INFO][2023/10/06 07:36:29 PM]  - Inserted 8 dummy objects to fill tracking gaps\n",
      "[INFO][2023/10/06 07:36:29 PM] Loading hypothesis model: particle_hypothesis\n",
      "[INFO][2023/10/06 07:36:29 PM] Calculating hypotheses (relax: True)...\n",
      "[INFO][2023/10/06 07:36:29 PM] Setting up constraints matrix for global optimisation...\n",
      "[INFO][2023/10/06 07:36:29 PM] Using GLPK options: {'tm_lim': 60000}...\n",
      "[INFO][2023/10/06 07:36:29 PM] Optimizing...\n",
      "[INFO][2023/10/06 07:36:29 PM] Optimization complete. (Solution: optimal)\n",
      "[INFO][2023/10/06 07:36:29 PM]  - Fates.FALSE_POSITIVE: 18 (of 23)\n",
      "[INFO][2023/10/06 07:36:29 PM]  - Fates.INITIALIZE_BORDER: 0 (of 1)\n",
      "[INFO][2023/10/06 07:36:29 PM]  - Fates.INITIALIZE_LAZY: 5 (of 22)\n",
      "[INFO][2023/10/06 07:36:29 PM]  - Fates.TERMINATE_BACK: 4 (of 13)\n",
      "[INFO][2023/10/06 07:36:29 PM]  - Fates.TERMINATE_LAZY: 1 (of 10)\n",
      "[INFO][2023/10/06 07:36:29 PM]  - TOTAL: 69 hypotheses\n",
      "[INFO][2023/10/06 07:36:29 PM] Completed optimization with 23 tracks\n",
      "[INFO][2023/10/06 07:36:29 PM] Ending BayesianTracker session\n",
      "[INFO][2023/10/06 07:36:29 PM] Opening HDF file: /home/dayn/data/homuncu_loc_temp/seperate_tracks/iAT1_iAT2_experiments/DAPI_SPC_PDPN_ZO1/sc_analyses/20230801_20X_23-03-002A6_DAPI_SP-C_PDPN_ZO-1_Multichannel Z-Stack_20230801_1445_iat2.h5...\n",
      "[INFO][2023/10/06 07:36:29 PM] Writing objects/obj_type_2\n",
      "[INFO][2023/10/06 07:36:29 PM] Writing labels/obj_type_2\n",
      "[INFO][2023/10/06 07:36:29 PM] Loading objects/obj_type_2 (61, 5) (61 filtered: None)\n",
      "[INFO][2023/10/06 07:36:29 PM] Writing properties/obj_type_2/axis_major_length (61,)\n",
      "[INFO][2023/10/06 07:36:29 PM] Writing properties/obj_type_2/axis_minor_length (61,)\n",
      "[INFO][2023/10/06 07:36:29 PM] Writing properties/obj_type_2/eccentricity (61,)\n",
      "[INFO][2023/10/06 07:36:29 PM] Writing properties/obj_type_2/area (61,)\n",
      "[INFO][2023/10/06 07:36:29 PM] Writing properties/obj_type_2/orientation (61,)\n",
      "[INFO][2023/10/06 07:36:29 PM] Writing properties/obj_type_2/mean_intensity (61, 4)\n",
      "[INFO][2023/10/06 07:36:29 PM] Writing properties/obj_type_2/class_id (61,)\n",
      "[INFO][2023/10/06 07:36:29 PM] Writing properties/obj_type_2/mtb_status (61,)\n",
      "[INFO][2023/10/06 07:36:29 PM] Writing properties/obj_type_2/mtb_area (61,)\n",
      "[INFO][2023/10/06 07:36:29 PM] Writing tracks/obj_type_2\n",
      "[INFO][2023/10/06 07:36:29 PM] Writing dummies/obj_type_2\n",
      "[INFO][2023/10/06 07:36:29 PM] Writing LBEP/obj_type_2\n",
      "[INFO][2023/10/06 07:36:29 PM] Writing fates/obj_type_2\n"
     ]
    },
    {
     "name": "stdout",
     "output_type": "stream",
     "text": [
      "GLPK Integer Optimizer 5.0\n",
      "92 rows, 69 columns, 92 non-zeros\n",
      "69 integer variables, all of which are binary\n",
      "Preprocessing...\n",
      "46 rows, 69 columns, 92 non-zeros\n",
      "69 integer variables, all of which are binary\n",
      "Scaling...\n",
      " A: min|aij| =  1.000e+00  max|aij| =  1.000e+00  ratio =  1.000e+00\n",
      "Problem data seem to be well scaled\n",
      "Constructing initial basis...\n",
      "Size of triangular part is 46\n",
      "Solving LP relaxation...\n",
      "GLPK Simplex Optimizer 5.0\n",
      "46 rows, 69 columns, 92 non-zeros\n",
      "*     0: obj =   2.219184581e+02 inf =   0.000e+00 (18)\n",
      "*    18: obj =   1.117821399e+02 inf =   0.000e+00 (0)\n",
      "OPTIMAL LP SOLUTION FOUND\n",
      "Integer optimization begins...\n",
      "Long-step dual simplex will be used\n",
      "+    18: mip =     not found yet >=              -inf        (1; 0)\n",
      "+    18: >>>>>   1.117821399e+02 >=   1.117821399e+02   0.0% (1; 0)\n",
      "+    18: mip =   1.117821399e+02 >=     tree is empty   0.0% (0; 1)\n",
      "INTEGER OPTIMAL SOLUTION FOUND\n"
     ]
    },
    {
     "name": "stderr",
     "output_type": "stream",
     "text": [
      "[INFO][2023/10/06 07:36:32 PM] Closing HDF file: /home/dayn/data/homuncu_loc_temp/seperate_tracks/iAT1_iAT2_experiments/DAPI_SPC_PDPN_ZO1/sc_analyses/20230801_20X_23-03-002A6_DAPI_SP-C_PDPN_ZO-1_Multichannel Z-Stack_20230801_1445_iat2.h5\n"
     ]
    },
    {
     "data": {
      "application/vnd.jupyter.widget-view+json": {
       "model_id": "03ec04402f684a01b19d8981189cc320",
       "version_major": 2,
       "version_minor": 0
      },
      "text/plain": [
       "finding where segmentation channel is expressed in Z:   0%|          | 0/61 [00:00<?, ?it/s]"
      ]
     },
     "metadata": {},
     "output_type": "display_data"
    },
    {
     "data": {
      "application/vnd.jupyter.widget-view+json": {
       "model_id": "a384041959c446a68011ec181a11f48a",
       "version_major": 2,
       "version_minor": 0
      },
      "text/plain": [
       "segmenting over select frames:   0%|          | 0/32 [00:00<?, ?it/s]"
      ]
     },
     "metadata": {},
     "output_type": "display_data"
    },
    {
     "name": "stderr",
     "output_type": "stream",
     "text": [
      "[INFO][2023/10/06 08:33:57 PM] Localizing objects from segmentation...\n"
     ]
    },
    {
     "name": "stdout",
     "output_type": "stream",
     "text": [
      "Update sms failed to send\n"
     ]
    },
    {
     "name": "stderr",
     "output_type": "stream",
     "text": [
      "progress: 100%|███████████████████████████████████████████████████████████████████████████████████████████████████████████████████████████████████████████| 61/61 [00:44<00:00,  1.36it/s]\n",
      "[INFO][2023/10/06 08:34:42 PM] Objects are of type: <class 'dict'>\n",
      "[INFO][2023/10/06 08:34:43 PM] ...Found 113592 objects in 45 frames.\n"
     ]
    },
    {
     "data": {
      "application/vnd.jupyter.widget-view+json": {
       "model_id": "cab74337153e4e3481cf3581e2096b77",
       "version_major": 2,
       "version_minor": 0
      },
      "text/plain": [
       "Measuring Mtb properties of each cell:   0%|          | 0/113592 [00:00<?, ?it/s]"
      ]
     },
     "metadata": {},
     "output_type": "display_data"
    },
    {
     "name": "stderr",
     "output_type": "stream",
     "text": [
      "[INFO][2023/10/06 08:59:45 PM] Loaded btrack: /home/dayn/analysis/btrack/btrack/libs/libtracker.so\n",
      "[INFO][2023/10/06 08:59:45 PM] Starting BayesianTracker session\n",
      "[INFO][2023/10/06 08:59:45 PM] Loading configuration file: /home/dayn/analysis/models/loc.json\n",
      "[INFO][2023/10/06 08:59:45 PM] Objects are of type: <class 'list'>\n",
      "[INFO][2023/10/06 08:59:48 PM] Starting tracking... \n",
      "[INFO][2023/10/06 08:59:48 PM] Update using: ['MOTION', 'VISUAL']\n",
      "[INFO][2023/10/06 09:00:02 PM] Tracking objects in frames 0 to 9 (of 45)...\n",
      "[INFO][2023/10/06 09:05:29 PM]  - Timing (Bayesian updates: 23960.85ms, Linking: 54.95ms)\n",
      "[INFO][2023/10/06 09:05:29 PM]  - Probabilities (Link: 1.00000, Lost: 0.87609)\n",
      "[INFO][2023/10/06 09:05:29 PM]  - Stats (Active: 4106, Lost: 274, Conflicts resolved: 2781)\n",
      "[INFO][2023/10/06 09:05:29 PM] Tracking objects in frames 10 to 19 (of 45)...\n",
      "[INFO][2023/10/06 09:15:35 PM]  - Timing (Bayesian updates: 30422.53ms, Linking: 61.15ms)\n",
      "[INFO][2023/10/06 09:15:35 PM]  - Probabilities (Link: 1.00000, Lost: 0.99816)\n",
      "[INFO][2023/10/06 09:15:35 PM]  - Stats (Active: 4789, Lost: 1243, Conflicts resolved: 9832)\n",
      "[INFO][2023/10/06 09:15:35 PM] Tracking objects in frames 20 to 29 (of 45)...\n",
      "[INFO][2023/10/06 09:25:19 PM]  - Timing (Bayesian updates: 20873.60ms, Linking: 54.11ms)\n",
      "[INFO][2023/10/06 09:25:19 PM]  - Probabilities (Link: 1.00000, Lost: 0.99971)\n",
      "[INFO][2023/10/06 09:25:19 PM] SUCCESS.\n",
      "[INFO][2023/10/06 09:25:19 PM]  - Found 9042 tracks in 45 frames (in 0.0s)\n",
      "[INFO][2023/10/06 09:25:19 PM]  - Inserted 4781 dummy objects to fill tracking gaps\n",
      "[INFO][2023/10/06 09:25:19 PM] Loading hypothesis model: particle_hypothesis\n",
      "[INFO][2023/10/06 09:25:19 PM] Calculating hypotheses (relax: True)...\n",
      "[INFO][2023/10/06 09:25:19 PM] Setting up constraints matrix for global optimisation...\n",
      "[INFO][2023/10/06 09:25:19 PM] Using GLPK options: {'tm_lim': 60000}...\n",
      "[INFO][2023/10/06 09:25:19 PM] Optimizing...\n",
      "[INFO][2023/10/06 09:25:21 PM] Optimization complete. (Solution: optimal)\n",
      "[INFO][2023/10/06 09:25:21 PM]  - Fates.FALSE_POSITIVE: 2484 (of 9042)\n",
      "[INFO][2023/10/06 09:25:21 PM]  - Fates.LINK: 81 (of 112)\n",
      "[INFO][2023/10/06 09:25:21 PM]  - Fates.INITIALIZE_BORDER: 272 (of 329)\n",
      "[INFO][2023/10/06 09:25:21 PM]  - Fates.INITIALIZE_LAZY: 6205 (of 8713)\n",
      "[INFO][2023/10/06 09:25:21 PM]  - Fates.TERMINATE_BORDER: 116 (of 161)\n",
      "[INFO][2023/10/06 09:25:21 PM]  - Fates.TERMINATE_BACK: 3538 (of 4137)\n",
      "[INFO][2023/10/06 09:25:21 PM]  - Fates.TERMINATE_LAZY: 2823 (of 4744)\n",
      "[INFO][2023/10/06 09:25:21 PM]  - TOTAL: 27238 hypotheses\n",
      "[INFO][2023/10/06 09:25:21 PM] Completed optimization with 8961 tracks\n"
     ]
    },
    {
     "name": "stdout",
     "output_type": "stream",
     "text": [
      "GLPK Integer Optimizer 5.0\n",
      "36168 rows, 27238 columns, 36392 non-zeros\n",
      "27238 integer variables, all of which are binary\n",
      "Preprocessing...\n",
      "18084 rows, 27238 columns, 36392 non-zeros\n",
      "27238 integer variables, all of which are binary\n",
      "Scaling...\n",
      " A: min|aij| =  1.000e+00  max|aij| =  1.000e+00  ratio =  1.000e+00\n",
      "Problem data seem to be well scaled\n",
      "Constructing initial basis...\n",
      "Size of triangular part is 18084\n",
      "Solving LP relaxation...\n",
      "GLPK Simplex Optimizer 5.0\n",
      "18084 rows, 27238 columns, 36392 non-zeros\n",
      "*     0: obj =   9.223761033e+04 inf =   0.000e+00 (2676)\n",
      "*  2706: obj =   7.351575473e+04 inf =   0.000e+00 (0)\n",
      "OPTIMAL LP SOLUTION FOUND\n",
      "Integer optimization begins...\n",
      "Long-step dual simplex will be used\n",
      "+  2706: mip =     not found yet >=              -inf        (1; 0)\n",
      "+  2706: >>>>>   7.351575473e+04 >=   7.351575473e+04   0.0% (1; 0)\n",
      "+  2706: mip =   7.351575473e+04 >=     tree is empty   0.0% (0; 1)\n",
      "INTEGER OPTIMAL SOLUTION FOUND\n"
     ]
    },
    {
     "name": "stderr",
     "output_type": "stream",
     "text": [
      "[INFO][2023/10/06 09:25:21 PM] Ending BayesianTracker session\n",
      "[INFO][2023/10/06 09:25:21 PM] Opening HDF file: /home/dayn/data/homuncu_loc_temp/seperate_tracks/iAT1_iAT2_experiments/DAPI_NKX21_PDPN_ZO1/sc_analyses/20230801_20X_23-03-002B5_DAPI_NKX2-1_PDPN_ZO-1_Multichannel Z-Stack_20230801_1446_iat2.h5...\n",
      "[INFO][2023/10/06 09:25:23 PM] Writing objects/obj_type_2\n",
      "[INFO][2023/10/06 09:25:23 PM] Writing labels/obj_type_2\n",
      "[INFO][2023/10/06 09:25:23 PM] Loading objects/obj_type_2 (101835, 5) (101835 filtered: None)\n",
      "[INFO][2023/10/06 09:25:24 PM] Writing properties/obj_type_2/axis_major_length (101835,)\n",
      "[INFO][2023/10/06 09:25:24 PM] Writing properties/obj_type_2/axis_minor_length (101835,)\n",
      "[INFO][2023/10/06 09:25:24 PM] Writing properties/obj_type_2/eccentricity (101835,)\n",
      "[INFO][2023/10/06 09:25:24 PM] Writing properties/obj_type_2/area (101835,)\n",
      "[INFO][2023/10/06 09:25:24 PM] Writing properties/obj_type_2/orientation (101835,)\n",
      "[INFO][2023/10/06 09:25:24 PM] Writing properties/obj_type_2/mean_intensity (101835, 4)\n",
      "[INFO][2023/10/06 09:25:24 PM] Writing properties/obj_type_2/class_id (101835,)\n",
      "[INFO][2023/10/06 09:25:24 PM] Writing properties/obj_type_2/mtb_status (101835,)\n",
      "[INFO][2023/10/06 09:25:24 PM] Writing properties/obj_type_2/mtb_area (101835,)\n",
      "[INFO][2023/10/06 09:25:24 PM] Writing tracks/obj_type_2\n",
      "[INFO][2023/10/06 09:25:24 PM] Writing dummies/obj_type_2\n",
      "[INFO][2023/10/06 09:25:24 PM] Writing LBEP/obj_type_2\n",
      "[INFO][2023/10/06 09:25:24 PM] Writing fates/obj_type_2\n",
      "[INFO][2023/10/06 09:25:28 PM] Closing HDF file: /home/dayn/data/homuncu_loc_temp/seperate_tracks/iAT1_iAT2_experiments/DAPI_NKX21_PDPN_ZO1/sc_analyses/20230801_20X_23-03-002B5_DAPI_NKX2-1_PDPN_ZO-1_Multichannel Z-Stack_20230801_1446_iat2.h5\n"
     ]
    },
    {
     "data": {
      "application/vnd.jupyter.widget-view+json": {
       "model_id": "a66c735d49df41a4bdfd8d24fde4cce9",
       "version_major": 2,
       "version_minor": 0
      },
      "text/plain": [
       "finding where segmentation channel is expressed in Z:   0%|          | 0/61 [00:00<?, ?it/s]"
      ]
     },
     "metadata": {},
     "output_type": "display_data"
    },
    {
     "data": {
      "application/vnd.jupyter.widget-view+json": {
       "model_id": "b60ca401d23940768748f72d4305a1bc",
       "version_major": 2,
       "version_minor": 0
      },
      "text/plain": [
       "segmenting over select frames:   0%|          | 0/35 [00:00<?, ?it/s]"
      ]
     },
     "metadata": {},
     "output_type": "display_data"
    },
    {
     "name": "stderr",
     "output_type": "stream",
     "text": [
      "[INFO][2023/10/06 10:23:57 PM] Localizing objects from segmentation...\n"
     ]
    },
    {
     "name": "stdout",
     "output_type": "stream",
     "text": [
      "Update sms failed to send\n"
     ]
    },
    {
     "name": "stderr",
     "output_type": "stream",
     "text": [
      "progress: 100%|███████████████████████████████████████████████████████████████████████████████████████████████████████████████████████████████████████████| 61/61 [00:42<00:00,  1.44it/s]\n",
      "[INFO][2023/10/06 10:24:40 PM] Objects are of type: <class 'dict'>\n",
      "[INFO][2023/10/06 10:24:41 PM] ...Found 114806 objects in 47 frames.\n"
     ]
    },
    {
     "data": {
      "application/vnd.jupyter.widget-view+json": {
       "model_id": "37b07927d7924f70b2f7677292f67af1",
       "version_major": 2,
       "version_minor": 0
      },
      "text/plain": [
       "Measuring Mtb properties of each cell:   0%|          | 0/114806 [00:00<?, ?it/s]"
      ]
     },
     "metadata": {},
     "output_type": "display_data"
    },
    {
     "name": "stderr",
     "output_type": "stream",
     "text": [
      "[INFO][2023/10/06 10:49:48 PM] Loaded btrack: /home/dayn/analysis/btrack/btrack/libs/libtracker.so\n",
      "[INFO][2023/10/06 10:49:48 PM] Starting BayesianTracker session\n",
      "[INFO][2023/10/06 10:49:48 PM] Loading configuration file: /home/dayn/analysis/models/loc.json\n",
      "[INFO][2023/10/06 10:49:48 PM] Objects are of type: <class 'list'>\n",
      "[INFO][2023/10/06 10:49:50 PM] Starting tracking... \n",
      "[INFO][2023/10/06 10:49:50 PM] Update using: ['MOTION', 'VISUAL']\n",
      "[INFO][2023/10/06 10:50:00 PM] Tracking objects in frames 0 to 9 (of 47)...\n",
      "[INFO][2023/10/06 10:55:32 PM]  - Timing (Bayesian updates: 25444.90ms, Linking: 56.14ms)\n",
      "[INFO][2023/10/06 10:55:32 PM]  - Probabilities (Link: 0.97448, Lost: 0.52026)\n",
      "[INFO][2023/10/06 10:55:32 PM]  - Stats (Active: 4206, Lost: 414, Conflicts resolved: 3578)\n",
      "[INFO][2023/10/06 10:55:32 PM] Tracking objects in frames 10 to 19 (of 47)...\n",
      "[INFO][2023/10/06 11:07:09 PM]  - Timing (Bayesian updates: 30531.30ms, Linking: 66.21ms)\n",
      "[INFO][2023/10/06 11:07:09 PM]  - Probabilities (Link: 1.00000, Lost: 0.99992)\n",
      "[INFO][2023/10/06 11:07:09 PM]  - Stats (Active: 4935, Lost: 1405, Conflicts resolved: 10849)\n",
      "[INFO][2023/10/06 11:07:09 PM] Tracking objects in frames 20 to 29 (of 47)...\n",
      "[INFO][2023/10/06 11:14:34 PM]  - Timing (Bayesian updates: 7540.82ms, Linking: 38.01ms)\n",
      "[INFO][2023/10/06 11:14:34 PM]  - Probabilities (Link: 1.00000, Lost: 1.00000)\n",
      "[INFO][2023/10/06 11:14:34 PM]  - Stats (Active: 3901, Lost: 3933, Conflicts resolved: 19360)\n",
      "[INFO][2023/10/06 11:14:34 PM] Tracking objects in frames 30 to 39 (of 47)...\n",
      "[INFO][2023/10/06 11:15:09 PM]  - Timing (Bayesian updates: 3322.59ms, Linking: 27.42ms)\n",
      "[INFO][2023/10/06 11:15:09 PM]  - Probabilities (Link: 1.00000, Lost: 1.00000)\n",
      "[INFO][2023/10/06 11:15:09 PM] SUCCESS.\n",
      "[INFO][2023/10/06 11:15:09 PM]  - Found 8772 tracks in 47 frames (in 0.0s)\n",
      "[INFO][2023/10/06 11:15:10 PM]  - Inserted 4701 dummy objects to fill tracking gaps\n",
      "[INFO][2023/10/06 11:15:10 PM] Loading hypothesis model: particle_hypothesis\n",
      "[INFO][2023/10/06 11:15:10 PM] Calculating hypotheses (relax: True)...\n",
      "[INFO][2023/10/06 11:15:10 PM] Setting up constraints matrix for global optimisation...\n",
      "[INFO][2023/10/06 11:15:10 PM] Using GLPK options: {'tm_lim': 60000}...\n",
      "[INFO][2023/10/06 11:15:11 PM] Optimizing...\n",
      "[INFO][2023/10/06 11:15:12 PM] Optimization complete. (Solution: optimal)\n",
      "[INFO][2023/10/06 11:15:12 PM]  - Fates.FALSE_POSITIVE: 2213 (of 8772)\n",
      "[INFO][2023/10/06 11:15:12 PM]  - Fates.LINK: 88 (of 117)\n",
      "[INFO][2023/10/06 11:15:12 PM]  - Fates.INITIALIZE_BORDER: 239 (of 282)\n",
      "[INFO][2023/10/06 11:15:12 PM]  - Fates.INITIALIZE_LAZY: 6232 (of 8490)\n",
      "[INFO][2023/10/06 11:15:12 PM]  - Fates.TERMINATE_BORDER: 140 (of 176)\n",
      "[INFO][2023/10/06 11:15:12 PM]  - Fates.TERMINATE_BACK: 2490 (of 2680)\n",
      "[INFO][2023/10/06 11:15:12 PM]  - Fates.TERMINATE_LAZY: 3841 (of 5916)\n",
      "[INFO][2023/10/06 11:15:12 PM]  - TOTAL: 26433 hypotheses\n",
      "[INFO][2023/10/06 11:15:12 PM] Completed optimization with 8684 tracks\n"
     ]
    },
    {
     "name": "stdout",
     "output_type": "stream",
     "text": [
      "GLPK Integer Optimizer 5.0\n",
      "35088 rows, 26433 columns, 35322 non-zeros\n",
      "26433 integer variables, all of which are binary\n",
      "Preprocessing...\n",
      "17544 rows, 26433 columns, 35322 non-zeros\n",
      "26433 integer variables, all of which are binary\n",
      "Scaling...\n",
      " A: min|aij| =  1.000e+00  max|aij| =  1.000e+00  ratio =  1.000e+00\n",
      "Problem data seem to be well scaled\n",
      "Constructing initial basis...\n",
      "Size of triangular part is 17544\n",
      "Solving LP relaxation...\n",
      "GLPK Simplex Optimizer 5.0\n",
      "17544 rows, 26433 columns, 35322 non-zeros\n",
      "*     0: obj =   9.834256928e+04 inf =   0.000e+00 (2414)\n",
      "*  2442: obj =   8.014262097e+04 inf =   0.000e+00 (0)\n",
      "OPTIMAL LP SOLUTION FOUND\n",
      "Integer optimization begins...\n",
      "Long-step dual simplex will be used\n",
      "+  2442: mip =     not found yet >=              -inf        (1; 0)\n",
      "+  2442: >>>>>   8.014262097e+04 >=   8.014262097e+04   0.0% (1; 0)\n",
      "+  2442: mip =   8.014262097e+04 >=     tree is empty   0.0% (0; 1)\n",
      "INTEGER OPTIMAL SOLUTION FOUND\n"
     ]
    },
    {
     "name": "stderr",
     "output_type": "stream",
     "text": [
      "[INFO][2023/10/06 11:15:12 PM] Ending BayesianTracker session\n",
      "[INFO][2023/10/06 11:15:12 PM] Opening HDF file: /home/dayn/data/homuncu_loc_temp/seperate_tracks/iAT1_iAT2_experiments/DAPI_NKX21_PDPN_ZO1/sc_analyses/20230801_20X_23-03-002B5_DAPI_NKX2-1_PDPN_ZO-1_Multichannel Z-Stack_20230801_1447_iat2.h5...\n",
      "[INFO][2023/10/06 11:15:14 PM] Writing objects/obj_type_2\n",
      "[INFO][2023/10/06 11:15:14 PM] Writing labels/obj_type_2\n",
      "[INFO][2023/10/06 11:15:14 PM] Loading objects/obj_type_2 (105037, 5) (105037 filtered: None)\n",
      "[INFO][2023/10/06 11:15:14 PM] Writing properties/obj_type_2/axis_major_length (105037,)\n",
      "[INFO][2023/10/06 11:15:14 PM] Writing properties/obj_type_2/axis_minor_length (105037,)\n",
      "[INFO][2023/10/06 11:15:15 PM] Writing properties/obj_type_2/eccentricity (105037,)\n",
      "[INFO][2023/10/06 11:15:15 PM] Writing properties/obj_type_2/area (105037,)\n",
      "[INFO][2023/10/06 11:15:15 PM] Writing properties/obj_type_2/orientation (105037,)\n",
      "[INFO][2023/10/06 11:15:15 PM] Writing properties/obj_type_2/mean_intensity (105037, 4)\n",
      "[INFO][2023/10/06 11:15:15 PM] Writing properties/obj_type_2/class_id (105037,)\n",
      "[INFO][2023/10/06 11:15:15 PM] Writing properties/obj_type_2/mtb_status (105037,)\n",
      "[INFO][2023/10/06 11:15:15 PM] Writing properties/obj_type_2/mtb_area (105037,)\n",
      "[INFO][2023/10/06 11:15:15 PM] Writing tracks/obj_type_2\n",
      "[INFO][2023/10/06 11:15:15 PM] Writing dummies/obj_type_2\n",
      "[INFO][2023/10/06 11:15:15 PM] Writing LBEP/obj_type_2\n",
      "[INFO][2023/10/06 11:15:15 PM] Writing fates/obj_type_2\n",
      "[INFO][2023/10/06 11:15:19 PM] Closing HDF file: /home/dayn/data/homuncu_loc_temp/seperate_tracks/iAT1_iAT2_experiments/DAPI_NKX21_PDPN_ZO1/sc_analyses/20230801_20X_23-03-002B5_DAPI_NKX2-1_PDPN_ZO-1_Multichannel Z-Stack_20230801_1447_iat2.h5\n"
     ]
    },
    {
     "data": {
      "application/vnd.jupyter.widget-view+json": {
       "model_id": "8a7b06107c724a718240450f93a61cd0",
       "version_major": 2,
       "version_minor": 0
      },
      "text/plain": [
       "finding where segmentation channel is expressed in Z:   0%|          | 0/61 [00:00<?, ?it/s]"
      ]
     },
     "metadata": {},
     "output_type": "display_data"
    },
    {
     "data": {
      "application/vnd.jupyter.widget-view+json": {
       "model_id": "2ea53b230b9e40be87274bbaa8318f0d",
       "version_major": 2,
       "version_minor": 0
      },
      "text/plain": [
       "segmenting over select frames:   0%|          | 0/39 [00:00<?, ?it/s]"
      ]
     },
     "metadata": {},
     "output_type": "display_data"
    },
    {
     "name": "stderr",
     "output_type": "stream",
     "text": [
      "[INFO][2023/10/07 12:16:15 AM] Localizing objects from segmentation...\n"
     ]
    },
    {
     "name": "stdout",
     "output_type": "stream",
     "text": [
      "Update sms failed to send\n"
     ]
    },
    {
     "name": "stderr",
     "output_type": "stream",
     "text": [
      "progress: 100%|███████████████████████████████████████████████████████████████████████████████████████████████████████████████████████████████████████████| 61/61 [00:41<00:00,  1.48it/s]\n",
      "[INFO][2023/10/07 12:16:56 AM] Objects are of type: <class 'dict'>\n",
      "[INFO][2023/10/07 12:16:57 AM] ...Found 110634 objects in 50 frames.\n"
     ]
    },
    {
     "data": {
      "application/vnd.jupyter.widget-view+json": {
       "model_id": "9b5fff6952904bcaa4b301e089972cd7",
       "version_major": 2,
       "version_minor": 0
      },
      "text/plain": [
       "Measuring Mtb properties of each cell:   0%|          | 0/110634 [00:00<?, ?it/s]"
      ]
     },
     "metadata": {},
     "output_type": "display_data"
    },
    {
     "name": "stderr",
     "output_type": "stream",
     "text": [
      "[INFO][2023/10/07 12:39:56 AM] Loaded btrack: /home/dayn/analysis/btrack/btrack/libs/libtracker.so\n",
      "[INFO][2023/10/07 12:39:56 AM] Starting BayesianTracker session\n",
      "[INFO][2023/10/07 12:39:56 AM] Loading configuration file: /home/dayn/analysis/models/loc.json\n",
      "[INFO][2023/10/07 12:39:56 AM] Objects are of type: <class 'list'>\n",
      "[INFO][2023/10/07 12:39:59 AM] Starting tracking... \n",
      "[INFO][2023/10/07 12:39:59 AM] Update using: ['MOTION', 'VISUAL']\n",
      "[INFO][2023/10/07 12:40:06 AM] Tracking objects in frames 0 to 9 (of 50)...\n",
      "[INFO][2023/10/07 12:43:20 AM]  - Timing (Bayesian updates: 15270.51ms, Linking: 43.51ms)\n",
      "[INFO][2023/10/07 12:43:20 AM]  - Probabilities (Link: 1.00000, Lost: 0.52768)\n",
      "[INFO][2023/10/07 12:43:20 AM]  - Stats (Active: 3660, Lost: 303, Conflicts resolved: 2929)\n",
      "[INFO][2023/10/07 12:43:20 AM] Tracking objects in frames 10 to 19 (of 50)...\n",
      "[INFO][2023/10/07 12:51:06 AM]  - Timing (Bayesian updates: 22601.71ms, Linking: 53.63ms)\n",
      "[INFO][2023/10/07 12:51:06 AM]  - Probabilities (Link: 1.00000, Lost: 0.99769)\n",
      "[INFO][2023/10/07 12:51:06 AM]  - Stats (Active: 4416, Lost: 1074, Conflicts resolved: 9353)\n",
      "[INFO][2023/10/07 12:51:06 AM] Tracking objects in frames 20 to 29 (of 50)...\n",
      "[INFO][2023/10/07 12:56:55 AM]  - Timing (Bayesian updates: 7742.05ms, Linking: 34.58ms)\n",
      "[INFO][2023/10/07 12:56:55 AM]  - Probabilities (Link: 0.99999, Lost: 0.82570)\n",
      "[INFO][2023/10/07 12:56:55 AM]  - Stats (Active: 3705, Lost: 3085, Conflicts resolved: 16868)\n",
      "[INFO][2023/10/07 12:56:55 AM] Tracking objects in frames 30 to 39 (of 50)...\n",
      "[INFO][2023/10/07 12:57:59 AM]  - Timing (Bayesian updates: 1997.03ms, Linking: 19.90ms)\n",
      "[INFO][2023/10/07 12:57:59 AM]  - Probabilities (Link: 0.99734, Lost: 0.78044)\n",
      "[INFO][2023/10/07 12:57:59 AM] SUCCESS.\n",
      "[INFO][2023/10/07 12:57:59 AM]  - Found 8395 tracks in 50 frames (in 0.0s)\n",
      "[INFO][2023/10/07 12:57:59 AM]  - Inserted 4353 dummy objects to fill tracking gaps\n",
      "[INFO][2023/10/07 12:57:59 AM] Loading hypothesis model: particle_hypothesis\n",
      "[INFO][2023/10/07 12:57:59 AM] Calculating hypotheses (relax: True)...\n",
      "[INFO][2023/10/07 12:58:00 AM] Setting up constraints matrix for global optimisation...\n",
      "[INFO][2023/10/07 12:58:00 AM] Using GLPK options: {'tm_lim': 60000}...\n",
      "[INFO][2023/10/07 12:58:01 AM] Optimizing...\n",
      "[INFO][2023/10/07 12:58:02 AM] Optimization complete. (Solution: optimal)\n",
      "[INFO][2023/10/07 12:58:02 AM]  - Fates.FALSE_POSITIVE: 2161 (of 8395)\n",
      "[INFO][2023/10/07 12:58:02 AM]  - Fates.LINK: 86 (of 121)\n",
      "[INFO][2023/10/07 12:58:02 AM]  - Fates.INITIALIZE_BORDER: 219 (of 264)\n",
      "[INFO][2023/10/07 12:58:02 AM]  - Fates.INITIALIZE_LAZY: 5929 (of 8131)\n",
      "[INFO][2023/10/07 12:58:02 AM]  - Fates.TERMINATE_BORDER: 144 (of 183)\n",
      "[INFO][2023/10/07 12:58:02 AM]  - Fates.TERMINATE_BACK: 2028 (of 2220)\n",
      "[INFO][2023/10/07 12:58:02 AM]  - Fates.TERMINATE_LAZY: 3976 (of 5992)\n",
      "[INFO][2023/10/07 12:58:02 AM]  - TOTAL: 25306 hypotheses\n",
      "[INFO][2023/10/07 12:58:02 AM] Completed optimization with 8309 tracks\n"
     ]
    },
    {
     "name": "stdout",
     "output_type": "stream",
     "text": [
      "GLPK Integer Optimizer 5.0\n",
      "33580 rows, 25306 columns, 33822 non-zeros\n",
      "25306 integer variables, all of which are binary\n",
      "Preprocessing...\n",
      "16790 rows, 25306 columns, 33822 non-zeros\n",
      "25306 integer variables, all of which are binary\n",
      "Scaling...\n",
      " A: min|aij| =  1.000e+00  max|aij| =  1.000e+00  ratio =  1.000e+00\n",
      "Problem data seem to be well scaled\n",
      "Constructing initial basis...\n",
      "Size of triangular part is 16790\n",
      "Solving LP relaxation...\n",
      "GLPK Simplex Optimizer 5.0\n",
      "16790 rows, 25306 columns, 33822 non-zeros\n",
      "*     0: obj =   9.625063605e+04 inf =   0.000e+00 (2369)\n",
      "*  2404: obj =   7.827875920e+04 inf =   0.000e+00 (0)\n",
      "OPTIMAL LP SOLUTION FOUND\n",
      "Integer optimization begins...\n",
      "Long-step dual simplex will be used\n",
      "+  2404: mip =     not found yet >=              -inf        (1; 0)\n",
      "+  2404: >>>>>   7.827875920e+04 >=   7.827875920e+04   0.0% (1; 0)\n",
      "+  2404: mip =   7.827875920e+04 >=     tree is empty   0.0% (0; 1)\n",
      "INTEGER OPTIMAL SOLUTION FOUND\n"
     ]
    },
    {
     "name": "stderr",
     "output_type": "stream",
     "text": [
      "[INFO][2023/10/07 12:58:03 AM] Ending BayesianTracker session\n",
      "[INFO][2023/10/07 12:58:03 AM] Opening HDF file: /home/dayn/data/homuncu_loc_temp/seperate_tracks/iAT1_iAT2_experiments/DAPI_NKX21_PDPN_ZO1/sc_analyses/20230801_20X_23-03-002B5_DAPI_NKX2-1_PDPN_ZO-1_Multichannel Z-Stack_20230801_1448_iat2.h5...\n",
      "[INFO][2023/10/07 12:58:04 AM] Writing objects/obj_type_2\n",
      "[INFO][2023/10/07 12:58:04 AM] Writing labels/obj_type_2\n",
      "[INFO][2023/10/07 12:58:04 AM] Loading objects/obj_type_2 (101101, 5) (101101 filtered: None)\n",
      "[INFO][2023/10/07 12:58:05 AM] Writing properties/obj_type_2/axis_major_length (101101,)\n",
      "[INFO][2023/10/07 12:58:05 AM] Writing properties/obj_type_2/axis_minor_length (101101,)\n",
      "[INFO][2023/10/07 12:58:05 AM] Writing properties/obj_type_2/eccentricity (101101,)\n",
      "[INFO][2023/10/07 12:58:05 AM] Writing properties/obj_type_2/area (101101,)\n",
      "[INFO][2023/10/07 12:58:05 AM] Writing properties/obj_type_2/orientation (101101,)\n",
      "[INFO][2023/10/07 12:58:05 AM] Writing properties/obj_type_2/mean_intensity (101101, 4)\n",
      "[INFO][2023/10/07 12:58:05 AM] Writing properties/obj_type_2/class_id (101101,)\n",
      "[INFO][2023/10/07 12:58:05 AM] Writing properties/obj_type_2/mtb_status (101101,)\n",
      "[INFO][2023/10/07 12:58:05 AM] Writing properties/obj_type_2/mtb_area (101101,)\n",
      "[INFO][2023/10/07 12:58:05 AM] Writing tracks/obj_type_2\n",
      "[INFO][2023/10/07 12:58:05 AM] Writing dummies/obj_type_2\n",
      "[INFO][2023/10/07 12:58:05 AM] Writing LBEP/obj_type_2\n",
      "[INFO][2023/10/07 12:58:05 AM] Writing fates/obj_type_2\n",
      "[INFO][2023/10/07 12:58:09 AM] Closing HDF file: /home/dayn/data/homuncu_loc_temp/seperate_tracks/iAT1_iAT2_experiments/DAPI_NKX21_PDPN_ZO1/sc_analyses/20230801_20X_23-03-002B5_DAPI_NKX2-1_PDPN_ZO-1_Multichannel Z-Stack_20230801_1448_iat2.h5\n"
     ]
    },
    {
     "data": {
      "application/vnd.jupyter.widget-view+json": {
       "model_id": "cb9a674811904b48a5e21810eb459f32",
       "version_major": 2,
       "version_minor": 0
      },
      "text/plain": [
       "finding where segmentation channel is expressed in Z:   0%|          | 0/61 [00:00<?, ?it/s]"
      ]
     },
     "metadata": {},
     "output_type": "display_data"
    },
    {
     "data": {
      "application/vnd.jupyter.widget-view+json": {
       "model_id": "9b4e6709843a4f789ec0741d2480f4fc",
       "version_major": 2,
       "version_minor": 0
      },
      "text/plain": [
       "segmenting over select frames:   0%|          | 0/22 [00:00<?, ?it/s]"
      ]
     },
     "metadata": {},
     "output_type": "display_data"
    },
    {
     "name": "stderr",
     "output_type": "stream",
     "text": [
      "[INFO][2023/10/07 01:58:30 AM] Localizing objects from segmentation...\n"
     ]
    },
    {
     "name": "stdout",
     "output_type": "stream",
     "text": [
      "Update sms failed to send\n"
     ]
    },
    {
     "name": "stderr",
     "output_type": "stream",
     "text": [
      "progress: 100%|███████████████████████████████████████████████████████████████████████████████████████████████████████████████████████████████████████████| 61/61 [00:02<00:00, 22.14it/s]\n",
      "[INFO][2023/10/07 01:58:33 AM] Objects are of type: <class 'dict'>\n",
      "[INFO][2023/10/07 01:58:33 AM] ...Found 665 objects in 35 frames.\n"
     ]
    },
    {
     "data": {
      "application/vnd.jupyter.widget-view+json": {
       "model_id": "07d8e2708ae74b52adb5423399ec73fc",
       "version_major": 2,
       "version_minor": 0
      },
      "text/plain": [
       "Measuring Mtb properties of each cell:   0%|          | 0/665 [00:00<?, ?it/s]"
      ]
     },
     "metadata": {},
     "output_type": "display_data"
    },
    {
     "name": "stderr",
     "output_type": "stream",
     "text": [
      "[INFO][2023/10/07 01:58:42 AM] Loaded btrack: /home/dayn/analysis/btrack/btrack/libs/libtracker.so\n",
      "[INFO][2023/10/07 01:58:42 AM] Starting BayesianTracker session\n",
      "[INFO][2023/10/07 01:58:42 AM] Loading configuration file: /home/dayn/analysis/models/loc.json\n",
      "[INFO][2023/10/07 01:58:42 AM] Objects are of type: <class 'list'>\n",
      "[INFO][2023/10/07 01:58:42 AM] Starting tracking... \n",
      "[INFO][2023/10/07 01:58:42 AM] Update using: ['MOTION', 'VISUAL']\n",
      "[INFO][2023/10/07 01:58:42 AM] Tracking objects in frames 0 to 9 (of 35)...\n",
      "[INFO][2023/10/07 01:58:42 AM]  - Timing (Bayesian updates: 0.10ms, Linking: 0.46ms)\n",
      "[INFO][2023/10/07 01:58:42 AM]  - Probabilities (Link: 1.00000, Lost: 1.00000)\n",
      "[INFO][2023/10/07 01:58:42 AM]  - Stats (Active: 93, Lost: 1006, Conflicts resolved: 62)\n",
      "[INFO][2023/10/07 01:58:42 AM] Tracking objects in frames 10 to 19 (of 35)...\n",
      "[INFO][2023/10/07 01:58:42 AM]  - Timing (Bayesian updates: 0.00ms, Linking: 0.04ms)\n",
      "[INFO][2023/10/07 01:58:42 AM]  - Probabilities (Link: 1.00000, Lost: 1.00000)\n",
      "[INFO][2023/10/07 01:58:42 AM] SUCCESS.\n",
      "[INFO][2023/10/07 01:58:42 AM]  - Found 216 tracks in 35 frames (in 0.0s)\n",
      "[INFO][2023/10/07 01:58:42 AM]  - Inserted 81 dummy objects to fill tracking gaps\n",
      "[INFO][2023/10/07 01:58:42 AM] Loading hypothesis model: particle_hypothesis\n",
      "[INFO][2023/10/07 01:58:42 AM] Calculating hypotheses (relax: True)...\n",
      "[INFO][2023/10/07 01:58:42 AM] Setting up constraints matrix for global optimisation...\n",
      "[INFO][2023/10/07 01:58:42 AM] Using GLPK options: {'tm_lim': 60000}...\n",
      "[INFO][2023/10/07 01:58:42 AM] Optimizing...\n",
      "[INFO][2023/10/07 01:58:42 AM] Optimization complete. (Solution: optimal)\n",
      "[INFO][2023/10/07 01:58:42 AM]  - Fates.FALSE_POSITIVE: 177 (of 216)\n",
      "[INFO][2023/10/07 01:58:42 AM]  - Fates.INITIALIZE_BORDER: 0 (of 1)\n",
      "[INFO][2023/10/07 01:58:42 AM]  - Fates.INITIALIZE_LAZY: 39 (of 215)\n",
      "[INFO][2023/10/07 01:58:42 AM]  - Fates.TERMINATE_BORDER: 0 (of 1)\n",
      "[INFO][2023/10/07 01:58:42 AM]  - Fates.TERMINATE_BACK: 2 (of 2)\n",
      "[INFO][2023/10/07 01:58:42 AM]  - Fates.TERMINATE_LAZY: 37 (of 213)\n",
      "[INFO][2023/10/07 01:58:42 AM]  - TOTAL: 648 hypotheses\n",
      "[INFO][2023/10/07 01:58:42 AM] Completed optimization with 216 tracks\n"
     ]
    },
    {
     "name": "stdout",
     "output_type": "stream",
     "text": [
      "GLPK Integer Optimizer 5.0\n",
      "864 rows, 648 columns, 864 non-zeros\n",
      "648 integer variables, all of which are binary\n",
      "Preprocessing...\n",
      "432 rows, 648 columns, 864 non-zeros\n",
      "648 integer variables, all of which are binary\n",
      "Scaling...\n",
      " A: min|aij| =  1.000e+00  max|aij| =  1.000e+00  ratio =  1.000e+00\n",
      "Problem data seem to be well scaled\n",
      "Constructing initial basis...\n",
      "Size of triangular part is 432\n",
      "Solving LP relaxation...\n",
      "GLPK Simplex Optimizer 5.0\n",
      "432 rows, 648 columns, 864 non-zeros\n",
      "*     0: obj =   2.877111368e+03 inf =   0.000e+00 (177)\n",
      "*   177: obj =   1.347910233e+03 inf =   0.000e+00 (0)\n",
      "OPTIMAL LP SOLUTION FOUND\n",
      "Integer optimization begins...\n",
      "Long-step dual simplex will be used\n",
      "+   177: mip =     not found yet >=              -inf        (1; 0)\n",
      "+   177: >>>>>   1.347910233e+03 >=   1.347910233e+03   0.0% (1; 0)\n",
      "+   177: mip =   1.347910233e+03 >=     tree is empty   0.0% (0; 1)\n",
      "INTEGER OPTIMAL SOLUTION FOUND\n"
     ]
    },
    {
     "name": "stderr",
     "output_type": "stream",
     "text": [
      "[INFO][2023/10/07 01:58:42 AM] Ending BayesianTracker session\n",
      "[INFO][2023/10/07 01:58:42 AM] Opening HDF file: /home/dayn/data/homuncu_loc_temp/seperate_tracks/iAT1_iAT2_experiments/DAPI_SPC_PDPN_ZO1/sc_analyses/20230801_20X_23-03-002B6_DAPI_SP-C_PDPN_ZO-1_Multichannel Z-Stack_20230801_1449_iat2.h5...\n",
      "[INFO][2023/10/07 01:58:43 AM] Writing objects/obj_type_2\n",
      "[INFO][2023/10/07 01:58:43 AM] Writing labels/obj_type_2\n",
      "[INFO][2023/10/07 01:58:43 AM] Loading objects/obj_type_2 (617, 5) (617 filtered: None)\n",
      "[INFO][2023/10/07 01:58:43 AM] Writing properties/obj_type_2/axis_major_length (617,)\n",
      "[INFO][2023/10/07 01:58:43 AM] Writing properties/obj_type_2/axis_minor_length (617,)\n",
      "[INFO][2023/10/07 01:58:43 AM] Writing properties/obj_type_2/eccentricity (617,)\n",
      "[INFO][2023/10/07 01:58:43 AM] Writing properties/obj_type_2/area (617,)\n",
      "[INFO][2023/10/07 01:58:43 AM] Writing properties/obj_type_2/orientation (617,)\n",
      "[INFO][2023/10/07 01:58:43 AM] Writing properties/obj_type_2/mean_intensity (617, 4)\n",
      "[INFO][2023/10/07 01:58:43 AM] Writing properties/obj_type_2/class_id (617,)\n",
      "[INFO][2023/10/07 01:58:43 AM] Writing properties/obj_type_2/mtb_status (617,)\n",
      "[INFO][2023/10/07 01:58:43 AM] Writing properties/obj_type_2/mtb_area (617,)\n",
      "[INFO][2023/10/07 01:58:43 AM] Writing tracks/obj_type_2\n",
      "[INFO][2023/10/07 01:58:43 AM] Writing dummies/obj_type_2\n",
      "[INFO][2023/10/07 01:58:43 AM] Writing LBEP/obj_type_2\n",
      "[INFO][2023/10/07 01:58:43 AM] Writing fates/obj_type_2\n",
      "[INFO][2023/10/07 01:58:45 AM] Closing HDF file: /home/dayn/data/homuncu_loc_temp/seperate_tracks/iAT1_iAT2_experiments/DAPI_SPC_PDPN_ZO1/sc_analyses/20230801_20X_23-03-002B6_DAPI_SP-C_PDPN_ZO-1_Multichannel Z-Stack_20230801_1449_iat2.h5\n"
     ]
    },
    {
     "data": {
      "application/vnd.jupyter.widget-view+json": {
       "model_id": "5c0b38c7ed7c4e2da20b54212398700f",
       "version_major": 2,
       "version_minor": 0
      },
      "text/plain": [
       "finding where segmentation channel is expressed in Z:   0%|          | 0/61 [00:00<?, ?it/s]"
      ]
     },
     "metadata": {},
     "output_type": "display_data"
    },
    {
     "data": {
      "application/vnd.jupyter.widget-view+json": {
       "model_id": "95cc8a93fc184bfaba298dbfafd47f52",
       "version_major": 2,
       "version_minor": 0
      },
      "text/plain": [
       "segmenting over select frames:   0%|          | 0/22 [00:00<?, ?it/s]"
      ]
     },
     "metadata": {},
     "output_type": "display_data"
    },
    {
     "name": "stderr",
     "output_type": "stream",
     "text": [
      "[INFO][2023/10/07 03:02:16 AM] Localizing objects from segmentation...\n"
     ]
    },
    {
     "name": "stdout",
     "output_type": "stream",
     "text": [
      "Update sms failed to send\n"
     ]
    },
    {
     "name": "stderr",
     "output_type": "stream",
     "text": [
      "progress: 100%|███████████████████████████████████████████████████████████████████████████████████████████████████████████████████████████████████████████| 61/61 [00:01<00:00, 34.27it/s]\n",
      "[INFO][2023/10/07 03:02:18 AM] Objects are of type: <class 'dict'>\n",
      "[INFO][2023/10/07 03:02:18 AM] ...Found 374 objects in 32 frames.\n"
     ]
    },
    {
     "data": {
      "application/vnd.jupyter.widget-view+json": {
       "model_id": "0cdadf20f5154c568deac744361350f8",
       "version_major": 2,
       "version_minor": 0
      },
      "text/plain": [
       "Measuring Mtb properties of each cell:   0%|          | 0/374 [00:00<?, ?it/s]"
      ]
     },
     "metadata": {},
     "output_type": "display_data"
    },
    {
     "name": "stderr",
     "output_type": "stream",
     "text": [
      "[INFO][2023/10/07 03:02:23 AM] Loaded btrack: /home/dayn/analysis/btrack/btrack/libs/libtracker.so\n",
      "[INFO][2023/10/07 03:02:23 AM] Starting BayesianTracker session\n",
      "[INFO][2023/10/07 03:02:23 AM] Loading configuration file: /home/dayn/analysis/models/loc.json\n",
      "[INFO][2023/10/07 03:02:23 AM] Objects are of type: <class 'list'>\n",
      "[INFO][2023/10/07 03:02:23 AM] Starting tracking... \n",
      "[INFO][2023/10/07 03:02:23 AM] Update using: ['MOTION', 'VISUAL']\n",
      "[INFO][2023/10/07 03:02:23 AM] Tracking objects in frames 0 to 9 (of 32)...\n",
      "[INFO][2023/10/07 03:02:24 AM]  - Timing (Bayesian updates: 0.03ms, Linking: 0.19ms)\n",
      "[INFO][2023/10/07 03:02:24 AM]  - Probabilities (Link: 1.00000, Lost: 1.00000)\n",
      "[INFO][2023/10/07 03:02:24 AM]  - Stats (Active: 49, Lost: 706, Conflicts resolved: 28)\n",
      "[INFO][2023/10/07 03:02:24 AM] Tracking objects in frames 10 to 19 (of 32)...\n",
      "[INFO][2023/10/07 03:02:24 AM]  - Timing (Bayesian updates: 0.01ms, Linking: 0.10ms)\n",
      "[INFO][2023/10/07 03:02:24 AM]  - Probabilities (Link: 1.00000, Lost: 1.00000)\n",
      "[INFO][2023/10/07 03:02:24 AM] SUCCESS.\n",
      "[INFO][2023/10/07 03:02:24 AM]  - Found 139 tracks in 32 frames (in 0.0s)\n",
      "[INFO][2023/10/07 03:02:24 AM]  - Inserted 51 dummy objects to fill tracking gaps\n",
      "[INFO][2023/10/07 03:02:24 AM] Loading hypothesis model: particle_hypothesis\n",
      "[INFO][2023/10/07 03:02:24 AM] Calculating hypotheses (relax: True)...\n",
      "[INFO][2023/10/07 03:02:24 AM] Setting up constraints matrix for global optimisation...\n",
      "[INFO][2023/10/07 03:02:24 AM] Using GLPK options: {'tm_lim': 60000}...\n",
      "[INFO][2023/10/07 03:02:24 AM] Optimizing...\n",
      "[INFO][2023/10/07 03:02:24 AM] Optimization complete. (Solution: optimal)\n",
      "[INFO][2023/10/07 03:02:24 AM]  - Fates.FALSE_POSITIVE: 119 (of 139)\n",
      "[INFO][2023/10/07 03:02:24 AM]  - Fates.INITIALIZE_BORDER: 1 (of 5)\n",
      "[INFO][2023/10/07 03:02:24 AM]  - Fates.INITIALIZE_LAZY: 19 (of 134)\n",
      "[INFO][2023/10/07 03:02:24 AM]  - Fates.TERMINATE_BORDER: 1 (of 5)\n",
      "[INFO][2023/10/07 03:02:24 AM]  - Fates.TERMINATE_BACK: 7 (of 17)\n",
      "[INFO][2023/10/07 03:02:24 AM]  - Fates.TERMINATE_LAZY: 12 (of 117)\n",
      "[INFO][2023/10/07 03:02:24 AM]  - TOTAL: 417 hypotheses\n",
      "[INFO][2023/10/07 03:02:24 AM] Completed optimization with 139 tracks\n",
      "[INFO][2023/10/07 03:02:24 AM] Ending BayesianTracker session\n",
      "[INFO][2023/10/07 03:02:24 AM] Opening HDF file: /home/dayn/data/homuncu_loc_temp/seperate_tracks/iAT1_iAT2_experiments/DAPI_SPC_PDPN_ZO1/sc_analyses/20230801_20X_23-03-002B6_DAPI_SP-C_PDPN_ZO-1_Multichannel Z-Stack_20230801_1450_iat2.h5...\n",
      "[INFO][2023/10/07 03:02:24 AM] Writing objects/obj_type_2\n",
      "[INFO][2023/10/07 03:02:24 AM] Writing labels/obj_type_2\n",
      "[INFO][2023/10/07 03:02:24 AM] Loading objects/obj_type_2 (347, 5) (347 filtered: None)\n",
      "[INFO][2023/10/07 03:02:24 AM] Writing properties/obj_type_2/axis_major_length (347,)\n",
      "[INFO][2023/10/07 03:02:24 AM] Writing properties/obj_type_2/axis_minor_length (347,)\n",
      "[INFO][2023/10/07 03:02:24 AM] Writing properties/obj_type_2/eccentricity (347,)\n",
      "[INFO][2023/10/07 03:02:24 AM] Writing properties/obj_type_2/area (347,)\n",
      "[INFO][2023/10/07 03:02:24 AM] Writing properties/obj_type_2/orientation (347,)\n",
      "[INFO][2023/10/07 03:02:24 AM] Writing properties/obj_type_2/mean_intensity (347, 4)\n",
      "[INFO][2023/10/07 03:02:24 AM] Writing properties/obj_type_2/class_id (347,)\n",
      "[INFO][2023/10/07 03:02:24 AM] Writing properties/obj_type_2/mtb_status (347,)\n",
      "[INFO][2023/10/07 03:02:24 AM] Writing properties/obj_type_2/mtb_area (347,)\n",
      "[INFO][2023/10/07 03:02:24 AM] Writing tracks/obj_type_2\n",
      "[INFO][2023/10/07 03:02:24 AM] Writing dummies/obj_type_2\n",
      "[INFO][2023/10/07 03:02:24 AM] Writing LBEP/obj_type_2\n",
      "[INFO][2023/10/07 03:02:24 AM] Writing fates/obj_type_2\n"
     ]
    },
    {
     "name": "stdout",
     "output_type": "stream",
     "text": [
      "GLPK Integer Optimizer 5.0\n",
      "556 rows, 417 columns, 556 non-zeros\n",
      "417 integer variables, all of which are binary\n",
      "Preprocessing...\n",
      "278 rows, 417 columns, 556 non-zeros\n",
      "417 integer variables, all of which are binary\n",
      "Scaling...\n",
      " A: min|aij| =  1.000e+00  max|aij| =  1.000e+00  ratio =  1.000e+00\n",
      "Problem data seem to be well scaled\n",
      "Constructing initial basis...\n",
      "Size of triangular part is 278\n",
      "Solving LP relaxation...\n",
      "GLPK Simplex Optimizer 5.0\n",
      "278 rows, 417 columns, 556 non-zeros\n",
      "*     0: obj =   1.737936082e+03 inf =   0.000e+00 (119)\n",
      "*   119: obj =   8.217445911e+02 inf =   0.000e+00 (0)\n",
      "OPTIMAL LP SOLUTION FOUND\n",
      "Integer optimization begins...\n",
      "Long-step dual simplex will be used\n",
      "+   119: mip =     not found yet >=              -inf        (1; 0)\n",
      "+   119: >>>>>   8.217445911e+02 >=   8.217445911e+02   0.0% (1; 0)\n",
      "+   119: mip =   8.217445911e+02 >=     tree is empty   0.0% (0; 1)\n",
      "INTEGER OPTIMAL SOLUTION FOUND\n"
     ]
    },
    {
     "name": "stderr",
     "output_type": "stream",
     "text": [
      "[INFO][2023/10/07 03:02:26 AM] Closing HDF file: /home/dayn/data/homuncu_loc_temp/seperate_tracks/iAT1_iAT2_experiments/DAPI_SPC_PDPN_ZO1/sc_analyses/20230801_20X_23-03-002B6_DAPI_SP-C_PDPN_ZO-1_Multichannel Z-Stack_20230801_1450_iat2.h5\n"
     ]
    },
    {
     "data": {
      "application/vnd.jupyter.widget-view+json": {
       "model_id": "c2d7923048f947bea27a6b8b8d1f0f46",
       "version_major": 2,
       "version_minor": 0
      },
      "text/plain": [
       "finding where segmentation channel is expressed in Z:   0%|          | 0/61 [00:00<?, ?it/s]"
      ]
     },
     "metadata": {},
     "output_type": "display_data"
    },
    {
     "data": {
      "application/vnd.jupyter.widget-view+json": {
       "model_id": "eac20c873150421a87b256007efd865a",
       "version_major": 2,
       "version_minor": 0
      },
      "text/plain": [
       "segmenting over select frames:   0%|          | 0/21 [00:00<?, ?it/s]"
      ]
     },
     "metadata": {},
     "output_type": "display_data"
    },
    {
     "name": "stderr",
     "output_type": "stream",
     "text": [
      "[INFO][2023/10/07 04:02:26 AM] Localizing objects from segmentation...\n"
     ]
    },
    {
     "name": "stdout",
     "output_type": "stream",
     "text": [
      "Update sms failed to send\n"
     ]
    },
    {
     "name": "stderr",
     "output_type": "stream",
     "text": [
      "progress: 100%|███████████████████████████████████████████████████████████████████████████████████████████████████████████████████████████████████████████| 61/61 [00:02<00:00, 24.92it/s]\n",
      "[INFO][2023/10/07 04:02:29 AM] Objects are of type: <class 'dict'>\n",
      "[INFO][2023/10/07 04:02:29 AM] ...Found 450 objects in 33 frames.\n"
     ]
    },
    {
     "data": {
      "application/vnd.jupyter.widget-view+json": {
       "model_id": "985c6c6a7db242cb83c4a68c99b9f151",
       "version_major": 2,
       "version_minor": 0
      },
      "text/plain": [
       "Measuring Mtb properties of each cell:   0%|          | 0/450 [00:00<?, ?it/s]"
      ]
     },
     "metadata": {},
     "output_type": "display_data"
    },
    {
     "name": "stderr",
     "output_type": "stream",
     "text": [
      "[INFO][2023/10/07 04:02:35 AM] Loaded btrack: /home/dayn/analysis/btrack/btrack/libs/libtracker.so\n",
      "[INFO][2023/10/07 04:02:35 AM] Starting BayesianTracker session\n",
      "[INFO][2023/10/07 04:02:35 AM] Loading configuration file: /home/dayn/analysis/models/loc.json\n",
      "[INFO][2023/10/07 04:02:35 AM] Objects are of type: <class 'list'>\n",
      "[INFO][2023/10/07 04:02:35 AM] Starting tracking... \n",
      "[INFO][2023/10/07 04:02:35 AM] Update using: ['MOTION', 'VISUAL']\n",
      "[INFO][2023/10/07 04:02:35 AM] Tracking objects in frames 0 to 9 (of 33)...\n",
      "[INFO][2023/10/07 04:02:35 AM]  - Timing (Bayesian updates: 0.01ms, Linking: 0.10ms)\n",
      "[INFO][2023/10/07 04:02:35 AM]  - Probabilities (Link: 1.00000, Lost: 1.00000)\n",
      "[INFO][2023/10/07 04:02:35 AM]  - Stats (Active: 50, Lost: 798, Conflicts resolved: 37)\n",
      "[INFO][2023/10/07 04:02:35 AM] Tracking objects in frames 10 to 19 (of 33)...\n",
      "[INFO][2023/10/07 04:02:35 AM]  - Timing (Bayesian updates: 0.00ms, Linking: 0.04ms)\n",
      "[INFO][2023/10/07 04:02:35 AM]  - Probabilities (Link: 1.00000, Lost: 1.00000)\n",
      "[INFO][2023/10/07 04:02:35 AM] SUCCESS.\n",
      "[INFO][2023/10/07 04:02:35 AM]  - Found 159 tracks in 33 frames (in 0.0s)\n",
      "[INFO][2023/10/07 04:02:35 AM]  - Inserted 56 dummy objects to fill tracking gaps\n",
      "[INFO][2023/10/07 04:02:35 AM] Loading hypothesis model: particle_hypothesis\n",
      "[INFO][2023/10/07 04:02:35 AM] Calculating hypotheses (relax: True)...\n",
      "[INFO][2023/10/07 04:02:35 AM] Setting up constraints matrix for global optimisation...\n",
      "[INFO][2023/10/07 04:02:35 AM] Using GLPK options: {'tm_lim': 60000}...\n",
      "[INFO][2023/10/07 04:02:35 AM] Optimizing...\n",
      "[INFO][2023/10/07 04:02:35 AM] Optimization complete. (Solution: optimal)\n",
      "[INFO][2023/10/07 04:02:35 AM]  - Fates.FALSE_POSITIVE: 138 (of 159)\n",
      "[INFO][2023/10/07 04:02:35 AM]  - Fates.INITIALIZE_BORDER: 0 (of 1)\n",
      "[INFO][2023/10/07 04:02:35 AM]  - Fates.INITIALIZE_LAZY: 21 (of 158)\n",
      "[INFO][2023/10/07 04:02:35 AM]  - Fates.TERMINATE_BORDER: 0 (of 1)\n",
      "[INFO][2023/10/07 04:02:35 AM]  - Fates.TERMINATE_BACK: 3 (of 8)\n",
      "[INFO][2023/10/07 04:02:35 AM]  - Fates.TERMINATE_LAZY: 18 (of 150)\n",
      "[INFO][2023/10/07 04:02:35 AM]  - TOTAL: 477 hypotheses\n",
      "[INFO][2023/10/07 04:02:35 AM] Completed optimization with 159 tracks\n",
      "[INFO][2023/10/07 04:02:35 AM] Ending BayesianTracker session\n",
      "[INFO][2023/10/07 04:02:35 AM] Opening HDF file: /home/dayn/data/homuncu_loc_temp/seperate_tracks/iAT1_iAT2_experiments/DAPI_SPC_PDPN_ZO1/sc_analyses/20230801_20X_23-03-002B6_DAPI_SP-C_PDPN_ZO-1_Multichannel Z-Stack_20230801_1451_iat2.h5...\n",
      "[INFO][2023/10/07 04:02:35 AM] Writing objects/obj_type_2\n",
      "[INFO][2023/10/07 04:02:35 AM] Writing labels/obj_type_2\n",
      "[INFO][2023/10/07 04:02:35 AM] Loading objects/obj_type_2 (417, 5) (417 filtered: None)\n",
      "[INFO][2023/10/07 04:02:35 AM] Writing properties/obj_type_2/axis_major_length (417,)\n",
      "[INFO][2023/10/07 04:02:35 AM] Writing properties/obj_type_2/axis_minor_length (417,)\n",
      "[INFO][2023/10/07 04:02:35 AM] Writing properties/obj_type_2/eccentricity (417,)\n",
      "[INFO][2023/10/07 04:02:35 AM] Writing properties/obj_type_2/area (417,)\n",
      "[INFO][2023/10/07 04:02:35 AM] Writing properties/obj_type_2/orientation (417,)\n",
      "[INFO][2023/10/07 04:02:35 AM] Writing properties/obj_type_2/mean_intensity (417, 4)\n",
      "[INFO][2023/10/07 04:02:35 AM] Writing properties/obj_type_2/class_id (417,)\n",
      "[INFO][2023/10/07 04:02:35 AM] Writing properties/obj_type_2/mtb_status (417,)\n",
      "[INFO][2023/10/07 04:02:35 AM] Writing properties/obj_type_2/mtb_area (417,)\n",
      "[INFO][2023/10/07 04:02:35 AM] Writing tracks/obj_type_2\n",
      "[INFO][2023/10/07 04:02:35 AM] Writing dummies/obj_type_2\n",
      "[INFO][2023/10/07 04:02:35 AM] Writing LBEP/obj_type_2\n",
      "[INFO][2023/10/07 04:02:35 AM] Writing fates/obj_type_2\n"
     ]
    },
    {
     "name": "stdout",
     "output_type": "stream",
     "text": [
      "GLPK Integer Optimizer 5.0\n",
      "636 rows, 477 columns, 636 non-zeros\n",
      "477 integer variables, all of which are binary\n",
      "Preprocessing...\n",
      "318 rows, 477 columns, 636 non-zeros\n",
      "477 integer variables, all of which are binary\n",
      "Scaling...\n",
      " A: min|aij| =  1.000e+00  max|aij| =  1.000e+00  ratio =  1.000e+00\n",
      "Problem data seem to be well scaled\n",
      "Constructing initial basis...\n",
      "Size of triangular part is 318\n",
      "Solving LP relaxation...\n",
      "GLPK Simplex Optimizer 5.0\n",
      "318 rows, 477 columns, 636 non-zeros\n",
      "*     0: obj =   2.075449618e+03 inf =   0.000e+00 (138)\n",
      "*   138: obj =   9.471704605e+02 inf =   0.000e+00 (0)\n",
      "OPTIMAL LP SOLUTION FOUND\n",
      "Integer optimization begins...\n",
      "Long-step dual simplex will be used\n",
      "+   138: mip =     not found yet >=              -inf        (1; 0)\n",
      "+   138: >>>>>   9.471704605e+02 >=   9.471704605e+02   0.0% (1; 0)\n",
      "+   138: mip =   9.471704605e+02 >=     tree is empty   0.0% (0; 1)\n",
      "INTEGER OPTIMAL SOLUTION FOUND\n"
     ]
    },
    {
     "name": "stderr",
     "output_type": "stream",
     "text": [
      "[INFO][2023/10/07 04:02:39 AM] Closing HDF file: /home/dayn/data/homuncu_loc_temp/seperate_tracks/iAT1_iAT2_experiments/DAPI_SPC_PDPN_ZO1/sc_analyses/20230801_20X_23-03-002B6_DAPI_SP-C_PDPN_ZO-1_Multichannel Z-Stack_20230801_1451_iat2.h5\n"
     ]
    },
    {
     "data": {
      "application/vnd.jupyter.widget-view+json": {
       "model_id": "5becc1a5a8d9464faabd3c903825d5bc",
       "version_major": 2,
       "version_minor": 0
      },
      "text/plain": [
       "finding where segmentation channel is expressed in Z:   0%|          | 0/90 [00:00<?, ?it/s]"
      ]
     },
     "metadata": {},
     "output_type": "display_data"
    },
    {
     "data": {
      "application/vnd.jupyter.widget-view+json": {
       "model_id": "bf775cb4757446349a37e21fabb1bcff",
       "version_major": 2,
       "version_minor": 0
      },
      "text/plain": [
       "segmenting over select frames:   0%|          | 0/32 [00:00<?, ?it/s]"
      ]
     },
     "metadata": {},
     "output_type": "display_data"
    },
    {
     "name": "stderr",
     "output_type": "stream",
     "text": [
      "[INFO][2023/10/07 05:59:06 AM] Localizing objects from segmentation...\n"
     ]
    },
    {
     "name": "stdout",
     "output_type": "stream",
     "text": [
      "Update sms failed to send\n"
     ]
    },
    {
     "name": "stderr",
     "output_type": "stream",
     "text": [
      "progress: 100%|███████████████████████████████████████████████████████████████████████████████████████████████████████████████████████████████████████████| 90/90 [00:04<00:00, 22.23it/s]\n",
      "[INFO][2023/10/07 05:59:10 AM] Objects are of type: <class 'dict'>\n",
      "[INFO][2023/10/07 05:59:10 AM] ...Found 368 objects in 40 frames.\n"
     ]
    },
    {
     "data": {
      "application/vnd.jupyter.widget-view+json": {
       "model_id": "89545ba87e974accbdd1b7e7eb1b3ac1",
       "version_major": 2,
       "version_minor": 0
      },
      "text/plain": [
       "Measuring Mtb properties of each cell:   0%|          | 0/368 [00:00<?, ?it/s]"
      ]
     },
     "metadata": {},
     "output_type": "display_data"
    },
    {
     "name": "stderr",
     "output_type": "stream",
     "text": [
      "[INFO][2023/10/07 05:59:15 AM] Loaded btrack: /home/dayn/analysis/btrack/btrack/libs/libtracker.so\n",
      "[INFO][2023/10/07 05:59:15 AM] Starting BayesianTracker session\n",
      "[INFO][2023/10/07 05:59:15 AM] Loading configuration file: /home/dayn/analysis/models/loc.json\n",
      "[INFO][2023/10/07 05:59:15 AM] Objects are of type: <class 'list'>\n",
      "[INFO][2023/10/07 05:59:15 AM] Starting tracking... \n",
      "[INFO][2023/10/07 05:59:15 AM] Update using: ['MOTION', 'VISUAL']\n",
      "[INFO][2023/10/07 05:59:15 AM] Tracking objects in frames 0 to 9 (of 40)...\n",
      "[INFO][2023/10/07 05:59:15 AM]  - Timing (Bayesian updates: 0.01ms, Linking: 0.06ms)\n",
      "[INFO][2023/10/07 05:59:15 AM]  - Probabilities (Link: 1.00000, Lost: 1.00000)\n",
      "[INFO][2023/10/07 05:59:15 AM]  - Stats (Active: 10, Lost: 40, Conflicts resolved: 1)\n",
      "[INFO][2023/10/07 05:59:15 AM] Tracking objects in frames 10 to 19 (of 40)...\n",
      "[INFO][2023/10/07 05:59:15 AM]  - Timing (Bayesian updates: 0.07ms, Linking: 0.23ms)\n",
      "[INFO][2023/10/07 05:59:15 AM]  - Probabilities (Link: 1.00000, Lost: 1.00000)\n",
      "[INFO][2023/10/07 05:59:15 AM]  - Stats (Active: 44, Lost: 217, Conflicts resolved: 4)\n",
      "[INFO][2023/10/07 05:59:15 AM] Tracking objects in frames 20 to 29 (of 40)...\n",
      "[INFO][2023/10/07 05:59:15 AM]  - Timing (Bayesian updates: 0.20ms, Linking: 0.45ms)\n",
      "[INFO][2023/10/07 05:59:15 AM]  - Probabilities (Link: 1.00000, Lost: 1.00000)\n",
      "[INFO][2023/10/07 05:59:15 AM] SUCCESS.\n",
      "[INFO][2023/10/07 05:59:15 AM]  - Found 137 tracks in 40 frames (in 0.0s)\n",
      "[INFO][2023/10/07 05:59:15 AM]  - Inserted 13 dummy objects to fill tracking gaps\n",
      "[INFO][2023/10/07 05:59:15 AM] Loading hypothesis model: particle_hypothesis\n",
      "[INFO][2023/10/07 05:59:15 AM] Calculating hypotheses (relax: True)...\n",
      "[INFO][2023/10/07 05:59:15 AM] Setting up constraints matrix for global optimisation...\n",
      "[INFO][2023/10/07 05:59:15 AM] Using GLPK options: {'tm_lim': 60000}...\n",
      "[INFO][2023/10/07 05:59:15 AM] Optimizing...\n",
      "[INFO][2023/10/07 05:59:15 AM] Optimization complete. (Solution: optimal)\n",
      "[INFO][2023/10/07 05:59:15 AM]  - Fates.FALSE_POSITIVE: 112 (of 137)\n",
      "[INFO][2023/10/07 05:59:15 AM]  - Fates.INITIALIZE_BORDER: 1 (of 4)\n",
      "[INFO][2023/10/07 05:59:15 AM]  - Fates.INITIALIZE_LAZY: 24 (of 133)\n",
      "[INFO][2023/10/07 05:59:15 AM]  - Fates.TERMINATE_BORDER: 0 (of 3)\n",
      "[INFO][2023/10/07 05:59:15 AM]  - Fates.TERMINATE_BACK: 18 (of 47)\n",
      "[INFO][2023/10/07 05:59:15 AM]  - Fates.TERMINATE_LAZY: 7 (of 87)\n",
      "[INFO][2023/10/07 05:59:15 AM]  - TOTAL: 411 hypotheses\n",
      "[INFO][2023/10/07 05:59:15 AM] Completed optimization with 137 tracks\n",
      "[INFO][2023/10/07 05:59:15 AM] Ending BayesianTracker session\n",
      "[INFO][2023/10/07 05:59:15 AM] Opening HDF file: /home/dayn/data/homuncu_loc_temp/seperate_tracks/iAT1_iAT2_experiments/DAPI_SPC_PDPN_ZO1/sc_analyses/20230801_60X_23-03-002B6_DAPI_SP-C_PDPN_ZO-1_Multichannel Z-Stack_20230801_1452_iat2.h5...\n",
      "[INFO][2023/10/07 05:59:15 AM] Writing objects/obj_type_2\n",
      "[INFO][2023/10/07 05:59:15 AM] Writing labels/obj_type_2\n",
      "[INFO][2023/10/07 05:59:15 AM] Loading objects/obj_type_2 (337, 5) (337 filtered: None)\n",
      "[INFO][2023/10/07 05:59:15 AM] Writing properties/obj_type_2/axis_major_length (337,)\n",
      "[INFO][2023/10/07 05:59:15 AM] Writing properties/obj_type_2/axis_minor_length (337,)\n",
      "[INFO][2023/10/07 05:59:15 AM] Writing properties/obj_type_2/eccentricity (337,)\n",
      "[INFO][2023/10/07 05:59:15 AM] Writing properties/obj_type_2/area (337,)\n",
      "[INFO][2023/10/07 05:59:15 AM] Writing properties/obj_type_2/orientation (337,)\n",
      "[INFO][2023/10/07 05:59:15 AM] Writing properties/obj_type_2/mean_intensity (337, 4)\n",
      "[INFO][2023/10/07 05:59:15 AM] Writing properties/obj_type_2/class_id (337,)\n",
      "[INFO][2023/10/07 05:59:15 AM] Writing properties/obj_type_2/mtb_status (337,)\n",
      "[INFO][2023/10/07 05:59:15 AM] Writing properties/obj_type_2/mtb_area (337,)\n",
      "[INFO][2023/10/07 05:59:15 AM] Writing tracks/obj_type_2\n",
      "[INFO][2023/10/07 05:59:15 AM] Writing dummies/obj_type_2\n",
      "[INFO][2023/10/07 05:59:15 AM] Writing LBEP/obj_type_2\n",
      "[INFO][2023/10/07 05:59:15 AM] Writing fates/obj_type_2\n"
     ]
    },
    {
     "name": "stdout",
     "output_type": "stream",
     "text": [
      "GLPK Integer Optimizer 5.0\n",
      "548 rows, 411 columns, 548 non-zeros\n",
      "411 integer variables, all of which are binary\n",
      "Preprocessing...\n",
      "274 rows, 411 columns, 548 non-zeros\n",
      "411 integer variables, all of which are binary\n",
      "Scaling...\n",
      " A: min|aij| =  1.000e+00  max|aij| =  1.000e+00  ratio =  1.000e+00\n",
      "Problem data seem to be well scaled\n",
      "Constructing initial basis...\n",
      "Size of triangular part is 274\n",
      "Solving LP relaxation...\n",
      "GLPK Simplex Optimizer 5.0\n",
      "274 rows, 411 columns, 548 non-zeros\n",
      "*     0: obj =   1.523230377e+03 inf =   0.000e+00 (112)\n",
      "*   112: obj =   6.384709490e+02 inf =   0.000e+00 (0)\n",
      "OPTIMAL LP SOLUTION FOUND\n",
      "Integer optimization begins...\n",
      "Long-step dual simplex will be used\n",
      "+   112: mip =     not found yet >=              -inf        (1; 0)\n",
      "+   112: >>>>>   6.384709490e+02 >=   6.384709490e+02   0.0% (1; 0)\n",
      "+   112: mip =   6.384709490e+02 >=     tree is empty   0.0% (0; 1)\n",
      "INTEGER OPTIMAL SOLUTION FOUND\n"
     ]
    },
    {
     "name": "stderr",
     "output_type": "stream",
     "text": [
      "[INFO][2023/10/07 05:59:19 AM] Closing HDF file: /home/dayn/data/homuncu_loc_temp/seperate_tracks/iAT1_iAT2_experiments/DAPI_SPC_PDPN_ZO1/sc_analyses/20230801_60X_23-03-002B6_DAPI_SP-C_PDPN_ZO-1_Multichannel Z-Stack_20230801_1452_iat2.h5\n"
     ]
    }
   ],
   "source": [
    "# Iterate over a list of image file paths using tqdm for progress tracking\n",
    "for image_fn in tqdm(image_fns, total=len(image_fns), desc='iterating over image volumes'):\n",
    "\n",
    "    # Define the output filename\n",
    "    output_fn = image_fn.replace('images', 'sc_analyses').replace('.tif', '_iat2.h5').replace('/run/user/30046150/gvfs/smb-share:server=data2.thecrick.org,share=lab-gutierrezm/home/shared/Lung on Chip/homuncu_loc_image_analysis/', \n",
    "                                                                                         '/home/dayn/data/homuncu_loc_temp/seperate_tracks/')\n",
    "    # if os.path.exists(output_fn):\n",
    "    #     continue\n",
    "    \n",
    "    try:\n",
    "        # Read the image using imageio.imread\n",
    "        image = io.imread(image_fn)\n",
    "    except Exception as e:\n",
    "        # Code to handle the exception and print the error message\n",
    "        print(e)\n",
    "        continue\n",
    "\n",
    "    \n",
    "    # # Extract the third channel (mphi_channel) from the image\n",
    "    # mphi_channel = image[..., 2]\n",
    "    \n",
    "    # # Segment the mphi_channel using custom function 'segment_channel'\n",
    "    # mphi_masks, mphi_diams = segment_channel(\n",
    "    #     mphi_channel,\n",
    "    #     diameter=60,\n",
    "    #     flow_threshold=0.99,\n",
    "    #     channels=[0, 0],\n",
    "    #     cellprob_threshold=-2,\n",
    "    #     min_mask_size=200,\n",
    "    #     return_diams=True,\n",
    "    #     start_point=None,\n",
    "    #     end_point=None\n",
    "    # )\n",
    "\n",
    "    # # update\n",
    "    # send_sms(f'mphi seg done {ID_extractor(image_fn)}')\n",
    "    \n",
    "    # Extract the second channel (zo1_channel) from the image\n",
    "    zo1_channel = image[..., 1]\n",
    "    \n",
    "    # Segment the zo1_channel for iat2 using 'segment_channel' with specific parameters\n",
    "    iat2_masks, iat2_diams = segment_channel(\n",
    "        zo1_channel,\n",
    "        diameter=None,\n",
    "        flow_threshold=0,\n",
    "        channels=[0, 0],\n",
    "        cellprob_threshold=0,\n",
    "        min_mask_size=200,\n",
    "        return_diams=True,\n",
    "        start_point=None,\n",
    "        end_point=None\n",
    "    )\n",
    "    masks = iat2_masks\n",
    "    # update\n",
    "    send_sms(f'iat2 seg done {ID_extractor(image_fn)}')\n",
    "    \n",
    "    # # Segment the zo1_channel for iat1 using 'segment_channel' with specific parameters\n",
    "    # iat1_masks, iat1_diams = segment_channel(\n",
    "    #     zo1_channel,\n",
    "    #     diameter=150,\n",
    "    #     flow_threshold=0.99,\n",
    "    #     channels=[0, 0],\n",
    "    #     cellprob_threshold=-3,\n",
    "    #     min_mask_size=2500,\n",
    "    #     return_diams=True,\n",
    "    #     start_point=None,\n",
    "    #     end_point=None\n",
    "    # )\n",
    "    \n",
    "    # # update\n",
    "    # send_sms(f'iat1 seg done {ID_extractor(image_fn)}')\n",
    "    \n",
    "    # # Loop over three different mask types: mphi_masks, iat2_masks, iat1_masks\n",
    "    # for n, masks in tqdm(enumerate([mphi_masks, iat2_masks, iat1_masks]), total=3):\n",
    "        \n",
    "    # Convert the segmentation masks to objects using btrack\n",
    "    objects = btrack.utils.segmentation_to_objects(\n",
    "        segmentation=iat2_masks,\n",
    "        intensity_image=image,\n",
    "        properties=props,\n",
    "        use_weighted_centroid=False,\n",
    "        assign_class_ID=True,\n",
    "    )\n",
    "\n",
    "    # update\n",
    "    # send_sms(f'object localisation {n, ID_extractor(image_fn)} done')\n",
    "\n",
    "    \n",
    "    # Check if mtb infected above threshold and measure mtb properties for each cell\n",
    "    threshold = 230\n",
    "    mtb_ch = 3\n",
    "    \n",
    "    for o in tqdm(objects, desc='Measuring Mtb properties of each cell'):\n",
    "        coordinates = np.argwhere(masks[o.t] == o.properties['class_id'])\n",
    "        pixel_values = image[o.t, coordinates[:, 0], coordinates[:, 1]]\n",
    "        mtb_status = np.any(pixel_values[:,mtb_ch] > threshold)\n",
    "        mtb_area = np.sum(pixel_values[:,mtb_ch] > threshold)\n",
    "        o.properties['mtb_status'] = mtb_status\n",
    "        o.properties['mtb_area'] = mtb_area\n",
    "        # o.properties['pixel_values'] = pixel_values\n",
    "\n",
    "    # update\n",
    "    # send_sms(f'mtb props {n, ID_extractor(image_fn)} done')\n",
    "\n",
    "    # Initialize BayesianTracker\n",
    "    with btrack.BayesianTracker() as tracker:\n",
    "        \n",
    "        # Configure the tracker using a config file\n",
    "        tracker.configure('/home/dayn/analysis/models/loc.json')\n",
    "        \n",
    "        # Set max search radius to a very limited radius\n",
    "        tracker.max_search_radius = 5\n",
    "        \n",
    "        # Define tracking method\n",
    "        tracker.tracking_updates = [\"MOTION\", \"VISUAL\"]\n",
    "        \n",
    "        # Use visual features to track\n",
    "        tracker.features = props\n",
    "        \n",
    "        # Append the objects to be tracked\n",
    "        tracker.append(objects)\n",
    "        \n",
    "        # Set the volume\n",
    "        tracker.volume = ((0, masks.shape[1]), (0, masks.shape[2]), (-1e5, 1e5))\n",
    "        \n",
    "        # Track them (in interactive mode)\n",
    "        tracker.track(step_size=10)\n",
    "        \n",
    "        # Generate hypotheses and run the global optimizer\n",
    "        tracker.optimize()\n",
    "        \n",
    "        # Get the tracks as a Python list\n",
    "        tracks = tracker.tracks\n",
    "\n",
    "    # update\n",
    "    # send_sms(f'tracking {n, ID_extractor(image_fn)} done')\n",
    "\n",
    "    # # Define the output filename\n",
    "    # output_fn = image_fn.replace('images', 'sc_analyses').replace('.tif', '_iat2.h5').replace('/run/user/30046150/gvfs/smb-share:server=data2.thecrick.org,share=lab-gutierrezm/home/shared/Lung on Chip/homuncu_loc_image_analysis/', \n",
    "    #                                                                                      '/home/dayn/data/homuncu_loc_temp/seperate_tracks/')\n",
    "    os.makedirs(os.path.dirname(output_fn), exist_ok=True)\n",
    "    \n",
    "    # Define the object type based on the iteration index\n",
    "    obj_type = f'obj_type_{2}'\n",
    "\n",
    "\n",
    "    # Write the tracks and segmentation masks to an HDF5 file using btrack.io.HDF5FileHandler\n",
    "    with btrack.io.HDF5FileHandler(output_fn, 'w', obj_type=obj_type) as writer:\n",
    "        writer.write_tracks(tracks)\n",
    "        writer.write_segmentation(masks)\n",
    "\n",
    "    # update \n"
   ]
  },
  {
   "cell_type": "code",
   "execution_count": 36,
   "id": "2e95ab5a-ae51-4a5b-8893-90635cb5bce9",
   "metadata": {},
   "outputs": [
    {
     "data": {
      "text/plain": [
       "'/run/user/30046150/gvfs/smb-share:server=data2.thecrick.org,share=lab-gutierrezm/home/shared/Lung on Chip/homuncu_loc_image_analysis/iAT1_iAT2_experiments/DAPI_SPC_PDPN_ZO1/images/20230801_60X_23-03-002B6_DAPI_SP-C_PDPN_ZO-1_Multichannel Z-Stack_20230801_1452.tif'"
      ]
     },
     "execution_count": 36,
     "metadata": {},
     "output_type": "execute_result"
    },
    {
     "name": "stderr",
     "output_type": "stream",
     "text": [
      "Error in atexit._run_exitfuncs:\n",
      "Traceback (most recent call last):\n",
      "  File \"/home/dayn/miniconda3/envs/brassica/lib/python3.9/site-packages/IPython/core/interactiveshell.py\", line 3875, in atexit_operations\n",
      "    self._atexit_once()\n",
      "  File \"/home/dayn/miniconda3/envs/brassica/lib/python3.9/site-packages/IPython/core/interactiveshell.py\", line 3854, in _atexit_once\n",
      "    self.reset(new_session=False)\n",
      "  File \"/home/dayn/miniconda3/envs/brassica/lib/python3.9/site-packages/IPython/core/interactiveshell.py\", line 1373, in reset\n",
      "    self.history_manager.reset(new_session)\n",
      "  File \"/home/dayn/miniconda3/envs/brassica/lib/python3.9/site-packages/IPython/core/history.py\", line 597, in reset\n",
      "    self.dir_hist[:] = [Path.cwd()]\n",
      "  File \"/home/dayn/miniconda3/envs/brassica/lib/python3.9/pathlib.py\", line 1136, in cwd\n",
      "    return cls(os.getcwd())\n",
      "FileNotFoundError: [Errno 2] No such file or directory\n"
     ]
    }
   ],
   "source": [
    "image_fn"
   ]
  }
 ],
 "metadata": {
  "kernelspec": {
   "display_name": "brassica",
   "language": "python",
   "name": "brassica"
  },
  "language_info": {
   "codemirror_mode": {
    "name": "ipython",
    "version": 3
   },
   "file_extension": ".py",
   "mimetype": "text/x-python",
   "name": "python",
   "nbconvert_exporter": "python",
   "pygments_lexer": "ipython3",
   "version": "3.9.17"
  }
 },
 "nbformat": 4,
 "nbformat_minor": 5
}
