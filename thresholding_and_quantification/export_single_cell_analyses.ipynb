{
 "cells": [
  {
   "cell_type": "markdown",
   "id": "e0f69c13-80ab-4801-a40a-fc3962273c3b",
   "metadata": {},
   "source": [
    "# Export single-cell analyses\n",
    "\n",
    "This notebook is designed to extract the relevant single-cell information from the z-tracks and plot as a pandas dataframe/csv/excel format for others to interrogate."
   ]
  },
  {
   "cell_type": "code",
   "execution_count": 2,
   "id": "34035b49-7cf3-4c84-ba75-93a4b6a4ad09",
   "metadata": {},
   "outputs": [],
   "source": [
    "import btrack\n",
    "import pandas as pd\n",
    "import numpy as np\n",
    "import glob\n",
    "import os\n",
    "import fnmatch\n",
    "from homuncu_loc import dataio\n",
    "# from tqdm.notebook import tqdm\n",
    "import warnings"
   ]
  },
  {
   "cell_type": "markdown",
   "id": "4b6b3ad8-2c33-40e2-ac25-2a65a003548f",
   "metadata": {},
   "source": [
    "### Find H5 files will single-cell tracks in"
   ]
  },
  {
   "cell_type": "code",
   "execution_count": 6,
   "id": "5619be58-42c2-4521-aef8-8bbb1835af42",
   "metadata": {},
   "outputs": [
    {
     "data": {
      "text/plain": [
       "[]"
      ]
     },
     "execution_count": 6,
     "metadata": {},
     "output_type": "execute_result"
    }
   ],
   "source": [
    "# replace the path with your own, think it will be 'Analysis/homuncu_loc/segmentation_and_tracking/temp_mask_dir/' \n",
    "# but this is from memory so just check where you saved out the final tracks in previous notebook\n",
    "h5_fns = dataio.find_h5_files('/path/to/directory/with/h5/files') \n",
    "h5_fns"
   ]
  },
  {
   "cell_type": "markdown",
   "id": "42ec08b5-ca25-4a09-9189-964b16e15551",
   "metadata": {},
   "source": [
    "##### Optionally filter h5 filenames to only include a subset"
   ]
  },
  {
   "cell_type": "code",
   "execution_count": 23,
   "id": "c35d740f-a7c3-4bf7-ad75-16f083813031",
   "metadata": {},
   "outputs": [],
   "source": [
    "h5_fns =  [fn for fn in h5_fns if any(substring in fn for substring in ['194', '195', '196'])] #[fn for fn in h5_fns if fn.endswith('sc_data.h5') and 'run1' in fn]\n",
    "h5_fns"
   ]
  },
  {
   "cell_type": "markdown",
   "id": "de9d8b9c-b16e-4efa-b985-812585d7d31b",
   "metadata": {},
   "source": [
    "### Load tracks"
   ]
  },
  {
   "cell_type": "code",
   "execution_count": 28,
   "id": "207249a5-9e09-4724-8670-170fd2dee852",
   "metadata": {},
   "outputs": [],
   "source": [
    "### define parameters to plot in table\n",
    "cols = ['Cell ID', \n",
    "        f'Max. int. ch0', \n",
    "        f'Max. int. ch1', \n",
    "        f'Max. int. ch2', \n",
    "        f'Max. int. ch3', \n",
    "        'Mtb+', \n",
    "        'N_frames Mtb+', \n",
    "        'Max. Mtb area', \n",
    "        'Average X', \n",
    "        'Average Y'\n",
    "        ]"
   ]
  },
  {
   "cell_type": "code",
   "execution_count": null,
   "id": "149448a7-b664-4fd7-a88d-07e74ebbd626",
   "metadata": {
    "scrolled": true
   },
   "outputs": [],
   "source": [
    "sum = 0\n",
    "error_fns = list()\n",
    "for tracks_fn in tqdm(h5_fns):\n",
    "    with btrack.io.HDF5FileHandler(tracks_fn, 'r', ) as hdf:\n",
    "        try:\n",
    "            tracks = [t for t in hdf.tracks if len(t) > 3]\n",
    "        except:\n",
    "            error_fns.append(tracks_fn)\n",
    "    # now plot into dataframe \n",
    "    df = pd.DataFrame([(track.ID, \n",
    "                        np.nanmax(track['mean_intensity'][:,0]),\n",
    "                        np.nanmax(track['mean_intensity'][:,1]),\n",
    "                        np.nanmax(track['mean_intensity'][:,2]),\n",
    "                        np.nanmax(track['mean_intensity'][:,3]), \n",
    "                        # # True if np.nansum(track.properties['mtb_status']) > 0 else False, \n",
    "                        # # np.nansum(track.properties['mtb_status']), \n",
    "                        # # np.nanmax(track.properties['mtb_area']), \n",
    "                        np.mean(track.x), \n",
    "                        np.mean(track.y)) \n",
    "                       for track in tracks], \n",
    "                      columns=cols)\n",
    "    # create fn\n",
    "    output_fn = tracks_fn.replace('.h5', 'sc_data.csv')\n",
    "    if output_fn == tracks_fn:\n",
    "        warnings.warn(\"Warning: The output file name is the same as the tracks file name. This will result in overwriting the tracks file.\")\n",
    "    # save out\n",
    "    df.to_csv(output_fn)\n",
    "    # check on the fly \n",
    "    print(tracks_fn, '\\n', df.head())\n",
    "    # how many sc measreuments \n",
    "    sum += len(df)"
   ]
  }
 ],
 "metadata": {
  "kernelspec": {
   "display_name": "brassica",
   "language": "python",
   "name": "brassica"
  },
  "language_info": {
   "codemirror_mode": {
    "name": "ipython",
    "version": 3
   },
   "file_extension": ".py",
   "mimetype": "text/x-python",
   "name": "python",
   "nbconvert_exporter": "python",
   "pygments_lexer": "ipython3",
   "version": "3.9.17"
  }
 },
 "nbformat": 4,
 "nbformat_minor": 5
}
