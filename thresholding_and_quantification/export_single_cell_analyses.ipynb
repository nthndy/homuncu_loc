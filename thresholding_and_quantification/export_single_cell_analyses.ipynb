{
 "cells": [
  {
   "cell_type": "markdown",
   "id": "e0f69c13-80ab-4801-a40a-fc3962273c3b",
   "metadata": {},
   "source": [
    "# Export single-cell analyses\n",
    "\n",
    "This notebook is designed to extract the relevant single-cell information from the z-tracks and plot as a pandas dataframe/csv/excel format for others to interrogate."
   ]
  },
  {
   "cell_type": "code",
   "execution_count": 23,
   "id": "34035b49-7cf3-4c84-ba75-93a4b6a4ad09",
   "metadata": {},
   "outputs": [],
   "source": [
    "import btrack\n",
    "import pandas as pd\n",
    "import numpy as np\n",
    "import glob\n",
    "import os\n",
    "import fnmatch\n",
    "from tqdm.notebook import tqdm"
   ]
  },
  {
   "cell_type": "markdown",
   "id": "4b6b3ad8-2c33-40e2-ac25-2a65a003548f",
   "metadata": {},
   "source": [
    "### Find files"
   ]
  },
  {
   "cell_type": "code",
   "execution_count": 11,
   "id": "cf6e5780-437c-477a-bc21-8234a10e627f",
   "metadata": {},
   "outputs": [],
   "source": [
    "def find_h5_files(root_dir):\n",
    "    matches = []\n",
    "    for root, dirnames, filenames in os.walk(root_dir):\n",
    "        for filename in fnmatch.filter(filenames, '*.h5'):\n",
    "            matches.append(os.path.join(root, filename))\n",
    "    return matches"
   ]
  },
  {
   "cell_type": "code",
   "execution_count": 13,
   "id": "5619be58-42c2-4521-aef8-8bbb1835af42",
   "metadata": {},
   "outputs": [],
   "source": [
    "h5_fns = find_h5_files('/mnt/DATA/homuncu_loc/')"
   ]
  },
  {
   "cell_type": "markdown",
   "id": "42ec08b5-ca25-4a09-9189-964b16e15551",
   "metadata": {},
   "source": [
    "### Filter h5 filenames to only include a subset"
   ]
  },
  {
   "cell_type": "code",
   "execution_count": 18,
   "id": "c35d740f-a7c3-4bf7-ad75-16f083813031",
   "metadata": {},
   "outputs": [],
   "source": [
    "h5_fns = [fn for fn in h5_fns if fn.endswith('masks.h5') and 'run0' not in fn]"
   ]
  },
  {
   "cell_type": "markdown",
   "id": "de9d8b9c-b16e-4efa-b985-812585d7d31b",
   "metadata": {},
   "source": [
    "### Load tracks"
   ]
  },
  {
   "cell_type": "code",
   "execution_count": 51,
   "id": "207249a5-9e09-4724-8670-170fd2dee852",
   "metadata": {},
   "outputs": [],
   "source": [
    "### define parameters to plot in table\n",
    "cols = ['Cell ID', f'Max. int. ch0', f'Max. int. ch1', f'Max. int. ch2', f'Max. int. ch3', 'Average X', 'Average Y']"
   ]
  },
  {
   "cell_type": "code",
   "execution_count": 66,
   "id": "149448a7-b664-4fd7-a88d-07e74ebbd626",
   "metadata": {
    "scrolled": true
   },
   "outputs": [
    {
     "data": {
      "application/vnd.jupyter.widget-view+json": {
       "model_id": "e2c9d54fe02146ab9ebccaa4163ac462",
       "version_major": 2,
       "version_minor": 0
      },
      "text/plain": [
       "  0%|          | 0/34 [00:00<?, ?it/s]"
      ]
     },
     "metadata": {},
     "output_type": "display_data"
    },
    {
     "name": "stderr",
     "output_type": "stream",
     "text": [
      "[INFO][2023/08/18 04:38:08 PM] Opening HDF file: /mnt/DATA/homuncu_loc/run2_23-02-104/48h pi/20230718_20X_23-02-104B2_Multichannel Z-Stack_20230718_1363_z_tracks_masks.h5...\n",
      "[INFO][2023/08/18 04:38:08 PM] Loading tracks/obj_type_1\n",
      "[INFO][2023/08/18 04:38:08 PM] Loading LBEP/obj_type_1\n",
      "[INFO][2023/08/18 04:38:08 PM] Loading objects/obj_type_1 (20512, 5) (20512 filtered: None)\n",
      "[INFO][2023/08/18 04:38:08 PM] Closing HDF file: /mnt/DATA/homuncu_loc/run2_23-02-104/48h pi/20230718_20X_23-02-104B2_Multichannel Z-Stack_20230718_1363_z_tracks_masks.h5\n",
      "[INFO][2023/08/18 04:38:09 PM] Opening HDF file: /mnt/DATA/homuncu_loc/run2_23-02-104/48h pi/20230718_20X_23-02-104B2_Multichannel Z-Stack_20230718_1365_z_tracks_masks.h5...\n",
      "[INFO][2023/08/18 04:38:09 PM] Loading tracks/obj_type_1\n",
      "[INFO][2023/08/18 04:38:09 PM] Loading LBEP/obj_type_1\n",
      "[INFO][2023/08/18 04:38:09 PM] Loading objects/obj_type_1 (34822, 5) (34822 filtered: None)\n"
     ]
    },
    {
     "name": "stdout",
     "output_type": "stream",
     "text": [
      "/mnt/DATA/homuncu_loc/run2_23-02-104/48h pi/20230718_20X_23-02-104B2_Multichannel Z-Stack_20230718_1363_z_tracks_masks.h5 \n",
      "    Cell ID  Max. int. ch0  Max. int. ch1  Max. int. ch2  Max. int. ch3  \\\n",
      "0      496     831.777344     506.429047     174.890091     121.573898   \n",
      "1      486     300.825562     169.941360     118.308273     108.555199   \n",
      "2      487    1637.527588     443.515991     204.540176     113.849831   \n",
      "3      489    1416.967651     388.490692     169.675919     112.455246   \n",
      "4      490    1410.867065     498.312134     194.257523     113.978378   \n",
      "\n",
      "     Average X   Average Y  \n",
      "0   755.795249  309.659225  \n",
      "1  1075.918579   33.455560  \n",
      "2  1099.017561   46.014360  \n",
      "3  1016.124841   54.539353  \n",
      "4  1044.717621   62.054043  \n"
     ]
    },
    {
     "name": "stderr",
     "output_type": "stream",
     "text": [
      "[INFO][2023/08/18 04:38:09 PM] Closing HDF file: /mnt/DATA/homuncu_loc/run2_23-02-104/48h pi/20230718_20X_23-02-104B2_Multichannel Z-Stack_20230718_1365_z_tracks_masks.h5\n",
      "[INFO][2023/08/18 04:38:10 PM] Opening HDF file: /mnt/DATA/homuncu_loc/run2_23-02-104/48h pi/20230718_20X_23-02-104B2_Multichannel Z-Stack_20230718_1361_z_tracks_masks.h5...\n",
      "[INFO][2023/08/18 04:38:10 PM] Loading tracks/obj_type_1\n",
      "[INFO][2023/08/18 04:38:10 PM] Loading LBEP/obj_type_1\n",
      "[INFO][2023/08/18 04:38:10 PM] Loading objects/obj_type_1 (24307, 5) (24307 filtered: None)\n"
     ]
    },
    {
     "name": "stdout",
     "output_type": "stream",
     "text": [
      "/mnt/DATA/homuncu_loc/run2_23-02-104/48h pi/20230718_20X_23-02-104B2_Multichannel Z-Stack_20230718_1365_z_tracks_masks.h5 \n",
      "    Cell ID  Max. int. ch0  Max. int. ch1  Max. int. ch2  Max. int. ch3  \\\n",
      "0      488     799.444214     340.523346     153.990967     112.798576   \n",
      "1      477    1540.347534     280.548309     158.150955     110.906830   \n",
      "2      480     153.415939     114.253319     106.575073     107.116447   \n",
      "3      481    1073.612549     319.960785     153.658798     109.494843   \n",
      "4      482    1648.769409     362.263062     172.109421     111.079124   \n",
      "\n",
      "     Average X  Average Y  \n",
      "0  1198.412964  64.131307  \n",
      "1   629.858464  32.703220  \n",
      "2   604.374557  13.646762  \n",
      "3   739.409155  11.914238  \n",
      "4   800.047513   8.382405  \n"
     ]
    },
    {
     "name": "stderr",
     "output_type": "stream",
     "text": [
      "[INFO][2023/08/18 04:38:11 PM] Closing HDF file: /mnt/DATA/homuncu_loc/run2_23-02-104/48h pi/20230718_20X_23-02-104B2_Multichannel Z-Stack_20230718_1361_z_tracks_masks.h5\n",
      "[INFO][2023/08/18 04:38:12 PM] Opening HDF file: /mnt/DATA/homuncu_loc/run2_23-02-104/48h pi/20230718_20X_23-02-104B2_Multichannel Z-Stack_20230718_1362_z_tracks_masks.h5...\n",
      "[INFO][2023/08/18 04:38:12 PM] Loading tracks/obj_type_1\n",
      "[INFO][2023/08/18 04:38:12 PM] Loading LBEP/obj_type_1\n",
      "[INFO][2023/08/18 04:38:12 PM] Loading objects/obj_type_1 (26129, 5) (26129 filtered: None)\n"
     ]
    },
    {
     "name": "stdout",
     "output_type": "stream",
     "text": [
      "/mnt/DATA/homuncu_loc/run2_23-02-104/48h pi/20230718_20X_23-02-104B2_Multichannel Z-Stack_20230718_1361_z_tracks_masks.h5 \n",
      "    Cell ID  Max. int. ch0  Max. int. ch1  Max. int. ch2  Max. int. ch3  \\\n",
      "0      529     278.244720     157.286072     122.070045     108.562073   \n",
      "1      517     308.650360     592.746155     203.632874     111.923950   \n",
      "2      518     667.878845     238.536743     170.589615     110.577873   \n",
      "3      519     677.486267     220.363098     159.208481     112.116837   \n",
      "4      520     301.146851     189.198669     130.706314     108.156143   \n",
      "\n",
      "     Average X   Average Y  \n",
      "0   868.765002  187.882401  \n",
      "1   758.837332   71.125043  \n",
      "2  2092.039444   26.154410  \n",
      "3  2169.348437   44.185118  \n",
      "4  2047.053177   54.587804  \n"
     ]
    },
    {
     "name": "stderr",
     "output_type": "stream",
     "text": [
      "[INFO][2023/08/18 04:38:12 PM] Closing HDF file: /mnt/DATA/homuncu_loc/run2_23-02-104/48h pi/20230718_20X_23-02-104B2_Multichannel Z-Stack_20230718_1362_z_tracks_masks.h5\n",
      "[INFO][2023/08/18 04:38:13 PM] Opening HDF file: /mnt/DATA/homuncu_loc/run2_23-02-104/48h pi/20230718_20X_23-02-104B2_Multichannel Z-Stack_20230718_1364_z_tracks_masks.h5...\n",
      "[INFO][2023/08/18 04:38:13 PM] Loading tracks/obj_type_1\n",
      "[INFO][2023/08/18 04:38:13 PM] Loading LBEP/obj_type_1\n",
      "[INFO][2023/08/18 04:38:13 PM] Loading objects/obj_type_1 (22715, 5) (22715 filtered: None)\n"
     ]
    },
    {
     "name": "stdout",
     "output_type": "stream",
     "text": [
      "/mnt/DATA/homuncu_loc/run2_23-02-104/48h pi/20230718_20X_23-02-104B2_Multichannel Z-Stack_20230718_1362_z_tracks_masks.h5 \n",
      "    Cell ID  Max. int. ch0  Max. int. ch1  Max. int. ch2  Max. int. ch3  \\\n",
      "0      818     989.525757     228.986404     133.883743     107.252182   \n",
      "1      826     307.310333     165.850571     118.461411     107.981941   \n",
      "2      825     937.760986     331.474762     154.491913     113.284073   \n",
      "3      824    1125.663208     316.416321     156.563339     111.638199   \n",
      "4      823     742.985229     219.100113     141.367767     108.604385   \n",
      "\n",
      "     Average X  Average Y  \n",
      "0  2156.566907  25.387623  \n",
      "1  1743.151221  12.704562  \n",
      "2  1773.496128  12.687994  \n",
      "3  1806.529528  15.771437  \n",
      "4  1967.579346  12.027522  \n"
     ]
    },
    {
     "name": "stderr",
     "output_type": "stream",
     "text": [
      "[INFO][2023/08/18 04:38:13 PM] Closing HDF file: /mnt/DATA/homuncu_loc/run2_23-02-104/48h pi/20230718_20X_23-02-104B2_Multichannel Z-Stack_20230718_1364_z_tracks_masks.h5\n",
      "[INFO][2023/08/18 04:38:14 PM] Opening HDF file: /mnt/DATA/homuncu_loc/run2_23-02-104/48h pi/no_mtb_measure/20230718_20X_23-02-104B2_Multichannel Z-Stack_20230718_1363_z_tracks_masks.h5...\n",
      "[INFO][2023/08/18 04:38:14 PM] Loading tracks/obj_type_1\n",
      "[INFO][2023/08/18 04:38:14 PM] Loading LBEP/obj_type_1\n",
      "[INFO][2023/08/18 04:38:14 PM] Loading objects/obj_type_1 (54150, 5) (54150 filtered: None)\n"
     ]
    },
    {
     "name": "stdout",
     "output_type": "stream",
     "text": [
      "/mnt/DATA/homuncu_loc/run2_23-02-104/48h pi/20230718_20X_23-02-104B2_Multichannel Z-Stack_20230718_1364_z_tracks_masks.h5 \n",
      "    Cell ID  Max. int. ch0  Max. int. ch1  Max. int. ch2  Max. int. ch3  \\\n",
      "0      171    1898.195190     571.478821     193.020615     115.417969   \n",
      "1      179    1583.496338     405.585846     187.315872     116.132462   \n",
      "2      178    3289.903076     485.511108     174.088638     115.545105   \n",
      "3      177    1290.489258     517.980469     179.779312     115.363174   \n",
      "4      175    1779.622681     421.544067     186.062012     115.130493   \n",
      "\n",
      "     Average X   Average Y  \n",
      "0  1725.135136  319.067151  \n",
      "1  1408.660423  355.204203  \n",
      "2  1557.746634  349.241861  \n",
      "3  1594.401304  339.377195  \n",
      "4  1705.055758  376.702185  \n"
     ]
    },
    {
     "name": "stderr",
     "output_type": "stream",
     "text": [
      "[INFO][2023/08/18 04:38:15 PM] Closing HDF file: /mnt/DATA/homuncu_loc/run2_23-02-104/48h pi/no_mtb_measure/20230718_20X_23-02-104B2_Multichannel Z-Stack_20230718_1363_z_tracks_masks.h5\n",
      "[INFO][2023/08/18 04:38:16 PM] Opening HDF file: /mnt/DATA/homuncu_loc/run2_23-02-104/48h pi/no_mtb_measure/20230718_20X_23-02-104B2_Multichannel Z-Stack_20230718_1365_z_tracks_masks.h5...\n",
      "[INFO][2023/08/18 04:38:16 PM] Loading tracks/obj_type_1\n",
      "[INFO][2023/08/18 04:38:16 PM] Loading LBEP/obj_type_1\n",
      "[INFO][2023/08/18 04:38:17 PM] Loading objects/obj_type_1 (57876, 5) (57876 filtered: None)\n"
     ]
    },
    {
     "name": "stdout",
     "output_type": "stream",
     "text": [
      "/mnt/DATA/homuncu_loc/run2_23-02-104/48h pi/no_mtb_measure/20230718_20X_23-02-104B2_Multichannel Z-Stack_20230718_1363_z_tracks_masks.h5 \n",
      "    Cell ID  Max. int. ch0  Max. int. ch1  Max. int. ch2  Max. int. ch3  \\\n",
      "0     1036    2264.592041     379.766785     152.317200     111.672043   \n",
      "1     1047    1986.318481     388.488831     167.759262     112.984375   \n",
      "2     1046     837.282349     596.097046     184.887421     113.947258   \n",
      "3     1045    2159.698975     356.482758     157.306824     111.365417   \n",
      "4     1044    2599.959229     449.647308     154.787354     113.577637   \n",
      "\n",
      "     Average X  Average Y  \n",
      "0   926.640360  22.439925  \n",
      "1  1016.561479  14.300633  \n",
      "2  1067.411605   9.177749  \n",
      "3   907.487676  10.613819  \n",
      "4   932.235859   4.508293  \n"
     ]
    },
    {
     "name": "stderr",
     "output_type": "stream",
     "text": [
      "[INFO][2023/08/18 04:38:17 PM] Closing HDF file: /mnt/DATA/homuncu_loc/run2_23-02-104/48h pi/no_mtb_measure/20230718_20X_23-02-104B2_Multichannel Z-Stack_20230718_1365_z_tracks_masks.h5\n",
      "[INFO][2023/08/18 04:38:19 PM] Opening HDF file: /mnt/DATA/homuncu_loc/run2_23-02-104/48h pi/no_mtb_measure/20230718_20X_23-02-104B2_Multichannel Z-Stack_20230718_1361_z_tracks_masks.h5...\n",
      "[INFO][2023/08/18 04:38:19 PM] Loading tracks/obj_type_1\n",
      "[INFO][2023/08/18 04:38:19 PM] Loading LBEP/obj_type_1\n"
     ]
    },
    {
     "name": "stdout",
     "output_type": "stream",
     "text": [
      "/mnt/DATA/homuncu_loc/run2_23-02-104/48h pi/no_mtb_measure/20230718_20X_23-02-104B2_Multichannel Z-Stack_20230718_1365_z_tracks_masks.h5 \n",
      "    Cell ID  Max. int. ch0  Max. int. ch1  Max. int. ch2  Max. int. ch3  \\\n",
      "0     1012    2098.624268     332.489105     160.923080     108.975525   \n",
      "1     1011     153.415939     114.253319     106.575073     107.116447   \n",
      "2     1010    1073.612549     319.960785     153.658798     109.494843   \n",
      "3     1009    1894.215942     362.263062     174.627411     111.576378   \n",
      "4     1008     561.080200     431.832581     164.024155     113.207733   \n",
      "\n",
      "    Average X  Average Y  \n",
      "0  572.020469   7.593367  \n",
      "1  604.374557  13.646762  \n",
      "2  739.409155  11.914238  \n",
      "3  800.280796   8.313853  \n",
      "4  825.783852   6.679583  \n"
     ]
    },
    {
     "name": "stderr",
     "output_type": "stream",
     "text": [
      "[INFO][2023/08/18 04:38:19 PM] Loading objects/obj_type_1 (43220, 5) (43220 filtered: None)\n",
      "[INFO][2023/08/18 04:38:20 PM] Closing HDF file: /mnt/DATA/homuncu_loc/run2_23-02-104/48h pi/no_mtb_measure/20230718_20X_23-02-104B2_Multichannel Z-Stack_20230718_1361_z_tracks_masks.h5\n",
      "[INFO][2023/08/18 04:38:20 PM] Opening HDF file: /mnt/DATA/homuncu_loc/run2_23-02-104/48h pi/no_mtb_measure/20230718_20X_23-02-104B2_Multichannel Z-Stack_20230718_1362_z_tracks_masks.h5...\n",
      "[ERROR][2023/08/18 04:38:20 PM] Tracks not found in /mnt/DATA/homuncu_loc/run2_23-02-104/48h pi/no_mtb_measure/20230718_20X_23-02-104B2_Multichannel Z-Stack_20230718_1362_z_tracks_masks.h5\n",
      "[INFO][2023/08/18 04:38:20 PM] Closing HDF file: /mnt/DATA/homuncu_loc/run2_23-02-104/48h pi/no_mtb_measure/20230718_20X_23-02-104B2_Multichannel Z-Stack_20230718_1362_z_tracks_masks.h5\n"
     ]
    },
    {
     "name": "stdout",
     "output_type": "stream",
     "text": [
      "/mnt/DATA/homuncu_loc/run2_23-02-104/48h pi/no_mtb_measure/20230718_20X_23-02-104B2_Multichannel Z-Stack_20230718_1361_z_tracks_masks.h5 \n",
      "    Cell ID  Max. int. ch0  Max. int. ch1  Max. int. ch2  Max. int. ch3  \\\n",
      "0      958     301.146851     189.198669     130.706314     108.156143   \n",
      "1      969     520.266174     206.769958     144.868164     111.206467   \n",
      "2      968     122.827866     150.393448     113.040985     107.409836   \n",
      "3      967     251.548950     186.189194     150.664337     112.585587   \n",
      "4      966     523.745728     229.737076     158.100311     110.191086   \n",
      "\n",
      "     Average X  Average Y  \n",
      "0  2047.053177  54.587804  \n",
      "1  2176.799613   8.359660  \n",
      "2   750.099561   6.664395  \n",
      "3  2093.610718   5.400187  \n",
      "4  2127.803375  29.767952  \n"
     ]
    },
    {
     "name": "stderr",
     "output_type": "stream",
     "text": [
      "[INFO][2023/08/18 04:38:21 PM] Opening HDF file: /mnt/DATA/homuncu_loc/run2_23-02-104/2h pi/20230714_20X_23-02-104A4_Multichannel Z-Stack_20230714_1340_z_tracks_masks.h5...\n",
      "[INFO][2023/08/18 04:38:21 PM] Loading tracks/obj_type_1\n",
      "[INFO][2023/08/18 04:38:21 PM] Loading LBEP/obj_type_1\n",
      "[INFO][2023/08/18 04:38:21 PM] Loading objects/obj_type_1 (3482, 5) (3482 filtered: None)\n",
      "[INFO][2023/08/18 04:38:21 PM] Closing HDF file: /mnt/DATA/homuncu_loc/run2_23-02-104/2h pi/20230714_20X_23-02-104A4_Multichannel Z-Stack_20230714_1340_z_tracks_masks.h5\n"
     ]
    },
    {
     "name": "stdout",
     "output_type": "stream",
     "text": [
      "/mnt/DATA/homuncu_loc/run2_23-02-104/48h pi/no_mtb_measure/20230718_20X_23-02-104B2_Multichannel Z-Stack_20230718_1362_z_tracks_masks.h5 \n",
      "    Cell ID  Max. int. ch0  Max. int. ch1  Max. int. ch2  Max. int. ch3  \\\n",
      "0      958     301.146851     189.198669     130.706314     108.156143   \n",
      "1      969     520.266174     206.769958     144.868164     111.206467   \n",
      "2      968     122.827866     150.393448     113.040985     107.409836   \n",
      "3      967     251.548950     186.189194     150.664337     112.585587   \n",
      "4      966     523.745728     229.737076     158.100311     110.191086   \n",
      "\n",
      "     Average X  Average Y  \n",
      "0  2047.053177  54.587804  \n",
      "1  2176.799613   8.359660  \n",
      "2   750.099561   6.664395  \n",
      "3  2093.610718   5.400187  \n",
      "4  2127.803375  29.767952  \n"
     ]
    },
    {
     "name": "stderr",
     "output_type": "stream",
     "text": [
      "[INFO][2023/08/18 04:38:22 PM] Opening HDF file: /mnt/DATA/homuncu_loc/run3/23-03-011/20230801_20X_23-03-011B5_DAPI_NKX2-1_PDPN_ZO-1_Multichannel Z-Stack_20230801_1434_z_tracks_masks.h5...\n",
      "[INFO][2023/08/18 04:38:22 PM] Loading tracks/obj_type_1\n",
      "[INFO][2023/08/18 04:38:22 PM] Loading LBEP/obj_type_1\n",
      "[INFO][2023/08/18 04:38:22 PM] Loading objects/obj_type_1 (103813, 5) (103813 filtered: None)\n"
     ]
    },
    {
     "name": "stdout",
     "output_type": "stream",
     "text": [
      "/mnt/DATA/homuncu_loc/run2_23-02-104/2h pi/20230714_20X_23-02-104A4_Multichannel Z-Stack_20230714_1340_z_tracks_masks.h5 \n",
      "    Cell ID  Max. int. ch0  Max. int. ch1  Max. int. ch2  Max. int. ch3  \\\n",
      "0       41    2615.603027     235.174438     119.482925     118.220322   \n",
      "1       49    1382.670288     296.254974     122.931160     119.598396   \n",
      "2       48    1445.325684     292.193176     119.637062     118.009865   \n",
      "3       47    1754.743286     242.310837     119.068794     118.500000   \n",
      "4       46    1790.501343     227.003326     118.213959     116.815811   \n",
      "\n",
      "     Average X    Average Y  \n",
      "0  2121.299670  1791.827191  \n",
      "1  1886.328428  1829.982698  \n",
      "2  2129.836389  1835.718195  \n",
      "3  2149.117534  1831.017533  \n",
      "4  2074.126362  1827.227623  \n"
     ]
    },
    {
     "name": "stderr",
     "output_type": "stream",
     "text": [
      "[INFO][2023/08/18 04:38:23 PM] Closing HDF file: /mnt/DATA/homuncu_loc/run3/23-03-011/20230801_20X_23-03-011B5_DAPI_NKX2-1_PDPN_ZO-1_Multichannel Z-Stack_20230801_1434_z_tracks_masks.h5\n",
      "[INFO][2023/08/18 04:38:25 PM] Opening HDF file: /mnt/DATA/homuncu_loc/run3/23-03-002/20230801_20X_23-03-002A5_DAPI_NKX201_PDPN_ZO-1_Multichannel Z-Stack_20230801_1441_z_tracks_masks.h5...\n",
      "[INFO][2023/08/18 04:38:25 PM] Loading tracks/obj_type_1\n",
      "[INFO][2023/08/18 04:38:25 PM] Loading LBEP/obj_type_1\n",
      "[INFO][2023/08/18 04:38:25 PM] Loading objects/obj_type_1 (78488, 5) (78488 filtered: None)\n"
     ]
    },
    {
     "name": "stdout",
     "output_type": "stream",
     "text": [
      "/mnt/DATA/homuncu_loc/run3/23-03-011/20230801_20X_23-03-011B5_DAPI_NKX2-1_PDPN_ZO-1_Multichannel Z-Stack_20230801_1434_z_tracks_masks.h5 \n",
      "    Cell ID  Max. int. ch0  Max. int. ch1  Max. int. ch2  Max. int. ch3  \\\n",
      "0      994     135.725494     107.573746     105.115234     172.427872   \n",
      "1      993    1271.711426     168.470383     168.652206     630.612122   \n",
      "2      991     748.144165     353.708893     156.934647     663.336487   \n",
      "3      990     916.800903     190.370178     164.965088     561.456909   \n",
      "4      989    1393.868896     255.078354     179.558304     661.768738   \n",
      "\n",
      "     Average X    Average Y  \n",
      "0   538.229614  1349.381519  \n",
      "1  1542.663715   113.671475  \n",
      "2  1660.385868   157.995424  \n",
      "3   423.215868   156.192499  \n",
      "4  1587.609375   194.785225  \n"
     ]
    },
    {
     "name": "stderr",
     "output_type": "stream",
     "text": [
      "[INFO][2023/08/18 04:38:26 PM] Closing HDF file: /mnt/DATA/homuncu_loc/run3/23-03-002/20230801_20X_23-03-002A5_DAPI_NKX201_PDPN_ZO-1_Multichannel Z-Stack_20230801_1441_z_tracks_masks.h5\n",
      "[INFO][2023/08/18 04:38:27 PM] Opening HDF file: /mnt/DATA/homuncu_loc/run3/23-03-002/20230801_20X_23-03-002A6_DAPI_SP-C_PDPN_ZO-1_Multichannel Z-Stack_20230801_1444_z_tracks_masks.h5...\n",
      "[INFO][2023/08/18 04:38:27 PM] Loading tracks/obj_type_1\n",
      "[INFO][2023/08/18 04:38:27 PM] Loading LBEP/obj_type_1\n",
      "[INFO][2023/08/18 04:38:27 PM] Loading objects/obj_type_1 (46711, 5) (46711 filtered: None)\n"
     ]
    },
    {
     "name": "stdout",
     "output_type": "stream",
     "text": [
      "/mnt/DATA/homuncu_loc/run3/23-03-002/20230801_20X_23-03-002A5_DAPI_NKX201_PDPN_ZO-1_Multichannel Z-Stack_20230801_1441_z_tracks_masks.h5 \n",
      "    Cell ID  Max. int. ch0  Max. int. ch1  Max. int. ch2  Max. int. ch3  \\\n",
      "0     1913     942.987000     232.724091     133.406418     344.622437   \n",
      "1     1902    1420.239136     173.323761     146.546371     293.213562   \n",
      "2     1903    1099.450195     277.279297     148.438400     341.136505   \n",
      "3     1904     798.224060     162.073578     139.219299     347.075684   \n",
      "4     1905     753.992310     186.819687     160.314621     459.731201   \n",
      "\n",
      "     Average X    Average Y  \n",
      "0   574.317924    15.475776  \n",
      "1  1643.383085    33.776190  \n",
      "2  1696.210598    48.669438  \n",
      "3   707.224141     9.915394  \n",
      "4  1224.172151  1035.254665  \n"
     ]
    },
    {
     "name": "stderr",
     "output_type": "stream",
     "text": [
      "[INFO][2023/08/18 04:38:28 PM] Closing HDF file: /mnt/DATA/homuncu_loc/run3/23-03-002/20230801_20X_23-03-002A6_DAPI_SP-C_PDPN_ZO-1_Multichannel Z-Stack_20230801_1444_z_tracks_masks.h5\n",
      "[INFO][2023/08/18 04:38:28 PM] Opening HDF file: /mnt/DATA/homuncu_loc/run1_23-01-001_23-01-005/48h pi/20230707_40X_23-01-005A3_Multichannel Z-Stack_20230707_1324_z_tracks_masks.h5...\n",
      "[INFO][2023/08/18 04:38:28 PM] Loading tracks/obj_type_1\n",
      "[INFO][2023/08/18 04:38:28 PM] Loading LBEP/obj_type_1\n",
      "[INFO][2023/08/18 04:38:28 PM] Loading objects/obj_type_1 (18294, 5) (18294 filtered: None)\n"
     ]
    },
    {
     "name": "stdout",
     "output_type": "stream",
     "text": [
      "/mnt/DATA/homuncu_loc/run3/23-03-002/20230801_20X_23-03-002A6_DAPI_SP-C_PDPN_ZO-1_Multichannel Z-Stack_20230801_1444_z_tracks_masks.h5 \n",
      "    Cell ID  Max. int. ch0  Max. int. ch1  Max. int. ch2  Max. int. ch3  \\\n",
      "0      150    1157.202881    1061.554688     191.445358     616.584595   \n",
      "1      137     997.669922    1023.616577     208.930130     754.327026   \n",
      "2      138     940.171509    1044.763062     170.734726     563.019531   \n",
      "3      139    1565.355713    1538.484253     146.750000     481.182800   \n",
      "4      140     958.871094     852.583191     141.767776     378.582733   \n",
      "\n",
      "     Average X   Average Y  \n",
      "0   870.285290  542.522805  \n",
      "1   916.169157  549.741791  \n",
      "2  1212.162851    8.533266  \n",
      "3   366.121379   30.599414  \n",
      "4  2106.091806   23.899632  \n"
     ]
    },
    {
     "name": "stderr",
     "output_type": "stream",
     "text": [
      "[INFO][2023/08/18 04:38:29 PM] Closing HDF file: /mnt/DATA/homuncu_loc/run1_23-01-001_23-01-005/48h pi/20230707_40X_23-01-005A3_Multichannel Z-Stack_20230707_1324_z_tracks_masks.h5\n",
      "[INFO][2023/08/18 04:38:29 PM] Opening HDF file: /mnt/DATA/homuncu_loc/run1_23-01-001_23-01-005/48h pi/20230707_40X_23-01-005A3_Multichannel Z-Stack_20230707_1325_z_tracks_masks.h5...\n",
      "[INFO][2023/08/18 04:38:29 PM] Loading tracks/obj_type_1\n",
      "[INFO][2023/08/18 04:38:29 PM] Loading LBEP/obj_type_1\n",
      "[INFO][2023/08/18 04:38:29 PM] Loading objects/obj_type_1 (17846, 5) (17846 filtered: None)\n"
     ]
    },
    {
     "name": "stdout",
     "output_type": "stream",
     "text": [
      "/mnt/DATA/homuncu_loc/run1_23-01-001_23-01-005/48h pi/20230707_40X_23-01-005A3_Multichannel Z-Stack_20230707_1324_z_tracks_masks.h5 \n",
      "    Cell ID  Max. int. ch0  Max. int. ch1  Max. int. ch2  Max. int. ch3  \\\n",
      "0      104    1866.278076     216.322586     407.878540     120.712814   \n",
      "1       96     842.479126     223.866455     412.749603     119.222221   \n",
      "2      101     885.836426     180.553085     272.598206     125.142273   \n",
      "3      102     738.486816     284.393890     411.876923     128.239258   \n",
      "4      108     698.235535     215.254395     300.940063     124.275421   \n",
      "\n",
      "     Average X   Average Y  \n",
      "0  1657.163673  950.721416  \n",
      "1  1667.522611  241.766052  \n",
      "2  1635.385193  278.464382  \n",
      "3  1692.477112  281.269053  \n",
      "4  1704.699259  338.930383  \n"
     ]
    },
    {
     "name": "stderr",
     "output_type": "stream",
     "text": [
      "[INFO][2023/08/18 04:38:30 PM] Closing HDF file: /mnt/DATA/homuncu_loc/run1_23-01-001_23-01-005/48h pi/20230707_40X_23-01-005A3_Multichannel Z-Stack_20230707_1325_z_tracks_masks.h5\n",
      "[INFO][2023/08/18 04:38:30 PM] Opening HDF file: /mnt/DATA/homuncu_loc/run1_23-01-001_23-01-005/48h pi/20230705_40X_23-01-005A3_Multichannel Z-Stack_20230705_1311_z_tracks_masks.h5...\n",
      "[INFO][2023/08/18 04:38:30 PM] Loading tracks/obj_type_1\n",
      "[INFO][2023/08/18 04:38:30 PM] Loading LBEP/obj_type_1\n",
      "[INFO][2023/08/18 04:38:30 PM] Loading objects/obj_type_1 (12157, 5) (12157 filtered: None)\n"
     ]
    },
    {
     "name": "stdout",
     "output_type": "stream",
     "text": [
      "/mnt/DATA/homuncu_loc/run1_23-01-001_23-01-005/48h pi/20230707_40X_23-01-005A3_Multichannel Z-Stack_20230707_1325_z_tracks_masks.h5 \n",
      "    Cell ID  Max. int. ch0  Max. int. ch1  Max. int. ch2  Max. int. ch3  \\\n",
      "0      123    1589.366699     275.123352     584.420227     136.798340   \n",
      "1      124    1702.004639     237.795685     567.683716     126.161293   \n",
      "2      125     269.870605     155.423340     143.842163     111.620270   \n",
      "3      127     884.822571     298.711212     276.758820     136.471344   \n",
      "4      131    2292.006104     302.940430     348.516663     134.181580   \n",
      "\n",
      "     Average X    Average Y  \n",
      "0   942.144730  1177.998295  \n",
      "1  1288.967021  1178.635571  \n",
      "2  2290.980539  1150.020142  \n",
      "3   907.206802  1165.346670  \n",
      "4   844.215639  1256.972970  \n"
     ]
    },
    {
     "name": "stderr",
     "output_type": "stream",
     "text": [
      "[INFO][2023/08/18 04:38:30 PM] Closing HDF file: /mnt/DATA/homuncu_loc/run1_23-01-001_23-01-005/48h pi/20230705_40X_23-01-005A3_Multichannel Z-Stack_20230705_1311_z_tracks_masks.h5\n",
      "[INFO][2023/08/18 04:38:31 PM] Opening HDF file: /mnt/DATA/homuncu_loc/run1_23-01-001_23-01-005/48h pi/20230705_40X_23-01-005A3_Multichannel Z-Stack_20230705_1307_z_tracks_masks.h5...\n",
      "[INFO][2023/08/18 04:38:31 PM] Loading tracks/obj_type_1\n",
      "[INFO][2023/08/18 04:38:31 PM] Loading LBEP/obj_type_1\n",
      "[INFO][2023/08/18 04:38:31 PM] Loading objects/obj_type_1 (14085, 5) (14085 filtered: None)\n"
     ]
    },
    {
     "name": "stdout",
     "output_type": "stream",
     "text": [
      "/mnt/DATA/homuncu_loc/run1_23-01-001_23-01-005/48h pi/20230705_40X_23-01-005A3_Multichannel Z-Stack_20230705_1311_z_tracks_masks.h5 \n",
      "    Cell ID  Max. int. ch0  Max. int. ch1  Max. int. ch2  Max. int. ch3  \\\n",
      "0       66    1700.742432     275.145477     424.567322     116.686180   \n",
      "1       65     324.978333     133.332123     142.490982     111.019859   \n",
      "2       64     717.124573     318.650360     354.142456     128.267212   \n",
      "3       63     449.338776     117.861687     149.215942     115.613724   \n",
      "4       60     633.201111     257.760315     417.663086     153.163315   \n",
      "\n",
      "     Average X   Average Y  \n",
      "0   805.286921  438.711376  \n",
      "1   971.119507  592.892868  \n",
      "2   959.916275  638.394554  \n",
      "3  1368.355743  699.540619  \n",
      "4  1331.369830  808.319869  \n"
     ]
    },
    {
     "name": "stderr",
     "output_type": "stream",
     "text": [
      "[INFO][2023/08/18 04:38:31 PM] Closing HDF file: /mnt/DATA/homuncu_loc/run1_23-01-001_23-01-005/48h pi/20230705_40X_23-01-005A3_Multichannel Z-Stack_20230705_1307_z_tracks_masks.h5\n",
      "[INFO][2023/08/18 04:38:31 PM] Opening HDF file: /mnt/DATA/homuncu_loc/run1_23-01-001_23-01-005/48h pi/20230705_40X_23-01-005A3_Multichannel Z-Stack_20230705_1309_z_tracks_masks.h5...\n",
      "[INFO][2023/08/18 04:38:31 PM] Loading tracks/obj_type_1\n",
      "[INFO][2023/08/18 04:38:31 PM] Loading LBEP/obj_type_1\n",
      "[INFO][2023/08/18 04:38:31 PM] Loading objects/obj_type_1 (18360, 5) (18360 filtered: None)\n"
     ]
    },
    {
     "name": "stdout",
     "output_type": "stream",
     "text": [
      "/mnt/DATA/homuncu_loc/run1_23-01-001_23-01-005/48h pi/20230705_40X_23-01-005A3_Multichannel Z-Stack_20230705_1307_z_tracks_masks.h5 \n",
      "    Cell ID  Max. int. ch0  Max. int. ch1  Max. int. ch2  Max. int. ch3  \\\n",
      "0       33    1392.608154     202.473389     503.362549     147.376328   \n",
      "1       36    1298.991089     200.463089     363.089783     121.665924   \n",
      "2        1     308.419067     115.702881     143.667404     110.977829   \n",
      "3       13    1344.339844     163.533798     195.076202     122.165787   \n",
      "4       54     717.784363     188.746613     301.218140     120.569817   \n",
      "\n",
      "     Average X    Average Y  \n",
      "0  2275.958575   904.214690  \n",
      "1  2225.771807   863.337099  \n",
      "2  2293.243164  1526.230347  \n",
      "3  2288.526228  1694.993273  \n",
      "4  2237.561257   523.761305  \n"
     ]
    },
    {
     "name": "stderr",
     "output_type": "stream",
     "text": [
      "[INFO][2023/08/18 04:38:31 PM] Closing HDF file: /mnt/DATA/homuncu_loc/run1_23-01-001_23-01-005/48h pi/20230705_40X_23-01-005A3_Multichannel Z-Stack_20230705_1309_z_tracks_masks.h5\n",
      "[INFO][2023/08/18 04:38:32 PM] Opening HDF file: /mnt/DATA/homuncu_loc/run1_23-01-001_23-01-005/48h pi/20230705_40X_23-01-005A3_Multichannel Z-Stack_20230705_1310_z_tracks_masks.h5...\n",
      "[INFO][2023/08/18 04:38:32 PM] Loading tracks/obj_type_1\n",
      "[INFO][2023/08/18 04:38:32 PM] Loading LBEP/obj_type_1\n",
      "[INFO][2023/08/18 04:38:32 PM] Loading objects/obj_type_1 (2178, 5) (2178 filtered: None)\n",
      "[INFO][2023/08/18 04:38:32 PM] Closing HDF file: /mnt/DATA/homuncu_loc/run1_23-01-001_23-01-005/48h pi/20230705_40X_23-01-005A3_Multichannel Z-Stack_20230705_1310_z_tracks_masks.h5\n",
      "[INFO][2023/08/18 04:38:32 PM] Opening HDF file: /mnt/DATA/homuncu_loc/run1_23-01-001_23-01-005/48h pi/20230705_40X_23-01-005A3_Multichannel Z-Stack_20230705_1308_z_tracks_masks.h5...\n",
      "[INFO][2023/08/18 04:38:32 PM] Loading tracks/obj_type_1\n",
      "[INFO][2023/08/18 04:38:32 PM] Loading LBEP/obj_type_1\n",
      "[INFO][2023/08/18 04:38:32 PM] Loading objects/obj_type_1 (17764, 5) (17764 filtered: None)\n"
     ]
    },
    {
     "name": "stdout",
     "output_type": "stream",
     "text": [
      "/mnt/DATA/homuncu_loc/run1_23-01-001_23-01-005/48h pi/20230705_40X_23-01-005A3_Multichannel Z-Stack_20230705_1309_z_tracks_masks.h5 \n",
      "    Cell ID  Max. int. ch0  Max. int. ch1  Max. int. ch2  Max. int. ch3  \\\n",
      "0      123    1649.429077     206.573090     312.197235     133.324234   \n",
      "1      112     463.509613     134.504440     174.734467     114.137573   \n",
      "2      114     457.614655     134.084763     155.325653     116.828270   \n",
      "3      120     336.278687     147.409439     162.996796     118.786240   \n",
      "4      121     959.356567     198.412292     630.068481     136.532410   \n",
      "\n",
      "     Average X    Average Y  \n",
      "0  1043.523754  1492.276544  \n",
      "1  1793.503027   834.169336  \n",
      "2  2288.547168   677.795056  \n",
      "3  2270.165161   792.117371  \n",
      "4  1760.759331   776.849356  \n",
      "/mnt/DATA/homuncu_loc/run1_23-01-001_23-01-005/48h pi/20230705_40X_23-01-005A3_Multichannel Z-Stack_20230705_1310_z_tracks_masks.h5 \n",
      "    Cell ID  Max. int. ch0  Max. int. ch1  Max. int. ch2  Max. int. ch3  \\\n",
      "0       27     239.234375     179.266830     153.071976     123.682693   \n",
      "1       29     602.823547     256.450989     166.668625     151.656860   \n",
      "2       30    1150.627808     200.642441     173.151321     150.683121   \n",
      "3       32     799.260864     222.798660     175.185379     148.033340   \n",
      "4       43     784.066406     189.842682     153.475861     141.344482   \n",
      "\n",
      "     Average X    Average Y  \n",
      "0    21.926994    10.626318  \n",
      "1   911.613025   527.602039  \n",
      "2  1719.483297  1030.075623  \n",
      "3  1667.879252  1043.437602  \n",
      "4  1567.422668  1234.365967  \n"
     ]
    },
    {
     "name": "stderr",
     "output_type": "stream",
     "text": [
      "[INFO][2023/08/18 04:38:33 PM] Closing HDF file: /mnt/DATA/homuncu_loc/run1_23-01-001_23-01-005/48h pi/20230705_40X_23-01-005A3_Multichannel Z-Stack_20230705_1308_z_tracks_masks.h5\n",
      "[INFO][2023/08/18 04:38:33 PM] Opening HDF file: /mnt/DATA/homuncu_loc/run1_23-01-001_23-01-005/2h pi/20230707_40X_23-01-001A3_Multichannel Z-Stack_20230707_1319_z_tracks_masks.h5...\n",
      "[INFO][2023/08/18 04:38:33 PM] Loading tracks/obj_type_1\n",
      "[INFO][2023/08/18 04:38:33 PM] Loading LBEP/obj_type_1\n",
      "[INFO][2023/08/18 04:38:33 PM] Loading objects/obj_type_1 (11070, 5) (11070 filtered: None)\n"
     ]
    },
    {
     "name": "stdout",
     "output_type": "stream",
     "text": [
      "/mnt/DATA/homuncu_loc/run1_23-01-001_23-01-005/48h pi/20230705_40X_23-01-005A3_Multichannel Z-Stack_20230705_1308_z_tracks_masks.h5 \n",
      "    Cell ID  Max. int. ch0  Max. int. ch1  Max. int. ch2  Max. int. ch3  \\\n",
      "0      121     379.238007     129.183578     159.247833     114.903137   \n",
      "1      111    1866.109619     219.046616     397.477783     131.778366   \n",
      "2      113     373.689362     121.245995     153.850739     112.615730   \n",
      "3      114     367.436707     122.985321     135.320190     112.322021   \n",
      "4      115     532.333984     181.341553     166.216324     121.550285   \n",
      "\n",
      "     Average X    Average Y  \n",
      "0  2092.960693  1098.676514  \n",
      "1  1925.746416  1158.419688  \n",
      "2  2048.092512   361.210358  \n",
      "3  2078.923889   349.859840  \n",
      "4  1771.464709   364.242032  \n"
     ]
    },
    {
     "name": "stderr",
     "output_type": "stream",
     "text": [
      "[INFO][2023/08/18 04:38:33 PM] Closing HDF file: /mnt/DATA/homuncu_loc/run1_23-01-001_23-01-005/2h pi/20230707_40X_23-01-001A3_Multichannel Z-Stack_20230707_1319_z_tracks_masks.h5\n",
      "[INFO][2023/08/18 04:38:34 PM] Opening HDF file: /mnt/DATA/homuncu_loc/run1_23-01-001_23-01-005/2h pi/20230707_40X_23-01-001A3_Multichannel Z-Stack_20230707_1318_z_tracks_masks.h5...\n",
      "[INFO][2023/08/18 04:38:34 PM] Loading tracks/obj_type_1\n",
      "[INFO][2023/08/18 04:38:34 PM] Loading LBEP/obj_type_1\n",
      "[INFO][2023/08/18 04:38:34 PM] Loading objects/obj_type_1 (2178, 5) (2178 filtered: None)\n",
      "[INFO][2023/08/18 04:38:34 PM] Closing HDF file: /mnt/DATA/homuncu_loc/run1_23-01-001_23-01-005/2h pi/20230707_40X_23-01-001A3_Multichannel Z-Stack_20230707_1318_z_tracks_masks.h5\n",
      "[INFO][2023/08/18 04:38:34 PM] Opening HDF file: /mnt/DATA/homuncu_loc/run1_23-01-001_23-01-005/2h pi/20230707_40X_23-01-001A3_Multichannel Z-Stack_20230707_1320_z_tracks_masks.h5...\n",
      "[INFO][2023/08/18 04:38:34 PM] Loading tracks/obj_type_1\n",
      "[INFO][2023/08/18 04:38:34 PM] Loading LBEP/obj_type_1\n",
      "[INFO][2023/08/18 04:38:34 PM] Loading objects/obj_type_1 (12550, 5) (12550 filtered: None)\n"
     ]
    },
    {
     "name": "stdout",
     "output_type": "stream",
     "text": [
      "/mnt/DATA/homuncu_loc/run1_23-01-001_23-01-005/2h pi/20230707_40X_23-01-001A3_Multichannel Z-Stack_20230707_1319_z_tracks_masks.h5 \n",
      "    Cell ID  Max. int. ch0  Max. int. ch1  Max. int. ch2  Max. int. ch3  \\\n",
      "0       65     395.715759     123.781693     154.683746     126.281693   \n",
      "1       77     547.913147     167.645584     238.079208     130.674850   \n",
      "2       76     205.365585     113.911827     133.956985     116.352692   \n",
      "3       72     784.332397     153.118256     169.517014     130.819290   \n",
      "4       68     854.333130     146.888046     183.829803     132.895294   \n",
      "\n",
      "     Average X   Average Y  \n",
      "0  1879.113098  187.724943  \n",
      "1  1745.369646   20.862757  \n",
      "2  1867.596954   16.193027  \n",
      "3  1805.833246   49.531535  \n",
      "4  1813.471313  175.409795  \n",
      "/mnt/DATA/homuncu_loc/run1_23-01-001_23-01-005/2h pi/20230707_40X_23-01-001A3_Multichannel Z-Stack_20230707_1318_z_tracks_masks.h5 \n",
      "    Cell ID  Max. int. ch0  Max. int. ch1  Max. int. ch2  Max. int. ch3  \\\n",
      "0       27     239.234375     179.266830     153.071976     123.682693   \n",
      "1       29     602.823547     256.450989     166.668625     151.656860   \n",
      "2       30    1150.627808     200.642441     173.151321     150.683121   \n",
      "3       32     799.260864     222.798660     175.185379     148.033340   \n",
      "4       43     784.066406     189.842682     153.475861     141.344482   \n",
      "\n",
      "     Average X    Average Y  \n",
      "0    21.926994    10.626318  \n",
      "1   911.613025   527.602039  \n",
      "2  1719.483297  1030.075623  \n",
      "3  1667.879252  1043.437602  \n",
      "4  1567.422668  1234.365967  \n"
     ]
    },
    {
     "name": "stderr",
     "output_type": "stream",
     "text": [
      "[INFO][2023/08/18 04:38:34 PM] Closing HDF file: /mnt/DATA/homuncu_loc/run1_23-01-001_23-01-005/2h pi/20230707_40X_23-01-001A3_Multichannel Z-Stack_20230707_1320_z_tracks_masks.h5\n",
      "[INFO][2023/08/18 04:38:34 PM] Opening HDF file: /mnt/DATA/homuncu_loc/run1_23-01-001_23-01-005/2h pi/20230707_40X_23-01-001A3_Multichannel Z-Stack_20230707_1314_z_tracks_masks.h5...\n",
      "[INFO][2023/08/18 04:38:34 PM] Loading tracks/obj_type_1\n",
      "[INFO][2023/08/18 04:38:34 PM] Loading LBEP/obj_type_1\n",
      "[INFO][2023/08/18 04:38:34 PM] Loading objects/obj_type_1 (12239, 5) (12239 filtered: None)\n"
     ]
    },
    {
     "name": "stdout",
     "output_type": "stream",
     "text": [
      "/mnt/DATA/homuncu_loc/run1_23-01-001_23-01-005/2h pi/20230707_40X_23-01-001A3_Multichannel Z-Stack_20230707_1320_z_tracks_masks.h5 \n",
      "    Cell ID  Max. int. ch0  Max. int. ch1  Max. int. ch2  Max. int. ch3  \\\n",
      "0       42     245.955322     128.379120     135.975784     122.908562   \n",
      "1       31     154.910965     129.003174     123.383148     110.411171   \n",
      "2       32     721.734192     130.345459     131.973816     113.408447   \n",
      "3       33     512.864075     132.520538     155.608078     115.836899   \n",
      "4       34     734.608948     188.407379     142.047241     119.199997   \n",
      "\n",
      "     Average X   Average Y  \n",
      "0  2266.619954  520.080994  \n",
      "1  2075.243835   12.064493  \n",
      "2  2283.409023   23.565265  \n",
      "3  2238.592388   54.212124  \n",
      "4  2105.069141   70.807875  \n"
     ]
    },
    {
     "name": "stderr",
     "output_type": "stream",
     "text": [
      "[INFO][2023/08/18 04:38:35 PM] Closing HDF file: /mnt/DATA/homuncu_loc/run1_23-01-001_23-01-005/2h pi/20230707_40X_23-01-001A3_Multichannel Z-Stack_20230707_1314_z_tracks_masks.h5\n",
      "[INFO][2023/08/18 04:38:35 PM] Opening HDF file: /mnt/DATA/homuncu_loc/run1_23-01-001_23-01-005/2h pi/20230707_40X_23-01-001A3_Multichannel Z-Stack_20230707_1313_z_tracks_masks.h5...\n",
      "[INFO][2023/08/18 04:38:35 PM] Loading tracks/obj_type_1\n",
      "[INFO][2023/08/18 04:38:35 PM] Loading LBEP/obj_type_1\n",
      "[INFO][2023/08/18 04:38:35 PM] Loading objects/obj_type_1 (12, 5) (12 filtered: None)\n",
      "[INFO][2023/08/18 04:38:35 PM] Closing HDF file: /mnt/DATA/homuncu_loc/run1_23-01-001_23-01-005/2h pi/20230707_40X_23-01-001A3_Multichannel Z-Stack_20230707_1313_z_tracks_masks.h5\n",
      "[INFO][2023/08/18 04:38:35 PM] Opening HDF file: /mnt/DATA/homuncu_loc/run1_23-01-001_23-01-005/2h pi/20230707_40X_23-01-001A3_Multichannel Z-Stack_20230707_1317_z_tracks_masks.h5...\n",
      "[INFO][2023/08/18 04:38:35 PM] Loading tracks/obj_type_1\n",
      "[INFO][2023/08/18 04:38:35 PM] Loading LBEP/obj_type_1\n",
      "[INFO][2023/08/18 04:38:35 PM] Loading objects/obj_type_1 (11070, 5) (11070 filtered: None)\n"
     ]
    },
    {
     "name": "stdout",
     "output_type": "stream",
     "text": [
      "/mnt/DATA/homuncu_loc/run1_23-01-001_23-01-005/2h pi/20230707_40X_23-01-001A3_Multichannel Z-Stack_20230707_1314_z_tracks_masks.h5 \n",
      "    Cell ID  Max. int. ch0  Max. int. ch1  Max. int. ch2  Max. int. ch3  \\\n",
      "0       29     233.741028     120.882751     137.476486     121.187225   \n",
      "1       27     212.793823     116.459496     119.950417     121.257111   \n",
      "2       22     453.511841     121.239586     165.493561     123.718727   \n",
      "3       20     504.276825     119.086670     138.835602     123.019737   \n",
      "4       15     174.751419     105.741608     108.577263     115.652946   \n",
      "\n",
      "     Average X   Average Y  \n",
      "0  2274.572144  607.963023  \n",
      "1  2274.218213  489.223022  \n",
      "2  2274.441010  112.463381  \n",
      "3  2280.646841   46.299757  \n",
      "4    25.771854  852.132891  \n",
      "/mnt/DATA/homuncu_loc/run1_23-01-001_23-01-005/2h pi/20230707_40X_23-01-001A3_Multichannel Z-Stack_20230707_1313_z_tracks_masks.h5 \n",
      " Empty DataFrame\n",
      "Columns: [Cell ID, Max. int. ch0, Max. int. ch1, Max. int. ch2, Max. int. ch3, Average X, Average Y]\n",
      "Index: []\n"
     ]
    },
    {
     "name": "stderr",
     "output_type": "stream",
     "text": [
      "[INFO][2023/08/18 04:38:35 PM] Closing HDF file: /mnt/DATA/homuncu_loc/run1_23-01-001_23-01-005/2h pi/20230707_40X_23-01-001A3_Multichannel Z-Stack_20230707_1317_z_tracks_masks.h5\n",
      "[INFO][2023/08/18 04:38:36 PM] Opening HDF file: /mnt/DATA/homuncu_loc/run1_23-01-001_23-01-005/2h pi/20230707_40X_23-01-001A3_Multichannel Z-Stack_20230707_1316_z_tracks_masks.h5...\n",
      "[INFO][2023/08/18 04:38:36 PM] Loading tracks/obj_type_1\n",
      "[INFO][2023/08/18 04:38:36 PM] Loading LBEP/obj_type_1\n",
      "[INFO][2023/08/18 04:38:36 PM] Loading objects/obj_type_1 (11105, 5) (11105 filtered: None)\n"
     ]
    },
    {
     "name": "stdout",
     "output_type": "stream",
     "text": [
      "/mnt/DATA/homuncu_loc/run1_23-01-001_23-01-005/2h pi/20230707_40X_23-01-001A3_Multichannel Z-Stack_20230707_1317_z_tracks_masks.h5 \n",
      "    Cell ID  Max. int. ch0  Max. int. ch1  Max. int. ch2  Max. int. ch3  \\\n",
      "0       65     395.715759     123.781693     154.683746     126.281693   \n",
      "1       77     547.913147     167.645584     238.079208     130.674850   \n",
      "2       76     205.365585     113.911827     133.956985     116.352692   \n",
      "3       72     784.332397     153.118256     169.517014     130.819290   \n",
      "4       68     854.333130     146.888046     183.829803     132.895294   \n",
      "\n",
      "     Average X   Average Y  \n",
      "0  1879.113098  187.724943  \n",
      "1  1745.369646   20.862757  \n",
      "2  1867.596954   16.193027  \n",
      "3  1805.833246   49.531535  \n",
      "4  1813.471313  175.409795  \n"
     ]
    },
    {
     "name": "stderr",
     "output_type": "stream",
     "text": [
      "[INFO][2023/08/18 04:38:36 PM] Closing HDF file: /mnt/DATA/homuncu_loc/run1_23-01-001_23-01-005/2h pi/20230707_40X_23-01-001A3_Multichannel Z-Stack_20230707_1316_z_tracks_masks.h5\n",
      "[INFO][2023/08/18 04:38:36 PM] Opening HDF file: /mnt/DATA/homuncu_loc/run1_23-01-001_23-01-005/2h pi/20230707_40X_23-01-001A3_Multichannel Z-Stack_20230707_1315_z_tracks_masks.h5...\n",
      "[INFO][2023/08/18 04:38:36 PM] Loading tracks/obj_type_1\n",
      "[INFO][2023/08/18 04:38:36 PM] Loading LBEP/obj_type_1\n",
      "[INFO][2023/08/18 04:38:36 PM] Loading objects/obj_type_1 (13489, 5) (13489 filtered: None)\n"
     ]
    },
    {
     "name": "stdout",
     "output_type": "stream",
     "text": [
      "/mnt/DATA/homuncu_loc/run1_23-01-001_23-01-005/2h pi/20230707_40X_23-01-001A3_Multichannel Z-Stack_20230707_1316_z_tracks_masks.h5 \n",
      "    Cell ID  Max. int. ch0  Max. int. ch1  Max. int. ch2  Max. int. ch3  \\\n",
      "0        2     402.855255     154.780136     149.245621     241.255798   \n",
      "1        3     381.681366     296.818359     163.297241     154.651688   \n",
      "2        5     429.708252     137.806381     139.254852     120.287491   \n",
      "3       18     288.732422     131.210876     189.086456     131.516830   \n",
      "4       17     366.847717     130.475235     181.830429     150.110092   \n",
      "\n",
      "     Average X   Average Y  \n",
      "0   751.694811   89.051321  \n",
      "1   746.473404  371.785271  \n",
      "2  2252.743042  259.412579  \n",
      "3  2293.287807  222.838915  \n",
      "4  1472.911011  213.464442  \n"
     ]
    },
    {
     "name": "stderr",
     "output_type": "stream",
     "text": [
      "[INFO][2023/08/18 04:38:37 PM] Closing HDF file: /mnt/DATA/homuncu_loc/run1_23-01-001_23-01-005/2h pi/20230707_40X_23-01-001A3_Multichannel Z-Stack_20230707_1315_z_tracks_masks.h5\n",
      "[INFO][2023/08/18 04:38:37 PM] Opening HDF file: /mnt/DATA/homuncu_loc/run1_23-01-001_23-01-005/2h pi/no_mtb_measure/20230707_40X_23-01-001A3_Multichannel Z-Stack_20230707_1319_z_tracks_masks.h5...\n",
      "[INFO][2023/08/18 04:38:37 PM] Loading tracks/obj_type_1\n",
      "[INFO][2023/08/18 04:38:37 PM] Loading LBEP/obj_type_1\n",
      "[INFO][2023/08/18 04:38:37 PM] Loading objects/obj_type_1 (60184, 5) (60184 filtered: None)\n"
     ]
    },
    {
     "name": "stdout",
     "output_type": "stream",
     "text": [
      "/mnt/DATA/homuncu_loc/run1_23-01-001_23-01-005/2h pi/20230707_40X_23-01-001A3_Multichannel Z-Stack_20230707_1315_z_tracks_masks.h5 \n",
      "    Cell ID  Max. int. ch0  Max. int. ch1  Max. int. ch2  Max. int. ch3  \\\n",
      "0        1     151.602036     103.577934     105.784012     114.110336   \n",
      "1        5     433.217102     122.540817     147.449234     140.439240   \n",
      "2       19     147.403107     104.235718     105.900375     113.441559   \n",
      "3       28     245.874130     296.243591     137.032257     149.729767   \n",
      "4       29     155.136185     110.223732     111.868790     126.743187   \n",
      "\n",
      "     Average X   Average Y  \n",
      "0   576.508105  392.206799  \n",
      "1   252.597913  277.216051  \n",
      "2   577.895562  391.876661  \n",
      "3  1232.167864   47.495039  \n",
      "4   574.903333  390.776678  \n"
     ]
    },
    {
     "name": "stderr",
     "output_type": "stream",
     "text": [
      "[INFO][2023/08/18 04:38:39 PM] Closing HDF file: /mnt/DATA/homuncu_loc/run1_23-01-001_23-01-005/2h pi/no_mtb_measure/20230707_40X_23-01-001A3_Multichannel Z-Stack_20230707_1319_z_tracks_masks.h5\n",
      "[INFO][2023/08/18 04:38:40 PM] Opening HDF file: /mnt/DATA/homuncu_loc/run1_23-01-001_23-01-005/2h pi/no_mtb_measure/20230707_40X_23-01-001A3_Multichannel Z-Stack_20230707_1318_z_tracks_masks.h5...\n",
      "[INFO][2023/08/18 04:38:40 PM] Loading tracks/obj_type_1\n",
      "[INFO][2023/08/18 04:38:40 PM] Loading LBEP/obj_type_1\n",
      "[INFO][2023/08/18 04:38:40 PM] Loading objects/obj_type_1 (10002, 5) (10002 filtered: None)\n"
     ]
    },
    {
     "name": "stdout",
     "output_type": "stream",
     "text": [
      "/mnt/DATA/homuncu_loc/run1_23-01-001_23-01-005/2h pi/no_mtb_measure/20230707_40X_23-01-001A3_Multichannel Z-Stack_20230707_1319_z_tracks_masks.h5 \n",
      "    Cell ID  Max. int. ch0  Max. int. ch1  Max. int. ch2  Max. int. ch3  \\\n",
      "0        3     176.543152     109.676468     119.532997     115.715736   \n",
      "1        4     188.323944     107.661972     116.971832     112.408447   \n",
      "2        9     192.918182     107.980949     116.581818     112.523811   \n",
      "3       11     191.278687     108.803276     118.409836     114.000000   \n",
      "4       16     179.132355     108.220589     114.883492     112.181816   \n",
      "\n",
      "     Average X    Average Y  \n",
      "0     9.190782  1688.486642  \n",
      "1  2299.094482  1747.940430  \n",
      "2  2297.530884  1846.872375  \n",
      "3  2298.471924  1896.333145  \n",
      "4  2298.943921  1933.390027  \n"
     ]
    },
    {
     "name": "stderr",
     "output_type": "stream",
     "text": [
      "[INFO][2023/08/18 04:38:40 PM] Closing HDF file: /mnt/DATA/homuncu_loc/run1_23-01-001_23-01-005/2h pi/no_mtb_measure/20230707_40X_23-01-001A3_Multichannel Z-Stack_20230707_1318_z_tracks_masks.h5\n",
      "[INFO][2023/08/18 04:38:40 PM] Opening HDF file: /mnt/DATA/homuncu_loc/run1_23-01-001_23-01-005/2h pi/no_mtb_measure/20230707_40X_23-01-001A3_Multichannel Z-Stack_20230707_1313_z_tracks_masks.h5...\n",
      "[ERROR][2023/08/18 04:38:40 PM] Tracks not found in /mnt/DATA/homuncu_loc/run1_23-01-001_23-01-005/2h pi/no_mtb_measure/20230707_40X_23-01-001A3_Multichannel Z-Stack_20230707_1313_z_tracks_masks.h5\n",
      "[INFO][2023/08/18 04:38:40 PM] Closing HDF file: /mnt/DATA/homuncu_loc/run1_23-01-001_23-01-005/2h pi/no_mtb_measure/20230707_40X_23-01-001A3_Multichannel Z-Stack_20230707_1313_z_tracks_masks.h5\n",
      "[INFO][2023/08/18 04:38:41 PM] Opening HDF file: /mnt/DATA/homuncu_loc/run1_23-01-001_23-01-005/2h pi/no_mtb_measure/20230707_40X_23-01-001A3_Multichannel Z-Stack_20230707_1317_z_tracks_masks.h5...\n",
      "[INFO][2023/08/18 04:38:41 PM] Loading tracks/obj_type_1\n",
      "[INFO][2023/08/18 04:38:41 PM] Loading LBEP/obj_type_1\n"
     ]
    },
    {
     "name": "stdout",
     "output_type": "stream",
     "text": [
      "/mnt/DATA/homuncu_loc/run1_23-01-001_23-01-005/2h pi/no_mtb_measure/20230707_40X_23-01-001A3_Multichannel Z-Stack_20230707_1318_z_tracks_masks.h5 \n",
      "    Cell ID  Max. int. ch0  Max. int. ch1  Max. int. ch2  Max. int. ch3  \\\n",
      "0      125     256.199432     166.687454     173.111679     125.548149   \n",
      "1        7     285.912292     159.245621     128.859650     117.596489   \n",
      "2       76     178.609528     116.866669     114.190475     114.133331   \n",
      "3       51     194.366196     111.165604     120.985916     117.028168   \n",
      "4       57     170.928574     109.750000     108.678574     115.785713   \n",
      "\n",
      "     Average X    Average Y  \n",
      "0   610.777185     6.672933  \n",
      "1     3.656285  1488.202365  \n",
      "2  2298.491272  1924.652435  \n",
      "3  2297.132385  2198.809814  \n",
      "4  2298.835938  2295.340088  \n",
      "/mnt/DATA/homuncu_loc/run1_23-01-001_23-01-005/2h pi/no_mtb_measure/20230707_40X_23-01-001A3_Multichannel Z-Stack_20230707_1313_z_tracks_masks.h5 \n",
      "    Cell ID  Max. int. ch0  Max. int. ch1  Max. int. ch2  Max. int. ch3  \\\n",
      "0      125     256.199432     166.687454     173.111679     125.548149   \n",
      "1        7     285.912292     159.245621     128.859650     117.596489   \n",
      "2       76     178.609528     116.866669     114.190475     114.133331   \n",
      "3       51     194.366196     111.165604     120.985916     117.028168   \n",
      "4       57     170.928574     109.750000     108.678574     115.785713   \n",
      "\n",
      "     Average X    Average Y  \n",
      "0   610.777185     6.672933  \n",
      "1     3.656285  1488.202365  \n",
      "2  2298.491272  1924.652435  \n",
      "3  2297.132385  2198.809814  \n",
      "4  2298.835938  2295.340088  \n"
     ]
    },
    {
     "name": "stderr",
     "output_type": "stream",
     "text": [
      "[INFO][2023/08/18 04:38:41 PM] Loading objects/obj_type_1 (60184, 5) (60184 filtered: None)\n",
      "[INFO][2023/08/18 04:38:42 PM] Closing HDF file: /mnt/DATA/homuncu_loc/run1_23-01-001_23-01-005/2h pi/no_mtb_measure/20230707_40X_23-01-001A3_Multichannel Z-Stack_20230707_1317_z_tracks_masks.h5\n",
      "[INFO][2023/08/18 04:38:43 PM] Opening HDF file: /mnt/DATA/homuncu_loc/run1_23-01-001_23-01-005/2h pi/no_mtb_measure/20230707_40X_23-01-001A3_Multichannel Z-Stack_20230707_1316_z_tracks_masks.h5...\n",
      "[INFO][2023/08/18 04:38:43 PM] Loading tracks/obj_type_1\n",
      "[INFO][2023/08/18 04:38:43 PM] Loading LBEP/obj_type_1\n",
      "[INFO][2023/08/18 04:38:43 PM] Loading objects/obj_type_1 (39629, 5) (39629 filtered: None)\n"
     ]
    },
    {
     "name": "stdout",
     "output_type": "stream",
     "text": [
      "/mnt/DATA/homuncu_loc/run1_23-01-001_23-01-005/2h pi/no_mtb_measure/20230707_40X_23-01-001A3_Multichannel Z-Stack_20230707_1317_z_tracks_masks.h5 \n",
      "    Cell ID  Max. int. ch0  Max. int. ch1  Max. int. ch2  Max. int. ch3  \\\n",
      "0        3     176.543152     109.676468     119.532997     115.715736   \n",
      "1        4     188.323944     107.661972     116.971832     112.408447   \n",
      "2        9     192.918182     107.980949     116.581818     112.523811   \n",
      "3       11     191.278687     108.803276     118.409836     114.000000   \n",
      "4       16     179.132355     108.220589     114.883492     112.181816   \n",
      "\n",
      "     Average X    Average Y  \n",
      "0     9.190782  1688.486642  \n",
      "1  2299.094482  1747.940430  \n",
      "2  2297.530884  1846.872375  \n",
      "3  2298.471924  1896.333145  \n",
      "4  2298.943921  1933.390027  \n"
     ]
    },
    {
     "name": "stderr",
     "output_type": "stream",
     "text": [
      "[INFO][2023/08/18 04:38:44 PM] Closing HDF file: /mnt/DATA/homuncu_loc/run1_23-01-001_23-01-005/2h pi/no_mtb_measure/20230707_40X_23-01-001A3_Multichannel Z-Stack_20230707_1316_z_tracks_masks.h5\n",
      "[INFO][2023/08/18 04:38:45 PM] Opening HDF file: /mnt/DATA/homuncu_loc/run1_23-01-001_23-01-005/2h pi/no_mtb_measure/20230707_40X_23-01-001A3_Multichannel Z-Stack_20230707_1315_z_tracks_masks.h5...\n",
      "[ERROR][2023/08/18 04:38:45 PM] Tracks not found in /mnt/DATA/homuncu_loc/run1_23-01-001_23-01-005/2h pi/no_mtb_measure/20230707_40X_23-01-001A3_Multichannel Z-Stack_20230707_1315_z_tracks_masks.h5\n",
      "[INFO][2023/08/18 04:38:45 PM] Closing HDF file: /mnt/DATA/homuncu_loc/run1_23-01-001_23-01-005/2h pi/no_mtb_measure/20230707_40X_23-01-001A3_Multichannel Z-Stack_20230707_1315_z_tracks_masks.h5\n"
     ]
    },
    {
     "name": "stdout",
     "output_type": "stream",
     "text": [
      "/mnt/DATA/homuncu_loc/run1_23-01-001_23-01-005/2h pi/no_mtb_measure/20230707_40X_23-01-001A3_Multichannel Z-Stack_20230707_1316_z_tracks_masks.h5 \n",
      "    Cell ID  Max. int. ch0  Max. int. ch1  Max. int. ch2  Max. int. ch3  \\\n",
      "0        5     363.344818     733.666687     150.791672     148.793106   \n",
      "1        6     316.349548     136.444443     145.528122     124.393517   \n",
      "2       12     425.373199     137.806381     145.972351     122.943680   \n",
      "3       18     288.732422     129.441895     242.051544     131.032425   \n",
      "4       24     895.980774     126.030769     124.699997     119.497238   \n",
      "\n",
      "     Average X   Average Y  \n",
      "0   779.097974  261.024329  \n",
      "1  2294.037923  273.338725  \n",
      "2  2252.365560  259.121680  \n",
      "3  2294.864044  231.334686  \n",
      "4  1983.964600  225.215101  \n",
      "/mnt/DATA/homuncu_loc/run1_23-01-001_23-01-005/2h pi/no_mtb_measure/20230707_40X_23-01-001A3_Multichannel Z-Stack_20230707_1315_z_tracks_masks.h5 \n",
      "    Cell ID  Max. int. ch0  Max. int. ch1  Max. int. ch2  Max. int. ch3  \\\n",
      "0        5     363.344818     733.666687     150.791672     148.793106   \n",
      "1        6     316.349548     136.444443     145.528122     124.393517   \n",
      "2       12     425.373199     137.806381     145.972351     122.943680   \n",
      "3       18     288.732422     129.441895     242.051544     131.032425   \n",
      "4       24     895.980774     126.030769     124.699997     119.497238   \n",
      "\n",
      "     Average X   Average Y  \n",
      "0   779.097974  261.024329  \n",
      "1  2294.037923  273.338725  \n",
      "2  2252.365560  259.121680  \n",
      "3  2294.864044  231.334686  \n",
      "4  1983.964600  225.215101  \n"
     ]
    }
   ],
   "source": [
    "sum = 0\n",
    "error_fns = list()\n",
    "for tracks_fn in tqdm(h5_fns):\n",
    "    with btrack.io.HDF5FileHandler(tracks_fn, 'r') as hdf:\n",
    "        try:\n",
    "            tracks = [t for t in hdf.tracks if len(t) > 3]\n",
    "        except:\n",
    "            error_fns.append(tracks_fn)\n",
    "    # now plot into dataframe \n",
    "    df = pd.DataFrame([(track.ID, np.nanmax(track['mean_intensity'][:,0]),np.nanmax(track['mean_intensity'][:,1]),np.nanmax(track['mean_intensity'][:,2]),np.nanmax(track['mean_intensity'][:,3]), np.mean(track.x), np.mean(track.y)) for track in tracks], columns=cols)\n",
    "    # create fn\n",
    "    output_fn = tracks_fn.replace('z_tracks_masks.h5', 'sc_results.csv')\n",
    "    # save out\n",
    "    df.to_csv(output_fn)\n",
    "    # check on the fly \n",
    "    print(tracks_fn, '\\n', df.head())\n",
    "    # how many sc measreuments \n",
    "    sum += len(df)"
   ]
  },
  {
   "cell_type": "code",
   "execution_count": 67,
   "id": "c17d6ff5-e4f5-4f67-be40-bb7695c88b1f",
   "metadata": {},
   "outputs": [
    {
     "data": {
      "text/plain": [
       "55290"
      ]
     },
     "execution_count": 67,
     "metadata": {},
     "output_type": "execute_result"
    }
   ],
   "source": [
    "sum"
   ]
  },
  {
   "cell_type": "code",
   "execution_count": 61,
   "id": "a4c65ba7-a7e0-4572-ba14-616d85732b6d",
   "metadata": {},
   "outputs": [
    {
     "data": {
      "text/plain": [
       "['/mnt/DATA/homuncu_loc/run2_23-02-104/48h pi/no_mtb_measure/20230718_20X_23-02-104B2_Multichannel Z-Stack_20230718_1362_z_tracks_masks.h5',\n",
       " '/mnt/DATA/homuncu_loc/run1_23-01-001_23-01-005/2h pi/no_mtb_measure/20230707_40X_23-01-001A3_Multichannel Z-Stack_20230707_1313_z_tracks_masks.h5',\n",
       " '/mnt/DATA/homuncu_loc/run1_23-01-001_23-01-005/2h pi/no_mtb_measure/20230707_40X_23-01-001A3_Multichannel Z-Stack_20230707_1315_z_tracks_masks.h5']"
      ]
     },
     "execution_count": 61,
     "metadata": {},
     "output_type": "execute_result"
    }
   ],
   "source": [
    "error_fns"
   ]
  },
  {
   "cell_type": "code",
   "execution_count": 64,
   "id": "5b27d600-4b3d-40e3-b39a-257a1ce5fa18",
   "metadata": {},
   "outputs": [
    {
     "data": {
      "text/html": [
       "<div>\n",
       "<style scoped>\n",
       "    .dataframe tbody tr th:only-of-type {\n",
       "        vertical-align: middle;\n",
       "    }\n",
       "\n",
       "    .dataframe tbody tr th {\n",
       "        vertical-align: top;\n",
       "    }\n",
       "\n",
       "    .dataframe thead th {\n",
       "        text-align: right;\n",
       "    }\n",
       "</style>\n",
       "<table border=\"1\" class=\"dataframe\">\n",
       "  <thead>\n",
       "    <tr style=\"text-align: right;\">\n",
       "      <th></th>\n",
       "      <th>Cell ID</th>\n",
       "      <th>Max. int. ch0</th>\n",
       "      <th>Max. int. ch1</th>\n",
       "      <th>Max. int. ch2</th>\n",
       "      <th>Max. int. ch3</th>\n",
       "      <th>Average X</th>\n",
       "      <th>Average Y</th>\n",
       "    </tr>\n",
       "  </thead>\n",
       "  <tbody>\n",
       "    <tr>\n",
       "      <th>0</th>\n",
       "      <td>5</td>\n",
       "      <td>363.344818</td>\n",
       "      <td>733.666687</td>\n",
       "      <td>150.791672</td>\n",
       "      <td>148.793106</td>\n",
       "      <td>779.097974</td>\n",
       "      <td>261.024329</td>\n",
       "    </tr>\n",
       "    <tr>\n",
       "      <th>1</th>\n",
       "      <td>6</td>\n",
       "      <td>316.349548</td>\n",
       "      <td>136.444443</td>\n",
       "      <td>145.528122</td>\n",
       "      <td>124.393517</td>\n",
       "      <td>2294.037923</td>\n",
       "      <td>273.338725</td>\n",
       "    </tr>\n",
       "    <tr>\n",
       "      <th>2</th>\n",
       "      <td>12</td>\n",
       "      <td>425.373199</td>\n",
       "      <td>137.806381</td>\n",
       "      <td>145.972351</td>\n",
       "      <td>122.943680</td>\n",
       "      <td>2252.365560</td>\n",
       "      <td>259.121680</td>\n",
       "    </tr>\n",
       "    <tr>\n",
       "      <th>3</th>\n",
       "      <td>18</td>\n",
       "      <td>288.732422</td>\n",
       "      <td>129.441895</td>\n",
       "      <td>242.051544</td>\n",
       "      <td>131.032425</td>\n",
       "      <td>2294.864044</td>\n",
       "      <td>231.334686</td>\n",
       "    </tr>\n",
       "    <tr>\n",
       "      <th>4</th>\n",
       "      <td>24</td>\n",
       "      <td>895.980774</td>\n",
       "      <td>126.030769</td>\n",
       "      <td>124.699997</td>\n",
       "      <td>119.497238</td>\n",
       "      <td>1983.964600</td>\n",
       "      <td>225.215101</td>\n",
       "    </tr>\n",
       "  </tbody>\n",
       "</table>\n",
       "</div>"
      ],
      "text/plain": [
       "   Cell ID  Max. int. ch0  Max. int. ch1  Max. int. ch2  Max. int. ch3  \\\n",
       "0        5     363.344818     733.666687     150.791672     148.793106   \n",
       "1        6     316.349548     136.444443     145.528122     124.393517   \n",
       "2       12     425.373199     137.806381     145.972351     122.943680   \n",
       "3       18     288.732422     129.441895     242.051544     131.032425   \n",
       "4       24     895.980774     126.030769     124.699997     119.497238   \n",
       "\n",
       "     Average X   Average Y  \n",
       "0   779.097974  261.024329  \n",
       "1  2294.037923  273.338725  \n",
       "2  2252.365560  259.121680  \n",
       "3  2294.864044  231.334686  \n",
       "4  1983.964600  225.215101  "
      ]
     },
     "execution_count": 64,
     "metadata": {},
     "output_type": "execute_result"
    }
   ],
   "source": [
    "df.head()"
   ]
  }
 ],
 "metadata": {
  "kernelspec": {
   "display_name": "brassica",
   "language": "python",
   "name": "brassica"
  },
  "language_info": {
   "codemirror_mode": {
    "name": "ipython",
    "version": 3
   },
   "file_extension": ".py",
   "mimetype": "text/x-python",
   "name": "python",
   "nbconvert_exporter": "python",
   "pygments_lexer": "ipython3",
   "version": "3.9.17"
  }
 },
 "nbformat": 4,
 "nbformat_minor": 5
}
