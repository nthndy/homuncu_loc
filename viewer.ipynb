{
 "cells": [
  {
   "cell_type": "markdown",
   "id": "038f144c",
   "metadata": {},
   "source": [
    "# homuncu_loc image viewer"
   ]
  },
  {
   "cell_type": "code",
   "execution_count": 37,
   "id": "8988af78",
   "metadata": {},
   "outputs": [],
   "source": [
    "import napari\n",
    "from skimage import io\n",
    "import btrack"
   ]
  },
  {
   "cell_type": "code",
   "execution_count": 40,
   "id": "fb38cfc3",
   "metadata": {},
   "outputs": [],
   "source": [
    "image_fn = '/run/user/30046150/gvfs/smb-share:server=data2.thecrick.org,share=lab-gutierrezm/home/shared/Lung on Chip/image analysis_Nathan/Job_Mtb area/run1_23-01-001_23-01-005/2h pi/20230707_40X_23-01-001A3_Multichannel Z-Stack_20230707_1314.tif'"
   ]
  },
  {
   "cell_type": "code",
   "execution_count": 41,
   "id": "8f2681b1",
   "metadata": {},
   "outputs": [
    {
     "name": "stdout",
     "output_type": "stream",
     "text": [
      "CPU times: user 5.06 s, sys: 27.3 s, total: 32.4 s\n",
      "Wall time: 5min 57s\n"
     ]
    }
   ],
   "source": [
    "%%time\n",
    "image = io.imread(image_fn)"
   ]
  },
  {
   "cell_type": "code",
   "execution_count": 42,
   "id": "fce0a838",
   "metadata": {},
   "outputs": [
    {
     "data": {
      "text/plain": [
       "(303, 2304, 2304, 4)"
      ]
     },
     "execution_count": 42,
     "metadata": {},
     "output_type": "execute_result"
    }
   ],
   "source": [
    "image.shape"
   ]
  },
  {
   "cell_type": "code",
   "execution_count": 20,
   "id": "64cb0846",
   "metadata": {},
   "outputs": [],
   "source": [
    "tracks_fn = '/home/dayn/data/homuncu_loc_temp/DAPI-NKX21-PDPN-ZO1/Day7_static/20x_21-12-031B_A12456_Multichannel Z-Stack_20220811_113_z_tracks_masks.h5'"
   ]
  },
  {
   "cell_type": "code",
   "execution_count": 24,
   "id": "dcbce733",
   "metadata": {},
   "outputs": [
    {
     "name": "stderr",
     "output_type": "stream",
     "text": [
      "[INFO][2023/07/26 12:14:57 pm] Opening HDF file: /home/dayn/data/homuncu_loc_temp/DAPI-NKX21-PDPN-ZO1/Day7_static/20x_21-12-031B_A12456_Multichannel Z-Stack_20220811_113_z_tracks_masks.h5...\n",
      "26-Jul-23 12:14:57 - btrack.io.hdf - INFO     - Opening HDF file: /home/dayn/data/homuncu_loc_temp/DAPI-NKX21-PDPN-ZO1/Day7_static/20x_21-12-031B_A12456_Multichannel Z-Stack_20220811_113_z_tracks_masks.h5...\n",
      "[INFO][2023/07/26 12:14:59 pm] Loading segmentation (81, 2304, 2304)\n",
      "26-Jul-23 12:14:59 - btrack.io.hdf - INFO     - Loading segmentation (81, 2304, 2304)\n",
      "[INFO][2023/07/26 12:14:59 pm] Loading tracks/obj_type_1\n",
      "26-Jul-23 12:14:59 - btrack.io.hdf - INFO     - Loading tracks/obj_type_1\n",
      "[INFO][2023/07/26 12:14:59 pm] Loading LBEP/obj_type_1\n",
      "26-Jul-23 12:14:59 - btrack.io.hdf - INFO     - Loading LBEP/obj_type_1\n",
      "[INFO][2023/07/26 12:14:59 pm] Loading objects/obj_type_1 (44449, 5) (44449 filtered: None)\n",
      "26-Jul-23 12:14:59 - btrack.io.hdf - INFO     - Loading objects/obj_type_1 (44449, 5) (44449 filtered: None)\n",
      "[INFO][2023/07/26 12:15:00 pm] Closing HDF file: /home/dayn/data/homuncu_loc_temp/DAPI-NKX21-PDPN-ZO1/Day7_static/20x_21-12-031B_A12456_Multichannel Z-Stack_20220811_113_z_tracks_masks.h5\n",
      "26-Jul-23 12:15:00 - btrack.io.hdf - INFO     - Closing HDF file: /home/dayn/data/homuncu_loc_temp/DAPI-NKX21-PDPN-ZO1/Day7_static/20x_21-12-031B_A12456_Multichannel Z-Stack_20220811_113_z_tracks_masks.h5\n"
     ]
    }
   ],
   "source": [
    "with btrack.io.HDF5FileHandler(tracks_fn, 'r', obj_type='obj_type_1') as reader:\n",
    "    segmentation = reader.segmentation\n",
    "    tracks = reader.tracks"
   ]
  },
  {
   "cell_type": "code",
   "execution_count": 25,
   "id": "cdd465d4",
   "metadata": {},
   "outputs": [],
   "source": [
    "napari_tracks, _, _ = btrack.utils.tracks_to_napari(tracks, ndim = 2)"
   ]
  },
  {
   "cell_type": "code",
   "execution_count": 43,
   "id": "fb976154",
   "metadata": {},
   "outputs": [
    {
     "data": {
      "text/plain": [
       "[<Image layer 'Image' at 0x7f2f512b2a30>,\n",
       " <Image layer 'Image [1]' at 0x7f2f606f7e50>,\n",
       " <Image layer 'Image [2]' at 0x7f2f60699f10>,\n",
       " <Image layer 'Image [3]' at 0x7f2f603bddc0>]"
      ]
     },
     "execution_count": 43,
     "metadata": {},
     "output_type": "execute_result"
    }
   ],
   "source": [
    "viewer = napari.Viewer()\n",
    "\n",
    "viewer.add_image(image, channel_axis = -1)\n",
    "viewer.add_labels(segmentation)\n",
    "viewer.add_tracks(napari_tracks)"
   ]
  },
  {
   "cell_type": "code",
   "execution_count": 31,
   "id": "6df4a084",
   "metadata": {},
   "outputs": [
    {
     "data": {
      "text/plain": [
       "341.0"
      ]
     },
     "execution_count": 31,
     "metadata": {},
     "output_type": "execute_result"
    }
   ],
   "source": [
    "[t for t in tracks if t.ID == 4771][0].properties['area'][0]"
   ]
  }
 ],
 "metadata": {
  "kernelspec": {
   "display_name": "aero",
   "language": "python",
   "name": "aero"
  },
  "language_info": {
   "codemirror_mode": {
    "name": "ipython",
    "version": 3
   },
   "file_extension": ".py",
   "mimetype": "text/x-python",
   "name": "python",
   "nbconvert_exporter": "python",
   "pygments_lexer": "ipython3",
   "version": "3.9.12"
  }
 },
 "nbformat": 4,
 "nbformat_minor": 5
}
